{
 "cells": [
  {
   "cell_type": "code",
   "execution_count": null,
   "id": "14c55de3",
   "metadata": {},
   "outputs": [],
   "source": [
    "import glob\n",
    "import json\n",
    "import pandas\n",
    "import numpy as np\n",
    "\n",
    "%matplotlib inline\n",
    "import matplotlib.pyplot as plt"
   ]
  },
  {
   "cell_type": "code",
   "execution_count": null,
   "id": "15731507",
   "metadata": {},
   "outputs": [],
   "source": [
    "def load_history(path, min_epoch=None, max_epoch=None):\n",
    "    ret = {}\n",
    "    for fi in glob.glob(path):\n",
    "        data = json.load(open(fi))\n",
    "        epoch = int(fi.split(\"_\")[-1].split(\".\")[0])\n",
    "        ret[epoch] = data\n",
    "\n",
    "    if not max_epoch:\n",
    "        max_epoch = max(ret.keys())\n",
    "    if not min_epoch:\n",
    "        min_epoch = min(ret.keys())\n",
    "\n",
    "    ret2 = []\n",
    "    for i in range(min_epoch, max_epoch + 1):\n",
    "        ret2.append(ret[i])\n",
    "    return pandas.DataFrame(ret2)"
   ]
  },
  {
   "cell_type": "code",
   "execution_count": null,
   "id": "aa8c79d3",
   "metadata": {},
   "outputs": [],
   "source": [
    "data_losses = {}\n",
    "for losstype in [\n",
    "    \"baseline\",\n",
    "    \"baseline-mask_reg_cls0\",\n",
    "    \"genjet_logcosh\",\n",
    "    \"genjet_mse\",\n",
    "    \"genjet_logcosh_mask_reg_cls0\",\n",
    "    \"swd\",\n",
    "]:\n",
    "    data_losses[losstype] = []\n",
    "    num_iter = glob.glob(\"../experiments/fromEric/{}/logs_*\".format(losstype))\n",
    "    for it in num_iter:\n",
    "        df = load_history(\"{}/history/*.json\".format(it))\n",
    "        data_losses[losstype].append(df)"
   ]
  },
  {
   "cell_type": "code",
   "execution_count": null,
   "id": "00f3a506",
   "metadata": {},
   "outputs": [],
   "source": [
    "def plot_as_shaded(loss, key):\n",
    "\n",
    "    maxfilled = min([len(l) for l in data_losses[key]])\n",
    "    loss_vals = np.stack([l[loss][:maxfilled] for l in data_losses[key]], axis=-1)\n",
    "    x = np.array(range(len(loss_vals)))\n",
    "    y = np.percentile(loss_vals, 50, axis=-1)\n",
    "    err_lo = np.percentile(loss_vals, 25, axis=-1)\n",
    "    err_hi = np.percentile(loss_vals, 75, axis=-1)\n",
    "    c = plt.plot(x, y, label=key)\n",
    "    plt.fill_between(x, err_lo, err_hi, alpha=0.2, color=c[0].get_color())"
   ]
  },
  {
   "cell_type": "code",
   "execution_count": null,
   "id": "f1aa78fc",
   "metadata": {},
   "outputs": [],
   "source": [
    "X = np.stack([l[\"loss\"] for l in data_losses[\"baseline\"]], axis=-1)"
   ]
  },
  {
   "cell_type": "code",
   "execution_count": null,
   "id": "df79f8de",
   "metadata": {},
   "outputs": [],
   "source": [
    "for i in range(len(data_losses[\"baseline\"])):\n",
    "    l = data_losses[\"baseline\"][i]\n",
    "    plt.plot(l[\"val_pt_loss\"], l[\"val_cls_loss\"])\n",
    "plt.xlim(0.13, 0.15)\n",
    "plt.ylim(0.053, 0.055)\n",
    "plt.xlabel(\"pt loss\")\n",
    "plt.ylabel(\"classification loss\")"
   ]
  },
  {
   "cell_type": "code",
   "execution_count": null,
   "id": "624f1c00",
   "metadata": {},
   "outputs": [],
   "source": [
    "loss = \"val_cls_loss\"\n",
    "plot_as_shaded(loss, \"baseline\")\n",
    "plot_as_shaded(loss, \"baseline-mask_reg_cls0\")\n",
    "plot_as_shaded(loss, \"genjet_logcosh\")\n",
    "plot_as_shaded(loss, \"genjet_mse\")\n",
    "plot_as_shaded(loss, \"genjet_logcosh_mask_reg_cls0\")\n",
    "plot_as_shaded(loss, \"swd\")\n",
    "plt.legend(loc=\"best\")\n",
    "plt.ylim(0.053, 0.06)\n",
    "plt.ylabel(loss)\n",
    "plt.xlabel(\"epoch\")"
   ]
  },
  {
   "cell_type": "code",
   "execution_count": null,
   "id": "369444c3",
   "metadata": {},
   "outputs": [],
   "source": [
    "loss = \"val_pt_loss\"\n",
    "plot_as_shaded(loss, \"baseline\")\n",
    "plot_as_shaded(loss, \"baseline-mask_reg_cls0\")\n",
    "plot_as_shaded(loss, \"genjet_logcosh\")\n",
    "plot_as_shaded(loss, \"genjet_mse\")\n",
    "plot_as_shaded(loss, \"genjet_logcosh_mask_reg_cls0\")\n",
    "plot_as_shaded(loss, \"swd\")\n",
    "plt.legend(loc=\"best\")\n",
    "plt.ylim(0.1, 0.3)\n",
    "plt.ylabel(loss)\n",
    "plt.xlabel(\"epoch\")"
   ]
  },
  {
   "cell_type": "code",
   "execution_count": null,
   "id": "01f95fa5",
   "metadata": {},
   "outputs": [],
   "source": [
    "loss = \"val_energy_loss\"\n",
    "plot_as_shaded(loss, \"baseline\")\n",
    "plot_as_shaded(loss, \"baseline-mask_reg_cls0\")\n",
    "plot_as_shaded(loss, \"genjet_logcosh\")\n",
    "plot_as_shaded(loss, \"genjet_mse\")\n",
    "plot_as_shaded(loss, \"genjet_logcosh_mask_reg_cls0\")\n",
    "plot_as_shaded(loss, \"swd\")\n",
    "plt.legend(loc=\"best\")\n",
    "plt.ylim(2.5, 2.7)\n",
    "plt.ylabel(loss)\n",
    "plt.xlabel(\"epoch\")"
   ]
  }
 ],
 "metadata": {
  "kernelspec": {
   "display_name": "Python 3",
   "language": "python",
   "name": "python3"
  },
  "language_info": {
   "codemirror_mode": {
    "name": "ipython",
    "version": 3
   },
   "file_extension": ".py",
   "mimetype": "text/x-python",
   "name": "python",
   "nbconvert_exporter": "python",
   "pygments_lexer": "ipython3",
   "version": "3.8.10"
  }
 },
 "nbformat": 4,
 "nbformat_minor": 5
}
