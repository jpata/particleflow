{
 "cells": [
  {
   "cell_type": "code",
   "execution_count": null,
   "metadata": {},
   "outputs": [],
   "source": [
    "import pickle\n",
    "import matplotlib.pyplot as plt\n",
    "%matplotlib inline\n",
    "\n",
    "import networkx as nx\n",
    "import pandas as pd"
   ]
  },
  {
   "cell_type": "code",
   "execution_count": null,
   "metadata": {},
   "outputs": [],
   "source": [
    "all_data = pickle.load(open(\"../data/TTbar_14TeV_TuneCUETP8M1_cfi/raw/pfntuple_1_0.pkl\", \"rb\"), encoding='iso-8859-1')"
   ]
  },
  {
   "cell_type": "code",
   "execution_count": null,
   "metadata": {},
   "outputs": [],
   "source": [
    "one_event = all_data[0]"
   ]
  },
  {
   "cell_type": "code",
   "execution_count": null,
   "metadata": {},
   "outputs": [],
   "source": [
    "g = one_event[\"full_graph\"]"
   ]
  },
  {
   "cell_type": "code",
   "execution_count": null,
   "metadata": {},
   "outputs": [],
   "source": [
    "def draw_event(g):\n",
    "    pos = {}\n",
    "    for node in g.nodes:\n",
    "        pos[node] = (g.nodes[node][\"eta\"], g.nodes[node][\"phi\"])\n",
    "\n",
    "    fig = plt.figure(figsize=(10,10))\n",
    "\n",
    "    nodes_to_draw = [n for n in g.nodes if n[0]==\"elem\"]\n",
    "    nx.draw_networkx(g, pos=pos, with_labels=False, node_size=5, nodelist=nodes_to_draw, edgelist=[], node_color=\"red\", node_shape=\"s\", alpha=0.5)\n",
    "\n",
    "    nodes_to_draw = [n for n in g.nodes if n[0]==\"pfcand\"]\n",
    "    nx.draw_networkx(g, pos=pos, with_labels=False, node_size=10, nodelist=nodes_to_draw, edgelist=[], node_color=\"green\", node_shape=\"x\", alpha=0.5)\n",
    "\n",
    "    nodes_to_draw = [n for n in g.nodes if (n[0]==\"sc\" or n[0]==\"tp\")]\n",
    "    nx.draw_networkx(g, pos=pos, with_labels=False, node_size=1, nodelist=nodes_to_draw, edgelist=[], node_color=\"blue\", node_shape=\".\", alpha=0.5)\n",
    "\n",
    "    #draw edges between genparticles and elements\n",
    "    edges_to_draw = [e for e in g.edges if e[0] in nodes_to_draw]\n",
    "    nx.draw_networkx_edges(g, pos, edgelist=edges_to_draw, arrows=False, alpha=0.1)\n",
    "\n",
    "    plt.xlim(-6,6)\n",
    "    plt.ylim(-4,4)\n",
    "    plt.tight_layout()\n",
    "    plt.axis(\"on\")\n",
    "    return fig"
   ]
  },
  {
   "cell_type": "code",
   "execution_count": null,
   "metadata": {},
   "outputs": [],
   "source": [
    "draw_event(g);"
   ]
  },
  {
   "cell_type": "code",
   "execution_count": null,
   "metadata": {},
   "outputs": [],
   "source": [
    "#Element to element input distance matrix - graph adjacency\n",
    "plt.imshow(one_event[\"dm\"].todense()>0, cmap=\"Greys\", interpolation=\"none\")"
   ]
  },
  {
   "cell_type": "code",
   "execution_count": null,
   "metadata": {},
   "outputs": [],
   "source": [
    "plt.imshow(one_event[\"dm_elem_cand\"].todense()>0, cmap=\"Greys\", interpolation=\"none\")"
   ]
  },
  {
   "cell_type": "code",
   "execution_count": null,
   "metadata": {},
   "outputs": [],
   "source": [
    "plt.imshow(one_event[\"dm_elem_gen\"].todense()>0, cmap=\"Greys\", interpolation=\"none\")"
   ]
  },
  {
   "cell_type": "code",
   "execution_count": null,
   "metadata": {},
   "outputs": [],
   "source": [
    "pd.DataFrame(one_event[\"Xelem\"])"
   ]
  },
  {
   "cell_type": "code",
   "execution_count": null,
   "metadata": {},
   "outputs": [],
   "source": [
    "pd.DataFrame(one_event[\"ygen\"])"
   ]
  },
  {
   "cell_type": "code",
   "execution_count": null,
   "metadata": {},
   "outputs": [],
   "source": [
    "pd.DataFrame(one_event[\"ycand\"])"
   ]
  },
  {
   "cell_type": "code",
   "execution_count": null,
   "metadata": {},
   "outputs": [],
   "source": []
  }
 ],
 "metadata": {
  "kernelspec": {
   "display_name": "Python 3",
   "language": "python",
   "name": "python3"
  },
  "language_info": {
   "codemirror_mode": {
    "name": "ipython",
    "version": 3
   },
   "file_extension": ".py",
   "mimetype": "text/x-python",
   "name": "python",
   "nbconvert_exporter": "python",
   "pygments_lexer": "ipython3",
   "version": "3.6.9"
  }
 },
 "nbformat": 4,
 "nbformat_minor": 4
}
