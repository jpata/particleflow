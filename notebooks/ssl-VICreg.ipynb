{
 "cells": [
  {
   "cell_type": "code",
   "execution_count": 1,
   "metadata": {},
   "outputs": [
    {
     "name": "stderr",
     "output_type": "stream",
     "text": [
      "<frozen importlib._bootstrap>:219: RuntimeWarning: scipy._lib.messagestream.MessageStream size changed, may indicate binary incompatibility. Expected 56 from C header, got 64 from PyObject\n"
     ]
    }
   ],
   "source": [
    "import torch\n",
    "import torch.nn as nn\n",
    "import torch.nn.functional as F\n",
    "import torchvision.transforms as tr\n",
    "\n",
    "import torch_geometric\n",
    "from torch_geometric.nn import global_mean_pool\n",
    "from torch_geometric.data import Batch\n",
    "\n",
    "from typing import Optional, Union\n",
    "\n",
    "from torch import Tensor\n",
    "from torch.nn import Linear\n",
    "from torch_geometric.nn.conv import MessagePassing, GravNetConv\n",
    "from torch_geometric.typing import OptTensor, PairOptTensor, PairTensor\n",
    "from torch_scatter import scatter\n",
    "\n",
    "from tqdm.notebook import tqdm\n",
    "\n",
    "import numpy as np\n",
    "\n",
    "import json\n",
    "import math\n",
    "import os\n",
    "import time\n",
    "\n",
    "import sklearn\n",
    "import sklearn.metrics\n",
    "\n",
    "import matplotlib\n",
    "import matplotlib.pyplot as plt\n",
    "import mplhep as hep\n",
    "plt.style.use(hep.style.CMS)\n",
    "plt.rcParams.update({'font.size': 20})"
   ]
  },
  {
   "cell_type": "code",
   "execution_count": 2,
   "metadata": {},
   "outputs": [],
   "source": [
    "# VICreg loss function\n",
    "def criterion(x, y, device='cuda', lmbd = 5e-3, u = 1, v= 1, epsilon = 1e-3):\n",
    "    bs = x.size(0)\n",
    "    emb = x.size(1)\n",
    "\n",
    "    std_x = torch.sqrt(x.var(dim=0) + epsilon)\n",
    "    std_y = torch.sqrt(y.var(dim=0) + epsilon)\n",
    "    var_loss = torch.mean(F.relu(1 - std_x)) + torch.mean(F.relu(1 - std_y))\n",
    "\n",
    "    invar_loss = F.mse_loss(x, y)\n",
    "\n",
    "    xNorm = (x - x.mean(0)) / x.std(0)\n",
    "    yNorm = (y - y.mean(0)) / y.std(0)\n",
    "    crossCorMat = (xNorm.T@yNorm) / bs\n",
    "    cross_loss = (crossCorMat*lmbd - torch.eye(emb, device=torch.device(device))*lmbd).pow(2).sum()\n",
    "\n",
    "    loss = u*var_loss + v*invar_loss + cross_loss\n",
    "\n",
    "    return loss"
   ]
  },
  {
   "cell_type": "markdown",
   "metadata": {},
   "source": [
    "# CLIC"
   ]
  },
  {
   "cell_type": "code",
   "execution_count": 3,
   "metadata": {},
   "outputs": [],
   "source": [
    "# load the clic dataset\n",
    "import glob\n",
    "all_files = glob.glob(f\"../data/clic/data_*\")\n",
    "\n",
    "data = []\n",
    "for f in all_files:\n",
    "    data += torch.load(f\"{f}\")"
   ]
  },
  {
   "cell_type": "code",
<<<<<<< HEAD
<<<<<<< HEAD
   "execution_count": 205,
=======
   "execution_count": 4,
>>>>>>> Z0zzz-master
=======
   "execution_count": 4,
>>>>>>> Z0zzz-master
   "metadata": {},
   "outputs": [
    {
     "name": "stdout",
     "output_type": "stream",
     "text": [
      "num of clic events 7260\n"
     ]
    }
   ],
   "source": [
    "print(f\"num of clic events {len(data)}\")"
   ]
  },
  {
   "cell_type": "code",
<<<<<<< HEAD
<<<<<<< HEAD
   "execution_count": 206,
=======
   "execution_count": 5,
>>>>>>> Z0zzz-master
=======
   "execution_count": 5,
>>>>>>> Z0zzz-master
   "metadata": {},
   "outputs": [
    {
     "name": "stdout",
     "output_type": "stream",
     "text": [
      "A single event: \n",
      " Batch(x=[135, 8], ygen=[135, 5], ygen_id=[135], ycand=[135, 5], ycand_id=[135], batch=[135], ptr=[2])\n"
     ]
    }
   ],
   "source": [
    "loader = torch_geometric.loader.DataLoader(data, batch_size=1)\n",
    "for batch in loader:\n",
    "    print(f\"A single event: \\n {batch}\")\n",
    "    break"
   ]
  },
  {
   "cell_type": "code",
<<<<<<< HEAD
<<<<<<< HEAD
   "execution_count": 207,
=======
   "execution_count": 6,
>>>>>>> Z0zzz-master
=======
   "execution_count": 6,
>>>>>>> Z0zzz-master
   "metadata": {},
   "outputs": [],
   "source": [
    "# function that takes an event~Batch() and splits it into two Batch() objects representing the tracks/clusters\n",
    "def distinguish_PFelements(batch):\n",
    "    \n",
    "    track_id = 0\n",
    "    cluster_id = 1\n",
    "\n",
    "    tracks = Batch(x = batch.x[batch.x[:,0]==track_id][:,1:].float(),   # remove the first input feature which is not needed anymore\n",
    "                  ygen = batch.ygen[batch.x[:,0]==track_id],\n",
    "                  ygen_id = batch.ygen_id[batch.x[:,0]==track_id],\n",
    "                  ycand = batch.ycand[batch.x[:,0]==track_id],\n",
    "                  ycand_id = batch.ycand_id[batch.x[:,0]==track_id],\n",
    "                  batch = batch.batch[batch.x[:,0]==track_id],\n",
    "                 )\n",
    "    clusters = Batch(x = batch.x[batch.x[:,0]==cluster_id][:,1:].float(),   # remove the first input feature which is not needed anymore\n",
    "                    ygen = batch.ygen[batch.x[:,0]==cluster_id],\n",
    "                    ygen_id = batch.ygen_id[batch.x[:,0]==cluster_id],\n",
    "                    ycand = batch.ycand[batch.x[:,0]==cluster_id],\n",
    "                    ycand_id = batch.ycand_id[batch.x[:,0]==cluster_id],\n",
    "                    batch = batch.batch[batch.x[:,0]==cluster_id],                    \n",
    "                   )\n",
    "    \n",
    "    return tracks, clusters"
   ]
  },
  {
   "cell_type": "code",
<<<<<<< HEAD
<<<<<<< HEAD
   "execution_count": 208,
=======
   "execution_count": 7,
>>>>>>> Z0zzz-master
=======
   "execution_count": 7,
>>>>>>> Z0zzz-master
   "metadata": {},
   "outputs": [
    {
     "name": "stdout",
     "output_type": "stream",
     "text": [
      "event:    Batch(x=[135, 8], ygen=[135, 5], ygen_id=[135], ycand=[135, 5], ycand_id=[135], batch=[135], ptr=[2])\n",
      "tracks:   Batch(x=[43, 7], ygen=[43, 5], ygen_id=[43], ycand=[43, 5], ycand_id=[43], batch=[43])\n",
      "clusters: Batch(x=[92, 7], ygen=[92, 5], ygen_id=[92], ycand=[92, 5], ycand_id=[92], batch=[92])\n"
     ]
    }
   ],
   "source": [
    "tracks, clusters = distinguish_PFelements(batch)\n",
    "\n",
    "print(f\"event:    {batch}\")\n",
    "print(f\"tracks:   {tracks}\")\n",
    "print(f\"clusters: {clusters}\")"
   ]
  },
  {
   "cell_type": "markdown",
   "metadata": {},
   "source": [
<<<<<<< HEAD
<<<<<<< HEAD
    "# VICreg"
=======
    "# VICreg ENCODER"
>>>>>>> Z0zzz-master
=======
    "# VICreg ENCODER"
>>>>>>> Z0zzz-master
   ]
  },
  {
   "cell_type": "code",
<<<<<<< HEAD
<<<<<<< HEAD
   "execution_count": 226,
=======
   "execution_count": 8,
>>>>>>> Z0zzz-master
=======
   "execution_count": 8,
>>>>>>> Z0zzz-master
   "metadata": {},
   "outputs": [],
   "source": [
    "# define the Encoder that learns latent representations of tracks and clusters \n",
    "# these representations will be used by MLPF which is the downstream task\n",
    "class Encoder(nn.Module):\n",
    "\n",
    "    def __init__(\n",
    "        self,\n",
    "        input_dim=7,\n",
<<<<<<< HEAD
<<<<<<< HEAD
    "        embedding_dim=34,\n",
    "        output_dim=500,\n",
    "        num_convs=2,\n",
    "    ):\n",
    "        super(Encoder, self).__init__()\n",
    "\n",
    "#         self.act = nn.ReLU\n",
    "        self.act = nn.ELU\n",
    "\n",
    "        ### 1. different embedding of tracks/clusters\n",
=======
=======
>>>>>>> Z0zzz-master
    "        output_dim=34,\n",
    "    ):\n",
    "        super(Encoder, self).__init__()\n",
    "\n",
    "        self.act = nn.ReLU\n",
    "#         self.act = nn.ELU\n",
    "\n",
    "        # (1) embedding\n",
<<<<<<< HEAD
>>>>>>> Z0zzz-master
=======
>>>>>>> Z0zzz-master
    "        self.nn1 = nn.Sequential(\n",
    "            nn.Linear(input_dim, 126),\n",
    "            self.act(),\n",
    "            nn.Linear(126, 126),\n",
    "            self.act(),\n",
<<<<<<< HEAD
<<<<<<< HEAD
    "            nn.Linear(126, embedding_dim),\n",
=======
    "            nn.Linear(126, output_dim),\n",
>>>>>>> Z0zzz-master
=======
    "            nn.Linear(126, output_dim),\n",
>>>>>>> Z0zzz-master
    "        )\n",
    "        self.nn2 = nn.Sequential(\n",
    "            nn.Linear(input_dim, 126),\n",
    "            self.act(),\n",
    "            nn.Linear(126, 126),\n",
    "            self.act(),\n",
<<<<<<< HEAD
<<<<<<< HEAD
    "            nn.Linear(126, embedding_dim),\n",
    "        )\n",
    "\n",
    "        ### 2. same GNN for tracks/clusters\n",
    "        self.conv = nn.ModuleList()\n",
    "        for i in range(num_convs):\n",
    "            self.conv.append(GravNetConv(embedding_dim, embedding_dim, \n",
    "                                         space_dimensions=4, \n",
    "                                         propagate_dimensions=22, \n",
    "                                         k=16))\n",
    "        \n",
=======
=======
>>>>>>> Z0zzz-master
    "            nn.Linear(126, output_dim),\n",
    "        )\n",
    "        \n",
    "\n",
<<<<<<< HEAD
>>>>>>> Z0zzz-master
=======
>>>>>>> Z0zzz-master
    "    def forward(self, tracks, clusters):\n",
    "  \n",
    "        embedding_tracks = self.nn1(tracks.x.float())\n",
    "        embedding_clusters = self.nn2(clusters.x.float())\n",
    "        \n",
<<<<<<< HEAD
<<<<<<< HEAD
    "        # perform a series of graph convolutions\n",
    "        for num, conv in enumerate(self.conv):\n",
    "            embedding_tracks = conv(embedding_tracks, tracks.batch)\n",
    "            embedding_clusters = conv(embedding_clusters, clusters.batch)\n",
    "        \n",
=======
>>>>>>> Z0zzz-master
=======
>>>>>>> Z0zzz-master
    "        return embedding_tracks, embedding_clusters"
   ]
  },
  {
   "cell_type": "code",
<<<<<<< HEAD
<<<<<<< HEAD
   "execution_count": 227,
   "metadata": {},
   "outputs": [],
   "source": [
    "# define the decoder that expands the latent representations of tracks and clusters \n",
    "class Decoder(nn.Module):\n",
    "\n",
    "    def __init__(\n",
    "        self,\n",
    "        embedding_dim=7,\n",
    "        output_dim=500,\n",
    "    ):\n",
    "        super(Decoder, self).__init__()\n",
    "\n",
    "#         self.act = nn.ReLU\n",
    "        self.act = nn.ELU\n",
    "    \n",
    "        ############################ DECODER\n",
    "        self.expander = nn.Sequential(\n",
    "            nn.Linear(embedding_dim, 126),\n",
    "            self.act(),\n",
    "            nn.Linear(126, 126),\n",
    "            self.act(),\n",
    "            nn.Linear(126, output_dim),\n",
    "        )\n",
    "        \n",
    "    def forward(self, out_tracks, out_clusters):\n",
    "        \n",
    "        return self.expander(out_tracks), self.expander(out_clusters)"
   ]
  },
  {
   "cell_type": "code",
   "execution_count": 228,
=======
   "execution_count": 9,
>>>>>>> Z0zzz-master
=======
   "execution_count": 9,
>>>>>>> Z0zzz-master
   "metadata": {},
   "outputs": [
    {
     "name": "stdout",
     "output_type": "stream",
     "text": [
<<<<<<< HEAD
<<<<<<< HEAD
      "loss is:  6.285714149475098\n"
=======
      "loss is:  1909.5576171875\n"
>>>>>>> Z0zzz-master
=======
      "loss is:  1909.5576171875\n"
>>>>>>> Z0zzz-master
     ]
    }
   ],
   "source": [
<<<<<<< HEAD
<<<<<<< HEAD
=======
    "encoder = Encoder()\n",
    "\n",
>>>>>>> Z0zzz-master
=======
    "encoder = Encoder()\n",
    "\n",
>>>>>>> Z0zzz-master
    "# retrieve a batch with batch_size>1\n",
    "loader = torch_geometric.loader.DataLoader(data, batch_size=2)\n",
    "for batch in loader:\n",
    "    break\n",
    "\n",
<<<<<<< HEAD
<<<<<<< HEAD
    "# retrieve the tracks and clusters\n",
    "tracks, clusters = distinguish_PFelements(batch)\n",
    "\n",
    "# setup VICreg\n",
    "encoder = Encoder(embedding_dim=34)\n",
    "decoder = Decoder(embedding_dim=34)\n",
    "\n",
    "# make encoder forward pass\n",
    "embedding_tracks, embedding_clusters = encoder(tracks, clusters)\n",
    "\n",
    "# pooling\n",
    "pooled_tracks = global_mean_pool(embedding_tracks, tracks.batch)     \n",
    "pooled_clusters = global_mean_pool(embedding_clusters, clusters.batch)\n",
    "\n",
    "# make decoder forward pass\n",
    "out_tracks, out_clusters = decoder(pooled_tracks, pooled_clusters)\n",
=======
=======
>>>>>>> Z0zzz-master
    "tracks, clusters = distinguish_PFelements(batch)\n",
    "\n",
    "# make forward pass\n",
    "embedding_tracks, embedding_clusters = encoder(tracks, clusters)\n",
    "\n",
    "# make global pooling\n",
    "out_tracks = global_mean_pool(embedding_tracks, tracks.batch)        \n",
    "out_clusters = global_mean_pool(embedding_clusters, clusters.batch)\n",
<<<<<<< HEAD
>>>>>>> Z0zzz-master
=======
>>>>>>> Z0zzz-master
    "\n",
    "# compute the loss between the two latent representations\n",
    "loss = criterion(out_tracks, out_clusters, device='cpu')\n",
    "print('loss is: ', loss.item())"
   ]
  },
  {
   "cell_type": "code",
<<<<<<< HEAD
<<<<<<< HEAD
   "execution_count": 229,
=======
   "execution_count": 10,
>>>>>>> Z0zzz-master
=======
   "execution_count": 10,
>>>>>>> Z0zzz-master
   "metadata": {},
   "outputs": [],
   "source": [
    "# train the encoder\n",
<<<<<<< HEAD
<<<<<<< HEAD
    "def train_VICreg(encoder, decoder, data, batch_size, lr, epochs):\n",
    "\n",
    "#     data_train = data[:1000]\n",
    "#     data_val = data[4000:5000]\n",
    "\n",
    "    data_train = data\n",
    "    \n",
    "    train_loader = torch_geometric.loader.DataLoader(data_train, batch_size)\n",
    "#     val_loader = torch_geometric.loader.DataLoader(data_val, batch_size)\n",
    "\n",
    "    optimizer = torch.optim.SGD(list(encoder.parameters()) + list(decoder.parameters()), lr=lr, momentum= 0.9, weight_decay=1.5e-4)\n",
=======
=======
>>>>>>> Z0zzz-master
    "def train_encoder(encoder, data, batch_size, lr, epochs):\n",
    "\n",
    "    data_train = data[:1000]\n",
    "    data_val = data[4000:5000]\n",
    "    data_test = data[5000:]\n",
    "\n",
    "    train_loader = torch_geometric.loader.DataLoader(data_train, batch_size)\n",
    "    val_loader = torch_geometric.loader.DataLoader(data_val, batch_size)\n",
    "    test_loader = torch_geometric.loader.DataLoader(data_test, batch_size)\n",
    "\n",
    "    optimizer = torch.optim.SGD(encoder.parameters(), lr=lr, momentum= 0.9, weight_decay=1.5e-4)\n",
<<<<<<< HEAD
>>>>>>> Z0zzz-master
=======
>>>>>>> Z0zzz-master
    "\n",
    "    patience = 20\n",
    "    best_val_loss = 99999.9\n",
    "    stale_epochs = 0\n",
    "\n",
    "    losses_train, losses_valid = [], []\n",
<<<<<<< HEAD
<<<<<<< HEAD
    "    \n",
    "    for epoch in tqdm(range(epochs)):\n",
    "#         if epoch==10:\n",
    "#             lr *= 10\n",
    "        \n",
    "        encoder.train()\n",
    "        decoder.train()\n",
    "        loss_train = 0\n",
    "        \n",
=======
=======
>>>>>>> Z0zzz-master
    "\n",
    "    for epoch in tqdm(range(epochs)):\n",
    "        if epoch>10:\n",
    "            lr *= 10\n",
    "        loss_train = 0\n",
    "\n",
<<<<<<< HEAD
>>>>>>> Z0zzz-master
=======
>>>>>>> Z0zzz-master
    "        for batch in tqdm(train_loader):\n",
    "            # make transformation\n",
    "            tracks, clusters = distinguish_PFelements(batch)\n",
    "\n",
<<<<<<< HEAD
<<<<<<< HEAD
    "            ### ENCODE\n",
    "            embedding_tracks, embedding_clusters = encoder(tracks, clusters)\n",
    "            ### POOLING\n",
    "            pooled_tracks = global_mean_pool(embedding_tracks, tracks.batch)     \n",
    "            pooled_clusters = global_mean_pool(embedding_clusters, clusters.batch)\n",
    "            ### DECODE\n",
    "            out_tracks, out_clusters = decoder(pooled_tracks, pooled_clusters)\n",
=======
=======
>>>>>>> Z0zzz-master
    "            # make forward pass\n",
    "            embedding_tracks, embedding_clusters = encoder(tracks, clusters)\n",
    "\n",
    "            # make global pooling\n",
    "            out_tracks = global_mean_pool(embedding_tracks, tracks.batch)     \n",
    "            out_clusters = global_mean_pool(embedding_clusters, clusters.batch)\n",
<<<<<<< HEAD
>>>>>>> Z0zzz-master
=======
>>>>>>> Z0zzz-master
    "\n",
    "            # compute loss\n",
    "            loss = criterion(out_tracks, out_clusters, device='cpu')\n",
    "            if loss>3000000:\n",
    "                print(loss)\n",
    "                break\n",
    "            \n",
    "            # update parameters\n",
    "            for param in encoder.parameters():\n",
    "                param.grad = None\n",
<<<<<<< HEAD
<<<<<<< HEAD
    "            for param in decoder.parameters():\n",
    "                param.grad = None                \n",
=======
>>>>>>> Z0zzz-master
=======
>>>>>>> Z0zzz-master
    "            loss.backward()\n",
    "            optimizer.step()\n",
    "\n",
    "            loss_train += loss.detach()\n",
    "            \n",
<<<<<<< HEAD
<<<<<<< HEAD
    "#         encoder.eval()\n",
    "#         decoder.eval()\n",
    "#         loss_valid = 0\n",
    "#         with torch.no_grad():\n",
    "#             for batch in tqdm(val_loader):\n",
    "#                 # make transformation\n",
    "#                 tracks, clusters = distinguish_PFelements(batch)\n",
    "\n",
    "#                 ### ENCODE\n",
    "#                 embedding_tracks, embedding_clusters = encoder(tracks, clusters)\n",
    "#                 ### POOLING\n",
    "#                 pooled_tracks = global_mean_pool(embedding_tracks, tracks.batch)     \n",
    "#                 pooled_clusters = global_mean_pool(embedding_clusters, clusters.batch)\n",
    "#                 ### DECODE\n",
    "#                 out_tracks, out_clusters = decoder(pooled_tracks, pooled_clusters)\n",
    "\n",
    "#                 # compute loss\n",
    "#                 loss = criterion(out_tracks, out_clusters, device='cpu')\n",
    "\n",
    "#                 loss_valid += loss.detach()\n",
    "\n",
    "        print(f\"epoch {epoch} - loss: {round(loss_train.item(),3)}\")\n",
    "#         print(f\"epoch {epoch} - train: {round(loss_train.item(),3)} - valid: {round(loss_valid.item(), 3)} - stale={stale_epochs}\")\n",
    "\n",
    "        losses_train.append(loss_train/len(train_loader)) \n",
    "#         losses_valid.append(loss_valid/len(val_loader))\n",
    "\n",
    "#         # early-stopping\n",
    "#         if losses_valid[epoch] < best_val_loss:\n",
    "#             best_val_loss = losses_valid[epoch]\n",
    "#             stale_epochs = 0\n",
    "#         else:\n",
    "#             stale_epochs += 1\n",
    "\n",
    "#     return losses_train, losses_valid\n",
    "    return losses_train"
=======
=======
>>>>>>> Z0zzz-master
    "        loss_valid = 0\n",
    "\n",
    "        for batch in tqdm(val_loader):\n",
    "            # make transformation\n",
    "            tracks, clusters = distinguish_PFelements(batch)\n",
    "\n",
    "            # make forward pass\n",
    "            embedding_tracks, embedding_clusters = encoder(tracks, clusters)\n",
    "\n",
    "            # make global pooling\n",
    "            out_tracks = global_mean_pool(embedding_tracks, tracks.batch)        \n",
    "            out_clusters = global_mean_pool(embedding_clusters, clusters.batch)\n",
    "\n",
    "            # compute loss\n",
    "            loss = criterion(out_tracks, out_clusters, device='cpu')\n",
    "\n",
    "            loss_valid += loss.detach()\n",
    "\n",
    "        print(f\"epoch {epoch} - train: {round(loss_train.item(),3)} - valid: {round(loss_valid.item(), 3)} - stale={stale_epochs}\")\n",
    "\n",
    "        losses_train.append(loss_train/len(train_loader)) \n",
    "        losses_valid.append(loss_valid/len(val_loader))\n",
    "\n",
    "        # early-stopping\n",
    "        if losses_valid[epoch] < best_val_loss:\n",
    "            best_val_loss = losses_valid[epoch]\n",
    "            stale_epochs = 0\n",
    "        else:\n",
    "            stale_epochs += 1\n",
    "\n",
    "    return losses_train, losses_valid"
<<<<<<< HEAD
>>>>>>> Z0zzz-master
=======
>>>>>>> Z0zzz-master
   ]
  },
  {
   "cell_type": "code",
<<<<<<< HEAD
<<<<<<< HEAD
   "execution_count": 230,
=======
   "execution_count": 11,
>>>>>>> Z0zzz-master
=======
   "execution_count": 11,
>>>>>>> Z0zzz-master
   "metadata": {
    "scrolled": true
   },
   "outputs": [
    {
     "data": {
      "application/vnd.jupyter.widget-view+json": {
<<<<<<< HEAD
<<<<<<< HEAD
       "model_id": "db8ccb956c2a43b28894bf33362e53f7",
=======
       "model_id": "21357c41b71f499aa302daa035f3d0f3",
>>>>>>> Z0zzz-master
=======
       "model_id": "21357c41b71f499aa302daa035f3d0f3",
>>>>>>> Z0zzz-master
       "version_major": 2,
       "version_minor": 0
      },
      "text/plain": [
       "HBox(children=(FloatProgress(value=0.0), HTML(value='')))"
      ]
     },
     "metadata": {},
     "output_type": "display_data"
    },
    {
     "data": {
      "application/vnd.jupyter.widget-view+json": {
<<<<<<< HEAD
<<<<<<< HEAD
       "model_id": "4888fbdc21e34b3e90695c86cd88aad3",
=======
       "model_id": "d810d4c4c81c4f60b1cb421de1de82e9",
>>>>>>> Z0zzz-master
=======
       "model_id": "d810d4c4c81c4f60b1cb421de1de82e9",
>>>>>>> Z0zzz-master
       "version_major": 2,
       "version_minor": 0
      },
      "text/plain": [
<<<<<<< HEAD
<<<<<<< HEAD
       "HBox(children=(FloatProgress(value=0.0, max=73.0), HTML(value='')))"
=======
       "HBox(children=(FloatProgress(value=0.0, max=20.0), HTML(value='')))"
>>>>>>> Z0zzz-master
=======
       "HBox(children=(FloatProgress(value=0.0, max=20.0), HTML(value='')))"
>>>>>>> Z0zzz-master
      ]
     },
     "metadata": {},
     "output_type": "display_data"
    },
    {
     "name": "stdout",
     "output_type": "stream",
     "text": [
<<<<<<< HEAD
<<<<<<< HEAD
      "\n",
      "epoch 0 - loss: 146.772\n"
=======
      "\n"
>>>>>>> Z0zzz-master
=======
      "\n"
>>>>>>> Z0zzz-master
     ]
    },
    {
     "data": {
      "application/vnd.jupyter.widget-view+json": {
<<<<<<< HEAD
<<<<<<< HEAD
       "model_id": "3a39421c210d4ed3bc969a5dadb80f71",
=======
       "model_id": "cd781b6d24be40039ed513cc7e8a315a",
>>>>>>> Z0zzz-master
=======
       "model_id": "cd781b6d24be40039ed513cc7e8a315a",
>>>>>>> Z0zzz-master
       "version_major": 2,
       "version_minor": 0
      },
      "text/plain": [
<<<<<<< HEAD
<<<<<<< HEAD
       "HBox(children=(FloatProgress(value=0.0, max=73.0), HTML(value='')))"
=======
       "HBox(children=(FloatProgress(value=0.0, max=20.0), HTML(value='')))"
>>>>>>> Z0zzz-master
=======
       "HBox(children=(FloatProgress(value=0.0, max=20.0), HTML(value='')))"
>>>>>>> Z0zzz-master
      ]
     },
     "metadata": {},
     "output_type": "display_data"
    },
    {
     "name": "stdout",
     "output_type": "stream",
     "text": [
      "\n",
<<<<<<< HEAD
<<<<<<< HEAD
      "epoch 1 - loss: 135.602\n"
=======
      "epoch 0 - train: 26050.271 - valid: 41.935 - stale=0\n"
>>>>>>> Z0zzz-master
=======
      "epoch 0 - train: 26050.271 - valid: 41.935 - stale=0\n"
>>>>>>> Z0zzz-master
     ]
    },
    {
     "data": {
      "application/vnd.jupyter.widget-view+json": {
<<<<<<< HEAD
<<<<<<< HEAD
       "model_id": "aa10a88f7a7d4d51afaad3e26d4d5e0a",
=======
       "model_id": "19873cfb07eb435f9479468698c75e31",
>>>>>>> Z0zzz-master
=======
       "model_id": "19873cfb07eb435f9479468698c75e31",
>>>>>>> Z0zzz-master
       "version_major": 2,
       "version_minor": 0
      },
      "text/plain": [
<<<<<<< HEAD
<<<<<<< HEAD
       "HBox(children=(FloatProgress(value=0.0, max=73.0), HTML(value='')))"
=======
       "HBox(children=(FloatProgress(value=0.0, max=20.0), HTML(value='')))"
>>>>>>> Z0zzz-master
=======
       "HBox(children=(FloatProgress(value=0.0, max=20.0), HTML(value='')))"
>>>>>>> Z0zzz-master
      ]
     },
     "metadata": {},
     "output_type": "display_data"
    },
    {
     "name": "stdout",
     "output_type": "stream",
     "text": [
<<<<<<< HEAD
<<<<<<< HEAD
      "\n",
      "epoch 2 - loss: 134.206\n"
=======
      "\n"
>>>>>>> Z0zzz-master
=======
      "\n"
>>>>>>> Z0zzz-master
     ]
    },
    {
     "data": {
      "application/vnd.jupyter.widget-view+json": {
<<<<<<< HEAD
<<<<<<< HEAD
       "model_id": "1b5e6c0b5fae4f8eb7692c869f1597a5",
=======
       "model_id": "f5633d5a7268450f819ebc4dbc86b608",
>>>>>>> Z0zzz-master
=======
       "model_id": "f5633d5a7268450f819ebc4dbc86b608",
>>>>>>> Z0zzz-master
       "version_major": 2,
       "version_minor": 0
      },
      "text/plain": [
<<<<<<< HEAD
<<<<<<< HEAD
       "HBox(children=(FloatProgress(value=0.0, max=73.0), HTML(value='')))"
=======
       "HBox(children=(FloatProgress(value=0.0, max=20.0), HTML(value='')))"
>>>>>>> Z0zzz-master
=======
       "HBox(children=(FloatProgress(value=0.0, max=20.0), HTML(value='')))"
>>>>>>> Z0zzz-master
      ]
     },
     "metadata": {},
     "output_type": "display_data"
    },
    {
     "name": "stdout",
     "output_type": "stream",
     "text": [
      "\n",
<<<<<<< HEAD
<<<<<<< HEAD
      "epoch 3 - loss: 133.427\n"
=======
      "epoch 1 - train: 40.949 - valid: 39.99 - stale=0\n"
>>>>>>> Z0zzz-master
=======
      "epoch 1 - train: 40.949 - valid: 39.99 - stale=0\n"
>>>>>>> Z0zzz-master
     ]
    },
    {
     "data": {
      "application/vnd.jupyter.widget-view+json": {
<<<<<<< HEAD
<<<<<<< HEAD
       "model_id": "586b26ea8b0f49c592329d99d64b07d4",
=======
       "model_id": "48b1c8e531d644d3abad48344d3e5f1c",
>>>>>>> Z0zzz-master
=======
       "model_id": "48b1c8e531d644d3abad48344d3e5f1c",
>>>>>>> Z0zzz-master
       "version_major": 2,
       "version_minor": 0
      },
      "text/plain": [
<<<<<<< HEAD
<<<<<<< HEAD
       "HBox(children=(FloatProgress(value=0.0, max=73.0), HTML(value='')))"
=======
       "HBox(children=(FloatProgress(value=0.0, max=20.0), HTML(value='')))"
>>>>>>> Z0zzz-master
=======
       "HBox(children=(FloatProgress(value=0.0, max=20.0), HTML(value='')))"
>>>>>>> Z0zzz-master
      ]
     },
     "metadata": {},
     "output_type": "display_data"
    },
    {
     "name": "stdout",
     "output_type": "stream",
     "text": [
<<<<<<< HEAD
<<<<<<< HEAD
      "\n",
      "epoch 4 - loss: 132.866\n"
=======
      "\n"
>>>>>>> Z0zzz-master
=======
      "\n"
>>>>>>> Z0zzz-master
     ]
    },
    {
     "data": {
      "application/vnd.jupyter.widget-view+json": {
<<<<<<< HEAD
<<<<<<< HEAD
       "model_id": "b65d5912cffc48c1afb3beb11c733052",
=======
       "model_id": "9d0757fd1c5d461698428b5372ff436b",
>>>>>>> Z0zzz-master
=======
       "model_id": "9d0757fd1c5d461698428b5372ff436b",
>>>>>>> Z0zzz-master
       "version_major": 2,
       "version_minor": 0
      },
      "text/plain": [
<<<<<<< HEAD
<<<<<<< HEAD
       "HBox(children=(FloatProgress(value=0.0, max=73.0), HTML(value='')))"
=======
       "HBox(children=(FloatProgress(value=0.0, max=20.0), HTML(value='')))"
>>>>>>> Z0zzz-master
=======
       "HBox(children=(FloatProgress(value=0.0, max=20.0), HTML(value='')))"
>>>>>>> Z0zzz-master
      ]
     },
     "metadata": {},
     "output_type": "display_data"
    },
    {
     "name": "stdout",
     "output_type": "stream",
     "text": [
      "\n",
<<<<<<< HEAD
<<<<<<< HEAD
      "epoch 5 - loss: 132.438\n"
=======
      "epoch 2 - train: 39.222 - valid: 38.65 - stale=0\n"
>>>>>>> Z0zzz-master
=======
      "epoch 2 - train: 39.222 - valid: 38.65 - stale=0\n"
>>>>>>> Z0zzz-master
     ]
    },
    {
     "data": {
      "application/vnd.jupyter.widget-view+json": {
<<<<<<< HEAD
<<<<<<< HEAD
       "model_id": "49f91e17b88e4a019670713ab1cc2602",
=======
       "model_id": "baaf25b2803e425188172acd3d515d00",
>>>>>>> Z0zzz-master
=======
       "model_id": "baaf25b2803e425188172acd3d515d00",
>>>>>>> Z0zzz-master
       "version_major": 2,
       "version_minor": 0
      },
      "text/plain": [
<<<<<<< HEAD
<<<<<<< HEAD
       "HBox(children=(FloatProgress(value=0.0, max=73.0), HTML(value='')))"
=======
       "HBox(children=(FloatProgress(value=0.0, max=20.0), HTML(value='')))"
>>>>>>> Z0zzz-master
=======
       "HBox(children=(FloatProgress(value=0.0, max=20.0), HTML(value='')))"
>>>>>>> Z0zzz-master
      ]
     },
     "metadata": {},
     "output_type": "display_data"
    },
    {
     "name": "stdout",
     "output_type": "stream",
     "text": [
<<<<<<< HEAD
<<<<<<< HEAD
      "\n",
      "epoch 6 - loss: 132.078\n"
=======
      "\n"
>>>>>>> Z0zzz-master
=======
      "\n"
>>>>>>> Z0zzz-master
     ]
    },
    {
     "data": {
      "application/vnd.jupyter.widget-view+json": {
<<<<<<< HEAD
<<<<<<< HEAD
       "model_id": "2d250e96c0c24670ae8647de2531097d",
=======
       "model_id": "8be21457c496435fb4b8ac901b15daa6",
>>>>>>> Z0zzz-master
=======
       "model_id": "8be21457c496435fb4b8ac901b15daa6",
>>>>>>> Z0zzz-master
       "version_major": 2,
       "version_minor": 0
      },
      "text/plain": [
<<<<<<< HEAD
<<<<<<< HEAD
       "HBox(children=(FloatProgress(value=0.0, max=73.0), HTML(value='')))"
=======
       "HBox(children=(FloatProgress(value=0.0, max=20.0), HTML(value='')))"
>>>>>>> Z0zzz-master
=======
       "HBox(children=(FloatProgress(value=0.0, max=20.0), HTML(value='')))"
>>>>>>> Z0zzz-master
      ]
     },
     "metadata": {},
     "output_type": "display_data"
    },
    {
     "name": "stdout",
     "output_type": "stream",
     "text": [
      "\n",
<<<<<<< HEAD
<<<<<<< HEAD
      "epoch 7 - loss: 131.76\n"
=======
      "epoch 3 - train: 37.99 - valid: 37.671 - stale=0\n"
>>>>>>> Z0zzz-master
=======
      "epoch 3 - train: 37.99 - valid: 37.671 - stale=0\n"
>>>>>>> Z0zzz-master
     ]
    },
    {
     "data": {
      "application/vnd.jupyter.widget-view+json": {
<<<<<<< HEAD
<<<<<<< HEAD
       "model_id": "df0b165c7613495ba1a4613be2f65b53",
=======
       "model_id": "193343928a2d4eb7bbe1068f273d2bae",
>>>>>>> Z0zzz-master
=======
       "model_id": "193343928a2d4eb7bbe1068f273d2bae",
>>>>>>> Z0zzz-master
       "version_major": 2,
       "version_minor": 0
      },
      "text/plain": [
<<<<<<< HEAD
<<<<<<< HEAD
       "HBox(children=(FloatProgress(value=0.0, max=73.0), HTML(value='')))"
=======
       "HBox(children=(FloatProgress(value=0.0, max=20.0), HTML(value='')))"
>>>>>>> Z0zzz-master
=======
       "HBox(children=(FloatProgress(value=0.0, max=20.0), HTML(value='')))"
>>>>>>> Z0zzz-master
      ]
     },
     "metadata": {},
     "output_type": "display_data"
    },
    {
     "name": "stdout",
     "output_type": "stream",
     "text": [
<<<<<<< HEAD
<<<<<<< HEAD
      "\n",
      "epoch 8 - loss: 131.482\n"
=======
      "\n"
>>>>>>> Z0zzz-master
=======
      "\n"
>>>>>>> Z0zzz-master
     ]
    },
    {
     "data": {
      "application/vnd.jupyter.widget-view+json": {
<<<<<<< HEAD
<<<<<<< HEAD
       "model_id": "39766cded58c4e10bcd2b6375c778072",
=======
       "model_id": "fc3fdc7bd5414daf81ae524299e468f1",
>>>>>>> Z0zzz-master
=======
       "model_id": "fc3fdc7bd5414daf81ae524299e468f1",
>>>>>>> Z0zzz-master
       "version_major": 2,
       "version_minor": 0
      },
      "text/plain": [
<<<<<<< HEAD
<<<<<<< HEAD
       "HBox(children=(FloatProgress(value=0.0, max=73.0), HTML(value='')))"
=======
       "HBox(children=(FloatProgress(value=0.0, max=20.0), HTML(value='')))"
>>>>>>> Z0zzz-master
=======
       "HBox(children=(FloatProgress(value=0.0, max=20.0), HTML(value='')))"
>>>>>>> Z0zzz-master
      ]
     },
     "metadata": {},
     "output_type": "display_data"
    },
    {
     "name": "stdout",
     "output_type": "stream",
     "text": [
      "\n",
<<<<<<< HEAD
<<<<<<< HEAD
      "epoch 9 - loss: 131.235\n"
=======
      "epoch 4 - train: 37.093 - valid: 36.957 - stale=0\n"
>>>>>>> Z0zzz-master
=======
      "epoch 4 - train: 37.093 - valid: 36.957 - stale=0\n"
>>>>>>> Z0zzz-master
     ]
    },
    {
     "data": {
      "application/vnd.jupyter.widget-view+json": {
<<<<<<< HEAD
<<<<<<< HEAD
       "model_id": "c07689cac9ea4844932604d00e5ecdc3",
=======
       "model_id": "1e2ebbf5c695430cbafef7384cd7fa7c",
>>>>>>> Z0zzz-master
=======
       "model_id": "1e2ebbf5c695430cbafef7384cd7fa7c",
>>>>>>> Z0zzz-master
       "version_major": 2,
       "version_minor": 0
      },
      "text/plain": [
<<<<<<< HEAD
<<<<<<< HEAD
       "HBox(children=(FloatProgress(value=0.0, max=73.0), HTML(value='')))"
=======
       "HBox(children=(FloatProgress(value=0.0, max=20.0), HTML(value='')))"
>>>>>>> Z0zzz-master
=======
       "HBox(children=(FloatProgress(value=0.0, max=20.0), HTML(value='')))"
>>>>>>> Z0zzz-master
      ]
     },
     "metadata": {},
     "output_type": "display_data"
    },
    {
     "name": "stdout",
     "output_type": "stream",
     "text": [
<<<<<<< HEAD
<<<<<<< HEAD
      "\n",
      "epoch 10 - loss: 131.009\n"
=======
      "\n"
>>>>>>> Z0zzz-master
=======
      "\n"
>>>>>>> Z0zzz-master
     ]
    },
    {
     "data": {
      "application/vnd.jupyter.widget-view+json": {
<<<<<<< HEAD
<<<<<<< HEAD
       "model_id": "dfa981215c4f4d8a88dd54bd8347f1b4",
=======
       "model_id": "25a94c5b944747c2b34266fcc02d6754",
>>>>>>> Z0zzz-master
=======
       "model_id": "25a94c5b944747c2b34266fcc02d6754",
>>>>>>> Z0zzz-master
       "version_major": 2,
       "version_minor": 0
      },
      "text/plain": [
<<<<<<< HEAD
<<<<<<< HEAD
       "HBox(children=(FloatProgress(value=0.0, max=73.0), HTML(value='')))"
=======
       "HBox(children=(FloatProgress(value=0.0, max=20.0), HTML(value='')))"
>>>>>>> Z0zzz-master
=======
       "HBox(children=(FloatProgress(value=0.0, max=20.0), HTML(value='')))"
>>>>>>> Z0zzz-master
      ]
     },
     "metadata": {},
     "output_type": "display_data"
    },
    {
     "name": "stdout",
     "output_type": "stream",
     "text": [
      "\n",
<<<<<<< HEAD
<<<<<<< HEAD
      "epoch 11 - loss: 130.797\n"
=======
      "epoch 5 - train: 36.435 - valid: 36.426 - stale=0\n"
>>>>>>> Z0zzz-master
=======
      "epoch 5 - train: 36.435 - valid: 36.426 - stale=0\n"
>>>>>>> Z0zzz-master
     ]
    },
    {
     "data": {
      "application/vnd.jupyter.widget-view+json": {
<<<<<<< HEAD
<<<<<<< HEAD
       "model_id": "6267a88abc3a4c9d80f97123638dd0cd",
=======
       "model_id": "616132fc55f34deb95400222816ac7e9",
>>>>>>> Z0zzz-master
=======
       "model_id": "616132fc55f34deb95400222816ac7e9",
>>>>>>> Z0zzz-master
       "version_major": 2,
       "version_minor": 0
      },
      "text/plain": [
<<<<<<< HEAD
<<<<<<< HEAD
       "HBox(children=(FloatProgress(value=0.0, max=73.0), HTML(value='')))"
=======
       "HBox(children=(FloatProgress(value=0.0, max=20.0), HTML(value='')))"
>>>>>>> Z0zzz-master
=======
       "HBox(children=(FloatProgress(value=0.0, max=20.0), HTML(value='')))"
>>>>>>> Z0zzz-master
      ]
     },
     "metadata": {},
     "output_type": "display_data"
    },
    {
     "name": "stdout",
     "output_type": "stream",
     "text": [
<<<<<<< HEAD
<<<<<<< HEAD
      "\n",
      "epoch 12 - loss: 130.604\n"
=======
      "\n"
>>>>>>> Z0zzz-master
=======
      "\n"
>>>>>>> Z0zzz-master
     ]
    },
    {
     "data": {
      "application/vnd.jupyter.widget-view+json": {
<<<<<<< HEAD
<<<<<<< HEAD
       "model_id": "5b466b5df8d84a879a399eaf1d258dcf",
=======
       "model_id": "0f9ce5bb262043b7a81bab6e75a7b044",
>>>>>>> Z0zzz-master
=======
       "model_id": "0f9ce5bb262043b7a81bab6e75a7b044",
>>>>>>> Z0zzz-master
       "version_major": 2,
       "version_minor": 0
      },
      "text/plain": [
<<<<<<< HEAD
<<<<<<< HEAD
       "HBox(children=(FloatProgress(value=0.0, max=73.0), HTML(value='')))"
=======
       "HBox(children=(FloatProgress(value=0.0, max=20.0), HTML(value='')))"
>>>>>>> Z0zzz-master
=======
       "HBox(children=(FloatProgress(value=0.0, max=20.0), HTML(value='')))"
>>>>>>> Z0zzz-master
      ]
     },
     "metadata": {},
     "output_type": "display_data"
    },
    {
     "name": "stdout",
     "output_type": "stream",
     "text": [
      "\n",
<<<<<<< HEAD
<<<<<<< HEAD
      "epoch 13 - loss: 130.422\n"
=======
      "epoch 6 - train: 35.953 - valid: 36.036 - stale=0\n"
>>>>>>> Z0zzz-master
=======
      "epoch 6 - train: 35.953 - valid: 36.036 - stale=0\n"
>>>>>>> Z0zzz-master
     ]
    },
    {
     "data": {
      "application/vnd.jupyter.widget-view+json": {
<<<<<<< HEAD
<<<<<<< HEAD
       "model_id": "1b8c70de2b0c4652b8113ddaec1b698f",
=======
       "model_id": "f3636e7ca71f44c0974b39dfe4dba937",
>>>>>>> Z0zzz-master
=======
       "model_id": "f3636e7ca71f44c0974b39dfe4dba937",
>>>>>>> Z0zzz-master
       "version_major": 2,
       "version_minor": 0
      },
      "text/plain": [
<<<<<<< HEAD
<<<<<<< HEAD
       "HBox(children=(FloatProgress(value=0.0, max=73.0), HTML(value='')))"
=======
       "HBox(children=(FloatProgress(value=0.0, max=20.0), HTML(value='')))"
>>>>>>> Z0zzz-master
=======
       "HBox(children=(FloatProgress(value=0.0, max=20.0), HTML(value='')))"
>>>>>>> Z0zzz-master
      ]
     },
     "metadata": {},
     "output_type": "display_data"
    },
    {
     "name": "stdout",
     "output_type": "stream",
     "text": [
<<<<<<< HEAD
<<<<<<< HEAD
      "\n",
      "epoch 14 - loss: 130.259\n"
=======
      "\n"
>>>>>>> Z0zzz-master
=======
      "\n"
>>>>>>> Z0zzz-master
     ]
    },
    {
     "data": {
      "application/vnd.jupyter.widget-view+json": {
<<<<<<< HEAD
<<<<<<< HEAD
       "model_id": "b37ac1d15c044758be9e6c956ecb7eb0",
=======
       "model_id": "9a30d05f799c41579b90a53d5c6698ef",
>>>>>>> Z0zzz-master
=======
       "model_id": "9a30d05f799c41579b90a53d5c6698ef",
>>>>>>> Z0zzz-master
       "version_major": 2,
       "version_minor": 0
      },
      "text/plain": [
<<<<<<< HEAD
<<<<<<< HEAD
       "HBox(children=(FloatProgress(value=0.0, max=73.0), HTML(value='')))"
=======
       "HBox(children=(FloatProgress(value=0.0, max=20.0), HTML(value='')))"
>>>>>>> Z0zzz-master
=======
       "HBox(children=(FloatProgress(value=0.0, max=20.0), HTML(value='')))"
>>>>>>> Z0zzz-master
      ]
     },
     "metadata": {},
     "output_type": "display_data"
    },
    {
     "name": "stdout",
     "output_type": "stream",
     "text": [
      "\n",
<<<<<<< HEAD
<<<<<<< HEAD
      "epoch 15 - loss: 130.108\n"
=======
      "epoch 7 - train: 35.592 - valid: 35.734 - stale=0\n"
>>>>>>> Z0zzz-master
=======
      "epoch 7 - train: 35.592 - valid: 35.734 - stale=0\n"
>>>>>>> Z0zzz-master
     ]
    },
    {
     "data": {
      "application/vnd.jupyter.widget-view+json": {
<<<<<<< HEAD
<<<<<<< HEAD
       "model_id": "69890f17d3e245959731bc80c3dab3df",
=======
       "model_id": "f1e7275483e54ba4874923a579fcab62",
>>>>>>> Z0zzz-master
=======
       "model_id": "f1e7275483e54ba4874923a579fcab62",
>>>>>>> Z0zzz-master
       "version_major": 2,
       "version_minor": 0
      },
      "text/plain": [
<<<<<<< HEAD
<<<<<<< HEAD
       "HBox(children=(FloatProgress(value=0.0, max=73.0), HTML(value='')))"
=======
       "HBox(children=(FloatProgress(value=0.0, max=20.0), HTML(value='')))"
>>>>>>> Z0zzz-master
=======
       "HBox(children=(FloatProgress(value=0.0, max=20.0), HTML(value='')))"
>>>>>>> Z0zzz-master
      ]
     },
     "metadata": {},
     "output_type": "display_data"
    },
    {
     "name": "stdout",
     "output_type": "stream",
     "text": [
<<<<<<< HEAD
<<<<<<< HEAD
      "\n",
      "epoch 16 - loss: 129.967\n"
=======
      "\n"
>>>>>>> Z0zzz-master
=======
      "\n"
>>>>>>> Z0zzz-master
     ]
    },
    {
     "data": {
      "application/vnd.jupyter.widget-view+json": {
<<<<<<< HEAD
<<<<<<< HEAD
       "model_id": "ec24b4a5d15043ad9d1de3435ac54112",
=======
       "model_id": "decccd1ae8824130bf6a3109510b93c4",
>>>>>>> Z0zzz-master
=======
       "model_id": "decccd1ae8824130bf6a3109510b93c4",
>>>>>>> Z0zzz-master
       "version_major": 2,
       "version_minor": 0
      },
      "text/plain": [
<<<<<<< HEAD
<<<<<<< HEAD
       "HBox(children=(FloatProgress(value=0.0, max=73.0), HTML(value='')))"
=======
       "HBox(children=(FloatProgress(value=0.0, max=20.0), HTML(value='')))"
>>>>>>> Z0zzz-master
=======
       "HBox(children=(FloatProgress(value=0.0, max=20.0), HTML(value='')))"
>>>>>>> Z0zzz-master
      ]
     },
     "metadata": {},
     "output_type": "display_data"
    },
    {
     "name": "stdout",
     "output_type": "stream",
     "text": [
      "\n",
<<<<<<< HEAD
<<<<<<< HEAD
      "epoch 17 - loss: 129.838\n"
=======
      "epoch 8 - train: 35.311 - valid: 35.503 - stale=0\n"
>>>>>>> Z0zzz-master
=======
      "epoch 8 - train: 35.311 - valid: 35.503 - stale=0\n"
>>>>>>> Z0zzz-master
     ]
    },
    {
     "data": {
      "application/vnd.jupyter.widget-view+json": {
<<<<<<< HEAD
<<<<<<< HEAD
       "model_id": "b8e897b66e984cb8bdaebde030657596",
=======
       "model_id": "6546041ab3ba41d6b8a6adb50b18315f",
>>>>>>> Z0zzz-master
=======
       "model_id": "6546041ab3ba41d6b8a6adb50b18315f",
>>>>>>> Z0zzz-master
       "version_major": 2,
       "version_minor": 0
      },
      "text/plain": [
<<<<<<< HEAD
<<<<<<< HEAD
       "HBox(children=(FloatProgress(value=0.0, max=73.0), HTML(value='')))"
=======
       "HBox(children=(FloatProgress(value=0.0, max=20.0), HTML(value='')))"
>>>>>>> Z0zzz-master
=======
       "HBox(children=(FloatProgress(value=0.0, max=20.0), HTML(value='')))"
>>>>>>> Z0zzz-master
      ]
     },
     "metadata": {},
     "output_type": "display_data"
    },
    {
     "name": "stdout",
     "output_type": "stream",
     "text": [
<<<<<<< HEAD
<<<<<<< HEAD
      "\n",
      "epoch 18 - loss: 129.711\n"
=======
      "\n"
>>>>>>> Z0zzz-master
=======
      "\n"
>>>>>>> Z0zzz-master
     ]
    },
    {
     "data": {
      "application/vnd.jupyter.widget-view+json": {
<<<<<<< HEAD
<<<<<<< HEAD
       "model_id": "30e6dd71973444d0a04fe7d9bd307cca",
=======
       "model_id": "8de9bb043d2b47af8539f4f282f87259",
>>>>>>> Z0zzz-master
=======
       "model_id": "8de9bb043d2b47af8539f4f282f87259",
>>>>>>> Z0zzz-master
       "version_major": 2,
       "version_minor": 0
      },
      "text/plain": [
<<<<<<< HEAD
<<<<<<< HEAD
       "HBox(children=(FloatProgress(value=0.0, max=73.0), HTML(value='')))"
=======
       "HBox(children=(FloatProgress(value=0.0, max=20.0), HTML(value='')))"
>>>>>>> Z0zzz-master
=======
       "HBox(children=(FloatProgress(value=0.0, max=20.0), HTML(value='')))"
>>>>>>> Z0zzz-master
      ]
     },
     "metadata": {},
     "output_type": "display_data"
    },
    {
     "name": "stdout",
     "output_type": "stream",
     "text": [
      "\n",
<<<<<<< HEAD
<<<<<<< HEAD
      "epoch 19 - loss: 129.587\n"
=======
      "epoch 9 - train: 35.093 - valid: 35.321 - stale=0\n"
>>>>>>> Z0zzz-master
=======
      "epoch 9 - train: 35.093 - valid: 35.321 - stale=0\n"
>>>>>>> Z0zzz-master
     ]
    },
    {
     "data": {
      "application/vnd.jupyter.widget-view+json": {
<<<<<<< HEAD
<<<<<<< HEAD
       "model_id": "d2b5c0fccb644ceda8aa15126843d434",
=======
       "model_id": "283681940e9241049820e6577b1bb4d0",
>>>>>>> Z0zzz-master
=======
       "model_id": "283681940e9241049820e6577b1bb4d0",
>>>>>>> Z0zzz-master
       "version_major": 2,
       "version_minor": 0
      },
      "text/plain": [
<<<<<<< HEAD
<<<<<<< HEAD
       "HBox(children=(FloatProgress(value=0.0, max=73.0), HTML(value='')))"
=======
       "HBox(children=(FloatProgress(value=0.0, max=20.0), HTML(value='')))"
>>>>>>> Z0zzz-master
=======
       "HBox(children=(FloatProgress(value=0.0, max=20.0), HTML(value='')))"
>>>>>>> Z0zzz-master
      ]
     },
     "metadata": {},
     "output_type": "display_data"
    },
    {
     "name": "stdout",
     "output_type": "stream",
     "text": [
<<<<<<< HEAD
<<<<<<< HEAD
      "\n",
      "epoch 20 - loss: 129.464\n"
=======
      "\n"
>>>>>>> Z0zzz-master
=======
      "\n"
>>>>>>> Z0zzz-master
     ]
    },
    {
     "data": {
      "application/vnd.jupyter.widget-view+json": {
<<<<<<< HEAD
<<<<<<< HEAD
       "model_id": "ed7d6ed74df143eaabf06134d66bcc6c",
=======
       "model_id": "d409b6c053494327a0c0b35f2a878d2a",
>>>>>>> Z0zzz-master
=======
       "model_id": "d409b6c053494327a0c0b35f2a878d2a",
>>>>>>> Z0zzz-master
       "version_major": 2,
       "version_minor": 0
      },
      "text/plain": [
<<<<<<< HEAD
<<<<<<< HEAD
       "HBox(children=(FloatProgress(value=0.0, max=73.0), HTML(value='')))"
=======
       "HBox(children=(FloatProgress(value=0.0, max=20.0), HTML(value='')))"
>>>>>>> Z0zzz-master
=======
       "HBox(children=(FloatProgress(value=0.0, max=20.0), HTML(value='')))"
>>>>>>> Z0zzz-master
      ]
     },
     "metadata": {},
     "output_type": "display_data"
    },
    {
     "name": "stdout",
     "output_type": "stream",
     "text": [
      "\n",
<<<<<<< HEAD
<<<<<<< HEAD
      "epoch 21 - loss: 129.344\n"
=======
      "epoch 10 - train: 34.919 - valid: 35.176 - stale=0\n"
>>>>>>> Z0zzz-master
=======
      "epoch 10 - train: 34.919 - valid: 35.176 - stale=0\n"
>>>>>>> Z0zzz-master
     ]
    },
    {
     "data": {
      "application/vnd.jupyter.widget-view+json": {
<<<<<<< HEAD
<<<<<<< HEAD
       "model_id": "73eb50ddd754481ebb87118f84810964",
=======
       "model_id": "df68a85f2cac45f29b8eafe3b0a0711f",
>>>>>>> Z0zzz-master
=======
       "model_id": "df68a85f2cac45f29b8eafe3b0a0711f",
>>>>>>> Z0zzz-master
       "version_major": 2,
       "version_minor": 0
      },
      "text/plain": [
<<<<<<< HEAD
<<<<<<< HEAD
       "HBox(children=(FloatProgress(value=0.0, max=73.0), HTML(value='')))"
=======
       "HBox(children=(FloatProgress(value=0.0, max=20.0), HTML(value='')))"
>>>>>>> Z0zzz-master
=======
       "HBox(children=(FloatProgress(value=0.0, max=20.0), HTML(value='')))"
>>>>>>> Z0zzz-master
      ]
     },
     "metadata": {},
     "output_type": "display_data"
    },
    {
     "name": "stdout",
     "output_type": "stream",
     "text": [
<<<<<<< HEAD
<<<<<<< HEAD
      "\n",
      "epoch 22 - loss: 129.228\n"
=======
      "\n"
>>>>>>> Z0zzz-master
=======
      "\n"
>>>>>>> Z0zzz-master
     ]
    },
    {
     "data": {
      "application/vnd.jupyter.widget-view+json": {
<<<<<<< HEAD
<<<<<<< HEAD
       "model_id": "f047f5c7acc44a3e9f8312ad87b9b8b8",
=======
       "model_id": "67da1828825f4700be099e2793b92f13",
>>>>>>> Z0zzz-master
=======
       "model_id": "67da1828825f4700be099e2793b92f13",
>>>>>>> Z0zzz-master
       "version_major": 2,
       "version_minor": 0
      },
      "text/plain": [
<<<<<<< HEAD
<<<<<<< HEAD
       "HBox(children=(FloatProgress(value=0.0, max=73.0), HTML(value='')))"
=======
       "HBox(children=(FloatProgress(value=0.0, max=20.0), HTML(value='')))"
>>>>>>> Z0zzz-master
=======
       "HBox(children=(FloatProgress(value=0.0, max=20.0), HTML(value='')))"
>>>>>>> Z0zzz-master
      ]
     },
     "metadata": {},
     "output_type": "display_data"
    },
    {
     "name": "stdout",
     "output_type": "stream",
     "text": [
      "\n",
<<<<<<< HEAD
<<<<<<< HEAD
      "epoch 23 - loss: 129.115\n"
=======
      "epoch 11 - train: 34.78 - valid: 35.059 - stale=0\n"
>>>>>>> Z0zzz-master
=======
      "epoch 11 - train: 34.78 - valid: 35.059 - stale=0\n"
>>>>>>> Z0zzz-master
     ]
    },
    {
     "data": {
      "application/vnd.jupyter.widget-view+json": {
<<<<<<< HEAD
<<<<<<< HEAD
       "model_id": "03495bdf77f84c7b91c9b4dc9446caea",
=======
       "model_id": "5a365b0e841447f88731cc6dc6098595",
>>>>>>> Z0zzz-master
=======
       "model_id": "5a365b0e841447f88731cc6dc6098595",
>>>>>>> Z0zzz-master
       "version_major": 2,
       "version_minor": 0
      },
      "text/plain": [
<<<<<<< HEAD
<<<<<<< HEAD
       "HBox(children=(FloatProgress(value=0.0, max=73.0), HTML(value='')))"
=======
       "HBox(children=(FloatProgress(value=0.0, max=20.0), HTML(value='')))"
>>>>>>> Z0zzz-master
=======
       "HBox(children=(FloatProgress(value=0.0, max=20.0), HTML(value='')))"
>>>>>>> Z0zzz-master
      ]
     },
     "metadata": {},
     "output_type": "display_data"
    },
    {
     "name": "stdout",
     "output_type": "stream",
     "text": [
<<<<<<< HEAD
<<<<<<< HEAD
      "\n",
      "epoch 24 - loss: 129.002\n"
=======
      "\n"
>>>>>>> Z0zzz-master
=======
      "\n"
>>>>>>> Z0zzz-master
     ]
    },
    {
     "data": {
      "application/vnd.jupyter.widget-view+json": {
<<<<<<< HEAD
<<<<<<< HEAD
       "model_id": "de87b6c9e14848b887e7e581f8090285",
=======
       "model_id": "7422d89a14aa47dc8f2a2f03deea140f",
>>>>>>> Z0zzz-master
=======
       "model_id": "7422d89a14aa47dc8f2a2f03deea140f",
>>>>>>> Z0zzz-master
       "version_major": 2,
       "version_minor": 0
      },
      "text/plain": [
<<<<<<< HEAD
<<<<<<< HEAD
       "HBox(children=(FloatProgress(value=0.0, max=73.0), HTML(value='')))"
=======
       "HBox(children=(FloatProgress(value=0.0, max=20.0), HTML(value='')))"
>>>>>>> Z0zzz-master
=======
       "HBox(children=(FloatProgress(value=0.0, max=20.0), HTML(value='')))"
>>>>>>> Z0zzz-master
      ]
     },
     "metadata": {},
     "output_type": "display_data"
    },
    {
     "name": "stdout",
     "output_type": "stream",
     "text": [
      "\n",
<<<<<<< HEAD
<<<<<<< HEAD
      "epoch 25 - loss: 128.886\n"
=======
      "epoch 12 - train: 34.666 - valid: 34.964 - stale=0\n"
>>>>>>> Z0zzz-master
=======
      "epoch 12 - train: 34.666 - valid: 34.964 - stale=0\n"
>>>>>>> Z0zzz-master
     ]
    },
    {
     "data": {
      "application/vnd.jupyter.widget-view+json": {
<<<<<<< HEAD
<<<<<<< HEAD
       "model_id": "a6748e7388ed4861a5a0d1b156411c11",
=======
       "model_id": "a305a7df906147c7b6dc59c39eb36478",
>>>>>>> Z0zzz-master
=======
       "model_id": "a305a7df906147c7b6dc59c39eb36478",
>>>>>>> Z0zzz-master
       "version_major": 2,
       "version_minor": 0
      },
      "text/plain": [
<<<<<<< HEAD
<<<<<<< HEAD
       "HBox(children=(FloatProgress(value=0.0, max=73.0), HTML(value='')))"
=======
       "HBox(children=(FloatProgress(value=0.0, max=20.0), HTML(value='')))"
>>>>>>> Z0zzz-master
=======
       "HBox(children=(FloatProgress(value=0.0, max=20.0), HTML(value='')))"
>>>>>>> Z0zzz-master
      ]
     },
     "metadata": {},
     "output_type": "display_data"
    },
    {
     "name": "stdout",
     "output_type": "stream",
     "text": [
<<<<<<< HEAD
<<<<<<< HEAD
      "\n",
      "epoch 26 - loss: 128.77\n"
=======
      "\n"
>>>>>>> Z0zzz-master
=======
      "\n"
>>>>>>> Z0zzz-master
     ]
    },
    {
     "data": {
      "application/vnd.jupyter.widget-view+json": {
<<<<<<< HEAD
<<<<<<< HEAD
       "model_id": "f0dce0db5a0d4565bd092525ef57ee5d",
=======
       "model_id": "fa6ae3c9a49a406682737012f4bf7f97",
>>>>>>> Z0zzz-master
=======
       "model_id": "fa6ae3c9a49a406682737012f4bf7f97",
>>>>>>> Z0zzz-master
       "version_major": 2,
       "version_minor": 0
      },
      "text/plain": [
<<<<<<< HEAD
<<<<<<< HEAD
       "HBox(children=(FloatProgress(value=0.0, max=73.0), HTML(value='')))"
=======
       "HBox(children=(FloatProgress(value=0.0, max=20.0), HTML(value='')))"
>>>>>>> Z0zzz-master
=======
       "HBox(children=(FloatProgress(value=0.0, max=20.0), HTML(value='')))"
>>>>>>> Z0zzz-master
      ]
     },
     "metadata": {},
     "output_type": "display_data"
    },
    {
     "name": "stdout",
     "output_type": "stream",
     "text": [
      "\n",
<<<<<<< HEAD
<<<<<<< HEAD
      "epoch 27 - loss: 128.655\n"
=======
      "epoch 13 - train: 34.575 - valid: 34.888 - stale=0\n"
>>>>>>> Z0zzz-master
=======
      "epoch 13 - train: 34.575 - valid: 34.888 - stale=0\n"
>>>>>>> Z0zzz-master
     ]
    },
    {
     "data": {
      "application/vnd.jupyter.widget-view+json": {
<<<<<<< HEAD
<<<<<<< HEAD
       "model_id": "38952a3ec6934e7a8c09eba8130d85bb",
=======
       "model_id": "a784a802305b490195bec2104bcc7d17",
>>>>>>> Z0zzz-master
=======
       "model_id": "a784a802305b490195bec2104bcc7d17",
>>>>>>> Z0zzz-master
       "version_major": 2,
       "version_minor": 0
      },
      "text/plain": [
<<<<<<< HEAD
<<<<<<< HEAD
       "HBox(children=(FloatProgress(value=0.0, max=73.0), HTML(value='')))"
=======
       "HBox(children=(FloatProgress(value=0.0, max=20.0), HTML(value='')))"
>>>>>>> Z0zzz-master
=======
       "HBox(children=(FloatProgress(value=0.0, max=20.0), HTML(value='')))"
>>>>>>> Z0zzz-master
      ]
     },
     "metadata": {},
     "output_type": "display_data"
    },
    {
     "name": "stdout",
     "output_type": "stream",
     "text": [
<<<<<<< HEAD
<<<<<<< HEAD
      "\n",
      "epoch 28 - loss: 128.537\n"
=======
      "\n"
>>>>>>> Z0zzz-master
=======
      "\n"
>>>>>>> Z0zzz-master
     ]
    },
    {
     "data": {
      "application/vnd.jupyter.widget-view+json": {
<<<<<<< HEAD
<<<<<<< HEAD
       "model_id": "705c7a85742f4f77b9c9253c1dd64b1b",
=======
       "model_id": "75cadb0e2f9543abb6ccfa1971e95331",
>>>>>>> Z0zzz-master
=======
       "model_id": "75cadb0e2f9543abb6ccfa1971e95331",
>>>>>>> Z0zzz-master
       "version_major": 2,
       "version_minor": 0
      },
      "text/plain": [
<<<<<<< HEAD
<<<<<<< HEAD
       "HBox(children=(FloatProgress(value=0.0, max=73.0), HTML(value='')))"
=======
       "HBox(children=(FloatProgress(value=0.0, max=20.0), HTML(value='')))"
>>>>>>> Z0zzz-master
=======
       "HBox(children=(FloatProgress(value=0.0, max=20.0), HTML(value='')))"
>>>>>>> Z0zzz-master
      ]
     },
     "metadata": {},
     "output_type": "display_data"
    },
    {
     "name": "stdout",
     "output_type": "stream",
     "text": [
      "\n",
<<<<<<< HEAD
<<<<<<< HEAD
      "epoch 29 - loss: 128.409\n"
=======
      "epoch 14 - train: 34.499 - valid: 34.829 - stale=0\n"
>>>>>>> Z0zzz-master
=======
      "epoch 14 - train: 34.499 - valid: 34.829 - stale=0\n"
>>>>>>> Z0zzz-master
     ]
    },
    {
     "data": {
      "application/vnd.jupyter.widget-view+json": {
<<<<<<< HEAD
<<<<<<< HEAD
       "model_id": "260349b93ebf4125ad00090623a0dd6c",
=======
       "model_id": "ea97fd504a1e4808889299c1861e984d",
>>>>>>> Z0zzz-master
=======
       "model_id": "ea97fd504a1e4808889299c1861e984d",
>>>>>>> Z0zzz-master
       "version_major": 2,
       "version_minor": 0
      },
      "text/plain": [
<<<<<<< HEAD
<<<<<<< HEAD
       "HBox(children=(FloatProgress(value=0.0, max=73.0), HTML(value='')))"
=======
       "HBox(children=(FloatProgress(value=0.0, max=20.0), HTML(value='')))"
>>>>>>> Z0zzz-master
=======
       "HBox(children=(FloatProgress(value=0.0, max=20.0), HTML(value='')))"
>>>>>>> Z0zzz-master
      ]
     },
     "metadata": {},
     "output_type": "display_data"
    },
    {
     "name": "stdout",
     "output_type": "stream",
     "text": [
<<<<<<< HEAD
<<<<<<< HEAD
      "\n",
      "epoch 30 - loss: 128.273\n"
=======
      "\n"
>>>>>>> Z0zzz-master
=======
      "\n"
>>>>>>> Z0zzz-master
     ]
    },
    {
     "data": {
      "application/vnd.jupyter.widget-view+json": {
<<<<<<< HEAD
<<<<<<< HEAD
       "model_id": "115d212d0a004916820b47d7eb23d29a",
=======
       "model_id": "afc51fe97f40417a9d58a44eb9d88d33",
>>>>>>> Z0zzz-master
=======
       "model_id": "afc51fe97f40417a9d58a44eb9d88d33",
>>>>>>> Z0zzz-master
       "version_major": 2,
       "version_minor": 0
      },
      "text/plain": [
<<<<<<< HEAD
<<<<<<< HEAD
       "HBox(children=(FloatProgress(value=0.0, max=73.0), HTML(value='')))"
=======
       "HBox(children=(FloatProgress(value=0.0, max=20.0), HTML(value='')))"
>>>>>>> Z0zzz-master
=======
       "HBox(children=(FloatProgress(value=0.0, max=20.0), HTML(value='')))"
>>>>>>> Z0zzz-master
      ]
     },
     "metadata": {},
     "output_type": "display_data"
    },
    {
     "name": "stdout",
     "output_type": "stream",
     "text": [
      "\n",
<<<<<<< HEAD
<<<<<<< HEAD
      "epoch 31 - loss: 128.111\n"
=======
      "epoch 15 - train: 34.436 - valid: 34.778 - stale=0\n"
>>>>>>> Z0zzz-master
=======
      "epoch 15 - train: 34.436 - valid: 34.778 - stale=0\n"
>>>>>>> Z0zzz-master
     ]
    },
    {
     "data": {
      "application/vnd.jupyter.widget-view+json": {
<<<<<<< HEAD
<<<<<<< HEAD
       "model_id": "a99fe8dc8cf244bbaae2704495196305",
=======
       "model_id": "15ef6aa7cecf4b3ca29f2516943f4aca",
>>>>>>> Z0zzz-master
=======
       "model_id": "15ef6aa7cecf4b3ca29f2516943f4aca",
>>>>>>> Z0zzz-master
       "version_major": 2,
       "version_minor": 0
      },
      "text/plain": [
<<<<<<< HEAD
<<<<<<< HEAD
       "HBox(children=(FloatProgress(value=0.0, max=73.0), HTML(value='')))"
=======
       "HBox(children=(FloatProgress(value=0.0, max=20.0), HTML(value='')))"
>>>>>>> Z0zzz-master
=======
       "HBox(children=(FloatProgress(value=0.0, max=20.0), HTML(value='')))"
>>>>>>> Z0zzz-master
      ]
     },
     "metadata": {},
     "output_type": "display_data"
    },
    {
     "name": "stdout",
     "output_type": "stream",
     "text": [
<<<<<<< HEAD
<<<<<<< HEAD
      "\n",
      "epoch 32 - loss: 127.906\n"
=======
      "\n"
>>>>>>> Z0zzz-master
=======
      "\n"
>>>>>>> Z0zzz-master
     ]
    },
    {
     "data": {
      "application/vnd.jupyter.widget-view+json": {
<<<<<<< HEAD
<<<<<<< HEAD
       "model_id": "693d4d3e249f48d4a336806dba6b8a31",
=======
       "model_id": "ae2a020e9d3449fa8138ae9c6b7f04c7",
>>>>>>> Z0zzz-master
=======
       "model_id": "ae2a020e9d3449fa8138ae9c6b7f04c7",
>>>>>>> Z0zzz-master
       "version_major": 2,
       "version_minor": 0
      },
      "text/plain": [
<<<<<<< HEAD
<<<<<<< HEAD
       "HBox(children=(FloatProgress(value=0.0, max=73.0), HTML(value='')))"
=======
       "HBox(children=(FloatProgress(value=0.0, max=20.0), HTML(value='')))"
>>>>>>> Z0zzz-master
=======
       "HBox(children=(FloatProgress(value=0.0, max=20.0), HTML(value='')))"
>>>>>>> Z0zzz-master
      ]
     },
     "metadata": {},
     "output_type": "display_data"
    },
    {
     "name": "stdout",
     "output_type": "stream",
     "text": [
      "\n",
<<<<<<< HEAD
<<<<<<< HEAD
      "epoch 33 - loss: 127.628\n"
=======
      "epoch 16 - train: 34.382 - valid: 34.736 - stale=0\n"
>>>>>>> Z0zzz-master
=======
      "epoch 16 - train: 34.382 - valid: 34.736 - stale=0\n"
>>>>>>> Z0zzz-master
     ]
    },
    {
     "data": {
      "application/vnd.jupyter.widget-view+json": {
<<<<<<< HEAD
<<<<<<< HEAD
       "model_id": "88761a8776a14ee496990152f22794b7",
=======
       "model_id": "db1418e94efe4dffb64ec20f51d33489",
>>>>>>> Z0zzz-master
=======
       "model_id": "db1418e94efe4dffb64ec20f51d33489",
>>>>>>> Z0zzz-master
       "version_major": 2,
       "version_minor": 0
      },
      "text/plain": [
<<<<<<< HEAD
<<<<<<< HEAD
       "HBox(children=(FloatProgress(value=0.0, max=73.0), HTML(value='')))"
=======
       "HBox(children=(FloatProgress(value=0.0, max=20.0), HTML(value='')))"
>>>>>>> Z0zzz-master
=======
       "HBox(children=(FloatProgress(value=0.0, max=20.0), HTML(value='')))"
>>>>>>> Z0zzz-master
      ]
     },
     "metadata": {},
     "output_type": "display_data"
    },
    {
     "name": "stdout",
     "output_type": "stream",
     "text": [
<<<<<<< HEAD
<<<<<<< HEAD
      "\n",
      "epoch 34 - loss: 127.285\n"
=======
      "\n"
>>>>>>> Z0zzz-master
=======
      "\n"
>>>>>>> Z0zzz-master
     ]
    },
    {
     "data": {
      "application/vnd.jupyter.widget-view+json": {
<<<<<<< HEAD
<<<<<<< HEAD
       "model_id": "50b7c104b2974d228643c8d3ef5ba01d",
=======
       "model_id": "6c59d0de0ef24b909d3431859e5a25df",
>>>>>>> Z0zzz-master
=======
       "model_id": "6c59d0de0ef24b909d3431859e5a25df",
>>>>>>> Z0zzz-master
       "version_major": 2,
       "version_minor": 0
      },
      "text/plain": [
<<<<<<< HEAD
<<<<<<< HEAD
       "HBox(children=(FloatProgress(value=0.0, max=73.0), HTML(value='')))"
=======
       "HBox(children=(FloatProgress(value=0.0, max=20.0), HTML(value='')))"
>>>>>>> Z0zzz-master
=======
       "HBox(children=(FloatProgress(value=0.0, max=20.0), HTML(value='')))"
>>>>>>> Z0zzz-master
      ]
     },
     "metadata": {},
     "output_type": "display_data"
    },
    {
     "name": "stdout",
     "output_type": "stream",
     "text": [
      "\n",
<<<<<<< HEAD
<<<<<<< HEAD
      "epoch 35 - loss: 126.863\n"
=======
      "epoch 17 - train: 34.337 - valid: 34.701 - stale=0\n"
>>>>>>> Z0zzz-master
=======
      "epoch 17 - train: 34.337 - valid: 34.701 - stale=0\n"
>>>>>>> Z0zzz-master
     ]
    },
    {
     "data": {
      "application/vnd.jupyter.widget-view+json": {
<<<<<<< HEAD
<<<<<<< HEAD
       "model_id": "6660215bd2a94e7fbd81d5a151074884",
=======
       "model_id": "8b2432d5296e446186292eeb596fc37a",
>>>>>>> Z0zzz-master
=======
       "model_id": "8b2432d5296e446186292eeb596fc37a",
>>>>>>> Z0zzz-master
       "version_major": 2,
       "version_minor": 0
      },
      "text/plain": [
<<<<<<< HEAD
<<<<<<< HEAD
       "HBox(children=(FloatProgress(value=0.0, max=73.0), HTML(value='')))"
=======
       "HBox(children=(FloatProgress(value=0.0, max=20.0), HTML(value='')))"
>>>>>>> Z0zzz-master
=======
       "HBox(children=(FloatProgress(value=0.0, max=20.0), HTML(value='')))"
>>>>>>> Z0zzz-master
      ]
     },
     "metadata": {},
     "output_type": "display_data"
    },
    {
     "name": "stdout",
     "output_type": "stream",
     "text": [
<<<<<<< HEAD
<<<<<<< HEAD
      "\n",
      "epoch 36 - loss: 126.318\n"
=======
      "\n"
>>>>>>> Z0zzz-master
=======
      "\n"
>>>>>>> Z0zzz-master
     ]
    },
    {
     "data": {
      "application/vnd.jupyter.widget-view+json": {
<<<<<<< HEAD
<<<<<<< HEAD
       "model_id": "8f60ab48b4bd48b5a5446e999a62750b",
=======
       "model_id": "23404a9ac01a4148b24dcd963ff7de3f",
>>>>>>> Z0zzz-master
=======
       "model_id": "23404a9ac01a4148b24dcd963ff7de3f",
>>>>>>> Z0zzz-master
       "version_major": 2,
       "version_minor": 0
      },
      "text/plain": [
<<<<<<< HEAD
<<<<<<< HEAD
       "HBox(children=(FloatProgress(value=0.0, max=73.0), HTML(value='')))"
=======
       "HBox(children=(FloatProgress(value=0.0, max=20.0), HTML(value='')))"
>>>>>>> Z0zzz-master
=======
       "HBox(children=(FloatProgress(value=0.0, max=20.0), HTML(value='')))"
>>>>>>> Z0zzz-master
      ]
     },
     "metadata": {},
     "output_type": "display_data"
    },
    {
     "name": "stdout",
     "output_type": "stream",
     "text": [
      "\n",
<<<<<<< HEAD
<<<<<<< HEAD
      "epoch 37 - loss: 125.714\n"
=======
      "epoch 18 - train: 34.295 - valid: 34.665 - stale=0\n"
>>>>>>> Z0zzz-master
=======
      "epoch 18 - train: 34.295 - valid: 34.665 - stale=0\n"
>>>>>>> Z0zzz-master
     ]
    },
    {
     "data": {
      "application/vnd.jupyter.widget-view+json": {
<<<<<<< HEAD
<<<<<<< HEAD
       "model_id": "6b429b2b80104da08549eb3906a43ea5",
=======
       "model_id": "3e1b67490ac0423f81a9b70dc53fe195",
>>>>>>> Z0zzz-master
=======
       "model_id": "3e1b67490ac0423f81a9b70dc53fe195",
>>>>>>> Z0zzz-master
       "version_major": 2,
       "version_minor": 0
      },
      "text/plain": [
<<<<<<< HEAD
<<<<<<< HEAD
       "HBox(children=(FloatProgress(value=0.0, max=73.0), HTML(value='')))"
=======
       "HBox(children=(FloatProgress(value=0.0, max=20.0), HTML(value='')))"
>>>>>>> Z0zzz-master
=======
       "HBox(children=(FloatProgress(value=0.0, max=20.0), HTML(value='')))"
>>>>>>> Z0zzz-master
      ]
     },
     "metadata": {},
     "output_type": "display_data"
    },
    {
     "name": "stdout",
     "output_type": "stream",
     "text": [
<<<<<<< HEAD
<<<<<<< HEAD
      "\n",
      "epoch 38 - loss: 124.879\n"
=======
      "\n"
>>>>>>> Z0zzz-master
=======
      "\n"
>>>>>>> Z0zzz-master
     ]
    },
    {
     "data": {
      "application/vnd.jupyter.widget-view+json": {
<<<<<<< HEAD
<<<<<<< HEAD
       "model_id": "4bf9554ac3474b91b39f5518f9afddff",
=======
       "model_id": "814f9ce7159140bf89b4bd609f03ac4d",
>>>>>>> Z0zzz-master
=======
       "model_id": "814f9ce7159140bf89b4bd609f03ac4d",
>>>>>>> Z0zzz-master
       "version_major": 2,
       "version_minor": 0
      },
      "text/plain": [
<<<<<<< HEAD
<<<<<<< HEAD
       "HBox(children=(FloatProgress(value=0.0, max=73.0), HTML(value='')))"
=======
       "HBox(children=(FloatProgress(value=0.0, max=20.0), HTML(value='')))"
>>>>>>> Z0zzz-master
=======
       "HBox(children=(FloatProgress(value=0.0, max=20.0), HTML(value='')))"
>>>>>>> Z0zzz-master
      ]
     },
     "metadata": {},
     "output_type": "display_data"
    },
    {
     "name": "stdout",
     "output_type": "stream",
     "text": [
      "\n",
<<<<<<< HEAD
<<<<<<< HEAD
      "epoch 39 - loss: 124.117\n"
=======
      "epoch 19 - train: 34.26 - valid: 34.636 - stale=0\n"
>>>>>>> Z0zzz-master
=======
      "epoch 19 - train: 34.26 - valid: 34.636 - stale=0\n"
>>>>>>> Z0zzz-master
     ]
    },
    {
     "data": {
      "application/vnd.jupyter.widget-view+json": {
<<<<<<< HEAD
<<<<<<< HEAD
       "model_id": "a76b78c65cb44f52b633f68ea232e1b6",
=======
       "model_id": "807ec7859ff942ef86b5b67ea6685885",
>>>>>>> Z0zzz-master
=======
       "model_id": "807ec7859ff942ef86b5b67ea6685885",
>>>>>>> Z0zzz-master
       "version_major": 2,
       "version_minor": 0
      },
      "text/plain": [
<<<<<<< HEAD
<<<<<<< HEAD
       "HBox(children=(FloatProgress(value=0.0, max=73.0), HTML(value='')))"
=======
       "HBox(children=(FloatProgress(value=0.0, max=20.0), HTML(value='')))"
>>>>>>> Z0zzz-master
=======
       "HBox(children=(FloatProgress(value=0.0, max=20.0), HTML(value='')))"
>>>>>>> Z0zzz-master
      ]
     },
     "metadata": {},
     "output_type": "display_data"
    },
    {
     "name": "stdout",
     "output_type": "stream",
     "text": [
<<<<<<< HEAD
<<<<<<< HEAD
      "\n",
      "epoch 40 - loss: 122.75\n"
=======
      "\n"
>>>>>>> Z0zzz-master
=======
      "\n"
>>>>>>> Z0zzz-master
     ]
    },
    {
     "data": {
      "application/vnd.jupyter.widget-view+json": {
<<<<<<< HEAD
<<<<<<< HEAD
       "model_id": "efffb1cea4ed4225bbfb06e3d6841ec3",
=======
       "model_id": "aa425017fb3648a792e63a10e38059ee",
>>>>>>> Z0zzz-master
=======
       "model_id": "aa425017fb3648a792e63a10e38059ee",
>>>>>>> Z0zzz-master
       "version_major": 2,
       "version_minor": 0
      },
      "text/plain": [
<<<<<<< HEAD
<<<<<<< HEAD
       "HBox(children=(FloatProgress(value=0.0, max=73.0), HTML(value='')))"
=======
       "HBox(children=(FloatProgress(value=0.0, max=20.0), HTML(value='')))"
>>>>>>> Z0zzz-master
=======
       "HBox(children=(FloatProgress(value=0.0, max=20.0), HTML(value='')))"
>>>>>>> Z0zzz-master
      ]
     },
     "metadata": {},
     "output_type": "display_data"
    },
    {
     "name": "stdout",
     "output_type": "stream",
     "text": [
      "\n",
<<<<<<< HEAD
<<<<<<< HEAD
      "epoch 41 - loss: 121.089\n"
=======
      "epoch 20 - train: 34.228 - valid: 34.613 - stale=0\n"
>>>>>>> Z0zzz-master
=======
      "epoch 20 - train: 34.228 - valid: 34.613 - stale=0\n"
>>>>>>> Z0zzz-master
     ]
    },
    {
     "data": {
      "application/vnd.jupyter.widget-view+json": {
<<<<<<< HEAD
<<<<<<< HEAD
       "model_id": "c1fbfc40dd04496a853b846ad51d8de8",
=======
       "model_id": "7c6fa005d6124726ae1b040d0d85d0a2",
>>>>>>> Z0zzz-master
=======
       "model_id": "7c6fa005d6124726ae1b040d0d85d0a2",
>>>>>>> Z0zzz-master
       "version_major": 2,
       "version_minor": 0
      },
      "text/plain": [
<<<<<<< HEAD
<<<<<<< HEAD
       "HBox(children=(FloatProgress(value=0.0, max=73.0), HTML(value='')))"
=======
       "HBox(children=(FloatProgress(value=0.0, max=20.0), HTML(value='')))"
>>>>>>> Z0zzz-master
=======
       "HBox(children=(FloatProgress(value=0.0, max=20.0), HTML(value='')))"
>>>>>>> Z0zzz-master
      ]
     },
     "metadata": {},
     "output_type": "display_data"
    },
    {
     "name": "stdout",
     "output_type": "stream",
     "text": [
<<<<<<< HEAD
<<<<<<< HEAD
      "\n",
      "epoch 42 - loss: 119.32\n"
=======
      "\n"
>>>>>>> Z0zzz-master
=======
      "\n"
>>>>>>> Z0zzz-master
     ]
    },
    {
     "data": {
      "application/vnd.jupyter.widget-view+json": {
<<<<<<< HEAD
<<<<<<< HEAD
       "model_id": "7ac6609d79d14cdea121838b13802695",
=======
       "model_id": "fd844499c1aa4eb0b43c2d552dea871b",
>>>>>>> Z0zzz-master
=======
       "model_id": "fd844499c1aa4eb0b43c2d552dea871b",
>>>>>>> Z0zzz-master
       "version_major": 2,
       "version_minor": 0
      },
      "text/plain": [
<<<<<<< HEAD
<<<<<<< HEAD
       "HBox(children=(FloatProgress(value=0.0, max=73.0), HTML(value='')))"
=======
       "HBox(children=(FloatProgress(value=0.0, max=20.0), HTML(value='')))"
>>>>>>> Z0zzz-master
=======
       "HBox(children=(FloatProgress(value=0.0, max=20.0), HTML(value='')))"
>>>>>>> Z0zzz-master
      ]
     },
     "metadata": {},
     "output_type": "display_data"
    },
    {
     "name": "stdout",
     "output_type": "stream",
     "text": [
      "\n",
<<<<<<< HEAD
<<<<<<< HEAD
      "epoch 43 - loss: 117.735\n"
=======
      "epoch 21 - train: 34.201 - valid: 34.594 - stale=0\n"
>>>>>>> Z0zzz-master
=======
      "epoch 21 - train: 34.201 - valid: 34.594 - stale=0\n"
>>>>>>> Z0zzz-master
     ]
    },
    {
     "data": {
      "application/vnd.jupyter.widget-view+json": {
<<<<<<< HEAD
<<<<<<< HEAD
       "model_id": "7ab52e8e144d41e9997f9b6969f9a74e",
=======
       "model_id": "69f5641e22e148ac8a8d4101dffddfc8",
>>>>>>> Z0zzz-master
=======
       "model_id": "69f5641e22e148ac8a8d4101dffddfc8",
>>>>>>> Z0zzz-master
       "version_major": 2,
       "version_minor": 0
      },
      "text/plain": [
<<<<<<< HEAD
<<<<<<< HEAD
       "HBox(children=(FloatProgress(value=0.0, max=73.0), HTML(value='')))"
=======
       "HBox(children=(FloatProgress(value=0.0, max=20.0), HTML(value='')))"
>>>>>>> Z0zzz-master
=======
       "HBox(children=(FloatProgress(value=0.0, max=20.0), HTML(value='')))"
>>>>>>> Z0zzz-master
      ]
     },
     "metadata": {},
     "output_type": "display_data"
    },
    {
     "name": "stdout",
     "output_type": "stream",
     "text": [
<<<<<<< HEAD
<<<<<<< HEAD
      "\n",
      "epoch 44 - loss: 116.267\n"
=======
      "\n"
>>>>>>> Z0zzz-master
=======
      "\n"
>>>>>>> Z0zzz-master
     ]
    },
    {
     "data": {
      "application/vnd.jupyter.widget-view+json": {
<<<<<<< HEAD
<<<<<<< HEAD
       "model_id": "77af401c64604a9fb52826278fd693b6",
=======
       "model_id": "b3c518abb1a04c4da72995df54174619",
>>>>>>> Z0zzz-master
=======
       "model_id": "b3c518abb1a04c4da72995df54174619",
>>>>>>> Z0zzz-master
       "version_major": 2,
       "version_minor": 0
      },
      "text/plain": [
<<<<<<< HEAD
<<<<<<< HEAD
       "HBox(children=(FloatProgress(value=0.0, max=73.0), HTML(value='')))"
=======
       "HBox(children=(FloatProgress(value=0.0, max=20.0), HTML(value='')))"
>>>>>>> Z0zzz-master
=======
       "HBox(children=(FloatProgress(value=0.0, max=20.0), HTML(value='')))"
>>>>>>> Z0zzz-master
      ]
     },
     "metadata": {},
     "output_type": "display_data"
    },
    {
     "name": "stdout",
     "output_type": "stream",
     "text": [
      "\n",
<<<<<<< HEAD
<<<<<<< HEAD
      "epoch 45 - loss: 114.853\n"
=======
      "epoch 22 - train: 34.177 - valid: 34.58 - stale=0\n"
>>>>>>> Z0zzz-master
=======
      "epoch 22 - train: 34.177 - valid: 34.58 - stale=0\n"
>>>>>>> Z0zzz-master
     ]
    },
    {
     "data": {
      "application/vnd.jupyter.widget-view+json": {
<<<<<<< HEAD
<<<<<<< HEAD
       "model_id": "d1fa1e24d9034c29abcee05b7e872d1f",
=======
       "model_id": "caedb291e4c0487f99556be3c2719e96",
>>>>>>> Z0zzz-master
=======
       "model_id": "caedb291e4c0487f99556be3c2719e96",
>>>>>>> Z0zzz-master
       "version_major": 2,
       "version_minor": 0
      },
      "text/plain": [
<<<<<<< HEAD
<<<<<<< HEAD
       "HBox(children=(FloatProgress(value=0.0, max=73.0), HTML(value='')))"
=======
       "HBox(children=(FloatProgress(value=0.0, max=20.0), HTML(value='')))"
>>>>>>> Z0zzz-master
=======
       "HBox(children=(FloatProgress(value=0.0, max=20.0), HTML(value='')))"
>>>>>>> Z0zzz-master
      ]
     },
     "metadata": {},
     "output_type": "display_data"
    },
    {
     "name": "stdout",
     "output_type": "stream",
     "text": [
<<<<<<< HEAD
<<<<<<< HEAD
      "\n",
      "epoch 46 - loss: 114.17\n"
=======
      "\n"
>>>>>>> Z0zzz-master
=======
      "\n"
>>>>>>> Z0zzz-master
     ]
    },
    {
     "data": {
      "application/vnd.jupyter.widget-view+json": {
<<<<<<< HEAD
<<<<<<< HEAD
       "model_id": "b371c366bb74454d9fc8ac854f8acd2a",
=======
       "model_id": "654cf66930f440a7b28b59e0ef50ab0a",
>>>>>>> Z0zzz-master
=======
       "model_id": "654cf66930f440a7b28b59e0ef50ab0a",
>>>>>>> Z0zzz-master
       "version_major": 2,
       "version_minor": 0
      },
      "text/plain": [
<<<<<<< HEAD
<<<<<<< HEAD
       "HBox(children=(FloatProgress(value=0.0, max=73.0), HTML(value='')))"
=======
       "HBox(children=(FloatProgress(value=0.0, max=20.0), HTML(value='')))"
>>>>>>> Z0zzz-master
=======
       "HBox(children=(FloatProgress(value=0.0, max=20.0), HTML(value='')))"
>>>>>>> Z0zzz-master
      ]
     },
     "metadata": {},
     "output_type": "display_data"
    },
    {
     "name": "stdout",
     "output_type": "stream",
     "text": [
      "\n",
<<<<<<< HEAD
<<<<<<< HEAD
      "epoch 47 - loss: 113.736\n"
=======
      "epoch 23 - train: 34.156 - valid: 34.562 - stale=0\n"
>>>>>>> Z0zzz-master
=======
      "epoch 23 - train: 34.156 - valid: 34.562 - stale=0\n"
>>>>>>> Z0zzz-master
     ]
    },
    {
     "data": {
      "application/vnd.jupyter.widget-view+json": {
<<<<<<< HEAD
<<<<<<< HEAD
       "model_id": "5bc0a82a16334f0aa9b0b1f2db39cac3",
=======
       "model_id": "3554ecd822274732b1fa742a38be9625",
>>>>>>> Z0zzz-master
=======
       "model_id": "3554ecd822274732b1fa742a38be9625",
>>>>>>> Z0zzz-master
       "version_major": 2,
       "version_minor": 0
      },
      "text/plain": [
<<<<<<< HEAD
<<<<<<< HEAD
       "HBox(children=(FloatProgress(value=0.0, max=73.0), HTML(value='')))"
=======
       "HBox(children=(FloatProgress(value=0.0, max=20.0), HTML(value='')))"
>>>>>>> Z0zzz-master
=======
       "HBox(children=(FloatProgress(value=0.0, max=20.0), HTML(value='')))"
>>>>>>> Z0zzz-master
      ]
     },
     "metadata": {},
     "output_type": "display_data"
    },
    {
     "name": "stdout",
     "output_type": "stream",
     "text": [
<<<<<<< HEAD
<<<<<<< HEAD
      "\n",
      "epoch 48 - loss: 114.67\n"
=======
      "\n"
>>>>>>> Z0zzz-master
=======
      "\n"
>>>>>>> Z0zzz-master
     ]
    },
    {
     "data": {
      "application/vnd.jupyter.widget-view+json": {
<<<<<<< HEAD
<<<<<<< HEAD
       "model_id": "1ef76d91a7284adeba305887a7bea2c4",
=======
       "model_id": "5d03b9d509cb45c68ac95ce4b42845d3",
>>>>>>> Z0zzz-master
=======
       "model_id": "5d03b9d509cb45c68ac95ce4b42845d3",
>>>>>>> Z0zzz-master
       "version_major": 2,
       "version_minor": 0
      },
      "text/plain": [
<<<<<<< HEAD
<<<<<<< HEAD
       "HBox(children=(FloatProgress(value=0.0, max=73.0), HTML(value='')))"
=======
       "HBox(children=(FloatProgress(value=0.0, max=20.0), HTML(value='')))"
>>>>>>> Z0zzz-master
=======
       "HBox(children=(FloatProgress(value=0.0, max=20.0), HTML(value='')))"
>>>>>>> Z0zzz-master
      ]
     },
     "metadata": {},
     "output_type": "display_data"
    },
    {
     "name": "stdout",
     "output_type": "stream",
     "text": [
      "\n",
<<<<<<< HEAD
<<<<<<< HEAD
      "epoch 49 - loss: 114.126\n"
=======
      "epoch 24 - train: 34.132 - valid: 34.539 - stale=0\n"
>>>>>>> Z0zzz-master
=======
      "epoch 24 - train: 34.132 - valid: 34.539 - stale=0\n"
>>>>>>> Z0zzz-master
     ]
    },
    {
     "data": {
      "application/vnd.jupyter.widget-view+json": {
<<<<<<< HEAD
<<<<<<< HEAD
       "model_id": "e03f1320c9574adaae7f71177926f8cf",
=======
       "model_id": "c1279e686bdf492d8dbda9b129edb86d",
>>>>>>> Z0zzz-master
=======
       "model_id": "c1279e686bdf492d8dbda9b129edb86d",
>>>>>>> Z0zzz-master
       "version_major": 2,
       "version_minor": 0
      },
      "text/plain": [
<<<<<<< HEAD
<<<<<<< HEAD
       "HBox(children=(FloatProgress(value=0.0, max=73.0), HTML(value='')))"
=======
       "HBox(children=(FloatProgress(value=0.0, max=20.0), HTML(value='')))"
>>>>>>> Z0zzz-master
=======
       "HBox(children=(FloatProgress(value=0.0, max=20.0), HTML(value='')))"
>>>>>>> Z0zzz-master
      ]
     },
     "metadata": {},
     "output_type": "display_data"
    },
    {
     "name": "stdout",
     "output_type": "stream",
     "text": [
<<<<<<< HEAD
<<<<<<< HEAD
      "\n",
      "epoch 50 - loss: 113.131\n"
=======
      "\n"
>>>>>>> Z0zzz-master
=======
      "\n"
>>>>>>> Z0zzz-master
     ]
    },
    {
     "data": {
      "application/vnd.jupyter.widget-view+json": {
<<<<<<< HEAD
<<<<<<< HEAD
       "model_id": "5e192d412fe24d0b8cf738805f285ff7",
=======
       "model_id": "88947f1957064628a1d9171bc46a3b82",
>>>>>>> Z0zzz-master
=======
       "model_id": "88947f1957064628a1d9171bc46a3b82",
>>>>>>> Z0zzz-master
       "version_major": 2,
       "version_minor": 0
      },
      "text/plain": [
<<<<<<< HEAD
<<<<<<< HEAD
       "HBox(children=(FloatProgress(value=0.0, max=73.0), HTML(value='')))"
=======
       "HBox(children=(FloatProgress(value=0.0, max=20.0), HTML(value='')))"
>>>>>>> Z0zzz-master
=======
       "HBox(children=(FloatProgress(value=0.0, max=20.0), HTML(value='')))"
>>>>>>> Z0zzz-master
      ]
     },
     "metadata": {},
     "output_type": "display_data"
    },
    {
     "name": "stdout",
     "output_type": "stream",
     "text": [
      "\n",
<<<<<<< HEAD
<<<<<<< HEAD
      "epoch 51 - loss: 113.015\n"
=======
      "epoch 25 - train: 34.112 - valid: 34.524 - stale=0\n"
>>>>>>> Z0zzz-master
=======
      "epoch 25 - train: 34.112 - valid: 34.524 - stale=0\n"
>>>>>>> Z0zzz-master
     ]
    },
    {
     "data": {
      "application/vnd.jupyter.widget-view+json": {
<<<<<<< HEAD
<<<<<<< HEAD
       "model_id": "909c654aeded4c9f809c9bdd083f2317",
=======
       "model_id": "2051071d9a66456fbeb358e0bee57a29",
>>>>>>> Z0zzz-master
=======
       "model_id": "2051071d9a66456fbeb358e0bee57a29",
>>>>>>> Z0zzz-master
       "version_major": 2,
       "version_minor": 0
      },
      "text/plain": [
<<<<<<< HEAD
<<<<<<< HEAD
       "HBox(children=(FloatProgress(value=0.0, max=73.0), HTML(value='')))"
=======
       "HBox(children=(FloatProgress(value=0.0, max=20.0), HTML(value='')))"
>>>>>>> Z0zzz-master
=======
       "HBox(children=(FloatProgress(value=0.0, max=20.0), HTML(value='')))"
>>>>>>> Z0zzz-master
      ]
     },
     "metadata": {},
     "output_type": "display_data"
    },
    {
     "name": "stdout",
     "output_type": "stream",
     "text": [
<<<<<<< HEAD
<<<<<<< HEAD
      "\n",
      "epoch 52 - loss: 112.768\n"
=======
      "\n"
>>>>>>> Z0zzz-master
=======
      "\n"
>>>>>>> Z0zzz-master
     ]
    },
    {
     "data": {
      "application/vnd.jupyter.widget-view+json": {
<<<<<<< HEAD
<<<<<<< HEAD
       "model_id": "3c2ffd6b3d334fcfbc835706152421d3",
=======
       "model_id": "5a10de0b0b27474b9564b3520edac90b",
>>>>>>> Z0zzz-master
=======
       "model_id": "5a10de0b0b27474b9564b3520edac90b",
>>>>>>> Z0zzz-master
       "version_major": 2,
       "version_minor": 0
      },
      "text/plain": [
<<<<<<< HEAD
<<<<<<< HEAD
       "HBox(children=(FloatProgress(value=0.0, max=73.0), HTML(value='')))"
=======
       "HBox(children=(FloatProgress(value=0.0, max=20.0), HTML(value='')))"
>>>>>>> Z0zzz-master
=======
       "HBox(children=(FloatProgress(value=0.0, max=20.0), HTML(value='')))"
>>>>>>> Z0zzz-master
      ]
     },
     "metadata": {},
     "output_type": "display_data"
    },
    {
     "name": "stdout",
     "output_type": "stream",
     "text": [
      "\n",
<<<<<<< HEAD
<<<<<<< HEAD
      "epoch 53 - loss: 112.622\n"
=======
      "epoch 26 - train: 34.093 - valid: 34.509 - stale=0\n"
>>>>>>> Z0zzz-master
=======
      "epoch 26 - train: 34.093 - valid: 34.509 - stale=0\n"
>>>>>>> Z0zzz-master
     ]
    },
    {
     "data": {
      "application/vnd.jupyter.widget-view+json": {
<<<<<<< HEAD
<<<<<<< HEAD
       "model_id": "f020e3b873034a779ca398a54436b18d",
=======
       "model_id": "21d254147ce247faa1b92fa1687a38ca",
>>>>>>> Z0zzz-master
=======
       "model_id": "21d254147ce247faa1b92fa1687a38ca",
>>>>>>> Z0zzz-master
       "version_major": 2,
       "version_minor": 0
      },
      "text/plain": [
<<<<<<< HEAD
<<<<<<< HEAD
       "HBox(children=(FloatProgress(value=0.0, max=73.0), HTML(value='')))"
=======
       "HBox(children=(FloatProgress(value=0.0, max=20.0), HTML(value='')))"
>>>>>>> Z0zzz-master
=======
       "HBox(children=(FloatProgress(value=0.0, max=20.0), HTML(value='')))"
>>>>>>> Z0zzz-master
      ]
     },
     "metadata": {},
     "output_type": "display_data"
    },
    {
     "name": "stdout",
     "output_type": "stream",
     "text": [
<<<<<<< HEAD
<<<<<<< HEAD
      "\n",
      "epoch 54 - loss: 112.557\n"
=======
      "\n"
>>>>>>> Z0zzz-master
=======
      "\n"
>>>>>>> Z0zzz-master
     ]
    },
    {
     "data": {
      "application/vnd.jupyter.widget-view+json": {
<<<<<<< HEAD
<<<<<<< HEAD
       "model_id": "146f12e9858f4e528de7883b95edad99",
=======
       "model_id": "0bac45bd10fe4651942e3c56c83b9d76",
>>>>>>> Z0zzz-master
=======
       "model_id": "0bac45bd10fe4651942e3c56c83b9d76",
>>>>>>> Z0zzz-master
       "version_major": 2,
       "version_minor": 0
      },
      "text/plain": [
<<<<<<< HEAD
<<<<<<< HEAD
       "HBox(children=(FloatProgress(value=0.0, max=73.0), HTML(value='')))"
=======
       "HBox(children=(FloatProgress(value=0.0, max=20.0), HTML(value='')))"
>>>>>>> Z0zzz-master
=======
       "HBox(children=(FloatProgress(value=0.0, max=20.0), HTML(value='')))"
>>>>>>> Z0zzz-master
      ]
     },
     "metadata": {},
     "output_type": "display_data"
    },
    {
     "name": "stdout",
     "output_type": "stream",
     "text": [
      "\n",
<<<<<<< HEAD
<<<<<<< HEAD
      "epoch 55 - loss: 112.381\n"
=======
      "epoch 27 - train: 34.076 - valid: 34.495 - stale=0\n"
>>>>>>> Z0zzz-master
=======
      "epoch 27 - train: 34.076 - valid: 34.495 - stale=0\n"
>>>>>>> Z0zzz-master
     ]
    },
    {
     "data": {
      "application/vnd.jupyter.widget-view+json": {
<<<<<<< HEAD
<<<<<<< HEAD
       "model_id": "6e5a685ac2804c1db106df40ffce96bb",
=======
       "model_id": "82cce7a950184faf92c6c1819b227229",
>>>>>>> Z0zzz-master
=======
       "model_id": "82cce7a950184faf92c6c1819b227229",
>>>>>>> Z0zzz-master
       "version_major": 2,
       "version_minor": 0
      },
      "text/plain": [
<<<<<<< HEAD
<<<<<<< HEAD
       "HBox(children=(FloatProgress(value=0.0, max=73.0), HTML(value='')))"
=======
       "HBox(children=(FloatProgress(value=0.0, max=20.0), HTML(value='')))"
>>>>>>> Z0zzz-master
=======
       "HBox(children=(FloatProgress(value=0.0, max=20.0), HTML(value='')))"
>>>>>>> Z0zzz-master
      ]
     },
     "metadata": {},
     "output_type": "display_data"
    },
    {
     "name": "stdout",
     "output_type": "stream",
     "text": [
<<<<<<< HEAD
<<<<<<< HEAD
      "\n",
      "epoch 56 - loss: 112.225\n"
=======
      "\n"
>>>>>>> Z0zzz-master
=======
      "\n"
>>>>>>> Z0zzz-master
     ]
    },
    {
     "data": {
      "application/vnd.jupyter.widget-view+json": {
<<<<<<< HEAD
<<<<<<< HEAD
       "model_id": "6a67093d9a594dd698f36d9a2c4d6fcc",
=======
       "model_id": "cff93b096d78480ca2a299e400566051",
>>>>>>> Z0zzz-master
=======
       "model_id": "cff93b096d78480ca2a299e400566051",
>>>>>>> Z0zzz-master
       "version_major": 2,
       "version_minor": 0
      },
      "text/plain": [
<<<<<<< HEAD
<<<<<<< HEAD
       "HBox(children=(FloatProgress(value=0.0, max=73.0), HTML(value='')))"
=======
       "HBox(children=(FloatProgress(value=0.0, max=20.0), HTML(value='')))"
>>>>>>> Z0zzz-master
=======
       "HBox(children=(FloatProgress(value=0.0, max=20.0), HTML(value='')))"
>>>>>>> Z0zzz-master
      ]
     },
     "metadata": {},
     "output_type": "display_data"
    },
    {
     "name": "stdout",
     "output_type": "stream",
     "text": [
      "\n",
<<<<<<< HEAD
<<<<<<< HEAD
      "epoch 57 - loss: 112.059\n"
=======
      "epoch 28 - train: 34.059 - valid: 34.483 - stale=0\n"
>>>>>>> Z0zzz-master
=======
      "epoch 28 - train: 34.059 - valid: 34.483 - stale=0\n"
>>>>>>> Z0zzz-master
     ]
    },
    {
     "data": {
      "application/vnd.jupyter.widget-view+json": {
<<<<<<< HEAD
<<<<<<< HEAD
       "model_id": "255d6067cf5a4f78a80ef50e6b808ca7",
=======
       "model_id": "3fde6cce57264434a7ac10a9b4525b7c",
>>>>>>> Z0zzz-master
=======
       "model_id": "3fde6cce57264434a7ac10a9b4525b7c",
>>>>>>> Z0zzz-master
       "version_major": 2,
       "version_minor": 0
      },
      "text/plain": [
<<<<<<< HEAD
<<<<<<< HEAD
       "HBox(children=(FloatProgress(value=0.0, max=73.0), HTML(value='')))"
=======
       "HBox(children=(FloatProgress(value=0.0, max=20.0), HTML(value='')))"
>>>>>>> Z0zzz-master
=======
       "HBox(children=(FloatProgress(value=0.0, max=20.0), HTML(value='')))"
>>>>>>> Z0zzz-master
      ]
     },
     "metadata": {},
     "output_type": "display_data"
    },
    {
     "name": "stdout",
     "output_type": "stream",
     "text": [
<<<<<<< HEAD
<<<<<<< HEAD
      "\n",
      "epoch 58 - loss: 111.944\n"
=======
      "\n"
>>>>>>> Z0zzz-master
=======
      "\n"
>>>>>>> Z0zzz-master
     ]
    },
    {
     "data": {
      "application/vnd.jupyter.widget-view+json": {
<<<<<<< HEAD
<<<<<<< HEAD
       "model_id": "6ef2c7a710954e669d9d2cc74082d397",
=======
       "model_id": "57bffbf40ae744e98d722210b6512680",
>>>>>>> Z0zzz-master
=======
       "model_id": "57bffbf40ae744e98d722210b6512680",
>>>>>>> Z0zzz-master
       "version_major": 2,
       "version_minor": 0
      },
      "text/plain": [
<<<<<<< HEAD
<<<<<<< HEAD
       "HBox(children=(FloatProgress(value=0.0, max=73.0), HTML(value='')))"
=======
       "HBox(children=(FloatProgress(value=0.0, max=20.0), HTML(value='')))"
>>>>>>> Z0zzz-master
=======
       "HBox(children=(FloatProgress(value=0.0, max=20.0), HTML(value='')))"
>>>>>>> Z0zzz-master
      ]
     },
     "metadata": {},
     "output_type": "display_data"
    },
    {
     "name": "stdout",
     "output_type": "stream",
     "text": [
      "\n",
<<<<<<< HEAD
<<<<<<< HEAD
      "epoch 59 - loss: 111.791\n"
=======
      "epoch 29 - train: 34.043 - valid: 34.467 - stale=0\n"
>>>>>>> Z0zzz-master
=======
      "epoch 29 - train: 34.043 - valid: 34.467 - stale=0\n"
>>>>>>> Z0zzz-master
     ]
    },
    {
     "data": {
      "application/vnd.jupyter.widget-view+json": {
<<<<<<< HEAD
<<<<<<< HEAD
       "model_id": "1c82bbdb64b744fe9660309db2c62a06",
=======
       "model_id": "5970565cba08495fb392798eede085ef",
>>>>>>> Z0zzz-master
=======
       "model_id": "5970565cba08495fb392798eede085ef",
>>>>>>> Z0zzz-master
       "version_major": 2,
       "version_minor": 0
      },
      "text/plain": [
<<<<<<< HEAD
<<<<<<< HEAD
       "HBox(children=(FloatProgress(value=0.0, max=73.0), HTML(value='')))"
=======
       "HBox(children=(FloatProgress(value=0.0, max=20.0), HTML(value='')))"
>>>>>>> Z0zzz-master
=======
       "HBox(children=(FloatProgress(value=0.0, max=20.0), HTML(value='')))"
>>>>>>> Z0zzz-master
      ]
     },
     "metadata": {},
     "output_type": "display_data"
    },
    {
     "name": "stdout",
     "output_type": "stream",
     "text": [
<<<<<<< HEAD
<<<<<<< HEAD
      "\n",
      "epoch 60 - loss: 111.694\n"
=======
      "\n"
>>>>>>> Z0zzz-master
=======
      "\n"
>>>>>>> Z0zzz-master
     ]
    },
    {
     "data": {
      "application/vnd.jupyter.widget-view+json": {
<<<<<<< HEAD
<<<<<<< HEAD
       "model_id": "919012a04fc5452e92c0bd34efc325c0",
=======
       "model_id": "e74ee1799a86410b91010a55427cb14e",
>>>>>>> Z0zzz-master
=======
       "model_id": "e74ee1799a86410b91010a55427cb14e",
>>>>>>> Z0zzz-master
       "version_major": 2,
       "version_minor": 0
      },
      "text/plain": [
<<<<<<< HEAD
<<<<<<< HEAD
       "HBox(children=(FloatProgress(value=0.0, max=73.0), HTML(value='')))"
=======
       "HBox(children=(FloatProgress(value=0.0, max=20.0), HTML(value='')))"
>>>>>>> Z0zzz-master
=======
       "HBox(children=(FloatProgress(value=0.0, max=20.0), HTML(value='')))"
>>>>>>> Z0zzz-master
      ]
     },
     "metadata": {},
     "output_type": "display_data"
    },
    {
     "name": "stdout",
     "output_type": "stream",
     "text": [
      "\n",
<<<<<<< HEAD
<<<<<<< HEAD
      "epoch 61 - loss: 111.614\n"
=======
      "epoch 30 - train: 34.028 - valid: 34.454 - stale=0\n"
>>>>>>> Z0zzz-master
=======
      "epoch 30 - train: 34.028 - valid: 34.454 - stale=0\n"
>>>>>>> Z0zzz-master
     ]
    },
    {
     "data": {
      "application/vnd.jupyter.widget-view+json": {
<<<<<<< HEAD
<<<<<<< HEAD
       "model_id": "26a2adf73aab4db7bd1fb51ab5319123",
=======
       "model_id": "827e622a62a04c658717298631321f75",
>>>>>>> Z0zzz-master
=======
       "model_id": "827e622a62a04c658717298631321f75",
>>>>>>> Z0zzz-master
       "version_major": 2,
       "version_minor": 0
      },
      "text/plain": [
<<<<<<< HEAD
<<<<<<< HEAD
       "HBox(children=(FloatProgress(value=0.0, max=73.0), HTML(value='')))"
=======
       "HBox(children=(FloatProgress(value=0.0, max=20.0), HTML(value='')))"
>>>>>>> Z0zzz-master
=======
       "HBox(children=(FloatProgress(value=0.0, max=20.0), HTML(value='')))"
>>>>>>> Z0zzz-master
      ]
     },
     "metadata": {},
     "output_type": "display_data"
    },
    {
     "name": "stdout",
     "output_type": "stream",
     "text": [
<<<<<<< HEAD
<<<<<<< HEAD
      "\n",
      "epoch 62 - loss: 111.564\n"
=======
      "\n"
>>>>>>> Z0zzz-master
=======
      "\n"
>>>>>>> Z0zzz-master
     ]
    },
    {
     "data": {
      "application/vnd.jupyter.widget-view+json": {
<<<<<<< HEAD
<<<<<<< HEAD
       "model_id": "8470fd6a2a0f408db915f54f2b9aa055",
=======
       "model_id": "bc1b729aa45a43ea870f57969770351f",
>>>>>>> Z0zzz-master
=======
       "model_id": "bc1b729aa45a43ea870f57969770351f",
>>>>>>> Z0zzz-master
       "version_major": 2,
       "version_minor": 0
      },
      "text/plain": [
<<<<<<< HEAD
<<<<<<< HEAD
       "HBox(children=(FloatProgress(value=0.0, max=73.0), HTML(value='')))"
=======
       "HBox(children=(FloatProgress(value=0.0, max=20.0), HTML(value='')))"
>>>>>>> Z0zzz-master
=======
       "HBox(children=(FloatProgress(value=0.0, max=20.0), HTML(value='')))"
>>>>>>> Z0zzz-master
      ]
     },
     "metadata": {},
     "output_type": "display_data"
    },
    {
     "name": "stdout",
     "output_type": "stream",
     "text": [
      "\n",
<<<<<<< HEAD
<<<<<<< HEAD
      "epoch 63 - loss: 111.488\n"
=======
      "epoch 31 - train: 34.013 - valid: 34.441 - stale=0\n"
>>>>>>> Z0zzz-master
=======
      "epoch 31 - train: 34.013 - valid: 34.441 - stale=0\n"
>>>>>>> Z0zzz-master
     ]
    },
    {
     "data": {
      "application/vnd.jupyter.widget-view+json": {
<<<<<<< HEAD
<<<<<<< HEAD
       "model_id": "eaadb9cd96524e2d912b929e98777436",
=======
       "model_id": "db1f0e42a95e40ceb0ef6f404fcadd93",
>>>>>>> Z0zzz-master
=======
       "model_id": "db1f0e42a95e40ceb0ef6f404fcadd93",
>>>>>>> Z0zzz-master
       "version_major": 2,
       "version_minor": 0
      },
      "text/plain": [
<<<<<<< HEAD
<<<<<<< HEAD
       "HBox(children=(FloatProgress(value=0.0, max=73.0), HTML(value='')))"
=======
       "HBox(children=(FloatProgress(value=0.0, max=20.0), HTML(value='')))"
>>>>>>> Z0zzz-master
=======
       "HBox(children=(FloatProgress(value=0.0, max=20.0), HTML(value='')))"
>>>>>>> Z0zzz-master
      ]
     },
     "metadata": {},
     "output_type": "display_data"
    },
    {
     "name": "stdout",
     "output_type": "stream",
     "text": [
<<<<<<< HEAD
<<<<<<< HEAD
      "\n",
      "epoch 64 - loss: 111.432\n"
=======
      "\n"
>>>>>>> Z0zzz-master
=======
      "\n"
>>>>>>> Z0zzz-master
     ]
    },
    {
     "data": {
      "application/vnd.jupyter.widget-view+json": {
<<<<<<< HEAD
<<<<<<< HEAD
       "model_id": "aa3d88e3c77b42cebf8f261a241360a9",
=======
       "model_id": "fac706e9df464582ae824378b51ac5c5",
>>>>>>> Z0zzz-master
=======
       "model_id": "fac706e9df464582ae824378b51ac5c5",
>>>>>>> Z0zzz-master
       "version_major": 2,
       "version_minor": 0
      },
      "text/plain": [
<<<<<<< HEAD
<<<<<<< HEAD
       "HBox(children=(FloatProgress(value=0.0, max=73.0), HTML(value='')))"
=======
       "HBox(children=(FloatProgress(value=0.0, max=20.0), HTML(value='')))"
>>>>>>> Z0zzz-master
=======
       "HBox(children=(FloatProgress(value=0.0, max=20.0), HTML(value='')))"
>>>>>>> Z0zzz-master
      ]
     },
     "metadata": {},
     "output_type": "display_data"
    },
    {
     "name": "stdout",
     "output_type": "stream",
     "text": [
      "\n",
<<<<<<< HEAD
<<<<<<< HEAD
      "epoch 65 - loss: 111.355\n"
=======
      "epoch 32 - train: 33.999 - valid: 34.425 - stale=0\n"
>>>>>>> Z0zzz-master
=======
      "epoch 32 - train: 33.999 - valid: 34.425 - stale=0\n"
>>>>>>> Z0zzz-master
     ]
    },
    {
     "data": {
      "application/vnd.jupyter.widget-view+json": {
<<<<<<< HEAD
<<<<<<< HEAD
       "model_id": "27011679ce4d45649c221f0f5a49a09e",
=======
       "model_id": "2ae4d3f1f5ee47b8a76d6318d3ff0365",
>>>>>>> Z0zzz-master
=======
       "model_id": "2ae4d3f1f5ee47b8a76d6318d3ff0365",
>>>>>>> Z0zzz-master
       "version_major": 2,
       "version_minor": 0
      },
      "text/plain": [
<<<<<<< HEAD
<<<<<<< HEAD
       "HBox(children=(FloatProgress(value=0.0, max=73.0), HTML(value='')))"
=======
       "HBox(children=(FloatProgress(value=0.0, max=20.0), HTML(value='')))"
>>>>>>> Z0zzz-master
=======
       "HBox(children=(FloatProgress(value=0.0, max=20.0), HTML(value='')))"
>>>>>>> Z0zzz-master
      ]
     },
     "metadata": {},
     "output_type": "display_data"
    },
    {
     "name": "stdout",
     "output_type": "stream",
     "text": [
<<<<<<< HEAD
<<<<<<< HEAD
      "\n",
      "epoch 66 - loss: 111.332\n"
=======
      "\n"
>>>>>>> Z0zzz-master
=======
      "\n"
>>>>>>> Z0zzz-master
     ]
    },
    {
     "data": {
      "application/vnd.jupyter.widget-view+json": {
<<<<<<< HEAD
<<<<<<< HEAD
       "model_id": "948eaf007f184c59bdec81c2166ead48",
=======
       "model_id": "24876ab4d66b4bca9f64ab81c3ca845a",
>>>>>>> Z0zzz-master
=======
       "model_id": "24876ab4d66b4bca9f64ab81c3ca845a",
>>>>>>> Z0zzz-master
       "version_major": 2,
       "version_minor": 0
      },
      "text/plain": [
<<<<<<< HEAD
<<<<<<< HEAD
       "HBox(children=(FloatProgress(value=0.0, max=73.0), HTML(value='')))"
=======
       "HBox(children=(FloatProgress(value=0.0, max=20.0), HTML(value='')))"
>>>>>>> Z0zzz-master
=======
       "HBox(children=(FloatProgress(value=0.0, max=20.0), HTML(value='')))"
>>>>>>> Z0zzz-master
      ]
     },
     "metadata": {},
     "output_type": "display_data"
    },
    {
     "name": "stdout",
     "output_type": "stream",
     "text": [
      "\n",
<<<<<<< HEAD
<<<<<<< HEAD
      "epoch 67 - loss: 111.258\n"
=======
      "epoch 33 - train: 33.984 - valid: 34.409 - stale=0\n"
>>>>>>> Z0zzz-master
=======
      "epoch 33 - train: 33.984 - valid: 34.409 - stale=0\n"
>>>>>>> Z0zzz-master
     ]
    },
    {
     "data": {
      "application/vnd.jupyter.widget-view+json": {
<<<<<<< HEAD
<<<<<<< HEAD
       "model_id": "66c239f778f748a7973b16b307c34185",
=======
       "model_id": "bb78eef66dbf40cfada64d2286c7af0c",
>>>>>>> Z0zzz-master
=======
       "model_id": "bb78eef66dbf40cfada64d2286c7af0c",
>>>>>>> Z0zzz-master
       "version_major": 2,
       "version_minor": 0
      },
      "text/plain": [
<<<<<<< HEAD
<<<<<<< HEAD
       "HBox(children=(FloatProgress(value=0.0, max=73.0), HTML(value='')))"
=======
       "HBox(children=(FloatProgress(value=0.0, max=20.0), HTML(value='')))"
>>>>>>> Z0zzz-master
=======
       "HBox(children=(FloatProgress(value=0.0, max=20.0), HTML(value='')))"
>>>>>>> Z0zzz-master
      ]
     },
     "metadata": {},
     "output_type": "display_data"
    },
    {
     "name": "stdout",
     "output_type": "stream",
     "text": [
<<<<<<< HEAD
<<<<<<< HEAD
      "\n",
      "epoch 68 - loss: 111.226\n"
=======
      "\n"
>>>>>>> Z0zzz-master
=======
      "\n"
>>>>>>> Z0zzz-master
     ]
    },
    {
     "data": {
      "application/vnd.jupyter.widget-view+json": {
<<<<<<< HEAD
<<<<<<< HEAD
       "model_id": "b7ebed0db1a74f13b8c2a9a066d36e01",
=======
       "model_id": "5e4fcf862cae4ec6b16a28cb3c5e8ecd",
>>>>>>> Z0zzz-master
=======
       "model_id": "5e4fcf862cae4ec6b16a28cb3c5e8ecd",
>>>>>>> Z0zzz-master
       "version_major": 2,
       "version_minor": 0
      },
      "text/plain": [
<<<<<<< HEAD
<<<<<<< HEAD
       "HBox(children=(FloatProgress(value=0.0, max=73.0), HTML(value='')))"
=======
       "HBox(children=(FloatProgress(value=0.0, max=20.0), HTML(value='')))"
>>>>>>> Z0zzz-master
=======
       "HBox(children=(FloatProgress(value=0.0, max=20.0), HTML(value='')))"
>>>>>>> Z0zzz-master
      ]
     },
     "metadata": {},
     "output_type": "display_data"
    },
    {
     "name": "stdout",
     "output_type": "stream",
     "text": [
      "\n",
<<<<<<< HEAD
<<<<<<< HEAD
      "epoch 69 - loss: 111.164\n"
=======
      "epoch 34 - train: 33.97 - valid: 34.395 - stale=0\n"
>>>>>>> Z0zzz-master
=======
      "epoch 34 - train: 33.97 - valid: 34.395 - stale=0\n"
>>>>>>> Z0zzz-master
     ]
    },
    {
     "data": {
      "application/vnd.jupyter.widget-view+json": {
<<<<<<< HEAD
<<<<<<< HEAD
       "model_id": "b5f634b3ff854b36b78749500c3e7164",
=======
       "model_id": "ad689b8820254009809e6bf23f9f277f",
>>>>>>> Z0zzz-master
=======
       "model_id": "ad689b8820254009809e6bf23f9f277f",
>>>>>>> Z0zzz-master
       "version_major": 2,
       "version_minor": 0
      },
      "text/plain": [
<<<<<<< HEAD
<<<<<<< HEAD
       "HBox(children=(FloatProgress(value=0.0, max=73.0), HTML(value='')))"
=======
       "HBox(children=(FloatProgress(value=0.0, max=20.0), HTML(value='')))"
>>>>>>> Z0zzz-master
=======
       "HBox(children=(FloatProgress(value=0.0, max=20.0), HTML(value='')))"
>>>>>>> Z0zzz-master
      ]
     },
     "metadata": {},
     "output_type": "display_data"
    },
    {
     "name": "stdout",
     "output_type": "stream",
     "text": [
<<<<<<< HEAD
<<<<<<< HEAD
      "\n",
      "epoch 70 - loss: 111.115\n"
=======
      "\n"
>>>>>>> Z0zzz-master
=======
      "\n"
>>>>>>> Z0zzz-master
     ]
    },
    {
     "data": {
      "application/vnd.jupyter.widget-view+json": {
<<<<<<< HEAD
<<<<<<< HEAD
       "model_id": "1b6a19e596d84de2b28afb51f9d63016",
=======
       "model_id": "19e84477818f4ef3bb8cb35237b92c9a",
>>>>>>> Z0zzz-master
=======
       "model_id": "19e84477818f4ef3bb8cb35237b92c9a",
>>>>>>> Z0zzz-master
       "version_major": 2,
       "version_minor": 0
      },
      "text/plain": [
<<<<<<< HEAD
<<<<<<< HEAD
       "HBox(children=(FloatProgress(value=0.0, max=73.0), HTML(value='')))"
=======
       "HBox(children=(FloatProgress(value=0.0, max=20.0), HTML(value='')))"
>>>>>>> Z0zzz-master
=======
       "HBox(children=(FloatProgress(value=0.0, max=20.0), HTML(value='')))"
>>>>>>> Z0zzz-master
      ]
     },
     "metadata": {},
     "output_type": "display_data"
    },
    {
     "name": "stdout",
     "output_type": "stream",
     "text": [
      "\n",
<<<<<<< HEAD
<<<<<<< HEAD
      "epoch 71 - loss: 111.063\n"
=======
      "epoch 35 - train: 33.957 - valid: 34.382 - stale=0\n"
>>>>>>> Z0zzz-master
=======
      "epoch 35 - train: 33.957 - valid: 34.382 - stale=0\n"
>>>>>>> Z0zzz-master
     ]
    },
    {
     "data": {
      "application/vnd.jupyter.widget-view+json": {
<<<<<<< HEAD
<<<<<<< HEAD
       "model_id": "0044a0cb0cb647b084ba3b5353411560",
=======
       "model_id": "2ebcc7e3349744c38c132487ece80bcd",
>>>>>>> Z0zzz-master
=======
       "model_id": "2ebcc7e3349744c38c132487ece80bcd",
>>>>>>> Z0zzz-master
       "version_major": 2,
       "version_minor": 0
      },
      "text/plain": [
<<<<<<< HEAD
<<<<<<< HEAD
       "HBox(children=(FloatProgress(value=0.0, max=73.0), HTML(value='')))"
=======
       "HBox(children=(FloatProgress(value=0.0, max=20.0), HTML(value='')))"
>>>>>>> Z0zzz-master
=======
       "HBox(children=(FloatProgress(value=0.0, max=20.0), HTML(value='')))"
>>>>>>> Z0zzz-master
      ]
     },
     "metadata": {},
     "output_type": "display_data"
    },
    {
     "name": "stdout",
     "output_type": "stream",
     "text": [
<<<<<<< HEAD
<<<<<<< HEAD
      "\n",
      "epoch 72 - loss: 111.019\n"
=======
      "\n"
>>>>>>> Z0zzz-master
=======
      "\n"
>>>>>>> Z0zzz-master
     ]
    },
    {
     "data": {
      "application/vnd.jupyter.widget-view+json": {
<<<<<<< HEAD
<<<<<<< HEAD
       "model_id": "fc5a80eb329841bf9afbb113a562ff31",
=======
       "model_id": "d6ca313e2ff94c62a8e137a8aff67a6c",
>>>>>>> Z0zzz-master
=======
       "model_id": "d6ca313e2ff94c62a8e137a8aff67a6c",
>>>>>>> Z0zzz-master
       "version_major": 2,
       "version_minor": 0
      },
      "text/plain": [
<<<<<<< HEAD
<<<<<<< HEAD
       "HBox(children=(FloatProgress(value=0.0, max=73.0), HTML(value='')))"
=======
       "HBox(children=(FloatProgress(value=0.0, max=20.0), HTML(value='')))"
>>>>>>> Z0zzz-master
=======
       "HBox(children=(FloatProgress(value=0.0, max=20.0), HTML(value='')))"
>>>>>>> Z0zzz-master
      ]
     },
     "metadata": {},
     "output_type": "display_data"
    },
    {
     "name": "stdout",
     "output_type": "stream",
     "text": [
      "\n",
<<<<<<< HEAD
<<<<<<< HEAD
      "epoch 73 - loss: 110.957\n"
=======
      "epoch 36 - train: 33.945 - valid: 34.367 - stale=0\n"
>>>>>>> Z0zzz-master
=======
      "epoch 36 - train: 33.945 - valid: 34.367 - stale=0\n"
>>>>>>> Z0zzz-master
     ]
    },
    {
     "data": {
      "application/vnd.jupyter.widget-view+json": {
<<<<<<< HEAD
<<<<<<< HEAD
       "model_id": "c2caefe4dd9c40518d3f5d71167d0634",
=======
       "model_id": "d843cc6cf489414f812a1fe92437c4c8",
>>>>>>> Z0zzz-master
=======
       "model_id": "d843cc6cf489414f812a1fe92437c4c8",
>>>>>>> Z0zzz-master
       "version_major": 2,
       "version_minor": 0
      },
      "text/plain": [
<<<<<<< HEAD
<<<<<<< HEAD
       "HBox(children=(FloatProgress(value=0.0, max=73.0), HTML(value='')))"
=======
       "HBox(children=(FloatProgress(value=0.0, max=20.0), HTML(value='')))"
>>>>>>> Z0zzz-master
=======
       "HBox(children=(FloatProgress(value=0.0, max=20.0), HTML(value='')))"
>>>>>>> Z0zzz-master
      ]
     },
     "metadata": {},
     "output_type": "display_data"
    },
    {
     "name": "stdout",
     "output_type": "stream",
     "text": [
<<<<<<< HEAD
<<<<<<< HEAD
      "\n",
      "epoch 74 - loss: 110.92\n"
=======
      "\n"
>>>>>>> Z0zzz-master
=======
      "\n"
>>>>>>> Z0zzz-master
     ]
    },
    {
     "data": {
      "application/vnd.jupyter.widget-view+json": {
<<<<<<< HEAD
<<<<<<< HEAD
       "model_id": "4ed6c26616994622bc893e8e0d2e6c8f",
=======
       "model_id": "d91c1b21f8744fddb944aee874d03458",
>>>>>>> Z0zzz-master
=======
       "model_id": "d91c1b21f8744fddb944aee874d03458",
>>>>>>> Z0zzz-master
       "version_major": 2,
       "version_minor": 0
      },
      "text/plain": [
<<<<<<< HEAD
<<<<<<< HEAD
       "HBox(children=(FloatProgress(value=0.0, max=73.0), HTML(value='')))"
=======
       "HBox(children=(FloatProgress(value=0.0, max=20.0), HTML(value='')))"
>>>>>>> Z0zzz-master
=======
       "HBox(children=(FloatProgress(value=0.0, max=20.0), HTML(value='')))"
>>>>>>> Z0zzz-master
      ]
     },
     "metadata": {},
     "output_type": "display_data"
    },
    {
     "name": "stdout",
     "output_type": "stream",
     "text": [
      "\n",
<<<<<<< HEAD
<<<<<<< HEAD
      "epoch 75 - loss: 110.871\n"
=======
      "epoch 37 - train: 33.932 - valid: 34.353 - stale=0\n"
>>>>>>> Z0zzz-master
=======
      "epoch 37 - train: 33.932 - valid: 34.353 - stale=0\n"
>>>>>>> Z0zzz-master
     ]
    },
    {
     "data": {
      "application/vnd.jupyter.widget-view+json": {
<<<<<<< HEAD
<<<<<<< HEAD
       "model_id": "442f98a6b09d430c9e11267b42db68a6",
=======
       "model_id": "90f91a61dfe840098bc85e6462268f54",
>>>>>>> Z0zzz-master
=======
       "model_id": "90f91a61dfe840098bc85e6462268f54",
>>>>>>> Z0zzz-master
       "version_major": 2,
       "version_minor": 0
      },
      "text/plain": [
<<<<<<< HEAD
<<<<<<< HEAD
       "HBox(children=(FloatProgress(value=0.0, max=73.0), HTML(value='')))"
=======
       "HBox(children=(FloatProgress(value=0.0, max=20.0), HTML(value='')))"
>>>>>>> Z0zzz-master
=======
       "HBox(children=(FloatProgress(value=0.0, max=20.0), HTML(value='')))"
>>>>>>> Z0zzz-master
      ]
     },
     "metadata": {},
     "output_type": "display_data"
    },
    {
     "name": "stdout",
     "output_type": "stream",
     "text": [
<<<<<<< HEAD
<<<<<<< HEAD
      "\n",
      "epoch 76 - loss: 110.853\n"
=======
      "\n"
>>>>>>> Z0zzz-master
=======
      "\n"
>>>>>>> Z0zzz-master
     ]
    },
    {
     "data": {
      "application/vnd.jupyter.widget-view+json": {
<<<<<<< HEAD
<<<<<<< HEAD
       "model_id": "83c013bb0aa846cbbfd581caa8dec36d",
=======
       "model_id": "7af58b6aa3b442549f55fd46a2e6e864",
>>>>>>> Z0zzz-master
=======
       "model_id": "7af58b6aa3b442549f55fd46a2e6e864",
>>>>>>> Z0zzz-master
       "version_major": 2,
       "version_minor": 0
      },
      "text/plain": [
<<<<<<< HEAD
<<<<<<< HEAD
       "HBox(children=(FloatProgress(value=0.0, max=73.0), HTML(value='')))"
=======
       "HBox(children=(FloatProgress(value=0.0, max=20.0), HTML(value='')))"
>>>>>>> Z0zzz-master
=======
       "HBox(children=(FloatProgress(value=0.0, max=20.0), HTML(value='')))"
>>>>>>> Z0zzz-master
      ]
     },
     "metadata": {},
     "output_type": "display_data"
    },
    {
     "name": "stdout",
     "output_type": "stream",
     "text": [
      "\n",
<<<<<<< HEAD
<<<<<<< HEAD
      "epoch 77 - loss: 110.808\n"
=======
      "epoch 38 - train: 33.921 - valid: 34.339 - stale=0\n"
>>>>>>> Z0zzz-master
=======
      "epoch 38 - train: 33.921 - valid: 34.339 - stale=0\n"
>>>>>>> Z0zzz-master
     ]
    },
    {
     "data": {
      "application/vnd.jupyter.widget-view+json": {
<<<<<<< HEAD
<<<<<<< HEAD
       "model_id": "8344e378775b4bce9d1143145405e26b",
=======
       "model_id": "d65a4133c0804cebb56716ed3aae55c4",
>>>>>>> Z0zzz-master
=======
       "model_id": "d65a4133c0804cebb56716ed3aae55c4",
>>>>>>> Z0zzz-master
       "version_major": 2,
       "version_minor": 0
      },
      "text/plain": [
<<<<<<< HEAD
<<<<<<< HEAD
       "HBox(children=(FloatProgress(value=0.0, max=73.0), HTML(value='')))"
=======
       "HBox(children=(FloatProgress(value=0.0, max=20.0), HTML(value='')))"
>>>>>>> Z0zzz-master
=======
       "HBox(children=(FloatProgress(value=0.0, max=20.0), HTML(value='')))"
>>>>>>> Z0zzz-master
      ]
     },
     "metadata": {},
     "output_type": "display_data"
    },
    {
     "name": "stdout",
     "output_type": "stream",
     "text": [
<<<<<<< HEAD
<<<<<<< HEAD
      "\n",
      "epoch 78 - loss: 110.781\n"
=======
      "\n"
>>>>>>> Z0zzz-master
=======
      "\n"
>>>>>>> Z0zzz-master
     ]
    },
    {
     "data": {
      "application/vnd.jupyter.widget-view+json": {
<<<<<<< HEAD
<<<<<<< HEAD
       "model_id": "10b7bfa059db4116adb9231a63e3d0ea",
=======
       "model_id": "1dffbf8e75974201972972145e62b336",
>>>>>>> Z0zzz-master
=======
       "model_id": "1dffbf8e75974201972972145e62b336",
>>>>>>> Z0zzz-master
       "version_major": 2,
       "version_minor": 0
      },
      "text/plain": [
<<<<<<< HEAD
<<<<<<< HEAD
       "HBox(children=(FloatProgress(value=0.0, max=73.0), HTML(value='')))"
=======
       "HBox(children=(FloatProgress(value=0.0, max=20.0), HTML(value='')))"
>>>>>>> Z0zzz-master
=======
       "HBox(children=(FloatProgress(value=0.0, max=20.0), HTML(value='')))"
>>>>>>> Z0zzz-master
      ]
     },
     "metadata": {},
     "output_type": "display_data"
    },
    {
     "name": "stdout",
     "output_type": "stream",
     "text": [
      "\n",
<<<<<<< HEAD
<<<<<<< HEAD
      "epoch 79 - loss: 110.755\n"
=======
      "epoch 39 - train: 33.909 - valid: 34.326 - stale=0\n"
>>>>>>> Z0zzz-master
=======
      "epoch 39 - train: 33.909 - valid: 34.326 - stale=0\n"
>>>>>>> Z0zzz-master
     ]
    },
    {
     "data": {
      "application/vnd.jupyter.widget-view+json": {
<<<<<<< HEAD
<<<<<<< HEAD
       "model_id": "60d81bb719f944e19ec81c73e77bb6d3",
=======
       "model_id": "7f3e67791fc4402b9e29f992cc9a0854",
>>>>>>> Z0zzz-master
=======
       "model_id": "7f3e67791fc4402b9e29f992cc9a0854",
>>>>>>> Z0zzz-master
       "version_major": 2,
       "version_minor": 0
      },
      "text/plain": [
<<<<<<< HEAD
<<<<<<< HEAD
       "HBox(children=(FloatProgress(value=0.0, max=73.0), HTML(value='')))"
=======
       "HBox(children=(FloatProgress(value=0.0, max=20.0), HTML(value='')))"
>>>>>>> Z0zzz-master
=======
       "HBox(children=(FloatProgress(value=0.0, max=20.0), HTML(value='')))"
>>>>>>> Z0zzz-master
      ]
     },
     "metadata": {},
     "output_type": "display_data"
    },
    {
     "name": "stdout",
     "output_type": "stream",
     "text": [
<<<<<<< HEAD
<<<<<<< HEAD
      "\n",
      "epoch 80 - loss: 110.727\n"
=======
      "\n"
>>>>>>> Z0zzz-master
=======
      "\n"
>>>>>>> Z0zzz-master
     ]
    },
    {
     "data": {
      "application/vnd.jupyter.widget-view+json": {
<<<<<<< HEAD
<<<<<<< HEAD
       "model_id": "b4f2877d036940ab8e12d0ecf48f1813",
=======
       "model_id": "058187b750034491ae606b787ee321ee",
>>>>>>> Z0zzz-master
=======
       "model_id": "058187b750034491ae606b787ee321ee",
>>>>>>> Z0zzz-master
       "version_major": 2,
       "version_minor": 0
      },
      "text/plain": [
<<<<<<< HEAD
<<<<<<< HEAD
       "HBox(children=(FloatProgress(value=0.0, max=73.0), HTML(value='')))"
=======
       "HBox(children=(FloatProgress(value=0.0, max=20.0), HTML(value='')))"
>>>>>>> Z0zzz-master
=======
       "HBox(children=(FloatProgress(value=0.0, max=20.0), HTML(value='')))"
>>>>>>> Z0zzz-master
      ]
     },
     "metadata": {},
     "output_type": "display_data"
    },
    {
     "name": "stdout",
     "output_type": "stream",
     "text": [
      "\n",
<<<<<<< HEAD
<<<<<<< HEAD
      "epoch 81 - loss: 110.689\n"
=======
      "epoch 40 - train: 33.898 - valid: 34.312 - stale=0\n"
>>>>>>> Z0zzz-master
=======
      "epoch 40 - train: 33.898 - valid: 34.312 - stale=0\n"
>>>>>>> Z0zzz-master
     ]
    },
    {
     "data": {
      "application/vnd.jupyter.widget-view+json": {
<<<<<<< HEAD
<<<<<<< HEAD
       "model_id": "284836fbb37e46d1a36eb2d8049f3c43",
=======
       "model_id": "f1ec51afe33844a6ad5e3574f999ccbd",
>>>>>>> Z0zzz-master
=======
       "model_id": "f1ec51afe33844a6ad5e3574f999ccbd",
>>>>>>> Z0zzz-master
       "version_major": 2,
       "version_minor": 0
      },
      "text/plain": [
<<<<<<< HEAD
<<<<<<< HEAD
       "HBox(children=(FloatProgress(value=0.0, max=73.0), HTML(value='')))"
=======
       "HBox(children=(FloatProgress(value=0.0, max=20.0), HTML(value='')))"
>>>>>>> Z0zzz-master
=======
       "HBox(children=(FloatProgress(value=0.0, max=20.0), HTML(value='')))"
>>>>>>> Z0zzz-master
      ]
     },
     "metadata": {},
     "output_type": "display_data"
    },
    {
     "name": "stdout",
     "output_type": "stream",
     "text": [
<<<<<<< HEAD
<<<<<<< HEAD
      "\n",
      "epoch 82 - loss: 110.676\n"
=======
      "\n"
>>>>>>> Z0zzz-master
=======
      "\n"
>>>>>>> Z0zzz-master
     ]
    },
    {
     "data": {
      "application/vnd.jupyter.widget-view+json": {
<<<<<<< HEAD
<<<<<<< HEAD
       "model_id": "ca91c9b6f38f4d9cab217d1d73202fc4",
=======
       "model_id": "96d49fe1dee14b308d3a5c0bfdbe4e20",
>>>>>>> Z0zzz-master
=======
       "model_id": "96d49fe1dee14b308d3a5c0bfdbe4e20",
>>>>>>> Z0zzz-master
       "version_major": 2,
       "version_minor": 0
      },
      "text/plain": [
<<<<<<< HEAD
<<<<<<< HEAD
       "HBox(children=(FloatProgress(value=0.0, max=73.0), HTML(value='')))"
=======
       "HBox(children=(FloatProgress(value=0.0, max=20.0), HTML(value='')))"
>>>>>>> Z0zzz-master
=======
       "HBox(children=(FloatProgress(value=0.0, max=20.0), HTML(value='')))"
>>>>>>> Z0zzz-master
      ]
     },
     "metadata": {},
     "output_type": "display_data"
    },
    {
     "name": "stdout",
     "output_type": "stream",
     "text": [
      "\n",
<<<<<<< HEAD
<<<<<<< HEAD
      "epoch 83 - loss: 110.64\n"
=======
      "epoch 41 - train: 33.886 - valid: 34.296 - stale=0\n"
>>>>>>> Z0zzz-master
=======
      "epoch 41 - train: 33.886 - valid: 34.296 - stale=0\n"
>>>>>>> Z0zzz-master
     ]
    },
    {
     "data": {
      "application/vnd.jupyter.widget-view+json": {
<<<<<<< HEAD
<<<<<<< HEAD
       "model_id": "c33e688388a44392afdfcdc5378aeb88",
=======
       "model_id": "a1ef062390044b8e8fff68fd32b84bb9",
>>>>>>> Z0zzz-master
=======
       "model_id": "a1ef062390044b8e8fff68fd32b84bb9",
>>>>>>> Z0zzz-master
       "version_major": 2,
       "version_minor": 0
      },
      "text/plain": [
<<<<<<< HEAD
<<<<<<< HEAD
       "HBox(children=(FloatProgress(value=0.0, max=73.0), HTML(value='')))"
=======
       "HBox(children=(FloatProgress(value=0.0, max=20.0), HTML(value='')))"
>>>>>>> Z0zzz-master
=======
       "HBox(children=(FloatProgress(value=0.0, max=20.0), HTML(value='')))"
>>>>>>> Z0zzz-master
      ]
     },
     "metadata": {},
     "output_type": "display_data"
    },
    {
     "name": "stdout",
     "output_type": "stream",
     "text": [
<<<<<<< HEAD
<<<<<<< HEAD
      "\n",
      "epoch 84 - loss: 110.663\n"
=======
      "\n"
>>>>>>> Z0zzz-master
=======
      "\n"
>>>>>>> Z0zzz-master
     ]
    },
    {
     "data": {
      "application/vnd.jupyter.widget-view+json": {
<<<<<<< HEAD
<<<<<<< HEAD
       "model_id": "3086e8c513444a9abc856817707e39cb",
=======
       "model_id": "4240faf8606f4d088fe24dd3466ad0a3",
>>>>>>> Z0zzz-master
=======
       "model_id": "4240faf8606f4d088fe24dd3466ad0a3",
>>>>>>> Z0zzz-master
       "version_major": 2,
       "version_minor": 0
      },
      "text/plain": [
<<<<<<< HEAD
<<<<<<< HEAD
       "HBox(children=(FloatProgress(value=0.0, max=73.0), HTML(value='')))"
=======
       "HBox(children=(FloatProgress(value=0.0, max=20.0), HTML(value='')))"
>>>>>>> Z0zzz-master
=======
       "HBox(children=(FloatProgress(value=0.0, max=20.0), HTML(value='')))"
>>>>>>> Z0zzz-master
      ]
     },
     "metadata": {},
     "output_type": "display_data"
    },
    {
     "name": "stdout",
     "output_type": "stream",
     "text": [
      "\n",
<<<<<<< HEAD
<<<<<<< HEAD
      "epoch 85 - loss: 110.628\n"
=======
      "epoch 42 - train: 33.874 - valid: 34.281 - stale=0\n"
>>>>>>> Z0zzz-master
=======
      "epoch 42 - train: 33.874 - valid: 34.281 - stale=0\n"
>>>>>>> Z0zzz-master
     ]
    },
    {
     "data": {
      "application/vnd.jupyter.widget-view+json": {
<<<<<<< HEAD
<<<<<<< HEAD
       "model_id": "084eaf4f0c514592b75c71a0d684907f",
=======
       "model_id": "e859e0d59980416abea5f08b01b2b611",
>>>>>>> Z0zzz-master
=======
       "model_id": "e859e0d59980416abea5f08b01b2b611",
>>>>>>> Z0zzz-master
       "version_major": 2,
       "version_minor": 0
      },
      "text/plain": [
<<<<<<< HEAD
<<<<<<< HEAD
       "HBox(children=(FloatProgress(value=0.0, max=73.0), HTML(value='')))"
=======
       "HBox(children=(FloatProgress(value=0.0, max=20.0), HTML(value='')))"
>>>>>>> Z0zzz-master
=======
       "HBox(children=(FloatProgress(value=0.0, max=20.0), HTML(value='')))"
>>>>>>> Z0zzz-master
      ]
     },
     "metadata": {},
     "output_type": "display_data"
    },
    {
     "name": "stdout",
     "output_type": "stream",
     "text": [
<<<<<<< HEAD
<<<<<<< HEAD
      "\n",
      "epoch 86 - loss: 110.641\n"
=======
      "\n"
>>>>>>> Z0zzz-master
=======
      "\n"
>>>>>>> Z0zzz-master
     ]
    },
    {
     "data": {
      "application/vnd.jupyter.widget-view+json": {
<<<<<<< HEAD
<<<<<<< HEAD
       "model_id": "f1e2c5cad6ad4ef5afcf32fe6affafda",
=======
       "model_id": "b84184aaaafe48c4b5fcfcfe733de132",
>>>>>>> Z0zzz-master
=======
       "model_id": "b84184aaaafe48c4b5fcfcfe733de132",
>>>>>>> Z0zzz-master
       "version_major": 2,
       "version_minor": 0
      },
      "text/plain": [
<<<<<<< HEAD
<<<<<<< HEAD
       "HBox(children=(FloatProgress(value=0.0, max=73.0), HTML(value='')))"
=======
       "HBox(children=(FloatProgress(value=0.0, max=20.0), HTML(value='')))"
>>>>>>> Z0zzz-master
=======
       "HBox(children=(FloatProgress(value=0.0, max=20.0), HTML(value='')))"
>>>>>>> Z0zzz-master
      ]
     },
     "metadata": {},
     "output_type": "display_data"
    },
    {
     "name": "stdout",
     "output_type": "stream",
     "text": [
      "\n",
<<<<<<< HEAD
<<<<<<< HEAD
      "epoch 87 - loss: 110.625\n"
=======
      "epoch 43 - train: 33.863 - valid: 34.262 - stale=0\n"
>>>>>>> Z0zzz-master
=======
      "epoch 43 - train: 33.863 - valid: 34.262 - stale=0\n"
>>>>>>> Z0zzz-master
     ]
    },
    {
     "data": {
      "application/vnd.jupyter.widget-view+json": {
<<<<<<< HEAD
<<<<<<< HEAD
       "model_id": "d3393f121eb54ecf861cbaa1257ebc87",
=======
       "model_id": "9b17518f0e274a0d9a80aa48271d8cd9",
>>>>>>> Z0zzz-master
=======
       "model_id": "9b17518f0e274a0d9a80aa48271d8cd9",
>>>>>>> Z0zzz-master
       "version_major": 2,
       "version_minor": 0
      },
      "text/plain": [
<<<<<<< HEAD
<<<<<<< HEAD
       "HBox(children=(FloatProgress(value=0.0, max=73.0), HTML(value='')))"
=======
       "HBox(children=(FloatProgress(value=0.0, max=20.0), HTML(value='')))"
>>>>>>> Z0zzz-master
=======
       "HBox(children=(FloatProgress(value=0.0, max=20.0), HTML(value='')))"
>>>>>>> Z0zzz-master
      ]
     },
     "metadata": {},
     "output_type": "display_data"
    },
    {
     "name": "stdout",
     "output_type": "stream",
     "text": [
<<<<<<< HEAD
<<<<<<< HEAD
      "\n",
      "epoch 88 - loss: 110.634\n"
=======
      "\n"
>>>>>>> Z0zzz-master
=======
      "\n"
>>>>>>> Z0zzz-master
     ]
    },
    {
     "data": {
      "application/vnd.jupyter.widget-view+json": {
<<<<<<< HEAD
<<<<<<< HEAD
       "model_id": "424fbbe958314635a3f12b5217ee398d",
=======
       "model_id": "527359a32a9547e8bb56481e8fe349bb",
>>>>>>> Z0zzz-master
=======
       "model_id": "527359a32a9547e8bb56481e8fe349bb",
>>>>>>> Z0zzz-master
       "version_major": 2,
       "version_minor": 0
      },
      "text/plain": [
<<<<<<< HEAD
<<<<<<< HEAD
       "HBox(children=(FloatProgress(value=0.0, max=73.0), HTML(value='')))"
=======
       "HBox(children=(FloatProgress(value=0.0, max=20.0), HTML(value='')))"
>>>>>>> Z0zzz-master
=======
       "HBox(children=(FloatProgress(value=0.0, max=20.0), HTML(value='')))"
>>>>>>> Z0zzz-master
      ]
     },
     "metadata": {},
     "output_type": "display_data"
    },
    {
     "name": "stdout",
     "output_type": "stream",
     "text": [
      "\n",
<<<<<<< HEAD
<<<<<<< HEAD
      "epoch 89 - loss: 110.645\n"
=======
      "epoch 44 - train: 33.851 - valid: 34.248 - stale=0\n"
>>>>>>> Z0zzz-master
=======
      "epoch 44 - train: 33.851 - valid: 34.248 - stale=0\n"
>>>>>>> Z0zzz-master
     ]
    },
    {
     "data": {
      "application/vnd.jupyter.widget-view+json": {
<<<<<<< HEAD
<<<<<<< HEAD
       "model_id": "224e9357242c4a29b4be8a13d670f372",
=======
       "model_id": "b69677c6d96b425ab3aca29d08386c59",
>>>>>>> Z0zzz-master
=======
       "model_id": "b69677c6d96b425ab3aca29d08386c59",
>>>>>>> Z0zzz-master
       "version_major": 2,
       "version_minor": 0
      },
      "text/plain": [
<<<<<<< HEAD
<<<<<<< HEAD
       "HBox(children=(FloatProgress(value=0.0, max=73.0), HTML(value='')))"
=======
       "HBox(children=(FloatProgress(value=0.0, max=20.0), HTML(value='')))"
>>>>>>> Z0zzz-master
=======
       "HBox(children=(FloatProgress(value=0.0, max=20.0), HTML(value='')))"
>>>>>>> Z0zzz-master
      ]
     },
     "metadata": {},
     "output_type": "display_data"
    },
    {
     "name": "stdout",
     "output_type": "stream",
     "text": [
<<<<<<< HEAD
<<<<<<< HEAD
      "\n",
      "epoch 90 - loss: 110.67\n"
=======
      "\n"
>>>>>>> Z0zzz-master
=======
      "\n"
>>>>>>> Z0zzz-master
     ]
    },
    {
     "data": {
      "application/vnd.jupyter.widget-view+json": {
<<<<<<< HEAD
<<<<<<< HEAD
       "model_id": "2ebe9cb0700c40f18858dcab3fadd290",
=======
       "model_id": "31cef7f3d0474c0ba10262f2e9a8a278",
>>>>>>> Z0zzz-master
=======
       "model_id": "31cef7f3d0474c0ba10262f2e9a8a278",
>>>>>>> Z0zzz-master
       "version_major": 2,
       "version_minor": 0
      },
      "text/plain": [
<<<<<<< HEAD
<<<<<<< HEAD
       "HBox(children=(FloatProgress(value=0.0, max=73.0), HTML(value='')))"
=======
       "HBox(children=(FloatProgress(value=0.0, max=20.0), HTML(value='')))"
>>>>>>> Z0zzz-master
=======
       "HBox(children=(FloatProgress(value=0.0, max=20.0), HTML(value='')))"
>>>>>>> Z0zzz-master
      ]
     },
     "metadata": {},
     "output_type": "display_data"
    },
    {
     "name": "stdout",
     "output_type": "stream",
     "text": [
      "\n",
<<<<<<< HEAD
<<<<<<< HEAD
      "epoch 91 - loss: 110.704\n"
=======
      "epoch 45 - train: 33.84 - valid: 34.234 - stale=0\n"
>>>>>>> Z0zzz-master
=======
      "epoch 45 - train: 33.84 - valid: 34.234 - stale=0\n"
>>>>>>> Z0zzz-master
     ]
    },
    {
     "data": {
      "application/vnd.jupyter.widget-view+json": {
<<<<<<< HEAD
<<<<<<< HEAD
       "model_id": "80be4413d642419b9587e4510985f729",
=======
       "model_id": "8854741c38614f2496d216b16fc44049",
>>>>>>> Z0zzz-master
=======
       "model_id": "8854741c38614f2496d216b16fc44049",
>>>>>>> Z0zzz-master
       "version_major": 2,
       "version_minor": 0
      },
      "text/plain": [
<<<<<<< HEAD
<<<<<<< HEAD
       "HBox(children=(FloatProgress(value=0.0, max=73.0), HTML(value='')))"
=======
       "HBox(children=(FloatProgress(value=0.0, max=20.0), HTML(value='')))"
>>>>>>> Z0zzz-master
=======
       "HBox(children=(FloatProgress(value=0.0, max=20.0), HTML(value='')))"
>>>>>>> Z0zzz-master
      ]
     },
     "metadata": {},
     "output_type": "display_data"
    },
    {
     "name": "stdout",
     "output_type": "stream",
     "text": [
<<<<<<< HEAD
<<<<<<< HEAD
      "\n",
      "epoch 92 - loss: 110.694\n"
=======
      "\n"
>>>>>>> Z0zzz-master
=======
      "\n"
>>>>>>> Z0zzz-master
     ]
    },
    {
     "data": {
      "application/vnd.jupyter.widget-view+json": {
<<<<<<< HEAD
<<<<<<< HEAD
       "model_id": "0f244db8fbbc49268097233bd3fe5584",
=======
       "model_id": "a61b2509c1594f689ec91a854b63b553",
>>>>>>> Z0zzz-master
=======
       "model_id": "a61b2509c1594f689ec91a854b63b553",
>>>>>>> Z0zzz-master
       "version_major": 2,
       "version_minor": 0
      },
      "text/plain": [
<<<<<<< HEAD
<<<<<<< HEAD
       "HBox(children=(FloatProgress(value=0.0, max=73.0), HTML(value='')))"
=======
       "HBox(children=(FloatProgress(value=0.0, max=20.0), HTML(value='')))"
>>>>>>> Z0zzz-master
=======
       "HBox(children=(FloatProgress(value=0.0, max=20.0), HTML(value='')))"
>>>>>>> Z0zzz-master
      ]
     },
     "metadata": {},
     "output_type": "display_data"
    },
    {
     "name": "stdout",
     "output_type": "stream",
     "text": [
      "\n",
<<<<<<< HEAD
<<<<<<< HEAD
      "epoch 93 - loss: 110.733\n"
=======
      "epoch 46 - train: 33.83 - valid: 34.22 - stale=0\n"
>>>>>>> Z0zzz-master
=======
      "epoch 46 - train: 33.83 - valid: 34.22 - stale=0\n"
>>>>>>> Z0zzz-master
     ]
    },
    {
     "data": {
      "application/vnd.jupyter.widget-view+json": {
<<<<<<< HEAD
<<<<<<< HEAD
       "model_id": "f0264979ba844b9889339d0523f1781a",
=======
       "model_id": "cd7450f6a757447a9a8357002a2c1a73",
>>>>>>> Z0zzz-master
=======
       "model_id": "cd7450f6a757447a9a8357002a2c1a73",
>>>>>>> Z0zzz-master
       "version_major": 2,
       "version_minor": 0
      },
      "text/plain": [
<<<<<<< HEAD
<<<<<<< HEAD
       "HBox(children=(FloatProgress(value=0.0, max=73.0), HTML(value='')))"
=======
       "HBox(children=(FloatProgress(value=0.0, max=20.0), HTML(value='')))"
>>>>>>> Z0zzz-master
=======
       "HBox(children=(FloatProgress(value=0.0, max=20.0), HTML(value='')))"
>>>>>>> Z0zzz-master
      ]
     },
     "metadata": {},
     "output_type": "display_data"
    },
    {
     "name": "stdout",
     "output_type": "stream",
     "text": [
<<<<<<< HEAD
<<<<<<< HEAD
      "\n",
      "epoch 94 - loss: 110.704\n"
=======
      "\n"
>>>>>>> Z0zzz-master
=======
      "\n"
>>>>>>> Z0zzz-master
     ]
    },
    {
     "data": {
      "application/vnd.jupyter.widget-view+json": {
<<<<<<< HEAD
<<<<<<< HEAD
       "model_id": "384cb6f681fb49ac8e63cd9049b5fadc",
=======
       "model_id": "838d2c3b81f64d33a2e20889c236574a",
>>>>>>> Z0zzz-master
=======
       "model_id": "838d2c3b81f64d33a2e20889c236574a",
>>>>>>> Z0zzz-master
       "version_major": 2,
       "version_minor": 0
      },
      "text/plain": [
<<<<<<< HEAD
<<<<<<< HEAD
       "HBox(children=(FloatProgress(value=0.0, max=73.0), HTML(value='')))"
=======
       "HBox(children=(FloatProgress(value=0.0, max=20.0), HTML(value='')))"
>>>>>>> Z0zzz-master
=======
       "HBox(children=(FloatProgress(value=0.0, max=20.0), HTML(value='')))"
>>>>>>> Z0zzz-master
      ]
     },
     "metadata": {},
     "output_type": "display_data"
    },
    {
     "name": "stdout",
     "output_type": "stream",
     "text": [
      "\n",
<<<<<<< HEAD
<<<<<<< HEAD
      "epoch 95 - loss: 110.725\n"
=======
      "epoch 47 - train: 33.819 - valid: 34.207 - stale=0\n"
>>>>>>> Z0zzz-master
=======
      "epoch 47 - train: 33.819 - valid: 34.207 - stale=0\n"
>>>>>>> Z0zzz-master
     ]
    },
    {
     "data": {
      "application/vnd.jupyter.widget-view+json": {
<<<<<<< HEAD
<<<<<<< HEAD
       "model_id": "6e7b18e444a143e1ac09d606acdd0ea6",
=======
       "model_id": "60253bb555c845bda909277b90bc109a",
>>>>>>> Z0zzz-master
=======
       "model_id": "60253bb555c845bda909277b90bc109a",
>>>>>>> Z0zzz-master
       "version_major": 2,
       "version_minor": 0
      },
      "text/plain": [
<<<<<<< HEAD
<<<<<<< HEAD
       "HBox(children=(FloatProgress(value=0.0, max=73.0), HTML(value='')))"
=======
=======
>>>>>>> Z0zzz-master
       "HBox(children=(FloatProgress(value=0.0, max=20.0), HTML(value='')))"
      ]
     },
     "metadata": {},
     "output_type": "display_data"
    },
    {
     "name": "stdout",
     "output_type": "stream",
     "text": [
      "\n"
     ]
    },
    {
     "data": {
      "application/vnd.jupyter.widget-view+json": {
       "model_id": "6c1f7dde0f004483b15f302b0a6af6e8",
       "version_major": 2,
       "version_minor": 0
      },
      "text/plain": [
       "HBox(children=(FloatProgress(value=0.0, max=20.0), HTML(value='')))"
<<<<<<< HEAD
>>>>>>> Z0zzz-master
=======
>>>>>>> Z0zzz-master
      ]
     },
     "metadata": {},
     "output_type": "display_data"
    },
    {
     "name": "stdout",
     "output_type": "stream",
     "text": [
      "\n",
<<<<<<< HEAD
<<<<<<< HEAD
      "epoch 96 - loss: 110.692\n"
=======
=======
>>>>>>> Z0zzz-master
      "epoch 48 - train: 33.809 - valid: 34.194 - stale=0\n"
     ]
    },
    {
     "data": {
      "application/vnd.jupyter.widget-view+json": {
       "model_id": "fab2d9c7939245d08512b59d3712098b",
       "version_major": 2,
       "version_minor": 0
      },
      "text/plain": [
       "HBox(children=(FloatProgress(value=0.0, max=20.0), HTML(value='')))"
      ]
     },
     "metadata": {},
     "output_type": "display_data"
    },
    {
     "name": "stdout",
     "output_type": "stream",
     "text": [
      "\n"
<<<<<<< HEAD
>>>>>>> Z0zzz-master
=======
>>>>>>> Z0zzz-master
     ]
    },
    {
     "data": {
      "application/vnd.jupyter.widget-view+json": {
<<<<<<< HEAD
<<<<<<< HEAD
       "model_id": "653a886a1607468abab1f104832332ab",
=======
       "model_id": "23bd47ac8db84ac885c5b885809c26cc",
>>>>>>> Z0zzz-master
=======
       "model_id": "23bd47ac8db84ac885c5b885809c26cc",
>>>>>>> Z0zzz-master
       "version_major": 2,
       "version_minor": 0
      },
      "text/plain": [
<<<<<<< HEAD
<<<<<<< HEAD
       "HBox(children=(FloatProgress(value=0.0, max=73.0), HTML(value='')))"
=======
       "HBox(children=(FloatProgress(value=0.0, max=20.0), HTML(value='')))"
>>>>>>> Z0zzz-master
=======
       "HBox(children=(FloatProgress(value=0.0, max=20.0), HTML(value='')))"
>>>>>>> Z0zzz-master
      ]
     },
     "metadata": {},
     "output_type": "display_data"
    },
    {
     "name": "stdout",
     "output_type": "stream",
     "text": [
      "\n",
<<<<<<< HEAD
<<<<<<< HEAD
      "epoch 97 - loss: 110.696\n"
=======
=======
>>>>>>> Z0zzz-master
      "epoch 49 - train: 33.8 - valid: 34.181 - stale=0\n"
     ]
    },
    {
     "data": {
      "application/vnd.jupyter.widget-view+json": {
       "model_id": "5e3834872f9e42d48a2f80c4422473a1",
       "version_major": 2,
       "version_minor": 0
      },
      "text/plain": [
       "HBox(children=(FloatProgress(value=0.0, max=20.0), HTML(value='')))"
      ]
     },
     "metadata": {},
     "output_type": "display_data"
    },
    {
     "name": "stdout",
     "output_type": "stream",
     "text": [
      "\n"
<<<<<<< HEAD
>>>>>>> Z0zzz-master
=======
>>>>>>> Z0zzz-master
     ]
    },
    {
     "data": {
      "application/vnd.jupyter.widget-view+json": {
<<<<<<< HEAD
<<<<<<< HEAD
       "model_id": "68ed88d38ca04b7f9efb11975596ec72",
=======
       "model_id": "71c875be116c46c78ee674cb2fe8c696",
>>>>>>> Z0zzz-master
=======
       "model_id": "71c875be116c46c78ee674cb2fe8c696",
>>>>>>> Z0zzz-master
       "version_major": 2,
       "version_minor": 0
      },
      "text/plain": [
<<<<<<< HEAD
<<<<<<< HEAD
       "HBox(children=(FloatProgress(value=0.0, max=73.0), HTML(value='')))"
=======
       "HBox(children=(FloatProgress(value=0.0, max=20.0), HTML(value='')))"
>>>>>>> Z0zzz-master
=======
       "HBox(children=(FloatProgress(value=0.0, max=20.0), HTML(value='')))"
>>>>>>> Z0zzz-master
      ]
     },
     "metadata": {},
     "output_type": "display_data"
    },
    {
     "name": "stdout",
     "output_type": "stream",
     "text": [
      "\n",
<<<<<<< HEAD
<<<<<<< HEAD
      "epoch 98 - loss: 110.637\n"
=======
=======
>>>>>>> Z0zzz-master
      "epoch 50 - train: 33.791 - valid: 34.168 - stale=0\n"
     ]
    },
    {
     "data": {
      "application/vnd.jupyter.widget-view+json": {
       "model_id": "37885d6714f2460a821afbd6e171acea",
       "version_major": 2,
       "version_minor": 0
      },
      "text/plain": [
       "HBox(children=(FloatProgress(value=0.0, max=20.0), HTML(value='')))"
      ]
     },
     "metadata": {},
     "output_type": "display_data"
    },
    {
     "name": "stdout",
     "output_type": "stream",
     "text": [
      "\n"
<<<<<<< HEAD
>>>>>>> Z0zzz-master
=======
>>>>>>> Z0zzz-master
     ]
    },
    {
     "data": {
      "application/vnd.jupyter.widget-view+json": {
<<<<<<< HEAD
<<<<<<< HEAD
       "model_id": "909e5b496b424452b7b0577771ac84a4",
=======
       "model_id": "9aa92ad83b4548e4aa446ae5018ff255",
>>>>>>> Z0zzz-master
=======
       "model_id": "9aa92ad83b4548e4aa446ae5018ff255",
>>>>>>> Z0zzz-master
       "version_major": 2,
       "version_minor": 0
      },
      "text/plain": [
<<<<<<< HEAD
<<<<<<< HEAD
       "HBox(children=(FloatProgress(value=0.0, max=73.0), HTML(value='')))"
=======
       "HBox(children=(FloatProgress(value=0.0, max=20.0), HTML(value='')))"
>>>>>>> Z0zzz-master
=======
       "HBox(children=(FloatProgress(value=0.0, max=20.0), HTML(value='')))"
>>>>>>> Z0zzz-master
      ]
     },
     "metadata": {},
     "output_type": "display_data"
    },
    {
     "name": "stdout",
     "output_type": "stream",
     "text": [
      "\n",
<<<<<<< HEAD
<<<<<<< HEAD
      "epoch 99 - loss: 110.612\n",
      "\n"
     ]
    }
   ],
   "source": [
    "batch_size = 100\n",
    "lr = 1e-3\n",
    "encoder = Encoder(embedding_dim=34)\n",
    "decoder = Decoder(embedding_dim=34)\n",
    "# losses_train, losses_valid = train_VICreg(encoder, decoder, data, batch_size, lr, epochs=10)\n",
    "losses_train = train_VICreg(encoder, decoder, data, batch_size, lr, epochs=100)"
   ]
  },
  {
   "cell_type": "code",
   "execution_count": 238,
   "metadata": {},
   "outputs": [
    {
     "name": "stderr",
     "output_type": "stream",
     "text": [
      "No artists with labels found to put in legend.  Note that artists whose label start with an underscore are ignored when legend() is called with no argument.\n"
=======
=======
>>>>>>> Z0zzz-master
      "epoch 51 - train: 33.782 - valid: 34.153 - stale=0\n"
     ]
    },
    {
     "data": {
      "application/vnd.jupyter.widget-view+json": {
       "model_id": "8d076b90b5534f128865b84ec09b1ceb",
       "version_major": 2,
       "version_minor": 0
      },
      "text/plain": [
       "HBox(children=(FloatProgress(value=0.0, max=20.0), HTML(value='')))"
      ]
     },
     "metadata": {},
     "output_type": "display_data"
    },
    {
     "name": "stdout",
     "output_type": "stream",
     "text": [
      "\n"
     ]
    },
    {
     "data": {
      "application/vnd.jupyter.widget-view+json": {
       "model_id": "66b86eb49d294cf09f8c2dee584f0a7a",
       "version_major": 2,
       "version_minor": 0
      },
      "text/plain": [
       "HBox(children=(FloatProgress(value=0.0, max=20.0), HTML(value='')))"
      ]
     },
     "metadata": {},
     "output_type": "display_data"
    },
    {
     "name": "stdout",
     "output_type": "stream",
     "text": [
      "\n",
      "epoch 52 - train: 33.772 - valid: 34.14 - stale=0\n"
<<<<<<< HEAD
>>>>>>> Z0zzz-master
=======
>>>>>>> Z0zzz-master
     ]
    },
    {
     "data": {
<<<<<<< HEAD
<<<<<<< HEAD
      "image/png": "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\n",
      "text/plain": [
       "<Figure size 576x432 with 1 Axes>"
      ]
     },
     "metadata": {
      "needs_background": "light"
     },
     "output_type": "display_data"
    }
   ],
   "source": [
    "fig, ax = plt.subplots(figsize=(8,6))\n",
    "ax.plot(range(len(losses_train[1:])), losses_train[1:])#, label=\"training\")\n",
    "# ax.plot(range(len(losses_valid[1:])), losses_valid[1:], label=\"validation\")\n",
    "ax.set_xlabel(\"Epochs\", fontsize=15)\n",
    "ax.set_ylabel(\"Loss\", fontsize=15)\n",
    "ax.legend(title='VICreg', loc=\"best\", title_fontsize=20, fontsize=15);"
   ]
  },
  {
   "cell_type": "markdown",
   "metadata": {},
   "source": [
    "# Train MLPF"
   ]
  },
  {
   "cell_type": "code",
   "execution_count": 221,
   "metadata": {},
   "outputs": [],
   "source": [
    "class MLPF(nn.Module):\n",
    "    def __init__(\n",
    "        self,\n",
    "        input_dim=7,\n",
    "        num_classes=6,\n",
    "        num_convs=2,\n",
    "        k=8,\n",
    "    ):\n",
    "        super(MLPF, self).__init__()\n",
    "\n",
    "        # self.act = nn.ReLU\n",
    "        self.act = nn.ELU\n",
    "\n",
    "        self.conv = nn.ModuleList()\n",
    "        for i in range(num_convs):\n",
    "            self.conv.append(GravNetConv(input_dim, input_dim, \n",
    "                                         space_dimensions=4, \n",
    "                                         propagate_dimensions=22, \n",
    "                                         k=k))\n",
    "\n",
    "        # classifiying pid\n",
    "        self.nn = nn.Sequential(\n",
    "            nn.Linear(input_dim, 126),\n",
    "            self.act(),\n",
    "            nn.Linear(126, 126),\n",
    "            self.act(),\n",
    "            nn.Linear(126, num_classes),\n",
    "        )\n",
    "\n",
    "\n",
    "    def forward(self, batch):\n",
    "\n",
    "        # unfold the Batch object\n",
    "        input_ = batch.x.float()\n",
    "        batch = batch.batch\n",
    "\n",
    "        # perform a series of graph convolutions\n",
    "        for num, conv in enumerate(self.conv):\n",
    "            embedding = conv(input_, batch)\n",
    "\n",
    "        # predict the pid's\n",
    "        preds_id = self.nn(embedding)\n",
    "\n",
    "        return preds_id"
   ]
  },
  {
   "cell_type": "code",
   "execution_count": 222,
   "metadata": {},
   "outputs": [],
   "source": [
    "# combine the learned latent representations back into one Batch() object that will be the input to MLPF\n",
    "def combine_PFelements(tracks, clusters):\n",
    "    \n",
    "    event = Batch(x = torch.cat([tracks.x, clusters.x]),\n",
    "                  ygen = torch.cat([tracks.ygen, clusters.ygen]),\n",
    "                  ygen_id = torch.cat([tracks.ygen_id, clusters.ygen_id]),\n",
    "                  ycand = torch.cat([tracks.ycand, clusters.ycand]),\n",
    "                  ycand_id = torch.cat([tracks.ycand_id, clusters.ycand_id]),\n",
    "                  batch = torch.cat([tracks.batch, clusters.batch]),\n",
    "                 )\n",
    "    \n",
    "    return event"
   ]
  },
  {
   "cell_type": "code",
   "execution_count": 223,
   "metadata": {},
   "outputs": [],
   "source": [
    "def compute_weights(target_ids, num_classes):\n",
    "    \"\"\"\n",
    "    computes necessary weights to accomodate class imbalance in the loss function\n",
    "    \"\"\"\n",
    "\n",
    "    vs, cs = torch.unique(target_ids, return_counts=True)\n",
    "    weights = torch.zeros(num_classes)\n",
    "    for k, v in zip(vs, cs):\n",
    "        weights[k] = 1.0 / math.sqrt(float(v))\n",
    "    # weights[2] = weights[2] * 3  # emphasize nhadrons\n",
    "    return weights\n",
    "\n",
    "def train_mlpf(data, batch_size, model, with_VICreg, epochs):\n",
    "        \n",
    "    data_train = data[:1000]\n",
    "    data_val = data[4000:5000]\n",
    "    data_test = data[5000:]\n",
    "\n",
    "    train_loader = torch_geometric.loader.DataLoader(data_train, batch_size)\n",
=======
=======
>>>>>>> Z0zzz-master
      "application/vnd.jupyter.widget-view+json": {
       "model_id": "e68059ad34c64975ad6faf13ea17dcc3",
       "version_major": 2,
       "version_minor": 0
      },
      "text/plain": [
       "HBox(children=(FloatProgress(value=0.0, max=20.0), HTML(value='')))"
      ]
     },
     "metadata": {},
     "output_type": "display_data"
    },
    {
     "name": "stdout",
     "output_type": "stream",
     "text": [
      "\n"
     ]
    },
    {
     "data": {
      "application/vnd.jupyter.widget-view+json": {
       "model_id": "80cc9c57f9324d4ead3e84672c838510",
       "version_major": 2,
       "version_minor": 0
      },
      "text/plain": [
       "HBox(children=(FloatProgress(value=0.0, max=20.0), HTML(value='')))"
      ]
     },
     "metadata": {},
     "output_type": "display_data"
    },
    {
     "name": "stdout",
     "output_type": "stream",
     "text": [
      "\n",
      "epoch 53 - train: 33.764 - valid: 34.127 - stale=0\n"
     ]
    },
    {
     "data": {
      "application/vnd.jupyter.widget-view+json": {
       "model_id": "a04a64ef66564d7ab4824a69e7d49df1",
       "version_major": 2,
       "version_minor": 0
      },
      "text/plain": [
       "HBox(children=(FloatProgress(value=0.0, max=20.0), HTML(value='')))"
      ]
     },
     "metadata": {},
     "output_type": "display_data"
    },
    {
     "name": "stdout",
     "output_type": "stream",
     "text": [
      "\n"
     ]
    },
    {
     "data": {
      "application/vnd.jupyter.widget-view+json": {
       "model_id": "0575a76ba3124f2b98ef54570ed49313",
       "version_major": 2,
       "version_minor": 0
      },
      "text/plain": [
       "HBox(children=(FloatProgress(value=0.0, max=20.0), HTML(value='')))"
      ]
     },
     "metadata": {},
     "output_type": "display_data"
    },
    {
     "name": "stdout",
     "output_type": "stream",
     "text": [
      "\n",
      "epoch 54 - train: 33.754 - valid: 34.114 - stale=0\n"
     ]
    },
    {
     "data": {
      "application/vnd.jupyter.widget-view+json": {
       "model_id": "f4ced83d16024856af4d44061fd29273",
       "version_major": 2,
       "version_minor": 0
      },
      "text/plain": [
       "HBox(children=(FloatProgress(value=0.0, max=20.0), HTML(value='')))"
      ]
     },
     "metadata": {},
     "output_type": "display_data"
    },
    {
     "name": "stdout",
     "output_type": "stream",
     "text": [
      "\n"
     ]
    },
    {
     "data": {
      "application/vnd.jupyter.widget-view+json": {
       "model_id": "620d80e4d73d40d8997508f431ae902e",
       "version_major": 2,
       "version_minor": 0
      },
      "text/plain": [
       "HBox(children=(FloatProgress(value=0.0, max=20.0), HTML(value='')))"
      ]
     },
     "metadata": {},
     "output_type": "display_data"
    },
    {
     "name": "stdout",
     "output_type": "stream",
     "text": [
      "\n",
      "epoch 55 - train: 33.745 - valid: 34.101 - stale=0\n"
     ]
    },
    {
     "data": {
      "application/vnd.jupyter.widget-view+json": {
       "model_id": "8a0dddb4164644d28eef3594475d7c94",
       "version_major": 2,
       "version_minor": 0
      },
      "text/plain": [
       "HBox(children=(FloatProgress(value=0.0, max=20.0), HTML(value='')))"
      ]
     },
     "metadata": {},
     "output_type": "display_data"
    },
    {
     "name": "stdout",
     "output_type": "stream",
     "text": [
      "\n"
     ]
    },
    {
     "data": {
      "application/vnd.jupyter.widget-view+json": {
       "model_id": "aba841d63b174a1bbf3f3d28a26fd82c",
       "version_major": 2,
       "version_minor": 0
      },
      "text/plain": [
       "HBox(children=(FloatProgress(value=0.0, max=20.0), HTML(value='')))"
      ]
     },
     "metadata": {},
     "output_type": "display_data"
    },
    {
     "name": "stdout",
     "output_type": "stream",
     "text": [
      "\n",
      "epoch 56 - train: 33.737 - valid: 34.09 - stale=0\n"
     ]
    },
    {
     "data": {
      "application/vnd.jupyter.widget-view+json": {
       "model_id": "6c29cbebfb7b4a3989022641525cd9c5",
       "version_major": 2,
       "version_minor": 0
      },
      "text/plain": [
       "HBox(children=(FloatProgress(value=0.0, max=20.0), HTML(value='')))"
      ]
     },
     "metadata": {},
     "output_type": "display_data"
    },
    {
     "name": "stdout",
     "output_type": "stream",
     "text": [
      "\n"
     ]
    },
    {
     "data": {
      "application/vnd.jupyter.widget-view+json": {
       "model_id": "aa7a2492867f433897dbcfd7be8bbce5",
       "version_major": 2,
       "version_minor": 0
      },
      "text/plain": [
       "HBox(children=(FloatProgress(value=0.0, max=20.0), HTML(value='')))"
      ]
     },
     "metadata": {},
     "output_type": "display_data"
    },
    {
     "name": "stdout",
     "output_type": "stream",
     "text": [
      "\n",
      "epoch 57 - train: 33.728 - valid: 34.077 - stale=0\n"
     ]
    },
    {
     "data": {
      "application/vnd.jupyter.widget-view+json": {
       "model_id": "dacf3b9f574d4e85aaeaa1c6cdba4de7",
       "version_major": 2,
       "version_minor": 0
      },
      "text/plain": [
       "HBox(children=(FloatProgress(value=0.0, max=20.0), HTML(value='')))"
      ]
     },
     "metadata": {},
     "output_type": "display_data"
    },
    {
     "name": "stdout",
     "output_type": "stream",
     "text": [
      "\n"
     ]
    },
    {
     "data": {
      "application/vnd.jupyter.widget-view+json": {
       "model_id": "33eec3391397467a991bc51cc08c6d83",
       "version_major": 2,
       "version_minor": 0
      },
      "text/plain": [
       "HBox(children=(FloatProgress(value=0.0, max=20.0), HTML(value='')))"
      ]
     },
     "metadata": {},
     "output_type": "display_data"
    },
    {
     "name": "stdout",
     "output_type": "stream",
     "text": [
      "\n",
      "epoch 58 - train: 33.719 - valid: 34.065 - stale=0\n"
     ]
    },
    {
     "data": {
      "application/vnd.jupyter.widget-view+json": {
       "model_id": "f9c9b869465d402f8944c25fef90a38d",
       "version_major": 2,
       "version_minor": 0
      },
      "text/plain": [
       "HBox(children=(FloatProgress(value=0.0, max=20.0), HTML(value='')))"
      ]
     },
     "metadata": {},
     "output_type": "display_data"
    },
    {
     "name": "stdout",
     "output_type": "stream",
     "text": [
      "\n"
     ]
    },
    {
     "data": {
      "application/vnd.jupyter.widget-view+json": {
       "model_id": "44a1f8f2f7ce4be6874127129d01ca04",
       "version_major": 2,
       "version_minor": 0
      },
      "text/plain": [
       "HBox(children=(FloatProgress(value=0.0, max=20.0), HTML(value='')))"
      ]
     },
     "metadata": {},
     "output_type": "display_data"
    },
    {
     "name": "stdout",
     "output_type": "stream",
     "text": [
      "\n",
      "epoch 59 - train: 33.711 - valid: 34.055 - stale=0\n"
     ]
    },
    {
     "data": {
      "application/vnd.jupyter.widget-view+json": {
       "model_id": "535f13e00c484da1a180252f0b11f23c",
       "version_major": 2,
       "version_minor": 0
      },
      "text/plain": [
       "HBox(children=(FloatProgress(value=0.0, max=20.0), HTML(value='')))"
      ]
     },
     "metadata": {},
     "output_type": "display_data"
    },
    {
     "name": "stdout",
     "output_type": "stream",
     "text": [
      "\n"
     ]
    },
    {
     "data": {
      "application/vnd.jupyter.widget-view+json": {
       "model_id": "3ff3351eaf4a4158a231066a479b6f0b",
       "version_major": 2,
       "version_minor": 0
      },
      "text/plain": [
       "HBox(children=(FloatProgress(value=0.0, max=20.0), HTML(value='')))"
      ]
     },
     "metadata": {},
     "output_type": "display_data"
    },
    {
     "name": "stdout",
     "output_type": "stream",
     "text": [
      "\n",
      "epoch 60 - train: 33.702 - valid: 34.044 - stale=0\n"
     ]
    },
    {
     "data": {
      "application/vnd.jupyter.widget-view+json": {
       "model_id": "b9945fc1a93d47b0ba03feb5785bbdb8",
       "version_major": 2,
       "version_minor": 0
      },
      "text/plain": [
       "HBox(children=(FloatProgress(value=0.0, max=20.0), HTML(value='')))"
      ]
     },
     "metadata": {},
     "output_type": "display_data"
    },
    {
     "name": "stdout",
     "output_type": "stream",
     "text": [
      "\n"
     ]
    },
    {
     "data": {
      "application/vnd.jupyter.widget-view+json": {
       "model_id": "3b9f5ddcfc564214b677c2dfd6fd9aca",
       "version_major": 2,
       "version_minor": 0
      },
      "text/plain": [
       "HBox(children=(FloatProgress(value=0.0, max=20.0), HTML(value='')))"
      ]
     },
     "metadata": {},
     "output_type": "display_data"
    },
    {
     "name": "stdout",
     "output_type": "stream",
     "text": [
      "\n",
      "epoch 61 - train: 33.694 - valid: 34.034 - stale=0\n"
     ]
    },
    {
     "data": {
      "application/vnd.jupyter.widget-view+json": {
       "model_id": "6e1c4a38e737402796f8bb00adc49454",
       "version_major": 2,
       "version_minor": 0
      },
      "text/plain": [
       "HBox(children=(FloatProgress(value=0.0, max=20.0), HTML(value='')))"
      ]
     },
     "metadata": {},
     "output_type": "display_data"
    },
    {
     "name": "stdout",
     "output_type": "stream",
     "text": [
      "\n"
     ]
    },
    {
     "data": {
      "application/vnd.jupyter.widget-view+json": {
       "model_id": "81e8b5f7b1e24e07b0d7dad2d810cad5",
       "version_major": 2,
       "version_minor": 0
      },
      "text/plain": [
       "HBox(children=(FloatProgress(value=0.0, max=20.0), HTML(value='')))"
      ]
     },
     "metadata": {},
     "output_type": "display_data"
    },
    {
     "name": "stdout",
     "output_type": "stream",
     "text": [
      "\n",
      "epoch 62 - train: 33.686 - valid: 34.021 - stale=0\n"
     ]
    },
    {
     "data": {
      "application/vnd.jupyter.widget-view+json": {
       "model_id": "ab18414d3c154ba2b30f9fb0b452f3b6",
       "version_major": 2,
       "version_minor": 0
      },
      "text/plain": [
       "HBox(children=(FloatProgress(value=0.0, max=20.0), HTML(value='')))"
      ]
     },
     "metadata": {},
     "output_type": "display_data"
    },
    {
     "name": "stdout",
     "output_type": "stream",
     "text": [
      "\n"
     ]
    },
    {
     "data": {
      "application/vnd.jupyter.widget-view+json": {
       "model_id": "f977223395724e54b5f3c9dcfb22eb71",
       "version_major": 2,
       "version_minor": 0
      },
      "text/plain": [
       "HBox(children=(FloatProgress(value=0.0, max=20.0), HTML(value='')))"
      ]
     },
     "metadata": {},
     "output_type": "display_data"
    },
    {
     "name": "stdout",
     "output_type": "stream",
     "text": [
      "\n",
      "epoch 63 - train: 33.677 - valid: 34.012 - stale=0\n"
     ]
    },
    {
     "data": {
      "application/vnd.jupyter.widget-view+json": {
       "model_id": "4acd4f8121e349998c2c77c253718d9a",
       "version_major": 2,
       "version_minor": 0
      },
      "text/plain": [
       "HBox(children=(FloatProgress(value=0.0, max=20.0), HTML(value='')))"
      ]
     },
     "metadata": {},
     "output_type": "display_data"
    },
    {
     "name": "stdout",
     "output_type": "stream",
     "text": [
      "\n"
     ]
    },
    {
     "data": {
      "application/vnd.jupyter.widget-view+json": {
       "model_id": "04f09c6dc4b94003b235caf1de999a34",
       "version_major": 2,
       "version_minor": 0
      },
      "text/plain": [
       "HBox(children=(FloatProgress(value=0.0, max=20.0), HTML(value='')))"
      ]
     },
     "metadata": {},
     "output_type": "display_data"
    },
    {
     "name": "stdout",
     "output_type": "stream",
     "text": [
      "\n",
      "epoch 64 - train: 33.669 - valid: 34.002 - stale=0\n"
     ]
    },
    {
     "data": {
      "application/vnd.jupyter.widget-view+json": {
       "model_id": "ff95c4329d2d4abfa701ef7041bf736e",
       "version_major": 2,
       "version_minor": 0
      },
      "text/plain": [
       "HBox(children=(FloatProgress(value=0.0, max=20.0), HTML(value='')))"
      ]
     },
     "metadata": {},
     "output_type": "display_data"
    },
    {
     "name": "stdout",
     "output_type": "stream",
     "text": [
      "\n"
     ]
    },
    {
     "data": {
      "application/vnd.jupyter.widget-view+json": {
       "model_id": "1adf3ec578f047dfb9ffcadef2b0f0df",
       "version_major": 2,
       "version_minor": 0
      },
      "text/plain": [
       "HBox(children=(FloatProgress(value=0.0, max=20.0), HTML(value='')))"
      ]
     },
     "metadata": {},
     "output_type": "display_data"
    },
    {
     "name": "stdout",
     "output_type": "stream",
     "text": [
      "\n",
      "epoch 65 - train: 33.661 - valid: 33.992 - stale=0\n"
     ]
    },
    {
     "data": {
      "application/vnd.jupyter.widget-view+json": {
       "model_id": "c91b4867858e47fd8ad9e1dfa8a1daf1",
       "version_major": 2,
       "version_minor": 0
      },
      "text/plain": [
       "HBox(children=(FloatProgress(value=0.0, max=20.0), HTML(value='')))"
      ]
     },
     "metadata": {},
     "output_type": "display_data"
    },
    {
     "name": "stdout",
     "output_type": "stream",
     "text": [
      "\n"
     ]
    },
    {
     "data": {
      "application/vnd.jupyter.widget-view+json": {
       "model_id": "6b2027c3c45e4df0b9464f1d67e547b1",
       "version_major": 2,
       "version_minor": 0
      },
      "text/plain": [
       "HBox(children=(FloatProgress(value=0.0, max=20.0), HTML(value='')))"
      ]
     },
     "metadata": {},
     "output_type": "display_data"
    },
    {
     "name": "stdout",
     "output_type": "stream",
     "text": [
      "\n",
      "epoch 66 - train: 33.654 - valid: 33.984 - stale=0\n"
     ]
    },
    {
     "data": {
      "application/vnd.jupyter.widget-view+json": {
       "model_id": "f664f487475b489b8d49c2fd2c2855da",
       "version_major": 2,
       "version_minor": 0
      },
      "text/plain": [
       "HBox(children=(FloatProgress(value=0.0, max=20.0), HTML(value='')))"
      ]
     },
     "metadata": {},
     "output_type": "display_data"
    },
    {
     "name": "stdout",
     "output_type": "stream",
     "text": [
      "\n"
     ]
    },
    {
     "data": {
      "application/vnd.jupyter.widget-view+json": {
       "model_id": "a33052bdf9474927a83dc3c128a10c71",
       "version_major": 2,
       "version_minor": 0
      },
      "text/plain": [
       "HBox(children=(FloatProgress(value=0.0, max=20.0), HTML(value='')))"
      ]
     },
     "metadata": {},
     "output_type": "display_data"
    },
    {
     "name": "stdout",
     "output_type": "stream",
     "text": [
      "\n",
      "epoch 67 - train: 33.647 - valid: 33.975 - stale=0\n"
     ]
    },
    {
     "data": {
      "application/vnd.jupyter.widget-view+json": {
       "model_id": "a9f0be29aadb47b49a1c5885b5e27d9e",
       "version_major": 2,
       "version_minor": 0
      },
      "text/plain": [
       "HBox(children=(FloatProgress(value=0.0, max=20.0), HTML(value='')))"
      ]
     },
     "metadata": {},
     "output_type": "display_data"
    },
    {
     "name": "stdout",
     "output_type": "stream",
     "text": [
      "\n"
     ]
    },
    {
     "data": {
      "application/vnd.jupyter.widget-view+json": {
       "model_id": "16c16263c3bd40bc80d7c37867e219bd",
       "version_major": 2,
       "version_minor": 0
      },
      "text/plain": [
       "HBox(children=(FloatProgress(value=0.0, max=20.0), HTML(value='')))"
      ]
     },
     "metadata": {},
     "output_type": "display_data"
    },
    {
     "name": "stdout",
     "output_type": "stream",
     "text": [
      "\n",
      "epoch 68 - train: 33.639 - valid: 33.967 - stale=0\n"
     ]
    },
    {
     "data": {
      "application/vnd.jupyter.widget-view+json": {
       "model_id": "b1b3e7fbfb6c4d4ab6f69e155bf9fdba",
       "version_major": 2,
       "version_minor": 0
      },
      "text/plain": [
       "HBox(children=(FloatProgress(value=0.0, max=20.0), HTML(value='')))"
      ]
     },
     "metadata": {},
     "output_type": "display_data"
    },
    {
     "name": "stdout",
     "output_type": "stream",
     "text": [
      "\n"
     ]
    },
    {
     "data": {
      "application/vnd.jupyter.widget-view+json": {
       "model_id": "68d675930a6549e38b02ad34996d21d7",
       "version_major": 2,
       "version_minor": 0
      },
      "text/plain": [
       "HBox(children=(FloatProgress(value=0.0, max=20.0), HTML(value='')))"
      ]
     },
     "metadata": {},
     "output_type": "display_data"
    },
    {
     "name": "stdout",
     "output_type": "stream",
     "text": [
      "\n",
      "epoch 69 - train: 33.632 - valid: 33.959 - stale=0\n"
     ]
    },
    {
     "data": {
      "application/vnd.jupyter.widget-view+json": {
       "model_id": "10df88812d954fd8963b9c123be11945",
       "version_major": 2,
       "version_minor": 0
      },
      "text/plain": [
       "HBox(children=(FloatProgress(value=0.0, max=20.0), HTML(value='')))"
      ]
     },
     "metadata": {},
     "output_type": "display_data"
    },
    {
     "name": "stdout",
     "output_type": "stream",
     "text": [
      "\n"
     ]
    },
    {
     "data": {
      "application/vnd.jupyter.widget-view+json": {
       "model_id": "46bce06d12654a29bde024de21e64c46",
       "version_major": 2,
       "version_minor": 0
      },
      "text/plain": [
       "HBox(children=(FloatProgress(value=0.0, max=20.0), HTML(value='')))"
      ]
     },
     "metadata": {},
     "output_type": "display_data"
    },
    {
     "name": "stdout",
     "output_type": "stream",
     "text": [
      "\n",
      "epoch 70 - train: 33.625 - valid: 33.95 - stale=0\n"
     ]
    },
    {
     "data": {
      "application/vnd.jupyter.widget-view+json": {
       "model_id": "b6f317ac888f4ab78a0e042a046e08f2",
       "version_major": 2,
       "version_minor": 0
      },
      "text/plain": [
       "HBox(children=(FloatProgress(value=0.0, max=20.0), HTML(value='')))"
      ]
     },
     "metadata": {},
     "output_type": "display_data"
    },
    {
     "name": "stdout",
     "output_type": "stream",
     "text": [
      "\n"
     ]
    },
    {
     "data": {
      "application/vnd.jupyter.widget-view+json": {
       "model_id": "fe0e61084209492d9861917ec125c4e0",
       "version_major": 2,
       "version_minor": 0
      },
      "text/plain": [
       "HBox(children=(FloatProgress(value=0.0, max=20.0), HTML(value='')))"
      ]
     },
     "metadata": {},
     "output_type": "display_data"
    },
    {
     "name": "stdout",
     "output_type": "stream",
     "text": [
      "\n",
      "epoch 71 - train: 33.618 - valid: 33.942 - stale=0\n"
     ]
    },
    {
     "data": {
      "application/vnd.jupyter.widget-view+json": {
       "model_id": "0deb8b3cd6e14acaaeab66a69826c9be",
       "version_major": 2,
       "version_minor": 0
      },
      "text/plain": [
       "HBox(children=(FloatProgress(value=0.0, max=20.0), HTML(value='')))"
      ]
     },
     "metadata": {},
     "output_type": "display_data"
    },
    {
     "name": "stdout",
     "output_type": "stream",
     "text": [
      "\n"
     ]
    },
    {
     "data": {
      "application/vnd.jupyter.widget-view+json": {
       "model_id": "ef8f904187ef4ccb8e63e6dca14e0f59",
       "version_major": 2,
       "version_minor": 0
      },
      "text/plain": [
       "HBox(children=(FloatProgress(value=0.0, max=20.0), HTML(value='')))"
      ]
     },
     "metadata": {},
     "output_type": "display_data"
    },
    {
     "name": "stdout",
     "output_type": "stream",
     "text": [
      "\n",
      "epoch 72 - train: 33.611 - valid: 33.934 - stale=0\n"
     ]
    },
    {
     "data": {
      "application/vnd.jupyter.widget-view+json": {
       "model_id": "bb44ae0d463544cc82a2679b755cbbd2",
       "version_major": 2,
       "version_minor": 0
      },
      "text/plain": [
       "HBox(children=(FloatProgress(value=0.0, max=20.0), HTML(value='')))"
      ]
     },
     "metadata": {},
     "output_type": "display_data"
    },
    {
     "name": "stdout",
     "output_type": "stream",
     "text": [
      "\n"
     ]
    },
    {
     "data": {
      "application/vnd.jupyter.widget-view+json": {
       "model_id": "deceaae516304e3ab1dff15f8b18de12",
       "version_major": 2,
       "version_minor": 0
      },
      "text/plain": [
       "HBox(children=(FloatProgress(value=0.0, max=20.0), HTML(value='')))"
      ]
     },
     "metadata": {},
     "output_type": "display_data"
    },
    {
     "name": "stdout",
     "output_type": "stream",
     "text": [
      "\n",
      "epoch 73 - train: 33.604 - valid: 33.926 - stale=0\n"
     ]
    },
    {
     "data": {
      "application/vnd.jupyter.widget-view+json": {
       "model_id": "fe724c1d88a7444e8e12b7a28bb82caa",
       "version_major": 2,
       "version_minor": 0
      },
      "text/plain": [
       "HBox(children=(FloatProgress(value=0.0, max=20.0), HTML(value='')))"
      ]
     },
     "metadata": {},
     "output_type": "display_data"
    },
    {
     "name": "stdout",
     "output_type": "stream",
     "text": [
      "\n"
     ]
    },
    {
     "data": {
      "application/vnd.jupyter.widget-view+json": {
       "model_id": "5d20a0e5a5444dc4a14d185b1aa7afa3",
       "version_major": 2,
       "version_minor": 0
      },
      "text/plain": [
       "HBox(children=(FloatProgress(value=0.0, max=20.0), HTML(value='')))"
      ]
     },
     "metadata": {},
     "output_type": "display_data"
    },
    {
     "name": "stdout",
     "output_type": "stream",
     "text": [
      "\n",
      "epoch 74 - train: 33.597 - valid: 33.917 - stale=0\n"
     ]
    },
    {
     "data": {
      "application/vnd.jupyter.widget-view+json": {
       "model_id": "af4dc77b6bb54cdbabb19010f746cb55",
       "version_major": 2,
       "version_minor": 0
      },
      "text/plain": [
       "HBox(children=(FloatProgress(value=0.0, max=20.0), HTML(value='')))"
      ]
     },
     "metadata": {},
     "output_type": "display_data"
    },
    {
     "name": "stdout",
     "output_type": "stream",
     "text": [
      "\n"
     ]
    },
    {
     "data": {
      "application/vnd.jupyter.widget-view+json": {
       "model_id": "210e3393e7d24ed3b75608273ba82968",
       "version_major": 2,
       "version_minor": 0
      },
      "text/plain": [
       "HBox(children=(FloatProgress(value=0.0, max=20.0), HTML(value='')))"
      ]
     },
     "metadata": {},
     "output_type": "display_data"
    },
    {
     "name": "stdout",
     "output_type": "stream",
     "text": [
      "\n",
      "epoch 75 - train: 33.59 - valid: 33.909 - stale=0\n"
     ]
    },
    {
     "data": {
      "application/vnd.jupyter.widget-view+json": {
       "model_id": "7b52098c99ed4b13833c7ba2511fb710",
       "version_major": 2,
       "version_minor": 0
      },
      "text/plain": [
       "HBox(children=(FloatProgress(value=0.0, max=20.0), HTML(value='')))"
      ]
     },
     "metadata": {},
     "output_type": "display_data"
    },
    {
     "name": "stdout",
     "output_type": "stream",
     "text": [
      "\n"
     ]
    },
    {
     "data": {
      "application/vnd.jupyter.widget-view+json": {
       "model_id": "915ebaf7eca04864bf22e6e7428034ea",
       "version_major": 2,
       "version_minor": 0
      },
      "text/plain": [
       "HBox(children=(FloatProgress(value=0.0, max=20.0), HTML(value='')))"
      ]
     },
     "metadata": {},
     "output_type": "display_data"
    },
    {
     "name": "stdout",
     "output_type": "stream",
     "text": [
      "\n",
      "epoch 76 - train: 33.583 - valid: 33.901 - stale=0\n"
     ]
    },
    {
     "data": {
      "application/vnd.jupyter.widget-view+json": {
       "model_id": "c848c62371324362b238ca659686f759",
       "version_major": 2,
       "version_minor": 0
      },
      "text/plain": [
       "HBox(children=(FloatProgress(value=0.0, max=20.0), HTML(value='')))"
      ]
     },
     "metadata": {},
     "output_type": "display_data"
    },
    {
     "name": "stdout",
     "output_type": "stream",
     "text": [
      "\n"
     ]
    },
    {
     "data": {
      "application/vnd.jupyter.widget-view+json": {
       "model_id": "dab0459a85fd40d2a97573426f5500e7",
       "version_major": 2,
       "version_minor": 0
      },
      "text/plain": [
       "HBox(children=(FloatProgress(value=0.0, max=20.0), HTML(value='')))"
      ]
     },
     "metadata": {},
     "output_type": "display_data"
    },
    {
     "name": "stdout",
     "output_type": "stream",
     "text": [
      "\n",
      "epoch 77 - train: 33.576 - valid: 33.894 - stale=0\n"
     ]
    },
    {
     "data": {
      "application/vnd.jupyter.widget-view+json": {
       "model_id": "4c2b68504c1a4df29c6c9e50cde04be9",
       "version_major": 2,
       "version_minor": 0
      },
      "text/plain": [
       "HBox(children=(FloatProgress(value=0.0, max=20.0), HTML(value='')))"
      ]
     },
     "metadata": {},
     "output_type": "display_data"
    },
    {
     "name": "stdout",
     "output_type": "stream",
     "text": [
      "\n"
     ]
    },
    {
     "data": {
      "application/vnd.jupyter.widget-view+json": {
       "model_id": "5ff851b2e212477eb152743c284edc67",
       "version_major": 2,
       "version_minor": 0
      },
      "text/plain": [
       "HBox(children=(FloatProgress(value=0.0, max=20.0), HTML(value='')))"
      ]
     },
     "metadata": {},
     "output_type": "display_data"
    },
    {
     "name": "stdout",
     "output_type": "stream",
     "text": [
      "\n",
      "epoch 78 - train: 33.569 - valid: 33.887 - stale=0\n"
     ]
    },
    {
     "data": {
      "application/vnd.jupyter.widget-view+json": {
       "model_id": "598353f9d3a64690920baa21ab41b3a1",
       "version_major": 2,
       "version_minor": 0
      },
      "text/plain": [
       "HBox(children=(FloatProgress(value=0.0, max=20.0), HTML(value='')))"
      ]
     },
     "metadata": {},
     "output_type": "display_data"
    },
    {
     "name": "stdout",
     "output_type": "stream",
     "text": [
      "\n"
     ]
    },
    {
     "data": {
      "application/vnd.jupyter.widget-view+json": {
       "model_id": "74c3b77998a842fc9f10467b2508a12e",
       "version_major": 2,
       "version_minor": 0
      },
      "text/plain": [
       "HBox(children=(FloatProgress(value=0.0, max=20.0), HTML(value='')))"
      ]
     },
     "metadata": {},
     "output_type": "display_data"
    },
    {
     "name": "stdout",
     "output_type": "stream",
     "text": [
      "\n",
      "epoch 79 - train: 33.562 - valid: 33.88 - stale=0\n"
     ]
    },
    {
     "data": {
      "application/vnd.jupyter.widget-view+json": {
       "model_id": "1e71da96e7a640ac930e697244d5150a",
       "version_major": 2,
       "version_minor": 0
      },
      "text/plain": [
       "HBox(children=(FloatProgress(value=0.0, max=20.0), HTML(value='')))"
      ]
     },
     "metadata": {},
     "output_type": "display_data"
    },
    {
     "name": "stdout",
     "output_type": "stream",
     "text": [
      "\n"
     ]
    },
    {
     "data": {
      "application/vnd.jupyter.widget-view+json": {
       "model_id": "c2b4b5e4d0be4d39936da74d28bf7eb8",
       "version_major": 2,
       "version_minor": 0
      },
      "text/plain": [
       "HBox(children=(FloatProgress(value=0.0, max=20.0), HTML(value='')))"
      ]
     },
     "metadata": {},
     "output_type": "display_data"
    },
    {
     "name": "stdout",
     "output_type": "stream",
     "text": [
      "\n",
      "epoch 80 - train: 33.556 - valid: 33.873 - stale=0\n"
     ]
    },
    {
     "data": {
      "application/vnd.jupyter.widget-view+json": {
       "model_id": "81f615c705ca4786a308952b6884e7e8",
       "version_major": 2,
       "version_minor": 0
      },
      "text/plain": [
       "HBox(children=(FloatProgress(value=0.0, max=20.0), HTML(value='')))"
      ]
     },
     "metadata": {},
     "output_type": "display_data"
    },
    {
     "name": "stdout",
     "output_type": "stream",
     "text": [
      "\n"
     ]
    },
    {
     "data": {
      "application/vnd.jupyter.widget-view+json": {
       "model_id": "025c7f1b12b2455f96becad363f946e4",
       "version_major": 2,
       "version_minor": 0
      },
      "text/plain": [
       "HBox(children=(FloatProgress(value=0.0, max=20.0), HTML(value='')))"
      ]
     },
     "metadata": {},
     "output_type": "display_data"
    },
    {
     "name": "stdout",
     "output_type": "stream",
     "text": [
      "\n",
      "epoch 81 - train: 33.549 - valid: 33.864 - stale=0\n"
     ]
    },
    {
     "data": {
      "application/vnd.jupyter.widget-view+json": {
       "model_id": "aabd7887916c47489169a89184e64704",
       "version_major": 2,
       "version_minor": 0
      },
      "text/plain": [
       "HBox(children=(FloatProgress(value=0.0, max=20.0), HTML(value='')))"
      ]
     },
     "metadata": {},
     "output_type": "display_data"
    },
    {
     "name": "stdout",
     "output_type": "stream",
     "text": [
      "\n"
     ]
    },
    {
     "data": {
      "application/vnd.jupyter.widget-view+json": {
       "model_id": "8c2bcf8e578744008a5c98b25756f2e4",
       "version_major": 2,
       "version_minor": 0
      },
      "text/plain": [
       "HBox(children=(FloatProgress(value=0.0, max=20.0), HTML(value='')))"
      ]
     },
     "metadata": {},
     "output_type": "display_data"
    },
    {
     "name": "stdout",
     "output_type": "stream",
     "text": [
      "\n",
      "epoch 82 - train: 33.542 - valid: 33.857 - stale=0\n"
     ]
    },
    {
     "data": {
      "application/vnd.jupyter.widget-view+json": {
       "model_id": "47e9211203374ee5b0120e56b790a108",
       "version_major": 2,
       "version_minor": 0
      },
      "text/plain": [
       "HBox(children=(FloatProgress(value=0.0, max=20.0), HTML(value='')))"
      ]
     },
     "metadata": {},
     "output_type": "display_data"
    },
    {
     "name": "stdout",
     "output_type": "stream",
     "text": [
      "\n"
     ]
    },
    {
     "data": {
      "application/vnd.jupyter.widget-view+json": {
       "model_id": "271c80c6ebbc436ba1c4149c52cb24b8",
       "version_major": 2,
       "version_minor": 0
      },
      "text/plain": [
       "HBox(children=(FloatProgress(value=0.0, max=20.0), HTML(value='')))"
      ]
     },
     "metadata": {},
     "output_type": "display_data"
    },
    {
     "name": "stdout",
     "output_type": "stream",
     "text": [
      "\n",
      "epoch 83 - train: 33.535 - valid: 33.849 - stale=0\n"
     ]
    },
    {
     "data": {
      "application/vnd.jupyter.widget-view+json": {
       "model_id": "6e5c1d43d30a42fdaafbc629e40fba72",
       "version_major": 2,
       "version_minor": 0
      },
      "text/plain": [
       "HBox(children=(FloatProgress(value=0.0, max=20.0), HTML(value='')))"
      ]
     },
     "metadata": {},
     "output_type": "display_data"
    },
    {
     "name": "stdout",
     "output_type": "stream",
     "text": [
      "\n"
     ]
    },
    {
     "data": {
      "application/vnd.jupyter.widget-view+json": {
       "model_id": "d6c4f94e6d164c6ba1b45beadc1befb2",
       "version_major": 2,
       "version_minor": 0
      },
      "text/plain": [
       "HBox(children=(FloatProgress(value=0.0, max=20.0), HTML(value='')))"
      ]
     },
     "metadata": {},
     "output_type": "display_data"
    },
    {
     "name": "stdout",
     "output_type": "stream",
     "text": [
      "\n",
      "epoch 84 - train: 33.528 - valid: 33.842 - stale=0\n"
     ]
    },
    {
     "data": {
      "application/vnd.jupyter.widget-view+json": {
       "model_id": "ca6497237e3649d88b7c5519afdcda5f",
       "version_major": 2,
       "version_minor": 0
      },
      "text/plain": [
       "HBox(children=(FloatProgress(value=0.0, max=20.0), HTML(value='')))"
      ]
     },
     "metadata": {},
     "output_type": "display_data"
    },
    {
     "name": "stdout",
     "output_type": "stream",
     "text": [
      "\n"
     ]
    },
    {
     "data": {
      "application/vnd.jupyter.widget-view+json": {
       "model_id": "7eb45dcd70264d26a01de935de70f5d0",
       "version_major": 2,
       "version_minor": 0
      },
      "text/plain": [
       "HBox(children=(FloatProgress(value=0.0, max=20.0), HTML(value='')))"
      ]
     },
     "metadata": {},
     "output_type": "display_data"
    },
    {
     "name": "stdout",
     "output_type": "stream",
     "text": [
      "\n",
      "epoch 85 - train: 33.521 - valid: 33.834 - stale=0\n"
     ]
    },
    {
     "data": {
      "application/vnd.jupyter.widget-view+json": {
       "model_id": "0efe7f1f02274c2999f3b4a2f1acfe8e",
       "version_major": 2,
       "version_minor": 0
      },
      "text/plain": [
       "HBox(children=(FloatProgress(value=0.0, max=20.0), HTML(value='')))"
      ]
     },
     "metadata": {},
     "output_type": "display_data"
    },
    {
     "name": "stdout",
     "output_type": "stream",
     "text": [
      "\n"
     ]
    },
    {
     "data": {
      "application/vnd.jupyter.widget-view+json": {
       "model_id": "0af7631a41054bf3af7b6f51888a03a3",
       "version_major": 2,
       "version_minor": 0
      },
      "text/plain": [
       "HBox(children=(FloatProgress(value=0.0, max=20.0), HTML(value='')))"
      ]
     },
     "metadata": {},
     "output_type": "display_data"
    },
    {
     "name": "stdout",
     "output_type": "stream",
     "text": [
      "\n",
      "epoch 86 - train: 33.515 - valid: 33.827 - stale=0\n"
     ]
    },
    {
     "data": {
      "application/vnd.jupyter.widget-view+json": {
       "model_id": "1b2cebf382b94d35911526bc8d2fad5e",
       "version_major": 2,
       "version_minor": 0
      },
      "text/plain": [
       "HBox(children=(FloatProgress(value=0.0, max=20.0), HTML(value='')))"
      ]
     },
     "metadata": {},
     "output_type": "display_data"
    },
    {
     "name": "stdout",
     "output_type": "stream",
     "text": [
      "\n"
     ]
    },
    {
     "data": {
      "application/vnd.jupyter.widget-view+json": {
       "model_id": "b98f4195433f4e62a243ace077837708",
       "version_major": 2,
       "version_minor": 0
      },
      "text/plain": [
       "HBox(children=(FloatProgress(value=0.0, max=20.0), HTML(value='')))"
      ]
     },
     "metadata": {},
     "output_type": "display_data"
    },
    {
     "name": "stdout",
     "output_type": "stream",
     "text": [
      "\n",
      "epoch 87 - train: 33.508 - valid: 33.819 - stale=0\n"
     ]
    },
    {
     "data": {
      "application/vnd.jupyter.widget-view+json": {
       "model_id": "43a20365297b426d844d2dd2af734212",
       "version_major": 2,
       "version_minor": 0
      },
      "text/plain": [
       "HBox(children=(FloatProgress(value=0.0, max=20.0), HTML(value='')))"
      ]
     },
     "metadata": {},
     "output_type": "display_data"
    },
    {
     "name": "stdout",
     "output_type": "stream",
     "text": [
      "\n"
     ]
    },
    {
     "data": {
      "application/vnd.jupyter.widget-view+json": {
       "model_id": "d284bc234ab84b259088657da5ae2575",
       "version_major": 2,
       "version_minor": 0
      },
      "text/plain": [
       "HBox(children=(FloatProgress(value=0.0, max=20.0), HTML(value='')))"
      ]
     },
     "metadata": {},
     "output_type": "display_data"
    },
    {
     "name": "stdout",
     "output_type": "stream",
     "text": [
      "\n",
      "epoch 88 - train: 33.501 - valid: 33.811 - stale=0\n"
     ]
    },
    {
     "data": {
      "application/vnd.jupyter.widget-view+json": {
       "model_id": "2e68f6be57a14cc3a6ba0bb0542511ff",
       "version_major": 2,
       "version_minor": 0
      },
      "text/plain": [
       "HBox(children=(FloatProgress(value=0.0, max=20.0), HTML(value='')))"
      ]
     },
     "metadata": {},
     "output_type": "display_data"
    },
    {
     "name": "stdout",
     "output_type": "stream",
     "text": [
      "\n"
     ]
    },
    {
     "data": {
      "application/vnd.jupyter.widget-view+json": {
       "model_id": "6395b3a6dbe64c89929a9bec53e2d1f0",
       "version_major": 2,
       "version_minor": 0
      },
      "text/plain": [
       "HBox(children=(FloatProgress(value=0.0, max=20.0), HTML(value='')))"
      ]
     },
     "metadata": {},
     "output_type": "display_data"
    },
    {
     "name": "stdout",
     "output_type": "stream",
     "text": [
      "\n",
      "epoch 89 - train: 33.494 - valid: 33.804 - stale=0\n"
     ]
    },
    {
     "data": {
      "application/vnd.jupyter.widget-view+json": {
       "model_id": "775f6528d93b46d4b25ec6c46d6cb8a8",
       "version_major": 2,
       "version_minor": 0
      },
      "text/plain": [
       "HBox(children=(FloatProgress(value=0.0, max=20.0), HTML(value='')))"
      ]
     },
     "metadata": {},
     "output_type": "display_data"
    },
    {
     "name": "stdout",
     "output_type": "stream",
     "text": [
      "\n"
     ]
    },
    {
     "data": {
      "application/vnd.jupyter.widget-view+json": {
       "model_id": "b310c21a91b441b68c5250a7ba2540a9",
       "version_major": 2,
       "version_minor": 0
      },
      "text/plain": [
       "HBox(children=(FloatProgress(value=0.0, max=20.0), HTML(value='')))"
      ]
     },
     "metadata": {},
     "output_type": "display_data"
    },
    {
     "name": "stdout",
     "output_type": "stream",
     "text": [
      "\n",
      "epoch 90 - train: 33.488 - valid: 33.796 - stale=0\n"
     ]
    },
    {
     "data": {
      "application/vnd.jupyter.widget-view+json": {
       "model_id": "c7367fda9cef40459263fdeff25dc94c",
       "version_major": 2,
       "version_minor": 0
      },
      "text/plain": [
       "HBox(children=(FloatProgress(value=0.0, max=20.0), HTML(value='')))"
      ]
     },
     "metadata": {},
     "output_type": "display_data"
    },
    {
     "name": "stdout",
     "output_type": "stream",
     "text": [
      "\n"
     ]
    },
    {
     "data": {
      "application/vnd.jupyter.widget-view+json": {
       "model_id": "39811228fd384cd6a16f5ce70088ec84",
       "version_major": 2,
       "version_minor": 0
      },
      "text/plain": [
       "HBox(children=(FloatProgress(value=0.0, max=20.0), HTML(value='')))"
      ]
     },
     "metadata": {},
     "output_type": "display_data"
    },
    {
     "name": "stdout",
     "output_type": "stream",
     "text": [
      "\n",
      "epoch 91 - train: 33.481 - valid: 33.788 - stale=0\n"
     ]
    },
    {
     "data": {
      "application/vnd.jupyter.widget-view+json": {
       "model_id": "b2c8a7c178c049aa8c78e6e97a485c8f",
       "version_major": 2,
       "version_minor": 0
      },
      "text/plain": [
       "HBox(children=(FloatProgress(value=0.0, max=20.0), HTML(value='')))"
      ]
     },
     "metadata": {},
     "output_type": "display_data"
    },
    {
     "name": "stdout",
     "output_type": "stream",
     "text": [
      "\n"
     ]
    },
    {
     "data": {
      "application/vnd.jupyter.widget-view+json": {
       "model_id": "8315f04cccd444bb9f58275c1bb445b5",
       "version_major": 2,
       "version_minor": 0
      },
      "text/plain": [
       "HBox(children=(FloatProgress(value=0.0, max=20.0), HTML(value='')))"
      ]
     },
     "metadata": {},
     "output_type": "display_data"
    },
    {
     "name": "stdout",
     "output_type": "stream",
     "text": [
      "\n",
      "epoch 92 - train: 33.474 - valid: 33.781 - stale=0\n"
     ]
    },
    {
     "data": {
      "application/vnd.jupyter.widget-view+json": {
       "model_id": "68c08bb46aa345869ed3bafd28a79aa1",
       "version_major": 2,
       "version_minor": 0
      },
      "text/plain": [
       "HBox(children=(FloatProgress(value=0.0, max=20.0), HTML(value='')))"
      ]
     },
     "metadata": {},
     "output_type": "display_data"
    },
    {
     "name": "stdout",
     "output_type": "stream",
     "text": [
      "\n"
     ]
    },
    {
     "data": {
      "application/vnd.jupyter.widget-view+json": {
       "model_id": "e07a7db6d00d45abb0f4a13beb51b2d5",
       "version_major": 2,
       "version_minor": 0
      },
      "text/plain": [
       "HBox(children=(FloatProgress(value=0.0, max=20.0), HTML(value='')))"
      ]
     },
     "metadata": {},
     "output_type": "display_data"
    },
    {
     "name": "stdout",
     "output_type": "stream",
     "text": [
      "\n",
      "epoch 93 - train: 33.467 - valid: 33.773 - stale=0\n"
     ]
    },
    {
     "data": {
      "application/vnd.jupyter.widget-view+json": {
       "model_id": "772885830f9645e8835c1ddb97ce1aaf",
       "version_major": 2,
       "version_minor": 0
      },
      "text/plain": [
       "HBox(children=(FloatProgress(value=0.0, max=20.0), HTML(value='')))"
      ]
     },
     "metadata": {},
     "output_type": "display_data"
    },
    {
     "name": "stdout",
     "output_type": "stream",
     "text": [
      "\n"
     ]
    },
    {
     "data": {
      "application/vnd.jupyter.widget-view+json": {
       "model_id": "45f9b08ca80140b98b0859357255f47e",
       "version_major": 2,
       "version_minor": 0
      },
      "text/plain": [
       "HBox(children=(FloatProgress(value=0.0, max=20.0), HTML(value='')))"
      ]
     },
     "metadata": {},
     "output_type": "display_data"
    },
    {
     "name": "stdout",
     "output_type": "stream",
     "text": [
      "\n",
      "epoch 94 - train: 33.46 - valid: 33.766 - stale=0\n"
     ]
    },
    {
     "data": {
      "application/vnd.jupyter.widget-view+json": {
       "model_id": "6f867c4f0f664858a41cdf329ca8ca18",
       "version_major": 2,
       "version_minor": 0
      },
      "text/plain": [
       "HBox(children=(FloatProgress(value=0.0, max=20.0), HTML(value='')))"
      ]
     },
     "metadata": {},
     "output_type": "display_data"
    },
    {
     "name": "stdout",
     "output_type": "stream",
     "text": [
      "\n"
     ]
    },
    {
     "data": {
      "application/vnd.jupyter.widget-view+json": {
       "model_id": "d72548a62f994e558f62b6a77c8d57d7",
       "version_major": 2,
       "version_minor": 0
      },
      "text/plain": [
       "HBox(children=(FloatProgress(value=0.0, max=20.0), HTML(value='')))"
      ]
     },
     "metadata": {},
     "output_type": "display_data"
    },
    {
     "name": "stdout",
     "output_type": "stream",
     "text": [
      "\n",
      "epoch 95 - train: 33.453 - valid: 33.759 - stale=0\n"
     ]
    },
    {
     "data": {
      "application/vnd.jupyter.widget-view+json": {
       "model_id": "6ed0290552d24c9ba53ddabdd6e6678a",
       "version_major": 2,
       "version_minor": 0
      },
      "text/plain": [
       "HBox(children=(FloatProgress(value=0.0, max=20.0), HTML(value='')))"
      ]
     },
     "metadata": {},
     "output_type": "display_data"
    },
    {
     "name": "stdout",
     "output_type": "stream",
     "text": [
      "\n"
     ]
    },
    {
     "data": {
      "application/vnd.jupyter.widget-view+json": {
       "model_id": "1c316e26ff6f4565b99b997b66d69e87",
       "version_major": 2,
       "version_minor": 0
      },
      "text/plain": [
       "HBox(children=(FloatProgress(value=0.0, max=20.0), HTML(value='')))"
      ]
     },
     "metadata": {},
     "output_type": "display_data"
    },
    {
     "name": "stdout",
     "output_type": "stream",
     "text": [
      "\n",
      "epoch 96 - train: 33.446 - valid: 33.752 - stale=0\n"
     ]
    },
    {
     "data": {
      "application/vnd.jupyter.widget-view+json": {
       "model_id": "31964ccbb6364846a8ae37e726132ead",
       "version_major": 2,
       "version_minor": 0
      },
      "text/plain": [
       "HBox(children=(FloatProgress(value=0.0, max=20.0), HTML(value='')))"
      ]
     },
     "metadata": {},
     "output_type": "display_data"
    },
    {
     "name": "stdout",
     "output_type": "stream",
     "text": [
      "\n"
     ]
    },
    {
     "data": {
      "application/vnd.jupyter.widget-view+json": {
       "model_id": "bb67dd612ed94de085312986e4b93ee6",
       "version_major": 2,
       "version_minor": 0
      },
      "text/plain": [
       "HBox(children=(FloatProgress(value=0.0, max=20.0), HTML(value='')))"
      ]
     },
     "metadata": {},
     "output_type": "display_data"
    },
    {
     "name": "stdout",
     "output_type": "stream",
     "text": [
      "\n",
      "epoch 97 - train: 33.439 - valid: 33.745 - stale=0\n"
     ]
    },
    {
     "data": {
      "application/vnd.jupyter.widget-view+json": {
       "model_id": "51f90cc4ef7248dbadbeb208080bbddd",
       "version_major": 2,
       "version_minor": 0
      },
      "text/plain": [
       "HBox(children=(FloatProgress(value=0.0, max=20.0), HTML(value='')))"
      ]
     },
     "metadata": {},
     "output_type": "display_data"
    },
    {
     "name": "stdout",
     "output_type": "stream",
     "text": [
      "\n"
     ]
    },
    {
     "data": {
      "application/vnd.jupyter.widget-view+json": {
       "model_id": "59fb9b67f8f946fab9e769b031e5c0e1",
       "version_major": 2,
       "version_minor": 0
      },
      "text/plain": [
       "HBox(children=(FloatProgress(value=0.0, max=20.0), HTML(value='')))"
      ]
     },
     "metadata": {},
     "output_type": "display_data"
    },
    {
     "name": "stdout",
     "output_type": "stream",
     "text": [
      "\n",
      "epoch 98 - train: 33.433 - valid: 33.739 - stale=0\n"
     ]
    },
    {
     "data": {
      "application/vnd.jupyter.widget-view+json": {
       "model_id": "566f384d452d44b2804a64c1fcdaeea9",
       "version_major": 2,
       "version_minor": 0
      },
      "text/plain": [
       "HBox(children=(FloatProgress(value=0.0, max=20.0), HTML(value='')))"
      ]
     },
     "metadata": {},
     "output_type": "display_data"
    },
    {
     "name": "stdout",
     "output_type": "stream",
     "text": [
      "\n"
     ]
    },
    {
     "data": {
      "application/vnd.jupyter.widget-view+json": {
       "model_id": "c12a3b60baa840fc8e377e6f5e69912b",
       "version_major": 2,
       "version_minor": 0
      },
      "text/plain": [
       "HBox(children=(FloatProgress(value=0.0, max=20.0), HTML(value='')))"
      ]
     },
     "metadata": {},
     "output_type": "display_data"
    },
    {
     "name": "stdout",
     "output_type": "stream",
     "text": [
      "\n",
      "epoch 99 - train: 33.426 - valid: 33.732 - stale=0\n",
      "\n"
     ]
    }
   ],
   "source": [
    "batch_size = 50\n",
    "lr = 1e-4\n",
    "encoder = Encoder()\n",
    "losses_train, losses_valid = train_encoder(encoder, data, batch_size, lr, epochs=100)"
   ]
  },
  {
   "cell_type": "code",
   "execution_count": 12,
   "metadata": {},
   "outputs": [
    {
     "data": {
      "text/plain": [
       "<matplotlib.legend.Legend at 0x7fe6b51cd4c0>"
      ]
     },
     "execution_count": 12,
     "metadata": {},
     "output_type": "execute_result"
    },
    {
     "data": {
      "image/png": "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\n",
      "text/plain": [
       "<Figure size 432x288 with 1 Axes>"
      ]
     },
     "metadata": {
      "needs_background": "light"
     },
     "output_type": "display_data"
    }
   ],
   "source": [
    "fig, ax = plt.subplots()\n",
    "ax.plot(range(len(losses_train[1:])), losses_train[1:], label=\"training\")\n",
    "ax.plot(range(len(losses_valid[1:])), losses_valid[1:], label=\"validation\")\n",
    "ax.set_xlabel(\"Epochs\")\n",
    "ax.set_ylabel(\"Loss\")\n",
    "ax.legend(title='ENCODER', loc=\"best\")\n",
    "# plt.savefig(f\"{outpath}/training_plots/losses/loss_{epoch}.pdf\")"
   ]
  },
  {
   "cell_type": "markdown",
   "metadata": {},
   "source": [
    "# Train MLPF"
   ]
  },
  {
   "cell_type": "code",
   "execution_count": 13,
   "metadata": {},
   "outputs": [],
   "source": [
    "class MLPF(nn.Module):\n",
    "    def __init__(\n",
    "        self,\n",
    "        input_dim=7,\n",
    "        num_classes=6,\n",
    "#         output_dim=5,\n",
    "        num_convs=2,\n",
    "        k=8,\n",
    "    ):\n",
    "        super(MLPF, self).__init__()\n",
    "\n",
    "        # self.act = nn.ReLU\n",
    "        self.act = nn.ELU\n",
    "\n",
    "#         # (1) embedding\n",
    "#         self.nn1 = nn.Sequential(\n",
    "#             nn.Linear(input_dim, 126),\n",
    "#             self.act(),\n",
    "#             nn.Linear(126, 126),\n",
    "#             self.act(),\n",
    "#             nn.Linear(126, 34),\n",
    "#         )\n",
    "\n",
    "        self.conv = nn.ModuleList()\n",
    "        for i in range(num_convs):\n",
    "            self.conv.append(GravNetConv(input_dim, input_dim, space_dimensions=4, propagate_dimensions=22, k=16))\n",
    "\n",
    "        # classifiying pid\n",
    "        self.nn2 = nn.Sequential(\n",
    "            nn.Linear(input_dim, 126),\n",
    "            self.act(),\n",
    "            nn.Linear(126, 126),\n",
    "            self.act(),\n",
    "            nn.Linear(126, num_classes),\n",
    "        )\n",
    "\n",
    "\n",
    "    def forward(self, batch):\n",
    "\n",
    "        # unfold the Batch object\n",
    "        input_ = batch.x.float()\n",
    "        batch = batch.batch\n",
    "\n",
    "        # perform a series of graph convolutions\n",
    "        for num, conv in enumerate(self.conv):\n",
    "            embedding = conv(input_, batch)\n",
    "\n",
    "        # predict the pid's\n",
    "        preds_id = self.nn2(embedding)\n",
    "\n",
    "        # predict the p4's\n",
    "#         preds_p4 = self.nn3(torch.cat([input_, embedding, preds_id], axis=-1))\n",
    "\n",
    "        return preds_id"
   ]
  },
  {
   "cell_type": "code",
   "execution_count": 14,
   "metadata": {},
   "outputs": [],
   "source": [
    "# combine the learned latent representations back into one Batch() object that will be the input to MLPF\n",
    "def combine_PFelements(tracks, clusters):\n",
    "    \n",
    "    event = Batch(x = torch.cat([tracks.x, clusters.x]),\n",
    "                  ygen = torch.cat([tracks.ygen, clusters.ygen]),\n",
    "                  ygen_id = torch.cat([tracks.ygen_id, clusters.ygen_id]),\n",
    "                  ycand = torch.cat([tracks.ycand, clusters.ycand]),\n",
    "                  ycand_id = torch.cat([tracks.ycand_id, clusters.ycand_id]),\n",
    "                  batch = torch.cat([tracks.batch, clusters.batch]),\n",
    "                 )\n",
    "    \n",
    "    return event"
   ]
  },
  {
   "cell_type": "code",
   "execution_count": 15,
   "metadata": {},
   "outputs": [],
   "source": [
    "def compute_weights(target_ids, num_classes):\n",
    "    \"\"\"\n",
    "    computes necessary weights to accomodate class imbalance in the loss function\n",
    "    \"\"\"\n",
    "\n",
    "    vs, cs = torch.unique(target_ids, return_counts=True)\n",
    "    weights = torch.zeros(num_classes)\n",
    "    for k, v in zip(vs, cs):\n",
    "        weights[k] = 1.0 / math.sqrt(float(v))\n",
    "    # weights[2] = weights[2] * 3  # emphasize nhadrons\n",
    "    return weights\n",
    "\n",
    "def train_mlpf(data, batch_size, model, with_VICreg, epochs):\n",
    "        \n",
    "    data_train = data[:1000]\n",
    "    data_val = data[4000:5000]\n",
    "    data_test = data[5000:]\n",
    "\n",
    "    train_loader = torch_geometric.loader.DataLoader(data_train, batch_size)\n",
<<<<<<< HEAD
>>>>>>> Z0zzz-master
=======
>>>>>>> Z0zzz-master
    "    val_loader = torch_geometric.loader.DataLoader(data_val, batch_size)\n",
    "    test_loader = torch_geometric.loader.DataLoader(data_test, batch_size)\n",
    "    \n",
    "    lr = 1e-3\n",
    "    optimizer = torch.optim.SGD(model.parameters(), lr=lr)#, momentum= 0.9, weight_decay=1.5e-4)\n",
    "\n",
    "    patience = 20\n",
    "    best_val_loss = 99999.9\n",
    "    stale_epochs = 0\n",
    "\n",
    "    losses_train, losses_valid = [], []\n",
    "\n",
    "    encoder.eval()\n",
<<<<<<< HEAD
<<<<<<< HEAD
    "    decoder.eval()    \n",
    "\n",
    "    for epoch in tqdm(range(epochs)):\n",
    "\n",
    "        model.train()\n",
    "        loss_train = 0\n",
=======
=======
>>>>>>> Z0zzz-master
    "    model.train()\n",
    "\n",
    "    for epoch in tqdm(range(epochs)):\n",
    "\n",
    "        loss_train = 0\n",
    "\n",
<<<<<<< HEAD
>>>>>>> Z0zzz-master
=======
>>>>>>> Z0zzz-master
    "        for batch in tqdm(train_loader):\n",
    "            if with_VICreg:\n",
    "                # make transformation\n",
    "                tracks, clusters = distinguish_PFelements(batch)\n",
    "\n",
<<<<<<< HEAD
<<<<<<< HEAD
    "                ### ENCODE\n",
    "                embedding_tracks, embedding_clusters = encoder(tracks, clusters)\n",
    "                ### POOLING\n",
    "                pooled_tracks = global_mean_pool(embedding_tracks, tracks.batch)     \n",
    "                pooled_clusters = global_mean_pool(embedding_clusters, clusters.batch)\n",
    "                ### DECODE\n",
    "                out_tracks, out_clusters = decoder(pooled_tracks, pooled_clusters)\n",
    "      \n",
    "                # use the learnt representation as your input as well as the global feature vector\n",
    "                tracks.x = torch.cat([tracks.x, embedding_tracks, out_tracks[tracks.batch]], axis=1)\n",
    "                clusters.x = torch.cat([clusters.x, embedding_clusters, out_clusters[clusters.batch]], axis=1)\n",
    "\n",
=======
=======
>>>>>>> Z0zzz-master
    "                # make encoder forward pass \n",
    "                embedding_tracks, embedding_clusters = encoder(tracks, clusters)\n",
    "\n",
    "                # use the learnt representation as your input\n",
    "                tracks.x = torch.cat([tracks.x, embedding_tracks], axis=1)\n",
    "#                 tracks.x = embedding_tracks\n",
    "                clusters.x = torch.cat([clusters.x, embedding_clusters], axis=1)\n",
    "#                 clusters.x = embedding_clusters    \n",
<<<<<<< HEAD
>>>>>>> Z0zzz-master
=======
>>>>>>> Z0zzz-master
    "                event = combine_PFelements(tracks, clusters)\n",
    "\n",
    "            else:\n",
    "                event = batch\n",
    "                \n",
    "            # make mlpf forward pass\n",
    "            pred_ids_one_hot = model(event)\n",
    "            pred_ids = torch.argmax(pred_ids_one_hot, axis=1)\n",
    "            target_ids = event.ygen_id\n",
    "\n",
    "            weights = compute_weights(target_ids, num_classes=6)  # to accomodate class imbalance\n",
    "            loss = torch.nn.functional.cross_entropy(pred_ids_one_hot, target_ids, weight=weights)  # for classifying PID\n",
    "\n",
    "            # update parameters\n",
    "            for param in model.parameters():\n",
    "                param.grad = None\n",
    "            loss.backward()\n",
    "            optimizer.step()\n",
    "\n",
    "            loss_train += loss.detach()\n",
    "\n",
<<<<<<< HEAD
<<<<<<< HEAD
    "            \n",
    "        model.eval()\n",
    "        loss_valid = 0\n",
    "        with torch.no_grad():\n",
    "            for batch in tqdm(val_loader):\n",
    "                if with_VICreg:            \n",
    "                    # make transformation\n",
    "                    tracks, clusters = distinguish_PFelements(batch)\n",
    "\n",
    "                    ### ENCODE\n",
    "                    embedding_tracks, embedding_clusters = encoder(tracks, clusters)\n",
    "                    ### POOLING\n",
    "                    pooled_tracks = global_mean_pool(embedding_tracks, tracks.batch)     \n",
    "                    pooled_clusters = global_mean_pool(embedding_clusters, clusters.batch)\n",
    "                    ### DECODE\n",
    "                    out_tracks, out_clusters = decoder(pooled_tracks, pooled_clusters)\n",
    "      \n",
    "                    # use the learnt representation as your input as well as the global feature vector\n",
    "                    tracks.x = torch.cat([tracks.x, embedding_tracks, out_tracks[tracks.batch]], axis=1)\n",
    "                    clusters.x = torch.cat([clusters.x, embedding_clusters, out_clusters[clusters.batch]], axis=1)\n",
    "\n",
    "                    event = combine_PFelements(tracks, clusters)\n",
    "\n",
    "                else:\n",
    "                    event = batch\n",
    "\n",
    "                # make mlpf forward pass\n",
    "                pred_ids_one_hot = model(event)\n",
    "                pred_ids = torch.argmax(pred_ids_one_hot, axis=1)\n",
    "                target_ids = event.ygen_id\n",
    "\n",
    "                weights = compute_weights(target_ids, num_classes=6)  # to accomodate class imbalance\n",
    "                loss = torch.nn.functional.cross_entropy(pred_ids_one_hot, target_ids, weight=weights)  # for classifying PID\n",
    "\n",
    "                loss_valid += loss.detach()\n",
=======
=======
>>>>>>> Z0zzz-master
    "        loss_valid = 0\n",
    "\n",
    "        for batch in tqdm(val_loader):\n",
    "            if with_VICreg:            \n",
    "                # make transformation\n",
    "                tracks, clusters = distinguish_PFelements(batch)\n",
    "\n",
    "                # make encoder forward pass \n",
    "                embedding_tracks, embedding_clusters = encoder(tracks, clusters)\n",
    "\n",
    "                # use the learnt representation as your input\n",
    "                tracks.x = torch.cat([tracks.x, embedding_tracks], axis=1)\n",
    "#                 tracks.x = embedding_tracks\n",
    "                clusters.x = torch.cat([clusters.x, embedding_clusters], axis=1)\n",
    "#                 clusters.x = embedding_clusters    \n",
    "                event = combine_PFelements(tracks, clusters)\n",
    "\n",
    "            else:\n",
    "                event = batch\n",
    "                \n",
    "            # make mlpf forward pass\n",
    "            pred_ids_one_hot = model(event)\n",
    "            pred_ids = torch.argmax(pred_ids_one_hot, axis=1)\n",
    "            target_ids = event.ygen_id\n",
    "\n",
    "            weights = compute_weights(target_ids, num_classes=6)  # to accomodate class imbalance\n",
    "            loss = torch.nn.functional.cross_entropy(pred_ids_one_hot, target_ids, weight=weights)  # for classifying PID\n",
    "\n",
    "            loss_valid += loss.detach()\n",
<<<<<<< HEAD
>>>>>>> Z0zzz-master
=======
>>>>>>> Z0zzz-master
    "\n",
    "        print(f\"epoch {epoch} - train: {round(loss_train.item(),3)} - valid: {round(loss_valid.item(), 3)} - stale={stale_epochs}\")\n",
    "\n",
    "        losses_train.append(loss_train/len(train_loader)) \n",
    "        losses_valid.append(loss_valid/len(val_loader))\n",
    "\n",
    "        # early-stopping\n",
    "        if losses_valid[epoch] < best_val_loss:\n",
    "            best_val_loss = losses_valid[epoch]\n",
    "            stale_epochs = 0\n",
    "        else:\n",
    "            stale_epochs += 1\n",
    "            \n",
    "    fig, ax = plt.subplots()\n",
    "    ax.plot(range(len(losses_train[1:])), losses_train[1:], label=\"training\")\n",
    "    ax.plot(range(len(losses_valid[1:])), losses_valid[1:], label=\"validation\")\n",
<<<<<<< HEAD
<<<<<<< HEAD
    "    ax.set_xlabel(\"Epochs\", fontsize=15)\n",
    "    ax.set_ylabel(\"Loss\", fontsize=15)\n",
    "    if with_VICreg:\n",
    "        ax.legend(title='ssl MLPF', loc=\"best\", title_fontsize=20, fontsize=15);\n",
    "    else:\n",
    "        ax.legend(title='native MLPF', loc=\"best\", title_fontsize=20, fontsize=15);\n",
=======
=======
>>>>>>> Z0zzz-master
    "    ax.set_xlabel(\"Epochs\")\n",
    "    ax.set_ylabel(\"Loss\")\n",
    "    if with_VICreg:\n",
    "        ax.legend(title='ssl MLPF', loc=\"best\")\n",
    "    else:\n",
    "        ax.legend(title='native MLPF', loc=\"best\")\n",
<<<<<<< HEAD
>>>>>>> Z0zzz-master
=======
>>>>>>> Z0zzz-master
    "    return losses_train, losses_valid"
   ]
  },
  {
   "cell_type": "code",
<<<<<<< HEAD
<<<<<<< HEAD
   "execution_count": 232,
=======
   "execution_count": 16,
>>>>>>> Z0zzz-master
=======
   "execution_count": 16,
>>>>>>> Z0zzz-master
   "metadata": {
    "scrolled": true
   },
   "outputs": [
    {
     "data": {
      "application/vnd.jupyter.widget-view+json": {
<<<<<<< HEAD
<<<<<<< HEAD
       "model_id": "855afdfef4dc466f83273b5b6e04b894",
=======
=======
>>>>>>> Z0zzz-master
       "model_id": "cd0be5859fd5436386bd9c2cab99cb49",
       "version_major": 2,
       "version_minor": 0
      },
      "text/plain": [
       "HBox(children=(FloatProgress(value=0.0), HTML(value='')))"
      ]
     },
     "metadata": {},
     "output_type": "display_data"
    },
    {
     "data": {
      "application/vnd.jupyter.widget-view+json": {
       "model_id": "405bb7269cd749dfaa323be4ff67fa84",
       "version_major": 2,
       "version_minor": 0
      },
      "text/plain": [
       "HBox(children=(FloatProgress(value=0.0, max=20.0), HTML(value='')))"
      ]
     },
     "metadata": {},
     "output_type": "display_data"
    },
    {
     "name": "stdout",
     "output_type": "stream",
     "text": [
      "\n"
     ]
    },
    {
     "data": {
      "application/vnd.jupyter.widget-view+json": {
       "model_id": "259b3847022b49bd882a381149337453",
       "version_major": 2,
       "version_minor": 0
      },
      "text/plain": [
       "HBox(children=(FloatProgress(value=0.0, max=20.0), HTML(value='')))"
      ]
     },
     "metadata": {},
     "output_type": "display_data"
    },
    {
     "name": "stdout",
     "output_type": "stream",
     "text": [
      "\n",
      "epoch 0 - train: 105.353 - valid: 76.361 - stale=0\n"
     ]
    },
    {
     "data": {
      "application/vnd.jupyter.widget-view+json": {
       "model_id": "0e8c10a3e555446097ab22355254de4f",
       "version_major": 2,
       "version_minor": 0
      },
      "text/plain": [
       "HBox(children=(FloatProgress(value=0.0, max=20.0), HTML(value='')))"
      ]
     },
     "metadata": {},
     "output_type": "display_data"
    },
    {
     "name": "stdout",
     "output_type": "stream",
     "text": [
      "\n"
     ]
    },
    {
     "data": {
      "application/vnd.jupyter.widget-view+json": {
       "model_id": "b0a6d15d0f934251934674d6ad507436",
       "version_major": 2,
       "version_minor": 0
      },
      "text/plain": [
       "HBox(children=(FloatProgress(value=0.0, max=20.0), HTML(value='')))"
      ]
     },
     "metadata": {},
     "output_type": "display_data"
    },
    {
     "name": "stdout",
     "output_type": "stream",
     "text": [
      "\n",
      "epoch 1 - train: 60.035 - valid: 60.476 - stale=0\n"
     ]
    },
    {
     "data": {
      "application/vnd.jupyter.widget-view+json": {
       "model_id": "61bad1fdcdd849d689b1be2b3cec4642",
       "version_major": 2,
       "version_minor": 0
      },
      "text/plain": [
       "HBox(children=(FloatProgress(value=0.0, max=20.0), HTML(value='')))"
      ]
     },
     "metadata": {},
     "output_type": "display_data"
    },
    {
     "name": "stdout",
     "output_type": "stream",
     "text": [
      "\n"
     ]
    },
    {
     "data": {
      "application/vnd.jupyter.widget-view+json": {
       "model_id": "e88fd94eb06a4a169ab6839f60df9bff",
       "version_major": 2,
       "version_minor": 0
      },
      "text/plain": [
       "HBox(children=(FloatProgress(value=0.0, max=20.0), HTML(value='')))"
      ]
     },
     "metadata": {},
     "output_type": "display_data"
    },
    {
     "name": "stdout",
     "output_type": "stream",
     "text": [
      "\n",
      "epoch 2 - train: 45.882 - valid: 33.976 - stale=0\n"
     ]
    },
    {
     "data": {
      "application/vnd.jupyter.widget-view+json": {
       "model_id": "6c732c364aef486293c8490b3b6d8318",
       "version_major": 2,
       "version_minor": 0
      },
      "text/plain": [
       "HBox(children=(FloatProgress(value=0.0, max=20.0), HTML(value='')))"
      ]
     },
     "metadata": {},
     "output_type": "display_data"
    },
    {
     "name": "stdout",
     "output_type": "stream",
     "text": [
      "\n"
     ]
    },
    {
     "data": {
      "application/vnd.jupyter.widget-view+json": {
       "model_id": "1b54ccd2e79c4f2482ce3c54ab94623b",
       "version_major": 2,
       "version_minor": 0
      },
      "text/plain": [
       "HBox(children=(FloatProgress(value=0.0, max=20.0), HTML(value='')))"
      ]
     },
     "metadata": {},
     "output_type": "display_data"
    },
    {
     "name": "stdout",
     "output_type": "stream",
     "text": [
      "\n",
      "epoch 3 - train: 35.963 - valid: 35.222 - stale=0\n"
     ]
    },
    {
     "data": {
      "application/vnd.jupyter.widget-view+json": {
       "model_id": "e0abd0b508214d2282b97c3444d70ec5",
       "version_major": 2,
       "version_minor": 0
      },
      "text/plain": [
       "HBox(children=(FloatProgress(value=0.0, max=20.0), HTML(value='')))"
      ]
     },
     "metadata": {},
     "output_type": "display_data"
    },
    {
     "name": "stdout",
     "output_type": "stream",
     "text": [
      "\n"
     ]
    },
    {
     "data": {
      "application/vnd.jupyter.widget-view+json": {
       "model_id": "c33a43b489de4d8c9ce2436dcd70cfbf",
       "version_major": 2,
       "version_minor": 0
      },
      "text/plain": [
       "HBox(children=(FloatProgress(value=0.0, max=20.0), HTML(value='')))"
      ]
     },
     "metadata": {},
     "output_type": "display_data"
    },
    {
     "name": "stdout",
     "output_type": "stream",
     "text": [
      "\n",
      "epoch 4 - train: 32.589 - valid: 30.994 - stale=1\n"
     ]
    },
    {
     "data": {
      "application/vnd.jupyter.widget-view+json": {
       "model_id": "9156a50712ee46729ed55b465d0bfc12",
       "version_major": 2,
       "version_minor": 0
      },
      "text/plain": [
       "HBox(children=(FloatProgress(value=0.0, max=20.0), HTML(value='')))"
      ]
     },
     "metadata": {},
     "output_type": "display_data"
    },
    {
     "name": "stdout",
     "output_type": "stream",
     "text": [
      "\n"
     ]
    },
    {
     "data": {
      "application/vnd.jupyter.widget-view+json": {
       "model_id": "59a567e7c567494a8c8d87b68d61f8ab",
       "version_major": 2,
       "version_minor": 0
      },
      "text/plain": [
       "HBox(children=(FloatProgress(value=0.0, max=20.0), HTML(value='')))"
      ]
     },
     "metadata": {},
     "output_type": "display_data"
    },
    {
     "name": "stdout",
     "output_type": "stream",
     "text": [
      "\n",
      "epoch 5 - train: 29.858 - valid: 28.746 - stale=0\n"
     ]
    },
    {
     "data": {
      "application/vnd.jupyter.widget-view+json": {
       "model_id": "458ccecd41a0406dae42c6a6350d958d",
       "version_major": 2,
       "version_minor": 0
      },
      "text/plain": [
       "HBox(children=(FloatProgress(value=0.0, max=20.0), HTML(value='')))"
      ]
     },
     "metadata": {},
     "output_type": "display_data"
    },
    {
     "name": "stdout",
     "output_type": "stream",
     "text": [
      "\n"
     ]
    },
    {
     "data": {
      "application/vnd.jupyter.widget-view+json": {
       "model_id": "19f2f01f4d2946c983eeceec9ce67f14",
       "version_major": 2,
       "version_minor": 0
      },
      "text/plain": [
       "HBox(children=(FloatProgress(value=0.0, max=20.0), HTML(value='')))"
      ]
     },
     "metadata": {},
     "output_type": "display_data"
    },
    {
     "name": "stdout",
     "output_type": "stream",
     "text": [
      "\n",
      "epoch 6 - train: 28.088 - valid: 27.488 - stale=0\n"
     ]
    },
    {
     "data": {
      "application/vnd.jupyter.widget-view+json": {
       "model_id": "f0b6e278889e4eb8acb5b531322d0583",
       "version_major": 2,
       "version_minor": 0
      },
      "text/plain": [
       "HBox(children=(FloatProgress(value=0.0, max=20.0), HTML(value='')))"
      ]
     },
     "metadata": {},
     "output_type": "display_data"
    },
    {
     "name": "stdout",
     "output_type": "stream",
     "text": [
      "\n"
     ]
    },
    {
     "data": {
      "application/vnd.jupyter.widget-view+json": {
       "model_id": "047e5d7d9f79461f8ff9062ec53dcf9e",
       "version_major": 2,
       "version_minor": 0
      },
      "text/plain": [
       "HBox(children=(FloatProgress(value=0.0, max=20.0), HTML(value='')))"
      ]
     },
     "metadata": {},
     "output_type": "display_data"
    },
    {
     "name": "stdout",
     "output_type": "stream",
     "text": [
      "\n",
      "epoch 7 - train: 26.899 - valid: 26.55 - stale=0\n"
     ]
    },
    {
     "data": {
      "application/vnd.jupyter.widget-view+json": {
       "model_id": "e986b8bc99bc45dc8bf7c8330b17c0ae",
       "version_major": 2,
       "version_minor": 0
      },
      "text/plain": [
       "HBox(children=(FloatProgress(value=0.0, max=20.0), HTML(value='')))"
      ]
     },
     "metadata": {},
     "output_type": "display_data"
    },
    {
     "name": "stdout",
     "output_type": "stream",
     "text": [
      "\n"
     ]
    },
    {
     "data": {
      "application/vnd.jupyter.widget-view+json": {
       "model_id": "be1bf4dd3eef433eb8b322721a7e9d6e",
       "version_major": 2,
       "version_minor": 0
      },
      "text/plain": [
       "HBox(children=(FloatProgress(value=0.0, max=20.0), HTML(value='')))"
      ]
     },
     "metadata": {},
     "output_type": "display_data"
    },
    {
     "name": "stdout",
     "output_type": "stream",
     "text": [
      "\n",
      "epoch 8 - train: 26.057 - valid: 25.826 - stale=0\n"
     ]
    },
    {
     "data": {
      "application/vnd.jupyter.widget-view+json": {
       "model_id": "d013b77ede3f4c54bc01ab6c90af54d2",
       "version_major": 2,
       "version_minor": 0
      },
      "text/plain": [
       "HBox(children=(FloatProgress(value=0.0, max=20.0), HTML(value='')))"
      ]
     },
     "metadata": {},
     "output_type": "display_data"
    },
    {
     "name": "stdout",
     "output_type": "stream",
     "text": [
      "\n"
     ]
    },
    {
     "data": {
      "application/vnd.jupyter.widget-view+json": {
       "model_id": "b72cddddbc144d9ca298ed0794151202",
       "version_major": 2,
       "version_minor": 0
      },
      "text/plain": [
       "HBox(children=(FloatProgress(value=0.0, max=20.0), HTML(value='')))"
      ]
     },
     "metadata": {},
     "output_type": "display_data"
    },
    {
     "name": "stdout",
     "output_type": "stream",
     "text": [
      "\n",
      "epoch 9 - train: 25.431 - valid: 25.26 - stale=0\n"
     ]
    },
    {
     "data": {
      "application/vnd.jupyter.widget-view+json": {
       "model_id": "0a80126b565e4e7685077370722172d1",
       "version_major": 2,
       "version_minor": 0
      },
      "text/plain": [
       "HBox(children=(FloatProgress(value=0.0, max=20.0), HTML(value='')))"
      ]
     },
     "metadata": {},
     "output_type": "display_data"
    },
    {
     "name": "stdout",
     "output_type": "stream",
     "text": [
      "\n"
     ]
    },
    {
     "data": {
      "application/vnd.jupyter.widget-view+json": {
       "model_id": "e344ce9c718848ff96cff1ed8abe5e5c",
       "version_major": 2,
       "version_minor": 0
      },
      "text/plain": [
       "HBox(children=(FloatProgress(value=0.0, max=20.0), HTML(value='')))"
      ]
     },
     "metadata": {},
     "output_type": "display_data"
    },
    {
     "name": "stdout",
     "output_type": "stream",
     "text": [
      "\n",
      "epoch 10 - train: 24.943 - valid: 24.814 - stale=0\n"
     ]
    },
    {
     "data": {
      "application/vnd.jupyter.widget-view+json": {
       "model_id": "b36955900b31408c945314104256beab",
       "version_major": 2,
       "version_minor": 0
      },
      "text/plain": [
       "HBox(children=(FloatProgress(value=0.0, max=20.0), HTML(value='')))"
      ]
     },
     "metadata": {},
     "output_type": "display_data"
    },
    {
     "name": "stdout",
     "output_type": "stream",
     "text": [
      "\n"
     ]
    },
    {
     "data": {
      "application/vnd.jupyter.widget-view+json": {
       "model_id": "415d6d3f75384667b6663e85ce92a20d",
       "version_major": 2,
       "version_minor": 0
      },
      "text/plain": [
       "HBox(children=(FloatProgress(value=0.0, max=20.0), HTML(value='')))"
      ]
     },
     "metadata": {},
     "output_type": "display_data"
    },
    {
     "name": "stdout",
     "output_type": "stream",
     "text": [
      "\n",
      "epoch 11 - train: 24.547 - valid: 24.453 - stale=0\n"
     ]
    },
    {
     "data": {
      "application/vnd.jupyter.widget-view+json": {
       "model_id": "10beb9cd00bf4cdeb900fd4dcd63e7d4",
       "version_major": 2,
       "version_minor": 0
      },
      "text/plain": [
       "HBox(children=(FloatProgress(value=0.0, max=20.0), HTML(value='')))"
      ]
     },
     "metadata": {},
     "output_type": "display_data"
    },
    {
     "name": "stdout",
     "output_type": "stream",
     "text": [
      "\n"
     ]
    },
    {
     "data": {
      "application/vnd.jupyter.widget-view+json": {
       "model_id": "0ee0169b356c424cb1b3d572418279e8",
       "version_major": 2,
       "version_minor": 0
      },
      "text/plain": [
       "HBox(children=(FloatProgress(value=0.0, max=20.0), HTML(value='')))"
      ]
     },
     "metadata": {},
     "output_type": "display_data"
    },
    {
     "name": "stdout",
     "output_type": "stream",
     "text": [
      "\n",
      "epoch 12 - train: 24.215 - valid: 24.152 - stale=0\n"
     ]
    },
    {
     "data": {
      "application/vnd.jupyter.widget-view+json": {
       "model_id": "6ce01a3287f64a70b08a9c6a8b01071a",
       "version_major": 2,
       "version_minor": 0
      },
      "text/plain": [
       "HBox(children=(FloatProgress(value=0.0, max=20.0), HTML(value='')))"
      ]
     },
     "metadata": {},
     "output_type": "display_data"
    },
    {
     "name": "stdout",
     "output_type": "stream",
     "text": [
      "\n"
     ]
    },
    {
     "data": {
      "application/vnd.jupyter.widget-view+json": {
       "model_id": "97af1be42ff54026b36612023560ff5b",
       "version_major": 2,
       "version_minor": 0
      },
      "text/plain": [
       "HBox(children=(FloatProgress(value=0.0, max=20.0), HTML(value='')))"
      ]
     },
     "metadata": {},
     "output_type": "display_data"
    },
    {
     "name": "stdout",
     "output_type": "stream",
     "text": [
      "\n",
      "epoch 13 - train: 23.929 - valid: 23.891 - stale=0\n"
     ]
    },
    {
     "data": {
      "application/vnd.jupyter.widget-view+json": {
       "model_id": "61e1349970444d9384e57a2562b9c0ae",
       "version_major": 2,
       "version_minor": 0
      },
      "text/plain": [
       "HBox(children=(FloatProgress(value=0.0, max=20.0), HTML(value='')))"
      ]
     },
     "metadata": {},
     "output_type": "display_data"
    },
    {
     "name": "stdout",
     "output_type": "stream",
     "text": [
      "\n"
     ]
    },
    {
     "data": {
      "application/vnd.jupyter.widget-view+json": {
       "model_id": "e501ee9380994d5791179e2d39d54ea9",
       "version_major": 2,
       "version_minor": 0
      },
      "text/plain": [
       "HBox(children=(FloatProgress(value=0.0, max=20.0), HTML(value='')))"
      ]
     },
     "metadata": {},
     "output_type": "display_data"
    },
    {
     "name": "stdout",
     "output_type": "stream",
     "text": [
      "\n",
      "epoch 14 - train: 23.674 - valid: 23.659 - stale=0\n"
     ]
    },
    {
     "data": {
      "application/vnd.jupyter.widget-view+json": {
       "model_id": "4c350461a4194bd493c35d0b79998a7c",
       "version_major": 2,
       "version_minor": 0
      },
      "text/plain": [
       "HBox(children=(FloatProgress(value=0.0, max=20.0), HTML(value='')))"
      ]
     },
     "metadata": {},
     "output_type": "display_data"
    },
    {
     "name": "stdout",
     "output_type": "stream",
     "text": [
      "\n"
     ]
    },
    {
     "data": {
      "application/vnd.jupyter.widget-view+json": {
       "model_id": "5f8bf2d3a4204225847d1af7e1bf11ce",
       "version_major": 2,
       "version_minor": 0
      },
      "text/plain": [
       "HBox(children=(FloatProgress(value=0.0, max=20.0), HTML(value='')))"
      ]
     },
     "metadata": {},
     "output_type": "display_data"
    },
    {
     "name": "stdout",
     "output_type": "stream",
     "text": [
      "\n",
      "epoch 15 - train: 23.443 - valid: 23.446 - stale=0\n"
     ]
    },
    {
     "data": {
      "application/vnd.jupyter.widget-view+json": {
       "model_id": "9899549e2d474692ade7cb48e965155b",
       "version_major": 2,
       "version_minor": 0
      },
      "text/plain": [
       "HBox(children=(FloatProgress(value=0.0, max=20.0), HTML(value='')))"
      ]
     },
     "metadata": {},
     "output_type": "display_data"
    },
    {
     "name": "stdout",
     "output_type": "stream",
     "text": [
      "\n"
     ]
    },
    {
     "data": {
      "application/vnd.jupyter.widget-view+json": {
       "model_id": "88298cb2daec49389ac7fabc2ee9b147",
       "version_major": 2,
       "version_minor": 0
      },
      "text/plain": [
       "HBox(children=(FloatProgress(value=0.0, max=20.0), HTML(value='')))"
      ]
     },
     "metadata": {},
     "output_type": "display_data"
    },
    {
     "name": "stdout",
     "output_type": "stream",
     "text": [
      "\n",
      "epoch 16 - train: 23.229 - valid: 23.246 - stale=0\n"
     ]
    },
    {
     "data": {
      "application/vnd.jupyter.widget-view+json": {
       "model_id": "48433a74ac7b44a18d6fc06c38031cf6",
       "version_major": 2,
       "version_minor": 0
      },
      "text/plain": [
       "HBox(children=(FloatProgress(value=0.0, max=20.0), HTML(value='')))"
      ]
     },
     "metadata": {},
     "output_type": "display_data"
    },
    {
     "name": "stdout",
     "output_type": "stream",
     "text": [
      "\n"
     ]
    },
    {
     "data": {
      "application/vnd.jupyter.widget-view+json": {
       "model_id": "8f51a0bd8f3c416f8889a7fb264b7cc7",
       "version_major": 2,
       "version_minor": 0
      },
      "text/plain": [
       "HBox(children=(FloatProgress(value=0.0, max=20.0), HTML(value='')))"
      ]
     },
     "metadata": {},
     "output_type": "display_data"
    },
    {
     "name": "stdout",
     "output_type": "stream",
     "text": [
      "\n",
      "epoch 17 - train: 23.026 - valid: 23.054 - stale=0\n"
     ]
    },
    {
     "data": {
      "application/vnd.jupyter.widget-view+json": {
       "model_id": "3c697820c4a144c9bca7306a2839b278",
       "version_major": 2,
       "version_minor": 0
      },
      "text/plain": [
       "HBox(children=(FloatProgress(value=0.0, max=20.0), HTML(value='')))"
      ]
     },
     "metadata": {},
     "output_type": "display_data"
    },
    {
     "name": "stdout",
     "output_type": "stream",
     "text": [
      "\n"
     ]
    },
    {
     "data": {
      "application/vnd.jupyter.widget-view+json": {
       "model_id": "3adb0fc124f843a1859b73b2434740c9",
       "version_major": 2,
       "version_minor": 0
      },
      "text/plain": [
       "HBox(children=(FloatProgress(value=0.0, max=20.0), HTML(value='')))"
      ]
     },
     "metadata": {},
     "output_type": "display_data"
    },
    {
     "name": "stdout",
     "output_type": "stream",
     "text": [
      "\n",
      "epoch 18 - train: 22.842 - valid: 22.899 - stale=0\n"
     ]
    },
    {
     "data": {
      "application/vnd.jupyter.widget-view+json": {
       "model_id": "9880a1a355db4fe698b39615a2292fac",
       "version_major": 2,
       "version_minor": 0
      },
      "text/plain": [
       "HBox(children=(FloatProgress(value=0.0, max=20.0), HTML(value='')))"
      ]
     },
     "metadata": {},
     "output_type": "display_data"
    },
    {
     "name": "stdout",
     "output_type": "stream",
     "text": [
      "\n"
     ]
    },
    {
     "data": {
      "application/vnd.jupyter.widget-view+json": {
       "model_id": "6a09a4a79ae84d4090e7e2969ca6a484",
       "version_major": 2,
       "version_minor": 0
      },
      "text/plain": [
       "HBox(children=(FloatProgress(value=0.0, max=20.0), HTML(value='')))"
      ]
     },
     "metadata": {},
     "output_type": "display_data"
    },
    {
     "name": "stdout",
     "output_type": "stream",
     "text": [
      "\n",
      "epoch 19 - train: 22.816 - valid: 23.036 - stale=0\n"
     ]
    },
    {
     "data": {
      "application/vnd.jupyter.widget-view+json": {
       "model_id": "1e289215f2534336938561ea55f95823",
       "version_major": 2,
       "version_minor": 0
      },
      "text/plain": [
       "HBox(children=(FloatProgress(value=0.0, max=20.0), HTML(value='')))"
      ]
     },
     "metadata": {},
     "output_type": "display_data"
    },
    {
     "name": "stdout",
     "output_type": "stream",
     "text": [
      "\n"
     ]
    },
    {
     "data": {
      "application/vnd.jupyter.widget-view+json": {
       "model_id": "304ff31747974115a7d7d9c3a262eff0",
       "version_major": 2,
       "version_minor": 0
      },
      "text/plain": [
       "HBox(children=(FloatProgress(value=0.0, max=20.0), HTML(value='')))"
      ]
     },
     "metadata": {},
     "output_type": "display_data"
    },
    {
     "name": "stdout",
     "output_type": "stream",
     "text": [
      "\n",
      "epoch 20 - train: 22.877 - valid: 22.886 - stale=1\n"
     ]
    },
    {
     "data": {
      "application/vnd.jupyter.widget-view+json": {
       "model_id": "0ac9d6e204cf4aa38e0376aa511c8f60",
       "version_major": 2,
       "version_minor": 0
      },
      "text/plain": [
       "HBox(children=(FloatProgress(value=0.0, max=20.0), HTML(value='')))"
      ]
     },
     "metadata": {},
     "output_type": "display_data"
    },
    {
     "name": "stdout",
     "output_type": "stream",
     "text": [
      "\n"
     ]
    },
    {
     "data": {
      "application/vnd.jupyter.widget-view+json": {
       "model_id": "eedc2daa8ad04c4a94c84ff1836d5ff2",
       "version_major": 2,
       "version_minor": 0
      },
      "text/plain": [
       "HBox(children=(FloatProgress(value=0.0, max=20.0), HTML(value='')))"
      ]
     },
     "metadata": {},
     "output_type": "display_data"
    },
    {
     "name": "stdout",
     "output_type": "stream",
     "text": [
      "\n",
      "epoch 21 - train: 22.65 - valid: 22.639 - stale=0\n"
     ]
    },
    {
     "data": {
      "application/vnd.jupyter.widget-view+json": {
       "model_id": "e08f0978908d4768864a500fc7614cc0",
       "version_major": 2,
       "version_minor": 0
      },
      "text/plain": [
       "HBox(children=(FloatProgress(value=0.0, max=20.0), HTML(value='')))"
      ]
     },
     "metadata": {},
     "output_type": "display_data"
    },
    {
     "name": "stdout",
     "output_type": "stream",
     "text": [
      "\n"
     ]
    },
    {
     "data": {
      "application/vnd.jupyter.widget-view+json": {
       "model_id": "43fad3692fa44c39bf413e43fb790c11",
       "version_major": 2,
       "version_minor": 0
      },
      "text/plain": [
       "HBox(children=(FloatProgress(value=0.0, max=20.0), HTML(value='')))"
      ]
     },
     "metadata": {},
     "output_type": "display_data"
    },
    {
     "name": "stdout",
     "output_type": "stream",
     "text": [
      "\n",
      "epoch 22 - train: 22.428 - valid: 22.442 - stale=0\n"
     ]
    },
    {
     "data": {
      "application/vnd.jupyter.widget-view+json": {
       "model_id": "bf4bdd473c2c43ac8d0adba406023ea2",
       "version_major": 2,
       "version_minor": 0
      },
      "text/plain": [
       "HBox(children=(FloatProgress(value=0.0, max=20.0), HTML(value='')))"
      ]
     },
     "metadata": {},
     "output_type": "display_data"
    },
    {
     "name": "stdout",
     "output_type": "stream",
     "text": [
      "\n"
     ]
    },
    {
     "data": {
      "application/vnd.jupyter.widget-view+json": {
       "model_id": "663182d45fe545c6af236148d7b3e990",
       "version_major": 2,
       "version_minor": 0
      },
      "text/plain": [
       "HBox(children=(FloatProgress(value=0.0, max=20.0), HTML(value='')))"
      ]
     },
     "metadata": {},
     "output_type": "display_data"
    },
    {
     "name": "stdout",
     "output_type": "stream",
     "text": [
      "\n",
      "epoch 23 - train: 22.245 - valid: 22.276 - stale=0\n"
     ]
    },
    {
     "data": {
      "application/vnd.jupyter.widget-view+json": {
       "model_id": "321899ea5af8445da2d152ee83f2aef2",
       "version_major": 2,
       "version_minor": 0
      },
      "text/plain": [
       "HBox(children=(FloatProgress(value=0.0, max=20.0), HTML(value='')))"
      ]
     },
     "metadata": {},
     "output_type": "display_data"
    },
    {
     "name": "stdout",
     "output_type": "stream",
     "text": [
      "\n"
     ]
    },
    {
     "data": {
      "application/vnd.jupyter.widget-view+json": {
       "model_id": "e3c5b60ccc264fb1aa02880f4098b4b0",
       "version_major": 2,
       "version_minor": 0
      },
      "text/plain": [
       "HBox(children=(FloatProgress(value=0.0, max=20.0), HTML(value='')))"
      ]
     },
     "metadata": {},
     "output_type": "display_data"
    },
    {
     "name": "stdout",
     "output_type": "stream",
     "text": [
      "\n",
      "epoch 24 - train: 22.087 - valid: 22.13 - stale=0\n"
     ]
    },
    {
     "data": {
      "application/vnd.jupyter.widget-view+json": {
       "model_id": "b17d3e069d204fb4bfc14926fd8d5ef6",
       "version_major": 2,
       "version_minor": 0
      },
      "text/plain": [
       "HBox(children=(FloatProgress(value=0.0, max=20.0), HTML(value='')))"
      ]
     },
     "metadata": {},
     "output_type": "display_data"
    },
    {
     "name": "stdout",
     "output_type": "stream",
     "text": [
      "\n"
     ]
    },
    {
     "data": {
      "application/vnd.jupyter.widget-view+json": {
       "model_id": "151ff1e2bd244517ae9f260ed63a9a09",
       "version_major": 2,
       "version_minor": 0
      },
      "text/plain": [
       "HBox(children=(FloatProgress(value=0.0, max=20.0), HTML(value='')))"
      ]
     },
     "metadata": {},
     "output_type": "display_data"
    },
    {
     "name": "stdout",
     "output_type": "stream",
     "text": [
      "\n",
      "epoch 25 - train: 21.945 - valid: 21.995 - stale=0\n"
     ]
    },
    {
     "data": {
      "application/vnd.jupyter.widget-view+json": {
       "model_id": "12b9313dfb274bbe9d4ee0c3607131b6",
       "version_major": 2,
       "version_minor": 0
      },
      "text/plain": [
       "HBox(children=(FloatProgress(value=0.0, max=20.0), HTML(value='')))"
      ]
     },
     "metadata": {},
     "output_type": "display_data"
    },
    {
     "name": "stdout",
     "output_type": "stream",
     "text": [
      "\n"
     ]
    },
    {
     "data": {
      "application/vnd.jupyter.widget-view+json": {
       "model_id": "41841e6ebf2a4854891f27baf021cc3d",
       "version_major": 2,
       "version_minor": 0
      },
      "text/plain": [
       "HBox(children=(FloatProgress(value=0.0, max=20.0), HTML(value='')))"
      ]
     },
     "metadata": {},
     "output_type": "display_data"
    },
    {
     "name": "stdout",
     "output_type": "stream",
     "text": [
      "\n",
      "epoch 26 - train: 21.814 - valid: 21.869 - stale=0\n"
     ]
    },
    {
     "data": {
      "application/vnd.jupyter.widget-view+json": {
       "model_id": "2c2cb7b936ba4435bf665de0420f32e4",
       "version_major": 2,
       "version_minor": 0
      },
      "text/plain": [
       "HBox(children=(FloatProgress(value=0.0, max=20.0), HTML(value='')))"
      ]
     },
     "metadata": {},
     "output_type": "display_data"
    },
    {
     "name": "stdout",
     "output_type": "stream",
     "text": [
      "\n"
     ]
    },
    {
     "data": {
      "application/vnd.jupyter.widget-view+json": {
       "model_id": "9b918098aa4c4028b4d3cd709800708c",
       "version_major": 2,
       "version_minor": 0
      },
      "text/plain": [
       "HBox(children=(FloatProgress(value=0.0, max=20.0), HTML(value='')))"
      ]
     },
     "metadata": {},
     "output_type": "display_data"
    },
    {
     "name": "stdout",
     "output_type": "stream",
     "text": [
      "\n",
      "epoch 27 - train: 21.689 - valid: 21.748 - stale=0\n"
     ]
    },
    {
     "data": {
      "application/vnd.jupyter.widget-view+json": {
       "model_id": "c05ce584f8c54a96bfd2931ffbbaa210",
       "version_major": 2,
       "version_minor": 0
      },
      "text/plain": [
       "HBox(children=(FloatProgress(value=0.0, max=20.0), HTML(value='')))"
      ]
     },
     "metadata": {},
     "output_type": "display_data"
    },
    {
     "name": "stdout",
     "output_type": "stream",
     "text": [
      "\n"
     ]
    },
    {
     "data": {
      "application/vnd.jupyter.widget-view+json": {
       "model_id": "14c6e46fd22445c4b298cf7bc1227fd2",
       "version_major": 2,
       "version_minor": 0
      },
      "text/plain": [
       "HBox(children=(FloatProgress(value=0.0, max=20.0), HTML(value='')))"
      ]
     },
     "metadata": {},
     "output_type": "display_data"
    },
    {
     "name": "stdout",
     "output_type": "stream",
     "text": [
      "\n",
      "epoch 28 - train: 21.57 - valid: 21.633 - stale=0\n"
     ]
    },
    {
     "data": {
      "application/vnd.jupyter.widget-view+json": {
       "model_id": "47b850e4e4914d739dd6d10cb324e023",
       "version_major": 2,
       "version_minor": 0
      },
      "text/plain": [
       "HBox(children=(FloatProgress(value=0.0, max=20.0), HTML(value='')))"
      ]
     },
     "metadata": {},
     "output_type": "display_data"
    },
    {
     "name": "stdout",
     "output_type": "stream",
     "text": [
      "\n"
     ]
    },
    {
     "data": {
      "application/vnd.jupyter.widget-view+json": {
       "model_id": "20bbd611d24c48019c575192f5876c5c",
       "version_major": 2,
       "version_minor": 0
      },
      "text/plain": [
       "HBox(children=(FloatProgress(value=0.0, max=20.0), HTML(value='')))"
      ]
     },
     "metadata": {},
     "output_type": "display_data"
    },
    {
     "name": "stdout",
     "output_type": "stream",
     "text": [
      "\n",
      "epoch 29 - train: 21.455 - valid: 21.522 - stale=0\n"
     ]
    },
    {
     "data": {
      "application/vnd.jupyter.widget-view+json": {
       "model_id": "1aec74182db2489f80b6fe679795a803",
       "version_major": 2,
       "version_minor": 0
      },
      "text/plain": [
       "HBox(children=(FloatProgress(value=0.0, max=20.0), HTML(value='')))"
      ]
     },
     "metadata": {},
     "output_type": "display_data"
    },
    {
     "name": "stdout",
     "output_type": "stream",
     "text": [
      "\n"
     ]
    },
    {
     "data": {
      "application/vnd.jupyter.widget-view+json": {
       "model_id": "5c71ee2dc3764772b8478bffe9d5d327",
       "version_major": 2,
       "version_minor": 0
      },
      "text/plain": [
       "HBox(children=(FloatProgress(value=0.0, max=20.0), HTML(value='')))"
      ]
     },
     "metadata": {},
     "output_type": "display_data"
    },
    {
     "name": "stdout",
     "output_type": "stream",
     "text": [
      "\n",
      "epoch 30 - train: 21.345 - valid: 21.415 - stale=0\n"
     ]
    },
    {
     "data": {
      "application/vnd.jupyter.widget-view+json": {
       "model_id": "944d97118e7d4b83955f80a4832e0643",
       "version_major": 2,
       "version_minor": 0
      },
      "text/plain": [
       "HBox(children=(FloatProgress(value=0.0, max=20.0), HTML(value='')))"
      ]
     },
     "metadata": {},
     "output_type": "display_data"
    },
    {
     "name": "stdout",
     "output_type": "stream",
     "text": [
      "\n"
     ]
    },
    {
     "data": {
      "application/vnd.jupyter.widget-view+json": {
       "model_id": "c8736a02ba7f4e96821557a89eb2bdda",
       "version_major": 2,
       "version_minor": 0
      },
      "text/plain": [
       "HBox(children=(FloatProgress(value=0.0, max=20.0), HTML(value='')))"
      ]
     },
     "metadata": {},
     "output_type": "display_data"
    },
    {
     "name": "stdout",
     "output_type": "stream",
     "text": [
      "\n",
      "epoch 31 - train: 21.239 - valid: 21.312 - stale=0\n"
     ]
    },
    {
     "data": {
      "application/vnd.jupyter.widget-view+json": {
       "model_id": "dc177cc498e6420eb5783d647ed1e8db",
       "version_major": 2,
       "version_minor": 0
      },
      "text/plain": [
       "HBox(children=(FloatProgress(value=0.0, max=20.0), HTML(value='')))"
      ]
     },
     "metadata": {},
     "output_type": "display_data"
    },
    {
     "name": "stdout",
     "output_type": "stream",
     "text": [
      "\n"
     ]
    },
    {
     "data": {
      "application/vnd.jupyter.widget-view+json": {
       "model_id": "117a97192b7147beb303799766da4219",
       "version_major": 2,
       "version_minor": 0
      },
      "text/plain": [
       "HBox(children=(FloatProgress(value=0.0, max=20.0), HTML(value='')))"
      ]
     },
     "metadata": {},
     "output_type": "display_data"
    },
    {
     "name": "stdout",
     "output_type": "stream",
     "text": [
      "\n",
      "epoch 32 - train: 21.136 - valid: 21.212 - stale=0\n"
     ]
    },
    {
     "data": {
      "application/vnd.jupyter.widget-view+json": {
       "model_id": "932e532f323147f0adbc173a3e9c4d5c",
       "version_major": 2,
       "version_minor": 0
      },
      "text/plain": [
       "HBox(children=(FloatProgress(value=0.0, max=20.0), HTML(value='')))"
      ]
     },
     "metadata": {},
     "output_type": "display_data"
    },
    {
     "name": "stdout",
     "output_type": "stream",
     "text": [
      "\n"
     ]
    },
    {
     "data": {
      "application/vnd.jupyter.widget-view+json": {
       "model_id": "e2853a669efc440281fd1134125c354b",
       "version_major": 2,
       "version_minor": 0
      },
      "text/plain": [
       "HBox(children=(FloatProgress(value=0.0, max=20.0), HTML(value='')))"
      ]
     },
     "metadata": {},
     "output_type": "display_data"
    },
    {
     "name": "stdout",
     "output_type": "stream",
     "text": [
      "\n",
      "epoch 33 - train: 21.037 - valid: 21.116 - stale=0\n"
     ]
    },
    {
     "data": {
      "application/vnd.jupyter.widget-view+json": {
       "model_id": "33665ad5eda548b4a272373036b2b863",
       "version_major": 2,
       "version_minor": 0
      },
      "text/plain": [
       "HBox(children=(FloatProgress(value=0.0, max=20.0), HTML(value='')))"
      ]
     },
     "metadata": {},
     "output_type": "display_data"
    },
    {
     "name": "stdout",
     "output_type": "stream",
     "text": [
      "\n"
     ]
    },
    {
     "data": {
      "application/vnd.jupyter.widget-view+json": {
       "model_id": "2f59d767fd094ebdaf6c74e34973ed5e",
       "version_major": 2,
       "version_minor": 0
      },
      "text/plain": [
       "HBox(children=(FloatProgress(value=0.0, max=20.0), HTML(value='')))"
      ]
     },
     "metadata": {},
     "output_type": "display_data"
    },
    {
     "name": "stdout",
     "output_type": "stream",
     "text": [
      "\n",
      "epoch 34 - train: 20.942 - valid: 21.024 - stale=0\n"
     ]
    },
    {
     "data": {
      "application/vnd.jupyter.widget-view+json": {
       "model_id": "d603fd78afe94a339292a81b58369c9d",
       "version_major": 2,
       "version_minor": 0
      },
      "text/plain": [
       "HBox(children=(FloatProgress(value=0.0, max=20.0), HTML(value='')))"
      ]
     },
     "metadata": {},
     "output_type": "display_data"
    },
    {
     "name": "stdout",
     "output_type": "stream",
     "text": [
      "\n"
     ]
    },
    {
     "data": {
      "application/vnd.jupyter.widget-view+json": {
       "model_id": "9883cde973674eefbd6418f8d189442b",
       "version_major": 2,
       "version_minor": 0
      },
      "text/plain": [
       "HBox(children=(FloatProgress(value=0.0, max=20.0), HTML(value='')))"
      ]
     },
     "metadata": {},
     "output_type": "display_data"
    },
    {
     "name": "stdout",
     "output_type": "stream",
     "text": [
      "\n",
      "epoch 35 - train: 20.849 - valid: 20.935 - stale=0\n"
     ]
    },
    {
     "data": {
      "application/vnd.jupyter.widget-view+json": {
       "model_id": "4a8420b2523b44e69a1669e4063c116d",
       "version_major": 2,
       "version_minor": 0
      },
      "text/plain": [
       "HBox(children=(FloatProgress(value=0.0, max=20.0), HTML(value='')))"
      ]
     },
     "metadata": {},
     "output_type": "display_data"
    },
    {
     "name": "stdout",
     "output_type": "stream",
     "text": [
      "\n"
     ]
    },
    {
     "data": {
      "application/vnd.jupyter.widget-view+json": {
       "model_id": "09fc8bd87cba4db4a0e1a3b4e2195c57",
       "version_major": 2,
       "version_minor": 0
      },
      "text/plain": [
       "HBox(children=(FloatProgress(value=0.0, max=20.0), HTML(value='')))"
      ]
     },
     "metadata": {},
     "output_type": "display_data"
    },
    {
     "name": "stdout",
     "output_type": "stream",
     "text": [
      "\n",
      "epoch 36 - train: 20.761 - valid: 20.849 - stale=0\n"
     ]
    },
    {
     "data": {
      "application/vnd.jupyter.widget-view+json": {
       "model_id": "25d22b4458d74cfab3d205a2f78d2a25",
       "version_major": 2,
       "version_minor": 0
      },
      "text/plain": [
       "HBox(children=(FloatProgress(value=0.0, max=20.0), HTML(value='')))"
      ]
     },
     "metadata": {},
     "output_type": "display_data"
    },
    {
     "name": "stdout",
     "output_type": "stream",
     "text": [
      "\n"
     ]
    },
    {
     "data": {
      "application/vnd.jupyter.widget-view+json": {
       "model_id": "95a29143379c47a293a43bc98abb1d85",
       "version_major": 2,
       "version_minor": 0
      },
      "text/plain": [
       "HBox(children=(FloatProgress(value=0.0, max=20.0), HTML(value='')))"
      ]
     },
     "metadata": {},
     "output_type": "display_data"
    },
    {
     "name": "stdout",
     "output_type": "stream",
     "text": [
      "\n",
      "epoch 37 - train: 20.675 - valid: 20.766 - stale=0\n"
     ]
    },
    {
     "data": {
      "application/vnd.jupyter.widget-view+json": {
       "model_id": "48d8e8e6d2734e18adbb0eb2c4ae2199",
       "version_major": 2,
       "version_minor": 0
      },
      "text/plain": [
       "HBox(children=(FloatProgress(value=0.0, max=20.0), HTML(value='')))"
      ]
     },
     "metadata": {},
     "output_type": "display_data"
    },
    {
     "name": "stdout",
     "output_type": "stream",
     "text": [
      "\n"
     ]
    },
    {
     "data": {
      "application/vnd.jupyter.widget-view+json": {
       "model_id": "f4c3968e435347469c0953e2acfd3f64",
       "version_major": 2,
       "version_minor": 0
      },
      "text/plain": [
       "HBox(children=(FloatProgress(value=0.0, max=20.0), HTML(value='')))"
      ]
     },
     "metadata": {},
     "output_type": "display_data"
    },
    {
     "name": "stdout",
     "output_type": "stream",
     "text": [
      "\n",
      "epoch 38 - train: 20.592 - valid: 20.686 - stale=0\n"
     ]
    },
    {
     "data": {
      "application/vnd.jupyter.widget-view+json": {
       "model_id": "5263085eaf4041a68fbd215ac9cdfc0c",
       "version_major": 2,
       "version_minor": 0
      },
      "text/plain": [
       "HBox(children=(FloatProgress(value=0.0, max=20.0), HTML(value='')))"
      ]
     },
     "metadata": {},
     "output_type": "display_data"
    },
    {
     "name": "stdout",
     "output_type": "stream",
     "text": [
      "\n"
     ]
    },
    {
     "data": {
      "application/vnd.jupyter.widget-view+json": {
       "model_id": "ae3382d521394e17997c58fa7fa35848",
       "version_major": 2,
       "version_minor": 0
      },
      "text/plain": [
       "HBox(children=(FloatProgress(value=0.0, max=20.0), HTML(value='')))"
      ]
     },
     "metadata": {},
     "output_type": "display_data"
    },
    {
     "name": "stdout",
     "output_type": "stream",
     "text": [
      "\n",
      "epoch 39 - train: 20.512 - valid: 20.609 - stale=0\n"
     ]
    },
    {
     "data": {
      "application/vnd.jupyter.widget-view+json": {
       "model_id": "a8f67d10774d4b08a73af9243590eb80",
       "version_major": 2,
       "version_minor": 0
      },
      "text/plain": [
       "HBox(children=(FloatProgress(value=0.0, max=20.0), HTML(value='')))"
      ]
     },
     "metadata": {},
     "output_type": "display_data"
    },
    {
     "name": "stdout",
     "output_type": "stream",
     "text": [
      "\n"
     ]
    },
    {
     "data": {
      "application/vnd.jupyter.widget-view+json": {
       "model_id": "5c06a3b2f36d4c4aacc49d0a34c85860",
       "version_major": 2,
       "version_minor": 0
      },
      "text/plain": [
       "HBox(children=(FloatProgress(value=0.0, max=20.0), HTML(value='')))"
      ]
     },
     "metadata": {},
     "output_type": "display_data"
    },
    {
     "name": "stdout",
     "output_type": "stream",
     "text": [
      "\n",
      "epoch 40 - train: 20.436 - valid: 20.535 - stale=0\n"
     ]
    },
    {
     "data": {
      "application/vnd.jupyter.widget-view+json": {
       "model_id": "9c47d6514d274a2293e3f5b4e7174df5",
       "version_major": 2,
       "version_minor": 0
      },
      "text/plain": [
       "HBox(children=(FloatProgress(value=0.0, max=20.0), HTML(value='')))"
      ]
     },
     "metadata": {},
     "output_type": "display_data"
    },
    {
     "name": "stdout",
     "output_type": "stream",
     "text": [
      "\n"
     ]
    },
    {
     "data": {
      "application/vnd.jupyter.widget-view+json": {
       "model_id": "4f258e64fdf84ae399fa53fdf2739b8a",
       "version_major": 2,
       "version_minor": 0
      },
      "text/plain": [
       "HBox(children=(FloatProgress(value=0.0, max=20.0), HTML(value='')))"
      ]
     },
     "metadata": {},
     "output_type": "display_data"
    },
    {
     "name": "stdout",
     "output_type": "stream",
     "text": [
      "\n",
      "epoch 41 - train: 20.362 - valid: 20.463 - stale=0\n"
     ]
    },
    {
     "data": {
      "application/vnd.jupyter.widget-view+json": {
       "model_id": "5900acf5638e45b8a10a69481b0eef81",
       "version_major": 2,
       "version_minor": 0
      },
      "text/plain": [
       "HBox(children=(FloatProgress(value=0.0, max=20.0), HTML(value='')))"
      ]
     },
     "metadata": {},
     "output_type": "display_data"
    },
    {
     "name": "stdout",
     "output_type": "stream",
     "text": [
      "\n"
     ]
    },
    {
     "data": {
      "application/vnd.jupyter.widget-view+json": {
       "model_id": "b27fb806610e441f82bd7661f145da7c",
       "version_major": 2,
       "version_minor": 0
      },
      "text/plain": [
       "HBox(children=(FloatProgress(value=0.0, max=20.0), HTML(value='')))"
      ]
     },
     "metadata": {},
     "output_type": "display_data"
    },
    {
     "name": "stdout",
     "output_type": "stream",
     "text": [
      "\n",
      "epoch 42 - train: 20.291 - valid: 20.395 - stale=0\n"
     ]
    },
    {
     "data": {
      "application/vnd.jupyter.widget-view+json": {
       "model_id": "07b033a1a282421c8d8abfd3e50cd60d",
       "version_major": 2,
       "version_minor": 0
      },
      "text/plain": [
       "HBox(children=(FloatProgress(value=0.0, max=20.0), HTML(value='')))"
      ]
     },
     "metadata": {},
     "output_type": "display_data"
    },
    {
     "name": "stdout",
     "output_type": "stream",
     "text": [
      "\n"
     ]
    },
    {
     "data": {
      "application/vnd.jupyter.widget-view+json": {
       "model_id": "7b35e193335f47118463dca4bb0e7d1d",
       "version_major": 2,
       "version_minor": 0
      },
      "text/plain": [
       "HBox(children=(FloatProgress(value=0.0, max=20.0), HTML(value='')))"
      ]
     },
     "metadata": {},
     "output_type": "display_data"
    },
    {
     "name": "stdout",
     "output_type": "stream",
     "text": [
      "\n",
      "epoch 43 - train: 20.223 - valid: 20.33 - stale=0\n"
     ]
    },
    {
     "data": {
      "application/vnd.jupyter.widget-view+json": {
       "model_id": "907ae6a9cfe44a898800f9684e62bd69",
       "version_major": 2,
       "version_minor": 0
      },
      "text/plain": [
       "HBox(children=(FloatProgress(value=0.0, max=20.0), HTML(value='')))"
      ]
     },
     "metadata": {},
     "output_type": "display_data"
    },
    {
     "name": "stdout",
     "output_type": "stream",
     "text": [
      "\n"
     ]
    },
    {
     "data": {
      "application/vnd.jupyter.widget-view+json": {
       "model_id": "ad5c3d8ec1ec4ef5b724d583c1ed172e",
       "version_major": 2,
       "version_minor": 0
      },
      "text/plain": [
       "HBox(children=(FloatProgress(value=0.0, max=20.0), HTML(value='')))"
      ]
     },
     "metadata": {},
     "output_type": "display_data"
    },
    {
     "name": "stdout",
     "output_type": "stream",
     "text": [
      "\n",
      "epoch 44 - train: 20.158 - valid: 20.267 - stale=0\n"
     ]
    },
    {
     "data": {
      "application/vnd.jupyter.widget-view+json": {
       "model_id": "b5956bee96614904bd37bbf83f33e11e",
       "version_major": 2,
       "version_minor": 0
      },
      "text/plain": [
       "HBox(children=(FloatProgress(value=0.0, max=20.0), HTML(value='')))"
      ]
     },
     "metadata": {},
     "output_type": "display_data"
    },
    {
     "name": "stdout",
     "output_type": "stream",
     "text": [
      "\n"
     ]
    },
    {
     "data": {
      "application/vnd.jupyter.widget-view+json": {
       "model_id": "338bef99338d428689d87a9db30b7939",
       "version_major": 2,
       "version_minor": 0
      },
      "text/plain": [
       "HBox(children=(FloatProgress(value=0.0, max=20.0), HTML(value='')))"
      ]
     },
     "metadata": {},
     "output_type": "display_data"
    },
    {
     "name": "stdout",
     "output_type": "stream",
     "text": [
      "\n",
      "epoch 45 - train: 20.095 - valid: 20.207 - stale=0\n"
     ]
    },
    {
     "data": {
      "application/vnd.jupyter.widget-view+json": {
       "model_id": "3d2b3e533cb44a4ebfc75c1c48dada79",
       "version_major": 2,
       "version_minor": 0
      },
      "text/plain": [
       "HBox(children=(FloatProgress(value=0.0, max=20.0), HTML(value='')))"
      ]
     },
     "metadata": {},
     "output_type": "display_data"
    },
    {
     "name": "stdout",
     "output_type": "stream",
     "text": [
      "\n"
     ]
    },
    {
     "data": {
      "application/vnd.jupyter.widget-view+json": {
       "model_id": "44297cf1e0e34a929ee0dd945133298a",
       "version_major": 2,
       "version_minor": 0
      },
      "text/plain": [
       "HBox(children=(FloatProgress(value=0.0, max=20.0), HTML(value='')))"
      ]
     },
     "metadata": {},
     "output_type": "display_data"
    },
    {
     "name": "stdout",
     "output_type": "stream",
     "text": [
      "\n",
      "epoch 46 - train: 20.035 - valid: 20.15 - stale=0\n"
     ]
    },
    {
     "data": {
      "application/vnd.jupyter.widget-view+json": {
       "model_id": "cd8ccc3595834e44964c290e8d468947",
       "version_major": 2,
       "version_minor": 0
      },
      "text/plain": [
       "HBox(children=(FloatProgress(value=0.0, max=20.0), HTML(value='')))"
      ]
     },
     "metadata": {},
     "output_type": "display_data"
    },
    {
     "name": "stdout",
     "output_type": "stream",
     "text": [
      "\n"
     ]
    },
    {
     "data": {
      "application/vnd.jupyter.widget-view+json": {
       "model_id": "40276854d44a41f090fb362891bdbab1",
       "version_major": 2,
       "version_minor": 0
      },
      "text/plain": [
       "HBox(children=(FloatProgress(value=0.0, max=20.0), HTML(value='')))"
      ]
     },
     "metadata": {},
     "output_type": "display_data"
    },
    {
     "name": "stdout",
     "output_type": "stream",
     "text": [
      "\n",
      "epoch 47 - train: 19.977 - valid: 20.094 - stale=0\n"
     ]
    },
    {
     "data": {
      "application/vnd.jupyter.widget-view+json": {
       "model_id": "5bdd7840f8914b6d807f2833c91fde7c",
       "version_major": 2,
       "version_minor": 0
      },
      "text/plain": [
       "HBox(children=(FloatProgress(value=0.0, max=20.0), HTML(value='')))"
      ]
     },
     "metadata": {},
     "output_type": "display_data"
    },
    {
     "name": "stdout",
     "output_type": "stream",
     "text": [
      "\n"
     ]
    },
    {
     "data": {
      "application/vnd.jupyter.widget-view+json": {
       "model_id": "0ae0bf217f3a4fbd8cafa2819c00c0a5",
       "version_major": 2,
       "version_minor": 0
      },
      "text/plain": [
       "HBox(children=(FloatProgress(value=0.0, max=20.0), HTML(value='')))"
      ]
     },
     "metadata": {},
     "output_type": "display_data"
    },
    {
     "name": "stdout",
     "output_type": "stream",
     "text": [
      "\n",
      "epoch 48 - train: 19.922 - valid: 20.042 - stale=0\n"
     ]
    },
    {
     "data": {
      "application/vnd.jupyter.widget-view+json": {
       "model_id": "33a4894f60d74366b1ca141bb9b842e8",
       "version_major": 2,
       "version_minor": 0
      },
      "text/plain": [
       "HBox(children=(FloatProgress(value=0.0, max=20.0), HTML(value='')))"
      ]
     },
     "metadata": {},
     "output_type": "display_data"
    },
    {
     "name": "stdout",
     "output_type": "stream",
     "text": [
      "\n"
     ]
    },
    {
     "data": {
      "application/vnd.jupyter.widget-view+json": {
       "model_id": "d0ec4264dbfe429487ec1922de7fb7ed",
       "version_major": 2,
       "version_minor": 0
      },
      "text/plain": [
       "HBox(children=(FloatProgress(value=0.0, max=20.0), HTML(value='')))"
      ]
     },
     "metadata": {},
     "output_type": "display_data"
    },
    {
     "name": "stdout",
     "output_type": "stream",
     "text": [
      "\n",
      "epoch 49 - train: 19.869 - valid: 19.991 - stale=0\n"
     ]
    },
    {
     "data": {
      "application/vnd.jupyter.widget-view+json": {
       "model_id": "9ca1cf9761b54e9c9e1525414ef82839",
       "version_major": 2,
       "version_minor": 0
      },
      "text/plain": [
       "HBox(children=(FloatProgress(value=0.0, max=20.0), HTML(value='')))"
      ]
     },
     "metadata": {},
     "output_type": "display_data"
    },
    {
     "name": "stdout",
     "output_type": "stream",
     "text": [
      "\n"
     ]
    },
    {
     "data": {
      "application/vnd.jupyter.widget-view+json": {
       "model_id": "9de8333c686848cb8c2090087584d92e",
       "version_major": 2,
       "version_minor": 0
      },
      "text/plain": [
       "HBox(children=(FloatProgress(value=0.0, max=20.0), HTML(value='')))"
      ]
     },
     "metadata": {},
     "output_type": "display_data"
    },
    {
     "name": "stdout",
     "output_type": "stream",
     "text": [
      "\n",
      "epoch 50 - train: 19.818 - valid: 19.943 - stale=0\n"
     ]
    },
    {
     "data": {
      "application/vnd.jupyter.widget-view+json": {
       "model_id": "27a8f903709344f78883d52486359790",
       "version_major": 2,
       "version_minor": 0
      },
      "text/plain": [
       "HBox(children=(FloatProgress(value=0.0, max=20.0), HTML(value='')))"
      ]
     },
     "metadata": {},
     "output_type": "display_data"
    },
    {
     "name": "stdout",
     "output_type": "stream",
     "text": [
      "\n"
     ]
    },
    {
     "data": {
      "application/vnd.jupyter.widget-view+json": {
       "model_id": "db7817d8c03645a2afe6d49473324ff3",
       "version_major": 2,
       "version_minor": 0
      },
      "text/plain": [
       "HBox(children=(FloatProgress(value=0.0, max=20.0), HTML(value='')))"
      ]
     },
     "metadata": {},
     "output_type": "display_data"
    },
    {
     "name": "stdout",
     "output_type": "stream",
     "text": [
      "\n",
      "epoch 51 - train: 19.769 - valid: 19.896 - stale=0\n"
     ]
    },
    {
     "data": {
      "application/vnd.jupyter.widget-view+json": {
       "model_id": "22c60bcc874941d3bda56613108ad24f",
       "version_major": 2,
       "version_minor": 0
      },
      "text/plain": [
       "HBox(children=(FloatProgress(value=0.0, max=20.0), HTML(value='')))"
      ]
     },
     "metadata": {},
     "output_type": "display_data"
    },
    {
     "name": "stdout",
     "output_type": "stream",
     "text": [
      "\n"
     ]
    },
    {
     "data": {
      "application/vnd.jupyter.widget-view+json": {
       "model_id": "5d3c3b12c9ec496d9339ad10a9078707",
       "version_major": 2,
       "version_minor": 0
      },
      "text/plain": [
       "HBox(children=(FloatProgress(value=0.0, max=20.0), HTML(value='')))"
      ]
     },
     "metadata": {},
     "output_type": "display_data"
    },
    {
     "name": "stdout",
     "output_type": "stream",
     "text": [
      "\n",
      "epoch 52 - train: 19.722 - valid: 19.852 - stale=0\n"
     ]
    },
    {
     "data": {
      "application/vnd.jupyter.widget-view+json": {
       "model_id": "4d156157b82941a58ba31b591f27bb20",
       "version_major": 2,
       "version_minor": 0
      },
      "text/plain": [
       "HBox(children=(FloatProgress(value=0.0, max=20.0), HTML(value='')))"
      ]
     },
     "metadata": {},
     "output_type": "display_data"
    },
    {
     "name": "stdout",
     "output_type": "stream",
     "text": [
      "\n"
     ]
    },
    {
     "data": {
      "application/vnd.jupyter.widget-view+json": {
       "model_id": "b02633df885646c688ce6644a937b0fe",
       "version_major": 2,
       "version_minor": 0
      },
      "text/plain": [
       "HBox(children=(FloatProgress(value=0.0, max=20.0), HTML(value='')))"
      ]
     },
     "metadata": {},
     "output_type": "display_data"
    },
    {
     "name": "stdout",
     "output_type": "stream",
     "text": [
      "\n",
      "epoch 53 - train: 19.677 - valid: 19.809 - stale=0\n"
     ]
    },
    {
     "data": {
      "application/vnd.jupyter.widget-view+json": {
       "model_id": "ad0141df247b4c89ad836b49e8ecaf47",
       "version_major": 2,
       "version_minor": 0
      },
      "text/plain": [
       "HBox(children=(FloatProgress(value=0.0, max=20.0), HTML(value='')))"
      ]
     },
     "metadata": {},
     "output_type": "display_data"
    },
    {
     "name": "stdout",
     "output_type": "stream",
     "text": [
      "\n"
     ]
    },
    {
     "data": {
      "application/vnd.jupyter.widget-view+json": {
       "model_id": "b17eea499bc843f2a98f0a408713f8b9",
       "version_major": 2,
       "version_minor": 0
      },
      "text/plain": [
       "HBox(children=(FloatProgress(value=0.0, max=20.0), HTML(value='')))"
      ]
     },
     "metadata": {},
     "output_type": "display_data"
    },
    {
     "name": "stdout",
     "output_type": "stream",
     "text": [
      "\n",
      "epoch 54 - train: 19.634 - valid: 19.768 - stale=0\n"
     ]
    },
    {
     "data": {
      "application/vnd.jupyter.widget-view+json": {
       "model_id": "6cfdaa1a5dcb41cbb1b5ef5b3fe107ec",
       "version_major": 2,
       "version_minor": 0
      },
      "text/plain": [
       "HBox(children=(FloatProgress(value=0.0, max=20.0), HTML(value='')))"
      ]
     },
     "metadata": {},
     "output_type": "display_data"
    },
    {
     "name": "stdout",
     "output_type": "stream",
     "text": [
      "\n"
     ]
    },
    {
     "data": {
      "application/vnd.jupyter.widget-view+json": {
       "model_id": "424f5920e8cc4b7aa2b75d16aae68d62",
       "version_major": 2,
       "version_minor": 0
      },
      "text/plain": [
       "HBox(children=(FloatProgress(value=0.0, max=20.0), HTML(value='')))"
      ]
     },
     "metadata": {},
     "output_type": "display_data"
    },
    {
     "name": "stdout",
     "output_type": "stream",
     "text": [
      "\n",
      "epoch 55 - train: 19.593 - valid: 19.729 - stale=0\n"
     ]
    },
    {
     "data": {
      "application/vnd.jupyter.widget-view+json": {
       "model_id": "3923a4b6f49447f89968747cd368a80e",
       "version_major": 2,
       "version_minor": 0
      },
      "text/plain": [
       "HBox(children=(FloatProgress(value=0.0, max=20.0), HTML(value='')))"
      ]
     },
     "metadata": {},
     "output_type": "display_data"
    },
    {
     "name": "stdout",
     "output_type": "stream",
     "text": [
      "\n"
     ]
    },
    {
     "data": {
      "application/vnd.jupyter.widget-view+json": {
       "model_id": "7d6b96bcb01e4dd18a1cc3df29d11c8a",
       "version_major": 2,
       "version_minor": 0
      },
      "text/plain": [
       "HBox(children=(FloatProgress(value=0.0, max=20.0), HTML(value='')))"
      ]
     },
     "metadata": {},
     "output_type": "display_data"
    },
    {
     "name": "stdout",
     "output_type": "stream",
     "text": [
      "\n",
      "epoch 56 - train: 19.553 - valid: 19.692 - stale=0\n"
     ]
    },
    {
     "data": {
      "application/vnd.jupyter.widget-view+json": {
       "model_id": "8addddf375c2494e9d6e72d1e0fc1613",
       "version_major": 2,
       "version_minor": 0
      },
      "text/plain": [
       "HBox(children=(FloatProgress(value=0.0, max=20.0), HTML(value='')))"
      ]
     },
     "metadata": {},
     "output_type": "display_data"
    },
    {
     "name": "stdout",
     "output_type": "stream",
     "text": [
      "\n"
     ]
    },
    {
     "data": {
      "application/vnd.jupyter.widget-view+json": {
       "model_id": "bd8179742a504173841d01eb85b207bd",
       "version_major": 2,
       "version_minor": 0
      },
      "text/plain": [
       "HBox(children=(FloatProgress(value=0.0, max=20.0), HTML(value='')))"
      ]
     },
     "metadata": {},
     "output_type": "display_data"
    },
    {
     "name": "stdout",
     "output_type": "stream",
     "text": [
      "\n",
      "epoch 57 - train: 19.515 - valid: 19.656 - stale=0\n"
     ]
    },
    {
     "data": {
      "application/vnd.jupyter.widget-view+json": {
       "model_id": "b2a5190678074b84beda06fd7735628a",
       "version_major": 2,
       "version_minor": 0
      },
      "text/plain": [
       "HBox(children=(FloatProgress(value=0.0, max=20.0), HTML(value='')))"
      ]
     },
     "metadata": {},
     "output_type": "display_data"
    },
    {
     "name": "stdout",
     "output_type": "stream",
     "text": [
      "\n"
     ]
    },
    {
     "data": {
      "application/vnd.jupyter.widget-view+json": {
       "model_id": "6148b1c25a2742129d75c95f687d016f",
       "version_major": 2,
       "version_minor": 0
      },
      "text/plain": [
       "HBox(children=(FloatProgress(value=0.0, max=20.0), HTML(value='')))"
      ]
     },
     "metadata": {},
     "output_type": "display_data"
    },
    {
     "name": "stdout",
     "output_type": "stream",
     "text": [
      "\n",
      "epoch 58 - train: 19.478 - valid: 19.621 - stale=0\n"
     ]
    },
    {
     "data": {
      "application/vnd.jupyter.widget-view+json": {
       "model_id": "86d6025947134aca8ff1fae1a44220e7",
       "version_major": 2,
       "version_minor": 0
      },
      "text/plain": [
       "HBox(children=(FloatProgress(value=0.0, max=20.0), HTML(value='')))"
      ]
     },
     "metadata": {},
     "output_type": "display_data"
    },
    {
     "name": "stdout",
     "output_type": "stream",
     "text": [
      "\n"
     ]
    },
    {
     "data": {
      "application/vnd.jupyter.widget-view+json": {
       "model_id": "a1d92fc8969d42309c256fafbe5c52fa",
       "version_major": 2,
       "version_minor": 0
      },
      "text/plain": [
       "HBox(children=(FloatProgress(value=0.0, max=20.0), HTML(value='')))"
      ]
     },
     "metadata": {},
     "output_type": "display_data"
    },
    {
     "name": "stdout",
     "output_type": "stream",
     "text": [
      "\n",
      "epoch 59 - train: 19.443 - valid: 19.588 - stale=0\n"
     ]
    },
    {
     "data": {
      "application/vnd.jupyter.widget-view+json": {
       "model_id": "26e893861df942138e314e979787236b",
       "version_major": 2,
       "version_minor": 0
      },
      "text/plain": [
       "HBox(children=(FloatProgress(value=0.0, max=20.0), HTML(value='')))"
      ]
     },
     "metadata": {},
     "output_type": "display_data"
    },
    {
     "name": "stdout",
     "output_type": "stream",
     "text": [
      "\n"
     ]
    },
    {
     "data": {
      "application/vnd.jupyter.widget-view+json": {
       "model_id": "b2bd8ddfde184772b197898149b19092",
       "version_major": 2,
       "version_minor": 0
      },
      "text/plain": [
       "HBox(children=(FloatProgress(value=0.0, max=20.0), HTML(value='')))"
      ]
     },
     "metadata": {},
     "output_type": "display_data"
    },
    {
     "name": "stdout",
     "output_type": "stream",
     "text": [
      "\n",
      "epoch 60 - train: 19.409 - valid: 19.556 - stale=0\n"
     ]
    },
    {
     "data": {
      "application/vnd.jupyter.widget-view+json": {
       "model_id": "a0b103825d28423098681e28df6b9a68",
       "version_major": 2,
       "version_minor": 0
      },
      "text/plain": [
       "HBox(children=(FloatProgress(value=0.0, max=20.0), HTML(value='')))"
      ]
     },
     "metadata": {},
     "output_type": "display_data"
    },
    {
     "name": "stdout",
     "output_type": "stream",
     "text": [
      "\n"
     ]
    },
    {
     "data": {
      "application/vnd.jupyter.widget-view+json": {
       "model_id": "c5ec87941df14d31ab45f54da4cc4b10",
       "version_major": 2,
       "version_minor": 0
      },
      "text/plain": [
       "HBox(children=(FloatProgress(value=0.0, max=20.0), HTML(value='')))"
      ]
     },
     "metadata": {},
     "output_type": "display_data"
    },
    {
     "name": "stdout",
     "output_type": "stream",
     "text": [
      "\n",
      "epoch 61 - train: 19.376 - valid: 19.526 - stale=0\n"
     ]
    },
    {
     "data": {
      "application/vnd.jupyter.widget-view+json": {
       "model_id": "f37dad66a2db47ca8f23176392ebd216",
       "version_major": 2,
       "version_minor": 0
      },
      "text/plain": [
       "HBox(children=(FloatProgress(value=0.0, max=20.0), HTML(value='')))"
      ]
     },
     "metadata": {},
     "output_type": "display_data"
    },
    {
     "name": "stdout",
     "output_type": "stream",
     "text": [
      "\n"
     ]
    },
    {
     "data": {
      "application/vnd.jupyter.widget-view+json": {
       "model_id": "0ee6dfa9702a49d0899c62a1160071d5",
       "version_major": 2,
       "version_minor": 0
      },
      "text/plain": [
       "HBox(children=(FloatProgress(value=0.0, max=20.0), HTML(value='')))"
      ]
     },
     "metadata": {},
     "output_type": "display_data"
    },
    {
     "name": "stdout",
     "output_type": "stream",
     "text": [
      "\n",
      "epoch 62 - train: 19.345 - valid: 19.496 - stale=0\n"
     ]
    },
    {
     "data": {
      "application/vnd.jupyter.widget-view+json": {
       "model_id": "14e219129c3842e986b6847e6918ca64",
       "version_major": 2,
       "version_minor": 0
      },
      "text/plain": [
       "HBox(children=(FloatProgress(value=0.0, max=20.0), HTML(value='')))"
      ]
     },
     "metadata": {},
     "output_type": "display_data"
    },
    {
     "name": "stdout",
     "output_type": "stream",
     "text": [
      "\n"
     ]
    },
    {
     "data": {
      "application/vnd.jupyter.widget-view+json": {
       "model_id": "4f0f3606cbe34f678b5aca017f391370",
       "version_major": 2,
       "version_minor": 0
      },
      "text/plain": [
       "HBox(children=(FloatProgress(value=0.0, max=20.0), HTML(value='')))"
      ]
     },
     "metadata": {},
     "output_type": "display_data"
    },
    {
     "name": "stdout",
     "output_type": "stream",
     "text": [
      "\n",
      "epoch 63 - train: 19.314 - valid: 19.468 - stale=0\n"
     ]
    },
    {
     "data": {
      "application/vnd.jupyter.widget-view+json": {
       "model_id": "b30383d84d0d41e68a949d50b1310736",
       "version_major": 2,
       "version_minor": 0
      },
      "text/plain": [
       "HBox(children=(FloatProgress(value=0.0, max=20.0), HTML(value='')))"
      ]
     },
     "metadata": {},
     "output_type": "display_data"
    },
    {
     "name": "stdout",
     "output_type": "stream",
     "text": [
      "\n"
     ]
    },
    {
     "data": {
      "application/vnd.jupyter.widget-view+json": {
       "model_id": "0c5aaea2fad944efa70e26457c59d570",
       "version_major": 2,
       "version_minor": 0
      },
      "text/plain": [
       "HBox(children=(FloatProgress(value=0.0, max=20.0), HTML(value='')))"
      ]
     },
     "metadata": {},
     "output_type": "display_data"
    },
    {
     "name": "stdout",
     "output_type": "stream",
     "text": [
      "\n",
      "epoch 64 - train: 19.285 - valid: 19.44 - stale=0\n"
     ]
    },
    {
     "data": {
      "application/vnd.jupyter.widget-view+json": {
       "model_id": "bf4ac987b92a42c7bf4c90360e23e3ff",
       "version_major": 2,
       "version_minor": 0
      },
      "text/plain": [
       "HBox(children=(FloatProgress(value=0.0, max=20.0), HTML(value='')))"
      ]
     },
     "metadata": {},
     "output_type": "display_data"
    },
    {
     "name": "stdout",
     "output_type": "stream",
     "text": [
      "\n"
     ]
    },
    {
     "data": {
      "application/vnd.jupyter.widget-view+json": {
       "model_id": "b0757f6de72a4093b013243269df1c7f",
<<<<<<< HEAD
>>>>>>> Z0zzz-master
=======
>>>>>>> Z0zzz-master
       "version_major": 2,
       "version_minor": 0
      },
      "text/plain": [
<<<<<<< HEAD
<<<<<<< HEAD
       "HBox(children=(FloatProgress(value=0.0, max=30.0), HTML(value='')))"
=======
       "HBox(children=(FloatProgress(value=0.0, max=20.0), HTML(value='')))"
>>>>>>> Z0zzz-master
=======
       "HBox(children=(FloatProgress(value=0.0, max=20.0), HTML(value='')))"
>>>>>>> Z0zzz-master
      ]
     },
     "metadata": {},
     "output_type": "display_data"
    },
    {
<<<<<<< HEAD
<<<<<<< HEAD
     "data": {
      "application/vnd.jupyter.widget-view+json": {
       "model_id": "86e646a4702e4fe88c466816a5e17dc0",
=======
=======
>>>>>>> Z0zzz-master
     "name": "stdout",
     "output_type": "stream",
     "text": [
      "\n",
      "epoch 65 - train: 19.257 - valid: 19.414 - stale=0\n"
     ]
    },
    {
     "data": {
      "application/vnd.jupyter.widget-view+json": {
       "model_id": "0377805ff44d40eb9daa79d831d73d4d",
<<<<<<< HEAD
>>>>>>> Z0zzz-master
=======
>>>>>>> Z0zzz-master
       "version_major": 2,
       "version_minor": 0
      },
      "text/plain": [
       "HBox(children=(FloatProgress(value=0.0, max=20.0), HTML(value='')))"
      ]
     },
     "metadata": {},
     "output_type": "display_data"
    },
    {
     "name": "stdout",
     "output_type": "stream",
     "text": [
      "\n"
     ]
    },
    {
     "data": {
      "application/vnd.jupyter.widget-view+json": {
<<<<<<< HEAD
<<<<<<< HEAD
       "model_id": "b5c0a4e8ff2c45debc1644d6d61463e2",
=======
       "model_id": "def65842070245218656b060dff9a407",
>>>>>>> Z0zzz-master
=======
       "model_id": "def65842070245218656b060dff9a407",
>>>>>>> Z0zzz-master
       "version_major": 2,
       "version_minor": 0
      },
      "text/plain": [
       "HBox(children=(FloatProgress(value=0.0, max=20.0), HTML(value='')))"
      ]
     },
     "metadata": {},
     "output_type": "display_data"
    },
    {
     "name": "stdout",
     "output_type": "stream",
     "text": [
      "\n",
<<<<<<< HEAD
<<<<<<< HEAD
      "epoch 0 - train: 36.921 - valid: 31.777 - stale=0\n"
=======
      "epoch 66 - train: 19.229 - valid: 19.388 - stale=0\n"
>>>>>>> Z0zzz-master
=======
      "epoch 66 - train: 19.229 - valid: 19.388 - stale=0\n"
>>>>>>> Z0zzz-master
     ]
    },
    {
     "data": {
      "application/vnd.jupyter.widget-view+json": {
<<<<<<< HEAD
<<<<<<< HEAD
       "model_id": "8cbc064f6e174b85b782aa693beffc8d",
=======
       "model_id": "6e6a3912153645718964af3845aa97ec",
>>>>>>> Z0zzz-master
=======
       "model_id": "6e6a3912153645718964af3845aa97ec",
>>>>>>> Z0zzz-master
       "version_major": 2,
       "version_minor": 0
      },
      "text/plain": [
       "HBox(children=(FloatProgress(value=0.0, max=20.0), HTML(value='')))"
      ]
     },
     "metadata": {},
     "output_type": "display_data"
    },
    {
     "name": "stdout",
     "output_type": "stream",
     "text": [
      "\n"
     ]
    },
    {
     "data": {
      "application/vnd.jupyter.widget-view+json": {
<<<<<<< HEAD
<<<<<<< HEAD
       "model_id": "0d3bf31295d943198491931c416813b1",
=======
       "model_id": "bd7b0e8f0c1c48789a4343ccf82bba7f",
>>>>>>> Z0zzz-master
=======
       "model_id": "bd7b0e8f0c1c48789a4343ccf82bba7f",
>>>>>>> Z0zzz-master
       "version_major": 2,
       "version_minor": 0
      },
      "text/plain": [
       "HBox(children=(FloatProgress(value=0.0, max=20.0), HTML(value='')))"
      ]
     },
     "metadata": {},
     "output_type": "display_data"
    },
    {
     "name": "stdout",
     "output_type": "stream",
     "text": [
      "\n",
<<<<<<< HEAD
<<<<<<< HEAD
      "epoch 1 - train: 29.27 - valid: 28.394 - stale=0\n"
=======
      "epoch 67 - train: 19.203 - valid: 19.364 - stale=0\n"
>>>>>>> Z0zzz-master
=======
      "epoch 67 - train: 19.203 - valid: 19.364 - stale=0\n"
>>>>>>> Z0zzz-master
     ]
    },
    {
     "data": {
      "application/vnd.jupyter.widget-view+json": {
<<<<<<< HEAD
<<<<<<< HEAD
       "model_id": "3fded5b151744141955f64e484a1505a",
=======
       "model_id": "0eb9a12b810e41ef8b51218313b0e77a",
>>>>>>> Z0zzz-master
=======
       "model_id": "0eb9a12b810e41ef8b51218313b0e77a",
>>>>>>> Z0zzz-master
       "version_major": 2,
       "version_minor": 0
      },
      "text/plain": [
       "HBox(children=(FloatProgress(value=0.0, max=20.0), HTML(value='')))"
      ]
     },
     "metadata": {},
     "output_type": "display_data"
    },
    {
     "name": "stdout",
     "output_type": "stream",
     "text": [
      "\n"
     ]
    },
    {
     "data": {
      "application/vnd.jupyter.widget-view+json": {
<<<<<<< HEAD
<<<<<<< HEAD
       "model_id": "a2178138421c462982f1d317c5c12249",
=======
       "model_id": "a8fddaf381d14e7ea2bd86b451be92f8",
>>>>>>> Z0zzz-master
=======
       "model_id": "a8fddaf381d14e7ea2bd86b451be92f8",
>>>>>>> Z0zzz-master
       "version_major": 2,
       "version_minor": 0
      },
      "text/plain": [
       "HBox(children=(FloatProgress(value=0.0, max=20.0), HTML(value='')))"
      ]
     },
     "metadata": {},
     "output_type": "display_data"
    },
    {
     "name": "stdout",
     "output_type": "stream",
     "text": [
      "\n",
<<<<<<< HEAD
<<<<<<< HEAD
      "epoch 2 - train: 27.38 - valid: 26.864 - stale=0\n"
=======
      "epoch 68 - train: 19.178 - valid: 19.34 - stale=0\n"
>>>>>>> Z0zzz-master
=======
      "epoch 68 - train: 19.178 - valid: 19.34 - stale=0\n"
>>>>>>> Z0zzz-master
     ]
    },
    {
     "data": {
      "application/vnd.jupyter.widget-view+json": {
<<<<<<< HEAD
<<<<<<< HEAD
       "model_id": "b3d9b475cbb741e7b4071fd49ee2baee",
=======
       "model_id": "86b3cb2d4dc04eaeb1591662f29ef5c9",
>>>>>>> Z0zzz-master
=======
       "model_id": "86b3cb2d4dc04eaeb1591662f29ef5c9",
>>>>>>> Z0zzz-master
       "version_major": 2,
       "version_minor": 0
      },
      "text/plain": [
       "HBox(children=(FloatProgress(value=0.0, max=20.0), HTML(value='')))"
      ]
     },
     "metadata": {},
     "output_type": "display_data"
    },
    {
     "name": "stdout",
     "output_type": "stream",
     "text": [
      "\n"
     ]
    },
    {
     "data": {
      "application/vnd.jupyter.widget-view+json": {
<<<<<<< HEAD
<<<<<<< HEAD
       "model_id": "0e8f0c329f6343b29dbf3ebaab87e291",
=======
       "model_id": "8269c093f8cd496d92184a40ab658e41",
>>>>>>> Z0zzz-master
=======
       "model_id": "8269c093f8cd496d92184a40ab658e41",
>>>>>>> Z0zzz-master
       "version_major": 2,
       "version_minor": 0
      },
      "text/plain": [
       "HBox(children=(FloatProgress(value=0.0, max=20.0), HTML(value='')))"
      ]
     },
     "metadata": {},
     "output_type": "display_data"
    },
    {
     "name": "stdout",
     "output_type": "stream",
     "text": [
      "\n",
<<<<<<< HEAD
<<<<<<< HEAD
      "epoch 3 - train: 26.372 - valid: 25.87 - stale=0\n"
=======
      "epoch 69 - train: 19.153 - valid: 19.318 - stale=0\n"
>>>>>>> Z0zzz-master
=======
      "epoch 69 - train: 19.153 - valid: 19.318 - stale=0\n"
>>>>>>> Z0zzz-master
     ]
    },
    {
     "data": {
      "application/vnd.jupyter.widget-view+json": {
<<<<<<< HEAD
<<<<<<< HEAD
       "model_id": "502dc51d0eea487ab3af912bf2743e2d",
=======
       "model_id": "84f1e776f70c4ed99c0d7146aed93445",
>>>>>>> Z0zzz-master
=======
       "model_id": "84f1e776f70c4ed99c0d7146aed93445",
>>>>>>> Z0zzz-master
       "version_major": 2,
       "version_minor": 0
      },
      "text/plain": [
       "HBox(children=(FloatProgress(value=0.0, max=20.0), HTML(value='')))"
      ]
     },
     "metadata": {},
     "output_type": "display_data"
    },
    {
     "name": "stdout",
     "output_type": "stream",
     "text": [
      "\n"
     ]
    },
    {
     "data": {
      "application/vnd.jupyter.widget-view+json": {
<<<<<<< HEAD
<<<<<<< HEAD
       "model_id": "bf6619960ce243bc8d9c33f136f4d64e",
=======
       "model_id": "9cf8d66a79a6452daff5e41f9b385705",
>>>>>>> Z0zzz-master
=======
       "model_id": "9cf8d66a79a6452daff5e41f9b385705",
>>>>>>> Z0zzz-master
       "version_major": 2,
       "version_minor": 0
      },
      "text/plain": [
       "HBox(children=(FloatProgress(value=0.0, max=20.0), HTML(value='')))"
      ]
     },
     "metadata": {},
     "output_type": "display_data"
    },
    {
     "name": "stdout",
     "output_type": "stream",
     "text": [
      "\n",
<<<<<<< HEAD
<<<<<<< HEAD
      "epoch 4 - train: 25.948 - valid: 25.437 - stale=0\n"
=======
      "epoch 70 - train: 19.13 - valid: 19.296 - stale=0\n"
>>>>>>> Z0zzz-master
=======
      "epoch 70 - train: 19.13 - valid: 19.296 - stale=0\n"
>>>>>>> Z0zzz-master
     ]
    },
    {
     "data": {
      "application/vnd.jupyter.widget-view+json": {
<<<<<<< HEAD
<<<<<<< HEAD
       "model_id": "f626b5123d3d4e5da8e409197db02f1d",
=======
       "model_id": "897fd770d958411abab24b019ec6c9b4",
>>>>>>> Z0zzz-master
=======
       "model_id": "897fd770d958411abab24b019ec6c9b4",
>>>>>>> Z0zzz-master
       "version_major": 2,
       "version_minor": 0
      },
      "text/plain": [
       "HBox(children=(FloatProgress(value=0.0, max=20.0), HTML(value='')))"
      ]
     },
     "metadata": {},
     "output_type": "display_data"
    },
    {
     "name": "stdout",
     "output_type": "stream",
     "text": [
      "\n"
     ]
    },
    {
     "data": {
      "application/vnd.jupyter.widget-view+json": {
<<<<<<< HEAD
<<<<<<< HEAD
       "model_id": "498d83a807e14780af2fe3f5e67ca5a8",
=======
       "model_id": "70999ebdbe73452cba8b0f67e7b9498b",
>>>>>>> Z0zzz-master
=======
       "model_id": "70999ebdbe73452cba8b0f67e7b9498b",
>>>>>>> Z0zzz-master
       "version_major": 2,
       "version_minor": 0
      },
      "text/plain": [
       "HBox(children=(FloatProgress(value=0.0, max=20.0), HTML(value='')))"
      ]
     },
     "metadata": {},
     "output_type": "display_data"
    },
    {
     "name": "stdout",
     "output_type": "stream",
     "text": [
      "\n",
<<<<<<< HEAD
<<<<<<< HEAD
      "epoch 5 - train: 25.106 - valid: 24.856 - stale=0\n"
=======
      "epoch 71 - train: 19.107 - valid: 19.275 - stale=0\n"
>>>>>>> Z0zzz-master
=======
      "epoch 71 - train: 19.107 - valid: 19.275 - stale=0\n"
>>>>>>> Z0zzz-master
     ]
    },
    {
     "data": {
      "application/vnd.jupyter.widget-view+json": {
<<<<<<< HEAD
<<<<<<< HEAD
       "model_id": "5d7a06689f7340629088e735b5d21edb",
=======
       "model_id": "027d0f5665fb4b75b88d81a7ea04eb8b",
>>>>>>> Z0zzz-master
=======
       "model_id": "027d0f5665fb4b75b88d81a7ea04eb8b",
>>>>>>> Z0zzz-master
       "version_major": 2,
       "version_minor": 0
      },
      "text/plain": [
       "HBox(children=(FloatProgress(value=0.0, max=20.0), HTML(value='')))"
      ]
     },
     "metadata": {},
     "output_type": "display_data"
    },
    {
     "name": "stdout",
     "output_type": "stream",
     "text": [
      "\n"
     ]
    },
    {
     "data": {
      "application/vnd.jupyter.widget-view+json": {
<<<<<<< HEAD
<<<<<<< HEAD
       "model_id": "46668632b0a94b4d846d11bb554a0f94",
=======
       "model_id": "bf45e6f41e814cf0aa512dc2ff3e2eff",
>>>>>>> Z0zzz-master
=======
       "model_id": "bf45e6f41e814cf0aa512dc2ff3e2eff",
>>>>>>> Z0zzz-master
       "version_major": 2,
       "version_minor": 0
      },
      "text/plain": [
       "HBox(children=(FloatProgress(value=0.0, max=20.0), HTML(value='')))"
      ]
     },
     "metadata": {},
     "output_type": "display_data"
    },
    {
     "name": "stdout",
     "output_type": "stream",
     "text": [
      "\n",
<<<<<<< HEAD
<<<<<<< HEAD
      "epoch 6 - train: 24.656 - valid: 24.478 - stale=0\n"
=======
      "epoch 72 - train: 19.085 - valid: 19.254 - stale=0\n"
>>>>>>> Z0zzz-master
=======
      "epoch 72 - train: 19.085 - valid: 19.254 - stale=0\n"
>>>>>>> Z0zzz-master
     ]
    },
    {
     "data": {
      "application/vnd.jupyter.widget-view+json": {
<<<<<<< HEAD
<<<<<<< HEAD
       "model_id": "87f811ddc6f94dceb10daeeffd00bc67",
=======
       "model_id": "dd2c11673cf7414a8793c604838e501d",
>>>>>>> Z0zzz-master
=======
       "model_id": "dd2c11673cf7414a8793c604838e501d",
>>>>>>> Z0zzz-master
       "version_major": 2,
       "version_minor": 0
      },
      "text/plain": [
       "HBox(children=(FloatProgress(value=0.0, max=20.0), HTML(value='')))"
      ]
     },
     "metadata": {},
     "output_type": "display_data"
    },
    {
     "name": "stdout",
     "output_type": "stream",
     "text": [
      "\n"
     ]
    },
    {
     "data": {
      "application/vnd.jupyter.widget-view+json": {
<<<<<<< HEAD
<<<<<<< HEAD
       "model_id": "06f65294926a4d31a7b41ee2401f39bd",
=======
       "model_id": "001c0f0afccf4524a2406e99acdce23f",
>>>>>>> Z0zzz-master
=======
       "model_id": "001c0f0afccf4524a2406e99acdce23f",
>>>>>>> Z0zzz-master
       "version_major": 2,
       "version_minor": 0
      },
      "text/plain": [
       "HBox(children=(FloatProgress(value=0.0, max=20.0), HTML(value='')))"
      ]
     },
     "metadata": {},
     "output_type": "display_data"
    },
    {
     "name": "stdout",
     "output_type": "stream",
     "text": [
      "\n",
<<<<<<< HEAD
<<<<<<< HEAD
      "epoch 7 - train: 24.302 - valid: 24.163 - stale=0\n"
=======
      "epoch 73 - train: 19.063 - valid: 19.235 - stale=0\n"
>>>>>>> Z0zzz-master
=======
      "epoch 73 - train: 19.063 - valid: 19.235 - stale=0\n"
>>>>>>> Z0zzz-master
     ]
    },
    {
     "data": {
      "application/vnd.jupyter.widget-view+json": {
<<<<<<< HEAD
<<<<<<< HEAD
       "model_id": "f4b7089afdef401bab79bd237ab8fb82",
=======
       "model_id": "66e6c9b5938246d2a43f86f82bbfa7c9",
>>>>>>> Z0zzz-master
=======
       "model_id": "66e6c9b5938246d2a43f86f82bbfa7c9",
>>>>>>> Z0zzz-master
       "version_major": 2,
       "version_minor": 0
      },
      "text/plain": [
       "HBox(children=(FloatProgress(value=0.0, max=20.0), HTML(value='')))"
      ]
     },
     "metadata": {},
     "output_type": "display_data"
    },
    {
     "name": "stdout",
     "output_type": "stream",
     "text": [
      "\n"
     ]
    },
    {
     "data": {
      "application/vnd.jupyter.widget-view+json": {
<<<<<<< HEAD
<<<<<<< HEAD
       "model_id": "fa8e0c8159524b7d8aa06d1382a42b35",
=======
       "model_id": "31b8ab479cb74217a3acabac4212f774",
>>>>>>> Z0zzz-master
=======
       "model_id": "31b8ab479cb74217a3acabac4212f774",
>>>>>>> Z0zzz-master
       "version_major": 2,
       "version_minor": 0
      },
      "text/plain": [
       "HBox(children=(FloatProgress(value=0.0, max=20.0), HTML(value='')))"
      ]
     },
     "metadata": {},
     "output_type": "display_data"
    },
    {
     "name": "stdout",
     "output_type": "stream",
     "text": [
      "\n",
<<<<<<< HEAD
<<<<<<< HEAD
      "epoch 8 - train: 23.997 - valid: 23.88 - stale=0\n"
=======
      "epoch 74 - train: 19.043 - valid: 19.216 - stale=0\n"
>>>>>>> Z0zzz-master
=======
      "epoch 74 - train: 19.043 - valid: 19.216 - stale=0\n"
>>>>>>> Z0zzz-master
     ]
    },
    {
     "data": {
      "application/vnd.jupyter.widget-view+json": {
<<<<<<< HEAD
<<<<<<< HEAD
       "model_id": "9f8e44ce4e014848872161a91fbe8488",
=======
       "model_id": "697a870b61b44ddbb07306fef8c81a85",
>>>>>>> Z0zzz-master
=======
       "model_id": "697a870b61b44ddbb07306fef8c81a85",
>>>>>>> Z0zzz-master
       "version_major": 2,
       "version_minor": 0
      },
      "text/plain": [
       "HBox(children=(FloatProgress(value=0.0, max=20.0), HTML(value='')))"
      ]
     },
     "metadata": {},
     "output_type": "display_data"
    },
    {
     "name": "stdout",
     "output_type": "stream",
     "text": [
      "\n"
     ]
    },
    {
     "data": {
      "application/vnd.jupyter.widget-view+json": {
<<<<<<< HEAD
<<<<<<< HEAD
       "model_id": "4d06e87a503b401089ef8300ad3cbc88",
=======
       "model_id": "50d996d10a964e95be57adcbec168116",
>>>>>>> Z0zzz-master
=======
       "model_id": "50d996d10a964e95be57adcbec168116",
>>>>>>> Z0zzz-master
       "version_major": 2,
       "version_minor": 0
      },
      "text/plain": [
       "HBox(children=(FloatProgress(value=0.0, max=20.0), HTML(value='')))"
      ]
     },
     "metadata": {},
     "output_type": "display_data"
    },
    {
     "name": "stdout",
     "output_type": "stream",
     "text": [
      "\n",
<<<<<<< HEAD
<<<<<<< HEAD
      "epoch 9 - train: 23.723 - valid: 23.623 - stale=0\n"
=======
      "epoch 75 - train: 19.023 - valid: 19.197 - stale=0\n"
>>>>>>> Z0zzz-master
=======
      "epoch 75 - train: 19.023 - valid: 19.197 - stale=0\n"
>>>>>>> Z0zzz-master
     ]
    },
    {
     "data": {
      "application/vnd.jupyter.widget-view+json": {
<<<<<<< HEAD
<<<<<<< HEAD
       "model_id": "0e6843f9fc9e4c02b9d0a0c183e8637f",
=======
       "model_id": "e6057649ee6a4ed49c5da69695b741fe",
>>>>>>> Z0zzz-master
=======
       "model_id": "e6057649ee6a4ed49c5da69695b741fe",
>>>>>>> Z0zzz-master
       "version_major": 2,
       "version_minor": 0
      },
      "text/plain": [
       "HBox(children=(FloatProgress(value=0.0, max=20.0), HTML(value='')))"
      ]
     },
     "metadata": {},
     "output_type": "display_data"
    },
    {
     "name": "stdout",
     "output_type": "stream",
     "text": [
      "\n"
     ]
    },
    {
     "data": {
      "application/vnd.jupyter.widget-view+json": {
<<<<<<< HEAD
<<<<<<< HEAD
       "model_id": "4926339d50a14a12b4f868235e91538b",
=======
       "model_id": "cd8e9d41fd844d6ca59ee22a0166ad12",
>>>>>>> Z0zzz-master
=======
       "model_id": "cd8e9d41fd844d6ca59ee22a0166ad12",
>>>>>>> Z0zzz-master
       "version_major": 2,
       "version_minor": 0
      },
      "text/plain": [
       "HBox(children=(FloatProgress(value=0.0, max=20.0), HTML(value='')))"
      ]
     },
     "metadata": {},
     "output_type": "display_data"
    },
    {
     "name": "stdout",
     "output_type": "stream",
     "text": [
      "\n",
<<<<<<< HEAD
<<<<<<< HEAD
      "epoch 10 - train: 23.474 - valid: 23.387 - stale=0\n"
=======
      "epoch 76 - train: 19.003 - valid: 19.179 - stale=0\n"
>>>>>>> Z0zzz-master
=======
      "epoch 76 - train: 19.003 - valid: 19.179 - stale=0\n"
>>>>>>> Z0zzz-master
     ]
    },
    {
     "data": {
      "application/vnd.jupyter.widget-view+json": {
<<<<<<< HEAD
<<<<<<< HEAD
       "model_id": "e9eb631eedc84d03ac1275af94b80cd5",
=======
       "model_id": "35fb1be6f5ac49628ac5e625224d57ec",
>>>>>>> Z0zzz-master
=======
       "model_id": "35fb1be6f5ac49628ac5e625224d57ec",
>>>>>>> Z0zzz-master
       "version_major": 2,
       "version_minor": 0
      },
      "text/plain": [
       "HBox(children=(FloatProgress(value=0.0, max=20.0), HTML(value='')))"
      ]
     },
     "metadata": {},
     "output_type": "display_data"
    },
    {
     "name": "stdout",
     "output_type": "stream",
     "text": [
      "\n"
     ]
    },
    {
     "data": {
      "application/vnd.jupyter.widget-view+json": {
<<<<<<< HEAD
<<<<<<< HEAD
       "model_id": "bdcfab4613d04fda968835e9a6f3ebac",
=======
       "model_id": "90241c1dcc2e44afa5572c93ca9816e9",
>>>>>>> Z0zzz-master
=======
       "model_id": "90241c1dcc2e44afa5572c93ca9816e9",
>>>>>>> Z0zzz-master
       "version_major": 2,
       "version_minor": 0
      },
      "text/plain": [
       "HBox(children=(FloatProgress(value=0.0, max=20.0), HTML(value='')))"
      ]
     },
     "metadata": {},
     "output_type": "display_data"
    },
    {
     "name": "stdout",
     "output_type": "stream",
     "text": [
      "\n",
<<<<<<< HEAD
<<<<<<< HEAD
      "epoch 11 - train: 23.247 - valid: 23.177 - stale=0\n"
=======
      "epoch 77 - train: 18.984 - valid: 19.162 - stale=0\n"
>>>>>>> Z0zzz-master
=======
      "epoch 77 - train: 18.984 - valid: 19.162 - stale=0\n"
>>>>>>> Z0zzz-master
     ]
    },
    {
     "data": {
      "application/vnd.jupyter.widget-view+json": {
<<<<<<< HEAD
<<<<<<< HEAD
       "model_id": "658dde12d1064d70bfd607db6f192aca",
=======
       "model_id": "c9eacef332e14a209f76a1086de7a3cd",
>>>>>>> Z0zzz-master
=======
       "model_id": "c9eacef332e14a209f76a1086de7a3cd",
>>>>>>> Z0zzz-master
       "version_major": 2,
       "version_minor": 0
      },
      "text/plain": [
       "HBox(children=(FloatProgress(value=0.0, max=20.0), HTML(value='')))"
      ]
     },
     "metadata": {},
     "output_type": "display_data"
    },
    {
     "name": "stdout",
     "output_type": "stream",
     "text": [
      "\n"
     ]
    },
    {
     "data": {
      "application/vnd.jupyter.widget-view+json": {
<<<<<<< HEAD
<<<<<<< HEAD
       "model_id": "a9fd2fbb31744f1b9cd40e01aa7db3e4",
=======
       "model_id": "43b9e5028aae4da3b848522845c8f3aa",
>>>>>>> Z0zzz-master
=======
       "model_id": "43b9e5028aae4da3b848522845c8f3aa",
>>>>>>> Z0zzz-master
       "version_major": 2,
       "version_minor": 0
      },
      "text/plain": [
       "HBox(children=(FloatProgress(value=0.0, max=20.0), HTML(value='')))"
      ]
     },
     "metadata": {},
     "output_type": "display_data"
    },
    {
     "name": "stdout",
     "output_type": "stream",
     "text": [
      "\n",
<<<<<<< HEAD
<<<<<<< HEAD
      "epoch 12 - train: 23.063 - valid: 23.061 - stale=0\n"
=======
      "epoch 78 - train: 18.966 - valid: 19.145 - stale=0\n"
>>>>>>> Z0zzz-master
=======
      "epoch 78 - train: 18.966 - valid: 19.145 - stale=0\n"
>>>>>>> Z0zzz-master
     ]
    },
    {
     "data": {
      "application/vnd.jupyter.widget-view+json": {
<<<<<<< HEAD
<<<<<<< HEAD
       "model_id": "eab05e4e131740ca8babfe13287c5fb3",
=======
       "model_id": "d1bcae351ebc40ff9da4a8be4adfb3b1",
>>>>>>> Z0zzz-master
=======
       "model_id": "d1bcae351ebc40ff9da4a8be4adfb3b1",
>>>>>>> Z0zzz-master
       "version_major": 2,
       "version_minor": 0
      },
      "text/plain": [
       "HBox(children=(FloatProgress(value=0.0, max=20.0), HTML(value='')))"
      ]
     },
     "metadata": {},
     "output_type": "display_data"
    },
    {
     "name": "stdout",
     "output_type": "stream",
     "text": [
      "\n"
     ]
    },
    {
     "data": {
      "application/vnd.jupyter.widget-view+json": {
<<<<<<< HEAD
<<<<<<< HEAD
       "model_id": "a90ebeefea304899bd9dfbd248e41eb6",
=======
       "model_id": "d241aea32f134b5cadf29f44018b6916",
>>>>>>> Z0zzz-master
=======
       "model_id": "d241aea32f134b5cadf29f44018b6916",
>>>>>>> Z0zzz-master
       "version_major": 2,
       "version_minor": 0
      },
      "text/plain": [
       "HBox(children=(FloatProgress(value=0.0, max=20.0), HTML(value='')))"
      ]
     },
     "metadata": {},
     "output_type": "display_data"
    },
    {
     "name": "stdout",
     "output_type": "stream",
     "text": [
      "\n",
<<<<<<< HEAD
<<<<<<< HEAD
      "epoch 13 - train: 22.967 - valid: 22.962 - stale=0\n"
=======
      "epoch 79 - train: 18.948 - valid: 19.128 - stale=0\n"
>>>>>>> Z0zzz-master
=======
      "epoch 79 - train: 18.948 - valid: 19.128 - stale=0\n"
>>>>>>> Z0zzz-master
     ]
    },
    {
     "data": {
      "application/vnd.jupyter.widget-view+json": {
<<<<<<< HEAD
<<<<<<< HEAD
       "model_id": "1c6011e4bbf248bfa22c3d8b850f7ade",
=======
       "model_id": "2fd451e7d2a443119c46744f7abe9667",
>>>>>>> Z0zzz-master
=======
       "model_id": "2fd451e7d2a443119c46744f7abe9667",
>>>>>>> Z0zzz-master
       "version_major": 2,
       "version_minor": 0
      },
      "text/plain": [
       "HBox(children=(FloatProgress(value=0.0, max=20.0), HTML(value='')))"
      ]
     },
     "metadata": {},
     "output_type": "display_data"
    },
    {
     "name": "stdout",
     "output_type": "stream",
     "text": [
      "\n"
     ]
    },
    {
     "data": {
      "application/vnd.jupyter.widget-view+json": {
<<<<<<< HEAD
<<<<<<< HEAD
       "model_id": "c7060ffb63a8495b8b668132b650587c",
=======
       "model_id": "446cc364a9b5457b9f3e5f9e59f6f4b0",
>>>>>>> Z0zzz-master
=======
       "model_id": "446cc364a9b5457b9f3e5f9e59f6f4b0",
>>>>>>> Z0zzz-master
       "version_major": 2,
       "version_minor": 0
      },
      "text/plain": [
       "HBox(children=(FloatProgress(value=0.0, max=20.0), HTML(value='')))"
      ]
     },
     "metadata": {},
     "output_type": "display_data"
    },
    {
     "name": "stdout",
     "output_type": "stream",
     "text": [
      "\n",
<<<<<<< HEAD
<<<<<<< HEAD
      "epoch 14 - train: 22.755 - valid: 22.668 - stale=0\n"
=======
      "epoch 80 - train: 18.93 - valid: 19.112 - stale=0\n"
>>>>>>> Z0zzz-master
=======
      "epoch 80 - train: 18.93 - valid: 19.112 - stale=0\n"
>>>>>>> Z0zzz-master
     ]
    },
    {
     "data": {
      "application/vnd.jupyter.widget-view+json": {
<<<<<<< HEAD
<<<<<<< HEAD
       "model_id": "becab7a503794afa81f82405eca5a203",
=======
       "model_id": "930fd7aec3b34466a967511ce2cc566e",
>>>>>>> Z0zzz-master
=======
       "model_id": "930fd7aec3b34466a967511ce2cc566e",
>>>>>>> Z0zzz-master
       "version_major": 2,
       "version_minor": 0
      },
      "text/plain": [
       "HBox(children=(FloatProgress(value=0.0, max=20.0), HTML(value='')))"
      ]
     },
     "metadata": {},
     "output_type": "display_data"
    },
    {
     "name": "stdout",
     "output_type": "stream",
     "text": [
      "\n"
     ]
    },
    {
     "data": {
      "application/vnd.jupyter.widget-view+json": {
<<<<<<< HEAD
<<<<<<< HEAD
       "model_id": "dba709ca7d87496c8aa9cfba420cbacb",
=======
       "model_id": "c271a912783a42bdba9f64650b9d5266",
>>>>>>> Z0zzz-master
=======
       "model_id": "c271a912783a42bdba9f64650b9d5266",
>>>>>>> Z0zzz-master
       "version_major": 2,
       "version_minor": 0
      },
      "text/plain": [
       "HBox(children=(FloatProgress(value=0.0, max=20.0), HTML(value='')))"
      ]
     },
     "metadata": {},
     "output_type": "display_data"
    },
    {
     "name": "stdout",
     "output_type": "stream",
     "text": [
      "\n",
<<<<<<< HEAD
<<<<<<< HEAD
      "epoch 15 - train: 22.499 - valid: 22.43 - stale=0\n"
=======
      "epoch 81 - train: 18.913 - valid: 19.097 - stale=0\n"
>>>>>>> Z0zzz-master
=======
      "epoch 81 - train: 18.913 - valid: 19.097 - stale=0\n"
>>>>>>> Z0zzz-master
     ]
    },
    {
     "data": {
      "application/vnd.jupyter.widget-view+json": {
<<<<<<< HEAD
<<<<<<< HEAD
       "model_id": "a3044fe680244b7cb1366d40b98d6d47",
=======
       "model_id": "011d9d2e51e54cce86fa4ab82c244b83",
>>>>>>> Z0zzz-master
=======
       "model_id": "011d9d2e51e54cce86fa4ab82c244b83",
>>>>>>> Z0zzz-master
       "version_major": 2,
       "version_minor": 0
      },
      "text/plain": [
       "HBox(children=(FloatProgress(value=0.0, max=20.0), HTML(value='')))"
      ]
     },
     "metadata": {},
     "output_type": "display_data"
    },
    {
     "name": "stdout",
     "output_type": "stream",
     "text": [
      "\n"
     ]
    },
    {
     "data": {
      "application/vnd.jupyter.widget-view+json": {
<<<<<<< HEAD
<<<<<<< HEAD
       "model_id": "04a57bccb5c34bfe9c3bb4ca7fe9f8a5",
=======
       "model_id": "9664c2d7b4a5453db0bd7a4a319be9da",
>>>>>>> Z0zzz-master
=======
       "model_id": "9664c2d7b4a5453db0bd7a4a319be9da",
>>>>>>> Z0zzz-master
       "version_major": 2,
       "version_minor": 0
      },
      "text/plain": [
       "HBox(children=(FloatProgress(value=0.0, max=20.0), HTML(value='')))"
      ]
     },
     "metadata": {},
     "output_type": "display_data"
    },
    {
     "name": "stdout",
     "output_type": "stream",
     "text": [
      "\n",
<<<<<<< HEAD
<<<<<<< HEAD
      "epoch 16 - train: 22.285 - valid: 22.235 - stale=0\n"
=======
      "epoch 82 - train: 18.896 - valid: 19.081 - stale=0\n"
>>>>>>> Z0zzz-master
=======
      "epoch 82 - train: 18.896 - valid: 19.081 - stale=0\n"
>>>>>>> Z0zzz-master
     ]
    },
    {
     "data": {
      "application/vnd.jupyter.widget-view+json": {
<<<<<<< HEAD
<<<<<<< HEAD
       "model_id": "eb099ba18f2940d58feedc9ca0392fea",
=======
       "model_id": "616173b48d4a40e4b10768d6464da183",
>>>>>>> Z0zzz-master
=======
       "model_id": "616173b48d4a40e4b10768d6464da183",
>>>>>>> Z0zzz-master
       "version_major": 2,
       "version_minor": 0
      },
      "text/plain": [
       "HBox(children=(FloatProgress(value=0.0, max=20.0), HTML(value='')))"
      ]
     },
     "metadata": {},
     "output_type": "display_data"
    },
    {
     "name": "stdout",
     "output_type": "stream",
     "text": [
      "\n"
     ]
    },
    {
     "data": {
      "application/vnd.jupyter.widget-view+json": {
<<<<<<< HEAD
<<<<<<< HEAD
       "model_id": "2a8ffdf89a7d44e9af5c5cb92be88b6b",
=======
       "model_id": "b2b2f33aada541569063f1422a23ce1a",
>>>>>>> Z0zzz-master
=======
       "model_id": "b2b2f33aada541569063f1422a23ce1a",
>>>>>>> Z0zzz-master
       "version_major": 2,
       "version_minor": 0
      },
      "text/plain": [
       "HBox(children=(FloatProgress(value=0.0, max=20.0), HTML(value='')))"
      ]
     },
     "metadata": {},
     "output_type": "display_data"
    },
    {
     "name": "stdout",
     "output_type": "stream",
     "text": [
      "\n",
<<<<<<< HEAD
<<<<<<< HEAD
      "epoch 17 - train: 22.102 - valid: 22.08 - stale=0\n"
=======
      "epoch 83 - train: 18.88 - valid: 19.067 - stale=0\n"
>>>>>>> Z0zzz-master
=======
      "epoch 83 - train: 18.88 - valid: 19.067 - stale=0\n"
>>>>>>> Z0zzz-master
     ]
    },
    {
     "data": {
      "application/vnd.jupyter.widget-view+json": {
<<<<<<< HEAD
<<<<<<< HEAD
       "model_id": "f96b5579fcde4f5e80df6364bd1e0fc0",
=======
       "model_id": "1c77617fa4c0456b9d11ad725f555603",
>>>>>>> Z0zzz-master
=======
       "model_id": "1c77617fa4c0456b9d11ad725f555603",
>>>>>>> Z0zzz-master
       "version_major": 2,
       "version_minor": 0
      },
      "text/plain": [
       "HBox(children=(FloatProgress(value=0.0, max=20.0), HTML(value='')))"
      ]
     },
     "metadata": {},
     "output_type": "display_data"
    },
    {
     "name": "stdout",
     "output_type": "stream",
     "text": [
      "\n"
     ]
    },
    {
     "data": {
      "application/vnd.jupyter.widget-view+json": {
<<<<<<< HEAD
<<<<<<< HEAD
       "model_id": "a16e364a2ac648238d1c4a88dbffd7b1",
=======
       "model_id": "16d8eb6f62a249738a4ba776e47356f8",
>>>>>>> Z0zzz-master
=======
       "model_id": "16d8eb6f62a249738a4ba776e47356f8",
>>>>>>> Z0zzz-master
       "version_major": 2,
       "version_minor": 0
      },
      "text/plain": [
       "HBox(children=(FloatProgress(value=0.0, max=20.0), HTML(value='')))"
      ]
     },
     "metadata": {},
     "output_type": "display_data"
    },
    {
     "name": "stdout",
     "output_type": "stream",
     "text": [
      "\n",
<<<<<<< HEAD
<<<<<<< HEAD
      "epoch 18 - train: 21.948 - valid: 21.939 - stale=0\n"
=======
      "epoch 84 - train: 18.864 - valid: 19.052 - stale=0\n"
>>>>>>> Z0zzz-master
=======
      "epoch 84 - train: 18.864 - valid: 19.052 - stale=0\n"
>>>>>>> Z0zzz-master
     ]
    },
    {
     "data": {
      "application/vnd.jupyter.widget-view+json": {
<<<<<<< HEAD
<<<<<<< HEAD
       "model_id": "92d137a37e7a40cc8ea55dd0592ead1b",
=======
       "model_id": "a0abd96a8bd24ab18a5e1e74983fa1d6",
>>>>>>> Z0zzz-master
=======
       "model_id": "a0abd96a8bd24ab18a5e1e74983fa1d6",
>>>>>>> Z0zzz-master
       "version_major": 2,
       "version_minor": 0
      },
      "text/plain": [
       "HBox(children=(FloatProgress(value=0.0, max=20.0), HTML(value='')))"
      ]
     },
     "metadata": {},
     "output_type": "display_data"
    },
    {
     "name": "stdout",
     "output_type": "stream",
     "text": [
      "\n"
     ]
    },
    {
     "data": {
      "application/vnd.jupyter.widget-view+json": {
<<<<<<< HEAD
<<<<<<< HEAD
       "model_id": "09b706cc797942b5b6cc27742745a85d",
=======
       "model_id": "63509a0f3be1420387119d641865e5a8",
>>>>>>> Z0zzz-master
=======
       "model_id": "63509a0f3be1420387119d641865e5a8",
>>>>>>> Z0zzz-master
       "version_major": 2,
       "version_minor": 0
      },
      "text/plain": [
       "HBox(children=(FloatProgress(value=0.0, max=20.0), HTML(value='')))"
      ]
     },
     "metadata": {},
     "output_type": "display_data"
    },
    {
     "name": "stdout",
     "output_type": "stream",
     "text": [
      "\n",
<<<<<<< HEAD
<<<<<<< HEAD
      "epoch 19 - train: 21.792 - valid: 21.782 - stale=0\n"
=======
      "epoch 85 - train: 18.849 - valid: 19.038 - stale=0\n"
>>>>>>> Z0zzz-master
=======
      "epoch 85 - train: 18.849 - valid: 19.038 - stale=0\n"
>>>>>>> Z0zzz-master
     ]
    },
    {
     "data": {
      "application/vnd.jupyter.widget-view+json": {
<<<<<<< HEAD
<<<<<<< HEAD
       "model_id": "a96d1554c50440eda1f50b25585039e4",
=======
       "model_id": "c76eb63ca4454112aca324266fe723b0",
>>>>>>> Z0zzz-master
=======
       "model_id": "c76eb63ca4454112aca324266fe723b0",
>>>>>>> Z0zzz-master
       "version_major": 2,
       "version_minor": 0
      },
      "text/plain": [
       "HBox(children=(FloatProgress(value=0.0, max=20.0), HTML(value='')))"
      ]
     },
     "metadata": {},
     "output_type": "display_data"
    },
    {
     "name": "stdout",
     "output_type": "stream",
     "text": [
      "\n"
     ]
    },
    {
     "data": {
      "application/vnd.jupyter.widget-view+json": {
<<<<<<< HEAD
<<<<<<< HEAD
       "model_id": "71c2b28219a64254abde754850687b60",
=======
       "model_id": "be046a4803154787a6b85c95e93f2c44",
>>>>>>> Z0zzz-master
=======
       "model_id": "be046a4803154787a6b85c95e93f2c44",
>>>>>>> Z0zzz-master
       "version_major": 2,
       "version_minor": 0
      },
      "text/plain": [
       "HBox(children=(FloatProgress(value=0.0, max=20.0), HTML(value='')))"
      ]
     },
     "metadata": {},
     "output_type": "display_data"
    },
    {
     "name": "stdout",
     "output_type": "stream",
     "text": [
      "\n",
<<<<<<< HEAD
<<<<<<< HEAD
      "epoch 20 - train: 21.639 - valid: 21.634 - stale=0\n"
=======
      "epoch 86 - train: 18.833 - valid: 19.024 - stale=0\n"
>>>>>>> Z0zzz-master
=======
      "epoch 86 - train: 18.833 - valid: 19.024 - stale=0\n"
>>>>>>> Z0zzz-master
     ]
    },
    {
     "data": {
      "application/vnd.jupyter.widget-view+json": {
<<<<<<< HEAD
<<<<<<< HEAD
       "model_id": "6b35ab7bb8334754ac7f8d91376d8cf3",
=======
       "model_id": "2e0c1e3eb1144cc492481667ae933015",
>>>>>>> Z0zzz-master
=======
       "model_id": "2e0c1e3eb1144cc492481667ae933015",
>>>>>>> Z0zzz-master
       "version_major": 2,
       "version_minor": 0
      },
      "text/plain": [
       "HBox(children=(FloatProgress(value=0.0, max=20.0), HTML(value='')))"
      ]
     },
     "metadata": {},
     "output_type": "display_data"
    },
    {
     "name": "stdout",
     "output_type": "stream",
     "text": [
      "\n"
     ]
    },
    {
     "data": {
      "application/vnd.jupyter.widget-view+json": {
<<<<<<< HEAD
<<<<<<< HEAD
       "model_id": "167380c1d67240b68005122c5b7e2bad",
=======
       "model_id": "208178a59e944a228f24413ff6dccc0a",
>>>>>>> Z0zzz-master
=======
       "model_id": "208178a59e944a228f24413ff6dccc0a",
>>>>>>> Z0zzz-master
       "version_major": 2,
       "version_minor": 0
      },
      "text/plain": [
       "HBox(children=(FloatProgress(value=0.0, max=20.0), HTML(value='')))"
      ]
     },
     "metadata": {},
     "output_type": "display_data"
    },
    {
     "name": "stdout",
     "output_type": "stream",
     "text": [
      "\n",
<<<<<<< HEAD
<<<<<<< HEAD
      "epoch 21 - train: 21.497 - valid: 21.499 - stale=0\n"
=======
      "epoch 87 - train: 18.819 - valid: 19.011 - stale=0\n"
>>>>>>> Z0zzz-master
=======
      "epoch 87 - train: 18.819 - valid: 19.011 - stale=0\n"
>>>>>>> Z0zzz-master
     ]
    },
    {
     "data": {
      "application/vnd.jupyter.widget-view+json": {
<<<<<<< HEAD
<<<<<<< HEAD
       "model_id": "8f609c9f52bc4b52a99ede08481287ab",
=======
       "model_id": "8503ddaa955d4a3badefadc25f018238",
>>>>>>> Z0zzz-master
=======
       "model_id": "8503ddaa955d4a3badefadc25f018238",
>>>>>>> Z0zzz-master
       "version_major": 2,
       "version_minor": 0
      },
      "text/plain": [
       "HBox(children=(FloatProgress(value=0.0, max=20.0), HTML(value='')))"
      ]
     },
     "metadata": {},
     "output_type": "display_data"
    },
    {
     "name": "stdout",
     "output_type": "stream",
     "text": [
      "\n"
     ]
    },
    {
     "data": {
      "application/vnd.jupyter.widget-view+json": {
<<<<<<< HEAD
<<<<<<< HEAD
       "model_id": "6ba62a7e98184e998604f83f45ef0f1d",
=======
       "model_id": "1c12c4d9886644e0a2637d4e1457a323",
>>>>>>> Z0zzz-master
=======
       "model_id": "1c12c4d9886644e0a2637d4e1457a323",
>>>>>>> Z0zzz-master
       "version_major": 2,
       "version_minor": 0
      },
      "text/plain": [
       "HBox(children=(FloatProgress(value=0.0, max=20.0), HTML(value='')))"
      ]
     },
     "metadata": {},
     "output_type": "display_data"
    },
    {
     "name": "stdout",
     "output_type": "stream",
     "text": [
      "\n",
<<<<<<< HEAD
<<<<<<< HEAD
      "epoch 22 - train: 21.363 - valid: 21.37 - stale=0\n"
=======
      "epoch 88 - train: 18.804 - valid: 18.997 - stale=0\n"
>>>>>>> Z0zzz-master
=======
      "epoch 88 - train: 18.804 - valid: 18.997 - stale=0\n"
>>>>>>> Z0zzz-master
     ]
    },
    {
     "data": {
      "application/vnd.jupyter.widget-view+json": {
<<<<<<< HEAD
<<<<<<< HEAD
       "model_id": "2fba13b9e9234facb277605d432390e2",
=======
       "model_id": "e11b51d149f14bef9e3779ebd7356910",
>>>>>>> Z0zzz-master
=======
       "model_id": "e11b51d149f14bef9e3779ebd7356910",
>>>>>>> Z0zzz-master
       "version_major": 2,
       "version_minor": 0
      },
      "text/plain": [
       "HBox(children=(FloatProgress(value=0.0, max=20.0), HTML(value='')))"
      ]
     },
     "metadata": {},
     "output_type": "display_data"
    },
    {
     "name": "stdout",
     "output_type": "stream",
     "text": [
      "\n"
     ]
    },
    {
     "data": {
      "application/vnd.jupyter.widget-view+json": {
<<<<<<< HEAD
<<<<<<< HEAD
       "model_id": "26ff9662c3c948d3aca2219ca0858429",
=======
       "model_id": "9321c2ad331b4ff9a87ea3a1497c4b23",
>>>>>>> Z0zzz-master
=======
       "model_id": "9321c2ad331b4ff9a87ea3a1497c4b23",
>>>>>>> Z0zzz-master
       "version_major": 2,
       "version_minor": 0
      },
      "text/plain": [
       "HBox(children=(FloatProgress(value=0.0, max=20.0), HTML(value='')))"
      ]
     },
     "metadata": {},
     "output_type": "display_data"
    },
    {
     "name": "stdout",
     "output_type": "stream",
     "text": [
      "\n",
<<<<<<< HEAD
<<<<<<< HEAD
      "epoch 23 - train: 21.233 - valid: 21.248 - stale=0\n"
=======
      "epoch 89 - train: 18.79 - valid: 18.984 - stale=0\n"
>>>>>>> Z0zzz-master
=======
      "epoch 89 - train: 18.79 - valid: 18.984 - stale=0\n"
>>>>>>> Z0zzz-master
     ]
    },
    {
     "data": {
      "application/vnd.jupyter.widget-view+json": {
<<<<<<< HEAD
<<<<<<< HEAD
       "model_id": "8e6abe063f02478fbd4355e8b4a182d6",
=======
       "model_id": "668f0fad54c844b3b5a5541086c4b032",
>>>>>>> Z0zzz-master
=======
       "model_id": "668f0fad54c844b3b5a5541086c4b032",
>>>>>>> Z0zzz-master
       "version_major": 2,
       "version_minor": 0
      },
      "text/plain": [
       "HBox(children=(FloatProgress(value=0.0, max=20.0), HTML(value='')))"
      ]
     },
     "metadata": {},
     "output_type": "display_data"
    },
    {
     "name": "stdout",
     "output_type": "stream",
     "text": [
      "\n"
     ]
    },
    {
     "data": {
      "application/vnd.jupyter.widget-view+json": {
<<<<<<< HEAD
<<<<<<< HEAD
       "model_id": "85567391d628405a89e3176394c6fab3",
=======
       "model_id": "f6d5c6c4326b498eae6624dddd48e95a",
>>>>>>> Z0zzz-master
=======
       "model_id": "f6d5c6c4326b498eae6624dddd48e95a",
>>>>>>> Z0zzz-master
       "version_major": 2,
       "version_minor": 0
      },
      "text/plain": [
       "HBox(children=(FloatProgress(value=0.0, max=20.0), HTML(value='')))"
      ]
     },
     "metadata": {},
     "output_type": "display_data"
    },
    {
     "name": "stdout",
     "output_type": "stream",
     "text": [
      "\n",
<<<<<<< HEAD
<<<<<<< HEAD
      "epoch 24 - train: 21.108 - valid: 21.131 - stale=0\n"
=======
      "epoch 90 - train: 18.776 - valid: 18.972 - stale=0\n"
>>>>>>> Z0zzz-master
=======
      "epoch 90 - train: 18.776 - valid: 18.972 - stale=0\n"
>>>>>>> Z0zzz-master
     ]
    },
    {
     "data": {
      "application/vnd.jupyter.widget-view+json": {
<<<<<<< HEAD
<<<<<<< HEAD
       "model_id": "7b72b80751234734ac40a7287ed537e3",
=======
       "model_id": "8db6e2a1bf0e48c4a11872196e2bcf31",
>>>>>>> Z0zzz-master
=======
       "model_id": "8db6e2a1bf0e48c4a11872196e2bcf31",
>>>>>>> Z0zzz-master
       "version_major": 2,
       "version_minor": 0
      },
      "text/plain": [
       "HBox(children=(FloatProgress(value=0.0, max=20.0), HTML(value='')))"
      ]
     },
     "metadata": {},
     "output_type": "display_data"
    },
    {
     "name": "stdout",
     "output_type": "stream",
     "text": [
      "\n"
     ]
    },
    {
     "data": {
      "application/vnd.jupyter.widget-view+json": {
<<<<<<< HEAD
<<<<<<< HEAD
       "model_id": "d3fc03cb535f42e3bbd7245f04f2b9fc",
=======
       "model_id": "7626066291604a05b676387614be37e1",
>>>>>>> Z0zzz-master
=======
       "model_id": "7626066291604a05b676387614be37e1",
>>>>>>> Z0zzz-master
       "version_major": 2,
       "version_minor": 0
      },
      "text/plain": [
       "HBox(children=(FloatProgress(value=0.0, max=20.0), HTML(value='')))"
      ]
     },
     "metadata": {},
     "output_type": "display_data"
    },
    {
     "name": "stdout",
     "output_type": "stream",
     "text": [
      "\n",
<<<<<<< HEAD
<<<<<<< HEAD
      "epoch 25 - train: 20.988 - valid: 21.019 - stale=0\n"
=======
      "epoch 91 - train: 18.762 - valid: 18.959 - stale=0\n"
>>>>>>> Z0zzz-master
=======
      "epoch 91 - train: 18.762 - valid: 18.959 - stale=0\n"
>>>>>>> Z0zzz-master
     ]
    },
    {
     "data": {
      "application/vnd.jupyter.widget-view+json": {
<<<<<<< HEAD
<<<<<<< HEAD
       "model_id": "716d2e24eacd40bd8d92646e407266ff",
=======
       "model_id": "7f2c8b2171374c85a3b2089be664c8bf",
>>>>>>> Z0zzz-master
=======
       "model_id": "7f2c8b2171374c85a3b2089be664c8bf",
>>>>>>> Z0zzz-master
       "version_major": 2,
       "version_minor": 0
      },
      "text/plain": [
       "HBox(children=(FloatProgress(value=0.0, max=20.0), HTML(value='')))"
      ]
     },
     "metadata": {},
     "output_type": "display_data"
    },
    {
     "name": "stdout",
     "output_type": "stream",
     "text": [
      "\n"
     ]
    },
    {
     "data": {
      "application/vnd.jupyter.widget-view+json": {
<<<<<<< HEAD
<<<<<<< HEAD
       "model_id": "287a9c96888f4e16a016f6480fa13850",
=======
       "model_id": "7fed47c596644ee9ad91227c43158840",
>>>>>>> Z0zzz-master
=======
       "model_id": "7fed47c596644ee9ad91227c43158840",
>>>>>>> Z0zzz-master
       "version_major": 2,
       "version_minor": 0
      },
      "text/plain": [
       "HBox(children=(FloatProgress(value=0.0, max=20.0), HTML(value='')))"
      ]
     },
     "metadata": {},
     "output_type": "display_data"
    },
    {
     "name": "stdout",
     "output_type": "stream",
     "text": [
      "\n",
<<<<<<< HEAD
<<<<<<< HEAD
      "epoch 26 - train: 20.875 - valid: 20.911 - stale=0\n"
=======
      "epoch 92 - train: 18.748 - valid: 18.947 - stale=0\n"
>>>>>>> Z0zzz-master
=======
      "epoch 92 - train: 18.748 - valid: 18.947 - stale=0\n"
>>>>>>> Z0zzz-master
     ]
    },
    {
     "data": {
      "application/vnd.jupyter.widget-view+json": {
<<<<<<< HEAD
<<<<<<< HEAD
       "model_id": "6c9862e54b474fecb3a3a52df78b3715",
=======
       "model_id": "4169342ad19044f3aaec8781400fc41b",
>>>>>>> Z0zzz-master
=======
       "model_id": "4169342ad19044f3aaec8781400fc41b",
>>>>>>> Z0zzz-master
       "version_major": 2,
       "version_minor": 0
      },
      "text/plain": [
       "HBox(children=(FloatProgress(value=0.0, max=20.0), HTML(value='')))"
      ]
     },
     "metadata": {},
     "output_type": "display_data"
    },
    {
     "name": "stdout",
     "output_type": "stream",
     "text": [
      "\n"
     ]
    },
    {
     "data": {
      "application/vnd.jupyter.widget-view+json": {
<<<<<<< HEAD
<<<<<<< HEAD
       "model_id": "c696e3a6ca6b4109b65149e6325d954e",
=======
       "model_id": "6f3ea8e2d4ff40698e26ff1be9414db7",
>>>>>>> Z0zzz-master
=======
       "model_id": "6f3ea8e2d4ff40698e26ff1be9414db7",
>>>>>>> Z0zzz-master
       "version_major": 2,
       "version_minor": 0
      },
      "text/plain": [
       "HBox(children=(FloatProgress(value=0.0, max=20.0), HTML(value='')))"
      ]
     },
     "metadata": {},
     "output_type": "display_data"
    },
    {
     "name": "stdout",
     "output_type": "stream",
     "text": [
      "\n",
<<<<<<< HEAD
<<<<<<< HEAD
      "epoch 27 - train: 20.765 - valid: 20.807 - stale=0\n"
=======
      "epoch 93 - train: 18.735 - valid: 18.935 - stale=0\n"
>>>>>>> Z0zzz-master
=======
      "epoch 93 - train: 18.735 - valid: 18.935 - stale=0\n"
>>>>>>> Z0zzz-master
     ]
    },
    {
     "data": {
      "application/vnd.jupyter.widget-view+json": {
<<<<<<< HEAD
<<<<<<< HEAD
       "model_id": "37b5cd55eaaa4c78a8384956266c7b84",
=======
       "model_id": "ca4d8816f30a47cb8b23eab35df00183",
>>>>>>> Z0zzz-master
=======
       "model_id": "ca4d8816f30a47cb8b23eab35df00183",
>>>>>>> Z0zzz-master
       "version_major": 2,
       "version_minor": 0
      },
      "text/plain": [
       "HBox(children=(FloatProgress(value=0.0, max=20.0), HTML(value='')))"
      ]
     },
     "metadata": {},
     "output_type": "display_data"
    },
    {
     "name": "stdout",
     "output_type": "stream",
     "text": [
      "\n"
     ]
    },
    {
     "data": {
      "application/vnd.jupyter.widget-view+json": {
<<<<<<< HEAD
<<<<<<< HEAD
       "model_id": "36d208af64a34f248fc9f73ed8fd7b5a",
=======
       "model_id": "11df074793d24d84b744dc2d35b50473",
>>>>>>> Z0zzz-master
=======
       "model_id": "11df074793d24d84b744dc2d35b50473",
>>>>>>> Z0zzz-master
       "version_major": 2,
       "version_minor": 0
      },
      "text/plain": [
       "HBox(children=(FloatProgress(value=0.0, max=20.0), HTML(value='')))"
      ]
     },
     "metadata": {},
     "output_type": "display_data"
    },
    {
     "name": "stdout",
     "output_type": "stream",
     "text": [
      "\n",
<<<<<<< HEAD
<<<<<<< HEAD
      "epoch 28 - train: 20.661 - valid: 20.707 - stale=0\n"
=======
      "epoch 94 - train: 18.722 - valid: 18.923 - stale=0\n"
>>>>>>> Z0zzz-master
=======
      "epoch 94 - train: 18.722 - valid: 18.923 - stale=0\n"
>>>>>>> Z0zzz-master
     ]
    },
    {
     "data": {
      "application/vnd.jupyter.widget-view+json": {
<<<<<<< HEAD
<<<<<<< HEAD
       "model_id": "048a1bfe41ec4c339fc5e3e33ff5935d",
=======
       "model_id": "228a0d0a117344e68f1810dcf2ae201f",
>>>>>>> Z0zzz-master
=======
       "model_id": "228a0d0a117344e68f1810dcf2ae201f",
>>>>>>> Z0zzz-master
       "version_major": 2,
       "version_minor": 0
      },
      "text/plain": [
       "HBox(children=(FloatProgress(value=0.0, max=20.0), HTML(value='')))"
      ]
     },
     "metadata": {},
     "output_type": "display_data"
    },
    {
     "name": "stdout",
     "output_type": "stream",
     "text": [
      "\n"
     ]
    },
    {
     "data": {
      "application/vnd.jupyter.widget-view+json": {
<<<<<<< HEAD
<<<<<<< HEAD
       "model_id": "7235f1e8788c474d9f32cbd7c4a4ff6f",
=======
       "model_id": "86ec3329210f4f90a898480d25e5d48c",
>>>>>>> Z0zzz-master
=======
       "model_id": "86ec3329210f4f90a898480d25e5d48c",
>>>>>>> Z0zzz-master
       "version_major": 2,
       "version_minor": 0
      },
      "text/plain": [
       "HBox(children=(FloatProgress(value=0.0, max=20.0), HTML(value='')))"
      ]
     },
     "metadata": {},
     "output_type": "display_data"
    },
    {
     "name": "stdout",
     "output_type": "stream",
     "text": [
      "\n",
<<<<<<< HEAD
<<<<<<< HEAD
      "epoch 29 - train: 20.561 - valid: 20.612 - stale=0\n",
=======
=======
>>>>>>> Z0zzz-master
      "epoch 95 - train: 18.709 - valid: 18.912 - stale=0\n"
     ]
    },
    {
     "data": {
      "application/vnd.jupyter.widget-view+json": {
       "model_id": "f1dcdea09db04178a635ef217e1503c8",
       "version_major": 2,
       "version_minor": 0
      },
      "text/plain": [
       "HBox(children=(FloatProgress(value=0.0, max=20.0), HTML(value='')))"
      ]
     },
     "metadata": {},
     "output_type": "display_data"
    },
    {
     "name": "stdout",
     "output_type": "stream",
     "text": [
<<<<<<< HEAD
>>>>>>> Z0zzz-master
=======
>>>>>>> Z0zzz-master
      "\n"
     ]
    },
    {
     "data": {
<<<<<<< HEAD
<<<<<<< HEAD
      "image/png": "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\n",
      "text/plain": [
       "<Figure size 432x288 with 1 Axes>"
      ]
     },
     "metadata": {
      "needs_background": "light"
     },
     "output_type": "display_data"
    }
   ],
   "source": [
    "# train ssl version of MLPF\n",
    "batch_size = 50\n",
    "\n",
    "input_dim = 7\n",
    "embedding_dim = encoder.nn1[-1].out_features\n",
    "out_dim = decoder.expander[-1].out_features\n",
    "\n",
    "model_ssl = MLPF(input_dim + embedding_dim + out_dim)\n",
    "losses_train_ssl, losses_valid_ssl = train_mlpf(data, batch_size, model_ssl, with_VICreg=True, epochs=30)"
   ]
  },
  {
   "cell_type": "code",
   "execution_count": 236,
   "metadata": {},
   "outputs": [
    {
     "data": {
      "image/png": "iVBORw0KGgoAAAANSUhEUgAAAe4AAAF1CAYAAAAutgnWAAAAOXRFWHRTb2Z0d2FyZQBNYXRwbG90bGliIHZlcnNpb24zLjYuMCwgaHR0cHM6Ly9tYXRwbG90bGliLm9yZy89olMNAAAACXBIWXMAAAsTAAALEwEAmpwYAABJFElEQVR4nO3dd3RVVd7G8e9OL5BCCyUNCB0EEnovKoiCI4JdxIZdfHXGNo4iOo7i2GcchRkVFXWGooBiBUF6Cb0HQhJaCKGHknb3+8cNkRIggST33uT5rMUinHLPL8fIw97n7L2NtRYRERHxDF6uLkBERESKT8EtIiLiQRTcIiIiHkTBLSIi4kEU3CIiIh7Ex9UFnI8xRq+8i4hIpWStNUVtV4tbRETEg3hEcFtrz/p17733Frm9OL8SEhIu6rxLuebFnuuKa17s/fG071M/Q/oZcuU19TOkn6FznXchHhHcIiIi4nRJz7iNMfWBHdba3FKqp0gjRow4a1tqampZXlJERKTMpaamFplx51Ps4DbGRAFvAf+x1n5vjPkcuAXYZ4y50lq7okRXLoGxY8eeta2k36iIiIi7iYmJOSvjxo0bd95zStJV/j7QFEgzxsQBQ4F+wAzg1RJVKiIiIhelJF3l3YEh1tp1xpg/Az9ba382xmQDX5dNeec2cODA8r7kJV3zYs91xTUvhSd9n550fy7lXP0Muec1L5anfZ+edI885d6a4rzBBmCM2QcMtdbOMsbMAaZaa980xvQEvrXWVi3x1S98TQsU6y27kmjXrh3Lli0r1c+sSHR/Lkz36Px0fy5M9+j8KvP9McY5fNueYxx3SVrc84G/GmOmAh2AocaYSOBRYP0l1ikiIiLFUJJn3I8B3sCfgTHW2gxgJNAXeLr0SxMREZEzFbvFba1NxtnSPtWrwHPW2uxSrUpERESKVKIJWIwxrQqGhWGM6Q68CTxgTnbIi4iISJkqdnAbY+4HVgKdjDG+wH+BBsCzwF/KpLoyojHg56f7c2G6R+en+3Nhukfnp/tzbiV5q3wL8BkwGhiCs5s8DrgNeMFaG1fqxZXyW+W5+Q6WpRygdmgA9WsEl8pnioiIlKYLvVVekq7yejiHfVngCuD7gq/XFuxze7n5Dm77z2ImJ+5wdSkiIiIXpSTBnQb0MMYEAtcB3xRsbw3sL+W6ykSQnw/N64SQmHrA1aWIiFQYsbGx9OrVq1jHGWNo1KjReXtSrbU0aNAAYwxxcb935qakpGCMKda1AHr16oUx5qxfQUFBtG3blueff55jx46dds6oUaOKPOfMX7Nnzy5WDWWhJOO4/wG8g/N59l5r7S/GmLuAd4FPyqC2MhEfHcb/lu0gL9+Bj7cWRxMRKW9btmxh1apVtGnTpsj9K1asYNu2baV2vdtvv52QkBDA+Y+CjIwMZs2axUsvvcQPP/zAggUL8PE5PQ779OlDs2bNzvmZ9eq5rqO5JMPB3jPGbAWaAVMKNh8HXgLeLv3SflfUSwoDBw68qKni4mPCGb8wlY3pR2hZL7Q0yhMRkWKqUqUKWVlZTJw48ZzBPWnSJACCg0vnXaTRo0cTGxt72rZ9+/bRrVs3li5dyvjx47n77rtP23/77bczfPjwUrn++UyfPp3p06eX6JwSLetprZ2Bc1GRk3/+skRXu0hFrQ52sRJiwgFYnnZAwS0iUs4iIiJo3rw5EydO5OWXX+bM0cTWWiZPnkyXLl3YuXNnmdVRvXp1Hn/8cUaMGMHChQvPCu7yUlQjtDRXB8MYc40xZo4xJsMYs98YM88YM6jkpbpOvbBAalX113NuEam08vLy+OCDD4iPj6dq1arUqlWLfv36sXDhwtOOO3bsGK+++iotW7YkODiYunXrMnjwYNatW3dJ1x8yZAhJSUmsXr36rH1r165l8+bNDBky5JKuURwREREApKenl/m1SlNJxnHfgHMVsCTgCeARYAMwqWCfRzDGkBATzvI0BbeIVE5PPfUUDzzwAGlpafTr149u3boxe/Zs+vbty8aNGwuPu/3223nmmWc4cOAAgwYNok2bNkydOpU+ffqwd+/ei77+yVCeOHHiWfsmT54MwODBgy/684tr/vz5ADRp0qTMr1WaStJV/jTO6U1fO2XbhILx3c8A/yvVyspQQkw4369NJ+PwCWqFBLi6HBGRcpOTk8P7779Pq1atWLp0Kf7+/oAzMIcMGcL//vc/nn/+eXbs2MGUKVPo378/3333HV5eznbeG2+8wR//+Ee+//57hg0bdlE11K9fn3bt2jFx4kReeuml07rLJ02aRIcOHYiJibn0b7YI1loyMzOZNGkSb7/9Nl5eXtxyyy1nHffZZ5+dc3Wye++9l9atW5dJfcVRkuBuBPxYxPYfgedKp5zy0Tb69+fc/VvWcXE1IiLlJysrixMnTuDr64ufn1/h9quvvpqFCxdSq1YtADIyMgAIDAwsDG2Ae+65h65duxIVFXVJdQwdOpSnnnqKNWvWcNlllwGwceNG1q1bx5gxYy7ps89Uv379Irf7+vry1ltvkZCQcNa+WbNmMWvWrCLPu/zyyz0muFOB9jinPT1Ve5xjvD1Gy3oh+Hl7sTztoIJbRCqVatWq0b17d+bOnUu7du246667uPzyy2ncuDGdOnUqPK558+bExcXx9ddf07t3b4YNG0bv3r2JiYk57biLNWTIEJ566in+97//FQb3yW7y66+//pI//1SnDgcD8PLyIi4ujiuvvJKmTZsWec7HH39cLm+VX4ySBPdY4E1jTC1gbsG27sBTeFiL29/Hm1aRoXpBTUQqpWnTpvHiiy/y+eef8/DDDwMQGRnJLbfcwp///GdCQkIICAhgzpw5PPfcc0yePLlwwpFGjRpx55138vjjjxd2s1+MBg0akJCQcFp3+aRJk4iPj6dBgwal8W0WKmo4mCcryVvl7+EM6AeA2QW/HgRG4Qx1jxIfHcaaHYfIzst3dSkiIuUqLCyMt956i/T0dBYtWsSrr75KWFgYY8aM4brrris8rm7dunz00Ufs3buX2bNn88ILL5Cbm8uzzz7Lgw8+eMl1DB06lM2bN7NmzRq2bt3KypUry+Vtck9X7OC2Tu9YayOBMCDMWlsPmA8cLaP6ykxCTDg5+Q7W7Trs6lJERMrN1q1bGTVqFAsWLMDb25uOHTvy1FNPsXr1ahISEpg1axaHDx8mMTGRUaNGsX79evz8/OjZsyejRo1i06ZN1K5dm2+++eaSaxk6dCjgfLu8rLrJK6ISTcBykrXW49Mu/uQLaqkHCr8WEanocnNzefHFF/ntt9/4+eef8fb2BpxjtrOysggJCSE4OJi9e/fy4osvkpKSwieffFJ4/sGDB8nJyaFu3bqXXEuDBg2Ij49n4sSJhISEcNlll9G4ceNL/tyK7qKCuyKoFRJAZHggiakHuKe7q6sRESkfjRs3pkePHvz666+0adOGDh06kJ6ezvz58zl06BAvvvgi3t7e9OjRg8aNGzN+/Hg2btxIy5Yt2bZtG4sWLeLYsWO8+eabpVLP0KFDeeaZZwDns+jiWLdu3Tm71IOCgvj0009LpTZ3VWmDG5zd5YuS92GtPWvaPRGRisjLy4vJkyfzyiuvMG3aNL744guqVKlCy5YteeCBBwrHNAcFBfHTTz8xevRoZs2axcqVKwkPD6dLly783//9HwMGDCiVek4N7uJ2k2dmZhZ2rZ8pNLTiT2Vtzre0WrE+wJiOwAJrrXfplHTaZ1twDnY/08UuMnKqTxem8PzUdcx7qjeR4UGX9FkiIiIlVdQiIyfnKrfWFtmiPG9wG2M+KsZ1awIDyjK4L/UfF+eyduchrnlvHu/c1IZr27huiTYREZGTTvYAnyu4L9RVXvR0M2f7rQQ1uY2mtasS5OfNirSDCm4REfEI5w1ua23v8irEFXy8vWgdGaaJWERExGOUaFnPiighJpz1uw9zLCfP1aWIiIhcUKUP7viYMPIdltU7Drm6FBERkQuq9MHdNso5+Yq6y0VExBNU+uAOD/ajYc1gliu4RUTEA1T64Abn9KfL0w6U2bAzERGR0qLgxvmC2oFjuWzL9Li1UkREpJJRcOMMbtBzbhERcX8KbqBhzSqEBPiwPO2gq0sRERE5LwU34OVlaBsdrhfURETc0KhRo0q0EFRsbCzDhw8vu4JcrHIFd85RWPQv2LHsrF0JMeFszjjC4RO5LihMRKTiateuHaNGjbro8x999FGSkpKKffzs2bN57bXXLvp67s4jlvUcMWLEWdsuanUwLx+YORra3AqR7U7bFR8djrWwMu0gPRrXvJRyRUSkFFWrVo1q1aoV+/jY2NiyK6aUFbU62AVZa932F2CdJZaiz4da+06bszYfPp5j6z/9rX3zp02lez0RkUqsZ8+e9uTf5TExMbZnz5721VdftQ8//LANCQmxe/futVlZWfaee+6xERER1s/Pz9avX9+++uqr1uFwWGut/fjjj21oaKi11tpt27ZZwK5du9Zee+21NiwszDZo0MB+8cUXp11z5MiR1lprX3jhBduvXz/77bff2oSEBBscHGz79Oljk5OTC49fuXKl7dGjhw0JCbGdOnWyiYmJFrArVqwor9t0mlOyr8hs9IgWd6mK6wtJP8L+ZKjWoHBz1QBfmtQOYXmannOLiOd6cfo61u86XCaf3bxuCC8MbFGicyZMmEC/fv3o06cPjz/+OMOHD+ett97ixhtv5Pvvvyc8PJw///nPTJkyhffff58GDRowc+ZMnn76aTp37kyPHj2K/Ny77rqLhx56iMcff5zRo0czbNgw+vfvT3h4+FnHrl+/nnfffZe3336b1NRUHn74YZ588kkmTpxIRkYG3bt3Z8iQIbz++uskJSVx/fXXX9T9KS+VL7gb9nX+vmUmdGhw2q746DCmrtxFvsPi7VX8FyFERKRo9erVIyAggGrVqhV2YcfExPD2228XvnCWkJBAz549ueqqqwBo06YNo0ePJjk5+ZzBfcMNNzBs2DAAXnnlFTp27EhqamqRwb17926WLFlC7dq16datG/Pnz2fBggUA/Otf/6J27dqMGzcOb29vOnTowL59+xg5cmRp34pSU/mCu3pDCIuBrbOgw72n7UqICWfC4jSSMo7QtHaIiwoUEbl4JW0Ru0KbNm1Oe0t86NChrF27ls8++4xVq1Yxa9Ysjh8/ft7P6Ny5c+HXtWrVOu+x9evXp3bt2kUev2bNGrp06YK3t3fhtm7duhX7e3GFyvVWOYAxzu7ybb9BXs5puzQRi4hI2QsMDDztz08//TQ9e/Zkzpw5tG3blgkTJhTZcj5VUFBQsa93vmPz8s5e0vnUEHdHlS+4wdldnpMF2xeftjm6WhDVg/0U3CIi5SQrK4s333yTCRMm8O9//5tbb72VunXrcuTIkXK5fvPmzVm4cCEOh6Nw28ludHdVOYO7fg/n0LCtM0/bbIwhPiacFZpBTUSk1Hh7e5OUlMSOHTvO2ufn54ePjw/jx49nyZIlfPbZZwwYMACHw8GKFSs4fLhsXrQ76cEHH2T79u2MGDGCpUuX8t///pf33nuvsG53VDmDOyAEojo6X1A7Q0JMONsyj7IvK9sFhYmIVDwjRozg559/ZsCAAWft8/Pz48svv2T58uX07t2b9957j6effprXX3+dCRMmsHTp0jKtLTIykl9//ZW1a9fSt29fPvzwQyZMmABc+Nm5qxjrxktZGmOcg7nLosbf/g6zXoI/JkGV3//jLNm2nxs+XMi4Ye24onlE6V9XRETcxqZNm0hJSaFfv36F2+bNm8cVV1xBVlaWS1rdJ1/cs9YWObypcra4wfmCGjjfLj/FZZGh+HgZjecWEakEMjMzufrqq/nkk09IT09nxYoVjBw5kuHDh6urHMAY42WM+eYc+24wxjxdbsXUbg1BNc7qLg/w9aZFvVC9oCYiUgl07dqVTz75hNdff53Y2FgGDRpE+/bt3Xqu83Ibx22MiQFmAGf9E8YY4ws8D3xeXvXg5QUN+zhb3A6H888F4qPD+HJJGrn5Dny9K2+nhIhIZXDbbbdx2223ubqMYivPVEoDWgOpRewbAfxYjrU4xfWFY5mQvvq0zQkx4ZzIdbBhd9m+zSgiIlJS5dbiLpg4Pe/kC2cnGWOqAr2BfwIdizq3Xbt2RW0u0ogRI4pcTaxIDfs4f9/yC9RtU7j51IlYLosMK/a1RUREijJ27FjGjh1bKp9V7m+VG2N+sNb2P+XPLwC/AL5AJ2vtq6fsK7u3yk/6oBv4h8CdM07b3PlvM0mICecft8SX3bVFRETOcKG3yt1hrvImOFvcYUCIMWaJtXbW+U8pRXGXw4L34MRh5/juApqIRURE3JHL3rwyxjxvjGlurb3FWtsLeAwYW66hDc7pTx15kDL3tM0J0eHsPHic3YfOP9G9iIhIeSr34D7ZTW6tHW2tXX/K9tmndpOXm6iO4FfF+Zz7FPEFz7mXpx4s95JERETORWOdfPwgtrtzPPcpz9Kb1wnB38dLE7GIiLhISkoKxhhWrlwJQGxsLMOHDz/n8Z988glhYWEXfb3hw4cXrhnuztzhGbfrxfWFzd/D/mTnet2An48XrSPDNBGLiIibmD179llLgl6KP/7xjyxbtozZs2cD8Nprr11wHXB3oBY3/D79aRHd5et2HeJEbr4LihIRkVPFxsYSEVF2a0hERER4RItbwQ1QrQGE1z9r+tP46DBy8y1rdx5yUWEiIp5tyJAhpy3gAfDtt9/i5eVFamoqr7/+Og0bNsTf35/atWtz1113cfTo0SI/q1evXjz22GMAOBwOxowZQ6NGjQgPD2fw4MFkZmaedvyiRYvo0aMHISEhVK1alW7durFw4UIARo0axRtvvMGcOXMwxpCSksKoUaNo06ZN4fkrVqygT58+hIaGEhsby8MPP0xWVlbh/tjYWL744gsef/xxIiMjqVmzJk899VTZDmFGXeW/i+sLK7+AvGzw8Qd+f0EtMfUA7WKrubI6EZHi+f5pSF9TNp9duxVcVbJ3iG+66SZuvvlmDhw4QHi48+/Ur776ir59+7JhwwaefPJJxowZQ+/evdm4cSOPPvoosbGxPP/88+f93DfffJPnn3+eMWPG0KVLF6ZMmcKzzz5LUFAQ4Jz/47rrriM+Pp5p06aRm5vLG2+8wa233kpycjKPPvoo27dvZ+3atUyYMIF69eqd9vk7d+6kW7duDB48mL/97W/s3buXxx57jF27djFlypTC40aPHs1NN93E5MmTmTBhAmPGjKFHjx5cffXVJbpPJaHgPinuclj6b0hbBA16AlCjij+x1YP0nFtE5CINGDCAgIAApk+fzrBhwzh+/DhTp07lgw8+IDw8nA8++ID77rsPcM6SOX78eJKTky/4uW+88QZ//OMfefTRRwvPXb16NfPmzQPg+PHjjBw5kttuu43IyEgAMjIyCuckr1atGuHh4QQGBhIXF3fW57///vvUqVOHTz75pHCVsNDQUHr06MGWLVsKz2nUqBGjRo0CoE2bNnz66ackJSVdwh27MAX3SbHdwcvX+Zy7ILgB4qPD+S0pE2tt4Ww2IiJuq4Qt4rIWFBTEtddey+TJkxk2bBgzZszAy8uL6667jqCgIOrVq8eUKVNYvXo1ixYtYubMmQwbNuy8n3ngwAHS09Pp27fvadt79+5dGNxBQUGMHDmSxYsXM2XKFBITE5kxY0ZRH1ekDRs20K1bt9OW9uzcuTM+Pj5s3LixMLg7d+5cuN/f3/+S3movLj3jPsm/CkR3Omt97viYcDKzstm+3/3fNBQRcUc33XQTP/74I0eOHOGrr77ixhtvJCgoiK+//pqWLVvy6aefEhERwejRo4vVxXyudbK9TlnlMSMjg44dOzJy5Ej27dvHzTffzJgxY4pdc1HPqY0xGGPIy8sr3Haya748eUSLu6hFQwYOHMjAgQNL90IN+8DMF+FIOlStDZyy4EjafqKrl/9/IBERT3fllVcSGBjIxIkT+e6775g50/ki8Ouvv87999/Pq686ewmstWRkZFC9evXzfl5ISAj16tVj5syZ9O7du3D7b7/9Vvj1N998Q2ZmJtu3by8M+n/961/FrrlZs2ZMmjSJ/Pz8wvMXLVpEbm4uzZs3L/bnXMj06dOZPn16ic7xiOAurRVVLijucmdwb50FbW4BoHFEVar4+7A89SDXtY0snzpERCoQPz8/rr/+ep588kmioqLo1KkTAMHBwcyYMYP+/ftz7NgxvvzySxITE/Hx8WHXrl3n/cwnnniCZ555hoiICLp27cq0adMKx2Of/Ozdu3czfvx4WrRowa+//sobb7wBOAO+R48eeHt7s3v3bpKTk4mKijrt8x988EHefvtt7rrrLh566CEyMjJ47LHHGDRoEI0bNy61e1NUI3TcuHHnPUdd5aeKaAnBtU4bz+3tZWgTpYlYREQuxU033cS+ffu48847C98XevfddwkJCWHAgAE88cQTtGzZkh9//JFt27bx0UcfnffzRo4cyUsvvcS7775Lnz59WLlyJR9//HHh/htvvJEHH3yQP/3pT1xzzTWsWLGCRYsW0b1798Je3BtuuAFrLa1atSI9Pf20z4+MjGTu3LmkpaVxxRVX8OCDD9KvXz8+//zzUr4zJVfuy3qWRLks63mmKfdB0k/wpy3g5eweefPnzfxjVhKrR/Wjir9HdFKIiIiHutCynmpxnymuLxzfD7tXFm6Kjw7DYWH19oMuK0tERAQU3Gdr2AcwsOX3t8vbRv8+EYuIiIgrKbjPFFwD6rQ+7Tl3aKAvjSOqkKiVwkRExMUU3EWJ6ws7lsKJ3+coj48OZ3nqAXLyHC4sTEREKjsFd1Ea9gWbD8lzCjf1a1Gbwyfy+GFd+nlOFBERKVsK7qJEdQC/qrD199XCejauSXS1ID5dkOK6ukREpNJTcBfF29c5X/mWmVAwFM3LyzCscwzLUg9omU8REXEZBfe5NOwDh7ZD5u+rvAxNiCLA14vPFqa6sDAREanMFNznElew6swp3eWhQb5c17Ye36zcycFjOS4qTEREKjMF97mEx0L1OGd3+SmGdY4lO8/B/5Ztd01dIiJSqXnE/J3ltjrYmRr2heWfQu4J8A0AoFmdEDrUr8Zni1K5u1sDvL20RreIiFyci1kdTHOVn8/mH+GLG+D2rwtmVHP6bvVuHvpiOf8e1o7Lm0e4pjYREamQNFf5pYjtBt5+Z3WXX9kigogQf8YvTHFNXSIiUmkpuM/HLxiiOzvX5z6Fr7cXt3aMYW5SJlv3ZrmoOBERqYwU3BcS1xcy1sOhnadtvqlDFL7eRkPDRESkXCm4L6ThyWFhp7e6a1UNYECrOkxO3EFWdp4LChMRkcpIwX0hES2gSu3TxnOfNKxzLEey8/h6xc4iThQRESl9Cu4LMcbZXb71V3Dkn7YrPjqMVvVC+XRBiuvefBcRkUpFwV0cDfvAiYOwc/lpm41xzl+elJHFwuR9rqlNREQqFQV3cTTsA5giu8sHtq5LeJAv47VqmIiIlAMFd3EEVYO6bc8azw0Q4OvNje2j+Xn9HnYePO6C4kREpDJRcBdX436wYykcOHv4160dowGYsEhDw0REpGwpuIur7W1gvGDpv8/aFVUtiL7NIvhq6XZO5OYXcbKIiEjpUHAXV2gkNLvGuehIzrGzdt/ROZb9R3P4bvVuFxQnIiKVhVYHK4mO98P6qbDmf5Aw/LRdXeOq07BmMJ8uTOH6hMjyrUtERDySVgcra9bCh92d47kfWOAc432KTxem8PzUdXzzUFfaRIW5pkYREfFoWh2sNBkDHe5zzl2eMu+s3YPjI6ni78OnGhomIiJlRMFdUq2GQGA1WPzBWbuq+PtwfXw9vl29m8ysbBcUJyIiFZ2Cu6R8AyHhDtg0Aw6mnbX79s6x5OQ7+GrJ2ftEREQulYL7YrS7GzBFDg2Lq1WFbnE1+HxRGnn5jvKvTUREKjQF98UIi3IODUscX+TQsGGdY0g/fIKf1+9xQXEiIlKRKbgvVof7nAuPrJl41q6+zSKoFxbI+IUp5V6WiIhUbAruixXTBSJaweIPncPETuHtZbitUwyLkvezKf2IiwoUEZGKSMF9sYyBjiMgYx2kzj9r903to/D38eJTtbpFRKQUKbgvRauhEBhe5NCw8GA/BrWuy5TlOzl0PNcFxYmISEWk4L4UvoHOqU83flfk0LA7usRyPDefSYk7yr82ERGpkBTcl6rd3c7fl/7nrF0t64USHx3GZwtTcDjcZNpWERHxaFpk5FKFRUHTa2D5eOj5FPgFnbb7ji6xjPxqJT9v2EO/FrVdVKSIiLgjLTLiKinz4ZMBMPBd56xqp8jJc3DVO7+RfugE4+/qQLvYai4qUkREPIEWGSkPMV0goiUsGXvW0DA/Hy++uLcTESEB3PHREpal7HdRkSIiUhEouEuDMdDxPtiztsihYREhAXw54vfwXqrwFhGRi6TgLi2FQ8M+LHK3wltEREqDgru0+AZC/B2w8Vs4uL3IQyJCAvhqRCdqhzrDe8k2hbeIiJSMgrs0tb/H+XsRq4adVCskgK/u7USd0ACGf6zwFhGRklFwl6awKGh6tXNoWO7xcx5WKySAL08J78XJ+8qxSBER8WQK7tLW8X44fqDIVcNOVavgmXed0ADu/GSpwltERIpFwV3aYrpCrRZFrhp2plpVneFdNyyQ4R8vZZHCW0RELkDBXdpOGxq24IKH16rq7DavFx7InQpvERG5gHINbmOMlzHmmzO2RRtjlhpj1hhj7i7PesrMeVYNK0rNqv6nhffCrQpvEREpWrkFtzEmBlgDND1j1whgNNAWuL+86ilTfkEQP6xg1bCih4ad6WR4R4YHctcnCm8RESlaeba404DWQOoZ26cBvwKBwLlfxfY07e8BLCw7e9Wwc6lZ1Z8vCsL7zk+WsGBrZtnVJyIiHqncFxkxxvxgre1/xrZGwFJgjLX2lVO2W4CEhIRif/6IESOKXE3MJb661TkF6uMbnBO0FFNmVja3jFtE2v5jfDS8PV0a1ijDIkVEpKyNHTuWsWPHFuvYxMRE4NyLjLg8uI0x1ay1+40xAcAvwJXW2mMF+zxjdbBz2TYXxl8Dg/4B8beX6NST4b3r4Anm/KkX1av4l1GRIiLiTjxhdbBxxpimQA5gCn5VDLHdij007Ew1qvjz/q3xHM3JY+zc5DIqUEREPI3LgtsY87wxpjnwFvA1sBz4r7X2qKtqKnXGQMcRsGcNpMwt8elxtaoyqHVdPl2QSmZWdhkUKCIinqbcu8pLwuO7ygFyjsF7CeDIheHfQc0mJTp9694srnhzDnd3q8+fr25eRkWKiIi78ISu8orNLwiGTQUMjB8ImUklOr1hzSr8oU09PluUSsaRE2VTo4iIeAwFd3mo2RjumAaOfGd479taotMf6duI3HzLh3P0rFtEpLJTcJeXWs2c4Z2X7Qzv/duKfWr9GsFc17Yeny9KJeOwWt0iIpWZgrs8RbRwhnfuMWd4HzhzLppze6RPHHkOy/uzS9ZaFxGRikXBXd5qt4Lbv4Hsw87wLuaUqDHVgxkSH8kXS9JIP6RWt4hIZaXgdoW6beD2r53rdo8fCId3Feu0h/vE4XBY3p+9pWzrExERt6XgdpV6CXDbFDiaCZ9cA0fSL3hKVLUghraL4qsl29l1sOJM6y4iIsWn4HalqPZw22TI2uNseR/Zc8FTHu4Th8Xyz1/V6hYRqYx8XF1AcRS1aMjAgQMZOHCgC6opZdEd4daJ8Pn18OkguONbqFLznIfXCwvkxvZR/Hfpdh7o1ZDI8KByLFZERErT9OnTmT59eonO0cxp7mLbXJgwFKo1gDumQ3D1cx66+9Bxeo6ZzfUJ9fjb4MvKsUgRESlrmjnNU9TvDrd8Bfu3wqfXwrH95zy0TmggN3eIYuKyHWzff6wcixQREVdTcLuTBr3gpi8gczN89gfnW+fn8GDvOLy8DO/NKtkUqiIi4tkU3O4mri/c+DlkbIDPBsOJQ0UeFhESwK0do5m8fCep+yrOgmoiInJ+Cm531PhKuOFTSF8Dnw9xTpNahAd6NsTHy/DuTL1hLiJSWSi43VWTq2DwWNixBH55schDaoUEcFunGL5esYNtmWp1i4hUBgpud9ZyMLS/Fxb9Ezb/WOQh9/dsiJ+PF+/O1LNuEZHKQMHt7q58GSJawjcPwOHdZ+2uWdWfYZ1jmbpyJ1syslxQoIiIlCcFt7vzDYAhH0PucZhyr3NN7zPc16MBAb7eanWLiFQCCm5PULMxDHgdUubC3DfP2l29irPVPX31LpL2HHFBgSIiUl4U3J6iza3QcgjM/hukLjxr94geDQjy9eZttbpFRCo0BbenMAaueQvComDyPWfNrFYt2I/hXWOZsWY3m9LV6hYRqagU3J4kIASGfARZ6TDtEThjDvd7uzcg2M+Hd2ZudlGBIiJS1rQ6mKeplwCXj4KfnoNl/4H29xTuCgvy466usbw7awvrdx2med0Q19UpIiIXpNXBKguHA74Y6lxR7N5ZULtl4a5Dx3LpNmYWXRpW58Pb27mwSBERuRhaHawi8vKCP3wAgWEw6S7I+X3WtNAgX+7uVp8f1+1h9Y6DLitRRETKhoLbU1Wp6ZwSNXMzfP/Uabvu6lafGlX8ue+zRHYc0LKfIiIViYLbkzXoBd0fhxWfwZpJhZtDAnz59K4OHM3O49Z/Lybj8AnX1SgiIqVKz7g9XX4ufDzAuQzo/XOhWv3CXYmpB7j9P4uJCg/iqxGdCA/2c2GhIiJSHHrGXdF5+8L1/3Y+9558N+TlFO5KiAln3LB2bNt3lOEfL+HIiVwXFioiIqVBwV0RhMfAoPdgZyLMeum0XV3javD+LfGs3XWYu8cv43jO2XOdi4iI51BwVxTNr4V2d8GCd2HLL6fturx5BG/e0JqlKft5YEIiOXkOFxUpIiKXSs+4K5Lc4zCuDxzdC/fPh6oRp+3+ckkaz0xZw4BWtXn3prb4eOvfbSIi7kbPuCsT30DnlKjZWfD1COdELae4uUM0z13djBlr0nl6yhocDv2DSETE0yi4K5pazeCqVyF5Nnz/5Fnrd9/TvQEj+zZiUuIORn+7Xr0ZIiIexiPmKpcSir8DMpNg4T/gaAZcNxZ8Awp3P3Z5I7Ky8/jPvG1UDfDhiSubuLBYEREpCQV3RWQM9PsrVK0DP/0ZsvbCzV9AYHjBbsNzVzfjaHYe783aQrC/D/f3bOjiokVEpDg8Iri1OthF6vIwVK0N3zwAH/WHWyc51/PGGd5/va4VWdl5vPr9Rqr4+3BbpxgXFywiUrlodTAp2ra58NWt4BfkDO9TVhPLzXdw/2eJzNqUwZs3tOa6tpEuLFRERPRWuUD97nDX94CBj6+C5DmFu3y9vfjnrfF0ql+dP05czY/r0l1Xp4iIXJCCu7KIaAH3/Awh9eDz609blCTA15txd7SjVb1QHvliBXOT9rqwUBEROR8Fd2USGgl3/QBRHZ3zms9/FwoeQ1Tx92H8nR1oUDOYe8YvY+rKnS4uVkREiqJn3JVRXjZ8fR+s+xo63g/9XgEvbwD2H83h/s8SWZKyn0f6xPF/lzfGy6vIxywiIlIGLvSMW8FdWTkc8NNzsOifznnOTxnrnZPn4C/frOW/y7ZzVcvavHFDa4L8PGIAgoiIx1Nwy/kt+IdzrHd0l9PGeltr+c+8bbwyYwPN6oQwblg76oYFurhYEZGKT8EtF7ZmknOsd7UGp431Bvh1YwaPfLnC+QLbsATaRoe7sFARkYpPwS3Fc56x3kl7jnD3+GWkHz7B60Mu49o29VxYqIhIxabgluLbs945VCz7MFzzFlx2Q+Gu/UdzeODzRBZv289DvRvyxBVN9NKaiEgZUHBLyRzeBZPuhrQF0OY2GDAG/IIB50trL0xby5dLttOvRQRv3tCGYH+9tCYiUpoU3FJy+Xkw51X47e9QozEM/QQimgPO/xYfz0/h5e/W06R2CP++ox319NKaiEipqRDBfe+99561T4uMlIPk2TD5XmfX+VWvOZcLLfiBmr0pg0e+WIG/rzcf3p5AQoxeWhMRKamiFhkZN24c4OHB7c41VnhZGTBlBCT/Ci0Gw8B3ICAEgC0ZzpfWdh88wavXt2JwvBYoERG5VBWixe3ONVYKDgfMfxtmvewcKjbkY6gXD8CBozk8MCGRRcn7eaBXQ/50pV5aExG5FApuKT1pi5wvrmXtgStGQ6cHwBhy8x28MG0dXyxOo1tcDd64oTURIQGurlZExCMpuKV0HdsPUx+CTTOg8VXwh/chqBrWWv67dDsvTl9PgK8XY4a05ormEa6uVkTE4yi4pfRZC4s/dM51XqUWXP8fiOkMwJaMLEZ+tYJ1uw5za8donru6OYF+3i4uWETEcyi4pezsXA6T7oKDadD7Gej2OHh5k52Xzxs/bWbsb8nE1arCOze1oUXdUFdXKyLiERTcUrZOHIZvH4O1k6F+Txg8FqrWBmBu0l6e+N8qDh7L5cn+Tbira329uCYicgEKbil71sLyT+H7J8EnwDnm+7IbwRj2H83hyUmr+WXDHro3qsEbQ1tTSy+uiYick4Jbyk9mkvPFte2LoXF/uOZtCKmDtZYJi9N4+bv1BPn58PqQy+jbTC+uiYgURcEt5cuRD4s/gJmjwccf+r8GrW8CY9iScYRHvlzJht2Hub1TDH++uhkBvnpxTUTkVG4V3MYYL2CKtfYPp2wLBr4BagFLgBG2oCgFtwfbtxW+eRC2L4JG/WDg2xBSl+y8fMb8sIn/zNtGo1pVePfmtjSrE+LqakVE3MaFgturHAuJAdYATc/YdT3wK9AGsEDX8qpJylD1hnDnDOj/Kmz7Df7ZCVZMwN/bi79c05xP7+rAweO5XPvP+Xw0b5v+cSYiUkzl1uI2zn9CeAPfWWv7nbK9M5Burd1mjBkN/GStnVewTy3uimDfVpj6sHOp0LgrnPOdh9ZjX1Y2T05azcyNGfRoXJO/DW6llcZEpNJzq67ygoJ+sNb2P2ObAW4F7gT6W2tzC7ZbgISEhGJ//ogRIxgxYkTpFSylw+GApePgl1Hg5QP9XoG2t2GBzxel8sqMjXgZeLJ/U27vFKNhYyJSoYwdO5axY8cW69jExETAjYO7ILRfAyKAh621R07ZpxZ3RbM/GaY+AqnzoGFfGPQuhEayff8xnv16DXOTMomPDuO16y+jUURVV1crIlLu3L7FbYwZDHQCnrJnFKPgrqAcDlj2H/j5BTBe0O+vED8MC3y9Yiejv13Psex8HuodxwO9GuLnU26vYoiIuJzbBrcx5nlgEjAMuAI42dJ+Ts+4K4n922DaI5AyFxr0gqvfhOoNyczK5sXp65m+ahdNIqry6vWtaBsd7upqRUTKhdsFd0kouCsBhwMSP4JfXoS8E9B1pHPOc78gZm7Yw3PfrCX98Anu7FKfP/ZrTJCfj6srFhEpUwpu8QxH9sDPf4HV/4WwaLhqDDS5iiMnchnzwyY+W5RKZHggr1zXih6Na7q6WhGRMqPgFs+SMg++ewL2bnROm3rVaxAey9KU/Tw1eTXJe48yOL4ef7m6OeHBfq6uVkSk1Cm4xfPk58Kif8HsV8HmQ/cnoMujnMCXf8zawgdzthIa6MuoQS245rI6hT/kIiIVgYJbPNehnfDTn2Hd11CtAQx4HeIuZ8Puwzw9eTWrdhzi8ma1ePHalpq4RUQqDAW3eL6ts2DGn2DfFmg2EPq/Sn7Venw8fxt//2kTAA/0jOO+ng20aImIeDwFt1QMedmw4D347e9gDPR8Ejo9xM6sfF6ZsYHvVu+mXlggz13djP4ta6v7XEQ8loJbKpYDqfDjs7DxW6jRBK7+O9TvwcKt+3hx+jo2ph+hS8PqvDCwBU1qa+Y1EfE8Cm6pmDb/CN8/CQdSoNkguHwUeWH1+WJJGm/8tJms7Dxu7xTD/13emNAgX1dXKyJSbApuqbhyjzu7z+e9DfnZ0P4e6PEkB6jKGz9v4ovFaYQF+fHHK5twY/sovLVwiYh4gAoR3Pfee+9Z+wYOHMjAgQPLvSZxQ0f2wOy/wfLx4FcFuj8OHe9n3d4cXpy2niUp+2lRN4QXB7WgXWw1V1crIlJo+vTpTJ8+/bRt48aNAzw8uN25RnEjGRvhlxdg8w8QEgl9n8e2GsK3a/bwyowN7D50gmvb1OWZq5pROzTA1dWKiBSpQrS43blGcUPbfoOfnoPdq6BOa7jiJY5FduVfs7fy4W/J+HgZHuodx93d6mv4mIi4HQW3VE4OB6ydBDNHw6Ht0KgfXDGaNO9oXv5uPT+t30NUtUCeuKIJg1rXxUvPv0XETSi4pXLLPQGLP4C5b0LOEYgfBr2eZW66F6/M2MiG3YdpVieEJ/s1oVeTmhr/LSIup+AWATi6D357HZaOA29/6DoSR6eHmL7xEG/8tJm0/cfoUL8aT/VvSkKM1v4WEddRcIucat9WmPkirJ8KwbWg60hy2g7nvyszeWfmFjKzsrmieQR/6teExhGawEVEyp+CW6QoaYvh17/CtjkQXBO6PMKx1nfw0ZK9fDgnmaM5eQyOj+SxyxsRGR7k6mpFpBJRcIucT9oimPOacyGToOrQ+WEOtBzO+wvSGb8wFSzc1imGh/vEUU3rf4tIOVBwixTH9iUwZwxs+RkCw6HzQ+xucgdvzd3NpMQdBPn5cG/3BtzTvT7B/j6urlZEKjAFt0hJ7EiE38Y4J3EJCIVOD5Hc8FbGzN7DD+vSqVHFj4d7x3FTh2iNAReRMqHgFrkYu1Y4W+CbZoB/KHS6n9WRt/C3X9NZmLyP6sF+3NIxmts6xRARolnYRKT0KLhFLsXuVc4A3/gt+IdgO4xgaZ2bGLv0EDM37sHbGK6+rA53dq1Pm6gwV1crIhVAhQhuLTIiLpe+1tmFvn6qcyGTxv3JrN2Vz/Y04KPV2RzJzqNNVBh3do1lQKs6+Hp7ubpiEfEAWmREpKztWQ8L/wlJP8HRDADyazRlY1A7xmc0ZNrBWEJDQri9Uww3d4imehV/FxcsIp6mQrS43blGqaSshT3rnMPIts6C1AWQn43Dy5f1vi2ZntWURaY1TS7rxPBuDWleN8TVFYuIh1Bwi5SH3OPO8D4Z5BnrAci0ocx1tGRXtc407zaIHgmX4a0FTUTkPBTcIq5weDck/0rOpl/I3zKLwNwDAGwlkh0hbXDU60CNFr1o1LgFAX4aFy4iv1Nwi7iaw0HertVsXTQVx7Z5RB1dSxWOAbDHhrMloAVHa7WjSuNuxLXqTK2wKi4uWERcScEt4m4c+exPWUX6ml+xaYuodWAlNR3OF92OWn82eDchM7wtPrGdqdeqB42i6uCjt9RFKg0Ft4gHyN6Xyq41szm2ZT5V9yZSLzsZbxzkW8MmYthetTXene6nd5fOekYuUsEpuEU8kD1xiMyNC9i3YQ6+O5dSL2s1Dmv4MOBOYvs9zMDW9dQKF6mgFNwiFYDj4E72fXEvNTPmMzu/Nf+oOpKb+3bk2jZ1FeAiFYyCW6SisBbHkn9jf3qOow5fnsm+k3XhfXi4TyP+oAAXqTAU3CIVTeYW7Nf3YXYuY7ZfTx49fCvh1WvxUO84rmtbT9Oting4BbdIRZSfB/Pews55lWz/6rzs8zCf721IdLUgHu4dx3XxCnART6XgFqnIdq2AKfdB5ia2x93K/+0fzLJd2URVC+ShXnEMjo/Ez0cBLuJJKkRwa3UwkfPIPQ4zX4JF/8RWjyMx/m+8tCKIVTsOUS8skEf7xjE0IQovDSMTcTtaHUykMtv2G3z9ABzZje3+OHPq3Mnbs1JYuf0grSNDGX1tS1przXARt1chWtzuXKOIWzlxCL5/ClZ9CXVaY6/7kGm7Qnj5uw1kZmVzc4do/nRlE8KD/VxdqYicg4JbpDJaPw2+fQyys6DPcxxpczfv/JrKxwtSCAnw4an+TbmhnbrPRdyRgluksjqyB6aPhM3fQ7WGcMVoNoX14C/T1rFk235aR4Xx8rUtaRUZ6upKReQUCm6RysxaSPoJfvoLZG6CmK7YK19makYEf53h7D6/pUM0f+rXhLAgdZ+LuAMFt4g4x30v/wR+/Rscy4RWN3Ck27O8teQ44xc6u8+fvqqp3j4XcQMKbhH53YnDMO9NWPg+GAOdH2Jzo3t4bkYqS1L20yYqjJf/0JKW9dR9LuIqCm4ROdvBNOfY7zX/g+Ca2F7PMNWrLy9/v4V9R7O5tWM0f7xS3ecirqDgFpFz25kIPz4HaQugZlOO9XqB17dGM35hKmFBfjzcO45bOkYT4Ovt6kpFKg0Ft4icn7Ww8Vv4+XnYnwwNepEc/yzPLbQs2LqPWlX9ebBXQ27qoAAXKQ8KbhEpnrwcWPYfmP2qcyKXtreSGHsfry06ypJt+6kdEsCDvRtyY/so/H0U4CJlRcEtIiVz/AD89ndY/CFYB7bFdayOHsbLy31ZmnKAOqEBPNg7jhvaRSrARcpAhQhuLTIi4gKHdsCif0HieMg5gm3Qi3Wxw3lhbS0S0w5SNzSAh/o4FzDRCmQiF0eLjIhI6Tt+EBI/cYZ4Vjo2oiWbGgznuS2NWbY9i3phgTzcJ44hCZFaA1ykFFSIFrc71yhSaeRlw5qJsOA92LsRGxLJ1oa381xaAot25hAZHsgjfZxrgCvARS6egltESpfDAVt+hvnvQuo8rH8IaQ1u4oX0bsze7UN0tSAe6t2Qa9vU01voIhdBwS0iZWdHIix4BzZMxxpvdscM4uX9lzNjTyjVgv24qX0Ut3WKoW5YoKsrFfEYCm4RKXv7k2HhP2HFBMg7zoG6PZiY14O3tseRY/zp36I2w7vG0i4mvPAvJREpmoJbRMrP0X2wdBws/xQO78ThV5XVob14Z28Cs0/E0bxuGHd0iWVQ67rqRhc5BwW3iJQ/Rz6kzIVV/4X1UyH3KFmBdZnq6M6/D3fgUFAMN3dwdqPXCVU3usipFNwi4lo5R2Hjd7DqS2zybIx1sNW/GZ9kdWKG7Uynlo24s0ssCepGFwEU3CLiTg7vdg4pW/UlZKwn3/jwq41nYk5X0iN6cFvXRlxzWV0C/dSNLpWXgltE3I+1kL4GVn2FXTMRczSDw6YqU3M78ot3N2q16Ml18dF0alAdLy+1wqVycavgNsZ4AVOstX8o5nYFt0hFl58Hyb9iV32F3TAdr/xs9towvs9vz6LA7sS0vZzrEqJpHFHV1ZWKlAu3CW5jTAwwA/C21ja90PaCfQpukcok+wgk/UT+2q8h6We880+QaUP4Ib8968N707BdPwbGR1OraoCrKxUpM+4U3AbwBr6z1va70PaCfQpukcoq5ygk/UT26q/xSvoRX8cJ9tmq/ORox47aV9Kk8wCuaBml5+FS4bhNcJ9S0A/W2v7F2X4yuBMSEor9+SNGjGDEiBGXXKeIuJGcY7DlF44sn4R/8s/4OY5xwFZhFu3ZFzOAll2voWOjOnjrebi4qbFjxzJ27NhiHZuYmAh4eHCrxS0ihXKP40j6hX1LJ1I19WcCHMc4ZIOY492ZI02G0L7n1TSuHerqKkUuWoVocSu4RaRIuSfI2TyTjMVfUWP7zwTY42x31GRu8OX4tr2Z3l06UaOKv6urFCkRtw1uY8zzwCRr7fpTt59xrIJbRIon5yhHVn7D4UWfUmf/YrywLHM0YW3NAdTucjO9LovTNKviEdwuuEtCwS0iF+XQTvYu+BSz6itqnEjhhPVlFu1Jrz+Ylt3/QLv6NTQ+XNyWgltEKi9ryd+RSMbcTwjZOpXg/MPssWH84tuLvBY30qN7T+rXCHZ1lSKnUXCLiADkZZO9fgb7F4ynZvpv+JDPGkcsi0P6EdruRvq2b0W1YD9XVymi4BYROUvWXg4v/ZLsxAnUzNpIvjUstC1JqtWPOp2G0qt1Iz0PF5dRcIuInE/GBjIXTsB7/RTCs3eSbX2YRxt2R11NXLchtG8cpfHhUq4U3CIixVHwPHzP/AkEb5lGaF4mR60/87w7cLjhQFr1HEzTyJqurlIqAQW3iEhJOfLJSZ7H7vkTqJb6PVUdhzlkg1jo35XcZoNp12sQdcKruLpKqaAU3CIilyI/lyPrfyJj4RfU3T2TQHucvTaUxCq98L3seuK79iO8ihY9kdKj4BYRKS25x8lInMahpV8Rs28ufuSSYcNYU6Ur3s0H0br7NYSHqCUul0bBLSJSBuyJQ+xYPJWjq74mev8CgjjBYRvE6uDO2KbX0KL7dVQLD3d1meKBKkRw33vvvWftGzhwIAMHDiz3mkREzmRzjpG27DsOr/ia6L2/EcoRjls/1gW1I7fxNTTtMZTw6rVcXaa4oenTpzN9+vTTto0bNw7w8OB25xpFRE5l83NJSfyZ/YlTiMqYRS27j1zrzcaA1hxvOIC4HjdSrXa0q8sUN1YhWtzuXKOIyLlYRz7Jq+axd+kk6u3+hSi7C4c1bPFvSlbMlUR3uZ4asZeB0Thx+Z2CW0TEDViHg63rl7F78SQidv5MY0cyAOletdlTtw81E66l7mV9wdvXxZWKqym4RUTcjLWWbcmbSV04hSqpv3BZzir8TS5ZBLO9eleCW11DVIdBmCC93FYZKbhFRNzcrr2ZbJg3Fa+kH2h1dBE1zGHy8GJHldbQ5CoiOw7Gp1YjV5cp5UTBLSLiQfZnnWD5wplkr/2Whgfn0dSkAZDhF82x+ldQp8N1+Md2Upd6BabgFhHxUEez81iyYgX7Vkyjzp45tLdr8TP5HDfBZNbuSthlA6jaoj+E1HF1qVKKFNwiIhVATp6DpZtSSF36PcFps+iQv5w6Zj8AmVWa4NX4CsJbX42J7ADePi6uVi6FgltEpIKx1rJu5yFWJs4nd+NPND+6iASzGR/j4Lh3VY5Fdies9dV4N7oCqka4ulwpIQW3iEgFt+vgcX5bncTe1T9RO2MuPcxKIsxBAA6FNSeweX/8mvaDeu3UGvcACm4RkUrkyIlc5m7ey/oV8/FLmUWn/ETiTRI+xkGOT1XyYroT1OxKaNgHwmNcXa4UQcEtIlJJ5eU7WJZ6gHmrkziy4ReaHV1KD+/V1C14Nn48pD5+TS7HO+5yiO0G/lrZzB1UiODWIiMiIpcueW8WszbsYdO6REJ3zaUrq+jkvYFAcnAYH/IjO+LbuC807Au1LwMvL1eXXOFpkRERESmWIydymb8lkznrd3Bw41xa5yynh9dqmnulApAXUB3vRn0wDftAg94aclaOKkSL251rFBHxdA6HZe2uQ8zamMGK9Ruplr6A7t5r6OW9hmocAiC/emO8G/aCBr2c3eoBoS6tuSJTcIuISInsPZLN7E0ZzN6Yzp6k5bTNW0l377V08N5EgM3GGi+oG49p0BPq94SojuAb4OqyKwwFt4iIXLScPAfL0w4wZ/Ne5m/cReCe5XTxXksvn/W0ZAve5GN9AjDRnZyt8fo9oU5r8PJ2dekeS8EtIiKlJuPICeZuzmTO5r0s35xK4+w1dPVaR1//9cTmO5+P24AwTGy3giDvATUaa83xElBwi4hImch3WNbsPMScTXuZszmDHdtT6GTW0ctvPb181lMtb4/zwCoRzufisd2dQV6tgYL8PBTcIiJSLg4ey2H+ln3M2ZzBnE0ZBGSl0clrA1cEbqID6wjJ2+c8sGpdqN/99zAPj1WQn0LBLSIi5c5ay6Y9R5iXlMm8LZksTt5HnbwddPFez1XBSbRxrCM41zkRDKFRBa3x7s7fw6JcW7yLKbhFRMTlTr7kNn9LJnOTMlm94wAN2UlP3w30r5JEy9y1BOQedB4cHutsjcd0g9iuEBbtytLLnYJbRETczqHjuSzcuo/5WzKZvyWTbZlHaGJ2cEXgJq4MSqJJ9mr8cg87Dw6NdgZ4TBeI6Vrhn5EruEVExO3tOHCMBVv2MbcgyA8cPUETs4MBVbfSOzCJxsdX459T0LVetY4zwGO7On+vYG+tK7hFRMSjOBzO5+MLtu5j4dZMFifv50h2LnFmJ4NCU+gduJlGx1cRcGKv84TgmgWt8YKu9ZrNPHqedQW3iIh4tLx8B2t3HWbh1n0s2JrJ0pT9nMjNp4FXOn8IT6V3QJIzyI/tcp4QEOqczS26E0R3hrrxHjWzW4UIbq0OJiIiJ2Xn5bNq+yEWbM1kwdZ9rEw7SE6+g2ivTIbUSKVnwFbistcSfGiL8wQvX6jbtiDIO0FUJwiu7tpvooBWBxMRkUrneE4+iakHCoN8zc5D5DssNbyyuK7GTvoEJ9Msdx2hB9Zi8nOcJ9Vo/HuIR3dyqxfeKkSL251rFBER93I0O4/E1AMs3raPxcn7WbXjILn5lgCTw6Cae+hXNZXLHBuofmAFXicOOk8KrgVRHZy/IjtA3TbgG+iS+hXcIiJSqZ3IzWd52gEWJ+9n8bZ9rEg7SHaeAy/j4IoaB7kmPI22bKLO4VV4H0xxnuTlC7VbOZ+VR7V3hnloZLm0yhXcIiIipzj5jHxx8j4Wb9tPYuoBjufmAxBfLZeB1XfSyW8rscfXEZCxCpN33Hli1ToQ2f73Vnmd1mXy0puCW0RE5Dxy8x2s3nGIZSn7WZpygGWp+zl4LBeAiCAvBtU9QK+gFJrlbSR8/0rMQecqaHj5OsM7qgPED4NazUqlHgW3iIhICTgcluTMLGeIFwR56r5jAAT4etGzroMBYTto65VE3SNr8ElfCTd/BQ17l8r1FdwiIiKXKOPwCZalHmBpirNrfd2uw+Q7LMZAi4ggnh3QjC6Na5fKtRTcIiIipexodh4rtx9kacp+lqUc4OmrmtKyXmipfLaCW0RExINcKLg9dzJXERGRSqhSBvfYsWNdXYJb0/25MN2j89P9uTDdo/PT/Tk3BbecRffnwnSPzk/358J0j85P9+fcfFxdQHGMGDHirG1aZERERDxdUYuMXIhHBLf+5SUiIhVRUY3Qk6uDnUul7CoXERHxVApuERERD+KxwV3SZwKuvubFnuuKa14KT/o+Pen+XMq5+hlyz2teLE/7Pj3pHnnKvVVwl9M1PekH6VJ40vfpSffnUs7Vz5B7XvNiedr36Un3yFPurccGt4iISGWk4BYREfEgCm4REREP4hGLjIiIiFQ2WmRERESkAnDrFreIiIicTi1uERERD6LgFhER8SAKbhEREQ+i4BYREfEglSq4jTEBxphJxpgFxpg7XV2PuzHGNDbGrDTGzDbGTHV1Pe7GGONljPmm4OsOxpiFxpg5xphoF5fmFs64P88aY+YV/Cw94OLSXM4YE2yM+dkYs8oYM84Y09AY81vB30VtXV2fOyjiHt1hjFlU8DP0oqvrcyeV6q1yY8zNQATwHjAL6GutzXNtVe7DGDMAqGetPf9isJWQMSYGmAF4W2ubGmO+A+4A4oCbrLWPubI+Vyvi/nwFDLfWnnBxaW7BGDMMiAT+BnwINASeAPYA71trr3NheW6hiHsUB9xnrU1yaWFuqFK1uIEEYJm1Nh/YDqildLr6wPXGmPnGmNtdXYybSQNaA6kFf65urc0EVgBtXFWUGznz/tQGxhe0oOq7riy3kQR8aZ0tpXSgN7DGWrsbZ2NCzr5HBnjBGDPXGBPv2tLci4+rCyhnocCugq93AeEurMUdbQWeB7YAPxtjpltrD7q2JPdQ8JdJ3imz+R0t2J5tjKn0vTZF3J/vgH8C3YFXgJtdVZs7sNYuNE63AV2BXwsaEADHXFia2yjiHk0B/gvUAMYC3VxZnzupbMF9CGdXTDIQBRx0aTVuxlr7w8mvjTELgBh0j86lKoAxJhDwc3Etbsda+zqAMeYn4FkXl+NyxhgDvIazdf0H4CdjjE/Bo7oQV9bmLs68R9baIwW7MowxDtdV5n4qW1f5MiDBGOMN1MPZvScFjDEvGWO6GmN8gJZAiotLcmd7jTE1cXaTL3dxLW7FGONjjPm+4P+z5vzey1WZnXyGPbwgkFYBrYwxdYGdrivLrZx2j4wxU40xVY0x1YH8851Y2VS2Fvc3wOfADcCH1tpc15bjdv4FTMPZgnzfWnvIxfW4s1E471U2MMy1pbgXa22eMeYLnOF0HLjVxSW5gw5AX+BXZ8OSvwDv4Pw7+EEX1uVOzrxHvwALAAdwvwvrcjuV6q1yERERT1fZuspFREQ8moJbRETEgyi4RUREPIiCW0RExIMouEVERDyIgltERCoUY8wnxhh7jl8Hy6mG2caYt8visyvbOG4REakcllD0HAIePwubgltERCqi49baLa4uoiyoq1xERCoVY0xsQbd5Z2PMTGPMIWPMcmPMNacc42WMedQYs84Yk2WMWWGMufGMz2lRsALeIWPMDmPMKwVT/Z5yiBltjEkzxhwoWGfcp2BHkDHmn8aYXcaYY8aYZcaYnsWpX8EtIiKV1SRgInA5MA+YboxpV7DvEZxrg78H9MC5UtkEY8wggIK1ChbgXPPiCuAlYCTw+CmfPxznKpRDgL8D9/D7SnmjCr4eWXD9NGDyGcFfJHWVi4hIRdTDGHOiiO3fA/9X8PVH1toPAIwxy4C2OIP0duBJ4LWT+4HlxphGwJ9wrlPwILAHGFGwROsSY0woEH3KtbYBjxYse7ukYMnShgX7muNc+GqStdYaYx7AuU67H845/s9JwS0iIhXRMopeAOgocLJVO+vkxoLwnAlcUxDAdYHfzjh3DnBtwdetgAWnrKuOtXbMGccvsacvCHL0lK/HAR8DG40x04DpwH9tMRYQUXCLiEhFdMxau7GoHcaY2IIvz3zDPJ/z56LjlP2+RZx/Vg3n2mGtnWqMiQSGAlfibMVvM8b0t9buOd+H6hm3iIhUVl3O+HMfYEPBksa7ge5n7O8JrC/4ej3QyRhTmKPGmJHGmKnFubAx5i9AB2vteGvtrUAs0AS45rwnoha3iIhUTIHGmLhz7DuZfU8ZY3YDa4DbgF5Ap4J9rwMvGWP2AEtxtorvxNlCBngf5/PwD4wx44CmwPM4X2Yrjq7AzcaYp4B0nP9oCABWX+hEBbeIiFREHYCkc+xrX/D7w8B9QBtgKzDIWru4YN87gMX5Ils0sAW43Vr7NYC1drsxpgfwJs5n5QeBD4G/FrO+B3CG/Hicgb0JuMVau/RCJ5piPAcXERGpMAqecW8D2lprV7q2mpLTM24REREPouAWERHxIOoqFxER8SBqcYuIiHgQBbeIiIgHUXCLiIh4EAW3iIiIB1Fwi4iIeBAFt4iIiAf5fwocc71FXj+OAAAAAElFTkSuQmCC\n",
      "text/plain": [
       "<Figure size 576x432 with 1 Axes>"
=======
=======
>>>>>>> Z0zzz-master
      "application/vnd.jupyter.widget-view+json": {
       "model_id": "ca10b4a40b71409281cd336c3f2f4c9c",
       "version_major": 2,
       "version_minor": 0
      },
      "text/plain": [
       "HBox(children=(FloatProgress(value=0.0, max=20.0), HTML(value='')))"
      ]
     },
     "metadata": {},
     "output_type": "display_data"
    },
    {
     "name": "stdout",
     "output_type": "stream",
     "text": [
      "\n",
      "epoch 96 - train: 18.697 - valid: 18.901 - stale=0\n"
     ]
    },
    {
     "data": {
      "application/vnd.jupyter.widget-view+json": {
       "model_id": "1d87f123a4b845a4af089148c109182e",
       "version_major": 2,
       "version_minor": 0
      },
      "text/plain": [
       "HBox(children=(FloatProgress(value=0.0, max=20.0), HTML(value='')))"
      ]
     },
     "metadata": {},
     "output_type": "display_data"
    },
    {
     "name": "stdout",
     "output_type": "stream",
     "text": [
      "\n"
     ]
    },
    {
     "data": {
      "application/vnd.jupyter.widget-view+json": {
       "model_id": "0045ef8e07554d58be81aa8be3793938",
       "version_major": 2,
       "version_minor": 0
      },
      "text/plain": [
       "HBox(children=(FloatProgress(value=0.0, max=20.0), HTML(value='')))"
      ]
     },
     "metadata": {},
     "output_type": "display_data"
    },
    {
     "name": "stdout",
     "output_type": "stream",
     "text": [
      "\n",
      "epoch 97 - train: 18.684 - valid: 18.889 - stale=0\n"
     ]
    },
    {
     "data": {
      "application/vnd.jupyter.widget-view+json": {
       "model_id": "22af9164a87f44779b0a7d0e67c6b967",
       "version_major": 2,
       "version_minor": 0
      },
      "text/plain": [
       "HBox(children=(FloatProgress(value=0.0, max=20.0), HTML(value='')))"
      ]
     },
     "metadata": {},
     "output_type": "display_data"
    },
    {
     "name": "stdout",
     "output_type": "stream",
     "text": [
      "\n"
     ]
    },
    {
     "data": {
      "application/vnd.jupyter.widget-view+json": {
       "model_id": "f2e0f5f2c75c422a84eacd7ee65e7d3f",
       "version_major": 2,
       "version_minor": 0
      },
      "text/plain": [
       "HBox(children=(FloatProgress(value=0.0, max=20.0), HTML(value='')))"
      ]
     },
     "metadata": {},
     "output_type": "display_data"
    },
    {
     "name": "stdout",
     "output_type": "stream",
     "text": [
      "\n",
      "epoch 98 - train: 18.672 - valid: 18.878 - stale=0\n"
     ]
    },
    {
     "data": {
      "application/vnd.jupyter.widget-view+json": {
       "model_id": "4496f826922d44d7bbcc08b5df12e1c8",
       "version_major": 2,
       "version_minor": 0
      },
      "text/plain": [
       "HBox(children=(FloatProgress(value=0.0, max=20.0), HTML(value='')))"
      ]
     },
     "metadata": {},
     "output_type": "display_data"
    },
    {
     "name": "stdout",
     "output_type": "stream",
     "text": [
      "\n"
     ]
    },
    {
     "data": {
      "application/vnd.jupyter.widget-view+json": {
       "model_id": "d94391dcc5794edb84ca6d22df7ff507",
       "version_major": 2,
       "version_minor": 0
      },
      "text/plain": [
       "HBox(children=(FloatProgress(value=0.0, max=20.0), HTML(value='')))"
      ]
     },
     "metadata": {},
     "output_type": "display_data"
    },
    {
     "name": "stdout",
     "output_type": "stream",
     "text": [
      "\n",
      "epoch 99 - train: 18.66 - valid: 18.868 - stale=0\n",
      "\n"
     ]
    },
    {
     "data": {
      "image/png": "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\n",
      "text/plain": [
       "<Figure size 432x288 with 1 Axes>"
<<<<<<< HEAD
>>>>>>> Z0zzz-master
=======
>>>>>>> Z0zzz-master
      ]
     },
     "metadata": {
      "needs_background": "light"
     },
     "output_type": "display_data"
    }
   ],
   "source": [
<<<<<<< HEAD
<<<<<<< HEAD
    "    fig, ax = plt.subplots(figsize=(8,6))\n",
    "    ax.plot(range(len(losses_train_ssl[1:])), losses_train_ssl[1:], label=\"training\")\n",
    "    ax.plot(range(len(losses_valid_ssl[1:])), losses_valid_ssl[1:], label=\"validation\")\n",
    "    ax.set_xlabel(\"Epochs\", fontsize=15)\n",
    "    ax.set_ylabel(\"Loss\", fontsize=15)\n",
    "    ax.legend(title='ssl MLPF', loc=\"best\", title_fontsize=20, fontsize=15);\n"
=======
=======
>>>>>>> Z0zzz-master
    "# train ssl version of MLPF\n",
    "batch_size = 50\n",
    "inp = 7\n",
    "model_ssl = MLPF(input_dim=encoder.nn1[-1].out_features + inp)\n",
    "losses_train_ssl, losses_valid_ssl = train_mlpf(data, batch_size, model_ssl, with_VICreg=True, epochs=100)"
<<<<<<< HEAD
>>>>>>> Z0zzz-master
=======
>>>>>>> Z0zzz-master
   ]
  },
  {
   "cell_type": "code",
   "execution_count": 17,
   "metadata": {
    "scrolled": true
   },
   "outputs": [
    {
     "data": {
      "application/vnd.jupyter.widget-view+json": {
       "model_id": "1ea50753f4fd4c26a0aecad69b48cbd9",
       "version_major": 2,
       "version_minor": 0
      },
      "text/plain": [
       "HBox(children=(FloatProgress(value=0.0), HTML(value='')))"
      ]
     },
     "metadata": {},
     "output_type": "display_data"
    },
    {
     "data": {
      "application/vnd.jupyter.widget-view+json": {
       "model_id": "a6a6bd7f0839440b85d2d0a481d1fa36",
       "version_major": 2,
       "version_minor": 0
      },
      "text/plain": [
       "HBox(children=(FloatProgress(value=0.0, max=20.0), HTML(value='')))"
      ]
     },
     "metadata": {},
     "output_type": "display_data"
    },
    {
     "name": "stdout",
     "output_type": "stream",
     "text": [
      "\n"
     ]
    },
    {
     "data": {
      "application/vnd.jupyter.widget-view+json": {
       "model_id": "d33489b8ba9f4ac19258d45938354537",
       "version_major": 2,
       "version_minor": 0
      },
      "text/plain": [
       "HBox(children=(FloatProgress(value=0.0, max=20.0), HTML(value='')))"
      ]
     },
     "metadata": {},
     "output_type": "display_data"
    },
    {
     "name": "stdout",
     "output_type": "stream",
     "text": [
      "\n",
      "epoch 0 - train: 251.149 - valid: 51.05 - stale=0\n"
     ]
    },
    {
     "data": {
      "application/vnd.jupyter.widget-view+json": {
       "model_id": "701ca3b5c1c44621ac010fb87e7131fd",
       "version_major": 2,
       "version_minor": 0
      },
      "text/plain": [
       "HBox(children=(FloatProgress(value=0.0, max=20.0), HTML(value='')))"
      ]
     },
     "metadata": {},
     "output_type": "display_data"
    },
    {
     "name": "stdout",
     "output_type": "stream",
     "text": [
      "\n"
     ]
    },
    {
     "data": {
      "application/vnd.jupyter.widget-view+json": {
       "model_id": "f77e5d8c8ca640688d96e77cab01e010",
       "version_major": 2,
       "version_minor": 0
      },
      "text/plain": [
       "HBox(children=(FloatProgress(value=0.0, max=20.0), HTML(value='')))"
      ]
     },
     "metadata": {},
     "output_type": "display_data"
    },
    {
     "name": "stdout",
     "output_type": "stream",
     "text": [
      "\n",
      "epoch 1 - train: 55.495 - valid: 39.8 - stale=0\n"
     ]
    },
    {
     "data": {
      "application/vnd.jupyter.widget-view+json": {
       "model_id": "046b7d078d354134834b6947d5338060",
       "version_major": 2,
       "version_minor": 0
      },
      "text/plain": [
       "HBox(children=(FloatProgress(value=0.0, max=20.0), HTML(value='')))"
      ]
     },
     "metadata": {},
     "output_type": "display_data"
    },
    {
     "name": "stdout",
     "output_type": "stream",
     "text": [
      "\n"
     ]
    },
    {
     "data": {
      "application/vnd.jupyter.widget-view+json": {
       "model_id": "2bd3ed8598de4f2dab57fdbfcb839f74",
       "version_major": 2,
       "version_minor": 0
      },
      "text/plain": [
       "HBox(children=(FloatProgress(value=0.0, max=20.0), HTML(value='')))"
      ]
     },
     "metadata": {},
     "output_type": "display_data"
    },
    {
     "name": "stdout",
     "output_type": "stream",
     "text": [
      "\n",
      "epoch 2 - train: 36.758 - valid: 31.603 - stale=0\n"
     ]
    },
    {
     "data": {
      "application/vnd.jupyter.widget-view+json": {
       "model_id": "2a2e6217dd5241a6ab90155e4b2b0813",
       "version_major": 2,
       "version_minor": 0
      },
      "text/plain": [
       "HBox(children=(FloatProgress(value=0.0, max=20.0), HTML(value='')))"
      ]
     },
     "metadata": {},
     "output_type": "display_data"
    },
    {
     "name": "stdout",
     "output_type": "stream",
     "text": [
      "\n"
     ]
    },
    {
     "data": {
      "application/vnd.jupyter.widget-view+json": {
       "model_id": "f6be21c058d54855a45e42d732a688d1",
       "version_major": 2,
       "version_minor": 0
      },
      "text/plain": [
       "HBox(children=(FloatProgress(value=0.0, max=20.0), HTML(value='')))"
      ]
     },
     "metadata": {},
     "output_type": "display_data"
    },
    {
     "name": "stdout",
     "output_type": "stream",
     "text": [
      "\n",
      "epoch 3 - train: 29.846 - valid: 28.011 - stale=0\n"
     ]
    },
    {
     "data": {
      "application/vnd.jupyter.widget-view+json": {
       "model_id": "08dd7c8482524f48848b6f1d36abcfec",
       "version_major": 2,
       "version_minor": 0
      },
      "text/plain": [
       "HBox(children=(FloatProgress(value=0.0, max=20.0), HTML(value='')))"
      ]
     },
     "metadata": {},
     "output_type": "display_data"
    },
    {
     "name": "stdout",
     "output_type": "stream",
     "text": [
      "\n"
     ]
    },
    {
     "data": {
      "application/vnd.jupyter.widget-view+json": {
       "model_id": "fb13b50ff12b4c7b9661e91228262713",
       "version_major": 2,
       "version_minor": 0
      },
      "text/plain": [
       "HBox(children=(FloatProgress(value=0.0, max=20.0), HTML(value='')))"
      ]
     },
     "metadata": {},
     "output_type": "display_data"
    },
    {
     "name": "stdout",
     "output_type": "stream",
     "text": [
      "\n",
      "epoch 4 - train: 26.871 - valid: 25.957 - stale=0\n"
     ]
    },
    {
     "data": {
      "application/vnd.jupyter.widget-view+json": {
       "model_id": "dc3864fd9a7e45aa8f14957e43e78cc4",
       "version_major": 2,
       "version_minor": 0
      },
      "text/plain": [
       "HBox(children=(FloatProgress(value=0.0, max=20.0), HTML(value='')))"
      ]
     },
     "metadata": {},
     "output_type": "display_data"
    },
    {
     "name": "stdout",
     "output_type": "stream",
     "text": [
      "\n"
     ]
    },
    {
     "data": {
      "application/vnd.jupyter.widget-view+json": {
       "model_id": "07bfd80963434f06b9ac1de0458a042a",
       "version_major": 2,
       "version_minor": 0
      },
      "text/plain": [
       "HBox(children=(FloatProgress(value=0.0, max=20.0), HTML(value='')))"
      ]
     },
     "metadata": {},
     "output_type": "display_data"
    },
    {
     "name": "stdout",
     "output_type": "stream",
     "text": [
      "\n",
      "epoch 5 - train: 25.283 - valid: 24.76 - stale=0\n"
     ]
    },
    {
     "data": {
      "application/vnd.jupyter.widget-view+json": {
       "model_id": "e108de22fa594a04a2500a700de29272",
       "version_major": 2,
       "version_minor": 0
      },
      "text/plain": [
       "HBox(children=(FloatProgress(value=0.0, max=20.0), HTML(value='')))"
      ]
     },
     "metadata": {},
     "output_type": "display_data"
    },
    {
     "name": "stdout",
     "output_type": "stream",
     "text": [
      "\n"
     ]
    },
    {
     "data": {
      "application/vnd.jupyter.widget-view+json": {
       "model_id": "f3aeab02237042a2b4332a8552b4ba98",
       "version_major": 2,
       "version_minor": 0
      },
      "text/plain": [
       "HBox(children=(FloatProgress(value=0.0, max=20.0), HTML(value='')))"
      ]
     },
     "metadata": {},
     "output_type": "display_data"
    },
    {
     "name": "stdout",
     "output_type": "stream",
     "text": [
      "\n",
      "epoch 6 - train: 24.286 - valid: 23.962 - stale=0\n"
     ]
    },
    {
     "data": {
      "application/vnd.jupyter.widget-view+json": {
       "model_id": "6277a471b7cf49b5892f6d984dda16a0",
       "version_major": 2,
       "version_minor": 0
      },
      "text/plain": [
       "HBox(children=(FloatProgress(value=0.0, max=20.0), HTML(value='')))"
      ]
     },
     "metadata": {},
     "output_type": "display_data"
    },
    {
     "name": "stdout",
     "output_type": "stream",
     "text": [
      "\n"
     ]
    },
    {
     "data": {
      "application/vnd.jupyter.widget-view+json": {
       "model_id": "46d8ea09193a4467b77caad70e7ef5da",
       "version_major": 2,
       "version_minor": 0
      },
      "text/plain": [
       "HBox(children=(FloatProgress(value=0.0, max=20.0), HTML(value='')))"
      ]
     },
     "metadata": {},
     "output_type": "display_data"
    },
    {
     "name": "stdout",
     "output_type": "stream",
     "text": [
      "\n",
      "epoch 7 - train: 23.604 - valid: 23.473 - stale=0\n"
     ]
    },
    {
     "data": {
      "application/vnd.jupyter.widget-view+json": {
       "model_id": "7432bfd225e24c438c49892d140aa3a5",
       "version_major": 2,
       "version_minor": 0
      },
      "text/plain": [
       "HBox(children=(FloatProgress(value=0.0, max=20.0), HTML(value='')))"
      ]
     },
     "metadata": {},
     "output_type": "display_data"
    },
    {
     "name": "stdout",
     "output_type": "stream",
     "text": [
      "\n"
     ]
    },
    {
     "data": {
      "application/vnd.jupyter.widget-view+json": {
       "model_id": "9346ad6797734b7d89973b24d30c9af3",
       "version_major": 2,
       "version_minor": 0
      },
      "text/plain": [
       "HBox(children=(FloatProgress(value=0.0, max=20.0), HTML(value='')))"
      ]
     },
     "metadata": {},
     "output_type": "display_data"
    },
    {
     "name": "stdout",
     "output_type": "stream",
     "text": [
      "\n",
      "epoch 8 - train: 23.425 - valid: 23.445 - stale=0\n"
     ]
    },
    {
     "data": {
      "application/vnd.jupyter.widget-view+json": {
       "model_id": "b0315224cbe54044b9fb3fc82dbb4ae0",
       "version_major": 2,
       "version_minor": 0
      },
      "text/plain": [
       "HBox(children=(FloatProgress(value=0.0, max=20.0), HTML(value='')))"
      ]
     },
     "metadata": {},
     "output_type": "display_data"
    },
    {
     "name": "stdout",
     "output_type": "stream",
     "text": [
      "\n"
     ]
    },
    {
     "data": {
      "application/vnd.jupyter.widget-view+json": {
       "model_id": "956da6d6f5bf4d3d9fcde66da910a2bc",
       "version_major": 2,
       "version_minor": 0
      },
      "text/plain": [
       "HBox(children=(FloatProgress(value=0.0, max=20.0), HTML(value='')))"
      ]
     },
     "metadata": {},
     "output_type": "display_data"
    },
    {
     "name": "stdout",
     "output_type": "stream",
     "text": [
      "\n",
      "epoch 9 - train: 23.114 - valid: 22.932 - stale=0\n"
     ]
    },
    {
     "data": {
      "application/vnd.jupyter.widget-view+json": {
       "model_id": "7f55398e30ce4f89ac1db65730ac6692",
       "version_major": 2,
       "version_minor": 0
      },
      "text/plain": [
       "HBox(children=(FloatProgress(value=0.0, max=20.0), HTML(value='')))"
      ]
     },
     "metadata": {},
     "output_type": "display_data"
    },
    {
     "name": "stdout",
     "output_type": "stream",
     "text": [
      "\n"
     ]
    },
    {
     "data": {
      "application/vnd.jupyter.widget-view+json": {
       "model_id": "07517edfefd24962bb93b545efacbd43",
       "version_major": 2,
       "version_minor": 0
      },
      "text/plain": [
       "HBox(children=(FloatProgress(value=0.0, max=20.0), HTML(value='')))"
      ]
     },
     "metadata": {},
     "output_type": "display_data"
    },
    {
     "name": "stdout",
     "output_type": "stream",
     "text": [
      "\n",
      "epoch 10 - train: 22.665 - valid: 22.574 - stale=0\n"
     ]
    },
    {
     "data": {
      "application/vnd.jupyter.widget-view+json": {
       "model_id": "37f76d0241c2427f8a85f32aabff4695",
       "version_major": 2,
       "version_minor": 0
      },
      "text/plain": [
       "HBox(children=(FloatProgress(value=0.0, max=20.0), HTML(value='')))"
      ]
     },
     "metadata": {},
     "output_type": "display_data"
    },
    {
     "name": "stdout",
     "output_type": "stream",
     "text": [
      "\n"
     ]
    },
    {
     "data": {
      "application/vnd.jupyter.widget-view+json": {
       "model_id": "83fb904596fe4bbbaeb3c3a421cb6314",
       "version_major": 2,
       "version_minor": 0
      },
      "text/plain": [
       "HBox(children=(FloatProgress(value=0.0, max=20.0), HTML(value='')))"
      ]
     },
     "metadata": {},
     "output_type": "display_data"
    },
    {
     "name": "stdout",
     "output_type": "stream",
     "text": [
      "\n",
      "epoch 11 - train: 22.34 - valid: 22.296 - stale=0\n"
     ]
    },
    {
     "data": {
      "application/vnd.jupyter.widget-view+json": {
       "model_id": "bddcbd21aa684a4bb7ca46f28509fe25",
       "version_major": 2,
       "version_minor": 0
      },
      "text/plain": [
       "HBox(children=(FloatProgress(value=0.0, max=20.0), HTML(value='')))"
      ]
     },
     "metadata": {},
     "output_type": "display_data"
    },
    {
     "name": "stdout",
     "output_type": "stream",
     "text": [
      "\n"
     ]
    },
    {
     "data": {
      "application/vnd.jupyter.widget-view+json": {
       "model_id": "5d3ffffb61684ea78bcb4d9b4b114cf6",
       "version_major": 2,
       "version_minor": 0
      },
      "text/plain": [
       "HBox(children=(FloatProgress(value=0.0, max=20.0), HTML(value='')))"
      ]
     },
     "metadata": {},
     "output_type": "display_data"
    },
    {
     "name": "stdout",
     "output_type": "stream",
     "text": [
      "\n",
      "epoch 12 - train: 22.073 - valid: 22.055 - stale=0\n"
     ]
    },
    {
     "data": {
      "application/vnd.jupyter.widget-view+json": {
       "model_id": "56b7851c639d4470b3ac618771317f64",
       "version_major": 2,
       "version_minor": 0
      },
      "text/plain": [
       "HBox(children=(FloatProgress(value=0.0, max=20.0), HTML(value='')))"
      ]
     },
     "metadata": {},
     "output_type": "display_data"
    },
    {
     "name": "stdout",
     "output_type": "stream",
     "text": [
      "\n"
     ]
    },
    {
     "data": {
      "application/vnd.jupyter.widget-view+json": {
       "model_id": "7997ba3b1e2949b686beb9d71911b9ed",
       "version_major": 2,
       "version_minor": 0
      },
      "text/plain": [
       "HBox(children=(FloatProgress(value=0.0, max=20.0), HTML(value='')))"
      ]
     },
     "metadata": {},
     "output_type": "display_data"
    },
    {
     "name": "stdout",
     "output_type": "stream",
     "text": [
      "\n",
      "epoch 13 - train: 21.841 - valid: 21.839 - stale=0\n"
     ]
    },
    {
     "data": {
      "application/vnd.jupyter.widget-view+json": {
       "model_id": "a1bf7954261a4e4f851b78775cdb5055",
       "version_major": 2,
       "version_minor": 0
      },
      "text/plain": [
       "HBox(children=(FloatProgress(value=0.0, max=20.0), HTML(value='')))"
      ]
     },
     "metadata": {},
     "output_type": "display_data"
    },
    {
     "name": "stdout",
     "output_type": "stream",
     "text": [
      "\n"
     ]
    },
    {
     "data": {
      "application/vnd.jupyter.widget-view+json": {
       "model_id": "f420d2fc88ba4124b286ed9f911f3f8e",
       "version_major": 2,
       "version_minor": 0
      },
      "text/plain": [
       "HBox(children=(FloatProgress(value=0.0, max=20.0), HTML(value='')))"
      ]
     },
     "metadata": {},
     "output_type": "display_data"
    },
    {
     "name": "stdout",
     "output_type": "stream",
     "text": [
      "\n",
      "epoch 14 - train: 21.634 - valid: 21.645 - stale=0\n"
     ]
    },
    {
     "data": {
      "application/vnd.jupyter.widget-view+json": {
       "model_id": "592c74d2a6db4a57baf7b1472057ea39",
       "version_major": 2,
       "version_minor": 0
      },
      "text/plain": [
       "HBox(children=(FloatProgress(value=0.0, max=20.0), HTML(value='')))"
      ]
     },
     "metadata": {},
     "output_type": "display_data"
    },
    {
     "name": "stdout",
     "output_type": "stream",
     "text": [
      "\n"
     ]
    },
    {
     "data": {
      "application/vnd.jupyter.widget-view+json": {
       "model_id": "7c0c38e52547495c9891ec5066414298",
       "version_major": 2,
       "version_minor": 0
      },
      "text/plain": [
       "HBox(children=(FloatProgress(value=0.0, max=20.0), HTML(value='')))"
      ]
     },
     "metadata": {},
     "output_type": "display_data"
    },
    {
     "name": "stdout",
     "output_type": "stream",
     "text": [
      "\n",
      "epoch 15 - train: 21.448 - valid: 21.468 - stale=0\n"
     ]
    },
    {
     "data": {
      "application/vnd.jupyter.widget-view+json": {
       "model_id": "42b474cecb9249c3918f60b1c056ce0c",
       "version_major": 2,
       "version_minor": 0
      },
      "text/plain": [
       "HBox(children=(FloatProgress(value=0.0, max=20.0), HTML(value='')))"
      ]
     },
     "metadata": {},
     "output_type": "display_data"
    },
    {
     "name": "stdout",
     "output_type": "stream",
     "text": [
      "\n"
     ]
    },
    {
     "data": {
      "application/vnd.jupyter.widget-view+json": {
       "model_id": "cbbebe4f6c1d4a3c8db846b56cc9f3a5",
       "version_major": 2,
       "version_minor": 0
      },
      "text/plain": [
       "HBox(children=(FloatProgress(value=0.0, max=20.0), HTML(value='')))"
      ]
     },
     "metadata": {},
     "output_type": "display_data"
    },
    {
     "name": "stdout",
     "output_type": "stream",
     "text": [
      "\n",
      "epoch 16 - train: 21.279 - valid: 21.306 - stale=0\n"
     ]
    },
    {
     "data": {
      "application/vnd.jupyter.widget-view+json": {
       "model_id": "604fa259f7fe4c2b9a14f58b5d57a7b2",
       "version_major": 2,
       "version_minor": 0
      },
      "text/plain": [
       "HBox(children=(FloatProgress(value=0.0, max=20.0), HTML(value='')))"
      ]
     },
     "metadata": {},
     "output_type": "display_data"
    },
    {
     "name": "stdout",
     "output_type": "stream",
     "text": [
      "\n"
     ]
    },
    {
     "data": {
      "application/vnd.jupyter.widget-view+json": {
       "model_id": "57467563a5f64a68b5263393f8eb3115",
       "version_major": 2,
       "version_minor": 0
      },
      "text/plain": [
       "HBox(children=(FloatProgress(value=0.0, max=20.0), HTML(value='')))"
      ]
     },
     "metadata": {},
     "output_type": "display_data"
    },
    {
     "name": "stdout",
     "output_type": "stream",
     "text": [
      "\n",
      "epoch 17 - train: 21.124 - valid: 21.159 - stale=0\n"
     ]
    },
    {
     "data": {
      "application/vnd.jupyter.widget-view+json": {
       "model_id": "e38d02a40aac4e36bdbd203ff6702dbd",
       "version_major": 2,
       "version_minor": 0
      },
      "text/plain": [
       "HBox(children=(FloatProgress(value=0.0, max=20.0), HTML(value='')))"
      ]
     },
     "metadata": {},
     "output_type": "display_data"
    },
    {
     "name": "stdout",
     "output_type": "stream",
     "text": [
      "\n"
     ]
    },
    {
     "data": {
      "application/vnd.jupyter.widget-view+json": {
       "model_id": "3e36cce25bb14776951a6c663b2ab03d",
       "version_major": 2,
       "version_minor": 0
      },
      "text/plain": [
       "HBox(children=(FloatProgress(value=0.0, max=20.0), HTML(value='')))"
      ]
     },
     "metadata": {},
     "output_type": "display_data"
    },
    {
     "name": "stdout",
     "output_type": "stream",
     "text": [
      "\n",
      "epoch 18 - train: 20.982 - valid: 21.023 - stale=0\n"
     ]
    },
    {
     "data": {
      "application/vnd.jupyter.widget-view+json": {
       "model_id": "2a2eee1c1b3b42f38a8419bc5bec7b34",
       "version_major": 2,
       "version_minor": 0
      },
      "text/plain": [
       "HBox(children=(FloatProgress(value=0.0, max=20.0), HTML(value='')))"
      ]
     },
     "metadata": {},
     "output_type": "display_data"
    },
    {
     "name": "stdout",
     "output_type": "stream",
     "text": [
      "\n"
     ]
    },
    {
     "data": {
      "application/vnd.jupyter.widget-view+json": {
       "model_id": "267a5ec960de41f4b46458083c55bf6c",
       "version_major": 2,
       "version_minor": 0
      },
      "text/plain": [
       "HBox(children=(FloatProgress(value=0.0, max=20.0), HTML(value='')))"
      ]
     },
     "metadata": {},
     "output_type": "display_data"
    },
    {
     "name": "stdout",
     "output_type": "stream",
     "text": [
      "\n",
      "epoch 19 - train: 20.851 - valid: 20.899 - stale=0\n"
     ]
    },
    {
     "data": {
      "application/vnd.jupyter.widget-view+json": {
       "model_id": "9b34bbf6cddb470ab72ad4d18d0ae0c3",
       "version_major": 2,
       "version_minor": 0
      },
      "text/plain": [
       "HBox(children=(FloatProgress(value=0.0, max=20.0), HTML(value='')))"
      ]
     },
     "metadata": {},
     "output_type": "display_data"
    },
    {
     "name": "stdout",
     "output_type": "stream",
     "text": [
      "\n"
     ]
    },
    {
     "data": {
      "application/vnd.jupyter.widget-view+json": {
       "model_id": "279f9373800b42b1a338974f13cc3e87",
       "version_major": 2,
       "version_minor": 0
      },
      "text/plain": [
       "HBox(children=(FloatProgress(value=0.0, max=20.0), HTML(value='')))"
      ]
     },
     "metadata": {},
     "output_type": "display_data"
    },
    {
     "name": "stdout",
     "output_type": "stream",
     "text": [
      "\n",
      "epoch 20 - train: 20.731 - valid: 20.783 - stale=0\n"
     ]
    },
    {
     "data": {
      "application/vnd.jupyter.widget-view+json": {
       "model_id": "14b210a60f634364bb34f9af7d4d5774",
       "version_major": 2,
       "version_minor": 0
      },
      "text/plain": [
       "HBox(children=(FloatProgress(value=0.0, max=20.0), HTML(value='')))"
      ]
     },
     "metadata": {},
     "output_type": "display_data"
    },
    {
     "name": "stdout",
     "output_type": "stream",
     "text": [
      "\n"
     ]
    },
    {
     "data": {
      "application/vnd.jupyter.widget-view+json": {
       "model_id": "646c0d00846e4438a754a6c0064e5217",
       "version_major": 2,
       "version_minor": 0
      },
      "text/plain": [
       "HBox(children=(FloatProgress(value=0.0, max=20.0), HTML(value='')))"
      ]
     },
     "metadata": {},
     "output_type": "display_data"
    },
    {
     "name": "stdout",
     "output_type": "stream",
     "text": [
      "\n",
      "epoch 21 - train: 20.619 - valid: 20.676 - stale=0\n"
     ]
    },
    {
     "data": {
      "application/vnd.jupyter.widget-view+json": {
       "model_id": "8ded088a8f72473ca1153989c8ec823e",
       "version_major": 2,
       "version_minor": 0
      },
      "text/plain": [
       "HBox(children=(FloatProgress(value=0.0, max=20.0), HTML(value='')))"
      ]
     },
     "metadata": {},
     "output_type": "display_data"
    },
    {
     "name": "stdout",
     "output_type": "stream",
     "text": [
      "\n"
     ]
    },
    {
     "data": {
      "application/vnd.jupyter.widget-view+json": {
       "model_id": "69f0473564f34081ab88c577d7472749",
       "version_major": 2,
       "version_minor": 0
      },
      "text/plain": [
       "HBox(children=(FloatProgress(value=0.0, max=20.0), HTML(value='')))"
      ]
     },
     "metadata": {},
     "output_type": "display_data"
    },
    {
     "name": "stdout",
     "output_type": "stream",
     "text": [
      "\n",
      "epoch 22 - train: 20.514 - valid: 20.576 - stale=0\n"
     ]
    },
    {
     "data": {
      "application/vnd.jupyter.widget-view+json": {
       "model_id": "8b506d7cbe7c4b418040b72237d9618a",
       "version_major": 2,
       "version_minor": 0
      },
      "text/plain": [
       "HBox(children=(FloatProgress(value=0.0, max=20.0), HTML(value='')))"
      ]
     },
     "metadata": {},
     "output_type": "display_data"
    },
    {
     "name": "stdout",
     "output_type": "stream",
     "text": [
      "\n"
     ]
    },
    {
     "data": {
      "application/vnd.jupyter.widget-view+json": {
       "model_id": "b14e1923fbac49a483f6e9f13e134766",
       "version_major": 2,
       "version_minor": 0
      },
      "text/plain": [
       "HBox(children=(FloatProgress(value=0.0, max=20.0), HTML(value='')))"
      ]
     },
     "metadata": {},
     "output_type": "display_data"
    },
    {
     "name": "stdout",
     "output_type": "stream",
     "text": [
      "\n",
      "epoch 23 - train: 20.417 - valid: 20.482 - stale=0\n"
     ]
    },
    {
     "data": {
      "application/vnd.jupyter.widget-view+json": {
       "model_id": "5e0b6a11c78d40e08ea0ab14e8d7b781",
       "version_major": 2,
       "version_minor": 0
      },
      "text/plain": [
       "HBox(children=(FloatProgress(value=0.0, max=20.0), HTML(value='')))"
      ]
     },
     "metadata": {},
     "output_type": "display_data"
    },
    {
     "name": "stdout",
     "output_type": "stream",
     "text": [
      "\n"
     ]
    },
    {
     "data": {
      "application/vnd.jupyter.widget-view+json": {
       "model_id": "993864d1fec643849629c5ed0ec70a28",
       "version_major": 2,
       "version_minor": 0
      },
      "text/plain": [
       "HBox(children=(FloatProgress(value=0.0, max=20.0), HTML(value='')))"
      ]
     },
     "metadata": {},
     "output_type": "display_data"
    },
    {
     "name": "stdout",
     "output_type": "stream",
     "text": [
      "\n",
      "epoch 24 - train: 20.327 - valid: 20.396 - stale=0\n"
     ]
    },
    {
     "data": {
      "application/vnd.jupyter.widget-view+json": {
       "model_id": "378a787b010e49e88420dece0a220b27",
       "version_major": 2,
       "version_minor": 0
      },
      "text/plain": [
       "HBox(children=(FloatProgress(value=0.0, max=20.0), HTML(value='')))"
      ]
     },
     "metadata": {},
     "output_type": "display_data"
    },
    {
     "name": "stdout",
     "output_type": "stream",
     "text": [
      "\n"
     ]
    },
    {
     "data": {
      "application/vnd.jupyter.widget-view+json": {
       "model_id": "3132bbefa69e4ad390a33cd09c2c858c",
       "version_major": 2,
       "version_minor": 0
      },
      "text/plain": [
       "HBox(children=(FloatProgress(value=0.0, max=20.0), HTML(value='')))"
      ]
     },
     "metadata": {},
     "output_type": "display_data"
    },
    {
     "name": "stdout",
     "output_type": "stream",
     "text": [
      "\n",
      "epoch 25 - train: 20.242 - valid: 20.314 - stale=0\n"
     ]
    },
    {
     "data": {
      "application/vnd.jupyter.widget-view+json": {
       "model_id": "8dfd6b8639924595a1fb9ba520c9841b",
       "version_major": 2,
       "version_minor": 0
      },
      "text/plain": [
       "HBox(children=(FloatProgress(value=0.0, max=20.0), HTML(value='')))"
      ]
     },
     "metadata": {},
     "output_type": "display_data"
    },
    {
     "name": "stdout",
     "output_type": "stream",
     "text": [
      "\n"
     ]
    },
    {
     "data": {
      "application/vnd.jupyter.widget-view+json": {
       "model_id": "eb99f3afa64e42898d536ff608afc2eb",
       "version_major": 2,
       "version_minor": 0
      },
      "text/plain": [
       "HBox(children=(FloatProgress(value=0.0, max=20.0), HTML(value='')))"
      ]
     },
     "metadata": {},
     "output_type": "display_data"
    },
    {
     "name": "stdout",
     "output_type": "stream",
     "text": [
      "\n",
      "epoch 26 - train: 20.162 - valid: 20.238 - stale=0\n"
     ]
    },
    {
     "data": {
      "application/vnd.jupyter.widget-view+json": {
       "model_id": "c54b96557c8f4a14b464de7e2d75b598",
       "version_major": 2,
       "version_minor": 0
      },
      "text/plain": [
       "HBox(children=(FloatProgress(value=0.0, max=20.0), HTML(value='')))"
      ]
     },
     "metadata": {},
     "output_type": "display_data"
    },
    {
     "name": "stdout",
     "output_type": "stream",
     "text": [
      "\n"
     ]
    },
    {
     "data": {
      "application/vnd.jupyter.widget-view+json": {
       "model_id": "2290a6797aff41c1b8a24e488a1ffa64",
       "version_major": 2,
       "version_minor": 0
      },
      "text/plain": [
       "HBox(children=(FloatProgress(value=0.0, max=20.0), HTML(value='')))"
      ]
     },
     "metadata": {},
     "output_type": "display_data"
    },
    {
     "name": "stdout",
     "output_type": "stream",
     "text": [
      "\n",
      "epoch 27 - train: 20.088 - valid: 20.167 - stale=0\n"
     ]
    },
    {
     "data": {
      "application/vnd.jupyter.widget-view+json": {
       "model_id": "3fc3bb734ef6409a908a95cf4fb814bb",
       "version_major": 2,
       "version_minor": 0
      },
      "text/plain": [
       "HBox(children=(FloatProgress(value=0.0, max=20.0), HTML(value='')))"
      ]
     },
     "metadata": {},
     "output_type": "display_data"
    },
    {
     "name": "stdout",
     "output_type": "stream",
     "text": [
      "\n"
     ]
    },
    {
     "data": {
      "application/vnd.jupyter.widget-view+json": {
       "model_id": "ab24646b1c69405eacee3fd1c0685cce",
       "version_major": 2,
       "version_minor": 0
      },
      "text/plain": [
       "HBox(children=(FloatProgress(value=0.0, max=20.0), HTML(value='')))"
      ]
     },
     "metadata": {},
     "output_type": "display_data"
    },
    {
     "name": "stdout",
     "output_type": "stream",
     "text": [
      "\n",
      "epoch 28 - train: 20.017 - valid: 20.1 - stale=0\n"
     ]
    },
    {
     "data": {
      "application/vnd.jupyter.widget-view+json": {
       "model_id": "3c43c50ec0564176a2363cc54e8170dc",
       "version_major": 2,
       "version_minor": 0
      },
      "text/plain": [
       "HBox(children=(FloatProgress(value=0.0, max=20.0), HTML(value='')))"
      ]
     },
     "metadata": {},
     "output_type": "display_data"
    },
    {
     "name": "stdout",
     "output_type": "stream",
     "text": [
      "\n"
     ]
    },
    {
     "data": {
      "application/vnd.jupyter.widget-view+json": {
       "model_id": "727938acc2174f78b256b1590a5c1793",
       "version_major": 2,
       "version_minor": 0
      },
      "text/plain": [
       "HBox(children=(FloatProgress(value=0.0, max=20.0), HTML(value='')))"
      ]
     },
     "metadata": {},
     "output_type": "display_data"
    },
    {
     "name": "stdout",
     "output_type": "stream",
     "text": [
      "\n",
      "epoch 29 - train: 19.951 - valid: 20.038 - stale=0\n"
     ]
    },
    {
     "data": {
      "application/vnd.jupyter.widget-view+json": {
       "model_id": "1cad9633c93b4ce7ba111c6ba0c45717",
       "version_major": 2,
       "version_minor": 0
      },
      "text/plain": [
       "HBox(children=(FloatProgress(value=0.0, max=20.0), HTML(value='')))"
      ]
     },
     "metadata": {},
     "output_type": "display_data"
    },
    {
     "name": "stdout",
     "output_type": "stream",
     "text": [
      "\n"
     ]
    },
    {
     "data": {
      "application/vnd.jupyter.widget-view+json": {
       "model_id": "f943d45acdfd4d9bad09c8c2990acf5e",
       "version_major": 2,
       "version_minor": 0
      },
      "text/plain": [
       "HBox(children=(FloatProgress(value=0.0, max=20.0), HTML(value='')))"
      ]
     },
     "metadata": {},
     "output_type": "display_data"
    },
    {
     "name": "stdout",
     "output_type": "stream",
     "text": [
      "\n",
      "epoch 30 - train: 19.888 - valid: 19.979 - stale=0\n"
     ]
    },
    {
     "data": {
      "application/vnd.jupyter.widget-view+json": {
       "model_id": "dc10cb74ebe04d54b9b59190dcfdc1c2",
       "version_major": 2,
       "version_minor": 0
      },
      "text/plain": [
       "HBox(children=(FloatProgress(value=0.0, max=20.0), HTML(value='')))"
      ]
     },
     "metadata": {},
     "output_type": "display_data"
    },
    {
     "name": "stdout",
     "output_type": "stream",
     "text": [
      "\n"
     ]
    },
    {
     "data": {
      "application/vnd.jupyter.widget-view+json": {
       "model_id": "62c9c709919c4d468b07692f0bc37090",
       "version_major": 2,
       "version_minor": 0
      },
      "text/plain": [
       "HBox(children=(FloatProgress(value=0.0, max=20.0), HTML(value='')))"
      ]
     },
     "metadata": {},
     "output_type": "display_data"
    },
    {
     "name": "stdout",
     "output_type": "stream",
     "text": [
      "\n",
      "epoch 31 - train: 19.829 - valid: 19.924 - stale=0\n"
     ]
    },
    {
     "data": {
      "application/vnd.jupyter.widget-view+json": {
       "model_id": "61acd99435b640ddb248ceb427c8d54a",
       "version_major": 2,
       "version_minor": 0
      },
      "text/plain": [
       "HBox(children=(FloatProgress(value=0.0, max=20.0), HTML(value='')))"
      ]
     },
     "metadata": {},
     "output_type": "display_data"
    },
    {
     "name": "stdout",
     "output_type": "stream",
     "text": [
      "\n"
     ]
    },
    {
     "data": {
      "application/vnd.jupyter.widget-view+json": {
       "model_id": "dcc634718e45416b83236956917622e0",
       "version_major": 2,
       "version_minor": 0
      },
      "text/plain": [
       "HBox(children=(FloatProgress(value=0.0, max=20.0), HTML(value='')))"
      ]
     },
     "metadata": {},
     "output_type": "display_data"
    },
    {
     "name": "stdout",
     "output_type": "stream",
     "text": [
      "\n",
      "epoch 32 - train: 19.773 - valid: 19.872 - stale=0\n"
     ]
    },
    {
     "data": {
      "application/vnd.jupyter.widget-view+json": {
       "model_id": "50b7dd00c1cc4f03be5778413d1c4b75",
       "version_major": 2,
       "version_minor": 0
      },
      "text/plain": [
       "HBox(children=(FloatProgress(value=0.0, max=20.0), HTML(value='')))"
      ]
     },
     "metadata": {},
     "output_type": "display_data"
    },
    {
     "name": "stdout",
     "output_type": "stream",
     "text": [
      "\n"
     ]
    },
    {
     "data": {
      "application/vnd.jupyter.widget-view+json": {
       "model_id": "a701a7f08a0549a4a6f637a1cf1c1389",
       "version_major": 2,
       "version_minor": 0
      },
      "text/plain": [
       "HBox(children=(FloatProgress(value=0.0, max=20.0), HTML(value='')))"
      ]
     },
     "metadata": {},
     "output_type": "display_data"
    },
    {
     "name": "stdout",
     "output_type": "stream",
     "text": [
      "\n",
      "epoch 33 - train: 19.721 - valid: 19.823 - stale=0\n"
     ]
    },
    {
     "data": {
      "application/vnd.jupyter.widget-view+json": {
       "model_id": "cd1ef0df29e44401b8481cb946530bdd",
       "version_major": 2,
       "version_minor": 0
      },
      "text/plain": [
       "HBox(children=(FloatProgress(value=0.0, max=20.0), HTML(value='')))"
      ]
     },
     "metadata": {},
     "output_type": "display_data"
    },
    {
     "name": "stdout",
     "output_type": "stream",
     "text": [
      "\n"
     ]
    },
    {
     "data": {
      "application/vnd.jupyter.widget-view+json": {
       "model_id": "0b1ae5f00932406d923654858c1b1680",
       "version_major": 2,
       "version_minor": 0
      },
      "text/plain": [
       "HBox(children=(FloatProgress(value=0.0, max=20.0), HTML(value='')))"
      ]
     },
     "metadata": {},
     "output_type": "display_data"
    },
    {
     "name": "stdout",
     "output_type": "stream",
     "text": [
      "\n",
      "epoch 34 - train: 19.671 - valid: 19.777 - stale=0\n"
     ]
    },
    {
     "data": {
      "application/vnd.jupyter.widget-view+json": {
       "model_id": "968a3d6bd52e41b5911e62b3f38dcdfc",
       "version_major": 2,
       "version_minor": 0
      },
      "text/plain": [
       "HBox(children=(FloatProgress(value=0.0, max=20.0), HTML(value='')))"
      ]
     },
     "metadata": {},
     "output_type": "display_data"
    },
    {
     "name": "stdout",
     "output_type": "stream",
     "text": [
      "\n"
     ]
    },
    {
     "data": {
      "application/vnd.jupyter.widget-view+json": {
       "model_id": "4d25cda78bac4e01bf404ba5ae2b1185",
       "version_major": 2,
       "version_minor": 0
      },
      "text/plain": [
       "HBox(children=(FloatProgress(value=0.0, max=20.0), HTML(value='')))"
      ]
     },
     "metadata": {},
     "output_type": "display_data"
    },
    {
     "name": "stdout",
     "output_type": "stream",
     "text": [
      "\n",
      "epoch 35 - train: 19.625 - valid: 19.733 - stale=0\n"
     ]
    },
    {
     "data": {
      "application/vnd.jupyter.widget-view+json": {
       "model_id": "71aee17a0d48420f8ac2051b682fa93f",
       "version_major": 2,
       "version_minor": 0
      },
      "text/plain": [
       "HBox(children=(FloatProgress(value=0.0, max=20.0), HTML(value='')))"
      ]
     },
     "metadata": {},
     "output_type": "display_data"
    },
    {
     "name": "stdout",
     "output_type": "stream",
     "text": [
      "\n"
     ]
    },
    {
     "data": {
      "application/vnd.jupyter.widget-view+json": {
       "model_id": "19393b27987241c2a52966fc2a971bd2",
       "version_major": 2,
       "version_minor": 0
      },
      "text/plain": [
       "HBox(children=(FloatProgress(value=0.0, max=20.0), HTML(value='')))"
      ]
     },
     "metadata": {},
     "output_type": "display_data"
    },
    {
     "name": "stdout",
     "output_type": "stream",
     "text": [
      "\n",
      "epoch 36 - train: 19.581 - valid: 19.691 - stale=0\n"
     ]
    },
    {
     "data": {
      "application/vnd.jupyter.widget-view+json": {
       "model_id": "adb74df2bff84bd4b23abefd07d48244",
       "version_major": 2,
       "version_minor": 0
      },
      "text/plain": [
       "HBox(children=(FloatProgress(value=0.0, max=20.0), HTML(value='')))"
      ]
     },
     "metadata": {},
     "output_type": "display_data"
    },
    {
     "name": "stdout",
     "output_type": "stream",
     "text": [
      "\n"
     ]
    },
    {
     "data": {
      "application/vnd.jupyter.widget-view+json": {
       "model_id": "a493084f9d2d473d82feeca80ff559ed",
       "version_major": 2,
       "version_minor": 0
      },
      "text/plain": [
       "HBox(children=(FloatProgress(value=0.0, max=20.0), HTML(value='')))"
      ]
     },
     "metadata": {},
     "output_type": "display_data"
    },
    {
     "name": "stdout",
     "output_type": "stream",
     "text": [
      "\n",
      "epoch 37 - train: 19.539 - valid: 19.652 - stale=0\n"
     ]
    },
    {
     "data": {
      "application/vnd.jupyter.widget-view+json": {
       "model_id": "718e0fc13e19409083d9627b28f3ad4d",
       "version_major": 2,
       "version_minor": 0
      },
      "text/plain": [
       "HBox(children=(FloatProgress(value=0.0, max=20.0), HTML(value='')))"
      ]
     },
     "metadata": {},
     "output_type": "display_data"
    },
    {
     "name": "stdout",
     "output_type": "stream",
     "text": [
      "\n"
     ]
    },
    {
     "data": {
      "application/vnd.jupyter.widget-view+json": {
       "model_id": "6cbee463268648df83ff9ca5608790be",
       "version_major": 2,
       "version_minor": 0
      },
      "text/plain": [
       "HBox(children=(FloatProgress(value=0.0, max=20.0), HTML(value='')))"
      ]
     },
     "metadata": {},
     "output_type": "display_data"
    },
    {
     "name": "stdout",
     "output_type": "stream",
     "text": [
      "\n",
      "epoch 38 - train: 19.499 - valid: 19.615 - stale=0\n"
     ]
    },
    {
     "data": {
      "application/vnd.jupyter.widget-view+json": {
       "model_id": "d0f79a1d835f4d379bdaec93537b457f",
       "version_major": 2,
       "version_minor": 0
      },
      "text/plain": [
       "HBox(children=(FloatProgress(value=0.0, max=20.0), HTML(value='')))"
      ]
     },
     "metadata": {},
     "output_type": "display_data"
    },
    {
     "name": "stdout",
     "output_type": "stream",
     "text": [
      "\n"
     ]
    },
    {
     "data": {
      "application/vnd.jupyter.widget-view+json": {
       "model_id": "a29b27ab16f840a3a277a4067bdb08b5",
       "version_major": 2,
       "version_minor": 0
      },
      "text/plain": [
       "HBox(children=(FloatProgress(value=0.0, max=20.0), HTML(value='')))"
      ]
     },
     "metadata": {},
     "output_type": "display_data"
    },
    {
     "name": "stdout",
     "output_type": "stream",
     "text": [
      "\n",
      "epoch 39 - train: 19.462 - valid: 19.58 - stale=0\n"
     ]
    },
    {
     "data": {
      "application/vnd.jupyter.widget-view+json": {
       "model_id": "25bafb0cf0994360ac7d68f15fe5a227",
       "version_major": 2,
       "version_minor": 0
      },
      "text/plain": [
       "HBox(children=(FloatProgress(value=0.0, max=20.0), HTML(value='')))"
      ]
     },
     "metadata": {},
     "output_type": "display_data"
    },
    {
     "name": "stdout",
     "output_type": "stream",
     "text": [
      "\n"
     ]
    },
    {
     "data": {
      "application/vnd.jupyter.widget-view+json": {
       "model_id": "9cf8b0a07d79467f97c7df60a1671969",
       "version_major": 2,
       "version_minor": 0
      },
      "text/plain": [
       "HBox(children=(FloatProgress(value=0.0, max=20.0), HTML(value='')))"
      ]
     },
     "metadata": {},
     "output_type": "display_data"
    },
    {
     "name": "stdout",
     "output_type": "stream",
     "text": [
      "\n",
      "epoch 40 - train: 19.426 - valid: 19.547 - stale=0\n"
     ]
    },
    {
     "data": {
      "application/vnd.jupyter.widget-view+json": {
       "model_id": "251b0fa8eef74218ac0ec0e18c8c5d03",
       "version_major": 2,
       "version_minor": 0
      },
      "text/plain": [
       "HBox(children=(FloatProgress(value=0.0, max=20.0), HTML(value='')))"
      ]
     },
     "metadata": {},
     "output_type": "display_data"
    },
    {
     "name": "stdout",
     "output_type": "stream",
     "text": [
      "\n"
     ]
    },
    {
     "data": {
      "application/vnd.jupyter.widget-view+json": {
       "model_id": "38888f37ba4a4ecbb7086c6485df1117",
       "version_major": 2,
       "version_minor": 0
      },
      "text/plain": [
       "HBox(children=(FloatProgress(value=0.0, max=20.0), HTML(value='')))"
      ]
     },
     "metadata": {},
     "output_type": "display_data"
    },
    {
     "name": "stdout",
     "output_type": "stream",
     "text": [
      "\n",
      "epoch 41 - train: 19.392 - valid: 19.515 - stale=0\n"
     ]
    },
    {
     "data": {
      "application/vnd.jupyter.widget-view+json": {
       "model_id": "dddae7f5915949b283176c9269f8316f",
       "version_major": 2,
       "version_minor": 0
      },
      "text/plain": [
       "HBox(children=(FloatProgress(value=0.0, max=20.0), HTML(value='')))"
      ]
     },
     "metadata": {},
     "output_type": "display_data"
    },
    {
     "name": "stdout",
     "output_type": "stream",
     "text": [
      "\n"
     ]
    },
    {
     "data": {
      "application/vnd.jupyter.widget-view+json": {
       "model_id": "2eee28d509d6431198cc488ad01edd9e",
       "version_major": 2,
       "version_minor": 0
      },
      "text/plain": [
       "HBox(children=(FloatProgress(value=0.0, max=20.0), HTML(value='')))"
      ]
     },
     "metadata": {},
     "output_type": "display_data"
    },
    {
     "name": "stdout",
     "output_type": "stream",
     "text": [
      "\n",
      "epoch 42 - train: 19.36 - valid: 19.485 - stale=0\n"
     ]
    },
    {
     "data": {
      "application/vnd.jupyter.widget-view+json": {
       "model_id": "15e4b9ae14aa49299d5b016cc95aab0f",
       "version_major": 2,
       "version_minor": 0
      },
      "text/plain": [
       "HBox(children=(FloatProgress(value=0.0, max=20.0), HTML(value='')))"
      ]
     },
     "metadata": {},
     "output_type": "display_data"
    },
    {
     "name": "stdout",
     "output_type": "stream",
     "text": [
      "\n"
     ]
    },
    {
     "data": {
      "application/vnd.jupyter.widget-view+json": {
       "model_id": "1a466c86b94c484ca01d0ee42f2742df",
       "version_major": 2,
       "version_minor": 0
      },
      "text/plain": [
       "HBox(children=(FloatProgress(value=0.0, max=20.0), HTML(value='')))"
      ]
     },
     "metadata": {},
     "output_type": "display_data"
    },
    {
     "name": "stdout",
     "output_type": "stream",
     "text": [
      "\n",
      "epoch 43 - train: 19.329 - valid: 19.456 - stale=0\n"
     ]
    },
    {
     "data": {
      "application/vnd.jupyter.widget-view+json": {
       "model_id": "5ca8aaa22f00443490dc9d713af2575f",
       "version_major": 2,
       "version_minor": 0
      },
      "text/plain": [
       "HBox(children=(FloatProgress(value=0.0, max=20.0), HTML(value='')))"
      ]
     },
     "metadata": {},
     "output_type": "display_data"
    },
    {
     "name": "stdout",
     "output_type": "stream",
     "text": [
      "\n"
     ]
    },
    {
     "data": {
      "application/vnd.jupyter.widget-view+json": {
       "model_id": "45d03ca266de4e67ab93aeeef9fbc806",
       "version_major": 2,
       "version_minor": 0
      },
      "text/plain": [
       "HBox(children=(FloatProgress(value=0.0, max=20.0), HTML(value='')))"
      ]
     },
     "metadata": {},
     "output_type": "display_data"
    },
    {
     "name": "stdout",
     "output_type": "stream",
     "text": [
      "\n",
      "epoch 44 - train: 19.3 - valid: 19.429 - stale=0\n"
     ]
    },
    {
     "data": {
      "application/vnd.jupyter.widget-view+json": {
       "model_id": "830b795a538047c3986dcafd4d580cb3",
       "version_major": 2,
       "version_minor": 0
      },
      "text/plain": [
       "HBox(children=(FloatProgress(value=0.0, max=20.0), HTML(value='')))"
      ]
     },
     "metadata": {},
     "output_type": "display_data"
    },
    {
     "name": "stdout",
     "output_type": "stream",
     "text": [
      "\n"
     ]
    },
    {
     "data": {
      "application/vnd.jupyter.widget-view+json": {
       "model_id": "e9bace6496e5434e9a6472b937197fc1",
       "version_major": 2,
       "version_minor": 0
      },
      "text/plain": [
       "HBox(children=(FloatProgress(value=0.0, max=20.0), HTML(value='')))"
      ]
     },
     "metadata": {},
     "output_type": "display_data"
    },
    {
     "name": "stdout",
     "output_type": "stream",
     "text": [
      "\n",
      "epoch 45 - train: 19.272 - valid: 19.403 - stale=0\n"
     ]
    },
    {
     "data": {
      "application/vnd.jupyter.widget-view+json": {
       "model_id": "d6d8971567884e118eff7691e39842fe",
       "version_major": 2,
       "version_minor": 0
      },
      "text/plain": [
       "HBox(children=(FloatProgress(value=0.0, max=20.0), HTML(value='')))"
      ]
     },
     "metadata": {},
     "output_type": "display_data"
    },
    {
     "name": "stdout",
     "output_type": "stream",
     "text": [
      "\n"
     ]
    },
    {
     "data": {
      "application/vnd.jupyter.widget-view+json": {
       "model_id": "aabcbb4c79884efdba67eb20b4cad1a2",
       "version_major": 2,
       "version_minor": 0
      },
      "text/plain": [
       "HBox(children=(FloatProgress(value=0.0, max=20.0), HTML(value='')))"
      ]
     },
     "metadata": {},
     "output_type": "display_data"
    },
    {
     "name": "stdout",
     "output_type": "stream",
     "text": [
      "\n",
      "epoch 46 - train: 19.246 - valid: 19.379 - stale=0\n"
     ]
    },
    {
     "data": {
      "application/vnd.jupyter.widget-view+json": {
       "model_id": "f998aa5f77aa473d81980635857c261f",
       "version_major": 2,
       "version_minor": 0
      },
      "text/plain": [
       "HBox(children=(FloatProgress(value=0.0, max=20.0), HTML(value='')))"
      ]
     },
     "metadata": {},
     "output_type": "display_data"
    },
    {
     "name": "stdout",
     "output_type": "stream",
     "text": [
      "\n"
     ]
    },
    {
     "data": {
      "application/vnd.jupyter.widget-view+json": {
       "model_id": "063779c371c44397841a17b44a6d3a41",
       "version_major": 2,
       "version_minor": 0
      },
      "text/plain": [
       "HBox(children=(FloatProgress(value=0.0, max=20.0), HTML(value='')))"
      ]
     },
     "metadata": {},
     "output_type": "display_data"
    },
    {
     "name": "stdout",
     "output_type": "stream",
     "text": [
      "\n",
      "epoch 47 - train: 19.22 - valid: 19.355 - stale=0\n"
     ]
    },
    {
     "data": {
      "application/vnd.jupyter.widget-view+json": {
       "model_id": "27cded930d0f473ab99f1e3af5ad4471",
       "version_major": 2,
       "version_minor": 0
      },
      "text/plain": [
       "HBox(children=(FloatProgress(value=0.0, max=20.0), HTML(value='')))"
      ]
     },
     "metadata": {},
     "output_type": "display_data"
    },
    {
     "name": "stdout",
     "output_type": "stream",
     "text": [
      "\n"
     ]
    },
    {
     "data": {
      "application/vnd.jupyter.widget-view+json": {
       "model_id": "7c1f4af92bbf4a49bd351c11735c35e8",
       "version_major": 2,
       "version_minor": 0
      },
      "text/plain": [
       "HBox(children=(FloatProgress(value=0.0, max=20.0), HTML(value='')))"
      ]
     },
     "metadata": {},
     "output_type": "display_data"
    },
    {
     "name": "stdout",
     "output_type": "stream",
     "text": [
      "\n",
      "epoch 48 - train: 19.195 - valid: 19.333 - stale=0\n"
     ]
    },
    {
     "data": {
      "application/vnd.jupyter.widget-view+json": {
       "model_id": "90b01fb36b8e454aaef2b777541bedbe",
       "version_major": 2,
       "version_minor": 0
      },
      "text/plain": [
       "HBox(children=(FloatProgress(value=0.0, max=20.0), HTML(value='')))"
      ]
     },
     "metadata": {},
     "output_type": "display_data"
    },
    {
     "name": "stdout",
     "output_type": "stream",
     "text": [
      "\n"
     ]
    },
    {
     "data": {
      "application/vnd.jupyter.widget-view+json": {
       "model_id": "cfd11c3cfe4a4351b603428c5204f0e6",
       "version_major": 2,
       "version_minor": 0
      },
      "text/plain": [
       "HBox(children=(FloatProgress(value=0.0, max=20.0), HTML(value='')))"
      ]
     },
     "metadata": {},
     "output_type": "display_data"
    },
    {
     "name": "stdout",
     "output_type": "stream",
     "text": [
      "\n",
      "epoch 49 - train: 19.172 - valid: 19.311 - stale=0\n"
     ]
    },
    {
     "data": {
      "application/vnd.jupyter.widget-view+json": {
       "model_id": "c9ef8bf9ca264a078a80c0752b71f9a3",
       "version_major": 2,
       "version_minor": 0
      },
      "text/plain": [
       "HBox(children=(FloatProgress(value=0.0, max=20.0), HTML(value='')))"
      ]
     },
     "metadata": {},
     "output_type": "display_data"
    },
    {
     "name": "stdout",
     "output_type": "stream",
     "text": [
      "\n"
     ]
    },
    {
     "data": {
      "application/vnd.jupyter.widget-view+json": {
       "model_id": "8a0717913f4f4adb8b5006f8df2b164e",
       "version_major": 2,
       "version_minor": 0
      },
      "text/plain": [
       "HBox(children=(FloatProgress(value=0.0, max=20.0), HTML(value='')))"
      ]
     },
     "metadata": {},
     "output_type": "display_data"
    },
    {
     "name": "stdout",
     "output_type": "stream",
     "text": [
      "\n",
      "epoch 50 - train: 19.15 - valid: 19.291 - stale=0\n"
     ]
    },
    {
     "data": {
      "application/vnd.jupyter.widget-view+json": {
       "model_id": "2cf344fb684f4ce3a188d38e86430d35",
       "version_major": 2,
       "version_minor": 0
      },
      "text/plain": [
       "HBox(children=(FloatProgress(value=0.0, max=20.0), HTML(value='')))"
      ]
     },
     "metadata": {},
     "output_type": "display_data"
    },
    {
     "name": "stdout",
     "output_type": "stream",
     "text": [
      "\n"
     ]
    },
    {
     "data": {
      "application/vnd.jupyter.widget-view+json": {
       "model_id": "3a577f79251547f7b15d35357b8bac91",
       "version_major": 2,
       "version_minor": 0
      },
      "text/plain": [
       "HBox(children=(FloatProgress(value=0.0, max=20.0), HTML(value='')))"
      ]
     },
     "metadata": {},
     "output_type": "display_data"
    },
    {
     "name": "stdout",
     "output_type": "stream",
     "text": [
      "\n",
      "epoch 51 - train: 19.128 - valid: 19.271 - stale=0\n"
     ]
    },
    {
     "data": {
      "application/vnd.jupyter.widget-view+json": {
       "model_id": "90bfe48b000842c38664197deaa2ecb2",
       "version_major": 2,
       "version_minor": 0
      },
      "text/plain": [
       "HBox(children=(FloatProgress(value=0.0, max=20.0), HTML(value='')))"
      ]
     },
     "metadata": {},
     "output_type": "display_data"
    },
    {
     "name": "stdout",
     "output_type": "stream",
     "text": [
      "\n"
     ]
    },
    {
     "data": {
      "application/vnd.jupyter.widget-view+json": {
       "model_id": "d7ee5069c7334d44a749304c5d6d53dc",
       "version_major": 2,
       "version_minor": 0
      },
      "text/plain": [
       "HBox(children=(FloatProgress(value=0.0, max=20.0), HTML(value='')))"
      ]
     },
     "metadata": {},
     "output_type": "display_data"
    },
    {
     "name": "stdout",
     "output_type": "stream",
     "text": [
      "\n",
      "epoch 52 - train: 19.107 - valid: 19.252 - stale=0\n"
     ]
    },
    {
     "data": {
      "application/vnd.jupyter.widget-view+json": {
       "model_id": "c2b1de986ca94e808178a8cfc8cfc3af",
       "version_major": 2,
       "version_minor": 0
      },
      "text/plain": [
       "HBox(children=(FloatProgress(value=0.0, max=20.0), HTML(value='')))"
      ]
     },
     "metadata": {},
     "output_type": "display_data"
    },
    {
     "name": "stdout",
     "output_type": "stream",
     "text": [
      "\n"
     ]
    },
    {
     "data": {
      "application/vnd.jupyter.widget-view+json": {
       "model_id": "91a11a680e3d4379a43b4d0a2877a01a",
       "version_major": 2,
       "version_minor": 0
      },
      "text/plain": [
       "HBox(children=(FloatProgress(value=0.0, max=20.0), HTML(value='')))"
      ]
     },
     "metadata": {},
     "output_type": "display_data"
    },
    {
     "name": "stdout",
     "output_type": "stream",
     "text": [
      "\n",
      "epoch 53 - train: 19.087 - valid: 19.234 - stale=0\n"
     ]
    },
    {
     "data": {
      "application/vnd.jupyter.widget-view+json": {
       "model_id": "3f09512d4aa64d57b58725cc6477f939",
       "version_major": 2,
       "version_minor": 0
      },
      "text/plain": [
       "HBox(children=(FloatProgress(value=0.0, max=20.0), HTML(value='')))"
      ]
     },
     "metadata": {},
     "output_type": "display_data"
    },
    {
     "name": "stdout",
     "output_type": "stream",
     "text": [
      "\n"
     ]
    },
    {
     "data": {
      "application/vnd.jupyter.widget-view+json": {
       "model_id": "9d2119ed4df5491996c90ddcd5a2c473",
       "version_major": 2,
       "version_minor": 0
      },
      "text/plain": [
       "HBox(children=(FloatProgress(value=0.0, max=20.0), HTML(value='')))"
      ]
     },
     "metadata": {},
     "output_type": "display_data"
    },
    {
     "name": "stdout",
     "output_type": "stream",
     "text": [
      "\n",
      "epoch 54 - train: 19.068 - valid: 19.217 - stale=0\n"
     ]
    },
    {
     "data": {
      "application/vnd.jupyter.widget-view+json": {
       "model_id": "99967b2a36464d589ea3f336f37c9d28",
       "version_major": 2,
       "version_minor": 0
      },
      "text/plain": [
       "HBox(children=(FloatProgress(value=0.0, max=20.0), HTML(value='')))"
      ]
     },
     "metadata": {},
     "output_type": "display_data"
    },
    {
     "name": "stdout",
     "output_type": "stream",
     "text": [
      "\n"
     ]
    },
    {
     "data": {
      "application/vnd.jupyter.widget-view+json": {
       "model_id": "105dd59b4e8a45ee9e107eb6eb51a01c",
       "version_major": 2,
       "version_minor": 0
      },
      "text/plain": [
       "HBox(children=(FloatProgress(value=0.0, max=20.0), HTML(value='')))"
      ]
     },
     "metadata": {},
     "output_type": "display_data"
    },
    {
     "name": "stdout",
     "output_type": "stream",
     "text": [
      "\n",
      "epoch 55 - train: 19.049 - valid: 19.2 - stale=0\n"
     ]
    },
    {
     "data": {
      "application/vnd.jupyter.widget-view+json": {
       "model_id": "b495474f4af648b8ba256ac2655bbc1b",
       "version_major": 2,
       "version_minor": 0
      },
      "text/plain": [
       "HBox(children=(FloatProgress(value=0.0, max=20.0), HTML(value='')))"
      ]
     },
     "metadata": {},
     "output_type": "display_data"
    },
    {
     "name": "stdout",
     "output_type": "stream",
     "text": [
      "\n"
     ]
    },
    {
     "data": {
      "application/vnd.jupyter.widget-view+json": {
       "model_id": "85798f5a9d7248aa9d235fe917dd0f07",
       "version_major": 2,
       "version_minor": 0
      },
      "text/plain": [
       "HBox(children=(FloatProgress(value=0.0, max=20.0), HTML(value='')))"
      ]
     },
     "metadata": {},
     "output_type": "display_data"
    },
    {
     "name": "stdout",
     "output_type": "stream",
     "text": [
      "\n",
      "epoch 56 - train: 19.031 - valid: 19.183 - stale=0\n"
     ]
    },
    {
     "data": {
      "application/vnd.jupyter.widget-view+json": {
       "model_id": "77346fa7adfb488683cef87644e0bae0",
       "version_major": 2,
       "version_minor": 0
      },
      "text/plain": [
       "HBox(children=(FloatProgress(value=0.0, max=20.0), HTML(value='')))"
      ]
     },
     "metadata": {},
     "output_type": "display_data"
    },
    {
     "name": "stdout",
     "output_type": "stream",
     "text": [
      "\n"
     ]
    },
    {
     "data": {
      "application/vnd.jupyter.widget-view+json": {
       "model_id": "9278553d35634f488c35842c693fb4cc",
       "version_major": 2,
       "version_minor": 0
      },
      "text/plain": [
       "HBox(children=(FloatProgress(value=0.0, max=20.0), HTML(value='')))"
      ]
     },
     "metadata": {},
     "output_type": "display_data"
    },
    {
     "name": "stdout",
     "output_type": "stream",
     "text": [
      "\n",
      "epoch 57 - train: 19.013 - valid: 19.167 - stale=0\n"
     ]
    },
    {
     "data": {
      "application/vnd.jupyter.widget-view+json": {
       "model_id": "a47de2d6c37347f39e32904a2f024b82",
       "version_major": 2,
       "version_minor": 0
      },
      "text/plain": [
       "HBox(children=(FloatProgress(value=0.0, max=20.0), HTML(value='')))"
      ]
     },
     "metadata": {},
     "output_type": "display_data"
    },
    {
     "name": "stdout",
     "output_type": "stream",
     "text": [
      "\n"
     ]
    },
    {
     "data": {
      "application/vnd.jupyter.widget-view+json": {
       "model_id": "20892a7976304f048c6a2f3337de4380",
       "version_major": 2,
       "version_minor": 0
      },
      "text/plain": [
       "HBox(children=(FloatProgress(value=0.0, max=20.0), HTML(value='')))"
      ]
     },
     "metadata": {},
     "output_type": "display_data"
    },
    {
     "name": "stdout",
     "output_type": "stream",
     "text": [
      "\n",
      "epoch 58 - train: 18.996 - valid: 19.152 - stale=0\n"
     ]
    },
    {
     "data": {
      "application/vnd.jupyter.widget-view+json": {
       "model_id": "0fd31eb9cfcb417fb92202938419d3f6",
       "version_major": 2,
       "version_minor": 0
      },
      "text/plain": [
       "HBox(children=(FloatProgress(value=0.0, max=20.0), HTML(value='')))"
      ]
     },
     "metadata": {},
     "output_type": "display_data"
    },
    {
     "name": "stdout",
     "output_type": "stream",
     "text": [
      "\n"
     ]
    },
    {
     "data": {
      "application/vnd.jupyter.widget-view+json": {
       "model_id": "a3841152f17143abb2b86151823ad67d",
       "version_major": 2,
       "version_minor": 0
      },
      "text/plain": [
       "HBox(children=(FloatProgress(value=0.0, max=20.0), HTML(value='')))"
      ]
     },
     "metadata": {},
     "output_type": "display_data"
    },
    {
     "name": "stdout",
     "output_type": "stream",
     "text": [
      "\n",
      "epoch 59 - train: 18.98 - valid: 19.137 - stale=0\n"
     ]
    },
    {
     "data": {
      "application/vnd.jupyter.widget-view+json": {
       "model_id": "396bfdd1ec5d4406841fd622f5f64dd9",
       "version_major": 2,
       "version_minor": 0
      },
      "text/plain": [
       "HBox(children=(FloatProgress(value=0.0, max=20.0), HTML(value='')))"
      ]
     },
     "metadata": {},
     "output_type": "display_data"
    },
    {
     "name": "stdout",
     "output_type": "stream",
     "text": [
      "\n"
     ]
    },
    {
     "data": {
      "application/vnd.jupyter.widget-view+json": {
       "model_id": "f01c51cfa91a436986af7a7f18252a87",
       "version_major": 2,
       "version_minor": 0
      },
      "text/plain": [
       "HBox(children=(FloatProgress(value=0.0, max=20.0), HTML(value='')))"
      ]
     },
     "metadata": {},
     "output_type": "display_data"
    },
    {
     "name": "stdout",
     "output_type": "stream",
     "text": [
      "\n",
      "epoch 60 - train: 18.964 - valid: 19.122 - stale=0\n"
     ]
    },
    {
     "data": {
      "application/vnd.jupyter.widget-view+json": {
       "model_id": "55b97f0b248e498ab28991a072acb56c",
       "version_major": 2,
       "version_minor": 0
      },
      "text/plain": [
       "HBox(children=(FloatProgress(value=0.0, max=20.0), HTML(value='')))"
      ]
     },
     "metadata": {},
     "output_type": "display_data"
    },
    {
     "name": "stdout",
     "output_type": "stream",
     "text": [
      "\n"
     ]
    },
    {
     "data": {
      "application/vnd.jupyter.widget-view+json": {
       "model_id": "98641c0d70a2405e86e4c6b4801a2f50",
       "version_major": 2,
       "version_minor": 0
      },
      "text/plain": [
       "HBox(children=(FloatProgress(value=0.0, max=20.0), HTML(value='')))"
      ]
     },
     "metadata": {},
     "output_type": "display_data"
    },
    {
     "name": "stdout",
     "output_type": "stream",
     "text": [
      "\n",
      "epoch 61 - train: 18.948 - valid: 19.108 - stale=0\n"
     ]
    },
    {
     "data": {
      "application/vnd.jupyter.widget-view+json": {
       "model_id": "8bd279d96b734924840433e8cda726ee",
       "version_major": 2,
       "version_minor": 0
      },
      "text/plain": [
       "HBox(children=(FloatProgress(value=0.0, max=20.0), HTML(value='')))"
      ]
     },
     "metadata": {},
     "output_type": "display_data"
    },
    {
     "name": "stdout",
     "output_type": "stream",
     "text": [
      "\n"
     ]
    },
    {
     "data": {
      "application/vnd.jupyter.widget-view+json": {
       "model_id": "82c046213ddf4f19814bcca3c0534e49",
       "version_major": 2,
       "version_minor": 0
      },
      "text/plain": [
       "HBox(children=(FloatProgress(value=0.0, max=20.0), HTML(value='')))"
      ]
     },
     "metadata": {},
     "output_type": "display_data"
    },
    {
     "name": "stdout",
     "output_type": "stream",
     "text": [
      "\n",
      "epoch 62 - train: 18.933 - valid: 19.095 - stale=0\n"
     ]
    },
    {
     "data": {
      "application/vnd.jupyter.widget-view+json": {
       "model_id": "35410e5bb5c34915a869379037753f9e",
       "version_major": 2,
       "version_minor": 0
      },
      "text/plain": [
       "HBox(children=(FloatProgress(value=0.0, max=20.0), HTML(value='')))"
      ]
     },
     "metadata": {},
     "output_type": "display_data"
    },
    {
     "name": "stdout",
     "output_type": "stream",
     "text": [
      "\n"
     ]
    },
    {
     "data": {
      "application/vnd.jupyter.widget-view+json": {
       "model_id": "4364c40609e94755af8efb425056c69e",
       "version_major": 2,
       "version_minor": 0
      },
      "text/plain": [
       "HBox(children=(FloatProgress(value=0.0, max=20.0), HTML(value='')))"
      ]
     },
     "metadata": {},
     "output_type": "display_data"
    },
    {
     "name": "stdout",
     "output_type": "stream",
     "text": [
      "\n",
      "epoch 63 - train: 18.918 - valid: 19.081 - stale=0\n"
     ]
    },
    {
     "data": {
      "application/vnd.jupyter.widget-view+json": {
       "model_id": "29ff687dd5d64c1c889749ed77b921c6",
       "version_major": 2,
       "version_minor": 0
      },
      "text/plain": [
       "HBox(children=(FloatProgress(value=0.0, max=20.0), HTML(value='')))"
      ]
     },
     "metadata": {},
     "output_type": "display_data"
    },
    {
     "name": "stdout",
     "output_type": "stream",
     "text": [
      "\n"
     ]
    },
    {
     "data": {
      "application/vnd.jupyter.widget-view+json": {
       "model_id": "26f431a62e81428da96a87a83b3969c2",
       "version_major": 2,
       "version_minor": 0
      },
      "text/plain": [
       "HBox(children=(FloatProgress(value=0.0, max=20.0), HTML(value='')))"
      ]
     },
     "metadata": {},
     "output_type": "display_data"
    },
    {
     "name": "stdout",
     "output_type": "stream",
     "text": [
      "\n",
      "epoch 64 - train: 18.904 - valid: 19.068 - stale=0\n"
     ]
    },
    {
     "data": {
      "application/vnd.jupyter.widget-view+json": {
       "model_id": "cd3a31bf739a46389155da8085e68da8",
       "version_major": 2,
       "version_minor": 0
      },
      "text/plain": [
       "HBox(children=(FloatProgress(value=0.0, max=20.0), HTML(value='')))"
      ]
     },
     "metadata": {},
     "output_type": "display_data"
    },
    {
     "name": "stdout",
     "output_type": "stream",
     "text": [
      "\n"
     ]
    },
    {
     "data": {
      "application/vnd.jupyter.widget-view+json": {
       "model_id": "46f9f55356a6412390834c6779ce2e22",
       "version_major": 2,
       "version_minor": 0
      },
      "text/plain": [
       "HBox(children=(FloatProgress(value=0.0, max=20.0), HTML(value='')))"
      ]
     },
     "metadata": {},
     "output_type": "display_data"
    },
    {
     "name": "stdout",
     "output_type": "stream",
     "text": [
      "\n",
      "epoch 65 - train: 18.889 - valid: 19.055 - stale=0\n"
     ]
    },
    {
     "data": {
      "application/vnd.jupyter.widget-view+json": {
       "model_id": "c13c1bbf1d684664b5fd809b7c00a4e5",
       "version_major": 2,
       "version_minor": 0
      },
      "text/plain": [
       "HBox(children=(FloatProgress(value=0.0, max=20.0), HTML(value='')))"
      ]
     },
     "metadata": {},
     "output_type": "display_data"
    },
    {
     "name": "stdout",
     "output_type": "stream",
     "text": [
      "\n"
     ]
    },
    {
     "data": {
      "application/vnd.jupyter.widget-view+json": {
       "model_id": "ef6b52549b2f49089de555aa6a56b736",
       "version_major": 2,
       "version_minor": 0
      },
      "text/plain": [
       "HBox(children=(FloatProgress(value=0.0, max=20.0), HTML(value='')))"
      ]
     },
     "metadata": {},
     "output_type": "display_data"
    },
    {
     "name": "stdout",
     "output_type": "stream",
     "text": [
      "\n",
      "epoch 66 - train: 18.876 - valid: 19.043 - stale=0\n"
     ]
    },
    {
     "data": {
      "application/vnd.jupyter.widget-view+json": {
       "model_id": "bc9726df974f46b3aeeaf5982fb4e4d4",
       "version_major": 2,
       "version_minor": 0
      },
      "text/plain": [
       "HBox(children=(FloatProgress(value=0.0, max=20.0), HTML(value='')))"
      ]
     },
     "metadata": {},
     "output_type": "display_data"
    },
    {
     "name": "stdout",
     "output_type": "stream",
     "text": [
      "\n"
     ]
    },
    {
     "data": {
      "application/vnd.jupyter.widget-view+json": {
       "model_id": "64724b2748f444139e015329472d513e",
       "version_major": 2,
       "version_minor": 0
      },
      "text/plain": [
       "HBox(children=(FloatProgress(value=0.0, max=20.0), HTML(value='')))"
      ]
     },
     "metadata": {},
     "output_type": "display_data"
    },
    {
     "name": "stdout",
     "output_type": "stream",
     "text": [
      "\n",
      "epoch 67 - train: 18.862 - valid: 19.031 - stale=0\n"
     ]
    },
    {
     "data": {
      "application/vnd.jupyter.widget-view+json": {
       "model_id": "be6c79cc9161446096ccbf2a73886fc0",
       "version_major": 2,
       "version_minor": 0
      },
      "text/plain": [
       "HBox(children=(FloatProgress(value=0.0, max=20.0), HTML(value='')))"
      ]
     },
     "metadata": {},
     "output_type": "display_data"
    },
    {
     "name": "stdout",
     "output_type": "stream",
     "text": [
      "\n"
     ]
    },
    {
     "data": {
      "application/vnd.jupyter.widget-view+json": {
       "model_id": "30162af4651d4a50b53bb853713fe7c7",
       "version_major": 2,
       "version_minor": 0
      },
      "text/plain": [
       "HBox(children=(FloatProgress(value=0.0, max=20.0), HTML(value='')))"
      ]
     },
     "metadata": {},
     "output_type": "display_data"
    },
    {
     "name": "stdout",
     "output_type": "stream",
     "text": [
      "\n",
      "epoch 68 - train: 18.849 - valid: 19.019 - stale=0\n"
     ]
    },
    {
     "data": {
      "application/vnd.jupyter.widget-view+json": {
       "model_id": "e0e2709cfbbc4f4c9de7df7d43919e58",
       "version_major": 2,
       "version_minor": 0
      },
      "text/plain": [
       "HBox(children=(FloatProgress(value=0.0, max=20.0), HTML(value='')))"
      ]
     },
     "metadata": {},
     "output_type": "display_data"
    },
    {
     "name": "stdout",
     "output_type": "stream",
     "text": [
      "\n"
     ]
    },
    {
     "data": {
      "application/vnd.jupyter.widget-view+json": {
       "model_id": "deb84cd0c8df4630ae40d5ea1bc94a27",
       "version_major": 2,
       "version_minor": 0
      },
      "text/plain": [
       "HBox(children=(FloatProgress(value=0.0, max=20.0), HTML(value='')))"
      ]
     },
     "metadata": {},
     "output_type": "display_data"
    },
    {
     "name": "stdout",
     "output_type": "stream",
     "text": [
      "\n",
      "epoch 69 - train: 18.836 - valid: 19.008 - stale=0\n"
     ]
    },
    {
     "data": {
      "application/vnd.jupyter.widget-view+json": {
       "model_id": "41e52cea10044f9faec569de63aa641e",
       "version_major": 2,
       "version_minor": 0
      },
      "text/plain": [
       "HBox(children=(FloatProgress(value=0.0, max=20.0), HTML(value='')))"
      ]
     },
     "metadata": {},
     "output_type": "display_data"
    },
    {
     "name": "stdout",
     "output_type": "stream",
     "text": [
      "\n"
     ]
    },
    {
     "data": {
      "application/vnd.jupyter.widget-view+json": {
       "model_id": "d8916033ea4f4accabda55f9bbc3eaaf",
       "version_major": 2,
       "version_minor": 0
      },
      "text/plain": [
       "HBox(children=(FloatProgress(value=0.0, max=20.0), HTML(value='')))"
      ]
     },
     "metadata": {},
     "output_type": "display_data"
    },
    {
     "name": "stdout",
     "output_type": "stream",
     "text": [
      "\n",
      "epoch 70 - train: 18.824 - valid: 18.997 - stale=0\n"
     ]
    },
    {
     "data": {
      "application/vnd.jupyter.widget-view+json": {
       "model_id": "fa859b30e6cc4429856d6012f1de0846",
       "version_major": 2,
       "version_minor": 0
      },
      "text/plain": [
       "HBox(children=(FloatProgress(value=0.0, max=20.0), HTML(value='')))"
      ]
     },
     "metadata": {},
     "output_type": "display_data"
    },
    {
     "name": "stdout",
     "output_type": "stream",
     "text": [
      "\n"
     ]
    },
    {
     "data": {
      "application/vnd.jupyter.widget-view+json": {
       "model_id": "3152a2cc9d4b470790849f014498b57e",
       "version_major": 2,
       "version_minor": 0
      },
      "text/plain": [
       "HBox(children=(FloatProgress(value=0.0, max=20.0), HTML(value='')))"
      ]
     },
     "metadata": {},
     "output_type": "display_data"
    },
    {
     "name": "stdout",
     "output_type": "stream",
     "text": [
      "\n",
      "epoch 71 - train: 18.812 - valid: 18.986 - stale=0\n"
     ]
    },
    {
     "data": {
      "application/vnd.jupyter.widget-view+json": {
       "model_id": "c769259e23924d2c9d80b4e7abc01cd6",
       "version_major": 2,
       "version_minor": 0
      },
      "text/plain": [
       "HBox(children=(FloatProgress(value=0.0, max=20.0), HTML(value='')))"
      ]
     },
     "metadata": {},
     "output_type": "display_data"
    },
    {
     "name": "stdout",
     "output_type": "stream",
     "text": [
      "\n"
     ]
    },
    {
     "data": {
      "application/vnd.jupyter.widget-view+json": {
       "model_id": "52a4dc6821e74c508a442a593be6b970",
       "version_major": 2,
       "version_minor": 0
      },
      "text/plain": [
       "HBox(children=(FloatProgress(value=0.0, max=20.0), HTML(value='')))"
      ]
     },
     "metadata": {},
     "output_type": "display_data"
    },
    {
     "name": "stdout",
     "output_type": "stream",
     "text": [
      "\n",
      "epoch 72 - train: 18.8 - valid: 18.976 - stale=0\n"
     ]
    },
    {
     "data": {
      "application/vnd.jupyter.widget-view+json": {
       "model_id": "2f9d34dd3fca4e44a1667575e6c7f224",
       "version_major": 2,
       "version_minor": 0
      },
      "text/plain": [
       "HBox(children=(FloatProgress(value=0.0, max=20.0), HTML(value='')))"
      ]
     },
     "metadata": {},
     "output_type": "display_data"
    },
    {
     "name": "stdout",
     "output_type": "stream",
     "text": [
      "\n"
     ]
    },
    {
     "data": {
      "application/vnd.jupyter.widget-view+json": {
       "model_id": "01e20b94a2434d6fb50da9fe934fa31f",
       "version_major": 2,
       "version_minor": 0
      },
      "text/plain": [
       "HBox(children=(FloatProgress(value=0.0, max=20.0), HTML(value='')))"
      ]
     },
     "metadata": {},
     "output_type": "display_data"
    },
    {
     "name": "stdout",
     "output_type": "stream",
     "text": [
      "\n",
      "epoch 73 - train: 18.788 - valid: 18.966 - stale=0\n"
     ]
    },
    {
     "data": {
      "application/vnd.jupyter.widget-view+json": {
       "model_id": "73329335484b4b4987fe8094d030aceb",
       "version_major": 2,
       "version_minor": 0
      },
      "text/plain": [
       "HBox(children=(FloatProgress(value=0.0, max=20.0), HTML(value='')))"
      ]
     },
     "metadata": {},
     "output_type": "display_data"
    },
    {
     "name": "stdout",
     "output_type": "stream",
     "text": [
      "\n"
     ]
    },
    {
     "data": {
      "application/vnd.jupyter.widget-view+json": {
       "model_id": "47ec480790be41659abbdfa7a07091bf",
       "version_major": 2,
       "version_minor": 0
      },
      "text/plain": [
       "HBox(children=(FloatProgress(value=0.0, max=20.0), HTML(value='')))"
      ]
     },
     "metadata": {},
     "output_type": "display_data"
    },
    {
     "name": "stdout",
     "output_type": "stream",
     "text": [
      "\n",
      "epoch 74 - train: 18.777 - valid: 18.956 - stale=0\n"
     ]
    },
    {
     "data": {
      "application/vnd.jupyter.widget-view+json": {
       "model_id": "98689a408e144043911905c660e1e5af",
       "version_major": 2,
       "version_minor": 0
      },
      "text/plain": [
       "HBox(children=(FloatProgress(value=0.0, max=20.0), HTML(value='')))"
      ]
     },
     "metadata": {},
     "output_type": "display_data"
    },
    {
     "name": "stdout",
     "output_type": "stream",
     "text": [
      "\n"
     ]
    },
    {
     "data": {
      "application/vnd.jupyter.widget-view+json": {
       "model_id": "f58bc064aca447088279702ec3fb715e",
       "version_major": 2,
       "version_minor": 0
      },
      "text/plain": [
       "HBox(children=(FloatProgress(value=0.0, max=20.0), HTML(value='')))"
      ]
     },
     "metadata": {},
     "output_type": "display_data"
    },
    {
     "name": "stdout",
     "output_type": "stream",
     "text": [
      "\n",
      "epoch 75 - train: 18.766 - valid: 18.947 - stale=0\n"
     ]
    },
    {
     "data": {
      "application/vnd.jupyter.widget-view+json": {
       "model_id": "63b6241d2c8145d0b16e4ade8af24628",
       "version_major": 2,
       "version_minor": 0
      },
      "text/plain": [
       "HBox(children=(FloatProgress(value=0.0, max=20.0), HTML(value='')))"
      ]
     },
     "metadata": {},
     "output_type": "display_data"
    },
    {
     "name": "stdout",
     "output_type": "stream",
     "text": [
      "\n"
     ]
    },
    {
     "data": {
      "application/vnd.jupyter.widget-view+json": {
       "model_id": "fb250ca4f14840e6a2b75cb55c46584b",
       "version_major": 2,
       "version_minor": 0
      },
      "text/plain": [
       "HBox(children=(FloatProgress(value=0.0, max=20.0), HTML(value='')))"
      ]
     },
     "metadata": {},
     "output_type": "display_data"
    },
    {
     "name": "stdout",
     "output_type": "stream",
     "text": [
      "\n",
      "epoch 76 - train: 18.756 - valid: 18.938 - stale=0\n"
     ]
    },
    {
     "data": {
      "application/vnd.jupyter.widget-view+json": {
       "model_id": "f2cda7802f824e25afe5799567a1d8d1",
       "version_major": 2,
       "version_minor": 0
      },
      "text/plain": [
       "HBox(children=(FloatProgress(value=0.0, max=20.0), HTML(value='')))"
      ]
     },
     "metadata": {},
     "output_type": "display_data"
    },
    {
     "name": "stdout",
     "output_type": "stream",
     "text": [
      "\n"
     ]
    },
    {
     "data": {
      "application/vnd.jupyter.widget-view+json": {
       "model_id": "fb740f84d35f4bbdb7e2e3476654e2b7",
       "version_major": 2,
       "version_minor": 0
      },
      "text/plain": [
       "HBox(children=(FloatProgress(value=0.0, max=20.0), HTML(value='')))"
      ]
     },
     "metadata": {},
     "output_type": "display_data"
    },
    {
     "name": "stdout",
     "output_type": "stream",
     "text": [
      "\n",
      "epoch 77 - train: 18.745 - valid: 18.929 - stale=0\n"
     ]
    },
    {
     "data": {
      "application/vnd.jupyter.widget-view+json": {
       "model_id": "53b43a1017f346a8b4678eb67c3d9252",
       "version_major": 2,
       "version_minor": 0
      },
      "text/plain": [
       "HBox(children=(FloatProgress(value=0.0, max=20.0), HTML(value='')))"
      ]
     },
     "metadata": {},
     "output_type": "display_data"
    },
    {
     "name": "stdout",
     "output_type": "stream",
     "text": [
      "\n"
     ]
    },
    {
     "data": {
      "application/vnd.jupyter.widget-view+json": {
       "model_id": "ad5d3f0c4f8c45b0b0a9568e432bfd35",
       "version_major": 2,
       "version_minor": 0
      },
      "text/plain": [
       "HBox(children=(FloatProgress(value=0.0, max=20.0), HTML(value='')))"
      ]
     },
     "metadata": {},
     "output_type": "display_data"
    },
    {
     "name": "stdout",
     "output_type": "stream",
     "text": [
      "\n",
      "epoch 78 - train: 18.735 - valid: 18.92 - stale=0\n"
     ]
    },
    {
     "data": {
      "application/vnd.jupyter.widget-view+json": {
       "model_id": "5ae37e3fe82b410bb65246dd90e5ebb0",
       "version_major": 2,
       "version_minor": 0
      },
      "text/plain": [
       "HBox(children=(FloatProgress(value=0.0, max=20.0), HTML(value='')))"
      ]
     },
     "metadata": {},
     "output_type": "display_data"
    },
    {
     "name": "stdout",
     "output_type": "stream",
     "text": [
      "\n"
     ]
    },
    {
     "data": {
      "application/vnd.jupyter.widget-view+json": {
       "model_id": "ddd7a74bb3624ee288f9bac2d3c5b6c5",
       "version_major": 2,
       "version_minor": 0
      },
      "text/plain": [
       "HBox(children=(FloatProgress(value=0.0, max=20.0), HTML(value='')))"
      ]
     },
     "metadata": {},
     "output_type": "display_data"
    },
    {
     "name": "stdout",
     "output_type": "stream",
     "text": [
      "\n",
      "epoch 79 - train: 18.725 - valid: 18.912 - stale=0\n"
     ]
    },
    {
     "data": {
      "application/vnd.jupyter.widget-view+json": {
       "model_id": "e759d9924a584fd2b723b9284fa538c2",
       "version_major": 2,
       "version_minor": 0
      },
      "text/plain": [
       "HBox(children=(FloatProgress(value=0.0, max=20.0), HTML(value='')))"
      ]
     },
     "metadata": {},
     "output_type": "display_data"
    },
    {
     "name": "stdout",
     "output_type": "stream",
     "text": [
      "\n"
     ]
    },
    {
     "data": {
      "application/vnd.jupyter.widget-view+json": {
       "model_id": "8f3b6d91c5f34c95bc3bf537a9e768b6",
       "version_major": 2,
       "version_minor": 0
      },
      "text/plain": [
       "HBox(children=(FloatProgress(value=0.0, max=20.0), HTML(value='')))"
      ]
     },
     "metadata": {},
     "output_type": "display_data"
    },
    {
     "name": "stdout",
     "output_type": "stream",
     "text": [
      "\n",
      "epoch 80 - train: 18.715 - valid: 18.904 - stale=0\n"
     ]
    },
    {
     "data": {
      "application/vnd.jupyter.widget-view+json": {
       "model_id": "c80d23b6e2094338b9657d6d6b05939a",
       "version_major": 2,
       "version_minor": 0
      },
      "text/plain": [
       "HBox(children=(FloatProgress(value=0.0, max=20.0), HTML(value='')))"
      ]
     },
     "metadata": {},
     "output_type": "display_data"
    },
    {
     "name": "stdout",
     "output_type": "stream",
     "text": [
      "\n"
     ]
    },
    {
     "data": {
      "application/vnd.jupyter.widget-view+json": {
       "model_id": "2ad7e63a68bf4a0999d9dd104065ee9e",
       "version_major": 2,
       "version_minor": 0
      },
      "text/plain": [
       "HBox(children=(FloatProgress(value=0.0, max=20.0), HTML(value='')))"
      ]
     },
     "metadata": {},
     "output_type": "display_data"
    },
    {
     "name": "stdout",
     "output_type": "stream",
     "text": [
      "\n",
      "epoch 81 - train: 18.706 - valid: 18.896 - stale=0\n"
     ]
    },
    {
     "data": {
      "application/vnd.jupyter.widget-view+json": {
       "model_id": "9f8267dc4f574f828b730465e2875103",
       "version_major": 2,
       "version_minor": 0
      },
      "text/plain": [
       "HBox(children=(FloatProgress(value=0.0, max=20.0), HTML(value='')))"
      ]
     },
     "metadata": {},
     "output_type": "display_data"
    },
    {
     "name": "stdout",
     "output_type": "stream",
     "text": [
      "\n"
     ]
    },
    {
     "data": {
      "application/vnd.jupyter.widget-view+json": {
       "model_id": "3b6d6bc6dc964b31ac412a2263bf1195",
       "version_major": 2,
       "version_minor": 0
      },
      "text/plain": [
       "HBox(children=(FloatProgress(value=0.0, max=20.0), HTML(value='')))"
      ]
     },
     "metadata": {},
     "output_type": "display_data"
    },
    {
     "name": "stdout",
     "output_type": "stream",
     "text": [
      "\n",
      "epoch 82 - train: 18.696 - valid: 18.888 - stale=0\n"
     ]
    },
    {
     "data": {
      "application/vnd.jupyter.widget-view+json": {
       "model_id": "3f2bdcf334fd4f4d90213df3d0181f3f",
       "version_major": 2,
       "version_minor": 0
      },
      "text/plain": [
       "HBox(children=(FloatProgress(value=0.0, max=20.0), HTML(value='')))"
      ]
     },
     "metadata": {},
     "output_type": "display_data"
    },
    {
     "name": "stdout",
     "output_type": "stream",
     "text": [
      "\n"
     ]
    },
    {
     "data": {
      "application/vnd.jupyter.widget-view+json": {
       "model_id": "855f77fe5d874b1a9f383e4ea83f9630",
       "version_major": 2,
       "version_minor": 0
      },
      "text/plain": [
       "HBox(children=(FloatProgress(value=0.0, max=20.0), HTML(value='')))"
      ]
     },
     "metadata": {},
     "output_type": "display_data"
    },
    {
     "name": "stdout",
     "output_type": "stream",
     "text": [
      "\n",
      "epoch 83 - train: 18.687 - valid: 18.88 - stale=0\n"
     ]
    },
    {
     "data": {
      "application/vnd.jupyter.widget-view+json": {
       "model_id": "aeffb89ae1d8412d9af934d072c01058",
       "version_major": 2,
       "version_minor": 0
      },
      "text/plain": [
       "HBox(children=(FloatProgress(value=0.0, max=20.0), HTML(value='')))"
      ]
     },
     "metadata": {},
     "output_type": "display_data"
    },
    {
     "name": "stdout",
     "output_type": "stream",
     "text": [
      "\n"
     ]
    },
    {
     "data": {
      "application/vnd.jupyter.widget-view+json": {
       "model_id": "bf0a920c9f8b49f29e8c89391a27a738",
       "version_major": 2,
       "version_minor": 0
      },
      "text/plain": [
       "HBox(children=(FloatProgress(value=0.0, max=20.0), HTML(value='')))"
      ]
     },
     "metadata": {},
     "output_type": "display_data"
    },
    {
     "name": "stdout",
     "output_type": "stream",
     "text": [
      "\n",
      "epoch 84 - train: 18.678 - valid: 18.872 - stale=0\n"
     ]
    },
    {
     "data": {
      "application/vnd.jupyter.widget-view+json": {
       "model_id": "c93ad20dd31d461abd04c13a12216a68",
       "version_major": 2,
       "version_minor": 0
      },
      "text/plain": [
       "HBox(children=(FloatProgress(value=0.0, max=20.0), HTML(value='')))"
      ]
     },
     "metadata": {},
     "output_type": "display_data"
    },
    {
     "name": "stdout",
     "output_type": "stream",
     "text": [
      "\n"
     ]
    },
    {
     "data": {
      "application/vnd.jupyter.widget-view+json": {
       "model_id": "5a5656ce26e94e66b7e980bf6e4292ce",
       "version_major": 2,
       "version_minor": 0
      },
      "text/plain": [
       "HBox(children=(FloatProgress(value=0.0, max=20.0), HTML(value='')))"
      ]
     },
     "metadata": {},
     "output_type": "display_data"
    },
    {
     "name": "stdout",
     "output_type": "stream",
     "text": [
      "\n",
      "epoch 85 - train: 18.669 - valid: 18.864 - stale=0\n"
     ]
    },
    {
     "data": {
      "application/vnd.jupyter.widget-view+json": {
       "model_id": "ae47e3b005794a38b308fd71b472b4cd",
       "version_major": 2,
       "version_minor": 0
      },
      "text/plain": [
       "HBox(children=(FloatProgress(value=0.0, max=20.0), HTML(value='')))"
      ]
     },
     "metadata": {},
     "output_type": "display_data"
    },
    {
     "name": "stdout",
     "output_type": "stream",
     "text": [
      "\n"
     ]
    },
    {
     "data": {
      "application/vnd.jupyter.widget-view+json": {
       "model_id": "9a8ba3912cb1489aa277df463a2b2a62",
       "version_major": 2,
       "version_minor": 0
      },
      "text/plain": [
       "HBox(children=(FloatProgress(value=0.0, max=20.0), HTML(value='')))"
      ]
     },
     "metadata": {},
     "output_type": "display_data"
    },
    {
     "name": "stdout",
     "output_type": "stream",
     "text": [
      "\n",
      "epoch 86 - train: 18.66 - valid: 18.857 - stale=0\n"
     ]
    },
    {
     "data": {
      "application/vnd.jupyter.widget-view+json": {
       "model_id": "6ace2c8fadca4b0fafcb6d8f0f705dc9",
       "version_major": 2,
       "version_minor": 0
      },
      "text/plain": [
       "HBox(children=(FloatProgress(value=0.0, max=20.0), HTML(value='')))"
      ]
     },
     "metadata": {},
     "output_type": "display_data"
    },
    {
     "name": "stdout",
     "output_type": "stream",
     "text": [
      "\n"
     ]
    },
    {
     "data": {
      "application/vnd.jupyter.widget-view+json": {
       "model_id": "7f7ac6d633974efc84cacf2bce6d349d",
       "version_major": 2,
       "version_minor": 0
      },
      "text/plain": [
       "HBox(children=(FloatProgress(value=0.0, max=20.0), HTML(value='')))"
      ]
     },
     "metadata": {},
     "output_type": "display_data"
    },
    {
     "name": "stdout",
     "output_type": "stream",
     "text": [
      "\n",
      "epoch 87 - train: 18.651 - valid: 18.85 - stale=0\n"
     ]
    },
    {
     "data": {
      "application/vnd.jupyter.widget-view+json": {
       "model_id": "d578de06ec2f458b81c44aa6e6c5c8ba",
       "version_major": 2,
       "version_minor": 0
      },
      "text/plain": [
       "HBox(children=(FloatProgress(value=0.0, max=20.0), HTML(value='')))"
      ]
     },
     "metadata": {},
     "output_type": "display_data"
    },
    {
     "name": "stdout",
     "output_type": "stream",
     "text": [
      "\n"
     ]
    },
    {
     "data": {
      "application/vnd.jupyter.widget-view+json": {
       "model_id": "7dc119b1e496451291d836fda7f32feb",
       "version_major": 2,
       "version_minor": 0
      },
      "text/plain": [
       "HBox(children=(FloatProgress(value=0.0, max=20.0), HTML(value='')))"
      ]
     },
     "metadata": {},
     "output_type": "display_data"
    },
    {
     "name": "stdout",
     "output_type": "stream",
     "text": [
      "\n",
      "epoch 88 - train: 18.643 - valid: 18.843 - stale=0\n"
     ]
    },
    {
     "data": {
      "application/vnd.jupyter.widget-view+json": {
       "model_id": "80e1b86cc7b0428dbb5303b039a1396e",
       "version_major": 2,
       "version_minor": 0
      },
      "text/plain": [
       "HBox(children=(FloatProgress(value=0.0, max=20.0), HTML(value='')))"
      ]
     },
     "metadata": {},
     "output_type": "display_data"
    },
    {
     "name": "stdout",
     "output_type": "stream",
     "text": [
      "\n"
     ]
    },
    {
     "data": {
      "application/vnd.jupyter.widget-view+json": {
       "model_id": "6c523a135689403f996cbb441fb29ef4",
       "version_major": 2,
       "version_minor": 0
      },
      "text/plain": [
       "HBox(children=(FloatProgress(value=0.0, max=20.0), HTML(value='')))"
      ]
     },
     "metadata": {},
     "output_type": "display_data"
    },
    {
     "name": "stdout",
     "output_type": "stream",
     "text": [
      "\n",
      "epoch 89 - train: 18.634 - valid: 18.836 - stale=0\n"
     ]
    },
    {
     "data": {
      "application/vnd.jupyter.widget-view+json": {
       "model_id": "dc6756dd8683454ebd1ff362e3f999bd",
       "version_major": 2,
       "version_minor": 0
      },
      "text/plain": [
       "HBox(children=(FloatProgress(value=0.0, max=20.0), HTML(value='')))"
      ]
     },
     "metadata": {},
     "output_type": "display_data"
    },
    {
     "name": "stdout",
     "output_type": "stream",
     "text": [
      "\n"
     ]
    },
    {
     "data": {
      "application/vnd.jupyter.widget-view+json": {
       "model_id": "77cbaf60a334402bb1b61cd9206641fa",
       "version_major": 2,
       "version_minor": 0
      },
      "text/plain": [
       "HBox(children=(FloatProgress(value=0.0, max=20.0), HTML(value='')))"
      ]
     },
     "metadata": {},
     "output_type": "display_data"
    },
    {
     "name": "stdout",
     "output_type": "stream",
     "text": [
      "\n",
      "epoch 90 - train: 18.626 - valid: 18.829 - stale=0\n"
     ]
    },
    {
     "data": {
      "application/vnd.jupyter.widget-view+json": {
       "model_id": "19562cc2ceba49c49699bc87f06b0ad1",
       "version_major": 2,
       "version_minor": 0
      },
      "text/plain": [
       "HBox(children=(FloatProgress(value=0.0, max=20.0), HTML(value='')))"
      ]
     },
     "metadata": {},
     "output_type": "display_data"
    },
    {
     "name": "stdout",
     "output_type": "stream",
     "text": [
      "\n"
     ]
    },
    {
     "data": {
      "application/vnd.jupyter.widget-view+json": {
       "model_id": "1b74c3b90c974ebaaec7565cca35c912",
       "version_major": 2,
       "version_minor": 0
      },
      "text/plain": [
       "HBox(children=(FloatProgress(value=0.0, max=20.0), HTML(value='')))"
      ]
     },
     "metadata": {},
     "output_type": "display_data"
    },
    {
     "name": "stdout",
     "output_type": "stream",
     "text": [
      "\n",
      "epoch 91 - train: 18.618 - valid: 18.822 - stale=0\n"
     ]
    },
    {
     "data": {
      "application/vnd.jupyter.widget-view+json": {
       "model_id": "f9e5ae39e8d444f98340945304523b91",
       "version_major": 2,
       "version_minor": 0
      },
      "text/plain": [
       "HBox(children=(FloatProgress(value=0.0, max=20.0), HTML(value='')))"
      ]
     },
     "metadata": {},
     "output_type": "display_data"
    },
    {
     "name": "stdout",
     "output_type": "stream",
     "text": [
      "\n"
     ]
    },
    {
     "data": {
      "application/vnd.jupyter.widget-view+json": {
       "model_id": "050c5218fb9043b1b2ceaaea2b21473e",
       "version_major": 2,
       "version_minor": 0
      },
      "text/plain": [
       "HBox(children=(FloatProgress(value=0.0, max=20.0), HTML(value='')))"
      ]
     },
     "metadata": {},
     "output_type": "display_data"
    },
    {
     "name": "stdout",
     "output_type": "stream",
     "text": [
      "\n",
      "epoch 92 - train: 18.61 - valid: 18.815 - stale=0\n"
     ]
    },
    {
     "data": {
      "application/vnd.jupyter.widget-view+json": {
       "model_id": "3f5cc8f04718448ea5e133a3f79b85d9",
       "version_major": 2,
       "version_minor": 0
      },
      "text/plain": [
       "HBox(children=(FloatProgress(value=0.0, max=20.0), HTML(value='')))"
      ]
     },
     "metadata": {},
     "output_type": "display_data"
    },
    {
     "name": "stdout",
     "output_type": "stream",
     "text": [
      "\n"
     ]
    },
    {
     "data": {
      "application/vnd.jupyter.widget-view+json": {
       "model_id": "e63137f736d54f5681a49b5c198417d0",
       "version_major": 2,
       "version_minor": 0
      },
      "text/plain": [
       "HBox(children=(FloatProgress(value=0.0, max=20.0), HTML(value='')))"
      ]
     },
     "metadata": {},
     "output_type": "display_data"
    },
    {
     "name": "stdout",
     "output_type": "stream",
     "text": [
      "\n",
      "epoch 93 - train: 18.602 - valid: 18.809 - stale=0\n"
     ]
    },
    {
     "data": {
      "application/vnd.jupyter.widget-view+json": {
       "model_id": "2bc3291df3e642cfb67341293a102ce2",
       "version_major": 2,
       "version_minor": 0
      },
      "text/plain": [
       "HBox(children=(FloatProgress(value=0.0, max=20.0), HTML(value='')))"
      ]
     },
     "metadata": {},
     "output_type": "display_data"
    },
    {
     "name": "stdout",
     "output_type": "stream",
     "text": [
      "\n"
     ]
    },
    {
     "data": {
      "application/vnd.jupyter.widget-view+json": {
       "model_id": "d8abd692247e4fa2b783b4651c5b1b89",
       "version_major": 2,
       "version_minor": 0
      },
      "text/plain": [
       "HBox(children=(FloatProgress(value=0.0, max=20.0), HTML(value='')))"
      ]
     },
     "metadata": {},
     "output_type": "display_data"
    },
    {
     "name": "stdout",
     "output_type": "stream",
     "text": [
      "\n",
      "epoch 94 - train: 18.595 - valid: 18.802 - stale=0\n"
     ]
    },
    {
     "data": {
      "application/vnd.jupyter.widget-view+json": {
       "model_id": "ba1a26aca1b94cb0b6a3dfe1f97ebb12",
       "version_major": 2,
       "version_minor": 0
      },
      "text/plain": [
       "HBox(children=(FloatProgress(value=0.0, max=20.0), HTML(value='')))"
      ]
     },
     "metadata": {},
     "output_type": "display_data"
    },
    {
     "name": "stdout",
     "output_type": "stream",
     "text": [
      "\n"
     ]
    },
    {
     "data": {
      "application/vnd.jupyter.widget-view+json": {
       "model_id": "8484a3ad0826488f9865405999e6937b",
       "version_major": 2,
       "version_minor": 0
      },
      "text/plain": [
       "HBox(children=(FloatProgress(value=0.0, max=20.0), HTML(value='')))"
      ]
     },
     "metadata": {},
     "output_type": "display_data"
    },
    {
     "name": "stdout",
     "output_type": "stream",
     "text": [
      "\n",
      "epoch 95 - train: 18.587 - valid: 18.796 - stale=0\n"
     ]
    },
    {
     "data": {
      "application/vnd.jupyter.widget-view+json": {
       "model_id": "18574f6afaf9439cb8918a745debce9f",
       "version_major": 2,
       "version_minor": 0
      },
      "text/plain": [
       "HBox(children=(FloatProgress(value=0.0, max=20.0), HTML(value='')))"
      ]
     },
     "metadata": {},
     "output_type": "display_data"
    },
    {
     "name": "stdout",
     "output_type": "stream",
     "text": [
      "\n"
     ]
    },
    {
     "data": {
      "application/vnd.jupyter.widget-view+json": {
       "model_id": "4839b217369f4939ad53423edc4dbdee",
       "version_major": 2,
       "version_minor": 0
      },
      "text/plain": [
       "HBox(children=(FloatProgress(value=0.0, max=20.0), HTML(value='')))"
      ]
     },
     "metadata": {},
     "output_type": "display_data"
    },
    {
     "name": "stdout",
     "output_type": "stream",
     "text": [
      "\n",
      "epoch 96 - train: 18.58 - valid: 18.79 - stale=0\n"
     ]
    },
    {
     "data": {
      "application/vnd.jupyter.widget-view+json": {
       "model_id": "e5ea2c6c54224c388c2f0e0df6167daa",
       "version_major": 2,
       "version_minor": 0
      },
      "text/plain": [
       "HBox(children=(FloatProgress(value=0.0, max=20.0), HTML(value='')))"
      ]
     },
     "metadata": {},
     "output_type": "display_data"
    },
    {
     "name": "stdout",
     "output_type": "stream",
     "text": [
      "\n"
     ]
    },
    {
     "data": {
      "application/vnd.jupyter.widget-view+json": {
       "model_id": "c02744feeff1470483ef3f844bb10f2e",
       "version_major": 2,
       "version_minor": 0
      },
      "text/plain": [
       "HBox(children=(FloatProgress(value=0.0, max=20.0), HTML(value='')))"
      ]
     },
     "metadata": {},
     "output_type": "display_data"
    },
    {
     "name": "stdout",
     "output_type": "stream",
     "text": [
      "\n",
      "epoch 97 - train: 18.572 - valid: 18.784 - stale=0\n"
     ]
    },
    {
     "data": {
      "application/vnd.jupyter.widget-view+json": {
       "model_id": "d8c90c18290846e781f29e709bc3459a",
       "version_major": 2,
       "version_minor": 0
      },
      "text/plain": [
       "HBox(children=(FloatProgress(value=0.0, max=20.0), HTML(value='')))"
      ]
     },
     "metadata": {},
     "output_type": "display_data"
    },
    {
     "name": "stdout",
     "output_type": "stream",
     "text": [
      "\n"
     ]
    },
    {
     "data": {
      "application/vnd.jupyter.widget-view+json": {
       "model_id": "c9a8aa0756bb435fb0cb8be5b6c450fb",
       "version_major": 2,
       "version_minor": 0
      },
      "text/plain": [
       "HBox(children=(FloatProgress(value=0.0, max=20.0), HTML(value='')))"
      ]
     },
     "metadata": {},
     "output_type": "display_data"
    },
    {
     "name": "stdout",
     "output_type": "stream",
     "text": [
      "\n",
      "epoch 98 - train: 18.565 - valid: 18.778 - stale=0\n"
     ]
    },
    {
     "data": {
      "application/vnd.jupyter.widget-view+json": {
       "model_id": "59ae41ac594f4e1884bed8fdd5b526a3",
       "version_major": 2,
       "version_minor": 0
      },
      "text/plain": [
       "HBox(children=(FloatProgress(value=0.0, max=20.0), HTML(value='')))"
      ]
     },
     "metadata": {},
     "output_type": "display_data"
    },
    {
     "name": "stdout",
     "output_type": "stream",
     "text": [
      "\n"
     ]
    },
    {
     "data": {
      "application/vnd.jupyter.widget-view+json": {
       "model_id": "27165039aafe4630bf130640eff65527",
       "version_major": 2,
       "version_minor": 0
      },
      "text/plain": [
       "HBox(children=(FloatProgress(value=0.0, max=20.0), HTML(value='')))"
      ]
     },
     "metadata": {},
     "output_type": "display_data"
    },
    {
     "name": "stdout",
     "output_type": "stream",
     "text": [
      "\n",
      "epoch 99 - train: 18.558 - valid: 18.772 - stale=0\n",
      "\n"
     ]
    },
    {
     "data": {
      "image/png": "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\n",
      "text/plain": [
       "<Figure size 432x288 with 1 Axes>"
      ]
     },
     "metadata": {
      "needs_background": "light"
     },
     "output_type": "display_data"
    }
   ],
   "source": [
    "# train native MLPF\n",
    "batch_size = 50\n",
    "model = MLPF(input_dim=8)\n",
    "losses_train, losses_valid = train_mlpf(data, batch_size, model, with_VICreg=False, epochs=100)"
   ]
  },
  {
   "cell_type": "markdown",
   "metadata": {},
   "source": [
    "## Evaluate the SSL against native MLPF"
   ]
  },
  {
   "cell_type": "code",
<<<<<<< HEAD
<<<<<<< HEAD
   "execution_count": 248,
=======
   "execution_count": 18,
>>>>>>> Z0zzz-master
=======
   "execution_count": 18,
>>>>>>> Z0zzz-master
   "metadata": {},
   "outputs": [],
   "source": [
    "def evaluate_mlpf(model, with_VICreg):\n",
    "    num_classes = 6\n",
    "    conf_matrix = np.zeros((num_classes, num_classes))\n",
    "\n",
<<<<<<< HEAD
<<<<<<< HEAD
    "    model.eval()\n",
    "    encoder.eval()\n",
    "    decoder.eval()\n",
    "    with torch.no_grad():\n",
    "        for i, batch in tqdm(enumerate(test_loader)):\n",
    "            if with_VICreg:\n",
    "                 # make transformation\n",
    "                tracks, clusters = distinguish_PFelements(batch)\n",
    "\n",
    "                ### ENCODE\n",
    "                embedding_tracks, embedding_clusters = encoder(tracks, clusters)\n",
    "                ### POOLING\n",
    "                pooled_tracks = global_mean_pool(embedding_tracks, tracks.batch)     \n",
    "                pooled_clusters = global_mean_pool(embedding_clusters, clusters.batch)\n",
    "                ### DECODE\n",
    "                out_tracks, out_clusters = decoder(pooled_tracks, pooled_clusters)\n",
    "      \n",
    "                # use the learnt representation as your input as well as the global feature vector\n",
    "                tracks.x = torch.cat([tracks.x, embedding_tracks, out_tracks[tracks.batch]], axis=1)\n",
    "                clusters.x = torch.cat([clusters.x, embedding_clusters, out_clusters[clusters.batch]], axis=1)\n",
    "\n",
    "                event = combine_PFelements(tracks, clusters)\n",
    "\n",
    "            else:\n",
    "                event = batch\n",
    "\n",
    "            # make mlpf forward pass\n",
    "            pred_ids_one_hot = model(event)\n",
    "            pred_ids = torch.argmax(pred_ids_one_hot, axis=1)\n",
    "            target_ids = event.ygen_id\n",
    "\n",
    "            conf_matrix += sklearn.metrics.confusion_matrix(\n",
    "                target_ids.detach().cpu(), pred_ids.detach().cpu(), labels=range(num_classes)\n",
    "            )\n",
=======
=======
>>>>>>> Z0zzz-master
    "    for i, batch in tqdm(enumerate(test_loader)):\n",
    "        if with_VICreg:\n",
    "            # make transformation\n",
    "            tracks, clusters = distinguish_PFelements(batch)\n",
    "\n",
    "            # make encoder forward pass \n",
    "            embedding_tracks, embedding_clusters = encoder(tracks, clusters)\n",
    "\n",
    "            # use the learnt representation as your input\n",
    "            tracks.x = torch.cat([tracks.x, embedding_tracks], axis=1)\n",
    "    #                 tracks.x = embedding_tracks\n",
    "            clusters.x = torch.cat([clusters.x, embedding_clusters], axis=1)\n",
    "    #                 clusters.x = embedding_clusters    \n",
    "            event = combine_PFelements(tracks, clusters)\n",
    "\n",
    "        else:\n",
    "            event = batch\n",
    "            \n",
    "        # make mlpf forward pass\n",
    "        pred_ids_one_hot = model(event)\n",
    "        pred_ids = torch.argmax(pred_ids_one_hot, axis=1)\n",
    "        target_ids = event.ygen_id\n",
    "\n",
    "        conf_matrix += sklearn.metrics.confusion_matrix(\n",
    "            target_ids.detach().cpu(), pred_ids.detach().cpu(), labels=range(num_classes)\n",
    "        )\n",
<<<<<<< HEAD
>>>>>>> Z0zzz-master
=======
>>>>>>> Z0zzz-master
    "    return conf_matrix\n",
    "\n",
    "CLASS_NAMES_CLIC_LATEX = [\"none\", \"chhad\", \"nhad\", \"$\\gamma$\", \"$e^\\pm$\", \"$\\mu^\\pm$\"]\n",
    "\n",
    "def plot_conf_matrix(cm, title):\n",
    "    import itertools\n",
    "\n",
    "    cmap = plt.get_cmap(\"Blues\")\n",
    "    cm = cm.astype(\"float\") / cm.sum(axis=1)[:, np.newaxis]\n",
    "    cm[np.isnan(cm)] = 0.0\n",
    "\n",
    "    fig = plt.figure(figsize=(8, 6))\n",
    "\n",
    "    ax = plt.axes()\n",
    "    plt.imshow(cm, interpolation=\"nearest\", cmap=cmap)\n",
    "    plt.colorbar()\n",
    "\n",
    "    thresh = cm.max() / 1.5\n",
    "    for i, j in itertools.product(range(cm.shape[0]), range(cm.shape[1])):\n",
    "        plt.text(\n",
    "            j,\n",
    "            i,\n",
    "            \"{:0.2f}\".format(cm[i, j]),\n",
    "            horizontalalignment=\"center\",\n",
<<<<<<< HEAD
<<<<<<< HEAD
    "            color=\"white\" if cm[i, j] > thresh else \"black\", fontsize=15\n",
    "        )\n",
    "    plt.title(title, fontsize=25)\n",
    "    plt.xlabel(\"Predicted label\", fontsize=15)\n",
    "    plt.ylabel(\"True label\", fontsize=15)\n",
    "\n",
    "    plt.xticks(range(len(CLASS_NAMES_CLIC_LATEX)), CLASS_NAMES_CLIC_LATEX, rotation=45, fontsize=15)\n",
    "    plt.yticks(range(len(CLASS_NAMES_CLIC_LATEX)), CLASS_NAMES_CLIC_LATEX, fontsize=15)\n",
=======
=======
>>>>>>> Z0zzz-master
    "            color=\"white\" if cm[i, j] > thresh else \"black\",\n",
    "        )\n",
    "    plt.title(title)\n",
    "    plt.xlabel(\"Predicted label\")\n",
    "    plt.ylabel(\"True label\")\n",
    "\n",
    "    plt.xticks(range(len(CLASS_NAMES_CLIC_LATEX)), CLASS_NAMES_CLIC_LATEX, rotation=45)\n",
    "    plt.yticks(range(len(CLASS_NAMES_CLIC_LATEX)), CLASS_NAMES_CLIC_LATEX)\n",
<<<<<<< HEAD
>>>>>>> Z0zzz-master
=======
>>>>>>> Z0zzz-master
    "\n",
    "    plt.tight_layout()"
   ]
  },
  {
   "cell_type": "code",
<<<<<<< HEAD
<<<<<<< HEAD
   "execution_count": 165,
=======
   "execution_count": 19,
>>>>>>> Z0zzz-master
=======
   "execution_count": 19,
>>>>>>> Z0zzz-master
   "metadata": {},
   "outputs": [
    {
     "data": {
      "application/vnd.jupyter.widget-view+json": {
<<<<<<< HEAD
<<<<<<< HEAD
       "model_id": "9f3fdf25acf34af0ac219a90edf22f78",
=======
       "model_id": "ba95c4f10bd444cabc248dccb1a4f310",
>>>>>>> Z0zzz-master
=======
       "model_id": "ba95c4f10bd444cabc248dccb1a4f310",
>>>>>>> Z0zzz-master
       "version_major": 2,
       "version_minor": 0
      },
      "text/plain": [
       "HBox(children=(FloatProgress(value=1.0, bar_style='info', max=1.0), HTML(value='')))"
      ]
     },
     "metadata": {},
     "output_type": "display_data"
    },
    {
     "name": "stdout",
     "output_type": "stream",
     "text": [
      "\n"
     ]
    },
    {
     "data": {
      "image/png": "iVBORw0KGgoAAAANSUhEUgAAAdMAAAGoCAYAAAAdGw+vAAAAOXRFWHRTb2Z0d2FyZQBNYXRwbG90bGliIHZlcnNpb24zLjYuMCwgaHR0cHM6Ly9tYXRwbG90bGliLm9yZy89olMNAAAACXBIWXMAAAsTAAALEwEAmpwYAABQGklEQVR4nO3dd3xUVfrH8c9DCFJFpSQuRCSQAIKClAAiQiAFERWwKyq6Nlysa1tdFXWxrm3XtqKu+1NXVlFQBIWEqoB0rCgBBJGQQEBAgQRCzu+PGUJCS5lMy3zfvuZl5pw7d56TO8yTc+6555pzDhEREam8GsEOQEREJNwpmYqIiPhIyVRERMRHSqYiIiI+UjIVERHxkZKpiIiIj5RMRfzMzNaYmSvxWGNm1x2mzplZXrBjFpGKUTIVCYyTnXMG1AXuBJ4zs7Yl60o8GgcvTBGpDCVTkQByzu1yzr0PLAdODnY8IlI1agY7AJFIYmZ1gLOAk4BvgxyOiFQRJVORwPjGzPb9vAG43Tm33FtWsg7gEufc2ADHJyI+UDIVCYyTnXOH64keqU5EwoDOmYqIiPhIyVRERMRHSqYiIiI+Mt3PVERExDfqmYqIiPhIyVRERMRHSqYiIhLxzKyGmU04oKy2mY0zs7lmdtURXx+u50zNLDwDFxGpRrxrTvtdVX7nHxizmbUAJgNRzrm2JcovAWKAfwLTgf7OucJD7VM9UxERiXQ/Ax2BtQeUdwEWOef2AuuAEw63g7BfAal2pz8dVLZn3Qyi45LLvY+Kbl/w43sc1eZCv+z/cNv+uvCFQ27/pxuu48VXXi13LBXdvlf3rsyZv8gv+w6l7SvSTn/HUtHt/XlMK7N/tTXw+wb/tvVQ29aJDkiH9CCH+s4vr/xlLx6y3HmGaAsP0fttCGR7f84Gjj3cvsM+mYqISASxgA6obgOaA6uBOGDr4TY8bDI1s5+AfVl6358gzvuzc87FV0WkIiIi5WYB7REvArqY2RygGZ7h4EM6bDJ1zrX0Q2AiIiIhzcweAMYBE4C3gQuBfznn9hzuNWUO83pnOY0BmgB9gZeBO51z630PWUREpAL8OMzrnBvg/f/DJYrPL89ry3PO9P+A0cBzzrltZjYR+B9wekUD9Yc962YcXFizToX2UePoE6smmCrYf0VjGTjobL9u7899h9r2/ty3P7f3Zzsrs3+1NfD7royK7L9pTAx/uuE6P0ZTAYEd5i23Mq8zNbOfnHMtzWy5c65dybKARHj4uBz4NrOrsio6m7cqHG42r79VdIZguIqUdoLaWl0Fuq37ZvMG+jrT2t3+XOl95C98GvBPzOXpmc4ys7uBaDPrCAwHFlR1ICIiIuGqPIPP1wP5wFfAKGADcMRllURERPzCrPIPPyqzZ+qcKzCz+XguidkNfO6c2+nXqERERA4lsNeZlluZUZnZaDyzeY8FjgfeNbM7/B2YiIjIQcK1ZwpcBpy0rzdqZo8DXwN/92dgoSyqUftghxAwV18TIjP4/CxS2glqa3UVSW0NReWZzTsDuMI5t877vDkw1jkX1EtjgjmbNxiCNZtXRORQgjabt+dfKr2P/HmPAQGezWtm/8azfOAuIMvMvvQ+7wGMr+pAREREyhSi15keaZj3zRI/P3FAne4lKiIi4nWktXlnAZhZQ2AAcFSJ19wDJPo9OhERkZJCdDZveSYgvQHsAToDHwE9gX/5MygREZFDCsNh3n06Oudam9nNeBZueAyYBDzt18jK6VBr89Y4+kSiGuqmNyIiVWHSJxOZ/MnEYIfhUc6e6d7NP1K0ZYWfg9mvPLN5fwSuAQqAS4B7gWXOuTb+D++IcWk2r4hIkARtNm/vByu9j/zPHwL8E3N5UvwfgYuBxXjuOP4T8FpVByIiIlImq1H5hx+VZznBL4AvvE8v8Gs0IiIiR1IjzM6ZmtlPHOESGOdcvF8iEhEROZwQnc172Kiccy2dc/GHewQyyEA7q8/J3Hf9wIPKe3RsyaL37+Wr8fdzbr+OAERF1eDF+y9h+SejeO/Z66hbu1agw60U5xwPPXg/7RLjSe3Xh40bN5aq/2jCeE5p34bOHdszb+5cAHbs2MEF5w2mbUJLRlx3DYWFhcEIvcLU1v3UVrVV/CM0U3wQPXjjIP5x70WHrPvHvRdz0Z/H0P/qZxl9y2BqRddkSP9ORNeMot2gUXz94y/ccNEZAY64chYuWMC8uXP4dnkWl18xnNEPjyquy8/P59577mT6rDm8N24Ct4wcgXOOl196gY4dO7F8xWoKCwuZMP7DoMVfEWqrh9qqtlYLIbrQvZLpAeYuW8WHGUsPKo+LPZajatVk1c+byPv1d1b/kkfX9ieQ0rMdmfOWA5Axdzn9e7YNdMiVkpkxhf4pqURFRZGaPoDMzKnFdYsWLiA+vhWNGzemdUIC+QX5rF+/nsypU0hJTcfMSElLZ1rG1CO8Q+hQWz3UVrW1WgjRCUjl2ruZRZvZiX6NJERkzF3OVz/+clB5TKOjyVq7f2gla20uMY2PJqbx/vIVa3KJaXR0wGL1RW5ODq0TPItYxcbGsmvXruK6nBJ1AImJbcjNySE3N4eExMT9Zbk5gQ26ktRWD7VVbRX/Kc/9TAcCK4AvzKyhmWWZWV9/BxbqoqJqUOOAYYOaUTWoEaIzzcqyZ/fuw9YVFhZSVFRUZlm4UFs91Fa1NSyF8TDvo8BpwG/OuW141ul9xa9RhaDczdtJaNG0+HnrE5qSs3k7uXn7y1uf0JTcvO3BCrFCYmJjWZnlWR0kOzub+g0aFNfFlqgDWLkyi5jYWGJiYslasWJ/WUxsYIOuJLXVQ21VW6uFMB7mbQBsYf9lMr8A0RV9IzMbbmYvmdlcMxtrZmea2XdmNt/MUrzbZJjZR2a21MxOMrOaZvaumS02s3+aBW9RxnU5v1Kwu5BWJzSh0TH1aPGH41j4zVoy5y0npWc7APr1aEvG3OXBCrFCUlLTmZaZQVFREdMzM0hLG1Bc17VbEqtXryIvL4+VWVnUrVOXuLg4UtLSycyYgnOO6ZkZpKYPOMI7hA611UNtVVurhRDtmZZnbd6XgPeAY8zsFjyrIb1Zyfc7CugFfODdb2c8SfpTIBNIwrPKUjIwBPgRWO6cu8TMngN6A7NL7rDgx/fK/eZRjdpTs3H7CgV84yV9AHjp3Vnc8uj/eP/Z66gZFcV9z01g955Cxk9bRv+ebVn+ySi+WbGe4ff+p0L7D5ZuSUkkde9B+7atad48jnfGvs+999xFt6TuDBl6HqMfe5LkM04jOjqaF18eg5kx4saRXDnsEtolxpOc3J/BQ4YGuxnloraqrWpr+dr6+phXeeO1VwPQouqnzLV5AcysE55EFgXMc87Nr/AbmQ0H9jrn3jKzV4AznXMtvHWznHN9zGyac66/mfXAM5ycjyd5bwXqAU8458Z5X6O1eUVEgiRoa/OmV/4eK/lT/gz4J+Yye6ZmdoX3x23e/7cxszbOuf+rxPvtKfFzfTM7xhvDUYeoB1gDvOWce9rM0oFvKvGeIiJSXYTxLdhK3susKZ4e48dAZZJpSfcDc7w/33yYbT4ExprZucC3QDW5UEpERColRJcTLM9C9w+VfG5mdYHxFX0j59ybJX6+wfvjSwdsM8D7/y+BL73F4XFSQ0REIlZ5eqYHagWcWMVxiIiIlC1ch3kPuHuM4ZkU9Jg/gxIRETmkcg7z7s39hqLcb/0czH7l6ZmOcs6Fx/UeIiIiQFTMyUTFnFyqbO+6uX57v/Kk+AvNrFrfck1ERMJEiK6AVJ6eqQHfmNnXwC7vc+ec6+fXyERERA4UrudMgRF+j0JERKQ8wu3SGDOb7Zw7wzm3NpABiYiIhJsj9UzD4hYDe9bNOKisxtEnEtWw5SG2FhGRipr0yUQmfzIx2GF4hOgw72HX5jWzzcDzh3uhc+5hfwVVHlqbV0QkeIK2Nu/gMZXeR/6Ea4HAr81biGdt3ND8M0BERCREHCmZbq/kYvYiIiL+EaLDvEdKposDFoWIiEg5WLglU+fcxYEMREREpCyhmkxD84IdERGRMFKZu8aIiIgER2h2TJVMRUQkfITqMK+SqYiIhI1QTaY6ZyoiIuKjsO+ZajlBERH/CqXlBMvbMy1cv5TC7KV+jma/wy4nGOq0nKCISPAEaznBoy+u/FpC28deAfgnZg3zioiI+Cjsh3lFRCSChOb8IyVTEREJH6E6mzfsk+myT58MdggBET/yw2CHEDCrXxga7BACpqgoPOcsVMbuwqJghxAwtWtFBTuEaitUk6nOmYqIiPgo7HumIiISOUK1Z6pkKiIiYUPJVERExFehmUt1zlRERMRX6pmKiEjY0DCvn9x/x8iDypLTBtIvbWAQohERqX7CcW3eQAv7tXl/2LAj2KEERPKoz4IdQsDoOtPqSdeZVi/BWpu38fCxld5H3psXA/6JOex7piIiEjlCtWeqCUgiIhI+zIfHoXZnVtvMxpnZXDO7qkT5sWY2w8y+MrOrywpLyVRERMKGmVX6cRhDgC+A3sBwM9s3YnsZ8B/gVOC6suJSMhURkUjWBVjknNsLrANO8JbvBI4D6gFlTm7QOVMREQkbB/Ywd/6Qwa4fMn3ZZUMg2/tzNnCs9+cPgZXAfcAzZe1EyVRERMLGgcm0Xrs06rVLK9drc8acf6jibUBzYDUQB2z1lj8GDAUWABPN7F/OubzD7VvDvCIiEjb8cM50EdDFzKKAZsDP3vLjgI1AAbADOPpIcSmZiohIJJsA9MIzCekN4C9mdhIwGngLWAp855xbfaSdaJhXRETCRxVfZuqcywcOOf4LdCvvfpRMRUQkbITqog1hn0y1Nq+IiH+F0tq8oUpr84YJrc1bPWlt3upJa/NWvX3f+c1GjK/0Pta/PATQ2rwiIhLhNMwrIiLiq9DMpbo0piTnHM8/8TAp3dszbEg6m/M2HrRN3qZcrrnk3FJlY154mvReHTk7uRurVvwQqHB9dufZJzHvkXQ+uL03jRocVVx+8gnHMHtUavFjwegB3JCaQLNj6/DB7b1Z8viZPHdlF6KjQvRTfQDnHA89eD/tEuNJ7deHjRtLH9ePJoznlPZt6NyxPfPmzgVgx44dXHDeYNomtGTEdddQWFgYjNArzDnHw6Pup32bVqSn9D2orR9/NJ5OHdrStVMHvpw3t1Td3XfezuxZMwMYrW+cc4x++AE6tU/grPRkNh3Q1k8+nkC3TifRs+spzP+ydFtXr1pJjy4nBzJcn0TSZzhcKZmW8PXSRSxZOI8pc79myEWX8cLfHy1VP/HD/3HtpYMpKCgoLls8fy6L5s9l8uwl3HTHX3nm0QcDHXalnHrisXRrdRy9HpjCe/N+5s+D2hXXffPzVs4YlVH8WL5+G58ty+avQzswcfF6ut/3Gbt272Vwt7ggtqD8Fi5YwLy5c/h2eRaXXzGc0Q+PKq7Lz8/n3nvuZPqsObw3bgK3jByBc46XX3qBjh07sXzFagoLC5kw/sOgxV8RixYuYN68uXz9/Qouu/xKHn1kVHFdfn4+991zF5kzv2Ds++O55aYbcc6xadMmRlz/R1579ZXgBV4JixctYP68uSz++gcuvexKHn/04eK6/Px8Hrjvbj7LnM3bYz/gz7eMZN/8kKKiIu6+41Z27twZrNArLJI+w2Xxw6INVULJtIQvZmZy2hn9iIqKondyKnNmTStVf2J8ay676oZSZZ9N/JBLh19LVFQUqQPPYdSTzwcy5Erre1IMs5dvpMjBjO9y6dOu6SG369WmCWvzdrBm0w7aNW/Ix4t/Yc9ex8eLf6F320O/JtRkZkyhf0qq5xilDyAzc2px3aKFC4iPb0Xjxo1pnZBAfkE+69evJ3PqFFJS0zEzUtLSmZYx9QjvEDoyM6bQr3+Kp61pA5iWmVFct2jhAlqWaGtBfj7Z69dTq1YtzjlnCN17nBbEyCtueuZU+vbztLV/ajozpu1v6+JFC2jZMp5GjRvTqnUCBQX5ZGevB+Dfr79Kn779ghV2pUTSZ7gsSqZhIG9jLifGJwDQpGks+fm7StWf3KkLPXr3LVW2Yf0vzJ09g0F9unL50AH8umVzoML1SZOGtVm98XcANm7PP+zsw5sGJPLcZM/Q9YoNvzE0KY66R0UxNCmOxiWGhkNZbk4OrRMSAYiNjWXXrv3HNadEHUBiYhtyc3LIzc0hITFxf1luTmCDrqTcnBwSSra1xGc4NzeHhISE4ucJ3nY1bNiQM88aRPO48Bhp2Cc3N7f42MXExpJf4rhuzM2lVYnj2johkY25Ofz881o+Hv8BN/zp5oDH64tI+gyHKyXTI9ize0+Z2+zcuYOtv25h7CfTuXT4tfz19hsDEFnVqxV18Eehd9smZG34jS2/7wbgoXFf079DLJ/ek0xREezcHZ7nYPbs3n3YusLCQoqKisosCxcVbWs4272n7LbedfvNjH7iaWrWDO+5l5H0GT5QxPZMzayvmd1zQNmbZhZbgX28YmYnVnlwB2jcNIY1q7MA2JizgXr165f5muMaNWbwBZdSv8HRDDh7KOvXrfV3mFVi07Z84pt62hd7TG1+zz84Maadcjyzlu+f6LBr914uf2EufR7KZOmaLazfsuug14SimNhYVmatACA7O5v6DRoU18WWqANYuTKLmNhYYmJiyVqxYn9ZTLk/rkEVExtLlrc9G7KzqV9/f1tjYmLJysoqfr4qjNp1KDExMcXHbsOG0m1tGhPDqhLHdfWqlTSNiWXJooVcfcUlJJ3ang3Z60ntGx5D25H0GS5LxCbTcHJ63xTmzp5OUVERc2ZPo3dyapmvOa1PPyZNeJ/dBQXMmDq5eJg41M38Ppcz2jXFDM5o15QZ3+cetE3fk2KYt2L/HYduG9iWK/vGYwbpHY9n8tL1gQy50lJS05mWmUFRURHTMzNISxtQXNe1WxKrV68iLy+PlVlZ1K1Tl7i4OFLS0snMmIJzjumZGaSmDzjCO4SOlNR0pk/LpKioiGnTMkhNSy+u69otiZ9KtLVO3bphN7RbUr+UNGZO97R15rRM+qfub2uXrkn89NNqNuflsWplFnXq1KV58zhWrMlmwdLvWLD0O47/QzMyZs49wjuEjkj6DJfJfHj4kV/GOszsBODf3v3/C+hpZvPw3MZm3yd+tJl1BP7POfcPM3sS6IrnjuZDgSbAB8AWoJY/4jzQKad2pWPnJNJ6nkzsH5rz/Ji3eOqR+zjl1G6kDxp8yNcMGnIRC+d9QUqP9jRpGssT/xgTiFB9tnTNryz56VfmPpxO9q87uW7MAv46tANLftrC5KXZJBzfgE2/FbCjYH+P9YUpK/j3iJ5ck9ya/81by/yV4XF+uFtSEknde9C+bWuaN4/jnbHvc+89d9EtqTtDhp7H6MeeJPmM04iOjubFl8dgZoy4cSRXDruEdonxJCf3Z/CQ8FiVqWu3JJKSunNyuwSax8Xx1n/f476/eNo6eMh5/O2xJ+jfpxfR0dG88PKrIXsBfHl06ZpE16TudD65Dc2aN+fNt/7HA/fdTddu3Tln8FAe+tvjpPfvTXR0NM+98EpYtzWSPsPhyi/LCZrZC8B7wFw8t6/JBs4EXgReA24CMoD3gelAH+AW59wzZnYr8AuQiudO59OAH4H+zrk1Jd7DAbQ/5dRyx3XhsKu56PKrfWtckGg5wepJywlWT+G6nODrY17ljddeLde2S5YsBgK/nGDL2yaVa/udq+azc/X8UmW/fTsFCK/lBFsBC51zhWZ2E9DbOVdkZrlAtHeb2c653Wb2O57eaC0zexY4CU+vtgXwuXcfiw73Rh9M+cJPTRARiSx/vPY6/njtdeXadt/avIFW3hGGeq17UK91j1Jl+5KpP/jrnOlaoIeZ1QCeAQ41LbZk2UlAC+fcbcC3eEa3fwJ6m1ltPMO/IiIS4cwq//Anf/VMn8QzzFvD+/OJZWz/I9DCzGYCS4DL8QwFfwgUAOGzRp+IiEQcvyRT59xqDtGbdM6N8v74ZYmyfVPMDnUD0o5VHpyIiIStUJ1IFt5XLouISEQJ0Vyq60xFRER8pZ6piIiEDQ3zioiI+ChEc6mSqYiIhI8aNUIzm+qcqYiIiI/Cvmd6/x0jDypLThtIv7RDXWkjIiIVNemTiUz+ZGKwwwBCd5jXL2vzBsK+dRp/2LAj2KEEhNbmrZ60Nm/1FK5r81bEvuUEA702b/v7plZ6H9+NTgPCa21eERGRKheqPVOdMxUREfGReqYiIhI2dJ2piIiIj5RMRUREAmT7j/PYnjUvYO+nZCoiImGjvB3Thm170rBtz1JlW5ZM9kNEHkqmIiISNjTMKyIi4qMQzaW6NEZERMRX6pmKiEjY0DCvn2htXhER/9LavGUL+2T6yN9fCHYIIiLV2lmDzuasQWeXKnvj9TFBiSVUe6Y6ZyoiIuKjsO+ZiohI5AjRjqmSqYiIhI9QHeYN+2T60+bIuJ9pJN3j84q3lwQ7hIB5dGC7YIcQMM2PqxPsEET8JuyTqYiIRI4Q7ZgqmYqISPjQMK+IiIiPQjSX6tIYERERX6lnKiIiYUPDvCIiIj4K0Vwa/sn0+VF/Pqise980evRND0I0IiLVTyitzVteW76fw5bv5wbs/cw5F7A3q0pm5gA+/XZjsEMJiL5tmgQ7hIDRdabVk64zrV7qRHu6iM65gPQV933nn/73zyu9jy/u6A34J+aw75mKiEjk0DlTERERH4VoLtWlMSIiIr5Sz1RERMKGhnlFRER8FKK5VMlURETCR6j2THXOVERExEfqmYqISNgI0Y6pkqmIiISPGiGaTTXMKyIi4qOw75lqbV4REf8KpbV5Q7RjGv7J9JZRTwc7BBGRau2sQWdz1qCzS5W98fqYoMQSqrN5wz6ZiohI5KgRmrlU50xFRCRymVltMxtnZnPN7KoS5VFm9oqZLTWzm8vaj5JpCc45/u+fj3PVgK7cOfxctm7eVKp+7KvPcVnyyQzr35GJ774OQP7OHTx88xUMT+/Kcw/cxt7CwmCEXmHOOR568H7aJcaT2q8PGzeWvpXdRxPGc0r7NnTu2J55cz33BNyxYwcXnDeYtgktGXHdNRSGUVu//fAlJt91DjMev5b87VtK1S8Y8wCf3jOEz/4ylM/+MpSivYW4oiKWvfs0k+48m+l/u4r8bXlBir5inHM8+/hDJHc7iUsHp7F508G3KMzbmMvVF59zUPnWX7dw2sktAxFmlYi0z3CktLUsZlbpx2EMAb4AegPDzWzfiG0KsB3oAqSaWdSR4lIyLeHHb5bw/dIFvDZpPqnnXszbLz1VXLdxwy989sHbvPrxHF76YAZvv/R3du38nY/ffZ34Nh3492cL2bu3kDmZk4LYgvJbuGAB8+bO4dvlWVx+xXBGPzyquC4/P59777mT6bPm8N64CdwycgTOOV5+6QU6duzE8hWrKSwsZML4D4MWf0VsWf0teVlfcebj4zmx19l8P+Ffpeq3b1hD+t/eY8BjHzLgsQ+pEVWTn7/8jKI9uxn45Mc079afHya9GZzgK+irJQtZsuBLMr/8hqEXDeMffx9dqv7jD/7H1ZecS0FBwUGvffTBe9i69ddAheqzSPoMR1Jby2JW+cdhdAEWOef2AuuAE7zlfYDPnXNFwLCy4lIyLWHxnBmc2rMPUVFRdD29H0vmziyuO6p2He547AXq1m/A7oIC6tStR1TNaJbMmUmXXsmYGV16JZd6TSjLzJhC/5RUoqKiSE0fQGbm1OK6RQsXEB/fisaNG9M6IYH8gnzWr19P5tQppKSmY2akpKUzLWPqEd4hdOR+O4+Y9t2xGlHEntyTnO++LFW/d3c+NWpGlyr7ZWEmrftfhJnRuv9FtBv0x0CGXGmfz8ykV59+REVFcUa/VL6YOa1U/Ynxrbj86hsOet3MzM+oX68+TWNiAxWqzyLpMxxJbS2LHfDfus8nMOfRK8v1OIyGQLb352zgWO/PjYEhZjYPGOlNtoelCUgl/Jq3kU49PHdiP7ZxU3YX5BfXNTy2EQ2PbcT7b/yTN555hKtu+yu1ah3FlryNNDuxFQDNT2zNjE8+CErsFZWbk0Pffv0BiI2NZdeuXcV1OTk5tE5ILH6emNiG3JwccnNzSEhMLC7737vvBDboSsrftpmmJyUBULthY/bu3t8r27s7n4LffmXOP27nt5y1JKRcTKt+F7BzSw5r503ml8XTqd+0OV2uvC9Y4VdI3sZcevZOBqBJ01gK8neVqj/l1K4c16gJE8a9W1z22/ZtvPL8U7z27gSmZ0wOaLy+iKTPcCS1taJO6D2EE3oPKde2k25IOlTxNqA5sBqIA7Z6y3cB3wHXAx+aWaJzbsXh9q2e6RHs2bPnoLILrr6J1yfP56O3x/Dbtq2l6vbuLaTIFQUouqq1Z/fuw9YVFhZSVFRUZlm4KCrcf1wLd+dz4ulnk3TNQ5x+y3P8+NlbbFu/isICz5dV6qh3aNq2K1+NfTZY4fpk9yE+wwd64uH7uPG2u6lfv0EAIvKfSPoMR1JbD1TDKv84jEVAF+850WbAz97yZcBW59we4DfKyJdBS6Zm9qaZlXtMyTur6kQ/hsSxjZuyfs1qADZvzKFuvXrFdd8vXcCn494C4A8ntKRV25PJ/vknjmvclPVrVgGwfu1qjm3U1J8hVpmY2FhWZnn+yMrOzqZ+g/1fpLEl6gBWrswiJjaWmJhYslas2F8WJkOCtRs24rectQDkb91EdJ39x7VW3QZ0GDKC6LoNqB8TR0yHHmzPXs1RDY6l5RnnUvOoOrQ47Sy2r18VrPArpHHTGNasygIgNyebevXql/mab5YtZvT9d5HeqxO5G7JJ79WJnTt2+DtUn0XSZziS2loWP0xAmgD0wjMJ6Q3gL2Z2EvAecIWZLQE2OOd+OFJc6pmW0KVXMkvnzaKoqIil82bRpVe/4rpaR9Xmo7fHsGfPbrZv3cLqFd/RrEU8nXv1ZfGcGTjnWDpvFl1P73eEdwgdKanpTMvMoKioiOmZGaSlDSiu69otidWrV5GXl8fKrCzq1qlLXFwcKWnpZGZMwTnH9MwMUtMHHOEdQkdMh57kfjcfV1RE7ndfEtuhZ3Hdr2t/ZNrfhlNYsIuC334l78elHBOXSEz77qyd+ylFewtZt2Aqx7RoG8QWlF/vvinMmTWdoqIi5syazhn9Ust8zUeZ85gyZxlT5iwj5vg/MGXOslJ/SIaqSPoMR1JbA805l++cO98519M596Zz7mHn3PfOuR3OuUHOuc7OuYOX2jtAwM6ZmtlwIAnohKcbnQ+MNrOOwP855/5hZk8CXQEHDAWaAB8AW4Bah9rvzReW/WWxz4ALLmfgBVcctr7NyZ1pe0oX/jgwicaxzbjv6dd4/emHaHNKZ05PPZuup/fjmrN6UrtOXW6452/UP7oh51zyRx6/6wauGtCNTt170yvlrHLHE0zdkpJI6t6D9m1b07x5HO+MfZ9777mLbkndGTL0PEY/9iTJZ5xGdHQ0L748BjNjxI0juXLYJbRLjCc5uT+DhwwNdjPK5bj4DjRqdTKf3jOYOsfF0PPGJ/j6vec5Lr4Dzbv25/iOp/Pp3edSo2Yt2g26mgaxLUhMv4z5r97PpD8PpMHxLel+3SPBbka5dOzcjU5dutG/eweOb9acf455mycevo+OnbsxYNDgYIdXpSLpMxyotr4+5lXeeO3VALSo8kJ0ASTMOReYN/Ik097ANXgSZAPgTeB9YDqeaci3OOeeMbNbgV+AVOBDYBrwI9DfObfGuz8H8Om3B19HVx31bdMk2CEEzBVvLwl2CAHz6MB2wQ4hYJofVyfYIUgVqhPtyWrOuYCkt33f+UNeW1TpfYy/pivgn5gDPcw703my90ZgPTDbObcb+B1Pb7SWmT0LnImn19wCz3U+hXhOEouISATzw3WmVSLQyfTAqYUln58EtHDO3QZ8CxjwE9DbzGrjGf4VEREJOaF0nemPQAszmwksAS4HbsIzzFsAHHEmlYiIVH8Rf9cY59ybJX6+4YC6fdPMBh7ipR39GJaIiISREM2lIdUzFREROaIaIZpNdZ2piIiIj9QzFRGRsBGa/VIlUxERCSOhOgFJw7wiIiI+Us9URETCxhHu/hJUYZ9Mnx918PrD3fum0aNvehCiERGpfiZ9MpHJn0wMdhhA+Yd5f1kyi/VLZ/k5mv0CtjZvVdPavNWX1uatnrQ2b/USrLV5h729rNL7eHtYJ6B6rM0rIiJS7YT9MK+IiESOUJ3Nq2QqIiJhI1QnIGmYV0RExEfqmYqISNjQMK+IiIiPQjOVKpmKiEgY0V1jREREqin1TEVEJGyEaMdUyVRERMKHJiD5idbmFRHxr9BamzfYERxa2CfTW0Y9HewQRESqtbMGnc1Zg84uVfbG62OCFE1oCvtkKiIikSNUZ/MqmYqISNgI0VyqS2NERER8FfY902YNdY/E6ub5IR2CHULA9H10erBDCJivRg8IdghSDWg2r4iIiI/KO5z608IZ/LRopj9DKUXJVEREwkZ5e6bxSf2IT+pXquz7jPf9ERKgc6YiIiI+U89URETCRqjeHFzJVEREwoaSqYiIiI80m9dPHrr7poPK+qScSd/UgUGIRkSk+gmltXlDVdgn0wef+GewQxARqdZCaW1eDfOKiIj4KERHeXVpjIiIiK/UMxURkbChu8aIiIj4KFSHU5VMRUQkbIRoxzRkk7yIiEjYUM9URETChs6ZioiI+ChEc6mSqYiIhI9QXbRB50xFRER8FPY9U63NKyLiX6G0Nm95z5n+OG8aP345w8/R7GfOuYC9WVUyMwfw9brfgh1KQCTE1g92CAHz647dwQ4hYPo+Oj3YIQTMV6MHBDsEqUJ1oj1JzTkXkIHXfd/5D2dkVXofD6QmAP6JWcO8IiIiPgr7YV4REYkcmoAUBpxzvPDUI5zZ62SuOn8Am/M2HbTN5k0buWHYkOLn27f+yk1XXUi/Lq0ZOfx8ftu+LZAhV5pzjocevJ92ifGk9uvDxo0bS9V/NGE8p7RvQ+eO7Zk3dy4AO3bs4ILzBtM2oSUjrruGwsLCYIReYc45nvzbKHp0bMPQgSnkbSrd1k8nfsTpXTvQt0cnFs6fB8Av635m6MAUTm17Irfc8Ed27w6foedb0lqTedcZvHV9EsfVq1Vc3r7Z0Xz659OLH9Pv6cPVZ5xI3HF1eH9kDz6/ry9vX59EkwZHBTH68ou0z3CktLUs5sN//qRkWsI3yxaxdNGXfDJ7GedecBkvP/NoqfpJ499jxOVD2F2QX1z2xsvPEp/QhilfLqdjl+68/fpLgQ67UhYuWMC8uXP4dnkWl18xnNEPjyquy8/P59577mT6rDm8N24Ct4wcgXOOl196gY4dO7F8xWoKCwuZMP7DoMVfEUsXL2Th/HnMWfI9F156OU8//khxXX5+Po88cA8fTZnJG++8z19uvwnnHH978F7OHnIe879eQZ26dZgw7n9BbEH5nRLXkM4tjiXtqdmMX7yem1JbF9d9t347Zz79RfHjxw2/kfndRq5Pjmfi0g30Hj2T+au3cOXpLYLYgvKLpM9wJLW1LDWs8g+/xuXf3YeXubOm0bN3MlFRUfTqm8q82aUnh7Ro2YqLh19XqmzF8u9IHTiY6OhoBg6+kC8/D9zsMV9kZkyhf0oqUVFRpKYPIDNzanHdooULiI9vRePGjWmdkEB+QT7r168nc+oUUlLTMTNS0tKZljH1CO8QOmZOy+CM5P5ERUWRnJLGrOmZxXXLFi+kRct4GjVqTHwrT1s3ZK9n+XffcM6Q86lVqxbnDLmAz2eGx0Sh3omNmZO1mSIHn/+YR6+ERofcrker4/hly05+3ryTj5duYPzi9URHGc7B7/nh0YOJpM9wJLU1XCmZlpC3MZcW8Z7ZXo2bxlCQv6tUfYdOXejeq2+psviENnz28Th27drJx+P+y5bNBw8Nh6LcnBxaJyQCEBsby65d+9uaU6IOIDGxDbk5OeTm5pCQmLi/LDcnsEFX0qaNOcS38hzXpjGx5OfvH1nYuDG3uA6gVetENm3MJbFNOz587112/P47H74/lry8jQftNxQ1bnAUa/J2ALDptwJqR0cdcrvrkuN5afoqABas3sLO3XuZ90A/Lu4Rxzvzfg5YvL6IpM9wJLW1LOqZhqE9e8o+T3btyDvIXr+OC9NPY9uvW6hTt14AIqt6e45wTrCwsJCioqIyy8LFkc5/7t3radeDf3uCaRmfcWa/06hRw6gbpsc1Ourgf+I9Wzdi1cYd/LpjT3HZ3iJHz4en8+Gi9Yzo3yqQIVaZSPoMR1JbD2RmlX74k5JpCY2bxrB2tecapo05G6hbv0GZrzEzHnv+NSbOXkZy+iCO/0Nzf4dZJWJiY1mZtQKA7Oxs6jfY39bYEnUAK1dmERMbS0xMLFkrVuwvi4kNbNCV1KRpLKtXeY5rzoZs6tfff81u06YxxXUAP61aSZOmMdSpW5e33vuI2Qu+5tQuSTRrHhfwuCsj77cCTmzsSfxNjz6KHQUHD9n2O6kpc1bkFT+/9+y21K9dkz17HRnf5tCqSXj84RBJn+FIamtZ1DMNA6f16c+8z2dQVFTEl59Pp1eflDJfM+G9t/nHE6NwzjH9s4n0P/OcAETqu5TUdKZlZlBUVMT0zAzS0vZfUN+1WxKrV68iLy+PlVlZ1K1Tl7i4OFLS0snMmOJpa2YGqenhcRF+3/6pzJ4xjaKiImbPmEZySlpxXacu3Vj702o2b85j9aos6tSpS7PmcTz75KP857VXKCoqYsrkiQw8e3DwGlABn6/wnCc1g14Jjfm8RNLcp3diYxau3lL8PO64uvRt2wSA5HZNWZ4dHguhRNJnOJLaGq5C9jpTM+sOnOucu9fMGgMvOucuOnC7iweeUe59nn/ZcM6/7OrD1p/cqSunnNqNs3p3JPb4Zvz9lbd4ZvRfOfnUbqQOPPcw+7yKW6+9lPQeJ9En5UwGDb243PEEU7ekJJK696B929Y0bx7HO2Pf59577qJbUneGDD2P0Y89SfIZpxEdHc2LL4/BzBhx40iuHHYJ7RLjSU7uz+AhQ4PdjHI5tUs3OndL4rRT2/GHZnG8+p//8sgDf6FzlyTOOncIf33oMc5N60PN6Gieev5lzIyRt93JVZeez2uvvMBFl11Jj169g92Mcvl63TaW/byVjDvPYMO2fG55exl3npnIV+u2MfXbXFo1rUfebwXs2L23+DXPTlnBkxedws2prflhw2/cO+7bILag/CLpMxyotr4+5lXeeO3VALSo8kL1rjEhu5ygeQa4M4A04EYg2zn3YYl6LSdYTWk5wepJywlWL8FaTvDZ2asrvY/bzogHImw5QefJ8l8AvYFBwOTgRiQiInJoITvM6/UO8C9glXMuv6yNRUSketNygpXgnMsC6uFJqiIiEuHMKv849P6stpmNM7O5ZnbVIeovNLN7yoorpJOp13Lgh2AHISIiwVcDq/TjMIaw/5TicDMrHrE1s2jggfLEFerDvCIiIof1xUf/Zc7HY33ZRRdggnNur5mtA04A9s1yug6YUp6dhHwydc4ND3YMIiISGg4cru09+FJ6D760XK/9U6+WhypuCGR7f84GjvW8jzUAkoEXge5l7Tvkk6mIiMg+fpiAtA1ojqc3Ggds9ZbfDjwLRJdnJ0qmIiISyRYBXcxsDtAM2HenhzZ4eqbHAEeb2QLn3GEvDFcyFRGRsFGj6pdAmgC8DVyI51LMv5jZOOfcpQBm1hfocaRECkqmIiISRqo6l3rXMDj/CPUzgZll7Sfsk+lDd990UFmflDPpmzowCNGIiFQ/kz6ZyORPJgY7DMAvPdMqEbJr85ZFa/NWX1qbt3rS2rzVS7DW5n1t/tpK7+Oa7i0A/8Qc9j1TERGJHCHaMVUyFRGR8BGqy/YpmYqISNiwEO2ahmqSFxERCRvqmYqISNgIzX6pkqmIiISRUL00RsO8IiIiPlLPVEREwkZo9kuVTEVEJIyE6CivkqmIiISPUL00JuyTqdbmFRHxr1Bam7e8Fs/KYMnsjIC9n9bmDRNam7d60tq8Eq6CtTbv2CW/VHofF3duDmhtXhERiXAa5hUREfFRaKZSXWcqIiLis7DvmUZHherfKVVrVe7vwQ4hYFrFRM754Ug6j9jvmdnBDiFgpt9+RrBDqLY0zCsiIuKjUB1ODdW4REREwoZ6piIiEjY0zCsiIuKj0EylSqYiIhJGQrRjqnOmIiIivgr7nukDd448qCw5dSDJaVqbV0SkKoTS2rw1QnSgN+zX5l2eHRnXX+4tCs/jVBmRdJ1pJNF1ptVLsNbmnfhNTqX3cfbJsYDW5hURkQhnIdoz1TlTERERH6lnKiIiYSNUZ/MqmYqISNgI1QlISqYiIlLtfDlzCvNnTg3Y+ymZiohI2CjvMG/P5HR6JqeXKvts3Ft+iMhDyVRERMKGzpmKiIj4SJfGiIiIVFNh3zPVcoIiIv4VUssJhmbHVMsJhgstJyjhTssJVi/BWk5w2vK8Su+jf7vGgH9i1jCviIiIj8J+mFdERCKHZvOKiIj4SLN5w4BzjueffJjUHh24fGg6m/M2HrRN3qZcrr10cKmyMS88w4DTO3FOvyRWZf0QoGh945zjn089woDTTmb4eQPYnLfpoG3yNm3k+suGFD/P37WLW6+9jOQuCVx0Vh/WrM4KZMiV5pzjoQfvp11iPKn9+rBxY+nj+tGE8ZzSvg2dO7Zn3ty5AOzYsYMLzhtM24SWjLjuGgoLC4MReoVFWlt/nvI6S564mG9fuZk9v/9aqn7H+hV8/Y/rWDT6PHLmjve8pqiINRNfYMnjF/HNizey+7fNwQi9wiLpuJalhlX+4de4/Lv78PL10kUsXfgln835iiEXDuOFpx8tVf/Jh+9x3aVDKCjILy5bPH8uixfMZdKsxYy84z6efXRUgKOunG+8bZ30+TLOvfAyXnqmdFsnjX+PG4aVbuvHH7xLw2OOZdrCH7nsqht48YDfT6hauGAB8+bO4dvlWVx+xXBGPzyquC4/P59777mT6bPm8N64CdwycgTOOV5+6QU6duzE8hWrKSwsZML4D4MWf0VEUlt/X7ec39Z+w6l3vkPTLgNYl/Hv4jrnHKvGPUnCpQ/Q6fb/kD17LHt2bCVvWSZFhbs59e6xNDq5D+tn/DeILSi/SDqu4UrJtIQvZmZy2hn9iIqK4vTkVObOml6qvkV8Ky696vpSZVM+Gc8lV15LVFQUqWeew4NPPB/IkCttzqxp9Dwj2dPWvge39YSWrbhk+HWlyurUqUt+fj57du9m584d1KlTN5AhV1pmxhT6p6R6jlH6ADIz96/XuWjhAuLjW9G4cWNaJySQX5DP+vXryZw6hZTUdMyMlLR0pmUEbo1PX0RSW7euWMAxCV2xGlEc06Y7W7MWFdftzM6idqNm1GncnJp16nPyTa8SdVRdNn8zk9jThmJmxPY6j+b9Lg9eAyogko5rWcyH//xJybSEvE25nBjfGoAmTWPIz99Vqv7kTl3o2btvqbLs9euY9/kMBvXtyhXnDeDXLZWfth1IeZtyObFlAgCNm8ZQcIi29ji9b6mygYMvYMX339CzfXOefOgeRtx2T6DC9UluTg6tExIBiI2NZdeu/W3NKVEHkJjYhtycHHJzc0hITNxflpsT2KArKZLauue3LdRuHAdAdIPjKNpTUFxXsHUjrmgv375yM8uevoLNX0+nRs1aFGzNJW/pVJY+NYwf/+8+igp3Byv8Comk41oWs8o//EnJ9Aj27C77H9qunTvZ+usWxk6cziVXXsv9f/5TACKrenv2lN3WN195ns7dT+OLr9fw4OPP8/BfbvV/YH5wpONaWFhIUVFRmWXhIpLa6vbuKf557+5d/Pbzd7Q67w7a/fHvbPjiA3bmrqFot+e0xSm3vMbR8Z1YO+mlYIXrk0g6rgcyHx7+FPLJ1MyGB+q9GjeJYc3qlQBszNlAvfoNynzNcY0ac+75l1C/wdEMOHso69et9XeYVaJxkxjW/OSZQFTeti5ZOI9zz7+UuvXqM2joxSz/9it/h1klYmJjWZm1AoDs7GzqN9jf1tgSdQArV2YRExtLTEwsWStW7C+LiQ1s0JUUSW2NbnAc+XnrANi9PY+oo/afdoiudwwNW3ehTpMTOOqYpjRsfSq7cn8iut4xNO12FlG1atOkczo7c34KVvgVEknHNVyFdDI1s17A6WZ2ZSDe7/S+KcydPZ2ioiLmzp7O6ckpZb7mtDP6MWnCOHYXFDBj6uTiYeJQ16tPf+bNnkFRURHzPp9Or75lt7V1YjumfPIhhYWFzMyYTLO4FgGI1HcpqelMy8ygqKiI6ZkZpKUNKK7r2i2J1atXkZeXx8qsLOrWqUtcXBwpaelkZkzBOcf0zAxS0wcc4R1CRyS19ZjEJLZmLcIVFbEtaxHHJCYV1zVo0Z7f1y2nYOtG9vy+le2rllH3+NY0TOjKpiUZuL2FbP56OvWaJQSxBeUXSce1LDXMKv3wp5C5ztTMGgJjgSbAB865x7xVR+zqnT+gd7nf48JhV3HhsKsPW3/KqV3p2DmJ9NNOIfYPzXju1bd46pG/0rFzV9LOGnzI15w15EIWzvuC1J4daNI0lsf/8Wq54wmmk0/tyimduzHw9I7EHt+Mp//1Fk//7a+ccmo3Us8695CvuWbkn7nvthtISWpLzPHN+NvTLwc46srplpREUvcetG/bmubN43hn7Pvce89ddEvqzpCh5zH6sSdJPuM0oqOjefHlMZgZI24cyZXDLqFdYjzJyf0ZPGRosJtRLpHU1vpx7WhwwkksfepSajVsSpthD7F28svUjzuJRif3IS7tj3z3yk0452jW9xLqNInj+N4XsnLs31j82AXUadqC1hfdF+xmlEugjuvrY17ljddC+zusvCnx82mfMmfGFL/GUlLIrM1rZncAG4G3gA+A251za46wvdbmraa0Nm/1pLV5q5dgrc07L+vXsjY9rJ4JxwLVf23e1sCNwAygJaABfhERKS1EZyCFzDAvsAbIcM59YGYXAt8EOR4REQkxWk6wbK8CI8xsOnCSc25HsAMSEZHQEqrXmYZMz9Q5twUoe0qpiIhIiAmZZCoiIlKW0BzkVTIVEZFwEqLZVMlURETChiYgiYiIVFPqmYqISNjw96zcylIyFRGRsBGiuTT8k+kDd448qCw5dSDJaQODEI2ISPUz6ZOJTP5kYrDDCGkhszZvRWlt3upLa/NWT1qbt3oJ1tq8i9dsq/Q+upzYEPBPzGHfMxURkcih2bwiIiI+qurlBM2stpmNM7O5ZnZVifJ6ZpZhZl+Z2RizI099UjIVEZFINgT4AugNDDezfSO25+G5i1knwAG9jrQTJVMREQkbfrgDWxdgkXNuL7AOOMFbngW86zwTi3LKikvnTEVEJHwckBXHvfNvPvzvm77ssSGQ7f05GzgWwDk3zzyG4emVPnKknSiZiohI2DhwAtIFl13NBZddXa7XdjyhwaGKtwHNgdVAHLAVwHuO9AkgBhjsnNtzpH1rmFdERCLZIqCLmUUBzYCfveVDvP8f7pz7raydKJmKiEjY8MPNwSfgGcb9AngD+IuZnQQkAf2BGWY208xOP1JcGuYVEZGwUdVXmTrn8oHzD1F1j/dRLuqZioiI+Cjse6Zam1dExL9Cam3e0FwASWvzhgutzSvhTmvzVi/BWpv3218q/53fobnnu0Vr84qISEQL1fuZ6pypiIiIj9QzFRGRsBGiHdPwT6axx9QOdggBMe7rX4IdQsDonGn1NO223sEOIWAueXNRsEOovkI0m2qYV0RExEdh3zMVEZHIEao3B1cyFRGRsBGqs3mVTEVEJGyEaC7VOVMRERFfhX3P9NY/3XBQWfrAszjzrLODEI2ISPWz4avZ5Hz1ebDD8Chn13T61MnMmDrZv7GUEPbLCf66szDYoQREJF0aM6xLi2CHIH4Qrt81lXHpfxYHOwS/m3BtNyDwywmuyNlZ6X0kxtYFtJygiIhEuFCdgKRzpiIiIj5Sz1RERMJGiHZMlUxFRCSMhGg21TCviIiIj9QzFRGRsKHlBEVERHwUqrN5lUxFRCRshGgu1TlTERERX6lnKiIi4SNEu6Zhn0y1Nq+IiH+F0tq8moDkJ8+9+EqwQxARqdaO73gGx3c8o1TZ2s8nBCWWUJ2ApHOmIiIiPgr7nqmIiESOEO2YKpmKiEj40DBvGHDOMfqhB+h0UgJnpSWzaePGUvWffDSBbh1PomeXU5j/5dxSdatXraRH55MDGa5PnHNM+NfT/GVob54acSHbt+SVqp/05ovcMSiJO8/uwYxx/wfA9i15PD3yUu4YlMTTIy896DWhyjnHQw/eT7vEeFL79WHjAcf1ownjOaV9Gzp3bM+8uZ7jumPHDi44bzBtE1oy4rprKCwMj/vmRmJbT2rTirT+fQ/Z1o7t29KlYwe+nLe/rReeN4R2ifGMuD682vr9hJeZ+pdz+fyp6yjYvqVU/eI3RpFx33lk3n8+mfefT9HeQgq2b+GLp0fw2R1n8sXTIw56jVQtJdMSFi9cwPwv57L4mx+4dNiVPD764eK6/Px8Hrjvbj6bNpu3//cBf75lZPHNjouKirj7z7eyc2flb1obaD99t4yVXy9i9PszOe2s85n42nPFdZtz1vP5R+/y8NhMHnz7Uz5+7Tnyd+4gc+zrtOnck6cmzqdN5x5kjn09eA2ogIULFjBv7hy+XZ7F5VcMZ/TDo4rr8vPzufeeO5k+aw7vjZvALSNH4Jzj5ZdeoGPHTixfsZrCwkImjP8waPFXRES1deECvpw3l2++X8GwK65k9COjiuvy8/O57y93MW3WF/xv3HhuGXkjzjleeekFTunYke9/XMXewr18FCZt/fWn79iy8mtSR3/ICacN4oeJr5aq/23DT/R/aCwpj4wj5ZFx1IiqycrM/9KkTVfSn5pM4zZdWJn53yBFX9WsXI+MzyZx9603lnr4k5JpCdMzp9K3XwpRUVH0T01nxrSM4rrFixbQMj6eRo0b06p1AgX5+WSvXw/Av197lT7J/YIVdqV8N382JyWdTo2oKNr36Mt3C/ZPe69Vuw5/fPBZ6tRrwJ6CAo6qU5eomjWpVbsuBbt2sLdwD7vzd1Grdt0gtqD8MjOm0D8llaioKFLTB5CZObW4btHCBcTHt6Jx48a0TkggvyCf9evXkzl1Cimp6ZgZKWnpTMuYeoR3CB0R1dapU+jX3/PvNTVtANMy9/97Pait+d62ZkwlNc3b1tS0Ur+fULbxu3k0PSkJqxFFTPvT2Pjd/FL1RXsKqFEzulRZzVp1KCzYidtbyN7d+dSsVSeQIfuNWfkeaWcO4snnXy718Ccl0xJyc3NpnZAIQExsLPm7dhXXbczNpVXrxOLnrRMS2Zibw88/r+XjCR9ww59uDni8vti+eRMxcfEANGzUhD0F+cV1DY45joRO3Zjy9r+465we9BlyGdG1jiLloquY88k4burfgS8mvk/KRVcFK/wKyc3JKT6usbGx7CpxXHNK1AEkJrYhNyeH3NwcEhIT95fl5gQ26EqKqLbm5pBwmLZ6fg8Jxc8TvO0q+ftJaNOG3NzcwAZdSQXbN1MvpgUARzVsxN49BcV1e3fnU7D9V7588Q4y77+An2aOAyA+5WJ+nvMJn9zUl5+/mEh8ysVBib2qla9feuiHPymZHsHuPbsPW1dYWEhRURF33XYzo594mpo1w3suV+GePQeVDbj8BkaPm8W09/7Nju3bGPfCY/S/6Cqem/oV/S64kg9eeiIIkfpuz+6yj2tZZeFCbfUo3Fu92lpUuP/f697d+ZzQaxBdrhpFj5ueIWvKW2xfv4rvxv2T+P4XM/C5acT3u5DvP3ghiBFXfyGfTM1seKDeKyYmhpVZKwDYkJ1N/foNiuuaxsSwauWK4uerV62kaWwsSxYv5OrLLyGpU3s2ZK8ntc9pgQrXJ0c3akLuutUAbN2US+269YrrVn69mNkT3gWgafMWnJDYno2/rGHl14voffaFHFW7Dr3PvYisZQuDEntFxcTGFh/X7Oxs6jfYf1xjS9QBrFyZRUxsLDExsWStWLG/LCY2sEFXUkS1NSaWrMO01fN7yCp+vmplFrExsaV+P6uysoiJiQls0JV01NGN2JG7FoD8rZuoWeIUS3TdBrQ7dwTRdetTv2kcTdv35LcNP7Fl5TJa9D6HmkfVpkXvc9mctSxI0Vet8g7zHurhTyGdTM2sF3C6mV0ZiPfrl5LGzOmZFBUVMXN6Jv1T04vrunRN4qfVq9mcl8eqlVnUqVuX5s3jWLEmmwXLvmPBsu84/g/NyJg19wjvEDradz+D7xd8QVFREd8v+JwOPfoU10XXOopp7/2bwj27+X3br6zLWk5M3In8oWUCCzInUrR3LwszP6FZq8QjvEPoSElNZ1pmBkVFRUzPzCAtbUBxXdduSaxevYq8vDxWZmVRt05d4uLiSElLJzNjCs45pmdmkJo+4AjvEDoiqq1p6Uyf5vn3On1aBqlp+/+9HqqtzePiSElNI2Oqt63TMkv9fkJZ0/Y92fj9AlxRERu/n09Mh57FdVt//pFZj11FYcEuCn7byuYVS2jYPIEGf4hn/YKpuKK9rF+YwdHNWgWxBVXHfPjPn0JmbNLMPnPODTCzWOBx59xwb9XaI70uuVf3cr/HlVdfw/A/XnvY+i7dkujarTudO7ShWfPmvPn2/3jgvrvp2q075wweykN/e5z0fr2Jjo7muRdfwUL1gqdyaNm+E/EdTuW+8/twXMzxXD/6Jcb98zFatu9El35n0qFnX/56QTK16tTl4tsepG6Dhpx/83288dDtfPqflzi+ZQJXP/hMsJtRLt2Skkjq3oP2bVvTvHkc74x9n3vvuYtuSd0ZMvQ8Rj/2JMlnnEZ0dDQvvjwGM2PEjSO5ctgltEuMJzm5P4OHDA12M8olotraLYluSd3p0C6B5s3jePvd97jP29bBQ8/jb48+Qb8zenna+sqrmBk33DiSK4ddykltWtE3uR/nhklbj23ZnuPiO5Bx3xDqHBdD0vWP8+24f3Bsyw4069KP2FN6kXHfEGrUrEWbgcOpH9uCDuffwuI3RrHi0zdpcHw8Xa4eVeb7rJn9IWtmT/B3c3wTol+7tu/yjmA7QjI93PYO4Ned4XGdmK/Gff1LsEMImGFdWgQ7BPGDUPmuCYRL/7M42CH43YRruwHgnAtIetv3nb9h2+HPjZfl+Ia1AP/EHDI9UxERkbKEaMc0pJLpCWbWGOgc7EBERCQ0herZtVBKpjuBicAeYHWQYxERESm3UEqmec658JhaJyIiQaGbg4uIiPgqNHNp6CRT9UpFRKQsIZpLQ3vRBhERkXAQMj1TERGRsmg2r4iIiI9CdQKShnlFRER8FPY901v/dMNBZekDz+LMs84OQjQiItXPhq9mk/PV58EOAyj/MO9nkyfy2eRJ/g2mhJBZm7eitDZv9aW1eauncP2uqQytzVv19n3nb9lR+e/84+p5+o9am1dERCJaqE5A0jlTERERH6lnKiIiYUOzeauRN18fE+wQAmb2hP8GO4SAeH3Mq8EOIWAiqq2vRU5b18z+MNghBIRZ5R/+pGRaCf9547VghxAwsye8G+wQAuKNCPrSjay2Rs4fvmtmTwh2CAFhPjz8SclURETERzpnKiIi4SM0T5kqmYqISPjQBCQREZFqqlom008nTfTr9hVVkf1XNJavPs/06/b+3HdFt5/0ScV+NxXd3p/79uf2/mxnZfavth7ahq9mV2jfFd2+oiqyf3/HUhGazesnt/7phoMer73yUoX2McXP6zdWZP8VjeWrL6b5dXt/7rui20+u4BddRbf35779ub0/21mZ/Vd4+wr8AVmRbSujovuvyPYVXdvW32vhVmT/q6e/x9L/G13qESyhOps37M+ZPvfiKweVHWrxexERqZy6jY7n1CvuK1W29vMJwQkmNE+Zhn/PVEREJNiUTEVEJGyYD/8dcn9mtc1snJnNNbOryio/bFzhelukfbfjERGR4An0LdiqQsmYzewSIAb4JzAd6O+cKzxc+eH2qZ6piIhEsi7AIufcXmAdcEIZ5YcUthOQAvXXkIiIBJ8fv/MbAtnen7OBY8soPyT1TEVEJJJtA5p7f44DtpZRfkhKpiIiEskWAV3MLApoBvxcRvkhhe0EJBEREV+ZWW3gbTwJ8194zo2OA1aXLHfOvXnE/SiZioiI+EbDvCIiIj5SMhUREfGRkqmUm5l1N7Nq/ZkxswvNrGGw4xCR8FKtvxgDwcyigx1DIJhZG2AkkGrm75sZBYd3IkIXYLiZNQh2PP5QXdslEmxKpj4ws+bAy2Z2g5kleadQVztmVtM59yPwJvBn4KLgRlT1vG3MB14CLgQe9SbXasPM+gJ/j5Q/AEUCScm0ksysLvA68BlwInA9ZSw3Fa6861TGAg8CXwF3mdm5QQ6rSnnb2Bh4H/gvnou176hmCXUOsBLYG+xA/M3M2pnZ8d5jWm2ZWaKZdTKz9sGOJdIpmVaSc24nnsWPjwGSgGnsXy2jWjjg/GgzIMs5dycwArjXzK4I9974AfHvBhY7514ELgY6Av8ws6ODElwVMbMzzeyvzrk9eP7gGxHsmAKgI/AQcKmZ1Q92MH5UA7gBz6mJ1sEOJpIpmVaQmf3BzG43sxQgDzgH+ABYC4yoLuekzKyGc67IzJqYWVugFlDTzJo75+YDM4A0b3lY8rZxr5nFmtn5QCugkZmd65wrAKbg+QMpbM8Re/9Y+BE4zszuAXKANDOLCW5k/lHifP53eP5NLnfO/R7EkPyixB+6m4CFwHzn3MoghhTxtGhDBZhZE+BFYD2e1TGOxfNhrgWcB1zvnFsevAirlvcL9308X0xzgFOA44EteBLpuc65FcGL0HfeYcD/AiuAb/EkzmRgDTAUGOSc+yFoAVYhM+uK55TEvcD9zrlJwY2oaplZlPcOH/uexzjncoMZk7+Z2VHOuQIzM+ec2/f/YMcViZRMK8DMbgOudM51MrMWeBJKE+AxoKFzbmsw46sKJf8xetu7A08ifQx4C88w4SdAoXNuVdAC9cG+Xrf357PxDAm+iqd9nwH1gTfwtDHsv4wP/II1s154hgZfd87NDFpgVahEMqkB3I7nLh+fOee2BDm0KnXAv89+wHDgVufclgP/mJDA0jBvOZhZfTNr4Jx7FlhjZo8759biOU/6O3B0dUikAN4vpPpm1gjPBKsawJXAs0Bf7yMnjBNpbe/w9XFm1gmYBCwG7gBuxHPbpXZ4fhVhn0jB05ADns8BXgZ+DU5EVa9EGyfg+cz2wTMjuzGUGv4NayWPpXNuOjAXGGVmx3lPWeg7PUjUMy2Dme1b9PgroKZz7iozexio75y73XtJxWHvvh4uvOfTluE5//IentsPTQHGAA/jOdfWHbgjXJOMmV0PxACv4RnaXYdnWPdy4E9AGyAe+KNzLidYcUrlmdkDwKfA/Xj+SMpwzs0NblRVy8wuwHP64Urv85uABDxD99uCGlwE018xR+D9K+9s4H3n3LXAZjN72zn3AFBkZo2rQyL1mg6cDzwKTHLODQVS8QwHfoBnMYPHwjWRAjjn/gXUAe4GZjrnLsdzqcjLwGTgB+DPSqThxzxqAvnAk3iO57+By72jLNWGc+59IMfMnvEWfQV0A3R5TBApmR6GmR0PPIXnvGhDAOfcHcAe75DvHc65vGDGWJWccwuA+4CawL7hiuvxzFY+0Tl3lXPu+2DF54t9Q3zeSyTq4vnSaeCdvDEKz01/r3POvVhdJhtFGudRCPwHmA/UwzPkO945tzmYsVWlfcO4zrm7gaPMbDIwCvhHdeuBhxsN8x6C97rC14GleHpkyd7n3+FJOKc55zYFL8KqYWbDgF+Ab/BMvvk/YDueHupY59xUMzsWqOec+yV4kfrOe0z/jeeGv52B2sCHwP95zzU1qQ7HVIqPdSHQPNxnmx/KAZOQHgVOcc4N8j4vnlwngaWe6QG8f/kNBaLwDP/dhOecaRrQGjivOnzpentpW4AewFggE8/5wrrAeOBaM0t1zv1aDRLpvmNqeI7pnXjOl14FDAOoDsdUPJxz251zO6tjIoXiSYL7eqj3AqvN7AXvcyXSIFHP9BDMrCmeKedb8EzGaYJngsoD1eEC8BILMpwAdMCzUswdwDw87dyIp+3LnHMbghdp1TngmI4FYvH8ofR359y6IIYmUikH9FDbOM/62RIkSqaH4V2wYAhQBLyN55rD3cGNqup4F6D4FM+iDMnAAjxJZi2eHtt/nHO/BS/CqnfAMX0HKKhGE8gkAmmRhtChYd7D8M5a/QjPF290dUqkXrHALOfcE3juktIKuAfo4Jx7obolUjjomFaLS5oksimRho6awQ4glDnnNpjZv6vpqiI5QON9E2/MbBme5fSq5Xmmfar5MRWRINEwbwQzsyTgFmADnt7p6c65n4MblYhI+FEyjXDe62lbAJvCdYlAEZFgUzIVERHxkSYgiYiI+EjJVERExEdKpiIiIj5SMhUREfGRkqmIiIiPlExFRCrIzE40s11mttLM1prZz2Y2tJL7Gm5mo8ysu5m9U8Z2x1QgvpkHlPU1szeP8JpRZja8nPs/4r4ikZKpiEjlzHfOtXbOtQCuAV43s6jK7sw5N985d9kRNhkOHFPZ/Yt/KZmKiPguE4jGs0Tnm2b2kJktNLMaZva0ma3xPu8GYGbnmNkqM/sG6O8tK+5NmtkVZrbC2+sdbGbXAN2B6d76S7294uVmdrW3LNH7Hivw3GbwsMzsT2b2i5n94I3PvFW9zOwrM/tpX0/bzFqY2efeNrxjZkdV9S+vOlAyFRHxgTcRnQfsAPbdF/d4IAk4B889ghPw3I3pTTOrC7wKpHq36XjA/o4HHgC64bmj0zPA68B8oJ+ZxeK5VWJn4DTgVjNrAfwDeB5ogyexH8klwCne974Qz40v8MbT3Rvbv8ysHvAscC+em2H8hOd2jXIALXQvIlI5SWb2A57EtQsY5r1PMMB47028zwAG4UmKAA3x3EN4hXNuNYCZfXTgfoEvnHPbgG1m1uUQ9W3x3DYRoD7QEk9yHep93/8B9x8h9jOBHniScSNgX2/zI+dcPrDS27ZE4HTgJG99NJBRxu8lIimZiohUzgLnXN/D1O3y/j8KuNk5Nx7AzI4DTjhg26IDnkcdUFYbsAPq33bO3eLdZwMg/4DXHLjPYmZWH/gc+C8wEUg7zOsM2OPddztvkq4F1AK6Hm7/kUrDvCIi/jMXuNzMoszsNOAT4Ecgwczizaw2cO4Br1kI9DGzo83sD8CXJeqigEXAmWZ2rDc5fw3UA5YA+2YUX3iEmNoC24CngJ14ep37OlaDzay2mSXguQFGFvAdcK6Z1cAzjDyswr+FCKBkKiLiP+Pw3Dt4JfAKMMI5twu4DpiKJ3GWGjZ1zq0DHseTHOcAtzrnirw/f+ytf9L72iXAvc65rcCtwC3eCUjZR4jpa2CdN6YngP8Ao7x1M/Ek60nA1c65AuBm4B5gLdAAz/lbOYDuGiMiIuIj9UxFRER8pGQqIiLiIyVTERERHymZioiI+EjJVERExEdKpiIiIj5SMhUREfHR/wMucNdQIo+8zwAAAABJRU5ErkJggg==\n",
      "text/plain": [
       "<Figure size 576x432 with 2 Axes>"
      ]
     },
     "metadata": {
      "needs_background": "light"
     },
     "output_type": "display_data"
    }
   ],
   "source": [
    "# make confusion matrix of PF for comparison\n",
    "batch_size = 50\n",
    "\n",
    "num_classes = 6\n",
    "conf_matrix_pf = np.zeros((num_classes, num_classes))\n",
    "\n",
    "test_loader = torch_geometric.loader.DataLoader(data[5000:], batch_size)   \n",
    "for i, batch in tqdm(enumerate(test_loader)):\n",
    "\n",
    "    # make mlpf forward pass\n",
    "    target_ids = batch.ygen_id\n",
    "    pred_ids = batch.ycand_id\n",
    "    \n",
    "    conf_matrix_pf += sklearn.metrics.confusion_matrix(\n",
    "        target_ids.detach().cpu(), pred_ids.detach().cpu(), labels=range(num_classes)\n",
    "    )\n",
    "plot_conf_matrix(conf_matrix_pf, 'PF')"
   ]
  },
  {
   "cell_type": "code",
<<<<<<< HEAD
<<<<<<< HEAD
   "execution_count": 249,
=======
   "execution_count": 20,
>>>>>>> Z0zzz-master
=======
   "execution_count": 20,
>>>>>>> Z0zzz-master
   "metadata": {},
   "outputs": [
    {
     "data": {
<<<<<<< HEAD
<<<<<<< HEAD
      "image/png": "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\n",
=======
=======
>>>>>>> Z0zzz-master
      "application/vnd.jupyter.widget-view+json": {
       "model_id": "816e8adc8eb741ac92b611f938761029",
       "version_major": 2,
       "version_minor": 0
      },
      "text/plain": [
       "HBox(children=(FloatProgress(value=1.0, bar_style='info', max=1.0), HTML(value='')))"
      ]
     },
     "metadata": {},
     "output_type": "display_data"
    },
    {
     "name": "stdout",
     "output_type": "stream",
     "text": [
      "\n"
     ]
    },
    {
     "data": {
      "image/png": "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\n",
<<<<<<< HEAD
>>>>>>> Z0zzz-master
=======
>>>>>>> Z0zzz-master
      "text/plain": [
       "<Figure size 576x432 with 2 Axes>"
      ]
     },
     "metadata": {
      "needs_background": "light"
     },
     "output_type": "display_data"
    }
   ],
   "source": [
<<<<<<< HEAD
<<<<<<< HEAD
    "batch_size = 100\n",
    "# conf_matrix_ssl = evaluate_mlpf(model_ssl, with_VICreg=True)\n",
    "plot_conf_matrix(conf_matrix_ssl, 'ssl MLPF')"
=======
    "conf_matrix = evaluate_mlpf(model, with_VICreg=False)\n",
    "plot_conf_matrix(conf_matrix, 'native MLPF')"
>>>>>>> Z0zzz-master
=======
    "conf_matrix = evaluate_mlpf(model, with_VICreg=False)\n",
    "plot_conf_matrix(conf_matrix, 'native MLPF')"
>>>>>>> Z0zzz-master
   ]
  },
  {
   "cell_type": "code",
<<<<<<< HEAD
<<<<<<< HEAD
   "execution_count": 204,
=======
   "execution_count": 21,
>>>>>>> Z0zzz-master
=======
   "execution_count": 21,
>>>>>>> Z0zzz-master
   "metadata": {},
   "outputs": [
    {
     "data": {
      "application/vnd.jupyter.widget-view+json": {
<<<<<<< HEAD
<<<<<<< HEAD
       "model_id": "7b76566d91d24b36980f2aaf68426a85",
=======
       "model_id": "241c871318f04c9bbb880305df0c20ba",
>>>>>>> Z0zzz-master
=======
       "model_id": "241c871318f04c9bbb880305df0c20ba",
>>>>>>> Z0zzz-master
       "version_major": 2,
       "version_minor": 0
      },
      "text/plain": [
       "HBox(children=(FloatProgress(value=1.0, bar_style='info', max=1.0), HTML(value='')))"
      ]
     },
     "metadata": {},
     "output_type": "display_data"
    },
    {
     "name": "stdout",
     "output_type": "stream",
     "text": [
      "\n"
     ]
    },
    {
<<<<<<< HEAD
<<<<<<< HEAD
     "ename": "TypeError",
     "evalue": "forward() missing 1 required positional argument: 'clusters'",
     "output_type": "error",
     "traceback": [
      "\u001b[0;31m---------------------------------------------------------------------------\u001b[0m",
      "\u001b[0;31mTypeError\u001b[0m                                 Traceback (most recent call last)",
      "\u001b[0;32m<ipython-input-204-c83478930c8e>\u001b[0m in \u001b[0;36m<module>\u001b[0;34m\u001b[0m\n\u001b[0;32m----> 1\u001b[0;31m \u001b[0mconf_matrix\u001b[0m \u001b[0;34m=\u001b[0m \u001b[0mevaluate_mlpf\u001b[0m\u001b[0;34m(\u001b[0m\u001b[0mmodel\u001b[0m\u001b[0;34m,\u001b[0m \u001b[0mwith_VICreg\u001b[0m\u001b[0;34m=\u001b[0m\u001b[0;32mFalse\u001b[0m\u001b[0;34m)\u001b[0m\u001b[0;34m\u001b[0m\u001b[0;34m\u001b[0m\u001b[0m\n\u001b[0m\u001b[1;32m      2\u001b[0m \u001b[0mplot_conf_matrix\u001b[0m\u001b[0;34m(\u001b[0m\u001b[0mconf_matrix\u001b[0m\u001b[0;34m,\u001b[0m \u001b[0;34m'native MLPF'\u001b[0m\u001b[0;34m)\u001b[0m\u001b[0;34m\u001b[0m\u001b[0;34m\u001b[0m\u001b[0m\n",
      "\u001b[0;32m<ipython-input-202-e2c3bc305c15>\u001b[0m in \u001b[0;36mevaluate_mlpf\u001b[0;34m(model, with_VICreg)\u001b[0m\n\u001b[1;32m     30\u001b[0m \u001b[0;34m\u001b[0m\u001b[0m\n\u001b[1;32m     31\u001b[0m             \u001b[0;31m# make mlpf forward pass\u001b[0m\u001b[0;34m\u001b[0m\u001b[0;34m\u001b[0m\u001b[0;34m\u001b[0m\u001b[0m\n\u001b[0;32m---> 32\u001b[0;31m             \u001b[0mpred_ids_one_hot\u001b[0m \u001b[0;34m=\u001b[0m \u001b[0mmodel\u001b[0m\u001b[0;34m(\u001b[0m\u001b[0mevent\u001b[0m\u001b[0;34m)\u001b[0m\u001b[0;34m\u001b[0m\u001b[0;34m\u001b[0m\u001b[0m\n\u001b[0m\u001b[1;32m     33\u001b[0m             \u001b[0mpred_ids\u001b[0m \u001b[0;34m=\u001b[0m \u001b[0mtorch\u001b[0m\u001b[0;34m.\u001b[0m\u001b[0margmax\u001b[0m\u001b[0;34m(\u001b[0m\u001b[0mpred_ids_one_hot\u001b[0m\u001b[0;34m,\u001b[0m \u001b[0maxis\u001b[0m\u001b[0;34m=\u001b[0m\u001b[0;36m1\u001b[0m\u001b[0;34m)\u001b[0m\u001b[0;34m\u001b[0m\u001b[0;34m\u001b[0m\u001b[0m\n\u001b[1;32m     34\u001b[0m             \u001b[0mtarget_ids\u001b[0m \u001b[0;34m=\u001b[0m \u001b[0mevent\u001b[0m\u001b[0;34m.\u001b[0m\u001b[0mygen_id\u001b[0m\u001b[0;34m\u001b[0m\u001b[0;34m\u001b[0m\u001b[0m\n",
      "\u001b[0;32m/opt/anaconda3/envs/pyg-coffea/lib/python3.8/site-packages/torch/nn/modules/module.py\u001b[0m in \u001b[0;36m_call_impl\u001b[0;34m(self, *input, **kwargs)\u001b[0m\n\u001b[1;32m   1049\u001b[0m         if not (self._backward_hooks or self._forward_hooks or self._forward_pre_hooks or _global_backward_hooks\n\u001b[1;32m   1050\u001b[0m                 or _global_forward_hooks or _global_forward_pre_hooks):\n\u001b[0;32m-> 1051\u001b[0;31m             \u001b[0;32mreturn\u001b[0m \u001b[0mforward_call\u001b[0m\u001b[0;34m(\u001b[0m\u001b[0;34m*\u001b[0m\u001b[0minput\u001b[0m\u001b[0;34m,\u001b[0m \u001b[0;34m**\u001b[0m\u001b[0mkwargs\u001b[0m\u001b[0;34m)\u001b[0m\u001b[0;34m\u001b[0m\u001b[0;34m\u001b[0m\u001b[0m\n\u001b[0m\u001b[1;32m   1052\u001b[0m         \u001b[0;31m# Do not call functions when jit is used\u001b[0m\u001b[0;34m\u001b[0m\u001b[0;34m\u001b[0m\u001b[0;34m\u001b[0m\u001b[0m\n\u001b[1;32m   1053\u001b[0m         \u001b[0mfull_backward_hooks\u001b[0m\u001b[0;34m,\u001b[0m \u001b[0mnon_full_backward_hooks\u001b[0m \u001b[0;34m=\u001b[0m \u001b[0;34m[\u001b[0m\u001b[0;34m]\u001b[0m\u001b[0;34m,\u001b[0m \u001b[0;34m[\u001b[0m\u001b[0;34m]\u001b[0m\u001b[0;34m\u001b[0m\u001b[0;34m\u001b[0m\u001b[0m\n",
      "\u001b[0;31mTypeError\u001b[0m: forward() missing 1 required positional argument: 'clusters'"
     ]
    }
   ],
   "source": [
    "conf_matrix = evaluate_mlpf(model, with_VICreg=False)\n",
    "plot_conf_matrix(conf_matrix, 'native MLPF')"
=======
=======
>>>>>>> Z0zzz-master
     "data": {
      "image/png": "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\n",
      "text/plain": [
       "<Figure size 576x432 with 2 Axes>"
      ]
     },
     "metadata": {
      "needs_background": "light"
     },
     "output_type": "display_data"
    }
   ],
   "source": [
    "batch_size = 50\n",
    "conf_matrix_ssl = evaluate_mlpf(model_ssl, with_VICreg=True)\n",
    "plot_conf_matrix(conf_matrix_ssl, 'ssl MLPF')"
<<<<<<< HEAD
>>>>>>> Z0zzz-master
=======
>>>>>>> Z0zzz-master
   ]
  },
  {
   "cell_type": "code",
   "execution_count": null,
   "metadata": {},
   "outputs": [],
   "source": []
  }
 ],
 "metadata": {
  "kernelspec": {
   "display_name": "Python 3",
   "language": "python",
   "name": "python3"
  },
  "language_info": {
   "codemirror_mode": {
    "name": "ipython",
    "version": 3
   },
   "file_extension": ".py",
   "mimetype": "text/x-python",
   "name": "python",
   "nbconvert_exporter": "python",
   "pygments_lexer": "ipython3",
   "version": "3.8.3"
  }
 },
 "nbformat": 4,
 "nbformat_minor": 4
}
