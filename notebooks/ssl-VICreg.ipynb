{
 "cells": [
  {
   "cell_type": "code",
   "execution_count": 1,
   "metadata": {},
   "outputs": [],
   "source": [
    "import torch\n",
    "import torch.nn as nn\n",
    "import torch.nn.functional as F\n",
    "import torchvision.transforms as tr\n",
    "\n",
    "import torch_geometric\n",
    "from torch_geometric.nn import global_mean_pool\n",
    "from torch_geometric.data import Batch\n",
    "\n",
    "from typing import Optional, Union\n",
    "\n",
    "from torch import Tensor\n",
    "from torch.nn import Linear\n",
    "from torch_geometric.nn.conv import MessagePassing, GravNetConv\n",
    "from torch_geometric.typing import OptTensor, PairOptTensor, PairTensor\n",
    "from torch_scatter import scatter\n",
    "\n",
    "from tqdm.notebook import tqdm\n",
    "\n",
    "import numpy as np\n",
    "\n",
    "import json\n",
    "import math\n",
    "import os\n",
    "import time\n",
    "import pickle as pkl\n",
    "\n",
    "import sklearn\n",
    "import sklearn.metrics\n",
    "\n",
    "import matplotlib\n",
    "import matplotlib.pyplot as plt\n",
    "import mplhep as hep\n",
    "\n",
    "plt.style.use(hep.style.CMS)\n",
    "plt.rcParams.update({\"font.size\": 20})"
   ]
  },
  {
   "cell_type": "code",
   "execution_count": 2,
   "metadata": {},
   "outputs": [],
   "source": [
    "# VICReg loss function\n",
    "def criterion(x, y, device=\"cuda\", lmbd=25, u=25, v=1, epsilon=1e-3):\n",
    "    bs = x.size(0)\n",
    "    emb = x.size(1)\n",
    "\n",
    "    std_x = torch.sqrt(x.var(dim=0) + epsilon)\n",
    "    std_y = torch.sqrt(y.var(dim=0) + epsilon)\n",
    "    var_loss = torch.mean(F.relu(1 - std_x)) + torch.mean(F.relu(1 - std_y))\n",
    "\n",
    "    invar_loss = F.mse_loss(x, y)\n",
    "\n",
    "    xNorm = (x - x.mean(0)) / x.std(0)\n",
    "    yNorm = (y - y.mean(0)) / y.std(0)\n",
    "    crossCorMat = (xNorm.T @ yNorm) / bs\n",
    "    cross_loss = (\n",
    "        (\n",
    "            crossCorMat * lmbd\n",
    "            - torch.eye(emb, device=torch.device(device)) * lmbd\n",
    "        )\n",
    "        .pow(2)\n",
    "        .sum()\n",
    "    )\n",
    "\n",
    "    loss = u * var_loss + v * invar_loss + cross_loss\n",
    "\n",
    "    return loss"
   ]
  },
  {
   "cell_type": "markdown",
   "metadata": {},
   "source": [
    "# CLIC"
   ]
  },
  {
   "cell_type": "code",
   "execution_count": 5,
   "metadata": {},
   "outputs": [
    {
     "name": "stdout",
     "output_type": "stream",
     "text": [
      "data_0.pt\r\n"
     ]
    }
   ],
   "source": [
    "! ls ../data/clic/gev380ee_pythia6_higgs_bbar_full201/processed/data_0.pt"
   ]
  },
  {
   "cell_type": "code",
   "execution_count": null,
   "metadata": {},
   "outputs": [],
   "source": []
  },
  {
   "cell_type": "code",
   "execution_count": 6,
   "metadata": {},
   "outputs": [],
   "source": [
    "import glob\n",
    "\n",
    "all_files = glob.glob(\n",
    "    f\"../data/clic/gev380ee_pythia6_higgs_bbar_full201/processed/data_0.pt\"\n",
    ")"
   ]
  },
  {
   "cell_type": "code",
   "execution_count": 7,
   "metadata": {},
   "outputs": [],
   "source": [
    "# load the clic dataset\n",
    "data = []\n",
    "for f in all_files:\n",
    "    data += torch.load(f\"{f}\")"
   ]
  },
  {
   "cell_type": "code",
   "execution_count": 8,
   "metadata": {},
   "outputs": [
    {
     "name": "stdout",
     "output_type": "stream",
     "text": [
      "A single event: \n",
      " Batch(x=[103, 12], ygen=[103, 5], ygen_id=[103], ycand=[103, 5], ycand_id=[103], batch=[103], ptr=[2])\n"
     ]
    }
   ],
   "source": [
    "loader = torch_geometric.loader.DataLoader(data, batch_size=1, shuffle=True)\n",
    "for batch in loader:\n",
    "    print(f\"A single event: \\n {batch}\")\n",
    "    break"
   ]
  },
  {
   "cell_type": "code",
   "execution_count": 9,
   "metadata": {},
   "outputs": [
    {
     "name": "stdout",
     "output_type": "stream",
     "text": [
      "num of clic events 9233\n"
     ]
    }
   ],
   "source": [
    "print(f\"num of clic events {len(loader)}\")"
   ]
  },
  {
   "cell_type": "markdown",
   "metadata": {},
   "source": [
    "## From event to tracks/clusters"
   ]
  },
  {
   "cell_type": "code",
   "execution_count": 10,
   "metadata": {},
   "outputs": [],
   "source": [
    "CLUSTERS_X = 6\n",
    "TRACKS_X = 11\n",
    "COMMON_X = 11"
   ]
  },
  {
   "cell_type": "code",
   "execution_count": 11,
   "metadata": {},
   "outputs": [],
   "source": [
    "# function that takes an event~Batch() and splits it into two Batch() objects representing the tracks/clusters\n",
    "def distinguish_PFelements(batch):\n",
    "\n",
    "    track_id = 1\n",
    "    cluster_id = 2\n",
    "\n",
    "    tracks = Batch(\n",
    "        x=batch.x[batch.x[:, 0] == track_id][\n",
    "            :, 1:\n",
    "        ].float(),  # remove the first input feature which is not needed anymore\n",
    "        ygen=batch.ygen[batch.x[:, 0] == track_id],\n",
    "        ygen_id=batch.ygen_id[batch.x[:, 0] == track_id],\n",
    "        ycand=batch.ycand[batch.x[:, 0] == track_id],\n",
    "        ycand_id=batch.ycand_id[batch.x[:, 0] == track_id],\n",
    "        batch=batch.batch[batch.x[:, 0] == track_id],\n",
    "    )\n",
    "    clusters = Batch(\n",
    "        x=batch.x[batch.x[:, 0] == cluster_id][:, 1:].float()[\n",
    "            :, :CLUSTERS_X\n",
    "        ],  # remove the first input feature which is not needed anymore\n",
    "        ygen=batch.ygen[batch.x[:, 0] == cluster_id],\n",
    "        ygen_id=batch.ygen_id[batch.x[:, 0] == cluster_id],\n",
    "        ycand=batch.ycand[batch.x[:, 0] == cluster_id],\n",
    "        ycand_id=batch.ycand_id[batch.x[:, 0] == cluster_id],\n",
    "        batch=batch.batch[batch.x[:, 0] == cluster_id],\n",
    "    )\n",
    "\n",
    "    return tracks, clusters\n",
    "\n",
    "\n",
    "# conversly, function that combines the learned latent representations back into one Batch() object\n",
    "def combine_PFelements(tracks, clusters):\n",
    "\n",
    "    #     zero padding\n",
    "    #     clusters.x = torch.cat([clusters.x, torch.from_numpy(np.zeros([clusters.x.shape[0],TRACKS_X-CLUSTERS_X]))], axis=1)\n",
    "\n",
    "    event = Batch(\n",
    "        x=torch.cat([tracks.x, clusters.x]),\n",
    "        ygen=torch.cat([tracks.ygen, clusters.ygen]),\n",
    "        ygen_id=torch.cat([tracks.ygen_id, clusters.ygen_id]),\n",
    "        ycand=torch.cat([tracks.ycand, clusters.ycand]),\n",
    "        ycand_id=torch.cat([tracks.ycand_id, clusters.ycand_id]),\n",
    "        batch=torch.cat([tracks.batch, clusters.batch]),\n",
    "    )\n",
    "\n",
    "    return event"
   ]
  },
  {
   "cell_type": "code",
   "execution_count": 12,
   "metadata": {},
   "outputs": [
    {
     "name": "stdout",
     "output_type": "stream",
     "text": [
      "event:    Batch(x=[103, 12], ygen=[103, 5], ygen_id=[103], ycand=[103, 5], ycand_id=[103], batch=[103], ptr=[2])\n",
      "tracks:   Batch(x=[34, 11], ygen=[34, 5], ygen_id=[34], ycand=[34, 5], ycand_id=[34], batch=[34])\n",
      "clusters: Batch(x=[69, 6], ygen=[69, 5], ygen_id=[69], ycand=[69, 5], ycand_id=[69], batch=[69])\n"
     ]
    }
   ],
   "source": [
    "tracks, clusters = distinguish_PFelements(batch)\n",
    "\n",
    "print(f\"event:    {batch}\")\n",
    "print(f\"tracks:   {tracks}\")\n",
    "print(f\"clusters: {clusters}\")"
   ]
  },
  {
   "cell_type": "markdown",
   "metadata": {},
   "source": [
    "# VICreg"
   ]
  },
  {
   "cell_type": "code",
   "execution_count": 13,
   "metadata": {},
   "outputs": [],
   "source": [
    "# define the Encoder that learns latent representations of tracks and clusters\n",
    "# these representations will be used by MLPF which is the downstream task\n",
    "class Encoder(nn.Module):\n",
    "    def __init__(\n",
    "        self,\n",
    "        input_dim=11,\n",
    "        embedding_dim=34,\n",
    "        num_convs=2,\n",
    "    ):\n",
    "        super(Encoder, self).__init__()\n",
    "\n",
    "        self.act = nn.ELU\n",
    "\n",
    "        ### 1. different embedding of tracks/clusters\n",
    "        self.nn1 = nn.Sequential(\n",
    "            nn.Linear(TRACKS_X, 126),\n",
    "            self.act(),\n",
    "            nn.Linear(126, 126),\n",
    "            self.act(),\n",
    "            nn.Linear(126, embedding_dim),\n",
    "        )\n",
    "        self.nn2 = nn.Sequential(\n",
    "            nn.Linear(CLUSTERS_X, 126),\n",
    "            self.act(),\n",
    "            nn.Linear(126, 126),\n",
    "            self.act(),\n",
    "            nn.Linear(126, embedding_dim),\n",
    "        )\n",
    "\n",
    "        ### 2. same GNN for tracks/clusters\n",
    "        self.conv = nn.ModuleList()\n",
    "        for i in range(num_convs):\n",
    "            self.conv.append(\n",
    "                GravNetConv(\n",
    "                    embedding_dim,\n",
    "                    embedding_dim,\n",
    "                    space_dimensions=4,\n",
    "                    propagate_dimensions=22,\n",
    "                    k=16,\n",
    "                )\n",
    "            )\n",
    "\n",
    "    def forward(self, tracks, clusters):\n",
    "\n",
    "        embedding_tracks = self.nn1(tracks.x.float())\n",
    "        embedding_clusters = self.nn2(clusters.x.float())\n",
    "\n",
    "        # perform a series of graph convolutions\n",
    "        for num, conv in enumerate(self.conv):\n",
    "            embedding_tracks = conv(embedding_tracks, tracks.batch)\n",
    "            embedding_clusters = conv(embedding_clusters, clusters.batch)\n",
    "\n",
    "        return embedding_tracks, embedding_clusters"
   ]
  },
  {
   "cell_type": "code",
   "execution_count": 14,
   "metadata": {},
   "outputs": [],
   "source": [
    "# define the decoder that expands the latent representations of tracks and clusters\n",
    "class Decoder(nn.Module):\n",
    "    def __init__(\n",
    "        self,\n",
    "        embedding_dim=34,\n",
    "        output_dim=200,\n",
    "    ):\n",
    "        super(Decoder, self).__init__()\n",
    "\n",
    "        self.act = nn.ELU\n",
    "\n",
    "        ############################ DECODER\n",
    "        self.expander = nn.Sequential(\n",
    "            nn.Linear(embedding_dim, 126),\n",
    "            self.act(),\n",
    "            nn.Linear(126, 126),\n",
    "            self.act(),\n",
    "            nn.Linear(126, output_dim),\n",
    "        )\n",
    "\n",
    "    def forward(self, out_tracks, out_clusters):\n",
    "\n",
    "        return self.expander(out_tracks), self.expander(out_clusters)"
   ]
  },
  {
   "cell_type": "code",
   "execution_count": 15,
   "metadata": {},
   "outputs": [
    {
     "name": "stdout",
     "output_type": "stream",
     "text": [
      "loss is:  6351292.0\n"
     ]
    }
   ],
   "source": [
    "# retrieve a batch with batch_size>1\n",
    "loader = torch_geometric.loader.DataLoader(data, batch_size=2)\n",
    "for batch in loader:\n",
    "    break\n",
    "\n",
    "# retrieve the tracks and clusters\n",
    "tracks, clusters = distinguish_PFelements(batch)\n",
    "\n",
    "# setup VICReg\n",
    "encoder = Encoder(embedding_dim=34)\n",
    "decoder = Decoder(embedding_dim=34)\n",
    "\n",
    "# make encoder forward pass\n",
    "embedding_tracks, embedding_clusters = encoder(tracks, clusters)\n",
    "\n",
    "# pooling\n",
    "pooled_tracks = global_mean_pool(embedding_tracks, tracks.batch)\n",
    "pooled_clusters = global_mean_pool(embedding_clusters, clusters.batch)\n",
    "\n",
    "# make decoder forward pass\n",
    "out_tracks, out_clusters = decoder(pooled_tracks, pooled_clusters)\n",
    "\n",
    "# compute the loss between the two latent representations\n",
    "loss = criterion(out_tracks, out_clusters, device=\"cpu\")\n",
    "print(\"loss is: \", loss.item())"
   ]
  },
  {
   "cell_type": "code",
   "execution_count": 21,
   "metadata": {},
   "outputs": [],
   "source": [
    "# train the encoder\n",
    "def train_VICReg(encoder, decoder, data, batch_size, lr, epochs, lmbd, u, v):\n",
    "\n",
    "    data_train = data[: int(0.8 * len(data))]\n",
    "    data_valid = data[int(0.8 * len(data)) :]\n",
    "\n",
    "    train_loader = torch_geometric.loader.DataLoader(data_train, batch_size)\n",
    "    valid_loader = torch_geometric.loader.DataLoader(data_valid, batch_size)\n",
    "\n",
    "    optimizer = torch.optim.SGD(\n",
    "        list(encoder.parameters()) + list(decoder.parameters()),\n",
    "        lr=lr,\n",
    "        momentum=0.9,\n",
    "        weight_decay=1.5e-4,\n",
    "    )\n",
    "\n",
    "    patience = 20\n",
    "    best_val_loss = 99999.9\n",
    "    stale_epochs = 0\n",
    "\n",
    "    losses_train, losses_valid = [], []\n",
    "\n",
    "    for epoch in tqdm(range(epochs)):\n",
    "\n",
    "        encoder.train()\n",
    "        decoder.train()\n",
    "        loss_train = 0\n",
    "\n",
    "        for batch in tqdm(train_loader):\n",
    "            # make transformation\n",
    "            tracks, clusters = distinguish_PFelements(batch)\n",
    "\n",
    "            ### ENCODE\n",
    "            embedding_tracks, embedding_clusters = encoder(tracks, clusters)\n",
    "            ### POOLING\n",
    "            pooled_tracks = global_mean_pool(embedding_tracks, tracks.batch)\n",
    "            pooled_clusters = global_mean_pool(\n",
    "                embedding_clusters, clusters.batch\n",
    "            )\n",
    "            ### DECODE\n",
    "            out_tracks, out_clusters = decoder(pooled_tracks, pooled_clusters)\n",
    "\n",
    "            # compute loss\n",
    "            loss = criterion(out_tracks, out_clusters, \"cpu\", lmbd, u, v)\n",
    "\n",
    "            # update parameters\n",
    "            for param in encoder.parameters():\n",
    "                param.grad = None\n",
    "            for param in decoder.parameters():\n",
    "                param.grad = None\n",
    "            loss.backward()\n",
    "            optimizer.step()\n",
    "\n",
    "            loss_train += loss.detach()\n",
    "            print(loss)\n",
    "        encoder.eval()\n",
    "        decoder.eval()\n",
    "        loss_valid = 0\n",
    "        with torch.no_grad():\n",
    "            for batch in tqdm(valid_loader):\n",
    "                # make transformation\n",
    "                tracks, clusters = distinguish_PFelements(batch)\n",
    "\n",
    "                ### ENCODE\n",
    "                embedding_tracks, embedding_clusters = encoder(\n",
    "                    tracks, clusters\n",
    "                )\n",
    "                ### POOLING\n",
    "                pooled_tracks = global_mean_pool(\n",
    "                    embedding_tracks, tracks.batch\n",
    "                )\n",
    "                pooled_clusters = global_mean_pool(\n",
    "                    embedding_clusters, clusters.batch\n",
    "                )\n",
    "                ### DECODE\n",
    "                out_tracks, out_clusters = decoder(\n",
    "                    pooled_tracks, pooled_clusters\n",
    "                )\n",
    "\n",
    "                # compute loss\n",
    "                loss = criterion(out_tracks, out_clusters, \"cpu\", lmbd, u, v)\n",
    "\n",
    "                loss_valid += loss.detach()\n",
    "\n",
    "        print(\n",
    "            f\"epoch {epoch} - loss_train: {round(loss_train.item(),3)} - loss_valid: {round(loss_valid.item(),3)}\"\n",
    "        )\n",
    "\n",
    "        losses_train.append(loss_train / len(train_loader))\n",
    "        losses_valid.append(loss_valid / len(valid_loader))\n",
    "\n",
    "    return losses_train, losses_valid"
   ]
  },
  {
   "cell_type": "code",
   "execution_count": 68,
   "metadata": {
    "scrolled": true
   },
   "outputs": [
    {
     "data": {
      "application/vnd.jupyter.widget-view+json": {
       "model_id": "cc4ed3494d064ba19b03f112e02208ac",
       "version_major": 2,
       "version_minor": 0
      },
      "text/plain": [
       "HBox(children=(FloatProgress(value=0.0), HTML(value='')))"
      ]
     },
     "metadata": {},
     "output_type": "display_data"
    },
    {
     "data": {
      "application/vnd.jupyter.widget-view+json": {
       "model_id": "f7bd1fb89fe14e1da085c4ade59e1b6c",
       "version_major": 2,
       "version_minor": 0
      },
      "text/plain": [
       "HBox(children=(FloatProgress(value=0.0, max=74.0), HTML(value='')))"
      ]
     },
     "metadata": {},
     "output_type": "display_data"
    },
    {
     "name": "stdout",
     "output_type": "stream",
     "text": [
      "tensor(17.1143, grad_fn=<AddBackward0>)\n",
      "tensor(17.5056, grad_fn=<AddBackward0>)\n",
      "tensor(12.6601, grad_fn=<AddBackward0>)\n",
      "tensor(11.7078, grad_fn=<AddBackward0>)\n",
      "tensor(13.9646, grad_fn=<AddBackward0>)\n",
      "tensor(12.2038, grad_fn=<AddBackward0>)\n",
      "tensor(10.7236, grad_fn=<AddBackward0>)\n",
      "tensor(9.5616, grad_fn=<AddBackward0>)\n",
      "tensor(9.4808, grad_fn=<AddBackward0>)\n",
      "tensor(13.6069, grad_fn=<AddBackward0>)\n",
      "tensor(9.4234, grad_fn=<AddBackward0>)\n",
      "tensor(7.3646, grad_fn=<AddBackward0>)\n",
      "tensor(12.9122, grad_fn=<AddBackward0>)\n",
      "tensor(9.6944, grad_fn=<AddBackward0>)\n",
      "tensor(11.4006, grad_fn=<AddBackward0>)\n",
      "tensor(8.4398, grad_fn=<AddBackward0>)\n",
      "tensor(11.6232, grad_fn=<AddBackward0>)\n",
      "tensor(12.7801, grad_fn=<AddBackward0>)\n",
      "tensor(7.9718, grad_fn=<AddBackward0>)\n",
      "tensor(17.4086, grad_fn=<AddBackward0>)\n",
      "tensor(11.2642, grad_fn=<AddBackward0>)\n",
      "tensor(8.0566, grad_fn=<AddBackward0>)\n",
      "tensor(7.0279, grad_fn=<AddBackward0>)\n",
      "tensor(10.0929, grad_fn=<AddBackward0>)\n",
      "tensor(9.9815, grad_fn=<AddBackward0>)\n",
      "tensor(8.2206, grad_fn=<AddBackward0>)\n",
      "tensor(7.3969, grad_fn=<AddBackward0>)\n",
      "tensor(7.1252, grad_fn=<AddBackward0>)\n",
      "tensor(10.4497, grad_fn=<AddBackward0>)\n",
      "tensor(8.8574, grad_fn=<AddBackward0>)\n",
      "tensor(10.4324, grad_fn=<AddBackward0>)\n",
      "tensor(7.3432, grad_fn=<AddBackward0>)\n",
      "tensor(7.3111, grad_fn=<AddBackward0>)\n",
      "tensor(7.6107, grad_fn=<AddBackward0>)\n",
      "tensor(6.3035, grad_fn=<AddBackward0>)\n",
      "tensor(7.9172, grad_fn=<AddBackward0>)\n",
      "tensor(5.8502, grad_fn=<AddBackward0>)\n",
      "tensor(9.7417, grad_fn=<AddBackward0>)\n",
      "tensor(7.0346, grad_fn=<AddBackward0>)\n",
      "tensor(9.5749, grad_fn=<AddBackward0>)\n",
      "tensor(7.7997, grad_fn=<AddBackward0>)\n",
      "tensor(6.3195, grad_fn=<AddBackward0>)\n",
      "tensor(8.2451, grad_fn=<AddBackward0>)\n",
      "tensor(6.5764, grad_fn=<AddBackward0>)\n",
      "tensor(6.5125, grad_fn=<AddBackward0>)\n",
      "tensor(12.9500, grad_fn=<AddBackward0>)\n",
      "tensor(9.5524, grad_fn=<AddBackward0>)\n",
      "tensor(6.9098, grad_fn=<AddBackward0>)\n",
      "tensor(7.5910, grad_fn=<AddBackward0>)\n",
      "tensor(9.1961, grad_fn=<AddBackward0>)\n",
      "tensor(5.9542, grad_fn=<AddBackward0>)\n",
      "tensor(7.5825, grad_fn=<AddBackward0>)\n",
      "tensor(6.8488, grad_fn=<AddBackward0>)\n",
      "tensor(9.8842, grad_fn=<AddBackward0>)\n",
      "tensor(9.3080, grad_fn=<AddBackward0>)\n",
      "tensor(5.6855, grad_fn=<AddBackward0>)\n",
      "tensor(7.4296, grad_fn=<AddBackward0>)\n",
      "tensor(12.7053, grad_fn=<AddBackward0>)\n",
      "tensor(11.9499, grad_fn=<AddBackward0>)\n",
      "tensor(6.1810, grad_fn=<AddBackward0>)\n",
      "tensor(6.5556, grad_fn=<AddBackward0>)\n",
      "tensor(6.9351, grad_fn=<AddBackward0>)\n",
      "tensor(11.4989, grad_fn=<AddBackward0>)\n",
      "tensor(5.6947, grad_fn=<AddBackward0>)\n",
      "tensor(8.6101, grad_fn=<AddBackward0>)\n",
      "tensor(6.7843, grad_fn=<AddBackward0>)\n",
      "tensor(6.3333, grad_fn=<AddBackward0>)\n",
      "tensor(5.5171, grad_fn=<AddBackward0>)\n",
      "tensor(5.6945, grad_fn=<AddBackward0>)\n",
      "tensor(9.2005, grad_fn=<AddBackward0>)\n",
      "tensor(9.8258, grad_fn=<AddBackward0>)\n",
      "tensor(4.8552, grad_fn=<AddBackward0>)\n",
      "tensor(9.6258, grad_fn=<AddBackward0>)\n",
      "tensor(7.4179, grad_fn=<AddBackward0>)\n",
      "\n"
     ]
    },
    {
     "data": {
      "application/vnd.jupyter.widget-view+json": {
       "model_id": "1ecde16403674f6a9e3a31ff598371a4",
       "version_major": 2,
       "version_minor": 0
      },
      "text/plain": [
       "HBox(children=(FloatProgress(value=0.0, max=19.0), HTML(value='')))"
      ]
     },
     "metadata": {},
     "output_type": "display_data"
    },
    {
     "name": "stdout",
     "output_type": "stream",
     "text": [
      "\n",
      "epoch 0 - loss_train: 674.87 - loss_valid: 160.031\n"
     ]
    },
    {
     "data": {
      "application/vnd.jupyter.widget-view+json": {
       "model_id": "1744347efbca4194b1d1820ddec4ad0a",
       "version_major": 2,
       "version_minor": 0
      },
      "text/plain": [
       "HBox(children=(FloatProgress(value=0.0, max=74.0), HTML(value='')))"
      ]
     },
     "metadata": {},
     "output_type": "display_data"
    },
    {
     "name": "stdout",
     "output_type": "stream",
     "text": [
      "tensor(7.9516, grad_fn=<AddBackward0>)\n",
      "tensor(5.9534, grad_fn=<AddBackward0>)\n",
      "tensor(5.6981, grad_fn=<AddBackward0>)\n",
      "tensor(5.6513, grad_fn=<AddBackward0>)\n",
      "tensor(11.8971, grad_fn=<AddBackward0>)\n",
      "tensor(5.3641, grad_fn=<AddBackward0>)\n",
      "tensor(8.9031, grad_fn=<AddBackward0>)\n",
      "tensor(6.7965, grad_fn=<AddBackward0>)\n",
      "tensor(15.5520, grad_fn=<AddBackward0>)\n",
      "tensor(9.5906, grad_fn=<AddBackward0>)\n",
      "tensor(6.6310, grad_fn=<AddBackward0>)\n",
      "tensor(7.4972, grad_fn=<AddBackward0>)\n",
      "tensor(17.0604, grad_fn=<AddBackward0>)\n",
      "tensor(6.1025, grad_fn=<AddBackward0>)\n",
      "tensor(17.8324, grad_fn=<AddBackward0>)\n",
      "tensor(6.6777, grad_fn=<AddBackward0>)\n",
      "tensor(5.8728, grad_fn=<AddBackward0>)\n",
      "tensor(7.1072, grad_fn=<AddBackward0>)\n",
      "tensor(6.2918, grad_fn=<AddBackward0>)\n",
      "tensor(10.2833, grad_fn=<AddBackward0>)\n",
      "tensor(8.7856, grad_fn=<AddBackward0>)\n",
      "tensor(7.2900, grad_fn=<AddBackward0>)\n",
      "tensor(4.9020, grad_fn=<AddBackward0>)\n",
      "tensor(6.7362, grad_fn=<AddBackward0>)\n",
      "tensor(6.5049, grad_fn=<AddBackward0>)\n",
      "tensor(8.0068, grad_fn=<AddBackward0>)\n",
      "tensor(6.0271, grad_fn=<AddBackward0>)\n",
      "tensor(5.1885, grad_fn=<AddBackward0>)\n",
      "tensor(6.7262, grad_fn=<AddBackward0>)\n",
      "tensor(10.1436, grad_fn=<AddBackward0>)\n",
      "tensor(7.2118, grad_fn=<AddBackward0>)\n",
      "tensor(5.6213, grad_fn=<AddBackward0>)\n",
      "tensor(6.1551, grad_fn=<AddBackward0>)\n",
      "tensor(5.7825, grad_fn=<AddBackward0>)\n",
      "tensor(6.2268, grad_fn=<AddBackward0>)\n",
      "tensor(4.9155, grad_fn=<AddBackward0>)\n",
      "tensor(5.7651, grad_fn=<AddBackward0>)\n",
      "tensor(7.2264, grad_fn=<AddBackward0>)\n",
      "tensor(7.3183, grad_fn=<AddBackward0>)\n",
      "tensor(10.0508, grad_fn=<AddBackward0>)\n",
      "tensor(8.1063, grad_fn=<AddBackward0>)\n",
      "tensor(6.3154, grad_fn=<AddBackward0>)\n",
      "tensor(7.6218, grad_fn=<AddBackward0>)\n",
      "tensor(4.6924, grad_fn=<AddBackward0>)\n",
      "tensor(5.4368, grad_fn=<AddBackward0>)\n",
      "tensor(15.5651, grad_fn=<AddBackward0>)\n",
      "tensor(6.0718, grad_fn=<AddBackward0>)\n",
      "tensor(5.3050, grad_fn=<AddBackward0>)\n",
      "tensor(5.4519, grad_fn=<AddBackward0>)\n",
      "tensor(14.0827, grad_fn=<AddBackward0>)\n",
      "tensor(8.2136, grad_fn=<AddBackward0>)\n",
      "tensor(7.6124, grad_fn=<AddBackward0>)\n",
      "tensor(4.9019, grad_fn=<AddBackward0>)\n",
      "tensor(9.9467, grad_fn=<AddBackward0>)\n",
      "tensor(8.9388, grad_fn=<AddBackward0>)\n",
      "tensor(4.4099, grad_fn=<AddBackward0>)\n",
      "tensor(5.7022, grad_fn=<AddBackward0>)\n",
      "tensor(12.1328, grad_fn=<AddBackward0>)\n",
      "tensor(11.7464, grad_fn=<AddBackward0>)\n",
      "tensor(6.6856, grad_fn=<AddBackward0>)\n",
      "tensor(5.2094, grad_fn=<AddBackward0>)\n",
      "tensor(5.2663, grad_fn=<AddBackward0>)\n",
      "tensor(10.0325, grad_fn=<AddBackward0>)\n",
      "tensor(5.5281, grad_fn=<AddBackward0>)\n",
      "tensor(8.3660, grad_fn=<AddBackward0>)\n",
      "tensor(7.3165, grad_fn=<AddBackward0>)\n",
      "tensor(5.4561, grad_fn=<AddBackward0>)\n",
      "tensor(5.4833, grad_fn=<AddBackward0>)\n",
      "tensor(5.6383, grad_fn=<AddBackward0>)\n",
      "tensor(7.8111, grad_fn=<AddBackward0>)\n",
      "tensor(8.1833, grad_fn=<AddBackward0>)\n",
      "tensor(4.8039, grad_fn=<AddBackward0>)\n",
      "tensor(9.6894, grad_fn=<AddBackward0>)\n",
      "tensor(5.9399, grad_fn=<AddBackward0>)\n",
      "\n"
     ]
    },
    {
     "data": {
      "application/vnd.jupyter.widget-view+json": {
       "model_id": "6481513ac7d24ec2a4180fe1b79c66e2",
       "version_major": 2,
       "version_minor": 0
      },
      "text/plain": [
       "HBox(children=(FloatProgress(value=0.0, max=19.0), HTML(value='')))"
      ]
     },
     "metadata": {},
     "output_type": "display_data"
    },
    {
     "name": "stdout",
     "output_type": "stream",
     "text": [
      "\n",
      "epoch 1 - loss_train: 564.962 - loss_valid: 153.639\n"
     ]
    },
    {
     "data": {
      "application/vnd.jupyter.widget-view+json": {
       "model_id": "01899ef4c3e2479c9cdafe8198d35af8",
       "version_major": 2,
       "version_minor": 0
      },
      "text/plain": [
       "HBox(children=(FloatProgress(value=0.0, max=74.0), HTML(value='')))"
      ]
     },
     "metadata": {},
     "output_type": "display_data"
    },
    {
     "name": "stdout",
     "output_type": "stream",
     "text": [
      "tensor(6.8071, grad_fn=<AddBackward0>)\n",
      "tensor(5.2029, grad_fn=<AddBackward0>)\n",
      "tensor(5.6389, grad_fn=<AddBackward0>)\n",
      "tensor(4.9276, grad_fn=<AddBackward0>)\n",
      "tensor(10.4237, grad_fn=<AddBackward0>)\n",
      "tensor(5.6532, grad_fn=<AddBackward0>)\n",
      "tensor(5.5398, grad_fn=<AddBackward0>)\n",
      "tensor(5.2076, grad_fn=<AddBackward0>)\n",
      "tensor(11.2870, grad_fn=<AddBackward0>)\n",
      "tensor(10.4238, grad_fn=<AddBackward0>)\n",
      "tensor(4.8681, grad_fn=<AddBackward0>)\n",
      "tensor(6.1919, grad_fn=<AddBackward0>)\n",
      "tensor(11.9445, grad_fn=<AddBackward0>)\n",
      "tensor(5.2906, grad_fn=<AddBackward0>)\n",
      "tensor(16.6916, grad_fn=<AddBackward0>)\n",
      "tensor(6.1618, grad_fn=<AddBackward0>)\n",
      "tensor(5.8024, grad_fn=<AddBackward0>)\n",
      "tensor(5.7333, grad_fn=<AddBackward0>)\n",
      "tensor(6.0102, grad_fn=<AddBackward0>)\n",
      "tensor(10.3797, grad_fn=<AddBackward0>)\n",
      "tensor(8.0717, grad_fn=<AddBackward0>)\n",
      "tensor(5.0374, grad_fn=<AddBackward0>)\n",
      "tensor(4.3454, grad_fn=<AddBackward0>)\n",
      "tensor(5.1559, grad_fn=<AddBackward0>)\n",
      "tensor(6.6478, grad_fn=<AddBackward0>)\n",
      "tensor(7.0174, grad_fn=<AddBackward0>)\n",
      "tensor(5.5751, grad_fn=<AddBackward0>)\n",
      "tensor(5.0200, grad_fn=<AddBackward0>)\n",
      "tensor(5.5644, grad_fn=<AddBackward0>)\n",
      "tensor(8.2627, grad_fn=<AddBackward0>)\n",
      "tensor(5.5606, grad_fn=<AddBackward0>)\n",
      "tensor(5.3229, grad_fn=<AddBackward0>)\n",
      "tensor(4.7672, grad_fn=<AddBackward0>)\n",
      "tensor(5.7150, grad_fn=<AddBackward0>)\n",
      "tensor(5.8910, grad_fn=<AddBackward0>)\n",
      "tensor(4.4840, grad_fn=<AddBackward0>)\n",
      "tensor(5.3659, grad_fn=<AddBackward0>)\n",
      "tensor(6.0494, grad_fn=<AddBackward0>)\n",
      "tensor(6.3314, grad_fn=<AddBackward0>)\n",
      "tensor(10.1213, grad_fn=<AddBackward0>)\n",
      "tensor(7.6837, grad_fn=<AddBackward0>)\n",
      "tensor(6.0136, grad_fn=<AddBackward0>)\n",
      "tensor(6.5478, grad_fn=<AddBackward0>)\n",
      "tensor(4.9268, grad_fn=<AddBackward0>)\n",
      "tensor(5.6020, grad_fn=<AddBackward0>)\n",
      "tensor(13.6902, grad_fn=<AddBackward0>)\n",
      "tensor(5.0092, grad_fn=<AddBackward0>)\n",
      "tensor(5.4188, grad_fn=<AddBackward0>)\n",
      "tensor(5.1546, grad_fn=<AddBackward0>)\n",
      "tensor(14.8861, grad_fn=<AddBackward0>)\n",
      "tensor(6.6189, grad_fn=<AddBackward0>)\n",
      "tensor(6.2592, grad_fn=<AddBackward0>)\n",
      "tensor(5.0902, grad_fn=<AddBackward0>)\n",
      "tensor(9.7983, grad_fn=<AddBackward0>)\n",
      "tensor(7.2085, grad_fn=<AddBackward0>)\n",
      "tensor(4.0844, grad_fn=<AddBackward0>)\n",
      "tensor(5.1873, grad_fn=<AddBackward0>)\n",
      "tensor(10.7753, grad_fn=<AddBackward0>)\n",
      "tensor(9.3382, grad_fn=<AddBackward0>)\n",
      "tensor(6.6640, grad_fn=<AddBackward0>)\n",
      "tensor(4.5954, grad_fn=<AddBackward0>)\n",
      "tensor(5.2793, grad_fn=<AddBackward0>)\n",
      "tensor(11.3696, grad_fn=<AddBackward0>)\n",
      "tensor(4.9745, grad_fn=<AddBackward0>)\n",
      "tensor(6.8131, grad_fn=<AddBackward0>)\n",
      "tensor(6.5148, grad_fn=<AddBackward0>)\n",
      "tensor(4.3709, grad_fn=<AddBackward0>)\n",
      "tensor(5.5442, grad_fn=<AddBackward0>)\n",
      "tensor(5.3998, grad_fn=<AddBackward0>)\n",
      "tensor(8.5223, grad_fn=<AddBackward0>)\n",
      "tensor(7.6515, grad_fn=<AddBackward0>)\n",
      "tensor(4.6986, grad_fn=<AddBackward0>)\n",
      "tensor(9.2258, grad_fn=<AddBackward0>)\n",
      "tensor(5.3591, grad_fn=<AddBackward0>)\n",
      "\n"
     ]
    },
    {
     "data": {
      "application/vnd.jupyter.widget-view+json": {
       "model_id": "d9340f64fabf4260a750358902247ffb",
       "version_major": 2,
       "version_minor": 0
      },
      "text/plain": [
       "HBox(children=(FloatProgress(value=0.0, max=19.0), HTML(value='')))"
      ]
     },
     "metadata": {},
     "output_type": "display_data"
    },
    {
     "name": "stdout",
     "output_type": "stream",
     "text": [
      "\n",
      "epoch 2 - loss_train: 506.768 - loss_valid: 143.7\n"
     ]
    },
    {
     "data": {
      "application/vnd.jupyter.widget-view+json": {
       "model_id": "9d54822ad1df4c479d06202ace8495da",
       "version_major": 2,
       "version_minor": 0
      },
      "text/plain": [
       "HBox(children=(FloatProgress(value=0.0, max=74.0), HTML(value='')))"
      ]
     },
     "metadata": {},
     "output_type": "display_data"
    },
    {
     "name": "stdout",
     "output_type": "stream",
     "text": [
      "tensor(7.0911, grad_fn=<AddBackward0>)\n",
      "tensor(4.6317, grad_fn=<AddBackward0>)\n",
      "tensor(4.8988, grad_fn=<AddBackward0>)\n",
      "tensor(4.8732, grad_fn=<AddBackward0>)\n",
      "tensor(10.4070, grad_fn=<AddBackward0>)\n",
      "tensor(4.7845, grad_fn=<AddBackward0>)\n",
      "tensor(4.8295, grad_fn=<AddBackward0>)\n",
      "tensor(4.8145, grad_fn=<AddBackward0>)\n",
      "tensor(11.7755, grad_fn=<AddBackward0>)\n",
      "tensor(9.4923, grad_fn=<AddBackward0>)\n",
      "tensor(4.6781, grad_fn=<AddBackward0>)\n",
      "tensor(5.4411, grad_fn=<AddBackward0>)\n",
      "tensor(10.8914, grad_fn=<AddBackward0>)\n",
      "tensor(4.7082, grad_fn=<AddBackward0>)\n",
      "tensor(15.1668, grad_fn=<AddBackward0>)\n",
      "tensor(6.2218, grad_fn=<AddBackward0>)\n",
      "tensor(4.8269, grad_fn=<AddBackward0>)\n",
      "tensor(5.8758, grad_fn=<AddBackward0>)\n",
      "tensor(5.7826, grad_fn=<AddBackward0>)\n",
      "tensor(8.3913, grad_fn=<AddBackward0>)\n",
      "tensor(6.9584, grad_fn=<AddBackward0>)\n",
      "tensor(4.6140, grad_fn=<AddBackward0>)\n",
      "tensor(4.2160, grad_fn=<AddBackward0>)\n",
      "tensor(4.5247, grad_fn=<AddBackward0>)\n",
      "tensor(5.6797, grad_fn=<AddBackward0>)\n",
      "tensor(8.0428, grad_fn=<AddBackward0>)\n",
      "tensor(5.4294, grad_fn=<AddBackward0>)\n",
      "tensor(4.3584, grad_fn=<AddBackward0>)\n",
      "tensor(5.3933, grad_fn=<AddBackward0>)\n",
      "tensor(8.3035, grad_fn=<AddBackward0>)\n",
      "tensor(4.5199, grad_fn=<AddBackward0>)\n",
      "tensor(4.6374, grad_fn=<AddBackward0>)\n",
      "tensor(4.4694, grad_fn=<AddBackward0>)\n",
      "tensor(5.5490, grad_fn=<AddBackward0>)\n",
      "tensor(5.5473, grad_fn=<AddBackward0>)\n",
      "tensor(4.4320, grad_fn=<AddBackward0>)\n",
      "tensor(5.2649, grad_fn=<AddBackward0>)\n",
      "tensor(5.4595, grad_fn=<AddBackward0>)\n",
      "tensor(5.9638, grad_fn=<AddBackward0>)\n",
      "tensor(9.1573, grad_fn=<AddBackward0>)\n",
      "tensor(7.2642, grad_fn=<AddBackward0>)\n",
      "tensor(6.0178, grad_fn=<AddBackward0>)\n",
      "tensor(6.7047, grad_fn=<AddBackward0>)\n",
      "tensor(4.7553, grad_fn=<AddBackward0>)\n",
      "tensor(5.0288, grad_fn=<AddBackward0>)\n",
      "tensor(13.2631, grad_fn=<AddBackward0>)\n",
      "tensor(5.1826, grad_fn=<AddBackward0>)\n",
      "tensor(5.2226, grad_fn=<AddBackward0>)\n",
      "tensor(4.6285, grad_fn=<AddBackward0>)\n",
      "tensor(13.5988, grad_fn=<AddBackward0>)\n",
      "tensor(6.2188, grad_fn=<AddBackward0>)\n",
      "tensor(5.7213, grad_fn=<AddBackward0>)\n",
      "tensor(4.5609, grad_fn=<AddBackward0>)\n",
      "tensor(12.5483, grad_fn=<AddBackward0>)\n",
      "tensor(6.3327, grad_fn=<AddBackward0>)\n",
      "tensor(4.0822, grad_fn=<AddBackward0>)\n",
      "tensor(4.3821, grad_fn=<AddBackward0>)\n",
      "tensor(8.5776, grad_fn=<AddBackward0>)\n",
      "tensor(8.0046, grad_fn=<AddBackward0>)\n",
      "tensor(6.2709, grad_fn=<AddBackward0>)\n",
      "tensor(4.3207, grad_fn=<AddBackward0>)\n",
      "tensor(4.4026, grad_fn=<AddBackward0>)\n",
      "tensor(10.2983, grad_fn=<AddBackward0>)\n",
      "tensor(4.4839, grad_fn=<AddBackward0>)\n",
      "tensor(6.4809, grad_fn=<AddBackward0>)\n",
      "tensor(7.3265, grad_fn=<AddBackward0>)\n",
      "tensor(4.2703, grad_fn=<AddBackward0>)\n",
      "tensor(5.3037, grad_fn=<AddBackward0>)\n",
      "tensor(5.1118, grad_fn=<AddBackward0>)\n",
      "tensor(7.6732, grad_fn=<AddBackward0>)\n",
      "tensor(7.7848, grad_fn=<AddBackward0>)\n",
      "tensor(4.3186, grad_fn=<AddBackward0>)\n",
      "tensor(8.6014, grad_fn=<AddBackward0>)\n",
      "tensor(5.4774, grad_fn=<AddBackward0>)\n",
      "\n"
     ]
    },
    {
     "data": {
      "application/vnd.jupyter.widget-view+json": {
       "model_id": "422acbcade4c477db6ce488c4a944a8f",
       "version_major": 2,
       "version_minor": 0
      },
      "text/plain": [
       "HBox(children=(FloatProgress(value=0.0, max=19.0), HTML(value='')))"
      ]
     },
     "metadata": {},
     "output_type": "display_data"
    },
    {
     "name": "stdout",
     "output_type": "stream",
     "text": [
      "\n",
      "epoch 3 - loss_train: 476.323 - loss_valid: 145.527\n"
     ]
    },
    {
     "data": {
      "application/vnd.jupyter.widget-view+json": {
       "model_id": "5ff0704b81fb40ca8bf4dd2646a60697",
       "version_major": 2,
       "version_minor": 0
      },
      "text/plain": [
       "HBox(children=(FloatProgress(value=0.0, max=74.0), HTML(value='')))"
      ]
     },
     "metadata": {},
     "output_type": "display_data"
    },
    {
     "name": "stdout",
     "output_type": "stream",
     "text": [
      "tensor(5.8876, grad_fn=<AddBackward0>)\n",
      "tensor(4.2191, grad_fn=<AddBackward0>)\n",
      "tensor(5.0486, grad_fn=<AddBackward0>)\n",
      "tensor(4.2879, grad_fn=<AddBackward0>)\n",
      "tensor(8.7557, grad_fn=<AddBackward0>)\n",
      "tensor(4.2077, grad_fn=<AddBackward0>)\n",
      "tensor(5.4648, grad_fn=<AddBackward0>)\n",
      "tensor(4.2296, grad_fn=<AddBackward0>)\n",
      "tensor(11.3488, grad_fn=<AddBackward0>)\n",
      "tensor(11.4836, grad_fn=<AddBackward0>)\n",
      "tensor(5.2353, grad_fn=<AddBackward0>)\n",
      "tensor(4.7876, grad_fn=<AddBackward0>)\n",
      "tensor(10.4500, grad_fn=<AddBackward0>)\n",
      "tensor(4.1362, grad_fn=<AddBackward0>)\n",
      "tensor(14.3191, grad_fn=<AddBackward0>)\n",
      "tensor(5.5210, grad_fn=<AddBackward0>)\n",
      "tensor(4.2720, grad_fn=<AddBackward0>)\n",
      "tensor(5.6319, grad_fn=<AddBackward0>)\n",
      "tensor(6.6013, grad_fn=<AddBackward0>)\n",
      "tensor(7.5529, grad_fn=<AddBackward0>)\n",
      "tensor(6.5096, grad_fn=<AddBackward0>)\n",
      "tensor(4.9283, grad_fn=<AddBackward0>)\n",
      "tensor(4.2874, grad_fn=<AddBackward0>)\n",
      "tensor(4.7524, grad_fn=<AddBackward0>)\n",
      "tensor(5.7788, grad_fn=<AddBackward0>)\n",
      "tensor(7.6269, grad_fn=<AddBackward0>)\n",
      "tensor(4.9446, grad_fn=<AddBackward0>)\n",
      "tensor(3.8344, grad_fn=<AddBackward0>)\n",
      "tensor(5.0345, grad_fn=<AddBackward0>)\n",
      "tensor(6.4814, grad_fn=<AddBackward0>)\n",
      "tensor(4.8209, grad_fn=<AddBackward0>)\n",
      "tensor(5.0424, grad_fn=<AddBackward0>)\n",
      "tensor(4.3128, grad_fn=<AddBackward0>)\n",
      "tensor(6.0068, grad_fn=<AddBackward0>)\n",
      "tensor(5.3745, grad_fn=<AddBackward0>)\n",
      "tensor(4.4638, grad_fn=<AddBackward0>)\n",
      "tensor(4.9197, grad_fn=<AddBackward0>)\n",
      "tensor(4.7087, grad_fn=<AddBackward0>)\n",
      "tensor(6.2417, grad_fn=<AddBackward0>)\n",
      "tensor(8.1741, grad_fn=<AddBackward0>)\n",
      "tensor(5.8463, grad_fn=<AddBackward0>)\n",
      "tensor(7.2341, grad_fn=<AddBackward0>)\n",
      "tensor(5.5280, grad_fn=<AddBackward0>)\n",
      "tensor(4.5958, grad_fn=<AddBackward0>)\n",
      "tensor(4.8016, grad_fn=<AddBackward0>)\n",
      "tensor(14.7080, grad_fn=<AddBackward0>)\n",
      "tensor(4.6235, grad_fn=<AddBackward0>)\n",
      "tensor(4.3479, grad_fn=<AddBackward0>)\n",
      "tensor(5.6104, grad_fn=<AddBackward0>)\n",
      "tensor(15.9084, grad_fn=<AddBackward0>)\n",
      "tensor(6.7198, grad_fn=<AddBackward0>)\n",
      "tensor(5.4069, grad_fn=<AddBackward0>)\n",
      "tensor(4.4367, grad_fn=<AddBackward0>)\n",
      "tensor(13.7286, grad_fn=<AddBackward0>)\n",
      "tensor(5.2922, grad_fn=<AddBackward0>)\n",
      "tensor(4.3664, grad_fn=<AddBackward0>)\n",
      "tensor(4.4716, grad_fn=<AddBackward0>)\n",
      "tensor(7.1443, grad_fn=<AddBackward0>)\n",
      "tensor(7.3815, grad_fn=<AddBackward0>)\n",
      "tensor(5.4717, grad_fn=<AddBackward0>)\n",
      "tensor(4.5381, grad_fn=<AddBackward0>)\n",
      "tensor(4.4019, grad_fn=<AddBackward0>)\n",
      "tensor(10.3668, grad_fn=<AddBackward0>)\n",
      "tensor(4.2622, grad_fn=<AddBackward0>)\n",
      "tensor(6.4107, grad_fn=<AddBackward0>)\n",
      "tensor(6.6816, grad_fn=<AddBackward0>)\n",
      "tensor(4.2128, grad_fn=<AddBackward0>)\n",
      "tensor(5.0786, grad_fn=<AddBackward0>)\n",
      "tensor(4.6933, grad_fn=<AddBackward0>)\n",
      "tensor(7.3246, grad_fn=<AddBackward0>)\n",
      "tensor(6.8033, grad_fn=<AddBackward0>)\n",
      "tensor(4.7040, grad_fn=<AddBackward0>)\n",
      "tensor(9.1092, grad_fn=<AddBackward0>)\n",
      "tensor(5.2673, grad_fn=<AddBackward0>)\n",
      "\n"
     ]
    },
    {
     "data": {
      "application/vnd.jupyter.widget-view+json": {
       "model_id": "f2c0baa94c3c4773b7a917da92f1a311",
       "version_major": 2,
       "version_minor": 0
      },
      "text/plain": [
       "HBox(children=(FloatProgress(value=0.0, max=19.0), HTML(value='')))"
      ]
     },
     "metadata": {},
     "output_type": "display_data"
    },
    {
     "name": "stdout",
     "output_type": "stream",
     "text": [
      "\n",
      "epoch 4 - loss_train: 463.162 - loss_valid: 143.295\n"
     ]
    },
    {
     "data": {
      "application/vnd.jupyter.widget-view+json": {
       "model_id": "c4d0b22e5240470fa45c52edbf508f66",
       "version_major": 2,
       "version_minor": 0
      },
      "text/plain": [
       "HBox(children=(FloatProgress(value=0.0, max=74.0), HTML(value='')))"
      ]
     },
     "metadata": {},
     "output_type": "display_data"
    },
    {
     "name": "stdout",
     "output_type": "stream",
     "text": [
      "tensor(5.9518, grad_fn=<AddBackward0>)\n",
      "tensor(3.9519, grad_fn=<AddBackward0>)\n",
      "tensor(4.7261, grad_fn=<AddBackward0>)\n",
      "tensor(4.3481, grad_fn=<AddBackward0>)\n",
      "tensor(8.9319, grad_fn=<AddBackward0>)\n",
      "tensor(4.0497, grad_fn=<AddBackward0>)\n",
      "tensor(5.4410, grad_fn=<AddBackward0>)\n",
      "tensor(3.9214, grad_fn=<AddBackward0>)\n",
      "tensor(10.8746, grad_fn=<AddBackward0>)\n",
      "tensor(10.2818, grad_fn=<AddBackward0>)\n",
      "tensor(4.7808, grad_fn=<AddBackward0>)\n",
      "tensor(4.3973, grad_fn=<AddBackward0>)\n",
      "tensor(8.7418, grad_fn=<AddBackward0>)\n",
      "tensor(3.7351, grad_fn=<AddBackward0>)\n",
      "tensor(14.0835, grad_fn=<AddBackward0>)\n",
      "tensor(4.7531, grad_fn=<AddBackward0>)\n",
      "tensor(4.1437, grad_fn=<AddBackward0>)\n",
      "tensor(5.4919, grad_fn=<AddBackward0>)\n",
      "tensor(7.3417, grad_fn=<AddBackward0>)\n",
      "tensor(7.7751, grad_fn=<AddBackward0>)\n",
      "tensor(5.2229, grad_fn=<AddBackward0>)\n",
      "tensor(4.8788, grad_fn=<AddBackward0>)\n",
      "tensor(5.2837, grad_fn=<AddBackward0>)\n",
      "tensor(4.5515, grad_fn=<AddBackward0>)\n",
      "tensor(5.5976, grad_fn=<AddBackward0>)\n",
      "tensor(9.2228, grad_fn=<AddBackward0>)\n",
      "tensor(5.7124, grad_fn=<AddBackward0>)\n",
      "tensor(4.0172, grad_fn=<AddBackward0>)\n",
      "tensor(5.1693, grad_fn=<AddBackward0>)\n",
      "tensor(5.7995, grad_fn=<AddBackward0>)\n",
      "tensor(5.4830, grad_fn=<AddBackward0>)\n",
      "tensor(6.4520, grad_fn=<AddBackward0>)\n",
      "tensor(4.2117, grad_fn=<AddBackward0>)\n",
      "tensor(5.6656, grad_fn=<AddBackward0>)\n",
      "tensor(5.1777, grad_fn=<AddBackward0>)\n",
      "tensor(4.5500, grad_fn=<AddBackward0>)\n",
      "tensor(4.8177, grad_fn=<AddBackward0>)\n",
      "tensor(4.2737, grad_fn=<AddBackward0>)\n",
      "tensor(5.5633, grad_fn=<AddBackward0>)\n",
      "tensor(8.1340, grad_fn=<AddBackward0>)\n",
      "tensor(4.7180, grad_fn=<AddBackward0>)\n",
      "tensor(7.6666, grad_fn=<AddBackward0>)\n",
      "tensor(4.8805, grad_fn=<AddBackward0>)\n",
      "tensor(4.4371, grad_fn=<AddBackward0>)\n",
      "tensor(5.1130, grad_fn=<AddBackward0>)\n",
      "tensor(14.3936, grad_fn=<AddBackward0>)\n",
      "tensor(4.3380, grad_fn=<AddBackward0>)\n",
      "tensor(4.1308, grad_fn=<AddBackward0>)\n",
      "tensor(5.1693, grad_fn=<AddBackward0>)\n",
      "tensor(15.2911, grad_fn=<AddBackward0>)\n",
      "tensor(6.1610, grad_fn=<AddBackward0>)\n",
      "tensor(6.4991, grad_fn=<AddBackward0>)\n",
      "tensor(4.0511, grad_fn=<AddBackward0>)\n",
      "tensor(15.6772, grad_fn=<AddBackward0>)\n",
      "tensor(6.5448, grad_fn=<AddBackward0>)\n",
      "tensor(5.3772, grad_fn=<AddBackward0>)\n",
      "tensor(4.3625, grad_fn=<AddBackward0>)\n",
      "tensor(9.4824, grad_fn=<AddBackward0>)\n",
      "tensor(6.9498, grad_fn=<AddBackward0>)\n",
      "tensor(5.1893, grad_fn=<AddBackward0>)\n",
      "tensor(4.7492, grad_fn=<AddBackward0>)\n",
      "tensor(4.2938, grad_fn=<AddBackward0>)\n",
      "tensor(7.7459, grad_fn=<AddBackward0>)\n",
      "tensor(4.1500, grad_fn=<AddBackward0>)\n",
      "tensor(5.8344, grad_fn=<AddBackward0>)\n",
      "tensor(5.2791, grad_fn=<AddBackward0>)\n",
      "tensor(4.2294, grad_fn=<AddBackward0>)\n",
      "tensor(4.3810, grad_fn=<AddBackward0>)\n",
      "tensor(4.6488, grad_fn=<AddBackward0>)\n",
      "tensor(7.4250, grad_fn=<AddBackward0>)\n",
      "tensor(6.0616, grad_fn=<AddBackward0>)\n",
      "tensor(4.1789, grad_fn=<AddBackward0>)\n",
      "tensor(10.1346, grad_fn=<AddBackward0>)\n",
      "tensor(4.4683, grad_fn=<AddBackward0>)\n",
      "\n"
     ]
    },
    {
     "data": {
      "application/vnd.jupyter.widget-view+json": {
       "model_id": "a22455275e174992ad94c1724540e3fe",
       "version_major": 2,
       "version_minor": 0
      },
      "text/plain": [
       "HBox(children=(FloatProgress(value=0.0, max=19.0), HTML(value='')))"
      ]
     },
     "metadata": {},
     "output_type": "display_data"
    },
    {
     "name": "stdout",
     "output_type": "stream",
     "text": [
      "\n",
      "epoch 5 - loss_train: 455.519 - loss_valid: 138.543\n"
     ]
    },
    {
     "data": {
      "application/vnd.jupyter.widget-view+json": {
       "model_id": "235589a9941147ccb14a420709b96fcd",
       "version_major": 2,
       "version_minor": 0
      },
      "text/plain": [
       "HBox(children=(FloatProgress(value=0.0, max=74.0), HTML(value='')))"
      ]
     },
     "metadata": {},
     "output_type": "display_data"
    },
    {
     "name": "stdout",
     "output_type": "stream",
     "text": [
      "tensor(6.2601, grad_fn=<AddBackward0>)\n",
      "tensor(3.9866, grad_fn=<AddBackward0>)\n",
      "tensor(5.0616, grad_fn=<AddBackward0>)\n",
      "tensor(4.1970, grad_fn=<AddBackward0>)\n",
      "tensor(7.8287, grad_fn=<AddBackward0>)\n",
      "tensor(3.8438, grad_fn=<AddBackward0>)\n",
      "tensor(5.2745, grad_fn=<AddBackward0>)\n",
      "tensor(3.8651, grad_fn=<AddBackward0>)\n",
      "tensor(9.0998, grad_fn=<AddBackward0>)\n",
      "tensor(10.5051, grad_fn=<AddBackward0>)\n",
      "tensor(4.2912, grad_fn=<AddBackward0>)\n",
      "tensor(3.8415, grad_fn=<AddBackward0>)\n",
      "tensor(6.6632, grad_fn=<AddBackward0>)\n",
      "tensor(4.2922, grad_fn=<AddBackward0>)\n",
      "tensor(16.8637, grad_fn=<AddBackward0>)\n",
      "tensor(5.2063, grad_fn=<AddBackward0>)\n",
      "tensor(4.6022, grad_fn=<AddBackward0>)\n",
      "tensor(5.2184, grad_fn=<AddBackward0>)\n",
      "tensor(8.3808, grad_fn=<AddBackward0>)\n",
      "tensor(5.6825, grad_fn=<AddBackward0>)\n",
      "tensor(6.4019, grad_fn=<AddBackward0>)\n",
      "tensor(5.4236, grad_fn=<AddBackward0>)\n",
      "tensor(4.5919, grad_fn=<AddBackward0>)\n",
      "tensor(5.2249, grad_fn=<AddBackward0>)\n",
      "tensor(4.6262, grad_fn=<AddBackward0>)\n",
      "tensor(10.6848, grad_fn=<AddBackward0>)\n",
      "tensor(5.8857, grad_fn=<AddBackward0>)\n",
      "tensor(4.6118, grad_fn=<AddBackward0>)\n",
      "tensor(5.4918, grad_fn=<AddBackward0>)\n",
      "tensor(7.2597, grad_fn=<AddBackward0>)\n",
      "tensor(5.9254, grad_fn=<AddBackward0>)\n",
      "tensor(7.6503, grad_fn=<AddBackward0>)\n",
      "tensor(4.4205, grad_fn=<AddBackward0>)\n",
      "tensor(6.1311, grad_fn=<AddBackward0>)\n",
      "tensor(5.3046, grad_fn=<AddBackward0>)\n",
      "tensor(3.9042, grad_fn=<AddBackward0>)\n",
      "tensor(4.8742, grad_fn=<AddBackward0>)\n",
      "tensor(4.0804, grad_fn=<AddBackward0>)\n",
      "tensor(7.1725, grad_fn=<AddBackward0>)\n",
      "tensor(10.6229, grad_fn=<AddBackward0>)\n",
      "tensor(5.4148, grad_fn=<AddBackward0>)\n",
      "tensor(7.1883, grad_fn=<AddBackward0>)\n",
      "tensor(4.7707, grad_fn=<AddBackward0>)\n",
      "tensor(4.7888, grad_fn=<AddBackward0>)\n",
      "tensor(6.2957, grad_fn=<AddBackward0>)\n",
      "tensor(12.6100, grad_fn=<AddBackward0>)\n",
      "tensor(4.4697, grad_fn=<AddBackward0>)\n",
      "tensor(4.2302, grad_fn=<AddBackward0>)\n",
      "tensor(4.9086, grad_fn=<AddBackward0>)\n",
      "tensor(14.3046, grad_fn=<AddBackward0>)\n",
      "tensor(5.7869, grad_fn=<AddBackward0>)\n",
      "tensor(6.7747, grad_fn=<AddBackward0>)\n",
      "tensor(3.9423, grad_fn=<AddBackward0>)\n",
      "tensor(14.9057, grad_fn=<AddBackward0>)\n",
      "tensor(5.8263, grad_fn=<AddBackward0>)\n",
      "tensor(4.1720, grad_fn=<AddBackward0>)\n",
      "tensor(4.3226, grad_fn=<AddBackward0>)\n",
      "tensor(7.4884, grad_fn=<AddBackward0>)\n",
      "tensor(5.6814, grad_fn=<AddBackward0>)\n",
      "tensor(5.3383, grad_fn=<AddBackward0>)\n",
      "tensor(3.9539, grad_fn=<AddBackward0>)\n",
      "tensor(4.4185, grad_fn=<AddBackward0>)\n",
      "tensor(4.1187, grad_fn=<AddBackward0>)\n",
      "tensor(4.1605, grad_fn=<AddBackward0>)\n",
      "tensor(5.8989, grad_fn=<AddBackward0>)\n",
      "tensor(4.1717, grad_fn=<AddBackward0>)\n",
      "tensor(3.9611, grad_fn=<AddBackward0>)\n",
      "tensor(3.8483, grad_fn=<AddBackward0>)\n",
      "tensor(4.2664, grad_fn=<AddBackward0>)\n",
      "tensor(6.0762, grad_fn=<AddBackward0>)\n",
      "tensor(7.9711, grad_fn=<AddBackward0>)\n",
      "tensor(4.2189, grad_fn=<AddBackward0>)\n",
      "tensor(12.6181, grad_fn=<AddBackward0>)\n",
      "tensor(3.9903, grad_fn=<AddBackward0>)\n",
      "\n"
     ]
    },
    {
     "data": {
      "application/vnd.jupyter.widget-view+json": {
       "model_id": "827debf854eb4a8781fc6c688a721fe4",
       "version_major": 2,
       "version_minor": 0
      },
      "text/plain": [
       "HBox(children=(FloatProgress(value=0.0, max=19.0), HTML(value='')))"
      ]
     },
     "metadata": {},
     "output_type": "display_data"
    },
    {
     "name": "stdout",
     "output_type": "stream",
     "text": [
      "\n",
      "epoch 6 - loss_train: 452.145 - loss_valid: 141.36\n"
     ]
    },
    {
     "data": {
      "application/vnd.jupyter.widget-view+json": {
       "model_id": "e0296fb736e3460aa9412e3260a2f2c3",
       "version_major": 2,
       "version_minor": 0
      },
      "text/plain": [
       "HBox(children=(FloatProgress(value=0.0, max=74.0), HTML(value='')))"
      ]
     },
     "metadata": {},
     "output_type": "display_data"
    },
    {
     "name": "stdout",
     "output_type": "stream",
     "text": [
      "tensor(5.3423, grad_fn=<AddBackward0>)\n",
      "tensor(3.9018, grad_fn=<AddBackward0>)\n",
      "tensor(4.2212, grad_fn=<AddBackward0>)\n",
      "tensor(4.4765, grad_fn=<AddBackward0>)\n",
      "tensor(9.8165, grad_fn=<AddBackward0>)\n",
      "tensor(3.8228, grad_fn=<AddBackward0>)\n",
      "tensor(4.7231, grad_fn=<AddBackward0>)\n",
      "tensor(4.0622, grad_fn=<AddBackward0>)\n",
      "tensor(9.0704, grad_fn=<AddBackward0>)\n",
      "tensor(10.3249, grad_fn=<AddBackward0>)\n",
      "tensor(4.3950, grad_fn=<AddBackward0>)\n",
      "tensor(3.7458, grad_fn=<AddBackward0>)\n",
      "tensor(5.0440, grad_fn=<AddBackward0>)\n",
      "tensor(4.1995, grad_fn=<AddBackward0>)\n",
      "tensor(14.3149, grad_fn=<AddBackward0>)\n",
      "tensor(5.0848, grad_fn=<AddBackward0>)\n",
      "tensor(4.0687, grad_fn=<AddBackward0>)\n",
      "tensor(5.6892, grad_fn=<AddBackward0>)\n",
      "tensor(7.7981, grad_fn=<AddBackward0>)\n",
      "tensor(5.5955, grad_fn=<AddBackward0>)\n",
      "tensor(6.9694, grad_fn=<AddBackward0>)\n",
      "tensor(4.8980, grad_fn=<AddBackward0>)\n",
      "tensor(4.0116, grad_fn=<AddBackward0>)\n",
      "tensor(4.3682, grad_fn=<AddBackward0>)\n",
      "tensor(4.6536, grad_fn=<AddBackward0>)\n",
      "tensor(5.7745, grad_fn=<AddBackward0>)\n",
      "tensor(4.9864, grad_fn=<AddBackward0>)\n",
      "tensor(4.4262, grad_fn=<AddBackward0>)\n",
      "tensor(5.5547, grad_fn=<AddBackward0>)\n",
      "tensor(6.4315, grad_fn=<AddBackward0>)\n",
      "tensor(5.3349, grad_fn=<AddBackward0>)\n",
      "tensor(9.3308, grad_fn=<AddBackward0>)\n",
      "tensor(4.6466, grad_fn=<AddBackward0>)\n",
      "tensor(7.4837, grad_fn=<AddBackward0>)\n",
      "tensor(4.2786, grad_fn=<AddBackward0>)\n",
      "tensor(3.7314, grad_fn=<AddBackward0>)\n",
      "tensor(4.3199, grad_fn=<AddBackward0>)\n",
      "tensor(4.0516, grad_fn=<AddBackward0>)\n",
      "tensor(5.6179, grad_fn=<AddBackward0>)\n",
      "tensor(9.3199, grad_fn=<AddBackward0>)\n",
      "tensor(4.4288, grad_fn=<AddBackward0>)\n",
      "tensor(6.6905, grad_fn=<AddBackward0>)\n",
      "tensor(4.8315, grad_fn=<AddBackward0>)\n",
      "tensor(4.3175, grad_fn=<AddBackward0>)\n",
      "tensor(5.3807, grad_fn=<AddBackward0>)\n",
      "tensor(9.9398, grad_fn=<AddBackward0>)\n",
      "tensor(3.9714, grad_fn=<AddBackward0>)\n",
      "tensor(3.9950, grad_fn=<AddBackward0>)\n",
      "tensor(5.5337, grad_fn=<AddBackward0>)\n",
      "tensor(12.8955, grad_fn=<AddBackward0>)\n",
      "tensor(6.4362, grad_fn=<AddBackward0>)\n",
      "tensor(5.6140, grad_fn=<AddBackward0>)\n",
      "tensor(3.9075, grad_fn=<AddBackward0>)\n",
      "tensor(13.0102, grad_fn=<AddBackward0>)\n",
      "tensor(5.5787, grad_fn=<AddBackward0>)\n",
      "tensor(3.6340, grad_fn=<AddBackward0>)\n",
      "tensor(4.2888, grad_fn=<AddBackward0>)\n",
      "tensor(6.2230, grad_fn=<AddBackward0>)\n",
      "tensor(6.2438, grad_fn=<AddBackward0>)\n",
      "\n",
      "\n"
     ]
    },
    {
     "ename": "KeyboardInterrupt",
     "evalue": "",
     "output_type": "error",
     "traceback": [
      "\u001b[0;31m---------------------------------------------------------------------------\u001b[0m",
      "\u001b[0;31mKeyboardInterrupt\u001b[0m                         Traceback (most recent call last)",
      "\u001b[0;32m<ipython-input-68-7e0d61fd2d51>\u001b[0m in \u001b[0;36m<module>\u001b[0;34m\u001b[0m\n\u001b[1;32m     11\u001b[0m \u001b[0mencoder\u001b[0m \u001b[0;34m=\u001b[0m \u001b[0mEncoder\u001b[0m\u001b[0;34m(\u001b[0m\u001b[0membedding_dim\u001b[0m\u001b[0;34m=\u001b[0m\u001b[0;36m34\u001b[0m\u001b[0;34m)\u001b[0m\u001b[0;34m\u001b[0m\u001b[0;34m\u001b[0m\u001b[0m\n\u001b[1;32m     12\u001b[0m \u001b[0mdecoder\u001b[0m \u001b[0;34m=\u001b[0m \u001b[0mDecoder\u001b[0m\u001b[0;34m(\u001b[0m\u001b[0membedding_dim\u001b[0m\u001b[0;34m=\u001b[0m\u001b[0;36m34\u001b[0m\u001b[0;34m)\u001b[0m\u001b[0;34m\u001b[0m\u001b[0;34m\u001b[0m\u001b[0m\n\u001b[0;32m---> 13\u001b[0;31m \u001b[0mlosses_train_VICRreg\u001b[0m\u001b[0;34m,\u001b[0m \u001b[0mlosses_valid_VICRreg\u001b[0m \u001b[0;34m=\u001b[0m \u001b[0mtrain_VICReg\u001b[0m\u001b[0;34m(\u001b[0m\u001b[0mencoder\u001b[0m\u001b[0;34m,\u001b[0m \u001b[0mdecoder\u001b[0m\u001b[0;34m,\u001b[0m \u001b[0mdata\u001b[0m\u001b[0;34m,\u001b[0m \u001b[0mbatch_size\u001b[0m\u001b[0;34m,\u001b[0m \u001b[0mlr\u001b[0m\u001b[0;34m,\u001b[0m \u001b[0mepochs\u001b[0m\u001b[0;34m,\u001b[0m \u001b[0mlmbd\u001b[0m\u001b[0;34m,\u001b[0m \u001b[0mu\u001b[0m\u001b[0;34m,\u001b[0m \u001b[0mv\u001b[0m\u001b[0;34m)\u001b[0m\u001b[0;34m\u001b[0m\u001b[0;34m\u001b[0m\u001b[0m\n\u001b[0m",
      "\u001b[0;32m<ipython-input-21-dd4218bfc60a>\u001b[0m in \u001b[0;36mtrain_VICReg\u001b[0;34m(encoder, decoder, data, batch_size, lr, epochs, lmbd, u, v)\u001b[0m\n\u001b[1;32m     31\u001b[0m \u001b[0;34m\u001b[0m\u001b[0m\n\u001b[1;32m     32\u001b[0m             \u001b[0;31m### ENCODE\u001b[0m\u001b[0;34m\u001b[0m\u001b[0;34m\u001b[0m\u001b[0;34m\u001b[0m\u001b[0m\n\u001b[0;32m---> 33\u001b[0;31m             \u001b[0membedding_tracks\u001b[0m\u001b[0;34m,\u001b[0m \u001b[0membedding_clusters\u001b[0m \u001b[0;34m=\u001b[0m \u001b[0mencoder\u001b[0m\u001b[0;34m(\u001b[0m\u001b[0mtracks\u001b[0m\u001b[0;34m,\u001b[0m \u001b[0mclusters\u001b[0m\u001b[0;34m)\u001b[0m\u001b[0;34m\u001b[0m\u001b[0;34m\u001b[0m\u001b[0m\n\u001b[0m\u001b[1;32m     34\u001b[0m             \u001b[0;31m### POOLING\u001b[0m\u001b[0;34m\u001b[0m\u001b[0;34m\u001b[0m\u001b[0;34m\u001b[0m\u001b[0m\n\u001b[1;32m     35\u001b[0m             \u001b[0mpooled_tracks\u001b[0m \u001b[0;34m=\u001b[0m \u001b[0mglobal_mean_pool\u001b[0m\u001b[0;34m(\u001b[0m\u001b[0membedding_tracks\u001b[0m\u001b[0;34m,\u001b[0m \u001b[0mtracks\u001b[0m\u001b[0;34m.\u001b[0m\u001b[0mbatch\u001b[0m\u001b[0;34m)\u001b[0m\u001b[0;34m\u001b[0m\u001b[0;34m\u001b[0m\u001b[0m\n",
      "\u001b[0;32m/opt/anaconda3/envs/pyg-coffea/lib/python3.8/site-packages/torch/nn/modules/module.py\u001b[0m in \u001b[0;36m_call_impl\u001b[0;34m(self, *input, **kwargs)\u001b[0m\n\u001b[1;32m   1049\u001b[0m         if not (self._backward_hooks or self._forward_hooks or self._forward_pre_hooks or _global_backward_hooks\n\u001b[1;32m   1050\u001b[0m                 or _global_forward_hooks or _global_forward_pre_hooks):\n\u001b[0;32m-> 1051\u001b[0;31m             \u001b[0;32mreturn\u001b[0m \u001b[0mforward_call\u001b[0m\u001b[0;34m(\u001b[0m\u001b[0;34m*\u001b[0m\u001b[0minput\u001b[0m\u001b[0;34m,\u001b[0m \u001b[0;34m**\u001b[0m\u001b[0mkwargs\u001b[0m\u001b[0;34m)\u001b[0m\u001b[0;34m\u001b[0m\u001b[0;34m\u001b[0m\u001b[0m\n\u001b[0m\u001b[1;32m   1052\u001b[0m         \u001b[0;31m# Do not call functions when jit is used\u001b[0m\u001b[0;34m\u001b[0m\u001b[0;34m\u001b[0m\u001b[0;34m\u001b[0m\u001b[0m\n\u001b[1;32m   1053\u001b[0m         \u001b[0mfull_backward_hooks\u001b[0m\u001b[0;34m,\u001b[0m \u001b[0mnon_full_backward_hooks\u001b[0m \u001b[0;34m=\u001b[0m \u001b[0;34m[\u001b[0m\u001b[0;34m]\u001b[0m\u001b[0;34m,\u001b[0m \u001b[0;34m[\u001b[0m\u001b[0;34m]\u001b[0m\u001b[0;34m\u001b[0m\u001b[0;34m\u001b[0m\u001b[0m\n",
      "\u001b[0;32m<ipython-input-13-713fdb04bef2>\u001b[0m in \u001b[0;36mforward\u001b[0;34m(self, tracks, clusters)\u001b[0m\n\u001b[1;32m     39\u001b[0m     \u001b[0;32mdef\u001b[0m \u001b[0mforward\u001b[0m\u001b[0;34m(\u001b[0m\u001b[0mself\u001b[0m\u001b[0;34m,\u001b[0m \u001b[0mtracks\u001b[0m\u001b[0;34m,\u001b[0m \u001b[0mclusters\u001b[0m\u001b[0;34m)\u001b[0m\u001b[0;34m:\u001b[0m\u001b[0;34m\u001b[0m\u001b[0;34m\u001b[0m\u001b[0m\n\u001b[1;32m     40\u001b[0m \u001b[0;34m\u001b[0m\u001b[0m\n\u001b[0;32m---> 41\u001b[0;31m         \u001b[0membedding_tracks\u001b[0m \u001b[0;34m=\u001b[0m \u001b[0mself\u001b[0m\u001b[0;34m.\u001b[0m\u001b[0mnn1\u001b[0m\u001b[0;34m(\u001b[0m\u001b[0mtracks\u001b[0m\u001b[0;34m.\u001b[0m\u001b[0mx\u001b[0m\u001b[0;34m.\u001b[0m\u001b[0mfloat\u001b[0m\u001b[0;34m(\u001b[0m\u001b[0;34m)\u001b[0m\u001b[0;34m)\u001b[0m\u001b[0;34m\u001b[0m\u001b[0;34m\u001b[0m\u001b[0m\n\u001b[0m\u001b[1;32m     42\u001b[0m         \u001b[0membedding_clusters\u001b[0m \u001b[0;34m=\u001b[0m \u001b[0mself\u001b[0m\u001b[0;34m.\u001b[0m\u001b[0mnn2\u001b[0m\u001b[0;34m(\u001b[0m\u001b[0mclusters\u001b[0m\u001b[0;34m.\u001b[0m\u001b[0mx\u001b[0m\u001b[0;34m.\u001b[0m\u001b[0mfloat\u001b[0m\u001b[0;34m(\u001b[0m\u001b[0;34m)\u001b[0m\u001b[0;34m)\u001b[0m\u001b[0;34m\u001b[0m\u001b[0;34m\u001b[0m\u001b[0m\n\u001b[1;32m     43\u001b[0m \u001b[0;34m\u001b[0m\u001b[0m\n",
      "\u001b[0;32m/opt/anaconda3/envs/pyg-coffea/lib/python3.8/site-packages/torch/nn/modules/module.py\u001b[0m in \u001b[0;36m_call_impl\u001b[0;34m(self, *input, **kwargs)\u001b[0m\n\u001b[1;32m   1049\u001b[0m         if not (self._backward_hooks or self._forward_hooks or self._forward_pre_hooks or _global_backward_hooks\n\u001b[1;32m   1050\u001b[0m                 or _global_forward_hooks or _global_forward_pre_hooks):\n\u001b[0;32m-> 1051\u001b[0;31m             \u001b[0;32mreturn\u001b[0m \u001b[0mforward_call\u001b[0m\u001b[0;34m(\u001b[0m\u001b[0;34m*\u001b[0m\u001b[0minput\u001b[0m\u001b[0;34m,\u001b[0m \u001b[0;34m**\u001b[0m\u001b[0mkwargs\u001b[0m\u001b[0;34m)\u001b[0m\u001b[0;34m\u001b[0m\u001b[0;34m\u001b[0m\u001b[0m\n\u001b[0m\u001b[1;32m   1052\u001b[0m         \u001b[0;31m# Do not call functions when jit is used\u001b[0m\u001b[0;34m\u001b[0m\u001b[0;34m\u001b[0m\u001b[0;34m\u001b[0m\u001b[0m\n\u001b[1;32m   1053\u001b[0m         \u001b[0mfull_backward_hooks\u001b[0m\u001b[0;34m,\u001b[0m \u001b[0mnon_full_backward_hooks\u001b[0m \u001b[0;34m=\u001b[0m \u001b[0;34m[\u001b[0m\u001b[0;34m]\u001b[0m\u001b[0;34m,\u001b[0m \u001b[0;34m[\u001b[0m\u001b[0;34m]\u001b[0m\u001b[0;34m\u001b[0m\u001b[0;34m\u001b[0m\u001b[0m\n",
      "\u001b[0;32m/opt/anaconda3/envs/pyg-coffea/lib/python3.8/site-packages/torch/nn/modules/container.py\u001b[0m in \u001b[0;36mforward\u001b[0;34m(self, input)\u001b[0m\n\u001b[1;32m    137\u001b[0m     \u001b[0;32mdef\u001b[0m \u001b[0mforward\u001b[0m\u001b[0;34m(\u001b[0m\u001b[0mself\u001b[0m\u001b[0;34m,\u001b[0m \u001b[0minput\u001b[0m\u001b[0;34m)\u001b[0m\u001b[0;34m:\u001b[0m\u001b[0;34m\u001b[0m\u001b[0;34m\u001b[0m\u001b[0m\n\u001b[1;32m    138\u001b[0m         \u001b[0;32mfor\u001b[0m \u001b[0mmodule\u001b[0m \u001b[0;32min\u001b[0m \u001b[0mself\u001b[0m\u001b[0;34m:\u001b[0m\u001b[0;34m\u001b[0m\u001b[0;34m\u001b[0m\u001b[0m\n\u001b[0;32m--> 139\u001b[0;31m             \u001b[0minput\u001b[0m \u001b[0;34m=\u001b[0m \u001b[0mmodule\u001b[0m\u001b[0;34m(\u001b[0m\u001b[0minput\u001b[0m\u001b[0;34m)\u001b[0m\u001b[0;34m\u001b[0m\u001b[0;34m\u001b[0m\u001b[0m\n\u001b[0m\u001b[1;32m    140\u001b[0m         \u001b[0;32mreturn\u001b[0m \u001b[0minput\u001b[0m\u001b[0;34m\u001b[0m\u001b[0;34m\u001b[0m\u001b[0m\n\u001b[1;32m    141\u001b[0m \u001b[0;34m\u001b[0m\u001b[0m\n",
      "\u001b[0;32m/opt/anaconda3/envs/pyg-coffea/lib/python3.8/site-packages/torch/nn/modules/module.py\u001b[0m in \u001b[0;36m_call_impl\u001b[0;34m(self, *input, **kwargs)\u001b[0m\n\u001b[1;32m   1049\u001b[0m         if not (self._backward_hooks or self._forward_hooks or self._forward_pre_hooks or _global_backward_hooks\n\u001b[1;32m   1050\u001b[0m                 or _global_forward_hooks or _global_forward_pre_hooks):\n\u001b[0;32m-> 1051\u001b[0;31m             \u001b[0;32mreturn\u001b[0m \u001b[0mforward_call\u001b[0m\u001b[0;34m(\u001b[0m\u001b[0;34m*\u001b[0m\u001b[0minput\u001b[0m\u001b[0;34m,\u001b[0m \u001b[0;34m**\u001b[0m\u001b[0mkwargs\u001b[0m\u001b[0;34m)\u001b[0m\u001b[0;34m\u001b[0m\u001b[0;34m\u001b[0m\u001b[0m\n\u001b[0m\u001b[1;32m   1052\u001b[0m         \u001b[0;31m# Do not call functions when jit is used\u001b[0m\u001b[0;34m\u001b[0m\u001b[0;34m\u001b[0m\u001b[0;34m\u001b[0m\u001b[0m\n\u001b[1;32m   1053\u001b[0m         \u001b[0mfull_backward_hooks\u001b[0m\u001b[0;34m,\u001b[0m \u001b[0mnon_full_backward_hooks\u001b[0m \u001b[0;34m=\u001b[0m \u001b[0;34m[\u001b[0m\u001b[0;34m]\u001b[0m\u001b[0;34m,\u001b[0m \u001b[0;34m[\u001b[0m\u001b[0;34m]\u001b[0m\u001b[0;34m\u001b[0m\u001b[0;34m\u001b[0m\u001b[0m\n",
      "\u001b[0;32m/opt/anaconda3/envs/pyg-coffea/lib/python3.8/site-packages/torch/nn/modules/linear.py\u001b[0m in \u001b[0;36mforward\u001b[0;34m(self, input)\u001b[0m\n\u001b[1;32m     94\u001b[0m \u001b[0;34m\u001b[0m\u001b[0m\n\u001b[1;32m     95\u001b[0m     \u001b[0;32mdef\u001b[0m \u001b[0mforward\u001b[0m\u001b[0;34m(\u001b[0m\u001b[0mself\u001b[0m\u001b[0;34m,\u001b[0m \u001b[0minput\u001b[0m\u001b[0;34m:\u001b[0m \u001b[0mTensor\u001b[0m\u001b[0;34m)\u001b[0m \u001b[0;34m->\u001b[0m \u001b[0mTensor\u001b[0m\u001b[0;34m:\u001b[0m\u001b[0;34m\u001b[0m\u001b[0;34m\u001b[0m\u001b[0m\n\u001b[0;32m---> 96\u001b[0;31m         \u001b[0;32mreturn\u001b[0m \u001b[0mF\u001b[0m\u001b[0;34m.\u001b[0m\u001b[0mlinear\u001b[0m\u001b[0;34m(\u001b[0m\u001b[0minput\u001b[0m\u001b[0;34m,\u001b[0m \u001b[0mself\u001b[0m\u001b[0;34m.\u001b[0m\u001b[0mweight\u001b[0m\u001b[0;34m,\u001b[0m \u001b[0mself\u001b[0m\u001b[0;34m.\u001b[0m\u001b[0mbias\u001b[0m\u001b[0;34m)\u001b[0m\u001b[0;34m\u001b[0m\u001b[0;34m\u001b[0m\u001b[0m\n\u001b[0m\u001b[1;32m     97\u001b[0m \u001b[0;34m\u001b[0m\u001b[0m\n\u001b[1;32m     98\u001b[0m     \u001b[0;32mdef\u001b[0m \u001b[0mextra_repr\u001b[0m\u001b[0;34m(\u001b[0m\u001b[0mself\u001b[0m\u001b[0;34m)\u001b[0m \u001b[0;34m->\u001b[0m \u001b[0mstr\u001b[0m\u001b[0;34m:\u001b[0m\u001b[0;34m\u001b[0m\u001b[0;34m\u001b[0m\u001b[0m\n",
      "\u001b[0;32m/opt/anaconda3/envs/pyg-coffea/lib/python3.8/site-packages/torch/nn/functional.py\u001b[0m in \u001b[0;36mlinear\u001b[0;34m(input, weight, bias)\u001b[0m\n\u001b[1;32m   1845\u001b[0m     \u001b[0;32mif\u001b[0m \u001b[0mhas_torch_function_variadic\u001b[0m\u001b[0;34m(\u001b[0m\u001b[0minput\u001b[0m\u001b[0;34m,\u001b[0m \u001b[0mweight\u001b[0m\u001b[0;34m)\u001b[0m\u001b[0;34m:\u001b[0m\u001b[0;34m\u001b[0m\u001b[0;34m\u001b[0m\u001b[0m\n\u001b[1;32m   1846\u001b[0m         \u001b[0;32mreturn\u001b[0m \u001b[0mhandle_torch_function\u001b[0m\u001b[0;34m(\u001b[0m\u001b[0mlinear\u001b[0m\u001b[0;34m,\u001b[0m \u001b[0;34m(\u001b[0m\u001b[0minput\u001b[0m\u001b[0;34m,\u001b[0m \u001b[0mweight\u001b[0m\u001b[0;34m)\u001b[0m\u001b[0;34m,\u001b[0m \u001b[0minput\u001b[0m\u001b[0;34m,\u001b[0m \u001b[0mweight\u001b[0m\u001b[0;34m,\u001b[0m \u001b[0mbias\u001b[0m\u001b[0;34m=\u001b[0m\u001b[0mbias\u001b[0m\u001b[0;34m)\u001b[0m\u001b[0;34m\u001b[0m\u001b[0;34m\u001b[0m\u001b[0m\n\u001b[0;32m-> 1847\u001b[0;31m     \u001b[0;32mreturn\u001b[0m \u001b[0mtorch\u001b[0m\u001b[0;34m.\u001b[0m\u001b[0m_C\u001b[0m\u001b[0;34m.\u001b[0m\u001b[0m_nn\u001b[0m\u001b[0;34m.\u001b[0m\u001b[0mlinear\u001b[0m\u001b[0;34m(\u001b[0m\u001b[0minput\u001b[0m\u001b[0;34m,\u001b[0m \u001b[0mweight\u001b[0m\u001b[0;34m,\u001b[0m \u001b[0mbias\u001b[0m\u001b[0;34m)\u001b[0m\u001b[0;34m\u001b[0m\u001b[0;34m\u001b[0m\u001b[0m\n\u001b[0m\u001b[1;32m   1848\u001b[0m \u001b[0;34m\u001b[0m\u001b[0m\n\u001b[1;32m   1849\u001b[0m \u001b[0;34m\u001b[0m\u001b[0m\n",
      "\u001b[0;31mKeyboardInterrupt\u001b[0m: "
     ]
    }
   ],
   "source": [
    "batch_size = 100\n",
    "lr = 1e-4\n",
    "epochs = 100\n",
    "lmbd, u, v = 25, 25, 1  # VICReg paper\n",
    "lmbd, u, v = 5e-3, 1, 1  # stable\n",
    "\n",
    "lmbd, u, v = 0.1, 10, 10\n",
    "lmbd, u, v = 0.1, 1, 0.1  # VICReg paper\n",
    "\n",
    "\n",
    "encoder = Encoder(embedding_dim=34)\n",
    "decoder = Decoder(embedding_dim=34)\n",
    "losses_train_VICRreg, losses_valid_VICRreg = train_VICReg(\n",
    "    encoder, decoder, data, batch_size, lr, epochs, lmbd, u, v\n",
    ")"
   ]
  },
  {
   "cell_type": "code",
   "execution_count": 56,
   "metadata": {},
   "outputs": [],
   "source": [
    "# save the VICReg\n",
    "torch.save(encoder.state_dict(), \"ssl/encoder.pth\")\n",
    "torch.save(decoder.state_dict(), \"ssl/decoder.pth\")"
   ]
  },
  {
   "cell_type": "code",
   "execution_count": 57,
   "metadata": {},
   "outputs": [
    {
     "data": {
      "image/png": "[encoded data removed]",
      "text/plain": [
       "<Figure size 576x432 with 1 Axes>"
      ]
     },
     "metadata": {
      "needs_background": "light"
     },
     "output_type": "display_data"
    }
   ],
   "source": [
    "fig, ax = plt.subplots(figsize=(8, 6))\n",
    "ax.plot(\n",
    "    range(len(losses_train_VICRreg[1:])),\n",
    "    losses_train_VICRreg[1:],\n",
    "    label=\"training\",\n",
    ")\n",
    "ax.plot(\n",
    "    range(len(losses_valid_VICRreg[1:])),\n",
    "    losses_valid_VICRreg[1:],\n",
    "    label=\"validation\",\n",
    ")\n",
    "ax.set_xlabel(\"Epochs\", fontsize=15)\n",
    "ax.set_ylabel(\"Loss\", fontsize=15)\n",
    "ax.legend(title=\"VICReg\", loc=\"best\", title_fontsize=20, fontsize=15);"
   ]
  },
  {
   "cell_type": "markdown",
   "metadata": {},
   "source": [
    "# Train MLPF"
   ]
  },
  {
   "cell_type": "code",
   "execution_count": 16,
   "metadata": {},
   "outputs": [],
   "source": [
    "class MLPF(nn.Module):\n",
    "    def __init__(\n",
    "        self,\n",
    "        #        input_dim=COMMON_X + 34 + 200,\n",
    "        input_dim=34,\n",
    "        embedding_dim=34,\n",
    "        num_classes=6,\n",
    "        num_convs=2,\n",
    "        k=8,\n",
    "    ):\n",
    "        super(MLPF, self).__init__()\n",
    "\n",
    "        self.act = nn.ELU\n",
    "\n",
    "        # GNN that uses the embeddings learnt by VICReg as the input features\n",
    "        self.conv = nn.ModuleList()\n",
    "        for i in range(num_convs):\n",
    "            self.conv.append(\n",
    "                GravNetConv(\n",
    "                    input_dim,\n",
    "                    input_dim,\n",
    "                    space_dimensions=4,\n",
    "                    propagate_dimensions=22,\n",
    "                    k=k,\n",
    "                )\n",
    "            )\n",
    "\n",
    "        # DNN that acts on the node level to predict the PID\n",
    "        self.nn = nn.Sequential(\n",
    "            nn.Linear(input_dim, 126),\n",
    "            self.act(),\n",
    "            nn.Linear(126, 126),\n",
    "            self.act(),\n",
    "            nn.Linear(126, num_classes),\n",
    "        )\n",
    "\n",
    "    def forward(self, batch):\n",
    "\n",
    "        # unfold the Batch object\n",
    "        input_ = batch.x.float()\n",
    "        batch = batch.batch\n",
    "\n",
    "        #         embedding = self.nn0(input_)\n",
    "        # perform a series of graph convolutions\n",
    "        for num, conv in enumerate(self.conv):\n",
    "            embedding = conv(input_, batch)\n",
    "\n",
    "        # predict the PIDs\n",
    "        preds_id = self.nn(embedding)\n",
    "\n",
    "        return preds_id"
   ]
  },
  {
   "cell_type": "code",
   "execution_count": 41,
   "metadata": {},
   "outputs": [],
   "source": [
    "def compute_weights(target_ids, num_classes):\n",
    "    \"\"\"\n",
    "    computes necessary weights to accomodate class imbalance in the loss function\n",
    "    \"\"\"\n",
    "\n",
    "    vs, cs = torch.unique(target_ids, return_counts=True)\n",
    "    weights = torch.zeros(num_classes)\n",
    "    for k, v in zip(vs, cs):\n",
    "        weights[k] = 1.0 / math.sqrt(float(v))\n",
    "    # weights[2] = weights[2] * 3  # emphasize nhadrons\n",
    "    return weights\n",
    "\n",
    "\n",
    "def train_mlpf(data, batch_size, model, with_VICReg, epochs):\n",
    "\n",
    "    data_train = data[:4000]\n",
    "    data_val = data[4000:5000]\n",
    "    data_test = data[5000:]\n",
    "\n",
    "    train_loader = torch_geometric.loader.DataLoader(data_train, batch_size)\n",
    "    val_loader = torch_geometric.loader.DataLoader(data_val, batch_size)\n",
    "    test_loader = torch_geometric.loader.DataLoader(data_test, batch_size)\n",
    "\n",
    "    lr = 1e-3\n",
    "    optimizer = torch.optim.SGD(\n",
    "        model.parameters(), lr=lr\n",
    "    )  # , momentum= 0.9, weight_decay=1.5e-4)\n",
    "\n",
    "    patience = 20\n",
    "    best_val_loss = 99999.9\n",
    "    stale_epochs = 0\n",
    "\n",
    "    losses_train, losses_valid = [], []\n",
    "\n",
    "    encoder.eval()\n",
    "    decoder.eval()\n",
    "\n",
    "    for epoch in tqdm(range(epochs)):\n",
    "\n",
    "        model.train()\n",
    "        loss_train = 0\n",
    "        for batch in tqdm(train_loader):\n",
    "            if with_VICReg:\n",
    "                # make transformation\n",
    "                tracks, clusters = distinguish_PFelements(batch)\n",
    "\n",
    "                ### ENCODE\n",
    "                embedding_tracks, embedding_clusters = encoder(\n",
    "                    tracks, clusters\n",
    "                )\n",
    "                ### POOLING\n",
    "                pooled_tracks = global_mean_pool(\n",
    "                    embedding_tracks, tracks.batch\n",
    "                )\n",
    "                pooled_clusters = global_mean_pool(\n",
    "                    embedding_clusters, clusters.batch\n",
    "                )\n",
    "                ### DECODE\n",
    "                out_tracks, out_clusters = decoder(\n",
    "                    pooled_tracks, pooled_clusters\n",
    "                )\n",
    "\n",
    "                # use the learnt representation as your input as well as the global feature vector\n",
    "                #                     tracks.x = torch.cat([tracks.x, embedding_tracks, out_tracks[tracks.batch]], axis=1)\n",
    "                tracks.x = embedding_tracks\n",
    "                #                     clusters.x = torch.cat([clusters.x, embedding_clusters, out_clusters[clusters.batch]], axis=1)\n",
    "                clusters.x = embedding_clusters\n",
    "\n",
    "                event = combine_PFelements(tracks, clusters)\n",
    "\n",
    "            else:\n",
    "                event = batch\n",
    "\n",
    "            # make mlpf forward pass\n",
    "            pred_ids_one_hot = model(event)\n",
    "            pred_ids = torch.argmax(pred_ids_one_hot, axis=1)\n",
    "            target_ids = event.ygen_id\n",
    "\n",
    "            weights = compute_weights(\n",
    "                target_ids, num_classes=6\n",
    "            )  # to accomodate class imbalance\n",
    "            loss = torch.nn.functional.cross_entropy(\n",
    "                pred_ids_one_hot, target_ids, weight=weights\n",
    "            )  # for classifying PID\n",
    "\n",
    "            # update parameters\n",
    "            for param in model.parameters():\n",
    "                param.grad = None\n",
    "            loss.backward()\n",
    "            optimizer.step()\n",
    "\n",
    "            loss_train += loss.detach()\n",
    "\n",
    "        model.eval()\n",
    "        loss_valid = 0\n",
    "        with torch.no_grad():\n",
    "            for batch in tqdm(val_loader):\n",
    "                time.time()\n",
    "                if with_VICReg:\n",
    "                    # make transformation\n",
    "                    tracks, clusters = distinguish_PFelements(batch)\n",
    "\n",
    "                    ### ENCODE\n",
    "                    embedding_tracks, embedding_clusters = encoder(\n",
    "                        tracks, clusters\n",
    "                    )\n",
    "                    ### POOLING\n",
    "                    pooled_tracks = global_mean_pool(\n",
    "                        embedding_tracks, tracks.batch\n",
    "                    )\n",
    "                    pooled_clusters = global_mean_pool(\n",
    "                        embedding_clusters, clusters.batch\n",
    "                    )\n",
    "                    ### DECODE\n",
    "                    out_tracks, out_clusters = decoder(\n",
    "                        pooled_tracks, pooled_clusters\n",
    "                    )\n",
    "\n",
    "                    # use the learnt representation as your input as well as the global feature vector\n",
    "                    #                     tracks.x = torch.cat([tracks.x, embedding_tracks, out_tracks[tracks.batch]], axis=1)\n",
    "                    tracks.x = embedding_tracks\n",
    "                    #                     clusters.x = torch.cat([clusters.x, embedding_clusters, out_clusters[clusters.batch]], axis=1)\n",
    "                    clusters.x = embedding_clusters\n",
    "\n",
    "                    event = combine_PFelements(tracks, clusters)\n",
    "\n",
    "                else:\n",
    "                    event = batch\n",
    "\n",
    "                # make mlpf forward pass\n",
    "                pred_ids_one_hot = model(event)\n",
    "                pred_ids = torch.argmax(pred_ids_one_hot, axis=1)\n",
    "                target_ids = event.ygen_id\n",
    "\n",
    "                weights = compute_weights(\n",
    "                    target_ids, num_classes=6\n",
    "                )  # to accomodate class imbalance\n",
    "                loss = torch.nn.functional.cross_entropy(\n",
    "                    pred_ids_one_hot, target_ids, weight=weights\n",
    "                )  # for classifying PID\n",
    "\n",
    "                loss_valid += loss.detach()\n",
    "\n",
    "        print(\n",
    "            f\"epoch {epoch} - train: {round(loss_train.item(),3)} - valid: {round(loss_valid.item(), 3)} - stale={stale_epochs}\"\n",
    "        )\n",
    "\n",
    "        losses_train.append(loss_train / len(train_loader))\n",
    "        losses_valid.append(loss_valid / len(val_loader))\n",
    "\n",
    "        # early-stopping\n",
    "        if losses_valid[epoch] < best_val_loss:\n",
    "            best_val_loss = losses_valid[epoch]\n",
    "            stale_epochs = 0\n",
    "        else:\n",
    "            stale_epochs += 1\n",
    "\n",
    "    fig, ax = plt.subplots()\n",
    "    ax.plot(range(len(losses_train[1:])), losses_train[1:], label=\"training\")\n",
    "    ax.plot(range(len(losses_valid[1:])), losses_valid[1:], label=\"validation\")\n",
    "    ax.set_xlabel(\"Epochs\", fontsize=15)\n",
    "    ax.set_ylabel(\"Loss\", fontsize=15)\n",
    "    if with_VICReg:\n",
    "        ax.legend(title=\"ssl MLPF\", loc=\"best\", title_fontsize=20, fontsize=15)\n",
    "    else:\n",
    "        ax.legend(\n",
    "            title=\"native MLPF\", loc=\"best\", title_fontsize=20, fontsize=15\n",
    "        )\n",
    "    return losses_train, losses_valid"
   ]
  },
  {
   "cell_type": "code",
   "execution_count": 72,
   "metadata": {
    "scrolled": true
   },
   "outputs": [
    {
     "name": "stdout",
     "output_type": "stream",
     "text": [
      "Num of model paramaters:  28366\n"
     ]
    }
   ],
   "source": [
    "# train ssl version of MLPF\n",
    "# model_ssl = MLPF(COMMON_X + 34 + 200)\n",
    "model_ssl = MLPF(34)\n",
    "print(\n",
    "    \"Num of model paramaters: \",\n",
    "    sum(p.numel() for p in model_ssl.parameters() if p.requires_grad),\n",
    ")"
   ]
  },
  {
   "cell_type": "code",
   "execution_count": 73,
   "metadata": {},
   "outputs": [
    {
     "data": {
      "application/vnd.jupyter.widget-view+json": {
       "model_id": "20055cb02ad64c2d9432787e2a20ada5",
       "version_major": 2,
       "version_minor": 0
      },
      "text/plain": [
       "HBox(children=(FloatProgress(value=0.0, max=50.0), HTML(value='')))"
      ]
     },
     "metadata": {},
     "output_type": "display_data"
    },
    {
     "data": {
      "application/vnd.jupyter.widget-view+json": {
       "model_id": "1a454a9249964d6db2ebfec640d90d06",
       "version_major": 2,
       "version_minor": 0
      },
      "text/plain": [
       "HBox(children=(FloatProgress(value=0.0, max=80.0), HTML(value='')))"
      ]
     },
     "metadata": {},
     "output_type": "display_data"
    },
    {
     "name": "stdout",
     "output_type": "stream",
     "text": [
      "\n"
     ]
    },
    {
     "data": {
      "application/vnd.jupyter.widget-view+json": {
       "model_id": "8176702d26c441848893c0cb728fce22",
       "version_major": 2,
       "version_minor": 0
      },
      "text/plain": [
       "HBox(children=(FloatProgress(value=0.0, max=20.0), HTML(value='')))"
      ]
     },
     "metadata": {},
     "output_type": "display_data"
    },
    {
     "name": "stdout",
     "output_type": "stream",
     "text": [
      "\n",
      "epoch 0 - train: 135.347 - valid: 31.53 - stale=0\n"
     ]
    },
    {
     "data": {
      "application/vnd.jupyter.widget-view+json": {
       "model_id": "e92302255ec64adbac37e191f042509d",
       "version_major": 2,
       "version_minor": 0
      },
      "text/plain": [
       "HBox(children=(FloatProgress(value=0.0, max=80.0), HTML(value='')))"
      ]
     },
     "metadata": {},
     "output_type": "display_data"
    },
    {
     "name": "stdout",
     "output_type": "stream",
     "text": [
      "\n"
     ]
    },
    {
     "data": {
      "application/vnd.jupyter.widget-view+json": {
       "model_id": "6dac2834b5d943ec9db0ac0a19b4e8c9",
       "version_major": 2,
       "version_minor": 0
      },
      "text/plain": [
       "HBox(children=(FloatProgress(value=0.0, max=20.0), HTML(value='')))"
      ]
     },
     "metadata": {},
     "output_type": "display_data"
    },
    {
     "name": "stdout",
     "output_type": "stream",
     "text": [
      "\n",
      "epoch 1 - train: 124.318 - valid: 30.721 - stale=0\n"
     ]
    },
    {
     "data": {
      "application/vnd.jupyter.widget-view+json": {
       "model_id": "010d941f662746b7a67ec83d89bfaa6c",
       "version_major": 2,
       "version_minor": 0
      },
      "text/plain": [
       "HBox(children=(FloatProgress(value=0.0, max=80.0), HTML(value='')))"
      ]
     },
     "metadata": {},
     "output_type": "display_data"
    },
    {
     "name": "stdout",
     "output_type": "stream",
     "text": [
      "\n"
     ]
    },
    {
     "data": {
      "application/vnd.jupyter.widget-view+json": {
       "model_id": "f469cdf4146c46f6a0b6e167be899929",
       "version_major": 2,
       "version_minor": 0
      },
      "text/plain": [
       "HBox(children=(FloatProgress(value=0.0, max=20.0), HTML(value='')))"
      ]
     },
     "metadata": {},
     "output_type": "display_data"
    },
    {
     "name": "stdout",
     "output_type": "stream",
     "text": [
      "\n",
      "epoch 2 - train: 121.797 - valid: 30.199 - stale=0\n"
     ]
    },
    {
     "data": {
      "application/vnd.jupyter.widget-view+json": {
       "model_id": "37d43e0681924cb0818bedaf623204db",
       "version_major": 2,
       "version_minor": 0
      },
      "text/plain": [
       "HBox(children=(FloatProgress(value=0.0, max=80.0), HTML(value='')))"
      ]
     },
     "metadata": {},
     "output_type": "display_data"
    },
    {
     "name": "stdout",
     "output_type": "stream",
     "text": [
      "\n"
     ]
    },
    {
     "data": {
      "application/vnd.jupyter.widget-view+json": {
       "model_id": "6f96819c59914635aab4bfe3f787c237",
       "version_major": 2,
       "version_minor": 0
      },
      "text/plain": [
       "HBox(children=(FloatProgress(value=0.0, max=20.0), HTML(value='')))"
      ]
     },
     "metadata": {},
     "output_type": "display_data"
    },
    {
     "name": "stdout",
     "output_type": "stream",
     "text": [
      "\n",
      "epoch 3 - train: 119.916 - valid: 29.769 - stale=0\n"
     ]
    },
    {
     "data": {
      "application/vnd.jupyter.widget-view+json": {
       "model_id": "b9c7729c156b43cda1ea5f4cb30ee594",
       "version_major": 2,
       "version_minor": 0
      },
      "text/plain": [
       "HBox(children=(FloatProgress(value=0.0, max=80.0), HTML(value='')))"
      ]
     },
     "metadata": {},
     "output_type": "display_data"
    },
    {
     "name": "stdout",
     "output_type": "stream",
     "text": [
      "\n"
     ]
    },
    {
     "data": {
      "application/vnd.jupyter.widget-view+json": {
       "model_id": "060e53f2de284b93824ff3698c516b92",
       "version_major": 2,
       "version_minor": 0
      },
      "text/plain": [
       "HBox(children=(FloatProgress(value=0.0, max=20.0), HTML(value='')))"
      ]
     },
     "metadata": {},
     "output_type": "display_data"
    },
    {
     "name": "stdout",
     "output_type": "stream",
     "text": [
      "\n",
      "epoch 4 - train: 118.319 - valid: 29.394 - stale=0\n"
     ]
    },
    {
     "data": {
      "application/vnd.jupyter.widget-view+json": {
       "model_id": "7e0a477cd55d4ad58191b0be3f983cbf",
       "version_major": 2,
       "version_minor": 0
      },
      "text/plain": [
       "HBox(children=(FloatProgress(value=0.0, max=80.0), HTML(value='')))"
      ]
     },
     "metadata": {},
     "output_type": "display_data"
    },
    {
     "name": "stdout",
     "output_type": "stream",
     "text": [
      "\n"
     ]
    },
    {
     "data": {
      "application/vnd.jupyter.widget-view+json": {
       "model_id": "17c03e8428ee4cc6b569a81840f29b28",
       "version_major": 2,
       "version_minor": 0
      },
      "text/plain": [
       "HBox(children=(FloatProgress(value=0.0, max=20.0), HTML(value='')))"
      ]
     },
     "metadata": {},
     "output_type": "display_data"
    },
    {
     "name": "stdout",
     "output_type": "stream",
     "text": [
      "\n",
      "epoch 5 - train: 116.897 - valid: 29.051 - stale=0\n"
     ]
    },
    {
     "data": {
      "application/vnd.jupyter.widget-view+json": {
       "model_id": "7f89fa99da3b4dd396a03a8713b237f9",
       "version_major": 2,
       "version_minor": 0
      },
      "text/plain": [
       "HBox(children=(FloatProgress(value=0.0, max=80.0), HTML(value='')))"
      ]
     },
     "metadata": {},
     "output_type": "display_data"
    },
    {
     "name": "stdout",
     "output_type": "stream",
     "text": [
      "\n"
     ]
    },
    {
     "data": {
      "application/vnd.jupyter.widget-view+json": {
       "model_id": "e6f49cbc279d4732afa76fec9389bf71",
       "version_major": 2,
       "version_minor": 0
      },
      "text/plain": [
       "HBox(children=(FloatProgress(value=0.0, max=20.0), HTML(value='')))"
      ]
     },
     "metadata": {},
     "output_type": "display_data"
    },
    {
     "name": "stdout",
     "output_type": "stream",
     "text": [
      "\n",
      "epoch 6 - train: 115.576 - valid: 28.729 - stale=0\n"
     ]
    },
    {
     "data": {
      "application/vnd.jupyter.widget-view+json": {
       "model_id": "2fb8d1872bac48759a19a88bc6db4a81",
       "version_major": 2,
       "version_minor": 0
      },
      "text/plain": [
       "HBox(children=(FloatProgress(value=0.0, max=80.0), HTML(value='')))"
      ]
     },
     "metadata": {},
     "output_type": "display_data"
    },
    {
     "name": "stdout",
     "output_type": "stream",
     "text": [
      "\n"
     ]
    },
    {
     "data": {
      "application/vnd.jupyter.widget-view+json": {
       "model_id": "2bf9747fe15c44cc9b0190ec40710be6",
       "version_major": 2,
       "version_minor": 0
      },
      "text/plain": [
       "HBox(children=(FloatProgress(value=0.0, max=20.0), HTML(value='')))"
      ]
     },
     "metadata": {},
     "output_type": "display_data"
    },
    {
     "name": "stdout",
     "output_type": "stream",
     "text": [
      "\n",
      "epoch 7 - train: 114.32 - valid: 28.42 - stale=0\n"
     ]
    },
    {
     "data": {
      "application/vnd.jupyter.widget-view+json": {
       "model_id": "b29471d57aeb40dd80fd4914165dcc20",
       "version_major": 2,
       "version_minor": 0
      },
      "text/plain": [
       "HBox(children=(FloatProgress(value=0.0, max=80.0), HTML(value='')))"
      ]
     },
     "metadata": {},
     "output_type": "display_data"
    },
    {
     "name": "stdout",
     "output_type": "stream",
     "text": [
      "\n"
     ]
    },
    {
     "data": {
      "application/vnd.jupyter.widget-view+json": {
       "model_id": "7ffba070f04a42e996b548b7548d7582",
       "version_major": 2,
       "version_minor": 0
      },
      "text/plain": [
       "HBox(children=(FloatProgress(value=0.0, max=20.0), HTML(value='')))"
      ]
     },
     "metadata": {},
     "output_type": "display_data"
    },
    {
     "name": "stdout",
     "output_type": "stream",
     "text": [
      "\n",
      "epoch 8 - train: 113.114 - valid: 28.122 - stale=0\n"
     ]
    },
    {
     "data": {
      "application/vnd.jupyter.widget-view+json": {
       "model_id": "c9d18340cb9b429fa74a186ac372f796",
       "version_major": 2,
       "version_minor": 0
      },
      "text/plain": [
       "HBox(children=(FloatProgress(value=0.0, max=80.0), HTML(value='')))"
      ]
     },
     "metadata": {},
     "output_type": "display_data"
    },
    {
     "name": "stdout",
     "output_type": "stream",
     "text": [
      "\n"
     ]
    },
    {
     "data": {
      "application/vnd.jupyter.widget-view+json": {
       "model_id": "7241e81f606a49bbbb548678b981d6d4",
       "version_major": 2,
       "version_minor": 0
      },
      "text/plain": [
       "HBox(children=(FloatProgress(value=0.0, max=20.0), HTML(value='')))"
      ]
     },
     "metadata": {},
     "output_type": "display_data"
    },
    {
     "name": "stdout",
     "output_type": "stream",
     "text": [
      "\n",
      "epoch 9 - train: 111.95 - valid: 27.834 - stale=0\n"
     ]
    },
    {
     "data": {
      "application/vnd.jupyter.widget-view+json": {
       "model_id": "ac5b1cbe751b4945bc1231a8e7b9cbd4",
       "version_major": 2,
       "version_minor": 0
      },
      "text/plain": [
       "HBox(children=(FloatProgress(value=0.0, max=80.0), HTML(value='')))"
      ]
     },
     "metadata": {},
     "output_type": "display_data"
    },
    {
     "name": "stdout",
     "output_type": "stream",
     "text": [
      "\n"
     ]
    },
    {
     "data": {
      "application/vnd.jupyter.widget-view+json": {
       "model_id": "c254bf770d80472aa104cc77e845ec13",
       "version_major": 2,
       "version_minor": 0
      },
      "text/plain": [
       "HBox(children=(FloatProgress(value=0.0, max=20.0), HTML(value='')))"
      ]
     },
     "metadata": {},
     "output_type": "display_data"
    },
    {
     "name": "stdout",
     "output_type": "stream",
     "text": [
      "\n",
      "epoch 10 - train: 110.814 - valid: 27.551 - stale=0\n"
     ]
    },
    {
     "data": {
      "application/vnd.jupyter.widget-view+json": {
       "model_id": "2042727cc0a4432f9138de714681e5ec",
       "version_major": 2,
       "version_minor": 0
      },
      "text/plain": [
       "HBox(children=(FloatProgress(value=0.0, max=80.0), HTML(value='')))"
      ]
     },
     "metadata": {},
     "output_type": "display_data"
    },
    {
     "name": "stdout",
     "output_type": "stream",
     "text": [
      "\n"
     ]
    },
    {
     "data": {
      "application/vnd.jupyter.widget-view+json": {
       "model_id": "ad09057511034adeb2a9b21f0b61d610",
       "version_major": 2,
       "version_minor": 0
      },
      "text/plain": [
       "HBox(children=(FloatProgress(value=0.0, max=20.0), HTML(value='')))"
      ]
     },
     "metadata": {},
     "output_type": "display_data"
    },
    {
     "name": "stdout",
     "output_type": "stream",
     "text": [
      "\n",
      "epoch 11 - train: 109.695 - valid: 27.272 - stale=0\n"
     ]
    },
    {
     "data": {
      "application/vnd.jupyter.widget-view+json": {
       "model_id": "e3790b3385a540b8a6023cf520162afa",
       "version_major": 2,
       "version_minor": 0
      },
      "text/plain": [
       "HBox(children=(FloatProgress(value=0.0, max=80.0), HTML(value='')))"
      ]
     },
     "metadata": {},
     "output_type": "display_data"
    },
    {
     "name": "stdout",
     "output_type": "stream",
     "text": [
      "\n"
     ]
    },
    {
     "data": {
      "application/vnd.jupyter.widget-view+json": {
       "model_id": "8f611d9decc04797afbde92af3ce660b",
       "version_major": 2,
       "version_minor": 0
      },
      "text/plain": [
       "HBox(children=(FloatProgress(value=0.0, max=20.0), HTML(value='')))"
      ]
     },
     "metadata": {},
     "output_type": "display_data"
    },
    {
     "name": "stdout",
     "output_type": "stream",
     "text": [
      "\n",
      "epoch 12 - train: 108.584 - valid: 26.995 - stale=0\n"
     ]
    },
    {
     "data": {
      "application/vnd.jupyter.widget-view+json": {
       "model_id": "2215a149e7834c6fbcfacacf94f90be6",
       "version_major": 2,
       "version_minor": 0
      },
      "text/plain": [
       "HBox(children=(FloatProgress(value=0.0, max=80.0), HTML(value='')))"
      ]
     },
     "metadata": {},
     "output_type": "display_data"
    },
    {
     "name": "stdout",
     "output_type": "stream",
     "text": [
      "\n"
     ]
    },
    {
     "data": {
      "application/vnd.jupyter.widget-view+json": {
       "model_id": "9a61c084953f4e42bf53455c4c17e86c",
       "version_major": 2,
       "version_minor": 0
      },
      "text/plain": [
       "HBox(children=(FloatProgress(value=0.0, max=20.0), HTML(value='')))"
      ]
     },
     "metadata": {},
     "output_type": "display_data"
    },
    {
     "name": "stdout",
     "output_type": "stream",
     "text": [
      "\n",
      "epoch 13 - train: 107.491 - valid: 26.724 - stale=0\n"
     ]
    },
    {
     "data": {
      "application/vnd.jupyter.widget-view+json": {
       "model_id": "b01e64f526c9447ab50cd806f9bba991",
       "version_major": 2,
       "version_minor": 0
      },
      "text/plain": [
       "HBox(children=(FloatProgress(value=0.0, max=80.0), HTML(value='')))"
      ]
     },
     "metadata": {},
     "output_type": "display_data"
    },
    {
     "name": "stdout",
     "output_type": "stream",
     "text": [
      "\n"
     ]
    },
    {
     "data": {
      "application/vnd.jupyter.widget-view+json": {
       "model_id": "d7112253072d4955a11d2e752dfc5cd6",
       "version_major": 2,
       "version_minor": 0
      },
      "text/plain": [
       "HBox(children=(FloatProgress(value=0.0, max=20.0), HTML(value='')))"
      ]
     },
     "metadata": {},
     "output_type": "display_data"
    },
    {
     "name": "stdout",
     "output_type": "stream",
     "text": [
      "\n",
      "epoch 14 - train: 106.422 - valid: 26.459 - stale=0\n"
     ]
    },
    {
     "data": {
      "application/vnd.jupyter.widget-view+json": {
       "model_id": "cf96677568c54650b8d3de2d9f58d8ac",
       "version_major": 2,
       "version_minor": 0
      },
      "text/plain": [
       "HBox(children=(FloatProgress(value=0.0, max=80.0), HTML(value='')))"
      ]
     },
     "metadata": {},
     "output_type": "display_data"
    },
    {
     "name": "stdout",
     "output_type": "stream",
     "text": [
      "\n"
     ]
    },
    {
     "data": {
      "application/vnd.jupyter.widget-view+json": {
       "model_id": "d6f19233dd454bc187b18aebf8240a34",
       "version_major": 2,
       "version_minor": 0
      },
      "text/plain": [
       "HBox(children=(FloatProgress(value=0.0, max=20.0), HTML(value='')))"
      ]
     },
     "metadata": {},
     "output_type": "display_data"
    },
    {
     "name": "stdout",
     "output_type": "stream",
     "text": [
      "\n",
      "epoch 15 - train: 105.372 - valid: 26.199 - stale=0\n"
     ]
    },
    {
     "data": {
      "application/vnd.jupyter.widget-view+json": {
       "model_id": "d53ccb048f7443b5ae51586105ef0aa5",
       "version_major": 2,
       "version_minor": 0
      },
      "text/plain": [
       "HBox(children=(FloatProgress(value=0.0, max=80.0), HTML(value='')))"
      ]
     },
     "metadata": {},
     "output_type": "display_data"
    },
    {
     "name": "stdout",
     "output_type": "stream",
     "text": [
      "\n"
     ]
    },
    {
     "data": {
      "application/vnd.jupyter.widget-view+json": {
       "model_id": "776a6ed88ef64ab8b0b3aa8cc9d88d43",
       "version_major": 2,
       "version_minor": 0
      },
      "text/plain": [
       "HBox(children=(FloatProgress(value=0.0, max=20.0), HTML(value='')))"
      ]
     },
     "metadata": {},
     "output_type": "display_data"
    },
    {
     "name": "stdout",
     "output_type": "stream",
     "text": [
      "\n",
      "epoch 16 - train: 104.341 - valid: 25.943 - stale=0\n"
     ]
    },
    {
     "data": {
      "application/vnd.jupyter.widget-view+json": {
       "model_id": "259dc19594a3443fb3758676ceddfdee",
       "version_major": 2,
       "version_minor": 0
      },
      "text/plain": [
       "HBox(children=(FloatProgress(value=0.0, max=80.0), HTML(value='')))"
      ]
     },
     "metadata": {},
     "output_type": "display_data"
    },
    {
     "name": "stdout",
     "output_type": "stream",
     "text": [
      "\n"
     ]
    },
    {
     "data": {
      "application/vnd.jupyter.widget-view+json": {
       "model_id": "f28cb7cd327d476d8ed3fe44fb6a1d62",
       "version_major": 2,
       "version_minor": 0
      },
      "text/plain": [
       "HBox(children=(FloatProgress(value=0.0, max=20.0), HTML(value='')))"
      ]
     },
     "metadata": {},
     "output_type": "display_data"
    },
    {
     "name": "stdout",
     "output_type": "stream",
     "text": [
      "\n",
      "epoch 17 - train: 103.326 - valid: 25.691 - stale=0\n"
     ]
    },
    {
     "data": {
      "application/vnd.jupyter.widget-view+json": {
       "model_id": "f2c5731c250844d7b8a1b37647d31a61",
       "version_major": 2,
       "version_minor": 0
      },
      "text/plain": [
       "HBox(children=(FloatProgress(value=0.0, max=80.0), HTML(value='')))"
      ]
     },
     "metadata": {},
     "output_type": "display_data"
    },
    {
     "name": "stdout",
     "output_type": "stream",
     "text": [
      "\n"
     ]
    },
    {
     "data": {
      "application/vnd.jupyter.widget-view+json": {
       "model_id": "7808e4fe4e474757a4ff0706a05ad727",
       "version_major": 2,
       "version_minor": 0
      },
      "text/plain": [
       "HBox(children=(FloatProgress(value=0.0, max=20.0), HTML(value='')))"
      ]
     },
     "metadata": {},
     "output_type": "display_data"
    },
    {
     "name": "stdout",
     "output_type": "stream",
     "text": [
      "\n",
      "epoch 18 - train: 102.322 - valid: 25.442 - stale=0\n"
     ]
    },
    {
     "data": {
      "application/vnd.jupyter.widget-view+json": {
       "model_id": "8c2fc6b4e9c54b57a952f9b1cffb3cb9",
       "version_major": 2,
       "version_minor": 0
      },
      "text/plain": [
       "HBox(children=(FloatProgress(value=0.0, max=80.0), HTML(value='')))"
      ]
     },
     "metadata": {},
     "output_type": "display_data"
    },
    {
     "name": "stdout",
     "output_type": "stream",
     "text": [
      "\n"
     ]
    },
    {
     "data": {
      "application/vnd.jupyter.widget-view+json": {
       "model_id": "6d7e98f4a5aa4401bc92bc53afebdeca",
       "version_major": 2,
       "version_minor": 0
      },
      "text/plain": [
       "HBox(children=(FloatProgress(value=0.0, max=20.0), HTML(value='')))"
      ]
     },
     "metadata": {},
     "output_type": "display_data"
    },
    {
     "name": "stdout",
     "output_type": "stream",
     "text": [
      "\n",
      "epoch 19 - train: 101.327 - valid: 25.194 - stale=0\n"
     ]
    },
    {
     "data": {
      "application/vnd.jupyter.widget-view+json": {
       "model_id": "e8dae3d67b6443d19e65203f40cd3591",
       "version_major": 2,
       "version_minor": 0
      },
      "text/plain": [
       "HBox(children=(FloatProgress(value=0.0, max=80.0), HTML(value='')))"
      ]
     },
     "metadata": {},
     "output_type": "display_data"
    },
    {
     "name": "stdout",
     "output_type": "stream",
     "text": [
      "\n"
     ]
    },
    {
     "data": {
      "application/vnd.jupyter.widget-view+json": {
       "model_id": "870e52a4125242f5a5835c6bb00eca32",
       "version_major": 2,
       "version_minor": 0
      },
      "text/plain": [
       "HBox(children=(FloatProgress(value=0.0, max=20.0), HTML(value='')))"
      ]
     },
     "metadata": {},
     "output_type": "display_data"
    },
    {
     "name": "stdout",
     "output_type": "stream",
     "text": [
      "\n",
      "epoch 20 - train: 100.339 - valid: 24.949 - stale=0\n"
     ]
    },
    {
     "data": {
      "application/vnd.jupyter.widget-view+json": {
       "model_id": "4cab2059e43f4d1fbd6ee0992e8cf0c6",
       "version_major": 2,
       "version_minor": 0
      },
      "text/plain": [
       "HBox(children=(FloatProgress(value=0.0, max=80.0), HTML(value='')))"
      ]
     },
     "metadata": {},
     "output_type": "display_data"
    },
    {
     "name": "stdout",
     "output_type": "stream",
     "text": [
      "\n"
     ]
    },
    {
     "data": {
      "application/vnd.jupyter.widget-view+json": {
       "model_id": "7bc234882374409eb35f7f4177f36819",
       "version_major": 2,
       "version_minor": 0
      },
      "text/plain": [
       "HBox(children=(FloatProgress(value=0.0, max=20.0), HTML(value='')))"
      ]
     },
     "metadata": {},
     "output_type": "display_data"
    },
    {
     "name": "stdout",
     "output_type": "stream",
     "text": [
      "\n",
      "epoch 21 - train: 99.358 - valid: 24.706 - stale=0\n"
     ]
    },
    {
     "data": {
      "application/vnd.jupyter.widget-view+json": {
       "model_id": "ddad47874d654c4a88a1d9f29b673a21",
       "version_major": 2,
       "version_minor": 0
      },
      "text/plain": [
       "HBox(children=(FloatProgress(value=0.0, max=80.0), HTML(value='')))"
      ]
     },
     "metadata": {},
     "output_type": "display_data"
    },
    {
     "name": "stdout",
     "output_type": "stream",
     "text": [
      "\n"
     ]
    },
    {
     "data": {
      "application/vnd.jupyter.widget-view+json": {
       "model_id": "7ad253599fb2486681e9907a7a0d1ab9",
       "version_major": 2,
       "version_minor": 0
      },
      "text/plain": [
       "HBox(children=(FloatProgress(value=0.0, max=20.0), HTML(value='')))"
      ]
     },
     "metadata": {},
     "output_type": "display_data"
    },
    {
     "name": "stdout",
     "output_type": "stream",
     "text": [
      "\n",
      "epoch 22 - train: 98.385 - valid: 24.464 - stale=0\n"
     ]
    },
    {
     "data": {
      "application/vnd.jupyter.widget-view+json": {
       "model_id": "7bcc641fdb754db5b63496ec91695124",
       "version_major": 2,
       "version_minor": 0
      },
      "text/plain": [
       "HBox(children=(FloatProgress(value=0.0, max=80.0), HTML(value='')))"
      ]
     },
     "metadata": {},
     "output_type": "display_data"
    },
    {
     "name": "stdout",
     "output_type": "stream",
     "text": [
      "\n"
     ]
    },
    {
     "data": {
      "application/vnd.jupyter.widget-view+json": {
       "model_id": "5d4f154deec141acaeee6d01700223c8",
       "version_major": 2,
       "version_minor": 0
      },
      "text/plain": [
       "HBox(children=(FloatProgress(value=0.0, max=20.0), HTML(value='')))"
      ]
     },
     "metadata": {},
     "output_type": "display_data"
    },
    {
     "name": "stdout",
     "output_type": "stream",
     "text": [
      "\n",
      "epoch 23 - train: 97.419 - valid: 24.225 - stale=0\n"
     ]
    },
    {
     "data": {
      "application/vnd.jupyter.widget-view+json": {
       "model_id": "1c1fa30c4666477fb46385a17c41d081",
       "version_major": 2,
       "version_minor": 0
      },
      "text/plain": [
       "HBox(children=(FloatProgress(value=0.0, max=80.0), HTML(value='')))"
      ]
     },
     "metadata": {},
     "output_type": "display_data"
    },
    {
     "name": "stdout",
     "output_type": "stream",
     "text": [
      "\n"
     ]
    },
    {
     "data": {
      "application/vnd.jupyter.widget-view+json": {
       "model_id": "cc021a4fa9d8453eaf7595202613fdc1",
       "version_major": 2,
       "version_minor": 0
      },
      "text/plain": [
       "HBox(children=(FloatProgress(value=0.0, max=20.0), HTML(value='')))"
      ]
     },
     "metadata": {},
     "output_type": "display_data"
    },
    {
     "name": "stdout",
     "output_type": "stream",
     "text": [
      "\n",
      "epoch 24 - train: 96.464 - valid: 23.989 - stale=0\n"
     ]
    },
    {
     "data": {
      "application/vnd.jupyter.widget-view+json": {
       "model_id": "407e2605345c46079c3d317483108306",
       "version_major": 2,
       "version_minor": 0
      },
      "text/plain": [
       "HBox(children=(FloatProgress(value=0.0, max=80.0), HTML(value='')))"
      ]
     },
     "metadata": {},
     "output_type": "display_data"
    },
    {
     "name": "stdout",
     "output_type": "stream",
     "text": [
      "\n"
     ]
    },
    {
     "data": {
      "application/vnd.jupyter.widget-view+json": {
       "model_id": "efcc241618244641b3a4c04ec6e1ec2a",
       "version_major": 2,
       "version_minor": 0
      },
      "text/plain": [
       "HBox(children=(FloatProgress(value=0.0, max=20.0), HTML(value='')))"
      ]
     },
     "metadata": {},
     "output_type": "display_data"
    },
    {
     "name": "stdout",
     "output_type": "stream",
     "text": [
      "\n",
      "epoch 25 - train: 95.522 - valid: 23.757 - stale=0\n"
     ]
    },
    {
     "data": {
      "application/vnd.jupyter.widget-view+json": {
       "model_id": "8b3db8261d9c46479852ff77ab7f98a7",
       "version_major": 2,
       "version_minor": 0
      },
      "text/plain": [
       "HBox(children=(FloatProgress(value=0.0, max=80.0), HTML(value='')))"
      ]
     },
     "metadata": {},
     "output_type": "display_data"
    },
    {
     "name": "stdout",
     "output_type": "stream",
     "text": [
      "\n"
     ]
    },
    {
     "data": {
      "application/vnd.jupyter.widget-view+json": {
       "model_id": "b509e2e8c3c5452fbfa4515cbe80f36d",
       "version_major": 2,
       "version_minor": 0
      },
      "text/plain": [
       "HBox(children=(FloatProgress(value=0.0, max=20.0), HTML(value='')))"
      ]
     },
     "metadata": {},
     "output_type": "display_data"
    },
    {
     "name": "stdout",
     "output_type": "stream",
     "text": [
      "\n",
      "epoch 26 - train: 94.595 - valid: 23.528 - stale=0\n"
     ]
    },
    {
     "data": {
      "application/vnd.jupyter.widget-view+json": {
       "model_id": "4d98cfb0104c4324a6b827d87052bed7",
       "version_major": 2,
       "version_minor": 0
      },
      "text/plain": [
       "HBox(children=(FloatProgress(value=0.0, max=80.0), HTML(value='')))"
      ]
     },
     "metadata": {},
     "output_type": "display_data"
    },
    {
     "name": "stdout",
     "output_type": "stream",
     "text": [
      "\n"
     ]
    },
    {
     "data": {
      "application/vnd.jupyter.widget-view+json": {
       "model_id": "46412175b83249f8ba7e146e27ba5ed1",
       "version_major": 2,
       "version_minor": 0
      },
      "text/plain": [
       "HBox(children=(FloatProgress(value=0.0, max=20.0), HTML(value='')))"
      ]
     },
     "metadata": {},
     "output_type": "display_data"
    },
    {
     "name": "stdout",
     "output_type": "stream",
     "text": [
      "\n",
      "epoch 27 - train: 93.687 - valid: 23.305 - stale=0\n"
     ]
    },
    {
     "data": {
      "application/vnd.jupyter.widget-view+json": {
       "model_id": "634c09cce0a84566a84cd8f27b8d8f16",
       "version_major": 2,
       "version_minor": 0
      },
      "text/plain": [
       "HBox(children=(FloatProgress(value=0.0, max=80.0), HTML(value='')))"
      ]
     },
     "metadata": {},
     "output_type": "display_data"
    },
    {
     "name": "stdout",
     "output_type": "stream",
     "text": [
      "\n"
     ]
    },
    {
     "data": {
      "application/vnd.jupyter.widget-view+json": {
       "model_id": "884f014e45f74e3186f8c5ada777610e",
       "version_major": 2,
       "version_minor": 0
      },
      "text/plain": [
       "HBox(children=(FloatProgress(value=0.0, max=20.0), HTML(value='')))"
      ]
     },
     "metadata": {},
     "output_type": "display_data"
    },
    {
     "name": "stdout",
     "output_type": "stream",
     "text": [
      "\n",
      "epoch 28 - train: 92.8 - valid: 23.088 - stale=0\n"
     ]
    },
    {
     "data": {
      "application/vnd.jupyter.widget-view+json": {
       "model_id": "2038fa092f7e47309c915d21cd28a9f5",
       "version_major": 2,
       "version_minor": 0
      },
      "text/plain": [
       "HBox(children=(FloatProgress(value=0.0, max=80.0), HTML(value='')))"
      ]
     },
     "metadata": {},
     "output_type": "display_data"
    },
    {
     "name": "stdout",
     "output_type": "stream",
     "text": [
      "\n"
     ]
    },
    {
     "data": {
      "application/vnd.jupyter.widget-view+json": {
       "model_id": "b423b90ae0b944e8bba543cf2bb6e625",
       "version_major": 2,
       "version_minor": 0
      },
      "text/plain": [
       "HBox(children=(FloatProgress(value=0.0, max=20.0), HTML(value='')))"
      ]
     },
     "metadata": {},
     "output_type": "display_data"
    },
    {
     "name": "stdout",
     "output_type": "stream",
     "text": [
      "\n",
      "epoch 29 - train: 91.936 - valid: 22.876 - stale=0\n"
     ]
    },
    {
     "data": {
      "application/vnd.jupyter.widget-view+json": {
       "model_id": "aa89f8b6b93e4d75ba887c527b9442be",
       "version_major": 2,
       "version_minor": 0
      },
      "text/plain": [
       "HBox(children=(FloatProgress(value=0.0, max=80.0), HTML(value='')))"
      ]
     },
     "metadata": {},
     "output_type": "display_data"
    },
    {
     "name": "stdout",
     "output_type": "stream",
     "text": [
      "\n"
     ]
    },
    {
     "data": {
      "application/vnd.jupyter.widget-view+json": {
       "model_id": "4fb067e948844da292dd98ca74ae5f53",
       "version_major": 2,
       "version_minor": 0
      },
      "text/plain": [
       "HBox(children=(FloatProgress(value=0.0, max=20.0), HTML(value='')))"
      ]
     },
     "metadata": {},
     "output_type": "display_data"
    },
    {
     "name": "stdout",
     "output_type": "stream",
     "text": [
      "\n",
      "epoch 30 - train: 91.096 - valid: 22.671 - stale=0\n"
     ]
    },
    {
     "data": {
      "application/vnd.jupyter.widget-view+json": {
       "model_id": "4ce993cd8e434705aefa389e2b31a6a9",
       "version_major": 2,
       "version_minor": 0
      },
      "text/plain": [
       "HBox(children=(FloatProgress(value=0.0, max=80.0), HTML(value='')))"
      ]
     },
     "metadata": {},
     "output_type": "display_data"
    },
    {
     "name": "stdout",
     "output_type": "stream",
     "text": [
      "\n"
     ]
    },
    {
     "data": {
      "application/vnd.jupyter.widget-view+json": {
       "model_id": "5d11d13802284642886b15156a9b0fb1",
       "version_major": 2,
       "version_minor": 0
      },
      "text/plain": [
       "HBox(children=(FloatProgress(value=0.0, max=20.0), HTML(value='')))"
      ]
     },
     "metadata": {},
     "output_type": "display_data"
    },
    {
     "name": "stdout",
     "output_type": "stream",
     "text": [
      "\n",
      "epoch 31 - train: 90.281 - valid: 22.471 - stale=0\n"
     ]
    },
    {
     "data": {
      "application/vnd.jupyter.widget-view+json": {
       "model_id": "175a2d6852634115b30447a18ef91f99",
       "version_major": 2,
       "version_minor": 0
      },
      "text/plain": [
       "HBox(children=(FloatProgress(value=0.0, max=80.0), HTML(value='')))"
      ]
     },
     "metadata": {},
     "output_type": "display_data"
    },
    {
     "name": "stdout",
     "output_type": "stream",
     "text": [
      "\n"
     ]
    },
    {
     "data": {
      "application/vnd.jupyter.widget-view+json": {
       "model_id": "0834cc528b054364b084bad04279968b",
       "version_major": 2,
       "version_minor": 0
      },
      "text/plain": [
       "HBox(children=(FloatProgress(value=0.0, max=20.0), HTML(value='')))"
      ]
     },
     "metadata": {},
     "output_type": "display_data"
    },
    {
     "name": "stdout",
     "output_type": "stream",
     "text": [
      "\n",
      "epoch 32 - train: 89.487 - valid: 22.278 - stale=0\n"
     ]
    },
    {
     "data": {
      "application/vnd.jupyter.widget-view+json": {
       "model_id": "8dcc6eab06814d0992048e6c9437578b",
       "version_major": 2,
       "version_minor": 0
      },
      "text/plain": [
       "HBox(children=(FloatProgress(value=0.0, max=80.0), HTML(value='')))"
      ]
     },
     "metadata": {},
     "output_type": "display_data"
    },
    {
     "name": "stdout",
     "output_type": "stream",
     "text": [
      "\n"
     ]
    },
    {
     "data": {
      "application/vnd.jupyter.widget-view+json": {
       "model_id": "41a78fd5c70a4d409f5ce2d34f8a814e",
       "version_major": 2,
       "version_minor": 0
      },
      "text/plain": [
       "HBox(children=(FloatProgress(value=0.0, max=20.0), HTML(value='')))"
      ]
     },
     "metadata": {},
     "output_type": "display_data"
    },
    {
     "name": "stdout",
     "output_type": "stream",
     "text": [
      "\n",
      "epoch 33 - train: 88.72 - valid: 22.091 - stale=0\n"
     ]
    },
    {
     "data": {
      "application/vnd.jupyter.widget-view+json": {
       "model_id": "ac592a20e2c44951a3463185d39808d5",
       "version_major": 2,
       "version_minor": 0
      },
      "text/plain": [
       "HBox(children=(FloatProgress(value=0.0, max=80.0), HTML(value='')))"
      ]
     },
     "metadata": {},
     "output_type": "display_data"
    },
    {
     "name": "stdout",
     "output_type": "stream",
     "text": [
      "\n"
     ]
    },
    {
     "data": {
      "application/vnd.jupyter.widget-view+json": {
       "model_id": "8ecb2e3886064a22a8c13b82e58ff15a",
       "version_major": 2,
       "version_minor": 0
      },
      "text/plain": [
       "HBox(children=(FloatProgress(value=0.0, max=20.0), HTML(value='')))"
      ]
     },
     "metadata": {},
     "output_type": "display_data"
    },
    {
     "name": "stdout",
     "output_type": "stream",
     "text": [
      "\n",
      "epoch 34 - train: 87.986 - valid: 21.915 - stale=0\n"
     ]
    },
    {
     "data": {
      "application/vnd.jupyter.widget-view+json": {
       "model_id": "030ed7fbfe58439f938120ec86709eec",
       "version_major": 2,
       "version_minor": 0
      },
      "text/plain": [
       "HBox(children=(FloatProgress(value=0.0, max=80.0), HTML(value='')))"
      ]
     },
     "metadata": {},
     "output_type": "display_data"
    },
    {
     "name": "stdout",
     "output_type": "stream",
     "text": [
      "\n"
     ]
    },
    {
     "data": {
      "application/vnd.jupyter.widget-view+json": {
       "model_id": "9c8827c4c41d422595b325a05b42a6ac",
       "version_major": 2,
       "version_minor": 0
      },
      "text/plain": [
       "HBox(children=(FloatProgress(value=0.0, max=20.0), HTML(value='')))"
      ]
     },
     "metadata": {},
     "output_type": "display_data"
    },
    {
     "name": "stdout",
     "output_type": "stream",
     "text": [
      "\n",
      "epoch 35 - train: 87.292 - valid: 21.747 - stale=0\n"
     ]
    },
    {
     "data": {
      "application/vnd.jupyter.widget-view+json": {
       "model_id": "533c4c2d377f4844911ceb6e5c7ad3f4",
       "version_major": 2,
       "version_minor": 0
      },
      "text/plain": [
       "HBox(children=(FloatProgress(value=0.0, max=80.0), HTML(value='')))"
      ]
     },
     "metadata": {},
     "output_type": "display_data"
    },
    {
     "name": "stdout",
     "output_type": "stream",
     "text": [
      "\n"
     ]
    },
    {
     "data": {
      "application/vnd.jupyter.widget-view+json": {
       "model_id": "521ccb96e5884d0fb1dc64d22a19d300",
       "version_major": 2,
       "version_minor": 0
      },
      "text/plain": [
       "HBox(children=(FloatProgress(value=0.0, max=20.0), HTML(value='')))"
      ]
     },
     "metadata": {},
     "output_type": "display_data"
    },
    {
     "name": "stdout",
     "output_type": "stream",
     "text": [
      "\n",
      "epoch 36 - train: 86.634 - valid: 21.589 - stale=0\n"
     ]
    },
    {
     "data": {
      "application/vnd.jupyter.widget-view+json": {
       "model_id": "388875e7abba4623b5282879b2dc014c",
       "version_major": 2,
       "version_minor": 0
      },
      "text/plain": [
       "HBox(children=(FloatProgress(value=0.0, max=80.0), HTML(value='')))"
      ]
     },
     "metadata": {},
     "output_type": "display_data"
    },
    {
     "name": "stdout",
     "output_type": "stream",
     "text": [
      "\n"
     ]
    },
    {
     "data": {
      "application/vnd.jupyter.widget-view+json": {
       "model_id": "08b50d63e80940a491dc95fe1f41e739",
       "version_major": 2,
       "version_minor": 0
      },
      "text/plain": [
       "HBox(children=(FloatProgress(value=0.0, max=20.0), HTML(value='')))"
      ]
     },
     "metadata": {},
     "output_type": "display_data"
    },
    {
     "name": "stdout",
     "output_type": "stream",
     "text": [
      "\n",
      "epoch 37 - train: 86.01 - valid: 21.439 - stale=0\n"
     ]
    },
    {
     "data": {
      "application/vnd.jupyter.widget-view+json": {
       "model_id": "9d555c8f3794465cb7645d5dbb92156e",
       "version_major": 2,
       "version_minor": 0
      },
      "text/plain": [
       "HBox(children=(FloatProgress(value=0.0, max=80.0), HTML(value='')))"
      ]
     },
     "metadata": {},
     "output_type": "display_data"
    },
    {
     "name": "stdout",
     "output_type": "stream",
     "text": [
      "\n"
     ]
    },
    {
     "data": {
      "application/vnd.jupyter.widget-view+json": {
       "model_id": "3c2d9276307d4c098bf569f20ddfc22c",
       "version_major": 2,
       "version_minor": 0
      },
      "text/plain": [
       "HBox(children=(FloatProgress(value=0.0, max=20.0), HTML(value='')))"
      ]
     },
     "metadata": {},
     "output_type": "display_data"
    },
    {
     "name": "stdout",
     "output_type": "stream",
     "text": [
      "\n",
      "epoch 38 - train: 85.42 - valid: 21.297 - stale=0\n"
     ]
    },
    {
     "data": {
      "application/vnd.jupyter.widget-view+json": {
       "model_id": "d480cd128c4444a3af5833f939c2f428",
       "version_major": 2,
       "version_minor": 0
      },
      "text/plain": [
       "HBox(children=(FloatProgress(value=0.0, max=80.0), HTML(value='')))"
      ]
     },
     "metadata": {},
     "output_type": "display_data"
    },
    {
     "name": "stdout",
     "output_type": "stream",
     "text": [
      "\n"
     ]
    },
    {
     "data": {
      "application/vnd.jupyter.widget-view+json": {
       "model_id": "238c9a55ab0d47739519e6a043ce5079",
       "version_major": 2,
       "version_minor": 0
      },
      "text/plain": [
       "HBox(children=(FloatProgress(value=0.0, max=20.0), HTML(value='')))"
      ]
     },
     "metadata": {},
     "output_type": "display_data"
    },
    {
     "name": "stdout",
     "output_type": "stream",
     "text": [
      "\n",
      "epoch 39 - train: 84.861 - valid: 21.163 - stale=0\n"
     ]
    },
    {
     "data": {
      "application/vnd.jupyter.widget-view+json": {
       "model_id": "d1b0a3c670db40dba0fe22654e2c63ec",
       "version_major": 2,
       "version_minor": 0
      },
      "text/plain": [
       "HBox(children=(FloatProgress(value=0.0, max=80.0), HTML(value='')))"
      ]
     },
     "metadata": {},
     "output_type": "display_data"
    },
    {
     "name": "stdout",
     "output_type": "stream",
     "text": [
      "\n"
     ]
    },
    {
     "data": {
      "application/vnd.jupyter.widget-view+json": {
       "model_id": "27d7b920538b4078a6acab88e73f3c71",
       "version_major": 2,
       "version_minor": 0
      },
      "text/plain": [
       "HBox(children=(FloatProgress(value=0.0, max=20.0), HTML(value='')))"
      ]
     },
     "metadata": {},
     "output_type": "display_data"
    },
    {
     "name": "stdout",
     "output_type": "stream",
     "text": [
      "\n",
      "epoch 40 - train: 84.335 - valid: 21.036 - stale=0\n"
     ]
    },
    {
     "data": {
      "application/vnd.jupyter.widget-view+json": {
       "model_id": "47eb3b06b45e42f186bf59d5adb1b647",
       "version_major": 2,
       "version_minor": 0
      },
      "text/plain": [
       "HBox(children=(FloatProgress(value=0.0, max=80.0), HTML(value='')))"
      ]
     },
     "metadata": {},
     "output_type": "display_data"
    },
    {
     "name": "stdout",
     "output_type": "stream",
     "text": [
      "\n"
     ]
    },
    {
     "data": {
      "application/vnd.jupyter.widget-view+json": {
       "model_id": "337460ff470049d8a43f8f1eca630deb",
       "version_major": 2,
       "version_minor": 0
      },
      "text/plain": [
       "HBox(children=(FloatProgress(value=0.0, max=20.0), HTML(value='')))"
      ]
     },
     "metadata": {},
     "output_type": "display_data"
    },
    {
     "name": "stdout",
     "output_type": "stream",
     "text": [
      "\n",
      "epoch 41 - train: 83.84 - valid: 20.917 - stale=0\n"
     ]
    },
    {
     "data": {
      "application/vnd.jupyter.widget-view+json": {
       "model_id": "6820bc46445d400096cb1e38d7919b9c",
       "version_major": 2,
       "version_minor": 0
      },
      "text/plain": [
       "HBox(children=(FloatProgress(value=0.0, max=80.0), HTML(value='')))"
      ]
     },
     "metadata": {},
     "output_type": "display_data"
    },
    {
     "name": "stdout",
     "output_type": "stream",
     "text": [
      "\n"
     ]
    },
    {
     "data": {
      "application/vnd.jupyter.widget-view+json": {
       "model_id": "40894813a51e4864a43b545a556424f1",
       "version_major": 2,
       "version_minor": 0
      },
      "text/plain": [
       "HBox(children=(FloatProgress(value=0.0, max=20.0), HTML(value='')))"
      ]
     },
     "metadata": {},
     "output_type": "display_data"
    },
    {
     "name": "stdout",
     "output_type": "stream",
     "text": [
      "\n",
      "epoch 42 - train: 83.376 - valid: 20.805 - stale=0\n"
     ]
    },
    {
     "data": {
      "application/vnd.jupyter.widget-view+json": {
       "model_id": "a67585119c71475592a5470d2b51bfc7",
       "version_major": 2,
       "version_minor": 0
      },
      "text/plain": [
       "HBox(children=(FloatProgress(value=0.0, max=80.0), HTML(value='')))"
      ]
     },
     "metadata": {},
     "output_type": "display_data"
    },
    {
     "name": "stdout",
     "output_type": "stream",
     "text": [
      "\n"
     ]
    },
    {
     "data": {
      "application/vnd.jupyter.widget-view+json": {
       "model_id": "3781c1380d844093aa3dcc62c0aade80",
       "version_major": 2,
       "version_minor": 0
      },
      "text/plain": [
       "HBox(children=(FloatProgress(value=0.0, max=20.0), HTML(value='')))"
      ]
     },
     "metadata": {},
     "output_type": "display_data"
    },
    {
     "name": "stdout",
     "output_type": "stream",
     "text": [
      "\n",
      "epoch 43 - train: 82.942 - valid: 20.701 - stale=0\n"
     ]
    },
    {
     "data": {
      "application/vnd.jupyter.widget-view+json": {
       "model_id": "eb30794df01f461fb4e8eb27886d0388",
       "version_major": 2,
       "version_minor": 0
      },
      "text/plain": [
       "HBox(children=(FloatProgress(value=0.0, max=80.0), HTML(value='')))"
      ]
     },
     "metadata": {},
     "output_type": "display_data"
    },
    {
     "name": "stdout",
     "output_type": "stream",
     "text": [
      "\n"
     ]
    },
    {
     "data": {
      "application/vnd.jupyter.widget-view+json": {
       "model_id": "dd9cf26477a44b1e8ec00be57d5f6f7a",
       "version_major": 2,
       "version_minor": 0
      },
      "text/plain": [
       "HBox(children=(FloatProgress(value=0.0, max=20.0), HTML(value='')))"
      ]
     },
     "metadata": {},
     "output_type": "display_data"
    },
    {
     "name": "stdout",
     "output_type": "stream",
     "text": [
      "\n",
      "epoch 44 - train: 82.537 - valid: 20.604 - stale=0\n"
     ]
    },
    {
     "data": {
      "application/vnd.jupyter.widget-view+json": {
       "model_id": "2bd48c3045e747f8a914eb2f3f56dc42",
       "version_major": 2,
       "version_minor": 0
      },
      "text/plain": [
       "HBox(children=(FloatProgress(value=0.0, max=80.0), HTML(value='')))"
      ]
     },
     "metadata": {},
     "output_type": "display_data"
    },
    {
     "name": "stdout",
     "output_type": "stream",
     "text": [
      "\n"
     ]
    },
    {
     "data": {
      "application/vnd.jupyter.widget-view+json": {
       "model_id": "ea588a09c38b45a5bfe004f52d849feb",
       "version_major": 2,
       "version_minor": 0
      },
      "text/plain": [
       "HBox(children=(FloatProgress(value=0.0, max=20.0), HTML(value='')))"
      ]
     },
     "metadata": {},
     "output_type": "display_data"
    },
    {
     "name": "stdout",
     "output_type": "stream",
     "text": [
      "\n",
      "epoch 45 - train: 82.165 - valid: 20.515 - stale=0\n"
     ]
    },
    {
     "data": {
      "application/vnd.jupyter.widget-view+json": {
       "model_id": "2a93cc3a1f3b44b59a4d725003b70adc",
       "version_major": 2,
       "version_minor": 0
      },
      "text/plain": [
       "HBox(children=(FloatProgress(value=0.0, max=80.0), HTML(value='')))"
      ]
     },
     "metadata": {},
     "output_type": "display_data"
    },
    {
     "name": "stdout",
     "output_type": "stream",
     "text": [
      "\n"
     ]
    },
    {
     "data": {
      "application/vnd.jupyter.widget-view+json": {
       "model_id": "c8340d64e9a748b4bc5b080f1a5225be",
       "version_major": 2,
       "version_minor": 0
      },
      "text/plain": [
       "HBox(children=(FloatProgress(value=0.0, max=20.0), HTML(value='')))"
      ]
     },
     "metadata": {},
     "output_type": "display_data"
    },
    {
     "name": "stdout",
     "output_type": "stream",
     "text": [
      "\n",
      "epoch 46 - train: 81.819 - valid: 20.43 - stale=0\n"
     ]
    },
    {
     "data": {
      "application/vnd.jupyter.widget-view+json": {
       "model_id": "1753be20a5004ae7a57b37cdbbe6550f",
       "version_major": 2,
       "version_minor": 0
      },
      "text/plain": [
       "HBox(children=(FloatProgress(value=0.0, max=80.0), HTML(value='')))"
      ]
     },
     "metadata": {},
     "output_type": "display_data"
    },
    {
     "name": "stdout",
     "output_type": "stream",
     "text": [
      "\n"
     ]
    },
    {
     "data": {
      "application/vnd.jupyter.widget-view+json": {
       "model_id": "933f586d6bca42ea9a4a9d982f77b29a",
       "version_major": 2,
       "version_minor": 0
      },
      "text/plain": [
       "HBox(children=(FloatProgress(value=0.0, max=20.0), HTML(value='')))"
      ]
     },
     "metadata": {},
     "output_type": "display_data"
    },
    {
     "name": "stdout",
     "output_type": "stream",
     "text": [
      "\n",
      "epoch 47 - train: 81.497 - valid: 20.352 - stale=0\n"
     ]
    },
    {
     "data": {
      "application/vnd.jupyter.widget-view+json": {
       "model_id": "51c0e78d5b5c459d9625b4b3038c49d1",
       "version_major": 2,
       "version_minor": 0
      },
      "text/plain": [
       "HBox(children=(FloatProgress(value=0.0, max=80.0), HTML(value='')))"
      ]
     },
     "metadata": {},
     "output_type": "display_data"
    },
    {
     "name": "stdout",
     "output_type": "stream",
     "text": [
      "\n"
     ]
    },
    {
     "data": {
      "application/vnd.jupyter.widget-view+json": {
       "model_id": "efb21bd337ef4b9b9de10844325bcac1",
       "version_major": 2,
       "version_minor": 0
      },
      "text/plain": [
       "HBox(children=(FloatProgress(value=0.0, max=20.0), HTML(value='')))"
      ]
     },
     "metadata": {},
     "output_type": "display_data"
    },
    {
     "name": "stdout",
     "output_type": "stream",
     "text": [
      "\n",
      "epoch 48 - train: 81.196 - valid: 20.28 - stale=0\n"
     ]
    },
    {
     "data": {
      "application/vnd.jupyter.widget-view+json": {
       "model_id": "acf27b595f494c2db253a536fcf7604d",
       "version_major": 2,
       "version_minor": 0
      },
      "text/plain": [
       "HBox(children=(FloatProgress(value=0.0, max=80.0), HTML(value='')))"
      ]
     },
     "metadata": {},
     "output_type": "display_data"
    },
    {
     "name": "stdout",
     "output_type": "stream",
     "text": [
      "\n"
     ]
    },
    {
     "data": {
      "application/vnd.jupyter.widget-view+json": {
       "model_id": "b56d1b85db354cf6b2a943c0cba4dda7",
       "version_major": 2,
       "version_minor": 0
      },
      "text/plain": [
       "HBox(children=(FloatProgress(value=0.0, max=20.0), HTML(value='')))"
      ]
     },
     "metadata": {},
     "output_type": "display_data"
    },
    {
     "name": "stdout",
     "output_type": "stream",
     "text": [
      "\n",
      "epoch 49 - train: 80.915 - valid: 20.213 - stale=0\n",
      "\n"
     ]
    },
    {
     "data": {
      "image/png": "[encoded data removed]",
      "text/plain": [
       "<Figure size 432x288 with 1 Axes>"
      ]
     },
     "metadata": {
      "needs_background": "light"
     },
     "output_type": "display_data"
    }
   ],
   "source": [
    "batch_size = 50\n",
    "losses_train_ssl, losses_valid_ssl = train_mlpf(\n",
    "    data, batch_size, model_ssl, with_VICReg=True, epochs=50\n",
    ")"
   ]
  },
  {
   "cell_type": "code",
   "execution_count": 47,
   "metadata": {},
   "outputs": [],
   "source": [
    "class MLPF_native(nn.Module):\n",
    "    def __init__(\n",
    "        self,\n",
    "        input_dim=8,\n",
    "        embedding_dim=34,\n",
    "        num_classes=6,\n",
    "        num_convs=2,\n",
    "        k=8,\n",
    "    ):\n",
    "        super(MLPF_native, self).__init__()\n",
    "\n",
    "        self.act = nn.ELU\n",
    "\n",
    "        # embedding\n",
    "        self.nn0 = nn.Sequential(\n",
    "            nn.Linear(input_dim, 126),\n",
    "            self.act(),\n",
    "            nn.Linear(126, 126),\n",
    "            self.act(),\n",
    "            nn.Linear(126, 126),\n",
    "            self.act(),\n",
    "            nn.Linear(126, embedding_dim),\n",
    "        )\n",
    "\n",
    "        # GNN that uses the embeddings learnt by VICReg as the input features\n",
    "        self.conv = nn.ModuleList()\n",
    "        for i in range(num_convs):\n",
    "            self.conv.append(\n",
    "                GravNetConv(\n",
    "                    embedding_dim,\n",
    "                    embedding_dim,\n",
    "                    space_dimensions=4,\n",
    "                    propagate_dimensions=22,\n",
    "                    k=k,\n",
    "                )\n",
    "            )\n",
    "\n",
    "        # DNN that acts on the node level to predict the PID\n",
    "        self.nn = nn.Sequential(\n",
    "            nn.Linear(embedding_dim, 126),\n",
    "            self.act(),\n",
    "            nn.Linear(126, 126),\n",
    "            self.act(),\n",
    "            nn.Linear(126, num_classes),\n",
    "        )\n",
    "\n",
    "    def forward(self, batch):\n",
    "\n",
    "        # unfold the Batch object\n",
    "        input_ = batch.x.float()\n",
    "        batch = batch.batch\n",
    "\n",
    "        # embedding\n",
    "        embedding = self.nn0(input_)\n",
    "\n",
    "        # perform a series of graph convolutions\n",
    "        for num, conv in enumerate(self.conv):\n",
    "            embedding = conv(embedding, batch)\n",
    "\n",
    "        # predict the PIDs\n",
    "        preds_id = self.nn(embedding)\n",
    "\n",
    "        return preds_id"
   ]
  },
  {
   "cell_type": "code",
   "execution_count": 48,
   "metadata": {},
   "outputs": [
    {
     "name": "stdout",
     "output_type": "stream",
     "text": [
      "Num of model paramaters:  66326\n"
     ]
    }
   ],
   "source": [
    "model_native = MLPF_native(input_dim=COMMON_X + 1)\n",
    "print(\n",
    "    \"Num of model paramaters: \",\n",
    "    sum(p.numel() for p in model_native.parameters() if p.requires_grad),\n",
    ")"
   ]
  },
  {
   "cell_type": "code",
   "execution_count": 46,
   "metadata": {},
   "outputs": [
    {
     "data": {
      "application/vnd.jupyter.widget-view+json": {
       "model_id": "e1ff10c3f14147b5ae4bffc8f5935d7d",
       "version_major": 2,
       "version_minor": 0
      },
      "text/plain": [
       "HBox(children=(FloatProgress(value=0.0, max=50.0), HTML(value='')))"
      ]
     },
     "metadata": {},
     "output_type": "display_data"
    },
    {
     "data": {
      "application/vnd.jupyter.widget-view+json": {
       "model_id": "20aa14d866024f18bad25710a34d3954",
       "version_major": 2,
       "version_minor": 0
      },
      "text/plain": [
       "HBox(children=(FloatProgress(value=0.0, max=80.0), HTML(value='')))"
      ]
     },
     "metadata": {},
     "output_type": "display_data"
    },
    {
     "name": "stdout",
     "output_type": "stream",
     "text": [
      "\n",
      "\n"
     ]
    },
    {
     "ename": "KeyboardInterrupt",
     "evalue": "",
     "output_type": "error",
     "traceback": [
      "\u001b[0;31m---------------------------------------------------------------------------\u001b[0m",
      "\u001b[0;31mKeyboardInterrupt\u001b[0m                         Traceback (most recent call last)",
      "\u001b[0;32m<ipython-input-46-9858e3a18eff>\u001b[0m in \u001b[0;36m<module>\u001b[0;34m\u001b[0m\n\u001b[1;32m      1\u001b[0m \u001b[0;31m# train native MLPF\u001b[0m\u001b[0;34m\u001b[0m\u001b[0;34m\u001b[0m\u001b[0;34m\u001b[0m\u001b[0m\n\u001b[1;32m      2\u001b[0m \u001b[0mbatch_size\u001b[0m \u001b[0;34m=\u001b[0m \u001b[0;36m50\u001b[0m\u001b[0;34m\u001b[0m\u001b[0;34m\u001b[0m\u001b[0m\n\u001b[0;32m----> 3\u001b[0;31m \u001b[0mlosses_train_native\u001b[0m\u001b[0;34m,\u001b[0m \u001b[0mlosses_valid_native\u001b[0m \u001b[0;34m=\u001b[0m \u001b[0mtrain_mlpf\u001b[0m\u001b[0;34m(\u001b[0m\u001b[0mdata\u001b[0m\u001b[0;34m,\u001b[0m \u001b[0mbatch_size\u001b[0m\u001b[0;34m,\u001b[0m \u001b[0mmodel_native\u001b[0m\u001b[0;34m,\u001b[0m \u001b[0mwith_VICReg\u001b[0m\u001b[0;34m=\u001b[0m\u001b[0;32mFalse\u001b[0m\u001b[0;34m,\u001b[0m \u001b[0mepochs\u001b[0m\u001b[0;34m=\u001b[0m\u001b[0;36m50\u001b[0m\u001b[0;34m)\u001b[0m\u001b[0;34m\u001b[0m\u001b[0;34m\u001b[0m\u001b[0m\n\u001b[0m",
      "\u001b[0;32m<ipython-input-41-00227b98e664>\u001b[0m in \u001b[0;36mtrain_mlpf\u001b[0;34m(data, batch_size, model, with_VICReg, epochs)\u001b[0m\n\u001b[1;32m     62\u001b[0m \u001b[0;34m\u001b[0m\u001b[0m\n\u001b[1;32m     63\u001b[0m             \u001b[0;31m# make mlpf forward pass\u001b[0m\u001b[0;34m\u001b[0m\u001b[0;34m\u001b[0m\u001b[0;34m\u001b[0m\u001b[0m\n\u001b[0;32m---> 64\u001b[0;31m             \u001b[0mpred_ids_one_hot\u001b[0m \u001b[0;34m=\u001b[0m \u001b[0mmodel\u001b[0m\u001b[0;34m(\u001b[0m\u001b[0mevent\u001b[0m\u001b[0;34m)\u001b[0m\u001b[0;34m\u001b[0m\u001b[0;34m\u001b[0m\u001b[0m\n\u001b[0m\u001b[1;32m     65\u001b[0m             \u001b[0mpred_ids\u001b[0m \u001b[0;34m=\u001b[0m \u001b[0mtorch\u001b[0m\u001b[0;34m.\u001b[0m\u001b[0margmax\u001b[0m\u001b[0;34m(\u001b[0m\u001b[0mpred_ids_one_hot\u001b[0m\u001b[0;34m,\u001b[0m \u001b[0maxis\u001b[0m\u001b[0;34m=\u001b[0m\u001b[0;36m1\u001b[0m\u001b[0;34m)\u001b[0m\u001b[0;34m\u001b[0m\u001b[0;34m\u001b[0m\u001b[0m\n\u001b[1;32m     66\u001b[0m             \u001b[0mtarget_ids\u001b[0m \u001b[0;34m=\u001b[0m \u001b[0mevent\u001b[0m\u001b[0;34m.\u001b[0m\u001b[0mygen_id\u001b[0m\u001b[0;34m\u001b[0m\u001b[0;34m\u001b[0m\u001b[0m\n",
      "\u001b[0;32m/opt/anaconda3/envs/pyg-coffea/lib/python3.8/site-packages/torch/nn/modules/module.py\u001b[0m in \u001b[0;36m_call_impl\u001b[0;34m(self, *input, **kwargs)\u001b[0m\n\u001b[1;32m   1049\u001b[0m         if not (self._backward_hooks or self._forward_hooks or self._forward_pre_hooks or _global_backward_hooks\n\u001b[1;32m   1050\u001b[0m                 or _global_forward_hooks or _global_forward_pre_hooks):\n\u001b[0;32m-> 1051\u001b[0;31m             \u001b[0;32mreturn\u001b[0m \u001b[0mforward_call\u001b[0m\u001b[0;34m(\u001b[0m\u001b[0;34m*\u001b[0m\u001b[0minput\u001b[0m\u001b[0;34m,\u001b[0m \u001b[0;34m**\u001b[0m\u001b[0mkwargs\u001b[0m\u001b[0;34m)\u001b[0m\u001b[0;34m\u001b[0m\u001b[0;34m\u001b[0m\u001b[0m\n\u001b[0m\u001b[1;32m   1052\u001b[0m         \u001b[0;31m# Do not call functions when jit is used\u001b[0m\u001b[0;34m\u001b[0m\u001b[0;34m\u001b[0m\u001b[0;34m\u001b[0m\u001b[0m\n\u001b[1;32m   1053\u001b[0m         \u001b[0mfull_backward_hooks\u001b[0m\u001b[0;34m,\u001b[0m \u001b[0mnon_full_backward_hooks\u001b[0m \u001b[0;34m=\u001b[0m \u001b[0;34m[\u001b[0m\u001b[0;34m]\u001b[0m\u001b[0;34m,\u001b[0m \u001b[0;34m[\u001b[0m\u001b[0;34m]\u001b[0m\u001b[0;34m\u001b[0m\u001b[0;34m\u001b[0m\u001b[0m\n",
      "\u001b[0;32m<ipython-input-44-03354456bbcd>\u001b[0m in \u001b[0;36mforward\u001b[0;34m(self, batch)\u001b[0m\n\u001b[1;32m     51\u001b[0m         \u001b[0;31m# perform a series of graph convolutions\u001b[0m\u001b[0;34m\u001b[0m\u001b[0;34m\u001b[0m\u001b[0;34m\u001b[0m\u001b[0m\n\u001b[1;32m     52\u001b[0m         \u001b[0;32mfor\u001b[0m \u001b[0mnum\u001b[0m\u001b[0;34m,\u001b[0m \u001b[0mconv\u001b[0m \u001b[0;32min\u001b[0m \u001b[0menumerate\u001b[0m\u001b[0;34m(\u001b[0m\u001b[0mself\u001b[0m\u001b[0;34m.\u001b[0m\u001b[0mconv\u001b[0m\u001b[0;34m)\u001b[0m\u001b[0;34m:\u001b[0m\u001b[0;34m\u001b[0m\u001b[0;34m\u001b[0m\u001b[0m\n\u001b[0;32m---> 53\u001b[0;31m             \u001b[0membedding\u001b[0m \u001b[0;34m=\u001b[0m \u001b[0mconv\u001b[0m\u001b[0;34m(\u001b[0m\u001b[0membedding\u001b[0m\u001b[0;34m,\u001b[0m \u001b[0mbatch\u001b[0m\u001b[0;34m)\u001b[0m\u001b[0;34m\u001b[0m\u001b[0;34m\u001b[0m\u001b[0m\n\u001b[0m\u001b[1;32m     54\u001b[0m \u001b[0;34m\u001b[0m\u001b[0m\n\u001b[1;32m     55\u001b[0m         \u001b[0;31m# predict the PIDs\u001b[0m\u001b[0;34m\u001b[0m\u001b[0;34m\u001b[0m\u001b[0;34m\u001b[0m\u001b[0m\n",
      "\u001b[0;32m/opt/anaconda3/envs/pyg-coffea/lib/python3.8/site-packages/torch/nn/modules/module.py\u001b[0m in \u001b[0;36m_call_impl\u001b[0;34m(self, *input, **kwargs)\u001b[0m\n\u001b[1;32m   1049\u001b[0m         if not (self._backward_hooks or self._forward_hooks or self._forward_pre_hooks or _global_backward_hooks\n\u001b[1;32m   1050\u001b[0m                 or _global_forward_hooks or _global_forward_pre_hooks):\n\u001b[0;32m-> 1051\u001b[0;31m             \u001b[0;32mreturn\u001b[0m \u001b[0mforward_call\u001b[0m\u001b[0;34m(\u001b[0m\u001b[0;34m*\u001b[0m\u001b[0minput\u001b[0m\u001b[0;34m,\u001b[0m \u001b[0;34m**\u001b[0m\u001b[0mkwargs\u001b[0m\u001b[0;34m)\u001b[0m\u001b[0;34m\u001b[0m\u001b[0;34m\u001b[0m\u001b[0m\n\u001b[0m\u001b[1;32m   1052\u001b[0m         \u001b[0;31m# Do not call functions when jit is used\u001b[0m\u001b[0;34m\u001b[0m\u001b[0;34m\u001b[0m\u001b[0;34m\u001b[0m\u001b[0m\n\u001b[1;32m   1053\u001b[0m         \u001b[0mfull_backward_hooks\u001b[0m\u001b[0;34m,\u001b[0m \u001b[0mnon_full_backward_hooks\u001b[0m \u001b[0;34m=\u001b[0m \u001b[0;34m[\u001b[0m\u001b[0;34m]\u001b[0m\u001b[0;34m,\u001b[0m \u001b[0;34m[\u001b[0m\u001b[0;34m]\u001b[0m\u001b[0;34m\u001b[0m\u001b[0;34m\u001b[0m\u001b[0m\n",
      "\u001b[0;32m/opt/anaconda3/envs/pyg-coffea/lib/python3.8/site-packages/torch_geometric/nn/conv/gravnet_conv.py\u001b[0m in \u001b[0;36mforward\u001b[0;34m(self, x, batch)\u001b[0m\n\u001b[1;32m     98\u001b[0m \u001b[0;34m\u001b[0m\u001b[0m\n\u001b[1;32m     99\u001b[0m         \u001b[0;31m# propagate_type: (x: OptPairTensor, edge_weight: OptTensor)\u001b[0m\u001b[0;34m\u001b[0m\u001b[0;34m\u001b[0m\u001b[0;34m\u001b[0m\u001b[0m\n\u001b[0;32m--> 100\u001b[0;31m         out = self.propagate(edge_index, x=(h_l, None),\n\u001b[0m\u001b[1;32m    101\u001b[0m                              \u001b[0medge_weight\u001b[0m\u001b[0;34m=\u001b[0m\u001b[0medge_weight\u001b[0m\u001b[0;34m,\u001b[0m\u001b[0;34m\u001b[0m\u001b[0;34m\u001b[0m\u001b[0m\n\u001b[1;32m    102\u001b[0m                              size=(s_l.size(0), s_r.size(0)))\n",
      "\u001b[0;32m/opt/anaconda3/envs/pyg-coffea/lib/python3.8/site-packages/torch_geometric/nn/conv/message_passing.py\u001b[0m in \u001b[0;36mpropagate\u001b[0;34m(self, edge_index, size, **kwargs)\u001b[0m\n\u001b[1;32m    292\u001b[0m                 \u001b[0;32mif\u001b[0m \u001b[0mres\u001b[0m \u001b[0;32mis\u001b[0m \u001b[0;32mnot\u001b[0m \u001b[0;32mNone\u001b[0m\u001b[0;34m:\u001b[0m\u001b[0;34m\u001b[0m\u001b[0;34m\u001b[0m\u001b[0m\n\u001b[1;32m    293\u001b[0m                     \u001b[0maggr_kwargs\u001b[0m \u001b[0;34m=\u001b[0m \u001b[0mres\u001b[0m\u001b[0;34m[\u001b[0m\u001b[0;36m0\u001b[0m\u001b[0;34m]\u001b[0m \u001b[0;32mif\u001b[0m \u001b[0misinstance\u001b[0m\u001b[0;34m(\u001b[0m\u001b[0mres\u001b[0m\u001b[0;34m,\u001b[0m \u001b[0mtuple\u001b[0m\u001b[0;34m)\u001b[0m \u001b[0;32melse\u001b[0m \u001b[0mres\u001b[0m\u001b[0;34m\u001b[0m\u001b[0;34m\u001b[0m\u001b[0m\n\u001b[0;32m--> 294\u001b[0;31m             \u001b[0mout\u001b[0m \u001b[0;34m=\u001b[0m \u001b[0mself\u001b[0m\u001b[0;34m.\u001b[0m\u001b[0maggregate\u001b[0m\u001b[0;34m(\u001b[0m\u001b[0mout\u001b[0m\u001b[0;34m,\u001b[0m \u001b[0;34m**\u001b[0m\u001b[0maggr_kwargs\u001b[0m\u001b[0;34m)\u001b[0m\u001b[0;34m\u001b[0m\u001b[0;34m\u001b[0m\u001b[0m\n\u001b[0m\u001b[1;32m    295\u001b[0m             \u001b[0;32mfor\u001b[0m \u001b[0mhook\u001b[0m \u001b[0;32min\u001b[0m \u001b[0mself\u001b[0m\u001b[0;34m.\u001b[0m\u001b[0m_aggregate_forward_hooks\u001b[0m\u001b[0;34m.\u001b[0m\u001b[0mvalues\u001b[0m\u001b[0;34m(\u001b[0m\u001b[0;34m)\u001b[0m\u001b[0;34m:\u001b[0m\u001b[0;34m\u001b[0m\u001b[0;34m\u001b[0m\u001b[0m\n\u001b[1;32m    296\u001b[0m                 \u001b[0mres\u001b[0m \u001b[0;34m=\u001b[0m \u001b[0mhook\u001b[0m\u001b[0;34m(\u001b[0m\u001b[0mself\u001b[0m\u001b[0;34m,\u001b[0m \u001b[0;34m(\u001b[0m\u001b[0maggr_kwargs\u001b[0m\u001b[0;34m,\u001b[0m \u001b[0;34m)\u001b[0m\u001b[0;34m,\u001b[0m \u001b[0mout\u001b[0m\u001b[0;34m)\u001b[0m\u001b[0;34m\u001b[0m\u001b[0;34m\u001b[0m\u001b[0m\n",
      "\u001b[0;32m/opt/anaconda3/envs/pyg-coffea/lib/python3.8/site-packages/torch_geometric/nn/conv/gravnet_conv.py\u001b[0m in \u001b[0;36maggregate\u001b[0;34m(self, inputs, index, dim_size)\u001b[0m\n\u001b[1;32m    111\u001b[0m         out_mean = scatter(inputs, index, dim=self.node_dim, dim_size=dim_size,\n\u001b[1;32m    112\u001b[0m                            reduce='mean')\n\u001b[0;32m--> 113\u001b[0;31m         out_max = scatter(inputs, index, dim=self.node_dim, dim_size=dim_size,\n\u001b[0m\u001b[1;32m    114\u001b[0m                           reduce='max')\n\u001b[1;32m    115\u001b[0m         \u001b[0;32mreturn\u001b[0m \u001b[0mtorch\u001b[0m\u001b[0;34m.\u001b[0m\u001b[0mcat\u001b[0m\u001b[0;34m(\u001b[0m\u001b[0;34m[\u001b[0m\u001b[0mout_mean\u001b[0m\u001b[0;34m,\u001b[0m \u001b[0mout_max\u001b[0m\u001b[0;34m]\u001b[0m\u001b[0;34m,\u001b[0m \u001b[0mdim\u001b[0m\u001b[0;34m=\u001b[0m\u001b[0;34m-\u001b[0m\u001b[0;36m1\u001b[0m\u001b[0;34m)\u001b[0m\u001b[0;34m\u001b[0m\u001b[0;34m\u001b[0m\u001b[0m\n",
      "\u001b[0;32m/opt/anaconda3/envs/pyg-coffea/lib/python3.8/site-packages/torch_scatter/scatter.py\u001b[0m in \u001b[0;36mscatter\u001b[0;34m(src, index, dim, out, dim_size, reduce)\u001b[0m\n\u001b[1;32m    159\u001b[0m         \u001b[0;32mreturn\u001b[0m \u001b[0mscatter_min\u001b[0m\u001b[0;34m(\u001b[0m\u001b[0msrc\u001b[0m\u001b[0;34m,\u001b[0m \u001b[0mindex\u001b[0m\u001b[0;34m,\u001b[0m \u001b[0mdim\u001b[0m\u001b[0;34m,\u001b[0m \u001b[0mout\u001b[0m\u001b[0;34m,\u001b[0m \u001b[0mdim_size\u001b[0m\u001b[0;34m)\u001b[0m\u001b[0;34m[\u001b[0m\u001b[0;36m0\u001b[0m\u001b[0;34m]\u001b[0m\u001b[0;34m\u001b[0m\u001b[0;34m\u001b[0m\u001b[0m\n\u001b[1;32m    160\u001b[0m     \u001b[0;32melif\u001b[0m \u001b[0mreduce\u001b[0m \u001b[0;34m==\u001b[0m \u001b[0;34m'max'\u001b[0m\u001b[0;34m:\u001b[0m\u001b[0;34m\u001b[0m\u001b[0;34m\u001b[0m\u001b[0m\n\u001b[0;32m--> 161\u001b[0;31m         \u001b[0;32mreturn\u001b[0m \u001b[0mscatter_max\u001b[0m\u001b[0;34m(\u001b[0m\u001b[0msrc\u001b[0m\u001b[0;34m,\u001b[0m \u001b[0mindex\u001b[0m\u001b[0;34m,\u001b[0m \u001b[0mdim\u001b[0m\u001b[0;34m,\u001b[0m \u001b[0mout\u001b[0m\u001b[0;34m,\u001b[0m \u001b[0mdim_size\u001b[0m\u001b[0;34m)\u001b[0m\u001b[0;34m[\u001b[0m\u001b[0;36m0\u001b[0m\u001b[0;34m]\u001b[0m\u001b[0;34m\u001b[0m\u001b[0;34m\u001b[0m\u001b[0m\n\u001b[0m\u001b[1;32m    162\u001b[0m     \u001b[0;32melse\u001b[0m\u001b[0;34m:\u001b[0m\u001b[0;34m\u001b[0m\u001b[0;34m\u001b[0m\u001b[0m\n\u001b[1;32m    163\u001b[0m         \u001b[0;32mraise\u001b[0m \u001b[0mValueError\u001b[0m\u001b[0;34m\u001b[0m\u001b[0;34m\u001b[0m\u001b[0m\n",
      "\u001b[0;32m/opt/anaconda3/envs/pyg-coffea/lib/python3.8/site-packages/torch_scatter/scatter.py\u001b[0m in \u001b[0;36mscatter_max\u001b[0;34m(src, index, dim, out, dim_size)\u001b[0m\n\u001b[1;32m     71\u001b[0m         \u001b[0mout\u001b[0m\u001b[0;34m:\u001b[0m \u001b[0mOptional\u001b[0m\u001b[0;34m[\u001b[0m\u001b[0mtorch\u001b[0m\u001b[0;34m.\u001b[0m\u001b[0mTensor\u001b[0m\u001b[0;34m]\u001b[0m \u001b[0;34m=\u001b[0m \u001b[0;32mNone\u001b[0m\u001b[0;34m,\u001b[0m\u001b[0;34m\u001b[0m\u001b[0;34m\u001b[0m\u001b[0m\n\u001b[1;32m     72\u001b[0m         dim_size: Optional[int] = None) -> Tuple[torch.Tensor, torch.Tensor]:\n\u001b[0;32m---> 73\u001b[0;31m     \u001b[0;32mreturn\u001b[0m \u001b[0mtorch\u001b[0m\u001b[0;34m.\u001b[0m\u001b[0mops\u001b[0m\u001b[0;34m.\u001b[0m\u001b[0mtorch_scatter\u001b[0m\u001b[0;34m.\u001b[0m\u001b[0mscatter_max\u001b[0m\u001b[0;34m(\u001b[0m\u001b[0msrc\u001b[0m\u001b[0;34m,\u001b[0m \u001b[0mindex\u001b[0m\u001b[0;34m,\u001b[0m \u001b[0mdim\u001b[0m\u001b[0;34m,\u001b[0m \u001b[0mout\u001b[0m\u001b[0;34m,\u001b[0m \u001b[0mdim_size\u001b[0m\u001b[0;34m)\u001b[0m\u001b[0;34m\u001b[0m\u001b[0;34m\u001b[0m\u001b[0m\n\u001b[0m\u001b[1;32m     74\u001b[0m \u001b[0;34m\u001b[0m\u001b[0m\n\u001b[1;32m     75\u001b[0m \u001b[0;34m\u001b[0m\u001b[0m\n",
      "\u001b[0;31mKeyboardInterrupt\u001b[0m: "
     ]
    }
   ],
   "source": [
    "# train native MLPF\n",
    "batch_size = 50\n",
    "losses_train_native, losses_valid_native = train_mlpf(\n",
    "    data, batch_size, model_native, with_VICReg=False, epochs=50\n",
    ")"
   ]
  },
  {
   "cell_type": "markdown",
   "metadata": {},
   "source": [
    "## Compare native vs SSL"
   ]
  },
  {
   "cell_type": "code",
   "execution_count": 96,
   "metadata": {},
   "outputs": [
    {
     "data": {
      "image/png": "[encoded data removed]",
      "text/plain": [
       "<Figure size 576x432 with 1 Axes>"
      ]
     },
     "metadata": {
      "needs_background": "light"
     },
     "output_type": "display_data"
    }
   ],
   "source": [
    "fig, ax = plt.subplots(figsize=(8, 6))\n",
    "ax.plot(range(len(losses_train_ssl[1:])), losses_train_ssl[1:], label=\"ssl\")\n",
    "ax.plot(\n",
    "    range(len(losses_train_native[1:])),\n",
    "    losses_train_native[1:],\n",
    "    label=\"native\",\n",
    ")\n",
    "ax.set_xlabel(\"Epochs\", fontsize=15)\n",
    "ax.set_ylabel(\"Loss\", fontsize=15)\n",
    "ax.legend(title=\"Training loss\", loc=\"best\", title_fontsize=20, fontsize=15);"
   ]
  },
  {
   "cell_type": "code",
   "execution_count": 97,
   "metadata": {},
   "outputs": [
    {
     "data": {
      "image/png": "[encoded data removed]",
      "text/plain": [
       "<Figure size 576x432 with 1 Axes>"
      ]
     },
     "metadata": {
      "needs_background": "light"
     },
     "output_type": "display_data"
    }
   ],
   "source": [
    "fig, ax = plt.subplots(figsize=(8, 6))\n",
    "ax.plot(range(len(losses_valid_ssl[1:])), losses_valid_ssl[1:], label=\"ssl\")\n",
    "ax.plot(\n",
    "    range(len(losses_valid_native[1:])),\n",
    "    losses_valid_native[1:],\n",
    "    label=\"native\",\n",
    ")\n",
    "ax.set_xlabel(\"Epochs\", fontsize=15)\n",
    "ax.set_ylabel(\"Loss\", fontsize=15)\n",
    "ax.legend(title=\"Validation loss\", loc=\"best\", title_fontsize=20, fontsize=15);"
   ]
  },
  {
   "cell_type": "markdown",
   "metadata": {},
   "source": [
    "## Evaluate the SSL against native MLPF"
   ]
  },
  {
   "cell_type": "code",
   "execution_count": 69,
   "metadata": {},
   "outputs": [],
   "source": [
    "test_loader = torch_geometric.loader.DataLoader(data[5000:], batch_size)"
   ]
  },
  {
   "cell_type": "code",
   "execution_count": 18,
   "metadata": {},
   "outputs": [],
   "source": [
    "def evaluate_mlpf(model, with_VICReg):\n",
    "    num_classes = 6\n",
    "    conf_matrix = np.zeros((num_classes, num_classes))\n",
    "\n",
    "    model.eval()\n",
    "    encoder.eval()\n",
    "    decoder.eval()\n",
    "    with torch.no_grad():\n",
    "        t = time.time()\n",
    "        for i, batch in tqdm(enumerate(test_loader)):\n",
    "            if with_VICReg:\n",
    "                # make transformation\n",
    "                tracks, clusters = distinguish_PFelements(batch)\n",
    "\n",
    "                ### ENCODE\n",
    "                embedding_tracks, embedding_clusters = encoder(\n",
    "                    tracks, clusters\n",
    "                )\n",
    "                ### POOLING\n",
    "                pooled_tracks = global_mean_pool(\n",
    "                    embedding_tracks, tracks.batch\n",
    "                )\n",
    "                pooled_clusters = global_mean_pool(\n",
    "                    embedding_clusters, clusters.batch\n",
    "                )\n",
    "                ### DECODE\n",
    "                out_tracks, out_clusters = decoder(\n",
    "                    pooled_tracks, pooled_clusters\n",
    "                )\n",
    "\n",
    "                # use the learnt representation as your input as well as the global feature vector\n",
    "                tracks.x = embedding_tracks\n",
    "                clusters.x = embedding_clusters\n",
    "\n",
    "                event = combine_PFelements(tracks, clusters)\n",
    "\n",
    "            else:\n",
    "                event = batch\n",
    "\n",
    "            # make mlpf forward pass\n",
    "            pred_ids_one_hot = model(event)\n",
    "            pred_ids = torch.argmax(pred_ids_one_hot, axis=1)\n",
    "            target_ids = event.ygen_id\n",
    "\n",
    "            conf_matrix += sklearn.metrics.confusion_matrix(\n",
    "                target_ids.detach().cpu(),\n",
    "                pred_ids.detach().cpu(),\n",
    "                labels=range(num_classes),\n",
    "            )\n",
    "        print(f\"Time taken is {round(time.time() - t,2)}s\")\n",
    "    return conf_matrix\n",
    "\n",
    "\n",
    "CLASS_NAMES_CLIC_LATEX = [\n",
    "    \"none\",\n",
    "    \"chhad\",\n",
    "    \"nhad\",\n",
    "    \"$\\gamma$\",\n",
    "    \"$e^\\pm$\",\n",
    "    \"$\\mu^\\pm$\",\n",
    "]\n",
    "\n",
    "\n",
    "def plot_conf_matrix(cm, title):\n",
    "    import itertools\n",
    "\n",
    "    cmap = plt.get_cmap(\"Blues\")\n",
    "    cm = cm.astype(\"float\") / cm.sum(axis=1)[:, np.newaxis]\n",
    "    cm[np.isnan(cm)] = 0.0\n",
    "\n",
    "    fig = plt.figure(figsize=(8, 6))\n",
    "\n",
    "    ax = plt.axes()\n",
    "    plt.imshow(cm, interpolation=\"nearest\", cmap=cmap)\n",
    "    plt.colorbar()\n",
    "\n",
    "    thresh = cm.max() / 1.5\n",
    "    for i, j in itertools.product(range(cm.shape[0]), range(cm.shape[1])):\n",
    "        plt.text(\n",
    "            j,\n",
    "            i,\n",
    "            \"{:0.2f}\".format(cm[i, j]),\n",
    "            horizontalalignment=\"center\",\n",
    "            color=\"white\" if cm[i, j] > thresh else \"black\",\n",
    "            fontsize=15,\n",
    "        )\n",
    "    plt.title(title, fontsize=25)\n",
    "    plt.xlabel(\"Predicted label\", fontsize=15)\n",
    "    plt.ylabel(\"True label\", fontsize=15)\n",
    "\n",
    "    plt.xticks(\n",
    "        range(len(CLASS_NAMES_CLIC_LATEX)),\n",
    "        CLASS_NAMES_CLIC_LATEX,\n",
    "        rotation=45,\n",
    "        fontsize=15,\n",
    "    )\n",
    "    plt.yticks(\n",
    "        range(len(CLASS_NAMES_CLIC_LATEX)), CLASS_NAMES_CLIC_LATEX, fontsize=15\n",
    "    )\n",
    "\n",
    "    plt.tight_layout()"
   ]
  },
  {
   "cell_type": "code",
   "execution_count": 79,
   "metadata": {},
   "outputs": [
    {
     "data": {
      "application/vnd.jupyter.widget-view+json": {
       "model_id": "454682ec20174c3c8bef066fc1fa9ba2",
       "version_major": 2,
       "version_minor": 0
      },
      "text/plain": [
       "HBox(children=(FloatProgress(value=1.0, bar_style='info', max=1.0), HTML(value='')))"
      ]
     },
     "metadata": {},
     "output_type": "display_data"
    },
    {
     "name": "stdout",
     "output_type": "stream",
     "text": [
      "\n"
     ]
    },
    {
     "data": {
      "image/png": "[encoded data removed]",
      "text/plain": [
       "<Figure size 576x432 with 2 Axes>"
      ]
     },
     "metadata": {
      "needs_background": "light"
     },
     "output_type": "display_data"
    }
   ],
   "source": [
    "# make confusion matrix of PF for comparison\n",
    "batch_size = 50\n",
    "\n",
    "num_classes = 6\n",
    "conf_matrix_pf = np.zeros((num_classes, num_classes))\n",
    "\n",
    "for i, batch in tqdm(enumerate(test_loader)):\n",
    "\n",
    "    # make mlpf forward pass\n",
    "    target_ids = batch.ygen_id\n",
    "    pred_ids = batch.ycand_id\n",
    "\n",
    "    conf_matrix_pf += sklearn.metrics.confusion_matrix(\n",
    "        target_ids.detach().cpu(),\n",
    "        pred_ids.detach().cpu(),\n",
    "        labels=range(num_classes),\n",
    "    )\n",
    "plot_conf_matrix(conf_matrix_pf, \"PF\")"
   ]
  },
  {
   "cell_type": "code",
   "execution_count": 80,
   "metadata": {},
   "outputs": [
    {
     "data": {
      "application/vnd.jupyter.widget-view+json": {
       "model_id": "3575aa0943ef44e2ba51ffb9b5c0f7b6",
       "version_major": 2,
       "version_minor": 0
      },
      "text/plain": [
       "HBox(children=(FloatProgress(value=1.0, bar_style='info', max=1.0), HTML(value='')))"
      ]
     },
     "metadata": {},
     "output_type": "display_data"
    },
    {
     "name": "stdout",
     "output_type": "stream",
     "text": [
      "\n",
      "Time taken is 150.4s\n"
     ]
    },
    {
     "data": {
      "image/png": "[encoded data removed]",
      "text/plain": [
       "<Figure size 576x432 with 2 Axes>"
      ]
     },
     "metadata": {
      "needs_background": "light"
     },
     "output_type": "display_data"
    }
   ],
   "source": [
    "batch_size = 100\n",
    "conf_matrix_ssl = evaluate_mlpf(model_ssl, with_VICReg=True)\n",
    "plot_conf_matrix(conf_matrix_ssl, \"ssl MLPF\")"
   ]
  },
  {
   "cell_type": "code",
   "execution_count": 101,
   "metadata": {},
   "outputs": [
    {
     "data": {
      "application/vnd.jupyter.widget-view+json": {
       "model_id": "3d6d098528b44bcfb0a61c90c573dccf",
       "version_major": 2,
       "version_minor": 0
      },
      "text/plain": [
       "HBox(children=(FloatProgress(value=1.0, bar_style='info', max=1.0), HTML(value='')))"
      ]
     },
     "metadata": {},
     "output_type": "display_data"
    },
    {
     "name": "stdout",
     "output_type": "stream",
     "text": [
      "\n",
      "Time taken is 100.82s\n"
     ]
    },
    {
     "data": {
      "image/png": "[encoded data removed]",
      "text/plain": [
       "<Figure size 576x432 with 2 Axes>"
      ]
     },
     "metadata": {
      "needs_background": "light"
     },
     "output_type": "display_data"
    }
   ],
   "source": [
    "conf_matrix = evaluate_mlpf(model_native, with_VICReg=False)\n",
    "plot_conf_matrix(conf_matrix, \"native MLPF\")"
   ]
  },
  {
   "cell_type": "code",
   "execution_count": 107,
   "metadata": {},
   "outputs": [
    {
     "name": "stdout",
     "output_type": "stream",
     "text": [
      "Num of ssl mlpf model paramaters:  202652\n"
     ]
    }
   ],
   "source": [
    "print(\n",
    "    \"Num of ssl mlpf model paramaters: \",\n",
    "    sum(p.numel() for p in model_ssl.parameters() if p.requires_grad),\n",
    ")"
   ]
  },
  {
   "cell_type": "code",
   "execution_count": 108,
   "metadata": {},
   "outputs": [
    {
     "name": "stdout",
     "output_type": "stream",
     "text": [
      "Num of native mlpf model paramaters:  198920\n"
     ]
    }
   ],
   "source": [
    "print(\n",
    "    \"Num of native mlpf model paramaters: \",\n",
    "    sum(p.numel() for p in model_native.parameters() if p.requires_grad),\n",
    ")"
   ]
  },
  {
   "cell_type": "markdown",
   "metadata": {},
   "source": [
    "## Test from script"
   ]
  },
  {
   "cell_type": "code",
   "execution_count": 27,
   "metadata": {},
   "outputs": [],
   "source": [
    "test_loader = torch_geometric.loader.DataLoader(data[5000:], batch_size)"
   ]
  },
  {
   "cell_type": "code",
   "execution_count": 22,
   "metadata": {},
   "outputs": [],
   "source": [
    "# downstream model\n",
    "NUM_CLASSES = 6\n",
    "\n",
    "\n",
    "class MLPF(nn.Module):\n",
    "    def __init__(\n",
    "        self,\n",
    "        input_dim=34,\n",
    "        width=126,\n",
    "        num_convs=2,\n",
    "        k=8,\n",
    "    ):\n",
    "        super(MLPF, self).__init__()\n",
    "\n",
    "        self.act = nn.ELU\n",
    "\n",
    "        # GNN that uses the embeddings learnt by VICReg as the input features\n",
    "        self.conv = nn.ModuleList()\n",
    "        for i in range(num_convs):\n",
    "            self.conv.append(\n",
    "                GravNetConv(\n",
    "                    input_dim,\n",
    "                    input_dim,\n",
    "                    space_dimensions=4,\n",
    "                    propagate_dimensions=22,\n",
    "                    k=k,\n",
    "                )\n",
    "            )\n",
    "\n",
    "        # DNN that acts on the node level to predict the PID\n",
    "        self.nn = nn.Sequential(\n",
    "            nn.Linear(input_dim, width),\n",
    "            self.act(),\n",
    "            nn.Linear(width, width),\n",
    "            self.act(),\n",
    "            nn.Linear(width, NUM_CLASSES),\n",
    "        )\n",
    "\n",
    "    def forward(self, batch):\n",
    "\n",
    "        # unfold the Batch object\n",
    "        input_ = batch.x.float()\n",
    "        batch = batch.batch\n",
    "\n",
    "        # perform a series of graph convolutions\n",
    "        for num, conv in enumerate(self.conv):\n",
    "            embedding = conv(input_, batch)\n",
    "\n",
    "        # predict the PIDs\n",
    "        preds_id = self.nn(embedding)\n",
    "\n",
    "        return preds_id\n",
    "\n",
    "\n",
    "class ENCODER(nn.Module):\n",
    "    def __init__(\n",
    "        self,\n",
    "        width=126,\n",
    "        embedding_dim=34,\n",
    "        num_convs=2,\n",
    "        space_dim=4,\n",
    "        propagate_dim=22,\n",
    "        k=8,\n",
    "    ):\n",
    "        super(ENCODER, self).__init__()\n",
    "\n",
    "        self.act = nn.ELU\n",
    "\n",
    "        ### 1. different embedding of tracks/clusters\n",
    "        self.nn1 = nn.Sequential(\n",
    "            nn.Linear(TRACKS_X, width),\n",
    "            self.act(),\n",
    "            nn.Linear(width, width),\n",
    "            self.act(),\n",
    "            nn.Linear(width, embedding_dim),\n",
    "        )\n",
    "        self.nn2 = nn.Sequential(\n",
    "            nn.Linear(CLUSTERS_X, width),\n",
    "            self.act(),\n",
    "            nn.Linear(width, width),\n",
    "            self.act(),\n",
    "            nn.Linear(width, embedding_dim),\n",
    "        )\n",
    "\n",
    "        ### 2. same GNN for tracks/clusters\n",
    "        self.conv = nn.ModuleList()\n",
    "        for i in range(num_convs):\n",
    "            self.conv.append(\n",
    "                GravNetConv(\n",
    "                    embedding_dim,\n",
    "                    embedding_dim,\n",
    "                    space_dimensions=space_dim,\n",
    "                    propagate_dimensions=propagate_dim,\n",
    "                    k=k,\n",
    "                )\n",
    "            )\n",
    "\n",
    "    def forward(self, tracks, clusters):\n",
    "\n",
    "        embedding_tracks = self.nn1(tracks.x.float())\n",
    "        embedding_clusters = self.nn2(clusters.x.float())\n",
    "\n",
    "        # perform a series of graph convolutions\n",
    "        for num, conv in enumerate(self.conv):\n",
    "            embedding_tracks = conv(embedding_tracks, tracks.batch)\n",
    "            embedding_clusters = conv(embedding_clusters, clusters.batch)\n",
    "\n",
    "        return embedding_tracks, embedding_clusters\n",
    "\n",
    "\n",
    "# define the decoder that expands the latent representations of tracks and clusters\n",
    "class DECODER(nn.Module):\n",
    "    def __init__(\n",
    "        self,\n",
    "        input_dim=34,\n",
    "        width=126,\n",
    "        output_dim=200,\n",
    "    ):\n",
    "        super(DECODER, self).__init__()\n",
    "\n",
    "        self.act = nn.ELU\n",
    "\n",
    "        ############################ DECODER\n",
    "        self.expander = nn.Sequential(\n",
    "            nn.Linear(input_dim, width),\n",
    "            self.act(),\n",
    "            nn.Linear(width, width),\n",
    "            self.act(),\n",
    "            nn.Linear(width, output_dim),\n",
    "        )\n",
    "\n",
    "    def forward(self, out_tracks, out_clusters):\n",
    "\n",
    "        return self.expander(out_tracks), self.expander(out_clusters)"
   ]
  },
  {
   "cell_type": "code",
   "execution_count": 35,
   "metadata": {},
   "outputs": [
    {
     "data": {
      "text/plain": [
       "<All keys matched successfully>"
      ]
     },
     "execution_count": 35,
     "metadata": {},
     "output_type": "execute_result"
    }
   ],
   "source": [
    "encoder_state_dict = torch.load(\n",
    "    f\"ssl/encoder_best_epoch_weights.pth\", map_location=\"cpu\"\n",
    ")\n",
    "with open(f\"ssl/encoder_model_kwargs.pkl\", \"rb\") as f:\n",
    "    encoder_model_kwargs = pkl.load(f)\n",
    "encoder = ENCODER(**encoder_model_kwargs)\n",
    "encoder.load_state_dict(encoder_state_dict)\n",
    "\n",
    "decoder_state_dict = torch.load(\n",
    "    f\"ssl/decoder_best_epoch_weights.pth\", map_location=\"cpu\"\n",
    ")\n",
    "with open(f\"ssl/decoder_model_kwargs.pkl\", \"rb\") as f:\n",
    "    decoder_model_kwargs = pkl.load(f)\n",
    "decoder = DECODER(**decoder_model_kwargs)\n",
    "decoder.load_state_dict(decoder_state_dict)\n",
    "\n",
    "mlpf_state_dict = torch.load(\n",
    "    f\"ssl/mlpf_best_epoch_weights.pth\", map_location=\"cpu\"\n",
    ")\n",
    "with open(f\"ssl/mlpf_model_kwargs.pkl\", \"rb\") as f:\n",
    "    mlpf_model_kwargs = pkl.load(f)\n",
    "mlpf = MLPF(**mlpf_model_kwargs)\n",
    "mlpf.load_state_dict(mlpf_state_dict)"
   ]
  },
  {
   "cell_type": "code",
   "execution_count": 38,
   "metadata": {},
   "outputs": [
    {
     "data": {
      "application/vnd.jupyter.widget-view+json": {
       "model_id": "4c86dd9535da42e586eeaee82efc1e65",
       "version_major": 2,
       "version_minor": 0
      },
      "text/plain": [
       "HBox(children=(FloatProgress(value=1.0, bar_style='info', max=1.0), HTML(value='')))"
      ]
     },
     "metadata": {},
     "output_type": "display_data"
    },
    {
     "name": "stdout",
     "output_type": "stream",
     "text": [
      "\n",
      "Time taken is 93.74s\n"
     ]
    },
    {
     "data": {
      "image/png": "[encoded data removed]",
      "text/plain": [
       "<Figure size 576x432 with 2 Axes>"
      ]
     },
     "metadata": {
      "needs_background": "light"
     },
     "output_type": "display_data"
    }
   ],
   "source": [
    "batch_size = 1000\n",
    "conf_matrix_ssl = evaluate_mlpf(mlpf, with_VICReg=True)\n",
    "plot_conf_matrix(conf_matrix_ssl, \"ssl MLPF\")"
   ]
  },
  {
   "cell_type": "code",
   "execution_count": null,
   "metadata": {},
   "outputs": [],
   "source": []
  }
 ],
 "metadata": {
  "kernelspec": {
   "display_name": "Python 3",
   "language": "python",
   "name": "python3"
  },
  "language_info": {
   "codemirror_mode": {
    "name": "ipython",
    "version": 3
   },
   "file_extension": ".py",
   "mimetype": "text/x-python",
   "name": "python",
   "nbconvert_exporter": "python",
   "pygments_lexer": "ipython3",
   "version": "3.8.3"
  },
  "vscode": {
   "interpreter": {
    "hash": "bd710be4164d8116e60481776a482d6ed163c0c31d42101b2cd55e4bfc6d2c5e"
   }
  }
 },
 "nbformat": 4,
 "nbformat_minor": 4
}
