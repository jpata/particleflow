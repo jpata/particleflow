{
 "cells": [
  {
   "cell_type": "code",
   "execution_count": 1,
   "metadata": {},
   "outputs": [],
   "source": [
    "import os\n",
    "os.chdir(\"../delphes\")"
   ]
  },
  {
   "cell_type": "code",
   "execution_count": null,
   "metadata": {},
   "outputs": [
    {
     "name": "stdout",
     "output_type": "stream",
     "text": [
      "setGPU: Setting GPU to: 0\n"
     ]
    }
   ],
   "source": [
    "import torch\n",
    "from torch_geometric.data import Dataset, DataLoader\n",
    "import train\n",
    "from sklearn.metrics import confusion_matrix\n",
    "import matplotlib.pyplot as plt\n",
    "import numpy as np"
   ]
  },
  {
   "cell_type": "code",
   "execution_count": 3,
   "metadata": {},
   "outputs": [],
   "source": [
    "def plot_confusion_matrix(cm,\n",
    "                          target_names,\n",
    "                          title='Confusion matrix',\n",
    "                          cmap=None,\n",
    "                          normalize=True):\n",
    "    \"\"\"\n",
    "    given a sklearn confusion matrix (cm), make a nice plot\n",
    "\n",
    "    Arguments\n",
    "    ---------\n",
    "    cm:           confusion matrix from sklearn.metrics.confusion_matrix\n",
    "\n",
    "    target_names: given classification classes such as [0, 1, 2]\n",
    "                  the class names, for example: ['high', 'medium', 'low']\n",
    "\n",
    "    title:        the text to display at the top of the matrix\n",
    "\n",
    "    cmap:         the gradient of the values displayed from matplotlib.pyplot.cm\n",
    "                  see http://matplotlib.org/examples/color/colormaps_reference.html\n",
    "                  plt.get_cmap('jet') or plt.cm.Blues\n",
    "\n",
    "    normalize:    If False, plot the raw numbers\n",
    "                  If True, plot the proportions\n",
    "\n",
    "    Usage\n",
    "    -----\n",
    "    plot_confusion_matrix(cm           = cm,                  # confusion matrix created by\n",
    "                                                              # sklearn.metrics.confusion_matrix\n",
    "                          normalize    = True,                # show proportions\n",
    "                          target_names = y_labels_vals,       # list of names of the classes\n",
    "                          title        = best_estimator_name) # title of graph\n",
    "\n",
    "    Citiation\n",
    "    ---------\n",
    "    http://scikit-learn.org/stable/auto_examples/model_selection/plot_confusion_matrix.html\n",
    "\n",
    "    \"\"\"\n",
    "    import matplotlib.pyplot as plt\n",
    "    import numpy as np\n",
    "    import itertools\n",
    "\n",
    "    accuracy = np.trace(cm) / float(np.sum(cm))\n",
    "    misclass = 1 - accuracy\n",
    "\n",
    "    if cmap is None:\n",
    "        cmap = plt.get_cmap('Blues')\n",
    "\n",
    "    if normalize:\n",
    "        cm = cm.astype('float') / cm.sum(axis=1)[:, np.newaxis]\n",
    "    cm[np.isnan(cm)] = 0.0\n",
    "\n",
    "    plt.figure(figsize=(8, 6))\n",
    "    plt.imshow(cm, interpolation='nearest', cmap=cmap)\n",
    "    plt.title(title)\n",
    "    plt.colorbar()\n",
    "\n",
    "    if target_names is not None:\n",
    "        tick_marks = np.arange(len(target_names))\n",
    "        plt.xticks(tick_marks, target_names, rotation=45)\n",
    "        plt.yticks(tick_marks, target_names)\n",
    "\n",
    "    thresh = cm.max() / 1.5 if normalize else cm.max() / 2\n",
    "    for i, j in itertools.product(range(cm.shape[0]), range(cm.shape[1])):\n",
    "        if normalize:\n",
    "            plt.text(j, i, \"{:0.2f}\".format(cm[i, j]),\n",
    "                     horizontalalignment=\"center\",\n",
    "                     color=\"white\" if cm[i, j] > thresh else \"black\")\n",
    "        else:\n",
    "            plt.text(j, i, \"{:,}\".format(cm[i, j]),\n",
    "                     horizontalalignment=\"center\",\n",
    "                     color=\"white\" if cm[i, j] > thresh else \"black\")\n",
    "\n",
    "\n",
    "    plt.ylabel('True label')\n",
    "    plt.xlim(-1, len(target_names))\n",
    "    plt.ylim(-1, len(target_names))\n",
    "    plt.xlabel('Predicted label\\naccuracy={:0.4f}; misclass={:0.4f}'.format(accuracy, misclass))\n",
    "    plt.tight_layout()"
   ]
  },
  {
   "cell_type": "code",
   "execution_count": 4,
   "metadata": {},
   "outputs": [],
   "source": [
    "device = torch.device(\"cuda\")"
   ]
  },
  {
   "cell_type": "code",
   "execution_count": 5,
   "metadata": {},
   "outputs": [],
   "source": [
    "ds = train.DelphesDataset(\".\", 5000)\n",
    "ds.raw_dir = \"raw2\"\n",
    "ds.processed_dir = \"processed2\"\n",
    "ds = torch.utils.data.Subset(ds, np.arange(start=4000, stop=5000))\n",
    "d = DataLoader(ds, batch_size=1)"
   ]
  },
  {
   "cell_type": "code",
   "execution_count": 6,
   "metadata": {},
   "outputs": [
    {
     "data": {
      "text/plain": [
       "PFNet(\n",
       "  (conv1): GATConv(10, 512, heads=4)\n",
       "  (conv2): GATConv(512, 512, heads=4)\n",
       "  (conv3): GATConv(512, 512, heads=4)\n",
       "  (nn): Sequential(\n",
       "    (0): Linear(in_features=522, out_features=512, bias=True)\n",
       "    (1): LeakyReLU(negative_slope=0.01)\n",
       "    (2): Dropout(p=0.5, inplace=False)\n",
       "    (3): Linear(in_features=512, out_features=512, bias=True)\n",
       "    (4): LeakyReLU(negative_slope=0.01)\n",
       "    (5): Dropout(p=0.5, inplace=False)\n",
       "    (6): Linear(in_features=512, out_features=512, bias=True)\n",
       "    (7): LeakyReLU(negative_slope=0.01)\n",
       "    (8): Dropout(p=0.5, inplace=False)\n",
       "    (9): Linear(in_features=512, out_features=512, bias=True)\n",
       "    (10): LeakyReLU(negative_slope=0.01)\n",
       "    (11): Dropout(p=0.5, inplace=False)\n",
       "    (12): Linear(in_features=512, out_features=12, bias=True)\n",
       "  )\n",
       ")"
      ]
     },
     "execution_count": 6,
     "metadata": {},
     "output_type": "execute_result"
    }
   ],
   "source": [
    "model = train.PFNet(10, 512).to(device=device)\n",
    "model.load_state_dict(torch.load(\"model_20.pth\"))\n",
    "model.eval()"
   ]
  },
  {
   "cell_type": "code",
   "execution_count": 7,
   "metadata": {},
   "outputs": [
    {
     "name": "stdout",
     "output_type": "stream",
     "text": [
      "model has 3.19E+06 parameters\n"
     ]
    }
   ],
   "source": [
    "model_parameters = filter(lambda p: p.requires_grad, model.parameters())\n",
    "params = sum([np.prod(p.size()) for p in model_parameters])\n",
    "print(\"model has {:.2E} parameters\".format(params))"
   ]
  },
  {
   "cell_type": "code",
   "execution_count": 8,
   "metadata": {},
   "outputs": [
    {
     "ename": "RuntimeError",
     "evalue": "CUDA error: no kernel image is available for execution on the device",
     "output_type": "error",
     "traceback": [
      "\u001b[0;31m---------------------------------------------------------------------------\u001b[0m",
      "\u001b[0;31mRuntimeError\u001b[0m                              Traceback (most recent call last)",
      "\u001b[0;32m<ipython-input-8-deba089b36d9>\u001b[0m in \u001b[0;36m<module>\u001b[0;34m\u001b[0m\n\u001b[1;32m     11\u001b[0m     \u001b[0m_d\u001b[0m \u001b[0;34m=\u001b[0m \u001b[0m_d\u001b[0m\u001b[0;34m.\u001b[0m\u001b[0mto\u001b[0m\u001b[0;34m(\u001b[0m\u001b[0mdevice\u001b[0m\u001b[0;34m=\u001b[0m\u001b[0mdevice\u001b[0m\u001b[0;34m)\u001b[0m\u001b[0;34m\u001b[0m\u001b[0;34m\u001b[0m\u001b[0m\n\u001b[1;32m     12\u001b[0m \u001b[0;34m\u001b[0m\u001b[0m\n\u001b[0;32m---> 13\u001b[0;31m     \u001b[0mcands_tower_id\u001b[0m\u001b[0;34m,\u001b[0m \u001b[0mcands_trk_id\u001b[0m\u001b[0;34m,\u001b[0m \u001b[0mcands_tower_p\u001b[0m\u001b[0;34m,\u001b[0m \u001b[0mcands_trk_p\u001b[0m \u001b[0;34m=\u001b[0m \u001b[0mmodel\u001b[0m\u001b[0;34m(\u001b[0m\u001b[0m_d\u001b[0m\u001b[0;34m)\u001b[0m\u001b[0;34m\u001b[0m\u001b[0;34m\u001b[0m\u001b[0m\n\u001b[0m\u001b[1;32m     14\u001b[0m \u001b[0;34m\u001b[0m\u001b[0m\n\u001b[1;32m     15\u001b[0m     \u001b[0mcands_tower_p\u001b[0m\u001b[0;34m[\u001b[0m\u001b[0;34m:\u001b[0m\u001b[0;34m,\u001b[0m \u001b[0;36m0\u001b[0m\u001b[0;34m]\u001b[0m \u001b[0;34m=\u001b[0m \u001b[0mtorch\u001b[0m\u001b[0;34m.\u001b[0m\u001b[0mexp\u001b[0m\u001b[0;34m(\u001b[0m\u001b[0mcands_tower_p\u001b[0m\u001b[0;34m[\u001b[0m\u001b[0;34m:\u001b[0m\u001b[0;34m,\u001b[0m \u001b[0;36m0\u001b[0m\u001b[0;34m]\u001b[0m\u001b[0;34m)\u001b[0m\u001b[0;34m\u001b[0m\u001b[0;34m\u001b[0m\u001b[0m\n",
      "\u001b[0;32m/opt/conda/lib/python3.6/site-packages/torch/nn/modules/module.py\u001b[0m in \u001b[0;36m__call__\u001b[0;34m(self, *input, **kwargs)\u001b[0m\n\u001b[1;32m    530\u001b[0m             \u001b[0mresult\u001b[0m \u001b[0;34m=\u001b[0m \u001b[0mself\u001b[0m\u001b[0;34m.\u001b[0m\u001b[0m_slow_forward\u001b[0m\u001b[0;34m(\u001b[0m\u001b[0;34m*\u001b[0m\u001b[0minput\u001b[0m\u001b[0;34m,\u001b[0m \u001b[0;34m**\u001b[0m\u001b[0mkwargs\u001b[0m\u001b[0;34m)\u001b[0m\u001b[0;34m\u001b[0m\u001b[0;34m\u001b[0m\u001b[0m\n\u001b[1;32m    531\u001b[0m         \u001b[0;32melse\u001b[0m\u001b[0;34m:\u001b[0m\u001b[0;34m\u001b[0m\u001b[0;34m\u001b[0m\u001b[0m\n\u001b[0;32m--> 532\u001b[0;31m             \u001b[0mresult\u001b[0m \u001b[0;34m=\u001b[0m \u001b[0mself\u001b[0m\u001b[0;34m.\u001b[0m\u001b[0mforward\u001b[0m\u001b[0;34m(\u001b[0m\u001b[0;34m*\u001b[0m\u001b[0minput\u001b[0m\u001b[0;34m,\u001b[0m \u001b[0;34m**\u001b[0m\u001b[0mkwargs\u001b[0m\u001b[0;34m)\u001b[0m\u001b[0;34m\u001b[0m\u001b[0;34m\u001b[0m\u001b[0m\n\u001b[0m\u001b[1;32m    533\u001b[0m         \u001b[0;32mfor\u001b[0m \u001b[0mhook\u001b[0m \u001b[0;32min\u001b[0m \u001b[0mself\u001b[0m\u001b[0;34m.\u001b[0m\u001b[0m_forward_hooks\u001b[0m\u001b[0;34m.\u001b[0m\u001b[0mvalues\u001b[0m\u001b[0;34m(\u001b[0m\u001b[0;34m)\u001b[0m\u001b[0;34m:\u001b[0m\u001b[0;34m\u001b[0m\u001b[0;34m\u001b[0m\u001b[0m\n\u001b[1;32m    534\u001b[0m             \u001b[0mhook_result\u001b[0m \u001b[0;34m=\u001b[0m \u001b[0mhook\u001b[0m\u001b[0;34m(\u001b[0m\u001b[0mself\u001b[0m\u001b[0;34m,\u001b[0m \u001b[0minput\u001b[0m\u001b[0;34m,\u001b[0m \u001b[0mresult\u001b[0m\u001b[0;34m)\u001b[0m\u001b[0;34m\u001b[0m\u001b[0;34m\u001b[0m\u001b[0m\n",
      "\u001b[0;32m~/particleflow/delphes/train.py\u001b[0m in \u001b[0;36mforward\u001b[0;34m(self, data)\u001b[0m\n\u001b[1;32m    135\u001b[0m \u001b[0;34m\u001b[0m\u001b[0m\n\u001b[1;32m    136\u001b[0m         \u001b[0mmask_tower\u001b[0m \u001b[0;34m=\u001b[0m \u001b[0mdata\u001b[0m\u001b[0;34m.\u001b[0m\u001b[0mx\u001b[0m\u001b[0;34m[\u001b[0m\u001b[0;34m:\u001b[0m\u001b[0;34m,\u001b[0m \u001b[0;36m0\u001b[0m\u001b[0;34m]\u001b[0m \u001b[0;34m==\u001b[0m \u001b[0;36m0\u001b[0m\u001b[0;34m\u001b[0m\u001b[0;34m\u001b[0m\u001b[0m\n\u001b[0;32m--> 137\u001b[0;31m         \u001b[0mx1\u001b[0m \u001b[0;34m=\u001b[0m \u001b[0mtorch\u001b[0m\u001b[0;34m.\u001b[0m\u001b[0mnn\u001b[0m\u001b[0;34m.\u001b[0m\u001b[0mfunctional\u001b[0m\u001b[0;34m.\u001b[0m\u001b[0mleaky_relu\u001b[0m\u001b[0;34m(\u001b[0m\u001b[0mself\u001b[0m\u001b[0;34m.\u001b[0m\u001b[0mconv1\u001b[0m\u001b[0;34m(\u001b[0m\u001b[0mdata\u001b[0m\u001b[0;34m.\u001b[0m\u001b[0mx\u001b[0m\u001b[0;34m,\u001b[0m \u001b[0mdata\u001b[0m\u001b[0;34m.\u001b[0m\u001b[0medge_index\u001b[0m\u001b[0;34m)\u001b[0m\u001b[0;34m)\u001b[0m\u001b[0;34m\u001b[0m\u001b[0;34m\u001b[0m\u001b[0m\n\u001b[0m\u001b[1;32m    138\u001b[0m         \u001b[0mx2\u001b[0m \u001b[0;34m=\u001b[0m \u001b[0mtorch\u001b[0m\u001b[0;34m.\u001b[0m\u001b[0mnn\u001b[0m\u001b[0;34m.\u001b[0m\u001b[0mfunctional\u001b[0m\u001b[0;34m.\u001b[0m\u001b[0mleaky_relu\u001b[0m\u001b[0;34m(\u001b[0m\u001b[0mself\u001b[0m\u001b[0;34m.\u001b[0m\u001b[0mconv2\u001b[0m\u001b[0;34m(\u001b[0m\u001b[0mx1\u001b[0m\u001b[0;34m,\u001b[0m \u001b[0mdata\u001b[0m\u001b[0;34m.\u001b[0m\u001b[0medge_index\u001b[0m\u001b[0;34m)\u001b[0m\u001b[0;34m)\u001b[0m\u001b[0;34m\u001b[0m\u001b[0;34m\u001b[0m\u001b[0m\n\u001b[1;32m    139\u001b[0m         \u001b[0mx3\u001b[0m \u001b[0;34m=\u001b[0m \u001b[0mtorch\u001b[0m\u001b[0;34m.\u001b[0m\u001b[0mnn\u001b[0m\u001b[0;34m.\u001b[0m\u001b[0mfunctional\u001b[0m\u001b[0;34m.\u001b[0m\u001b[0mleaky_relu\u001b[0m\u001b[0;34m(\u001b[0m\u001b[0mself\u001b[0m\u001b[0;34m.\u001b[0m\u001b[0mconv3\u001b[0m\u001b[0;34m(\u001b[0m\u001b[0mx2\u001b[0m\u001b[0;34m,\u001b[0m \u001b[0mdata\u001b[0m\u001b[0;34m.\u001b[0m\u001b[0medge_index\u001b[0m\u001b[0;34m)\u001b[0m\u001b[0;34m)\u001b[0m\u001b[0;34m\u001b[0m\u001b[0;34m\u001b[0m\u001b[0m\n",
      "\u001b[0;32m/opt/conda/lib/python3.6/site-packages/torch/nn/modules/module.py\u001b[0m in \u001b[0;36m__call__\u001b[0;34m(self, *input, **kwargs)\u001b[0m\n\u001b[1;32m    530\u001b[0m             \u001b[0mresult\u001b[0m \u001b[0;34m=\u001b[0m \u001b[0mself\u001b[0m\u001b[0;34m.\u001b[0m\u001b[0m_slow_forward\u001b[0m\u001b[0;34m(\u001b[0m\u001b[0;34m*\u001b[0m\u001b[0minput\u001b[0m\u001b[0;34m,\u001b[0m \u001b[0;34m**\u001b[0m\u001b[0mkwargs\u001b[0m\u001b[0;34m)\u001b[0m\u001b[0;34m\u001b[0m\u001b[0;34m\u001b[0m\u001b[0m\n\u001b[1;32m    531\u001b[0m         \u001b[0;32melse\u001b[0m\u001b[0;34m:\u001b[0m\u001b[0;34m\u001b[0m\u001b[0;34m\u001b[0m\u001b[0m\n\u001b[0;32m--> 532\u001b[0;31m             \u001b[0mresult\u001b[0m \u001b[0;34m=\u001b[0m \u001b[0mself\u001b[0m\u001b[0;34m.\u001b[0m\u001b[0mforward\u001b[0m\u001b[0;34m(\u001b[0m\u001b[0;34m*\u001b[0m\u001b[0minput\u001b[0m\u001b[0;34m,\u001b[0m \u001b[0;34m**\u001b[0m\u001b[0mkwargs\u001b[0m\u001b[0;34m)\u001b[0m\u001b[0;34m\u001b[0m\u001b[0;34m\u001b[0m\u001b[0m\n\u001b[0m\u001b[1;32m    533\u001b[0m         \u001b[0;32mfor\u001b[0m \u001b[0mhook\u001b[0m \u001b[0;32min\u001b[0m \u001b[0mself\u001b[0m\u001b[0;34m.\u001b[0m\u001b[0m_forward_hooks\u001b[0m\u001b[0;34m.\u001b[0m\u001b[0mvalues\u001b[0m\u001b[0;34m(\u001b[0m\u001b[0;34m)\u001b[0m\u001b[0;34m:\u001b[0m\u001b[0;34m\u001b[0m\u001b[0;34m\u001b[0m\u001b[0m\n\u001b[1;32m    534\u001b[0m             \u001b[0mhook_result\u001b[0m \u001b[0;34m=\u001b[0m \u001b[0mhook\u001b[0m\u001b[0;34m(\u001b[0m\u001b[0mself\u001b[0m\u001b[0;34m,\u001b[0m \u001b[0minput\u001b[0m\u001b[0;34m,\u001b[0m \u001b[0mresult\u001b[0m\u001b[0;34m)\u001b[0m\u001b[0;34m\u001b[0m\u001b[0;34m\u001b[0m\u001b[0m\n",
      "\u001b[0;32m/opt/conda/lib/python3.6/site-packages/torch_geometric/nn/conv/gat_conv.py\u001b[0m in \u001b[0;36mforward\u001b[0;34m(self, x, edge_index, size)\u001b[0m\n\u001b[1;32m     89\u001b[0m                  None if x[1] is None else torch.matmul(x[1], self.weight))\n\u001b[1;32m     90\u001b[0m \u001b[0;34m\u001b[0m\u001b[0m\n\u001b[0;32m---> 91\u001b[0;31m         \u001b[0;32mreturn\u001b[0m \u001b[0mself\u001b[0m\u001b[0;34m.\u001b[0m\u001b[0mpropagate\u001b[0m\u001b[0;34m(\u001b[0m\u001b[0medge_index\u001b[0m\u001b[0;34m,\u001b[0m \u001b[0msize\u001b[0m\u001b[0;34m=\u001b[0m\u001b[0msize\u001b[0m\u001b[0;34m,\u001b[0m \u001b[0mx\u001b[0m\u001b[0;34m=\u001b[0m\u001b[0mx\u001b[0m\u001b[0;34m)\u001b[0m\u001b[0;34m\u001b[0m\u001b[0;34m\u001b[0m\u001b[0m\n\u001b[0m\u001b[1;32m     92\u001b[0m \u001b[0;34m\u001b[0m\u001b[0m\n\u001b[1;32m     93\u001b[0m     \u001b[0;32mdef\u001b[0m \u001b[0mmessage\u001b[0m\u001b[0;34m(\u001b[0m\u001b[0mself\u001b[0m\u001b[0;34m,\u001b[0m \u001b[0medge_index_i\u001b[0m\u001b[0;34m,\u001b[0m \u001b[0mx_i\u001b[0m\u001b[0;34m,\u001b[0m \u001b[0mx_j\u001b[0m\u001b[0;34m,\u001b[0m \u001b[0msize_i\u001b[0m\u001b[0;34m)\u001b[0m\u001b[0;34m:\u001b[0m\u001b[0;34m\u001b[0m\u001b[0;34m\u001b[0m\u001b[0m\n",
      "\u001b[0;32m/opt/conda/lib/python3.6/site-packages/torch_geometric/nn/conv/message_passing.py\u001b[0m in \u001b[0;36mpropagate\u001b[0;34m(self, edge_index, size, dim, **kwargs)\u001b[0m\n\u001b[1;32m    124\u001b[0m         \u001b[0mupdate_args\u001b[0m \u001b[0;34m=\u001b[0m \u001b[0;34m[\u001b[0m\u001b[0mkwargs\u001b[0m\u001b[0;34m[\u001b[0m\u001b[0marg\u001b[0m\u001b[0;34m]\u001b[0m \u001b[0;32mfor\u001b[0m \u001b[0marg\u001b[0m \u001b[0;32min\u001b[0m \u001b[0mself\u001b[0m\u001b[0;34m.\u001b[0m\u001b[0m__update_args__\u001b[0m\u001b[0;34m]\u001b[0m\u001b[0;34m\u001b[0m\u001b[0;34m\u001b[0m\u001b[0m\n\u001b[1;32m    125\u001b[0m \u001b[0;34m\u001b[0m\u001b[0m\n\u001b[0;32m--> 126\u001b[0;31m         \u001b[0mout\u001b[0m \u001b[0;34m=\u001b[0m \u001b[0mself\u001b[0m\u001b[0;34m.\u001b[0m\u001b[0mmessage\u001b[0m\u001b[0;34m(\u001b[0m\u001b[0;34m*\u001b[0m\u001b[0mmessage_args\u001b[0m\u001b[0;34m)\u001b[0m\u001b[0;34m\u001b[0m\u001b[0;34m\u001b[0m\u001b[0m\n\u001b[0m\u001b[1;32m    127\u001b[0m         \u001b[0mout\u001b[0m \u001b[0;34m=\u001b[0m \u001b[0mscatter_\u001b[0m\u001b[0;34m(\u001b[0m\u001b[0mself\u001b[0m\u001b[0;34m.\u001b[0m\u001b[0maggr\u001b[0m\u001b[0;34m,\u001b[0m \u001b[0mout\u001b[0m\u001b[0;34m,\u001b[0m \u001b[0medge_index\u001b[0m\u001b[0;34m[\u001b[0m\u001b[0mi\u001b[0m\u001b[0;34m]\u001b[0m\u001b[0;34m,\u001b[0m \u001b[0mdim\u001b[0m\u001b[0;34m,\u001b[0m \u001b[0mdim_size\u001b[0m\u001b[0;34m=\u001b[0m\u001b[0msize\u001b[0m\u001b[0;34m[\u001b[0m\u001b[0mi\u001b[0m\u001b[0;34m]\u001b[0m\u001b[0;34m)\u001b[0m\u001b[0;34m\u001b[0m\u001b[0;34m\u001b[0m\u001b[0m\n\u001b[1;32m    128\u001b[0m         \u001b[0mout\u001b[0m \u001b[0;34m=\u001b[0m \u001b[0mself\u001b[0m\u001b[0;34m.\u001b[0m\u001b[0mupdate\u001b[0m\u001b[0;34m(\u001b[0m\u001b[0mout\u001b[0m\u001b[0;34m,\u001b[0m \u001b[0;34m*\u001b[0m\u001b[0mupdate_args\u001b[0m\u001b[0;34m)\u001b[0m\u001b[0;34m\u001b[0m\u001b[0;34m\u001b[0m\u001b[0m\n",
      "\u001b[0;32m/opt/conda/lib/python3.6/site-packages/torch_geometric/nn/conv/gat_conv.py\u001b[0m in \u001b[0;36mmessage\u001b[0;34m(self, edge_index_i, x_i, x_j, size_i)\u001b[0m\n\u001b[1;32m    101\u001b[0m \u001b[0;34m\u001b[0m\u001b[0m\n\u001b[1;32m    102\u001b[0m         \u001b[0malpha\u001b[0m \u001b[0;34m=\u001b[0m \u001b[0mF\u001b[0m\u001b[0;34m.\u001b[0m\u001b[0mleaky_relu\u001b[0m\u001b[0;34m(\u001b[0m\u001b[0malpha\u001b[0m\u001b[0;34m,\u001b[0m \u001b[0mself\u001b[0m\u001b[0;34m.\u001b[0m\u001b[0mnegative_slope\u001b[0m\u001b[0;34m)\u001b[0m\u001b[0;34m\u001b[0m\u001b[0;34m\u001b[0m\u001b[0m\n\u001b[0;32m--> 103\u001b[0;31m         \u001b[0malpha\u001b[0m \u001b[0;34m=\u001b[0m \u001b[0msoftmax\u001b[0m\u001b[0;34m(\u001b[0m\u001b[0malpha\u001b[0m\u001b[0;34m,\u001b[0m \u001b[0medge_index_i\u001b[0m\u001b[0;34m,\u001b[0m \u001b[0msize_i\u001b[0m\u001b[0;34m)\u001b[0m\u001b[0;34m\u001b[0m\u001b[0;34m\u001b[0m\u001b[0m\n\u001b[0m\u001b[1;32m    104\u001b[0m \u001b[0;34m\u001b[0m\u001b[0m\n\u001b[1;32m    105\u001b[0m         \u001b[0;31m# Sample attention coefficients stochastically.\u001b[0m\u001b[0;34m\u001b[0m\u001b[0;34m\u001b[0m\u001b[0;34m\u001b[0m\u001b[0m\n",
      "\u001b[0;32m/opt/conda/lib/python3.6/site-packages/torch_geometric/utils/softmax.py\u001b[0m in \u001b[0;36msoftmax\u001b[0;34m(src, index, num_nodes)\u001b[0m\n\u001b[1;32m     21\u001b[0m     \u001b[0mnum_nodes\u001b[0m \u001b[0;34m=\u001b[0m \u001b[0mmaybe_num_nodes\u001b[0m\u001b[0;34m(\u001b[0m\u001b[0mindex\u001b[0m\u001b[0;34m,\u001b[0m \u001b[0mnum_nodes\u001b[0m\u001b[0;34m)\u001b[0m\u001b[0;34m\u001b[0m\u001b[0;34m\u001b[0m\u001b[0m\n\u001b[1;32m     22\u001b[0m \u001b[0;34m\u001b[0m\u001b[0m\n\u001b[0;32m---> 23\u001b[0;31m     \u001b[0mout\u001b[0m \u001b[0;34m=\u001b[0m \u001b[0msrc\u001b[0m \u001b[0;34m-\u001b[0m \u001b[0mscatter_max\u001b[0m\u001b[0;34m(\u001b[0m\u001b[0msrc\u001b[0m\u001b[0;34m,\u001b[0m \u001b[0mindex\u001b[0m\u001b[0;34m,\u001b[0m \u001b[0mdim\u001b[0m\u001b[0;34m=\u001b[0m\u001b[0;36m0\u001b[0m\u001b[0;34m,\u001b[0m \u001b[0mdim_size\u001b[0m\u001b[0;34m=\u001b[0m\u001b[0mnum_nodes\u001b[0m\u001b[0;34m)\u001b[0m\u001b[0;34m[\u001b[0m\u001b[0;36m0\u001b[0m\u001b[0;34m]\u001b[0m\u001b[0;34m[\u001b[0m\u001b[0mindex\u001b[0m\u001b[0;34m]\u001b[0m\u001b[0;34m\u001b[0m\u001b[0;34m\u001b[0m\u001b[0m\n\u001b[0m\u001b[1;32m     24\u001b[0m     \u001b[0mout\u001b[0m \u001b[0;34m=\u001b[0m \u001b[0mout\u001b[0m\u001b[0;34m.\u001b[0m\u001b[0mexp\u001b[0m\u001b[0;34m(\u001b[0m\u001b[0;34m)\u001b[0m\u001b[0;34m\u001b[0m\u001b[0;34m\u001b[0m\u001b[0m\n\u001b[1;32m     25\u001b[0m     out = out / (\n",
      "\u001b[0;31mRuntimeError\u001b[0m: CUDA error: no kernel image is available for execution on the device"
     ]
    }
   ],
   "source": [
    "cms = []\n",
    "cms2 = []\n",
    "pred_ps = []\n",
    "true_ps = []\n",
    "pred_ps2 = []\n",
    "true_ps2 = []\n",
    "ncand_true = []\n",
    "ncand_pred = []\n",
    "\n",
    "for _d in d:\n",
    "    _d = _d.to(device=device)\n",
    "    \n",
    "    cands_tower_id, cands_trk_id, cands_tower_p, cands_trk_p = model(_d)\n",
    "    \n",
    "    cands_tower_p[:, 0] = torch.exp(cands_tower_p[:, 0])\n",
    "    cands_trk_p[:, 0] = torch.exp(cands_trk_p[:, 0])\n",
    "    \n",
    "    pred_ids_tower = model.decode_ids(cands_tower_id)\n",
    "    true_ids_tower = _d.y_tower[:, 0]\n",
    "    \n",
    "    pred_ids_trk = model.decode_ids(cands_trk_id)\n",
    "    true_ids_trk = _d.y_trk[:, 0]\n",
    "    \n",
    "#     y_id_pred = torch.argmax(_pred_id, axis=-1)\n",
    "#     _pred_p[y_id_pred!=0, 0] = torch.exp(_pred_p[y_id_pred!=0, 0])\n",
    "\n",
    "    cm = confusion_matrix(true_ids_trk.flatten().cpu(), pred_ids_trk.flatten().detach().cpu(),\n",
    "        labels=range(len(train.map_candid_to_numid)))\n",
    "    cm2 = confusion_matrix(true_ids_tower.flatten().cpu(), pred_ids_tower.flatten().detach().cpu(),\n",
    "        labels=range(len(train.map_candid_to_numid)))\n",
    "    \n",
    "    msk = (pred_ids_tower!=0) & (true_ids_tower!=0)\n",
    "    pred_ps += cands_tower_p[msk].detach().cpu()\n",
    "    true_ps += _d.y_tower[msk][:, 1:].detach().cpu()\n",
    "    \n",
    "    msk = (pred_ids_trk!=0) & (true_ids_trk!=0)\n",
    "    pred_ps2 += cands_trk_p[msk].detach().cpu()\n",
    "    true_ps2 += _d.y_trk[msk][:, 1:].detach().cpu()\n",
    "    \n",
    "    cms += [cm]\n",
    "    cms2 += [cm2]\n",
    "    \n",
    "    ncand_true += [int((true_ids_tower!=0).sum() + (true_ids_trk!=0).sum())]\n",
    "    ncand_pred += [int((pred_ids_tower!=0).sum() + (pred_ids_trk!=0).sum())]\n",
    "cm = sum(cms)\n",
    "cm2 = sum(cms2)\n",
    "pred_p = np.stack(pred_ps)\n",
    "true_p = np.stack(true_ps)\n",
    "pred_p2 = np.stack(pred_ps2)\n",
    "true_p2 = np.stack(true_ps2)"
   ]
  },
  {
   "cell_type": "code",
   "execution_count": null,
   "metadata": {},
   "outputs": [],
   "source": [
    "import networkx as nx\n",
    "import torch_geometric"
   ]
  },
  {
   "cell_type": "code",
   "execution_count": null,
   "metadata": {},
   "outputs": [],
   "source": [
    "adj_matrix = torch_geometric.utils.to_dense_adj(_d.edge_index).cpu().numpy()[0, :, :]\n",
    "x = _d.x.cpu().numpy()\n",
    "# y_p = _d.y_tower.cpu().numpy()\n",
    "# y_p_pred = _pred_p[(y_id_pred!=0).cpu().numpy(), :].detach().cpu().numpy()\n",
    "\n",
    "# y_id = _d.y_id.cpu().numpy()\n",
    "\n",
    "colors = {\n",
    "    0: \"r\",\n",
    "    1: \"b\",\n",
    "}\n",
    "\n",
    "g = nx.from_numpy_matrix(adj_matrix)\n",
    "for i in range(len(x)):\n",
    "    g.nodes[i][\"color\"] = colors[x[i, 0]]\n",
    "    g.nodes[i][\"s\"] = np.abs(x[i, 4] + x[i, 3])\n",
    "    if x[i, 0] == 0:\n",
    "        g.nodes[i][\"eta\"] = x[i, 1]\n",
    "        g.nodes[i][\"phi\"] = x[i, 2]\n",
    "    elif x[i, 0] == 1:\n",
    "        g.nodes[i][\"eta\"] = x[i, 5]\n",
    "        g.nodes[i][\"phi\"] = x[i, 6]\n",
    "        \n",
    "pos = {i: (g.nodes[i][\"eta\"], g.nodes[i][\"phi\"]) for i in range(len(g))}"
   ]
  },
  {
   "cell_type": "code",
   "execution_count": null,
   "metadata": {},
   "outputs": [],
   "source": [
    "plt.figure(figsize=(10, 10))\n",
    "plt.scatter(\n",
    "    x[:, 1],\n",
    "    x[:, 2],\n",
    "    s=np.abs(x[:, 4] + x[:, 3]),\n",
    "    label=\"det\")\n",
    "\n",
    "m = _d.y_tower[:, 0] != 0\n",
    "plt.scatter(\n",
    "    _d.y_tower[m][:, 2].cpu(),\n",
    "   _d.y_tower[m][:, 3].cpu(),\n",
    "    s=_d.y_tower[m][:, 1].cpu(),\n",
    "    label=\"gen\")\n",
    "\n",
    "m = _d.y_trk[:, 0] != 0\n",
    "plt.scatter(\n",
    "    _d.y_trk[m][:, 2].cpu(),\n",
    "   _d.y_trk[m][:, 3].cpu(),\n",
    "    s=_d.y_trk[m][:, 1].cpu(),\n",
    "    label=\"gen-trk\")\n",
    "\n",
    "plt.legend()"
   ]
  },
  {
   "cell_type": "code",
   "execution_count": null,
   "metadata": {},
   "outputs": [],
   "source": [
    "fig = plt.figure(figsize=(10, 10))\n",
    "plt.title(\"input graph\")\n",
    "edges = np.array(list(g.edges))\n",
    "edges = list(edges[np.random.permutation(len(edges))][:500])\n",
    "\n",
    "nx.draw_networkx(g, pos,\n",
    "    node_size=[g.nodes[n][\"s\"] for n in g.nodes],\n",
    "    node_color=[g.nodes[n][\"color\"] for n in g.nodes],\n",
    "    with_labels=False, alpha=0.2, edgelist=edges)\n",
    "plt.tick_params(left=True, bottom=True, labelleft=True, labelbottom=True)\n",
    "plt.xlim(-6, 6)\n",
    "plt.ylim(-4, 4)"
   ]
  },
  {
   "cell_type": "code",
   "execution_count": null,
   "metadata": {
    "scrolled": false
   },
   "outputs": [],
   "source": [
    "plt.figure(figsize=(3*4, 4))\n",
    "\n",
    "ax = plt.subplot(1,3,1)\n",
    "plt.title(\"input graph\")\n",
    "nx.draw_networkx(g, pos,\n",
    "    node_size=[g.nodes[n][\"s\"] for n in g.nodes],\n",
    "    node_color=[g.nodes[n][\"color\"] for n in g.nodes],\n",
    "    with_labels=False, alpha=0.2, ax=ax)\n",
    "ax.tick_params(left=True, bottom=True, labelleft=True, labelbottom=True)\n",
    "plt.xlim(-6, 6)\n",
    "plt.ylim(-4, 4)\n",
    "\n",
    "plt.subplot(1,3,2)\n",
    "m = _d.y_tower[:, 0] != 0\n",
    "plt.scatter(\n",
    "    _d.y_tower[m][:, 2].cpu(),\n",
    "   _d.y_tower[m][:, 3].cpu(),\n",
    "    s=_d.y_tower[m][:, 1].cpu(),\n",
    "    label=\"gen-tower\")\n",
    "\n",
    "m = pred_ids_tower != 0\n",
    "plt.scatter(\n",
    "    cands_tower_p[m][:, 1].detach().cpu(),\n",
    "    cands_tower_p[m][:, 2].detach().cpu(),\n",
    "    s=cands_tower_p[m][:, 0].detach().cpu(), alpha=0.5, label=\"pred\")\n",
    "plt.xlim(-6, 6)\n",
    "plt.ylim(-4, 4)\n",
    "plt.tight_layout()\n",
    "plt.legend(loc=1)\n",
    "\n",
    "plt.subplot(1,3,3)\n",
    "m = _d.y_trk[:, 0] != 0\n",
    "plt.scatter(\n",
    "    _d.y_trk[m][:, 2].cpu(),\n",
    "    _d.y_trk[m][:, 3].cpu(),\n",
    "    s=_d.y_trk[m][:, 1].cpu(),\n",
    "    label=\"gen-trk\")\n",
    "\n",
    "m = pred_ids_trk != 0\n",
    "plt.scatter(\n",
    "    cands_trk_p[m][:, 1].detach().cpu(),\n",
    "    cands_trk_p[m][:, 2].detach().cpu(),\n",
    "    s=cands_trk_p[m][:, 0].detach().cpu(), alpha=0.5, label=\"pred\")\n",
    "plt.xlim(-6, 6)\n",
    "plt.ylim(-4, 4)\n",
    "plt.tight_layout()\n",
    "plt.legend(loc=1)\n",
    "\n",
    "plt.savefig(\"test.pdf\")"
   ]
  },
  {
   "cell_type": "code",
   "execution_count": null,
   "metadata": {},
   "outputs": [],
   "source": [
    "target_names = [\"none\", \"211\", \"-211\", \"130\", \"22\", \"11\", \"-11\", \"13\", \"-13\"]"
   ]
  },
  {
   "cell_type": "code",
   "execution_count": null,
   "metadata": {},
   "outputs": [],
   "source": [
    "plot_confusion_matrix(cm, target_names, normalize=False)\n",
    "plt.xlim(-0.5, cm.shape[0]-0.5)\n",
    "plt.ylim(-0.5, cm.shape[0]-0.5)"
   ]
  },
  {
   "cell_type": "code",
   "execution_count": null,
   "metadata": {},
   "outputs": [],
   "source": [
    "plot_confusion_matrix(cm2, target_names, normalize=False)\n",
    "plt.xlim(-0.5, cm.shape[0]-0.5)\n",
    "plt.ylim(-0.5, cm.shape[0]-0.5)"
   ]
  },
  {
   "cell_type": "code",
   "execution_count": null,
   "metadata": {},
   "outputs": [],
   "source": [
    "plt.figure(figsize=(5,5))\n",
    "plt.xlim(0, 3000)\n",
    "plt.ylim(0, 3000)\n",
    "plt.plot([0,5000],[0,5000], color=\"black\")\n",
    "plt.scatter(ncand_true, ncand_pred, marker=\".\")"
   ]
  },
  {
   "cell_type": "code",
   "execution_count": null,
   "metadata": {},
   "outputs": [],
   "source": [
    "plt.figure(figsize=(6, 4))\n",
    "b = np.linspace(0, 10, 100)\n",
    "plt.hist(true_p[:, 0], bins=b, histtype=\"step\", lw=2);\n",
    "plt.hist(pred_p[:, 0], bins=b, histtype=\"step\", lw=2);\n",
    "plt.yscale(\"log\")\n",
    "#plt.ylim(100,1e4)"
   ]
  },
  {
   "cell_type": "code",
   "execution_count": null,
   "metadata": {},
   "outputs": [],
   "source": [
    "plt.figure(figsize=(6, 4))\n",
    "b = np.linspace(0, 10, 100)\n",
    "plt.hist(true_p2[:, 0], bins=b, histtype=\"step\", lw=2);\n",
    "plt.hist(pred_p2[:, 0], bins=b, histtype=\"step\", lw=2);\n",
    "plt.yscale(\"log\")\n",
    "#plt.ylim(100,1e4)"
   ]
  },
  {
   "cell_type": "code",
   "execution_count": null,
   "metadata": {},
   "outputs": [],
   "source": [
    "plt.figure(figsize=(6, 4))\n",
    "b = np.linspace(0, 100, 100)\n",
    "plt.hist(true_p[:, 0], bins=b, histtype=\"step\", lw=2);\n",
    "plt.hist(pred_p[:, 0], bins=b, histtype=\"step\", lw=2);\n",
    "plt.yscale(\"log\")"
   ]
  },
  {
   "cell_type": "code",
   "execution_count": null,
   "metadata": {},
   "outputs": [],
   "source": [
    "plt.figure(figsize=(6, 4))\n",
    "b = np.linspace(0, 100, 100)\n",
    "plt.hist(true_p2[:, 0], bins=b, histtype=\"step\", lw=2);\n",
    "plt.hist(pred_p2[:, 0], bins=b, histtype=\"step\", lw=2);\n",
    "plt.yscale(\"log\")"
   ]
  },
  {
   "cell_type": "code",
   "execution_count": null,
   "metadata": {},
   "outputs": [],
   "source": [
    "plt.figure(figsize=(6, 4))\n",
    "b = np.linspace(-6, 6, 100)\n",
    "plt.hist(true_p[:, 1], bins=b, histtype=\"step\", lw=2);\n",
    "plt.hist(pred_p[:, 1], bins=b, histtype=\"step\", lw=2);"
   ]
  },
  {
   "cell_type": "code",
   "execution_count": null,
   "metadata": {},
   "outputs": [],
   "source": [
    "plt.figure(figsize=(6, 4))\n",
    "b = np.linspace(-6, 6, 100)\n",
    "plt.hist(true_p2[:, 1], bins=b, histtype=\"step\", lw=2);\n",
    "plt.hist(pred_p2[:, 1], bins=b, histtype=\"step\", lw=2);"
   ]
  },
  {
   "cell_type": "code",
   "execution_count": null,
   "metadata": {},
   "outputs": [],
   "source": [
    "plt.figure(figsize=(6, 4))\n",
    "b = np.linspace(-4, 4, 100)\n",
    "plt.hist(true_p[:, 2], bins=b, histtype=\"step\", lw=2);\n",
    "plt.hist(pred_p[:, 2], bins=b, histtype=\"step\", lw=2);"
   ]
  },
  {
   "cell_type": "code",
   "execution_count": null,
   "metadata": {},
   "outputs": [],
   "source": [
    "plt.figure(figsize=(6, 4))\n",
    "b = np.linspace(-4, 4, 100)\n",
    "plt.hist(true_p2[:, 2], bins=b, histtype=\"step\", lw=2);\n",
    "plt.hist(pred_p2[:, 2], bins=b, histtype=\"step\", lw=2);"
   ]
  },
  {
   "cell_type": "code",
   "execution_count": null,
   "metadata": {},
   "outputs": [],
   "source": [
    "rp = np.random.permutation(len(pred_p))[:5000]\n",
    "rp2 = np.random.permutation(len(pred_p2))[:5000]"
   ]
  },
  {
   "cell_type": "code",
   "execution_count": null,
   "metadata": {},
   "outputs": [],
   "source": [
    "np.corrcoef(true_p[:, 0], pred_p[:, 0])[0,1]"
   ]
  },
  {
   "cell_type": "code",
   "execution_count": null,
   "metadata": {},
   "outputs": [],
   "source": [
    "np.corrcoef(true_p2[:, 0], pred_p2[:, 0])[0,1]"
   ]
  },
  {
   "cell_type": "code",
   "execution_count": null,
   "metadata": {},
   "outputs": [],
   "source": [
    "plt.figure(figsize=(10,10))\n",
    "plt.scatter(true_p[rp, 0], pred_p[rp, 0], marker=\".\", alpha=0.5)\n",
    "plt.xlim(0, 10)\n",
    "plt.ylim(0, 10)\n",
    "plt.plot([0, 10], [0, 10], color=\"black\")"
   ]
  },
  {
   "cell_type": "code",
   "execution_count": null,
   "metadata": {
    "scrolled": false
   },
   "outputs": [],
   "source": [
    "plt.figure(figsize=(10,10))\n",
    "plt.scatter(true_p[rp, 0], pred_p[rp, 0], marker=\".\", alpha=0.5)\n",
    "plt.xlim(0.1, 1000)\n",
    "plt.ylim(0.1, 1000)\n",
    "plt.plot([0.1, 1000], [0.1, 1000], color=\"black\")\n",
    "plt.xscale(\"log\")\n",
    "plt.yscale(\"log\")"
   ]
  },
  {
   "cell_type": "code",
   "execution_count": null,
   "metadata": {},
   "outputs": [],
   "source": [
    "plt.figure(figsize=(10,10))\n",
    "plt.scatter(true_p2[rp2, 0], pred_p2[rp2, 0], marker=\".\", alpha=0.5)\n",
    "plt.xlim(0.1, 1000)\n",
    "plt.ylim(0.1, 1000)\n",
    "plt.plot([0.1, 1000], [0.1, 1000], color=\"black\")\n",
    "plt.xscale(\"log\")\n",
    "plt.yscale(\"log\")"
   ]
  },
  {
   "cell_type": "code",
   "execution_count": null,
   "metadata": {},
   "outputs": [],
   "source": [
    "plt.figure(figsize=(10,10))\n",
    "plt.scatter(true_p[rp, 1], pred_p[rp, 1], marker=\".\", alpha=0.5)\n",
    "plt.plot([-7, 7], [-7, 7], color=\"black\")\n",
    "plt.xlim(-7,7)\n",
    "plt.ylim(-7,7)"
   ]
  },
  {
   "cell_type": "code",
   "execution_count": null,
   "metadata": {},
   "outputs": [],
   "source": [
    "plt.figure(figsize=(10,10))\n",
    "plt.scatter(true_p[rp, 2], pred_p[rp, 2], marker=\".\", alpha=0.5)\n",
    "plt.plot([-4, 4], [-4, 4], color=\"black\")\n",
    "plt.xlim(-4,4)\n",
    "plt.ylim(-4,4)"
   ]
  },
  {
   "cell_type": "code",
   "execution_count": null,
   "metadata": {},
   "outputs": [],
   "source": [
    "msk = _d.x[:, 0] == 1\n",
    "plt.figure(figsize=(4,4))\n",
    "plt.scatter(_d.x[msk, 1].cpu(), _d.y_trk[:, 2].cpu(), marker=\".\")"
   ]
  },
  {
   "cell_type": "code",
   "execution_count": null,
   "metadata": {},
   "outputs": [],
   "source": [
    "plt.figure(figsize=(4,4))\n",
    "plt.scatter(_d.x[msk, 2].cpu(), _d.y_trk[:, 3].cpu(), marker=\".\")"
   ]
  },
  {
   "cell_type": "code",
   "execution_count": null,
   "metadata": {},
   "outputs": [],
   "source": [
    "msk = _d.x[:, 0] == 0\n",
    "plt.figure(figsize=(4,4))\n",
    "plt.scatter(_d.x[msk, 1].cpu(), _d.y_tower[:, 2].cpu(), marker=\".\")"
   ]
  },
  {
   "cell_type": "code",
   "execution_count": null,
   "metadata": {},
   "outputs": [],
   "source": [
    "msk = _d.x[:, 0] == 0\n",
    "plt.figure(figsize=(4,4))\n",
    "plt.scatter(_d.x[msk, 2].cpu(), _d.y_tower[:, 3].cpu(), marker=\".\")"
   ]
  },
  {
   "cell_type": "code",
   "execution_count": null,
   "metadata": {},
   "outputs": [],
   "source": [
    "msk = _d.x[:, 0] == 0\n",
    "plt.figure(figsize=(4,4))\n",
    "plt.scatter(_d.x[msk, 3].cpu() + _d.x[msk, 4].cpu(), _d.y_tower[:, 1].cpu(), marker=\".\")\n",
    "plt.xscale(\"log\")\n",
    "plt.yscale(\"log\")"
   ]
  },
  {
   "cell_type": "code",
   "execution_count": null,
   "metadata": {},
   "outputs": [],
   "source": [
    "msk = _d.x[:, 0] == 1\n",
    "plt.figure(figsize=(4,4))\n",
    "plt.scatter(_d.x[msk, 4].cpu(), _d.y_trk[:, 1].cpu(), marker=\".\")\n",
    "plt.xscale(\"log\")\n",
    "plt.yscale(\"log\")"
   ]
  },
  {
   "cell_type": "code",
   "execution_count": null,
   "metadata": {},
   "outputs": [],
   "source": []
  }
 ],
 "metadata": {
  "kernelspec": {
   "display_name": "Python 3",
   "language": "python",
   "name": "python3"
  },
  "language_info": {
   "codemirror_mode": {
    "name": "ipython",
    "version": 3
   },
   "file_extension": ".py",
   "mimetype": "text/x-python",
   "name": "python",
   "nbconvert_exporter": "python",
   "pygments_lexer": "ipython3",
   "version": "3.6.9"
  }
 },
 "nbformat": 4,
 "nbformat_minor": 2
}
