{
 "cells": [
  {
   "cell_type": "code",
   "execution_count": null,
   "id": "d9ad49fc-f7fe-4cb9-b6f7-e797e82b65b6",
   "metadata": {},
   "outputs": [],
   "source": [
    "import sklearn\n",
    "import sklearn.metrics\n",
    "import numpy as np\n",
    "import matplotlib.pyplot as plt\n",
    "import matplotlib\n",
    "import pandas\n",
    "import mplhep\n",
    "import pickle\n",
    "import awkward\n",
    "import glob\n",
    "import bz2\n",
    "import os\n",
    "import tqdm\n",
    "import fastjet\n",
    "import vector\n",
    "from pathlib import Path\n",
    "\n",
    "mplhep.style.use(\"CMS\")"
   ]
  },
  {
   "cell_type": "code",
   "execution_count": null,
   "id": "0b042a90-0ea8-4038-9073-844b790b8403",
   "metadata": {},
   "outputs": [],
   "source": [
    "import sys\n",
    "sys.path += [\"../../mlpf/\"]\n",
    "\n",
    "import jet_utils\n",
    "\n",
    "sys.path += [\"../../mlpf/plotting/\"]\n",
    "\n",
    "from plot_utils import ELEM_LABELS_CMS, ELEM_NAMES_CMS\n",
    "from plot_utils import CLASS_LABELS_CMS, CLASS_NAMES_CMS\n",
    "from plot_utils import cms_label, sample_label\n",
    "from plot_utils import pid_to_text\n",
    "from plot_utils import save_img"
   ]
  },
  {
   "cell_type": "code",
   "execution_count": null,
   "id": "5f648184-dbf1-4e59-931a-ac99077e7dbd",
   "metadata": {},
   "outputs": [],
   "source": [
    "!ls /media/joosep/data/20240823_simcluster/pu55to75/"
   ]
  },
  {
   "cell_type": "code",
   "execution_count": null,
   "id": "9f734ff4-2732-4c20-ae54-147e6204af4b",
   "metadata": {},
   "outputs": [],
   "source": [
    "#https://jpata.web.cern.ch/jpata/mlpf/cms/20240823_simcluster/nopu/TTbar_14TeV_TuneCUETP8M1_cfi/raw\n",
    "\n",
    "sample = \"QCDForPF_14TeV_TuneCUETP8M1_cfi\"\n",
    "sample_name = \"cms_pf_qcd\"\n",
    "sample_pid = 11\n",
    "\n",
    "pickle_data = sum(\n",
    "    [\n",
    "        pickle.load(bz2.BZ2File(f, \"r\"))\n",
    "        for f in tqdm.tqdm(sorted(list(glob.glob(\"/media/joosep/data/20240823_simcluster/pu55to75/{}/raw/*.pkl.bz2\".format(sample))))[:100])\n",
    "    ],\n",
    "    [],\n",
    ")\n",
    "\n",
    "# compute phi from sin_phi, cos_phi for the ygen and ycand\n",
    "for i in range(len(pickle_data)):\n",
    "    for coll in [\"ytarget\", \"ycand\"]:\n",
    "        pickle_data[i][coll] = pandas.DataFrame(pickle_data[i][coll])\n",
    "        pickle_data[i][coll][\"phi\"] = np.arctan2(pickle_data[i][coll][\"sin_phi\"], pickle_data[i][coll][\"cos_phi\"])"
   ]
  },
  {
   "cell_type": "code",
   "execution_count": null,
   "id": "732c8a6a-a1b5-4d97-940a-cffc28bed05a",
   "metadata": {},
   "outputs": [],
   "source": [
    "#get awkward and flat arrays from the data\n",
    "arrs_awk = {}\n",
    "arrs_flat = {}\n",
    "\n",
    "#tracks and clusters\n",
    "for coll in [\"Xelem\"]:\n",
    "    arrs_awk[coll] = {}\n",
    "    arrs_flat[coll] = {}\n",
    "    for feat in [\"typ\", \"pt\", \"eta\", \"phi\", \"energy\"]:\n",
    "        arr = [np.array(p[coll][feat][p[coll][\"typ\"] != 0]) for p in pickle_data]\n",
    "        arrs_awk[coll][feat] = awkward.unflatten(awkward.concatenate(arr), [len(a) for a in arr])\n",
    "        arr = [np.array(p[coll][feat]) for p in pickle_data]\n",
    "        arrs_flat[coll][feat] = awkward.unflatten(awkward.concatenate(arr), [len(a) for a in arr])\n",
    "\n",
    "#MLPF tarets and PF reco \n",
    "for coll in [\"ytarget\", \"ycand\"]:\n",
    "    arrs_awk[coll] = {}\n",
    "    arrs_flat[coll] = {}\n",
    "    for feat in [\"pid\", \"pt\", \"eta\", \"phi\", \"energy\", \"ispu\"]:\n",
    "        arr = [np.array(p[coll][feat][p[coll][\"pid\"] != 0]) for p in pickle_data]\n",
    "        arrs_awk[coll][feat] = awkward.unflatten(awkward.concatenate(arr), [len(a) for a in arr])\n",
    "        arr = [np.array(p[coll][feat]) for p in pickle_data]\n",
    "        arrs_flat[coll][feat] = awkward.unflatten(awkward.concatenate(arr), [len(a) for a in arr])\n",
    "\n",
    "#pythia generator level particles\n",
    "arrs_awk[\"pythia\"] = {}\n",
    "arrs_awk[\"pythia\"][\"pid\"] = awkward.from_regular([np.array(p[\"pythia\"][:, 0]) for p in pickle_data])\n",
    "arrs_awk[\"pythia\"][\"pt\"] = awkward.from_regular([np.array(p[\"pythia\"][:, 1]) for p in pickle_data])\n",
    "arrs_awk[\"pythia\"][\"eta\"] = awkward.from_regular([np.array(p[\"pythia\"][:, 2]) for p in pickle_data])\n",
    "arrs_awk[\"pythia\"][\"phi\"] = awkward.from_regular([np.array(p[\"pythia\"][:, 3]) for p in pickle_data])\n",
    "arrs_awk[\"pythia\"][\"energy\"] = awkward.from_regular([np.array(p[\"pythia\"][:, 4]) for p in pickle_data])\n",
    "\n",
    "#genMet, genJets from CMSSW (should be the same as computed from Pythia)\n",
    "genmet_cmssw = np.array([pickle_data[i][\"genmet\"][0, 0] for i in range(len(pickle_data))])\n",
    "genjet_cmssw = awkward.from_regular([pickle_data[i][\"genjet\"] for i in range(len(pickle_data))])\n",
    "genjet_cmssw = vector.awk(\n",
    "    awkward.zip(\n",
    "        {   \n",
    "            \"pt\": genjet_cmssw[:, :, 0],\n",
    "            \"eta\": genjet_cmssw[:, :, 1],\n",
    "            \"phi\": genjet_cmssw[:, :, 2],\n",
    "            \"energy\": genjet_cmssw[:, :, 3],\n",
    "        }\n",
    "    )\n",
    ")\n",
    "\n",
    "#MET from MLPF targets and from PF particles\n",
    "ytarget_met = np.sqrt(awkward.sum(\n",
    "    (arrs_awk[\"ytarget\"][\"pt\"] * np.sin(arrs_awk[\"ytarget\"][\"phi\"]))**2 + (arrs_awk[\"ytarget\"][\"pt\"] * np.cos(arrs_awk[\"ytarget\"][\"phi\"]))**2,\n",
    "    axis=1\n",
    "))\n",
    "\n",
    "ycand_met = np.sqrt(awkward.sum(\n",
    "    (arrs_awk[\"ycand\"][\"pt\"] * np.sin(arrs_awk[\"ycand\"][\"phi\"]))**2 + (arrs_awk[\"ycand\"][\"pt\"] * np.cos(arrs_awk[\"ycand\"][\"phi\"]))**2,\n",
    "    axis=1\n",
    "))"
   ]
  },
  {
   "cell_type": "code",
   "execution_count": null,
   "id": "9ed3c401-8149-4e50-a66b-60aad58ea59e",
   "metadata": {},
   "outputs": [],
   "source": [
    "#These arrays are awkward, such that each event can contain a different number of Xelem, ytarget, ycand.\n",
    "arrs_awk"
   ]
  },
  {
   "cell_type": "code",
   "execution_count": null,
   "id": "cff807f4-c633-46c8-a7ad-c1b61b42f57f",
   "metadata": {},
   "outputs": [],
   "source": [
    "#These arrays are flattened such that each event has the same size, so you can match e.g. Xelem to ytarget or ycand by indices.\n",
    "arrs_flat"
   ]
  },
  {
   "cell_type": "code",
   "execution_count": null,
   "id": "4c7d57d1-f949-438d-82d1-5e30526ba047",
   "metadata": {},
   "outputs": [],
   "source": [
    "np.unique(awkward.flatten(arrs_awk[\"pythia\"][\"pid\"]), return_counts=True)"
   ]
  },
  {
   "cell_type": "code",
   "execution_count": null,
   "id": "70441c19-f637-43ca-9cc2-241b2aee11af",
   "metadata": {},
   "outputs": [],
   "source": [
    "#Cluster MLPF target jets, PF jets, and Pythia genjets\n",
    "jets_coll = {}\n",
    "jets_coll[\"cmssw\"] = genjet_cmssw\n",
    "\n",
    "for coll in [\"ytarget\", \"ycand\", \"pythia\"]:\n",
    "    vec = vector.awk(\n",
    "        awkward.zip(\n",
    "            {   \n",
    "                \"pt\": arrs_awk[coll][\"pt\"],\n",
    "                \"eta\": arrs_awk[coll][\"eta\"],\n",
    "                \"phi\": arrs_awk[coll][\"phi\"],\n",
    "                \"energy\": arrs_awk[coll][\"energy\"],\n",
    "            }\n",
    "        )\n",
    "    )\n",
    "    jetdef = fastjet.JetDefinition(fastjet.antikt_algorithm, 0.4)\n",
    "    cluster = fastjet.ClusterSequence(vec.to_xyzt(), jetdef)\n",
    "    jets_coll[coll] = cluster.inclusive_jets(min_pt=3)\n",
    "\n",
    "#Apply a mask to remove target particles from PU \n",
    "msk_nopu = arrs_awk[\"ytarget\"][\"ispu\"]<0.5\n",
    "vec = vector.awk(\n",
    "    awkward.zip(\n",
    "        {   \n",
    "            \"pt\": arrs_awk[\"ytarget\"][\"pt\"][msk_nopu],\n",
    "            \"eta\": arrs_awk[\"ytarget\"][\"eta\"][msk_nopu],\n",
    "            \"phi\": arrs_awk[\"ytarget\"][\"phi\"][msk_nopu],\n",
    "            \"energy\": arrs_awk[\"ytarget\"][\"energy\"][msk_nopu],\n",
    "        }\n",
    "    )\n",
    ")\n",
    "jetdef = fastjet.JetDefinition(fastjet.antikt_algorithm, 0.4)\n",
    "cluster = fastjet.ClusterSequence(vec.to_xyzt(), jetdef)\n",
    "jets_coll[\"ytarget_nopu\"] = cluster.inclusive_jets(min_pt=3)\n",
    "\n",
    "cmssw_to_ytarget_nopu = jet_utils.match_two_jet_collections(jets_coll, \"cmssw\", \"ytarget_nopu\", 0.1)\n",
    "cmssw_to_ytarget = jet_utils.match_two_jet_collections(jets_coll, \"cmssw\", \"ytarget\", 0.1)\n",
    "cmssw_to_ycand = jet_utils.match_two_jet_collections(jets_coll, \"cmssw\", \"ycand\", 0.1)\n",
    "\n",
    "pythia_to_ytarget = jet_utils.match_two_jet_collections(jets_coll, \"pythia\", \"ytarget\", 0.1)\n",
    "pythia_to_ycand = jet_utils.match_two_jet_collections(jets_coll, \"pythia\", \"ycand\", 0.1)\n",
    "\n",
    "pythia_to_cmssw = jet_utils.match_two_jet_collections(jets_coll, \"pythia\", \"cmssw\", 0.1)"
   ]
  },
  {
   "cell_type": "code",
   "execution_count": null,
   "id": "1d0543a8-41cf-4820-bffa-64d5cd180edd",
   "metadata": {},
   "outputs": [],
   "source": [
    "plt.figure()\n",
    "ax = plt.axes()\n",
    "plt.hist(awkward.flatten(arrs_awk[\"ytarget\"][\"ispu\"]), bins=np.linspace(0,1,101), histtype=\"step\")\n",
    "plt.yscale(\"log\")\n",
    "#plt.xscale(\"log\")\n",
    "plt.xlabel(\"PU fraction\")\n",
    "cms_label(ax)\n",
    "sample_label(ax, sample_name)\n",
    "save_img(\"{}_pu_frac.png\".format(sample), cp_dir=Path(\"./\"))"
   ]
  },
  {
   "cell_type": "code",
   "execution_count": null,
   "id": "a21970f2-1b31-40cd-bc9c-78cac06119b1",
   "metadata": {},
   "outputs": [],
   "source": [
    "ptbins = np.logspace(-3,3,100)\n",
    "ispu_fracs = []\n",
    "for ibin in range(len(ptbins)-1):\n",
    "    msk = (arrs_awk[\"ytarget\"][\"pt\"]>=ptbins[ibin]) & (arrs_awk[\"ytarget\"][\"pt\"]<ptbins[ibin+1])\n",
    "    ispu = awkward.flatten(arrs_awk[\"ytarget\"][\"ispu\"][msk])\n",
    "    frac_pu = np.sum(ispu>0.5) / len(ispu)\n",
    "    ispu_fracs.append(frac_pu)\n",
    "\n",
    "plt.figure(figsize=(5,5))\n",
    "plt.plot(ptbins[:-1], ispu_fracs, marker=\".\")\n",
    "#plt.yscale(\"log\")\n",
    "plt.xscale(\"log\")\n",
    "plt.ylim(0.0, 1.2)\n",
    "plt.axhline(1.0, color=\"black\", ls=\"--\")\n",
    "plt.legend(loc=\"best\")\n",
    "plt.xlabel(\"particle $p_T$ [GeV]\")\n",
    "plt.ylabel(\"fraction with isPU>0.5\")"
   ]
  },
  {
   "cell_type": "code",
   "execution_count": null,
   "id": "6969cea3-5650-460d-9d36-5046b479f9bf",
   "metadata": {},
   "outputs": [],
   "source": [
    "etabins = np.linspace(-5,5,100)\n",
    "ispu_fracs = []\n",
    "for ibin in range(len(etabins)-1):\n",
    "    msk = (arrs_awk[\"ytarget\"][\"eta\"]>=etabins[ibin]) & (arrs_awk[\"ytarget\"][\"eta\"]<etabins[ibin+1])\n",
    "    ispu = awkward.flatten(arrs_awk[\"ytarget\"][\"ispu\"][msk])\n",
    "    frac_pu = np.sum(ispu>0.5) / len(ispu)\n",
    "    ispu_fracs.append(frac_pu)\n",
    "\n",
    "plt.figure(figsize=(5,5))\n",
    "plt.plot(etabins[:-1], ispu_fracs, marker=\".\")\n",
    "#plt.yscale(\"log\")\n",
    "#plt.xscale(\"log\")\n",
    "plt.ylim(0.0, 1.2)\n",
    "plt.axhline(1.0, color=\"black\", ls=\"--\")\n",
    "plt.legend(loc=\"best\")\n",
    "plt.xlabel(\"particle $\\eta$\")\n",
    "plt.ylabel(\"fraction with isPU>0.5\")"
   ]
  },
  {
   "cell_type": "markdown",
   "id": "aa74e010-8523-4cec-8588-612f8b4aed17",
   "metadata": {},
   "source": [
    "## Particles"
   ]
  },
  {
   "cell_type": "code",
   "execution_count": null,
   "id": "15125abd-a3f9-4167-9058-6ba663b9f1d1",
   "metadata": {},
   "outputs": [],
   "source": [
    "b = np.logspace(-3,4,500)\n",
    "plt.figure(figsize=(5,5))\n",
    "plt.hist(awkward.flatten(arrs_awk[\"pythia\"][\"pt\"]), bins=b, label=\"Pythia\", histtype=\"step\")\n",
    "plt.hist(awkward.flatten(arrs_awk[\"ytarget\"][\"pt\"]), bins=b, label=\"MLPF target\", histtype=\"step\")\n",
    "plt.xscale(\"log\")\n",
    "plt.yscale(\"log\")\n",
    "plt.legend(loc=\"best\")"
   ]
  },
  {
   "cell_type": "code",
   "execution_count": null,
   "id": "e5426989-93f9-44d9-b9d6-9918ef8b358c",
   "metadata": {},
   "outputs": [],
   "source": [
    "fig = plt.figure()\n",
    "ax = plt.axes()\n",
    "b = np.logspace(-3,4,500)\n",
    "plt.hist(awkward.sum(arrs_awk[\"pythia\"][\"pt\"][arrs_awk[\"pythia\"][\"pid\"]==sample_pid], axis=1), bins=b, label=\"Pythia\", histtype=\"step\")\n",
    "plt.hist(awkward.sum(arrs_awk[\"ytarget\"][\"pt\"][arrs_awk[\"ytarget\"][\"pid\"]==sample_pid], axis=1), bins=b, label=\"MLPF target\", histtype=\"step\")\n",
    "plt.xscale(\"log\")\n",
    "plt.yscale(\"log\")\n",
    "plt.legend(loc=\"best\")\n",
    "plt.xlabel(\"Sum $p_T$ [GeV]\")\n",
    "cms_label(ax)\n",
    "sample_label(ax, sample_name)\n",
    "save_img(\"{}_particle_sumpt.png\".format(sample), cp_dir=Path(\"./\"))"
   ]
  },
  {
   "cell_type": "markdown",
   "id": "86df42d2-95aa-46ad-96b3-2b56e88d7f94",
   "metadata": {},
   "source": [
    "## Jets"
   ]
  },
  {
   "cell_type": "code",
   "execution_count": null,
   "id": "04ffe14e-b17e-4eb4-88c4-8634b966ee3f",
   "metadata": {},
   "outputs": [],
   "source": [
    "b = np.logspace(0,4,401)\n",
    "plt.figure(figsize=(5,5))\n",
    "plt.hist(np.abs(awkward.flatten(jets_coll[\"cmssw\"].pt)), bins=b, histtype=\"step\", label=\"genJet\");\n",
    "plt.hist(np.abs(awkward.flatten(jets_coll[\"ytarget\"].pt)), bins=b, histtype=\"step\", label=\"MLPF target\");\n",
    "plt.hist(np.abs(awkward.flatten(jets_coll[\"ytarget_nopu\"].pt)), bins=b, histtype=\"step\", label=\"MLPF target, no PU\");\n",
    "plt.xscale(\"log\")\n",
    "plt.yscale(\"log\")\n",
    "plt.legend(loc=1, fontsize=12)\n",
    "plt.xlabel(\"jet $p_T$ [GeV]\")\n",
    "#plt.hist(np.abs(awkward.flatten(jets_coll[\"ycand\"].eta)), bins=b, histtype=\"step\");"
   ]
  },
  {
   "cell_type": "code",
   "execution_count": null,
   "id": "798db124-bc58-425e-98cb-9fa600d08d1b",
   "metadata": {},
   "outputs": [],
   "source": [
    "b = np.linspace(0,6,401)\n",
    "plt.figure(figsize=(5,5))\n",
    "plt.hist(np.abs(awkward.flatten(jets_coll[\"cmssw\"].eta)), bins=b, histtype=\"step\", label=\"genJet\");\n",
    "plt.hist(np.abs(awkward.flatten(jets_coll[\"ytarget\"].eta)), bins=b, histtype=\"step\", label=\"MLPF target\");\n",
    "plt.hist(np.abs(awkward.flatten(jets_coll[\"ytarget_nopu\"].eta)), bins=b, histtype=\"step\", label=\"MLPF target, no PU\");\n",
    "plt.legend(loc=1, fontsize=12)\n",
    "plt.xlabel(\"jet $\\eta$\")\n",
    "#plt.hist(np.abs(awkward.flatten(jets_coll[\"ycand\"].eta)), bins=b, histtype=\"step\");"
   ]
  },
  {
   "cell_type": "markdown",
   "id": "baf07810-f654-4858-a920-dfba24b488c9",
   "metadata": {},
   "source": [
    "### One event display"
   ]
  },
  {
   "cell_type": "code",
   "execution_count": null,
   "id": "29e0dd1a-8d07-4f53-bfdf-c6ae559c45f6",
   "metadata": {},
   "outputs": [],
   "source": [
    "iev = 2\n",
    "\n",
    "plt.figure(figsize=(10,10))\n",
    "plt.scatter(arrs_awk[\"pythia\"][\"eta\"][iev], arrs_awk[\"pythia\"][\"phi\"][iev], s=5*arrs_awk[\"pythia\"][\"pt\"][iev], alpha=0.5, label=\"Pythia ptcl\")\n",
    "plt.scatter(arrs_awk[\"ytarget\"][\"eta\"][iev], arrs_awk[\"ytarget\"][\"phi\"][iev], s=5*arrs_awk[\"ytarget\"][\"pt\"][iev], marker=\"s\", alpha=0.5, label=\"MLPF target\")\n",
    "plt.scatter(jets_coll[\"cmssw\"].eta[iev], jets_coll[\"cmssw\"].phi[iev], s=5*jets_coll[\"cmssw\"].pt[iev], marker=\"v\", alpha=0.5, label=\"genJets\")\n",
    "plt.scatter(jets_coll[\"ytarget\"].eta[iev], jets_coll[\"ytarget\"].phi[iev], s=5*jets_coll[\"ytarget\"].pt[iev], marker=\"^\", alpha=0.5, label=\"MLPF target jets\")\n",
    "plt.legend(ncols=2, frameon=True)\n",
    "plt.xlabel(\"$\\eta$\")\n",
    "plt.ylabel(\"$\\phi$\")\n",
    "plt.xlim(-6,6)\n",
    "plt.ylim(-5,5)"
   ]
  },
  {
   "cell_type": "markdown",
   "id": "b5474545-49c7-4921-a521-43e20370a636",
   "metadata": {},
   "source": [
    "## Jet response"
   ]
  },
  {
   "cell_type": "code",
   "execution_count": null,
   "id": "73afc41c-e31d-4ced-9026-d371b5a7dd10",
   "metadata": {},
   "outputs": [],
   "source": [
    "plt.figure(figsize=(5,5))\n",
    "b = np.logspace(-2,2,600)\n",
    "plt.hist(\n",
    "    awkward.flatten(\n",
    "        (jets_coll[\"pythia\"][pythia_to_cmssw[\"pythia\"]].pt / jets_coll[\"cmssw\"][pythia_to_cmssw[\"cmssw\"]].pt)\n",
    "    ), bins=b, histtype=\"step\", lw=1, label=\"Pythia\"\n",
    ");\n",
    "\n",
    "plt.xscale(\"log\")\n",
    "plt.yscale(\"log\")\n",
    "plt.xlabel(\"jet $p_T$ / genjet $p_T$\")\n",
    "plt.legend(loc=1, fontsize=12)\n",
    "plt.axvline(1.0, color=\"black\", ls=\"--\", lw=0.5)"
   ]
  },
  {
   "cell_type": "code",
   "execution_count": null,
   "id": "d10b3e1a-fff5-4c7a-ba2d-e6b5f66b19f0",
   "metadata": {},
   "outputs": [],
   "source": [
    "def plot_jet_ratio_ptcut(ptcut1, ptcut2):\n",
    "    plt.figure(figsize=(5,5))\n",
    "    b = np.logspace(-1,1,600)\n",
    "    \n",
    "    pt = jets_coll[\"cmssw\"][cmssw_to_ycand[\"cmssw\"]].pt\n",
    "    plt.hist(\n",
    "        awkward.flatten(\n",
    "            (jets_coll[\"ycand\"][cmssw_to_ycand[\"ycand\"]].pt / jets_coll[\"cmssw\"][cmssw_to_ycand[\"cmssw\"]].pt)[(pt>=ptcut1) & (pt<ptcut2)]\n",
    "        ), bins=b, histtype=\"step\", lw=1, label=\"PF\"\n",
    "    )\n",
    "\n",
    "    pt = jets_coll[\"cmssw\"][cmssw_to_ytarget[\"cmssw\"]].pt\n",
    "    plt.hist(\n",
    "        awkward.flatten(\n",
    "            (jets_coll[\"ytarget\"][cmssw_to_ytarget[\"ytarget\"]].pt / jets_coll[\"cmssw\"][cmssw_to_ytarget[\"cmssw\"]].pt)[(pt>=ptcut1) & (pt<ptcut2)]\n",
    "        ), bins=b, histtype=\"step\", lw=1, label=\"MLPF target\"\n",
    "    );\n",
    "\n",
    "    pt = jets_coll[\"cmssw\"][cmssw_to_ytarget_nopu[\"cmssw\"]].pt\n",
    "    plt.hist(\n",
    "        awkward.flatten(\n",
    "            (jets_coll[\"ytarget_nopu\"][cmssw_to_ytarget_nopu[\"ytarget_nopu\"]].pt / jets_coll[\"cmssw\"][cmssw_to_ytarget_nopu[\"cmssw\"]].pt)[(pt>=ptcut1) & (pt<ptcut2)]\n",
    "        ), bins=b, histtype=\"step\", lw=1, label=\"MLPF target, no PU\"\n",
    "    );\n",
    "\n",
    "    plt.xscale(\"log\")\n",
    "    plt.yscale(\"log\")\n",
    "    plt.xlabel(\"jet $p_T$ / genjet $p_T$\")\n",
    "    plt.legend(loc=2, fontsize=12)\n",
    "    plt.axvline(1.0, color=\"black\", ls=\"--\", lw=0.5)\n",
    "\n",
    "def plot_jet_ratio_ptcut2(ptcut1, ptcut2):\n",
    "    fig = plt.figure()\n",
    "    ax = plt.axes()\n",
    "    b = np.linspace(0.5,1.5,100)\n",
    "\n",
    "    pt = jets_coll[\"cmssw\"][cmssw_to_ytarget[\"cmssw\"]].pt\n",
    "    plt.hist(\n",
    "        awkward.flatten(\n",
    "            (jets_coll[\"ytarget\"][cmssw_to_ytarget[\"ytarget\"]].pt / jets_coll[\"cmssw\"][cmssw_to_ytarget[\"cmssw\"]].pt)[(pt>=ptcut1) & (pt<ptcut2)]\n",
    "        ), bins=b, histtype=\"bar\", lw=1, label=\"MLPF target\"\n",
    "    );\n",
    "    \n",
    "    pt = jets_coll[\"cmssw\"][cmssw_to_ycand[\"cmssw\"]].pt\n",
    "    plt.hist(\n",
    "        awkward.flatten(\n",
    "            (jets_coll[\"ycand\"][cmssw_to_ycand[\"ycand\"]].pt / jets_coll[\"cmssw\"][cmssw_to_ycand[\"cmssw\"]].pt)[(pt>=ptcut1) & (pt<ptcut2)]\n",
    "        ), bins=b, histtype=\"step\", lw=2, label=\"PF\"\n",
    "    )\n",
    "\n",
    "    plt.xlabel(\"jet $p_T$ / genjet $p_T$\")\n",
    "    plt.legend(loc=1, fontsize=12)\n",
    "    plt.axvline(1.0, color=\"black\", ls=\"--\", lw=0.5)\n",
    "    cms_label(ax)\n",
    "    sample_label(ax, sample_name)\n",
    "    plt.yscale(\"log\")\n",
    "    save_img(\"{}_jet_pt_ratio.png\".format(sample), cp_dir=Path(\"./\"))"
   ]
  },
  {
   "cell_type": "code",
   "execution_count": null,
   "id": "356c5432-627e-414c-85f1-c42b6c5da23e",
   "metadata": {},
   "outputs": [],
   "source": [
    "plot_jet_ratio_ptcut(0,500)\n",
    "plt.ylim(1, 1e4)"
   ]
  },
  {
   "cell_type": "code",
   "execution_count": null,
   "id": "c4131168-e925-4863-8464-ef8943caf762",
   "metadata": {},
   "outputs": [],
   "source": [
    "plot_jet_ratio_ptcut2(0,1000)\n",
    "#plt.ylim(0,75000)"
   ]
  },
  {
   "cell_type": "code",
   "execution_count": null,
   "id": "d0511eb6-eadf-46c9-9af7-be376175cb51",
   "metadata": {},
   "outputs": [],
   "source": [
    "def met(pt, phi):\n",
    "    px = pt * np.cos(phi)\n",
    "    py = pt * np.sin(phi)\n",
    "    pt = np.sqrt(awkward.sum(px, axis=1)**2 + awkward.sum(py, axis=1)**2)\n",
    "    return pt"
   ]
  },
  {
   "cell_type": "code",
   "execution_count": null,
   "id": "5c1a3454-6f11-424e-81b9-e2f74aa3525a",
   "metadata": {},
   "outputs": [],
   "source": [
    "b = np.logspace(-2,4,100)\n",
    "plt.hist(\n",
    "    awkward.to_numpy(genmet_cmssw),\n",
    "    bins=b, histtype=\"step\", lw=2, label=\"genMET\"\n",
    ");\n",
    "\n",
    "plt.hist(\n",
    "    awkward.to_numpy(met(arrs_awk[\"ycand\"][\"pt\"], arrs_awk[\"ycand\"][\"phi\"])),\n",
    "    bins=b, histtype=\"step\", lw=2, label=\"PF\"\n",
    ")\n",
    "\n",
    "plt.hist(\n",
    "    awkward.to_numpy(met(arrs_awk[\"ytarget\"][\"pt\"], arrs_awk[\"ytarget\"][\"phi\"])),\n",
    "    bins=b, histtype=\"step\", lw=2, label=\"MLPF targets\"\n",
    ")\n",
    "\n",
    "plt.hist(\n",
    "    awkward.to_numpy(met(arrs_awk[\"ytarget\"][\"pt\"][arrs_awk[\"ytarget\"][\"ispu\"]<0.5], arrs_awk[\"ytarget\"][\"phi\"][arrs_awk[\"ytarget\"][\"ispu\"]<0.5])),\n",
    "    bins=b, histtype=\"step\", lw=2, label=\"MLPF targets, no PU\"\n",
    ")\n",
    "\n",
    "plt.legend(loc=2)\n",
    "plt.yscale(\"log\")\n",
    "plt.xscale(\"log\")\n",
    "plt.xlabel(\"MET [GeV]\")"
   ]
  },
  {
   "cell_type": "markdown",
   "id": "be44a68a-c00d-4bf7-babe-2d7b3dd9b1b6",
   "metadata": {},
   "source": [
    "## Matching of PFElements to PF candidates or MLPF targets "
   ]
  },
  {
   "cell_type": "code",
   "execution_count": null,
   "id": "af79caaf-a9aa-49b1-b585-aeb2486f29d9",
   "metadata": {},
   "outputs": [],
   "source": [
    "def plot_element_matching_frac(elemtype):\n",
    "    bins = np.logspace(-1, 3, 200)\n",
    "    fracs_gen = []\n",
    "    fracs_cand = []\n",
    "    \n",
    "    msk = arrs_flat[\"Xelem\"][\"typ\"]==elemtype\n",
    "    \n",
    "    gen_pid = awkward.flatten(arrs_flat[\"ytarget\"][\"pid\"][msk])\n",
    "    cand_pid = awkward.flatten(arrs_flat[\"ycand\"][\"pid\"][msk])\n",
    "    elem_energy = awkward.flatten(arrs_flat[\"Xelem\"][\"energy\"][msk])\n",
    "    \n",
    "    plt.figure(figsize=(5,5))\n",
    "    plt.hist(track_pt, bins);\n",
    "    plt.xscale(\"log\")\n",
    "    plt.yscale(\"log\")\n",
    "    plt.xlabel(\"PFElement $E$ [GeV]\")\n",
    "    \n",
    "    for ibin in range(len(bins)-1):\n",
    "        b0 = bins[ibin]\n",
    "        b1 = bins[ibin+1]\n",
    "        msk = (elem_energy >= b0) & (elem_energy < b1)\n",
    "        frac_gen = np.sum(gen_pid[msk]!=0) / np.sum(msk)\n",
    "        frac_cand = np.sum(cand_pid[msk]!=0) / np.sum(msk)\n",
    "        fracs_gen.append(frac_gen)\n",
    "        fracs_cand.append(frac_cand)\n",
    "    \n",
    "    plt.figure(figsize=(5,5))\n",
    "    plt.plot(bins[:-1], fracs_gen, marker=\".\", label=\"MLPF target\")\n",
    "    plt.plot(bins[:-1], fracs_cand, marker=\".\", label=\"PF\")\n",
    "    plt.xscale(\"log\")\n",
    "    plt.ylabel(\"matched PFElements\")\n",
    "    plt.xlabel(\"PFElement $E$ [GeV]\")\n",
    "    plt.ylim(0,1.1)\n",
    "    plt.legend(loc=\"best\")"
   ]
  },
  {
   "cell_type": "code",
   "execution_count": null,
   "id": "f475e6c7-8459-426b-a589-a0612a8d8804",
   "metadata": {},
   "outputs": [],
   "source": [
    "plot_element_matching_frac(1)"
   ]
  },
  {
   "cell_type": "code",
   "execution_count": null,
   "id": "63eb195c-acaa-423d-b356-1675ab78722b",
   "metadata": {},
   "outputs": [],
   "source": [
    "plot_element_matching_frac(4)"
   ]
  },
  {
   "cell_type": "code",
   "execution_count": null,
   "id": "fa860780-b981-42a6-b6ed-6e0bbf36454b",
   "metadata": {},
   "outputs": [],
   "source": [
    "plot_element_matching_frac(5)"
   ]
  },
  {
   "cell_type": "code",
   "execution_count": null,
   "id": "ac04695e-2c1e-4027-ae93-15bfda830af9",
   "metadata": {},
   "outputs": [],
   "source": [
    "plot_element_matching_frac(6)"
   ]
  },
  {
   "cell_type": "code",
   "execution_count": null,
   "id": "a7e698fc-c9b2-41f1-8c6e-9d72590a0a3d",
   "metadata": {},
   "outputs": [],
   "source": [
    "plot_element_matching_frac(8)"
   ]
  },
  {
   "cell_type": "code",
   "execution_count": null,
   "id": "62a14ff1-3d01-4c6f-8792-4d66a8a1e3b3",
   "metadata": {},
   "outputs": [],
   "source": [
    "plot_element_matching_frac(9)"
   ]
  },
  {
   "cell_type": "code",
   "execution_count": null,
   "id": "3079f6a4-7414-4c8e-a07b-6065ec4087ba",
   "metadata": {},
   "outputs": [],
   "source": [
    "def plot_elem_vs_particle_ptratio(elemtype):\n",
    "    plt.figure(figsize=(5,5))\n",
    "    msk = (arrs_flat[\"Xelem\"][\"typ\"] == elemtype) & (arrs_flat[\"ytarget\"][\"pid\"] !=0)\n",
    "    plt.hist(\n",
    "        awkward.flatten((arrs_flat[\"ytarget\"][\"pt\"]/arrs_flat[\"Xelem\"][\"pt\"])[msk]),\n",
    "        bins=np.logspace(-3,3,600), histtype=\"step\", label=\"MLPF target\"\n",
    "    );\n",
    "    \n",
    "    msk = (arrs_flat[\"Xelem\"][\"typ\"] == elemtype) & (arrs_flat[\"ycand\"][\"pid\"] !=0)\n",
    "    plt.hist(\n",
    "        awkward.flatten((arrs_flat[\"ycand\"][\"pt\"]/arrs_flat[\"Xelem\"][\"pt\"])[msk]),\n",
    "        bins=np.logspace(-3,3,600), histtype=\"step\", label=\"PF\"\n",
    "    );\n",
    "    \n",
    "    plt.yscale(\"log\")\n",
    "    plt.xscale(\"log\")\n",
    "    plt.xlabel(\"target / PFElement $p_T$\")\n",
    "    plt.legend(loc=1, fontsize=12)"
   ]
  },
  {
   "cell_type": "code",
   "execution_count": null,
   "id": "5af7bba7-eb2b-4501-8263-2e1c69e1949d",
   "metadata": {},
   "outputs": [],
   "source": [
    "plot_elem_vs_particle_ptratio(1)"
   ]
  },
  {
   "cell_type": "code",
   "execution_count": null,
   "id": "59df7bdc-f11f-46ac-bc6a-742f9fc740e2",
   "metadata": {},
   "outputs": [],
   "source": [
    "plot_elem_vs_particle_ptratio(4)"
   ]
  },
  {
   "cell_type": "code",
   "execution_count": null,
   "id": "40d09ad2-a113-429c-98e2-4476e624355d",
   "metadata": {},
   "outputs": [],
   "source": [
    "plot_elem_vs_particle_ptratio(5)"
   ]
  },
  {
   "cell_type": "code",
   "execution_count": null,
   "id": "6fa990ff-1c38-4db4-9fec-d24ab1637a9f",
   "metadata": {},
   "outputs": [],
   "source": [
    "plot_elem_vs_particle_ptratio(6)"
   ]
  },
  {
   "cell_type": "code",
   "execution_count": null,
   "id": "56dd9a02-4076-485e-9a34-f86ffdd9aa11",
   "metadata": {},
   "outputs": [],
   "source": [
    "plot_elem_vs_particle_ptratio(8)"
   ]
  },
  {
   "cell_type": "code",
   "execution_count": null,
   "id": "7df45eb1-6aee-4d18-85b6-eec0279d419f",
   "metadata": {},
   "outputs": [],
   "source": [
    "plot_elem_vs_particle_ptratio(9)"
   ]
  }
 ],
 "metadata": {
  "kernelspec": {
   "display_name": "Python 3 (ipykernel)",
   "language": "python",
   "name": "python3"
  },
  "language_info": {
   "codemirror_mode": {
    "name": "ipython",
    "version": 3
   },
   "file_extension": ".py",
   "mimetype": "text/x-python",
   "name": "python",
   "nbconvert_exporter": "python",
   "pygments_lexer": "ipython3",
   "version": "3.11.10"
  }
 },
 "nbformat": 4,
 "nbformat_minor": 5
}
