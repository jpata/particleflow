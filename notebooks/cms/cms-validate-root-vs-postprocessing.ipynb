{
 "cells": [
  {
   "cell_type": "code",
   "execution_count": null,
   "id": "4509c816-27bf-47c1-aac6-bf0157c2f978",
   "metadata": {},
   "outputs": [],
   "source": [
    "%matplotlib inline\n",
    "import sklearn\n",
    "import sklearn.metrics\n",
    "import numpy as np\n",
    "import matplotlib.pyplot as plt\n",
    "import matplotlib\n",
    "import pandas\n",
    "import mplhep\n",
    "import pickle\n",
    "import awkward\n",
    "import glob\n",
    "import bz2\n",
    "import os\n",
    "import tqdm\n",
    "import fastjet\n",
    "import vector\n",
    "import uproot\n",
    "from pathlib import Path\n",
    "\n",
    "import pickle\n",
    "from functools import reduce\n",
    "import mplhep\n",
    "import boost_histogram as bh\n",
    "import bz2\n",
    "\n",
    "mplhep.style.use(\"CMS\")\n",
    "\n",
    "import sys\n",
    "sys.path += [\"../../mlpf/\"]\n",
    "sys.path += [\"../../mlpf/plotting/\"]\n",
    "\n",
    "import plot_utils\n",
    "from plot_utils import ELEM_LABELS_CMS, ELEM_NAMES_CMS\n",
    "from plot_utils import CLASS_LABELS_CMS, CLASS_NAMES_CMS, EVALUATION_DATASET_NAMES\n",
    "from plot_utils import cms_label, sample_label\n",
    "from plot_utils import pid_to_text\n"
   ]
  },
  {
   "cell_type": "code",
   "execution_count": null,
   "id": "26af47e1-0248-45f1-8d5d-5494db374ea0",
   "metadata": {},
   "outputs": [],
   "source": [
    "jet_label_coords = 0.01, 0.84\n",
    "jet_label_coords_single = 0.01, 0.88\n",
    "sample_label_coords = 0.01, 0.97\n",
    "jet_label_ak4 = \"AK4 jets, $|\\eta|<2.5$\""
   ]
  },
  {
   "cell_type": "code",
   "execution_count": null,
   "id": "3d9800d7-f081-435d-9f77-eef9f7d405c6",
   "metadata": {},
   "outputs": [],
   "source": [
    "def save_img(outfile, epoch=None, cp_dir=None, comet_experiment=None):\n",
    "    if cp_dir:\n",
    "        image_path = str(cp_dir / outfile)\n",
    "        plt.savefig(image_path, dpi=100, bbox_inches=\"tight\")\n",
    "        plt.savefig(image_path.replace(\".png\", \".pdf\"), bbox_inches=\"tight\")\n",
    "        if comet_experiment:\n",
    "            comet_experiment.log_image(image_path, step=epoch - 1)"
   ]
  },
  {
   "cell_type": "code",
   "execution_count": null,
   "id": "a2b8a338-8b37-4d1f-afbc-595ca624bb4d",
   "metadata": {},
   "outputs": [],
   "source": [
    "def add_results(d0, d1):\n",
    "    d_ret = {}\n",
    "    k0 = set(d0.keys())\n",
    "    k1 = set(d1.keys())\n",
    "\n",
    "    for k in k0.intersection(k1):\n",
    "        d_ret[k] = d0[k] + d1[k]\n",
    "\n",
    "    for k in k0.difference(k1):\n",
    "        d_ret[k] = d0[k]\n",
    "\n",
    "    for k in k1.difference(k0):\n",
    "        d_ret[k] = d1[k]\n",
    "\n",
    "    return d_ret"
   ]
  },
  {
   "cell_type": "code",
   "execution_count": null,
   "id": "0603fd41-5810-45d3-995b-144e2fd83b88",
   "metadata": {},
   "outputs": [],
   "source": [
    "#files = [pickle.load(open(fn, \"rb\")) for fn in glob.glob(\"/local/joosep/mlpf/cms/20250508_cmssw_15_0_5_d3c6d1/validation_plots/out*.pkl\")]\n",
    "files = [pickle.load(open(fn, \"rb\")) for fn in glob.glob(\"../../out*.pkl\")]\n",
    "ret = reduce(add_results, files, {})\n",
    "\n",
    "sample_keys = sorted(set([\"/\".join(k.split(\"/\")[0:2]) for k in ret.keys() if not k.startswith(\"combined\")]))\n",
    "sample_keys_combined = sorted(set([\"/\".join(k.split(\"/\")[0:3]) for k in ret.keys() if k.startswith(\"combined\")]))"
   ]
  },
  {
   "cell_type": "code",
   "execution_count": null,
   "id": "27b10dc7-828d-483d-8b2a-2a4bfdfbb5ca",
   "metadata": {},
   "outputs": [],
   "source": [
    "sample_keys"
   ]
  },
  {
   "cell_type": "code",
   "execution_count": null,
   "id": "51bfc908-b3e6-45ad-bef5-000a7f9153ad",
   "metadata": {},
   "outputs": [],
   "source": [
    "sample_keys_combined"
   ]
  },
  {
   "cell_type": "code",
   "execution_count": null,
   "id": "e2079fc9-9694-4a35-929d-02da23e3d122",
   "metadata": {},
   "outputs": [],
   "source": [
    "# for k in sorted(ret.keys()):\n",
    "#     print(k)"
   ]
  },
  {
   "cell_type": "code",
   "execution_count": null,
   "id": "fee32aed-27f2-4c73-bcf3-4dd91ddddfe4",
   "metadata": {},
   "outputs": [],
   "source": [
    "sample_labels = {\n",
    "    \"nopu/TTbar_14TeV_TuneCUETP8M1_cfi\": \"cms_pf_ttbar_nopu\",\n",
    "    \"nopu/QCDForPF_14TeV_TuneCUETP8M1_cfi\": \"cms_pf_qcd_nopu\",\n",
    "    \"nopu/ZTT_All_hadronic_14TeV_TuneCUETP8M1_cfi\": \"cms_pf_ztt_nopu\",\n",
    "    \"pu55to75/TTbar_14TeV_TuneCUETP8M1_cfi\": \"cms_pf_ttbar\",\n",
    "    \"pu55to75/QCDForPF_14TeV_TuneCUETP8M1_cfi\": \"cms_pf_qcd\",\n",
    "    \"pu55to75/ZTT_All_hadronic_14TeV_TuneCUETP8M1_cfi\": \"cms_pf_ztt\"\n",
    "}\n",
    "\n",
    "def sample_label(ax, sample, additional_text=\"\"):\n",
    "    plt.text(sample_label_coords[0], sample_label_coords[1], EVALUATION_DATASET_NAMES[sample_labels[sample.replace(\"combined/\", \"\")]] + \"\\n\" + additional_text, ha=\"left\", va=\"top\", transform=ax.transAxes)"
   ]
  },
  {
   "cell_type": "code",
   "execution_count": null,
   "id": "24721c29-579e-4689-821b-76abef2b5060",
   "metadata": {},
   "outputs": [],
   "source": [
    "sample_keys_combined"
   ]
  },
  {
   "cell_type": "code",
   "execution_count": null,
   "id": "d0813f97-8e07-47aa-bfd0-d42d2afcd8ae",
   "metadata": {},
   "outputs": [],
   "source": [
    "#for sample in sample_keys_combined:\n",
    "for sample in ['combined/nopu/TTbar_14TeV_TuneCUETP8M1_cfi']:\n",
    "    plt.figure()\n",
    "    ax = plt.axes()\n",
    "    mplhep.histplot(ret[f\"{sample}/particles_pt_pythia\"], label=\"Pythia\")\n",
    "    mplhep.histplot(ret[f\"{sample}/particles_pt_cand\"], label=\"PF\")\n",
    "    #mplhep.histplot(ret[f\"{sample}/particles_pt_caloparticle\"], label=\"CaloParticle\")\n",
    "    #mplhep.histplot(ret[f\"{sample}/particles_pt_target\"], label=\"Target\")\n",
    "    #mplhep.histplot(ret[f\"{sample}/particles_pt_target_pumask\"], label=\"Target, PU mask\", ls=\"--\")\n",
    "    plt.xscale(\"log\")\n",
    "    plt.yscale(\"log\")\n",
    "    plt.legend(loc=1)\n",
    "    #plt.ylim(1, 1e8)\n",
    "    cms_label(ax)\n",
    "    sample_label(ax, sample)\n",
    "    plt.xlabel(\"particle \" + plot_utils.labels[\"pt\"])\n",
    "    plt.ylabel(\"Count\")\n",
    "    save_img(\"{}_particles_pt.png\".format(sample.replace(\"/\", \"_\")), cp_dir=Path(\"./\"))\n",
    "    plt.show()"
   ]
  },
  {
   "cell_type": "code",
   "execution_count": null,
   "id": "78d44a26-82c7-4d65-b4d3-f30ba66c40f2",
   "metadata": {},
   "outputs": [],
   "source": [
    "for pid in [11, 22, 211, 130]:\n",
    "    for sample in sample_keys_combined:\n",
    "        plt.figure()\n",
    "        ax = plt.axes()\n",
    "        mplhep.histplot(ret[f\"{sample}/particle_{pid}_pt_pythia\"], label=\"Pythia\")\n",
    "        mplhep.histplot(ret[f\"{sample}/particle_{pid}_pt_cand\"], label=\"PF\")\n",
    "        # mplhep.histplot(ret[f\"{sample}/particle_{pid}_pt_caloparticle\"], label=\"CaloParticle\")\n",
    "        mplhep.histplot(ret[f\"{sample}/particle_{pid}_pt_target\"], label=\"Target\")\n",
    "        mplhep.histplot(ret[f\"{sample}/particle_{pid}_pt_target_pumask\"], label=\"Target, PU mask\", ls=\"--\")\n",
    "        plt.xscale(\"log\")\n",
    "        plt.yscale(\"log\")\n",
    "        plt.legend(loc=1)\n",
    "        plt.ylim(1, 1e7)\n",
    "        cms_label(ax)\n",
    "        sample_label(ax, sample, str(pid))\n",
    "        plt.xlabel(\"particle \" + plot_utils.labels[\"pt\"])\n",
    "        plt.ylabel(\"Count\")\n",
    "        save_img(\"{}_particle_{}_pt.png\".format(sample.replace(\"/\", \"_\"), pid), cp_dir=Path(\"./\"))\n",
    "        plt.show()"
   ]
  },
  {
   "cell_type": "code",
   "execution_count": null,
   "id": "bbaa9d5a-56a0-4027-84cc-514267465797",
   "metadata": {},
   "outputs": [],
   "source": [
    "for sample in sample_keys:\n",
    "    plt.figure()\n",
    "    ax = plt.axes()\n",
    "    mplhep.histplot(ret[f\"{sample}/jets_pt_genjet\"], label=\"Pythia\")\n",
    "    mplhep.histplot(ret[f\"{sample}/jets_pt_cand\"], label=\"PF\")\n",
    "    mplhep.histplot(ret[f\"{sample}/jets_pt_target\"], label=\"Target\")\n",
    "    mplhep.histplot(ret[f\"{sample}/jets_pt_target_pumask\"], label=\"Target, PU mask\", ls=\"--\")\n",
    "    plt.xscale(\"log\")\n",
    "    plt.legend()\n",
    "    cms_label(ax)\n",
    "    sample_label(ax, sample, \"AK4 jets\")\n",
    "    plt.yscale(\"log\")\n",
    "    plt.ylim(1,1e8)\n",
    "    plt.xlabel(\"jet \" + plot_utils.labels[\"pt\"])\n",
    "    plt.ylabel(\"Count\")\n",
    "    save_img(\"{}_jet_pt.png\".format(sample.replace(\"/\", \"_\")), cp_dir=Path(\"./\"))\n",
    "    plt.show()"
   ]
  },
  {
   "cell_type": "code",
   "execution_count": null,
   "id": "1f925ee0-1e32-4e69-83eb-ee3429ff0854",
   "metadata": {},
   "outputs": [],
   "source": [
    "rebin = 5\n",
    "for sample in sample_keys:\n",
    "    plt.figure()\n",
    "    ax = plt.axes()\n",
    "    mplhep.histplot(0.0*ret[f\"{sample}/jets_pt_ratio_cand\"][bh.rebin(rebin)], yerr=False)\n",
    "    mplhep.histplot(ret[f\"{sample}/jets_pt_ratio_cand\"][bh.rebin(rebin)], yerr=False, label=\"PF\")\n",
    "    # mplhep.histplot(ret[f\"{sample}/jets_pt_ratio_caloparticle\"][bh.rebin(rebin)], yerr=False, label=\"CaloParticle\")\n",
    "    mplhep.histplot(ret[f\"{sample}/jets_pt_ratio_target\"][bh.rebin(rebin)], yerr=False, label=\"Target\")\n",
    "    mplhep.histplot(ret[f\"{sample}/jets_pt_ratio_target_pumask\"][bh.rebin(rebin)], yerr=False, label=\"Target, PU mask\", ls=\"--\")\n",
    "    plt.legend()\n",
    "    cms_label(ax)\n",
    "    sample_label(ax, sample, \"AK4 jets\")\n",
    "    plt.yscale(\"log\")\n",
    "    plt.ylim(1,1e8)\n",
    "    plt.xlabel(plot_utils.labels[\"pt_response\"])\n",
    "    plt.ylabel(\"Count\")\n",
    "    save_img(\"{}_jet_response.png\".format(sample.replace(\"/\", \"_\")), cp_dir=Path(\"./\"))\n",
    "    plt.show()"
   ]
  },
  {
   "cell_type": "code",
   "execution_count": null,
   "id": "bd41c930-93ac-4acd-a3db-88146ccdb67a",
   "metadata": {},
   "outputs": [],
   "source": [
    "rebin = 1\n",
    "for sample in sample_keys:\n",
    "    plt.figure()\n",
    "    ax = plt.axes()\n",
    "    mplhep.histplot(ret[f\"{sample}/met_pythia\"][bh.rebin(rebin)], yerr=False, label=\"Pythia\")\n",
    "    mplhep.histplot(ret[f\"{sample}/met_cand\"][bh.rebin(rebin)], yerr=False, label=\"PF\")\n",
    "    mplhep.histplot(ret[f\"{sample}/met_target\"][bh.rebin(rebin)], yerr=False, label=\"Target\")\n",
    "    mplhep.histplot(ret[f\"{sample}/met_target_pumask\"][bh.rebin(rebin)], yerr=False, label=\"Target, PU mask\", ls=\"--\")\n",
    "    plt.legend(loc=1)\n",
    "    plt.yscale(\"log\")\n",
    "    plt.xscale(\"log\")\n",
    "    cms_label(ax)\n",
    "    sample_label(ax, sample)\n",
    "    plt.ylim(1,1e8)\n",
    "    plt.xlabel(plot_utils.labels[\"met\"])\n",
    "    plt.ylabel(\"Count\")\n",
    "    save_img(\"{}_met.png\".format(sample.replace(\"/\", \"_\")), cp_dir=Path(\"./\"))\n",
    "    plt.show()"
   ]
  },
  {
   "cell_type": "code",
   "execution_count": null,
   "id": "03d173cd-1528-41fb-9ea4-2e490d739990",
   "metadata": {},
   "outputs": [],
   "source": [
    "!ls *.pdf"
   ]
  },
  {
   "cell_type": "code",
   "execution_count": null,
   "id": "952d1a5c-9f47-41b6-94dc-2534af90259f",
   "metadata": {},
   "outputs": [],
   "source": []
  }
 ],
 "metadata": {
  "kernelspec": {
   "display_name": "Python 3 (ipykernel)",
   "language": "python",
   "name": "python3"
  },
  "language_info": {
   "codemirror_mode": {
    "name": "ipython",
    "version": 3
   },
   "file_extension": ".py",
   "mimetype": "text/x-python",
   "name": "python",
   "nbconvert_exporter": "python",
   "pygments_lexer": "ipython3",
   "version": "3.11.10"
  }
 },
 "nbformat": 4,
 "nbformat_minor": 5
}
