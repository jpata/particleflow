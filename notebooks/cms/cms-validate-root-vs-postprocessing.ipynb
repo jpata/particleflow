{
 "cells": [
  {
   "cell_type": "code",
   "execution_count": null,
   "id": "4509c816-27bf-47c1-aac6-bf0157c2f978",
   "metadata": {},
   "outputs": [],
   "source": [
    "import sklearn\n",
    "import sklearn.metrics\n",
    "import numpy as np\n",
    "import matplotlib.pyplot as plt\n",
    "import matplotlib\n",
    "import pandas\n",
    "import mplhep\n",
    "import pickle\n",
    "import awkward\n",
    "import glob\n",
    "import bz2\n",
    "import os\n",
    "import tqdm\n",
    "import fastjet\n",
    "import vector\n",
    "import uproot\n",
    "\n",
    "import pickle\n",
    "from functools import reduce\n",
    "import mplhep\n",
    "import boost_histogram as bh\n",
    "\n",
    "mplhep.style.use(\"CMS\")\n",
    "\n",
    "import sys\n",
    "sys.path += [\"../../mlpf/\"]\n",
    "sys.path += [\"../../mlpf/plotting/\"]\n",
    "\n",
    "from plot_utils import ELEM_LABELS_CMS, ELEM_NAMES_CMS\n",
    "from plot_utils import CLASS_LABELS_CMS, CLASS_NAMES_CMS\n",
    "from plot_utils import cms_label\n",
    "from plot_utils import pid_to_text"
   ]
  },
  {
   "cell_type": "code",
   "execution_count": null,
   "id": "a2b8a338-8b37-4d1f-afbc-595ca624bb4d",
   "metadata": {},
   "outputs": [],
   "source": [
    "def add_results(d0, d1):\n",
    "    d_ret = {}\n",
    "    k0 = set(d0.keys())\n",
    "    k1 = set(d1.keys())\n",
    "\n",
    "    for k in k0.intersection(k1):\n",
    "        d_ret[k] = d0[k] + d1[k]\n",
    "\n",
    "    for k in k0.difference(k1):\n",
    "        d_ret[k] = d0[k]\n",
    "\n",
    "    for k in k1.difference(k0):\n",
    "        d_ret[k] = d1[k]\n",
    "\n",
    "    return d_ret"
   ]
  },
  {
   "cell_type": "code",
   "execution_count": null,
   "id": "0603fd41-5810-45d3-995b-144e2fd83b88",
   "metadata": {},
   "outputs": [],
   "source": [
    "files = [pickle.load(open(fn, \"rb\")) for fn in glob.glob(\"../../plots2/out*.pkl\")]\n",
    "ret = reduce(add_results, files, {})\n",
    "\n",
    "sample_keys = sorted(set([\"/\".join(k.split(\"/\")[0:2]) for k in ret.keys() if not k.startswith(\"combined\")]))\n",
    "sample_keys_combined = sorted(set([\"/\".join(k.split(\"/\")[0:3]) for k in ret.keys() if k.startswith(\"combined\")]))"
   ]
  },
  {
   "cell_type": "code",
   "execution_count": null,
   "id": "27b10dc7-828d-483d-8b2a-2a4bfdfbb5ca",
   "metadata": {},
   "outputs": [],
   "source": [
    "sample_keys"
   ]
  },
  {
   "cell_type": "code",
   "execution_count": null,
   "id": "51bfc908-b3e6-45ad-bef5-000a7f9153ad",
   "metadata": {},
   "outputs": [],
   "source": [
    "sample_keys_combined"
   ]
  },
  {
   "cell_type": "code",
   "execution_count": null,
   "id": "e2079fc9-9694-4a35-929d-02da23e3d122",
   "metadata": {},
   "outputs": [],
   "source": [
    "for k in sorted(ret.keys()):\n",
    "    print(k)"
   ]
  },
  {
   "cell_type": "code",
   "execution_count": null,
   "id": "fee32aed-27f2-4c73-bcf3-4dd91ddddfe4",
   "metadata": {},
   "outputs": [],
   "source": [
    "sample_labels = {\n",
    "    \"QCDForPF_14TeV_TuneCUETP8M1_cfi\": r\"QCD $p_T \\in [15, 3000]\\ \\mathrm{GeV}$\",\n",
    "    \"ZTT_All_hadronic_14TeV_TuneCUETP8M1_cfi\": r\"$\\mathrm{Z}\\rightarrow \\mathrm{\\tau}\\mathrm{\\tau}$\",\n",
    "    \"TTbar_14TeV_TuneCUETP8M1_cfi\": r\"$\\mathrm{t}\\overline{\\mathrm{t}}$+jets\",\n",
    "}\n",
    "\n",
    "pu_labels = {\n",
    "    \"nopu\": \"no pileup\",\n",
    "    \"pu55to75\": \"PU 55-75\",\n",
    "}\n",
    "\n",
    "def sample_label(ax, sample, additional_text=\"\"):\n",
    "    spl = sample.split(\"/\")\n",
    "    pu_name = spl[-2]\n",
    "    sample_name = spl[-1]\n",
    "    plt.text(0.03, 0.97, sample_labels[sample_name] + \"\\n\" + pu_labels[pu_name] + \"\\n\" + additional_text, ha=\"left\", va=\"top\", transform=ax.transAxes)"
   ]
  },
  {
   "cell_type": "code",
   "execution_count": null,
   "id": "d0813f97-8e07-47aa-bfd0-d42d2afcd8ae",
   "metadata": {},
   "outputs": [],
   "source": [
    "for sample in sample_keys_combined:\n",
    "    plt.figure()\n",
    "    ax = plt.axes()\n",
    "    mplhep.histplot(ret[f\"{sample}/particles_pt_pythia\"], label=\"Pythia\")\n",
    "    mplhep.histplot(ret[f\"{sample}/particles_pt_caloparticle\"], label=\"CaloParticle\")\n",
    "    mplhep.histplot(ret[f\"{sample}/particles_pt_target\"], label=\"Target\")\n",
    "    mplhep.histplot(ret[f\"{sample}/particles_pt_target_pumask\"], label=\"Target, PU mask\", ls=\"--\")\n",
    "    plt.xscale(\"log\")\n",
    "    plt.yscale(\"log\")\n",
    "    plt.legend(loc=1)\n",
    "    plt.ylim(1, 1e8)\n",
    "    cms_label(ax)\n",
    "    sample_label(ax, sample)\n",
    "    plt.xlabel(\"particle $p_T$ [GeV]\")"
   ]
  },
  {
   "cell_type": "code",
   "execution_count": null,
   "id": "78d44a26-82c7-4d65-b4d3-f30ba66c40f2",
   "metadata": {},
   "outputs": [],
   "source": [
    "for pid in [11, 22, 211, 130]:\n",
    "    for sample in sample_keys_combined:\n",
    "        plt.figure()\n",
    "        ax = plt.axes()\n",
    "        mplhep.histplot(ret[f\"{sample}/particle_{pid}_pt_pythia\"], label=\"Pythia\")\n",
    "        mplhep.histplot(ret[f\"{sample}/particle_{pid}_pt_caloparticle\"], label=\"CaloParticle\")\n",
    "        mplhep.histplot(ret[f\"{sample}/particle_{pid}_pt_target\"], label=\"Target\")\n",
    "        mplhep.histplot(ret[f\"{sample}/particle_{pid}_pt_target_pumask\"], label=\"Target, PU mask\", ls=\"--\")\n",
    "        plt.xscale(\"log\")\n",
    "        plt.yscale(\"log\")\n",
    "        plt.legend(loc=1)\n",
    "        plt.ylim(1, 1e7)\n",
    "        cms_label(ax)\n",
    "        sample_label(ax, sample, str(pid))\n",
    "        plt.xlabel(\"particle $p_T$ [GeV]\")"
   ]
  },
  {
   "cell_type": "code",
   "execution_count": null,
   "id": "bbaa9d5a-56a0-4027-84cc-514267465797",
   "metadata": {},
   "outputs": [],
   "source": [
    "for sample in sample_keys:\n",
    "    plt.figure()\n",
    "    ax = plt.axes()\n",
    "    mplhep.histplot(ret[f\"{sample}/jets_pt_genjet\"], label=\"Pythia\")\n",
    "    mplhep.histplot(ret[f\"{sample}/jets_pt_cand\"], label=\"PF\")\n",
    "    mplhep.histplot(ret[f\"{sample}/jets_pt_target\"], label=\"Target\")\n",
    "    mplhep.histplot(ret[f\"{sample}/jets_pt_target_pumask\"], label=\"Target, PU mask\", ls=\"--\")\n",
    "    plt.xscale(\"log\")\n",
    "    plt.legend()\n",
    "    cms_label(ax)\n",
    "    sample_label(ax, sample)\n",
    "    plt.yscale(\"log\")\n",
    "    plt.ylim(1,1e8)\n",
    "    plt.xlabel(\"jet $p_T$ [GeV]\")"
   ]
  },
  {
   "cell_type": "code",
   "execution_count": null,
   "id": "1f925ee0-1e32-4e69-83eb-ee3429ff0854",
   "metadata": {},
   "outputs": [],
   "source": [
    "rebin = 5\n",
    "for sample in sample_keys:\n",
    "    plt.figure()\n",
    "    ax = plt.axes()\n",
    "    mplhep.histplot(0.0*ret[f\"{sample}/jets_pt_ratio_cand\"][bh.rebin(rebin)], yerr=False)\n",
    "    mplhep.histplot(ret[f\"{sample}/jets_pt_ratio_cand\"][bh.rebin(rebin)], yerr=False, label=\"PF\")\n",
    "    # mplhep.histplot(ret[f\"{sample}/jets_pt_ratio_caloparticle\"][bh.rebin(rebin)], yerr=False, label=\"CaloParticle\")\n",
    "    mplhep.histplot(ret[f\"{sample}/jets_pt_ratio_target\"][bh.rebin(rebin)], yerr=False, label=\"Target\")\n",
    "    mplhep.histplot(ret[f\"{sample}/jets_pt_ratio_target_pumask\"][bh.rebin(rebin)], yerr=False, label=\"Target, PU mask\", ls=\"--\")\n",
    "    plt.legend()\n",
    "    cms_label(ax)\n",
    "    sample_label(ax, sample)\n",
    "    plt.yscale(\"log\")\n",
    "    plt.ylim(1,1e8)\n",
    "    plt.xlabel(\"jet response $p_T/p_{T,Pythia}$\")"
   ]
  },
  {
   "cell_type": "code",
   "execution_count": null,
   "id": "bd41c930-93ac-4acd-a3db-88146ccdb67a",
   "metadata": {},
   "outputs": [],
   "source": [
    "rebin = 1\n",
    "for sample in sample_keys:\n",
    "    plt.figure()\n",
    "    ax = plt.axes()\n",
    "    mplhep.histplot(ret[f\"{sample}/met_pythia\"][bh.rebin(rebin)], yerr=False, label=\"Pythia\")\n",
    "    mplhep.histplot(ret[f\"{sample}/met_cand\"][bh.rebin(rebin)], yerr=False, label=\"PF\")\n",
    "    mplhep.histplot(ret[f\"{sample}/met_target\"][bh.rebin(rebin)], yerr=False, label=\"Target\")\n",
    "    mplhep.histplot(ret[f\"{sample}/met_target_pumask\"][bh.rebin(rebin)], yerr=False, label=\"Target, PU mask\", ls=\"--\")\n",
    "    plt.legend(loc=1)\n",
    "    plt.yscale(\"log\")\n",
    "    plt.xscale(\"log\")\n",
    "    cms_label(ax)\n",
    "    sample_label(ax, sample)\n",
    "    plt.ylim(1,1e8)\n",
    "    plt.xlabel(\"MET [GeV]\")"
   ]
  }
 ],
 "metadata": {
  "kernelspec": {
   "display_name": "Python 3 (ipykernel)",
   "language": "python",
   "name": "python3"
  },
  "language_info": {
   "codemirror_mode": {
    "name": "ipython",
    "version": 3
   },
   "file_extension": ".py",
   "mimetype": "text/x-python",
   "name": "python",
   "nbconvert_exporter": "python",
   "pygments_lexer": "ipython3",
   "version": "3.11.9"
  }
 },
 "nbformat": 4,
 "nbformat_minor": 5
}
