{
 "cells": [
  {
   "cell_type": "code",
   "execution_count": null,
   "id": "37bcabee",
   "metadata": {},
   "outputs": [],
   "source": [
    "%matplotlib inline"
   ]
  },
  {
   "cell_type": "code",
   "execution_count": null,
   "id": "57fe9bee",
   "metadata": {},
   "outputs": [],
   "source": [
    "import pandas as pd\n",
    "import json\n",
    "import glob\n",
    "import tqdm\n",
    "import matplotlib.pyplot as plt\n",
    "import numpy as np\n",
    "\n",
    "import sklearn\n",
    "import sklearn.metrics\n",
    "import matplotlib\n",
    "import scipy\n",
    "import mplhep\n",
    "import os\n",
    "import awkward\n",
    "\n",
    "import vector\n",
    "import fastjet\n",
    "import awkward as ak\n",
    "\n",
    "import pandas\n",
    "import boost_histogram as bh\n",
    "import itertools\n",
    "import mplhep\n",
    "\n",
    "mplhep.set_style(mplhep.styles.CMS)"
   ]
  },
  {
   "cell_type": "code",
   "execution_count": null,
   "id": "06d0118c",
   "metadata": {},
   "outputs": [],
   "source": [
    "import sys\n",
    "\n",
    "sys.path += [\"../mlpf/plotting/\"]\n",
    "\n",
    "import plot_utils\n",
    "from plot_utils import pid_to_text, load_eval_data, compute_jet_ratio\n",
    "\n",
    "from plot_utils import cms_label, sample_label\n",
    "from plot_utils import ELEM_LABELS_CMS, ELEM_NAMES_CMS\n",
    "from plot_utils import CLASS_LABELS_CMS, CLASS_NAMES_CMS"
   ]
  },
  {
   "cell_type": "code",
   "execution_count": null,
   "id": "cb2cc30e",
   "metadata": {},
   "outputs": [],
   "source": [
    "def sum_overflow_into_last_bin(all_values):\n",
    "    values = all_values[1:-1]\n",
    "    values[-1] = values[-1] + all_values[-1]\n",
    "    values[0] = values[0] + all_values[0]\n",
    "    return values\n",
    "\n",
    "\n",
    "def to_bh(data, bins, cumulative=False):\n",
    "    h1 = bh.Histogram(bh.axis.Variable(bins))\n",
    "    h1.fill(data)\n",
    "    if cumulative:\n",
    "        h1[:] = np.sum(h1.values()) - np.cumsum(h1)\n",
    "    h1[:] = sum_overflow_into_last_bin(h1.values(flow=True)[:])\n",
    "    return h1\n",
    "\n",
    "\n",
    "def loss_plot(train, test, margin=0.05, smoothing=False):\n",
    "    fig = plt.figure()\n",
    "    ax = plt.axes()\n",
    "\n",
    "    alpha = 0.2 if smoothing else 1.0\n",
    "    l0 = None if smoothing else \"train\"\n",
    "    l1 = None if smoothing else \"test\"\n",
    "    p0 = plt.plot(train, alpha=alpha, label=l0)\n",
    "    p1 = plt.plot(test, alpha=alpha, label=l1)\n",
    "\n",
    "    if smoothing:\n",
    "        train_smooth = np.convolve(train, np.ones(5) / 5, mode=\"valid\")\n",
    "        plt.plot(train_smooth, color=p0[0].get_color(), lw=2, label=\"train\")\n",
    "        test_smooth = np.convolve(test, np.ones(5) / 5, mode=\"valid\")\n",
    "        plt.plot(test_smooth, color=p1[0].get_color(), lw=2, label=\"test\")\n",
    "\n",
    "    plt.ylim(test[-1] * (1.0 - margin), test[-1] * (1.0 + margin))\n",
    "    plt.legend(loc=3, frameon=False)\n",
    "    plt.xlabel(\"epoch\")\n",
    "    cms_label(ax)\n",
    "\n",
    "\n",
    "def med_iqr(arr):\n",
    "    p25 = np.percentile(arr, 25)\n",
    "    p50 = np.percentile(arr, 50)\n",
    "    p75 = np.percentile(arr, 75)\n",
    "    return p50, p75 - p25\n",
    "\n",
    "\n",
    "def flatten(arr):\n",
    "    return arr.reshape(-1, arr.shape[-1])\n",
    "\n",
    "\n",
    "def get_distribution(prefix, bins, var):\n",
    "\n",
    "    hists = []\n",
    "    for pid in [13, 11, 22, 1, 2, 130, 211]:\n",
    "        icls = CLASS_LABELS_CMS.index(pid)\n",
    "        msk_pid = yvals_f[prefix + \"_cls_id\"] == icls\n",
    "        h = bh.Histogram(bh.axis.Variable(bins))\n",
    "        d = yvals_f[prefix + \"_\" + var][msk_pid]\n",
    "        h.fill(d.flatten())\n",
    "        hists.append(h)\n",
    "    return hists\n",
    "\n",
    "\n",
    "def binom_error(n_sig, n_tot):\n",
    "    \"\"\"\n",
    "    for an efficiency = nSig/nTrueSig or purity = nSig / (nSig + nBckgrd), this function calculates the\n",
    "    standard deviation according to http://arxiv.org/abs/physics/0701199 .\n",
    "    \"\"\"\n",
    "    variance = np.where(\n",
    "        n_tot > 0, (n_sig + 1) * (n_sig + 2) / ((n_tot + 2) * (n_tot + 3)) - (n_sig + 1) ** 2 / ((n_tot + 2) ** 2), 0\n",
    "    )\n",
    "    return np.sqrt(variance)\n",
    "\n",
    "\n",
    "def reso_plot(pid, var, bins, ptcl_name):\n",
    "\n",
    "    fig = plt.figure()\n",
    "    ax = plt.axes()\n",
    "\n",
    "    msk = (yvals[\"gen_cls_id\"] == pid) & (yvals[\"cand_cls_id\"] != 0) & (yvals[\"pred_cls_id\"] != 0)\n",
    "    vals_gen = awkward.flatten(yvals[\"gen_\" + var][msk])\n",
    "    vals_cand = awkward.flatten(yvals[\"cand_\" + var][msk])\n",
    "    vals_mlpf = awkward.flatten(yvals[\"pred_\" + var][msk])\n",
    "\n",
    "    reso_1 = vals_cand / vals_gen\n",
    "    reso_2 = vals_mlpf / vals_gen\n",
    "    plt.hist(reso_1, bins=bins, histtype=\"step\", lw=2, label=\"PF, M={:.2f}, IQR={:.2f}\".format(*med_iqr(reso_1)))\n",
    "    plt.hist(reso_2, bins=bins, histtype=\"step\", lw=2, label=\"MLPF, M={:.2f}, IQR={:.2f}\".format(*med_iqr(reso_2)))\n",
    "    plt.yscale(\"log\")\n",
    "    if var == \"pt\":\n",
    "        plt.xlabel(r\"$p_\\mathrm{T,reco} / p_\\mathrm{T,gen}$\")\n",
    "    elif var == \"eta\":\n",
    "        plt.xlabel(r\"$\\eta_\\mathrm{reco} / \\eta_\\mathrm{gen}$\")\n",
    "    plt.ylabel(\"Number of particles / bin\")\n",
    "    cms_label(ax)\n",
    "    sample_label(ax, physics_process, ptcl_name)\n",
    "    plt.xlim(min(bins), max(bins))\n",
    "    plt.legend(loc=(0.4, 0.7))\n",
    "    # plt.ylim(1, 1e9)\n",
    "    # plt.savefig(\"{}/pt_res_ch_had.pdf\".format(outpath), bbox_inches=\"tight\")\n",
    "\n",
    "\n",
    "def plot_eff_and_fake_rate(icls=1, ivar=4, ielem=1, bins=np.linspace(-3, 6, 100), xlabel=\"PFElement log[E/GeV]\", log=True):\n",
    "\n",
    "    values = X[:, :, ivar]\n",
    "\n",
    "    hist_X = bh.Histogram(bh.axis.Variable(bins))\n",
    "    hist_gen = bh.Histogram(bh.axis.Variable(bins))\n",
    "    hist_gen_pred = bh.Histogram(bh.axis.Variable(bins))\n",
    "    hist_gen_cand = bh.Histogram(bh.axis.Variable(bins))\n",
    "    hist_pred = bh.Histogram(bh.axis.Variable(bins))\n",
    "    hist_cand = bh.Histogram(bh.axis.Variable(bins))\n",
    "    hist_pred_fake = bh.Histogram(bh.axis.Variable(bins))\n",
    "    hist_cand_fake = bh.Histogram(bh.axis.Variable(bins))\n",
    "\n",
    "    eff_mlpf = bh.Histogram(bh.axis.Variable(bins), storage=bh.storage.Weight())\n",
    "    eff_pf = bh.Histogram(bh.axis.Variable(bins), storage=bh.storage.Weight())\n",
    "    fake_pf = bh.Histogram(bh.axis.Variable(bins), storage=bh.storage.Weight())\n",
    "    fake_mlpf = bh.Histogram(bh.axis.Variable(bins), storage=bh.storage.Weight())\n",
    "\n",
    "    if ielem == 45:\n",
    "        msk_X = (X[:, :, 0] == 4) | (X[:, :, 0] == 5)\n",
    "    else:\n",
    "        msk_X = X[:, :, 0] == ielem\n",
    "\n",
    "    msk_gen = yvals[\"gen_cls_id\"] == icls\n",
    "    msk_nogen = yvals[\"gen_cls_id\"] != icls\n",
    "\n",
    "    msk_pred = yvals[\"pred_cls_id\"] == icls\n",
    "    msk_nopred = yvals[\"pred_cls_id\"] != icls\n",
    "\n",
    "    msk_cand = yvals[\"cand_cls_id\"] == icls\n",
    "    msk_nocand = yvals[\"cand_cls_id\"] != icls\n",
    "\n",
    "    hist_X.fill(awkward.flatten(values[msk_X]))\n",
    "    hist_gen.fill(awkward.flatten(values[msk_gen & msk_X]))\n",
    "    hist_pred.fill(awkward.flatten(values[msk_pred & msk_X]))\n",
    "    hist_cand.fill(awkward.flatten(values[msk_cand & msk_X]))\n",
    "\n",
    "    # Genparticle exists, reco particle exists\n",
    "    hist_gen_pred.fill(awkward.flatten(values[msk_gen & msk_pred & msk_X]))\n",
    "    hist_gen_cand.fill(awkward.flatten(values[msk_gen & msk_cand & msk_X]))\n",
    "\n",
    "    # Genparticle does not exist, reco particle exists\n",
    "    hist_pred_fake.fill(awkward.flatten(values[msk_nogen & msk_pred & msk_X]))\n",
    "    hist_cand_fake.fill(awkward.flatten(values[msk_nogen & msk_cand & msk_X]))\n",
    "\n",
    "    eff_mlpf.values()[:] = hist_gen_pred.values() / hist_gen.values()\n",
    "    eff_mlpf.variances()[:] = binom_error(hist_gen_pred.values(), hist_gen.values()) ** 2\n",
    "\n",
    "    eff_pf.values()[:] = hist_gen_cand.values() / hist_gen.values()\n",
    "    eff_pf.variances()[:] = binom_error(hist_gen_cand.values(), hist_gen.values()) ** 2\n",
    "\n",
    "    fake_pf.values()[:] = hist_cand_fake.values() / hist_cand.values()\n",
    "    fake_pf.variances()[:] = binom_error(hist_cand_fake.values(), hist_cand.values()) ** 2\n",
    "\n",
    "    fake_mlpf.values()[:] = hist_pred_fake.values() / hist_pred.values()\n",
    "    fake_mlpf.variances()[:] = binom_error(hist_pred_fake.values(), hist_pred.values()) ** 2\n",
    "\n",
    "    plt.figure()\n",
    "    ax = plt.axes()\n",
    "    mplhep.histplot(hist_X, label=\"all PFElements\", color=\"black\")\n",
    "    mplhep.histplot(hist_cand, label=\"with PF\")\n",
    "    mplhep.histplot(hist_pred, label=\"with MLPF reco\")\n",
    "    mplhep.histplot(hist_gen, label=\"with MLPF truth\")\n",
    "    plt.ylabel(\"Number of PFElements / bin\")\n",
    "    plt.xlabel(xlabel)\n",
    "    cms_label(ax)\n",
    "    plt.yscale(\"log\")\n",
    "    sample_label(ax, physics_process, \", \" + CLASS_NAMES_CMS[icls])\n",
    "    if log:\n",
    "        plt.xscale(\"log\")\n",
    "    plt.legend(loc=(0.6, 0.65))\n",
    "    plt.ylim(10, 20 * np.max(hist_X.values()))\n",
    "    plt.xlim(min(bins), max(bins))\n",
    "    plt.savefig(\"{}/distr_icls{}_ivar{}.pdf\".format(outpath, icls, ivar), bbox_inches=\"tight\")\n",
    "\n",
    "    plt.figure()\n",
    "    ax = plt.axes(sharex=ax)\n",
    "    mplhep.histplot(eff_pf, label=\"PF\")\n",
    "    mplhep.histplot(eff_mlpf, label=\"MLPF\")\n",
    "    plt.ylim(0, 1.5)\n",
    "    plt.ylabel(\"Efficiency\")\n",
    "    plt.xlabel(xlabel)\n",
    "    cms_label(ax)\n",
    "    sample_label(ax, physics_process, \", \" + CLASS_NAMES_CMS[icls])\n",
    "    if log:\n",
    "        plt.xscale(\"log\")\n",
    "    plt.legend(loc=(0.75, 0.7))\n",
    "    plt.xlim(min(bins), max(bins))\n",
    "    plt.savefig(\"{}/eff_icls{}_ivar{}.pdf\".format(outpath, icls, ivar), bbox_inches=\"tight\")\n",
    "\n",
    "    plt.figure()\n",
    "    ax = plt.axes(sharex=ax)\n",
    "    mplhep.histplot(fake_pf, label=\"PF\")\n",
    "    mplhep.histplot(fake_mlpf, label=\"MLPF\")\n",
    "    plt.ylim(0, 1.5)\n",
    "    plt.ylabel(\"Fake rate\")\n",
    "    plt.xlabel(xlabel)\n",
    "    cms_label(ax)\n",
    "    sample_label(ax, physics_process, \", \" + CLASS_NAMES_CMS[icls])\n",
    "    if log:\n",
    "        plt.xscale(\"log\")\n",
    "    plt.legend(loc=(0.75, 0.7))\n",
    "    plt.xlim(min(bins), max(bins))\n",
    "    plt.savefig(\"{}/fake_icls{}_ivar{}.pdf\".format(outpath, icls, ivar), bbox_inches=\"tight\")\n",
    "\n",
    "    # mplhep.histplot(fake, bins=hist_gen[1], label=\"fake rate\", color=\"red\")\n",
    "\n",
    "\n",
    "#     plt.legend(frameon=False)\n",
    "#     plt.ylim(0,1.4)\n",
    "#     plt.xlabel(xlabel)\n",
    "#     plt.ylabel(\"Fraction of particles / bin\")"
   ]
  },
  {
   "cell_type": "code",
   "execution_count": null,
   "id": "a1e4533a",
   "metadata": {
    "tags": [
     "parameters"
    ]
   },
   "outputs": [],
   "source": [
    "# These can be overriden from the command line using `papermill cms-mlpf.ipynb -p path new/path/...`\n",
    "backend = \"tf\"\n",
    "sample = \"cms_pf_single_neutron\"\n",
    "\n",
    "if sample == \"cms_pf_ttbar\":\n",
    "    physics_process = \"TTbar_14TeV_TuneCUETP8M1_cfi\"\n",
    "if sample == \"cms_pf_ztt\":\n",
    "    physics_process = \"ZTT_All_hadronic_14TeV_TuneCUETP8M1_cfi\"\n",
    "if sample == \"cms_pf_qcd\":\n",
    "    physics_process = \"QCDForPF_14TeV_TuneCUETP8M1_cfi\"\n",
    "if sample == \"cms_pf_qcd_high_pt\":\n",
    "    physics_process = \"QCD_Pt_3000_7000_14TeV_TuneCUETP8M1_cfi\"\n",
    "\n",
    "path = \"../experiments/cms-gen_20221214_100045_479841.nid005110/evaluation/epoch_8/{}/\".format(sample)\n",
    "PAPERMILL_OUTPUT_PATH = path"
   ]
  },
  {
   "cell_type": "code",
   "execution_count": null,
   "id": "0467b0ee",
   "metadata": {},
   "outputs": [],
   "source": [
    "outpath = PAPERMILL_OUTPUT_PATH\n",
    "if os.path.isfile(outpath):\n",
    "    outpath = os.path.dirname(outpath)\n",
    "print(\"params\", path, outpath)"
   ]
  },
  {
   "cell_type": "markdown",
   "id": "7457e2d7",
   "metadata": {},
   "source": [
    "# Load the predictions"
   ]
  },
  {
   "cell_type": "code",
   "execution_count": null,
   "id": "16c957e3",
   "metadata": {},
   "outputs": [],
   "source": [
    "yvals, X, _ = load_eval_data(path + \"/*.parquet\", 100)"
   ]
  },
  {
   "cell_type": "markdown",
   "id": "4f34de51",
   "metadata": {},
   "source": [
    "# Make plots"
   ]
  },
  {
   "cell_type": "markdown",
   "id": "b42a73e0",
   "metadata": {},
   "source": [
    "### Full distribution plots for each class"
   ]
  },
  {
   "cell_type": "code",
   "execution_count": null,
   "id": "50a08aa2",
   "metadata": {
    "scrolled": false
   },
   "outputs": [],
   "source": [
    "for icls in range(0, 8):\n",
    "    fig, axs = plt.subplots(\n",
    "        2, 2, figsize=(2 * mplhep.styles.CMS[\"figure.figsize\"][0], 2 * mplhep.styles.CMS[\"figure.figsize\"][1])\n",
    "    )\n",
    "\n",
    "    for ax, ivar in zip(axs.flatten(), [\"pt\", \"energy\", \"eta\", \"phi\"]):\n",
    "\n",
    "        plt.sca(ax)\n",
    "\n",
    "        if icls == 0:\n",
    "            vals_true = awkward.flatten(yvals[\"gen_\" + ivar][yvals[\"gen_cls_id\"] != 0])\n",
    "            vals_pf = awkward.flatten(yvals[\"cand_\" + ivar][yvals[\"cand_cls_id\"] != 0])\n",
    "            vals_pred = awkward.flatten(yvals[\"pred_\" + ivar][yvals[\"pred_cls_id\"] != 0])\n",
    "        else:\n",
    "            vals_true = awkward.flatten(yvals[\"gen_\" + ivar][yvals[\"gen_cls_id\"] == icls])\n",
    "            vals_pf = awkward.flatten(yvals[\"cand_\" + ivar][yvals[\"cand_cls_id\"] == icls])\n",
    "            vals_pred = awkward.flatten(yvals[\"pred_\" + ivar][yvals[\"pred_cls_id\"] == icls])\n",
    "\n",
    "        if ivar == \"pt\" or ivar == \"energy\":\n",
    "            b = np.logspace(-3, 4, 61)\n",
    "            log = True\n",
    "        else:\n",
    "            b = np.linspace(np.min(vals_true), np.max(vals_true), 41)\n",
    "            log = False\n",
    "\n",
    "        plt.hist(vals_true, bins=b, histtype=\"step\", lw=2, label=\"gen\", color=\"black\")\n",
    "        plt.hist(vals_pf, bins=b, histtype=\"step\", lw=2, label=\"PF\")\n",
    "        plt.hist(vals_pred, bins=b, histtype=\"step\", lw=2, label=\"MLPF\")\n",
    "        plt.legend(loc=(0.75, 0.75))\n",
    "\n",
    "        ylim = ax.get_ylim()\n",
    "\n",
    "        cls_name = CLASS_NAMES_CMS[icls] if icls > 0 else \"all\"\n",
    "        plt.xlabel(\"{} {}\".format(cls_name, ivar))\n",
    "\n",
    "        plt.yscale(\"log\")\n",
    "        plt.ylim(10, 10 * ylim[1])\n",
    "\n",
    "        if log:\n",
    "            plt.xscale(\"log\")\n",
    "        cms_label(ax)\n",
    "\n",
    "    plt.tight_layout()\n",
    "    plt.savefig(\"{}/distribution_icls{}.pdf\".format(outpath, icls), bbox_inches=\"tight\")"
   ]
  },
  {
   "cell_type": "markdown",
   "id": "4b506f28",
   "metadata": {},
   "source": [
    "### Plot of the neutral cluster classification output"
   ]
  },
  {
   "cell_type": "code",
   "execution_count": null,
   "id": "441475de",
   "metadata": {},
   "outputs": [],
   "source": [
    "df = pandas.DataFrame()\n",
    "msk = X[:, :, 0] == 5\n",
    "df[\"X_energy\"] = awkward.to_numpy(awkward.flatten(X[msk, 4]))\n",
    "df[\"X_eta\"] = awkward.to_numpy(awkward.flatten(X[msk, 2]))\n",
    "\n",
    "df[\"cand_energy\"] = awkward.to_numpy(awkward.flatten(yvals[\"cand_energy\"][msk]))\n",
    "df[\"cand_cls_id\"] = awkward.to_numpy(awkward.flatten(yvals[\"cand_cls_id\"][msk]))\n",
    "\n",
    "df[\"gen_energy\"] = awkward.to_numpy(awkward.flatten(yvals[\"gen_energy\"][msk]))\n",
    "df[\"gen_cls_id\"] = awkward.to_numpy(awkward.flatten(yvals[\"gen_cls_id\"][msk]))\n",
    "\n",
    "df[\"pred_energy\"] = awkward.to_numpy(awkward.flatten(yvals[\"pred_energy\"][msk]))\n",
    "df[\"pred_cls_id\"] = awkward.to_numpy(awkward.flatten(yvals[\"pred_cls_id\"][msk]))\n",
    "\n",
    "df[\"pred_cls0\"] = awkward.to_numpy(awkward.flatten(yvals[\"pred_cls\"][msk, 0]))\n",
    "df[\"pred_cls1\"] = awkward.to_numpy(awkward.flatten(yvals[\"pred_cls\"][msk, 1]))\n",
    "df[\"pred_cls2\"] = awkward.to_numpy(awkward.flatten(yvals[\"pred_cls\"][msk, 2]))"
   ]
  },
  {
   "cell_type": "code",
   "execution_count": null,
   "id": "b838053b",
   "metadata": {},
   "outputs": [],
   "source": [
    "b = np.linspace(0, 1, 100)\n",
    "plt.figure(figsize=(15, 15))\n",
    "\n",
    "ax = plt.subplot(3, 1, 1)\n",
    "plt.xlim(0, 1)\n",
    "msk = df[\"X_energy\"] < 1\n",
    "plt.hist(\n",
    "    df[\"pred_cls2\"][(df[\"gen_cls_id\"] == 0) & msk], bins=b, histtype=\"step\", lw=2, color=\"red\", label=\"no true particle\"\n",
    ")\n",
    "plt.hist(df[\"pred_cls2\"][(df[\"gen_cls_id\"] == 2) & msk], bins=b, histtype=\"step\", lw=2, color=\"blue\", label=\"true n.had.\")\n",
    "plt.yscale(\"log\")\n",
    "plt.legend(loc=4)\n",
    "ax.text(0.01, 0.7, \"PFElement E < 1 GeV\", transform=ax.transAxes)\n",
    "plt.ylabel(\"PFElements / bin\")\n",
    "plt.xlabel(\"Classification output for neutral hadron\")\n",
    "cms_label(ax, y=0.9)\n",
    "sample_label(ax, physics_process, y=0.8)\n",
    "plt.ylim(1, 1e7)\n",
    "\n",
    "ax = plt.subplot(3, 1, 2)\n",
    "plt.xlim(0, 1)\n",
    "msk = (df[\"X_energy\"] > 1) & (df[\"X_energy\"] < 10)\n",
    "plt.hist(\n",
    "    df[\"pred_cls2\"][(df[\"gen_cls_id\"] == 0) & msk], bins=b, histtype=\"step\", lw=2, color=\"red\", label=\"no true particle\"\n",
    ")\n",
    "plt.hist(df[\"pred_cls2\"][(df[\"gen_cls_id\"] == 2) & msk], bins=b, histtype=\"step\", lw=2, color=\"blue\", label=\"true n.had.\")\n",
    "plt.yscale(\"log\")\n",
    "plt.ylabel(\"PFElements / bin\")\n",
    "ax.text(0.01, 0.7, \"1 < PFElement E < 10 GeV\", transform=ax.transAxes)\n",
    "plt.ylim(1, 1e7)\n",
    "plt.xlabel(\"Classification output for neutral hadron\")\n",
    "cms_label(ax, y=0.9)\n",
    "sample_label(ax, physics_process, y=0.8)\n",
    "\n",
    "ax = plt.subplot(3, 1, 3)\n",
    "plt.xlim(0, 1)\n",
    "msk = (df[\"X_energy\"] > 10) & (df[\"X_energy\"] < 100)\n",
    "plt.hist(\n",
    "    df[\"pred_cls2\"][(df[\"gen_cls_id\"] == 0) & msk], bins=b, histtype=\"step\", lw=2, color=\"red\", label=\"no true particle\"\n",
    ")\n",
    "plt.hist(df[\"pred_cls2\"][(df[\"gen_cls_id\"] == 2) & msk], bins=b, histtype=\"step\", lw=2, color=\"blue\", label=\"true n.had.\")\n",
    "plt.yscale(\"log\")\n",
    "plt.ylabel(\"PFElements / bin\")\n",
    "ax.text(0.01, 0.7, \"10 < PFElement E < 100 GeV\", transform=ax.transAxes)\n",
    "plt.xlabel(\"Classification output for neutral hadron\")\n",
    "plt.ylim(1, 1e7)\n",
    "cms_label(ax, y=0.9)\n",
    "sample_label(ax, physics_process, y=0.8)\n",
    "\n",
    "plt.tight_layout()\n",
    "\n",
    "plt.savefig(\"{}/clsout_ielem5_icls2.pdf\".format(outpath), bbox_inches=\"tight\")"
   ]
  },
  {
   "cell_type": "code",
   "execution_count": null,
   "id": "92489a43",
   "metadata": {},
   "outputs": [],
   "source": [
    "gen_cls_id = yvals[\"gen_cls_id\"]\n",
    "gen_pt = yvals[\"gen_pt\"][gen_cls_id != 0]\n",
    "gen_eta = yvals[\"gen_eta\"][gen_cls_id != 0]\n",
    "gen_phi = yvals[\"gen_phi\"][gen_cls_id != 0]\n",
    "gen_e = yvals[\"gen_energy\"][gen_cls_id != 0]\n",
    "gen_cls_id = gen_cls_id[gen_cls_id != 0]\n",
    "\n",
    "cand_cls_id = yvals[\"cand_cls_id\"]\n",
    "cand_pt = yvals[\"cand_pt\"][cand_cls_id != 0]\n",
    "cand_eta = yvals[\"cand_eta\"][cand_cls_id != 0]\n",
    "cand_phi = yvals[\"cand_phi\"][cand_cls_id != 0]\n",
    "cand_e = yvals[\"cand_energy\"][cand_cls_id != 0]\n",
    "cand_cls_id = cand_cls_id[cand_cls_id != 0]\n",
    "\n",
    "pred_cls_id = yvals[\"pred_cls_id\"]\n",
    "pred_pt = yvals[\"pred_pt\"][pred_cls_id != 0]\n",
    "pred_eta = yvals[\"pred_eta\"][pred_cls_id != 0]\n",
    "pred_phi = yvals[\"pred_phi\"][pred_cls_id != 0]\n",
    "pred_e = yvals[\"pred_energy\"][pred_cls_id != 0]\n",
    "pred_cls_id = pred_cls_id[pred_cls_id != 0]"
   ]
  },
  {
   "cell_type": "code",
   "execution_count": null,
   "id": "b84a85e2",
   "metadata": {},
   "outputs": [],
   "source": [
    "b = np.logspace(-1, 4, 101)\n",
    "\n",
    "f, (a0, a1) = plt.subplots(2, 1, gridspec_kw={\"height_ratios\": [3, 1]}, sharex=True)\n",
    "\n",
    "plt.sca(a0)\n",
    "\n",
    "h0 = to_bh(ak.flatten(cand_pt[cand_cls_id != 0]), b)\n",
    "h1 = to_bh(ak.flatten(pred_pt[pred_cls_id != 0]), b)\n",
    "h2 = to_bh(ak.flatten(gen_pt[gen_cls_id != 0]), b)\n",
    "\n",
    "mplhep.histplot(h0, histtype=\"step\", lw=2, label=\"PF\")\n",
    "mplhep.histplot(h1, histtype=\"step\", lw=2, label=\"MLPF\")\n",
    "mplhep.histplot(h2, histtype=\"step\", lw=2, label=\"MLPF truth\")\n",
    "plt.xscale(\"log\")\n",
    "plt.yscale(\"log\")\n",
    "plt.legend(frameon=False)\n",
    "plt.ylabel(\"number of particles / bin\")\n",
    "\n",
    "plt.sca(a1)\n",
    "mplhep.histplot(h0 / h2, histtype=\"step\", lw=2)\n",
    "mplhep.histplot(h1 / h2, histtype=\"step\", lw=2)\n",
    "mplhep.histplot(h2 / h2, histtype=\"step\", lw=2)\n",
    "plt.ylim(0, 2)\n",
    "plt.ylabel(\"reco / truth\")\n",
    "plt.xlabel(\"particle $p_T$ [GeV]\")"
   ]
  },
  {
   "cell_type": "code",
   "execution_count": null,
   "id": "e5e69c33",
   "metadata": {},
   "outputs": [],
   "source": [
    "b = np.linspace(-6, 6, 41)\n",
    "\n",
    "f, (a0, a1) = plt.subplots(2, 1, gridspec_kw={\"height_ratios\": [3, 1]}, sharex=True)\n",
    "\n",
    "plt.sca(a0)\n",
    "\n",
    "h0 = to_bh(ak.flatten(cand_eta[cand_cls_id != 0]), b)\n",
    "h1 = to_bh(ak.flatten(pred_eta[pred_cls_id != 0]), b)\n",
    "h2 = to_bh(ak.flatten(gen_eta[gen_cls_id != 0]), b)\n",
    "\n",
    "mplhep.histplot(h0, histtype=\"step\", lw=2, label=\"PF\")\n",
    "mplhep.histplot(h1, histtype=\"step\", lw=2, label=\"MLPF\")\n",
    "mplhep.histplot(h2, histtype=\"step\", lw=2, label=\"MLPF truth\")\n",
    "plt.legend(frameon=False)\n",
    "\n",
    "plt.sca(a1)\n",
    "mplhep.histplot(h0 / h2, histtype=\"step\", lw=2)\n",
    "mplhep.histplot(h1 / h2, histtype=\"step\", lw=2)\n",
    "mplhep.histplot(h2 / h2, histtype=\"step\", lw=2)\n",
    "plt.ylabel(\"reco / truth\")\n",
    "plt.xlabel(\"particle $\\eta$\")\n",
    "plt.ylim(0, 2)"
   ]
  },
  {
   "cell_type": "code",
   "execution_count": null,
   "id": "668b4c34",
   "metadata": {},
   "outputs": [],
   "source": [
    "fig = plt.figure(figsize=(10, 10))\n",
    "ax = plt.axes()\n",
    "b = np.logspace(-2, 4, 101)\n",
    "hs = []\n",
    "pids = [1, 2, 11, 13, 22, 130, 211]\n",
    "\n",
    "colors = plt.cm.get_cmap(\"tab20c\", len(pids))\n",
    "labels = []\n",
    "for pid in pids[::-1]:\n",
    "    pid_idx = CLASS_LABELS_CMS.index(pid)\n",
    "    pt_pid = ak.flatten(pred_pt[pred_cls_id == pid_idx])\n",
    "    hs.append(np.histogram(pt_pid, bins=b))\n",
    "    labels.append(CLASS_NAMES_CMS[CLASS_LABELS_CMS.index(pid)])\n",
    "mplhep.histplot(hs, stack=True, histtype=\"fill\", label=labels, color=colors.colors)\n",
    "# plt.yscale(\"log\")\n",
    "plt.xscale(\"log\")\n",
    "\n",
    "plt.ylim(0, 5e6)\n",
    "plt.ticklabel_format(style=\"sci\", axis=\"y\", scilimits=(0, 0))\n",
    "ax.yaxis.major.formatter._useMathText = True\n",
    "\n",
    "plt.legend(ncol=1, loc=(0.7, 0.4))\n",
    "plt.xlabel(\"$p_T$ [GeV]\")\n",
    "plt.ylabel(\"Number of particles / bin\")\n",
    "cms_label(ax)\n",
    "sample_label(ax, physics_process, \", MLPF\")\n",
    "plt.xlim(10**-2, 10**4)\n",
    "plt.savefig(outpath + \"/mlpf_pt.pdf\", bbox_inches=\"tight\")"
   ]
  },
  {
   "cell_type": "code",
   "execution_count": null,
   "id": "56da709d",
   "metadata": {},
   "outputs": [],
   "source": [
    "fig = plt.figure(figsize=(10, 10))\n",
    "ax = plt.axes()\n",
    "b = np.linspace(-6, 6, 41)\n",
    "hs = []\n",
    "\n",
    "colors = plt.cm.get_cmap(\"tab20c\", len(pids))\n",
    "labels = []\n",
    "for pid in pids[::-1]:\n",
    "    pid_idx = CLASS_LABELS_CMS.index(pid)\n",
    "    pt_pid = ak.flatten(pred_eta[pred_cls_id == pid_idx])\n",
    "    hs.append(np.histogram(pt_pid, bins=b))\n",
    "    labels.append(CLASS_NAMES_CMS[CLASS_LABELS_CMS.index(pid)])\n",
    "mplhep.histplot(hs, stack=True, histtype=\"fill\", label=labels, color=colors.colors)\n",
    "# plt.yscale(\"log\")\n",
    "# plt.xscale(\"log\")\n",
    "plt.ylim(0, 5e6)\n",
    "plt.ticklabel_format(style=\"sci\", axis=\"y\", scilimits=(0, 0))\n",
    "ax.yaxis.major.formatter._useMathText = True\n",
    "\n",
    "plt.legend(ncol=3, loc=(0.2, 0.65))\n",
    "plt.xlabel(\"$\\eta$\")\n",
    "plt.ylabel(\"Number of particles / bin\")\n",
    "cms_label(ax)\n",
    "sample_label(ax, physics_process, \", MLPF\")\n",
    "plt.xlim(-6, 6)\n",
    "plt.savefig(outpath + \"/mlpf_eta.pdf\", bbox_inches=\"tight\")"
   ]
  },
  {
   "cell_type": "code",
   "execution_count": null,
   "id": "a924a24e",
   "metadata": {},
   "outputs": [],
   "source": [
    "b = np.logspace(0, 5, 100)\n",
    "\n",
    "plt.figure()\n",
    "ax = plt.axes()\n",
    "cms_label(ax)\n",
    "sample_label(ax, physics_process)\n",
    "\n",
    "plt.hist(awkward.flatten(yvals[\"jets_gen_pt\"]), bins=b, histtype=\"step\", lw=2, label=\"genjet\")\n",
    "plt.hist(awkward.flatten(yvals[\"jets_cand_pt\"]), bins=b, histtype=\"step\", lw=2, label=\"PF jet\")\n",
    "plt.hist(awkward.flatten(yvals[\"jets_pred_pt\"]), bins=b, histtype=\"step\", lw=2, label=\"MLPF jet\")\n",
    "plt.yscale(\"log\")\n",
    "plt.xscale(\"log\")\n",
    "plt.ylim(1, 1e6)\n",
    "plt.legend(loc=(0.6, 0.7))\n",
    "plt.xlabel(\"jet $p_T$ [GeV]\")\n",
    "plt.ylabel(\"Number of jets\")\n",
    "plt.savefig(\"{}/jets.pdf\".format(outpath), bbox_inches=\"tight\")"
   ]
  },
  {
   "cell_type": "code",
   "execution_count": null,
   "id": "986faf7d",
   "metadata": {},
   "outputs": [],
   "source": [
    "b = np.linspace(-7, 7, 201)\n",
    "\n",
    "plt.figure(figsize=(12, 8))\n",
    "ax = plt.axes()\n",
    "cms_label(ax)\n",
    "sample_label(ax, physics_process)\n",
    "plt.ylim(0, 8e4)\n",
    "plt.hist(awkward.flatten(yvals[\"jets_gen_eta\"]), bins=b, histtype=\"step\", lw=2, label=\"genjet\")\n",
    "plt.hist(awkward.flatten(yvals[\"jets_cand_eta\"]), bins=b, histtype=\"step\", lw=2, label=\"PF jet\")\n",
    "plt.hist(awkward.flatten(yvals[\"jets_pred_eta\"]), bins=b, histtype=\"step\", lw=2, label=\"MLPF jet\")\n",
    "plt.legend(loc=(0.7, 0.7))\n",
    "plt.savefig(\"{}/jets_eta.pdf\".format(outpath), bbox_inches=\"tight\")"
   ]
  },
  {
   "cell_type": "code",
   "execution_count": null,
   "id": "63aeaab3",
   "metadata": {},
   "outputs": [],
   "source": [
    "yvals[\"jet_pt_gen_to_cand_candpt\"]"
   ]
  },
  {
   "cell_type": "code",
   "execution_count": null,
   "id": "cc057b37",
   "metadata": {},
   "outputs": [],
   "source": [
    "b = np.linspace(-2, 15, 101)\n",
    "\n",
    "fig = plt.figure()\n",
    "ax = plt.axes()\n",
    "vals = yvals[\"jet_gen_to_cand_candpt\"] / yvals[\"jet_gen_to_cand_genpt\"]\n",
    "p = med_iqr(vals)\n",
    "plt.hist(vals, bins=b, histtype=\"step\", lw=2, label=r\"PF (M={:.2f}, IQR={:.2f})\".format(p[0], p[1]))\n",
    "\n",
    "vals = yvals[\"jet_gen_to_pred_predpt\"] / yvals[\"jet_gen_to_pred_genpt\"]\n",
    "p = med_iqr(vals)\n",
    "plt.hist(vals, bins=b, histtype=\"step\", lw=2, label=r\"MLPF (M={:.2f}, IQR={:.2f})\".format(p[0], p[1]))\n",
    "\n",
    "plt.yscale(\"log\")\n",
    "plt.ylim(1, 1e7)\n",
    "cms_label(ax)\n",
    "sample_label(ax, physics_process)\n",
    "plt.legend(loc=(0.4, 0.7))\n",
    "plt.xlabel(r\"jet $\\frac{p_{\\mathrm{T,reco}}}{p_{T,\\mathrm{gen}}}$\")\n",
    "plt.savefig(\"{}/jetres.pdf\".format(outpath), bbox_inches=\"tight\")"
   ]
  },
  {
   "cell_type": "code",
   "execution_count": null,
   "id": "b5f0ec96",
   "metadata": {},
   "outputs": [],
   "source": [
    "plt.figure()\n",
    "ax = plt.axes()\n",
    "plt.hist(np.sum(X[:, :, 0] != 0, axis=1), bins=100)\n",
    "plt.axvline(6400, ls=\"--\", color=\"black\")\n",
    "plt.xlabel(\"number of input PFElements\")\n",
    "plt.ylabel(\"number of events / bin\")\n",
    "cms_label(ax)\n",
    "sample_label(ax, physics_process)"
   ]
  },
  {
   "cell_type": "code",
   "execution_count": null,
   "id": "0f27315c",
   "metadata": {},
   "outputs": [],
   "source": [
    "px = yvals[\"gen_px\"][yvals[\"gen_cls_id\"] != 0]\n",
    "py = yvals[\"gen_py\"][yvals[\"gen_cls_id\"] != 0]\n",
    "gen_met = np.sqrt(awkward.sum(px, axis=1) ** 2 + awkward.sum(py, axis=1) ** 2)\n",
    "\n",
    "px = yvals[\"cand_px\"][yvals[\"cand_cls_id\"] != 0]\n",
    "py = yvals[\"cand_py\"][yvals[\"cand_cls_id\"] != 0]\n",
    "cand_met = np.sqrt(awkward.sum(px, axis=1) ** 2 + awkward.sum(py, axis=1) ** 2)\n",
    "\n",
    "px = yvals[\"pred_px\"][yvals[\"pred_cls_id\"] != 0]\n",
    "py = yvals[\"pred_py\"][yvals[\"pred_cls_id\"] != 0]\n",
    "pred_met = np.sqrt(awkward.sum(px, axis=1) ** 2 + awkward.sum(py, axis=1) ** 2)"
   ]
  },
  {
   "cell_type": "code",
   "execution_count": null,
   "id": "1acdf109",
   "metadata": {},
   "outputs": [],
   "source": [
    "awkward.sum(px, axis=1)"
   ]
  },
  {
   "cell_type": "code",
   "execution_count": null,
   "id": "4f17e752",
   "metadata": {},
   "outputs": [],
   "source": [
    "fig = plt.figure()\n",
    "ax = plt.axes()\n",
    "\n",
    "b = np.logspace(0, 4, 100)\n",
    "plt.hist(cand_met, bins=b, histtype=\"step\", lw=2, label=\"PF\")\n",
    "plt.hist(pred_met, bins=b, histtype=\"step\", lw=2, label=\"MLPF\")\n",
    "plt.hist(gen_met, bins=b, histtype=\"step\", lw=2, label=\"gen\")\n",
    "plt.yscale(\"log\")\n",
    "plt.xscale(\"log\")\n",
    "plt.legend(loc=(0.75, 0.7))\n",
    "cms_label(ax)\n",
    "sample_label(ax, physics_process)\n",
    "plt.ylim(1, 1e3)\n",
    "plt.xlabel(\"MET [GeV]\")\n",
    "plt.ylabel(\"Number of events\")\n",
    "plt.savefig(\"{}/met.pdf\".format(outpath), bbox_inches=\"tight\")"
   ]
  },
  {
   "cell_type": "code",
   "execution_count": null,
   "id": "bc785852",
   "metadata": {},
   "outputs": [],
   "source": [
    "fig = plt.figure()\n",
    "ax = plt.axes()\n",
    "b = np.linspace(0, 100, 101)\n",
    "vals_a = cand_met / gen_met\n",
    "vals_b = pred_met / gen_met\n",
    "\n",
    "# vals_a = vals_a[gen_met < 500]\n",
    "# vals_b = vals_b[gen_met < 500]\n",
    "\n",
    "p = med_iqr(vals_a)\n",
    "plt.hist(vals_a, bins=b, histtype=\"step\", lw=2, label=\"PF, $(M={:.2f}, IQR={:.2f})$\".format(p[0], p[1]))\n",
    "\n",
    "p = med_iqr(vals_b)\n",
    "plt.hist(\n",
    "    vals_b,\n",
    "    bins=b,\n",
    "    histtype=\"step\",\n",
    "    lw=2,\n",
    "    label=\"MLPF, $(M={:.2f}, IQR={:.2f})$\".format(p[0], p[1]),\n",
    ")\n",
    "# plt.yscale(\"log\")\n",
    "cms_label(ax)\n",
    "sample_label(ax, physics_process)\n",
    "# plt.ylim(1, 1e3)\n",
    "plt.legend(loc=(0.35, 0.7))\n",
    "plt.xlabel(r\"$\\frac{\\mathrm{MET}_{\\mathrm{reco}}}{\\mathrm{MET}_{\\mathrm{gen}}}$\")\n",
    "plt.ylabel(\"Number of events / bin\")\n",
    "plt.savefig(\"{}/metres.pdf\".format(outpath), bbox_inches=\"tight\")"
   ]
  },
  {
   "cell_type": "markdown",
   "id": "7149c5c7",
   "metadata": {},
   "source": [
    "## Element type to sum pt"
   ]
  },
  {
   "cell_type": "code",
   "execution_count": null,
   "id": "2f837314",
   "metadata": {},
   "outputs": [],
   "source": [
    "def elem_type_to_sumpt(elem_type, log_scale=False, bins=None):\n",
    "    if elem_type > 0:\n",
    "        msk = X[:, :, 0] == elem_type\n",
    "    else:\n",
    "        msk = X[:, :, 0] != 0\n",
    "\n",
    "    sum_gen_pt = awkward.sum(yvals[\"gen_pt\"][msk], axis=1)\n",
    "    sum_cand_pt = awkward.sum(yvals[\"cand_pt\"][msk], axis=1)\n",
    "    sum_pred_pt = awkward.sum(yvals[\"pred_pt\"][msk], axis=1)\n",
    "\n",
    "    minval = min([np.min(sum_gen_pt), np.min(sum_cand_pt), np.min(sum_pred_pt)])\n",
    "    maxval = max([np.max(sum_gen_pt), np.max(sum_cand_pt), np.max(sum_pred_pt)])\n",
    "    if log_scale:\n",
    "        b = np.logspace(1, 5, 101)\n",
    "        minval = 1e1\n",
    "        maxval = 1e5\n",
    "    else:\n",
    "        b = np.linspace(minval, maxval, 101)\n",
    "\n",
    "    if not bins is None:\n",
    "        b = bins\n",
    "        minval = np.min(b)\n",
    "        maxval = np.max(b)\n",
    "\n",
    "    fig, axs = plt.subplots(1, 2, figsize=(10, 5))\n",
    "\n",
    "    plt.sca(axs[0])\n",
    "    plt.hist2d(sum_gen_pt, sum_cand_pt, bins=(b, b), cmap=\"hot_r\")\n",
    "\n",
    "    plt.plot([minval, maxval], [minval, maxval], color=\"black\", ls=\"--\")\n",
    "    plt.xlim(minval, maxval)\n",
    "    plt.ylim(minval, maxval)\n",
    "    plt.xlabel(\"Gen $\\sum p_T$ [GeV]\")\n",
    "    plt.ylabel(\"PF $\\sum p_T$ [GeV]\")\n",
    "    if log_scale:\n",
    "        plt.xscale(\"log\")\n",
    "        plt.yscale(\"log\")\n",
    "\n",
    "    plt.sca(axs[1])\n",
    "    plt.hist2d(sum_gen_pt, sum_pred_pt, bins=(b, b), cmap=\"hot_r\")\n",
    "    plt.plot([minval, maxval], [minval, maxval], color=\"black\", ls=\"--\")\n",
    "    plt.xlim(minval, maxval)\n",
    "    plt.ylim(minval, maxval)\n",
    "    plt.xlabel(\"Gen $\\sum p_T$ [GeV]\")\n",
    "    plt.ylabel(\"MLPF $\\sum p_T$ [GeV]\")\n",
    "    if log_scale:\n",
    "        plt.xscale(\"log\")\n",
    "        plt.yscale(\"log\")\n",
    "\n",
    "    plt.tight_layout()"
   ]
  },
  {
   "cell_type": "code",
   "execution_count": null,
   "id": "c78681ce",
   "metadata": {},
   "outputs": [],
   "source": [
    "elem_type_to_sumpt(0, log_scale=True, bins=np.logspace(3, 5, 101))\n",
    "plt.suptitle(\"All PF inputs\", y=1.04)\n",
    "plt.savefig(\"{}/sum_pt_all.pdf\".format(outpath), bbox_inches=\"tight\")"
   ]
  },
  {
   "cell_type": "code",
   "execution_count": null,
   "id": "98ff0a5a",
   "metadata": {},
   "outputs": [],
   "source": [
    "elem_type_to_sumpt(1, log_scale=True)\n",
    "plt.suptitle(\"KF tracks\", y=1.04)\n",
    "plt.savefig(\"{}/sum_pt_tracks.pdf\".format(outpath), bbox_inches=\"tight\")"
   ]
  },
  {
   "cell_type": "code",
   "execution_count": null,
   "id": "809c672a",
   "metadata": {},
   "outputs": [],
   "source": [
    "elem_type_to_sumpt(4, log_scale=True)\n",
    "plt.suptitle(\"ECAL clusters\", y=1.04)\n",
    "plt.savefig(\"{}/sum_pt_ecal.pdf\".format(outpath), bbox_inches=\"tight\")"
   ]
  },
  {
   "cell_type": "code",
   "execution_count": null,
   "id": "a560a4fe",
   "metadata": {},
   "outputs": [],
   "source": [
    "elem_type_to_sumpt(5, log_scale=True)\n",
    "plt.suptitle(\"HCAL clusters\", y=1.04)\n",
    "plt.savefig(\"{}/sum_pt_hcal.pdf\".format(outpath), bbox_inches=\"tight\")"
   ]
  },
  {
   "cell_type": "code",
   "execution_count": null,
   "id": "0085944d",
   "metadata": {},
   "outputs": [],
   "source": [
    "elem_type_to_sumpt(6, log_scale=True)\n",
    "plt.suptitle(\"GSF clusters\", y=1.04)\n",
    "plt.savefig(\"{}/sum_pt_gsf.pdf\".format(outpath), bbox_inches=\"tight\")"
   ]
  },
  {
   "cell_type": "code",
   "execution_count": null,
   "id": "13840b80",
   "metadata": {},
   "outputs": [],
   "source": [
    "elem_type_to_sumpt(8, log_scale=True)\n",
    "plt.suptitle(\"HFEM clusters\", y=1.04)\n",
    "plt.savefig(\"{}/sum_pt_hfem.pdf\".format(outpath), bbox_inches=\"tight\")"
   ]
  },
  {
   "cell_type": "code",
   "execution_count": null,
   "id": "0c5d36d3",
   "metadata": {},
   "outputs": [],
   "source": [
    "elem_type_to_sumpt(9, log_scale=True)\n",
    "plt.suptitle(\"HFHAD clusters\", y=1.04)\n",
    "plt.savefig(\"{}/sum_pt_hfhad.pdf\".format(outpath), bbox_inches=\"tight\")"
   ]
  },
  {
   "cell_type": "code",
   "execution_count": null,
   "id": "031e4880",
   "metadata": {},
   "outputs": [],
   "source": [
    "elem_type_to_sumpt(10, log_scale=True)\n",
    "plt.suptitle(\"HO clusters\", y=1.04)\n",
    "plt.savefig(\"{}/sum_pt_ho.pdf\".format(outpath), bbox_inches=\"tight\")"
   ]
  },
  {
   "cell_type": "code",
   "execution_count": null,
   "id": "3158cc87",
   "metadata": {},
   "outputs": [],
   "source": [
    "elem_type_to_sumpt(11, log_scale=True)\n",
    "plt.suptitle(\"SC clusters\", y=1.04)\n",
    "plt.savefig(\"{}/sum_pt_sc.pdf\".format(outpath), bbox_inches=\"tight\")"
   ]
  },
  {
   "cell_type": "code",
   "execution_count": null,
   "id": "4a4d0c39",
   "metadata": {},
   "outputs": [],
   "source": [
    "def elem_type_ptcorr(elem_type):\n",
    "    msk = (X[:, :, 0] == elem_type) & (yvals[\"gen_cls_id\"] != 0) & (yvals[\"cand_cls_id\"] != 0)\n",
    "    b = np.logspace(-2, 4, 100)\n",
    "\n",
    "    fig, axs = plt.subplots(1, 2, figsize=(10, 5))\n",
    "    plt.sca(axs[0])\n",
    "    plt.hist2d(\n",
    "        awkward.flatten(yvals[\"gen_pt\"][msk], axis=1),\n",
    "        awkward.flatten(yvals[\"cand_pt\"][msk], axis=1),\n",
    "        bins=(b, b),\n",
    "        cmap=\"hot_r\",\n",
    "    )\n",
    "    plt.plot([1e-2, 1e4], [1e-2, 1e4], color=\"black\", ls=\"--\")\n",
    "    plt.xscale(\"log\")\n",
    "    plt.yscale(\"log\")\n",
    "    plt.xlabel(\"Gen $p_T$ [GeV]\")\n",
    "    plt.ylabel(\"PF $p_T$ [GeV]\")\n",
    "\n",
    "    msk = (X[:, :, 0] == elem_type) & (yvals[\"gen_cls_id\"] != 0) & (yvals[\"pred_cls_id\"] != 0)\n",
    "    plt.sca(axs[1])\n",
    "    plt.hist2d(\n",
    "        awkward.flatten(yvals[\"gen_pt\"][msk], axis=1),\n",
    "        awkward.flatten(yvals[\"pred_pt\"][msk], axis=1),\n",
    "        bins=(b, b),\n",
    "        cmap=\"hot_r\",\n",
    "    )\n",
    "    plt.plot([1e-2, 1e4], [1e-2, 1e4], color=\"black\", ls=\"--\")\n",
    "    plt.xscale(\"log\")\n",
    "    plt.yscale(\"log\")\n",
    "    plt.xlabel(\"Gen $p_T$ [GeV]\")\n",
    "    plt.ylabel(\"MLPF $p_T$ [GeV]\")\n",
    "    plt.tight_layout()"
   ]
  },
  {
   "cell_type": "code",
   "execution_count": null,
   "id": "b10efd15",
   "metadata": {},
   "outputs": [],
   "source": [
    "elem_type_ptcorr(1)\n",
    "plt.suptitle(\"KF track associated particles\", y=1.04)\n",
    "plt.savefig(\"{}/pt_track.pdf\".format(outpath), bbox_inches=\"tight\")"
   ]
  },
  {
   "cell_type": "code",
   "execution_count": null,
   "id": "a43f6267",
   "metadata": {},
   "outputs": [],
   "source": [
    "elem_type_ptcorr(4)\n",
    "plt.suptitle(\"ECAL cluster associated particles\", y=1.04)\n",
    "plt.savefig(\"{}/pt_ecal.pdf\".format(outpath), bbox_inches=\"tight\")"
   ]
  },
  {
   "cell_type": "code",
   "execution_count": null,
   "id": "22d6cd0a",
   "metadata": {},
   "outputs": [],
   "source": [
    "elem_type_ptcorr(5)\n",
    "plt.suptitle(\"HCAL cluster associated particles\", y=1.04)\n",
    "plt.savefig(\"{}/pt_hcal.pdf\".format(outpath), bbox_inches=\"tight\")"
   ]
  },
  {
   "cell_type": "code",
   "execution_count": null,
   "id": "a6c0a30f",
   "metadata": {},
   "outputs": [],
   "source": [
    "elem_type_ptcorr(6)\n",
    "plt.suptitle(\"GSF track associated particles\", y=1.04)\n",
    "plt.savefig(\"{}/pt_gsf.pdf\".format(outpath), bbox_inches=\"tight\")"
   ]
  },
  {
   "cell_type": "code",
   "execution_count": null,
   "id": "d090323a",
   "metadata": {},
   "outputs": [],
   "source": [
    "elem_type_ptcorr(8)\n",
    "plt.suptitle(\"HFEM cluster associated particles\", y=1.04)\n",
    "plt.savefig(\"{}/pt_hfem.pdf\".format(outpath), bbox_inches=\"tight\")"
   ]
  },
  {
   "cell_type": "code",
   "execution_count": null,
   "id": "04e2b7be",
   "metadata": {},
   "outputs": [],
   "source": [
    "elem_type_ptcorr(9)\n",
    "plt.suptitle(\"HFHAD cluster associated particles\", y=1.04)\n",
    "plt.savefig(\"{}/pt_hfhad.pdf\".format(outpath), bbox_inches=\"tight\")"
   ]
  },
  {
   "cell_type": "code",
   "execution_count": null,
   "id": "286a7aaa",
   "metadata": {},
   "outputs": [],
   "source": [
    "elem_type_ptcorr(10)\n",
    "plt.suptitle(\"HO cluster associated particles\", y=1.04)\n",
    "plt.savefig(\"{}/pt_ho.pdf\".format(outpath), bbox_inches=\"tight\")"
   ]
  },
  {
   "cell_type": "code",
   "execution_count": null,
   "id": "b52f4e0f",
   "metadata": {},
   "outputs": [],
   "source": [
    "elem_type_ptcorr(11)\n",
    "plt.suptitle(\"SC cluster associated particles\", y=1.04)\n",
    "plt.savefig(\"{}/pt_SC.pdf\".format(outpath), bbox_inches=\"tight\")"
   ]
  },
  {
   "cell_type": "markdown",
   "id": "4c7bf516",
   "metadata": {},
   "source": [
    "### Resolution plots"
   ]
  },
  {
   "cell_type": "code",
   "execution_count": null,
   "id": "4733de4f",
   "metadata": {},
   "outputs": [],
   "source": [
    "def reso_plot_in_ptbins(var, pid, reso_bins):\n",
    "    pt_bins = np.array([0, 5, 10, 15, 20, 30, 40, 50, 60, 70, 80, 90, 100, 150, 200, 300, 400])\n",
    "\n",
    "    for ibin in range(len(pt_bins) - 1):\n",
    "        fig = plt.figure()\n",
    "        ax = plt.axes()\n",
    "\n",
    "        plt.sca(ax)\n",
    "        pt_low = pt_bins[ibin]\n",
    "        pt_high = pt_bins[ibin + 1]\n",
    "        msk_cand = (\n",
    "            (yvals[\"gen_cls_id\"] == pid)\n",
    "            & (yvals[\"cand_cls_id\"] == pid)\n",
    "            & (yvals[\"gen_pt\"] >= pt_low)\n",
    "            & (yvals[\"gen_pt\"] < pt_high)\n",
    "        )\n",
    "        vals_gen = awkward.flatten(yvals[\"gen_\" + var][msk_cand])\n",
    "        vals_cand = awkward.flatten(yvals[\"cand_\" + var][msk_cand])\n",
    "        reso_1 = vals_cand / vals_gen\n",
    "\n",
    "        n_cand = len(reso_1)\n",
    "        med_cand = 0.0\n",
    "        iqr_cand = 0.0\n",
    "        if n_cand > 100:\n",
    "            med_cand, iqr_cand = med_iqr(reso_1)\n",
    "\n",
    "        msk_pred = (\n",
    "            (yvals[\"gen_cls_id\"] == pid)\n",
    "            & (yvals[\"pred_cls_id\"] == pid)\n",
    "            & (yvals[\"gen_pt\"] >= pt_low)\n",
    "            & (yvals[\"gen_pt\"] < pt_high)\n",
    "        )\n",
    "        vals_gen = awkward.flatten(yvals[\"gen_\" + var][msk_pred])\n",
    "        vals_pred = awkward.flatten(yvals[\"pred_\" + var][msk_pred])\n",
    "        reso_2 = vals_pred / vals_gen\n",
    "        n_pred = len(reso_2)\n",
    "\n",
    "        med_pred = 0.0\n",
    "        iqr_pred = 0.0\n",
    "        if n_pred > 100:\n",
    "            med_pred, iqr_pred = med_iqr(reso_2)\n",
    "\n",
    "        h0 = to_bh(reso_1, reso_bins)\n",
    "        h1 = to_bh(reso_2, reso_bins)\n",
    "\n",
    "        mplhep.histplot(\n",
    "            h0,\n",
    "            histtype=\"step\",\n",
    "            lw=2,\n",
    "            label=\"PF N={:.2E}\\nM={:.2f}, IQR={:.2f}\".format(n_cand, med_cand, iqr_cand),\n",
    "            yerr=False,\n",
    "        )\n",
    "        mplhep.histplot(\n",
    "            h1,\n",
    "            histtype=\"step\",\n",
    "            lw=2,\n",
    "            label=\"MLPF N={:.2E}\\nM={:.2f}, IQR={:.2f}\".format(n_pred, med_pred, iqr_pred),\n",
    "            yerr=False,\n",
    "        )\n",
    "\n",
    "        plt.axvline(1.0, color=\"black\", ls=\"--\")\n",
    "        plt.legend(loc=\"best\", frameon=False, ncol=1)\n",
    "        plt.ticklabel_format(axis=\"y\", style=\"sci\", scilimits=(0, 0), useMathText=True)\n",
    "        plt.title(\"{}, ${:.0f} \\leq \\mathrm{{gen}}\\ p_t \\less {:.0f}$ GeV\".format(CLASS_NAMES_CMS[pid], pt_low, pt_high))\n",
    "        plt.yscale(\"log\")\n",
    "        plt.ylabel(\"Number of reconstructed particles / bin\")\n",
    "        plt.xlabel(\"reco / gen {}\".format(var))\n",
    "        plt.savefig(\"{}/{}_pid{}_ptbin_{}_{}.pdf\".format(outpath, var, pid, pt_low, pt_high), bbox_inches=\"tight\")"
   ]
  },
  {
   "cell_type": "code",
   "execution_count": null,
   "id": "d9be6aa6",
   "metadata": {
    "scrolled": false
   },
   "outputs": [],
   "source": [
    "reso_plot_in_ptbins(\"pt\", 1, np.linspace(0, 2, 61))"
   ]
  },
  {
   "cell_type": "code",
   "execution_count": null,
   "id": "719bc9ff",
   "metadata": {
    "scrolled": false
   },
   "outputs": [],
   "source": [
    "reso_plot_in_ptbins(\"eta\", 1, np.linspace(0, 2, 41))"
   ]
  },
  {
   "cell_type": "code",
   "execution_count": null,
   "id": "1bfa3abc",
   "metadata": {},
   "outputs": [],
   "source": [
    "reso_plot(1, \"pt\", np.linspace(0, 15, 101), \", ch.had.\")\n",
    "plt.ylim(1, 1e9)\n",
    "plt.savefig(\"{}/pt_res_ch_had.pdf\".format(outpath), bbox_inches=\"tight\")"
   ]
  },
  {
   "cell_type": "code",
   "execution_count": null,
   "id": "b609604c",
   "metadata": {},
   "outputs": [],
   "source": [
    "reso_plot(1, \"eta\", np.linspace(-50, 50, 100), \", ch.had.\")\n",
    "plt.ylim(1, 1e10)\n",
    "plt.savefig(\"{}/eta_res_ch_had.pdf\".format(outpath), bbox_inches=\"tight\")"
   ]
  },
  {
   "cell_type": "markdown",
   "id": "ff045d43",
   "metadata": {},
   "source": [
    "### Neutral hadrons"
   ]
  },
  {
   "cell_type": "code",
   "execution_count": null,
   "id": "09d05c6f",
   "metadata": {
    "scrolled": false
   },
   "outputs": [],
   "source": [
    "reso_plot_in_ptbins(\"pt\", 2, np.linspace(0, 10, 41))"
   ]
  },
  {
   "cell_type": "code",
   "execution_count": null,
   "id": "83f74b88",
   "metadata": {
    "scrolled": false
   },
   "outputs": [],
   "source": [
    "reso_plot_in_ptbins(\"eta\", 2, np.linspace(0, 2, 41))"
   ]
  },
  {
   "cell_type": "code",
   "execution_count": null,
   "id": "9c5cc2bb",
   "metadata": {},
   "outputs": [],
   "source": [
    "reso_plot(2, \"pt\", np.linspace(0, 200, 100), \", n.had.\")\n",
    "plt.ylim(1, 1e9)\n",
    "plt.savefig(\"{}/pt_res_n_had.pdf\".format(outpath), bbox_inches=\"tight\")"
   ]
  },
  {
   "cell_type": "code",
   "execution_count": null,
   "id": "e06b586e",
   "metadata": {},
   "outputs": [],
   "source": [
    "reso_plot(2, \"eta\", np.linspace(-50, 50, 100), \", n.had.\")\n",
    "plt.ylim(1, 1e10)\n",
    "plt.savefig(\"{}/eta_res_n_had.pdf\".format(outpath), bbox_inches=\"tight\")"
   ]
  },
  {
   "cell_type": "markdown",
   "id": "00a5be5e",
   "metadata": {},
   "source": [
    "### HF"
   ]
  },
  {
   "cell_type": "code",
   "execution_count": null,
   "id": "abf2fd9c",
   "metadata": {},
   "outputs": [],
   "source": [
    "reso_plot(3, \"pt\", np.linspace(0, 100, 100), \", HFHAD\")\n",
    "plt.ylim(1, 1e9)\n",
    "plt.savefig(\"{}/pt_res_hfhad.pdf\".format(outpath), bbox_inches=\"tight\")"
   ]
  },
  {
   "cell_type": "code",
   "execution_count": null,
   "id": "5eb03e84",
   "metadata": {},
   "outputs": [],
   "source": [
    "reso_plot(3, \"eta\", np.linspace(-5, 5, 100), \", HFHAD\")\n",
    "plt.ylim(1, 1e10)\n",
    "plt.savefig(\"{}/eta_res_hfhad.pdf\".format(outpath), bbox_inches=\"tight\")"
   ]
  },
  {
   "cell_type": "code",
   "execution_count": null,
   "id": "a34181d4",
   "metadata": {},
   "outputs": [],
   "source": [
    "reso_plot(4, \"pt\", np.linspace(0, 100, 100), \", HFEM\")\n",
    "plt.ylim(1, 1e9)\n",
    "plt.savefig(\"{}/pt_res_hfem.pdf\".format(outpath), bbox_inches=\"tight\")"
   ]
  },
  {
   "cell_type": "code",
   "execution_count": null,
   "id": "1e2d2422",
   "metadata": {},
   "outputs": [],
   "source": [
    "reso_plot(4, \"eta\", np.linspace(-5, 5, 100), \", HFEM\")\n",
    "plt.ylim(1, 1e10)\n",
    "plt.savefig(\"{}/eta_res_hfem.pdf\".format(outpath), bbox_inches=\"tight\")"
   ]
  },
  {
   "cell_type": "markdown",
   "id": "6e58d8d2",
   "metadata": {},
   "source": [
    "### Gamma"
   ]
  },
  {
   "cell_type": "code",
   "execution_count": null,
   "id": "4639f93d",
   "metadata": {
    "scrolled": false
   },
   "outputs": [],
   "source": [
    "reso_plot_in_ptbins(\"pt\", 5, np.linspace(0, 10, 41))"
   ]
  },
  {
   "cell_type": "code",
   "execution_count": null,
   "id": "6fc79846",
   "metadata": {
    "scrolled": false
   },
   "outputs": [],
   "source": [
    "reso_plot_in_ptbins(\"eta\", 5, np.linspace(0, 2, 41))"
   ]
  },
  {
   "cell_type": "code",
   "execution_count": null,
   "id": "d9ee4c6f",
   "metadata": {},
   "outputs": [],
   "source": [
    "reso_plot(5, \"pt\", np.linspace(0, 50, 100), \", $\\gamma$\")\n",
    "plt.ylim(1, 1e9)\n",
    "plt.savefig(\"{}/pt_res_gamma.pdf\".format(outpath), bbox_inches=\"tight\")"
   ]
  },
  {
   "cell_type": "code",
   "execution_count": null,
   "id": "6173439e",
   "metadata": {},
   "outputs": [],
   "source": [
    "reso_plot(5, \"eta\", np.linspace(-10, 10, 100), \", $\\gamma$\")\n",
    "plt.ylim(1, 1e10)\n",
    "plt.savefig(\"{}/eta_res_gamma.pdf\".format(outpath), bbox_inches=\"tight\")"
   ]
  },
  {
   "cell_type": "markdown",
   "id": "1e0c9428",
   "metadata": {},
   "source": [
    "### Electrons"
   ]
  },
  {
   "cell_type": "code",
   "execution_count": null,
   "id": "4da426c1",
   "metadata": {},
   "outputs": [],
   "source": [
    "reso_plot(6, \"pt\", np.linspace(0, 10, 100), \", $e^\\pm$\")\n",
    "plt.ylim(1, 1e9)\n",
    "plt.savefig(\"{}/pt_res_ele.pdf\".format(outpath), bbox_inches=\"tight\")"
   ]
  },
  {
   "cell_type": "code",
   "execution_count": null,
   "id": "c247070c",
   "metadata": {},
   "outputs": [],
   "source": [
    "reso_plot(6, \"eta\", np.linspace(-10, 10, 100), \", $e^\\pm$\")\n",
    "plt.ylim(1, 1e10)\n",
    "plt.savefig(\"{}/eta_res_ele.pdf\".format(outpath), bbox_inches=\"tight\")"
   ]
  },
  {
   "cell_type": "markdown",
   "id": "0da3e801",
   "metadata": {},
   "source": [
    "### Muons"
   ]
  },
  {
   "cell_type": "code",
   "execution_count": null,
   "id": "01616ead",
   "metadata": {},
   "outputs": [],
   "source": [
    "reso_plot(7, \"pt\", np.linspace(0, 5, 100), \", $\\mu^\\pm$\")\n",
    "plt.ylim(1, 1e9)\n",
    "plt.savefig(\"{}/pt_res_mu.pdf\".format(outpath), bbox_inches=\"tight\")"
   ]
  },
  {
   "cell_type": "code",
   "execution_count": null,
   "id": "60fb772d",
   "metadata": {},
   "outputs": [],
   "source": [
    "reso_plot(7, \"eta\", np.linspace(-10, 10, 100), \", $\\mu^\\pm$\")\n",
    "plt.ylim(1, 1e10)\n",
    "plt.savefig(\"{}/eta_res_mu.pdf\".format(outpath), bbox_inches=\"tight\")"
   ]
  },
  {
   "cell_type": "markdown",
   "id": "db44adb9",
   "metadata": {},
   "source": [
    "### Efficiencies and fake rates"
   ]
  },
  {
   "cell_type": "code",
   "execution_count": null,
   "id": "2c8bc9a9",
   "metadata": {
    "scrolled": false
   },
   "outputs": [],
   "source": [
    "plot_eff_and_fake_rate(icls=1, ivar=1, ielem=1, bins=np.logspace(-1, 2, 41), xlabel=\"track $p_T$ [GeV]\", log=True)"
   ]
  },
  {
   "cell_type": "code",
   "execution_count": null,
   "id": "40f9f684",
   "metadata": {
    "scrolled": false
   },
   "outputs": [],
   "source": [
    "plot_eff_and_fake_rate(icls=2, ivar=4, ielem=5, bins=np.logspace(0, 3, 41), xlabel=\"calorimeter cluster E [GeV]\", log=True)"
   ]
  },
  {
   "cell_type": "code",
   "execution_count": null,
   "id": "8b2ccb22",
   "metadata": {
    "scrolled": false
   },
   "outputs": [],
   "source": [
    "plot_eff_and_fake_rate(icls=3, ivar=4, ielem=9, bins=np.logspace(0, 3, 41), xlabel=\"PFElement E [GeV]\", log=True)"
   ]
  },
  {
   "cell_type": "code",
   "execution_count": null,
   "id": "09e003b6",
   "metadata": {
    "scrolled": false
   },
   "outputs": [],
   "source": [
    "plot_eff_and_fake_rate(icls=4, ivar=4, ielem=8, bins=np.logspace(0, 3, 41), xlabel=\"PFElement E [GeV]\", log=True)"
   ]
  },
  {
   "cell_type": "code",
   "execution_count": null,
   "id": "b683b035",
   "metadata": {
    "scrolled": false
   },
   "outputs": [],
   "source": [
    "plot_eff_and_fake_rate(icls=5, ivar=4, ielem=4, bins=np.logspace(-1, 4, 41), xlabel=\"PFElement E [GeV]\", log=True)"
   ]
  },
  {
   "cell_type": "code",
   "execution_count": null,
   "id": "79d97479",
   "metadata": {
    "scrolled": false
   },
   "outputs": [],
   "source": [
    "plot_eff_and_fake_rate(icls=6, ivar=1, ielem=6, bins=np.logspace(0, 2, 41), xlabel=\"PFElement E [GeV]\", log=True)"
   ]
  },
  {
   "cell_type": "code",
   "execution_count": null,
   "id": "152460b5",
   "metadata": {
    "scrolled": false
   },
   "outputs": [],
   "source": [
    "plot_eff_and_fake_rate(icls=7, ivar=1, ielem=1, bins=np.logspace(0, 2, 41), xlabel=\"PFElement $p_T$ [GeV]\", log=True)"
   ]
  },
  {
   "cell_type": "markdown",
   "id": "135c1de7",
   "metadata": {},
   "source": [
    "### Training details"
   ]
  },
  {
   "cell_type": "code",
   "execution_count": null,
   "id": "f6407e23",
   "metadata": {},
   "outputs": [],
   "source": [
    "def load_history(path, min_epoch=None, max_epoch=None):\n",
    "    ret = {}\n",
    "    for fi in glob.glob(path):\n",
    "        data = json.load(open(fi))\n",
    "        epoch = int(fi.split(\"_\")[-1].split(\".\")[0])\n",
    "        ret[epoch] = data\n",
    "\n",
    "    if not max_epoch:\n",
    "        max_epoch = max(ret.keys())\n",
    "    if not min_epoch:\n",
    "        min_epoch = min(ret.keys())\n",
    "\n",
    "    ret2 = []\n",
    "    for i in range(min_epoch, max_epoch + 1):\n",
    "        ret2.append(ret[i])\n",
    "    return pandas.DataFrame(ret2)"
   ]
  },
  {
   "cell_type": "code",
   "execution_count": null,
   "id": "4b2fefac",
   "metadata": {},
   "outputs": [],
   "source": [
    "history = load_history(path + \"/../../../history/history_*.json\")"
   ]
  },
  {
   "cell_type": "code",
   "execution_count": null,
   "id": "84949a51",
   "metadata": {},
   "outputs": [],
   "source": [
    "p0 = loss_plot(history[\"loss\"].values, history[\"val_loss\"].values, margin=0.5)\n",
    "plt.ylabel(\"Total loss\")\n",
    "plt.savefig(\"{}/loss.pdf\".format(outpath), bbox_inches=\"tight\")"
   ]
  },
  {
   "cell_type": "code",
   "execution_count": null,
   "id": "34f5c4d6",
   "metadata": {},
   "outputs": [],
   "source": [
    "p0 = loss_plot(history[\"cls_loss\"].values, history[\"val_cls_loss\"].values, margin=0.5)\n",
    "plt.ylabel(\"Multiclassification loss\")\n",
    "plt.savefig(\"{}/cls_loss.pdf\".format(outpath), bbox_inches=\"tight\")"
   ]
  },
  {
   "cell_type": "code",
   "execution_count": null,
   "id": "03551b47",
   "metadata": {},
   "outputs": [],
   "source": [
    "reg_loss = sum([history[\"{}_loss\".format(l)].values for l in [\"energy\", \"pt\", \"eta\", \"sin_phi\", \"cos_phi\", \"charge\"]])\n",
    "val_reg_loss = sum(\n",
    "    [history[\"val_{}_loss\".format(l)].values for l in [\"energy\", \"pt\", \"eta\", \"sin_phi\", \"cos_phi\", \"charge\"]]\n",
    ")\n",
    "p0 = loss_plot(reg_loss, val_reg_loss, margin=0.2)\n",
    "plt.ylabel(\"Regression loss\")\n",
    "plt.savefig(\"{}/reg_loss.pdf\".format(outpath), bbox_inches=\"tight\")"
   ]
  },
  {
   "cell_type": "code",
   "execution_count": null,
   "id": "61d59797",
   "metadata": {},
   "outputs": [],
   "source": [
    "if \"pt_e_eta_phi_loss\" in history.keys():\n",
    "    reg_loss = sum([history[\"{}_loss\".format(l)].values for l in [\"pt_e_eta_phi\"]])\n",
    "    val_reg_loss = sum([history[\"val_{}_loss\".format(l)].values for l in [\"pt_e_eta_phi\"]])\n",
    "    p0 = loss_plot(reg_loss, val_reg_loss, margin=0.1)\n",
    "    plt.ylabel(\"Event loss\")\n",
    "    plt.savefig(\"{}/event_loss.pdf\".format(outpath), bbox_inches=\"tight\")"
   ]
  },
  {
   "cell_type": "markdown",
   "id": "6d39647b",
   "metadata": {},
   "source": [
    "### Confusion matrices"
   ]
  },
  {
   "cell_type": "code",
   "execution_count": null,
   "id": "dd453417",
   "metadata": {},
   "outputs": [],
   "source": [
    "fig = plt.figure(figsize=(12, 12))\n",
    "ax = plt.axes()\n",
    "\n",
    "cm_norm = sklearn.metrics.confusion_matrix(\n",
    "    awkward.flatten(yvals[\"gen_cls_id\"][X[:, :, 0] != 0]),\n",
    "    awkward.flatten(yvals[\"pred_cls_id\"][X[:, :, 0] != 0]),\n",
    "    labels=range(0, len(CLASS_LABELS_CMS)),\n",
    "    normalize=\"true\",\n",
    ")\n",
    "\n",
    "plt.imshow(cm_norm, cmap=\"Blues\", origin=\"lower\")\n",
    "plt.colorbar()\n",
    "\n",
    "\n",
    "thresh = cm_norm.max() / 1.5\n",
    "for i, j in itertools.product(range(cm_norm.shape[0]), range(cm_norm.shape[1])):\n",
    "    plt.text(\n",
    "        j,\n",
    "        i,\n",
    "        \"{:0.2f}\".format(cm_norm[i, j]),\n",
    "        horizontalalignment=\"center\",\n",
    "        color=\"white\" if cm_norm[i, j] > thresh else \"black\",\n",
    "        fontsize=12,\n",
    "    )\n",
    "\n",
    "cms_label(ax, y=1.01)\n",
    "# cms_label_sample_label(x1=0.18, x2=0.52, y=0.82)\n",
    "plt.xticks(range(len(CLASS_NAMES_CMS)), CLASS_NAMES_CMS, rotation=45)\n",
    "plt.yticks(range(len(CLASS_NAMES_CMS)), CLASS_NAMES_CMS)\n",
    "plt.xlabel(\"MLPF candidate ID\")\n",
    "plt.ylabel(\"Truth ID\")\n",
    "# plt.ylim(-0.5, 6.9)\n",
    "# plt.title(\"MLPF trained on PF\")\n",
    "plt.savefig(\"{}/cm_normed.pdf\".format(outpath), bbox_inches=\"tight\")"
   ]
  },
  {
   "cell_type": "code",
   "execution_count": null,
   "id": "33df4d7b",
   "metadata": {},
   "outputs": [],
   "source": [
    "fig = plt.figure(figsize=(12, 12))\n",
    "ax = plt.axes()\n",
    "\n",
    "cm_norm = sklearn.metrics.confusion_matrix(\n",
    "    awkward.flatten(yvals[\"gen_cls_id\"][X[:, :, 0] != 0]),\n",
    "    awkward.flatten(yvals[\"cand_cls_id\"][X[:, :, 0] != 0]),\n",
    "    labels=range(0, len(CLASS_LABELS_CMS)),\n",
    "    normalize=\"true\",\n",
    ")\n",
    "\n",
    "plt.imshow(cm_norm, cmap=\"Blues\", origin=\"lower\")\n",
    "plt.colorbar()\n",
    "\n",
    "\n",
    "thresh = cm_norm.max() / 1.5\n",
    "for i, j in itertools.product(range(cm_norm.shape[0]), range(cm_norm.shape[1])):\n",
    "    plt.text(\n",
    "        j,\n",
    "        i,\n",
    "        \"{:0.2f}\".format(cm_norm[i, j]),\n",
    "        horizontalalignment=\"center\",\n",
    "        color=\"white\" if cm_norm[i, j] > thresh else \"black\",\n",
    "        fontsize=12,\n",
    "    )\n",
    "\n",
    "cms_label(ax, y=1.01)\n",
    "# cms_label_sample_label(x1=0.18, x2=0.52, y=0.82)\n",
    "plt.xticks(range(len(CLASS_NAMES_CMS)), CLASS_NAMES_CMS, rotation=45)\n",
    "plt.yticks(range(len(CLASS_NAMES_CMS)), CLASS_NAMES_CMS)\n",
    "plt.xlabel(\"PF candidate ID\")\n",
    "plt.ylabel(\"Truth ID\")\n",
    "# plt.ylim(-0.5, 6.9)\n",
    "# plt.title(\"MLPF trained on PF\")\n",
    "plt.savefig(\"{}/cm_normed_pf.pdf\".format(outpath), bbox_inches=\"tight\")"
   ]
  },
  {
   "cell_type": "code",
   "execution_count": null,
   "id": "a3196488",
   "metadata": {},
   "outputs": [],
   "source": [
    "bins = np.linspace(-5.5, 5.5, 61)\n",
    "\n",
    "pid = 0\n",
    "Nev = len(yvals[\"gen_eta\"])\n",
    "\n",
    "msk = yvals[\"gen_cls_id\"] != 0\n",
    "plt.hist(\n",
    "    awkward.flatten(yvals[\"gen_eta\"][msk]),\n",
    "    weights=awkward.flatten(yvals[\"gen_energy\"][msk]) / Nev,\n",
    "    bins=bins,\n",
    "    histtype=\"step\",\n",
    "    lw=2,\n",
    "    label=\"gen\",\n",
    ")\n",
    "\n",
    "msk = yvals[\"cand_cls_id\"] != 0\n",
    "plt.hist(\n",
    "    awkward.flatten(yvals[\"cand_eta\"][msk]),\n",
    "    weights=awkward.flatten(yvals[\"cand_energy\"][msk]) / Nev,\n",
    "    bins=bins,\n",
    "    histtype=\"step\",\n",
    "    lw=2,\n",
    "    label=\"PF\",\n",
    ")\n",
    "\n",
    "msk = yvals[\"pred_cls_id\"] != 0\n",
    "plt.hist(\n",
    "    awkward.flatten(yvals[\"pred_eta\"][msk]),\n",
    "    weights=awkward.flatten(yvals[\"pred_energy\"][msk]) / Nev,\n",
    "    bins=bins,\n",
    "    histtype=\"step\",\n",
    "    lw=2,\n",
    "    label=\"MLPF\",\n",
    ")\n",
    "\n",
    "plt.legend(loc=\"best\")"
   ]
  },
  {
   "cell_type": "code",
   "execution_count": null,
   "id": "0d7ef503",
   "metadata": {},
   "outputs": [],
   "source": [
    "bins = np.linspace(-5.5, 5.5, 61)\n",
    "\n",
    "pid = 0\n",
    "msk = yvals[\"gen_cls_id\"] != 0\n",
    "plt.hist(\n",
    "    awkward.flatten(yvals[\"gen_eta\"][msk]),\n",
    "    weights=awkward.flatten(yvals[\"gen_pt\"][msk]) / Nev,\n",
    "    bins=bins,\n",
    "    histtype=\"step\",\n",
    "    lw=2,\n",
    "    label=\"gen\",\n",
    ")\n",
    "\n",
    "msk = yvals[\"cand_cls_id\"] != 0\n",
    "plt.hist(\n",
    "    awkward.flatten(yvals[\"cand_eta\"][msk]),\n",
    "    weights=awkward.flatten(yvals[\"cand_pt\"][msk]) / Nev,\n",
    "    bins=bins,\n",
    "    histtype=\"step\",\n",
    "    lw=2,\n",
    "    label=\"PF\",\n",
    ")\n",
    "\n",
    "msk = yvals[\"pred_cls_id\"] != 0\n",
    "plt.hist(\n",
    "    awkward.flatten(yvals[\"pred_eta\"][msk]),\n",
    "    weights=awkward.flatten(yvals[\"pred_pt\"][msk]) / Nev,\n",
    "    bins=bins,\n",
    "    histtype=\"step\",\n",
    "    lw=2,\n",
    "    label=\"MLPF\",\n",
    ")\n",
    "\n",
    "plt.legend(loc=\"best\")"
   ]
  },
  {
   "cell_type": "code",
   "execution_count": null,
   "id": "efc552af",
   "metadata": {
    "scrolled": false
   },
   "outputs": [],
   "source": [
    "import plotly.graph_objs as go\n",
    "\n",
    "iev = 0\n",
    "\n",
    "fig = go.Figure()\n",
    "\n",
    "msk = X[iev][:, 0] != 0\n",
    "fig.add_trace(\n",
    "    go.Scatter(\n",
    "        x=np.array(X[iev][msk, 2]),\n",
    "        y=np.array(X[iev][msk, 3]),\n",
    "        mode=\"markers\",\n",
    "        name=\"PFElement\",\n",
    "        # marker=dict(size=np.clip(2*np.array(X[iev][msk, 4]), 0, 20)),\n",
    "        marker=dict(size=5),\n",
    "        text=[\n",
    "            \"{}: E={:.2f} idx={}\".format(int(typ), e, idx)\n",
    "            for typ, e, idx in zip(X[iev][msk, 0], X[iev][msk, 4], np.where(msk)[0])\n",
    "        ],\n",
    "    )\n",
    ")\n",
    "\n",
    "msk = yvals[\"cand_cls_id\"][iev] != 0\n",
    "fig.add_trace(\n",
    "    go.Scatter(\n",
    "        x=np.array(yvals[\"cand_eta\"][iev][msk]),\n",
    "        y=np.array(yvals[\"cand_phi\"][iev][msk]),\n",
    "        mode=\"markers\",\n",
    "        name=\"PF\",\n",
    "        # marker=dict(size=np.clip(5*np.array(yvals[\"cand_energy\"][iev][msk]), 2, 20)),\n",
    "        marker=dict(size=5),\n",
    "        text=[\n",
    "            \"{}: E={:.2f} idx={}\".format(int(typ), e, idx)\n",
    "            for typ, e, idx in zip(yvals[\"cand_cls_id\"][iev][msk], yvals[\"cand_energy\"][iev][msk], np.where(msk)[0])\n",
    "        ],\n",
    "    )\n",
    ")\n",
    "\n",
    "msk = yvals[\"pred_cls_id\"][iev] != 0\n",
    "fig.add_trace(\n",
    "    go.Scatter(\n",
    "        x=np.array(yvals[\"pred_eta\"][iev][msk]),\n",
    "        y=np.array(yvals[\"pred_phi\"][iev][msk]),\n",
    "        mode=\"markers\",\n",
    "        name=\"MLPF\",\n",
    "        # marker=dict(size=np.clip(5*np.array(yvals[\"pred_energy\"][iev][msk]), 2, 20)),\n",
    "        marker=dict(size=5),\n",
    "        text=[\n",
    "            \"{}: E={:.2f} idx={}\".format(int(typ), e, idx)\n",
    "            for typ, e, idx in zip(yvals[\"pred_cls_id\"][iev][msk], yvals[\"pred_energy\"][iev][msk], np.where(msk)[0])\n",
    "        ],\n",
    "    )\n",
    ")\n",
    "\n",
    "msk = yvals[\"gen_cls_id\"][iev] != 0\n",
    "fig.add_trace(\n",
    "    go.Scatter(\n",
    "        x=np.array(yvals[\"gen_eta\"][iev][msk]),\n",
    "        y=np.array(yvals[\"gen_phi\"][iev][msk]),\n",
    "        mode=\"markers\",\n",
    "        name=\"Gen\",\n",
    "        # marker=dict(size=np.clip(5*np.array(yvals[\"gen_energy\"][iev][msk]), 2, 20)),\n",
    "        marker=dict(size=5),\n",
    "        text=[\n",
    "            \"{}: E={:.2f} idx={}\".format(int(typ), e, idx)\n",
    "            for typ, e, idx in zip(yvals[\"gen_cls_id\"][iev][msk], yvals[\"gen_energy\"][iev][msk], np.where(msk)[0])\n",
    "        ],\n",
    "    )\n",
    ")\n",
    "\n",
    "fig.show()"
   ]
  },
  {
   "cell_type": "code",
   "execution_count": null,
   "id": "3cb3c6f6",
   "metadata": {},
   "outputs": [],
   "source": [
    "df = pandas.DataFrame()\n",
    "\n",
    "iev = 0\n",
    "\n",
    "msk_X = X[iev, :, 0] != 0\n",
    "df[\"X_typ\"] = np.array(X[iev, :, 0], dtype=np.int32)[msk_X]\n",
    "df[\"X_eta\"] = np.array(X[iev, :, 2])[msk_X]\n",
    "df[\"X_phi\"] = np.array(X[iev, :, 3])[msk_X]\n",
    "df[\"X_energy\"] = np.array(X[iev, :, 4])[msk_X]\n",
    "df[\"ygen_cls_id\"] = np.array(yvals[\"gen_cls_id\"][iev])[msk_X]\n",
    "df[\"ycand_cls_id\"] = np.array(yvals[\"cand_cls_id\"][iev])[msk_X]\n",
    "df[\"ypred_cls_id\"] = np.array(yvals[\"pred_cls_id\"][iev])[msk_X]\n",
    "df[\"ygen_energy\"] = np.array(yvals[\"gen_energy\"][iev])[msk_X]\n",
    "df[\"ycand_energy\"] = np.array(yvals[\"cand_energy\"][iev])[msk_X]\n",
    "df[\"ypred_energy\"] = np.array(yvals[\"pred_energy\"][iev])[msk_X]\n",
    "\n",
    "df = df.sort_values(\"X_energy\", ascending=False)"
   ]
  },
  {
   "cell_type": "code",
   "execution_count": null,
   "id": "0730d01c",
   "metadata": {},
   "outputs": [],
   "source": [
    "awkward.count(yvals[\"gen_cls_id\"], axis=0)"
   ]
  },
  {
   "cell_type": "code",
   "execution_count": null,
   "id": "168a8455",
   "metadata": {},
   "outputs": [],
   "source": [
    "def deltaphi(phi1, phi2):\n",
    "    return np.fmod(phi1 - phi2 + np.pi, 2 * np.pi) - np.pi\n",
    "\n",
    "\n",
    "def plot():\n",
    "\n",
    "    size = 0.2\n",
    "    h_gen_h = bh.Histogram(bh.axis.Regular(61, -size, size), bh.axis.Regular(61, -size, size))\n",
    "    h_gen_e = bh.Histogram(bh.axis.Regular(61, -size, size), bh.axis.Regular(61, -size, size))\n",
    "\n",
    "    h_X_h = bh.Histogram(bh.axis.Regular(61, -size, size), bh.axis.Regular(61, -size, size))\n",
    "    h_X_e = bh.Histogram(bh.axis.Regular(61, -size, size), bh.axis.Regular(61, -size, size))\n",
    "\n",
    "    h_pf_h = bh.Histogram(bh.axis.Regular(61, -size, size), bh.axis.Regular(61, -size, size))\n",
    "    h_pf_e = bh.Histogram(bh.axis.Regular(61, -size, size), bh.axis.Regular(61, -size, size))\n",
    "\n",
    "    h_mlpf_h = bh.Histogram(bh.axis.Regular(61, -size, size), bh.axis.Regular(61, -size, size))\n",
    "    h_mlpf_e = bh.Histogram(bh.axis.Regular(61, -size, size), bh.axis.Regular(61, -size, size))\n",
    "\n",
    "    for iev in tqdm.tqdm(range(len(X))):\n",
    "        msk = yvals[\"gen_cls_id\"][iev] != 0\n",
    "        energy = yvals[\"gen_energy\"][iev][msk]\n",
    "        if len(energy) > 0:\n",
    "            idx_sort = np.argsort(energy)[-1]\n",
    "\n",
    "            energy = energy[idx_sort]\n",
    "            eta = yvals[\"gen_eta\"][iev][msk][idx_sort]\n",
    "            phi = yvals[\"gen_phi\"][iev][msk][idx_sort]\n",
    "            pid = yvals[\"gen_cls_id\"][iev][msk][idx_sort]\n",
    "\n",
    "            gen_cls_id = awkward.flatten(yvals[\"gen_cls_id\"][iev], axis=0)\n",
    "            gen_eta = awkward.flatten(yvals[\"gen_eta\"][iev] - eta, axis=0)\n",
    "            gen_phi = awkward.flatten(deltaphi(yvals[\"gen_phi\"][iev], phi), axis=0)\n",
    "            gen_energy = awkward.flatten(yvals[\"gen_energy\"][iev], axis=0)\n",
    "\n",
    "            msk_h = (gen_cls_id == 1) | (gen_cls_id == 2) | (gen_cls_id == 3)\n",
    "            h_gen_h.fill(gen_eta[msk_h], gen_phi[msk_h], weight=gen_energy[msk_h] / len(X))\n",
    "            msk_e = (gen_cls_id == 4) | (gen_cls_id == 5)\n",
    "            h_gen_e.fill(gen_eta[msk_e], gen_phi[msk_e], weight=gen_energy[msk_e] / len(X))\n",
    "\n",
    "            msk_X = X[iev][:, 0] != 0\n",
    "\n",
    "            X_typ = awkward.flatten(X[iev][msk_X][:, 0], axis=0)\n",
    "            X_eta = awkward.flatten(X[iev][msk_X][:, 2] - eta, axis=0)\n",
    "            X_phi = awkward.flatten(deltaphi(X[iev][msk_X][:, 3], phi), axis=0)\n",
    "            X_energy = awkward.flatten(X[iev][msk_X][:, 4], axis=0)\n",
    "\n",
    "            msk_h = (X_typ == 5) | (X_typ == 9)\n",
    "            h_X_h.fill(X_eta[msk_h], X_phi[msk_h], weight=X_energy[msk_h] / len(X))\n",
    "            msk_e = (X_typ == 4) | (X_typ == 8)\n",
    "            h_X_e.fill(X_eta[msk_e], X_phi[msk_e], weight=X_energy[msk_e] / len(X))\n",
    "\n",
    "            cand_cls_id = awkward.flatten(yvals[\"cand_cls_id\"][iev], axis=0)\n",
    "            cand_eta = awkward.flatten(yvals[\"cand_eta\"][iev] - eta, axis=0)\n",
    "            cand_phi = awkward.flatten(deltaphi(yvals[\"cand_phi\"][iev], phi), axis=0)\n",
    "            cand_energy = awkward.flatten(yvals[\"cand_energy\"][iev], axis=0)\n",
    "\n",
    "            msk_h = (cand_cls_id == 1) | (cand_cls_id == 2) | (cand_cls_id == 3)\n",
    "            h_pf_h.fill(cand_eta[msk_h], cand_phi[msk_h], weight=cand_energy[msk_h] / len(X))\n",
    "            msk_e = (cand_cls_id == 4) | (cand_cls_id == 5)\n",
    "            h_pf_e.fill(cand_eta[msk_e], cand_phi[msk_e], weight=cand_energy[msk_e] / len(X))\n",
    "\n",
    "            pred_cls_id = awkward.flatten(yvals[\"pred_cls_id\"][iev], axis=0)\n",
    "            pred_eta = awkward.flatten(yvals[\"pred_eta\"][iev] - eta, axis=0)\n",
    "            pred_phi = awkward.flatten(deltaphi(yvals[\"pred_phi\"][iev], phi), axis=0)\n",
    "            pred_energy = awkward.flatten(yvals[\"pred_energy\"][iev], axis=0)\n",
    "\n",
    "            msk_h = (cand_cls_id == 1) | (cand_cls_id == 2) | (cand_cls_id == 3)\n",
    "            h_mlpf_h.fill(pred_eta[msk_h], pred_phi[msk_h], weight=pred_energy[msk_h] / len(X))\n",
    "            msk_e = (cand_cls_id == 4) | (cand_cls_id == 5)\n",
    "            h_mlpf_e.fill(pred_eta[msk_e], pred_phi[msk_e], weight=pred_energy[msk_e] / len(X))\n",
    "\n",
    "    return h_gen_h, h_gen_e, h_X_h, h_X_e, h_pf_h, h_pf_e, h_mlpf_h, h_mlpf_e"
   ]
  },
  {
   "cell_type": "code",
   "execution_count": null,
   "id": "3ee05382",
   "metadata": {},
   "outputs": [],
   "source": [
    "h_gen_h, h_gen_e, h_X_h, h_X_e, h_pf_h, h_pf_e, h_mlpf_h, h_mlpf_e = plot()"
   ]
  },
  {
   "cell_type": "code",
   "execution_count": null,
   "id": "5e43e341",
   "metadata": {},
   "outputs": [],
   "source": [
    "plt.figure(figsize=(5, 5))\n",
    "b = np.logspace(-1, 5, 100)\n",
    "mplhep.histplot(\n",
    "    [\n",
    "        to_bh(\n",
    "            awkward.flatten(\n",
    "                yvals[\"gen_energy\"][(yvals[\"gen_cls_id\"] == 1) | (yvals[\"gen_cls_id\"] == 2) | (yvals[\"gen_cls_id\"] == 3)]\n",
    "            ),\n",
    "            bins=b,\n",
    "        ),\n",
    "        to_bh(awkward.flatten(yvals[\"gen_energy\"][(yvals[\"gen_cls_id\"] == 4) | (yvals[\"gen_cls_id\"] == 5)]), bins=b),\n",
    "    ],\n",
    "    stack=True,\n",
    "    histtype=\"fill\",\n",
    "    label=[\"had\", \"em\"],\n",
    ")\n",
    "\n",
    "plt.legend(loc=2)\n",
    "plt.xscale(\"log\")"
   ]
  },
  {
   "cell_type": "code",
   "execution_count": null,
   "id": "e478c775",
   "metadata": {},
   "outputs": [],
   "source": [
    "fig, axs = plt.subplots(4, 2, figsize=(5 * 2, 4 * 4))\n",
    "\n",
    "plt.sca(axs[0, 0])\n",
    "mplhep.hist2dplot(h_gen_h, cmap=\"hot_r\")\n",
    "plt.xlabel(\"$\\Delta \\eta$\", fontsize=12)\n",
    "plt.ylabel(\"$\\Delta \\phi$\", fontsize=12)\n",
    "plt.title(\"Gen ch.had, n.had, HFHAD\", fontsize=12)\n",
    "\n",
    "plt.sca(axs[0, 1])\n",
    "mplhep.hist2dplot(h_gen_e, cmap=\"hot_r\")\n",
    "plt.xlabel(\"$\\Delta \\eta$\", fontsize=12)\n",
    "plt.ylabel(\"$\\Delta \\phi$\", fontsize=12)\n",
    "plt.title(\"Gen photon, HFEM\", fontsize=12)\n",
    "\n",
    "plt.sca(axs[1, 0])\n",
    "mplhep.hist2dplot(h_X_h, cmap=\"hot_r\")\n",
    "plt.xlabel(\"$\\Delta \\eta$\", fontsize=12)\n",
    "plt.ylabel(\"$\\Delta \\phi$\", fontsize=12)\n",
    "plt.title(\"PFElem HCAL/HFHAD\", fontsize=12)\n",
    "\n",
    "plt.sca(axs[1, 1])\n",
    "mplhep.hist2dplot(h_X_e, cmap=\"hot_r\")\n",
    "plt.xlabel(\"$\\Delta \\eta$\", fontsize=12)\n",
    "plt.ylabel(\"$\\Delta \\phi$\", fontsize=12)\n",
    "plt.title(\"PFElem ECAL/HFEM\", fontsize=12)\n",
    "\n",
    "plt.sca(axs[2, 0])\n",
    "mplhep.hist2dplot(h_pf_h, cmap=\"hot_r\")\n",
    "plt.xlabel(\"$\\Delta \\eta$\", fontsize=12)\n",
    "plt.ylabel(\"$\\Delta \\phi$\", fontsize=12)\n",
    "plt.title(\"PF ch.had, n.had, HFHAD\", fontsize=12)\n",
    "\n",
    "plt.sca(axs[2, 1])\n",
    "mplhep.hist2dplot(h_pf_e, cmap=\"hot_r\")\n",
    "plt.xlabel(\"$\\Delta \\eta$\", fontsize=12)\n",
    "plt.ylabel(\"$\\Delta \\phi$\", fontsize=12)\n",
    "plt.title(\"PF photon, HFEM\", fontsize=12)\n",
    "\n",
    "plt.sca(axs[3, 0])\n",
    "mplhep.hist2dplot(h_mlpf_h, cmap=\"hot_r\")\n",
    "plt.xlabel(\"$\\Delta \\eta$\", fontsize=12)\n",
    "plt.ylabel(\"$\\Delta \\phi$\", fontsize=12)\n",
    "plt.title(\"MLPF ch.had, n.had, HFHAD\", fontsize=12)\n",
    "\n",
    "plt.sca(axs[3, 1])\n",
    "mplhep.hist2dplot(h_mlpf_e, cmap=\"hot_r\")\n",
    "plt.xlabel(\"$\\Delta \\eta$\", fontsize=12)\n",
    "plt.ylabel(\"$\\Delta \\phi$\", fontsize=12)\n",
    "plt.title(\"MLPF photon, HFEM\", fontsize=12)\n",
    "\n",
    "plt.tight_layout()\n",
    "plt.savefig(\"single_neutron_gun_response.pdf\", bbox_inches=\"tight\")"
   ]
  },
  {
   "cell_type": "code",
   "execution_count": null,
   "id": "e4132051",
   "metadata": {},
   "outputs": [],
   "source": []
  }
 ],
 "metadata": {
  "celltoolbar": "Tags",
  "kernelspec": {
   "display_name": "Python 3",
   "language": "python",
   "name": "python3"
  },
  "language_info": {
   "codemirror_mode": {
    "name": "ipython",
    "version": 3
   },
   "file_extension": ".py",
   "mimetype": "text/x-python",
   "name": "python",
   "nbconvert_exporter": "python",
   "pygments_lexer": "ipython3",
   "version": "3.8.10"
  }
 },
 "nbformat": 4,
 "nbformat_minor": 5
}
