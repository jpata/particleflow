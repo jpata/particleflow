{
 "cells": [
  {
   "cell_type": "code",
   "execution_count": null,
   "id": "070996e5-11ca-443f-b62b-b2c5f39809fe",
   "metadata": {},
   "outputs": [],
   "source": [
    "!ls ../../experiments/pyg-cms_20250517_232752_544969/\n",
    "!mkdir -p pu_performance"
   ]
  },
  {
   "cell_type": "code",
   "execution_count": null,
   "id": "ac252836-ff19-470c-b812-6a4c4db35c2f",
   "metadata": {},
   "outputs": [],
   "source": [
    "import vector\n",
    "from tqdm.auto import tqdm\n",
    "import awkward as ak\n",
    "\n",
    "import matplotlib.pyplot as plt\n",
    "from sklearn.metrics import roc_curve, roc_auc_score\n",
    "\n",
    "import numpy as np\n",
    "\n",
    "import glob\n",
    "\n",
    "import sys\n",
    "sys.path += [\"../../mlpf/plotting/\"]\n",
    "from plot_utils import experiment_label, sample_label\n",
    "\n",
    "def cms_label(ax):\n",
    "    return experiment_label(ax, experiment=\"CMS\", tag1=\"Simulation Preliminary\", tag2=\"Run 3 (13.6 TeV)\", x1=0.13)\n",
    "\n",
    "prcoesses = {\n",
    "    'cms_pf_ttbar': 't'+r'$\\bar{t}$+PU'+'\\nPU 55-75',\n",
    "    'cms_pf_qcd': 'QCD $p_{T}\\in$[15, 3000] GeV\\nPU 55-75',\n",
    "    'cms_pf_qcd13p6': 'QCD $p_{T}\\in$[15, 3000] GeV\\nPU 55-75',\n",
    "    'cms_pf_ztt': r'$Z\\rightarrow \\tau\\tau$'+'\\nPU 55-75'\n",
    "}"
   ]
  },
  {
   "cell_type": "code",
   "execution_count": null,
   "id": "e9711a3a-03cb-4fdb-90a8-adb808129ba5",
   "metadata": {},
   "outputs": [],
   "source": [
    "which_process = 'cms_pf_qcd13p6'\n",
    "#modify path as appropriate\n",
    "files = glob.glob(f'../../experiments/pyg-cms_20250517_232752_544969/preds_checkpoint-08-3.863894/{which_process}/*parquet')[:500]\n",
    "arr = ak.concatenate([ak.from_parquet(file) for file in tqdm(files)])"
   ]
  },
  {
   "cell_type": "code",
   "execution_count": null,
   "id": "c60f62e4-2e09-4b0f-a6c9-48d03bd9167c",
   "metadata": {},
   "outputs": [],
   "source": [
    "particle_types = {\n",
    "    'ch. had.': 1,\n",
    "    'n. had.': 2,\n",
    "    '$e^\\pm$': 6,\n",
    "    '$\\mu^\\pm$': 7,\n",
    "    '$\\gamma$': 5,\n",
    "    'HF had.': 3,\n",
    "    'HF e.m.': 4,\n",
    "}\n",
    "\n",
    "particle_types_literal = {\n",
    "    'ch. had.': 'chhad',\n",
    "    'n. had.': 'nhad',\n",
    "    '$e^\\pm$': 'e',\n",
    "    '$\\mu^\\pm$': 'mu',\n",
    "    '$\\gamma$': 'gamma',\n",
    "    'HF had.': 'hfhad',\n",
    "    'HF e.m.': 'hfem',\n",
    "}\n",
    "\n",
    "pu_target_pred = {}\n",
    "\n",
    "for particle_type in particle_types:\n",
    "    sel = (arr.particles.target.cls_id == particle_types[particle_type])\n",
    "    sel1 = (arr.particles.target.pt > 5)# & (arr.particles.pred.pt > 5)\n",
    "    pu_target_pred[particle_type] = [arr.particles.target[sel & sel1].ispu, arr.particles.pred[sel & sel1].ispu]"
   ]
  },
  {
   "cell_type": "code",
   "execution_count": null,
   "id": "ca195b57-fb7c-4fd2-a592-c79283951af7",
   "metadata": {},
   "outputs": [],
   "source": [
    "import mplhep as hep\n",
    "\n",
    "fig = plt.figure()\n",
    "ax = plt.axes()\n",
    "plt.style.use(hep.style.CMS)\n",
    "\n",
    "for particle_type in particle_types:\n",
    "    fpr, tpr, thresholds = roc_curve(ak.flatten(pu_target_pred[particle_type][0]) == 1, ak.flatten(pu_target_pred[particle_type][1]))\n",
    "    auc = roc_auc_score(ak.flatten(pu_target_pred[particle_type][0]) == 1, ak.flatten(pu_target_pred[particle_type][1]))\n",
    "    ls = \"-\"\n",
    "    if particle_type in [\"HF had.\", \"HF e.m.\"]:\n",
    "        ls = \"--\"\n",
    "    plt.plot(fpr, tpr, label = particle_type+', AUC = %0.3f' % auc, linewidth=2.5, ls=ls)\n",
    "\n",
    "plt.plot([0, 1], [0, 1],'k--', label='AUC=0.5')\n",
    "plt.legend(loc = 'lower right', frameon=False, title=prcoesses[which_process], fontsize=16, title_fontsize=24)\n",
    "plt.xlim([0, 1])\n",
    "plt.ylim([0, 1])\n",
    "plt.ylabel('True positive rate', loc='top')\n",
    "plt.xlabel('False positive rate', loc='right')\n",
    "\n",
    "cms_label(ax)\n",
    "#hep.cms.label(\"Preliminary\", data=False, com=13.6, year='Run 3')\n",
    "\n",
    "#modify path as appropriate\n",
    "plt.savefig(f'pu_performance/{which_process}_pu_roc.pdf')"
   ]
  },
  {
   "cell_type": "code",
   "execution_count": null,
   "id": "a564fa0d-2d02-40db-8a18-0b8c20a12299",
   "metadata": {},
   "outputs": [],
   "source": [
    "np.searchsorted(thresholds[::-1], 0.1)"
   ]
  },
  {
   "cell_type": "code",
   "execution_count": null,
   "id": "7e0a05cf-8f40-4df9-b6e4-0a6754dba9de",
   "metadata": {},
   "outputs": [],
   "source": [
    "import mplhep as hep\n",
    "\n",
    "fig = plt.figure()\n",
    "ax = plt.axes()\n",
    "plt.style.use(hep.style.CMS)\n",
    "\n",
    "for particle_type, ls in zip(['$\\gamma$', 'n. had.'], [\"-\", \"--\"]):\n",
    "    fpr, tpr, thresholds = roc_curve(ak.flatten(pu_target_pred[particle_type][0]) == 1, ak.flatten(pu_target_pred[particle_type][1]))\n",
    "    thresh_idx = len(thresholds) - np.searchsorted(thresholds[::-1], 0.1)\n",
    "    auc = roc_auc_score(ak.flatten(pu_target_pred[particle_type][0]) == 1, ak.flatten(pu_target_pred[particle_type][1]))\n",
    "    c = plt.plot(fpr, tpr, label = particle_type+', AUC = %0.3f' % auc, linewidth=2.5, ls=ls)\n",
    "    plt.plot([fpr[thresh_idx]], [tpr[thresh_idx]], marker=\"o\", color=c[0].get_color(), markersize=10)\n",
    "\n",
    "plt.plot([0, 1], [0, 1],'k--', label='AUC=0.5')\n",
    "plt.legend(loc = 'lower right', frameon=False, title=prcoesses[which_process] + \"\\n$p_{T,ptcl}$ > 5 GeV\", fontsize=16, title_fontsize=24)\n",
    "plt.xlim([0, 1])\n",
    "plt.ylim([0, 1])\n",
    "plt.ylabel('True positive rate', loc='top')\n",
    "plt.xlabel('False positive rate', loc='right')\n",
    "\n",
    "cms_label(ax)\n",
    "#hep.cms.label(\"Preliminary\", data=False, com=13.6, year='Run 3')\n",
    "\n",
    "#modify path as appropriate\n",
    "plt.savefig(f'pu_performance/{which_process}_pu_roc.pdf')"
   ]
  },
  {
   "cell_type": "code",
   "execution_count": null,
   "id": "4bf853aa-377c-4ecb-93d4-857da3dd3842",
   "metadata": {},
   "outputs": [],
   "source": [
    "for particle_type in pu_target_pred:\n",
    "\n",
    "    plt.style.use(hep.style.CMS)\n",
    "\n",
    "    fig = plt.figure()\n",
    "    ax = plt.gca()\n",
    "\n",
    "    bins = np.linspace(0,1,100)\n",
    "    plt.hist(ak.flatten(pu_target_pred[particle_type][1][pu_target_pred[particle_type][0]==0]), histtype='step', bins=bins, label='non-PU', linewidth=2.5, density=1)\n",
    "    plt.hist(ak.flatten(pu_target_pred[particle_type][1][pu_target_pred[particle_type][0]==1]), histtype='step', bins=bins, label='PU', linewidth=2.5, density=1)\n",
    "\n",
    "    ax.set_yscale('log')\n",
    "    ax.set_xlabel(\"MLPF pileup pred. \", loc='right')\n",
    "    ax.set_ylabel('Particles', loc='top')\n",
    "\n",
    "    cms_label(ax)\n",
    "    \n",
    "    plt.legend(title=prcoesses[which_process]+'\\n'+particle_type, frameon=False, loc=1)\n",
    "    plt.ylim(top=ax.get_ylim()[1]*100)\n",
    "    \n",
    "    #modify path as appropriate\n",
    "    plt.savefig(f'pu_performance/{which_process}_{particle_types_literal[particle_type]}_pu.pdf')"
   ]
  },
  {
   "cell_type": "code",
   "execution_count": null,
   "id": "7b425176-b174-4cb4-a2d1-865bd3a001b0",
   "metadata": {},
   "outputs": [],
   "source": []
  }
 ],
 "metadata": {
  "kernelspec": {
   "display_name": "Python 3 (ipykernel)",
   "language": "python",
   "name": "python3"
  },
  "language_info": {
   "codemirror_mode": {
    "name": "ipython",
    "version": 3
   },
   "file_extension": ".py",
   "mimetype": "text/x-python",
   "name": "python",
   "nbconvert_exporter": "python",
   "pygments_lexer": "ipython3",
   "version": "3.11.10"
  }
 },
 "nbformat": 4,
 "nbformat_minor": 5
}
