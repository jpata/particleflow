{
 "cells": [
  {
   "cell_type": "code",
   "execution_count": null,
   "id": "aafb9aad-701c-4176-b34c-b607bce7479b",
   "metadata": {},
   "outputs": [],
   "source": [
    "import matplotlib.pyplot as plt\n",
    "import uproot\n",
    "import awkward as ak\n",
    "import vector\n",
    "import numpy as np\n",
    "vector.register_awkward()"
   ]
  },
  {
   "cell_type": "code",
   "execution_count": null,
   "id": "9d702dde-b3b2-4d66-82f4-30182536cf5a",
   "metadata": {},
   "outputs": [],
   "source": [
    "def find_pf_cones(data, target_pdgId, min_gen_pt, max_gen_pt, delta_r_cut, pf_prefix=\"PFCands\"):\n",
    "    \"\"\"\n",
    "    Finds PF candidates within a deltaR cone around selected Gen candidates\n",
    "    using direct broadcasting for deltaR calculation. Concise version.\n",
    "\n",
    "    Args:\n",
    "        data (ak.Array): Awkward array with Gen and PF branches.\n",
    "        target_pdgId (int): PDG ID of Gen candidates to select.\n",
    "        min_gen_pt (float): Minimum pt of Gen candidates to select.\n",
    "        delta_r_cut (float): Maximum deltaR for matching PF candidates.\n",
    "        pf_prefix (str): Prefix for PF candidate branches (e.g., \"PFCands\").\n",
    "\n",
    "    Returns:\n",
    "        ak.Array: Jagged array of {gen: Momentum4D, pfs: [Momentum4D]} records.\n",
    "                  Includes only Gen candidates with at least one associated PF candidate.\n",
    "    \"\"\"\n",
    "    #1. Create Lorentz vectors\n",
    "    gen_vecs = ak.zip(\n",
    "        { \"pt\": data[\"GenCands_pt\"], \"eta\": data[\"GenCands_eta\"], \"phi\": data[\"GenCands_phi\"], \"mass\": data[\"GenCands_mass\"], \"pdgId\": data[\"GenCands_pdgId\"], },\n",
    "        with_name=\"Momentum4D\",\n",
    "    )\n",
    "    pf_vecs = ak.zip(\n",
    "        { \"pt\": data[f\"{pf_prefix}_pt\"], \"eta\": data[f\"{pf_prefix}_eta\"], \"phi\": data[f\"{pf_prefix}_phi\"], \"mass\": data[f\"{pf_prefix}_mass\"], \"pdgId\": data[f\"{pf_prefix}_pdgId\"], },\n",
    "        with_name=\"Momentum4D\",\n",
    "    )\n",
    "    \n",
    "    # 2. Filter Gen candidates\n",
    "    gen_mask = (gen_vecs.pdgId == target_pdgId) & (gen_vecs.pt >= min_gen_pt) & (gen_vecs.pt < max_gen_pt)\n",
    "    selected_gen_vecs = gen_vecs[gen_mask]\n",
    "    \n",
    "    # 3. Create and apply event mask (only process events with potential matches)\n",
    "    event_mask = (ak.num(selected_gen_vecs, axis=1) > 0) & (ak.num(pf_vecs, axis=1) > 0)\n",
    "    selected_gen_vecs_filt = selected_gen_vecs[event_mask]\n",
    "    pf_vecs_filt = pf_vecs[event_mask]\n",
    "    \n",
    "    gen_list = []\n",
    "    pf_list = []\n",
    "    for iev in range(len(selected_gen_vecs_filt)):\n",
    "        for igen in range(len(selected_gen_vecs_filt[iev])):\n",
    "            gen_list.append(selected_gen_vecs_filt[iev][igen])\n",
    "            deltar_gen_to_pfs = selected_gen_vecs_filt[iev][igen].deltaR(pf_vecs_filt[iev])\n",
    "            cone_mask = deltar_gen_to_pfs < delta_r_cut\n",
    "            pf_list.append(pf_vecs_filt[iev][cone_mask])\n",
    "    \n",
    "    \n",
    "    gen_list = ak.Array(gen_list)\n",
    "    pf_list = ak.Array(pf_list)\n",
    "\n",
    "    # 9. Combine the original selected/filtered Gen candidates with their associated PF lists\n",
    "    result_all_gens = ak.Array({\n",
    "        \"gen\": gen_list,\n",
    "        \"pfs\": pf_list\n",
    "    })\n",
    "\n",
    "    return result_all_gens"
   ]
  },
  {
   "cell_type": "code",
   "execution_count": null,
   "id": "df957e17-9112-43bd-8b5a-391a9a7620db",
   "metadata": {},
   "outputs": [],
   "source": [
    "!ls /local/joosep/mlpf/results/cms/CMSSW_14_1_0_74d149_btvnano/"
   ]
  },
  {
   "cell_type": "code",
   "execution_count": null,
   "id": "5abd5ec4-baa0-4896-bc03-d9dd72165e18",
   "metadata": {},
   "outputs": [],
   "source": [
    "ret_pfs = []\n",
    "ret_mlpfs = []\n",
    "for ifile in range(1,7):\n",
    "    ev_pf = uproot.open(\"/local/joosep/mlpf/results/cms/CMSSW_14_1_0_74d149_btvnano/TTbar_noPU_pf/step3_NANO_btv_{}.root\".format(ifile)).get(\"Events\")\n",
    "    ev_mlpf = uproot.open(\"/local/joosep/mlpf/results/cms/CMSSW_14_1_0_74d149_btvnano/TTbar_noPU_mlpf/step3_NANO_btv_{}.root\".format(ifile)).get(\"Events\")\n",
    "    data_pf = ev_pf.arrays([\n",
    "        \"GenCands_pt\", \"GenCands_eta\", \"GenCands_phi\", \"GenCands_mass\", \"GenCands_pdgId\",\n",
    "        \"PFCands_pt\", \"PFCands_eta\", \"PFCands_phi\", \"PFCands_mass\", \"PFCands_pdgId\",\n",
    "    ])\n",
    "    \n",
    "    data_mlpf = ev_mlpf.arrays([\n",
    "        \"GenCands_pt\", \"GenCands_eta\", \"GenCands_phi\", \"GenCands_mass\", \"GenCands_pdgId\",\n",
    "        \"PFCands_pt\", \"PFCands_eta\", \"PFCands_phi\", \"PFCands_mass\", \"PFCands_pdgId\",\n",
    "    ])\n",
    "\n",
    "    #pick particles around gen neutral hadrons, 20<pt/GeV<10000\n",
    "    #get PF, MLPF particles in a cone around dR<0.02 around each gen particle\n",
    "    ret_pfs.append(find_pf_cones(data_pf, 13, 20, 10000, 0.02))\n",
    "    ret_mlpfs.append(find_pf_cones(data_mlpf, 13, 20, 10000, 0.02))\n",
    "\n",
    "ret_pfs = ak.concatenate(ret_pfs)\n",
    "ret_mlpfs = ak.concatenate(ret_mlpfs)"
   ]
  },
  {
   "cell_type": "code",
   "execution_count": null,
   "id": "5bf332a2-6394-46f1-bf50-d69a32ffaf1b",
   "metadata": {},
   "outputs": [],
   "source": [
    "ret_pfs.gen.pt[:8]"
   ]
  },
  {
   "cell_type": "code",
   "execution_count": null,
   "id": "09750116-4269-4f29-a8d9-02b57dd77363",
   "metadata": {},
   "outputs": [],
   "source": [
    "ret_pfs.pfs.pt[:8]"
   ]
  },
  {
   "cell_type": "code",
   "execution_count": null,
   "id": "937015c7-3781-474b-87d1-ec14b9f5ffd7",
   "metadata": {},
   "outputs": [],
   "source": [
    "ret_pfs.pfs.pdgId[:8]"
   ]
  },
  {
   "cell_type": "code",
   "execution_count": null,
   "id": "a131fde0-fda2-4c40-acc2-30b4e7b076c3",
   "metadata": {},
   "outputs": [],
   "source": [
    "b = np.linspace(0,4,100)\n",
    "plt.hist(\n",
    "    ak.sum(ret_pfs.pfs.pt[ret_pfs.pfs.pdgId==130], axis=1)/ret_pfs.gen.pt,\n",
    "    bins=b, histtype=\"step\", label=\"130\"\n",
    ");\n",
    "\n",
    "plt.hist(\n",
    "    ak.sum(ret_pfs.pfs.pt[ret_pfs.pfs.pdgId==22], axis=1)/ret_pfs.gen.pt,\n",
    "    bins=b, histtype=\"step\", label=\"22\"\n",
    ");\n",
    "\n",
    "plt.hist(\n",
    "    ak.sum(ret_pfs.pfs.pt[ret_pfs.pfs.pdgId==211], axis=1)/ret_pfs.gen.pt,\n",
    "    bins=b, histtype=\"step\", label=\"211\"\n",
    ");\n",
    "\n",
    "plt.hist(\n",
    "    ak.sum(ret_pfs.pfs.pt[ret_pfs.pfs.pdgId==13], axis=1)/ret_pfs.gen.pt,\n",
    "    bins=b, histtype=\"step\", label=\"13\"\n",
    ");\n",
    "\n",
    "plt.legend()\n",
    "plt.yscale(\"log\")"
   ]
  },
  {
   "cell_type": "code",
   "execution_count": null,
   "id": "8811ef65-2f6c-4f83-8446-198a1087ff08",
   "metadata": {},
   "outputs": [],
   "source": [
    "plt.hist(\n",
    "    ak.sum(ret_pfs.pfs.pt, axis=1)/ret_pfs.gen.pt,\n",
    "    bins=b, histtype=\"step\"\n",
    ");\n",
    "\n",
    "plt.hist(\n",
    "    ak.sum(ret_mlpfs.pfs.pt, axis=1)/ret_mlpfs.gen.pt,\n",
    "    bins=b, histtype=\"step\"\n",
    ");\n",
    "plt.yscale(\"log\")"
   ]
  }
 ],
 "metadata": {
  "kernelspec": {
   "display_name": "Python 3 (ipykernel)",
   "language": "python",
   "name": "python3"
  },
  "language_info": {
   "codemirror_mode": {
    "name": "ipython",
    "version": 3
   },
   "file_extension": ".py",
   "mimetype": "text/x-python",
   "name": "python",
   "nbconvert_exporter": "python",
   "pygments_lexer": "ipython3",
   "version": "3.11.10"
  }
 },
 "nbformat": 4,
 "nbformat_minor": 5
}
