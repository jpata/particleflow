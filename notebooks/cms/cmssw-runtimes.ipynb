{
 "cells": [
  {
   "cell_type": "code",
   "execution_count": null,
   "id": "eef2ef70-46e3-438d-a6bf-daae36476d43",
   "metadata": {},
   "outputs": [],
   "source": [
    "import matplotlib.pyplot as plt\n",
    "import pandas as pd\n",
    "import numpy as np\n",
    "import glob\n",
    "import matplotlib\n",
    "import os\n",
    "\n",
    "import mplhep\n",
    "mplhep.style.use(\"CMS\")\n",
    "\n",
    "import sys\n",
    "sys.path += [\"../../mlpf/\"]\n",
    "sys.path += [\"../../mlpf/plotting/\"]\n",
    "import plot_utils\n",
    "from plot_utils import med_iqr, sample_label"
   ]
  },
  {
   "cell_type": "code",
   "execution_count": null,
   "id": "5f7a2e43-541c-4dc8-82f8-4940bc106f9c",
   "metadata": {},
   "outputs": [],
   "source": [
    "matplotlib.rcParams['axes.labelsize'] = 35\n",
    "legend_fontsize = 30\n",
    "sample_label_fontsize = 30\n",
    "addtext_fontsize = 25\n",
    "\n",
    "jet_label_coords = 0.02, 0.82\n",
    "jet_label_coords_single = 0.02, 0.86\n",
    "sample_label_coords = 0.02, 0.96\n",
    "\n",
    "default_cycler = plt.rcParams['axes.prop_cycle']\n",
    "pf_color = list(default_cycler)[1][\"color\"]\n",
    "mlpf_color = list(default_cycler)[2][\"color\"]\n",
    "\n",
    "pf_linestyle = \"-.\"\n",
    "mlpf_linestyle = \"-\""
   ]
  },
  {
   "cell_type": "code",
   "execution_count": null,
   "id": "9e83c7d4-296d-40d5-aec7-3b33682f9bd1",
   "metadata": {},
   "outputs": [],
   "source": [
    "def cms_label(ax):\n",
    "    mplhep.cms.label(\"\", data=False, rlabel='Run 3 configuration')"
   ]
  },
  {
   "cell_type": "markdown",
   "id": "e32e28ae-645a-47f6-b0b1-c032970e9557",
   "metadata": {},
   "source": [
    "### Runtimes from CMSSW"
   ]
  },
  {
   "cell_type": "code",
   "execution_count": null,
   "id": "06c30fe2-889f-4ead-a1b0-bdc63eed2d04",
   "metadata": {},
   "outputs": [],
   "source": [
    "def load_runtimes(infile_pattern):\n",
    "\n",
    "    evs = []\n",
    "    lumis = []\n",
    "    modules = []\n",
    "    producers = []\n",
    "    times = []\n",
    "    file_indices = []\n",
    "\n",
    "    idx_file = 0\n",
    "    for infile in list(glob.glob(infile_pattern)):\n",
    "        with open(infile, \"r\") as fi:\n",
    "\n",
    "            first = True\n",
    "            for line in fi.readlines():\n",
    "                if \"TimeModule\" in line:\n",
    "                    if \"PFProducer\" in line or \"PFBlockProducer\" in line:\n",
    "                        spl = line.split()\n",
    "                        try:\n",
    "                            ev, lumi, module, producer, time = spl[1], spl[2], spl[3], spl[4], float(spl[5])\n",
    "                        except Exception as e:\n",
    "                            print(\"Could not parse line\")\n",
    "                            print(line)\n",
    "                            continue\n",
    "    \n",
    "                        file_indices.append(idx_file)\n",
    "                        evs.append(int(ev))\n",
    "                        lumis.append(int(lumi))\n",
    "                        modules.append(module)\n",
    "                        producers.append(producer)\n",
    "                        times.append(time)\n",
    "        idx_file += 1\n",
    "    df = pd.DataFrame()\n",
    "    df[\"event\"] = evs\n",
    "    df[\"file_index\"] = file_indices\n",
    "    df[\"lumi\"] = lumis\n",
    "    df[\"module\"] = modules\n",
    "    df[\"producer\"] = producers\n",
    "    df[\"time\"] = times\n",
    "    return df"
   ]
  },
  {
   "cell_type": "code",
   "execution_count": null,
   "id": "54e15358-fd78-444c-8dae-830824db86da",
   "metadata": {},
   "outputs": [],
   "source": [
    "outpath = \"cmssw\"\n",
    "os.makedirs(outpath, exist_ok=True)"
   ]
  },
  {
   "cell_type": "code",
   "execution_count": null,
   "id": "117b2467-019b-4b7f-abb2-ec09628d974b",
   "metadata": {},
   "outputs": [],
   "source": [
    "times_pf = load_runtimes(\"/local/joosep/mlpf/results/cms/CMSSW_15_0_5_mlpf_v2.6.0pre1_p05_ccd0c7/timing_l4/log_pf_cpu*_par8.txt\")\n",
    "times_mlpf = load_runtimes(\"/local/joosep/mlpf/results/cms/CMSSW_15_0_5_mlpf_v2.6.0pre1_p05_ccd0c7/timing_l4/log_mlpf_gpu*_par8.txt\")"
   ]
  },
  {
   "cell_type": "code",
   "execution_count": null,
   "id": "a75ec111-b967-4c90-83d1-375952b12573",
   "metadata": {},
   "outputs": [],
   "source": [
    "times_pf_sel = times_pf[(times_pf[\"producer\"]==\"PFProducer\") | (times_pf[\"producer\"]==\"PFBlockProducer\")]\n",
    "times_mlpf_sel = times_mlpf[(times_mlpf[\"producer\"]==\"MLPFProducer\")]"
   ]
  },
  {
   "cell_type": "code",
   "execution_count": null,
   "id": "69810ca2-fed3-4a0a-8fa1-ecbbb673c2b9",
   "metadata": {},
   "outputs": [],
   "source": [
    "times_pf_event = pd.pivot_table(times_pf_sel, values=\"time\", index=[\"event\", \"lumi\", \"file_index\"], columns=[\"producer\"], aggfunc=\"sum\")\n",
    "times_pf_event_good = times_pf_event[~(np.isnan(times_pf_event[\"PFBlockProducer\"]) | np.isnan(times_pf_event[\"PFProducer\"]))]"
   ]
  },
  {
   "cell_type": "code",
   "execution_count": null,
   "id": "1e99f63f-a16c-4f09-a5af-fd1d799ce3af",
   "metadata": {},
   "outputs": [],
   "source": [
    "times_mlpf_event = pd.pivot_table(times_mlpf_sel, values=\"time\", index=[\"event\", \"lumi\", \"file_index\"], columns=[\"producer\"], aggfunc=\"sum\")\n",
    "times_mlpf_event_good = times_mlpf_event[~(np.isnan(times_mlpf_event[\"MLPFProducer\"]))]"
   ]
  },
  {
   "cell_type": "code",
   "execution_count": null,
   "id": "848ad574-ddfc-4866-afd2-e161d41cb0d8",
   "metadata": {},
   "outputs": [],
   "source": [
    "times_joined = times_pf_event_good.merge(times_mlpf_event_good, on=[\"event\", \"lumi\", \"file_index\"])"
   ]
  },
  {
   "cell_type": "code",
   "execution_count": null,
   "id": "e5ef5157-5aa3-4f0b-a978-17d52d3fce5a",
   "metadata": {},
   "outputs": [],
   "source": [
    "#for each job (file_index), drop events with the 16 slowest MLPF time, because those are related to warmup / initialization\n",
    "bad_evs = times_joined.groupby(level='file_index')['MLPFProducer'].apply(lambda x: x.sort_values()[-16:])\n",
    "bad_evs.index = bad_evs.index.droplevel(0)"
   ]
  },
  {
   "cell_type": "code",
   "execution_count": null,
   "id": "0afb6b38-9bc0-4c1f-bc6e-6e4e6decedf7",
   "metadata": {},
   "outputs": [],
   "source": [
    "b = np.linspace(0,0.5,201)\n",
    "plt.hist(times_joined[\"MLPFProducer\"], bins=b, histtype=\"step\", lw=2);\n",
    "plt.hist(bad_evs.values, bins=b, histtype=\"step\", lw=2);\n",
    "plt.yscale(\"log\")"
   ]
  },
  {
   "cell_type": "code",
   "execution_count": null,
   "id": "b43e1c0b-f1f3-4623-936d-a9cb91a2c3f4",
   "metadata": {},
   "outputs": [],
   "source": [
    "times_joined_drop = times_joined.drop(index=bad_evs.index)"
   ]
  },
  {
   "cell_type": "code",
   "execution_count": null,
   "id": "f57b846c-999a-4f32-b762-147ec717400c",
   "metadata": {},
   "outputs": [],
   "source": [
    "fig = plt.figure(figsize=(12,10))\n",
    "ax = plt.axes()\n",
    "\n",
    "b = np.linspace(0, 0.6, 201)\n",
    "plt.hist2d(\n",
    "    times_joined_drop[\"PFBlockProducer\"]+times_joined_drop[\"PFProducer\"],\n",
    "    times_joined_drop[\"MLPFProducer\"],\n",
    "    bins=b,\n",
    "    norm=matplotlib.colors.LogNorm(vmin=0.1),\n",
    "    cmap=\"turbo\"\n",
    ");\n",
    "plt.xlabel(\"PF, $t^{CPU}_{ev}$ [s]\")\n",
    "plt.ylabel(\"MLPF, $t^{GPU}_{ev}$ [s]\")\n",
    "cms_label(ax)\n",
    "sample_label(ax, \"cms_pf_qcd\", x=sample_label_coords[0], y=sample_label_coords[1], fontsize=sample_label_fontsize)\n",
    "plt.colorbar(label=\"Counts\")\n",
    "plt.xlim(0, 0.5)\n",
    "plt.ylim(0, 0.5)\n",
    "plt.text(sample_label_coords[0], 0.74, \"CMSSW_15_0_5\\nnative ONNXRuntime\\n8 jobs, 8 threads per job\", fontsize=legend_fontsize, transform=ax.transAxes)\n",
    "plt.savefig(\"{}/cmssw_runtime_2d.pdf\".format(outpath), bbox_inches=\"tight\")"
   ]
  },
  {
   "cell_type": "code",
   "execution_count": null,
   "id": "896cc9ca-1db8-4a74-9f4a-57c050160371",
   "metadata": {},
   "outputs": [],
   "source": [
    "fig = plt.figure()\n",
    "ax = plt.axes()\n",
    "b = np.linspace(0, 0.5, 81)\n",
    "\n",
    "plt.plot([], [])\n",
    "x = (times_pf_event_good[\"PFBlockProducer\"]+times_pf_event_good[\"PFProducer\"]).drop(index=bad_evs.index)\n",
    "m = np.mean(x)\n",
    "plt.hist(\n",
    "    x,\n",
    "    bins=b, histtype=\"step\", lw=2, label=\"PF, $\\\\bar{t}^{CPU}_{ev}$=\" +\"{:.2f}s\".format(m), ls=pf_linestyle\n",
    ");\n",
    "\n",
    "x = times_mlpf_event_good[\"MLPFProducer\"].drop(index=bad_evs.index)\n",
    "m = np.mean(x)\n",
    "plt.hist(\n",
    "    x, bins=b, histtype=\"step\", lw=2, label=\"MLPF, $\\\\bar{t}^{GPU}_{ev}$=\" +\"{:.2f}s\".format(m), ls=mlpf_linestyle\n",
    ")\n",
    "cms_label(ax)\n",
    "sample_label(ax, \"cms_pf_qcd\", x=sample_label_coords[0], y=sample_label_coords[1], fontsize=sample_label_fontsize)\n",
    "plt.text(sample_label_coords[0], 0.74, \"CMSSW_15_0_5\\nnative ONNXRuntime\\n8 jobs, 8 threads per job\", fontsize=legend_fontsize, transform=ax.transAxes)\n",
    "plt.legend(loc=(0.38, 0.48), fontsize=legend_fontsize)\n",
    "plt.xlabel(\"Runtime per event [s]\")\n",
    "plt.ylabel(\"Counts\")\n",
    "plt.yscale(\"log\")\n",
    "plt.ylim(1, 1e6)\n",
    "plt.savefig(\"{}/cmssw_runtime.pdf\".format(outpath))"
   ]
  },
  {
   "cell_type": "code",
   "execution_count": null,
   "id": "7db649f3-23d7-4e0b-94d8-8f4dd799ef9e",
   "metadata": {},
   "outputs": [],
   "source": [
    "df_gpu = pd.read_csv(\"/local/joosep/mlpf/results/cms/CMSSW_15_0_5_mlpf_v2.6.0pre1_p05_ccd0c7/timing_l4/gpu.log\", header=None)\n",
    "df_gpu[0] = [pd.to_datetime(x) for x in df_gpu[0]]\n",
    "df_gpu[5] = [float(x.split()[0]) for x in df_gpu[5]]\n",
    "df_gpu[4] = [float(x.split()[0]) for x in df_gpu[4]]"
   ]
  },
  {
   "cell_type": "code",
   "execution_count": null,
   "id": "d2100744-37a9-4d9e-80da-24b8889abf1d",
   "metadata": {},
   "outputs": [],
   "source": [
    "def window(size):\n",
    "    return np.ones(size)/float(size)\n",
    "\n",
    "f, (a0, a1) = plt.subplots(2, 1, gridspec_kw={\"height_ratios\": [1, 1]}, sharex=True)\n",
    "\n",
    "plt.sca(a0)\n",
    "plt.plot(df_gpu[0], df_gpu[5]/1000, marker=\".\")\n",
    "plt.ylim(0,24152.9/1000)\n",
    "plt.ylabel(\"GPU mem. (GB)\")\n",
    "\n",
    "plt.sca(a1)\n",
    "plt.plot(df_gpu[0],np.convolve(df_gpu[4],window(60),'same'), ls=\"\", marker=\".\")\n",
    "plt.ylim(0,100)\n",
    "plt.ylabel(\"GPU util. (%)\")\n",
    "plt.xlabel(\"job runtime\")\n",
    "a0.text(sample_label_coords[0], 0.60, \"Nvidia L4, CMSSW_15_0_5\\nnative ONNXRuntime\\n8 jobs, 8 threads per job\", fontsize=legend_fontsize, transform=a0.transAxes)\n",
    "plt.savefig(\"{}/gpu_util.pdf\".format(outpath), bbox_inches=\"tight\")"
   ]
  },
  {
   "cell_type": "code",
   "execution_count": null,
   "id": "201c002b-d9d6-497f-9a5f-0de08fdf8959",
   "metadata": {},
   "outputs": [],
   "source": []
  }
 ],
 "metadata": {
  "kernelspec": {
   "display_name": "Python 3 (ipykernel)",
   "language": "python",
   "name": "python3"
  },
  "language_info": {
   "codemirror_mode": {
    "name": "ipython",
    "version": 3
   },
   "file_extension": ".py",
   "mimetype": "text/x-python",
   "name": "python",
   "nbconvert_exporter": "python",
   "pygments_lexer": "ipython3",
   "version": "3.11.10"
  }
 },
 "nbformat": 4,
 "nbformat_minor": 5
}
