{
 "cells": [
  {
   "cell_type": "code",
   "execution_count": null,
   "id": "04ad1846-2eab-4e19-8587-2a5f235d7a9f",
   "metadata": {},
   "outputs": [],
   "source": [
    "import pickle\n",
    "import bz2\n",
    "import glob\n",
    "import awkward\n",
    "import numpy as np\n",
    "import matplotlib.pyplot as plt"
   ]
  },
  {
   "cell_type": "code",
   "execution_count": null,
   "id": "a2e1febb-9505-43ce-998f-e41294366ebe",
   "metadata": {},
   "outputs": [],
   "source": [
    "Xelems = []\n",
    "for fn in glob.glob(\"/local/joosep/mlpf/cms/v3/pu55to75/TTbar_14TeV_TuneCUETP8M1_cfi/raw/pfntuple_10000*.pkl.bz2\"):\n",
    "    print(fn)\n",
    "    data = pickle.load(bz2.BZ2File(fn, \"rb\"))\n",
    "    for d in data:\n",
    "        arr = awkward.Array({n: d[\"Xelem\"][n] for n in d[\"Xelem\"].dtype.names})\n",
    "        Xelems.append(arr)"
   ]
  },
  {
   "cell_type": "code",
   "execution_count": null,
   "id": "43194dc1-36ff-422c-b5de-5447dc54c3bc",
   "metadata": {},
   "outputs": [],
   "source": [
    "Xall = awkward.concatenate(Xelems)"
   ]
  },
  {
   "cell_type": "code",
   "execution_count": null,
   "id": "37831bd9-79b5-4eed-bc4e-03d6b8d6636d",
   "metadata": {},
   "outputs": [],
   "source": [
    "b = np.linspace(0, 0.5, 200)\n",
    "msk_hcal = (Xall[\"typ\"]==5)\n",
    "plt.hist(awkward.to_numpy(Xall[msk_hcal][\"etaerror1\"]), bins=b, histtype=\"step\", lw=1, label=\"depth 1\");\n",
    "plt.hist(awkward.to_numpy(Xall[msk_hcal][\"etaerror2\"]), bins=b, histtype=\"step\", lw=1, label=\"depth 2\");\n",
    "plt.hist(awkward.to_numpy(Xall[msk_hcal][\"etaerror3\"]), bins=b, histtype=\"step\", lw=1, label=\"depth 3\");\n",
    "plt.hist(awkward.to_numpy(Xall[msk_hcal][\"etaerror4\"]), bins=b, histtype=\"step\", lw=1, label=\"depth 4+\");\n",
    "plt.yscale(\"log\")\n",
    "plt.xlabel(r\"stddev of $\\eta_{\\mathrm{rechit}}$\")\n",
    "plt.legend(loc=\"best\")\n",
    "plt.ylabel(\"number of clusters / bin\")\n",
    "plt.title(\"ttbar, HCAL clusters\")"
   ]
  },
  {
   "cell_type": "code",
   "execution_count": null,
   "id": "3f0ba0dd-3656-4dcb-ba02-3040ee826300",
   "metadata": {},
   "outputs": [],
   "source": [
    "b = np.linspace(0, 0.6, 200)\n",
    "msk_hcal = (Xall[\"typ\"]==5)\n",
    "plt.hist(awkward.to_numpy(Xall[msk_hcal][\"phierror1\"]), bins=b, histtype=\"step\", lw=1, label=\"depth 1\");\n",
    "plt.hist(awkward.to_numpy(Xall[msk_hcal][\"phierror2\"]), bins=b, histtype=\"step\", lw=1, label=\"depth 2\");\n",
    "plt.hist(awkward.to_numpy(Xall[msk_hcal][\"phierror3\"]), bins=b, histtype=\"step\", lw=1, label=\"depth 3\");\n",
    "plt.hist(awkward.to_numpy(Xall[msk_hcal][\"phierror4\"]), bins=b, histtype=\"step\", lw=1, label=\"depth 4+\");\n",
    "plt.yscale(\"log\")\n",
    "plt.xlabel(r\"stddev of $\\phi_{\\mathrm{rechit}}$\")\n",
    "plt.legend(loc=\"best\")\n",
    "plt.ylabel(\"number of clusters / bin\")\n",
    "plt.title(\"ttbar, HCAL clusters\")"
   ]
  },
  {
   "cell_type": "code",
   "execution_count": null,
   "id": "34d98b98-4798-4610-b5d5-3036c22f679d",
   "metadata": {},
   "outputs": [],
   "source": []
  }
 ],
 "metadata": {
  "kernelspec": {
   "display_name": "Python 3 (ipykernel)",
   "language": "python",
   "name": "python3"
  },
  "language_info": {
   "codemirror_mode": {
    "name": "ipython",
    "version": 3
   },
   "file_extension": ".py",
   "mimetype": "text/x-python",
   "name": "python",
   "nbconvert_exporter": "python",
   "pygments_lexer": "ipython3",
   "version": "3.10.14"
  }
 },
 "nbformat": 4,
 "nbformat_minor": 5
}
