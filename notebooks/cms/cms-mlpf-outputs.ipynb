{
 "cells": [
  {
   "cell_type": "code",
   "execution_count": null,
   "id": "57fe9bee",
   "metadata": {},
   "outputs": [],
   "source": [
    "import pandas as pd\n",
    "import json\n",
    "import glob\n",
    "import tqdm\n",
    "import matplotlib.pyplot as plt\n",
    "import numpy as np\n",
    "\n",
    "import sklearn\n",
    "import sklearn.metrics\n",
    "import matplotlib\n",
    "import scipy\n",
    "import mplhep\n",
    "import os\n",
    "import awkward\n",
    "\n",
    "import vector\n",
    "import fastjet\n",
    "import awkward as ak\n",
    "\n",
    "import pandas\n",
    "import boost_histogram as bh\n",
    "import itertools\n",
    "import mplhep\n",
    "\n",
    "mplhep.set_style(mplhep.styles.CMS)"
   ]
  },
  {
   "cell_type": "code",
   "execution_count": null,
   "id": "06d0118c",
   "metadata": {},
   "outputs": [],
   "source": [
    "import sys\n",
    "\n",
    "sys.path += [\"../../mlpf/plotting//\"]\n",
    "\n",
    "import plot_utils\n",
    "from plot_utils import pid_to_text, load_eval_data, compute_jet_ratio, compute_met_and_ratio\n",
    "\n",
    "from plot_utils import cms_label, sample_label\n",
    "from plot_utils import ELEM_LABELS_CMS, ELEM_NAMES_CMS\n",
    "from plot_utils import CLASS_LABELS_CMS, CLASS_NAMES_CMS"
   ]
  },
  {
   "cell_type": "code",
   "execution_count": null,
   "id": "cb2cc30e",
   "metadata": {},
   "outputs": [],
   "source": [
    "def compute_met_and_ratio(yvals):\n",
    "    msk = yvals[\"target_cls_id\"] != 0\n",
    "    gen_px = yvals[\"target_px\"][msk]\n",
    "    gen_py = yvals[\"target_py\"][msk]\n",
    "\n",
    "    msk_pred = yvals[\"pred_cls_id\"] != 0\n",
    "    pred_px = yvals[\"pred_px\"][msk]\n",
    "    pred_py = yvals[\"pred_py\"][msk]\n",
    "    \n",
    "    msk_cand = yvals[\"cand_cls_id\"] != 0\n",
    "    cand_px = yvals[\"cand_px\"][msk]\n",
    "    cand_py = yvals[\"cand_py\"][msk]\n",
    "\n",
    "    gen_met = ak.to_numpy(np.sqrt(np.sum(gen_px, axis=1) ** 2 + np.sum(gen_py, axis=1) ** 2))\n",
    "    pred_met = ak.to_numpy(np.sqrt(np.sum(pred_px, axis=1) ** 2 + np.sum(pred_py, axis=1) ** 2))\n",
    "    cand_met = ak.to_numpy(np.sqrt(np.sum(cand_px, axis=1) ** 2 + np.sum(cand_py, axis=1) ** 2))\n",
    "\n",
    "    met_ratio_pred = ak.to_numpy(pred_met / gen_met)\n",
    "    met_ratio_cand = ak.to_numpy(cand_met / gen_met)\n",
    "\n",
    "    return {\n",
    "        \"gen_met\": gen_met,\n",
    "        \"pred_met\": pred_met,\n",
    "        \"cand_met\": cand_met,\n",
    "        \"ratio_pred\": met_ratio_pred,\n",
    "        \"ratio_cand\": met_ratio_cand,\n",
    "    }\n",
    "\n",
    "\n",
    "def sum_overflow_into_last_bin(all_values):\n",
    "    values = all_values[1:-1]\n",
    "    values[-1] = values[-1] + all_values[-1]\n",
    "    values[0] = values[0] + all_values[0]\n",
    "    return values\n",
    "\n",
    "\n",
    "def to_bh(data, bins, cumulative=False):\n",
    "    h1 = bh.Histogram(bh.axis.Variable(bins))\n",
    "    h1.fill(data)\n",
    "    if cumulative:\n",
    "        h1[:] = np.sum(h1.values()) - np.cumsum(h1)\n",
    "    h1[:] = sum_overflow_into_last_bin(h1.values(flow=True)[:])\n",
    "    return h1\n",
    "\n",
    "\n",
    "def loss_plot(epochs, train, test, margin=0.05, smoothing=False):\n",
    "    fig = plt.figure()\n",
    "    ax = plt.axes()\n",
    "\n",
    "    alpha = 0.2 if smoothing else 1.0\n",
    "    l0 = None if smoothing else \"train\"\n",
    "    l1 = None if smoothing else \"test\"\n",
    "    p0 = plt.plot(epochs, train, alpha=alpha, label=l0)\n",
    "    p1 = plt.plot(epochs, test, alpha=alpha, label=l1)\n",
    "\n",
    "    if smoothing:\n",
    "        train_smooth = np.convolve(train, np.ones(5) / 5, mode=\"valid\")\n",
    "        plt.plot(epochs, train_smooth, color=p0[0].get_color(), lw=2, label=\"train\")\n",
    "        test_smooth = np.convolve(test, np.ones(5) / 5, mode=\"valid\")\n",
    "        plt.plot(epochs, test_smooth, color=p1[0].get_color(), lw=2, label=\"test\")\n",
    "\n",
    "    plt.ylim(test[-1] * (1.0 - margin), test[-1] * (1.0 + margin))\n",
    "    plt.legend(loc=3, frameon=False)\n",
    "    plt.xlabel(\"epoch\")\n",
    "    cms_label(ax)\n",
    "\n",
    "\n",
    "def med_iqr(arr):\n",
    "    p25 = np.percentile(arr, 25)\n",
    "    p50 = np.percentile(arr, 50)\n",
    "    p75 = np.percentile(arr, 75)\n",
    "    return p50, p75 - p25\n",
    "\n",
    "def midpoints(x):\n",
    "    return (x[1:] + x[:-1]) / 2\n",
    "\n",
    "def flatten(arr):\n",
    "    return arr.reshape(-1, arr.shape[-1])\n",
    "\n",
    "\n",
    "def get_distribution(prefix, bins, var):\n",
    "\n",
    "    hists = []\n",
    "    for pid in [13, 11, 22, 1, 2, 130, 211]:\n",
    "        icls = CLASS_LABELS_CMS.index(pid)\n",
    "        msk_pid = yvals_f[prefix + \"_cls_id\"] == icls\n",
    "        h = bh.Histogram(bh.axis.Variable(bins))\n",
    "        d = yvals_f[prefix + \"_\" + var][msk_pid]\n",
    "        h.fill(d.flatten())\n",
    "        hists.append(h)\n",
    "    return hists\n",
    "\n",
    "\n",
    "def binom_error(n_sig, n_tot):\n",
    "    \"\"\"\n",
    "    for an efficiency = nSig/nTrueSig or purity = nSig / (nSig + nBckgrd), this function calculates the\n",
    "    standard deviation according to http://arxiv.org/abs/physics/0701199 .\n",
    "    \"\"\"\n",
    "    variance = np.where(\n",
    "        n_tot > 0, (n_sig + 1) * (n_sig + 2) / ((n_tot + 2) * (n_tot + 3)) - (n_sig + 1) ** 2 / ((n_tot + 2) ** 2), 0\n",
    "    )\n",
    "    return np.sqrt(variance)\n",
    "\n",
    "\n",
    "def reso_plot(pid, var, bins, ptcl_name):\n",
    "\n",
    "    fig = plt.figure()\n",
    "    ax = plt.axes()\n",
    "\n",
    "    msk = (yvals_ttbar[\"target_cls_id\"] == pid) & (yvals_ttbar[\"cand_cls_id\"] != 0) & (yvals_ttbar[\"pred_cls_id\"] != 0)\n",
    "    vals_gen = awkward.flatten(yvals_ttbar[\"target_\" + var][msk])\n",
    "    vals_cand = awkward.flatten(yvals_ttbar[\"cand_\" + var][msk])\n",
    "    vals_mlpf = awkward.flatten(yvals_ttbar[\"pred_\" + var][msk])\n",
    "\n",
    "    reso_1 = vals_cand / vals_gen\n",
    "    reso_2 = vals_mlpf / vals_gen\n",
    "    plt.hist(reso_1, bins=bins, histtype=\"step\", lw=2, label=\"PF, M={:.2f}, IQR={:.2f}\".format(*med_iqr(reso_1)))\n",
    "    plt.hist(reso_2, bins=bins, histtype=\"step\", lw=2, label=\"MLPF, M={:.2f}, IQR={:.2f}\".format(*med_iqr(reso_2)))\n",
    "    plt.yscale(\"log\")\n",
    "    if var == \"pt\":\n",
    "        plt.xlabel(r\"$p_\\mathrm{T,reco} / p_\\mathrm{T,gen}$\")\n",
    "    elif var == \"eta\":\n",
    "        plt.xlabel(r\"$\\eta_\\mathrm{reco} / \\eta_\\mathrm{gen}$\")\n",
    "    plt.ylabel(\"Number of particles / bin\")\n",
    "    cms_label(ax)\n",
    "    sample_label(ax, \"cms_pf_ttbar\", ptcl_name)\n",
    "    plt.xlim(min(bins), max(bins))\n",
    "    plt.legend(loc=(0.4, 0.7))\n",
    "    plt.savefig(\"{}/{}_res_{}.pdf\".format(outpath, var, pid), bbox_inches=\"tight\")\n",
    "\n",
    "\n",
    "def plot_eff_and_fake_rate(icls=1, ivar=4, ielem=1, bins=np.linspace(-3, 6, 100), xlabel=\"PFElement log[E/GeV]\", log=True):\n",
    "\n",
    "    values = X_ttbar[:, :, ivar]\n",
    "\n",
    "    hist_X = bh.Histogram(bh.axis.Variable(bins))\n",
    "    hist_gen = bh.Histogram(bh.axis.Variable(bins))\n",
    "    hist_gen_pred = bh.Histogram(bh.axis.Variable(bins))\n",
    "    hist_gen_cand = bh.Histogram(bh.axis.Variable(bins))\n",
    "    hist_pred = bh.Histogram(bh.axis.Variable(bins))\n",
    "    hist_cand = bh.Histogram(bh.axis.Variable(bins))\n",
    "    hist_pred_fake = bh.Histogram(bh.axis.Variable(bins))\n",
    "    hist_cand_fake = bh.Histogram(bh.axis.Variable(bins))\n",
    "\n",
    "    eff_mlpf = bh.Histogram(bh.axis.Variable(bins), storage=bh.storage.Weight())\n",
    "    eff_pf = bh.Histogram(bh.axis.Variable(bins), storage=bh.storage.Weight())\n",
    "    fake_pf = bh.Histogram(bh.axis.Variable(bins), storage=bh.storage.Weight())\n",
    "    fake_mlpf = bh.Histogram(bh.axis.Variable(bins), storage=bh.storage.Weight())\n",
    "\n",
    "    if ielem == 45:\n",
    "        msk_X = (X_ttbar[:, :, 0] == 4) | (X_ttbar[:, :, 0] == 5)\n",
    "    else:\n",
    "        msk_X = X_ttbar[:, :, 0] == ielem\n",
    "\n",
    "    msk_gen = yvals_ttbar[\"target_cls_id\"] == icls\n",
    "    msk_nogen = yvals_ttbar[\"target_cls_id\"] != icls\n",
    "\n",
    "    msk_pred = yvals_ttbar[\"pred_cls_id\"] == icls\n",
    "    msk_nopred = yvals_ttbar[\"pred_cls_id\"] != icls\n",
    "\n",
    "    msk_cand = yvals_ttbar[\"cand_cls_id\"] == icls\n",
    "    msk_nocand = yvals_ttbar[\"cand_cls_id\"] != icls\n",
    "\n",
    "    hist_X.fill(awkward.flatten(values[msk_X]))\n",
    "    hist_gen.fill(awkward.flatten(values[msk_gen & msk_X]))\n",
    "    hist_pred.fill(awkward.flatten(values[msk_pred & msk_X]))\n",
    "    hist_cand.fill(awkward.flatten(values[msk_cand & msk_X]))\n",
    "\n",
    "    # Genparticle exists, reco particle exists\n",
    "    hist_gen_pred.fill(awkward.flatten(values[msk_gen & msk_pred & msk_X]))\n",
    "    hist_gen_cand.fill(awkward.flatten(values[msk_gen & msk_cand & msk_X]))\n",
    "\n",
    "    # Genparticle does not exist, reco particle exists\n",
    "    hist_pred_fake.fill(awkward.flatten(values[msk_nogen & msk_pred & msk_X]))\n",
    "    hist_cand_fake.fill(awkward.flatten(values[msk_nogen & msk_cand & msk_X]))\n",
    "\n",
    "    eff_mlpf.values()[:] = hist_gen_pred.values() / hist_gen.values()\n",
    "    eff_mlpf.variances()[:] = binom_error(hist_gen_pred.values(), hist_gen.values()) ** 2\n",
    "\n",
    "    eff_pf.values()[:] = hist_gen_cand.values() / hist_gen.values()\n",
    "    eff_pf.variances()[:] = binom_error(hist_gen_cand.values(), hist_gen.values()) ** 2\n",
    "\n",
    "    fake_pf.values()[:] = hist_cand_fake.values() / hist_cand.values()\n",
    "    fake_pf.variances()[:] = binom_error(hist_cand_fake.values(), hist_cand.values()) ** 2\n",
    "\n",
    "    fake_mlpf.values()[:] = hist_pred_fake.values() / hist_pred.values()\n",
    "    fake_mlpf.variances()[:] = binom_error(hist_pred_fake.values(), hist_pred.values()) ** 2\n",
    "\n",
    "    plt.figure()\n",
    "    ax = plt.axes()\n",
    "    mplhep.histplot(hist_X, label=\"all PFElements\", color=\"black\")\n",
    "    mplhep.histplot(hist_cand, label=\"with PF\")\n",
    "    mplhep.histplot(hist_pred, label=\"with MLPF reco\")\n",
    "    mplhep.histplot(hist_gen, label=\"with MLPF truth\")\n",
    "    plt.ylabel(\"Number of PFElements / bin\")\n",
    "    plt.xlabel(xlabel)\n",
    "    plt.yscale(\"log\")\n",
    "    cms_label(ax)\n",
    "    sample_label(ax, \"cms_pf_ttbar\", \", \" + CLASS_NAMES_CMS[icls])\n",
    "    if log:\n",
    "        plt.xscale(\"log\")\n",
    "    plt.legend(loc=(0.6, 0.65))\n",
    "    plt.ylim(10, 20 * np.max(hist_X.values()))\n",
    "    plt.xlim(min(bins), max(bins))\n",
    "    plt.savefig(\"{}/distr_icls{}_ivar{}.pdf\".format(outpath, icls, ivar), bbox_inches=\"tight\")\n",
    "\n",
    "    plt.figure()\n",
    "    ax = plt.axes(sharex=ax)\n",
    "    mplhep.histplot(eff_pf, label=\"PF\")\n",
    "    mplhep.histplot(eff_mlpf, label=\"MLPF\")\n",
    "    plt.ylim(0, 1.5)\n",
    "    plt.ylabel(\"Efficiency\")\n",
    "    plt.xlabel(xlabel)\n",
    "    cms_label(ax)\n",
    "    sample_label(ax, \"cms_pf_ttbar\", \", \" + CLASS_NAMES_CMS[icls])\n",
    "    if log:\n",
    "        plt.xscale(\"log\")\n",
    "    plt.legend(loc=(0.75, 0.7))\n",
    "    plt.xlim(min(bins), max(bins))\n",
    "    plt.savefig(\"{}/eff_icls{}_ivar{}.pdf\".format(outpath, icls, ivar), bbox_inches=\"tight\")\n",
    "\n",
    "    plt.figure()\n",
    "    ax = plt.axes(sharex=ax)\n",
    "    mplhep.histplot(fake_pf, label=\"PF\")\n",
    "    mplhep.histplot(fake_mlpf, label=\"MLPF\")\n",
    "    plt.ylim(0, 1.5)\n",
    "    plt.ylabel(\"Fake rate\")\n",
    "    plt.xlabel(xlabel)\n",
    "    cms_label(ax)\n",
    "    sample_label(ax, \"cms_pf_ttbar\", \", \" + CLASS_NAMES_CMS[icls])\n",
    "    if log:\n",
    "        plt.xscale(\"log\")\n",
    "    plt.legend(loc=(0.75, 0.7))\n",
    "    plt.xlim(min(bins), max(bins))\n",
    "    plt.savefig(\"{}/fake_icls{}_ivar{}.pdf\".format(outpath, icls, ivar), bbox_inches=\"tight\")\n",
    "\n",
    "    # mplhep.histplot(fake, bins=hist_gen[1], label=\"fake rate\", color=\"red\")\n",
    "\n",
    "\n",
    "#     plt.legend(frameon=False)\n",
    "#     plt.ylim(0,1.4)\n",
    "#     plt.xlabel(xlabel)\n",
    "#     plt.ylabel(\"Fraction of particles / bin\")"
   ]
  },
  {
   "cell_type": "code",
   "execution_count": null,
   "id": "a1e4533a",
   "metadata": {
    "tags": [
     "parameters"
    ]
   },
   "outputs": [],
   "source": [
    "path = \"/home/joosep/huggingface/particleflow/cms/v2.3.0/pyg-cms_20250122_185427_365548/preds_checkpoint-10-3.541986/\"\n",
    "PAPERMILL_OUTPUT_PATH = \"./\""
   ]
  },
  {
   "cell_type": "code",
   "execution_count": null,
   "id": "0467b0ee",
   "metadata": {},
   "outputs": [],
   "source": [
    "outpath = PAPERMILL_OUTPUT_PATH\n",
    "if os.path.isfile(outpath):\n",
    "    outpath = os.path.dirname(outpath)\n",
    "print(\"params\", path, outpath)"
   ]
  },
  {
   "cell_type": "markdown",
   "id": "7457e2d7",
   "metadata": {},
   "source": [
    "# Load the predictions"
   ]
  },
  {
   "cell_type": "code",
   "execution_count": null,
   "id": "16c957e3",
   "metadata": {},
   "outputs": [],
   "source": [
    "yvals_qcd, X_qcd, _ = load_eval_data(f\"{path}/cms_pf_qcd/*.parquet\", 100)"
   ]
  },
  {
   "cell_type": "code",
   "execution_count": null,
   "id": "023ad0f0-c9ef-41d7-9e7d-cf2c2242d6a6",
   "metadata": {},
   "outputs": [],
   "source": [
    "yvals_ttbar, X_ttbar, _ = load_eval_data(f\"{path}/cms_pf_ttbar/*.parquet\", 100)"
   ]
  },
  {
   "cell_type": "code",
   "execution_count": null,
   "id": "1f3c5f7c-61a9-42fe-aa86-9e00c601630c",
   "metadata": {},
   "outputs": [],
   "source": [
    "yvals_single_ele, X_single_ele, _ = load_eval_data(f\"{path}/cms_pf_single_ele/*.parquet\", 100)"
   ]
  },
  {
   "cell_type": "code",
   "execution_count": null,
   "id": "b3c68c01-9881-448f-8d1c-d20967aaf659",
   "metadata": {},
   "outputs": [],
   "source": [
    "iev = 14"
   ]
  },
  {
   "cell_type": "code",
   "execution_count": null,
   "id": "3d1f789a-ae1c-4e8c-99b4-ee41c1c03746",
   "metadata": {},
   "outputs": [],
   "source": [
    "msk = (yvals_single_ele[\"target_cls_id\"]!=0)[iev]\n",
    "yvals_single_ele[\"target_energy\"][iev][msk]"
   ]
  },
  {
   "cell_type": "code",
   "execution_count": null,
   "id": "81f5f40c-1546-4149-a490-51d4b5b361a5",
   "metadata": {},
   "outputs": [],
   "source": [
    "yvals_single_ele[\"target_cls_id\"][iev][msk]"
   ]
  },
  {
   "cell_type": "code",
   "execution_count": null,
   "id": "2c85dea0-42cf-42c0-b0b9-8d73d516df76",
   "metadata": {},
   "outputs": [],
   "source": [
    "X_single_ele[iev][msk]"
   ]
  },
  {
   "cell_type": "code",
   "execution_count": null,
   "id": "37a49105-9632-4d7b-8f48-3e7f058fddac",
   "metadata": {},
   "outputs": [],
   "source": [
    "msk = (yvals_single_ele[\"pred_cls_id\"]!=0)[iev]\n",
    "yvals_single_ele[\"pred_energy\"][iev][msk]"
   ]
  },
  {
   "cell_type": "code",
   "execution_count": null,
   "id": "29be7593-32f4-4eb5-9b87-6ae351124f52",
   "metadata": {},
   "outputs": [],
   "source": [
    "yvals_single_ele[\"pred_cls_id\"][iev][msk]"
   ]
  },
  {
   "cell_type": "code",
   "execution_count": null,
   "id": "de547b17-c28a-4d94-9f55-8a914635e764",
   "metadata": {},
   "outputs": [],
   "source": [
    "X_single_ele[iev][msk]"
   ]
  },
  {
   "cell_type": "code",
   "execution_count": null,
   "id": "11c07b2b-6b57-4b40-a756-76b687332d8f",
   "metadata": {},
   "outputs": [],
   "source": [
    "plt.scatter(\n",
    "    awkward.sum(yvals_single_ele[\"target_pt\"], axis=1),\n",
    "    awkward.sum(yvals_single_ele[\"cand_pt\"], axis=1)\n",
    ")\n",
    "\n",
    "plt.scatter(\n",
    "    awkward.sum(yvals_single_ele[\"target_pt\"], axis=1),\n",
    "    awkward.sum(yvals_single_ele[\"pred_pt\"], axis=1)\n",
    ")\n",
    "plt.xscale(\"log\")\n",
    "plt.yscale(\"log\")\n",
    "plt.xlim(0.1,2000)\n",
    "plt.ylim(0.1,2000)\n",
    "#plt.plot([-1,3],[-1,3], color='black', ls=\"--\")"
   ]
  },
  {
   "cell_type": "code",
   "execution_count": null,
   "id": "3de2bf0c-7ac7-491e-8740-31e72a370758",
   "metadata": {},
   "outputs": [],
   "source": [
    "# ptbins = np.logspace(-3,3,20)\n",
    "\n",
    "# meds_mlpf = []\n",
    "# iqr_over_med_mlpf = []\n",
    "\n",
    "# meds_pf = []\n",
    "# iqr_over_med_pf = []\n",
    "\n",
    "# for ibin in range(len(ptbins)-1):\n",
    "#     plt.figure(figsize=(8, 8))\n",
    "#     b = np.logspace(-5, 5, 61)\n",
    "\n",
    "#     msk = (yvals_qcd[\"target_cls_id\"]!=0) & (yvals_qcd[\"cand_cls_id\"]!=0) & (yvals_qcd[\"target_pt\"]>ptbins[ibin]) & (yvals_qcd[\"target_pt\"]<ptbins[ibin+1])\n",
    "#     if np.sum(msk)>10:\n",
    "#         pt_ratio = awkward.flatten((yvals_qcd[\"cand_pt\"]/yvals_qcd[\"target_pt\"])[msk])\n",
    "#         plt.hist(pt_ratio, bins=b, histtype=\"step\", label=\"PF\");\n",
    "#         med, iqr = med_iqr(pt_ratio)\n",
    "#     else:\n",
    "#         med, iqr = 1, 0\n",
    "#     meds_pf.append(med)\n",
    "#     iqr_over_med_pf.append(iqr/med)\n",
    "    \n",
    "#     msk = (yvals_qcd[\"target_cls_id\"]!=0) & (yvals_qcd[\"pred_cls_id\"]!=0) & (yvals_qcd[\"target_pt\"]>ptbins[ibin]) & (yvals_qcd[\"target_pt\"]<ptbins[ibin+1])\n",
    "#     if np.sum(msk)>10:\n",
    "#         pt_ratio = awkward.flatten((yvals_qcd[\"pred_pt\"]/yvals_qcd[\"target_pt\"])[msk])\n",
    "#         plt.hist(pt_ratio, bins=b, histtype=\"step\", label=\"MLPF\");\n",
    "#         med, iqr = med_iqr(pt_ratio)\n",
    "#     else:\n",
    "#         med, iqr = 1, 0\n",
    "#     meds_mlpf.append(med)\n",
    "#     iqr_over_med_mlpf.append(iqr/med)\n",
    "\n",
    "#     plt.xscale(\"log\")\n",
    "#     plt.title(\"$p_{{T,target}} \\in $[{:.2E}, {:.2E}]\".format(ptbins[ibin], ptbins[ibin+1]))\n",
    "#     plt.xlabel(\"response $p_{{T,pred}}/p_{{T,target}}$\")\n",
    "#     plt.ylabel(\"particles / bin\")\n",
    "#     plt.legend()"
   ]
  },
  {
   "cell_type": "code",
   "execution_count": null,
   "id": "a824ac1e-d9cf-471f-9768-5f2cfeea7f2b",
   "metadata": {},
   "outputs": [],
   "source": [
    "# msk = (yvals_qcd[\"target_cls_id\"]!=0) & (yvals_qcd[\"pred_cls_id\"]!=0)\n",
    "# b = np.logspace(-3, 3, 100)\n",
    "# plt.figure(figsize=(5,5))\n",
    "# plt.hist(awkward.flatten(yvals_qcd[\"target_pt\"][msk]), bins=b, density=1);\n",
    "# plt.xscale(\"log\")\n",
    "# plt.yscale(\"log\")\n",
    "# plt.xlabel(\"Particle $p_T$\")\n",
    "# plt.ylabel(\"Particles [a.u.]\")"
   ]
  },
  {
   "cell_type": "code",
   "execution_count": null,
   "id": "e62be72f-4793-49d8-9ef0-9ac49f8e63a5",
   "metadata": {},
   "outputs": [],
   "source": [
    "# plt.figure(figsize=(5,5))\n",
    "# plt.plot(midpoints(ptbins), meds_pf, marker=\"o\", label=\"PF\")\n",
    "# plt.plot(midpoints(ptbins), meds_mlpf, marker=\"o\", label=\"MLPF\")\n",
    "# #plt.ylim(0, 10)\n",
    "# plt.axhline(1.0, color=\"black\")\n",
    "# plt.yscale(\"log\")\n",
    "# plt.xscale(\"log\")\n",
    "# plt.xlabel(\"Particle $p_T$\")\n",
    "# plt.ylabel(\"med. of $p_T$ response\")\n",
    "# plt.legend(loc=\"best\")"
   ]
  },
  {
   "cell_type": "code",
   "execution_count": null,
   "id": "4d0be5ef-f6ba-4e29-8957-2d4c5bda326a",
   "metadata": {},
   "outputs": [],
   "source": [
    "# plt.figure(figsize=(5,5))\n",
    "# plt.plot(midpoints(ptbins), iqr_over_med_pf, marker=\"o\", label=\"PF\")\n",
    "# plt.plot(midpoints(ptbins), iqr_over_med_mlpf, marker=\"o\", label=\"MLPF\")\n",
    "# #plt.ylim(0, 5)\n",
    "# plt.xscale(\"log\")\n",
    "# plt.xlabel(\"Particle $p_T$ [GeV]\")\n",
    "# plt.ylabel(\"IQR/med. of $p_T$ response\")\n",
    "# plt.legend()"
   ]
  },
  {
   "cell_type": "code",
   "execution_count": null,
   "id": "6a17f049-029c-4748-8c99-cf99988bfa88",
   "metadata": {},
   "outputs": [],
   "source": [
    "# plt.figure(figsize=(5,5))\n",
    "\n",
    "# plt.scatter(\n",
    "#     awkward.sum(yvals_qcd[\"target_cls_id\"]!=0, axis=1),\n",
    "#     awkward.sum(yvals_qcd[\"cand_cls_id\"]!=0, axis=1),\n",
    "#     label=\"PF\", marker=\".\", alpha=0.2\n",
    "# )\n",
    "\n",
    "# plt.scatter(\n",
    "#     awkward.sum(yvals_qcd[\"target_cls_id\"]!=0, axis=1),\n",
    "#     awkward.sum(yvals_qcd[\"pred_cls_id\"]!=0, axis=1),\n",
    "#     label=\"MLPF\", marker=\"^\", alpha=0.2\n",
    "# )\n",
    "# plt.xlabel(\"Target particles\")\n",
    "# plt.ylabel(\"Reco particles\")\n",
    "# plt.legend(loc=\"best\")\n",
    "# plt.plot([1500,5000],[1500,5000], color=\"black\", ls=\"--\")\n",
    "# plt.show()"
   ]
  },
  {
   "cell_type": "code",
   "execution_count": null,
   "id": "8e01cbce-8430-4ae7-bce7-b58f9edfc3bb",
   "metadata": {},
   "outputs": [],
   "source": [
    "# plt.figure(figsize=(5,5))\n",
    "\n",
    "# plt.scatter(\n",
    "#     awkward.sum(yvals_qcd[\"target_energy\"], axis=1),\n",
    "#     awkward.sum(yvals_qcd[\"cand_energy\"], axis=1),\n",
    "#     label=\"PF\", marker=\".\", alpha=0.2\n",
    "# )\n",
    "\n",
    "# plt.scatter(\n",
    "#     awkward.sum(yvals_qcd[\"target_energy\"], axis=1),\n",
    "#     awkward.sum(yvals_qcd[\"pred_energy\"], axis=1),\n",
    "#     label=\"MLPF\", marker=\"^\", alpha=0.2\n",
    "# )\n",
    "\n",
    "# #plt.xlabel(\"Target particles\")\n",
    "# #plt.ylabel(\"Reconstructed particles\")\n",
    "# plt.legend(loc=\"best\")\n",
    "# plt.plot([20000,100000],[20000,100000], color=\"black\", ls=\"--\")\n",
    "# plt.xlabel(\"Total target energy [GeV]\")\n",
    "# plt.ylabel(\"Total reco energy [GeV]\")\n",
    "# plt.show()"
   ]
  },
  {
   "cell_type": "code",
   "execution_count": null,
   "id": "097071d7-82d5-440f-a45f-4c24528093dd",
   "metadata": {},
   "outputs": [],
   "source": [
    "# fig, ax = plt.subplots(1, 2, figsize=(10,5))\n",
    "\n",
    "# plt.sca(ax[0])\n",
    "# typ = 5\n",
    "# msk = (X_qcd[..., 0]==typ) & (yvals_qcd[\"target_cls_id\"]!=0)\n",
    "# b = np.logspace(-1,3,100)\n",
    "# plt.hist2d(\n",
    "#     awkward.to_numpy(awkward.flatten(yvals_qcd[\"target_energy\"][msk])),\n",
    "#     awkward.to_numpy(awkward.flatten(yvals_qcd[\"pred_energy\"][msk])),\n",
    "#     bins = (b,b), cmap=\"Blues\"\n",
    "# )\n",
    "# plt.plot([1e-1, 1e3], [1e-1,1e3], color=\"black\", ls=\"--\")\n",
    "# plt.xscale(\"log\")\n",
    "# plt.yscale(\"log\")\n",
    "# plt.xlabel(\"target energy\")\n",
    "# plt.ylabel(\"reconstructed energy\")\n",
    "\n",
    "# plt.sca(ax[1])\n",
    "# b = np.linspace(-5,5,100)\n",
    "# plt.hist(np.log(awkward.to_numpy(awkward.flatten(X_qcd[..., 5][msk]/yvals_qcd[\"target_energy\"][msk]))), bins=b, histtype=\"step\", lw=1, label=\"PFElement\")\n",
    "# plt.hist(np.log(awkward.to_numpy(awkward.flatten(yvals_qcd[\"cand_energy\"][msk]/yvals_qcd[\"target_energy\"][msk]))), bins=b, histtype=\"step\", lw=1, label=\"PF\")\n",
    "# plt.hist(np.log(awkward.to_numpy(awkward.flatten(yvals_qcd[\"pred_energy\"][msk]/yvals_qcd[\"target_energy\"][msk]))), bins=b, histtype=\"step\", lw=1, label=\"MLPF\")\n",
    "# plt.yscale(\"log\")\n",
    "# plt.xlabel(\"log [E / E_target]\")\n",
    "# plt.legend(loc=2)\n",
    "\n",
    "# plt.suptitle(ELEM_NAMES_CMS[ELEM_LABELS_CMS.index(typ)])\n",
    "\n",
    "# plt.show()"
   ]
  },
  {
   "cell_type": "code",
   "execution_count": null,
   "id": "2987fc4b-a3e7-4179-a485-23cae80ae415",
   "metadata": {},
   "outputs": [],
   "source": [
    "iev = 0\n",
    "plt.figure()\n",
    "plt.scatter(\n",
    "    yvals_qcd[\"target_eta\"][yvals_qcd[\"target_cls_id\"]!=0][iev],\n",
    "    yvals_qcd[\"target_phi\"][yvals_qcd[\"target_cls_id\"]!=0][iev],\n",
    "    s = yvals_qcd[\"target_pt\"][yvals_qcd[\"target_cls_id\"]!=0][iev]\n",
    ")\n",
    "\n",
    "# plt.scatter(\n",
    "#     yvals_qcd[\"cand_eta\"][yvals_qcd[\"cand_cls_id\"]!=0][iev],\n",
    "#     yvals_qcd[\"cand_phi\"][yvals_qcd[\"cand_cls_id\"]!=0][iev],\n",
    "#     s = yvals_qcd[\"cand_pt\"][yvals_qcd[\"cand_cls_id\"]!=0][iev]\n",
    "# )\n",
    "\n",
    "plt.scatter(\n",
    "    yvals_qcd[\"pred_eta\"][yvals_qcd[\"pred_cls_id\"]!=0][iev],\n",
    "    yvals_qcd[\"pred_phi\"][yvals_qcd[\"pred_cls_id\"]!=0][iev],\n",
    "    s = yvals_qcd[\"pred_pt\"][yvals_qcd[\"pred_cls_id\"]!=0][iev]\n",
    ")\n",
    "plt.xlim(-6,6)\n",
    "plt.ylim(-4,4)\n",
    "plt.show()"
   ]
  },
  {
   "cell_type": "code",
   "execution_count": null,
   "id": "41287bfa-9860-44ee-a5f8-5d605f7b2fa5",
   "metadata": {},
   "outputs": [],
   "source": [
    "b = np.linspace(-5,5,101)\n",
    "plt.figure()\n",
    "plt.hist(awkward.flatten(yvals_qcd[\"target_eta\"][yvals_qcd[\"target_cls_id\"]!=0]), bins=b, histtype=\"step\");\n",
    "plt.hist(awkward.flatten(yvals_qcd[\"pred_eta\"][yvals_qcd[\"pred_cls_id\"]!=0]), bins=b, histtype=\"step\");\n",
    "plt.show()"
   ]
  },
  {
   "cell_type": "code",
   "execution_count": null,
   "id": "7358e584-bbb2-47e4-90c5-8ddbf5f5bd84",
   "metadata": {},
   "outputs": [],
   "source": [
    "b = np.linspace(-5,5,61)\n",
    "plt.figure()\n",
    "plt.hist(awkward.flatten(yvals_qcd[\"target_eta\"][yvals_qcd[\"target_cls_id\"]!=0]), bins=b, histtype=\"step\", weights=awkward.flatten(yvals_qcd[\"target_pt\"][yvals_qcd[\"target_cls_id\"]!=0]));\n",
    "plt.hist(awkward.flatten(yvals_qcd[\"pred_eta\"][yvals_qcd[\"pred_cls_id\"]!=0]), bins=b, histtype=\"step\", weights=awkward.flatten(yvals_qcd[\"pred_pt\"][yvals_qcd[\"pred_cls_id\"]!=0]));\n",
    "plt.show()"
   ]
  },
  {
   "cell_type": "code",
   "execution_count": null,
   "id": "78ccc9ec-ce7e-42ac-acf2-335c0d41f706",
   "metadata": {},
   "outputs": [],
   "source": [
    "cls_id = 2\n",
    "\n",
    "plt.figure()\n",
    "l = plt.hist(\n",
    "    ak.flatten(yvals_qcd[\"target_pt\"][yvals_qcd[\"target_cls_id\"]==cls_id]),\n",
    "    bins=np.logspace(-3,4,100), histtype=\"step\", lw=2, label=\"qcd target\"\n",
    ");\n",
    "\n",
    "plt.hist(\n",
    "    ak.flatten(yvals_qcd[\"pred_pt\"][yvals_qcd[\"pred_cls_id\"]==cls_id]),\n",
    "    bins=np.logspace(-3,4,100), histtype=\"step\", lw=2, label=\"qcd MLPF\", color=l[2][0].get_edgecolor(), ls=\"--\"\n",
    ");\n",
    "plt.hist(\n",
    "    ak.flatten(yvals_qcd[\"cand_pt\"][yvals_qcd[\"cand_cls_id\"]==cls_id]),\n",
    "    bins=np.logspace(-3,4,100), histtype=\"step\", lw=1, label=\"qcd PF\", color=l[2][0].get_edgecolor(), ls=\"--\"\n",
    ");\n",
    "\n",
    "\n",
    "# l = plt.hist(\n",
    "#     ak.flatten(yvals_ttbar[\"gen_pt\"][yvals_ttbar[\"gen_cls_id\"]==cls_id]),\n",
    "#     bins=np.logspace(-3,4,100), histtype=\"step\", lw=2, label=\"tt gen\"\n",
    "# );\n",
    "\n",
    "# plt.hist(\n",
    "#     ak.flatten(yvals_ttbar[\"pred_pt\"][yvals_ttbar[\"pred_cls_id\"]==cls_id]),\n",
    "#     bins=np.logspace(-3,4,100), histtype=\"step\", lw=2, label=\"tt MLPF\", color=l[2][0].get_edgecolor(), ls=\"--\"\n",
    "# );\n",
    "\n",
    "# plt.hist(\n",
    "#     ak.flatten(yvals_ttbar[\"cand_pt\"][yvals_ttbar[\"cand_cls_id\"]==cls_id]),\n",
    "#     bins=np.logspace(-3,4,100), histtype=\"step\", lw=1, label=\"tt PF\", color=l[2][0].get_edgecolor(), ls=\"--\"\n",
    "# );\n",
    "\n",
    "plt.legend(loc=\"best\")\n",
    "plt.xscale(\"log\")\n",
    "plt.yscale(\"log\")\n",
    "plt.show()"
   ]
  },
  {
   "cell_type": "code",
   "execution_count": null,
   "id": "8ef690c1-ee77-4b64-95b4-0c5ceb6c9cfd",
   "metadata": {},
   "outputs": [],
   "source": [
    "x_all = ak.to_numpy(ak.flatten(X_qcd[(X_qcd[:, :, 0]==4)][:, :, 5]))\n",
    "x_with_gen = ak.to_numpy(ak.flatten(X_qcd[(X_qcd[:, :, 0]==4) & (yvals_qcd[\"target_cls_id\"]!=0)][:, :, 5]))\n",
    "x_with_cand = ak.to_numpy(ak.flatten(X_qcd[(X_qcd[:, :, 0]==4) & (yvals_qcd[\"cand_cls_id\"]!=0)][:, :, 5]))\n",
    "x_with_pred = ak.to_numpy(ak.flatten(X_qcd[(X_qcd[:, :, 0]==4) & (yvals_qcd[\"pred_cls_id\"]!=0)][:, :, 5]))"
   ]
  },
  {
   "cell_type": "code",
   "execution_count": null,
   "id": "76ec55e2-7469-4787-8926-333cd8edb279",
   "metadata": {},
   "outputs": [],
   "source": [
    "h_all = to_bh(x_all, np.logspace(-0.8,4,100))\n",
    "h_with_gen = to_bh(x_with_gen, np.logspace(-0.8,4,100))\n",
    "h_with_cand = to_bh(x_with_cand, np.logspace(-0.8,4,100))\n",
    "h_with_pred = to_bh(x_with_pred, np.logspace(-0.8,4,100))"
   ]
  },
  {
   "cell_type": "code",
   "execution_count": null,
   "id": "6e11cc31-77d9-4ac0-b0cf-2888db319769",
   "metadata": {},
   "outputs": [],
   "source": [
    "plt.figure()\n",
    "mplhep.histplot(h_all);\n",
    "mplhep.histplot(h_with_gen);\n",
    "mplhep.histplot(h_with_cand);\n",
    "mplhep.histplot(h_with_pred);\n",
    "plt.xscale(\"log\")\n",
    "plt.yscale(\"log\")\n",
    "plt.show()"
   ]
  },
  {
   "cell_type": "code",
   "execution_count": null,
   "id": "ae0868f5-1287-4a5f-9f5f-71f9b34cb664",
   "metadata": {},
   "outputs": [],
   "source": [
    "gen_pt = ak.to_numpy(ak.flatten(yvals_qcd[\"target_pt\"][(X_qcd[:, :, 0]==4) & (yvals_qcd[\"target_cls_id\"]!=0)]))\n",
    "pred_pt = ak.to_numpy(ak.flatten(yvals_qcd[\"pred_pt\"][(X_qcd[:, :, 0]==4) & (yvals_qcd[\"target_cls_id\"]!=0)]))\n",
    "cand_pt = ak.to_numpy(ak.flatten(yvals_qcd[\"cand_pt\"][(X_qcd[:, :, 0]==4) & (yvals_qcd[\"target_cls_id\"]!=0)]))"
   ]
  },
  {
   "cell_type": "code",
   "execution_count": null,
   "id": "ad0181e2-b10d-46c1-a2fe-141b7a0d026b",
   "metadata": {},
   "outputs": [],
   "source": [
    "msk = (X_qcd[:, :, 0]==4) & (yvals_qcd[\"target_cls_id\"]!=0) & (yvals_qcd[\"cand_cls_id\"]!=0) & (yvals_qcd[\"pred_cls_id\"]!=0)\n",
    "gen_pt = ak.to_numpy(ak.flatten(yvals_qcd[\"target_energy\"][msk]))\n",
    "pred_pt = ak.to_numpy(ak.flatten(yvals_qcd[\"pred_energy\"][msk]))\n",
    "cand_pt = ak.to_numpy(ak.flatten(yvals_qcd[\"cand_energy\"][msk]))\n",
    "\n",
    "plt.figure()\n",
    "bins = np.logspace(-1,3,100)\n",
    "plt.hist(gen_pt, bins=bins, histtype=\"step\", lw=2);\n",
    "plt.hist(cand_pt, bins=bins, histtype=\"step\", lw=2);\n",
    "plt.hist(pred_pt, bins=bins, histtype=\"step\", lw=2);\n",
    "plt.yscale(\"log\")\n",
    "plt.xscale(\"log\")\n",
    "\n",
    "plt.figure()\n",
    "plt.hist2d(gen_pt, cand_pt, bins);\n",
    "plt.yscale(\"log\")\n",
    "plt.xscale(\"log\")\n",
    "\n",
    "plt.figure()\n",
    "plt.hist2d(gen_pt, pred_pt, bins);\n",
    "plt.yscale(\"log\")\n",
    "plt.xscale(\"log\")"
   ]
  },
  {
   "cell_type": "code",
   "execution_count": null,
   "id": "7c65a035-d623-4960-901d-ccc9854fd1e4",
   "metadata": {},
   "outputs": [],
   "source": [
    "msk = (X_qcd[:, :, 0]==4) & (yvals_qcd[\"target_cls_id\"]!=0)\n",
    "gen_pt = ak.to_numpy(ak.flatten(X_qcd[msk][:, :, 5]))\n",
    "msk = (X_qcd[:, :, 0]==4) & (yvals_qcd[\"pred_cls_id\"]!=0)\n",
    "pred_pt = ak.to_numpy(ak.flatten(X_qcd[msk][:, :, 5]))\n",
    "msk = (X_qcd[:, :, 0]==4) & (yvals_qcd[\"cand_cls_id\"]!=0)\n",
    "cand_pt = ak.to_numpy(ak.flatten(X_qcd[msk][:, :, 5]))\n",
    "\n",
    "plt.figure()\n",
    "plt.hist(gen_pt, bins=np.logspace(-1,3,100), histtype=\"step\", lw=2);\n",
    "plt.hist(cand_pt, bins=np.logspace(-1,3,100), histtype=\"step\", lw=2);\n",
    "plt.hist(pred_pt, bins=np.logspace(-1,3,100), histtype=\"step\", lw=2);\n",
    "plt.xscale(\"log\")\n",
    "plt.yscale(\"log\")"
   ]
  },
  {
   "cell_type": "code",
   "execution_count": null,
   "id": "b9260eb7-a28f-48c1-9733-73deefe8ea4a",
   "metadata": {},
   "outputs": [],
   "source": [
    "msk = (X_qcd[:, :, 0]==4) & (yvals_qcd[\"target_cls_id\"]!=0) & (yvals_qcd[\"cand_cls_id\"]!=0) & (yvals_qcd[\"pred_cls_id\"]!=0)\n",
    "gen_pt = ak.to_numpy(ak.flatten(yvals_qcd[\"target_pt\"][msk]))\n",
    "pred_pt = ak.to_numpy(ak.flatten(yvals_qcd[\"pred_pt\"][msk]))\n",
    "cand_pt = ak.to_numpy(ak.flatten(yvals_qcd[\"cand_pt\"][msk]))\n",
    "\n",
    "plt.figure()\n",
    "plt.hist(gen_pt, bins=np.logspace(-1,3,100), histtype=\"step\", lw=2);\n",
    "plt.hist(cand_pt, bins=np.logspace(-1,3,100), histtype=\"step\", lw=2);\n",
    "plt.hist(pred_pt, bins=np.logspace(-1,3,100), histtype=\"step\", lw=2);\n",
    "plt.xscale(\"log\")\n",
    "plt.yscale(\"log\")\n",
    "\n",
    "plt.figure()\n",
    "plt.hist2d(gen_pt, cand_pt, np.logspace(-1,3,100));\n",
    "plt.xscale('log')\n",
    "plt.yscale('log')\n",
    "\n",
    "plt.figure()\n",
    "plt.hist2d(gen_pt, pred_pt, np.logspace(-1,3,100));\n",
    "plt.xscale('log')\n",
    "plt.yscale('log')"
   ]
  },
  {
   "cell_type": "code",
   "execution_count": null,
   "id": "f7526b4d-9dd9-4801-9e59-2bd89b576e33",
   "metadata": {},
   "outputs": [],
   "source": [
    "msk = yvals_qcd[\"target_cls_id\"]!=0\n",
    "plt.hist(np.log(ak.flatten(yvals_qcd[\"target_energy\"][msk]/X_qcd[msk][:, :, 5])), bins=np.linspace(-10,10,100));\n",
    "plt.yscale(\"log\")"
   ]
  },
  {
   "cell_type": "markdown",
   "id": "b42a73e0",
   "metadata": {},
   "source": [
    "### Full distribution plots for each class"
   ]
  },
  {
   "cell_type": "code",
   "execution_count": null,
   "id": "cb9c90b6-7537-4191-b3a8-da977899f68d",
   "metadata": {},
   "outputs": [],
   "source": [
    "met_and_ratio = compute_met_and_ratio(yvals_ttbar)"
   ]
  },
  {
   "cell_type": "code",
   "execution_count": null,
   "id": "50a08aa2",
   "metadata": {},
   "outputs": [],
   "source": [
    "for icls in range(0, 8):\n",
    "    fig, axs = plt.subplots(\n",
    "        2, 2, figsize=(2 * mplhep.styles.CMS[\"figure.figsize\"][0], 2 * mplhep.styles.CMS[\"figure.figsize\"][1])\n",
    "    )\n",
    "\n",
    "    for ax, ivar in zip(axs.flatten(), [\"pt\", \"energy\", \"eta\", \"phi\"]):\n",
    "\n",
    "        plt.sca(ax)\n",
    "\n",
    "        if icls == 0:\n",
    "            vals_true = awkward.flatten(yvals_ttbar[\"target_\" + ivar][yvals_ttbar[\"target_cls_id\"] != 0])\n",
    "            vals_pf = awkward.flatten(yvals_ttbar[\"cand_\" + ivar][yvals_ttbar[\"cand_cls_id\"] != 0])\n",
    "            vals_pred = awkward.flatten(yvals_ttbar[\"pred_\" + ivar][yvals_ttbar[\"pred_cls_id\"] != 0])\n",
    "        else:\n",
    "            vals_true = awkward.flatten(yvals_ttbar[\"target_\" + ivar][yvals_ttbar[\"target_cls_id\"] == icls])\n",
    "            vals_pf = awkward.flatten(yvals_ttbar[\"cand_\" + ivar][yvals_ttbar[\"cand_cls_id\"] == icls])\n",
    "            vals_pred = awkward.flatten(yvals_ttbar[\"pred_\" + ivar][yvals_ttbar[\"pred_cls_id\"] == icls])\n",
    "\n",
    "        if ivar == \"pt\" or ivar == \"energy\":\n",
    "            b = np.logspace(-3, 4, 61)\n",
    "            log = True\n",
    "        else:\n",
    "            b = np.linspace(np.min(vals_true), np.max(vals_true), 41)\n",
    "            log = False\n",
    "\n",
    "        plt.hist(vals_true, bins=b, histtype=\"step\", lw=2, label=\"gen\", color=\"black\")\n",
    "        plt.hist(vals_pf, bins=b, histtype=\"step\", lw=2, label=\"PF\")\n",
    "        plt.hist(vals_pred, bins=b, histtype=\"step\", lw=2, label=\"MLPF\")\n",
    "        plt.legend(loc=(0.75, 0.75))\n",
    "\n",
    "        ylim = ax.get_ylim()\n",
    "\n",
    "        cls_name = CLASS_NAMES_CMS[icls] if icls > 0 else \"all\"\n",
    "        plt.xlabel(\"{} {}\".format(cls_name, ivar))\n",
    "\n",
    "        plt.yscale(\"log\")\n",
    "        plt.ylim(10, 10 * ylim[1])\n",
    "\n",
    "        if log:\n",
    "            plt.xscale(\"log\")\n",
    "        cms_label(ax)\n",
    "\n",
    "    # plt.tight_layout()\n",
    "    #plt.savefig(\"{}/distribution_icls{}.pdf\".format(outpath, icls), bbox_inches=\"tight\")"
   ]
  },
  {
   "cell_type": "markdown",
   "id": "4b506f28",
   "metadata": {},
   "source": [
    "### Plot of the neutral cluster classification output"
   ]
  },
  {
   "cell_type": "code",
   "execution_count": null,
   "id": "0d0f99c8-a481-491a-b9c0-3d52792dcada",
   "metadata": {},
   "outputs": [],
   "source": [
    "X = X_qcd\n",
    "yvals = yvals_qcd\n",
    "physics_process = \"cms_pf_qcd\""
   ]
  },
  {
   "cell_type": "code",
   "execution_count": null,
   "id": "441475de",
   "metadata": {},
   "outputs": [],
   "source": [
    "df = pandas.DataFrame()\n",
    "msk = X[:, :, 0] == 5\n",
    "df[\"X_energy\"] = awkward.to_numpy(awkward.flatten(X[msk][:, :, 5]))\n",
    "df[\"X_eta\"] = awkward.to_numpy(awkward.flatten(X[msk][:, :, 2]))\n",
    "\n",
    "df[\"cand_energy\"] = awkward.to_numpy(awkward.flatten(yvals[\"cand_energy\"][msk]))\n",
    "df[\"cand_cls_id\"] = awkward.to_numpy(awkward.flatten(yvals[\"cand_cls_id\"][msk]))\n",
    "\n",
    "df[\"target_energy\"] = awkward.to_numpy(awkward.flatten(yvals[\"target_energy\"][msk]))\n",
    "df[\"target_cls_id\"] = awkward.to_numpy(awkward.flatten(yvals[\"target_cls_id\"][msk]))\n",
    "\n",
    "df[\"pred_energy\"] = awkward.to_numpy(awkward.flatten(yvals[\"pred_energy\"][msk]))\n",
    "df[\"pred_cls_id\"] = awkward.to_numpy(awkward.flatten(yvals[\"pred_cls_id\"][msk]))"
   ]
  },
  {
   "cell_type": "code",
   "execution_count": null,
   "id": "633cccca-ab1a-48b1-858d-f400ae47bcf5",
   "metadata": {},
   "outputs": [],
   "source": [
    "b = np.logspace(-2,3,100)\n",
    "plt.hist(df[\"X_energy\"][(df[\"pred_energy\"]==0) & (df[\"cand_energy\"]==0) & (df[\"target_energy\"]>0)], bins=b, histtype=\"step\", lw=2);\n",
    "plt.hist(df[\"X_energy\"][(df[\"pred_energy\"]==0) & (df[\"cand_energy\"]>0) & (df[\"target_energy\"]>0)], bins=b, histtype=\"step\", lw=2);\n",
    "plt.hist(df[\"X_energy\"][(df[\"pred_energy\"]>0) & (df[\"cand_energy\"]==0) & (df[\"target_energy\"]>0)], bins=b, histtype=\"step\", lw=2);\n",
    "#plt.hist(df[\"X_energy\"][(df[\"cand_energy\"]==0) & (df[\"gen_energy\"]>0)], bins=b);\n",
    "plt.xscale(\"log\")"
   ]
  },
  {
   "cell_type": "code",
   "execution_count": null,
   "id": "b838053b",
   "metadata": {},
   "outputs": [],
   "source": [
    "b = np.linspace(0, 1, 100)\n",
    "plt.figure(figsize=(15, 15))\n",
    "\n",
    "ax = plt.subplot(3, 1, 1)\n",
    "plt.xlim(0, 1)\n",
    "msk = df[\"X_energy\"] < 1\n",
    "plt.hist(\n",
    "    df[\"pred_cls2\"][(df[\"target_cls_id\"] == 0) & msk], bins=b, histtype=\"step\", lw=2, color=\"red\", label=\"no true particle\"\n",
    ")\n",
    "plt.hist(df[\"pred_cls2\"][(df[\"target_cls_id\"] == 2) & msk], bins=b, histtype=\"step\", lw=2, color=\"blue\", label=\"true n.had.\")\n",
    "plt.yscale(\"log\")\n",
    "plt.legend(loc=4)\n",
    "ax.text(0.01, 0.7, \"PFElement E < 1 GeV\", transform=ax.transAxes)\n",
    "plt.ylabel(\"PFElements / bin\")\n",
    "plt.xlabel(\"Classification output for neutral hadron\")\n",
    "cms_label(ax, y=0.9)\n",
    "sample_label(ax, physics_process, y=0.8)\n",
    "plt.ylim(1, 1e7)\n",
    "\n",
    "ax = plt.subplot(3, 1, 2)\n",
    "plt.xlim(0, 1)\n",
    "msk = (df[\"X_energy\"] > 1) & (df[\"X_energy\"] < 10)\n",
    "plt.hist(\n",
    "    df[\"pred_cls2\"][(df[\"target_cls_id\"] == 0) & msk], bins=b, histtype=\"step\", lw=2, color=\"red\", label=\"no true particle\"\n",
    ")\n",
    "plt.hist(df[\"pred_cls2\"][(df[\"target_cls_id\"] == 2) & msk], bins=b, histtype=\"step\", lw=2, color=\"blue\", label=\"true n.had.\")\n",
    "plt.yscale(\"log\")\n",
    "plt.ylabel(\"PFElements / bin\")\n",
    "ax.text(0.01, 0.7, \"1 < PFElement E < 10 GeV\", transform=ax.transAxes)\n",
    "plt.ylim(1, 1e7)\n",
    "plt.xlabel(\"Classification output for neutral hadron\")\n",
    "cms_label(ax, y=0.9)\n",
    "sample_label(ax, physics_process, y=0.8)\n",
    "\n",
    "ax = plt.subplot(3, 1, 3)\n",
    "plt.xlim(0, 1)\n",
    "msk = (df[\"X_energy\"] > 10) & (df[\"X_energy\"] < 100)\n",
    "plt.hist(\n",
    "    df[\"pred_cls2\"][(df[\"target_cls_id\"] == 0) & msk], bins=b, histtype=\"step\", lw=2, color=\"red\", label=\"no true particle\"\n",
    ")\n",
    "plt.hist(df[\"pred_cls2\"][(df[\"target_cls_id\"] == 2) & msk], bins=b, histtype=\"step\", lw=2, color=\"blue\", label=\"true n.had.\")\n",
    "plt.yscale(\"log\")\n",
    "plt.ylabel(\"PFElements / bin\")\n",
    "ax.text(0.01, 0.7, \"10 < PFElement E < 100 GeV\", transform=ax.transAxes)\n",
    "plt.xlabel(\"Classification output for neutral hadron\")\n",
    "plt.ylim(1, 1e7)\n",
    "cms_label(ax, y=0.9)\n",
    "sample_label(ax, physics_process, y=0.8)\n",
    "\n",
    "plt.tight_layout()\n",
    "\n",
    "plt.savefig(\"{}/clsout_ielem5_icls2.pdf\".format(outpath), bbox_inches=\"tight\")"
   ]
  },
  {
   "cell_type": "code",
   "execution_count": null,
   "id": "92489a43",
   "metadata": {},
   "outputs": [],
   "source": [
    "gen_cls_id = yvals[\"gen_cls_id\"]\n",
    "gen_pt = yvals[\"gen_pt\"][gen_cls_id != 0]\n",
    "gen_eta = yvals[\"gen_eta\"][gen_cls_id != 0]\n",
    "gen_phi = yvals[\"gen_phi\"][gen_cls_id != 0]\n",
    "gen_e = yvals[\"gen_energy\"][gen_cls_id != 0]\n",
    "gen_cls_id = gen_cls_id[gen_cls_id != 0]\n",
    "\n",
    "cand_cls_id = yvals[\"cand_cls_id\"]\n",
    "cand_pt = yvals[\"cand_pt\"][cand_cls_id != 0]\n",
    "cand_eta = yvals[\"cand_eta\"][cand_cls_id != 0]\n",
    "cand_phi = yvals[\"cand_phi\"][cand_cls_id != 0]\n",
    "cand_e = yvals[\"cand_energy\"][cand_cls_id != 0]\n",
    "cand_cls_id = cand_cls_id[cand_cls_id != 0]\n",
    "\n",
    "pred_cls_id = yvals[\"pred_cls_id\"]\n",
    "pred_pt = yvals[\"pred_pt\"][pred_cls_id != 0]\n",
    "pred_eta = yvals[\"pred_eta\"][pred_cls_id != 0]\n",
    "pred_phi = yvals[\"pred_phi\"][pred_cls_id != 0]\n",
    "pred_e = yvals[\"pred_energy\"][pred_cls_id != 0]\n",
    "pred_cls_id = pred_cls_id[pred_cls_id != 0]"
   ]
  },
  {
   "cell_type": "code",
   "execution_count": null,
   "id": "b84a85e2",
   "metadata": {},
   "outputs": [],
   "source": [
    "b = np.logspace(-1, 4, 101)\n",
    "\n",
    "f, (a0, a1) = plt.subplots(2, 1, gridspec_kw={\"height_ratios\": [3, 1]}, sharex=True)\n",
    "\n",
    "plt.sca(a0)\n",
    "\n",
    "h0 = to_bh(ak.flatten(cand_pt[cand_cls_id != 0]), b)\n",
    "h1 = to_bh(ak.flatten(pred_pt[pred_cls_id != 0]), b)\n",
    "h2 = to_bh(ak.flatten(gen_pt[gen_cls_id != 0]), b)\n",
    "\n",
    "mplhep.histplot(h0, histtype=\"step\", lw=2, label=\"PF\")\n",
    "mplhep.histplot(h1, histtype=\"step\", lw=2, label=\"MLPF\")\n",
    "mplhep.histplot(h2, histtype=\"step\", lw=2, label=\"MLPF truth\")\n",
    "plt.xscale(\"log\")\n",
    "plt.yscale(\"log\")\n",
    "plt.legend(frameon=False)\n",
    "plt.ylabel(\"number of particles / bin\")\n",
    "\n",
    "plt.sca(a1)\n",
    "mplhep.histplot(h0 / h2, histtype=\"step\", lw=2)\n",
    "mplhep.histplot(h1 / h2, histtype=\"step\", lw=2)\n",
    "mplhep.histplot(h2 / h2, histtype=\"step\", lw=2)\n",
    "plt.ylim(0, 2)\n",
    "plt.ylabel(\"reco / truth\")\n",
    "plt.xlabel(\"particle $p_T$ [GeV]\")"
   ]
  },
  {
   "cell_type": "code",
   "execution_count": null,
   "id": "e5e69c33",
   "metadata": {},
   "outputs": [],
   "source": [
    "b = np.linspace(-6, 6, 41)\n",
    "\n",
    "f, (a0, a1) = plt.subplots(2, 1, gridspec_kw={\"height_ratios\": [3, 1]}, sharex=True)\n",
    "\n",
    "plt.sca(a0)\n",
    "\n",
    "h0 = to_bh(ak.flatten(cand_eta[cand_cls_id != 0]), b)\n",
    "h1 = to_bh(ak.flatten(pred_eta[pred_cls_id != 0]), b)\n",
    "h2 = to_bh(ak.flatten(gen_eta[gen_cls_id != 0]), b)\n",
    "\n",
    "mplhep.histplot(h0, histtype=\"step\", lw=2, label=\"PF\")\n",
    "mplhep.histplot(h1, histtype=\"step\", lw=2, label=\"MLPF\")\n",
    "mplhep.histplot(h2, histtype=\"step\", lw=2, label=\"MLPF truth\")\n",
    "plt.legend(frameon=False)\n",
    "\n",
    "plt.sca(a1)\n",
    "mplhep.histplot(h0 / h2, histtype=\"step\", lw=2)\n",
    "mplhep.histplot(h1 / h2, histtype=\"step\", lw=2)\n",
    "mplhep.histplot(h2 / h2, histtype=\"step\", lw=2)\n",
    "plt.ylabel(\"reco / truth\")\n",
    "plt.xlabel(\"particle $\\eta$\")\n",
    "plt.ylim(0, 2)"
   ]
  },
  {
   "cell_type": "code",
   "execution_count": null,
   "id": "668b4c34",
   "metadata": {},
   "outputs": [],
   "source": [
    "fig = plt.figure(figsize=(10, 10))\n",
    "ax = plt.axes()\n",
    "b = np.logspace(-2, 4, 101)\n",
    "hs = []\n",
    "pids = [1, 2, 11, 13, 22, 130, 211]\n",
    "\n",
    "colors = plt.cm.get_cmap(\"tab20c\", len(pids))\n",
    "labels = []\n",
    "for pid in pids[::-1]:\n",
    "    pid_idx = CLASS_LABELS_CMS.index(pid)\n",
    "    pt_pid = ak.flatten(pred_pt[pred_cls_id == pid_idx])\n",
    "    hs.append(np.histogram(pt_pid, bins=b))\n",
    "    labels.append(CLASS_NAMES_CMS[CLASS_LABELS_CMS.index(pid)])\n",
    "mplhep.histplot(hs, stack=True, histtype=\"fill\", label=labels, color=colors.colors)\n",
    "# plt.yscale(\"log\")\n",
    "plt.xscale(\"log\")\n",
    "\n",
    "plt.ylim(0, 5e6)\n",
    "plt.ticklabel_format(style=\"sci\", axis=\"y\", scilimits=(0, 0))\n",
    "ax.yaxis.major.formatter._useMathText = True\n",
    "\n",
    "plt.legend(ncol=1, loc=(0.7, 0.4))\n",
    "plt.xlabel(\"$p_T$ [GeV]\")\n",
    "plt.ylabel(\"Number of particles / bin\")\n",
    "cms_label(ax)\n",
    "sample_label(ax, physics_process, \", MLPF\")\n",
    "plt.xlim(10**-2, 10**4)\n",
    "plt.savefig(outpath + \"/mlpf_pt.pdf\", bbox_inches=\"tight\")"
   ]
  },
  {
   "cell_type": "code",
   "execution_count": null,
   "id": "56da709d",
   "metadata": {},
   "outputs": [],
   "source": [
    "fig = plt.figure(figsize=(10, 10))\n",
    "ax = plt.axes()\n",
    "b = np.linspace(-6, 6, 41)\n",
    "hs = []\n",
    "\n",
    "colors = plt.cm.get_cmap(\"tab20c\", len(pids))\n",
    "labels = []\n",
    "for pid in pids[::-1]:\n",
    "    pid_idx = CLASS_LABELS_CMS.index(pid)\n",
    "    pt_pid = ak.flatten(pred_eta[pred_cls_id == pid_idx])\n",
    "    hs.append(np.histogram(pt_pid, bins=b))\n",
    "    labels.append(CLASS_NAMES_CMS[CLASS_LABELS_CMS.index(pid)])\n",
    "mplhep.histplot(hs, stack=True, histtype=\"fill\", label=labels, color=colors.colors)\n",
    "# plt.yscale(\"log\")\n",
    "# plt.xscale(\"log\")\n",
    "plt.ylim(0, 5e6)\n",
    "plt.ticklabel_format(style=\"sci\", axis=\"y\", scilimits=(0, 0))\n",
    "ax.yaxis.major.formatter._useMathText = True\n",
    "\n",
    "plt.legend(ncol=3, loc=(0.2, 0.65))\n",
    "plt.xlabel(\"$\\eta$\")\n",
    "plt.ylabel(\"Number of particles / bin\")\n",
    "cms_label(ax)\n",
    "sample_label(ax, physics_process, \", MLPF\")\n",
    "plt.xlim(-6, 6)\n",
    "plt.savefig(outpath + \"/mlpf_eta.pdf\", bbox_inches=\"tight\")"
   ]
  },
  {
   "cell_type": "code",
   "execution_count": null,
   "id": "a924a24e",
   "metadata": {},
   "outputs": [],
   "source": [
    "b = np.logspace(0, 5, 100)\n",
    "\n",
    "plt.figure()\n",
    "ax = plt.axes()\n",
    "cms_label(ax)\n",
    "sample_label(ax, physics_process)\n",
    "\n",
    "plt.hist(awkward.flatten(yvals[\"jets_gen_pt\"]), bins=b, histtype=\"step\", lw=2, label=\"genjet\")\n",
    "plt.hist(awkward.flatten(yvals[\"jets_cand_pt\"]), bins=b, histtype=\"step\", lw=2, label=\"PF jet\")\n",
    "plt.hist(awkward.flatten(yvals[\"jets_pred_pt\"]), bins=b, histtype=\"step\", lw=2, label=\"MLPF jet\")\n",
    "plt.yscale(\"log\")\n",
    "plt.xscale(\"log\")\n",
    "plt.ylim(1, 1e6)\n",
    "plt.legend(loc=(0.6, 0.7))\n",
    "plt.xlabel(\"jet $p_T$ [GeV]\")\n",
    "plt.ylabel(\"Number of jets\")\n",
    "plt.savefig(\"{}/jets.pdf\".format(outpath), bbox_inches=\"tight\")"
   ]
  },
  {
   "cell_type": "code",
   "execution_count": null,
   "id": "986faf7d",
   "metadata": {},
   "outputs": [],
   "source": [
    "b = np.linspace(-7, 7, 201)\n",
    "\n",
    "plt.figure(figsize=(12, 8))\n",
    "ax = plt.axes()\n",
    "cms_label(ax)\n",
    "sample_label(ax, physics_process)\n",
    "plt.ylim(0, 8e4)\n",
    "plt.hist(awkward.flatten(yvals[\"jets_gen_eta\"]), bins=b, histtype=\"step\", lw=2, label=\"genjet\")\n",
    "plt.hist(awkward.flatten(yvals[\"jets_cand_eta\"]), bins=b, histtype=\"step\", lw=2, label=\"PF jet\")\n",
    "plt.hist(awkward.flatten(yvals[\"jets_pred_eta\"]), bins=b, histtype=\"step\", lw=2, label=\"MLPF jet\")\n",
    "plt.legend(loc=(0.7, 0.7))\n",
    "plt.savefig(\"{}/jets_eta.pdf\".format(outpath), bbox_inches=\"tight\")"
   ]
  },
  {
   "cell_type": "code",
   "execution_count": null,
   "id": "cc057b37",
   "metadata": {},
   "outputs": [],
   "source": [
    "b = np.linspace(-2, 15, 101)\n",
    "\n",
    "fig = plt.figure()\n",
    "ax = plt.axes()\n",
    "vals = yvals[\"jet_gen_to_cand_candpt\"] / yvals[\"jet_gen_to_cand_genpt\"]\n",
    "p = med_iqr(vals)\n",
    "plt.hist(vals, bins=b, histtype=\"step\", lw=2, label=r\"PF (M={:.2f}, IQR={:.2f})\".format(p[0], p[1]))\n",
    "\n",
    "vals = yvals[\"jet_gen_to_pred_predpt\"] / yvals[\"jet_gen_to_pred_genpt\"]\n",
    "p = med_iqr(vals)\n",
    "plt.hist(vals, bins=b, histtype=\"step\", lw=2, label=r\"MLPF (M={:.2f}, IQR={:.2f})\".format(p[0], p[1]))\n",
    "\n",
    "plt.yscale(\"log\")\n",
    "plt.ylim(1, 1e7)\n",
    "cms_label(ax)\n",
    "sample_label(ax, physics_process)\n",
    "plt.legend(loc=(0.4, 0.7))\n",
    "plt.xlabel(r\"jet $\\frac{p_{\\mathrm{T,reco}}}{p_{T,\\mathrm{gen}}}$\")\n",
    "plt.savefig(\"{}/jetres.pdf\".format(outpath), bbox_inches=\"tight\")"
   ]
  },
  {
   "cell_type": "code",
   "execution_count": null,
   "id": "b5f0ec96",
   "metadata": {},
   "outputs": [],
   "source": [
    "plt.figure()\n",
    "ax = plt.axes()\n",
    "plt.hist(np.sum(X[:, :, 0] != 0, axis=1), bins=100)\n",
    "plt.axvline(6400, ls=\"--\", color=\"black\")\n",
    "plt.xlabel(\"number of input PFElements\")\n",
    "plt.ylabel(\"number of events / bin\")\n",
    "cms_label(ax)\n",
    "sample_label(ax, physics_process)"
   ]
  },
  {
   "cell_type": "code",
   "execution_count": null,
   "id": "0f27315c",
   "metadata": {},
   "outputs": [],
   "source": [
    "px = yvals[\"target_px\"][yvals[\"target_cls_id\"] != 0]\n",
    "py = yvals[\"target_py\"][yvals[\"target_cls_id\"] != 0]\n",
    "gen_met = np.sqrt(awkward.sum(px, axis=1) ** 2 + awkward.sum(py, axis=1) ** 2)\n",
    "\n",
    "px = yvals[\"cand_px\"][yvals[\"cand_cls_id\"] != 0]\n",
    "py = yvals[\"cand_py\"][yvals[\"cand_cls_id\"] != 0]\n",
    "cand_met = np.sqrt(awkward.sum(px, axis=1) ** 2 + awkward.sum(py, axis=1) ** 2)\n",
    "\n",
    "px = yvals[\"pred_px\"][yvals[\"pred_cls_id\"] != 0]\n",
    "py = yvals[\"pred_py\"][yvals[\"pred_cls_id\"] != 0]\n",
    "pred_met = np.sqrt(awkward.sum(px, axis=1) ** 2 + awkward.sum(py, axis=1) ** 2)"
   ]
  },
  {
   "cell_type": "code",
   "execution_count": null,
   "id": "1acdf109",
   "metadata": {},
   "outputs": [],
   "source": [
    "awkward.sum(px, axis=1)"
   ]
  },
  {
   "cell_type": "code",
   "execution_count": null,
   "id": "4f17e752",
   "metadata": {},
   "outputs": [],
   "source": [
    "fig = plt.figure()\n",
    "ax = plt.axes()\n",
    "\n",
    "b = np.logspace(0, 4, 100)\n",
    "plt.hist(cand_met, bins=b, histtype=\"step\", lw=2, label=\"PF\")\n",
    "plt.hist(pred_met, bins=b, histtype=\"step\", lw=2, label=\"MLPF\")\n",
    "plt.hist(gen_met, bins=b, histtype=\"step\", lw=2, label=\"gen\")\n",
    "plt.yscale(\"log\")\n",
    "plt.xscale(\"log\")\n",
    "plt.legend(loc=(0.75, 0.7))\n",
    "cms_label(ax)\n",
    "sample_label(ax, physics_process)\n",
    "plt.ylim(1, 1e3)\n",
    "plt.xlabel(\"MET [GeV]\")\n",
    "plt.ylabel(\"Number of events\")\n",
    "plt.savefig(\"{}/met.pdf\".format(outpath), bbox_inches=\"tight\")"
   ]
  },
  {
   "cell_type": "code",
   "execution_count": null,
   "id": "bc785852",
   "metadata": {},
   "outputs": [],
   "source": [
    "fig = plt.figure()\n",
    "ax = plt.axes()\n",
    "b = np.linspace(0, 100, 101)\n",
    "vals_a = cand_met / gen_met\n",
    "vals_b = pred_met / gen_met\n",
    "\n",
    "# vals_a = vals_a[gen_met < 500]\n",
    "# vals_b = vals_b[gen_met < 500]\n",
    "\n",
    "p = med_iqr(vals_a)\n",
    "plt.hist(vals_a, bins=b, histtype=\"step\", lw=2, label=\"PF, $(M={:.2f}, IQR={:.2f})$\".format(p[0], p[1]))\n",
    "\n",
    "p = med_iqr(vals_b)\n",
    "plt.hist(\n",
    "    vals_b,\n",
    "    bins=b,\n",
    "    histtype=\"step\",\n",
    "    lw=2,\n",
    "    label=\"MLPF, $(M={:.2f}, IQR={:.2f})$\".format(p[0], p[1]),\n",
    ")\n",
    "# plt.yscale(\"log\")\n",
    "cms_label(ax)\n",
    "sample_label(ax, physics_process)\n",
    "# plt.ylim(1, 1e3)\n",
    "plt.legend(loc=(0.35, 0.7))\n",
    "plt.xlabel(r\"$\\frac{\\mathrm{MET}_{\\mathrm{reco}}}{\\mathrm{MET}_{\\mathrm{gen}}}$\")\n",
    "plt.ylabel(\"Number of events / bin\")\n",
    "plt.savefig(\"{}/metres.pdf\".format(outpath), bbox_inches=\"tight\")"
   ]
  },
  {
   "cell_type": "markdown",
   "id": "7149c5c7",
   "metadata": {},
   "source": [
    "## Element type to sum pt"
   ]
  },
  {
   "cell_type": "code",
   "execution_count": null,
   "id": "2f837314",
   "metadata": {},
   "outputs": [],
   "source": [
    "def elem_type_to_sumpt(elem_type, log_scale=False, bins=None):\n",
    "    if elem_type > 0:\n",
    "        msk = X[:, :, 0] == elem_type\n",
    "    else:\n",
    "        msk = X[:, :, 0] != 0\n",
    "\n",
    "    sum_gen_pt = awkward.sum(yvals[\"gen_pt\"][msk], axis=1)\n",
    "    sum_cand_pt = awkward.sum(yvals[\"cand_pt\"][msk], axis=1)\n",
    "    sum_pred_pt = awkward.sum(yvals[\"pred_pt\"][msk], axis=1)\n",
    "\n",
    "    minval = min([np.min(sum_gen_pt), np.min(sum_cand_pt), np.min(sum_pred_pt)])\n",
    "    maxval = max([np.max(sum_gen_pt), np.max(sum_cand_pt), np.max(sum_pred_pt)])\n",
    "    if log_scale:\n",
    "        b = np.logspace(1, 5, 101)\n",
    "        minval = 1e1\n",
    "        maxval = 1e5\n",
    "    else:\n",
    "        b = np.linspace(minval, maxval, 101)\n",
    "\n",
    "    if not bins is None:\n",
    "        b = bins\n",
    "        minval = np.min(b)\n",
    "        maxval = np.max(b)\n",
    "\n",
    "    fig, axs = plt.subplots(1, 2, figsize=(10, 5))\n",
    "\n",
    "    plt.sca(axs[0])\n",
    "    plt.hist2d(sum_gen_pt, sum_cand_pt, bins=(b, b), cmap=\"hot_r\")\n",
    "\n",
    "    plt.plot([minval, maxval], [minval, maxval], color=\"black\", ls=\"--\")\n",
    "    plt.xlim(minval, maxval)\n",
    "    plt.ylim(minval, maxval)\n",
    "    plt.xlabel(\"Gen $\\sum p_T$ [GeV]\")\n",
    "    plt.ylabel(\"PF $\\sum p_T$ [GeV]\")\n",
    "    if log_scale:\n",
    "        plt.xscale(\"log\")\n",
    "        plt.yscale(\"log\")\n",
    "\n",
    "    plt.sca(axs[1])\n",
    "    plt.hist2d(sum_gen_pt, sum_pred_pt, bins=(b, b), cmap=\"hot_r\")\n",
    "    plt.plot([minval, maxval], [minval, maxval], color=\"black\", ls=\"--\")\n",
    "    plt.xlim(minval, maxval)\n",
    "    plt.ylim(minval, maxval)\n",
    "    plt.xlabel(\"Gen $\\sum p_T$ [GeV]\")\n",
    "    plt.ylabel(\"MLPF $\\sum p_T$ [GeV]\")\n",
    "    if log_scale:\n",
    "        plt.xscale(\"log\")\n",
    "        plt.yscale(\"log\")\n",
    "\n",
    "    plt.tight_layout()"
   ]
  },
  {
   "cell_type": "code",
   "execution_count": null,
   "id": "c78681ce",
   "metadata": {},
   "outputs": [],
   "source": [
    "elem_type_to_sumpt(0, log_scale=True, bins=np.logspace(3, 5, 101))\n",
    "plt.suptitle(\"All PF inputs\", y=1.04)\n",
    "plt.savefig(\"{}/sum_pt_all.pdf\".format(outpath), bbox_inches=\"tight\")"
   ]
  },
  {
   "cell_type": "code",
   "execution_count": null,
   "id": "98ff0a5a",
   "metadata": {},
   "outputs": [],
   "source": [
    "elem_type_to_sumpt(1, log_scale=True)\n",
    "plt.suptitle(\"KF tracks\", y=1.04)\n",
    "plt.savefig(\"{}/sum_pt_tracks.pdf\".format(outpath), bbox_inches=\"tight\")"
   ]
  },
  {
   "cell_type": "code",
   "execution_count": null,
   "id": "809c672a",
   "metadata": {},
   "outputs": [],
   "source": [
    "elem_type_to_sumpt(4, log_scale=True)\n",
    "plt.suptitle(\"ECAL clusters\", y=1.04)\n",
    "plt.savefig(\"{}/sum_pt_ecal.pdf\".format(outpath), bbox_inches=\"tight\")"
   ]
  },
  {
   "cell_type": "code",
   "execution_count": null,
   "id": "a560a4fe",
   "metadata": {},
   "outputs": [],
   "source": [
    "elem_type_to_sumpt(5, log_scale=True)\n",
    "plt.suptitle(\"HCAL clusters\", y=1.04)\n",
    "plt.savefig(\"{}/sum_pt_hcal.pdf\".format(outpath), bbox_inches=\"tight\")"
   ]
  },
  {
   "cell_type": "code",
   "execution_count": null,
   "id": "0085944d",
   "metadata": {},
   "outputs": [],
   "source": [
    "elem_type_to_sumpt(6, log_scale=True)\n",
    "plt.suptitle(\"GSF clusters\", y=1.04)\n",
    "plt.savefig(\"{}/sum_pt_gsf.pdf\".format(outpath), bbox_inches=\"tight\")"
   ]
  },
  {
   "cell_type": "code",
   "execution_count": null,
   "id": "13840b80",
   "metadata": {},
   "outputs": [],
   "source": [
    "elem_type_to_sumpt(8, log_scale=True)\n",
    "plt.suptitle(\"HFEM clusters\", y=1.04)\n",
    "plt.savefig(\"{}/sum_pt_hfem.pdf\".format(outpath), bbox_inches=\"tight\")"
   ]
  },
  {
   "cell_type": "code",
   "execution_count": null,
   "id": "0c5d36d3",
   "metadata": {},
   "outputs": [],
   "source": [
    "elem_type_to_sumpt(9, log_scale=True)\n",
    "plt.suptitle(\"HFHAD clusters\", y=1.04)\n",
    "plt.savefig(\"{}/sum_pt_hfhad.pdf\".format(outpath), bbox_inches=\"tight\")"
   ]
  },
  {
   "cell_type": "code",
   "execution_count": null,
   "id": "031e4880",
   "metadata": {},
   "outputs": [],
   "source": [
    "elem_type_to_sumpt(10, log_scale=True)\n",
    "plt.suptitle(\"HO clusters\", y=1.04)\n",
    "plt.savefig(\"{}/sum_pt_ho.pdf\".format(outpath), bbox_inches=\"tight\")"
   ]
  },
  {
   "cell_type": "code",
   "execution_count": null,
   "id": "3158cc87",
   "metadata": {},
   "outputs": [],
   "source": [
    "elem_type_to_sumpt(11, log_scale=True)\n",
    "plt.suptitle(\"SC clusters\", y=1.04)\n",
    "plt.savefig(\"{}/sum_pt_sc.pdf\".format(outpath), bbox_inches=\"tight\")"
   ]
  },
  {
   "cell_type": "code",
   "execution_count": null,
   "id": "4a4d0c39",
   "metadata": {},
   "outputs": [],
   "source": [
    "def elem_type_ptcorr(elem_type):\n",
    "    msk = (X[:, :, 0] == elem_type) & (yvals[\"gen_cls_id\"] != 0) & (yvals[\"cand_cls_id\"] != 0)\n",
    "    b = np.logspace(-2, 4, 100)\n",
    "\n",
    "    fig, axs = plt.subplots(1, 2, figsize=(10, 5))\n",
    "    plt.sca(axs[0])\n",
    "    plt.hist2d(\n",
    "        awkward.flatten(yvals[\"gen_pt\"][msk], axis=1),\n",
    "        awkward.flatten(yvals[\"cand_pt\"][msk], axis=1),\n",
    "        bins=(b, b),\n",
    "        cmap=\"hot_r\",\n",
    "    )\n",
    "    plt.plot([1e-2, 1e4], [1e-2, 1e4], color=\"black\", ls=\"--\")\n",
    "    plt.xscale(\"log\")\n",
    "    plt.yscale(\"log\")\n",
    "    plt.xlabel(\"Gen $p_T$ [GeV]\")\n",
    "    plt.ylabel(\"PF $p_T$ [GeV]\")\n",
    "\n",
    "    msk = (X[:, :, 0] == elem_type) & (yvals[\"gen_cls_id\"] != 0) & (yvals[\"pred_cls_id\"] != 0)\n",
    "    plt.sca(axs[1])\n",
    "    plt.hist2d(\n",
    "        awkward.flatten(yvals[\"gen_pt\"][msk], axis=1),\n",
    "        awkward.flatten(yvals[\"pred_pt\"][msk], axis=1),\n",
    "        bins=(b, b),\n",
    "        cmap=\"hot_r\",\n",
    "    )\n",
    "    plt.plot([1e-2, 1e4], [1e-2, 1e4], color=\"black\", ls=\"--\")\n",
    "    plt.xscale(\"log\")\n",
    "    plt.yscale(\"log\")\n",
    "    plt.xlabel(\"Gen $p_T$ [GeV]\")\n",
    "    plt.ylabel(\"MLPF $p_T$ [GeV]\")\n",
    "    plt.tight_layout()"
   ]
  },
  {
   "cell_type": "code",
   "execution_count": null,
   "id": "b10efd15",
   "metadata": {},
   "outputs": [],
   "source": [
    "elem_type_ptcorr(1)\n",
    "plt.suptitle(\"KF track associated particles\", y=1.04)\n",
    "plt.savefig(\"{}/pt_track.pdf\".format(outpath), bbox_inches=\"tight\")"
   ]
  },
  {
   "cell_type": "code",
   "execution_count": null,
   "id": "a43f6267",
   "metadata": {},
   "outputs": [],
   "source": [
    "elem_type_ptcorr(4)\n",
    "plt.suptitle(\"ECAL cluster associated particles\", y=1.04)\n",
    "plt.savefig(\"{}/pt_ecal.pdf\".format(outpath), bbox_inches=\"tight\")"
   ]
  },
  {
   "cell_type": "code",
   "execution_count": null,
   "id": "22d6cd0a",
   "metadata": {},
   "outputs": [],
   "source": [
    "elem_type_ptcorr(5)\n",
    "plt.suptitle(\"HCAL cluster associated particles\", y=1.04)\n",
    "plt.savefig(\"{}/pt_hcal.pdf\".format(outpath), bbox_inches=\"tight\")"
   ]
  },
  {
   "cell_type": "code",
   "execution_count": null,
   "id": "a6c0a30f",
   "metadata": {},
   "outputs": [],
   "source": [
    "elem_type_ptcorr(6)\n",
    "plt.suptitle(\"GSF track associated particles\", y=1.04)\n",
    "plt.savefig(\"{}/pt_gsf.pdf\".format(outpath), bbox_inches=\"tight\")"
   ]
  },
  {
   "cell_type": "code",
   "execution_count": null,
   "id": "d090323a",
   "metadata": {},
   "outputs": [],
   "source": [
    "elem_type_ptcorr(8)\n",
    "plt.suptitle(\"HFEM cluster associated particles\", y=1.04)\n",
    "plt.savefig(\"{}/pt_hfem.pdf\".format(outpath), bbox_inches=\"tight\")"
   ]
  },
  {
   "cell_type": "code",
   "execution_count": null,
   "id": "04e2b7be",
   "metadata": {},
   "outputs": [],
   "source": [
    "elem_type_ptcorr(9)\n",
    "plt.suptitle(\"HFHAD cluster associated particles\", y=1.04)\n",
    "plt.savefig(\"{}/pt_hfhad.pdf\".format(outpath), bbox_inches=\"tight\")"
   ]
  },
  {
   "cell_type": "code",
   "execution_count": null,
   "id": "286a7aaa",
   "metadata": {},
   "outputs": [],
   "source": [
    "elem_type_ptcorr(10)\n",
    "plt.suptitle(\"HO cluster associated particles\", y=1.04)\n",
    "plt.savefig(\"{}/pt_ho.pdf\".format(outpath), bbox_inches=\"tight\")"
   ]
  },
  {
   "cell_type": "code",
   "execution_count": null,
   "id": "b52f4e0f",
   "metadata": {},
   "outputs": [],
   "source": [
    "elem_type_ptcorr(11)\n",
    "plt.suptitle(\"SC cluster associated particles\", y=1.04)\n",
    "plt.savefig(\"{}/pt_SC.pdf\".format(outpath), bbox_inches=\"tight\")"
   ]
  },
  {
   "cell_type": "markdown",
   "id": "4c7bf516",
   "metadata": {},
   "source": [
    "### Resolution plots"
   ]
  },
  {
   "cell_type": "code",
   "execution_count": null,
   "id": "4733de4f",
   "metadata": {},
   "outputs": [],
   "source": [
    "def reso_plot_in_ptbins(var, pid, reso_bins):\n",
    "    pt_bins = np.array([0, 5, 10, 15, 20, 30, 40, 50, 60, 70, 80, 90, 100, 150, 200, 300, 400])\n",
    "\n",
    "    for ibin in range(len(pt_bins) - 1):\n",
    "        fig = plt.figure()\n",
    "        ax = plt.axes()\n",
    "\n",
    "        plt.sca(ax)\n",
    "        pt_low = pt_bins[ibin]\n",
    "        pt_high = pt_bins[ibin + 1]\n",
    "        msk_cand = (\n",
    "            (yvals_ttbar[\"target_cls_id\"] == pid)\n",
    "            & (yvals_ttbar[\"cand_cls_id\"] == pid)\n",
    "            & (yvals_ttbar[\"target_pt\"] >= pt_low)\n",
    "            & (yvals_ttbar[\"target_pt\"] < pt_high)\n",
    "        )\n",
    "        vals_gen = awkward.flatten(yvals_ttbar[\"target_\" + var][msk_cand])\n",
    "        vals_cand = awkward.flatten(yvals_ttbar[\"cand_\" + var][msk_cand])\n",
    "        reso_1 = vals_cand / vals_gen\n",
    "\n",
    "        n_cand = len(reso_1)\n",
    "        med_cand = 0.0\n",
    "        iqr_cand = 0.0\n",
    "        if n_cand > 100:\n",
    "            med_cand, iqr_cand = med_iqr(reso_1)\n",
    "\n",
    "        msk_pred = (\n",
    "            (yvals_ttbar[\"target_cls_id\"] == pid)\n",
    "            & (yvals_ttbar[\"pred_cls_id\"] == pid)\n",
    "            & (yvals_ttbar[\"target_pt\"] >= pt_low)\n",
    "            & (yvals_ttbar[\"target_pt\"] < pt_high)\n",
    "        )\n",
    "        vals_gen = awkward.flatten(yvals_ttbar[\"target_\" + var][msk_pred])\n",
    "        vals_pred = awkward.flatten(yvals_ttbar[\"pred_\" + var][msk_pred])\n",
    "        reso_2 = vals_pred / vals_gen\n",
    "        n_pred = len(reso_2)\n",
    "\n",
    "        med_pred = 0.0\n",
    "        iqr_pred = 0.0\n",
    "        if n_pred > 100:\n",
    "            med_pred, iqr_pred = med_iqr(reso_2)\n",
    "\n",
    "        h0 = to_bh(reso_1, reso_bins)\n",
    "        h1 = to_bh(reso_2, reso_bins)\n",
    "\n",
    "        mplhep.histplot(\n",
    "            h0,\n",
    "            histtype=\"step\",\n",
    "            lw=2,\n",
    "            label=\"PF N={:.2E}\\nM={:.2f}, IQR={:.2f}\".format(n_cand, med_cand, iqr_cand),\n",
    "            yerr=False,\n",
    "        )\n",
    "        mplhep.histplot(\n",
    "            h1,\n",
    "            histtype=\"step\",\n",
    "            lw=2,\n",
    "            label=\"MLPF N={:.2E}\\nM={:.2f}, IQR={:.2f}\".format(n_pred, med_pred, iqr_pred),\n",
    "            yerr=False,\n",
    "        )\n",
    "\n",
    "        plt.axvline(1.0, color=\"black\", ls=\"--\")\n",
    "        plt.legend(loc=\"best\", frameon=False, ncol=1)\n",
    "        plt.ticklabel_format(axis=\"y\", style=\"sci\", scilimits=(0, 0), useMathText=True)\n",
    "        plt.title(\"{}, ${:.0f} \\leq \\mathrm{{gen}}\\ p_t \\less {:.0f}$ GeV\".format(CLASS_NAMES_CMS[pid], pt_low, pt_high))\n",
    "        plt.yscale(\"log\")\n",
    "        plt.ylabel(\"Number of reconstructed particles / bin\")\n",
    "        plt.xlabel(\"reco / gen {}\".format(var))\n",
    "        plt.savefig(\"{}/{}_pid{}_ptbin_{}_{}.pdf\".format(outpath, var, pid, pt_low, pt_high), bbox_inches=\"tight\")"
   ]
  },
  {
   "cell_type": "markdown",
   "id": "9543a057-0f3c-4e67-b9c2-80435ea6f3da",
   "metadata": {},
   "source": [
    "## Charged hadrons"
   ]
  },
  {
   "cell_type": "code",
   "execution_count": null,
   "id": "1bfa3abc",
   "metadata": {},
   "outputs": [],
   "source": [
    "reso_plot(1, \"pt\", np.linspace(0, 200, 101), \", ch.had.\")"
   ]
  },
  {
   "cell_type": "code",
   "execution_count": null,
   "id": "b609604c",
   "metadata": {},
   "outputs": [],
   "source": [
    "reso_plot(1, \"eta\", np.linspace(-50, 50, 100), \", ch.had.\")"
   ]
  },
  {
   "cell_type": "markdown",
   "id": "ff045d43",
   "metadata": {},
   "source": [
    "### Neutral hadrons"
   ]
  },
  {
   "cell_type": "code",
   "execution_count": null,
   "id": "09d05c6f",
   "metadata": {},
   "outputs": [],
   "source": [
    "reso_plot_in_ptbins(\"pt\", 2, np.linspace(0, 10, 41))"
   ]
  },
  {
   "cell_type": "code",
   "execution_count": null,
   "id": "83f74b88",
   "metadata": {},
   "outputs": [],
   "source": [
    "reso_plot_in_ptbins(\"eta\", 2, np.linspace(0, 2, 41))"
   ]
  },
  {
   "cell_type": "code",
   "execution_count": null,
   "id": "9c5cc2bb",
   "metadata": {},
   "outputs": [],
   "source": [
    "reso_plot(2, \"pt\", np.linspace(0, 200, 100), \", n.had.\")"
   ]
  },
  {
   "cell_type": "code",
   "execution_count": null,
   "id": "e06b586e",
   "metadata": {},
   "outputs": [],
   "source": [
    "reso_plot(2, \"eta\", np.linspace(-50, 50, 100), \", n.had.\")"
   ]
  },
  {
   "cell_type": "markdown",
   "id": "00a5be5e",
   "metadata": {},
   "source": [
    "### HF"
   ]
  },
  {
   "cell_type": "code",
   "execution_count": null,
   "id": "abf2fd9c",
   "metadata": {},
   "outputs": [],
   "source": [
    "reso_plot(3, \"pt\", np.linspace(0, 200, 100), \", HFHAD\")"
   ]
  },
  {
   "cell_type": "code",
   "execution_count": null,
   "id": "5eb03e84",
   "metadata": {},
   "outputs": [],
   "source": [
    "reso_plot(3, \"eta\", np.linspace(-5, 5, 100), \", HFHAD\")"
   ]
  },
  {
   "cell_type": "code",
   "execution_count": null,
   "id": "a34181d4",
   "metadata": {},
   "outputs": [],
   "source": [
    "reso_plot(4, \"pt\", np.linspace(0, 200, 100), \", HFEM\")"
   ]
  },
  {
   "cell_type": "code",
   "execution_count": null,
   "id": "1e2d2422",
   "metadata": {},
   "outputs": [],
   "source": [
    "reso_plot(4, \"eta\", np.linspace(-5, 5, 100), \", HFEM\")\n",
    "plt.ylim(1, 1e10)\n",
    "plt.savefig(\"{}/eta_res_hfem.pdf\".format(outpath), bbox_inches=\"tight\")"
   ]
  },
  {
   "cell_type": "markdown",
   "id": "6e58d8d2",
   "metadata": {},
   "source": [
    "### Gamma"
   ]
  },
  {
   "cell_type": "code",
   "execution_count": null,
   "id": "4639f93d",
   "metadata": {},
   "outputs": [],
   "source": [
    "reso_plot_in_ptbins(\"pt\", 5, np.linspace(0, 10, 41))"
   ]
  },
  {
   "cell_type": "code",
   "execution_count": null,
   "id": "6fc79846",
   "metadata": {},
   "outputs": [],
   "source": [
    "reso_plot_in_ptbins(\"eta\", 5, np.linspace(0, 2, 41))"
   ]
  },
  {
   "cell_type": "code",
   "execution_count": null,
   "id": "d9ee4c6f",
   "metadata": {},
   "outputs": [],
   "source": [
    "reso_plot(5, \"pt\", np.linspace(0, 200, 100), \", $\\gamma$\")"
   ]
  },
  {
   "cell_type": "code",
   "execution_count": null,
   "id": "6173439e",
   "metadata": {},
   "outputs": [],
   "source": [
    "reso_plot(5, \"eta\", np.linspace(-10, 10, 100), \", $\\gamma$\")\n",
    "plt.ylim(1, 1e10)"
   ]
  },
  {
   "cell_type": "markdown",
   "id": "1e0c9428",
   "metadata": {},
   "source": [
    "### Electrons"
   ]
  },
  {
   "cell_type": "code",
   "execution_count": null,
   "id": "4da426c1",
   "metadata": {},
   "outputs": [],
   "source": [
    "reso_plot(6, \"pt\", np.linspace(0, 25, 100), \", $e^\\pm$\")"
   ]
  },
  {
   "cell_type": "code",
   "execution_count": null,
   "id": "c247070c",
   "metadata": {},
   "outputs": [],
   "source": [
    "reso_plot(6, \"eta\", np.linspace(-10, 10, 100), \", $e^\\pm$\")"
   ]
  },
  {
   "cell_type": "markdown",
   "id": "0da3e801",
   "metadata": {},
   "source": [
    "### Muons"
   ]
  },
  {
   "cell_type": "code",
   "execution_count": null,
   "id": "01616ead",
   "metadata": {},
   "outputs": [],
   "source": [
    "reso_plot(7, \"pt\", np.linspace(0, 10, 100), \", $\\mu^\\pm$\")"
   ]
  },
  {
   "cell_type": "code",
   "execution_count": null,
   "id": "60fb772d",
   "metadata": {},
   "outputs": [],
   "source": [
    "reso_plot(7, \"eta\", np.linspace(-10, 10, 100), \", $\\mu^\\pm$\")\n",
    "plt.ylim(1, 1e10)\n",
    "plt.savefig(\"{}/eta_res_mu.pdf\".format(outpath), bbox_inches=\"tight\")"
   ]
  },
  {
   "cell_type": "markdown",
   "id": "db44adb9",
   "metadata": {},
   "source": [
    "### Efficiencies and fake rates"
   ]
  },
  {
   "cell_type": "code",
   "execution_count": null,
   "id": "2c8bc9a9",
   "metadata": {},
   "outputs": [],
   "source": [
    "plot_eff_and_fake_rate(icls=1, ivar=1, ielem=1, bins=np.logspace(-1, 2, 41), xlabel=\"track $p_T$ [GeV]\", log=True)"
   ]
  },
  {
   "cell_type": "code",
   "execution_count": null,
   "id": "40f9f684",
   "metadata": {},
   "outputs": [],
   "source": [
    "plot_eff_and_fake_rate(icls=2, ivar=5, ielem=5, bins=np.logspace(0, 3, 41), xlabel=\"calorimeter cluster E [GeV]\", log=True)"
   ]
  },
  {
   "cell_type": "code",
   "execution_count": null,
   "id": "8b2ccb22",
   "metadata": {},
   "outputs": [],
   "source": [
    "plot_eff_and_fake_rate(icls=3, ivar=5, ielem=9, bins=np.logspace(0, 3, 41), xlabel=\"calorimeter cluster E [GeV]\", log=True)"
   ]
  },
  {
   "cell_type": "code",
   "execution_count": null,
   "id": "09e003b6",
   "metadata": {},
   "outputs": [],
   "source": [
    "plot_eff_and_fake_rate(icls=4, ivar=5, ielem=8, bins=np.logspace(0, 3, 41), xlabel=\"calorimeter cluster E [GeV]\", log=True)"
   ]
  },
  {
   "cell_type": "code",
   "execution_count": null,
   "id": "b683b035",
   "metadata": {},
   "outputs": [],
   "source": [
    "plot_eff_and_fake_rate(icls=5, ivar=5, ielem=4, bins=np.logspace(-1, 4, 41), xlabel=\"calorimeter cluster E [GeV]\", log=True)"
   ]
  },
  {
   "cell_type": "code",
   "execution_count": null,
   "id": "79d97479",
   "metadata": {},
   "outputs": [],
   "source": [
    "plot_eff_and_fake_rate(icls=6, ivar=1, ielem=1, bins=np.logspace(0, 2, 61), xlabel=\"track $p_T$ [GeV]\", log=True)"
   ]
  },
  {
   "cell_type": "code",
   "execution_count": null,
   "id": "152460b5",
   "metadata": {},
   "outputs": [],
   "source": [
    "plot_eff_and_fake_rate(icls=7, ivar=1, ielem=1, bins=np.logspace(0, 2, 61), xlabel=\"track $p_T$ [GeV]\", log=True)"
   ]
  },
  {
   "cell_type": "markdown",
   "id": "135c1de7",
   "metadata": {},
   "source": [
    "### Training details"
   ]
  },
  {
   "cell_type": "code",
   "execution_count": null,
   "id": "f6407e23",
   "metadata": {},
   "outputs": [],
   "source": [
    "def load_history(path, min_epoch=None, max_epoch=None):\n",
    "    ret = {}\n",
    "    for fi in glob.glob(path):\n",
    "        data = json.load(open(fi))\n",
    "        data2 = {}\n",
    "        for k1 in [\"train\", \"valid\"]:\n",
    "            for k2 in data[k1].keys():\n",
    "                data2[f\"{k1}_{k2}\"] = data[k1][k2]\n",
    "        epoch = int(fi.split(\"_\")[-1].split(\".\")[0])\n",
    "        ret[epoch] = data2\n",
    "\n",
    "    if not max_epoch:\n",
    "        max_epoch = max(ret.keys())\n",
    "    if not min_epoch:\n",
    "        min_epoch = min(ret.keys())\n",
    "\n",
    "    ret2 = []\n",
    "    for i in range(min_epoch, max_epoch + 1):\n",
    "        ret2.append(ret[i])\n",
    "    \n",
    "    return pandas.DataFrame(ret2)"
   ]
  },
  {
   "cell_type": "code",
   "execution_count": null,
   "id": "4b2fefac",
   "metadata": {},
   "outputs": [],
   "source": [
    "history = load_history(f\"{path}/../history/epoch_*.json\", max_epoch=5)"
   ]
  },
  {
   "cell_type": "code",
   "execution_count": null,
   "id": "f1f9c415-9e5c-4f8d-9881-f4695fd782f1",
   "metadata": {},
   "outputs": [],
   "source": [
    "history"
   ]
  },
  {
   "cell_type": "code",
   "execution_count": null,
   "id": "84949a51",
   "metadata": {},
   "outputs": [],
   "source": [
    "p0 = loss_plot(history.index, history[\"train_Total\"].values, history[\"valid_Total\"].values, margin=0.1)\n",
    "plt.ylabel(\"Total loss\")\n",
    "plt.savefig(\"{}/loss.pdf\".format(outpath), bbox_inches=\"tight\")"
   ]
  },
  {
   "cell_type": "code",
   "execution_count": null,
   "id": "34f5c4d6",
   "metadata": {},
   "outputs": [],
   "source": [
    "p0 = loss_plot(history.index, history[\"train_Classification\"].values, history[\"valid_Classification\"].values, margin=0.05)\n",
    "#plt.ylim(0.04, 0.045)\n",
    "plt.ylabel(\"Particle ID loss\")\n",
    "plt.savefig(\"{}/cls_loss.pdf\".format(outpath), bbox_inches=\"tight\")"
   ]
  },
  {
   "cell_type": "code",
   "execution_count": null,
   "id": "d37808ad-fac5-42f3-84be-7e488884eeb9",
   "metadata": {},
   "outputs": [],
   "source": [
    "p0 = loss_plot(history.index, history[\"train_Classification_binary\"].values, history[\"valid_Classification_binary\"].values, margin=0.1)\n",
    "plt.ylabel(\"Binary classification loss\")\n",
    "plt.savefig(\"{}/cls_bin_loss.pdf\".format(outpath), bbox_inches=\"tight\")"
   ]
  },
  {
   "cell_type": "code",
   "execution_count": null,
   "id": "03551b47",
   "metadata": {},
   "outputs": [],
   "source": [
    "reg_loss = sum([history[\"train_Regression_{}\".format(l)].values for l in [\"energy\", \"pt\", \"eta\", \"sin_phi\", \"cos_phi\"]])\n",
    "val_reg_loss = sum(\n",
    "    [history[\"valid_Regression_{}\".format(l)].values for l in [\"energy\", \"pt\", \"eta\", \"sin_phi\", \"cos_phi\"]]\n",
    ")\n",
    "p0 = loss_plot(history.index, reg_loss, val_reg_loss, margin=0.2)\n",
    "plt.ylabel(\"Regression loss\")\n",
    "plt.savefig(\"{}/reg_loss.pdf\".format(outpath), bbox_inches=\"tight\")"
   ]
  },
  {
   "cell_type": "markdown",
   "id": "6d39647b",
   "metadata": {},
   "source": [
    "### Confusion matrices"
   ]
  },
  {
   "cell_type": "code",
   "execution_count": null,
   "id": "dd453417",
   "metadata": {},
   "outputs": [],
   "source": [
    "fig = plt.figure(figsize=(12, 12))\n",
    "ax = plt.axes()\n",
    "\n",
    "cm_norm = sklearn.metrics.confusion_matrix(\n",
    "    awkward.flatten(yvals_ttbar[\"target_cls_id\"][X_ttbar[:, :, 0] != 0]),\n",
    "    awkward.flatten(yvals_ttbar[\"pred_cls_id\"][X_ttbar[:, :, 0] != 0]),\n",
    "    labels=range(0, len(CLASS_LABELS_CMS)),\n",
    "    normalize=\"true\",\n",
    ")\n",
    "\n",
    "plt.imshow(cm_norm, cmap=\"Blues\", origin=\"lower\")\n",
    "plt.colorbar()\n",
    "\n",
    "\n",
    "thresh = cm_norm.max() / 1.5\n",
    "for i, j in itertools.product(range(cm_norm.shape[0]), range(cm_norm.shape[1])):\n",
    "    plt.text(\n",
    "        j,\n",
    "        i,\n",
    "        \"{:0.2f}\".format(cm_norm[i, j]),\n",
    "        horizontalalignment=\"center\",\n",
    "        color=\"white\" if cm_norm[i, j] > thresh else \"black\",\n",
    "        fontsize=12,\n",
    "    )\n",
    "\n",
    "# cms_label(ax, y=1.01)\n",
    "# cms_label_sample_label(x1=0.18, x2=0.52, y=0.82)\n",
    "plt.xticks(range(len(CLASS_NAMES_CMS)), CLASS_NAMES_CMS, rotation=45)\n",
    "plt.yticks(range(len(CLASS_NAMES_CMS)), CLASS_NAMES_CMS)\n",
    "plt.xlabel(\"MLPF candidate ID\")\n",
    "plt.ylabel(\"Truth ID\")\n",
    "# plt.ylim(-0.5, 6.9)\n",
    "# plt.title(\"MLPF trained on PF\")\n",
    "plt.savefig(\"{}/cm_normed.pdf\".format(outpath), bbox_inches=\"tight\")"
   ]
  },
  {
   "cell_type": "code",
   "execution_count": null,
   "id": "33df4d7b",
   "metadata": {},
   "outputs": [],
   "source": [
    "fig = plt.figure(figsize=(12, 12))\n",
    "ax = plt.axes()\n",
    "\n",
    "cm_norm = sklearn.metrics.confusion_matrix(\n",
    "    awkward.flatten(yvals_ttbar[\"target_cls_id\"][X_ttbar[:, :, 0] != 0]),\n",
    "    awkward.flatten(yvals_ttbar[\"cand_cls_id\"][X_ttbar[:, :, 0] != 0]),\n",
    "    labels=range(0, len(CLASS_LABELS_CMS)),\n",
    "    normalize=\"true\",\n",
    ")\n",
    "\n",
    "plt.imshow(cm_norm, cmap=\"Blues\", origin=\"lower\")\n",
    "plt.colorbar()\n",
    "\n",
    "\n",
    "thresh = cm_norm.max() / 1.5\n",
    "for i, j in itertools.product(range(cm_norm.shape[0]), range(cm_norm.shape[1])):\n",
    "    plt.text(\n",
    "        j,\n",
    "        i,\n",
    "        \"{:0.2f}\".format(cm_norm[i, j]),\n",
    "        horizontalalignment=\"center\",\n",
    "        color=\"white\" if cm_norm[i, j] > thresh else \"black\",\n",
    "        fontsize=12,\n",
    "    )\n",
    "\n",
    "# cms_label(ax, y=1.01)\n",
    "# cms_label_sample_label(x1=0.18, x2=0.52, y=0.82)\n",
    "plt.xticks(range(len(CLASS_NAMES_CMS)), CLASS_NAMES_CMS, rotation=45)\n",
    "plt.yticks(range(len(CLASS_NAMES_CMS)), CLASS_NAMES_CMS)\n",
    "plt.xlabel(\"PF candidate ID\")\n",
    "plt.ylabel(\"Truth ID\")\n",
    "# plt.ylim(-0.5, 6.9)\n",
    "# plt.title(\"MLPF trained on PF\")\n",
    "plt.savefig(\"{}/cm_normed_pf.pdf\".format(outpath), bbox_inches=\"tight\")"
   ]
  },
  {
   "cell_type": "code",
   "execution_count": null,
   "id": "a3196488",
   "metadata": {},
   "outputs": [],
   "source": [
    "bins = np.linspace(-5.5, 5.5, 61)\n",
    "\n",
    "pid = 0\n",
    "Nev = len(yvals_ttbar[\"target_eta\"])\n",
    "\n",
    "msk = yvals_ttbar[\"target_cls_id\"] != 0\n",
    "plt.hist(\n",
    "    awkward.flatten(yvals_ttbar[\"target_eta\"][msk]),\n",
    "    weights=awkward.flatten(yvals_ttbar[\"target_energy\"][msk]) / Nev,\n",
    "    bins=bins,\n",
    "    histtype=\"step\",\n",
    "    lw=2,\n",
    "    label=\"gen\",\n",
    ")\n",
    "\n",
    "msk = yvals_ttbar[\"cand_cls_id\"] != 0\n",
    "plt.hist(\n",
    "    awkward.flatten(yvals_ttbar[\"cand_eta\"][msk]),\n",
    "    weights=awkward.flatten(yvals_ttbar[\"cand_energy\"][msk]) / Nev,\n",
    "    bins=bins,\n",
    "    histtype=\"step\",\n",
    "    lw=2,\n",
    "    label=\"PF\",\n",
    ")\n",
    "\n",
    "msk = yvals_ttbar[\"pred_cls_id\"] != 0\n",
    "plt.hist(\n",
    "    awkward.flatten(yvals_ttbar[\"pred_eta\"][msk]),\n",
    "    weights=awkward.flatten(yvals_ttbar[\"pred_energy\"][msk]) / Nev,\n",
    "    bins=bins,\n",
    "    histtype=\"step\",\n",
    "    lw=2,\n",
    "    label=\"MLPF\",\n",
    ")\n",
    "\n",
    "plt.legend(loc=\"best\")"
   ]
  },
  {
   "cell_type": "code",
   "execution_count": null,
   "id": "0d7ef503",
   "metadata": {},
   "outputs": [],
   "source": [
    "bins = np.linspace(-5.5, 5.5, 61)\n",
    "\n",
    "pid = 0\n",
    "msk = yvals_ttbar[\"target_cls_id\"] != 0\n",
    "plt.hist(\n",
    "    awkward.flatten(yvals_ttbar[\"target_eta\"][msk]),\n",
    "    weights=awkward.flatten(yvals_ttbar[\"target_pt\"][msk]) / Nev,\n",
    "    bins=bins,\n",
    "    histtype=\"step\",\n",
    "    lw=2,\n",
    "    label=\"gen\",\n",
    ")\n",
    "\n",
    "msk = yvals_ttbar[\"cand_cls_id\"] != 0\n",
    "plt.hist(\n",
    "    awkward.flatten(yvals_ttbar[\"cand_eta\"][msk]),\n",
    "    weights=awkward.flatten(yvals_ttbar[\"cand_pt\"][msk]) / Nev,\n",
    "    bins=bins,\n",
    "    histtype=\"step\",\n",
    "    lw=2,\n",
    "    label=\"PF\",\n",
    ")\n",
    "\n",
    "msk = yvals_ttbar[\"pred_cls_id\"] != 0\n",
    "plt.hist(\n",
    "    awkward.flatten(yvals_ttbar[\"pred_eta\"][msk]),\n",
    "    weights=awkward.flatten(yvals_ttbar[\"pred_pt\"][msk]) / Nev,\n",
    "    bins=bins,\n",
    "    histtype=\"step\",\n",
    "    lw=2,\n",
    "    label=\"MLPF\",\n",
    ")\n",
    "\n",
    "plt.legend(loc=\"best\")"
   ]
  }
 ],
 "metadata": {
  "celltoolbar": "Tags",
  "kernelspec": {
   "display_name": "Python 3 (ipykernel)",
   "language": "python",
   "name": "python3"
  },
  "language_info": {
   "codemirror_mode": {
    "name": "ipython",
    "version": 3
   },
   "file_extension": ".py",
   "mimetype": "text/x-python",
   "name": "python",
   "nbconvert_exporter": "python",
   "pygments_lexer": "ipython3",
   "version": "3.11.10"
  }
 },
 "nbformat": 4,
 "nbformat_minor": 5
}
