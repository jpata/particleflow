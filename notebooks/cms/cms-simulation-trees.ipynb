{
 "cells": [
  {
   "cell_type": "code",
   "execution_count": null,
   "id": "036c7359-b354-4fe6-bfd3-c3570c605a18",
   "metadata": {},
   "outputs": [],
   "source": [
    "import networkx as nx\n",
    "import pickle\n",
    "import numpy as np\n",
    "import uproot\n",
    "import matplotlib.pyplot as plt"
   ]
  },
  {
   "cell_type": "code",
   "execution_count": null,
   "id": "aa75a107-647e-490f-a88e-d6e33dfe58b4",
   "metadata": {},
   "outputs": [],
   "source": [
    "g = pickle.load(open(\"../../graphs/cleanup_g_0.pkl\", \"rb\"))"
   ]
  },
  {
   "cell_type": "code",
   "execution_count": null,
   "id": "1837127d-b24c-4d9a-8e7c-f620ecd527be",
   "metadata": {},
   "outputs": [],
   "source": [
    "networkx.write_graphml(g, \"cleanup.graphml\")"
   ]
  },
  {
   "cell_type": "code",
   "execution_count": null,
   "id": "70ab2d9b-1602-49ed-99f0-e10be927a2d0",
   "metadata": {},
   "outputs": [],
   "source": [
    "sub_graphs = nx.weakly_connected_components(g)\n",
    "for sg in sub_graphs:\n",
    "    if len(sg)>1:\n",
    "        print(sg)"
   ]
  },
  {
   "cell_type": "code",
   "execution_count": null,
   "id": "fd97bfdb-6a8e-4494-8dda-6c5c9cd021d9",
   "metadata": {},
   "outputs": [],
   "source": [
    "g.nodes[(\"cp\", 58)]"
   ]
  },
  {
   "cell_type": "code",
   "execution_count": null,
   "id": "88a61a16-a74a-4714-acf4-f9d252ba1701",
   "metadata": {},
   "outputs": [],
   "source": [
    "sucs = list(g.successors((\"cp\", 47)))\n",
    "sucs"
   ]
  },
  {
   "cell_type": "code",
   "execution_count": null,
   "id": "52569d09-d784-4c7c-ae86-e8b5b8a8aed6",
   "metadata": {},
   "outputs": [],
   "source": [
    "g.nodes[(\"elem\", 329)][\"typ\"], g.nodes[(\"elem\", 329)][\"pt\"], g.nodes[(\"elem\", 329)][\"eta\"], g.nodes[(\"elem\", 329)][\"phi\"]"
   ]
  },
  {
   "cell_type": "code",
   "execution_count": null,
   "id": "635013d3-587f-4606-8927-112d9711fa9f",
   "metadata": {},
   "outputs": [],
   "source": [
    "tt = uproot.open(\"../../graphs/pfntuple_singleele.root\")[\"pfana/pftree\"]"
   ]
  },
  {
   "cell_type": "code",
   "execution_count": null,
   "id": "1832e895-cc3d-4f47-9ee7-65065b782856",
   "metadata": {},
   "outputs": [],
   "source": [
    "arr = tt.arrays([\n",
    "    \"caloparticle_tid\", \"caloparticle_pid\", \"caloparticle_energy\", \"caloparticle_pt\", \"caloparticle_eta\",\n",
    "    \"caloparticle_to_element\", \"caloparticle_to_element_cmp\", \"caloparticle_idx_trackingparticle\",\n",
    "    \"trackingparticle_to_element\", \"trackingparticle_to_element_cmp\",\n",
    "    \"trackingparticle_tid\", \"trackingparticle_pid\", \"trackingparticle_energy\", \"trackingparticle_pt\", \"trackingparticle_eta\",\n",
    "    \"simtrack_tid\", \"simtrack_parent_tid\", \"simtrack_pdgid\", \"simtrack_energy\", \"simtrack_gpidx\",\n",
    "    \"calohit_tid\", \"calohit_energy\",\n",
    "    \"trkhit_tid\", \"trkhit_energy\", \"gen_pdgid\", \"gen_energy\",\n",
    "    \"element_type\", \"element_energy\",\n",
    "])"
   ]
  },
  {
   "cell_type": "code",
   "execution_count": null,
   "id": "d8fb0007-4112-476f-84b6-a39e08c3d985",
   "metadata": {},
   "outputs": [],
   "source": [
    "iev = 13\n",
    "simtrack_g = nx.DiGraph()\n",
    "\n",
    "for tid, pid, energy, gpidx in zip(arr[iev][\"simtrack_tid\"], arr[iev][\"simtrack_pdgid\"], arr[iev][\"simtrack_energy\"], arr[iev][\"simtrack_gpidx\"]):\n",
    "    simtrack_g.add_node((\"st\", tid), pid=abs(pid), typ=\"st\", energy=energy, ecalo=0, etrk=0, is_cp=0, is_tp=0)\n",
    "    if gpidx!=-1:\n",
    "        gpidx = gpidx - 1\n",
    "        energy = arr[iev][\"gen_energy\"][gpidx]\n",
    "                    \n",
    "        simtrack_g.add_node((\"gp\", gpidx), pid=abs(arr[iev][\"gen_pdgid\"][gpidx]), energy=energy, ecalo=energy, etrk=energy)\n",
    "        simtrack_g.add_edge((\"gp\", gpidx), (\"st\", tid))\n",
    "\n",
    "for tid in arr[iev][\"caloparticle_tid\"]:\n",
    "    simtrack_g.nodes[(\"st\", tid)][\"is_cp\"] = 1\n",
    "\n",
    "for tid in arr[iev][\"trackingparticle_tid\"]:\n",
    "    simtrack_g.nodes[(\"st\", tid)][\"is_tp\"] = 1\n",
    "    \n",
    "for tid, parent_tid in zip(arr[iev][\"simtrack_tid\"], arr[iev][\"simtrack_parent_tid\"]):\n",
    "    if parent_tid != 2**32-1:\n",
    "        simtrack_g.add_edge((\"st\", parent_tid), (\"st\", tid))\n",
    "        \n",
    "for tid, energy in zip(arr[\"calohit_tid\"][iev], arr[\"calohit_energy\"][iev]):\n",
    "    if (\"st\", tid) in simtrack_g.nodes:\n",
    "        simtrack_g.nodes[(\"st\", tid)][\"ecalo\"] += energy\n",
    "\n",
    "for tid, energy in zip(arr[\"trkhit_tid\"][iev], arr[\"trkhit_energy\"][iev]):\n",
    "    if (\"st\", tid) in simtrack_g.nodes:\n",
    "        simtrack_g.nodes[(\"st\", tid)][\"etrk\"] += energy"
   ]
  },
  {
   "cell_type": "code",
   "execution_count": null,
   "id": "21f3047a-f522-453d-9d48-eb424d4cba98",
   "metadata": {},
   "outputs": [],
   "source": [
    "sub_graphs = list(nx.weakly_connected_components(simtrack_g))\n",
    "for isg, sg in enumerate(sub_graphs):\n",
    "    if len(sg)>1:\n",
    "        print(isg, [n for n in sg if n[0]==\"cp\"], [n for n in sg if n[0]==\"st\"], len(sg))"
   ]
  },
  {
   "cell_type": "code",
   "execution_count": null,
   "id": "5b777a4c-575e-4720-93d8-55592b69a4fa",
   "metadata": {},
   "outputs": [],
   "source": [
    "def color_node(g, n):\n",
    "    if n[0] == \"gp\":\n",
    "        return \"blue\"\n",
    "    elif n[0] == \"st\":\n",
    "        is_cp = g.nodes[n][\"is_cp\"]\n",
    "        is_tp = g.nodes[n][\"is_tp\"]\n",
    "        if is_cp and is_tp:\n",
    "            return \"gray\"\n",
    "        elif is_cp:\n",
    "            return \"red\"\n",
    "        elif is_tp:\n",
    "            return \"cyan\"\n",
    "        else:\n",
    "            return \"green\"\n",
    "    else:\n",
    "        raise Exception(n)\n",
    "        \n",
    "def label_node(g, n):\n",
    "    return \"{}\".format(g[n][\"pid\"])"
   ]
  },
  {
   "cell_type": "code",
   "execution_count": null,
   "id": "56e55849-9c53-451d-a03e-bd9aee150a4b",
   "metadata": {},
   "outputs": [],
   "source": [
    "ssg = simtrack_g.subgraph(sub_graphs[0])\n",
    "node_color = [color_node(ssg, nc) for nc in ssg.nodes]\n",
    "# node_size = [np.clip(100**ssg.nodes[n][\"energy\"]*2, 1, 200) for n in ssg.nodes]\n",
    "node_size = [5+ssg.nodes[n][\"energy\"] for n in ssg.nodes]\n",
    "alpha1 = [np.clip(ssg.nodes[n][\"ecalo\"]/ssg.nodes[n][\"energy\"], 0.2, 1.0) for n in ssg.nodes]\n",
    "alpha2 = [np.clip(ssg.nodes[n][\"etrk\"]/ssg.nodes[n][\"energy\"], 0.2, 1.0) for n in ssg.nodes]\n",
    "labels = {n: label_node(ssg.nodes, n) for n in ssg.nodes}\n",
    "pos = nx.nx_agraph.graphviz_layout(ssg, prog=\"dot\")\n",
    "fig = plt.figure(figsize=(15,10))\n",
    "nx.draw_networkx_nodes(\n",
    "    ssg, pos,\n",
    "    node_color=node_color,\n",
    "    node_size=node_size,\n",
    "    alpha = alpha1,\n",
    ");\n",
    "nx.draw_networkx_edges(\n",
    "    ssg, pos,\n",
    ");\n",
    "nx.draw_networkx_labels(\n",
    "    ssg, pos,\n",
    "    labels=labels,\n",
    "    font_size=8\n",
    ");"
   ]
  },
  {
   "cell_type": "code",
   "execution_count": null,
   "id": "7cabb399-8596-435d-ad36-577ee4bde387",
   "metadata": {},
   "outputs": [],
   "source": [
    "cp_g = nx.DiGraph()\n",
    "\n",
    "ielem = 0\n",
    "for typ, energy in zip(arr[iev][\"element_type\"], arr[iev][\"element_energy\"]):\n",
    "    if typ not in [2,3,7]:\n",
    "        cp_g.add_node(\n",
    "            (\"elem\", ielem),\n",
    "            typ=typ,\n",
    "            energy=energy,\n",
    "        )\n",
    "    ielem += 1\n",
    "\n",
    "icp = 0\n",
    "for tid, pid, energy, itp in zip(arr[iev][\"caloparticle_tid\"], arr[iev][\"caloparticle_pid\"], arr[iev][\"caloparticle_energy\"], arr[iev][\"caloparticle_idx_trackingparticle\"]):\n",
    "    cp_g.add_node(\n",
    "        (\"cp\", icp),\n",
    "        pid=abs(pid),\n",
    "        typ=\"cp\",\n",
    "        energy=energy,\n",
    "    )\n",
    "    msk = arr[iev][\"caloparticle_to_element\"][\"caloparticle_to_element.first\"] == icp\n",
    "    elem_indices = arr[iev][\"caloparticle_to_element\"][\"caloparticle_to_element.second\"][msk]\n",
    "    elem_cmp = arr[iev][\"caloparticle_to_element_cmp\"][msk]\n",
    "    for ielem, cmp in zip(elem_indices, elem_cmp):\n",
    "        if (\"elem\", ielem) in cp_g.nodes:\n",
    "            cp_g.add_edge((\"cp\", icp), (\"elem\", ielem), w=cmp)\n",
    "\n",
    "    if itp != -1:\n",
    "        msk = arr[iev][\"trackingparticle_to_element\"][\"trackingparticle_to_element.first\"] == itp\n",
    "        elem_indices = arr[iev][\"trackingparticle_to_element\"][\"trackingparticle_to_element.second\"][msk]\n",
    "        elem_cmp = arr[iev][\"trackingparticle_to_element_cmp\"][msk]\n",
    "        for ielem, cmp in zip(elem_indices, elem_cmp):\n",
    "            if (\"elem\", ielem) in cp_g.nodes:\n",
    "                cp_g.add_edge((\"cp\", icp), (\"elem\", ielem), w=cmp*energy)\n",
    "            \n",
    "    icp += 1"
   ]
  },
  {
   "cell_type": "code",
   "execution_count": null,
   "id": "18559af1-a82a-46e6-b884-481220bd809c",
   "metadata": {},
   "outputs": [],
   "source": [
    "sub_graphs = list(nx.weakly_connected_components(cp_g))\n",
    "subgraph_indices = []\n",
    "for isg, sg in enumerate(sub_graphs):\n",
    "    if len(sg)>1:\n",
    "        print(isg, [n for n in sg if n[0]==\"cp\"], len(sg))\n",
    "        subgraph_indices.append(isg)"
   ]
  },
  {
   "cell_type": "code",
   "execution_count": null,
   "id": "f51e1ea9-c276-4c2c-88be-6d585fa7751e",
   "metadata": {},
   "outputs": [],
   "source": [
    "def label_node_cp(nodes, n):\n",
    "    if n[0] == \"elem\":\n",
    "        return \"{}\".format(nodes[n][\"typ\"])\n",
    "    if n[0] == \"cp\":\n",
    "        return \"{}\".format(nodes[n][\"pid\"])\n",
    "    return \"\""
   ]
  },
  {
   "cell_type": "code",
   "execution_count": null,
   "id": "1a23af72-e1e1-45cb-b500-6c762f12874d",
   "metadata": {},
   "outputs": [],
   "source": [
    "ssg = cp_g.subgraph(sub_graphs[subgraph_indices[0]])\n",
    "\n",
    "edge_widths = [np.clip(ssg.edges[e][\"w\"]/10, 0.01, 10) for e in ssg.edges]\n",
    "arrowsize = [np.clip(ssg.edges[e][\"w\"]/5, 0.01, 100) for e in ssg.edges]\n",
    "labels = {n: label_node_cp(ssg.nodes, n) for n in ssg.nodes}\n",
    "node_size = [5+ssg.nodes[n][\"energy\"] for n in ssg.nodes]\n",
    "\n",
    "pos = nx.nx_agraph.graphviz_layout(ssg, prog=\"dot\")\n",
    "fig = plt.figure(figsize=(15,10))\n",
    "nx.draw_networkx_nodes(\n",
    "    ssg, pos,\n",
    "    node_size=node_size,\n",
    ");\n",
    "\n",
    "nx.draw_networkx_edges(\n",
    "    ssg, pos,\n",
    "    width=edge_widths,\n",
    "    arrows=False\n",
    ");\n",
    "\n",
    "nx.draw_networkx_labels(\n",
    "    ssg, pos,\n",
    "    labels=labels,\n",
    "    font_size=12\n",
    ");"
   ]
  },
  {
   "cell_type": "code",
   "execution_count": null,
   "id": "e9f735ef-05d5-4cba-aee6-42012146bf25",
   "metadata": {},
   "outputs": [],
   "source": []
  }
 ],
 "metadata": {
  "kernelspec": {
   "display_name": "Python 3 (ipykernel)",
   "language": "python",
   "name": "python3"
  },
  "language_info": {
   "codemirror_mode": {
    "name": "ipython",
    "version": 3
   },
   "file_extension": ".py",
   "mimetype": "text/x-python",
   "name": "python",
   "nbconvert_exporter": "python",
   "pygments_lexer": "ipython3",
   "version": "3.11.10"
  }
 },
 "nbformat": 4,
 "nbformat_minor": 5
}
