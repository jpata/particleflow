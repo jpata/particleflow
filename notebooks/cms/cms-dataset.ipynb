{
 "cells": [
  {
   "cell_type": "code",
   "execution_count": null,
   "id": "0934d053-9a23-4b3b-a615-a6b65ba692e4",
   "metadata": {},
   "outputs": [],
   "source": [
    "import tensorflow_datasets as tfds\n",
    "import vector\n",
    "import awkward\n",
    "import numpy as np\n",
    "import fastjet\n",
    "import tqdm\n",
    "\n",
    "import matplotlib.pyplot as plt"
   ]
  },
  {
   "cell_type": "code",
   "execution_count": null,
   "id": "6e9bfd5e-57b7-47cb-9eba-3a85608fd689",
   "metadata": {},
   "outputs": [],
   "source": [
    "#from mlpf/heptfds/cms_pf/cms_utils.py\n",
    "CLASS_LABELS_CMS = [0, 211, 130, 1, 2, 22, 11, 13]\n",
    "Y_FEATURES = [\n",
    "    \"typ_idx\",\n",
    "    \"charge\",\n",
    "    \"pt\",\n",
    "    \"eta\",\n",
    "    \"sin_phi\",\n",
    "    \"cos_phi\",\n",
    "    \"e\",\n",
    "    \"ispu\",\n",
    "]"
   ]
  },
  {
   "cell_type": "code",
   "execution_count": null,
   "id": "caa09c76-5700-49c4-985c-0b7e09949b14",
   "metadata": {},
   "outputs": [],
   "source": [
    "ds_string = \"cms_pf_ttbar:2.2.0\"\n",
    "builder = tfds.builder(ds_string, data_dir=\"/scratch/persistent/joosep/tensorflow_datasets/\")\n",
    "ds_train = builder.as_data_source(split=\"train\")"
   ]
  },
  {
   "cell_type": "code",
   "execution_count": null,
   "id": "8d134fd6-18be-4446-93fc-22b37b6c79d6",
   "metadata": {},
   "outputs": [],
   "source": [
    "all_genjets = []\n",
    "all_genparticles_awk = []\n",
    "all_Xs = []\n",
    "\n",
    "#loop over some events in the dataset\n",
    "for iev in tqdm.tqdm(list(range(5000))):\n",
    "    el = ds_train[iev]\n",
    "    # print(len(el[\"X\"]), el.keys())\n",
    "    \n",
    "    genjets = vector.awk(awkward.zip({\"pt\": el[\"genjets\"][:, 0], \"eta\": el[\"genjets\"][:, 1], \"phi\": el[\"genjets\"][:, 2], \"e\": el[\"genjets\"][:, 3]}))\n",
    "    genparticles = el[\"ygen\"]\n",
    "    \n",
    "    gp_phi = np.arctan2(genparticles[:, 4], genparticles[:, 5]) #sphi,cphi -> phi\n",
    "    genparticles_p4 = vector.awk(awkward.zip({\"pt\": genparticles[:, 2], \"eta\": genparticles[:, 3], \"phi\": gp_phi, \"e\": genparticles[:, 6]}))\n",
    "    gp_ispu = genparticles[:, 7]\n",
    "    gp_pid = np.array(CLASS_LABELS_CMS)[genparticles[:, 0].astype(np.int64)]\n",
    "    genparticles_awk = awkward.Array({\n",
    "        \"pid\": gp_pid,\n",
    "        \"p4\": genparticles_p4,\n",
    "        \"ispu\": genparticles[:, 7],\n",
    "    })\n",
    "\n",
    "    all_Xs.append(el[\"X\"])\n",
    "    all_genjets.append(genjets)\n",
    "    all_genparticles_awk.append(genparticles_awk)"
   ]
  },
  {
   "cell_type": "code",
   "execution_count": null,
   "id": "815302bd-3e2b-45e9-8263-de09265db7bb",
   "metadata": {},
   "outputs": [],
   "source": [
    "all_Xs = awkward.unflatten(awkward.from_numpy(np.concatenate(all_Xs, axis=0)), counts=[len(x) for x in all_Xs])\n",
    "all_genjets = awkward.unflatten(awkward.concatenate(all_genjets), counts=[len(x) for x in all_genjets])\n",
    "all_genparticles_awk = awkward.unflatten(awkward.concatenate(all_genparticles_awk), counts=[len(x) for x in all_genparticles_awk])\n",
    "all_genparticles_no0 = all_genparticles_awk[all_genparticles_awk[\"pid\"]!=0]"
   ]
  },
  {
   "cell_type": "code",
   "execution_count": null,
   "id": "d6f44505-a012-40f1-9ec3-9193fe386b91",
   "metadata": {},
   "outputs": [],
   "source": [
    "p4 = vector.awk(\n",
    "    awkward.zip(\n",
    "        {\n",
    "            \"pt\": all_genparticles_no0.p4.rho,\n",
    "            \"eta\": all_genparticles_no0.p4.eta,\n",
    "            \"phi\": all_genparticles_no0.p4.phi,\n",
    "            \"e\": all_genparticles_no0.p4.t,\n",
    "        }\n",
    "    )\n",
    ")"
   ]
  },
  {
   "cell_type": "code",
   "execution_count": null,
   "id": "db34fefb-3ddf-42c2-97d4-3feab9f2d1c4",
   "metadata": {},
   "outputs": [],
   "source": [
    "jetdef = fastjet.JetDefinition(fastjet.antikt_algorithm, 0.4)\n",
    "cluster = fastjet.ClusterSequence(p4.to_xyzt(), jetdef)\n",
    "jets = cluster.inclusive_jets(min_pt=5)\n",
    "\n",
    "cluster = fastjet.ClusterSequence(p4.to_xyzt()[all_genparticles_no0.ispu==0], jetdef)\n",
    "jets_nopu = cluster.inclusive_jets(min_pt=5)"
   ]
  },
  {
   "cell_type": "code",
   "execution_count": null,
   "id": "32beedbc-1a71-41cf-ac4c-a9cd130017c6",
   "metadata": {},
   "outputs": [],
   "source": [
    "b = np.logspace(0,3,100)\n",
    "plt.hist(awkward.flatten(all_genjets.rho), bins=b, histtype=\"step\", label=\"genjets\");\n",
    "plt.hist(awkward.flatten(jets.pt), bins=b, histtype=\"step\", label=\"all gp jets\");\n",
    "plt.hist(awkward.flatten(jets_nopu.pt), bins=b, histtype=\"step\", label=\"ispu=0 gp jets\");\n",
    "plt.legend()\n",
    "plt.yscale(\"log\")\n",
    "plt.xscale(\"log\")\n",
    "plt.xlabel(\"jet pt\")\n",
    "plt.ylabel(\"number of jets\")\n",
    "plt.title(ds_string)"
   ]
  },
  {
   "cell_type": "code",
   "execution_count": null,
   "id": "bd105f3e-61af-46f1-bb84-da196f57a391",
   "metadata": {},
   "outputs": [],
   "source": [
    "gen_pid = awkward.flatten(all_genparticles_awk[all_Xs[:, :, 0]==1][\"pid\"])\n",
    "gen_pt = awkward.flatten(all_genparticles_awk[all_Xs[:, :, 0]==1][\"p4\"].rho)\n",
    "track_pt = awkward.flatten(all_Xs[all_Xs[:, :, 0]==1][:, :, 1])"
   ]
  },
  {
   "cell_type": "code",
   "execution_count": null,
   "id": "4ae5d52d-f1c3-4caa-816a-a38453812998",
   "metadata": {},
   "outputs": [],
   "source": [
    "b = np.logspace(-1,2,100)\n",
    "\n",
    "plt.figure(figsize=(6,6))\n",
    "plt.hist2d(\n",
    "    awkward.to_numpy(track_pt[gen_pid!=0]),\n",
    "    awkward.to_numpy(gen_pt[gen_pid!=0]),\n",
    "    bins=b\n",
    ")\n",
    "plt.plot([0.1, 100], [0.1, 100], color=\"black\", ls=\"--\", lw=1.0)\n",
    "plt.xscale(\"log\")\n",
    "plt.yscale(\"log\")\n",
    "plt.xlabel(\"track pt\")\n",
    "plt.ylabel(\"gen pt\")\n",
    "plt.title(ds_string)"
   ]
  },
  {
   "cell_type": "code",
   "execution_count": null,
   "id": "3c7d5bf0-a752-43f5-b849-b979c0118388",
   "metadata": {},
   "outputs": [],
   "source": [
    "bins = np.logspace(-1, 3, 20)\n",
    "fracs_gen = []\n",
    "\n",
    "for ibin in range(len(bins)-1):\n",
    "    b0 = bins[ibin]\n",
    "    b1 = bins[ibin+1]\n",
    "    msk = (track_pt >= b0) & (track_pt < b1)\n",
    "    frac_gen = np.sum(gen_pid[msk]!=0) / np.sum(msk)\n",
    "    fracs_gen.append(frac_gen)\n",
    "\n",
    "plt.figure()\n",
    "plt.plot(bins[:-1], fracs_gen, marker=\"o\")\n",
    "plt.xscale(\"log\")\n",
    "plt.xlabel(\"track pT\")\n",
    "plt.ylabel(\"fraction of tracks matched to gen\")\n",
    "plt.ylim(0,1)\n",
    "plt.title(ds_string)"
   ]
  },
  {
   "cell_type": "code",
   "execution_count": null,
   "id": "baa4bb0c-35bf-4232-8b93-15b80ba5f20b",
   "metadata": {},
   "outputs": [],
   "source": []
  }
 ],
 "metadata": {
  "kernelspec": {
   "display_name": "Python 3 (ipykernel)",
   "language": "python",
   "name": "python3"
  },
  "language_info": {
   "codemirror_mode": {
    "name": "ipython",
    "version": 3
   },
   "file_extension": ".py",
   "mimetype": "text/x-python",
   "name": "python",
   "nbconvert_exporter": "python",
   "pygments_lexer": "ipython3",
   "version": "3.11.9"
  }
 },
 "nbformat": 4,
 "nbformat_minor": 5
}
