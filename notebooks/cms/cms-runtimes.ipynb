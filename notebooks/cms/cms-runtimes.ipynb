{
 "cells": [
  {
   "cell_type": "code",
   "execution_count": null,
   "id": "edf63d45-5656-4b3f-8cd3-244aad8853b1",
   "metadata": {},
   "outputs": [],
   "source": [
    "import matplotlib.pyplot as plt\n",
    "import pandas as pd\n",
    "import numpy as np\n",
    "import glob\n",
    "import matplotlib\n",
    "\n",
    "import mplhep\n",
    "mplhep.style.use(\"CMS\")\n",
    "\n",
    "import sys\n",
    "sys.path += [\"../../mlpf/\"]\n",
    "sys.path += [\"../../mlpf/plotting/\"]\n",
    "from plot_utils import cms_label"
   ]
  },
  {
   "cell_type": "code",
   "execution_count": null,
   "id": "c08aa3bd-5ccf-4317-b357-0f91f1a08812",
   "metadata": {},
   "outputs": [],
   "source": [
    "s_fused_bs2 = \"\"\"\n",
    "timing/gpu_fp32_fused_bs2.txt:Nelem=2560 mean_time=20.38 ms stddev_time=0.08 ms mem_used=1268 MB\n",
    "timing/gpu_fp32_fused_bs2.txt:Nelem=5120 mean_time=49.49 ms stddev_time=0.06 ms mem_used=1537 MB\n",
    "timing/gpu_fp32_fused_bs2.txt:Nelem=10240 mean_time=135.40 ms stddev_time=0.07 ms mem_used=2074 MB\n",
    "\"\"\"\n",
    "\n",
    "s_fused_bs4 = \"\"\"\n",
    "timing/gpu_fp32_fused_bs4.txt:Nelem=2560 mean_time=19.93 ms stddev_time=0.03 ms mem_used=1537 MB\n",
    "timing/gpu_fp32_fused_bs4.txt:Nelem=5120 mean_time=48.39 ms stddev_time=0.04 ms mem_used=2074 MB\n",
    "timing/gpu_fp32_fused_bs4.txt:Nelem=10240 mean_time=134.42 ms stddev_time=0.06 ms mem_used=3147 MB\n",
    "\"\"\"\n",
    "\n",
    "s_fused_bs1 = \"\"\"\n",
    "timing/gpu_fp32_fused.txt:Nelem=2560 mean_time=18.99 ms stddev_time=0.10 ms mem_used=1134 MB\n",
    "timing/gpu_fp32_fused.txt:Nelem=5120 mean_time=50.43 ms stddev_time=0.10 ms mem_used=1268 MB\n",
    "timing/gpu_fp32_fused.txt:Nelem=10240 mean_time=137.60 ms stddev_time=0.14 ms mem_used=1537 MB\n",
    "\"\"\"\n",
    "\n",
    "s_unfused = \"\"\"\n",
    "timing/gpu_fp32_unfused.txt:Nelem=2560 mean_time=79.48 ms stddev_time=0.35 ms mem_used=2208 MB\n",
    "timing/gpu_fp32_unfused.txt:Nelem=5120 mean_time=289.87 ms stddev_time=1.72 ms mem_used=6503 MB\n",
    "\"\"\""
   ]
  },
  {
   "cell_type": "code",
   "execution_count": null,
   "id": "8bac11cf-3b44-4156-97bf-7efc7a2a6da4",
   "metadata": {},
   "outputs": [],
   "source": [
    "def parse_str(s):\n",
    "    data = pd.DataFrame()\n",
    "    Nelem = []\n",
    "    mean_time = []\n",
    "    stddev_time = []\n",
    "    mem_used = []\n",
    "    for line in s.strip().split(\"\\n\"):\n",
    "        elems = line.split(\":\")[1].split()\n",
    "        print(elems)\n",
    "        Nelem.append(int(elems[0].split(\"=\")[1]))\n",
    "        mean_time.append(float(elems[1].split(\"=\")[1]))\n",
    "        stddev_time.append(float(elems[3].split(\"=\")[1]))\n",
    "        mem_used.append(float(elems[5].split(\"=\")[1]))\n",
    "    data[\"Nelem\"] = Nelem\n",
    "    data[\"mean_time\"] = mean_time\n",
    "    data[\"stddev_time\"] = stddev_time\n",
    "    data[\"mem_used\"] = mem_used\n",
    "    return data"
   ]
  },
  {
   "cell_type": "code",
   "execution_count": null,
   "id": "012a42e2-210e-48af-8419-9cde7acc53c4",
   "metadata": {},
   "outputs": [],
   "source": [
    "data_fused_bs1 = parse_str(s_fused_bs1)\n",
    "data_fused_bs2 = parse_str(s_fused_bs2)\n",
    "data_fused_bs4 = parse_str(s_fused_bs4)\n",
    "data_unfused = parse_str(s_unfused)"
   ]
  },
  {
   "cell_type": "code",
   "execution_count": null,
   "id": "4c27f336-174e-430b-9035-80ad60c74e1b",
   "metadata": {},
   "outputs": [],
   "source": [
    "plt.figure()\n",
    "ax = plt.axes()\n",
    "plt.errorbar(data_unfused[\"Nelem\"], data_unfused[\"mean_time\"], yerr=data_unfused[\"stddev_time\"], marker=\"o\", label=\"unfused\")\n",
    "plt.errorbar(data_fused_bs1[\"Nelem\"], data_fused_bs1[\"mean_time\"], yerr=data_fused_bs1[\"stddev_time\"], marker=\"^\", label=\"fused, bs1\")\n",
    "plt.errorbar(data_fused_bs4[\"Nelem\"], data_fused_bs4[\"mean_time\"], yerr=data_fused_bs4[\"stddev_time\"], marker=\"v\", label=\"fused, bs4\")\n",
    "plt.xticks(data_fused_bs1[\"Nelem\"])\n",
    "plt.ylabel(\"Runtime per event [ms]\")\n",
    "plt.xlabel(\"Tracks/clusters per event\")\n",
    "plt.legend(loc=1, title=\"MLPF-2x3x256\\nONNX backend\\nA100-1g.10gb\")\n",
    "plt.ylim(0,400)\n",
    "cms_label(ax)\n",
    "plt.savefig(\"runtime.pdf\")"
   ]
  },
  {
   "cell_type": "code",
   "execution_count": null,
   "id": "b05b10e9-acca-4c71-945e-8568ac9ac3b5",
   "metadata": {},
   "outputs": [],
   "source": [
    "plt.figure()\n",
    "ax = plt.axes()\n",
    "plt.errorbar(data_unfused[\"Nelem\"], data_unfused[\"mem_used\"], marker=\"o\", label=\"unfused\")\n",
    "plt.errorbar(data_fused_bs1[\"Nelem\"], data_fused_bs1[\"mem_used\"], marker=\"^\", label=\"fused, bs1\")\n",
    "plt.errorbar(data_fused_bs4[\"Nelem\"], data_fused_bs4[\"mem_used\"]/4, marker=\"v\", label=\"fused, bs4\")\n",
    "plt.xticks(data_fused_bs1[\"Nelem\"])\n",
    "plt.ylabel(\"GPU memory per event [MB]\")\n",
    "plt.xlabel(\"Tracks/clusters per event\")\n",
    "plt.axhline(10200, color=\"red\", ls=\"--\", label=\"GPU limit\")\n",
    "#plt.yscale(\"log\")\n",
    "#ytick = [256,512,1024,2048,4096,8192]\n",
    "#plt.yticks(ytick, ytick)\n",
    "plt.legend(loc=1, title=\"MLPF-2x3x256\\nONNX backend\\nA100-1g.10gb\")\n",
    "cms_label(ax)\n",
    "plt.savefig(\"memory.pdf\")"
   ]
  },
  {
   "cell_type": "markdown",
   "id": "e32e28ae-645a-47f6-b0b1-c032970e9557",
   "metadata": {},
   "source": [
    "### Runtimes from CMSSW"
   ]
  },
  {
   "cell_type": "code",
   "execution_count": null,
   "id": "06c30fe2-889f-4ead-a1b0-bdc63eed2d04",
   "metadata": {},
   "outputs": [],
   "source": [
    "def load_runtimes(infile_pattern):\n",
    "\n",
    "    evs = []\n",
    "    lumis = []\n",
    "    modules = []\n",
    "    producers = []\n",
    "    times = []\n",
    "    \n",
    "    for infile in glob.glob(infile_pattern):\n",
    "        with open(infile, \"r\") as fi:\n",
    "            \n",
    "            for line in fi.readlines():\n",
    "                if \"TimeModule\" in line:\n",
    "                    if \"PFProducer\" in line or \"PFBlockProducer\" in line:\n",
    "                        spl = line.split()\n",
    "                        ev, lumi, module, producer, time = spl[1], spl[2], spl[3], spl[4], spl[5]\n",
    "                        evs.append(ev)\n",
    "                        lumis.append(lumi)\n",
    "                        modules.append(module)\n",
    "                        producers.append(producer)\n",
    "                        times.append(float(time))\n",
    "    df = pd.DataFrame()\n",
    "    df[\"event\"] = evs\n",
    "    df[\"lumi\"] = lumis\n",
    "    df[\"module\"] = modules\n",
    "    df[\"producer\"] = producers\n",
    "    df[\"time\"] = times\n",
    "    return df"
   ]
  },
  {
   "cell_type": "code",
   "execution_count": null,
   "id": "117b2467-019b-4b7f-abb2-ec09628d974b",
   "metadata": {},
   "outputs": [],
   "source": [
    "times_pf = load_runtimes(\"/scratch/persistent/joosep/mlpf/results/cms/CMSSW_15_0_1/*_pf/slurm-cmssw-el8-gpu.sh*\")\n",
    "times_mlpf = load_runtimes(\"/scratch/persistent/joosep/mlpf/results/cms/CMSSW_15_0_1/*_mlpf/slurm-cmssw-el8-gpu.sh*\")"
   ]
  },
  {
   "cell_type": "code",
   "execution_count": null,
   "id": "a75ec111-b967-4c90-83d1-375952b12573",
   "metadata": {},
   "outputs": [],
   "source": [
    "times_pf_sel = times_pf[(times_pf[\"producer\"]==\"PFProducer\") | (times_pf[\"producer\"]==\"PFBlockProducer\")]\n",
    "times_mlpf_sel = times_mlpf[(times_mlpf[\"producer\"]==\"MLPFProducer\")]"
   ]
  },
  {
   "cell_type": "code",
   "execution_count": null,
   "id": "69810ca2-fed3-4a0a-8fa1-ecbbb673c2b9",
   "metadata": {},
   "outputs": [],
   "source": [
    "times_pf_event = pd.pivot_table(times_pf_sel, values=\"time\", index=[\"event\", \"lumi\"], columns=[\"producer\"], aggfunc=\"sum\")\n",
    "times_pf_event_good = times_pf_event[~(np.isnan(times_pf_event[\"PFBlockProducer\"]) | np.isnan(times_pf_event[\"PFProducer\"]))]"
   ]
  },
  {
   "cell_type": "code",
   "execution_count": null,
   "id": "1e99f63f-a16c-4f09-a5af-fd1d799ce3af",
   "metadata": {},
   "outputs": [],
   "source": [
    "times_mlpf_event = pd.pivot_table(times_mlpf_sel, values=\"time\", index=[\"event\", \"lumi\"], columns=[\"producer\"], aggfunc=\"sum\")\n",
    "times_mlpf_event_good = times_mlpf_event[~(np.isnan(times_mlpf_event[\"MLPFProducer\"]))]"
   ]
  },
  {
   "cell_type": "code",
   "execution_count": null,
   "id": "848ad574-ddfc-4866-afd2-e161d41cb0d8",
   "metadata": {},
   "outputs": [],
   "source": [
    "times_joined = times_pf_event_good.merge(times_mlpf_event_good, on=[\"event\", \"lumi\"])"
   ]
  },
  {
   "cell_type": "code",
   "execution_count": null,
   "id": "f57b846c-999a-4f32-b762-147ec717400c",
   "metadata": {},
   "outputs": [],
   "source": [
    "fig = plt.figure(figsize=(13,12))\n",
    "ax = plt.axes()\n",
    "\n",
    "b = np.linspace(0,0.5,61)\n",
    "plt.hist2d(\n",
    "    times_joined[\"PFBlockProducer\"]+times_joined[\"PFProducer\"],\n",
    "    times_joined[\"MLPFProducer\"],\n",
    "    bins=b,\n",
    "    norm=matplotlib.colors.LogNorm(vmin=1),\n",
    "    cmap=\"turbo\"\n",
    ");\n",
    "plt.xlabel(\"PFBlock+PFAlgo runtime on CPU [s]\")\n",
    "plt.ylabel(\"MLPF runtime on GPU [s]\")\n",
    "cms_label(ax)\n",
    "plt.colorbar()"
   ]
  },
  {
   "cell_type": "code",
   "execution_count": null,
   "id": "896cc9ca-1db8-4a74-9f4a-57c050160371",
   "metadata": {},
   "outputs": [],
   "source": [
    "fig = plt.figure()\n",
    "ax = plt.axes()\n",
    "b = np.linspace(0, 1.0, 61)\n",
    "plt.hist(times_pf_event_good[\"PFBlockProducer\"]+times_pf_event_good[\"PFProducer\"], bins=b, histtype=\"step\", lw=2, label=\"PFBlock+PFAlgo on CPU\");\n",
    "plt.hist(times_mlpf_event_good[\"MLPFProducer\"], bins=b, histtype=\"step\", lw=2, label=\"MLPF on GPU\");\n",
    "plt.legend(title=\"CMSSW_15_0_1\\nnative ONNXRuntime\\n8 streams\")\n",
    "cms_label(ax)\n",
    "plt.xlabel(\"Runtime per event [s]\")"
   ]
  },
  {
   "cell_type": "code",
   "execution_count": null,
   "id": "edb6af6f-c165-4868-b268-2479c64301b9",
   "metadata": {},
   "outputs": [],
   "source": [
    "import uproot\n",
    "import awkward"
   ]
  },
  {
   "cell_type": "code",
   "execution_count": null,
   "id": "49cd3049-ef5f-41b8-b8dd-65f80ccd29b0",
   "metadata": {},
   "outputs": [],
   "source": [
    "ev_pf_cpu = uproot.open(\"/local/joosep/mlpf/results/cms/CMSSW_15_0_1/timing/ttbar_pu_cpu/step3_NANO_jme.root\")[\"Events\"]\n",
    "arrs_pf_cpu = ev_pf_cpu.arrays([\"Jet_pt\"])"
   ]
  },
  {
   "cell_type": "code",
   "execution_count": null,
   "id": "31f231ff-4c09-485d-b2d5-67ab247f03fe",
   "metadata": {},
   "outputs": [],
   "source": [
    "ev_mlpf_gpu = uproot.open(\"/local/joosep/mlpf/results/cms/CMSSW_15_0_1/timing/ttbar_pu_gpu/step3_NANO_jme.root\")[\"Events\"]\n",
    "arrs_mlpf_gpu = ev_mlpf_gpu.arrays([\"Jet_pt\"])"
   ]
  },
  {
   "cell_type": "code",
   "execution_count": null,
   "id": "773a644a-9f0b-43f0-bfbb-6fea12bc1d1a",
   "metadata": {},
   "outputs": [],
   "source": [
    "b = np.linspace(10,100,100)\n",
    "plt.hist(awkward.flatten(arrs_pf_cpu[\"Jet_pt\"]), bins=b, histtype=\"step\", lw=1);\n",
    "plt.hist(awkward.flatten(arrs_mlpf_gpu[\"Jet_pt\"]), bins=b, histtype=\"step\", lw=1);"
   ]
  },
  {
   "cell_type": "code",
   "execution_count": null,
   "id": "bcde47e8-5f1e-42b3-b3dd-e905539ea1d2",
   "metadata": {},
   "outputs": [],
   "source": []
  }
 ],
 "metadata": {
  "kernelspec": {
   "display_name": "Python 3 (ipykernel)",
   "language": "python",
   "name": "python3"
  },
  "language_info": {
   "codemirror_mode": {
    "name": "ipython",
    "version": 3
   },
   "file_extension": ".py",
   "mimetype": "text/x-python",
   "name": "python",
   "nbconvert_exporter": "python",
   "pygments_lexer": "ipython3",
   "version": "3.11.10"
  }
 },
 "nbformat": 4,
 "nbformat_minor": 5
}
