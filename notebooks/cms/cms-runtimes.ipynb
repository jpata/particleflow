{
 "cells": [
  {
   "cell_type": "code",
   "execution_count": null,
   "id": "edf63d45-5656-4b3f-8cd3-244aad8853b1",
   "metadata": {},
   "outputs": [],
   "source": [
    "import matplotlib.pyplot as plt\n",
    "import pandas as pd\n",
    "import numpy as np\n",
    "import glob\n",
    "import matplotlib\n",
    "import os\n",
    "\n",
    "import mplhep\n",
    "mplhep.style.use(\"CMS\")\n",
    "\n",
    "import sys\n",
    "sys.path += [\"../../mlpf/\"]\n",
    "sys.path += [\"../../mlpf/plotting/\"]\n",
    "from plot_utils import cms_label, med_iqr, sample_label"
   ]
  },
  {
   "cell_type": "markdown",
   "id": "e32e28ae-645a-47f6-b0b1-c032970e9557",
   "metadata": {},
   "source": [
    "### Runtimes from CMSSW"
   ]
  },
  {
   "cell_type": "code",
   "execution_count": null,
   "id": "06c30fe2-889f-4ead-a1b0-bdc63eed2d04",
   "metadata": {},
   "outputs": [],
   "source": [
    "def load_runtimes(infile_pattern):\n",
    "\n",
    "    evs = []\n",
    "    lumis = []\n",
    "    modules = []\n",
    "    producers = []\n",
    "    times = []\n",
    "    \n",
    "    for infile in glob.glob(infile_pattern):\n",
    "        with open(infile, \"r\") as fi:\n",
    "\n",
    "            first = True\n",
    "            for line in fi.readlines():\n",
    "                if \"TimeModule\" in line:\n",
    "                    if \"PFProducer\" in line or \"PFBlockProducer\" in line:\n",
    "                        spl = line.split()\n",
    "                        ev, lumi, module, producer, time = spl[1], spl[2], spl[3], spl[4], spl[5]\n",
    "\n",
    "                        #skip the first MLPF line in each file, because the first inference run is slower due to warmup\n",
    "                        if \"MLPFProducer\" in line:\n",
    "                            if first:\n",
    "                                first = False\n",
    "                                continue\n",
    "    \n",
    "                        evs.append(ev)\n",
    "                        lumis.append(lumi)\n",
    "                        modules.append(module)\n",
    "                        producers.append(producer)\n",
    "                        times.append(float(time))\n",
    "    df = pd.DataFrame()\n",
    "    df[\"event\"] = evs\n",
    "    df[\"lumi\"] = lumis\n",
    "    df[\"module\"] = modules\n",
    "    df[\"producer\"] = producers\n",
    "    df[\"time\"] = times\n",
    "    return df"
   ]
  },
  {
   "cell_type": "code",
   "execution_count": null,
   "id": "54e15358-fd78-444c-8dae-830824db86da",
   "metadata": {},
   "outputs": [],
   "source": [
    "# folder = \"QCD_PU\"\n",
    "# physics_process = \"cms_pf_qcd\"\n",
    "\n",
    "folder = \"TTbar_PU\"\n",
    "physics_process = \"cms_pf_ttbar\"\n",
    "\n",
    "outpath = \"cmssw/{}\".format(folder)\n",
    "os.makedirs(outpath, exist_ok=True)"
   ]
  },
  {
   "cell_type": "code",
   "execution_count": null,
   "id": "117b2467-019b-4b7f-abb2-ec09628d974b",
   "metadata": {},
   "outputs": [],
   "source": [
    "times_pf = load_runtimes(\"/scratch/persistent/joosep/mlpf/results/cms/CMSSW_15_0_1/{}_pf/slurm-cmssw-el8-gpu.sh*\".format(folder))\n",
    "times_mlpf = load_runtimes(\"/scratch/persistent/joosep/mlpf/results/cms/CMSSW_15_0_1/{}_mlpf/slurm-cmssw-el8-gpu.sh*\".format(folder))"
   ]
  },
  {
   "cell_type": "code",
   "execution_count": null,
   "id": "a75ec111-b967-4c90-83d1-375952b12573",
   "metadata": {},
   "outputs": [],
   "source": [
    "times_pf_sel = times_pf[(times_pf[\"producer\"]==\"PFProducer\") | (times_pf[\"producer\"]==\"PFBlockProducer\")]\n",
    "times_mlpf_sel = times_mlpf[(times_mlpf[\"producer\"]==\"MLPFProducer\")]"
   ]
  },
  {
   "cell_type": "code",
   "execution_count": null,
   "id": "69810ca2-fed3-4a0a-8fa1-ecbbb673c2b9",
   "metadata": {},
   "outputs": [],
   "source": [
    "times_pf_event = pd.pivot_table(times_pf_sel, values=\"time\", index=[\"event\", \"lumi\"], columns=[\"producer\"], aggfunc=\"sum\")\n",
    "times_pf_event_good = times_pf_event[~(np.isnan(times_pf_event[\"PFBlockProducer\"]) | np.isnan(times_pf_event[\"PFProducer\"]))]"
   ]
  },
  {
   "cell_type": "code",
   "execution_count": null,
   "id": "1e99f63f-a16c-4f09-a5af-fd1d799ce3af",
   "metadata": {},
   "outputs": [],
   "source": [
    "times_mlpf_event = pd.pivot_table(times_mlpf_sel, values=\"time\", index=[\"event\", \"lumi\"], columns=[\"producer\"], aggfunc=\"sum\")\n",
    "times_mlpf_event_good = times_mlpf_event[~(np.isnan(times_mlpf_event[\"MLPFProducer\"]))]"
   ]
  },
  {
   "cell_type": "code",
   "execution_count": null,
   "id": "848ad574-ddfc-4866-afd2-e161d41cb0d8",
   "metadata": {},
   "outputs": [],
   "source": [
    "times_joined = times_pf_event_good.merge(times_mlpf_event_good, on=[\"event\", \"lumi\"])"
   ]
  },
  {
   "cell_type": "code",
   "execution_count": null,
   "id": "f57b846c-999a-4f32-b762-147ec717400c",
   "metadata": {},
   "outputs": [],
   "source": [
    "fig = plt.figure(figsize=(12.5,11))\n",
    "ax = plt.axes()\n",
    "\n",
    "b = np.linspace(0,2.0,101)\n",
    "plt.hist2d(\n",
    "    times_joined[\"PFBlockProducer\"]+times_joined[\"PFProducer\"],\n",
    "    times_joined[\"MLPFProducer\"],\n",
    "    bins=b,\n",
    "    norm=matplotlib.colors.LogNorm(vmin=0.1),\n",
    "    cmap=\"turbo\"\n",
    ");\n",
    "plt.xlabel(\"PFBlock+PFAlgo runtime on CPU [s]\")\n",
    "plt.ylabel(\"MLPF runtime on GPU [s]\")\n",
    "cms_label(ax)\n",
    "sample_label(ax, physics_process)\n",
    "plt.colorbar()\n",
    "plt.legend(title=\"CMSSW_15_0_1\\nnative ONNXRuntime\\n6 jobs per GPU\\n8 threads per job\", loc=(0.5, 0.68))\n",
    "plt.savefig(\"{}/cmssw_runtime_2d.pdf\".format(outpath), bbox_inches=\"tight\")"
   ]
  },
  {
   "cell_type": "code",
   "execution_count": null,
   "id": "896cc9ca-1db8-4a74-9f4a-57c050160371",
   "metadata": {},
   "outputs": [],
   "source": [
    "fig = plt.figure()\n",
    "ax = plt.axes()\n",
    "b = np.linspace(0, 2, 201)\n",
    "\n",
    "m, i = med_iqr(times_pf_event_good[\"PFBlockProducer\"]+times_pf_event_good[\"PFProducer\"])\n",
    "plt.hist(\n",
    "    times_pf_event_good[\"PFBlockProducer\"]+times_pf_event_good[\"PFProducer\"],\n",
    "    bins=b, histtype=\"step\", lw=2, label=\"PFBlock+PFAlgo on CPU\\nM={:.2f}s IQR={:.2f}s\".format(m,i));\n",
    "\n",
    "m, i = med_iqr(times_mlpf_event_good[\"MLPFProducer\"])\n",
    "plt.hist(\n",
    "    times_mlpf_event_good[\"MLPFProducer\"], bins=b, histtype=\"step\", lw=2, label=\"MLPF on GPU\\nM={:.2f}s IQR={:.2f}s\".format(m,i));\n",
    "cms_label(ax)\n",
    "sample_label(ax, physics_process)\n",
    "plt.legend(title=\"CMSSW_15_0_1\\nnative ONNXRuntime\\n6 jobs per GPU\\n8 threads per job\", loc=(0.45, 0.47))\n",
    "plt.xlabel(\"Runtime per event [s]\")\n",
    "plt.yscale(\"log\")\n",
    "plt.savefig(\"{}/cmssw_runtime.pdf\".format(outpath), bbox_inches=\"tight\")"
   ]
  },
  {
   "cell_type": "code",
   "execution_count": null,
   "id": "c20aef4c-aa88-44de-a61d-f2bb7ba8f31b",
   "metadata": {},
   "outputs": [],
   "source": []
  }
 ],
 "metadata": {
  "kernelspec": {
   "display_name": "Python 3 (ipykernel)",
   "language": "python",
   "name": "python3"
  },
  "language_info": {
   "codemirror_mode": {
    "name": "ipython",
    "version": 3
   },
   "file_extension": ".py",
   "mimetype": "text/x-python",
   "name": "python",
   "nbconvert_exporter": "python",
   "pygments_lexer": "ipython3",
   "version": "3.11.10"
  }
 },
 "nbformat": 4,
 "nbformat_minor": 5
}
