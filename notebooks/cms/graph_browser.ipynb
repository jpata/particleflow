{
 "cells": [
  {
   "cell_type": "code",
   "execution_count": null,
   "id": "3e517f42-2643-414e-8536-b30248fdbdc0",
   "metadata": {},
   "outputs": [],
   "source": [
    "import pickle\n",
    "import networkx\n",
    "import matplotlib\n",
    "import matplotlib.pyplot as plt\n",
    "import numpy as np"
   ]
  },
  {
   "cell_type": "code",
   "execution_count": null,
   "id": "9f3be78e-0e62-44e8-ac0d-5129804ba103",
   "metadata": {},
   "outputs": [],
   "source": [
    "cleanup_g = pickle.load(open(\"../../split_g_0.pkl\", \"rb\"))"
   ]
  },
  {
   "cell_type": "code",
   "execution_count": null,
   "id": "88f16a96-95eb-4d7e-9fbe-8d3db87bd706",
   "metadata": {},
   "outputs": [],
   "source": [
    "for node in cleanup_g.nodes:\n",
    "    if node[0] == \"elem\" and cleanup_g.nodes[node][\"typ\"] ==  1 and cleanup_g.nodes[node][\"pt\"]<1:\n",
    "        print(node, cleanup_g.nodes[node][\"pt\"], list(cleanup_g.predecessors(node)))"
   ]
  },
  {
   "cell_type": "code",
   "execution_count": null,
   "id": "ff835fd0-7ae5-4748-a5de-3ee188f0b0a6",
   "metadata": {},
   "outputs": [],
   "source": [
    "cp = ('cp', 177)\n",
    "for suc in list(cleanup_g.successors(cp)):\n",
    "    print(suc, cleanup_g.nodes[suc][\"pt\"], cleanup_g.edges[cp, suc][\"weight\"], cleanup_g.nodes[suc][\"typ\"])"
   ]
  },
  {
   "cell_type": "code",
   "execution_count": null,
   "id": "d34306cd-c334-428b-bcf0-777b5f1f086e",
   "metadata": {},
   "outputs": [],
   "source": [
    "cps = [n for n in cleanup_g.nodes if n[0] == \"cp\"]\n",
    "plt.figure(figsize=(10, 10))\n",
    "plt.scatter(\n",
    "    [cleanup_g.nodes[n][\"eta\"] for n in cps],\n",
    "    [cleanup_g.nodes[n][\"phi\"] for n in cps],\n",
    "    s=[5*cleanup_g.nodes[n][\"pt\"] for n in cps],\n",
    "    alpha=0.8\n",
    ")\n",
    "\n",
    "elems = [n for n in cleanup_g.nodes if n[0] == \"elem\"]\n",
    "plt.scatter(\n",
    "    [cleanup_g.nodes[n][\"eta\"] for n in elems],\n",
    "    [cleanup_g.nodes[n][\"phi\"] for n in elems],\n",
    "    s=[5*cleanup_g.nodes[n][\"pt\"] for n in elems],\n",
    "    alpha=0.8, marker=\"x\"\n",
    ")\n",
    "\n",
    "plt.show()"
   ]
  },
  {
   "cell_type": "code",
   "execution_count": null,
   "id": "91fdae1b-70fc-43c0-8623-a774efe26fcf",
   "metadata": {},
   "outputs": [],
   "source": [
    "cp_elem_graph = cleanup_g.subgraph(cps + elems)"
   ]
  },
  {
   "cell_type": "code",
   "execution_count": null,
   "id": "8f5afe85-2e00-4718-ba9b-5f57dc460ce2",
   "metadata": {},
   "outputs": [],
   "source": [
    "adj_matrix = np.zeros(((len(cps)), len(elems)))\n",
    "for edge in cp_elem_graph.edges:\n",
    "    i1 = cps.index(edge[0])\n",
    "    i2 = elems.index(edge[1])\n",
    "    adj_matrix[i1, i2] += cp_elem_graph.edges[edge][\"weight\"]\n",
    "\n",
    "adj_matrix = adj_matrix / np.array([cleanup_g.nodes[n][\"e\"] for n in elems])"
   ]
  },
  {
   "cell_type": "code",
   "execution_count": null,
   "id": "02696693-87de-42ef-8d94-b5de942896b8",
   "metadata": {},
   "outputs": [],
   "source": [
    "msk_trk = np.array([cleanup_g.nodes[n][\"typ\"]==1 for n in elems])\n",
    "msk_hcal = np.array([cleanup_g.nodes[n][\"typ\"]==5 for n in elems])\n",
    "msk_ecal = np.array([cleanup_g.nodes[n][\"typ\"]==4 for n in elems])\n",
    "msk_hfem = np.array([cleanup_g.nodes[n][\"typ\"]==8 for n in elems])\n",
    "msk_hfhad = np.array([cleanup_g.nodes[n][\"typ\"]==9 for n in elems])\n",
    "\n",
    "msk_pt = np.array([cleanup_g.nodes[n][\"pt\"]>1 for n in elems])\n",
    "pt = np.array([cleanup_g.nodes[n][\"pt\"] for n in elems])\n",
    "e = np.array([cleanup_g.nodes[n][\"e\"] for n in elems])\n",
    "\n",
    "msk_matched_cp = adj_matrix.sum(axis=1)>0.0\n",
    "msk_unmatched_elem = adj_matrix.sum(axis=0)==0"
   ]
  },
  {
   "cell_type": "code",
   "execution_count": null,
   "id": "31ce52b3-9c0c-411b-ba72-9c9118436e90",
   "metadata": {},
   "outputs": [],
   "source": [
    "plt.hist(adj_matrix[:, msk_trk&msk_pt].sum(axis=0), bins=np.linspace(0,1,100));"
   ]
  },
  {
   "cell_type": "code",
   "execution_count": null,
   "id": "aee19723-7671-4aa2-a167-59784b3e3e99",
   "metadata": {},
   "outputs": [],
   "source": [
    "plt.hist(pt[msk_unmatched_elem & msk_trk], bins=np.logspace(-2,1,100), histtype=\"step\", lw=2);\n",
    "plt.hist(pt[~msk_unmatched_elem & msk_trk], bins=np.logspace(-2,1,100), histtype=\"step\", lw=2);\n",
    "plt.xscale(\"log\")"
   ]
  },
  {
   "cell_type": "code",
   "execution_count": null,
   "id": "3d32c0ee-c0a9-4c4f-87cd-a66add14535f",
   "metadata": {},
   "outputs": [],
   "source": [
    "plt.hist(adj_matrix[:, msk_trk&msk_pt][msk_matched_cp, :].sum(axis=1), bins=100);"
   ]
  },
  {
   "cell_type": "code",
   "execution_count": null,
   "id": "d73e45ec-c71c-4d8f-9fd5-5878da5de826",
   "metadata": {},
   "outputs": [],
   "source": [
    "plt.hist(e[msk_unmatched_elem & msk_ecal], bins=np.logspace(-2,2,100), histtype=\"step\", lw=2);\n",
    "plt.hist(e[~msk_unmatched_elem & msk_ecal], bins=np.logspace(-2,2,100), histtype=\"step\", lw=2);\n",
    "plt.xscale(\"log\")"
   ]
  },
  {
   "cell_type": "code",
   "execution_count": null,
   "id": "fb8d6ba3-2878-4823-a805-e62045761a44",
   "metadata": {},
   "outputs": [],
   "source": [
    "plt.hist(e[msk_unmatched_elem & msk_hcal], bins=np.logspace(-2,2,100), histtype=\"step\", lw=2);\n",
    "plt.hist(e[~msk_unmatched_elem & msk_hcal], bins=np.logspace(-2,2,100), histtype=\"step\", lw=2);\n",
    "plt.xscale(\"log\")"
   ]
  },
  {
   "cell_type": "code",
   "execution_count": null,
   "id": "5a2361d8-c001-4636-8d87-852188181c0f",
   "metadata": {},
   "outputs": [],
   "source": [
    "plt.hist(e[msk_unmatched_elem & msk_hfem], bins=np.logspace(-2,3,100), histtype=\"step\", lw=2);\n",
    "plt.hist(e[~msk_unmatched_elem & msk_hfem], bins=np.logspace(-2,3,100), histtype=\"step\", lw=2);\n",
    "plt.xscale(\"log\")"
   ]
  },
  {
   "cell_type": "code",
   "execution_count": null,
   "id": "15356f52-3657-484a-910b-b9abdb6af2d0",
   "metadata": {},
   "outputs": [],
   "source": [
    "plt.hist(e[msk_unmatched_elem & msk_hfhad], bins=np.logspace(-2,3,100), histtype=\"step\", lw=2);\n",
    "plt.hist(e[~msk_unmatched_elem & msk_hfhad], bins=np.logspace(-2,3,100), histtype=\"step\", lw=2);\n",
    "plt.xscale(\"log\")"
   ]
  },
  {
   "cell_type": "code",
   "execution_count": null,
   "id": "94cf28fc-5e35-4493-8430-7d333a36726e",
   "metadata": {},
   "outputs": [],
   "source": [
    "split_g = pickle.load(open(\"../../split_g_5.pkl\", \"rb\"))\n",
    "for node in split_g.nodes:\n",
    "    if node[0] == \"elem\" and split_g.nodes[node][\"typ\"] ==  1 and split_g.nodes[node][\"pt\"]>10:\n",
    "        print(node, split_g.nodes[node][\"pt\"], list(split_g.predecessors(node)))"
   ]
  },
  {
   "cell_type": "code",
   "execution_count": null,
   "id": "a796b72a-114d-4e70-a946-cb1ff62c31d0",
   "metadata": {},
   "outputs": [],
   "source": []
  }
 ],
 "metadata": {
  "kernelspec": {
   "display_name": "Python 3 (ipykernel)",
   "language": "python",
   "name": "python3"
  },
  "language_info": {
   "codemirror_mode": {
    "name": "ipython",
    "version": 3
   },
   "file_extension": ".py",
   "mimetype": "text/x-python",
   "name": "python",
   "nbconvert_exporter": "python",
   "pygments_lexer": "ipython3",
   "version": "3.11.9"
  }
 },
 "nbformat": 4,
 "nbformat_minor": 5
}
