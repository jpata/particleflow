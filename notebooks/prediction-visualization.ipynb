{
 "cells": [
  {
   "cell_type": "code",
   "execution_count": null,
   "metadata": {},
   "outputs": [],
   "source": [
    "import numpy as np\n",
    "import sklearn\n",
    "import sklearn.metrics\n",
    "import matplotlib.pyplot as plt\n",
    "\n",
    "import plotly.express as px"
   ]
  },
  {
   "cell_type": "code",
   "execution_count": null,
   "metadata": {},
   "outputs": [],
   "source": [
    "d0 = np.load(\"/home/joosep/particleflow/experiments/cms-gnn-dense-a301aa09.gpu0.local/pred_66.npz\")"
   ]
  },
  {
   "cell_type": "code",
   "execution_count": null,
   "metadata": {},
   "outputs": [],
   "source": [
    "def format_cls(cls):\n",
    "    ret = []\n",
    "    for one_cls in list(cls):\n",
    "        s = \", \".join([(\"{:.2f}\".format(c) if c > 0.01 else \"0\") for c in one_cls])\n",
    "        ret.append(s)\n",
    "    return ret"
   ]
  },
  {
   "cell_type": "code",
   "execution_count": null,
   "metadata": {},
   "outputs": [],
   "source": [
    "iev = 0\n",
    "X = d0[\"X\"][iev]\n",
    "ytrue = d0[\"ytrue\"][iev]\n",
    "\n",
    "pred_cls = d0[\"cls\"][iev]\n",
    "pred_energy = d0[\"energy\"][iev][:, 0]\n",
    "\n",
    "nelem = np.sum(X[:, 0] != 0)\n",
    "x_eta = X[:nelem, 2]\n",
    "x_phi = X[:nelem, 3]"
   ]
  },
  {
   "cell_type": "code",
   "execution_count": null,
   "metadata": {},
   "outputs": [],
   "source": [
    "elem_type_map = [\n",
    "    (\"NONE\", 0),\n",
    "    (\"TRACK\", 1),\n",
    "    (\"PS1\", 2),\n",
    "    (\"PS2\", 3),\n",
    "    (\"ECAL\", 4),\n",
    "    (\"HCAL\", 5),\n",
    "    (\"GSF\", 6),\n",
    "    (\"BREM\", 7),\n",
    "    (\"HFEM\", 8),\n",
    "    (\"HFHAD\", 9),\n",
    "    (\"SC\", 10),\n",
    "    (\"HO\", 11),\n",
    "]\n",
    "elem_type_map = {v: k for (k, v) in elem_type_map}"
   ]
  },
  {
   "cell_type": "code",
   "execution_count": null,
   "metadata": {},
   "outputs": [],
   "source": [
    "pid_map = {0: \"none\", 1: \"ch.had\", 2: \"n.had\", 3: \"HFEM\", 4: \"HFHAD\", 5: \"gamma\", 6: \"el\", 7: \"mu\"}"
   ]
  },
  {
   "cell_type": "code",
   "execution_count": null,
   "metadata": {},
   "outputs": [],
   "source": [
    "px.scatter(\n",
    "    x=x_eta,\n",
    "    y=x_phi,\n",
    "    color=X[:nelem, 0],\n",
    "    hover_data={\n",
    "        \"pred_cls\": format_cls(pred_cls[:nelem]),\n",
    "        \"elem_type\": [elem_type_map[t] for t in X[:nelem, 0]],\n",
    "        \"true_pid\": [pid_map[p] for p in ytrue[:nelem, 0]],\n",
    "        \"energy\": [\"{:.2f}\".format(x) for x in X[:nelem, 4]],\n",
    "        \"pred_energy\": [\"{:.2f}\".format(x) for x in pred_energy[:nelem]],\n",
    "    },\n",
    ")"
   ]
  },
  {
   "cell_type": "code",
   "execution_count": null,
   "metadata": {},
   "outputs": [],
   "source": []
  }
 ],
 "metadata": {
  "kernelspec": {
   "display_name": "Python 3",
   "language": "python",
   "name": "python3"
  },
  "language_info": {
   "codemirror_mode": {
    "name": "ipython",
    "version": 3
   },
   "file_extension": ".py",
   "mimetype": "text/x-python",
   "name": "python",
   "nbconvert_exporter": "python",
   "pygments_lexer": "ipython3",
   "version": "3.8.5"
  }
 },
 "nbformat": 4,
 "nbformat_minor": 5
}
