{
 "cells": [
  {
   "cell_type": "code",
   "execution_count": null,
   "id": "37bcabee",
   "metadata": {},
   "outputs": [],
   "source": [
    "%matplotlib inline"
   ]
  },
  {
   "cell_type": "code",
   "execution_count": null,
   "id": "57fe9bee",
   "metadata": {},
   "outputs": [],
   "source": [
    "import pandas as pd\n",
    "import json\n",
    "import glob\n",
    "import matplotlib.pyplot as plt\n",
    "import numpy as np\n",
    "\n",
    "import sklearn\n",
    "import sklearn.metrics\n",
    "import matplotlib\n",
    "import scipy\n",
    "import mplhep\n",
    "import os\n",
    "\n",
    "import vector\n",
    "import fastjet\n",
    "import awkward as ak\n",
    "\n",
    "import pandas\n",
    "import boost_histogram as bh\n",
    "import itertools\n",
    "import mplhep\n",
    "\n",
    "mplhep.set_style(mplhep.styles.CMS)"
   ]
  },
  {
   "cell_type": "code",
   "execution_count": null,
   "id": "06d0118c",
   "metadata": {},
   "outputs": [],
   "source": [
    "import sys\n",
    "\n",
    "sys.path += [\"../mlpf/plotting/\"]\n",
    "\n",
    "import plot_utils\n",
    "from plot_utils import pid_to_text"
   ]
  },
  {
   "cell_type": "code",
   "execution_count": null,
   "id": "cb2cc30e",
   "metadata": {},
   "outputs": [],
   "source": [
    "def to_bh(data, bins, cumulative=False):\n",
    "    h1 = bh.Histogram(bh.axis.Variable(bins))\n",
    "    h1.fill(data)\n",
    "    if cumulative:\n",
    "        h1[:] = np.sum(h1.values()) - np.cumsum(h1)\n",
    "    return h1"
   ]
  },
  {
   "cell_type": "code",
   "execution_count": null,
   "id": "f54470af",
   "metadata": {},
   "outputs": [],
   "source": [
    "from plot_utils import cms_label, sample_label\n",
    "from plot_utils import CLASS_NAMES_CMS, CLASS_LABELS_CMS"
   ]
  },
  {
   "cell_type": "code",
   "execution_count": null,
   "id": "a1e4533a",
   "metadata": {
    "tags": [
     "parameters"
    ]
   },
   "outputs": [],
   "source": [
    "# These can be overriden from the command line using `papermill cms-mlpf.ipynb -p path new/path/...`\n",
    "backend = \"tf\"\n",
    "sample = \"cms_pf_ttbar\"\n",
    "\n",
    "if sample == \"cms_pf_ttbar\":\n",
    "    physics_process = \"TTbar_14TeV_TuneCUETP8M1_cfi\"\n",
    "if sample == \"cms_pf_ztt\":\n",
    "    physics_process = \"ZTT_All_hadronic_14TeV_TuneCUETP8M1_cfi\"\n",
    "if sample == \"cms_pf_qcd\":\n",
    "    physics_process = \"QCDForPF_14TeV_TuneCUETP8M1_cfi\"\n",
    "if sample == \"cms_pf_qcd_high_pt\":\n",
    "    physics_process = \"QCD_Pt_3000_7000_14TeV_TuneCUETP8M1_cfi\"\n",
    "\n",
    "path = \"/local/joosep/mlpf/results/cms/20221004_model40M/cms-gen_20220923_163529_426249.gpu0.local/evaluation/epoch_18/{}/\".format(\n",
    "    sample\n",
    ")\n",
    "PAPERMILL_OUTPUT_PATH = path"
   ]
  },
  {
   "cell_type": "code",
   "execution_count": null,
   "id": "0467b0ee",
   "metadata": {},
   "outputs": [],
   "source": [
    "outpath = PAPERMILL_OUTPUT_PATH\n",
    "if os.path.isfile(outpath):\n",
    "    outpath = os.path.dirname(outpath)\n",
    "print(\"params\", path, outpath)"
   ]
  },
  {
   "cell_type": "code",
   "execution_count": null,
   "id": "fd68594d",
   "metadata": {},
   "outputs": [],
   "source": [
    "def flatten(arr):\n",
    "    # return arr.reshape((arr.shape[0]*arr.shape[1], arr.shape[2]))\n",
    "    return arr.reshape(-1, arr.shape[-1])"
   ]
  },
  {
   "cell_type": "code",
   "execution_count": null,
   "id": "26c69296",
   "metadata": {},
   "outputs": [],
   "source": [
    "def apply_thresholds_f(ypred_raw_f, thresholds):\n",
    "    msk = np.ones_like(ypred_raw_f)\n",
    "    for i in range(len(thresholds)):\n",
    "        msk[:, i + 1] = ypred_raw_f[:, i + 1] > thresholds[i]\n",
    "    ypred_id_f = np.argmax(ypred_raw_f * msk, axis=-1)\n",
    "\n",
    "    #     best_2 = np.partition(ypred_raw_f, -2, axis=-1)[..., -2:]\n",
    "    #     diff = np.abs(best_2[:, -1] - best_2[:, -2])\n",
    "    #     ypred_id_f[diff<0.05] = 0\n",
    "\n",
    "    return ypred_id_f\n",
    "\n",
    "\n",
    "def apply_thresholds(ypred_raw, thresholds):\n",
    "    msk = np.ones_like(ypred_raw)\n",
    "    for i in range(len(thresholds)):\n",
    "        msk[:, :, i + 1] = ypred_raw[:, :, i + 1] > thresholds[i]\n",
    "    ypred_id = np.argmax(ypred_raw * msk, axis=-1)\n",
    "\n",
    "    #     best_2 = np.partition(ypred_raw, -2, axis=-1)[..., -2:]\n",
    "    #     diff = np.abs(best_2[:, :, -1] - best_2[:, :, -2])\n",
    "    #     ypred_id[diff<0.05] = 0\n",
    "\n",
    "    return ypred_id"
   ]
  },
  {
   "cell_type": "code",
   "execution_count": null,
   "id": "b78faaa0",
   "metadata": {},
   "outputs": [],
   "source": [
    "from plot_utils import ELEM_LABELS_CMS, ELEM_NAMES_CMS\n",
    "from plot_utils import CLASS_LABELS_CMS, CLASS_NAMES_CMS\n",
    "\n",
    "class_names = {k: v for k, v in zip(CLASS_LABELS_CMS, CLASS_NAMES_CMS)}"
   ]
  },
  {
   "cell_type": "markdown",
   "id": "7457e2d7",
   "metadata": {},
   "source": [
    "# Load the predictions"
   ]
  },
  {
   "cell_type": "code",
   "execution_count": null,
   "id": "16c957e3",
   "metadata": {},
   "outputs": [],
   "source": [
    "if backend == \"tf\":\n",
    "    Xs = []\n",
    "    yvals = {}\n",
    "    print(path)\n",
    "    for fi in list(glob.glob(path + \"/pred_batch*.npz\")):\n",
    "        dd = np.load(fi)\n",
    "\n",
    "        # print(np.max((dd[\"gen_pt\"]-dd[\"cand_pt\"])[:, :, 0], axis=1))\n",
    "        Xs.append(dd[\"X\"])\n",
    "\n",
    "        keys_in_file = list(dd.keys())\n",
    "        for k in keys_in_file:\n",
    "            if k == \"X\":\n",
    "                continue\n",
    "            if not (k in yvals):\n",
    "                yvals[k] = []\n",
    "            yvals[k].append(dd[k])\n",
    "\n",
    "    X = np.concatenate(Xs)\n",
    "    X_f = flatten(X)\n",
    "\n",
    "    msk_X_f = X_f[:, 0] != 0\n",
    "\n",
    "    yvals = {k: np.concatenate(v) for k, v in yvals.items()}\n",
    "\n",
    "    for val in [\"gen\", \"cand\", \"pred\"]:\n",
    "        yvals[\"{}_phi\".format(val)] = np.arctan2(yvals[\"{}_sin_phi\".format(val)], yvals[\"{}_cos_phi\".format(val)])\n",
    "        yvals[\"{}_cls_id\".format(val)] = np.expand_dims(np.argmax(yvals[\"{}_cls\".format(val)], axis=-1), axis=-1)\n",
    "\n",
    "        yvals[\"{}_px\".format(val)] = np.sin(yvals[\"{}_phi\".format(val)]) * yvals[\"{}_pt\".format(val)]\n",
    "        yvals[\"{}_py\".format(val)] = np.cos(yvals[\"{}_phi\".format(val)]) * yvals[\"{}_pt\".format(val)]\n",
    "\n",
    "    yvals_f = {k: flatten(v) for k, v in yvals.items()}\n",
    "\n",
    "    # remove the last dim\n",
    "    for k in yvals_f.keys():\n",
    "        if yvals_f[k].shape[-1] == 1:\n",
    "            yvals_f[k] = yvals_f[k][..., -1]"
   ]
  },
  {
   "cell_type": "code",
   "execution_count": null,
   "id": "91d97bc9",
   "metadata": {},
   "outputs": [],
   "source": [
    "if backend == \"pyg\":\n",
    "    import torch\n",
    "\n",
    "    path = \"./preds/\"\n",
    "    X = torch.load(f\"{path}/post_processed_Xs.pt\")\n",
    "    X_f = torch.load(f\"{path}/post_processed_X_f.pt\")\n",
    "    msk_X_f = torch.load(f\"{path}/post_processed_msk_X_f.pt\")\n",
    "    yvals = torch.load(f\"{path}/post_processed_yvals.pt\")\n",
    "    yvals_f = torch.load(f\"{path}/post_processed_yvals_f.pt\")"
   ]
  },
  {
   "cell_type": "markdown",
   "id": "4f34de51",
   "metadata": {},
   "source": [
    "# Make plots"
   ]
  },
  {
   "cell_type": "code",
   "execution_count": null,
   "id": "704c3c5b",
   "metadata": {},
   "outputs": [],
   "source": [
    "df = pandas.DataFrame()\n",
    "msk = X_f[:, 0] == 5\n",
    "df[\"X_energy\"] = X_f[msk, 4]\n",
    "df[\"X_eta\"] = X_f[msk, 2]\n",
    "df[\"cand_energy\"] = yvals_f[\"cand_energy\"][msk]\n",
    "df[\"cand_cls_id\"] = yvals_f[\"cand_cls_id\"][msk]\n",
    "df[\"gen_energy\"] = yvals_f[\"gen_energy\"][msk]\n",
    "df[\"gen_cls_id\"] = yvals_f[\"gen_cls_id\"][msk]\n",
    "df[\"pred_energy\"] = yvals_f[\"pred_energy\"][msk]\n",
    "df[\"pred_cls_id\"] = yvals_f[\"pred_cls_id\"][msk]\n",
    "\n",
    "df[\"pred_cls0\"] = yvals_f[\"pred_cls\"][msk, 0]\n",
    "df[\"pred_cls1\"] = yvals_f[\"pred_cls\"][msk, 1]\n",
    "df[\"pred_cls2\"] = yvals_f[\"pred_cls\"][msk, 2]"
   ]
  },
  {
   "cell_type": "code",
   "execution_count": null,
   "id": "b838053b",
   "metadata": {},
   "outputs": [],
   "source": [
    "b = np.linspace(0, 1, 100)\n",
    "plt.figure(figsize=(15, 15))\n",
    "\n",
    "ax = plt.subplot(3, 1, 1)\n",
    "plt.xlim(0, 1)\n",
    "msk = df[\"X_energy\"] < 1\n",
    "plt.hist(\n",
    "    df[\"pred_cls2\"][(df[\"gen_cls_id\"] == 0) & msk], bins=b, histtype=\"step\", lw=2, color=\"red\", label=\"no true particle\"\n",
    ")\n",
    "plt.hist(df[\"pred_cls2\"][(df[\"gen_cls_id\"] == 2) & msk], bins=b, histtype=\"step\", lw=2, color=\"blue\", label=\"true n.had.\")\n",
    "plt.yscale(\"log\")\n",
    "plt.legend(loc=4)\n",
    "ax.text(0.01, 0.7, \"PFElement E < 1 GeV\", transform=ax.transAxes)\n",
    "plt.ylabel(\"PFElements / bin\")\n",
    "plt.xlabel(\"Classification output for neutral hadron\")\n",
    "cms_label(ax, y=0.9)\n",
    "sample_label(ax, physics_process, y=0.8)\n",
    "plt.ylim(1, 1e7)\n",
    "\n",
    "ax = plt.subplot(3, 1, 2)\n",
    "plt.xlim(0, 1)\n",
    "msk = (df[\"X_energy\"] > 1) & (df[\"X_energy\"] < 10)\n",
    "plt.hist(\n",
    "    df[\"pred_cls2\"][(df[\"gen_cls_id\"] == 0) & msk], bins=b, histtype=\"step\", lw=2, color=\"red\", label=\"no true particle\"\n",
    ")\n",
    "plt.hist(df[\"pred_cls2\"][(df[\"gen_cls_id\"] == 2) & msk], bins=b, histtype=\"step\", lw=2, color=\"blue\", label=\"true n.had.\")\n",
    "plt.yscale(\"log\")\n",
    "plt.ylabel(\"PFElements / bin\")\n",
    "ax.text(0.01, 0.7, \"1 < PFElement E < 10 GeV\", transform=ax.transAxes)\n",
    "plt.ylim(1, 1e7)\n",
    "plt.xlabel(\"Classification output for neutral hadron\")\n",
    "cms_label(ax, y=0.9)\n",
    "sample_label(ax, physics_process, y=0.8)\n",
    "\n",
    "ax = plt.subplot(3, 1, 3)\n",
    "plt.xlim(0, 1)\n",
    "msk = (df[\"X_energy\"] > 10) & (df[\"X_energy\"] < 100)\n",
    "plt.hist(\n",
    "    df[\"pred_cls2\"][(df[\"gen_cls_id\"] == 0) & msk], bins=b, histtype=\"step\", lw=2, color=\"red\", label=\"no true particle\"\n",
    ")\n",
    "plt.hist(df[\"pred_cls2\"][(df[\"gen_cls_id\"] == 2) & msk], bins=b, histtype=\"step\", lw=2, color=\"blue\", label=\"true n.had.\")\n",
    "plt.yscale(\"log\")\n",
    "plt.ylabel(\"PFElements / bin\")\n",
    "ax.text(0.01, 0.7, \"10 < PFElement E < 100 GeV\", transform=ax.transAxes)\n",
    "plt.xlabel(\"Classification output for neutral hadron\")\n",
    "plt.ylim(1, 1e7)\n",
    "cms_label(ax, y=0.9)\n",
    "sample_label(ax, physics_process, y=0.8)\n",
    "\n",
    "plt.tight_layout()\n",
    "\n",
    "plt.savefig(\"{}/clsout_ielem5_icls2.pdf\".format(outpath), bbox_inches=\"tight\")"
   ]
  },
  {
   "cell_type": "code",
   "execution_count": null,
   "id": "92489a43",
   "metadata": {},
   "outputs": [],
   "source": [
    "gen_cls_id = ak.from_regular(yvals[\"gen_cls_id\"][:, :, 0])\n",
    "gen_pt = ak.from_regular(yvals[\"gen_pt\"][:, :, 0])[gen_cls_id != 0]\n",
    "gen_eta = ak.from_regular(yvals[\"gen_eta\"][:, :, 0])[gen_cls_id != 0]\n",
    "gen_phi = ak.from_regular(yvals[\"gen_phi\"][:, :, 0])[gen_cls_id != 0]\n",
    "gen_e = ak.from_regular(yvals[\"gen_energy\"][:, :, 0])[gen_cls_id != 0]\n",
    "gen_cls_id = gen_cls_id[gen_cls_id != 0]\n",
    "\n",
    "cand_cls_id = ak.from_regular(yvals[\"cand_cls_id\"][:, :, 0])\n",
    "cand_pt = ak.from_regular(yvals[\"cand_pt\"][:, :, 0])[cand_cls_id != 0]\n",
    "cand_eta = ak.from_regular(yvals[\"cand_eta\"][:, :, 0])[cand_cls_id != 0]\n",
    "cand_phi = ak.from_regular(yvals[\"cand_phi\"][:, :, 0])[cand_cls_id != 0]\n",
    "cand_e = ak.from_regular(yvals[\"cand_energy\"][:, :, 0])[cand_cls_id != 0]\n",
    "cand_cls_id = cand_cls_id[cand_cls_id != 0]\n",
    "\n",
    "pred_cls_id = ak.from_regular(yvals[\"pred_cls_id\"][:, :, 0])\n",
    "pred_pt = ak.from_regular(yvals[\"pred_pt\"][:, :, 0])[pred_cls_id != 0]\n",
    "pred_eta = ak.from_regular(yvals[\"pred_eta\"][:, :, 0])[pred_cls_id != 0]\n",
    "pred_phi = ak.from_regular(yvals[\"pred_phi\"][:, :, 0])[pred_cls_id != 0]\n",
    "pred_e = ak.from_regular(yvals[\"pred_energy\"][:, :, 0])[pred_cls_id != 0]\n",
    "pred_cls_id = pred_cls_id[pred_cls_id != 0]"
   ]
  },
  {
   "cell_type": "code",
   "execution_count": null,
   "id": "b84a85e2",
   "metadata": {},
   "outputs": [],
   "source": [
    "b = np.logspace(-1, 3, 101)\n",
    "\n",
    "f, (a0, a1) = plt.subplots(2, 1, gridspec_kw={\"height_ratios\": [3, 1]}, sharex=True)\n",
    "\n",
    "plt.sca(a0)\n",
    "\n",
    "h0 = to_bh(ak.flatten(cand_pt[cand_cls_id != 0]), b)\n",
    "h1 = to_bh(ak.flatten(pred_pt[pred_cls_id != 0]), b)\n",
    "h2 = to_bh(ak.flatten(gen_pt[gen_cls_id != 0]), b)\n",
    "\n",
    "mplhep.histplot(h0, histtype=\"step\", lw=2, label=\"PF\")\n",
    "mplhep.histplot(h1, histtype=\"step\", lw=2, label=\"MLPF\")\n",
    "mplhep.histplot(h2, histtype=\"step\", lw=2, label=\"MLPF truth\")\n",
    "plt.xscale(\"log\")\n",
    "plt.yscale(\"log\")\n",
    "plt.legend(frameon=False)\n",
    "plt.ylabel(\"number of particles / bin\")\n",
    "\n",
    "plt.sca(a1)\n",
    "mplhep.histplot(h0 / h2, histtype=\"step\", lw=2)\n",
    "mplhep.histplot(h1 / h2, histtype=\"step\", lw=2)\n",
    "mplhep.histplot(h2 / h2, histtype=\"step\", lw=2)\n",
    "plt.ylabel(\"reco / truth\")\n",
    "plt.xlabel(\"particle $p_T$ [GeV]\")"
   ]
  },
  {
   "cell_type": "code",
   "execution_count": null,
   "id": "e5e69c33",
   "metadata": {},
   "outputs": [],
   "source": [
    "b = np.linspace(-6, 6, 101)\n",
    "\n",
    "f, (a0, a1) = plt.subplots(2, 1, gridspec_kw={\"height_ratios\": [3, 1]}, sharex=True)\n",
    "\n",
    "plt.sca(a0)\n",
    "\n",
    "h0 = to_bh(ak.flatten(cand_eta[cand_cls_id != 0]), b)\n",
    "h1 = to_bh(ak.flatten(pred_eta[pred_cls_id != 0]), b)\n",
    "h2 = to_bh(ak.flatten(gen_eta[gen_cls_id != 0]), b)\n",
    "\n",
    "mplhep.histplot(h0, histtype=\"step\", lw=2, label=\"PF\")\n",
    "mplhep.histplot(h1, histtype=\"step\", lw=2, label=\"MLPF\")\n",
    "mplhep.histplot(h2, histtype=\"step\", lw=2, label=\"MLPF truth\")\n",
    "plt.legend(frameon=False)\n",
    "\n",
    "plt.sca(a1)\n",
    "mplhep.histplot(h0 / h2, histtype=\"step\", lw=2)\n",
    "mplhep.histplot(h1 / h2, histtype=\"step\", lw=2)\n",
    "mplhep.histplot(h2 / h2, histtype=\"step\", lw=2)\n",
    "plt.ylabel(\"reco / truth\")\n",
    "plt.xlabel(\"particle $\\eta$\")\n",
    "plt.ylim(0, 2)"
   ]
  },
  {
   "cell_type": "code",
   "execution_count": null,
   "id": "668b4c34",
   "metadata": {},
   "outputs": [],
   "source": [
    "fig = plt.figure(figsize=(10, 10))\n",
    "ax = plt.axes()\n",
    "b = np.logspace(-2, 4, 101)\n",
    "hs = []\n",
    "pids = [1, 2, 11, 13, 22, 130, 211]\n",
    "\n",
    "colors = plt.cm.get_cmap(\"tab20c\", len(pids))\n",
    "labels = []\n",
    "for pid in pids[::-1]:\n",
    "    pid_idx = CLASS_LABELS_CMS.index(pid)\n",
    "    pt_pid = ak.flatten(pred_pt[pred_cls_id == pid_idx])\n",
    "    hs.append(np.histogram(pt_pid, bins=b))\n",
    "    labels.append(CLASS_NAMES_CMS[CLASS_LABELS_CMS.index(pid)])\n",
    "mplhep.histplot(hs, stack=True, histtype=\"fill\", label=labels, color=colors.colors)\n",
    "# plt.yscale(\"log\")\n",
    "plt.xscale(\"log\")\n",
    "\n",
    "plt.ylim(0, 2e6)\n",
    "plt.ticklabel_format(style=\"sci\", axis=\"y\", scilimits=(0, 0))\n",
    "ax.yaxis.major.formatter._useMathText = True\n",
    "\n",
    "plt.legend(ncol=1, loc=(0.7, 0.4))\n",
    "plt.xlabel(\"$p_T$ [GeV]\")\n",
    "plt.ylabel(\"Number of particles / bin\")\n",
    "cms_label(ax)\n",
    "sample_label(ax, physics_process, \", MLPF\")\n",
    "plt.xlim(10**-2, 10**4)\n",
    "plt.savefig(outpath + \"/mlpf_pt.pdf\", bbox_inches=\"tight\")"
   ]
  },
  {
   "cell_type": "code",
   "execution_count": null,
   "id": "56da709d",
   "metadata": {},
   "outputs": [],
   "source": [
    "fig = plt.figure(figsize=(10, 10))\n",
    "ax = plt.axes()\n",
    "b = np.linspace(-6, 6, 41)\n",
    "hs = []\n",
    "\n",
    "colors = plt.cm.get_cmap(\"tab20c\", len(pids))\n",
    "labels = []\n",
    "for pid in pids[::-1]:\n",
    "    pid_idx = CLASS_LABELS_CMS.index(pid)\n",
    "    pt_pid = ak.flatten(pred_eta[pred_cls_id == pid_idx])\n",
    "    hs.append(np.histogram(pt_pid, bins=b))\n",
    "    labels.append(CLASS_NAMES_CMS[CLASS_LABELS_CMS.index(pid)])\n",
    "mplhep.histplot(hs, stack=True, histtype=\"fill\", label=labels, color=colors.colors)\n",
    "# plt.yscale(\"log\")\n",
    "# plt.xscale(\"log\")\n",
    "plt.ylim(0, 1e6)\n",
    "plt.ticklabel_format(style=\"sci\", axis=\"y\", scilimits=(0, 0))\n",
    "ax.yaxis.major.formatter._useMathText = True\n",
    "\n",
    "plt.legend(ncol=3, loc=(0.2, 0.65))\n",
    "plt.xlabel(\"$\\eta$\")\n",
    "plt.ylabel(\"Number of particles / bin\")\n",
    "cms_label(ax)\n",
    "sample_label(ax, physics_process, \", MLPF\")\n",
    "plt.xlim(-6, 6)\n",
    "plt.savefig(outpath + \"/mlpf_eta.pdf\", bbox_inches=\"tight\")"
   ]
  },
  {
   "cell_type": "code",
   "execution_count": null,
   "id": "a924a24e",
   "metadata": {},
   "outputs": [],
   "source": [
    "b = np.logspace(0.5, 4, 100)\n",
    "\n",
    "plt.figure()\n",
    "ax = plt.axes()\n",
    "cms_label(ax)\n",
    "sample_label(ax, physics_process)\n",
    "\n",
    "plt.hist(yvals[\"jets_gen_pt\"], bins=b, histtype=\"step\", lw=2, label=\"genjet\")\n",
    "plt.hist(yvals[\"jets_cand_pt\"], bins=b, histtype=\"step\", lw=2, label=\"PF jet\")\n",
    "plt.hist(yvals[\"jets_pred_pt\"], bins=b, histtype=\"step\", lw=2, label=\"MLPF jet\")\n",
    "plt.yscale(\"log\")\n",
    "plt.xscale(\"log\")\n",
    "plt.ylim(1, 1e6)\n",
    "plt.legend(loc=(0.6, 0.7))\n",
    "plt.xlabel(\"jet $p_T$ [GeV]\")\n",
    "plt.ylabel(\"Number of jets\")\n",
    "plt.savefig(\"{}/jets.pdf\".format(outpath), bbox_inches=\"tight\")"
   ]
  },
  {
   "cell_type": "code",
   "execution_count": null,
   "id": "986faf7d",
   "metadata": {},
   "outputs": [],
   "source": [
    "b = np.linspace(-7, 7, 61)\n",
    "\n",
    "plt.figure()\n",
    "ax = plt.axes()\n",
    "cms_label(ax)\n",
    "sample_label(ax, physics_process)\n",
    "\n",
    "plt.hist(yvals[\"jets_gen_eta\"], bins=b, histtype=\"step\", lw=2, label=\"genjet\")\n",
    "plt.hist(yvals[\"jets_cand_eta\"], bins=b, histtype=\"step\", lw=2, label=\"PF jet\")\n",
    "plt.hist(yvals[\"jets_pred_eta\"], bins=b, histtype=\"step\", lw=2, label=\"MLPF jet\")\n",
    "plt.legend(loc=(0.6, 0.7))\n",
    "plt.savefig(\"{}/jets_eta.pdf\".format(outpath), bbox_inches=\"tight\")"
   ]
  },
  {
   "cell_type": "code",
   "execution_count": null,
   "id": "43053dc0",
   "metadata": {},
   "outputs": [],
   "source": [
    "def med_iqr(arr):\n",
    "    p25 = np.percentile(arr, 25)\n",
    "    p50 = np.percentile(arr, 50)\n",
    "    p75 = np.percentile(arr, 75)\n",
    "    return p50, p75 - p25"
   ]
  },
  {
   "cell_type": "code",
   "execution_count": null,
   "id": "cc057b37",
   "metadata": {},
   "outputs": [],
   "source": [
    "b = np.linspace(-2, 15, 101)\n",
    "\n",
    "fig = plt.figure()\n",
    "ax = plt.axes()\n",
    "vals = (yvals[\"jets_pt_gen_to_cand\"][:, 1] - yvals[\"jets_pt_gen_to_cand\"][:, 0]) / yvals[\"jets_pt_gen_to_cand\"][:, 0]\n",
    "p = med_iqr(vals)\n",
    "plt.hist(vals, bins=b, histtype=\"step\", lw=2, label=r\"PF (M={:.2f}, IQR={:.2f})\".format(p[0], p[1]))\n",
    "\n",
    "vals = (yvals[\"jets_pt_gen_to_pred\"][:, 1] - yvals[\"jets_pt_gen_to_pred\"][:, 0]) / yvals[\"jets_pt_gen_to_pred\"][:, 0]\n",
    "p = med_iqr(vals)\n",
    "plt.hist(vals, bins=b, histtype=\"step\", lw=2, label=r\"MLPF (M={:.2f}, IQR={:.2f})\".format(p[0], p[1]))\n",
    "\n",
    "plt.yscale(\"log\")\n",
    "plt.ylim(1, 1e7)\n",
    "cms_label(ax)\n",
    "sample_label(ax, physics_process)\n",
    "plt.legend(loc=(0.4, 0.7))\n",
    "plt.xlabel(r\"jet $\\frac{p_{\\mathrm{T,reco}} - p_{T,\\mathrm{gen}}}{p_{T,\\mathrm{gen}}}$\")\n",
    "plt.savefig(\"{}/jetres.pdf\".format(outpath), bbox_inches=\"tight\")"
   ]
  },
  {
   "cell_type": "code",
   "execution_count": null,
   "id": "b5f0ec96",
   "metadata": {},
   "outputs": [],
   "source": [
    "plt.figure()\n",
    "ax = plt.axes()\n",
    "plt.hist(np.sum(X[:, :, 0] != 0, axis=1), bins=100)\n",
    "plt.axvline(6400, ls=\"--\", color=\"black\")\n",
    "plt.xlabel(\"number of input PFElements\")\n",
    "plt.ylabel(\"number of events / bin\")\n",
    "cms_label(ax)\n",
    "sample_label(ax, physics_process)"
   ]
  },
  {
   "cell_type": "code",
   "execution_count": null,
   "id": "0f27315c",
   "metadata": {},
   "outputs": [],
   "source": [
    "sum_px = np.sum(yvals[\"gen_px\"], axis=1)\n",
    "sum_py = np.sum(yvals[\"gen_py\"], axis=1)\n",
    "gen_met = np.sqrt(sum_px**2 + sum_py**2)[:, 0]\n",
    "\n",
    "sum_px = np.sum(yvals[\"cand_px\"], axis=1)\n",
    "sum_py = np.sum(yvals[\"cand_py\"], axis=1)\n",
    "cand_met = np.sqrt(sum_px**2 + sum_py**2)[:, 0]\n",
    "\n",
    "msk_pred = (yvals[\"pred_cls_id\"] != 0).astype(np.float32)\n",
    "sum_px = np.sum(yvals[\"pred_px\"] * msk_pred, axis=1)\n",
    "sum_py = np.sum(yvals[\"pred_py\"] * msk_pred, axis=1)\n",
    "pred_met = np.sqrt(sum_px**2 + sum_py**2)[:, 0]"
   ]
  },
  {
   "cell_type": "code",
   "execution_count": null,
   "id": "4f17e752",
   "metadata": {},
   "outputs": [],
   "source": [
    "fig = plt.figure()\n",
    "ax = plt.axes()\n",
    "\n",
    "b = np.logspace(0, 4, 100)\n",
    "plt.hist(cand_met, bins=b, histtype=\"step\", lw=2, label=\"PF\")\n",
    "plt.hist(pred_met, bins=b, histtype=\"step\", lw=2, label=\"MLPF\")\n",
    "plt.hist(gen_met, bins=b, histtype=\"step\", lw=2, label=\"gen\")\n",
    "plt.yscale(\"log\")\n",
    "plt.xscale(\"log\")\n",
    "plt.legend(loc=(0.75, 0.7))\n",
    "cms_label(ax)\n",
    "sample_label(ax, physics_process)\n",
    "plt.ylim(1, 1e3)\n",
    "plt.xlabel(\"MET [GeV]\")\n",
    "plt.ylabel(\"Number of events\")\n",
    "plt.savefig(\"{}/met.pdf\".format(outpath), bbox_inches=\"tight\")"
   ]
  },
  {
   "cell_type": "code",
   "execution_count": null,
   "id": "bc785852",
   "metadata": {},
   "outputs": [],
   "source": [
    "fig = plt.figure()\n",
    "ax = plt.axes()\n",
    "b = np.linspace(-2, 50, 101)\n",
    "vals_a = cand_met / gen_met\n",
    "vals_b = pred_met / gen_met\n",
    "\n",
    "vals_a = vals_a[gen_met < 500]\n",
    "vals_b = vals_b[gen_met < 500]\n",
    "\n",
    "p = med_iqr(vals_a)\n",
    "plt.hist(vals_a, bins=b, histtype=\"step\", lw=2, label=\"PF, $(M={:.2f}, IQR={:.2f})$\".format(p[0], p[1]))\n",
    "\n",
    "p = med_iqr(vals_b)\n",
    "plt.hist(\n",
    "    vals_b,\n",
    "    bins=b,\n",
    "    histtype=\"step\",\n",
    "    lw=2,\n",
    "    label=\"MLPF, $(M={:.2f}, IQR={:.2f})$\".format(p[0], p[1]),\n",
    ")\n",
    "plt.yscale(\"log\")\n",
    "cms_label(ax)\n",
    "sample_label(ax, physics_process)\n",
    "plt.ylim(1, 1e5)\n",
    "plt.legend(loc=(0.35, 0.7))\n",
    "plt.xlabel(r\"$\\frac{\\mathrm{MET}_{\\mathrm{reco}}}{\\mathrm{MET}_{\\mathrm{gen}}}$\")\n",
    "plt.ylabel(\"Number of events / bin\")\n",
    "plt.savefig(\"{}/metres.pdf\".format(outpath), bbox_inches=\"tight\")"
   ]
  },
  {
   "cell_type": "code",
   "execution_count": null,
   "id": "47ae84d1",
   "metadata": {},
   "outputs": [],
   "source": [
    "fig = plt.figure()\n",
    "ax = plt.axes()\n",
    "\n",
    "plt.scatter(np.sum(yvals[\"gen_pt\"], axis=1), np.sum(yvals[\"cand_pt\"], axis=1), alpha=0.5, label=\"PF\")\n",
    "plt.scatter(np.sum(yvals[\"gen_pt\"], axis=1), np.sum(yvals[\"pred_pt\"], axis=1), alpha=0.5, label=\"MLPF\")\n",
    "plt.plot([1000, 6000], [1000, 6000], color=\"black\")\n",
    "plt.xlim(1000, 6000)\n",
    "plt.ylim(1000, 6000)\n",
    "plt.legend(loc=4)\n",
    "cms_label(ax)\n",
    "sample_label(ax, physics_process)\n",
    "plt.ylabel(\"Reconstructed $\\sum p_T$ [GeV]\")\n",
    "\n",
    "plt.savefig(\"{}/sum_pt.pdf\".format(outpath), bbox_inches=\"tight\")"
   ]
  },
  {
   "cell_type": "code",
   "execution_count": null,
   "id": "448d20c7",
   "metadata": {},
   "outputs": [],
   "source": [
    "def reso_plot(pid, var, bins, ptcl_name):\n",
    "\n",
    "    fig = plt.figure()\n",
    "    ax = plt.axes()\n",
    "\n",
    "    msk = (yvals_f[\"gen_cls_id\"] == pid) & (yvals_f[\"cand_cls_id\"] != 0) & (yvals_f[\"pred_cls_id\"] != 0)\n",
    "    vals_gen = yvals_f[\"gen_{}\".format(var)][msk]\n",
    "    vals_cand = yvals_f[\"cand_{}\".format(var)][msk]\n",
    "    vals_mlpf = yvals_f[\"pred_{}\".format(var)][msk]\n",
    "\n",
    "    reso_1 = vals_cand / vals_gen\n",
    "    reso_2 = vals_mlpf / vals_gen\n",
    "    plt.hist(reso_1, bins=bins, histtype=\"step\", lw=2, label=\"PF, M={:.2f}, IQR={:.2f}\".format(*med_iqr(reso_1)))\n",
    "    plt.hist(reso_2, bins=bins, histtype=\"step\", lw=2, label=\"MLPF, M={:.2f}, IQR={:.2f}\".format(*med_iqr(reso_2)))\n",
    "    plt.yscale(\"log\")\n",
    "    if var == \"pt\":\n",
    "        plt.xlabel(r\"$p_\\mathrm{T,reco} / p_\\mathrm{T,gen}$\")\n",
    "    elif var == \"eta\":\n",
    "        plt.xlabel(r\"$\\eta_\\mathrm{reco} / \\eta_\\mathrm{gen}$\")\n",
    "    plt.ylabel(\"Number of particles / bin\")\n",
    "    cms_label(ax)\n",
    "    sample_label(ax, physics_process, ptcl_name)\n",
    "    plt.xlim(min(bins), max(bins))\n",
    "    plt.legend(loc=(0.4, 0.7))\n",
    "    # plt.ylim(1, 1e9)\n",
    "    # plt.savefig(\"{}/pt_res_ch_had.pdf\".format(outpath), bbox_inches=\"tight\")"
   ]
  },
  {
   "cell_type": "code",
   "execution_count": null,
   "id": "1bfa3abc",
   "metadata": {},
   "outputs": [],
   "source": [
    "reso_plot(1, \"pt\", np.linspace(0, 15, 100), \", ch.had.\")\n",
    "plt.ylim(1, 1e9)\n",
    "plt.savefig(\"{}/pt_res_ch_had.pdf\".format(outpath), bbox_inches=\"tight\")"
   ]
  },
  {
   "cell_type": "code",
   "execution_count": null,
   "id": "05224493",
   "metadata": {},
   "outputs": [],
   "source": [
    "reso_plot(2, \"pt\", np.linspace(0, 100, 100), \", n.had.\")\n",
    "plt.ylim(1, 1e9)\n",
    "plt.savefig(\"{}/pt_res_n_had.pdf\".format(outpath), bbox_inches=\"tight\")"
   ]
  },
  {
   "cell_type": "code",
   "execution_count": null,
   "id": "abf2fd9c",
   "metadata": {},
   "outputs": [],
   "source": [
    "reso_plot(3, \"pt\", np.linspace(0, 100, 100), \", HFHAD\")\n",
    "plt.ylim(1, 1e9)\n",
    "plt.savefig(\"{}/pt_res_hfhad.pdf\".format(outpath), bbox_inches=\"tight\")"
   ]
  },
  {
   "cell_type": "code",
   "execution_count": null,
   "id": "a34181d4",
   "metadata": {},
   "outputs": [],
   "source": [
    "reso_plot(4, \"pt\", np.linspace(0, 100, 100), \", HFEM\")\n",
    "plt.ylim(1, 1e9)\n",
    "plt.savefig(\"{}/pt_res_hfem.pdf\".format(outpath), bbox_inches=\"tight\")"
   ]
  },
  {
   "cell_type": "code",
   "execution_count": null,
   "id": "d9ee4c6f",
   "metadata": {},
   "outputs": [],
   "source": [
    "reso_plot(5, \"pt\", np.linspace(0, 50, 100), \", $\\gamma$\")\n",
    "plt.ylim(1, 1e9)\n",
    "plt.savefig(\"{}/pt_res_gamma.pdf\".format(outpath), bbox_inches=\"tight\")"
   ]
  },
  {
   "cell_type": "code",
   "execution_count": null,
   "id": "4da426c1",
   "metadata": {},
   "outputs": [],
   "source": [
    "reso_plot(6, \"pt\", np.linspace(0, 10, 100), \", $e^\\pm$\")\n",
    "plt.ylim(1, 1e9)\n",
    "plt.savefig(\"{}/pt_res_ele.pdf\".format(outpath), bbox_inches=\"tight\")"
   ]
  },
  {
   "cell_type": "code",
   "execution_count": null,
   "id": "01616ead",
   "metadata": {},
   "outputs": [],
   "source": [
    "reso_plot(7, \"pt\", np.linspace(0, 5, 100), \", $\\mu^\\pm$\")\n",
    "plt.ylim(1, 1e9)\n",
    "plt.savefig(\"{}/pt_res_mu.pdf\".format(outpath), bbox_inches=\"tight\")"
   ]
  },
  {
   "cell_type": "code",
   "execution_count": null,
   "id": "3f503b8c",
   "metadata": {},
   "outputs": [],
   "source": [
    "reso_plot(1, \"eta\", np.linspace(-50, 50, 100), \", ch.had.\")\n",
    "plt.ylim(1, 1e10)\n",
    "plt.savefig(\"{}/eta_res_ch_had.pdf\".format(outpath), bbox_inches=\"tight\")"
   ]
  },
  {
   "cell_type": "code",
   "execution_count": null,
   "id": "66a386ee",
   "metadata": {},
   "outputs": [],
   "source": [
    "reso_plot(2, \"eta\", np.linspace(-50, 50, 100), \", n.had.\")\n",
    "plt.ylim(1, 1e10)\n",
    "plt.savefig(\"{}/eta_res_n_had.pdf\".format(outpath), bbox_inches=\"tight\")"
   ]
  },
  {
   "cell_type": "code",
   "execution_count": null,
   "id": "cfdff3f5",
   "metadata": {},
   "outputs": [],
   "source": [
    "reso_plot(3, \"eta\", np.linspace(-5, 5, 100), \", HFHAD\")\n",
    "plt.ylim(1, 1e10)\n",
    "plt.savefig(\"{}/eta_res_hfhad.pdf\".format(outpath), bbox_inches=\"tight\")"
   ]
  },
  {
   "cell_type": "code",
   "execution_count": null,
   "id": "ea13987f",
   "metadata": {},
   "outputs": [],
   "source": [
    "reso_plot(4, \"eta\", np.linspace(-5, 5, 100), \", HFEM\")\n",
    "plt.ylim(1, 1e10)\n",
    "plt.savefig(\"{}/eta_res_hfem.pdf\".format(outpath), bbox_inches=\"tight\")"
   ]
  },
  {
   "cell_type": "code",
   "execution_count": null,
   "id": "51e2dd71",
   "metadata": {},
   "outputs": [],
   "source": [
    "reso_plot(5, \"eta\", np.linspace(-10, 10, 100), \", $\\gamma$\")\n",
    "plt.ylim(1, 1e10)\n",
    "plt.savefig(\"{}/eta_res_gamma.pdf\".format(outpath), bbox_inches=\"tight\")"
   ]
  },
  {
   "cell_type": "code",
   "execution_count": null,
   "id": "f3c3fdbf",
   "metadata": {},
   "outputs": [],
   "source": [
    "reso_plot(6, \"eta\", np.linspace(-10, 10, 100), \", $e^\\pm$\")\n",
    "plt.ylim(1, 1e10)\n",
    "plt.savefig(\"{}/eta_res_ele.pdf\".format(outpath), bbox_inches=\"tight\")"
   ]
  },
  {
   "cell_type": "code",
   "execution_count": null,
   "id": "6e1da2ca",
   "metadata": {},
   "outputs": [],
   "source": [
    "reso_plot(7, \"eta\", np.linspace(-10, 10, 100), \", $\\mu^\\pm$\")\n",
    "plt.ylim(1, 1e10)\n",
    "plt.savefig(\"{}/eta_res_mu.pdf\".format(outpath), bbox_inches=\"tight\")"
   ]
  },
  {
   "cell_type": "code",
   "execution_count": null,
   "id": "bca00352",
   "metadata": {},
   "outputs": [],
   "source": [
    "def get_distribution(prefix, bins, var):\n",
    "\n",
    "    hists = []\n",
    "    for pid in [13, 11, 22, 1, 2, 130, 211]:\n",
    "        icls = CLASS_LABELS_CMS.index(pid)\n",
    "        msk_pid = yvals_f[prefix + \"_cls_id\"] == icls\n",
    "        h = bh.Histogram(bh.axis.Variable(bins))\n",
    "        d = yvals_f[prefix + \"_\" + var][msk_pid]\n",
    "        h.fill(d.flatten())\n",
    "        hists.append(h)\n",
    "    return hists\n",
    "\n",
    "\n",
    "#     plt.figure(figsize=(5,5))\n",
    "#     ax = plt.axes()\n",
    "\n",
    "#     mplhep.histplot(\n",
    "#         [h[0] for h in hists], bins=hists[0][1], ax=ax, stack=True, histtype=\"fill\",\n",
    "#         label=labels\n",
    "#     )\n",
    "#     plt.legend(ncol=2, frameon=False)\n",
    "#     plt.xlabel(var)\n",
    "#     cms_label(x1=0.22, x2=0.55)\n",
    "#     plt.ylabel(\"Number of particles / bin\")\n",
    "#     plt.text(0.02, 0.95, particle_label, transform=ax.transAxes)\n",
    "#     return ax"
   ]
  },
  {
   "cell_type": "code",
   "execution_count": null,
   "id": "f3a7dea0",
   "metadata": {},
   "outputs": [],
   "source": [
    "# hists_gen = get_distribution(\"gen\", np.linspace(0,200,61), \"pt\")\n",
    "# hists_cand = get_distribution(\"cand\", np.linspace(0,200,61), \"pt\")\n",
    "# hists_pred = get_distribution(\"pred\", np.linspace(0,200,61), \"pt\")\n",
    "\n",
    "# ax = plt.axes()\n",
    "# v1 = mplhep.histplot([h[bh.rebin(2)] for h in hists_gen], stack=True, label=[class_names[k] for k in [13,11,22,1,2,130,211]], lw=1)\n",
    "# v2 = mplhep.histplot([h[bh.rebin(2)] for h in hists_pred], stack=True, color=[x.stairs.get_edgecolor() for x in v1], lw=2, histtype=\"errorbar\")\n",
    "\n",
    "# legend1 = plt.legend(v1, [x.legend_artist.get_label() for x in v1], loc=(0.60, 0.6), title=\"true\")\n",
    "# legend2 = plt.legend(v2, [x.legend_artist.get_label() for x in v1], loc=(0.8, 0.6), title=\"pred\")\n",
    "# plt.gca().add_artist(legend1)\n",
    "# plt.ylabel(\"Total number of particles / bin\")\n",
    "# # cms_label(ax)\n",
    "# # sample_label(ax)\n",
    "\n",
    "# plt.yscale(\"log\")\n",
    "# plt.ylim(top=1e9)\n",
    "# plt.xlabel(\"PFCandidate $p_T$ [GeV]\")\n",
    "\n",
    "# plt.savefig(\"pt_true_vs_pred.pdf\", bbox_inches=\"tight\")"
   ]
  },
  {
   "cell_type": "code",
   "execution_count": null,
   "id": "eddd185e",
   "metadata": {},
   "outputs": [],
   "source": [
    "# hists_gen = get_distribution(\"gen\", np.linspace(0,2000,61), \"energy\")\n",
    "# hists_pred = get_distribution(\"pred\", np.linspace(0,2000,61), \"energy\")\n",
    "\n",
    "# ax = plt.axes()\n",
    "# v1 = mplhep.histplot([h[bh.rebin(2)] for h in hists_gen], stack=True, label=[class_names[k] for k in [13,11,22,1,2,130,211]], lw=1)\n",
    "# v2 = mplhep.histplot([h[bh.rebin(2)] for h in hists_pred], stack=True, color=[x.stairs.get_edgecolor() for x in v1], lw=2, histtype=\"errorbar\")\n",
    "\n",
    "# legend1 = plt.legend(v1, [x.legend_artist.get_label() for x in v1], loc=(0.60, 0.64), title=\"true\")\n",
    "# legend2 = plt.legend(v2, [x.legend_artist.get_label() for x in v1], loc=(0.8, 0.64), title=\"pred\")\n",
    "# plt.gca().add_artist(legend1)\n",
    "# plt.ylabel(\"Total number of particles / bin\")\n",
    "# cms_label(ax)\n",
    "# sample_label(ax)\n",
    "\n",
    "# plt.yscale(\"log\")\n",
    "# plt.ylim(top=1e9)\n",
    "# plt.xlabel(\"PFCandidate $E$ [GeV]\")\n",
    "\n",
    "# plt.savefig(\"energy_true_vs_pred.pdf\", bbox_inches=\"tight\")"
   ]
  },
  {
   "cell_type": "code",
   "execution_count": null,
   "id": "5c2da952",
   "metadata": {},
   "outputs": [],
   "source": [
    "# hists_true = get_distribution(\"gen\", np.linspace(-6,6,61), \"eta\")\n",
    "# hists_pred = get_distribution(\"pred\", np.linspace(-6,6,61), \"eta\")\n",
    "\n",
    "# ax = plt.axes()\n",
    "# v1 = mplhep.histplot([h[bh.rebin(2)] for h in hists_true], stack=True, label=[class_names[k] for k in [13,11,22,1,2,130,211]], lw=1)\n",
    "# v2 = mplhep.histplot([h[bh.rebin(2)] for h in hists_pred], stack=True, color=[x.stairs.get_edgecolor() for x in v1], lw=2, histtype=\"errorbar\")\n",
    "\n",
    "# legend1 = plt.legend(v1, [x.legend_artist.get_label() for x in v1], loc=(0.60, 0.6), title=\"PF\")\n",
    "# legend2 = plt.legend(v2, [x.legend_artist.get_label() for x in v1], loc=(0.8, 0.6), title=\"MLPF\")\n",
    "# plt.gca().add_artist(legend1)\n",
    "# plt.ylabel(\"Total number of particles / bin\")\n",
    "# cms_label(ax)\n",
    "# sample_label(ax)\n",
    "\n",
    "# plt.yscale(\"log\")\n",
    "# plt.ylim(top=2e9)\n",
    "# plt.xlabel(\"PFCandidate $\\eta$\")\n",
    "# plt.savefig(\"eta_true_vs_pred.pdf\", bbox_inches=\"tight\")"
   ]
  },
  {
   "cell_type": "code",
   "execution_count": null,
   "id": "04f61eee",
   "metadata": {
    "scrolled": false
   },
   "outputs": [],
   "source": [
    "for icls in range(1, 8):\n",
    "    # Plot the particle multiplicities\n",
    "    npred = np.sum(yvals[\"pred_cls_id\"] == icls, axis=1)\n",
    "    ngen = np.sum(yvals[\"gen_cls_id\"] == icls, axis=1)\n",
    "    ncand = np.sum(yvals[\"cand_cls_id\"] == icls, axis=1)\n",
    "    fig = plt.figure()\n",
    "    ax = plt.axes()\n",
    "    plt.scatter(ngen, ncand, marker=\".\", alpha=0.4, label=\"PF\")\n",
    "    plt.scatter(ngen, npred, marker=\".\", alpha=0.4, label=\"MLPF\")\n",
    "    a = 0.5 * min(np.min(npred), np.min(ngen))\n",
    "    b = 1.5 * max(np.max(npred), np.max(ngen))\n",
    "    plt.xlim(a, b)\n",
    "    plt.ylim(a, b)\n",
    "    plt.plot([a, b], [a, b], color=\"black\", ls=\"--\")\n",
    "    plt.xlabel(\"number of truth particles\")\n",
    "    plt.ylabel(\"number of reconstructed particles\")\n",
    "    plt.legend(loc=4)\n",
    "    cms_label(ax)\n",
    "    sample_label(ax, physics_process, \", \" + CLASS_NAMES_CMS[icls])\n",
    "    plt.savefig(\"{}/num_cls{}.pdf\".format(outpath, icls), bbox_inches=\"tight\")\n",
    "\n",
    "    # Plot the sum of particle energies\n",
    "    msk = yvals[\"gen_cls_id\"][:, :, 0] == icls\n",
    "    vals_gen = np.sum(np.ma.MaskedArray(yvals[\"gen_energy\"], ~msk), axis=1)[:, 0]\n",
    "    msk = yvals[\"pred_cls_id\"][:, :, 0] == icls\n",
    "    vals_pred = np.sum(np.ma.MaskedArray(yvals[\"pred_energy\"], ~msk), axis=1)[:, 0]\n",
    "    msk = yvals[\"cand_cls_id\"][:, :, 0] == icls\n",
    "    vals_cand = np.sum(np.ma.MaskedArray(yvals[\"cand_energy\"], ~msk), axis=1)[:, 0]\n",
    "    fig = plt.figure()\n",
    "    ax = plt.axes()\n",
    "    plt.scatter(vals_gen, vals_cand, alpha=0.2)\n",
    "    plt.scatter(vals_gen, vals_pred, alpha=0.2)\n",
    "    minval = min(np.min(vals_gen), np.min(vals_cand), np.min(vals_pred))\n",
    "    maxval = max(np.max(vals_gen), np.max(vals_cand), np.max(vals_pred))\n",
    "    plt.plot([minval, maxval], [minval, maxval], color=\"black\")\n",
    "    plt.xlim(minval, maxval)\n",
    "    plt.ylim(minval, maxval)\n",
    "    plt.xlabel(\"true $\\sum E$ [GeV]\")\n",
    "    plt.xlabel(\"reconstructed $\\sum E$ [GeV]\")\n",
    "    cms_label(ax)\n",
    "    sample_label(ax, physics_process, \", \" + CLASS_NAMES_CMS[icls])\n",
    "    plt.savefig(\"{}/energy_cls{}.pdf\".format(outpath, icls), bbox_inches=\"tight\")"
   ]
  },
  {
   "cell_type": "code",
   "execution_count": null,
   "id": "aaf45d33",
   "metadata": {},
   "outputs": [],
   "source": [
    "# def plot_elem_energy_cls_prob(elem_type):\n",
    "#     plt.figure(figsize=(4*5,2*4))\n",
    "#     plt.suptitle(\"PFElement type {}\".format(elem_type))\n",
    "\n",
    "#     for icls in range(8):\n",
    "#         plt.subplot(2,4,icls+1)\n",
    "#         plt.hist2d(\n",
    "#             np.log10(X_f[X_f[:, 0]==elem_type, 4]),\n",
    "#             ypred_raw_f[X_f[:, 0]==elem_type, icls],\n",
    "#             bins=(np.linspace(-2,4,100), np.linspace(0,1,100)), cmap=\"Blues\");\n",
    "#         plt.colorbar()\n",
    "#         plt.xlabel(\"PFElement log[E/GeV]\")\n",
    "#         plt.ylabel(\"MLPF probability for class {}\".format(icls))\n",
    "#     plt.tight_layout()"
   ]
  },
  {
   "cell_type": "code",
   "execution_count": null,
   "id": "9a1ac40c",
   "metadata": {},
   "outputs": [],
   "source": [
    "?h1.fill"
   ]
  },
  {
   "cell_type": "code",
   "execution_count": null,
   "id": "f40ca0db",
   "metadata": {},
   "outputs": [],
   "source": [
    "?bh.storage.Weight"
   ]
  },
  {
   "cell_type": "code",
   "execution_count": null,
   "id": "caace319",
   "metadata": {},
   "outputs": [],
   "source": [
    "h1 = bh.Histogram(bh.axis.Variable(np.linspace(-1, 1, 100)))\n",
    "h1.fill(np.random.normal(size=1000), weight=np.ones(1000))\n",
    "\n",
    "h2 = bh.Histogram(bh.axis.Variable(np.linspace(-1, 1, 100)))\n",
    "h2.fill(np.random.normal(size=1000), weight=np.ones(1000))\n",
    "\n",
    "hdiv = bh.Histogram(bh.axis.Variable(np.linspace(-1, 1, 100)), storage=bh.storage.Weight())"
   ]
  },
  {
   "cell_type": "code",
   "execution_count": null,
   "id": "2c7be6e7",
   "metadata": {},
   "outputs": [],
   "source": [
    "hdiv.variances()[:] = np.sqrt(h1) / h2\n",
    "hdiv.values()[:] = h1.values() / h2.values()"
   ]
  },
  {
   "cell_type": "code",
   "execution_count": null,
   "id": "b315d5df",
   "metadata": {},
   "outputs": [],
   "source": [
    "def binom_error(n_sig, n_tot):\n",
    "    \"\"\"\n",
    "    for an efficiency = nSig/nTrueSig or purity = nSig / (nSig + nBckgrd), this function calculates the\n",
    "    standard deviation according to http://arxiv.org/abs/physics/0701199 .\n",
    "    \"\"\"\n",
    "    variance = np.where(\n",
    "        n_tot > 0, (n_sig + 1) * (n_sig + 2) / ((n_tot + 2) * (n_tot + 3)) - (n_sig + 1) ** 2 / ((n_tot + 2) ** 2), 0\n",
    "    )\n",
    "    return np.sqrt(variance)"
   ]
  },
  {
   "cell_type": "code",
   "execution_count": null,
   "id": "1e49c261",
   "metadata": {},
   "outputs": [],
   "source": [
    "def plot_eff_and_fake_rate(icls=1, ivar=4, ielem=1, bins=np.linspace(-3, 6, 100), xlabel=\"PFElement log[E/GeV]\", log=True):\n",
    "\n",
    "    values = X_f[:, ivar]\n",
    "\n",
    "    hist_X = bh.Histogram(bh.axis.Variable(bins))\n",
    "    hist_gen = bh.Histogram(bh.axis.Variable(bins))\n",
    "    hist_gen_pred = bh.Histogram(bh.axis.Variable(bins))\n",
    "    hist_gen_cand = bh.Histogram(bh.axis.Variable(bins))\n",
    "    hist_pred = bh.Histogram(bh.axis.Variable(bins))\n",
    "    hist_cand = bh.Histogram(bh.axis.Variable(bins))\n",
    "    hist_pred_fake = bh.Histogram(bh.axis.Variable(bins))\n",
    "    hist_cand_fake = bh.Histogram(bh.axis.Variable(bins))\n",
    "\n",
    "    eff_mlpf = bh.Histogram(bh.axis.Variable(bins), storage=bh.storage.Weight())\n",
    "    eff_pf = bh.Histogram(bh.axis.Variable(bins), storage=bh.storage.Weight())\n",
    "    fake_pf = bh.Histogram(bh.axis.Variable(bins), storage=bh.storage.Weight())\n",
    "    fake_mlpf = bh.Histogram(bh.axis.Variable(bins), storage=bh.storage.Weight())\n",
    "\n",
    "    hist_X.fill(values[(X_f[:, 0] == ielem)])\n",
    "    hist_gen.fill(values[(yvals_f[\"gen_cls_id\"] == icls) & (X_f[:, 0] == ielem)])\n",
    "\n",
    "    hist_gen_pred.fill(values[(yvals_f[\"gen_cls_id\"] == icls) & (yvals_f[\"pred_cls_id\"] == icls) & (X_f[:, 0] == ielem)])\n",
    "    hist_gen_cand.fill(values[(yvals_f[\"gen_cls_id\"] == icls) & (yvals_f[\"cand_cls_id\"] == icls) & (X_f[:, 0] == ielem)])\n",
    "\n",
    "    hist_pred.fill(values[(yvals_f[\"pred_cls_id\"] == icls) & (X_f[:, 0] == ielem)])\n",
    "    hist_cand.fill(values[(yvals_f[\"cand_cls_id\"] == icls) & (X_f[:, 0] == ielem)])\n",
    "    hist_pred_fake.fill(values[(yvals_f[\"gen_cls_id\"] != icls) & (yvals_f[\"pred_cls_id\"] == icls) & (X_f[:, 0] == ielem)])\n",
    "    hist_cand_fake.fill(values[(yvals_f[\"gen_cls_id\"] != icls) & (yvals_f[\"cand_cls_id\"] == icls) & (X_f[:, 0] == ielem)])\n",
    "\n",
    "    eff_mlpf.values()[:] = hist_gen_pred.values() / hist_gen.values()\n",
    "    eff_mlpf.variances()[:] = binom_error(hist_gen_pred.values(), hist_gen.values()) ** 2\n",
    "\n",
    "    eff_pf.values()[:] = hist_gen_cand.values() / hist_gen.values()\n",
    "    eff_pf.variances()[:] = binom_error(hist_gen_cand.values(), hist_gen.values()) ** 2\n",
    "\n",
    "    fake_pf.values()[:] = hist_cand_fake.values() / hist_cand.values()\n",
    "    fake_pf.variances()[:] = binom_error(hist_cand_fake.values(), hist_cand.values()) ** 2\n",
    "\n",
    "    fake_mlpf.values()[:] = hist_pred_fake.values() / hist_pred.values()\n",
    "    fake_mlpf.variances()[:] = binom_error(hist_pred_fake.values(), hist_pred.values()) ** 2\n",
    "\n",
    "    plt.figure()\n",
    "    ax = plt.axes()\n",
    "    mplhep.histplot(hist_X, label=\"all PFElements\", color=\"black\")\n",
    "    mplhep.histplot(hist_cand, label=\"with PF\")\n",
    "    mplhep.histplot(hist_pred, label=\"with MLPF reco\")\n",
    "    mplhep.histplot(hist_gen, label=\"with MLPF truth\")\n",
    "    plt.ylabel(\"Number of PFElements / bin\")\n",
    "    plt.xlabel(xlabel)\n",
    "    cms_label(ax)\n",
    "    plt.yscale(\"log\")\n",
    "    sample_label(ax, physics_process, \", \" + CLASS_NAMES_CMS[icls])\n",
    "    if log:\n",
    "        plt.xscale(\"log\")\n",
    "    plt.legend(loc=(0.6, 0.65))\n",
    "    plt.ylim(10, 20 * np.max(hist_X.values()))\n",
    "    plt.xlim(min(bins), max(bins))\n",
    "    plt.savefig(\"{}/distr_icls{}_ivar{}.pdf\".format(outpath, icls, ivar), bbox_inches=\"tight\")\n",
    "\n",
    "    plt.figure()\n",
    "    ax = plt.axes(sharex=ax)\n",
    "    mplhep.histplot(eff_pf, label=\"PF\")\n",
    "    mplhep.histplot(eff_mlpf, label=\"MLPF\")\n",
    "    plt.ylim(0, 1.5)\n",
    "    plt.ylabel(\"Efficiency\")\n",
    "    plt.xlabel(xlabel)\n",
    "    cms_label(ax)\n",
    "    sample_label(ax, physics_process, \", \" + CLASS_NAMES_CMS[icls])\n",
    "    if log:\n",
    "        plt.xscale(\"log\")\n",
    "    plt.legend(loc=(0.75, 0.7))\n",
    "    plt.xlim(min(bins), max(bins))\n",
    "    plt.savefig(\"{}/eff_icls{}_ivar{}.pdf\".format(outpath, icls, ivar), bbox_inches=\"tight\")\n",
    "\n",
    "    plt.figure()\n",
    "    ax = plt.axes(sharex=ax)\n",
    "    mplhep.histplot(fake_pf, label=\"PF\")\n",
    "    mplhep.histplot(fake_mlpf, label=\"MLPF\")\n",
    "    plt.ylim(0, 1.5)\n",
    "    plt.ylabel(\"Fake rate\")\n",
    "    plt.xlabel(xlabel)\n",
    "    cms_label(ax)\n",
    "    sample_label(ax, physics_process, \", \" + CLASS_NAMES_CMS[icls])\n",
    "    if log:\n",
    "        plt.xscale(\"log\")\n",
    "    plt.legend(loc=(0.75, 0.7))\n",
    "    plt.xlim(min(bins), max(bins))\n",
    "    plt.savefig(\"{}/fake_icls{}_ivar{}.pdf\".format(outpath, icls, ivar), bbox_inches=\"tight\")\n",
    "\n",
    "    # mplhep.histplot(fake, bins=hist_gen[1], label=\"fake rate\", color=\"red\")\n",
    "\n",
    "\n",
    "#     plt.legend(frameon=False)\n",
    "#     plt.ylim(0,1.4)\n",
    "#     plt.xlabel(xlabel)\n",
    "#     plt.ylabel(\"Fraction of particles / bin\")"
   ]
  },
  {
   "cell_type": "code",
   "execution_count": null,
   "id": "2c8bc9a9",
   "metadata": {
    "scrolled": false
   },
   "outputs": [],
   "source": [
    "plot_eff_and_fake_rate(icls=1, ivar=1, ielem=1, bins=np.logspace(-1, 2, 41), xlabel=\"track $p_T$ [GeV]\", log=True)"
   ]
  },
  {
   "cell_type": "code",
   "execution_count": null,
   "id": "40f9f684",
   "metadata": {
    "scrolled": false
   },
   "outputs": [],
   "source": [
    "plot_eff_and_fake_rate(icls=2, ivar=4, ielem=5, bins=np.logspace(0, 3, 41), xlabel=\"calorimeter cluster E [GeV]\", log=True)"
   ]
  },
  {
   "cell_type": "code",
   "execution_count": null,
   "id": "8b2ccb22",
   "metadata": {
    "scrolled": false
   },
   "outputs": [],
   "source": [
    "plot_eff_and_fake_rate(icls=3, ivar=4, ielem=9, bins=np.logspace(0, 3, 41), xlabel=\"PFElement E [GeV]\", log=True)"
   ]
  },
  {
   "cell_type": "code",
   "execution_count": null,
   "id": "09e003b6",
   "metadata": {
    "scrolled": false
   },
   "outputs": [],
   "source": [
    "plot_eff_and_fake_rate(icls=4, ivar=4, ielem=8, bins=np.logspace(0, 3, 41), xlabel=\"PFElement E [GeV]\", log=True)"
   ]
  },
  {
   "cell_type": "code",
   "execution_count": null,
   "id": "b683b035",
   "metadata": {
    "scrolled": false
   },
   "outputs": [],
   "source": [
    "plot_eff_and_fake_rate(icls=5, ivar=4, ielem=4, bins=np.logspace(-1, 4, 41), xlabel=\"PFElement E [GeV]\", log=True)"
   ]
  },
  {
   "cell_type": "code",
   "execution_count": null,
   "id": "79d97479",
   "metadata": {
    "scrolled": false
   },
   "outputs": [],
   "source": [
    "plot_eff_and_fake_rate(icls=6, ivar=1, ielem=6, bins=np.logspace(0, 2, 41), xlabel=\"PFElement E [GeV]\", log=True)"
   ]
  },
  {
   "cell_type": "code",
   "execution_count": null,
   "id": "152460b5",
   "metadata": {
    "scrolled": false
   },
   "outputs": [],
   "source": [
    "plot_eff_and_fake_rate(icls=7, ivar=1, ielem=1, bins=np.logspace(0, 2, 41), xlabel=\"PFElement $p_T$ [GeV]\", log=True)"
   ]
  },
  {
   "cell_type": "code",
   "execution_count": null,
   "id": "f6407e23",
   "metadata": {},
   "outputs": [],
   "source": [
    "def load_history(path, min_epoch=None, max_epoch=None):\n",
    "    ret = {}\n",
    "    for fi in glob.glob(path):\n",
    "        data = json.load(open(fi))\n",
    "        epoch = int(fi.split(\"_\")[-1].split(\".\")[0])\n",
    "        ret[epoch] = data\n",
    "\n",
    "    if not max_epoch:\n",
    "        max_epoch = max(ret.keys())\n",
    "    if not min_epoch:\n",
    "        min_epoch = min(ret.keys())\n",
    "\n",
    "    ret2 = []\n",
    "    for i in range(min_epoch, max_epoch + 1):\n",
    "        ret2.append(ret[i])\n",
    "    return pandas.DataFrame(ret2)"
   ]
  },
  {
   "cell_type": "code",
   "execution_count": null,
   "id": "4b2fefac",
   "metadata": {},
   "outputs": [],
   "source": [
    "history = load_history(path + \"/../../../history/history_*.json\")"
   ]
  },
  {
   "cell_type": "code",
   "execution_count": null,
   "id": "79615559",
   "metadata": {},
   "outputs": [],
   "source": [
    "history.keys()"
   ]
  },
  {
   "cell_type": "code",
   "execution_count": null,
   "id": "1463cc53",
   "metadata": {},
   "outputs": [],
   "source": [
    "def loss_plot(train, test, margin=0.05, smoothing=False):\n",
    "    fig = plt.figure()\n",
    "    ax = plt.axes()\n",
    "\n",
    "    alpha = 0.2 if smoothing else 1.0\n",
    "    l0 = None if smoothing else \"train\"\n",
    "    l1 = None if smoothing else \"test\"\n",
    "    p0 = plt.plot(train, alpha=alpha, label=l0)\n",
    "    p1 = plt.plot(test, alpha=alpha, label=l1)\n",
    "\n",
    "    if smoothing:\n",
    "        train_smooth = np.convolve(train, np.ones(5) / 5, mode=\"valid\")\n",
    "        plt.plot(train_smooth, color=p0[0].get_color(), lw=2, label=\"train\")\n",
    "        test_smooth = np.convolve(test, np.ones(5) / 5, mode=\"valid\")\n",
    "        plt.plot(test_smooth, color=p1[0].get_color(), lw=2, label=\"test\")\n",
    "\n",
    "    plt.ylim(test[-1] * (1.0 - margin), test[-1] * (1.0 + margin))\n",
    "    plt.legend(loc=3, frameon=False)\n",
    "    plt.xlabel(\"epoch\")\n",
    "    cms_label(ax)"
   ]
  },
  {
   "cell_type": "code",
   "execution_count": null,
   "id": "84949a51",
   "metadata": {},
   "outputs": [],
   "source": [
    "p0 = loss_plot(history[\"loss\"].values, history[\"val_loss\"].values, margin=0.1)\n",
    "plt.ylabel(\"Total loss\")\n",
    "plt.savefig(\"{}/loss.pdf\".format(outpath), bbox_inches=\"tight\")"
   ]
  },
  {
   "cell_type": "code",
   "execution_count": null,
   "id": "34f5c4d6",
   "metadata": {},
   "outputs": [],
   "source": [
    "p0 = loss_plot(history[\"cls_loss\"].values, history[\"val_cls_loss\"].values, margin=0.1)\n",
    "plt.ylabel(\"Multiclassification loss\")\n",
    "plt.savefig(\"{}/cls_loss.pdf\".format(outpath), bbox_inches=\"tight\")"
   ]
  },
  {
   "cell_type": "code",
   "execution_count": null,
   "id": "03551b47",
   "metadata": {},
   "outputs": [],
   "source": [
    "reg_loss = sum([history[\"{}_loss\".format(l)].values for l in [\"energy\", \"pt\", \"eta\", \"sin_phi\", \"cos_phi\", \"charge\"]])\n",
    "val_reg_loss = sum(\n",
    "    [history[\"val_{}_loss\".format(l)].values for l in [\"energy\", \"pt\", \"eta\", \"sin_phi\", \"cos_phi\", \"charge\"]]\n",
    ")\n",
    "p0 = loss_plot(reg_loss, val_reg_loss, margin=0.2)\n",
    "plt.ylabel(\"Regression loss\")\n",
    "plt.savefig(\"{}/reg_loss.pdf\".format(outpath), bbox_inches=\"tight\")"
   ]
  },
  {
   "cell_type": "code",
   "execution_count": null,
   "id": "61d59797",
   "metadata": {},
   "outputs": [],
   "source": [
    "if \"pt_e_eta_phi_loss\" in history.keys():\n",
    "    reg_loss = sum([history[\"{}_loss\".format(l)].values for l in [\"pt_e_eta_phi\"]])\n",
    "    val_reg_loss = sum([history[\"val_{}_loss\".format(l)].values for l in [\"pt_e_eta_phi\"]])\n",
    "    p0 = loss_plot(reg_loss, val_reg_loss, margin=0.1)\n",
    "    plt.ylabel(\"Event loss\")\n",
    "    plt.savefig(\"{}/event_loss.pdf\".format(outpath), bbox_inches=\"tight\")"
   ]
  },
  {
   "cell_type": "code",
   "execution_count": null,
   "id": "dd453417",
   "metadata": {},
   "outputs": [],
   "source": [
    "fig = plt.figure(figsize=(12, 12))\n",
    "ax = plt.axes()\n",
    "\n",
    "cm_norm = sklearn.metrics.confusion_matrix(\n",
    "    yvals_f[\"gen_cls_id\"][msk_X_f], yvals_f[\"pred_cls_id\"][msk_X_f], labels=range(0, len(CLASS_LABELS_CMS)), normalize=\"true\"\n",
    ")\n",
    "\n",
    "plt.imshow(cm_norm, cmap=\"Blues\", origin=\"lower\")\n",
    "plt.colorbar()\n",
    "\n",
    "\n",
    "thresh = cm_norm.max() / 1.5\n",
    "for i, j in itertools.product(range(cm_norm.shape[0]), range(cm_norm.shape[1])):\n",
    "    plt.text(\n",
    "        j,\n",
    "        i,\n",
    "        \"{:0.2f}\".format(cm_norm[i, j]),\n",
    "        horizontalalignment=\"center\",\n",
    "        color=\"white\" if cm_norm[i, j] > thresh else \"black\",\n",
    "        fontsize=12,\n",
    "    )\n",
    "\n",
    "cms_label(ax, y=1.01)\n",
    "# cms_label_sample_label(x1=0.18, x2=0.52, y=0.82)\n",
    "plt.xticks(range(len(CLASS_NAMES_CMS)), CLASS_NAMES_CMS, rotation=45)\n",
    "plt.yticks(range(len(CLASS_NAMES_CMS)), CLASS_NAMES_CMS)\n",
    "plt.xlabel(\"MLPF candidate ID\")\n",
    "plt.ylabel(\"Truth ID\")\n",
    "# plt.ylim(-0.5, 6.9)\n",
    "# plt.title(\"MLPF trained on PF\")\n",
    "plt.savefig(\"{}/cm_normed.pdf\".format(outpath), bbox_inches=\"tight\")"
   ]
  },
  {
   "cell_type": "code",
   "execution_count": null,
   "id": "33df4d7b",
   "metadata": {},
   "outputs": [],
   "source": [
    "fig = plt.figure(figsize=(12, 12))\n",
    "ax = plt.axes()\n",
    "\n",
    "cm_norm = sklearn.metrics.confusion_matrix(\n",
    "    yvals_f[\"gen_cls_id\"][msk_X_f], yvals_f[\"cand_cls_id\"][msk_X_f], labels=range(0, len(CLASS_LABELS_CMS)), normalize=\"true\"\n",
    ")\n",
    "\n",
    "plt.imshow(cm_norm, cmap=\"Blues\", origin=\"lower\")\n",
    "plt.colorbar()\n",
    "\n",
    "\n",
    "thresh = cm_norm.max() / 1.5\n",
    "for i, j in itertools.product(range(cm_norm.shape[0]), range(cm_norm.shape[1])):\n",
    "    plt.text(\n",
    "        j,\n",
    "        i,\n",
    "        \"{:0.2f}\".format(cm_norm[i, j]),\n",
    "        horizontalalignment=\"center\",\n",
    "        color=\"white\" if cm_norm[i, j] > thresh else \"black\",\n",
    "        fontsize=12,\n",
    "    )\n",
    "\n",
    "cms_label(ax, y=1.01)\n",
    "# cms_label_sample_label(x1=0.18, x2=0.52, y=0.82)\n",
    "plt.xticks(range(len(CLASS_NAMES_CMS)), CLASS_NAMES_CMS, rotation=45)\n",
    "plt.yticks(range(len(CLASS_NAMES_CMS)), CLASS_NAMES_CMS)\n",
    "plt.xlabel(\"PF candidate ID\")\n",
    "plt.ylabel(\"Truth ID\")\n",
    "# plt.ylim(-0.5, 6.9)\n",
    "# plt.title(\"MLPF trained on PF\")\n",
    "plt.savefig(\"{}/cm_normed_pf.pdf\".format(outpath), bbox_inches=\"tight\")"
   ]
  },
  {
   "cell_type": "code",
   "execution_count": null,
   "id": "78113cd0",
   "metadata": {},
   "outputs": [],
   "source": [
    "# cm = sklearn.metrics.confusion_matrix(\n",
    "#     X_f[:, 0][msk_X_f],\n",
    "#     yvals_f[\"gen_cls_id\"][msk_X_f],\n",
    "#     labels=range(0,12),\n",
    "# )\n",
    "# plt.imshow(cm, cmap=\"Blues\", norm=matplotlib.colors.LogNorm(), origin=\"lower\")\n",
    "# plt.xticks(range(len(CLASS_NAMES_CMS)), CLASS_NAMES_CMS, rotation=45)\n",
    "# plt.yticks(range(len(ELEM_NAMES_CMS)), ELEM_NAMES_CMS)\n",
    "# plt.xlim(-0.5, len(CLASS_NAMES_CMS)-0.5)\n",
    "# plt.ylim(0.5, len(ELEM_NAMES_CMS)-0.5)\n",
    "# plt.title(\"Truth\")"
   ]
  },
  {
   "cell_type": "code",
   "execution_count": null,
   "id": "9695ebd5",
   "metadata": {},
   "outputs": [],
   "source": [
    "# cm = sklearn.metrics.confusion_matrix(\n",
    "#     X_f[:, 0][msk_X_f],\n",
    "#     yvals_f[\"cand_cls_id\"][msk_X_f],\n",
    "#     labels=range(0,12),\n",
    "# )\n",
    "# plt.imshow(cm, cmap=\"Blues\", norm=matplotlib.colors.LogNorm(), origin=\"lower\")\n",
    "# plt.xticks(range(len(CLASS_NAMES_CMS)), CLASS_NAMES_CMS, rotation=45)\n",
    "# plt.yticks(range(len(ELEM_NAMES_CMS)), ELEM_NAMES_CMS)\n",
    "# plt.xlim(-0.5, len(CLASS_NAMES_CMS)-0.5)\n",
    "# plt.title(\"PF\")"
   ]
  },
  {
   "cell_type": "code",
   "execution_count": null,
   "id": "d2a92585",
   "metadata": {},
   "outputs": [],
   "source": [
    "# cm = sklearn.metrics.confusion_matrix(\n",
    "#     X_f[:, 0][msk_X_f],\n",
    "#     yvals_f[\"pred_cls_id\"][msk_X_f],\n",
    "#     labels=range(0,12),\n",
    "# )\n",
    "# plt.imshow(cm, cmap=\"Blues\", norm=matplotlib.colors.LogNorm(), origin=\"lower\")\n",
    "# plt.xticks(range(len(CLASS_NAMES_CMS)), CLASS_NAMES_CMS, rotation=45)\n",
    "# plt.yticks(range(len(ELEM_NAMES_CMS)), ELEM_NAMES_CMS)\n",
    "# plt.xlim(-0.5, len(CLASS_NAMES_CMS)-0.5)\n",
    "# plt.title(\"MLPF\")"
   ]
  },
  {
   "cell_type": "code",
   "execution_count": null,
   "id": "ab251eac",
   "metadata": {
    "scrolled": false
   },
   "outputs": [],
   "source": [
    "for icls in range(0, 8):\n",
    "    fig, axs = plt.subplots(\n",
    "        2, 2, figsize=(2 * mplhep.styles.CMS[\"figure.figsize\"][0], 2 * mplhep.styles.CMS[\"figure.figsize\"][1])\n",
    "    )\n",
    "\n",
    "    for ax, ivar in zip(axs.flatten(), [\"pt\", \"energy\", \"eta\", \"phi\"]):\n",
    "\n",
    "        plt.sca(ax)\n",
    "\n",
    "        if icls == 0:\n",
    "            vals_true = yvals_f[\"gen_\" + ivar][yvals_f[\"gen_cls_id\"] != 0]\n",
    "            vals_pf = yvals_f[\"cand_\" + ivar][yvals_f[\"cand_cls_id\"] != 0]\n",
    "            vals_pred = yvals_f[\"pred_\" + ivar][yvals_f[\"pred_cls_id\"] != 0]\n",
    "        else:\n",
    "            vals_true = yvals_f[\"gen_\" + ivar][yvals_f[\"gen_cls_id\"] == icls]\n",
    "            vals_pf = yvals_f[\"cand_\" + ivar][yvals_f[\"cand_cls_id\"] == icls]\n",
    "            vals_pred = yvals_f[\"pred_\" + ivar][yvals_f[\"pred_cls_id\"] == icls]\n",
    "\n",
    "        if ivar == \"pt\" or ivar == \"energy\":\n",
    "            b = np.logspace(-3, 4, 61)\n",
    "            log = True\n",
    "        else:\n",
    "            b = np.linspace(np.min(vals_true), np.max(vals_true), 41)\n",
    "            log = False\n",
    "\n",
    "        plt.hist(vals_true, bins=b, histtype=\"step\", lw=2, label=\"gen\", color=\"black\")\n",
    "        plt.hist(vals_pf, bins=b, histtype=\"step\", lw=2, label=\"PF\")\n",
    "        plt.hist(vals_pred, bins=b, histtype=\"step\", lw=2, label=\"MLPF\")\n",
    "        plt.legend(loc=(0.75, 0.75))\n",
    "\n",
    "        ylim = ax.get_ylim()\n",
    "\n",
    "        cls_name = CLASS_NAMES_CMS[icls] if icls > 0 else \"all\"\n",
    "        plt.xlabel(\"{} {}\".format(cls_name, ivar))\n",
    "\n",
    "        plt.yscale(\"log\")\n",
    "        plt.ylim(10, 10 * ylim[1])\n",
    "\n",
    "        if log:\n",
    "            plt.xscale(\"log\")\n",
    "        cms_label(ax)\n",
    "\n",
    "    plt.tight_layout()\n",
    "    plt.savefig(\"{}/distribution_icls{}.pdf\".format(outpath, icls), bbox_inches=\"tight\")"
   ]
  },
  {
   "cell_type": "code",
   "execution_count": null,
   "id": "9a69e115",
   "metadata": {},
   "outputs": [],
   "source": [
    "# def plot_particle_regression(\n",
    "#     ivar=\"energy\", icls=2,\n",
    "#     particle_label=\"Neutral hadrons\",\n",
    "#     log=True,\n",
    "#     minval=-1,\n",
    "#     maxval=3,\n",
    "#     norm=matplotlib.colors.LogNorm()):\n",
    "\n",
    "#     plt.figure(figsize=(8,7))\n",
    "#     ax = plt.axes()\n",
    "\n",
    "#     bins = np.linspace(minval, maxval, 100)\n",
    "#     msk_both = (yvals_f[\"pred_cls_id\"] == icls) & (yvals_f[\"gen_cls_id\"]==icls)\n",
    "\n",
    "#     vals_true = yvals_f[\"gen_\"+ivar][msk_both]\n",
    "#     vals_pred = yvals_f[\"pred_\"+ivar][msk_both]\n",
    "\n",
    "#     if log:\n",
    "#         vals_true = np.log10(vals_true)\n",
    "#         vals_pred = np.log10(vals_pred)\n",
    "\n",
    "#     plt.hist2d(\n",
    "#         vals_true,\n",
    "#         vals_pred,\n",
    "#         bins=(bins, bins),\n",
    "#         cmap=\"Blues\", norm=norm\n",
    "#     )\n",
    "\n",
    "#     plt.colorbar()\n",
    "#     plt.plot([minval, maxval], [minval, maxval], color=\"black\", ls=\"--\", lw=0.5)\n",
    "#     plt.xlim(minval, maxval)\n",
    "#     plt.ylim(minval, maxval)\n",
    "#     #cms_label(ax)\n",
    "#     #plt.text(0.02, 0.94, particle_label, transform=ax.transAxes)\n",
    "#     ax.set_xticks(ax.get_yticks());"
   ]
  },
  {
   "cell_type": "code",
   "execution_count": null,
   "id": "3b5b3070",
   "metadata": {},
   "outputs": [],
   "source": [
    "# plot_particle_regression(ivar=\"energy\", icls=1, particle_label=\"Charged hadrons\")\n",
    "# plt.xlabel(\"PFCandidate $\\log_{10}$ E/GeV\")\n",
    "# plt.ylabel(\"MLPFCandidate $\\log_{10}$ E/GeV\")\n",
    "# plt.savefig(\"energy_corr_cls1_log.pdf\", bbox_inches=\"tight\")\n",
    "# plt.savefig(\"energy_corr_cls1_log.png\", bbox_inches=\"tight\", dpi=300)"
   ]
  },
  {
   "cell_type": "code",
   "execution_count": null,
   "id": "b8b5860b",
   "metadata": {},
   "outputs": [],
   "source": [
    "# plot_particle_regression(ivar=\"energy\", icls=2, particle_label=\"Neutral hadrons\")\n",
    "# plt.xlabel(\"PFCandidate $\\log_{10}$ E/GeV\")\n",
    "# plt.ylabel(\"MLPFCandidate $\\log_{10}$ E/GeV\")\n",
    "# plt.savefig(\"energy_corr_cls2_log.pdf\", bbox_inches=\"tight\")\n",
    "# plt.savefig(\"energy_corr_cls2_log.png\", bbox_inches=\"tight\", dpi=300)"
   ]
  },
  {
   "cell_type": "code",
   "execution_count": null,
   "id": "edd44380",
   "metadata": {},
   "outputs": [],
   "source": [
    "# plot_particle_regression(ivar=\"eta\", icls=1, particle_label=\"Charged hadrons\", log=False, minval=-4, maxval=4)\n",
    "# plt.xlabel(\"PFCandidate $\\eta$\")\n",
    "# plt.ylabel(\"MLPFCandidate $\\eta$\")\n",
    "# plt.savefig(\"eta_corr_cls1_log.pdf\", bbox_inches=\"tight\")\n",
    "# plt.savefig(\"eta_corr_cls1_log.png\", bbox_inches=\"tight\", dpi=300)"
   ]
  },
  {
   "cell_type": "code",
   "execution_count": null,
   "id": "27ccacef",
   "metadata": {},
   "outputs": [],
   "source": [
    "# plot_particle_regression(ivar=\"eta\", icls=2, particle_label=\"Neutral hadrons\", log=False, minval=-4, maxval=4)\n",
    "# plt.xlabel(\"PFCandidate $\\eta$\")\n",
    "# plt.ylabel(\"MLPFCandidate $\\eta$\")\n",
    "# plt.savefig(\"eta_corr_cls2_log.pdf\", bbox_inches=\"tight\")\n",
    "# plt.savefig(\"eta_corr_cls2_log.png\", bbox_inches=\"tight\", dpi=300)"
   ]
  },
  {
   "cell_type": "code",
   "execution_count": null,
   "id": "4a96ea48",
   "metadata": {},
   "outputs": [],
   "source": [
    "# plot_particle_regression(ivar=\"energy\", icls=3, particle_label=\"HFEM\", minval=0.0, maxval=4)\n",
    "# plt.xlabel(\"PFCandidate $\\log_{10}$ E/GeV\")\n",
    "# plt.ylabel(\"MLPFCandidate $\\log_{10}$ E/GeV\")\n",
    "# plt.savefig(\"energy_corr_cls3_log.pdf\", bbox_inches=\"tight\")\n",
    "# plt.savefig(\"energy_corr_cls3_log.png\", bbox_inches=\"tight\", dpi=300)"
   ]
  },
  {
   "cell_type": "code",
   "execution_count": null,
   "id": "c2a30d1b",
   "metadata": {},
   "outputs": [],
   "source": [
    "# plot_particle_regression(ivar=\"energy\", icls=4, particle_label=\"HFHAD\", minval=0.0, maxval=4)\n",
    "# plt.xlabel(\"PFCandidate $\\log_{10}$ E/GeV\")\n",
    "# plt.ylabel(\"MLPFCandidate $\\log_{10}$ E/GeV\")\n",
    "# plt.savefig(\"energy_corr_cls4_log.pdf\", bbox_inches=\"tight\")\n",
    "# plt.savefig(\"energy_corr_cls4_log.png\", bbox_inches=\"tight\", dpi=300)"
   ]
  },
  {
   "cell_type": "code",
   "execution_count": null,
   "id": "4416ae9a",
   "metadata": {},
   "outputs": [],
   "source": [
    "# plot_particle_regression(ivar=\"energy\", icls=5, particle_label=\"gamma\", minval=0.0, maxval=4)\n",
    "# plt.xlabel(\"PFCandidate $\\log_{10}$ E/GeV\")\n",
    "# plt.ylabel(\"MLPFCandidate $\\log_{10}$ E/GeV\")\n",
    "# plt.savefig(\"energy_corr_cls5_log.pdf\", bbox_inches=\"tight\")\n",
    "# plt.savefig(\"energy_corr_cls5_log.png\", bbox_inches=\"tight\", dpi=300)"
   ]
  },
  {
   "cell_type": "code",
   "execution_count": null,
   "id": "4a6b32a4",
   "metadata": {},
   "outputs": [],
   "source": [
    "# plot_particle_regression(ivar=\"energy\", icls=6, particle_label=\"e\", minval=0.0, maxval=4)\n",
    "# plt.xlabel(\"PFCandidate $\\log_{10}$ E/GeV\")\n",
    "# plt.ylabel(\"MLPFCandidate $\\log_{10}$ E/GeV\")\n",
    "# plt.savefig(\"energy_corr_cls6_log.pdf\", bbox_inches=\"tight\")\n",
    "# plt.savefig(\"energy_corr_cls6_log.png\", bbox_inches=\"tight\", dpi=300)"
   ]
  },
  {
   "cell_type": "code",
   "execution_count": null,
   "id": "1f047c1c",
   "metadata": {},
   "outputs": [],
   "source": [
    "# plot_particle_regression(ivar=\"energy\", icls=7, particle_label=\"mu\", minval=0.0, maxval=4)\n",
    "# plt.xlabel(\"PFCandidate $\\log_{10}$ E/GeV\")\n",
    "# plt.ylabel(\"MLPFCandidate $\\log_{10}$ E/GeV\")\n",
    "# plt.savefig(\"energy_corr_cls7_log.pdf\", bbox_inches=\"tight\")\n",
    "# plt.savefig(\"energy_corr_cls7_log.png\", bbox_inches=\"tight\", dpi=300)"
   ]
  }
 ],
 "metadata": {
  "celltoolbar": "Tags",
  "kernelspec": {
   "display_name": "Python 3",
   "language": "python",
   "name": "python3"
  },
  "language_info": {
   "codemirror_mode": {
    "name": "ipython",
    "version": 3
   },
   "file_extension": ".py",
   "mimetype": "text/x-python",
   "name": "python",
   "nbconvert_exporter": "python",
   "pygments_lexer": "ipython3",
   "version": "3.8.10"
  }
 },
 "nbformat": 4,
 "nbformat_minor": 5
}
