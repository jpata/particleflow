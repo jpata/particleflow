{
 "cells": [
  {
   "cell_type": "code",
   "execution_count": null,
   "id": "impressive-ethiopia",
   "metadata": {},
   "outputs": [],
   "source": [
    "import pandas as pd\n",
    "import json\n",
    "import glob\n",
    "import matplotlib.pyplot as plt\n",
    "import numpy as np\n",
    "\n",
    "import sklearn\n",
    "import sklearn.metrics\n",
    "import matplotlib\n",
    "import scipy\n",
    "import mplhep\n",
    "\n",
    "import pandas"
   ]
  },
  {
   "cell_type": "code",
   "execution_count": null,
   "id": "statistical-ordering",
   "metadata": {},
   "outputs": [],
   "source": [
    "def flatten(arr):\n",
    "    return arr.reshape((arr.shape[0]*arr.shape[1], arr.shape[2]))"
   ]
  },
  {
   "cell_type": "code",
   "execution_count": null,
   "id": "visible-destruction",
   "metadata": {},
   "outputs": [],
   "source": [
    "def cms_label(x0=0.12, x1=0.23, x2=0.67, y=0.90):\n",
    "    plt.figtext(x0, y,'CMS',fontweight='bold', wrap=True, horizontalalignment='left', fontsize=12)\n",
    "    plt.figtext(x1, y,'Simulation Preliminary', style='italic', wrap=True, horizontalalignment='left', fontsize=10)\n",
    "    plt.figtext(x2, y,'Run 3 (14 TeV), $\\mathrm{t}\\overline{\\mathrm{t}}$ events',  wrap=False, horizontalalignment='left', fontsize=10)\n",
    "\n",
    "def sample_label(ax, x=0.03, y=0.98):\n",
    "    plt.text(x, y, \"$\\mathrm{t}\\overline{\\mathrm{t}}$ events\", va=\"top\", ha=\"left\", size=10, transform=ax.transAxes)\n"
   ]
  },
  {
   "cell_type": "code",
   "execution_count": null,
   "id": "undefined-judges",
   "metadata": {},
   "outputs": [],
   "source": [
    "def apply_thresholds_f(ypred_raw_f, thresholds):\n",
    "    msk = np.ones_like(ypred_raw_f)\n",
    "    for i in range(len(thresholds)):\n",
    "        msk[:, i+1] = ypred_raw_f[:, i+1]>thresholds[i]\n",
    "    ypred_id_f = np.argmax(ypred_raw_f*msk, axis=-1)\n",
    "    \n",
    "#     best_2 = np.partition(ypred_raw_f, -2, axis=-1)[..., -2:]\n",
    "#     diff = np.abs(best_2[:, -1] - best_2[:, -2])\n",
    "#     ypred_id_f[diff<0.05] = 0\n",
    "    \n",
    "    return ypred_id_f\n",
    "\n",
    "def apply_thresholds(ypred_raw, thresholds):\n",
    "    msk = np.ones_like(ypred_raw)\n",
    "    for i in range(len(thresholds)):\n",
    "        msk[:, :, i+1] = ypred_raw[:, :, i+1]>thresholds[i]\n",
    "    ypred_id = np.argmax(ypred_raw*msk, axis=-1)\n",
    "    \n",
    "#     best_2 = np.partition(ypred_raw, -2, axis=-1)[..., -2:]\n",
    "#     diff = np.abs(best_2[:, :, -1] - best_2[:, :, -2])\n",
    "#     ypred_id[diff<0.05] = 0\n",
    "    \n",
    "    return ypred_id"
   ]
  },
  {
   "cell_type": "code",
   "execution_count": null,
   "id": "respective-theater",
   "metadata": {},
   "outputs": [],
   "source": [
    "CMS_PF_CLASS_NAMES = [\"none\" \"charged hadron\", \"neutral hadron\", \"hfem\", \"hfhad\", \"photon\", \"electron\", \"muon\"]\n",
    "\n",
    "ELEM_LABELS_CMS = [0, 1, 2, 3, 4, 5, 6, 7, 8, 9, 10, 11]\n",
    "ELEM_NAMES_CMS = [\"NONE\", \"TRACK\", \"PS1\", \"PS2\", \"ECAL\", \"HCAL\", \"GSF\", \"BREM\", \"HFEM\", \"HFHAD\", \"SC\", \"HO\"]\n",
    "\n",
    "CLASS_LABELS_CMS = [0, 211, 130, 1, 2, 22, 11, 13]\n",
    "CLASS_NAMES_CMS = [\"none\", \"ch.had\", \"n.had\", \"HFEM\", \"HFHAD\", \"gamma\", \"ele\", \"mu\"]"
   ]
  },
  {
   "cell_type": "code",
   "execution_count": null,
   "id": "stone-spanking",
   "metadata": {},
   "outputs": [],
   "source": [
    "path = \"../experiments/cms_20210917_142344_403761.gpu0.local/evaluation/\""
   ]
  },
  {
   "cell_type": "code",
   "execution_count": null,
   "id": "blind-promotion",
   "metadata": {},
   "outputs": [],
   "source": [
    "Xs = []\n",
    "yvals = {}\n",
    "for fi in list(glob.glob(path + \"/pred_batch*.npz\")):\n",
    "    dd = np.load(fi)\n",
    "    Xs.append(dd[\"X\"])\n",
    "    \n",
    "    keys_in_file = list(dd.keys())\n",
    "    for k in keys_in_file:\n",
    "        if k==\"X\":\n",
    "            continue\n",
    "        if not (k in yvals):\n",
    "            yvals[k] = []\n",
    "        yvals[k].append(dd[k])\n",
    "\n",
    "X = np.concatenate(Xs)\n",
    "X_f = flatten(X)\n",
    "\n",
    "msk_X_f = X_f[:, 0] != 0\n",
    "\n",
    "yvals = {k: np.concatenate(v) for k, v in yvals.items()}\n",
    "yvals[\"true_phi\"] = np.arctan2(yvals[\"true_sin_phi\"], yvals[\"true_cos_phi\"])\n",
    "yvals[\"pred_phi\"] = np.arctan2(yvals[\"pred_sin_phi\"], yvals[\"pred_cos_phi\"])\n",
    "\n",
    "yvals_f = {k: flatten(v) for k, v in yvals.items()}\n",
    "\n",
    "yvals[\"true_cls_id\"] = np.argmax(yvals[\"true_cls\"], axis=-1)\n",
    "yvals[\"pred_cls_id\"] = np.argmax(yvals[\"pred_cls\"], axis=-1)\n",
    "yvals_f[\"true_cls_id\"] = np.argmax(yvals_f[\"true_cls\"], axis=-1)\n",
    "yvals_f[\"pred_cls_id\"] = np.argmax(yvals_f[\"pred_cls\"], axis=-1)"
   ]
  },
  {
   "cell_type": "code",
   "execution_count": null,
   "id": "9ddfc59e",
   "metadata": {},
   "outputs": [],
   "source": [
    "def plot_distribution(prefix, bins, var, particle_label, labels):\n",
    "\n",
    "    hists = []\n",
    "    for icls in range(1,8):\n",
    "        msk_pid = (yvals_f[prefix+\"_cls_id\"]==icls)\n",
    "        h = np.histogram(yvals_f[prefix + \"_\" + var][msk_pid], bins=bins)\n",
    "        hists.append(h)\n",
    "        \n",
    "    plt.figure(figsize=(5,5))\n",
    "    ax = plt.axes()\n",
    "    \n",
    "    mplhep.histplot(\n",
    "        [h[0] for h in hists], bins=hists[0][1], ax=ax, stack=True, histtype=\"fill\",\n",
    "        label=labels\n",
    "    )\n",
    "    plt.legend(ncol=2, frameon=False)\n",
    "    plt.xlabel(var)\n",
    "    cms_label(x1=0.22, x2=0.55)\n",
    "    plt.ylabel(\"Number of particles / bin\")\n",
    "    plt.text(0.02, 0.95, particle_label, transform=ax.transAxes)\n",
    "    return ax"
   ]
  },
  {
   "cell_type": "code",
   "execution_count": null,
   "id": "d41ecf82",
   "metadata": {},
   "outputs": [],
   "source": [
    "plot_distribution(\"true\", np.linspace(0,2000,61), \"energy\", \"PF\", CLASS_NAMES_CMS[1:])\n",
    "plt.yscale(\"log\")\n",
    "plt.ylim(top=1e9)\n",
    "plt.savefig(\"energy_true.pdf\", bbox_inches=\"tight\")"
   ]
  },
  {
   "cell_type": "code",
   "execution_count": null,
   "id": "67e4ada0",
   "metadata": {},
   "outputs": [],
   "source": [
    "plot_distribution(\"pred\", np.linspace(0,2000,61), \"energy\", \"MLPF\", CLASS_NAMES_CMS[1:])\n",
    "plt.yscale(\"log\")\n",
    "plt.ylim(top=1e9)\n",
    "plt.savefig(\"energy_pred.pdf\", bbox_inches=\"tight\")"
   ]
  },
  {
   "cell_type": "code",
   "execution_count": null,
   "id": "03a0dd55",
   "metadata": {},
   "outputs": [],
   "source": [
    "plot_distribution(\"true\", np.linspace(0,200,61), \"pt\", \"PF\", CLASS_NAMES_CMS[1:])\n",
    "plt.yscale(\"log\")\n",
    "plt.ylim(top=1e9)\n",
    "plt.savefig(\"pt_true.pdf\", bbox_inches=\"tight\")"
   ]
  },
  {
   "cell_type": "code",
   "execution_count": null,
   "id": "851fcbd1",
   "metadata": {},
   "outputs": [],
   "source": [
    "plot_distribution(\"pred\", np.linspace(0,200,61), \"pt\", \"MLPF\", CLASS_NAMES_CMS[1:])\n",
    "plt.yscale(\"log\")\n",
    "plt.ylim(top=1e9)\n",
    "plt.savefig(\"pt_pred.pdf\", bbox_inches=\"tight\")"
   ]
  },
  {
   "cell_type": "code",
   "execution_count": null,
   "id": "80ab845d",
   "metadata": {},
   "outputs": [],
   "source": [
    "plot_distribution(\"true\", np.linspace(-5,5,61), \"eta\", \"PF\", CLASS_NAMES_CMS[1:])\n",
    "plt.ylim(top=4*1e5)"
   ]
  },
  {
   "cell_type": "code",
   "execution_count": null,
   "id": "6f9414f8",
   "metadata": {},
   "outputs": [],
   "source": [
    "plot_distribution(\"pred\", np.linspace(-5,5,61), \"eta\", \"MLPF\", CLASS_NAMES_CMS[1:])\n",
    "plt.ylim(top=4*1e5)"
   ]
  },
  {
   "cell_type": "code",
   "execution_count": null,
   "id": "ebbb655f",
   "metadata": {},
   "outputs": [],
   "source": [
    "def delta_phi(a,b):\n",
    "    return (a - b + np.pi) % (2 * np.pi) - np.pi"
   ]
  },
  {
   "cell_type": "code",
   "execution_count": null,
   "id": "c91308a7",
   "metadata": {},
   "outputs": [],
   "source": [
    "def plot_eta_phi_residual(ielem):\n",
    "    msk1 = (X_f[:, 0]==ielem) & (ycand_f[:, 0]!=0)\n",
    "    msk2 = (X_f[:, 0]==ielem) & (ygen_f[:, 0]!=0)\n",
    "\n",
    "    fig, (ax1, ax2) = plt.subplots(1, 2, figsize=(2*4, 4))\n",
    "    \n",
    "    bins = np.linspace(-10, 10, 61)\n",
    "    plt.sca(ax1)\n",
    "    plt.hist(X_f[msk1, 2] - ycand_f[msk1, 3], bins=bins, histtype=\"step\", lw=2, label=\"PF\");\n",
    "    plt.hist(X_f[msk2, 2] - ygen_f[msk2, 3], bins=bins, histtype=\"step\", lw=2, label=\"MC\");\n",
    "    plt.legend(frameon=False)\n",
    "    plt.yscale(\"log\")\n",
    "    plt.xlabel(\"$\\Delta\\eta(\\mathrm{PFElement}, \\mathrm{particle})$\")\n",
    "    plt.sca(ax2)\n",
    "    \n",
    "    bins = np.linspace(-4, 4, 61)\n",
    "    plt.hist(delta_phi(X_f[msk1, 3], np.arctan2(ycand_f[msk1, 4], ycand_f[msk1, 5])), bins=bins, histtype=\"step\", lw=2, label=\"PF\");\n",
    "    plt.hist(delta_phi(X_f[msk2, 3], np.arctan2(ygen_f[msk2, 4], ygen_f[msk2, 5])), bins=bins, histtype=\"step\", lw=2, label=\"MC\");\n",
    "    plt.legend(frameon=False)\n",
    "    plt.xlabel(\"$\\Delta\\phi(\\mathrm{PFElement}, \\mathrm{particle})$\")"
   ]
  },
  {
   "cell_type": "code",
   "execution_count": null,
   "id": "virgin-nicaragua",
   "metadata": {
    "scrolled": false
   },
   "outputs": [],
   "source": [
    "for icls in range(1,8):\n",
    "    npred = np.sum(yvals[\"pred_cls_id\"] == icls, axis=1)\n",
    "    ncand = np.sum(yvals[\"true_cls_id\"] == icls, axis=1)\n",
    "    plt.figure(figsize=(6,6))\n",
    "    plt.scatter(ncand, npred, marker=\".\", alpha=0.8)\n",
    "    a = 0.5*min(np.min(npred), np.min(ncand))\n",
    "    b = 1.5*max(np.max(npred), np.max(ncand))\n",
    "    plt.xlim(a,b)\n",
    "    plt.ylim(a,b)\n",
    "    plt.plot([a,b],[a,b], color=\"black\", ls=\"--\")\n",
    "    plt.title(CLASS_NAMES_CMS[icls],y=1.05)\n",
    "    plt.xlabel(\"number of PFCandidates\")\n",
    "    plt.ylabel(\"number of MLPFCandidates\")\n",
    "    cms_label(x2=0.6, y=0.89)\n",
    "    plt.savefig(\"num_cls{}.pdf\".format(icls), bbox_inches=\"tight\")\n",
    "    plt.savefig(\"num_cls{}.png\".format(icls), bbox_inches=\"tight\", dpi=300)\n"
   ]
  },
  {
   "cell_type": "code",
   "execution_count": null,
   "id": "funny-batch",
   "metadata": {},
   "outputs": [],
   "source": [
    "elem_type = 5\n",
    "icls = 2\n",
    "\n",
    "def plot_elem_energy_cls_prob(elem_type):\n",
    "    plt.figure(figsize=(4*5,2*4))\n",
    "    plt.suptitle(\"PFElement type {}\".format(elem_type))\n",
    "    \n",
    "    for icls in range(8):\n",
    "        plt.subplot(2,4,icls+1)\n",
    "        plt.hist2d(\n",
    "            np.log10(X_f[X_f[:, 0]==elem_type, 4]),\n",
    "            ypred_raw_f[X_f[:, 0]==elem_type, icls],\n",
    "            bins=(np.linspace(-2,4,100), np.linspace(0,1,100)), cmap=\"Blues\");\n",
    "        plt.colorbar()\n",
    "        plt.xlabel(\"PFElement log[E/GeV]\")\n",
    "        plt.ylabel(\"MLPF probability for class {}\".format(icls))\n",
    "    plt.tight_layout()"
   ]
  },
  {
   "cell_type": "code",
   "execution_count": null,
   "id": "micro-saying",
   "metadata": {},
   "outputs": [],
   "source": [
    "def plot_eff_and_fake_rate(\n",
    "    icls,\n",
    "    ivar=4,\n",
    "    ielem=1,\n",
    "    bins=np.linspace(-3,6,100),\n",
    "    xlabel=\"PFElement log[E/GeV]\", log=True\n",
    "    ):\n",
    "    \n",
    "    values = X_f[:, ivar]\n",
    "    if log:\n",
    "        values = np.log(values)\n",
    "        \n",
    "    hist_cand = np.histogram(values[(yvals_f[\"true_cls_id\"]==icls) & (X_f[:, 0]==ielem)], bins=bins);\n",
    "    hist_cand_true = np.histogram(values[(yvals_f[\"true_cls_id\"]==icls) & (yvals_f[\"pred_cls_id\"]==icls) & (X_f[:, 0]==ielem)], bins=bins);\n",
    "\n",
    "    hist_pred = np.histogram(values[(yvals_f[\"pred_cls_id\"]==icls) & (X_f[:, 0]==ielem)], bins=bins);\n",
    "    hist_pred_fake = np.histogram(values[(yvals_f[\"true_cls_id\"]!=icls) & (yvals_f[\"pred_cls_id\"]==icls) & (X_f[:, 0]==ielem)], bins=bins);\n",
    "\n",
    "    eff = hist_cand_true[0]/hist_cand[0]\n",
    "    fake = hist_pred_fake[0]/hist_pred[0]\n",
    "\n",
    "    plt.figure(figsize=(8,8))\n",
    "    ax1 = plt.subplot(2,1,1)\n",
    "    mplhep.histplot(hist_cand, label=\"with PF candidate\")\n",
    "    mplhep.histplot(hist_pred, label=\"with MLPF candidate\")\n",
    "    plt.legend(frameon=False)\n",
    "    plt.xlabel(xlabel)\n",
    "    plt.ylabel(\"Number of particles\")\n",
    "\n",
    "    ax2 = plt.subplot(2,1,2, sharex=ax1)\n",
    "    mplhep.histplot(eff, bins=hist_cand[1], label=\"efficiency\", color=\"black\")\n",
    "    mplhep.histplot(fake, bins=hist_cand[1], label=\"fake rate\", color=\"red\")\n",
    "    plt.legend(frameon=False)\n",
    "    plt.ylim(0,1.4)\n",
    "    plt.xlabel(xlabel)\n",
    "    plt.ylabel(\"Fraction of particles / bin\")\n",
    "    \n",
    "    return ax1, ax2"
   ]
  },
  {
   "cell_type": "code",
   "execution_count": null,
   "id": "automated-quarter",
   "metadata": {},
   "outputs": [],
   "source": [
    "ax1, ax2 = plot_eff_and_fake_rate(1, bins=np.linspace(0, 300, 100), log=False)\n",
    "ax1.set_yscale(\"log\")\n",
    "ax1.set_title(\"track, charged hadron predictions\")\n",
    "plt.savefig(\"trk_ch_had_eff_fake.pdf\", bbox_inches=\"tight\")\n",
    "plt.savefig(\"trk_ch_had_eff_fake.png\", bbox_inches=\"tight\", dpi=300)"
   ]
  },
  {
   "cell_type": "code",
   "execution_count": null,
   "id": "military-professor",
   "metadata": {},
   "outputs": [],
   "source": [
    "ax1, ax2 = plot_eff_and_fake_rate(2, ielem=5, bins=np.linspace(0, 300, 100), log=False)\n",
    "ax1.set_yscale(\"log\")\n",
    "ax1.set_title(\"HCAL cluster, neutral hadron predictions\")\n",
    "plt.savefig(\"hcal_n_had_eff_fake.pdf\", bbox_inches=\"tight\")\n",
    "plt.savefig(\"hcal_n_had_eff_fake.png\", bbox_inches=\"tight\", dpi=300)"
   ]
  },
  {
   "cell_type": "code",
   "execution_count": null,
   "id": "810d7935",
   "metadata": {},
   "outputs": [],
   "source": [
    "ax1, ax2 = plot_eff_and_fake_rate(5, ielem=4, bins=np.linspace(0, 300, 21), log=False)\n",
    "ax1.set_yscale(\"log\")\n",
    "ax1.set_title(\"ECAL cluster, photon predictions\")\n",
    "plt.savefig(\"ecal_photon_eff_fake.pdf\", bbox_inches=\"tight\")\n",
    "plt.savefig(\"ecal_photon_eff_fake.png\", bbox_inches=\"tight\", dpi=300)"
   ]
  },
  {
   "cell_type": "code",
   "execution_count": null,
   "id": "characteristic-colleague",
   "metadata": {},
   "outputs": [],
   "source": [
    "ax1, ax2 = plot_eff_and_fake_rate(6, ielem=6, bins=np.linspace(0, 300, 21), log=False)\n",
    "ax1.set_yscale(\"log\")\n",
    "ax1.set_title(\"GSF track, electron predictions\")\n",
    "plt.savefig(\"gsf_electron_eff_fake.pdf\", bbox_inches=\"tight\")\n",
    "plt.savefig(\"gsf_electron_eff_fake.png\", bbox_inches=\"tight\", dpi=300)"
   ]
  },
  {
   "cell_type": "code",
   "execution_count": null,
   "id": "ready-macedonia",
   "metadata": {},
   "outputs": [],
   "source": [
    "def load_history(path, max_epoch=None):\n",
    "    ret = {}\n",
    "    for fi in glob.glob(path):\n",
    "        data = json.load(open(fi))\n",
    "        epoch = int(fi.split(\"_\")[-1].split(\".\")[0])\n",
    "        ret[epoch] = data\n",
    "    \n",
    "    if not max_epoch:\n",
    "        max_epoch = max(ret.keys())\n",
    "    ret2 = []\n",
    "    for i in range(1, max_epoch+1):\n",
    "        ret2.append(ret[i])\n",
    "    return pandas.DataFrame(ret2)"
   ]
  },
  {
   "cell_type": "code",
   "execution_count": null,
   "id": "formal-county",
   "metadata": {},
   "outputs": [],
   "source": [
    "history = load_history(path + \"/../history/history_*.json\")"
   ]
  },
  {
   "cell_type": "code",
   "execution_count": null,
   "id": "neural-witch",
   "metadata": {},
   "outputs": [],
   "source": [
    "def loss_plot(train, test, margin=0.05, smoothing=False):\n",
    "    fig = plt.figure(figsize=(8,4))\n",
    "    ax = plt.axes()\n",
    "    \n",
    "    alpha = 0.2 if smoothing else 1.0\n",
    "    l0 = None if smoothing else \"train\"\n",
    "    l1 = None if smoothing else \"test\"\n",
    "    p0 = plt.plot(train, alpha=alpha, label=l0)\n",
    "    p1 = plt.plot(test, alpha=alpha, label=l1)\n",
    "    \n",
    "    if smoothing:\n",
    "        train_smooth = np.convolve(train, np.ones(5)/5, mode='valid')\n",
    "        plt.plot(train_smooth, color=p0[0].get_color(), lw=2, label=\"train\")\n",
    "        test_smooth = np.convolve(test, np.ones(5)/5, mode='valid')\n",
    "        plt.plot(test_smooth, color=p1[0].get_color(), lw=2, label=\"test\")\n",
    "    \n",
    "    plt.ylim(test[-1]*(1.0-margin), test[-1]*(1.0+margin))\n",
    "    plt.legend(loc=\"best\", frameon=False)\n",
    "    plt.xlabel(\"epoch\")\n",
    "    cms_label(x1=0.18)"
   ]
  },
  {
   "cell_type": "code",
   "execution_count": null,
   "id": "formal-maryland",
   "metadata": {},
   "outputs": [],
   "source": [
    "p0 = loss_plot(history[\"loss\"].values, history[\"val_loss\"].values, margin=0.3)\n",
    "plt.ylabel(\"Total loss\")\n",
    "plt.savefig(\"loss.pdf\", bbox_inches=\"tight\")\n",
    "plt.savefig(\"loss.png\", bbox_inches=\"tight\", dpi=300)"
   ]
  },
  {
   "cell_type": "code",
   "execution_count": null,
   "id": "committed-clothing",
   "metadata": {},
   "outputs": [],
   "source": [
    "p0 = loss_plot(history[\"cls_loss\"].values, history[\"val_cls_loss\"].values, margin=0.5)\n",
    "plt.ylabel(\"Multiclassification loss\")\n",
    "plt.savefig(\"cls_loss.pdf\", bbox_inches=\"tight\")\n",
    "plt.savefig(\"cls_loss.png\", bbox_inches=\"tight\", dpi=300)"
   ]
  },
  {
   "cell_type": "code",
   "execution_count": null,
   "id": "recreational-enhancement",
   "metadata": {},
   "outputs": [],
   "source": [
    "reg_loss = sum([history[\"{}_loss\".format(l)].values for l in [\"energy\", \"pt\", \"eta\", \"sin_phi\", \"cos_phi\", \"charge\"]])\n",
    "val_reg_loss = sum([history[\"val_{}_loss\".format(l)].values for l in [\"energy\", \"pt\", \"eta\", \"sin_phi\", \"cos_phi\", \"charge\"]])\n",
    "p0 = loss_plot(reg_loss, val_reg_loss, margin=0.5)\n",
    "plt.ylabel(\"Regression loss\")\n",
    "plt.savefig(\"reg_loss.pdf\", bbox_inches=\"tight\")\n",
    "plt.savefig(\"reg_loss.png\", bbox_inches=\"tight\", dpi=300)"
   ]
  },
  {
   "cell_type": "code",
   "execution_count": null,
   "id": "simple-forestry",
   "metadata": {},
   "outputs": [],
   "source": [
    "#perm = np.random.permutation(ycand_f[msk_X].shape[0])[:100000]\n",
    "\n",
    "msk_real_particle = (yvals_f[\"true_cls_id\"]!=0) & (yvals_f[\"pred_cls_id\"]!=0)\n",
    "cm_norm = sklearn.metrics.confusion_matrix(\n",
    "    yvals_f[\"true_cls_id\"][msk_X_f&msk_real_particle],\n",
    "    yvals_f[\"pred_cls_id\"][msk_X_f&msk_real_particle],\n",
    "    labels=range(1,8),\n",
    "    normalize=\"true\"\n",
    ")\n",
    "\n",
    "cm = sklearn.metrics.confusion_matrix(\n",
    "    yvals_f[\"true_cls_id\"][msk_X_f&msk_real_particle],\n",
    "    yvals_f[\"pred_cls_id\"][msk_X_f&msk_real_particle],\n",
    "    labels=range(1,8),\n",
    ")"
   ]
  },
  {
   "cell_type": "code",
   "execution_count": null,
   "id": "empirical-network",
   "metadata": {},
   "outputs": [],
   "source": [
    "plt.figure(figsize=(8, 8))\n",
    "ax = plt.axes()\n",
    "plt.imshow(cm_norm, cmap=\"Blues\")\n",
    "plt.colorbar()\n",
    "\n",
    "cms_label(x1=0.18, x2=0.52, y=0.82)\n",
    "plt.xticks(range(len(CLASS_NAMES_CMS)-1), CLASS_NAMES_CMS[1:]);\n",
    "plt.yticks(range(len(CLASS_NAMES_CMS)-1), CLASS_NAMES_CMS[1:]);\n",
    "plt.xlabel(\"Predicted PFCandidate\")\n",
    "plt.ylabel(\"True PFCandidate\")\n",
    "plt.title(\"MLPF trained on PF\", y=1.03)\n",
    "plt.savefig(\"cm_normed.pdf\", bbox_inches=\"tight\")\n",
    "plt.savefig(\"cm_normed.png\", bbox_inches=\"tight\", dpi=300)"
   ]
  },
  {
   "cell_type": "code",
   "execution_count": null,
   "id": "prepared-fruit",
   "metadata": {},
   "outputs": [],
   "source": [
    "plt.figure(figsize=(8, 8))\n",
    "ax = plt.axes()\n",
    "plt.imshow(cm/np.sum(cm), cmap=\"Blues\")\n",
    "plt.colorbar()\n",
    "\n",
    "cms_label(x1=0.18, x2=0.52, y=0.82)\n",
    "#sample_label(ax, x=0.8, y=1.0)\n",
    "plt.xticks(range(len(CLASS_NAMES_CMS)-1), CLASS_NAMES_CMS[1:]);\n",
    "plt.yticks(range(len(CLASS_NAMES_CMS)-1), CLASS_NAMES_CMS[1:]);\n",
    "plt.xlabel(\"Predicted PFCandidate\")\n",
    "plt.ylabel(\"True PFCandidate\")\n",
    "plt.title(\"MLPF trained on PF\", y=1.03)\n",
    "plt.savefig(\"cm.pdf\", bbox_inches=\"tight\")\n",
    "plt.savefig(\"cm.png\", bbox_inches=\"tight\", dpi=300)"
   ]
  },
  {
   "cell_type": "code",
   "execution_count": null,
   "id": "expressed-samba",
   "metadata": {
    "scrolled": false
   },
   "outputs": [],
   "source": [
    "for icls in range(1,8):\n",
    "    for ivar in [\"pt\", \"energy\", \"eta\"]:\n",
    "        plt.figure()\n",
    "        ax = plt.axes()\n",
    "        \n",
    "        vals_true = yvals_f[\"true_\" + ivar][yvals_f[\"true_cls_id\"]==icls]\n",
    "        vals_pred = yvals_f[\"pred_\" + ivar][yvals_f[\"pred_cls_id\"]==icls]\n",
    "        b = np.linspace(np.min(vals_true), np.max(vals_true), 100)\n",
    "\n",
    "        plt.hist(vals_true, bins=b, histtype=\"step\", lw=2, label=\"PF\");\n",
    "        plt.hist(vals_pred, bins=b, histtype=\"step\", lw=2, label=\"MLPF\");\n",
    "        plt.yscale(\"log\")\n",
    "        plt.legend()\n",
    "        plt.title(ELEM_NAMES_CMS[icls], y=1.05)\n",
    "        plt.xlabel(ivar)\n",
    "        plt.ylabel(\"Number of particles / bin\")\n",
    "        cms_label(x1=0.2, x2=0.6)\n",
    "        plt.savefig(\"distribution_icls{}_{}.pdf\".format(icls, ivar))\n",
    "        plt.savefig(\"distribution_icls{}_{}.png\".format(icls, ivar), dpi=300)"
   ]
  },
  {
   "cell_type": "code",
   "execution_count": null,
   "id": "paperback-timeline",
   "metadata": {},
   "outputs": [],
   "source": [
    "def plot_particle_regression(\n",
    "    ivar=\"energy\", icls=2,\n",
    "    particle_label=\"Neutral hadrons\",\n",
    "    log=True,\n",
    "    minval=-1,\n",
    "    maxval=3,\n",
    "    norm=matplotlib.colors.LogNorm()):\n",
    "    \n",
    "    plt.figure(figsize=(6,5))\n",
    "    ax = plt.axes()\n",
    "    \n",
    "    bins = np.linspace(minval, maxval, 100)\n",
    "    msk_both = (yvals_f[\"pred_cls_id\"] == icls) & (yvals_f[\"true_cls_id\"]==icls)\n",
    "    \n",
    "    vals_true = yvals_f[\"true_\"+ivar][msk_both, 0]\n",
    "    vals_pred = yvals_f[\"pred_\"+ivar][msk_both, 0]\n",
    "    \n",
    "    if log:\n",
    "        vals_true = np.log10(vals_true)\n",
    "        vals_pred = np.log10(vals_pred)\n",
    "    \n",
    "    plt.hist2d(\n",
    "        vals_true,\n",
    "        vals_pred,\n",
    "        bins=(bins, bins),\n",
    "        cmap=\"Blues\", norm=norm\n",
    "    )\n",
    "    \n",
    "    plt.colorbar()\n",
    "    plt.plot([minval, maxval], [minval, maxval], color=\"black\", ls=\"--\", lw=0.5)\n",
    "    plt.xlim(minval, maxval)\n",
    "    plt.ylim(minval, maxval)\n",
    "    cms_label(x1=0.2, x2=0.48)\n",
    "    plt.text(0.02, 0.95, particle_label, transform=ax.transAxes)\n",
    "    ax.set_xticks(ax.get_yticks());"
   ]
  },
  {
   "cell_type": "code",
   "execution_count": null,
   "id": "ecological-toner",
   "metadata": {},
   "outputs": [],
   "source": [
    "plot_particle_regression(ivar=\"energy\", icls=1, particle_label=\"Charged hadrons\")\n",
    "plt.xlabel(\"PFCandidate $\\log_{10}$ E/GeV\")\n",
    "plt.ylabel(\"MLPFCandidate $\\log_{10}$ E/GeV\")\n",
    "plt.savefig(\"energy_corr_cls1_log.pdf\", bbox_inches=\"tight\")\n",
    "plt.savefig(\"energy_corr_cls1_log.png\", bbox_inches=\"tight\", dpi=300)"
   ]
  },
  {
   "cell_type": "code",
   "execution_count": null,
   "id": "transparent-remedy",
   "metadata": {},
   "outputs": [],
   "source": [
    "plot_particle_regression(ivar=\"energy\", icls=2, particle_label=\"Neutral hadrons\")\n",
    "plt.xlabel(\"PFCandidate $\\log_{10}$ E/GeV\")\n",
    "plt.ylabel(\"MLPFCandidate $\\log_{10}$ E/GeV\")\n",
    "plt.savefig(\"energy_corr_cls2_log.pdf\", bbox_inches=\"tight\")\n",
    "plt.savefig(\"energy_corr_cls2_log.png\", bbox_inches=\"tight\", dpi=300)"
   ]
  },
  {
   "cell_type": "code",
   "execution_count": null,
   "id": "promotional-checklist",
   "metadata": {},
   "outputs": [],
   "source": [
    "plot_particle_regression(ivar=\"eta\", icls=1, particle_label=\"Charged hadrons\", log=False, minval=-4, maxval=4)\n",
    "plt.xlabel(\"PFCandidate $\\eta$\")\n",
    "plt.ylabel(\"MLPFCandidate $\\eta$\")\n",
    "plt.savefig(\"eta_corr_cls1_log.pdf\", bbox_inches=\"tight\")\n",
    "plt.savefig(\"eta_corr_cls1_log.png\", bbox_inches=\"tight\", dpi=300)"
   ]
  },
  {
   "cell_type": "code",
   "execution_count": null,
   "id": "suitable-kansas",
   "metadata": {},
   "outputs": [],
   "source": [
    "plot_particle_regression(ivar=\"eta\", icls=2, particle_label=\"Neutral hadrons\", log=False, minval=-4, maxval=4)\n",
    "plt.xlabel(\"PFCandidate $\\eta$\")\n",
    "plt.ylabel(\"MLPFCandidate $\\eta$\")\n",
    "plt.savefig(\"eta_corr_cls2_log.pdf\", bbox_inches=\"tight\")\n",
    "plt.savefig(\"eta_corr_cls2_log.png\", bbox_inches=\"tight\", dpi=300)"
   ]
  },
  {
   "cell_type": "code",
   "execution_count": null,
   "id": "restricted-million",
   "metadata": {},
   "outputs": [],
   "source": [
    "plot_particle_regression(ivar=\"energy\", icls=3, particle_label=\"HF\", minval=0.0, maxval=4)\n",
    "plt.xlabel(\"PFCandidate $\\log_{10}$ E/GeV\")\n",
    "plt.ylabel(\"MLPFCandidate $\\log_{10}$ E/GeV\")\n",
    "plt.savefig(\"energy_corr_cls3_log.pdf\", bbox_inches=\"tight\")\n",
    "plt.savefig(\"energy_corr_cls3_log.png\", bbox_inches=\"tight\", dpi=300)"
   ]
  },
  {
   "cell_type": "code",
   "execution_count": null,
   "id": "raising-first",
   "metadata": {},
   "outputs": [],
   "source": [
    "plot_particle_regression(ivar=\"energy\", icls=4, particle_label=\"HF\", minval=0.0, maxval=4)\n",
    "plt.xlabel(\"PFCandidate $\\log_{10}$ E/GeV\")\n",
    "plt.ylabel(\"MLPFCandidate $\\log_{10}$ E/GeV\")\n",
    "plt.savefig(\"energy_corr_cls4_log.pdf\", bbox_inches=\"tight\")\n",
    "plt.savefig(\"energy_corr_cls4_log.png\", bbox_inches=\"tight\", dpi=300)"
   ]
  },
  {
   "cell_type": "code",
   "execution_count": null,
   "id": "eb29cd12",
   "metadata": {},
   "outputs": [],
   "source": [
    "plot_particle_regression(ivar=\"energy\", icls=5, particle_label=\"gamma\", minval=0.0, maxval=4)\n",
    "plt.xlabel(\"PFCandidate $\\log_{10}$ E/GeV\")\n",
    "plt.ylabel(\"MLPFCandidate $\\log_{10}$ E/GeV\")\n",
    "plt.savefig(\"energy_corr_cls5_log.pdf\", bbox_inches=\"tight\")\n",
    "plt.savefig(\"energy_corr_cls5_log.png\", bbox_inches=\"tight\", dpi=300)"
   ]
  },
  {
   "cell_type": "code",
   "execution_count": null,
   "id": "56fc8943",
   "metadata": {},
   "outputs": [],
   "source": [
    "plot_particle_regression(ivar=\"energy\", icls=5, particle_label=\"gamma\", minval=0.0, maxval=4)\n",
    "plt.xlabel(\"PFCandidate $\\log_{10}$ E/GeV\")\n",
    "plt.ylabel(\"MLPFCandidate $\\log_{10}$ E/GeV\")\n",
    "plt.savefig(\"energy_corr_cls5_log.pdf\", bbox_inches=\"tight\")\n",
    "plt.savefig(\"energy_corr_cls5_log.png\", bbox_inches=\"tight\", dpi=300)"
   ]
  }
 ],
 "metadata": {
  "kernelspec": {
   "display_name": "Python 3 (ipykernel)",
   "language": "python",
   "name": "python3"
  },
  "language_info": {
   "codemirror_mode": {
    "name": "ipython",
    "version": 3
   },
   "file_extension": ".py",
   "mimetype": "text/x-python",
   "name": "python",
   "nbconvert_exporter": "python",
   "pygments_lexer": "ipython3",
   "version": "3.8.10"
  }
 },
 "nbformat": 4,
 "nbformat_minor": 5
}
