{
 "cells": [
  {
   "cell_type": "code",
   "execution_count": null,
   "id": "b79c90e5",
   "metadata": {},
   "outputs": [],
   "source": [
    "%matplotlib inline"
   ]
  },
  {
   "cell_type": "code",
   "execution_count": null,
   "id": "impressive-ethiopia",
   "metadata": {},
   "outputs": [],
   "source": [
    "import pandas as pd\n",
    "import json\n",
    "import glob\n",
    "import matplotlib.pyplot as plt\n",
    "import numpy as np\n",
    "\n",
    "import sklearn\n",
    "import sklearn.metrics\n",
    "import matplotlib\n",
    "import scipy\n",
    "import mplhep\n",
    "\n",
    "import pandas\n",
    "import boost_histogram as bh\n",
    "import itertools\n",
    "import mplhep\n",
    "mplhep.set_style(mplhep.styles.CMS)"
   ]
  },
  {
   "cell_type": "code",
   "execution_count": null,
   "id": "statistical-ordering",
   "metadata": {},
   "outputs": [],
   "source": [
    "def flatten(arr):\n",
    "    #return arr.reshape((arr.shape[0]*arr.shape[1], arr.shape[2]))\n",
    "    return arr.reshape(-1, arr.shape[-1])"
   ]
  },
  {
   "cell_type": "code",
   "execution_count": null,
   "id": "visible-destruction",
   "metadata": {},
   "outputs": [],
   "source": [
    "def cms_label(ax, x0=0.01, x1=0.1, x2=0.98, y=0.97):\n",
    "    plt.figtext(x0, y,'CMS',fontweight='bold', wrap=True, horizontalalignment='left', fontsize=12, transform=ax.transAxes)\n",
    "    plt.figtext(x1, y,'Simulation Preliminary', style='italic', wrap=True, horizontalalignment='left', fontsize=10, transform=ax.transAxes)\n",
    "    plt.figtext(x2, y,'Run 3 (14 TeV)',  wrap=False, horizontalalignment='right', fontsize=10, transform=ax.transAxes)\n",
    "\n",
    "def cms_label_sample_label(x0=0.12, x1=0.23, x2=0.67, y=0.90):\n",
    "    plt.figtext(x0, y,'CMS',fontweight='bold', wrap=True, horizontalalignment='left', fontsize=12)\n",
    "    plt.figtext(x1, y,'Simulation Preliminary', style='italic', wrap=True, horizontalalignment='left', fontsize=10)\n",
    "    plt.figtext(x2, y,'Run 3 (14 TeV), $\\mathrm{t}\\overline{\\mathrm{t}}$ events',  wrap=False, horizontalalignment='left', fontsize=10)\n",
    "\n",
    "    \n",
    "def sample_label(ax, x=0.01, y=0.93):\n",
    "    plt.text(x, y, \"$\\mathrm{t}\\overline{\\mathrm{t}}$ events\", ha=\"left\", size=10, transform=ax.transAxes)"
   ]
  },
  {
   "cell_type": "code",
   "execution_count": null,
   "id": "undefined-judges",
   "metadata": {},
   "outputs": [],
   "source": [
    "def apply_thresholds_f(ypred_raw_f, thresholds):\n",
    "    msk = np.ones_like(ypred_raw_f)\n",
    "    for i in range(len(thresholds)):\n",
    "        msk[:, i+1] = ypred_raw_f[:, i+1]>thresholds[i]\n",
    "    ypred_id_f = np.argmax(ypred_raw_f*msk, axis=-1)\n",
    "    \n",
    "#     best_2 = np.partition(ypred_raw_f, -2, axis=-1)[..., -2:]\n",
    "#     diff = np.abs(best_2[:, -1] - best_2[:, -2])\n",
    "#     ypred_id_f[diff<0.05] = 0\n",
    "    \n",
    "    return ypred_id_f\n",
    "\n",
    "def apply_thresholds(ypred_raw, thresholds):\n",
    "    msk = np.ones_like(ypred_raw)\n",
    "    for i in range(len(thresholds)):\n",
    "        msk[:, :, i+1] = ypred_raw[:, :, i+1]>thresholds[i]\n",
    "    ypred_id = np.argmax(ypred_raw*msk, axis=-1)\n",
    "    \n",
    "#     best_2 = np.partition(ypred_raw, -2, axis=-1)[..., -2:]\n",
    "#     diff = np.abs(best_2[:, :, -1] - best_2[:, :, -2])\n",
    "#     ypred_id[diff<0.05] = 0\n",
    "    \n",
    "    return ypred_id"
   ]
  },
  {
   "cell_type": "code",
   "execution_count": null,
   "id": "respective-theater",
   "metadata": {},
   "outputs": [],
   "source": [
    "CMS_PF_CLASS_NAMES = [\"none\" \"charged hadron\", \"neutral hadron\", \"hfem\", \"hfhad\", \"photon\", \"electron\", \"muon\"]\n",
    "\n",
    "ELEM_LABELS_CMS = [0, 1, 2, 3, 4, 5, 6, 7, 8, 9, 10, 11]\n",
    "ELEM_NAMES_CMS = [\"NONE\", \"TRACK\", \"PS1\", \"PS2\", \"ECAL\", \"HCAL\", \"GSF\", \"BREM\", \"HFEM\", \"HFHAD\", \"SC\", \"HO\"]\n",
    "\n",
    "CLASS_LABELS_CMS = [0, 211, 130, 1, 2, 22, 11, 13, 15]\n",
    "CLASS_NAMES_CMS = [\"none\", \"ch.had\", \"n.had\", \"HFEM\", \"HFHAD\", \"$\\gamma$\", \"$e^\\pm$\", \"$\\mu^\\pm$\", r\"$\\tau$\"]\n",
    "\n",
    "class_names = {k: v for k, v in zip(CLASS_LABELS_CMS, CLASS_NAMES_CMS)}"
   ]
  },
  {
   "cell_type": "code",
   "execution_count": null,
   "id": "026e4082",
   "metadata": {},
   "outputs": [],
   "source": [
    "!ls -lrt ../experiments/"
   ]
  },
  {
   "cell_type": "code",
   "execution_count": null,
   "id": "stone-spanking",
   "metadata": {},
   "outputs": [],
   "source": [
    "path = \"../experiments/cms-gen_20220427_103532_669053.gpu0.local/evaluation/\""
   ]
  },
  {
   "cell_type": "code",
   "execution_count": null,
   "id": "blind-promotion",
   "metadata": {},
   "outputs": [],
   "source": [
    "Xs = []\n",
    "yvals = {}\n",
    "for fi in list(glob.glob(path + \"/pred_batch*.npz\"))[:5]:\n",
    "    dd = np.load(fi)\n",
    "    Xs.append(dd[\"X\"])\n",
    "    \n",
    "    keys_in_file = list(dd.keys())\n",
    "    for k in keys_in_file:\n",
    "        if k==\"X\":\n",
    "            continue\n",
    "        if not (k in yvals):\n",
    "            yvals[k] = []\n",
    "        yvals[k].append(dd[k])\n",
    "\n",
    "X = np.concatenate(Xs)\n",
    "X_f = flatten(X)\n",
    "\n",
    "msk_X_f = X_f[:, 0] != 0\n",
    "\n",
    "yvals = {k: np.concatenate(v) for k, v in yvals.items()}\n",
    "\n",
    "for val in [\"gen\", \"cand\", \"pred\"]:\n",
    "    yvals[\"{}_phi\".format(val)] = np.arctan2(yvals[\"{}_sin_phi\".format(val)], yvals[\"{}_cos_phi\".format(val)])\n",
    "    yvals[\"{}_cls_id\".format(val)] = np.expand_dims(np.argmax(yvals[\"{}_cls\".format(val)], axis=-1), axis=-1)\n",
    "\n",
    "yvals_f = {k: flatten(v) for k, v in yvals.items()}\n",
    "\n",
    "#remove the last dim\n",
    "for k in yvals_f.keys():\n",
    "    if yvals_f[k].shape[-1] == 1:\n",
    "        yvals_f[k] = yvals_f[k][..., -1]"
   ]
  },
  {
   "cell_type": "code",
   "execution_count": null,
   "id": "b5056249",
   "metadata": {},
   "outputs": [],
   "source": [
    "plt.scatter(\n",
    "    np.sum(yvals[\"gen_energy\"], axis=1),\n",
    "    np.sum(yvals[\"cand_energy\"], axis=1),\n",
    "    label=\"PF\"\n",
    ")\n",
    "plt.scatter(\n",
    "    np.sum(yvals[\"gen_energy\"], axis=1),\n",
    "    np.sum(yvals[\"pred_energy\"], axis=1),\n",
    "    label=\"MLPF\"\n",
    ")\n",
    "plt.plot([20000,150000],[20000,150000], color=\"black\")\n",
    "plt.legend(loc=\"best\")\n",
    "plt.xlabel(\"True energy\")\n",
    "plt.ylabel(\"Reco energy\")"
   ]
  },
  {
   "cell_type": "code",
   "execution_count": null,
   "id": "21217680",
   "metadata": {},
   "outputs": [],
   "source": [
    "plt.scatter(\n",
    "    np.sum(yvals[\"gen_pt\"], axis=1),\n",
    "    np.sum(yvals[\"cand_pt\"], axis=1)\n",
    ")\n",
    "plt.scatter(\n",
    "    np.sum(yvals[\"gen_pt\"], axis=1),\n",
    "    np.sum(yvals[\"pred_pt\"], axis=1)\n",
    ")\n",
    "plt.plot([2000,15000],[2000,15000], color=\"black\")"
   ]
  },
  {
   "cell_type": "code",
   "execution_count": null,
   "id": "13f38548",
   "metadata": {},
   "outputs": [],
   "source": [
    "msk = X[0, :, 0] != 0\n",
    "\n",
    "plt.figure(figsize=(10,10))\n",
    "plt.scatter(X[0, :, 2][msk], X[0, :, 3][msk], s=X[0, :, 4][msk], c=X[0, :, 0][msk])\n",
    "plt.xlim(-5,5)\n",
    "#plt.scatter(yvals[\"gen_eta\"][0], yvals[\"gen_phi\"][0], color=\"black\", s=yvals[\"gen_energy\"][0], marker=\"x\", alpha=0.5)\n",
    "plt.scatter(yvals[\"pred_eta\"][0][msk[0]], yvals[\"pred_phi\"][0][msk[0]], color=\"red\", marker=\"s\", alpha=0.5)"
   ]
  },
  {
   "cell_type": "code",
   "execution_count": null,
   "id": "0b009db1",
   "metadata": {},
   "outputs": [],
   "source": []
  },
  {
   "cell_type": "code",
   "execution_count": null,
   "id": "0141c01a",
   "metadata": {},
   "outputs": [],
   "source": [
    "pid = 1\n",
    "msk = (yvals_f[\"gen_cls_id\"]==pid) & (yvals_f[\"cand_cls_id\"]==pid) & (yvals_f[\"pred_cls_id\"]==pid)\n",
    "vals_gen = yvals_f[\"gen_energy\"][msk]\n",
    "vals_cand = yvals_f[\"cand_energy\"][msk]\n",
    "vals_mlpf = yvals_f[\"pred_energy\"][msk]"
   ]
  },
  {
   "cell_type": "code",
   "execution_count": null,
   "id": "3e75dd2f",
   "metadata": {},
   "outputs": [],
   "source": [
    "b = np.linspace(-2,2,100)\n",
    "plt.hist((vals_cand-vals_gen)/vals_gen, bins=b, histtype=\"step\");\n",
    "plt.hist((vals_mlpf-vals_gen)/vals_gen, bins=b, histtype=\"step\");\n",
    "plt.yscale(\"log\")"
   ]
  },
  {
   "cell_type": "code",
   "execution_count": null,
   "id": "9ddfc59e",
   "metadata": {},
   "outputs": [],
   "source": [
    "def get_distribution(prefix, bins, var):\n",
    "\n",
    "    hists = []\n",
    "    for pid in [13,11,22,1,2,130,211]:\n",
    "        icls = CLASS_LABELS_CMS.index(pid)\n",
    "        msk_pid = (yvals_f[prefix+\"_cls_id\"]==icls)\n",
    "        h = bh.Histogram(bh.axis.Variable(bins))\n",
    "        d = yvals_f[prefix + \"_\" + var][msk_pid]\n",
    "        h.fill(d.flatten())\n",
    "        hists.append(h)\n",
    "    return hists\n",
    "\n",
    "#     plt.figure(figsize=(5,5))\n",
    "#     ax = plt.axes()\n",
    "    \n",
    "#     mplhep.histplot(\n",
    "#         [h[0] for h in hists], bins=hists[0][1], ax=ax, stack=True, histtype=\"fill\",\n",
    "#         label=labels\n",
    "#     )\n",
    "#     plt.legend(ncol=2, frameon=False)\n",
    "#     plt.xlabel(var)\n",
    "#     cms_label(x1=0.22, x2=0.55)\n",
    "#     plt.ylabel(\"Number of particles / bin\")\n",
    "#     plt.text(0.02, 0.95, particle_label, transform=ax.transAxes)\n",
    "#     return ax"
   ]
  },
  {
   "cell_type": "code",
   "execution_count": null,
   "id": "d5b04426",
   "metadata": {},
   "outputs": [],
   "source": [
    "hists_gen = get_distribution(\"gen\", np.linspace(0,200,61), \"pt\")\n",
    "hists_cand = get_distribution(\"cand\", np.linspace(0,200,61), \"pt\")\n",
    "hists_pred = get_distribution(\"pred\", np.linspace(0,200,61), \"pt\")\n",
    "\n",
    "ax = plt.axes()\n",
    "v1 = mplhep.histplot([h[bh.rebin(2)] for h in hists_gen], stack=True, label=[class_names[k] for k in [13,11,22,1,2,130,211]], lw=1)\n",
    "v2 = mplhep.histplot([h[bh.rebin(2)] for h in hists_pred], stack=True, color=[x.stairs.get_edgecolor() for x in v1], lw=2, histtype=\"errorbar\")\n",
    "\n",
    "legend1 = plt.legend(v1, [x.legend_artist.get_label() for x in v1], loc=(0.60, 0.6), title=\"true\")\n",
    "legend2 = plt.legend(v2, [x.legend_artist.get_label() for x in v1], loc=(0.8, 0.6), title=\"pred\")\n",
    "plt.gca().add_artist(legend1)\n",
    "plt.ylabel(\"Total number of particles / bin\")\n",
    "cms_label(ax)\n",
    "sample_label(ax)\n",
    "\n",
    "plt.yscale(\"log\")\n",
    "plt.ylim(top=1e9)\n",
    "plt.xlabel(\"PFCandidate $p_T$ [GeV]\")\n",
    "\n",
    "plt.savefig(\"pt_true_vs_pred.pdf\", bbox_inches=\"tight\")"
   ]
  },
  {
   "cell_type": "code",
   "execution_count": null,
   "id": "d41ecf82",
   "metadata": {},
   "outputs": [],
   "source": [
    "hists_gen = get_distribution(\"gen\", np.linspace(0,2000,61), \"energy\")\n",
    "hists_pred = get_distribution(\"pred\", np.linspace(0,2000,61), \"energy\")\n",
    "\n",
    "ax = plt.axes()\n",
    "v1 = mplhep.histplot([h[bh.rebin(2)] for h in hists_gen], stack=True, label=[class_names[k] for k in [13,11,22,1,2,130,211]], lw=1)\n",
    "v2 = mplhep.histplot([h[bh.rebin(2)] for h in hists_pred], stack=True, color=[x.stairs.get_edgecolor() for x in v1], lw=2, histtype=\"errorbar\")\n",
    "\n",
    "legend1 = plt.legend(v1, [x.legend_artist.get_label() for x in v1], loc=(0.60, 0.64), title=\"true\")\n",
    "legend2 = plt.legend(v2, [x.legend_artist.get_label() for x in v1], loc=(0.8, 0.64), title=\"pred\")\n",
    "plt.gca().add_artist(legend1)\n",
    "plt.ylabel(\"Total number of particles / bin\")\n",
    "cms_label(ax)\n",
    "sample_label(ax)\n",
    "\n",
    "plt.yscale(\"log\")\n",
    "plt.ylim(top=1e9)\n",
    "plt.xlabel(\"PFCandidate $E$ [GeV]\")\n",
    "\n",
    "plt.savefig(\"energy_true_vs_pred.pdf\", bbox_inches=\"tight\")"
   ]
  },
  {
   "cell_type": "code",
   "execution_count": null,
   "id": "03a0dd55",
   "metadata": {},
   "outputs": [],
   "source": [
    "hists_true = get_distribution(\"gen\", np.linspace(-6,6,61), \"eta\")\n",
    "hists_pred = get_distribution(\"pred\", np.linspace(-6,6,61), \"eta\")\n",
    "\n",
    "ax = plt.axes()\n",
    "v1 = mplhep.histplot([h[bh.rebin(2)] for h in hists_true], stack=True, label=[class_names[k] for k in [13,11,22,1,2,130,211]], lw=1)\n",
    "v2 = mplhep.histplot([h[bh.rebin(2)] for h in hists_pred], stack=True, color=[x.stairs.get_edgecolor() for x in v1], lw=2, histtype=\"errorbar\")\n",
    "\n",
    "legend1 = plt.legend(v1, [x.legend_artist.get_label() for x in v1], loc=(0.60, 0.6), title=\"PF\")\n",
    "legend2 = plt.legend(v2, [x.legend_artist.get_label() for x in v1], loc=(0.8, 0.6), title=\"MLPF\")\n",
    "plt.gca().add_artist(legend1)\n",
    "plt.ylabel(\"Total number of particles / bin\")\n",
    "cms_label(ax)\n",
    "sample_label(ax)\n",
    "\n",
    "plt.yscale(\"log\")\n",
    "plt.ylim(top=2e9)\n",
    "plt.xlabel(\"PFCandidate $\\eta$\")\n",
    "plt.savefig(\"eta_true_vs_pred.pdf\", bbox_inches=\"tight\")"
   ]
  },
  {
   "cell_type": "code",
   "execution_count": null,
   "id": "virgin-nicaragua",
   "metadata": {
    "scrolled": false
   },
   "outputs": [],
   "source": [
    "for icls in range(1,8):\n",
    "    plt.figure()\n",
    "    npred = np.sum(yvals[\"pred_cls_id\"] == icls, axis=1)\n",
    "    ngen = np.sum(yvals[\"gen_cls_id\"] == icls, axis=1)\n",
    "    ncand = np.sum(yvals[\"cand_cls_id\"] == icls, axis=1)\n",
    "    ax = plt.axes()\n",
    "    plt.scatter(ngen, npred, marker=\".\", alpha=0.8, label=\"MLPF\")\n",
    "    plt.scatter(ngen, ncand, marker=\".\", alpha=0.8, label=\"PF\")\n",
    "    a = 0.5*min(np.min(npred), np.min(ngen))\n",
    "    b = 1.5*max(np.max(npred), np.max(ngen))\n",
    "    plt.xlim(a,b)\n",
    "    plt.ylim(a,b)\n",
    "    plt.plot([a,b],[a,b], color=\"black\", ls=\"--\")\n",
    "    plt.title(CLASS_NAMES_CMS[icls],y=1.05)\n",
    "    plt.xlabel(\"number of truth particles\")\n",
    "    plt.ylabel(\"number of reconstructed particles\")\n",
    "    plt.legend(loc=\"best\")\n",
    "    cms_label(ax)\n",
    "    sample_label(ax)\n",
    "    plt.savefig(\"num_cls{}.pdf\".format(icls), bbox_inches=\"tight\")\n",
    "    plt.savefig(\"num_cls{}.png\".format(icls), bbox_inches=\"tight\", dpi=300)"
   ]
  },
  {
   "cell_type": "code",
   "execution_count": null,
   "id": "funny-batch",
   "metadata": {},
   "outputs": [],
   "source": [
    "def plot_elem_energy_cls_prob(elem_type):\n",
    "    plt.figure(figsize=(4*5,2*4))\n",
    "    plt.suptitle(\"PFElement type {}\".format(elem_type))\n",
    "    \n",
    "    for icls in range(8):\n",
    "        plt.subplot(2,4,icls+1)\n",
    "        plt.hist2d(\n",
    "            np.log10(X_f[X_f[:, 0]==elem_type, 4]),\n",
    "            ypred_raw_f[X_f[:, 0]==elem_type, icls],\n",
    "            bins=(np.linspace(-2,4,100), np.linspace(0,1,100)), cmap=\"Blues\");\n",
    "        plt.colorbar()\n",
    "        plt.xlabel(\"PFElement log[E/GeV]\")\n",
    "        plt.ylabel(\"MLPF probability for class {}\".format(icls))\n",
    "    plt.tight_layout()"
   ]
  },
  {
   "cell_type": "code",
   "execution_count": null,
   "id": "micro-saying",
   "metadata": {},
   "outputs": [],
   "source": [
    "def plot_eff_and_fake_rate(\n",
    "    icls,\n",
    "    ivar=4,\n",
    "    ielem=1,\n",
    "    bins=np.linspace(-3,6,100),\n",
    "    xlabel=\"PFElement log[E/GeV]\", log=True\n",
    "    ):\n",
    "    \n",
    "    values = X_f[:, ivar]\n",
    "    if log:\n",
    "        values = np.log(values)\n",
    "    \n",
    "    hist_cand = np.histogram(values[(yvals_f[\"gen_cls_id\"]==icls) & (X_f[:, 0]==ielem)], bins=bins);\n",
    "    hist_cand_true = np.histogram(values[(yvals_f[\"gen_cls_id\"]==icls) & (yvals_f[\"pred_cls_id\"]==icls) & (X_f[:, 0]==ielem)], bins=bins);\n",
    "\n",
    "    hist_pred = np.histogram(values[(yvals_f[\"pred_cls_id\"]==icls) & (X_f[:, 0]==ielem)], bins=bins);\n",
    "    hist_pred_fake = np.histogram(values[(yvals_f[\"gen_cls_id\"]!=icls) & (yvals_f[\"pred_cls_id\"]==icls) & (X_f[:, 0]==ielem)], bins=bins);\n",
    "\n",
    "    eff = hist_cand_true[0]/hist_cand[0]\n",
    "    fake = hist_pred_fake[0]/hist_pred[0]\n",
    "\n",
    "    plt.figure(figsize=(8,8))\n",
    "    ax1 = plt.subplot(2,1,1)\n",
    "    mplhep.histplot(hist_cand, label=\"with gen particle\")\n",
    "    mplhep.histplot(hist_pred, label=\"with MLPF candidate\")\n",
    "    plt.legend(frameon=False)\n",
    "    plt.xlabel(xlabel)\n",
    "    plt.ylabel(\"Number of particles\")\n",
    "\n",
    "    ax2 = plt.subplot(2,1,2, sharex=ax1)\n",
    "    mplhep.histplot(eff, bins=hist_cand[1], label=\"efficiency\", color=\"black\")\n",
    "    mplhep.histplot(fake, bins=hist_cand[1], label=\"fake rate\", color=\"red\")\n",
    "    plt.legend(frameon=False)\n",
    "    plt.ylim(0,1.4)\n",
    "    plt.xlabel(xlabel)\n",
    "    plt.ylabel(\"Fraction of particles / bin\")\n",
    "    \n",
    "    return ax1, ax2"
   ]
  },
  {
   "cell_type": "code",
   "execution_count": null,
   "id": "automated-quarter",
   "metadata": {},
   "outputs": [],
   "source": [
    "ax1, ax2 = plot_eff_and_fake_rate(1, bins=np.linspace(0, 300, 100), log=False)\n",
    "ax1.set_yscale(\"log\")\n",
    "ax1.set_title(\"track, charged hadron predictions\")\n",
    "plt.savefig(\"trk_ch_had_eff_fake.pdf\", bbox_inches=\"tight\")\n",
    "plt.savefig(\"trk_ch_had_eff_fake.png\", bbox_inches=\"tight\", dpi=300)"
   ]
  },
  {
   "cell_type": "code",
   "execution_count": null,
   "id": "military-professor",
   "metadata": {},
   "outputs": [],
   "source": [
    "ax1, ax2 = plot_eff_and_fake_rate(2, ielem=5, bins=np.linspace(0, 300, 100), log=False)\n",
    "ax1.set_yscale(\"log\")\n",
    "ax1.set_title(\"HCAL cluster, neutral hadron predictions\")\n",
    "plt.savefig(\"hcal_n_had_eff_fake.pdf\", bbox_inches=\"tight\")\n",
    "plt.savefig(\"hcal_n_had_eff_fake.png\", bbox_inches=\"tight\", dpi=300)"
   ]
  },
  {
   "cell_type": "code",
   "execution_count": null,
   "id": "810d7935",
   "metadata": {},
   "outputs": [],
   "source": [
    "ax1, ax2 = plot_eff_and_fake_rate(5, ielem=4, bins=np.linspace(0, 300, 21), log=False)\n",
    "ax1.set_yscale(\"log\")\n",
    "ax1.set_title(\"ECAL cluster, photon predictions\")\n",
    "plt.savefig(\"ecal_photon_eff_fake.pdf\", bbox_inches=\"tight\")\n",
    "plt.savefig(\"ecal_photon_eff_fake.png\", bbox_inches=\"tight\", dpi=300)"
   ]
  },
  {
   "cell_type": "code",
   "execution_count": null,
   "id": "c20045e4",
   "metadata": {},
   "outputs": [],
   "source": [
    "ax1, ax2 = plot_eff_and_fake_rate(6, ielem=4, bins=np.linspace(0, 300, 21), log=False)\n",
    "ax1.set_yscale(\"log\")\n",
    "ax1.set_title(\"ECAL cluster, electron predictions\")\n",
    "plt.savefig(\"ecal_ele_eff_fake.pdf\", bbox_inches=\"tight\")\n",
    "plt.savefig(\"ecal_ele_eff_fake.png\", bbox_inches=\"tight\", dpi=300)"
   ]
  },
  {
   "cell_type": "code",
   "execution_count": null,
   "id": "characteristic-colleague",
   "metadata": {},
   "outputs": [],
   "source": [
    "ax1, ax2 = plot_eff_and_fake_rate(6, ielem=6, bins=np.linspace(0, 300, 21), log=False)\n",
    "ax1.set_yscale(\"log\")\n",
    "ax1.set_title(\"GSF track, electron predictions\")\n",
    "plt.savefig(\"gsf_electron_eff_fake.pdf\", bbox_inches=\"tight\")\n",
    "plt.savefig(\"gsf_electron_eff_fake.png\", bbox_inches=\"tight\", dpi=300)"
   ]
  },
  {
   "cell_type": "code",
   "execution_count": null,
   "id": "ready-macedonia",
   "metadata": {},
   "outputs": [],
   "source": [
    "def load_history(path, max_epoch=None):\n",
    "    ret = {}\n",
    "    for fi in glob.glob(path):\n",
    "        data = json.load(open(fi))\n",
    "        epoch = int(fi.split(\"_\")[-1].split(\".\")[0])\n",
    "        ret[epoch] = data\n",
    "    \n",
    "    if not max_epoch:\n",
    "        max_epoch = max(ret.keys())\n",
    "    ret2 = []\n",
    "    for i in range(1, max_epoch+1):\n",
    "        ret2.append(ret[i])\n",
    "    return pandas.DataFrame(ret2)"
   ]
  },
  {
   "cell_type": "code",
   "execution_count": null,
   "id": "formal-county",
   "metadata": {},
   "outputs": [],
   "source": [
    "history = load_history(path + \"/../history/history_*.json\")"
   ]
  },
  {
   "cell_type": "code",
   "execution_count": null,
   "id": "neural-witch",
   "metadata": {},
   "outputs": [],
   "source": [
    "def loss_plot(train, test, margin=0.05, smoothing=False):\n",
    "    fig = plt.figure(figsize=(8,4))\n",
    "    ax = plt.axes()\n",
    "    \n",
    "    alpha = 0.2 if smoothing else 1.0\n",
    "    l0 = None if smoothing else \"train\"\n",
    "    l1 = None if smoothing else \"test\"\n",
    "    p0 = plt.plot(train, alpha=alpha, label=l0)\n",
    "    p1 = plt.plot(test, alpha=alpha, label=l1)\n",
    "    \n",
    "    if smoothing:\n",
    "        train_smooth = np.convolve(train, np.ones(5)/5, mode='valid')\n",
    "        plt.plot(train_smooth, color=p0[0].get_color(), lw=2, label=\"train\")\n",
    "        test_smooth = np.convolve(test, np.ones(5)/5, mode='valid')\n",
    "        plt.plot(test_smooth, color=p1[0].get_color(), lw=2, label=\"test\")\n",
    "    \n",
    "    plt.ylim(test[-1]*(1.0-margin), test[-1]*(1.0+margin))\n",
    "    plt.legend(loc=3, frameon=False)\n",
    "    plt.xlabel(\"epoch\")\n",
    "    cms_label(ax,y=0.95)"
   ]
  },
  {
   "cell_type": "code",
   "execution_count": null,
   "id": "formal-maryland",
   "metadata": {},
   "outputs": [],
   "source": [
    "p0 = loss_plot(history[\"loss\"].values, history[\"val_loss\"].values, margin=0.02)\n",
    "plt.ylabel(\"Total loss\")\n",
    "plt.savefig(\"loss.pdf\", bbox_inches=\"tight\")\n",
    "plt.savefig(\"loss.png\", bbox_inches=\"tight\", dpi=300)"
   ]
  },
  {
   "cell_type": "code",
   "execution_count": null,
   "id": "committed-clothing",
   "metadata": {},
   "outputs": [],
   "source": [
    "p0 = loss_plot(history[\"cls_loss\"].values, history[\"val_cls_loss\"].values, margin=0.02)\n",
    "plt.ylabel(\"Multiclassification loss\")\n",
    "plt.savefig(\"cls_loss.pdf\", bbox_inches=\"tight\")\n",
    "plt.savefig(\"cls_loss.png\", bbox_inches=\"tight\", dpi=300)"
   ]
  },
  {
   "cell_type": "code",
   "execution_count": null,
   "id": "recreational-enhancement",
   "metadata": {},
   "outputs": [],
   "source": [
    "reg_loss = sum([history[\"{}_loss\".format(l)].values for l in [\"energy\", \"pt\", \"eta\", \"sin_phi\", \"cos_phi\", \"charge\"]])\n",
    "val_reg_loss = sum([history[\"val_{}_loss\".format(l)].values for l in [\"energy\", \"pt\", \"eta\", \"sin_phi\", \"cos_phi\", \"charge\"]])\n",
    "p0 = loss_plot(reg_loss, val_reg_loss, margin=0.02)\n",
    "plt.ylabel(\"Regression loss\")\n",
    "plt.savefig(\"reg_loss.pdf\", bbox_inches=\"tight\")\n",
    "plt.savefig(\"reg_loss.png\", bbox_inches=\"tight\", dpi=300)"
   ]
  },
  {
   "cell_type": "code",
   "execution_count": null,
   "id": "simple-forestry",
   "metadata": {},
   "outputs": [],
   "source": [
    "#perm = np.random.permutation(ycand_f[msk_X].shape[0])[:100000]\n",
    "\n",
    "msk_real_particle = (yvals_f[\"gen_cls_id\"]!=0) & (yvals_f[\"pred_cls_id\"]!=0)\n",
    "\n",
    "cm_norm = sklearn.metrics.confusion_matrix(\n",
    "    yvals_f[\"gen_cls_id\"][msk_X_f],\n",
    "    yvals_f[\"pred_cls_id\"][msk_X_f],\n",
    "    labels=range(0,len(CLASS_LABELS_CMS)),\n",
    "    normalize=\"true\"\n",
    ")"
   ]
  },
  {
   "cell_type": "code",
   "execution_count": null,
   "id": "empirical-network",
   "metadata": {},
   "outputs": [],
   "source": [
    "plt.figure(figsize=(7,7))\n",
    "ax = plt.axes()\n",
    "plt.imshow(cm_norm, cmap=\"Blues\", origin=\"lower\")\n",
    "plt.colorbar()\n",
    "\n",
    "thresh = cm_norm.max() / 1.5\n",
    "for i, j in itertools.product(range(cm_norm.shape[0]), range(cm_norm.shape[1])):\n",
    "    plt.text(j, i, \"{:0.2f}\".format(cm_norm[i, j]),\n",
    "             horizontalalignment=\"center\",\n",
    "             color=\"white\" if cm_norm[i, j] > thresh else \"black\", fontsize=12)\n",
    "\n",
    "cms_label(ax, x1=0.12,y=1.02)\n",
    "#cms_label_sample_label(x1=0.18, x2=0.52, y=0.82)\n",
    "plt.xticks(range(len(CLASS_NAMES_CMS)), CLASS_NAMES_CMS, rotation=45);\n",
    "plt.yticks(range(len(CLASS_NAMES_CMS)), CLASS_NAMES_CMS);\n",
    "plt.xlabel(\"MLPF candidate ID\")\n",
    "plt.ylabel(\"Truth ID\")\n",
    "#plt.ylim(-0.5, 6.9)\n",
    "#plt.title(\"MLPF trained on PF\")\n",
    "plt.savefig(\"cm_normed.pdf\", bbox_inches=\"tight\")\n",
    "plt.savefig(\"cm_normed.png\", bbox_inches=\"tight\", dpi=300)"
   ]
  },
  {
   "cell_type": "code",
   "execution_count": null,
   "id": "b5ebf3c4",
   "metadata": {},
   "outputs": [],
   "source": [
    "plt.hist(yvals_f[\"gen_eta\"][(yvals_f[\"gen_cls_id\"]==2) & (X_f[:, 0] == 1)], bins=100);"
   ]
  },
  {
   "cell_type": "code",
   "execution_count": null,
   "id": "415cf286",
   "metadata": {},
   "outputs": [],
   "source": [
    "cm = sklearn.metrics.confusion_matrix(\n",
    "    X_f[:, 0][msk_X_f],\n",
    "    yvals_f[\"gen_cls_id\"][msk_X_f],\n",
    "    labels=range(0,12),\n",
    ")\n",
    "plt.imshow(cm, cmap=\"Blues\", norm=matplotlib.colors.LogNorm(), origin=\"lower\")\n",
    "plt.xticks(range(len(CLASS_NAMES_CMS)), CLASS_NAMES_CMS, rotation=45)\n",
    "plt.yticks(range(len(ELEM_NAMES_CMS)), ELEM_NAMES_CMS)\n",
    "plt.xlim(-0.5, len(CLASS_NAMES_CMS)-0.5)\n",
    "plt.title(\"Truth\")"
   ]
  },
  {
   "cell_type": "code",
   "execution_count": null,
   "id": "9117de9c",
   "metadata": {},
   "outputs": [],
   "source": [
    "cm = sklearn.metrics.confusion_matrix(\n",
    "    X_f[:, 0][msk_X_f],\n",
    "    yvals_f[\"cand_cls_id\"][msk_X_f],\n",
    "    labels=range(0,12),\n",
    ")\n",
    "plt.imshow(cm, cmap=\"Blues\", norm=matplotlib.colors.LogNorm(), origin=\"lower\")\n",
    "plt.xticks(range(len(CLASS_NAMES_CMS)), CLASS_NAMES_CMS, rotation=45)\n",
    "plt.yticks(range(len(ELEM_NAMES_CMS)), ELEM_NAMES_CMS)\n",
    "plt.xlim(-0.5, len(CLASS_NAMES_CMS)-0.5)\n",
    "plt.title(\"PF\")"
   ]
  },
  {
   "cell_type": "code",
   "execution_count": null,
   "id": "272b67b8",
   "metadata": {},
   "outputs": [],
   "source": [
    "cm = sklearn.metrics.confusion_matrix(\n",
    "    X_f[:, 0][msk_X_f],\n",
    "    yvals_f[\"pred_cls_id\"][msk_X_f],\n",
    "    labels=range(0,12),\n",
    ")\n",
    "plt.imshow(cm, cmap=\"Blues\", norm=matplotlib.colors.LogNorm(), origin=\"lower\")\n",
    "plt.xticks(range(len(CLASS_NAMES_CMS)), CLASS_NAMES_CMS, rotation=45)\n",
    "plt.yticks(range(len(ELEM_NAMES_CMS)), ELEM_NAMES_CMS)\n",
    "plt.xlim(-0.5, len(CLASS_NAMES_CMS)-0.5)\n",
    "plt.title(\"MLPF\")"
   ]
  },
  {
   "cell_type": "code",
   "execution_count": null,
   "id": "expressed-samba",
   "metadata": {
    "scrolled": false
   },
   "outputs": [],
   "source": [
    "for icls in range(1,8):\n",
    "    for ivar in [\"pt\", \"energy\", \"eta\"]:\n",
    "        plt.figure()\n",
    "        ax = plt.axes()\n",
    "        \n",
    "        vals_true = yvals_f[\"gen_\" + ivar][yvals_f[\"gen_cls_id\"]==icls]\n",
    "        vals_pred = yvals_f[\"pred_\" + ivar][yvals_f[\"pred_cls_id\"]==icls]\n",
    "        b = np.linspace(np.min(vals_true), np.max(vals_true), 100)\n",
    "\n",
    "        plt.hist(vals_true, bins=b, histtype=\"step\", lw=2, label=\"PF\");\n",
    "        plt.hist(vals_pred, bins=b, histtype=\"step\", lw=2, label=\"MLPF\");\n",
    "        plt.yscale(\"log\")\n",
    "        plt.legend()\n",
    "        plt.title(CLASS_NAMES_CMS[icls], y=1.05)\n",
    "        plt.xlabel(ivar)\n",
    "        plt.ylabel(\"Number of particles / bin\")\n",
    "        cms_label(ax)\n",
    "        plt.savefig(\"distribution_icls{}_{}.pdf\".format(icls, ivar))\n",
    "        plt.savefig(\"distribution_icls{}_{}.png\".format(icls, ivar), dpi=300)"
   ]
  },
  {
   "cell_type": "code",
   "execution_count": null,
   "id": "paperback-timeline",
   "metadata": {},
   "outputs": [],
   "source": [
    "def plot_particle_regression(\n",
    "    ivar=\"energy\", icls=2,\n",
    "    particle_label=\"Neutral hadrons\",\n",
    "    log=True,\n",
    "    minval=-1,\n",
    "    maxval=3,\n",
    "    norm=matplotlib.colors.LogNorm()):\n",
    "    \n",
    "    plt.figure(figsize=(8,7))\n",
    "    ax = plt.axes()\n",
    "    \n",
    "    bins = np.linspace(minval, maxval, 100)\n",
    "    msk_both = (yvals_f[\"pred_cls_id\"] == icls) & (yvals_f[\"gen_cls_id\"]==icls)\n",
    "    \n",
    "    vals_true = yvals_f[\"gen_\"+ivar][msk_both]\n",
    "    vals_pred = yvals_f[\"pred_\"+ivar][msk_both]\n",
    "    \n",
    "    if log:\n",
    "        vals_true = np.log10(vals_true)\n",
    "        vals_pred = np.log10(vals_pred)\n",
    "    \n",
    "    plt.hist2d(\n",
    "        vals_true,\n",
    "        vals_pred,\n",
    "        bins=(bins, bins),\n",
    "        cmap=\"Blues\", norm=norm\n",
    "    )\n",
    "    \n",
    "    plt.colorbar()\n",
    "    plt.plot([minval, maxval], [minval, maxval], color=\"black\", ls=\"--\", lw=0.5)\n",
    "    plt.xlim(minval, maxval)\n",
    "    plt.ylim(minval, maxval)\n",
    "    cms_label(ax)\n",
    "    plt.text(0.02, 0.94, particle_label, transform=ax.transAxes)\n",
    "    ax.set_xticks(ax.get_yticks());"
   ]
  },
  {
   "cell_type": "code",
   "execution_count": null,
   "id": "ecological-toner",
   "metadata": {},
   "outputs": [],
   "source": [
    "plot_particle_regression(ivar=\"energy\", icls=1, particle_label=\"Charged hadrons\")\n",
    "plt.xlabel(\"PFCandidate $\\log_{10}$ E/GeV\")\n",
    "plt.ylabel(\"MLPFCandidate $\\log_{10}$ E/GeV\")\n",
    "plt.savefig(\"energy_corr_cls1_log.pdf\", bbox_inches=\"tight\")\n",
    "plt.savefig(\"energy_corr_cls1_log.png\", bbox_inches=\"tight\", dpi=300)"
   ]
  },
  {
   "cell_type": "code",
   "execution_count": null,
   "id": "transparent-remedy",
   "metadata": {},
   "outputs": [],
   "source": [
    "plot_particle_regression(ivar=\"energy\", icls=2, particle_label=\"Neutral hadrons\")\n",
    "plt.xlabel(\"PFCandidate $\\log_{10}$ E/GeV\")\n",
    "plt.ylabel(\"MLPFCandidate $\\log_{10}$ E/GeV\")\n",
    "plt.savefig(\"energy_corr_cls2_log.pdf\", bbox_inches=\"tight\")\n",
    "plt.savefig(\"energy_corr_cls2_log.png\", bbox_inches=\"tight\", dpi=300)"
   ]
  },
  {
   "cell_type": "code",
   "execution_count": null,
   "id": "promotional-checklist",
   "metadata": {},
   "outputs": [],
   "source": [
    "plot_particle_regression(ivar=\"eta\", icls=1, particle_label=\"Charged hadrons\", log=False, minval=-4, maxval=4)\n",
    "plt.xlabel(\"PFCandidate $\\eta$\")\n",
    "plt.ylabel(\"MLPFCandidate $\\eta$\")\n",
    "plt.savefig(\"eta_corr_cls1_log.pdf\", bbox_inches=\"tight\")\n",
    "plt.savefig(\"eta_corr_cls1_log.png\", bbox_inches=\"tight\", dpi=300)"
   ]
  },
  {
   "cell_type": "code",
   "execution_count": null,
   "id": "suitable-kansas",
   "metadata": {},
   "outputs": [],
   "source": [
    "plot_particle_regression(ivar=\"eta\", icls=2, particle_label=\"Neutral hadrons\", log=False, minval=-4, maxval=4)\n",
    "plt.xlabel(\"PFCandidate $\\eta$\")\n",
    "plt.ylabel(\"MLPFCandidate $\\eta$\")\n",
    "plt.savefig(\"eta_corr_cls2_log.pdf\", bbox_inches=\"tight\")\n",
    "plt.savefig(\"eta_corr_cls2_log.png\", bbox_inches=\"tight\", dpi=300)"
   ]
  },
  {
   "cell_type": "code",
   "execution_count": null,
   "id": "restricted-million",
   "metadata": {},
   "outputs": [],
   "source": [
    "plot_particle_regression(ivar=\"energy\", icls=3, particle_label=\"HFEM\", minval=0.0, maxval=4)\n",
    "plt.xlabel(\"PFCandidate $\\log_{10}$ E/GeV\")\n",
    "plt.ylabel(\"MLPFCandidate $\\log_{10}$ E/GeV\")\n",
    "plt.savefig(\"energy_corr_cls3_log.pdf\", bbox_inches=\"tight\")\n",
    "plt.savefig(\"energy_corr_cls3_log.png\", bbox_inches=\"tight\", dpi=300)"
   ]
  },
  {
   "cell_type": "code",
   "execution_count": null,
   "id": "raising-first",
   "metadata": {},
   "outputs": [],
   "source": [
    "plot_particle_regression(ivar=\"energy\", icls=4, particle_label=\"HFHAD\", minval=0.0, maxval=4)\n",
    "plt.xlabel(\"PFCandidate $\\log_{10}$ E/GeV\")\n",
    "plt.ylabel(\"MLPFCandidate $\\log_{10}$ E/GeV\")\n",
    "plt.savefig(\"energy_corr_cls4_log.pdf\", bbox_inches=\"tight\")\n",
    "plt.savefig(\"energy_corr_cls4_log.png\", bbox_inches=\"tight\", dpi=300)"
   ]
  },
  {
   "cell_type": "code",
   "execution_count": null,
   "id": "eb29cd12",
   "metadata": {},
   "outputs": [],
   "source": [
    "plot_particle_regression(ivar=\"energy\", icls=5, particle_label=\"gamma\", minval=0.0, maxval=4)\n",
    "plt.xlabel(\"PFCandidate $\\log_{10}$ E/GeV\")\n",
    "plt.ylabel(\"MLPFCandidate $\\log_{10}$ E/GeV\")\n",
    "plt.savefig(\"energy_corr_cls5_log.pdf\", bbox_inches=\"tight\")\n",
    "plt.savefig(\"energy_corr_cls5_log.png\", bbox_inches=\"tight\", dpi=300)"
   ]
  },
  {
   "cell_type": "code",
   "execution_count": null,
   "id": "56fc8943",
   "metadata": {},
   "outputs": [],
   "source": [
    "plot_particle_regression(ivar=\"energy\", icls=6, particle_label=\"e\", minval=0.0, maxval=4)\n",
    "plt.xlabel(\"PFCandidate $\\log_{10}$ E/GeV\")\n",
    "plt.ylabel(\"MLPFCandidate $\\log_{10}$ E/GeV\")\n",
    "plt.savefig(\"energy_corr_cls6_log.pdf\", bbox_inches=\"tight\")\n",
    "plt.savefig(\"energy_corr_cls6_log.png\", bbox_inches=\"tight\", dpi=300)"
   ]
  },
  {
   "cell_type": "code",
   "execution_count": null,
   "id": "51617bae",
   "metadata": {},
   "outputs": [],
   "source": [
    "plot_particle_regression(ivar=\"energy\", icls=7, particle_label=\"mu\", minval=0.0, maxval=4)\n",
    "plt.xlabel(\"PFCandidate $\\log_{10}$ E/GeV\")\n",
    "plt.ylabel(\"MLPFCandidate $\\log_{10}$ E/GeV\")\n",
    "plt.savefig(\"energy_corr_cls7_log.pdf\", bbox_inches=\"tight\")\n",
    "plt.savefig(\"energy_corr_cls7_log.png\", bbox_inches=\"tight\", dpi=300)"
   ]
  }
 ],
 "metadata": {
  "kernelspec": {
   "display_name": "Python 3",
   "language": "python",
   "name": "python3"
  },
  "language_info": {
   "codemirror_mode": {
    "name": "ipython",
    "version": 3
   },
   "file_extension": ".py",
   "mimetype": "text/x-python",
   "name": "python",
   "nbconvert_exporter": "python",
   "pygments_lexer": "ipython3",
   "version": "3.8.10"
  }
 },
 "nbformat": 4,
 "nbformat_minor": 5
}
