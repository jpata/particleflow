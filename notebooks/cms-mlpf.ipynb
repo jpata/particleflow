{
 "cells": [
  {
   "cell_type": "code",
   "execution_count": 1,
   "id": "b79c90e5",
   "metadata": {},
   "outputs": [],
   "source": [
    "%matplotlib inline"
   ]
  },
  {
   "cell_type": "code",
   "execution_count": 2,
   "id": "impressive-ethiopia",
   "metadata": {},
   "outputs": [
    {
     "name": "stderr",
     "output_type": "stream",
     "text": [
      "<ipython-input-2-18182bf2a4a3>:20: FutureWarning: ``set_style`` is deprecated: Naming convention is changing to match mpl. Use ``mplhep.style.use()``.\n",
      "  mplhep.set_style(mplhep.styles.CMS)\n"
     ]
    }
   ],
   "source": [
    "import pandas as pd\n",
    "import json\n",
    "import glob\n",
    "import matplotlib.pyplot as plt\n",
    "import numpy as np\n",
    "\n",
    "import sklearn\n",
    "import sklearn.metrics\n",
    "import matplotlib\n",
    "import scipy\n",
    "import mplhep\n",
    "import fastjet\n",
    "import awkward as ak\n",
    "import vector\n",
    "\n",
    "import pandas\n",
    "import boost_histogram as bh\n",
    "import itertools\n",
    "import mplhep\n",
    "mplhep.set_style(mplhep.styles.CMS)"
   ]
  },
  {
   "cell_type": "code",
   "execution_count": 3,
   "id": "67c10318",
   "metadata": {},
   "outputs": [
    {
     "name": "stdout",
     "output_type": "stream",
     "text": [
      "/bin/bash: warning: setlocale: LC_ALL: cannot change locale (en_US.UTF-8)\r\n"
     ]
    }
   ],
   "source": [
    "!mkdir -p cms-mlpf"
   ]
  },
  {
   "cell_type": "code",
   "execution_count": 4,
   "id": "statistical-ordering",
   "metadata": {},
   "outputs": [],
   "source": [
    "def flatten(arr):\n",
    "    #return arr.reshape((arr.shape[0]*arr.shape[1], arr.shape[2]))\n",
    "    return arr.reshape(-1, arr.shape[-1])"
   ]
  },
  {
   "cell_type": "code",
   "execution_count": 5,
   "id": "visible-destruction",
   "metadata": {},
   "outputs": [],
   "source": [
    "def cms_label(ax, x0=0.01, x1=0.15, x2=0.98, y=0.94):\n",
    "    plt.figtext(x0, y,'CMS',fontweight='bold', wrap=True, horizontalalignment='left', transform=ax.transAxes)\n",
    "    plt.figtext(x1, y,'Simulation Preliminary', style='italic', wrap=True, horizontalalignment='left', transform=ax.transAxes)\n",
    "    plt.figtext(x2, y,'Run 3 (14 TeV)',  wrap=False, horizontalalignment='right', transform=ax.transAxes)"
   ]
  },
  {
   "cell_type": "code",
   "execution_count": null,
   "id": "respective-theater",
   "metadata": {},
   "outputs": [],
   "source": [
    "CMS_PF_CLASS_NAMES = [\"none\" \"charged hadron\", \"neutral hadron\", \"hfem\", \"hfhad\", \"photon\", \"electron\", \"muon\"]\n",
    "\n",
    "ELEM_LABELS_CMS = [0, 1, 2, 3, 4, 5, 6, 7, 8, 9, 10, 11]\n",
    "ELEM_NAMES_CMS = [\"NONE\", \"TRACK\", \"PS1\", \"PS2\", \"ECAL\", \"HCAL\", \"GSF\", \"BREM\", \"HFEM\", \"HFHAD\", \"SC\", \"HO\"]\n",
    "\n",
    "CLASS_LABELS_CMS = [0, 211, 130, 1, 2, 22, 11, 13, 15]\n",
    "CLASS_NAMES_CMS = [\"none\", \"ch.had\", \"n.had\", \"HFEM\", \"HFHAD\", \"$\\gamma$\", \"$e^\\pm$\", \"$\\mu^\\pm$\", r\"$\\tau$\"]\n",
    "\n",
    "class_names = {k: v for k, v in zip(CLASS_LABELS_CMS, CLASS_NAMES_CMS)}"
   ]
  },
  {
   "cell_type": "code",
   "execution_count": 26,
   "id": "stone-spanking",
   "metadata": {},
   "outputs": [],
   "source": [
    "sample = \"qcd\"\n",
    "path = \"../experiments/cms-gen_20220615_161128_507573.gpu0.local/evaluation/cms_pf_{}/\".format(sample)\n",
    "\n",
    "if sample == \"ttbar\":\n",
    "    def sample_label(ax, additional_text=\"\", x=0.01, y=0.87):\n",
    "        plt.text(x, y, \"$\\mathrm{t}\\overline{\\mathrm{t}}$ events\"+additional_text, ha=\"left\", transform=ax.transAxes)\n",
    "\n",
    "if sample == \"qcd\":\n",
    "    def sample_label(ax, additional_text=\"\", x=0.01, y=0.87):\n",
    "        plt.text(x, y, \"QCD events\"+additional_text, ha=\"left\", transform=ax.transAxes)\n",
    "\n",
    "if sample == \"ztt\":\n",
    "    def sample_label(ax, additional_text=\"\", x=0.01, y=0.87):\n",
    "        plt.text(x, y, r\"$\\mathrm{Z}\\rightarrow\\tau\\tau$ events\"+additional_text, ha=\"left\", transform=ax.transAxes)\n",
    "    "
   ]
  },
  {
   "cell_type": "code",
   "execution_count": 27,
   "id": "blind-promotion",
   "metadata": {},
   "outputs": [],
   "source": [
    "Xs = []\n",
    "yvals = {}\n",
    "for fi in list(glob.glob(path + \"/pred_batch*.npz\"))[:200]:\n",
    "    dd = np.load(fi)\n",
    "    Xs.append(dd[\"X\"])\n",
    "    \n",
    "    keys_in_file = list(dd.keys())\n",
    "    for k in keys_in_file:\n",
    "        if k==\"X\":\n",
    "            continue\n",
    "        if not (k in yvals):\n",
    "            yvals[k] = []\n",
    "        yvals[k].append(dd[k])\n",
    "\n",
    "X = np.concatenate(Xs)\n",
    "X_f = flatten(X)\n",
    "\n",
    "msk_X_f = X_f[:, 0] != 0\n",
    "\n",
    "yvals = {k: np.concatenate(v) for k, v in yvals.items()}\n",
    "\n",
    "for val in [\"gen\", \"cand\", \"pred\"]:\n",
    "    yvals[\"{}_phi\".format(val)] = np.arctan2(yvals[\"{}_sin_phi\".format(val)], yvals[\"{}_cos_phi\".format(val)])\n",
    "    yvals[\"{}_cls_id\".format(val)] = np.expand_dims(np.argmax(yvals[\"{}_cls\".format(val)], axis=-1), axis=-1)\n",
    "\n",
    "    yvals[\"{}_px\".format(val)] = np.sin(yvals[\"{}_phi\".format(val)])*yvals[\"{}_pt\".format(val)]\n",
    "    yvals[\"{}_py\".format(val)] = np.cos(yvals[\"{}_phi\".format(val)])*yvals[\"{}_pt\".format(val)]\n",
    "    \n",
    "yvals_f = {k: flatten(v) for k, v in yvals.items()}\n",
    "\n",
    "#remove the last dim\n",
    "for k in yvals_f.keys():\n",
    "    if yvals_f[k].shape[-1] == 1:\n",
    "        yvals_f[k] = yvals_f[k][..., -1]"
   ]
  },
  {
   "cell_type": "code",
   "execution_count": 28,
   "id": "322f343e",
   "metadata": {},
   "outputs": [],
   "source": [
    "ngen = np.sum(yvals[\"gen_cls_id\"]!=0, axis=1)"
   ]
  },
  {
   "cell_type": "code",
   "execution_count": 29,
   "id": "92489a43",
   "metadata": {},
   "outputs": [],
   "source": [
    "gen_cls_id = ak.from_regular(yvals[\"gen_cls_id\"][:, :, 0])\n",
    "gen_pt = ak.from_regular(yvals[\"gen_pt\"][:, :, 0])[gen_cls_id!=0]\n",
    "gen_eta = ak.from_regular(yvals[\"gen_eta\"][:, :, 0])[gen_cls_id!=0]\n",
    "gen_phi = ak.from_regular(yvals[\"gen_phi\"][:, :, 0])[gen_cls_id!=0]\n",
    "gen_e = ak.from_regular(yvals[\"gen_energy\"][:, :, 0])[gen_cls_id!=0]\n",
    "gen_cls_id = gen_cls_id[gen_cls_id!=0]\n",
    "\n",
    "cand_cls_id = ak.from_regular(yvals[\"cand_cls_id\"][:, :, 0])\n",
    "cand_pt = ak.from_regular(yvals[\"cand_pt\"][:, :, 0])[cand_cls_id!=0]\n",
    "cand_eta = ak.from_regular(yvals[\"cand_eta\"][:, :, 0])[cand_cls_id!=0]\n",
    "cand_phi = ak.from_regular(yvals[\"cand_phi\"][:, :, 0])[cand_cls_id!=0]\n",
    "cand_e = ak.from_regular(yvals[\"cand_energy\"][:, :, 0])[cand_cls_id!=0]\n",
    "cand_cls_id = cand_cls_id[cand_cls_id!=0]\n",
    "\n",
    "pred_cls_id = ak.from_regular(yvals[\"pred_cls_id\"][:, :, 0])\n",
    "pred_pt = ak.from_regular(yvals[\"pred_pt\"][:, :, 0])[pred_cls_id!=0]\n",
    "pred_eta = ak.from_regular(yvals[\"pred_eta\"][:, :, 0])[pred_cls_id!=0]\n",
    "pred_phi = ak.from_regular(yvals[\"pred_phi\"][:, :, 0])[pred_cls_id!=0]\n",
    "pred_e = ak.from_regular(yvals[\"pred_energy\"][:, :, 0])[pred_cls_id!=0]\n",
    "pred_cls_id = pred_cls_id[pred_cls_id!=0]"
   ]
  },
  {
   "cell_type": "code",
   "execution_count": 30,
   "id": "6ac9876f",
   "metadata": {},
   "outputs": [],
   "source": [
    "jetdef = fastjet.JetDefinition(fastjet.antikt_algorithm, 0.4)\n",
    "\n",
    "vec = vector.arr({\"pt\": gen_pt, \"eta\": gen_eta, \"phi\": gen_phi, \"e\": gen_e})          \n",
    "cluster = fastjet.ClusterSequence(\n",
    "    vec.to_xyzt(), jetdef\n",
    ")\n",
    "jets_gen = cluster.inclusive_jets()\n",
    "\n",
    "vec = vector.arr({\"pt\": cand_pt, \"eta\": cand_eta, \"phi\": cand_phi, \"e\": cand_e})          \n",
    "cluster = fastjet.ClusterSequence(\n",
    "    vec.to_xyzt(), jetdef\n",
    ")\n",
    "jets_cand = cluster.inclusive_jets()\n",
    "\n",
    "vec = vector.arr({\"pt\": pred_pt, \"eta\": pred_eta, \"phi\": pred_phi, \"e\": pred_e})          \n",
    "cluster = fastjet.ClusterSequence(\n",
    "    vec.to_xyzt(), jetdef\n",
    ")\n",
    "jets_pred = cluster.inclusive_jets()"
   ]
  },
  {
   "cell_type": "code",
   "execution_count": 31,
   "id": "dbd15569",
   "metadata": {},
   "outputs": [],
   "source": [
    "import tqdm"
   ]
  },
  {
   "cell_type": "code",
   "execution_count": 32,
   "id": "725a33b6",
   "metadata": {
    "scrolled": false
   },
   "outputs": [],
   "source": [
    "def process_iev(iev):\n",
    "    gen_pts = []\n",
    "    cand_pts = []\n",
    "    pred_pts = []\n",
    "\n",
    "    jets_gen_thisev = jets_gen[iev].to_rhophietat()\n",
    "    jets_gen_thisev = jets_gen_thisev[jets_gen_thisev.pt>10]\n",
    "    \n",
    "    jets_cand_thisev = jets_cand[iev][::-1].to_rhophietat()\n",
    "    jets_cand_thisev = jets_cand_thisev[jets_cand_thisev.pt>10]\n",
    "    \n",
    "    jets_pred_thisev = jets_pred[iev][::-1].to_rhophietat()\n",
    "    jets_pred_thisev = jets_pred_thisev[jets_pred_thisev.pt>10]\n",
    "    \n",
    "    for igen in range(len(jets_gen_thisev)):\n",
    "        drs1 = jets_gen_thisev[igen].deltaR(jets_cand_thisev)\n",
    "        idx_match_cand = np.argsort(drs1)[0]\n",
    "        drs2 = jets_gen_thisev[igen].deltaR(jets_pred_thisev)\n",
    "        idx_match_pred = np.argsort(drs2)[0]\n",
    "\n",
    "        gen_pt = jets_gen_thisev[igen].pt\n",
    "        cand_pt = 0\n",
    "        pred_pt = 0\n",
    "        if drs1[idx_match_cand]<0.05:\n",
    "            cand_pt = jets_cand_thisev[idx_match_cand].pt\n",
    "        if drs2[idx_match_pred]<0.05:\n",
    "            pred_pt = jets_pred_thisev[idx_match_pred].pt\n",
    "        \n",
    "        gen_pts.append(gen_pt)\n",
    "        cand_pts.append(cand_pt)\n",
    "        pred_pts.append(pred_pt)\n",
    "    return gen_pts, cand_pts, pred_pts\n",
    "\n",
    "# gen_pts = np.array(gen_pts)\n",
    "# cand_pts = np.array(cand_pts)\n",
    "# pred_pts = np.array(pred_pts)"
   ]
  },
  {
   "cell_type": "code",
   "execution_count": 33,
   "id": "70d093a6",
   "metadata": {},
   "outputs": [
    {
     "name": "stderr",
     "output_type": "stream",
     "text": [
      "100%|██████████| 1000/1000 [04:57<00:00,  3.36it/s]\n"
     ]
    }
   ],
   "source": [
    "from multiprocessing import Pool\n",
    "with Pool(16) as p:\n",
    "    ret = list(tqdm.tqdm(p.imap(process_iev, range(len(jets_gen))), total=len(jets_gen)))"
   ]
  },
  {
   "cell_type": "code",
   "execution_count": 34,
   "id": "7364835a",
   "metadata": {},
   "outputs": [],
   "source": [
    "gen_pts = np.concatenate([r[0] for r in ret])\n",
    "cand_pts = np.concatenate([r[1] for r in ret])\n",
    "pred_pts = np.concatenate([r[2] for r in ret])"
   ]
  },
  {
   "cell_type": "code",
   "execution_count": 35,
   "id": "ec626cc3",
   "metadata": {},
   "outputs": [
    {
     "data": {
      "image/png": "[encoded data removed]",
      "text/plain": [
       "<Figure size 720x720 with 1 Axes>"
      ]
     },
     "metadata": {
      "needs_background": "light"
     },
     "output_type": "display_data"
    }
   ],
   "source": [
    "msk = (cand_pts!=0)\n",
    "plt.scatter(gen_pts[msk], cand_pts[msk])\n",
    "\n",
    "msk = (pred_pts!=0)\n",
    "plt.scatter(gen_pts[msk], pred_pts[msk])\n",
    "\n",
    "plt.xscale(\"log\")\n",
    "plt.yscale(\"log\")"
   ]
  },
  {
   "cell_type": "code",
   "execution_count": 36,
   "id": "cc057b37",
   "metadata": {},
   "outputs": [
    {
     "name": "stdout",
     "output_type": "stream",
     "text": [
      "0.019762264100050553 0.2888135773363371\n",
      "0.1903862353625725 0.9132819161823612\n"
     ]
    },
    {
     "data": {
      "image/png": "[encoded data removed]",
      "text/plain": [
       "<Figure size 720x720 with 1 Axes>"
      ]
     },
     "metadata": {
      "needs_background": "light"
     },
     "output_type": "display_data"
    }
   ],
   "source": [
    "b = np.linspace(-1,10,101)\n",
    "\n",
    "fig = plt.figure()\n",
    "ax = plt.axes()\n",
    "msk = (cand_pts!=0)# & (gen_pts>50) & (gen_pts<60)\n",
    "vals = (cand_pts[msk]-gen_pts[msk])/gen_pts[msk]\n",
    "m = np.mean(vals)\n",
    "s = np.std(vals)\n",
    "plt.hist(vals, bins=b, histtype=\"step\", lw=2, label=r\"PF, $\\mu={:.2f}, \\sigma={:.2f}$\".format(m, s));\n",
    "print(m, s)\n",
    "\n",
    "msk = (pred_pts!=0)# & (gen_pts>50) & (gen_pts<60)\n",
    "vals = (pred_pts[msk]-gen_pts[msk])/gen_pts[msk]\n",
    "m = np.mean(vals)\n",
    "s = np.std(vals)\n",
    "plt.hist(vals, bins=b, histtype=\"step\", lw=2, label=r\"MLPF, $\\mu={:.2f}, \\sigma={:.2f}$\".format(m, s));\n",
    "print(m, s)\n",
    "\n",
    "plt.yscale(\"log\")\n",
    "plt.ylim(1, 1e6)\n",
    "cms_label(ax)\n",
    "sample_label(ax)\n",
    "plt.legend(loc=(0.4, 0.7))\n",
    "plt.xlabel(r\"jet $\\frac{p_{\\mathrm{T,reco}} - p_{T,\\mathrm{gen}}}{p_{T,\\mathrm{gen}}}$\")\n",
    "plt.savefig(\"cms-mlpf/jetres_{}.pdf\".format(sample), bbox_inches=\"tight\")"
   ]
  },
  {
   "cell_type": "code",
   "execution_count": 37,
   "id": "4de09104",
   "metadata": {
    "scrolled": false
   },
   "outputs": [
    {
     "data": {
      "image/png": "[encoded data removed]",
      "text/plain": [
       "<Figure size 720x720 with 1 Axes>"
      ]
     },
     "metadata": {
      "needs_background": "light"
     },
     "output_type": "display_data"
    }
   ],
   "source": [
    "plt.figure()\n",
    "ax = plt.axes()\n",
    "plt.hist(np.sum(X[:, :, 0] != 0, axis=1), bins=100);\n",
    "plt.axvline(6400, ls=\"--\", color=\"black\")\n",
    "plt.xlabel(\"number of input PFElements\")\n",
    "plt.ylabel(\"number of events / bin\")\n",
    "cms_label(ax)\n",
    "sample_label(ax)"
   ]
  },
  {
   "cell_type": "code",
   "execution_count": 38,
   "id": "b4ff2631",
   "metadata": {},
   "outputs": [],
   "source": [
    "sum_px = np.sum(yvals[\"gen_px\"], axis=1)\n",
    "sum_py = np.sum(yvals[\"gen_py\"], axis=1)\n",
    "gen_met = np.sqrt(sum_px**2+sum_py**2)[:, 0]\n",
    "\n",
    "sum_px = np.sum(yvals[\"cand_px\"], axis=1)\n",
    "sum_py = np.sum(yvals[\"cand_py\"], axis=1)\n",
    "cand_met = np.sqrt(sum_px**2+sum_py**2)[:, 0]\n",
    "\n",
    "sum_px = np.sum(yvals[\"pred_px\"], axis=1)\n",
    "sum_py = np.sum(yvals[\"pred_py\"], axis=1)\n",
    "pred_met = np.sqrt(sum_px**2+sum_py**2)[:, 0]"
   ]
  },
  {
   "cell_type": "code",
   "execution_count": 40,
   "id": "3d4912ca",
   "metadata": {},
   "outputs": [
    {
     "data": {
      "image/png": "[encoded data removed]",
      "text/plain": [
       "<Figure size 720x720 with 1 Axes>"
      ]
     },
     "metadata": {
      "needs_background": "light"
     },
     "output_type": "display_data"
    }
   ],
   "source": [
    "fig = plt.figure()\n",
    "ax = plt.axes()\n",
    "b = np.linspace(-3, 15, 61)\n",
    "vals_a = (cand_met-gen_met)/gen_met\n",
    "vals_b = (pred_met-gen_met)/gen_met\n",
    "plt.hist(vals_a, bins=b, histtype=\"step\", lw=2, label=\"PF, $\\mu={:.2f}$, $\\sigma={:.2f}$\".format(np.mean(vals_a), np.std(vals_a)));\n",
    "plt.hist(vals_b, bins=b, histtype=\"step\", lw=2, label=\"MLPF, $\\mu={:.2f}$, $\\sigma={:.2f}$\".format(np.mean(vals_b), np.std(vals_b)));\n",
    "plt.yscale(\"log\")\n",
    "cms_label(ax)\n",
    "sample_label(ax)\n",
    "plt.axvline(0.0, color=\"black\")\n",
    "plt.ylim(1, 1e5)\n",
    "plt.legend(loc=(0.4, 0.7))\n",
    "plt.xlabel(r\"$\\frac{\\mathrm{MET}_{\\mathrm{reco}} - \\mathrm{MET}_{\\mathrm{gen}}}{\\mathrm{MET}_{\\mathrm{gen}}}$\")\n",
    "plt.ylabel(\"Number of events / bin\")\n",
    "plt.savefig(\"cms-mlpf/met_{}.pdf\".format(sample), bbox_inches=\"tight\")"
   ]
  },
  {
   "cell_type": "code",
   "execution_count": null,
   "id": "b5056249",
   "metadata": {
    "scrolled": false
   },
   "outputs": [],
   "source": [
    "fig = plt.figure()\n",
    "ax = plt.axes()\n",
    "\n",
    "plt.scatter(\n",
    "    np.sum(yvals[\"gen_energy\"], axis=1),\n",
    "    np.sum(yvals[\"cand_energy\"], axis=1),\n",
    "    alpha=0.5,\n",
    "    label=\"PF\"\n",
    ")\n",
    "plt.scatter(\n",
    "    np.sum(yvals[\"gen_energy\"], axis=1),\n",
    "    np.sum(yvals[\"pred_energy\"], axis=1),\n",
    "    alpha=0.5,\n",
    "    label=\"MLPF\"\n",
    ")\n",
    "plt.plot([10000,80000],[10000,80000], color=\"black\")\n",
    "plt.legend(loc=4)\n",
    "cms_label(ax)\n",
    "sample_label(ax)\n",
    "plt.xlabel(\"Gen $\\sum E$ [GeV]\")\n",
    "plt.ylabel(\"Reconstructed $\\sum E$ [GeV]\")\n",
    "\n",
    "plt.savefig(\"cms-mlpf/sum_energy_{}.pdf\".format(sample), bbox_inches=\"tight\")"
   ]
  },
  {
   "cell_type": "code",
   "execution_count": null,
   "id": "21217680",
   "metadata": {},
   "outputs": [],
   "source": [
    "fig = plt.figure()\n",
    "ax = plt.axes()\n",
    "\n",
    "plt.scatter(\n",
    "    np.sum(yvals[\"gen_pt\"], axis=1),\n",
    "    np.sum(yvals[\"cand_pt\"], axis=1),\n",
    "    alpha=0.5,\n",
    "    label=\"PF\"\n",
    ")\n",
    "plt.scatter(\n",
    "    np.sum(yvals[\"gen_pt\"], axis=1),\n",
    "    np.sum(yvals[\"pred_pt\"], axis=1),\n",
    "    alpha=0.5,\n",
    "    label=\"MLPF\"\n",
    ")\n",
    "plt.plot([1000,6000],[1000,6000], color=\"black\")\n",
    "plt.legend(loc=4)\n",
    "cms_label(ax)\n",
    "sample_label(ax)\n",
    "plt.xlabel(\"Gen $\\sum p_T$ [GeV]\")\n",
    "plt.ylabel(\"Reconstructed $\\sum p_T$ [GeV]\")\n",
    "\n",
    "plt.savefig(\"cms-mlpf/sum_pt_{}.pdf\".format(sample), bbox_inches=\"tight\")"
   ]
  },
  {
   "cell_type": "code",
   "execution_count": null,
   "id": "0141c01a",
   "metadata": {},
   "outputs": [],
   "source": [
    "pid = 1\n",
    "\n",
    "fig = plt.figure()\n",
    "ax = plt.axes()\n",
    "\n",
    "msk = (yvals_f[\"gen_cls_id\"]==pid) & (yvals_f[\"cand_cls_id\"]==pid) & (yvals_f[\"pred_cls_id\"]==pid)\n",
    "vals_gen = yvals_f[\"gen_energy\"][msk]\n",
    "vals_cand = yvals_f[\"cand_energy\"][msk]\n",
    "vals_mlpf = yvals_f[\"pred_energy\"][msk]\n",
    "\n",
    "b = np.linspace(-2,15,100)\n",
    "\n",
    "reso_1 = (vals_cand-vals_gen)/vals_gen\n",
    "reso_2 = (vals_mlpf-vals_gen)/vals_gen\n",
    "plt.hist(reso_1, bins=b, histtype=\"step\", lw=2, label=\"PF, $\\mu={:.2f}, \\sigma={:.2f}$\".format(np.mean(reso_1), np.std(reso_1)));\n",
    "plt.hist(reso_2, bins=b, histtype=\"step\", lw=2, label=\"MLPF, $\\mu={:.2f}, \\sigma={:.2f}$\".format(np.mean(reso_2), np.std(reso_2)));\n",
    "plt.yscale(\"log\")\n",
    "plt.xlabel(r\"$\\frac{E_\\mathrm{reco} - E_\\mathrm{gen}}{E_\\mathrm{gen}}$\")\n",
    "plt.ylabel(\"Number of particles / bin\")\n",
    "cms_label(ax)\n",
    "sample_label(ax, \", ch. had.\")\n",
    "plt.legend(loc=(0.4, 0.7))\n",
    "plt.ylim(1, 1e9)\n",
    "plt.savefig(\"cms-mlpf/energy_res_ch_had_{}.pdf\".format(sample), bbox_inches=\"tight\")"
   ]
  },
  {
   "cell_type": "code",
   "execution_count": null,
   "id": "46cfb473",
   "metadata": {},
   "outputs": [],
   "source": [
    "pid = 2\n",
    "\n",
    "fig = plt.figure()\n",
    "ax = plt.axes()\n",
    "\n",
    "msk = (yvals_f[\"gen_cls_id\"]==pid) & (yvals_f[\"cand_cls_id\"]==pid) & (yvals_f[\"pred_cls_id\"]==pid)\n",
    "vals_gen = yvals_f[\"gen_energy\"][msk]\n",
    "vals_cand = yvals_f[\"cand_energy\"][msk]\n",
    "vals_mlpf = yvals_f[\"pred_energy\"][msk]\n",
    "\n",
    "b = np.linspace(-2,15,100)\n",
    "\n",
    "reso_1 = (vals_cand-vals_gen)/vals_gen\n",
    "reso_2 = (vals_mlpf-vals_gen)/vals_gen\n",
    "plt.hist(reso_1, bins=b, histtype=\"step\", lw=2, label=\"PF, $\\mu={:.2f}, \\sigma={:.2f}$\".format(np.mean(reso_1), np.std(reso_1)));\n",
    "plt.hist(reso_2, bins=b, histtype=\"step\", lw=2, label=\"MLPF, $\\mu={:.2f}, \\sigma={:.2f}$\".format(np.mean(reso_2), np.std(reso_2)));\n",
    "plt.yscale(\"log\")\n",
    "plt.xlabel(r\"$\\frac{E_\\mathrm{reco} - E_\\mathrm{gen}}{E_\\mathrm{gen}}$\")\n",
    "plt.ylabel(\"Number of particles / bin\")\n",
    "cms_label(ax)\n",
    "sample_label(ax, \", n. had.\")\n",
    "plt.legend(loc=(0.4, 0.7))\n",
    "plt.ylim(1, 1e7)\n",
    "plt.savefig(\"cms-mlpf/energy_res_n_had_{}.pdf\".format(sample), bbox_inches=\"tight\")"
   ]
  },
  {
   "cell_type": "code",
   "execution_count": null,
   "id": "dacf1c4b",
   "metadata": {},
   "outputs": [],
   "source": [
    "pid = 3\n",
    "\n",
    "fig = plt.figure()\n",
    "ax = plt.axes()\n",
    "\n",
    "msk = (yvals_f[\"gen_cls_id\"]==pid) & (yvals_f[\"cand_cls_id\"]==pid) & (yvals_f[\"pred_cls_id\"]==pid)\n",
    "vals_gen = yvals_f[\"gen_energy\"][msk]\n",
    "vals_cand = yvals_f[\"cand_energy\"][msk]\n",
    "vals_mlpf = yvals_f[\"pred_energy\"][msk]\n",
    "\n",
    "b = np.linspace(-2,40,100)\n",
    "\n",
    "reso_1 = (vals_cand-vals_gen)/vals_gen\n",
    "reso_2 = (vals_mlpf-vals_gen)/vals_gen\n",
    "plt.hist(reso_1, bins=b, histtype=\"step\", lw=2, label=\"PF, $\\mu={:.2f}, \\sigma={:.2f}$\".format(np.mean(reso_1), np.std(reso_1)));\n",
    "plt.hist(reso_2, bins=b, histtype=\"step\", lw=2, label=\"MLPF, $\\mu={:.2f}, \\sigma={:.2f}$\".format(np.mean(reso_2), np.std(reso_2)));\n",
    "plt.yscale(\"log\")\n",
    "plt.xlabel(r\"$\\frac{E_\\mathrm{reco} - E_\\mathrm{gen}}{E_\\mathrm{gen}}$\")\n",
    "plt.ylabel(\"Number of particles / bin\")\n",
    "cms_label(ax)\n",
    "sample_label(ax, \", HFEM\")\n",
    "plt.legend(loc=(0.4, 0.7))\n",
    "plt.ylim(1, 1e7)\n",
    "plt.savefig(\"cms-mlpf/energy_res_hfem_{}.pdf\".format(sample), bbox_inches=\"tight\")"
   ]
  },
  {
   "cell_type": "code",
   "execution_count": null,
   "id": "c04c999b",
   "metadata": {},
   "outputs": [],
   "source": [
    "pid = 4\n",
    "\n",
    "fig = plt.figure()\n",
    "ax = plt.axes()\n",
    "\n",
    "msk = (yvals_f[\"gen_cls_id\"]==pid) & (yvals_f[\"cand_cls_id\"]==pid) & (yvals_f[\"pred_cls_id\"]==pid)\n",
    "vals_gen = yvals_f[\"gen_energy\"][msk]\n",
    "vals_cand = yvals_f[\"cand_energy\"][msk]\n",
    "vals_mlpf = yvals_f[\"pred_energy\"][msk]\n",
    "\n",
    "b = np.linspace(-2,30,100)\n",
    "\n",
    "reso_1 = (vals_cand-vals_gen)/vals_gen\n",
    "reso_2 = (vals_mlpf-vals_gen)/vals_gen\n",
    "plt.hist(reso_1, bins=b, histtype=\"step\", lw=2, label=\"PF, $\\mu={:.2f}, \\sigma={:.2f}$\".format(np.mean(reso_1), np.std(reso_1)));\n",
    "plt.hist(reso_2, bins=b, histtype=\"step\", lw=2, label=\"MLPF, $\\mu={:.2f}, \\sigma={:.2f}$\".format(np.mean(reso_2), np.std(reso_2)));\n",
    "plt.yscale(\"log\")\n",
    "plt.xlabel(r\"$\\frac{E_\\mathrm{reco} - E_\\mathrm{gen}}{E_\\mathrm{gen}}$\")\n",
    "plt.ylabel(\"Number of particles / bin\")\n",
    "cms_label(ax)\n",
    "sample_label(ax, \", HFHAD\")\n",
    "plt.legend(loc=(0.4, 0.7))\n",
    "plt.ylim(1, 1e7)\n",
    "plt.savefig(\"cms-mlpf/energy_res_hfhad_{}.pdf\".format(sample), bbox_inches=\"tight\")"
   ]
  },
  {
   "cell_type": "code",
   "execution_count": null,
   "id": "cf045b8d",
   "metadata": {},
   "outputs": [],
   "source": [
    "pid = 5\n",
    "\n",
    "fig = plt.figure()\n",
    "ax = plt.axes()\n",
    "\n",
    "msk = (yvals_f[\"gen_cls_id\"]==pid) & (yvals_f[\"cand_cls_id\"]==pid) & (yvals_f[\"pred_cls_id\"]==pid)\n",
    "vals_gen = yvals_f[\"gen_energy\"][msk]\n",
    "vals_cand = yvals_f[\"cand_energy\"][msk]\n",
    "vals_mlpf = yvals_f[\"pred_energy\"][msk]\n",
    "\n",
    "b = np.linspace(-2,10,100)\n",
    "\n",
    "reso_1 = (vals_cand-vals_gen)/vals_gen\n",
    "reso_2 = (vals_mlpf-vals_gen)/vals_gen\n",
    "plt.hist(reso_1, bins=b, histtype=\"step\", lw=2, label=\"PF, $\\mu={:.2f}, \\sigma={:.2f}$\".format(np.mean(reso_1), np.std(reso_1)));\n",
    "plt.hist(reso_2, bins=b, histtype=\"step\", lw=2, label=\"MLPF, $\\mu={:.2f}, \\sigma={:.2f}$\".format(np.mean(reso_2), np.std(reso_2)));\n",
    "plt.yscale(\"log\")\n",
    "plt.xlabel(r\"$\\frac{E_\\mathrm{reco} - E_\\mathrm{gen}}{E_\\mathrm{gen}}$\")\n",
    "plt.ylabel(\"Number of particles / bin\")\n",
    "cms_label(ax)\n",
    "sample_label(ax, \", gamma\")\n",
    "plt.legend(loc=(0.4, 0.7))\n",
    "plt.ylim(1, 1e7)\n",
    "plt.savefig(\"cms-mlpf/energy_res_gamma_{}.pdf\".format(sample), bbox_inches=\"tight\")"
   ]
  },
  {
   "cell_type": "code",
   "execution_count": null,
   "id": "4348f4d5",
   "metadata": {},
   "outputs": [],
   "source": [
    "pid = 6\n",
    "\n",
    "fig = plt.figure()\n",
    "ax = plt.axes()\n",
    "\n",
    "msk = (yvals_f[\"gen_cls_id\"]==pid) & (yvals_f[\"cand_cls_id\"]==pid) & (yvals_f[\"pred_cls_id\"]==pid)\n",
    "vals_gen = yvals_f[\"gen_energy\"][msk]\n",
    "vals_cand = yvals_f[\"cand_energy\"][msk]\n",
    "vals_mlpf = yvals_f[\"pred_energy\"][msk]\n",
    "\n",
    "b = np.linspace(-1,1,100)\n",
    "\n",
    "reso_1 = (vals_cand-vals_gen)/vals_gen\n",
    "reso_2 = (vals_mlpf-vals_gen)/vals_gen\n",
    "plt.hist(reso_1, bins=b, histtype=\"step\", lw=2, label=\"PF, $\\mu={:.2f}, \\sigma={:.2f}$\".format(np.mean(reso_1), np.std(reso_1)));\n",
    "plt.hist(reso_2, bins=b, histtype=\"step\", lw=2, label=\"MLPF, $\\mu={:.2f}, \\sigma={:.2f}$\".format(np.mean(reso_2), np.std(reso_2)));\n",
    "plt.yscale(\"log\")\n",
    "plt.xlabel(r\"$\\frac{E_\\mathrm{reco} - E_\\mathrm{gen}}{E_\\mathrm{gen}}$\")\n",
    "plt.ylabel(\"Number of particles / bin\")\n",
    "cms_label(ax)\n",
    "sample_label(ax, \", el\")\n",
    "plt.legend(loc=(0.4, 0.7))\n",
    "plt.ylim(1, 1e4)\n",
    "plt.savefig(\"cms-mlpf/energy_res_el_{}.pdf\".format(sample), bbox_inches=\"tight\")"
   ]
  },
  {
   "cell_type": "code",
   "execution_count": null,
   "id": "ef355d9b",
   "metadata": {},
   "outputs": [],
   "source": [
    "pid = 7\n",
    "\n",
    "fig = plt.figure()\n",
    "ax = plt.axes()\n",
    "\n",
    "msk = (yvals_f[\"gen_cls_id\"]==pid) & (yvals_f[\"cand_cls_id\"]==pid) & (yvals_f[\"pred_cls_id\"]==pid)\n",
    "vals_gen = yvals_f[\"gen_energy\"][msk]\n",
    "vals_cand = yvals_f[\"cand_energy\"][msk]\n",
    "vals_mlpf = yvals_f[\"pred_energy\"][msk]\n",
    "\n",
    "b = np.linspace(-0.1,0.1,100)\n",
    "\n",
    "reso_1 = (vals_cand-vals_gen)/vals_gen\n",
    "reso_2 = (vals_mlpf-vals_gen)/vals_gen\n",
    "plt.hist(reso_1, bins=b, histtype=\"step\", lw=2, label=\"PF, $\\mu={:.2f}, \\sigma={:.2f}$\".format(np.mean(reso_1), np.std(reso_1)));\n",
    "plt.hist(reso_2, bins=b, histtype=\"step\", lw=2, label=\"MLPF, $\\mu={:.2f}, \\sigma={:.2f}$\".format(np.mean(reso_2), np.std(reso_2)));\n",
    "plt.yscale(\"log\")\n",
    "plt.xlabel(r\"$\\frac{E_\\mathrm{reco} - E_\\mathrm{gen}}{E_\\mathrm{gen}}$\")\n",
    "plt.ylabel(\"Number of particles / bin\")\n",
    "cms_label(ax)\n",
    "sample_label(ax, \", mu\")\n",
    "plt.legend(loc=(0.4, 0.7))\n",
    "plt.ylim(1, 1e4)\n",
    "plt.savefig(\"cms-mlpf/energy_res_mu_{}.pdf\".format(sample), bbox_inches=\"tight\")"
   ]
  },
  {
   "cell_type": "code",
   "execution_count": null,
   "id": "e8ef722e",
   "metadata": {},
   "outputs": [],
   "source": [
    "pid = 1\n",
    "\n",
    "fig = plt.figure()\n",
    "ax = plt.axes()\n",
    "\n",
    "msk = (yvals_f[\"gen_cls_id\"]==pid) & (yvals_f[\"cand_cls_id\"]==pid) & (yvals_f[\"pred_cls_id\"]==pid)\n",
    "vals_gen = yvals_f[\"gen_eta\"][msk]\n",
    "vals_cand = yvals_f[\"cand_eta\"][msk]\n",
    "vals_mlpf = yvals_f[\"pred_eta\"][msk]\n",
    "\n",
    "b = np.linspace(-10, 10, 100)\n",
    "\n",
    "reso_1 = (vals_cand-vals_gen)\n",
    "reso_2 = (vals_mlpf-vals_gen)\n",
    "plt.hist(reso_1, bins=b, histtype=\"step\", lw=2, label=\"PF, $\\mu={:.2f}, \\sigma={:.2f}$\".format(np.mean(reso_1), np.std(reso_1)));\n",
    "plt.hist(reso_2, bins=b, histtype=\"step\", lw=2, label=\"MLPF, $\\mu={:.2f}, \\sigma={:.2f}$\".format(np.mean(reso_2), np.std(reso_2)));\n",
    "plt.yscale(\"log\")\n",
    "plt.xlabel(r\"$\\eta_\\mathrm{reco} - \\eta_\\mathrm{gen}$\")\n",
    "plt.ylabel(\"Number of particles / bin\")\n",
    "cms_label(ax)\n",
    "sample_label(ax, \", ch. had.\")\n",
    "plt.legend(loc=(0.0, 0.7))\n",
    "plt.ylim(1, 1e10)\n",
    "plt.savefig(\"cms-mlpf/eta_res_ch_had_{}.pdf\".format(sample), bbox_inches=\"tight\")"
   ]
  },
  {
   "cell_type": "code",
   "execution_count": null,
   "id": "750078b2",
   "metadata": {},
   "outputs": [],
   "source": [
    "pid = 2\n",
    "\n",
    "fig = plt.figure()\n",
    "ax = plt.axes()\n",
    "\n",
    "msk = (yvals_f[\"gen_cls_id\"]==pid) & (yvals_f[\"cand_cls_id\"]==pid) & (yvals_f[\"pred_cls_id\"]==pid)\n",
    "vals_gen = yvals_f[\"gen_eta\"][msk]\n",
    "vals_cand = yvals_f[\"cand_eta\"][msk]\n",
    "vals_mlpf = yvals_f[\"pred_eta\"][msk]\n",
    "\n",
    "b = np.linspace(-10, 10, 100)\n",
    "\n",
    "reso_1 = (vals_cand-vals_gen)\n",
    "reso_2 = (vals_mlpf-vals_gen)\n",
    "plt.hist(reso_1, bins=b, histtype=\"step\", lw=2, label=\"PF, $\\mu={:.2f}, \\sigma={:.2f}$\".format(np.mean(reso_1), np.std(reso_1)));\n",
    "plt.hist(reso_2, bins=b, histtype=\"step\", lw=2, label=\"MLPF, $\\mu={:.2f}, \\sigma={:.2f}$\".format(np.mean(reso_2), np.std(reso_2)));\n",
    "plt.yscale(\"log\")\n",
    "plt.xlabel(r\"$\\eta_\\mathrm{reco} - \\eta_\\mathrm{gen}$\")\n",
    "plt.ylabel(\"Number of particles / bin\")\n",
    "cms_label(ax)\n",
    "sample_label(ax, \", n. had.\")\n",
    "plt.legend(loc=(0.0, 0.7))\n",
    "plt.ylim(1, 1e8)\n",
    "plt.savefig(\"cms-mlpf/eta_res_n_had_{}.pdf\".format(sample), bbox_inches=\"tight\")"
   ]
  },
  {
   "cell_type": "code",
   "execution_count": null,
   "id": "9ddfc59e",
   "metadata": {},
   "outputs": [],
   "source": [
    "def get_distribution(prefix, bins, var):\n",
    "\n",
    "    hists = []\n",
    "    for pid in [13,11,22,1,2,130,211]:\n",
    "        icls = CLASS_LABELS_CMS.index(pid)\n",
    "        msk_pid = (yvals_f[prefix+\"_cls_id\"]==icls)\n",
    "        h = bh.Histogram(bh.axis.Variable(bins))\n",
    "        d = yvals_f[prefix + \"_\" + var][msk_pid]\n",
    "        h.fill(d.flatten())\n",
    "        hists.append(h)\n",
    "    return hists\n",
    "\n",
    "#     plt.figure(figsize=(5,5))\n",
    "#     ax = plt.axes()\n",
    "    \n",
    "#     mplhep.histplot(\n",
    "#         [h[0] for h in hists], bins=hists[0][1], ax=ax, stack=True, histtype=\"fill\",\n",
    "#         label=labels\n",
    "#     )\n",
    "#     plt.legend(ncol=2, frameon=False)\n",
    "#     plt.xlabel(var)\n",
    "#     cms_label(x1=0.22, x2=0.55)\n",
    "#     plt.ylabel(\"Number of particles / bin\")\n",
    "#     plt.text(0.02, 0.95, particle_label, transform=ax.transAxes)\n",
    "#     return ax"
   ]
  },
  {
   "cell_type": "code",
   "execution_count": null,
   "id": "d5b04426",
   "metadata": {},
   "outputs": [],
   "source": [
    "# hists_gen = get_distribution(\"gen\", np.linspace(0,200,61), \"pt\")\n",
    "# hists_cand = get_distribution(\"cand\", np.linspace(0,200,61), \"pt\")\n",
    "# hists_pred = get_distribution(\"pred\", np.linspace(0,200,61), \"pt\")\n",
    "\n",
    "# ax = plt.axes()\n",
    "# v1 = mplhep.histplot([h[bh.rebin(2)] for h in hists_gen], stack=True, label=[class_names[k] for k in [13,11,22,1,2,130,211]], lw=1)\n",
    "# v2 = mplhep.histplot([h[bh.rebin(2)] for h in hists_pred], stack=True, color=[x.stairs.get_edgecolor() for x in v1], lw=2, histtype=\"errorbar\")\n",
    "\n",
    "# legend1 = plt.legend(v1, [x.legend_artist.get_label() for x in v1], loc=(0.60, 0.6), title=\"true\")\n",
    "# legend2 = plt.legend(v2, [x.legend_artist.get_label() for x in v1], loc=(0.8, 0.6), title=\"pred\")\n",
    "# plt.gca().add_artist(legend1)\n",
    "# plt.ylabel(\"Total number of particles / bin\")\n",
    "# # cms_label(ax)\n",
    "# # sample_label(ax)\n",
    "\n",
    "# plt.yscale(\"log\")\n",
    "# plt.ylim(top=1e9)\n",
    "# plt.xlabel(\"PFCandidate $p_T$ [GeV]\")\n",
    "\n",
    "# plt.savefig(\"pt_true_vs_pred.pdf\", bbox_inches=\"tight\")"
   ]
  },
  {
   "cell_type": "code",
   "execution_count": null,
   "id": "d41ecf82",
   "metadata": {},
   "outputs": [],
   "source": [
    "# hists_gen = get_distribution(\"gen\", np.linspace(0,2000,61), \"energy\")\n",
    "# hists_pred = get_distribution(\"pred\", np.linspace(0,2000,61), \"energy\")\n",
    "\n",
    "# ax = plt.axes()\n",
    "# v1 = mplhep.histplot([h[bh.rebin(2)] for h in hists_gen], stack=True, label=[class_names[k] for k in [13,11,22,1,2,130,211]], lw=1)\n",
    "# v2 = mplhep.histplot([h[bh.rebin(2)] for h in hists_pred], stack=True, color=[x.stairs.get_edgecolor() for x in v1], lw=2, histtype=\"errorbar\")\n",
    "\n",
    "# legend1 = plt.legend(v1, [x.legend_artist.get_label() for x in v1], loc=(0.60, 0.64), title=\"true\")\n",
    "# legend2 = plt.legend(v2, [x.legend_artist.get_label() for x in v1], loc=(0.8, 0.64), title=\"pred\")\n",
    "# plt.gca().add_artist(legend1)\n",
    "# plt.ylabel(\"Total number of particles / bin\")\n",
    "# cms_label(ax)\n",
    "# sample_label(ax)\n",
    "\n",
    "# plt.yscale(\"log\")\n",
    "# plt.ylim(top=1e9)\n",
    "# plt.xlabel(\"PFCandidate $E$ [GeV]\")\n",
    "\n",
    "# plt.savefig(\"energy_true_vs_pred.pdf\", bbox_inches=\"tight\")"
   ]
  },
  {
   "cell_type": "code",
   "execution_count": null,
   "id": "03a0dd55",
   "metadata": {},
   "outputs": [],
   "source": [
    "# hists_true = get_distribution(\"gen\", np.linspace(-6,6,61), \"eta\")\n",
    "# hists_pred = get_distribution(\"pred\", np.linspace(-6,6,61), \"eta\")\n",
    "\n",
    "# ax = plt.axes()\n",
    "# v1 = mplhep.histplot([h[bh.rebin(2)] for h in hists_true], stack=True, label=[class_names[k] for k in [13,11,22,1,2,130,211]], lw=1)\n",
    "# v2 = mplhep.histplot([h[bh.rebin(2)] for h in hists_pred], stack=True, color=[x.stairs.get_edgecolor() for x in v1], lw=2, histtype=\"errorbar\")\n",
    "\n",
    "# legend1 = plt.legend(v1, [x.legend_artist.get_label() for x in v1], loc=(0.60, 0.6), title=\"PF\")\n",
    "# legend2 = plt.legend(v2, [x.legend_artist.get_label() for x in v1], loc=(0.8, 0.6), title=\"MLPF\")\n",
    "# plt.gca().add_artist(legend1)\n",
    "# plt.ylabel(\"Total number of particles / bin\")\n",
    "# cms_label(ax)\n",
    "# sample_label(ax)\n",
    "\n",
    "# plt.yscale(\"log\")\n",
    "# plt.ylim(top=2e9)\n",
    "# plt.xlabel(\"PFCandidate $\\eta$\")\n",
    "# plt.savefig(\"eta_true_vs_pred.pdf\", bbox_inches=\"tight\")"
   ]
  },
  {
   "cell_type": "code",
   "execution_count": null,
   "id": "virgin-nicaragua",
   "metadata": {
    "scrolled": false
   },
   "outputs": [],
   "source": [
    "# for icls in range(1,8):\n",
    "#     #Plot the particle multiplicities\n",
    "#     npred = np.sum(yvals[\"pred_cls_id\"] == icls, axis=1)\n",
    "#     ngen = np.sum(yvals[\"gen_cls_id\"] == icls, axis=1)\n",
    "#     ncand = np.sum(yvals[\"cand_cls_id\"] == icls, axis=1)\n",
    "#     fig = plt.figure()\n",
    "#     ax = plt.axes()\n",
    "#     plt.scatter(ngen, ncand, marker=\".\", alpha=0.4, label=\"PF\")\n",
    "#     plt.scatter(ngen, npred, marker=\".\", alpha=0.4, label=\"MLPF\")\n",
    "#     a = 0.5*min(np.min(npred), np.min(ngen))\n",
    "#     b = 1.5*max(np.max(npred), np.max(ngen))\n",
    "#     plt.xlim(a,b)\n",
    "#     plt.ylim(a,b)\n",
    "#     plt.plot([a,b],[a,b], color=\"black\", ls=\"--\")\n",
    "#     plt.xlabel(\"number of truth particles\")\n",
    "#     plt.ylabel(\"number of reconstructed particles\")\n",
    "#     plt.legend(loc=4)\n",
    "#     cms_label(ax)\n",
    "#     sample_label(ax, \", \" + CLASS_NAMES_CMS[icls])\n",
    "#     plt.savefig(\"num_cls{}.pdf\".format(icls), bbox_inches=\"tight\")\n",
    "#     plt.savefig(\"num_cls{}.png\".format(icls), bbox_inches=\"tight\", dpi=300)\n",
    "    \n",
    "#     #Plot the sum of particle energies\n",
    "#     msk = yvals[\"gen_cls_id\"][:, :, 0]==icls\n",
    "#     vals_gen = np.sum(np.ma.MaskedArray(yvals[\"gen_energy\"], ~msk), axis=1)[:, 0]\n",
    "#     msk = yvals[\"pred_cls_id\"][:, :, 0]==icls\n",
    "#     vals_pred = np.sum(np.ma.MaskedArray(yvals[\"pred_energy\"], ~msk), axis=1)[:, 0]\n",
    "#     msk = yvals[\"cand_cls_id\"][:, :, 0]==icls\n",
    "#     vals_cand = np.sum(np.ma.MaskedArray(yvals[\"cand_energy\"], ~msk), axis=1)[:, 0]\n",
    "#     fig = plt.figure()\n",
    "#     ax = plt.axes()\n",
    "#     plt.scatter(vals_gen, vals_cand, alpha=0.2, label=\"PF\")\n",
    "#     plt.scatter(vals_gen, vals_pred, alpha=0.2, label=\"MLPF\")\n",
    "#     minval = min(np.min(vals_gen), np.min(vals_cand), np.min(vals_pred))\n",
    "#     maxval = max(np.max(vals_gen), np.max(vals_cand), np.max(vals_pred))\n",
    "#     plt.plot([minval,maxval],[minval,maxval], color=\"black\")\n",
    "#     plt.xlim(minval,maxval)\n",
    "#     plt.ylim(minval,maxval)\n",
    "#     plt.xlabel(\"true $\\sum E$ [GeV]\")\n",
    "#     plt.ylabel(\"reconstructed $\\sum E$ [GeV]\")\n",
    "#     plt.legend(loc=4)\n",
    "#     cms_label(ax)\n",
    "#     sample_label(ax, \", \" + CLASS_NAMES_CMS[icls])\n",
    "#     plt.savefig(\"energy_cls{}.pdf\".format(icls), bbox_inches=\"tight\")\n"
   ]
  },
  {
   "cell_type": "code",
   "execution_count": null,
   "id": "funny-batch",
   "metadata": {},
   "outputs": [],
   "source": [
    "# def plot_elem_energy_cls_prob(elem_type):\n",
    "#     plt.figure(figsize=(4*5,2*4))\n",
    "#     plt.suptitle(\"PFElement type {}\".format(elem_type))\n",
    "    \n",
    "#     for icls in range(8):\n",
    "#         plt.subplot(2,4,icls+1)\n",
    "#         plt.hist2d(\n",
    "#             np.log10(X_f[X_f[:, 0]==elem_type, 4]),\n",
    "#             ypred_raw_f[X_f[:, 0]==elem_type, icls],\n",
    "#             bins=(np.linspace(-2,4,100), np.linspace(0,1,100)), cmap=\"Blues\");\n",
    "#         plt.colorbar()\n",
    "#         plt.xlabel(\"PFElement log[E/GeV]\")\n",
    "#         plt.ylabel(\"MLPF probability for class {}\".format(icls))\n",
    "#     plt.tight_layout()"
   ]
  },
  {
   "cell_type": "code",
   "execution_count": null,
   "id": "micro-saying",
   "metadata": {},
   "outputs": [],
   "source": [
    "def plot_eff_and_fake_rate(\n",
    "    icls=1,\n",
    "    ivar=4,\n",
    "    ielem=1,\n",
    "    bins=np.linspace(-3,6,100),\n",
    "    xlabel=\"PFElement log[E/GeV]\", log=True\n",
    "    ):\n",
    "    \n",
    "    values = X_f[:, ivar]\n",
    "    \n",
    "    hist_gen = np.histogram(values[(yvals_f[\"gen_cls_id\"]==icls) & (X_f[:, 0]==ielem)], bins=bins);\n",
    "    hist_gen_pred = np.histogram(values[(yvals_f[\"gen_cls_id\"]==icls) & (yvals_f[\"pred_cls_id\"]==icls) & (X_f[:, 0]==ielem)], bins=bins);\n",
    "    hist_gen_cand = np.histogram(values[(yvals_f[\"gen_cls_id\"]==icls) & (yvals_f[\"cand_cls_id\"]==icls) & (X_f[:, 0]==ielem)], bins=bins);\n",
    "\n",
    "    hist_pred = np.histogram(values[(yvals_f[\"pred_cls_id\"]==icls) & (X_f[:, 0]==ielem)], bins=bins);\n",
    "    hist_cand = np.histogram(values[(yvals_f[\"cand_cls_id\"]==icls) & (X_f[:, 0]==ielem)], bins=bins);\n",
    "    hist_pred_fake = np.histogram(values[(yvals_f[\"gen_cls_id\"]!=icls) & (yvals_f[\"pred_cls_id\"]==icls) & (X_f[:, 0]==ielem)], bins=bins);\n",
    "    hist_cand_fake = np.histogram(values[(yvals_f[\"gen_cls_id\"]!=icls) & (yvals_f[\"cand_cls_id\"]==icls) & (X_f[:, 0]==ielem)], bins=bins);\n",
    "\n",
    "    eff_mlpf = hist_gen_pred[0]/hist_gen[0]\n",
    "    eff_pf = hist_gen_cand[0]/hist_gen[0]\n",
    "    fake_pf = hist_cand_fake[0]/hist_cand[0]\n",
    "    fake_mlpf = hist_pred_fake[0]/hist_pred[0]\n",
    "\n",
    "    plt.figure()\n",
    "    ax = plt.axes()\n",
    "    mplhep.histplot(hist_gen, label=\"Gen\", color=\"black\")\n",
    "    mplhep.histplot(hist_cand, label=\"PF\")\n",
    "    mplhep.histplot(hist_pred, label=\"MLPF\")\n",
    "    plt.ylabel(\"Number of PFElements / bin\")\n",
    "    plt.xlabel(xlabel)\n",
    "    cms_label(ax)\n",
    "    ax.set_ylim(top=1.5*(ax.get_ylim()[1]))\n",
    "    plt.legend(loc=(0.7,0.7))\n",
    "    sample_label(ax, \", \" + CLASS_NAMES_CMS[icls])\n",
    "    if log:\n",
    "        plt.xscale(\"log\")\n",
    "    plt.savefig(\"cms-mlpf/distr_icls{}_ivar{}_{}.pdf\".format(icls, ivar, sample), bbox_inches=\"tight\")\n",
    "        \n",
    "    plt.figure()\n",
    "    ax = plt.axes(sharex=ax)\n",
    "    mplhep.histplot(eff_pf, bins=hist_gen[1], label=\"PF\")\n",
    "    mplhep.histplot(eff_mlpf, bins=hist_gen[1], label=\"MLPF\")\n",
    "    plt.ylim(0,1.5)\n",
    "    plt.ylabel(\"Efficiency\")\n",
    "    plt.xlabel(xlabel)\n",
    "    cms_label(ax)\n",
    "    plt.legend(loc=(0.7,0.7))\n",
    "    sample_label(ax, \", \" + CLASS_NAMES_CMS[icls])\n",
    "    if log:\n",
    "        plt.xscale(\"log\")\n",
    "    plt.savefig(\"eff_icls{}_ivar{}_{}.pdf\".format(icls, ivar, sample), bbox_inches=\"tight\")\n",
    "\n",
    "    plt.figure()\n",
    "    ax = plt.axes(sharex=ax)\n",
    "    mplhep.histplot(fake_pf, bins=hist_gen[1], label=\"PF\")\n",
    "    mplhep.histplot(fake_mlpf, bins=hist_gen[1], label=\"MLPF\")\n",
    "    plt.ylim(0,1.5)\n",
    "    plt.ylabel(\"Fake rate\")\n",
    "    plt.xlabel(xlabel)\n",
    "    cms_label(ax)\n",
    "    plt.legend(loc=(0.7,0.7))\n",
    "    sample_label(ax, \", \" + CLASS_NAMES_CMS[icls])\n",
    "    if log:\n",
    "        plt.xscale(\"log\")\n",
    "    plt.savefig(\"cms-mlpf/fake_icls{}_ivar{}_{}.pdf\".format(icls, ivar, sample), bbox_inches=\"tight\")\n",
    "\n",
    "    #mplhep.histplot(fake, bins=hist_gen[1], label=\"fake rate\", color=\"red\")\n",
    "#     plt.legend(frameon=False)\n",
    "#     plt.ylim(0,1.4)\n",
    "#     plt.xlabel(xlabel)\n",
    "#     plt.ylabel(\"Fraction of particles / bin\")\n",
    "    \n"
   ]
  },
  {
   "cell_type": "code",
   "execution_count": null,
   "id": "automated-quarter",
   "metadata": {
    "scrolled": false
   },
   "outputs": [],
   "source": [
    "plot_eff_and_fake_rate(icls=1, ivar=4, ielem=1, bins=np.logspace(-1, 3, 41), log=True)"
   ]
  },
  {
   "cell_type": "code",
   "execution_count": null,
   "id": "83fb675e",
   "metadata": {
    "scrolled": false
   },
   "outputs": [],
   "source": [
    "plot_eff_and_fake_rate(icls=1, ivar=3, ielem=1, bins=np.linspace(-4, 4, 41), log=False, xlabel=\"PFElement $\\eta$\")"
   ]
  },
  {
   "cell_type": "code",
   "execution_count": null,
   "id": "military-professor",
   "metadata": {
    "scrolled": false
   },
   "outputs": [],
   "source": [
    "plot_eff_and_fake_rate(icls=2, ivar=4, ielem=5, bins=np.logspace(-1, 3, 41), log=True)"
   ]
  },
  {
   "cell_type": "code",
   "execution_count": null,
   "id": "5ec54d38",
   "metadata": {
    "scrolled": false
   },
   "outputs": [],
   "source": [
    "plot_eff_and_fake_rate(icls=2, ivar=3, ielem=5, bins=np.linspace(-5, 5, 41), log=False, xlabel=\"PFElement $\\eta$\")"
   ]
  },
  {
   "cell_type": "code",
   "execution_count": null,
   "id": "810d7935",
   "metadata": {
    "scrolled": false
   },
   "outputs": [],
   "source": [
    "plot_eff_and_fake_rate(icls=5, ivar=4, ielem=4, bins=np.logspace(-1, 2, 41), log=True)"
   ]
  },
  {
   "cell_type": "code",
   "execution_count": null,
   "id": "258c5cb7",
   "metadata": {
    "scrolled": false
   },
   "outputs": [],
   "source": [
    "plot_eff_and_fake_rate(icls=5, ivar=3, ielem=4, bins=np.linspace(-5, 5, 41), log=False, xlabel=\"PFElement $\\eta$\")"
   ]
  },
  {
   "cell_type": "code",
   "execution_count": null,
   "id": "ee2fb99b",
   "metadata": {
    "scrolled": false
   },
   "outputs": [],
   "source": [
    "plot_eff_and_fake_rate(icls=7, ivar=1, ielem=1, bins=np.logspace(-1, 3, 41), log=True, xlabel=\"PFElement $p_T$ [GeV]\")"
   ]
  },
  {
   "cell_type": "code",
   "execution_count": null,
   "id": "c20045e4",
   "metadata": {},
   "outputs": [],
   "source": [
    "# ax1, ax2 = plot_eff_and_fake_rate(6, ielem=4, bins=np.linspace(0, 300, 21), log=False)\n",
    "# ax1.set_yscale(\"log\")\n",
    "# ax1.set_title(\"ECAL cluster, electron predictions\")\n",
    "# plt.savefig(\"ecal_ele_eff_fake.pdf\", bbox_inches=\"tight\")\n",
    "# plt.savefig(\"ecal_ele_eff_fake.png\", bbox_inches=\"tight\", dpi=300)"
   ]
  },
  {
   "cell_type": "code",
   "execution_count": null,
   "id": "characteristic-colleague",
   "metadata": {},
   "outputs": [],
   "source": [
    "# ax1, ax2 = plot_eff_and_fake_rate(6, ielem=6, bins=np.linspace(0, 300, 21), log=False)\n",
    "# ax1.set_yscale(\"log\")\n",
    "# ax1.set_title(\"GSF track, electron predictions\")\n",
    "# plt.savefig(\"gsf_electron_eff_fake.pdf\", bbox_inches=\"tight\")\n",
    "# plt.savefig(\"gsf_electron_eff_fake.png\", bbox_inches=\"tight\", dpi=300)"
   ]
  },
  {
   "cell_type": "code",
   "execution_count": null,
   "id": "ready-macedonia",
   "metadata": {},
   "outputs": [],
   "source": [
    "def load_history(path, max_epoch=None):\n",
    "    ret = {}\n",
    "    for fi in glob.glob(path):\n",
    "        data = json.load(open(fi))\n",
    "        epoch = int(fi.split(\"_\")[-1].split(\".\")[0])\n",
    "        ret[epoch] = data\n",
    "    \n",
    "    if not max_epoch:\n",
    "        max_epoch = max(ret.keys())\n",
    "    ret2 = []\n",
    "    for i in range(1, max_epoch+1):\n",
    "        ret2.append(ret[i])\n",
    "    return pandas.DataFrame(ret2)"
   ]
  },
  {
   "cell_type": "code",
   "execution_count": null,
   "id": "formal-county",
   "metadata": {},
   "outputs": [],
   "source": [
    "history = load_history(path + \"../../history/history_*.json\")"
   ]
  },
  {
   "cell_type": "code",
   "execution_count": null,
   "id": "neural-witch",
   "metadata": {},
   "outputs": [],
   "source": [
    "def loss_plot(train, test, margin=0.05, smoothing=False):\n",
    "    fig = plt.figure()\n",
    "    ax = plt.axes()\n",
    "    \n",
    "    alpha = 0.2 if smoothing else 1.0\n",
    "    l0 = None if smoothing else \"train\"\n",
    "    l1 = None if smoothing else \"test\"\n",
    "    p0 = plt.plot(train, alpha=alpha, label=l0)\n",
    "    p1 = plt.plot(test, alpha=alpha, label=l1)\n",
    "    \n",
    "    if smoothing:\n",
    "        train_smooth = np.convolve(train, np.ones(5)/5, mode='valid')\n",
    "        plt.plot(train_smooth, color=p0[0].get_color(), lw=2, label=\"train\")\n",
    "        test_smooth = np.convolve(test, np.ones(5)/5, mode='valid')\n",
    "        plt.plot(test_smooth, color=p1[0].get_color(), lw=2, label=\"test\")\n",
    "    \n",
    "    plt.ylim(test[-1]*(1.0-margin), test[-1]*(1.0+margin))\n",
    "    plt.legend(loc=3, frameon=False)\n",
    "    plt.xlabel(\"epoch\")\n",
    "    cms_label(ax)"
   ]
  },
  {
   "cell_type": "code",
   "execution_count": null,
   "id": "formal-maryland",
   "metadata": {},
   "outputs": [],
   "source": [
    "p0 = loss_plot(history[\"loss\"].values, history[\"val_loss\"].values, margin=0.02)\n",
    "plt.ylabel(\"Total loss\")\n",
    "plt.savefig(\"cms-mlpf/loss.pdf\", bbox_inches=\"tight\")"
   ]
  },
  {
   "cell_type": "code",
   "execution_count": null,
   "id": "7d4b42c2",
   "metadata": {},
   "outputs": [],
   "source": [
    "p0 = loss_plot(history[\"charge_loss\"].values, history[\"val_charge_loss\"].values, margin=1)\n",
    "plt.ylabel(\"Charge loss\")\n",
    "plt.savefig(\"cms-mlpf/charge_loss.pdf\", bbox_inches=\"tight\")"
   ]
  },
  {
   "cell_type": "code",
   "execution_count": null,
   "id": "committed-clothing",
   "metadata": {},
   "outputs": [],
   "source": [
    "p0 = loss_plot(history[\"cls_loss\"].values, history[\"val_cls_loss\"].values, margin=0.02)\n",
    "plt.ylabel(\"Multiclassification loss\")\n",
    "plt.savefig(\"cms-mlpf/cls_loss.pdf\", bbox_inches=\"tight\")"
   ]
  },
  {
   "cell_type": "code",
   "execution_count": null,
   "id": "recreational-enhancement",
   "metadata": {},
   "outputs": [],
   "source": [
    "reg_loss = sum([history[\"{}_loss\".format(l)].values for l in [\"energy\", \"pt\", \"eta\", \"sin_phi\", \"cos_phi\", \"charge\"]])\n",
    "val_reg_loss = sum([history[\"val_{}_loss\".format(l)].values for l in [\"energy\", \"pt\", \"eta\", \"sin_phi\", \"cos_phi\", \"charge\"]])\n",
    "p0 = loss_plot(reg_loss, val_reg_loss, margin=0.02)\n",
    "plt.ylabel(\"Regression loss\")\n",
    "plt.savefig(\"cms-mlpf/reg_loss.pdf\", bbox_inches=\"tight\")"
   ]
  },
  {
   "cell_type": "code",
   "execution_count": null,
   "id": "73eb0f9a",
   "metadata": {},
   "outputs": [],
   "source": [
    "reg_loss = sum([history[\"{}_loss\".format(l)].values for l in [\"sum_energy\", \"sum_pt\"]])\n",
    "val_reg_loss = sum([history[\"val_{}_loss\".format(l)].values for l in [\"sum_energy\", \"sum_pt\"]])\n",
    "p0 = loss_plot(reg_loss, val_reg_loss, margin=2)\n",
    "plt.ylabel(\"Event loss\")\n",
    "plt.savefig(\"cms-mlpf/event_loss.pdf\", bbox_inches=\"tight\")"
   ]
  },
  {
   "cell_type": "code",
   "execution_count": null,
   "id": "empirical-network",
   "metadata": {},
   "outputs": [],
   "source": [
    "fig = plt.figure(figsize=(12, 12))\n",
    "ax = plt.axes()\n",
    "\n",
    "cm_norm = sklearn.metrics.confusion_matrix(\n",
    "    yvals_f[\"gen_cls_id\"][msk_X_f],\n",
    "    yvals_f[\"pred_cls_id\"][msk_X_f],\n",
    "    labels=range(0,len(CLASS_LABELS_CMS)),\n",
    "    normalize=\"true\"\n",
    ")\n",
    "\n",
    "plt.imshow(cm_norm, cmap=\"Blues\", origin=\"lower\")\n",
    "plt.colorbar()\n",
    "\n",
    "\n",
    "thresh = cm_norm.max() / 1.5\n",
    "for i, j in itertools.product(range(cm_norm.shape[0]), range(cm_norm.shape[1])):\n",
    "    plt.text(j, i, \"{:0.2f}\".format(cm_norm[i, j]),\n",
    "             horizontalalignment=\"center\",\n",
    "             color=\"white\" if cm_norm[i, j] > thresh else \"black\", fontsize=12)\n",
    "\n",
    "cms_label(ax, y=1.01)\n",
    "#cms_label_sample_label(x1=0.18, x2=0.52, y=0.82)\n",
    "plt.xticks(range(len(CLASS_NAMES_CMS)), CLASS_NAMES_CMS, rotation=45);\n",
    "plt.yticks(range(len(CLASS_NAMES_CMS)), CLASS_NAMES_CMS);\n",
    "plt.xlabel(\"MLPF candidate ID\")\n",
    "plt.ylabel(\"Truth ID\")\n",
    "#plt.ylim(-0.5, 6.9)\n",
    "#plt.title(\"MLPF trained on PF\")\n",
    "plt.savefig(\"cms-mlpf/cm_normed_{}.pdf\".format(sample), bbox_inches=\"tight\")"
   ]
  },
  {
   "cell_type": "code",
   "execution_count": null,
   "id": "a79af186",
   "metadata": {},
   "outputs": [],
   "source": [
    "fig = plt.figure(figsize=(12, 12))\n",
    "ax = plt.axes()\n",
    "\n",
    "cm_norm = sklearn.metrics.confusion_matrix(\n",
    "    yvals_f[\"gen_cls_id\"][msk_X_f],\n",
    "    yvals_f[\"cand_cls_id\"][msk_X_f],\n",
    "    labels=range(0,len(CLASS_LABELS_CMS)),\n",
    "    normalize=\"true\"\n",
    ")\n",
    "\n",
    "plt.imshow(cm_norm, cmap=\"Blues\", origin=\"lower\")\n",
    "plt.colorbar()\n",
    "\n",
    "\n",
    "thresh = cm_norm.max() / 1.5\n",
    "for i, j in itertools.product(range(cm_norm.shape[0]), range(cm_norm.shape[1])):\n",
    "    plt.text(j, i, \"{:0.2f}\".format(cm_norm[i, j]),\n",
    "             horizontalalignment=\"center\",\n",
    "             color=\"white\" if cm_norm[i, j] > thresh else \"black\", fontsize=12)\n",
    "\n",
    "cms_label(ax, y=1.01)\n",
    "#cms_label_sample_label(x1=0.18, x2=0.52, y=0.82)\n",
    "plt.xticks(range(len(CLASS_NAMES_CMS)), CLASS_NAMES_CMS, rotation=45);\n",
    "plt.yticks(range(len(CLASS_NAMES_CMS)), CLASS_NAMES_CMS);\n",
    "plt.xlabel(\"PF candidate ID\")\n",
    "plt.ylabel(\"Truth ID\")\n",
    "#plt.ylim(-0.5, 6.9)\n",
    "#plt.title(\"MLPF trained on PF\")\n",
    "plt.savefig(\"cms-mlpf/cm_normed_pf_{}.pdf\".format(sample), bbox_inches=\"tight\")"
   ]
  },
  {
   "cell_type": "code",
   "execution_count": null,
   "id": "415cf286",
   "metadata": {},
   "outputs": [],
   "source": [
    "# cm = sklearn.metrics.confusion_matrix(\n",
    "#     X_f[:, 0][msk_X_f],\n",
    "#     yvals_f[\"gen_cls_id\"][msk_X_f],\n",
    "#     labels=range(0,12),\n",
    "# )\n",
    "# plt.imshow(cm, cmap=\"Blues\", norm=matplotlib.colors.LogNorm(), origin=\"lower\")\n",
    "# plt.xticks(range(len(CLASS_NAMES_CMS)), CLASS_NAMES_CMS, rotation=45)\n",
    "# plt.yticks(range(len(ELEM_NAMES_CMS)), ELEM_NAMES_CMS)\n",
    "# plt.xlim(-0.5, len(CLASS_NAMES_CMS)-0.5)\n",
    "# plt.ylim(0.5, len(ELEM_NAMES_CMS)-0.5)\n",
    "# plt.title(\"Truth\")"
   ]
  },
  {
   "cell_type": "code",
   "execution_count": null,
   "id": "9117de9c",
   "metadata": {},
   "outputs": [],
   "source": [
    "# cm = sklearn.metrics.confusion_matrix(\n",
    "#     X_f[:, 0][msk_X_f],\n",
    "#     yvals_f[\"cand_cls_id\"][msk_X_f],\n",
    "#     labels=range(0,12),\n",
    "# )\n",
    "# plt.imshow(cm, cmap=\"Blues\", norm=matplotlib.colors.LogNorm(), origin=\"lower\")\n",
    "# plt.xticks(range(len(CLASS_NAMES_CMS)), CLASS_NAMES_CMS, rotation=45)\n",
    "# plt.yticks(range(len(ELEM_NAMES_CMS)), ELEM_NAMES_CMS)\n",
    "# plt.xlim(-0.5, len(CLASS_NAMES_CMS)-0.5)\n",
    "# plt.title(\"PF\")"
   ]
  },
  {
   "cell_type": "code",
   "execution_count": null,
   "id": "272b67b8",
   "metadata": {},
   "outputs": [],
   "source": [
    "# cm = sklearn.metrics.confusion_matrix(\n",
    "#     X_f[:, 0][msk_X_f],\n",
    "#     yvals_f[\"pred_cls_id\"][msk_X_f],\n",
    "#     labels=range(0,12),\n",
    "# )\n",
    "# plt.imshow(cm, cmap=\"Blues\", norm=matplotlib.colors.LogNorm(), origin=\"lower\")\n",
    "# plt.xticks(range(len(CLASS_NAMES_CMS)), CLASS_NAMES_CMS, rotation=45)\n",
    "# plt.yticks(range(len(ELEM_NAMES_CMS)), ELEM_NAMES_CMS)\n",
    "# plt.xlim(-0.5, len(CLASS_NAMES_CMS)-0.5)\n",
    "# plt.title(\"MLPF\")"
   ]
  },
  {
   "cell_type": "code",
   "execution_count": null,
   "id": "expressed-samba",
   "metadata": {
    "scrolled": false
   },
   "outputs": [],
   "source": [
    "# for icls in range(0, 8):\n",
    "#     fig, axs = plt.subplots(\n",
    "#         2,2,\n",
    "#         figsize=(2*mplhep.styles.CMS[\"figure.figsize\"][0], 2*mplhep.styles.CMS[\"figure.figsize\"][1])\n",
    "#     )\n",
    "    \n",
    "#     for ax, ivar in zip(axs.flatten(), [\"pt\", \"energy\", \"eta\", \"phi\"]):\n",
    "        \n",
    "#         plt.sca(ax)\n",
    "        \n",
    "#         if icls == 0:\n",
    "#             vals_true = yvals_f[\"gen_\" + ivar][yvals_f[\"gen_cls_id\"]!=0]\n",
    "#             vals_pf = yvals_f[\"cand_\" + ivar][yvals_f[\"cand_cls_id\"]!=0]\n",
    "#             vals_pred = yvals_f[\"pred_\" + ivar][yvals_f[\"pred_cls_id\"]!=0]\n",
    "#         else:\n",
    "#             vals_true = yvals_f[\"gen_\" + ivar][yvals_f[\"gen_cls_id\"]==icls]\n",
    "#             vals_pf = yvals_f[\"cand_\" + ivar][yvals_f[\"cand_cls_id\"]==icls]\n",
    "#             vals_pred = yvals_f[\"pred_\" + ivar][yvals_f[\"pred_cls_id\"]==icls]\n",
    "        \n",
    "#         if ivar == \"pt\" or ivar == \"energy\":\n",
    "#             b = np.logspace(-3, 4, 61)\n",
    "#             log = True\n",
    "#         else:\n",
    "#             b = np.linspace(np.min(vals_true), np.max(vals_true), 41)\n",
    "#             log = False\n",
    "            \n",
    "#         plt.hist(vals_true, bins=b, histtype=\"step\", lw=2, label=\"gen\", color=\"black\");\n",
    "#         plt.hist(vals_pf, bins=b, histtype=\"step\", lw=2, label=\"PF\");\n",
    "#         plt.hist(vals_pred, bins=b, histtype=\"step\", lw=2, label=\"MLPF\");\n",
    "#         plt.legend(loc=(0.75, 0.75))\n",
    "        \n",
    "#         ylim = ax.get_ylim()\n",
    "            \n",
    "#         cls_name = CLASS_NAMES_CMS[icls] if icls>0 else \"all\"\n",
    "#         plt.xlabel(\"{} {}\".format(cls_name, ivar))\n",
    "        \n",
    "#         plt.yscale(\"log\")\n",
    "#         plt.ylim(10, 10*ylim[1])\n",
    "        \n",
    "        \n",
    "#         if log:\n",
    "#             plt.xscale(\"log\")\n",
    "#         cms_label(ax)\n",
    "        \n",
    "#     plt.tight_layout()\n",
    "#     plt.savefig(\"distribution_icls{}.pdf\".format(icls), bbox_inches=\"tight\")\n",
    "#     plt.savefig(\"distribution_icls{}.png\".format(icls), dpi=300, bbox_inches=\"tight\")"
   ]
  },
  {
   "cell_type": "code",
   "execution_count": null,
   "id": "paperback-timeline",
   "metadata": {},
   "outputs": [],
   "source": [
    "# def plot_particle_regression(\n",
    "#     ivar=\"energy\", icls=2,\n",
    "#     particle_label=\"Neutral hadrons\",\n",
    "#     log=True,\n",
    "#     minval=-1,\n",
    "#     maxval=3,\n",
    "#     norm=matplotlib.colors.LogNorm()):\n",
    "    \n",
    "#     plt.figure(figsize=(8,7))\n",
    "#     ax = plt.axes()\n",
    "    \n",
    "#     bins = np.linspace(minval, maxval, 100)\n",
    "#     msk_both = (yvals_f[\"pred_cls_id\"] == icls) & (yvals_f[\"gen_cls_id\"]==icls)\n",
    "    \n",
    "#     vals_true = yvals_f[\"gen_\"+ivar][msk_both]\n",
    "#     vals_pred = yvals_f[\"pred_\"+ivar][msk_both]\n",
    "    \n",
    "#     if log:\n",
    "#         vals_true = np.log10(vals_true)\n",
    "#         vals_pred = np.log10(vals_pred)\n",
    "    \n",
    "#     plt.hist2d(\n",
    "#         vals_true,\n",
    "#         vals_pred,\n",
    "#         bins=(bins, bins),\n",
    "#         cmap=\"Blues\", norm=norm\n",
    "#     )\n",
    "    \n",
    "#     plt.colorbar()\n",
    "#     plt.plot([minval, maxval], [minval, maxval], color=\"black\", ls=\"--\", lw=0.5)\n",
    "#     plt.xlim(minval, maxval)\n",
    "#     plt.ylim(minval, maxval)\n",
    "#     #cms_label(ax)\n",
    "#     #plt.text(0.02, 0.94, particle_label, transform=ax.transAxes)\n",
    "#     ax.set_xticks(ax.get_yticks());"
   ]
  },
  {
   "cell_type": "code",
   "execution_count": null,
   "id": "ecological-toner",
   "metadata": {},
   "outputs": [],
   "source": [
    "# plot_particle_regression(ivar=\"energy\", icls=1, particle_label=\"Charged hadrons\")\n",
    "# plt.xlabel(\"PFCandidate $\\log_{10}$ E/GeV\")\n",
    "# plt.ylabel(\"MLPFCandidate $\\log_{10}$ E/GeV\")\n",
    "# plt.savefig(\"energy_corr_cls1_log.pdf\", bbox_inches=\"tight\")\n",
    "# plt.savefig(\"energy_corr_cls1_log.png\", bbox_inches=\"tight\", dpi=300)"
   ]
  },
  {
   "cell_type": "code",
   "execution_count": null,
   "id": "transparent-remedy",
   "metadata": {},
   "outputs": [],
   "source": [
    "# plot_particle_regression(ivar=\"energy\", icls=2, particle_label=\"Neutral hadrons\")\n",
    "# plt.xlabel(\"PFCandidate $\\log_{10}$ E/GeV\")\n",
    "# plt.ylabel(\"MLPFCandidate $\\log_{10}$ E/GeV\")\n",
    "# plt.savefig(\"energy_corr_cls2_log.pdf\", bbox_inches=\"tight\")\n",
    "# plt.savefig(\"energy_corr_cls2_log.png\", bbox_inches=\"tight\", dpi=300)"
   ]
  },
  {
   "cell_type": "code",
   "execution_count": null,
   "id": "promotional-checklist",
   "metadata": {},
   "outputs": [],
   "source": [
    "# plot_particle_regression(ivar=\"eta\", icls=1, particle_label=\"Charged hadrons\", log=False, minval=-4, maxval=4)\n",
    "# plt.xlabel(\"PFCandidate $\\eta$\")\n",
    "# plt.ylabel(\"MLPFCandidate $\\eta$\")\n",
    "# plt.savefig(\"eta_corr_cls1_log.pdf\", bbox_inches=\"tight\")\n",
    "# plt.savefig(\"eta_corr_cls1_log.png\", bbox_inches=\"tight\", dpi=300)"
   ]
  },
  {
   "cell_type": "code",
   "execution_count": null,
   "id": "suitable-kansas",
   "metadata": {},
   "outputs": [],
   "source": [
    "# plot_particle_regression(ivar=\"eta\", icls=2, particle_label=\"Neutral hadrons\", log=False, minval=-4, maxval=4)\n",
    "# plt.xlabel(\"PFCandidate $\\eta$\")\n",
    "# plt.ylabel(\"MLPFCandidate $\\eta$\")\n",
    "# plt.savefig(\"eta_corr_cls2_log.pdf\", bbox_inches=\"tight\")\n",
    "# plt.savefig(\"eta_corr_cls2_log.png\", bbox_inches=\"tight\", dpi=300)"
   ]
  },
  {
   "cell_type": "code",
   "execution_count": null,
   "id": "restricted-million",
   "metadata": {},
   "outputs": [],
   "source": [
    "# plot_particle_regression(ivar=\"energy\", icls=3, particle_label=\"HFEM\", minval=0.0, maxval=4)\n",
    "# plt.xlabel(\"PFCandidate $\\log_{10}$ E/GeV\")\n",
    "# plt.ylabel(\"MLPFCandidate $\\log_{10}$ E/GeV\")\n",
    "# plt.savefig(\"energy_corr_cls3_log.pdf\", bbox_inches=\"tight\")\n",
    "# plt.savefig(\"energy_corr_cls3_log.png\", bbox_inches=\"tight\", dpi=300)"
   ]
  },
  {
   "cell_type": "code",
   "execution_count": null,
   "id": "raising-first",
   "metadata": {},
   "outputs": [],
   "source": [
    "# plot_particle_regression(ivar=\"energy\", icls=4, particle_label=\"HFHAD\", minval=0.0, maxval=4)\n",
    "# plt.xlabel(\"PFCandidate $\\log_{10}$ E/GeV\")\n",
    "# plt.ylabel(\"MLPFCandidate $\\log_{10}$ E/GeV\")\n",
    "# plt.savefig(\"energy_corr_cls4_log.pdf\", bbox_inches=\"tight\")\n",
    "# plt.savefig(\"energy_corr_cls4_log.png\", bbox_inches=\"tight\", dpi=300)"
   ]
  },
  {
   "cell_type": "code",
   "execution_count": null,
   "id": "eb29cd12",
   "metadata": {},
   "outputs": [],
   "source": [
    "# plot_particle_regression(ivar=\"energy\", icls=5, particle_label=\"gamma\", minval=0.0, maxval=4)\n",
    "# plt.xlabel(\"PFCandidate $\\log_{10}$ E/GeV\")\n",
    "# plt.ylabel(\"MLPFCandidate $\\log_{10}$ E/GeV\")\n",
    "# plt.savefig(\"energy_corr_cls5_log.pdf\", bbox_inches=\"tight\")\n",
    "# plt.savefig(\"energy_corr_cls5_log.png\", bbox_inches=\"tight\", dpi=300)"
   ]
  },
  {
   "cell_type": "code",
   "execution_count": null,
   "id": "56fc8943",
   "metadata": {},
   "outputs": [],
   "source": [
    "# plot_particle_regression(ivar=\"energy\", icls=6, particle_label=\"e\", minval=0.0, maxval=4)\n",
    "# plt.xlabel(\"PFCandidate $\\log_{10}$ E/GeV\")\n",
    "# plt.ylabel(\"MLPFCandidate $\\log_{10}$ E/GeV\")\n",
    "# plt.savefig(\"energy_corr_cls6_log.pdf\", bbox_inches=\"tight\")\n",
    "# plt.savefig(\"energy_corr_cls6_log.png\", bbox_inches=\"tight\", dpi=300)"
   ]
  },
  {
   "cell_type": "code",
   "execution_count": null,
   "id": "51617bae",
   "metadata": {},
   "outputs": [],
   "source": [
    "# plot_particle_regression(ivar=\"energy\", icls=7, particle_label=\"mu\", minval=0.0, maxval=4)\n",
    "# plt.xlabel(\"PFCandidate $\\log_{10}$ E/GeV\")\n",
    "# plt.ylabel(\"MLPFCandidate $\\log_{10}$ E/GeV\")\n",
    "# plt.savefig(\"energy_corr_cls7_log.pdf\", bbox_inches=\"tight\")\n",
    "# plt.savefig(\"energy_corr_cls7_log.png\", bbox_inches=\"tight\", dpi=300)"
   ]
  }
 ],
 "metadata": {
  "kernelspec": {
   "display_name": "Python 3",
   "language": "python",
   "name": "python3"
  },
  "language_info": {
   "codemirror_mode": {
    "name": "ipython",
    "version": 3
   },
   "file_extension": ".py",
   "mimetype": "text/x-python",
   "name": "python",
   "nbconvert_exporter": "python",
   "pygments_lexer": "ipython3",
   "version": "3.8.10"
  }
 },
 "nbformat": 4,
 "nbformat_minor": 5
}
