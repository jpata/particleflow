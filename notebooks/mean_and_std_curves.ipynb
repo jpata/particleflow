{
 "cells": [
  {
   "cell_type": "code",
   "execution_count": null,
   "metadata": {},
   "outputs": [],
   "source": [
    "import matplotlib as mpl\n",
    "import matplotlib.pyplot as plt\n",
    "import pandas as pd\n",
    "from pathlib import Path\n",
    "import numpy as np\n",
    "import json"
   ]
  },
  {
   "cell_type": "code",
   "execution_count": null,
   "metadata": {},
   "outputs": [],
   "source": [
    "train_dirs = [\n",
    "    \"../experiments/all_data_cms-best-of-asha-scikit_20211025_083504_712103.workergpu007/\",\n",
    "    \"../experiments/all_data_cms-best-of-asha-scikit_20211025_083504_715900.workergpu006/\",\n",
    "    \"../experiments/all_data_cms-best-of-asha-scikit_20211025_083504_717867.workergpu020/\",\n",
    "    \"../experiments/all_data_cms-best-of-asha-scikit_20211025_083504_732144.workergpu010/\",\n",
    "    \"../experiments/all_data_cms-best-of-asha-scikit_20211025_083504_859436.workergpu036/\",\n",
    "    \"../experiments/all_data_cms-best-of-asha-scikit_20211026_042043_168888.workergpu007/\",\n",
    "    \"../experiments/all_data_cms-best-of-asha-scikit_20211026_042043_175689.workergpu036/\",\n",
    "    \"../experiments/all_data_cms-best-of-asha-scikit_20211026_042043_178263.workergpu010/\",\n",
    "    \"../experiments/all_data_cms-best-of-asha-scikit_20211026_042043_309903.workergpu020/\",\n",
    "    \"../experiments/all_data_cms-best-of-asha-scikit_20211026_042043_311628.workergpu006/\",\n",
    "]"
   ]
  },
  {
   "cell_type": "code",
   "execution_count": null,
   "metadata": {},
   "outputs": [],
   "source": [
    "paths = []\n",
    "for train_dir in train_dirs:\n",
    "    paths.append(Path(train_dir))\n",
    "\n",
    "histories = []\n",
    "for path in paths:\n",
    "    with open(path / \"history/history.json\") as h:\n",
    "        histories.append(json.load(h))\n",
    "\n",
    "for history in histories:\n",
    "    reg_loss = np.sum(\n",
    "        np.array([history[\"{}_loss\".format(l)] for l in [\"energy\", \"pt\", \"eta\", \"sin_phi\", \"cos_phi\", \"charge\"]]), axis=0\n",
    "    )\n",
    "    val_reg_loss = np.sum(\n",
    "        np.array([history[\"val_{}_loss\".format(l)] for l in [\"energy\", \"pt\", \"eta\", \"sin_phi\", \"cos_phi\", \"charge\"]]), axis=0\n",
    "    )\n",
    "    history.update({\"reg_loss\": reg_loss})\n",
    "    history.update({\"val_reg_loss\": val_reg_loss})"
   ]
  },
  {
   "cell_type": "code",
   "execution_count": null,
   "metadata": {},
   "outputs": [],
   "source": [
    "def cms_label(x0=0.12, x1=0.23, x2=0.67, y=0.90):\n",
    "    plt.figtext(x0, y, \"CMS\", fontweight=\"bold\", wrap=True, horizontalalignment=\"left\", fontsize=16)\n",
    "    plt.figtext(x1, y, \"Simulation Preliminary\", style=\"italic\", wrap=True, horizontalalignment=\"left\", fontsize=14)\n",
    "    plt.figtext(\n",
    "        x2,\n",
    "        y,\n",
    "        r\"Run 3 (14 TeV), $\\mathrm{t}\\overline{\\mathrm{t}}$, QCD with PU50; $\\mu, \\pi, \\pi_0, \\tau, \\gamma$, single particle guns\",\n",
    "        wrap=False,\n",
    "        horizontalalignment=\"left\",\n",
    "        fontsize=12,\n",
    "    )\n",
    "\n",
    "\n",
    "def get_combined_array(key):\n",
    "    combined_array = np.array(histories[0][key])\n",
    "    for ii in range(1, len(histories)):\n",
    "        combined_array = np.vstack([combined_array, np.array(histories[ii][key])])\n",
    "    return combined_array"
   ]
  },
  {
   "cell_type": "code",
   "execution_count": null,
   "metadata": {},
   "outputs": [],
   "source": [
    "loss_array = get_combined_array(\"loss\")\n",
    "reg_loss_array = get_combined_array(\"reg_loss\")\n",
    "cls_loss_array = get_combined_array(\"cls_loss\")\n",
    "\n",
    "val_loss_array = get_combined_array(\"val_loss\")\n",
    "val_reg_loss_array = get_combined_array(\"val_reg_loss\")\n",
    "val_cls_loss_array = get_combined_array(\"val_cls_loss\")\n",
    "\n",
    "cls_acc_weighted_array = get_combined_array(\"cls_acc_weighted\")\n",
    "val_cls_acc_weighted_array = get_combined_array(\"val_cls_acc_weighted\")"
   ]
  },
  {
   "cell_type": "code",
   "execution_count": null,
   "metadata": {},
   "outputs": [],
   "source": [
    "loss_array.shape, val_loss_array.shape"
   ]
  },
  {
   "cell_type": "code",
   "execution_count": null,
   "metadata": {},
   "outputs": [],
   "source": [
    "def plot_variance_curve(array_list, labels, skip=0, ylim=None, save_path=None):\n",
    "    fig = plt.figure()\n",
    "    final_means = []\n",
    "    final_stds = []\n",
    "    for ii, array in enumerate(array_list):\n",
    "        xx = np.array(range(array.shape[1])) + 1  # Epochs\n",
    "\n",
    "        xx = xx[skip:]\n",
    "        array = array[:, skip:]\n",
    "\n",
    "        std = np.std(array, axis=0)\n",
    "        mean = np.mean(array, axis=0)\n",
    "\n",
    "        plt.plot(xx, mean, label=labels[ii])\n",
    "        plt.fill_between(xx, mean - std, mean + std, alpha=0.4)\n",
    "\n",
    "        # Add individual loss curves\n",
    "        # plt.plot(np.tile(xx, reps=[10,1]).transpose(), array.transpose(), linewidth=0.2)\n",
    "\n",
    "        print(labels[ii] + \": {:.5f} +/- {:.5f}\".format(mean[-1], std[-1]))\n",
    "        final_means.append(mean[-1])\n",
    "        final_stds.append(std[-1])\n",
    "\n",
    "    plt.legend(bbox_to_anchor=(0.98, 0.78), loc=\"center right\")\n",
    "    plt.xlabel(\"Epochs\")\n",
    "    plt.figtext(x=0.45, y=0.53, s=\"Mean and standard deviation\\nof {} trainings\".format(array.shape[0]), fontsize=14)\n",
    "    s = \"\"\n",
    "    for ii, label in enumerate(labels):\n",
    "        s += \"Final {}: {:.5f} +/- {:.5f}\\n\".format(label.lower(), final_means[ii], final_stds[ii])\n",
    "    plt.figtext(x=0.45, y=0.45, s=s, fontsize=12)\n",
    "    if ylim:\n",
    "        plt.ylim(top=ylim[1], bottom=ylim[0])\n",
    "\n",
    "    cms_label(x0=0.13, x1=0.185, x2=0.43)\n",
    "    if save_path:\n",
    "        plt.savefig(save_path)\n",
    "    plt.show()"
   ]
  },
  {
   "cell_type": "code",
   "execution_count": null,
   "metadata": {},
   "outputs": [],
   "source": [
    "plt.close()"
   ]
  },
  {
   "cell_type": "code",
   "execution_count": null,
   "metadata": {
    "scrolled": false
   },
   "outputs": [],
   "source": [
    "mpl.rc_file(\"my_matplotlib_rcparams\")\n",
    "plot_variance_curve(\n",
    "    [loss_array, val_loss_array],\n",
    "    labels=[\"Training loss\", \"Validation loss\"],\n",
    "    skip=0,\n",
    "    ylim=[0.0, 0.25],\n",
    "    save_path=\"loss_curves_std.pdf\",\n",
    ")"
   ]
  },
  {
   "cell_type": "code",
   "execution_count": null,
   "metadata": {},
   "outputs": [],
   "source": [
    "plot_variance_curve(\n",
    "    [reg_loss_array, val_reg_loss_array],\n",
    "    labels=[\"Training regression loss\", \"Validation regression loss\"],\n",
    "    skip=25,\n",
    "    ylim=(0.0, 0.04),\n",
    ")"
   ]
  },
  {
   "cell_type": "code",
   "execution_count": null,
   "metadata": {},
   "outputs": [],
   "source": [
    "plot_variance_curve(\n",
    "    [cls_loss_array, val_cls_loss_array],\n",
    "    labels=[\"Training classification loss\", \"Validation classification loss\"],\n",
    "    skip=25,\n",
    "    ylim=(0.0, 0.005),\n",
    ")"
   ]
  },
  {
   "cell_type": "code",
   "execution_count": null,
   "metadata": {},
   "outputs": [],
   "source": [
    "plot_variance_curve(\n",
    "    [cls_acc_weighted_array, val_cls_acc_weighted_array],\n",
    "    [\"Weighted train accuracy\", \"Weighted valididation accuracy\"],\n",
    "    skip=0,\n",
    "    ylim=(0.8, 1),\n",
    "    save_path=\"cls_acc_std.pdf\",\n",
    ")"
   ]
  },
  {
   "cell_type": "code",
   "execution_count": null,
   "metadata": {},
   "outputs": [],
   "source": []
  }
 ],
 "metadata": {
  "kernelspec": {
   "display_name": "tf2",
   "language": "python",
   "name": "tf2"
  },
  "language_info": {
   "codemirror_mode": {
    "name": "ipython",
    "version": 3
   },
   "file_extension": ".py",
   "mimetype": "text/x-python",
   "name": "python",
   "nbconvert_exporter": "python",
   "pygments_lexer": "ipython3",
   "version": "3.8.8"
  }
 },
 "nbformat": 4,
 "nbformat_minor": 4
}
