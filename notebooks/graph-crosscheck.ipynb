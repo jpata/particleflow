{
 "cells": [
  {
   "cell_type": "code",
   "execution_count": null,
   "id": "38a1e641-6202-4380-80f4-4f2af9daef64",
   "metadata": {},
   "outputs": [],
   "source": [
    "import pickle\n",
    "import matplotlib.pyplot as plt\n",
    "import numpy as np"
   ]
  },
  {
   "cell_type": "code",
   "execution_count": null,
   "id": "44442629-2ceb-4e71-ba79-0ae13bf1e48f",
   "metadata": {},
   "outputs": [],
   "source": [
    "d = pickle.load(open(\"../pfntuple_700000.pkl\", \"rb\"))"
   ]
  },
  {
   "cell_type": "code",
   "execution_count": null,
   "id": "bee71d9f-5b75-448c-ad85-e7eb5ddcab42",
   "metadata": {},
   "outputs": [],
   "source": [
    "def compute_met(pt, phi):\n",
    "    px = np.sum(pt*np.cos(phi))\n",
    "    py = np.sum(pt*np.sin(phi))\n",
    "    met = np.sqrt(px**2+py**2)\n",
    "    return met"
   ]
  },
  {
   "cell_type": "code",
   "execution_count": null,
   "id": "037180dd-f820-4b19-a6b1-a1d78de21fc5",
   "metadata": {},
   "outputs": [],
   "source": [
    "d[0][\"full_graph\"].nodes[sim[0]]"
   ]
  },
  {
   "cell_type": "code",
   "execution_count": null,
   "id": "bff17a0a-4233-4bc3-85e0-5eae36d266ee",
   "metadata": {},
   "outputs": [],
   "source": [
    "for ig in [100]:\n",
    "    g = d[ig][\"full_graph\"]\n",
    "    gen = [n for n in g.nodes if n[0]==\"gen\" and np.abs(g.nodes[n][\"typ\"]) not in [12,14,16] and g.nodes[n][\"status\"] in [1,2]]\n",
    "    sim = [n for n in g.nodes if (n[0]==\"tp\" or n[0]==\"sc\")]\n",
    "    pf = [n for n in g.nodes if n[0]==\"pfcand\"]\n",
    "    elem = [n for n in g.nodes if n[0]==\"elem\" and g.nodes[n][\"typ\"] not in [2,3,7]]\n",
    "\n",
    "    elem_eta = np.array([g.nodes[n][\"eta\"] for n in elem])\n",
    "    elem_phi = np.array([g.nodes[n][\"phi\"] for n in elem])\n",
    "    elem_e = np.array([g.nodes[n][\"e\"] for n in elem])\n",
    "    elem_typ = np.array([g.nodes[n][\"typ\"] for n in elem])\n",
    "\n",
    "    gen_eta = np.array([g.nodes[n][\"eta\"] for n in gen])\n",
    "    gen_phi = np.array([g.nodes[n][\"phi\"] for n in gen])\n",
    "    gen_pt = np.array([g.nodes[n][\"pt\"] for n in gen])\n",
    "    gen_pid = np.array([g.nodes[n][\"typ\"] for n in gen])\n",
    "    \n",
    "    sim_eta = np.array([g.nodes[n][\"eta\"] for n in sim])\n",
    "    sim_phi = np.array([g.nodes[n][\"phi\"] for n in sim])\n",
    "    sim_pt = np.array([g.nodes[n][\"pt\"] for n in sim])\n",
    "    sim_pid = np.array([g.nodes[n][\"typ\"] for n in sim])\n",
    "    \n",
    "    pf_eta = np.array([g.nodes[n][\"eta\"] for n in pf])\n",
    "    pf_phi = np.array([np.arctan2(g.nodes[n][\"sin_phi\"], g.nodes[n][\"cos_phi\"]) for n in pf])\n",
    "    pf_pt = np.array([g.nodes[n][\"pt\"] for n in pf])\n",
    "    pf_pid = np.array([g.nodes[n][\"typ\"] for n in pf])\n",
    "\n",
    "    msk = np.abs(gen_eta)<5\n",
    "    genmet = compute_met(gen_pt[msk], gen_phi[msk])\n",
    "    simmet = compute_met(sim_pt, sim_phi)\n",
    "    pfmet = compute_met(pf_pt, pf_phi)\n",
    "    if (simmet - genmet)>80:\n",
    "        print(ig, genmet, simmet, pfmet)\n",
    "        continue"
   ]
  },
  {
   "cell_type": "code",
   "execution_count": null,
   "id": "5bec242b-63bc-4c14-a88d-275ce597c11a",
   "metadata": {},
   "outputs": [],
   "source": [
    "import pandas\n",
    "\n",
    "df0 = pandas.DataFrame()\n",
    "df0[\"eta\"] = elem_eta\n",
    "df0[\"phi\"] = elem_phi\n",
    "df0[\"e\"] = elem_e\n",
    "df0[\"typ\"] = elem_typ\n",
    "\n",
    "df1 = pandas.DataFrame()\n",
    "df1[\"eta\"] = gen_eta\n",
    "df1[\"phi\"] = gen_phi\n",
    "df1[\"pt\"] = gen_pt\n",
    "df1[\"pid\"] = gen_pid\n",
    "df1[\"id\"] = gen\n",
    "\n",
    "df2 = pandas.DataFrame()\n",
    "df2[\"eta\"] = sim_eta\n",
    "df2[\"phi\"] = sim_phi\n",
    "df2[\"pt\"] = sim_pt\n",
    "df2[\"pid\"] = sim_pid\n",
    "df2[\"id\"] = sim\n",
    "\n",
    "df3 = pandas.DataFrame()\n",
    "df3[\"eta\"] = pf_eta\n",
    "df3[\"phi\"] = pf_phi\n",
    "df3[\"pt\"] = pf_pt\n",
    "df3[\"pid\"] = pf_pid"
   ]
  },
  {
   "cell_type": "code",
   "execution_count": null,
   "id": "51f5c845-dd58-467f-ac4b-fd2f3eabfebc",
   "metadata": {},
   "outputs": [],
   "source": [
    "etaval = 1.537387\n",
    "phival = -2.255354"
   ]
  },
  {
   "cell_type": "code",
   "execution_count": null,
   "id": "d05e70a1-b08d-4b5e-a8d0-53e0f83568e7",
   "metadata": {},
   "outputs": [],
   "source": [
    "df0[(np.abs(df0[\"eta\"]-etaval)<0.1) & (np.abs(df0[\"phi\"]-phival)<0.1)].sort_values(by=\"e\", ascending=False)[:20]"
   ]
  },
  {
   "cell_type": "code",
   "execution_count": null,
   "id": "71d70d9c-fea3-49bd-a7ee-7edee3ae1237",
   "metadata": {},
   "outputs": [],
   "source": [
    "g.nodes[(\"gen\", 2)]"
   ]
  },
  {
   "cell_type": "code",
   "execution_count": null,
   "id": "ac64f139-f958-47b3-baa9-9aa08a3141e0",
   "metadata": {},
   "outputs": [],
   "source": [
    "list(g.neighbors((\"gen\", 2225)))"
   ]
  },
  {
   "cell_type": "code",
   "execution_count": null,
   "id": "7a1364f0-6031-4d6b-986c-21408c5951ed",
   "metadata": {},
   "outputs": [],
   "source": [
    "df1[(np.abs(df1[\"eta\"]-etaval)<0.1) & (np.abs(df1[\"phi\"]-phival)<0.1)].sort_values(by=\"pt\", ascending=False)"
   ]
  },
  {
   "cell_type": "code",
   "execution_count": null,
   "id": "a19f51a6-7a34-4cac-81ae-59edbaceb635",
   "metadata": {},
   "outputs": [],
   "source": [
    "df2[(np.abs(df2[\"eta\"]-etaval)<0.1) & (np.abs(df2[\"phi\"]-phival)<0.1)].sort_values(by=\"pt\", ascending=False)"
   ]
  },
  {
   "cell_type": "code",
   "execution_count": null,
   "id": "3718ebd9-db13-47d5-95a2-3181df939fdd",
   "metadata": {},
   "outputs": [],
   "source": [
    "df1.sort_values(by=\"pt\", ascending=False)[:20]"
   ]
  },
  {
   "cell_type": "code",
   "execution_count": null,
   "id": "727b4e63-b948-4c16-aa17-9085d1abc346",
   "metadata": {},
   "outputs": [],
   "source": [
    "df2.sort_values(by=\"pt\", ascending=False)[:10]"
   ]
  },
  {
   "cell_type": "code",
   "execution_count": null,
   "id": "4ba12ecf-2c91-4049-9ece-757c10d6e23c",
   "metadata": {},
   "outputs": [],
   "source": [
    "g.nodes[(\"tp\", 132)]"
   ]
  },
  {
   "cell_type": "code",
   "execution_count": null,
   "id": "a09fe16b-d768-45c3-8119-bd374b852f90",
   "metadata": {},
   "outputs": [],
   "source": [
    "g.nodes[('elem', 180)]"
   ]
  },
  {
   "cell_type": "code",
   "execution_count": null,
   "id": "c2101fee-ca52-4ef3-9614-0873931ee87a",
   "metadata": {},
   "outputs": [],
   "source": [
    "for n in list(g.neighbors((\"tp\", 132))):\n",
    "    print(n, g.edges[(\"tp\", 132), n])"
   ]
  },
  {
   "cell_type": "code",
   "execution_count": null,
   "id": "b6083815-d823-488a-8c42-02ce709b4c37",
   "metadata": {},
   "outputs": [],
   "source": [
    "df3.sort_values(by=\"pt\", ascending=False)[:10]"
   ]
  },
  {
   "cell_type": "code",
   "execution_count": null,
   "id": "563a66a6-8ced-414c-8503-cdbd5d3bfecc",
   "metadata": {},
   "outputs": [],
   "source": [
    "plt.figure(figsize=(10,10))\n",
    "plt.scatter(gen_eta, gen_phi, s=5*gen_pt)\n",
    "plt.scatter(sim_eta, sim_phi, s=5*sim_pt, marker=\"s\", alpha=0.5)\n",
    "plt.scatter(pf_eta, pf_phi, s=5*pf_pt, marker=\"x\", alpha=0.5)\n",
    "plt.xlim(-5,5)\n",
    "plt.ylim(-5,5)"
   ]
  },
  {
   "cell_type": "code",
   "execution_count": null,
   "id": "418ddd4f-b6f7-441c-aa19-c6a7ca011259",
   "metadata": {},
   "outputs": [],
   "source": []
  },
  {
   "cell_type": "code",
   "execution_count": null,
   "id": "ffdaad22-6b0c-4e7d-a914-b47ebc5b54d3",
   "metadata": {},
   "outputs": [],
   "source": []
  }
 ],
 "metadata": {
  "kernelspec": {
   "display_name": "Python 3 (ipykernel)",
   "language": "python",
   "name": "python3"
  },
  "language_info": {
   "codemirror_mode": {
    "name": "ipython",
    "version": 3
   },
   "file_extension": ".py",
   "mimetype": "text/x-python",
   "name": "python",
   "nbconvert_exporter": "python",
   "pygments_lexer": "ipython3",
   "version": "3.10.14"
  }
 },
 "nbformat": 4,
 "nbformat_minor": 5
}
