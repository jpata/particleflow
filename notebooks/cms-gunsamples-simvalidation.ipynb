{
 "cells": [
  {
   "cell_type": "code",
   "execution_count": null,
   "id": "8b8e4812",
   "metadata": {},
   "outputs": [],
   "source": [
    "import matplotlib\n",
    "\n",
    "%matplotlib inline"
   ]
  },
  {
   "cell_type": "code",
   "execution_count": null,
   "id": "5703c5c6",
   "metadata": {},
   "outputs": [],
   "source": [
    "import glob\n",
    "import boost_histogram as bh\n",
    "import networkx as nx"
   ]
  },
  {
   "cell_type": "code",
   "execution_count": null,
   "id": "7bedc31b",
   "metadata": {},
   "outputs": [],
   "source": [
    "import uproot\n",
    "import mplhep\n",
    "\n",
    "mplhep.style.use(\"CMS\")\n",
    "import awkward\n",
    "import numpy as np\n",
    "import matplotlib.pyplot as plt"
   ]
  },
  {
   "cell_type": "code",
   "execution_count": null,
   "id": "91779095",
   "metadata": {},
   "outputs": [],
   "source": [
    "sample = \"SinglePiMinusFlatPt0p7To1000_cfi\""
   ]
  },
  {
   "cell_type": "code",
   "execution_count": null,
   "id": "98161cdd",
   "metadata": {},
   "outputs": [],
   "source": [
    "!ls /hdfs/local/joosep/mlpf/gen/v2/"
   ]
  },
  {
   "cell_type": "code",
   "execution_count": null,
   "id": "237a7bcb",
   "metadata": {},
   "outputs": [],
   "source": [
    "tt = uproot.lazy(glob.glob(\"/hdfs/local/joosep/mlpf/gen/v2/{}/root/pfntuple_*.root\".format(sample)))"
   ]
  },
  {
   "cell_type": "code",
   "execution_count": null,
   "id": "3060b570",
   "metadata": {},
   "outputs": [],
   "source": [
    "g = nx.DiGraph()\n",
    "iev = 0\n",
    "\n",
    "for i in range(len(tt.gen_pdgid[iev])):\n",
    "    if tt.gen_status[iev][i] == 1:\n",
    "        g.add_node(\n",
    "            (\"gen\", i),\n",
    "            typ=tt.gen_pdgid[iev][i],\n",
    "            e=tt.gen_energy[iev][i],\n",
    "            eta=tt.gen_eta[iev][i],\n",
    "            phi=tt.gen_phi[iev][i],\n",
    "        )\n",
    "\n",
    "for i in range(len(tt.trackingparticle_pid[iev])):\n",
    "    g.add_node(\n",
    "        (\"tp\", i),\n",
    "        typ=tt.trackingparticle_pid[iev][i],\n",
    "        e=tt.trackingparticle_energy[iev][i],\n",
    "        eta=tt.trackingparticle_eta[iev][i],\n",
    "        phi=tt.trackingparticle_phi[iev][i],\n",
    "    )\n",
    "\n",
    "for i in range(len(tt.caloparticle_pid[iev])):\n",
    "    g.add_node(\n",
    "        (\"cp\", i),\n",
    "        typ=tt.caloparticle_pid[iev][i],\n",
    "        e=tt.caloparticle_energy[iev][i],\n",
    "        eta=tt.caloparticle_eta[iev][i],\n",
    "        phi=tt.caloparticle_phi[iev][i],\n",
    "    )\n",
    "\n",
    "for i in range(len(tt.element_type[iev])):\n",
    "    g.add_node(\n",
    "        (\"el\", i),\n",
    "        typ=tt.element_type[iev][i],\n",
    "        e=tt.element_energy[iev][i],\n",
    "        eta=tt.element_eta[iev][i],\n",
    "        phi=tt.element_phi[iev][i],\n",
    "    )\n",
    "\n",
    "for i in range(len(tt.pfcandidate_pdgid[iev])):\n",
    "    g.add_node(\n",
    "        (\"pf\", i),\n",
    "        typ=tt.pfcandidate_pdgid[iev][i],\n",
    "        e=tt.pfcandidate_energy[iev][i],\n",
    "        eta=tt.pfcandidate_eta[iev][i],\n",
    "        phi=tt.pfcandidate_phi[iev][i],\n",
    "    )\n",
    "\n",
    "for itp, ielem in zip(\n",
    "    list(tt[\"trackingparticle_to_element.first\"][iev]), list(tt[\"trackingparticle_to_element.second\"][iev])\n",
    "):\n",
    "    g.add_edge((\"tp\", itp), (\"el\", ielem))\n",
    "\n",
    "for itp, ielem in zip(list(tt[\"caloparticle_to_element.first\"][iev]), list(tt[\"caloparticle_to_element.second\"][iev])):\n",
    "    g.add_edge((\"cp\", itp), (\"el\", ielem))\n",
    "\n",
    "for ielem, ipf in zip(list(tt[\"element_to_candidate.first\"][iev]), list(tt[\"element_to_candidate.second\"][iev])):\n",
    "    g.add_edge((\"el\", ielem), (\"pf\", ipf))\n",
    "\n",
    "for icp in range(len(tt.caloparticle_idx_trackingparticle[iev])):\n",
    "    itp = tt.caloparticle_idx_trackingparticle[iev][icp]\n",
    "    if itp != -1:\n",
    "        g.add_edge((\"cp\", icp), (\"tp\", itp))"
   ]
  },
  {
   "cell_type": "code",
   "execution_count": null,
   "id": "19802d0a",
   "metadata": {},
   "outputs": [],
   "source": [
    "def node_label_func(n):\n",
    "    return \"{0} {1}\\nE={2:.2f}\\n{3:.1f}:{4:.1f}\".format(\n",
    "        n[0].upper(), g.nodes[n][\"typ\"], g.nodes[n][\"e\"], g.nodes[n][\"eta\"], g.nodes[n][\"phi\"]\n",
    "    )\n",
    "\n",
    "\n",
    "def node_color_func(n):\n",
    "    colors = {\"gen\": \"blue\", \"el\": \"gray\", \"pf\": \"purple\", \"tp\": \"red\", \"cp\": \"red\", \"gen\": \"blue\"}\n",
    "    return colors[n[0]]\n",
    "\n",
    "\n",
    "node_labels = {n: node_label_func(n) for n in g.nodes}\n",
    "node_colors = [node_color_func(n) for n in g.nodes]"
   ]
  },
  {
   "cell_type": "code",
   "execution_count": null,
   "id": "af14169e",
   "metadata": {},
   "outputs": [],
   "source": [
    "plt.figure(figsize=(50, 5))\n",
    "pos = nx.nx_pydot.pydot_layout(g, prog=\"dot\")\n",
    "# pos = nx.spring_layout(g, k=0.15, iterations=20)\n",
    "nx.draw_networkx(g, pos=pos, with_labels=False, node_color=node_colors, alpha=0.5)\n",
    "nx.draw_networkx_labels(g, pos, labels=node_labels, font_size=4)\n",
    "plt.savefig(\"{}_{}.svg\".format(sample, iev))"
   ]
  },
  {
   "cell_type": "code",
   "execution_count": null,
   "id": "44a17faf",
   "metadata": {},
   "outputs": [],
   "source": [
    "def plot_energy_stack(energies, pids):\n",
    "    uniq_pids = np.unique(pids)\n",
    "    hists = []\n",
    "    bins = np.logspace(-1, 6, 61)\n",
    "    for pid in uniq_pids:\n",
    "        h = bh.Histogram(bh.axis.Variable(bins))\n",
    "        h.fill(energies[pids == pid])\n",
    "        hists.append(h)\n",
    "    mplhep.histplot(hists, stack=False, label=[str(p) for p in uniq_pids])\n",
    "    plt.legend()"
   ]
  },
  {
   "cell_type": "code",
   "execution_count": null,
   "id": "84fd88e1",
   "metadata": {
    "scrolled": false
   },
   "outputs": [],
   "source": [
    "plot_energy_stack(awkward.flatten(tt.pfcandidate_energy), np.abs(awkward.flatten(tt.pfcandidate_pdgid)))\n",
    "plt.xscale(\"log\")\n",
    "plt.yscale(\"log\")\n",
    "plt.title(sample + \" PF\")\n",
    "plt.xlabel(\"$E_{PF}\\ [GeV]$\")\n",
    "plt.savefig(\"{}_pf_energy.pdf\".format(sample))"
   ]
  },
  {
   "cell_type": "code",
   "execution_count": null,
   "id": "9110ff27",
   "metadata": {},
   "outputs": [],
   "source": [
    "plot_energy_stack(\n",
    "    awkward.flatten(tt.gen_energy[tt.gen_status == 1]), np.abs(awkward.flatten(tt.gen_pdgid[tt.gen_status == 1]))\n",
    ")\n",
    "plt.xscale(\"log\")\n",
    "plt.yscale(\"log\")\n",
    "plt.title(sample + \" Gen\")\n",
    "plt.xlabel(\"$E_{gen}\\ [GeV]$\")\n",
    "plt.savefig(\"{}_gen_energy.pdf\".format(sample))"
   ]
  },
  {
   "cell_type": "code",
   "execution_count": null,
   "id": "2ed2ac2f",
   "metadata": {},
   "outputs": [],
   "source": [
    "plot_energy_stack(awkward.flatten(tt.caloparticle_energy), np.abs(awkward.flatten(tt.caloparticle_pid)))\n",
    "plt.xscale(\"log\")\n",
    "plt.yscale(\"log\")\n",
    "plt.title(sample + \" CaloParticle\")\n",
    "plt.xlabel(\"$E_{CP}\\ [GeV]$\")\n",
    "plt.savefig(\"{}_cp_energy.pdf\".format(sample))"
   ]
  },
  {
   "cell_type": "code",
   "execution_count": null,
   "id": "58bd9908",
   "metadata": {},
   "outputs": [],
   "source": [
    "plot_energy_stack(awkward.flatten(tt.trackingparticle_energy), np.abs(awkward.flatten(tt.trackingparticle_pid)))\n",
    "plt.xscale(\"log\")\n",
    "plt.yscale(\"log\")\n",
    "plt.title(sample + \" TrackingParticle\")\n",
    "plt.xlabel(\"$E_{TP}\\ [GeV]$\")\n",
    "plt.savefig(\"{}_tp_energy.pdf\".format(sample))"
   ]
  },
  {
   "cell_type": "code",
   "execution_count": null,
   "id": "34341d42",
   "metadata": {},
   "outputs": [],
   "source": [
    "bins = np.logspace(-3, 6, 101)\n",
    "plt.hist(awkward.flatten(tt.pfcandidate_energy), bins=bins, histtype=\"step\", lw=2, label=\"PF\")\n",
    "plt.hist(\n",
    "    awkward.flatten(tt.gen_energy[tt.gen_status == 1]), bins=bins, histtype=\"step\", lw=2, label=\"GenParticle\\n(status=1)\"\n",
    ")\n",
    "plt.hist(awkward.flatten(tt.caloparticle_energy), bins=bins, histtype=\"step\", lw=2, label=\"CaloParticle\")\n",
    "# plt.hist(awkward.flatten(tt.trackingparticle_energy), bins=bins, histtype=\"step\", lw=2, label=\"TrackingParticle\")\n",
    "plt.xscale(\"log\")\n",
    "plt.legend(loc=\"best\")\n",
    "plt.xlabel(\"E [GeV]\")\n",
    "plt.ylabel(\"Number of particles / bin\")\n",
    "plt.yscale(\"log\")\n",
    "plt.title(sample)\n",
    "plt.savefig(\"{}_energy.pdf\".format(sample))"
   ]
  },
  {
   "cell_type": "code",
   "execution_count": null,
   "id": "23bc3a3b",
   "metadata": {},
   "outputs": [],
   "source": [
    "bins = np.logspace(-3, 6, 101)\n",
    "\n",
    "pf_e = awkward.sum(tt.pfcandidate_energy, axis=-1)\n",
    "gen_e = awkward.sum(tt.gen_energy[tt.gen_status == 1], axis=-1)\n",
    "cp_e = awkward.sum(tt.caloparticle_energy, axis=-1)\n",
    "# tp_e = awkward.sum(tt.trackingparticle_energy, axis=-1)\n",
    "\n",
    "plt.hist(pf_e, bins=bins, histtype=\"step\", lw=2, label=\"PF\")\n",
    "plt.hist(gen_e, bins=bins, histtype=\"step\", lw=2, label=\"GenParticle\\n(status=1)\")\n",
    "plt.hist(cp_e, bins=bins, histtype=\"step\", lw=2, label=\"CaloParticle\")\n",
    "# plt.hist(tp_e, bins=bins, histtype=\"step\", lw=2, label=\"TrackingParticle\")\n",
    "\n",
    "plt.xscale(\"log\")\n",
    "plt.legend(loc=2)\n",
    "plt.xlabel(\"$\\sum E\\ [GeV]$\")\n",
    "plt.ylabel(\"Number of events / bin\")\n",
    "# plt.yscale(\"log\")\n",
    "plt.title(sample)\n",
    "plt.savefig(\"{}_sum_energy.pdf\".format(sample))"
   ]
  },
  {
   "cell_type": "code",
   "execution_count": null,
   "id": "d2fe40f4",
   "metadata": {},
   "outputs": [],
   "source": [
    "plt.scatter(gen_e, pf_e, alpha=0.7, label=\"x=PF\")\n",
    "plt.scatter(gen_e, cp_e, alpha=0.7, label=\"x=CaloParticle\")\n",
    "# plt.scatter(gen_e, tp_e, alpha=0.7)\n",
    "plt.xlabel(\"$\\sum E_{gen}\\ [GeV]$\")\n",
    "plt.ylabel(\"$\\sum E_x\\ [GeV]$\")\n",
    "plt.xscale(\"log\")\n",
    "plt.yscale(\"log\")\n",
    "plt.legend(loc=\"best\")\n",
    "plt.title(sample)\n",
    "plt.savefig(\"{}_energy_corr.pdf\".format(sample))"
   ]
  },
  {
   "cell_type": "code",
   "execution_count": null,
   "id": "4b7e8f28",
   "metadata": {},
   "outputs": [],
   "source": [
    "bins = np.linspace(0, 4, 100)\n",
    "plt.hist(gen_e / pf_e, bins=bins, histtype=\"step\", lw=2, label=\"x=GenParticle\\n(status=1)\")\n",
    "plt.hist(cp_e / pf_e, bins=bins, histtype=\"step\", lw=2, label=\"x=CaloParticle\")\n",
    "# plt.hist(tp_e/pf_e, bins=bins, histtype=\"step\", lw=2, label=\"TrackingParticle\")\n",
    "plt.legend(loc=\"best\")\n",
    "\n",
    "plt.legend(loc=\"best\")\n",
    "plt.xlabel(\"$\\sum E_x / \\sum E_{PF}$\")\n",
    "plt.title(sample)\n",
    "plt.savefig(\"{}_energy_ratio.pdf\".format(sample))"
   ]
  }
 ],
 "metadata": {
  "kernelspec": {
   "display_name": "Python 3",
   "language": "python",
   "name": "python3"
  },
  "language_info": {
   "codemirror_mode": {
    "name": "ipython",
    "version": 3
   },
   "file_extension": ".py",
   "mimetype": "text/x-python",
   "name": "python",
   "nbconvert_exporter": "python",
   "pygments_lexer": "ipython3",
   "version": "3.8.10"
  }
 },
 "nbformat": 4,
 "nbformat_minor": 5
}
