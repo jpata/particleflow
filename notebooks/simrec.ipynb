{
 "cells": [
  {
   "cell_type": "code",
   "execution_count": null,
   "metadata": {},
   "outputs": [],
   "source": [
    "import numpy as np\n",
    "import matplotlib.pyplot as plt\n",
    "import pandas as pd\n",
    "import mplhep\n",
    "plt.style.use(mplhep.style.CMS)"
   ]
  },
  {
   "cell_type": "code",
   "execution_count": null,
   "metadata": {},
   "outputs": [],
   "source": [
    "gen = pd.read_csv(\"../gen_0.csv\")\n",
    "reco = pd.read_csv(\"../reco_0.csv\")"
   ]
  },
  {
   "cell_type": "code",
   "execution_count": null,
   "metadata": {},
   "outputs": [],
   "source": [
    "fi0 = np.load(\"../ev_0.npz\")\n",
    "rg = fi0[\"reco_gen\"]\n",
    "rc = fi0[\"reco_cand\"]"
   ]
  },
  {
   "cell_type": "code",
   "execution_count": null,
   "metadata": {},
   "outputs": [],
   "source": [
    "Xs = []\n",
    "ys = []\n",
    "ycs = []\n",
    "for i in range(10):\n",
    "    fi = np.load(\"../ev_{}.npz\".format(i))\n",
    "    X = fi[\"X\"]\n",
    "    y = fi[\"ygen\"]\n",
    "    yc = fi[\"ycand\"]\n",
    "    \n",
    "    Xs += [X]\n",
    "    ys += [y]\n",
    "    ycs += [yc]"
   ]
  },
  {
   "cell_type": "code",
   "execution_count": null,
   "metadata": {},
   "outputs": [],
   "source": [
    "# plt.hist(rg[rg>0], bins=np.linspace(0,200,100));\n",
    "# plt.yscale(\"log\")"
   ]
  },
  {
   "cell_type": "code",
   "execution_count": null,
   "metadata": {},
   "outputs": [],
   "source": [
    "for igen in range(20):\n",
    "    idx_max = np.argmax(rg[:, igen])\n",
    "    inds_max = np.argsort(rg[:, igen])[::-1][:3]\n",
    "    rgs = rg[inds_max, igen]\n",
    "    print(igen, inds_max, rgs)"
   ]
  },
  {
   "cell_type": "code",
   "execution_count": null,
   "metadata": {},
   "outputs": [],
   "source": [
    "plt.figure(figsize=(20,20))\n",
    "plt.imshow(rg>0.0, cmap=\"Greys\", interpolation='None')\n",
    "plt.xlabel(\"genparticle index\")\n",
    "plt.ylabel(\"recoparticle index\")"
   ]
  },
  {
   "cell_type": "code",
   "execution_count": null,
   "metadata": {},
   "outputs": [],
   "source": [
    "rgs = rg>0.0\n",
    "plt.hist(rgs.sum(axis=0), bins=np.linspace(0, 20, 21), density=1.0, histtype=\"step\", lw=2, label=\"gen\");\n",
    "plt.hist(rgs.sum(axis=1), bins=np.linspace(0, 20, 21), density=1.0, histtype=\"step\", lw=2, label=\"reco\");\n",
    "plt.legend()\n",
    "#plt.yscale(\"log\")\n",
    "plt.xlabel(\"number of associations\")\n",
    "plt.ylabel(\"fraction of total\")"
   ]
  },
  {
   "cell_type": "code",
   "execution_count": null,
   "metadata": {},
   "outputs": [],
   "source": [
    "plt.figure(figsize=(20,20))\n",
    "plt.imshow(rc>0.0, cmap=\"Greys\", interpolation='None')"
   ]
  },
  {
   "cell_type": "code",
   "execution_count": null,
   "metadata": {},
   "outputs": [],
   "source": [
    "rcs = rc>0.0\n",
    "plt.hist(rcs.sum(axis=0), bins=np.linspace(0, 10, 11), density=1.0, histtype=\"step\", lw=2, label=\"candidate\");\n",
    "plt.hist(rcs.sum(axis=1), bins=np.linspace(0, 10, 11), density=1.0, histtype=\"step\", lw=2, label=\"reco\");\n",
    "plt.legend()\n",
    "#plt.yscale(\"log\")\n",
    "plt.xlabel(\"number of associations\")\n",
    "plt.ylabel(\"fraction of total\")"
   ]
  },
  {
   "cell_type": "code",
   "execution_count": null,
   "metadata": {},
   "outputs": [],
   "source": [
    "X = np.vstack(Xs)\n",
    "y = np.vstack(ys)\n",
    "yc = np.vstack(ycs)\n",
    "m = y[:, 0] != 0\n",
    "m2 = yc[:, 0] != 0"
   ]
  },
  {
   "cell_type": "code",
   "execution_count": null,
   "metadata": {},
   "outputs": [],
   "source": [
    "b = np.logspace(-1,3,100)\n",
    "plt.hist(X[:, 4], bins=b, histtype=\"step\", lw=2, label=\"reco\");\n",
    "plt.hist(y[m, 4], bins=b, histtype=\"step\", lw=2, label=\"gen\");\n",
    "plt.hist(yc[m2, 4], bins=b, histtype=\"step\", lw=2, label=\"PFCandidate\")\n",
    "#plt.yscale(\"log\")\n",
    "plt.xscale(\"log\")\n",
    "plt.legend()\n",
    "plt.xlabel(\"Energy\")\n",
    "plt.ylabel(\"Number of entries\")"
   ]
  },
  {
   "cell_type": "code",
   "execution_count": null,
   "metadata": {},
   "outputs": [],
   "source": [
    "b = np.linspace(-5,5, 60)\n",
    "plt.hist(X[:, 2], bins=b, histtype=\"step\", lw=2, label=\"reco\");\n",
    "plt.hist(y[m, 2], bins=b, histtype=\"step\", lw=2, label=\"gen\");\n",
    "plt.hist(yc[m2, 2], bins=b, histtype=\"step\", lw=2, label=\"PFCandidate\")\n",
    "#plt.yscale(\"log\")\n",
    "plt.legend()\n",
    "plt.xlabel(\"Energy\")\n",
    "plt.ylabel(\"Number of entries\")"
   ]
  },
  {
   "cell_type": "code",
   "execution_count": null,
   "metadata": {},
   "outputs": [],
   "source": [
    "b = np.linspace(-8,8,100)\n",
    "\n",
    "plt.figure(figsize=(4,4))\n",
    "h = np.histogram2d(X[m, 2], y[m, 2], bins=[b,b])\n",
    "plt.title(\"Eta\")\n",
    "plt.xlabel(\"Reco\")\n",
    "plt.ylabel(\"Gen\")\n",
    "mplhep.hist2dplot(h[0], h[1], h[2], cmap=\"Blues\")\n",
    "\n",
    "plt.figure(figsize=(4,4))\n",
    "h = np.histogram2d(X[m2, 2], yc[m2, 2], bins=[b,b])\n",
    "#ax2.imshow(h[0])\n",
    "plt.title(\"Eta\")\n",
    "plt.xlabel(\"Reco\")\n",
    "plt.ylabel(\"PFCandidate\")\n",
    "mplhep.hist2dplot(h[0], h[1], h[2], cmap=\"Blues\")\n",
    "\n",
    "plt.figure(figsize=(4,4))\n",
    "h = np.histogram2d(y[m&m2, 2], yc[m&m2, 2], bins=[b,b])\n",
    "#ax2.imshow(h[0])\n",
    "plt.title(\"Eta\")\n",
    "plt.xlabel(\"Gen\")\n",
    "plt.ylabel(\"PFCandidate\")\n",
    "mplhep.hist2dplot(h[0], h[1], h[2], cmap=\"Blues\")"
   ]
  },
  {
   "cell_type": "code",
   "execution_count": null,
   "metadata": {},
   "outputs": [],
   "source": [
    "b = np.linspace(-4,4,100)\n",
    "\n",
    "plt.figure(figsize=(4,4))\n",
    "h = np.histogram2d(X[m, 3], y[m, 3], bins=[b,b])\n",
    "plt.title(\"Phi\")\n",
    "plt.xlabel(\"Reco\")\n",
    "plt.ylabel(\"Gen\")\n",
    "mplhep.hist2dplot(h[0], h[1], h[2], cmap=\"Blues\")\n",
    "\n",
    "plt.figure(figsize=(4,4))\n",
    "h = np.histogram2d(X[m2, 3], yc[m2, 3], bins=[b,b])\n",
    "#ax2.imshow(h[0])\n",
    "plt.title(\"Phi\")\n",
    "plt.xlabel(\"Reco\")\n",
    "plt.ylabel(\"PFCandidate\")\n",
    "mplhep.hist2dplot(h[0], h[1], h[2], cmap=\"Blues\")\n",
    "\n",
    "\n",
    "plt.figure(figsize=(4,4))\n",
    "h = np.histogram2d(y[m&m2, 3], yc[m&m2, 3], bins=[b,b])\n",
    "#ax2.imshow(h[0])\n",
    "plt.title(\"Phi\")\n",
    "plt.xlabel(\"Gen\")\n",
    "plt.ylabel(\"PFCandidate\")\n",
    "mplhep.hist2dplot(h[0], h[1], h[2], cmap=\"Blues\")"
   ]
  },
  {
   "cell_type": "code",
   "execution_count": null,
   "metadata": {},
   "outputs": [],
   "source": [
    "b = np.linspace(-2,3,100)\n",
    "\n",
    "plt.figure(figsize=(4,4))\n",
    "h = np.histogram2d(np.log(X[m, 4]), np.log(y[m, 4]), bins=[b,b])\n",
    "plt.title(\"Energy [log E/GeV]\")\n",
    "plt.xlabel(\"Reco\")\n",
    "plt.ylabel(\"Gen\")\n",
    "mplhep.hist2dplot(h[0], h[1], h[2], cmap=\"Blues\")\n",
    "\n",
    "plt.figure(figsize=(4,4))\n",
    "h = np.histogram2d(np.log(X[m2, 4]), np.log(yc[m2, 4]), bins=[b,b])\n",
    "plt.title(\"Energy [log E/GeV]\")\n",
    "plt.xlabel(\"Reco\")\n",
    "plt.ylabel(\"PFCandidate\")\n",
    "mplhep.hist2dplot(h[0], h[1], h[2], cmap=\"Blues\")\n",
    "\n",
    "\n",
    "plt.figure(figsize=(4,4))\n",
    "h = np.histogram2d(np.log(y[m&m2, 4]), np.log(yc[m&m2, 4]), bins=[b,b])\n",
    "#ax2.imshow(h[0])\n",
    "plt.title(\"Energy [log E/GeV]\")\n",
    "plt.xlabel(\"Gen\")\n",
    "plt.ylabel(\"PFCandidate\")\n",
    "mplhep.hist2dplot(h[0], h[1], h[2], cmap=\"Blues\")"
   ]
  },
  {
   "cell_type": "code",
   "execution_count": null,
   "metadata": {},
   "outputs": [],
   "source": [
    "from collections import Counter"
   ]
  },
  {
   "cell_type": "code",
   "execution_count": null,
   "metadata": {},
   "outputs": [],
   "source": [
    "def plot_id_pairs(arr_a, arr_b):\n",
    "    id_pairs_gen = np.vstack([arr_a, arr_b]).T\n",
    "\n",
    "    l1 = list(np.unique(arr_a))\n",
    "    l2 = list(np.unique(arr_b))\n",
    "\n",
    "    arr = np.zeros((len(l1), len(l2)), dtype=np.float32)\n",
    "\n",
    "    ids = []\n",
    "    for id1, id2 in id_pairs_gen:\n",
    "        idx1 = l1.index(id1)\n",
    "        idx2 = l2.index(id2)\n",
    "        arr[idx1, idx2] += 1\n",
    "\n",
    "    fig = plt.figure(figsize=(len(l2),len(l1)))\n",
    "    ax = plt.axes()\n",
    "    plt.imshow(arr, cmap=\"Blues\")\n",
    "    plt.yticks(np.arange(0,len(l1)+1), [int(x) for x in l1])\n",
    "    plt.xticks(np.arange(0,len(l2)+1), [int(x) for x in l2])\n",
    "    plt.xlim(-0.5, len(l2) - 0.5)\n",
    "    plt.ylim(-0.5, len(l1) - 0.5)\n",
    "    plt.colorbar()\n",
    "    plt.minorticks_off()\n",
    "    #plt.grid()"
   ]
  },
  {
   "cell_type": "code",
   "execution_count": null,
   "metadata": {},
   "outputs": [],
   "source": [
    "plot_id_pairs(y[:, 0], X[:, 0])\n",
    "plt.title(\"reco to gen\", y=1.0)\n",
    "plt.xlabel(\"Reco object type\")\n",
    "plt.ylabel(\"GenParticle PDGID\")"
   ]
  },
  {
   "cell_type": "code",
   "execution_count": null,
   "metadata": {},
   "outputs": [],
   "source": [
    "plot_id_pairs(yc[:, 0], X[:, 0])\n",
    "plt.title(\"reco to PFCandidate\", y=1.0)\n",
    "plt.ylabel(\"PFCandidate PDGID\")\n",
    "plt.xlabel(\"Reco object type\")"
   ]
  },
  {
   "cell_type": "code",
   "execution_count": null,
   "metadata": {},
   "outputs": [],
   "source": [
    "plot_id_pairs(yc[m2, 0], y[m2, 0])\n",
    "plt.title(\"gen to PFCandidate\", y=1.0)\n",
    "plt.xlabel(\"GenParticle PDGID\")\n",
    "plt.ylabel(\"PFCandidate PDGID\")"
   ]
  },
  {
   "cell_type": "code",
   "execution_count": null,
   "metadata": {},
   "outputs": [],
   "source": [
    "has_cand = (yc[:, 0] != 0)\n",
    "has_gen = (y[:, 0] != 0)\n",
    "\n",
    "\n",
    "is_track = X[:, 0] == 1"
   ]
  },
  {
   "cell_type": "code",
   "execution_count": null,
   "metadata": {},
   "outputs": [],
   "source": [
    "X.shape"
   ]
  },
  {
   "cell_type": "code",
   "execution_count": null,
   "metadata": {},
   "outputs": [],
   "source": [
    "Counter(X[has_gen, 0])"
   ]
  },
  {
   "cell_type": "code",
   "execution_count": null,
   "metadata": {},
   "outputs": [],
   "source": [
    "Counter(X[~has_gen, 0])"
   ]
  },
  {
   "cell_type": "code",
   "execution_count": null,
   "metadata": {},
   "outputs": [],
   "source": [
    "X[is_track].shape"
   ]
  },
  {
   "cell_type": "code",
   "execution_count": null,
   "metadata": {},
   "outputs": [],
   "source": [
    "X[is_track & has_cand & has_gen].shape"
   ]
  },
  {
   "cell_type": "code",
   "execution_count": null,
   "metadata": {},
   "outputs": [],
   "source": [
    "X[is_track & has_cand & ~has_gen].shape"
   ]
  },
  {
   "cell_type": "code",
   "execution_count": null,
   "metadata": {},
   "outputs": [],
   "source": [
    "X[is_track & ~has_cand].shape"
   ]
  },
  {
   "cell_type": "code",
   "execution_count": null,
   "metadata": {},
   "outputs": [],
   "source": [
    "yc[has_cand & has_gen, 0].shape"
   ]
  },
  {
   "cell_type": "code",
   "execution_count": null,
   "metadata": {},
   "outputs": [],
   "source": [
    "yc[has_cand & ~has_gen, 0].shape"
   ]
  },
  {
   "cell_type": "code",
   "execution_count": null,
   "metadata": {},
   "outputs": [],
   "source": [
    "Counter(yc[has_cand&has_gen, 0])"
   ]
  },
  {
   "cell_type": "code",
   "execution_count": null,
   "metadata": {},
   "outputs": [],
   "source": [
    "Counter(yc[has_cand&~has_gen, 0])"
   ]
  },
  {
   "cell_type": "code",
   "execution_count": null,
   "metadata": {},
   "outputs": [],
   "source": []
  }
 ],
 "metadata": {
  "kernelspec": {
   "display_name": "Python 3",
   "language": "python",
   "name": "python3"
  },
  "language_info": {
   "codemirror_mode": {
    "name": "ipython",
    "version": 3
   },
   "file_extension": ".py",
   "mimetype": "text/x-python",
   "name": "python",
   "nbconvert_exporter": "python",
   "pygments_lexer": "ipython3",
   "version": "3.7.4"
  }
 },
 "nbformat": 4,
 "nbformat_minor": 2
}
