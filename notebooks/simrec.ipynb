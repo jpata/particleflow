{
 "cells": [
  {
   "cell_type": "code",
   "execution_count": null,
   "metadata": {},
   "outputs": [],
   "source": [
    "import numpy as np\n",
    "import matplotlib.pyplot as plt\n",
    "import pandas as pd"
   ]
  },
  {
   "cell_type": "code",
   "execution_count": null,
   "metadata": {},
   "outputs": [],
   "source": [
    "col_order = [\"pt\", \"e\", \"eta\", \"phi\"]\n",
    "reco = pd.read_csv(\"../reco.csv\", index_col=0)[col_order + [\"type\", \"idx_original\"]].values\n",
    "gen = pd.read_csv(\"../gen.csv\", index_col=0)[col_order + [\"pid\", \"type\", \"idx_original\"]].values"
   ]
  },
  {
   "cell_type": "code",
   "execution_count": null,
   "metadata": {},
   "outputs": [],
   "source": [
    "plt.hist(gen[:, 0], bins=np.linspace(0,5,101));\n",
    "plt.yscale(\"log\")"
   ]
  },
  {
   "cell_type": "code",
   "execution_count": null,
   "metadata": {},
   "outputs": [],
   "source": [
    "plt.hist(gen[:, 1], bins=np.linspace(0,100,101));\n",
    "plt.yscale(\"log\")"
   ]
  },
  {
   "cell_type": "code",
   "execution_count": null,
   "metadata": {},
   "outputs": [],
   "source": [
    "len(gen), np.sum(gen[:, 0]>0.2)"
   ]
  },
  {
   "cell_type": "code",
   "execution_count": null,
   "metadata": {},
   "outputs": [],
   "source": [
    "fi = np.load(\"../ev.npz\")"
   ]
  },
  {
   "cell_type": "code",
   "execution_count": null,
   "metadata": {},
   "outputs": [],
   "source": [
    "arr = fi[\"reco_to_gen\"]\n",
    "arr2 = (arr.T / reco[:, 1]).T\n",
    "arr3 = arr2 > 0.0"
   ]
  },
  {
   "cell_type": "code",
   "execution_count": null,
   "metadata": {},
   "outputs": [],
   "source": [
    "plt.hist(arr[arr!=0], bins=100);\n",
    "plt.yscale(\"log\")"
   ]
  },
  {
   "cell_type": "code",
   "execution_count": null,
   "metadata": {},
   "outputs": [],
   "source": [
    "plt.hist(arr2[arr2!=0].flatten(), bins=np.linspace(0.8,1.2, 100));"
   ]
  },
  {
   "cell_type": "code",
   "execution_count": null,
   "metadata": {},
   "outputs": [],
   "source": [
    "import matplotlib\n",
    "plt.figure(figsize=(20,20))\n",
    "plt.imshow(arr, cmap=\"Greys\", norm=matplotlib.colors.LogNorm(vmin=0.5, vmax=100))"
   ]
  },
  {
   "cell_type": "code",
   "execution_count": null,
   "metadata": {},
   "outputs": [],
   "source": [
    "plt.figure(figsize=(20,20))\n",
    "plt.imshow(arr>0.0, cmap=\"Greys\")"
   ]
  },
  {
   "cell_type": "code",
   "execution_count": null,
   "metadata": {},
   "outputs": [],
   "source": [
    "plt.hist(arr3.sum(axis=0), bins=np.linspace(0,40,41), histtype=\"step\", lw=2, density=1.0, label=\"gen\");\n",
    "plt.hist(arr3.sum(axis=1), bins=np.linspace(0,40,41), histtype=\"step\", lw=2, density=1.0, label=\"reco\");\n",
    "plt.yscale(\"log\")\n",
    "plt.legend()"
   ]
  },
  {
   "cell_type": "code",
   "execution_count": null,
   "metadata": {},
   "outputs": [],
   "source": [
    "highest_pt_idx = np.argsort(gen[:, 0])[::-1]"
   ]
  },
  {
   "cell_type": "code",
   "execution_count": null,
   "metadata": {
    "scrolled": false
   },
   "outputs": [],
   "source": [
    "remaining_indices = np.ones(arr.shape[0], dtype=np.int64)\n",
    "pairs_reco_gen = {}\n",
    "unreconstructable = []\n",
    "for igen in highest_pt_idx:\n",
    "    if gen[igen, 1] < 1:\n",
    "        continue\n",
    "    temp = remaining_indices*arr[:, igen]\n",
    "    best_reco_idx = np.argmax(temp)\n",
    "    #print(igen, best_reco_idx)\n",
    "    if best_reco_idx != 0 and temp.sum()>0.0:\n",
    "        #remaining_indices[best_reco_idx] = 0\n",
    "        if not (best_reco_idx in pairs_reco_gen):\n",
    "            pairs_reco_gen[best_reco_idx] = []\n",
    "        if arr[best_reco_idx, igen] / reco[best_reco_idx, 1] > 0.2:\n",
    "            pairs_reco_gen[best_reco_idx] += [(igen, arr[best_reco_idx, igen])]\n",
    "    else:\n",
    "        unreconstructable += [igen]\n",
    "\n",
    "pairs_reco_gen_sorted = {}\n",
    "for k, v in pairs_reco_gen.items():\n",
    "    v = sorted(v, key=lambda x: x[1], reverse=True)\n",
    "    pairs_reco_gen_sorted[k] = v\n",
    "\n",
    "pairs_reco_gen = pairs_reco_gen_sorted\n",
    "\n",
    "unreconstructable = np.array(unreconstructable)"
   ]
  },
  {
   "cell_type": "code",
   "execution_count": null,
   "metadata": {},
   "outputs": [],
   "source": [
    "len(gen)"
   ]
  },
  {
   "cell_type": "code",
   "execution_count": null,
   "metadata": {},
   "outputs": [],
   "source": [
    "len(unreconstructable)"
   ]
  },
  {
   "cell_type": "code",
   "execution_count": null,
   "metadata": {
    "scrolled": false
   },
   "outputs": [],
   "source": [
    "pairs_reco_gen"
   ]
  },
  {
   "cell_type": "code",
   "execution_count": null,
   "metadata": {},
   "outputs": [],
   "source": [
    "plt.hist([len(x[1]) for x in pairs_reco_gen.items()], np.linspace(0,10,11));"
   ]
  },
  {
   "cell_type": "code",
   "execution_count": null,
   "metadata": {},
   "outputs": [],
   "source": [
    "ir = 1836\n",
    "print(\"rec\", ir, \", \".join([\"{:.4f}\".format(x) for x in reco[ir]]))\n",
    "for ig, cmp in pairs_reco_gen.get(ir, []):\n",
    "    print(\"gen\", ig, \", \".join([\"{:.4f}\".format(x) for x in gen[ig]]), round(cmp, 4))"
   ]
  },
  {
   "cell_type": "code",
   "execution_count": null,
   "metadata": {},
   "outputs": [],
   "source": [
    "import uproot"
   ]
  },
  {
   "cell_type": "code",
   "execution_count": null,
   "metadata": {},
   "outputs": [],
   "source": [
    "fi = uproot.open(\"../pfntuple.root\")"
   ]
  },
  {
   "cell_type": "code",
   "execution_count": null,
   "metadata": {},
   "outputs": [],
   "source": [
    "#fi.get(\"ana/pftree\").keys()"
   ]
  },
  {
   "cell_type": "code",
   "execution_count": null,
   "metadata": {},
   "outputs": [],
   "source": [
    "sh = fi.get(\"ana/pftree\").array(b'simhit_idx_simcluster')[0]\n",
    "sh_detid = fi.get(\"ana/pftree\").array(b'simhit_detid')[0]\n",
    "sh_frac = fi.get(\"ana/pftree\").array(b'simhit_frac')[0]\n",
    "\n",
    "rh = fi.get(\"ana/pftree\").array(b'rechit_idx_cluster')[0]\n",
    "rh_detid = fi.get(\"ana/pftree\").array(b'rechit_detid')[0]\n",
    "rh_e = fi.get(\"ana/pftree\").array(b'rechit_e')[0]\n",
    "\n",
    "\n",
    "rh_d = {}\n",
    "for i in range(len(rh_detid)):\n",
    "    k = rh_detid[i]\n",
    "    if not (k in rh_d):\n",
    "        rh_d[k] = 0.0\n",
    "    rh_d[k] += rh_e[i]"
   ]
  },
  {
   "cell_type": "code",
   "execution_count": null,
   "metadata": {},
   "outputs": [],
   "source": [
    "msk0 = np.nonzero(rh == 292)[0]\n",
    "msk = np.nonzero(sh == 6566)[0]"
   ]
  },
  {
   "cell_type": "code",
   "execution_count": null,
   "metadata": {
    "scrolled": false
   },
   "outputs": [],
   "source": [
    "ls = []\n",
    "se = 0\n",
    "for i in zip(rh_detid[msk0], rh_e[msk0]):\n",
    "    if i[0] in ls:\n",
    "        print(\"dupe\")\n",
    "    ls += [i[0]]\n",
    "    se += i[1]\n",
    "    print(i)"
   ]
  },
  {
   "cell_type": "code",
   "execution_count": null,
   "metadata": {},
   "outputs": [],
   "source": [
    "tot = 0.0\n",
    "for f, d in zip(sh_frac[msk], sh_detid[msk]):\n",
    "    x = rh_d.get(d, 0.0)*f\n",
    "    tot += x\n",
    "    print(f, d, x)"
   ]
  },
  {
   "cell_type": "code",
   "execution_count": null,
   "metadata": {},
   "outputs": [],
   "source": [
    "tot"
   ]
  },
  {
   "cell_type": "code",
   "execution_count": null,
   "metadata": {},
   "outputs": [],
   "source": []
  }
 ],
 "metadata": {
  "kernelspec": {
   "display_name": "Python 3",
   "language": "python",
   "name": "python3"
  },
  "language_info": {
   "codemirror_mode": {
    "name": "ipython",
    "version": 3
   },
   "file_extension": ".py",
   "mimetype": "text/x-python",
   "name": "python",
   "nbconvert_exporter": "python",
   "pygments_lexer": "ipython3",
   "version": "3.7.5"
  }
 },
 "nbformat": 4,
 "nbformat_minor": 2
}
