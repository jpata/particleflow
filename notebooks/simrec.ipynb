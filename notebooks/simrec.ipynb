{
 "cells": [
  {
   "cell_type": "code",
   "execution_count": null,
   "metadata": {},
   "outputs": [],
   "source": [
    "import numpy as np\n",
    "import matplotlib.pyplot as plt\n",
    "import pandas as pd"
   ]
  },
  {
   "cell_type": "code",
   "execution_count": null,
   "metadata": {},
   "outputs": [],
   "source": [
    "col_order = [\"pt\", \"e\", \"eta\", \"phi\"]\n",
    "reco = pd.read_csv(\"../reco.csv\", index_col=0)[col_order + [\"type\", \"idx_original\"]].values\n",
    "gen = pd.read_csv(\"../gen.csv\", index_col=0)[col_order + [\"pid\", \"type\", \"idx_original\", \"idx_original2\"]].values"
   ]
  },
  {
   "cell_type": "code",
   "execution_count": null,
   "metadata": {},
   "outputs": [],
   "source": [
    "plt.hist(gen[:, 0], bins=np.linspace(0,5,101));\n",
    "plt.yscale(\"log\")"
   ]
  },
  {
   "cell_type": "code",
   "execution_count": null,
   "metadata": {},
   "outputs": [],
   "source": [
    "plt.hist(gen[:, 1], bins=np.linspace(0,100,101));\n",
    "plt.yscale(\"log\")"
   ]
  },
  {
   "cell_type": "code",
   "execution_count": null,
   "metadata": {},
   "outputs": [],
   "source": [
    "len(gen), np.sum(gen[:, 0]>0.2)"
   ]
  },
  {
   "cell_type": "code",
   "execution_count": null,
   "metadata": {},
   "outputs": [],
   "source": [
    "fi = np.load(\"../ev.npz\")"
   ]
  },
  {
   "cell_type": "code",
   "execution_count": null,
   "metadata": {},
   "outputs": [],
   "source": [
    "arr = fi[\"reco_to_gen\"]\n",
    "arr2 = (arr.T / reco[:, 1]).T\n",
    "arr3 = arr2 > 0.0"
   ]
  },
  {
   "cell_type": "code",
   "execution_count": null,
   "metadata": {},
   "outputs": [],
   "source": [
    "plt.hist(arr[arr!=0], bins=100);\n",
    "plt.yscale(\"log\")"
   ]
  },
  {
   "cell_type": "code",
   "execution_count": null,
   "metadata": {},
   "outputs": [],
   "source": [
    "plt.hist(arr2[arr2!=0].flatten(), bins=np.linspace(0.8,1.2, 100));"
   ]
  },
  {
   "cell_type": "code",
   "execution_count": null,
   "metadata": {},
   "outputs": [],
   "source": [
    "import matplotlib\n",
    "plt.figure(figsize=(20,20))\n",
    "plt.imshow(arr, cmap=\"Greys\", norm=matplotlib.colors.LogNorm(vmin=0.5, vmax=100))"
   ]
  },
  {
   "cell_type": "code",
   "execution_count": null,
   "metadata": {},
   "outputs": [],
   "source": [
    "plt.figure(figsize=(20,20))\n",
    "plt.imshow(arr>0.0, cmap=\"Greys\")"
   ]
  },
  {
   "cell_type": "code",
   "execution_count": null,
   "metadata": {},
   "outputs": [],
   "source": [
    "plt.hist(arr3.sum(axis=0), bins=np.linspace(0,40,41), histtype=\"step\", lw=2, density=1.0, label=\"gen\");\n",
    "plt.hist(arr3.sum(axis=1), bins=np.linspace(0,40,41), histtype=\"step\", lw=2, density=1.0, label=\"reco\");\n",
    "plt.yscale(\"log\")\n",
    "plt.legend()"
   ]
  },
  {
   "cell_type": "code",
   "execution_count": null,
   "metadata": {},
   "outputs": [],
   "source": [
    "highest_pt_idx = np.argsort(gen[:, 0])[::-1]"
   ]
  },
  {
   "cell_type": "code",
   "execution_count": null,
   "metadata": {
    "scrolled": false
   },
   "outputs": [],
   "source": [
    "remaining_indices = np.ones(arr.shape[0], dtype=np.int64)\n",
    "pairs_reco_gen = {}\n",
    "unreconstructable = []\n",
    "for igen in highest_pt_idx:\n",
    "    if gen[igen, 1] < 1 or gen[igen, 0]<0.2:\n",
    "        continue\n",
    "    best_reco_idx = np.argmax(arr[:, igen])\n",
    "    if best_reco_idx != 0 and temp.sum()>0.0:\n",
    "        if not (best_reco_idx in pairs_reco_gen):\n",
    "            pairs_reco_gen[best_reco_idx] = []\n",
    "        if arr[best_reco_idx, igen] / reco[best_reco_idx, 1] > 0.2:\n",
    "            pairs_reco_gen[best_reco_idx] += [(igen, arr[best_reco_idx, igen])]\n",
    "    else:\n",
    "        unreconstructable += [igen]\n",
    "\n",
    "pairs_reco_gen_sorted = {}\n",
    "for k, v in pairs_reco_gen.items():\n",
    "    v = sorted(v, key=lambda x: x[1], reverse=True)\n",
    "    pairs_reco_gen_sorted[k] = v\n",
    "\n",
    "pairs_reco_gen = pairs_reco_gen_sorted"
   ]
  },
  {
   "cell_type": "code",
   "execution_count": null,
   "metadata": {},
   "outputs": [],
   "source": [
    "len(gen), len(pairs_reco_gen), len(reco)"
   ]
  },
  {
   "cell_type": "code",
   "execution_count": null,
   "metadata": {
    "scrolled": false
   },
   "outputs": [],
   "source": [
    "for ireco in range(len(reco)):\n",
    "    if not ireco in pairs_reco_gen:\n",
    "        pairs_reco_gen[ireco] = []"
   ]
  },
  {
   "cell_type": "code",
   "execution_count": null,
   "metadata": {},
   "outputs": [],
   "source": [
    "gen[0]"
   ]
  },
  {
   "cell_type": "code",
   "execution_count": null,
   "metadata": {},
   "outputs": [],
   "source": [
    "def merge_gen(gens):\n",
    "    if len(gens) == 1:\n",
    "        ret = gen[gens[0]]\n",
    "    else:\n",
    "        inds_gen = np.array([g[0] for g in gens])\n",
    "        ret = gen[inds_gen]\n",
    "        nparticles = ret.shape[0]\n",
    "        \n",
    "        ret2 = ret.sum(axis=0)\n",
    "        ret2[2] = ret2[2]/nparticles\n",
    "        ret2[3] = ret2[3]/nparticles\n",
    "        \n",
    "        ret2[4] = 1\n",
    "    return ret2"
   ]
  },
  {
   "cell_type": "code",
   "execution_count": null,
   "metadata": {},
   "outputs": [],
   "source": [
    "pairs_reco_gen[2185]"
   ]
  },
  {
   "cell_type": "code",
   "execution_count": null,
   "metadata": {},
   "outputs": [],
   "source": [
    "gen[3757]"
   ]
  },
  {
   "cell_type": "code",
   "execution_count": null,
   "metadata": {},
   "outputs": [],
   "source": [
    "merge_gen(pairs_reco_gen[2185])"
   ]
  },
  {
   "cell_type": "code",
   "execution_count": null,
   "metadata": {
    "scrolled": false
   },
   "outputs": [],
   "source": [
    "for ireco in range(len(reco)):\n",
    "    print(ireco, reco[ireco, 2], reco[ireco, 3], len(pairs_reco_gen[ireco]))"
   ]
  },
  {
   "cell_type": "code",
   "execution_count": null,
   "metadata": {},
   "outputs": [],
   "source": [
    "plt.hist([len(x[1]) for x in pairs_reco_gen.items()], np.linspace(0,10,11));"
   ]
  },
  {
   "cell_type": "code",
   "execution_count": null,
   "metadata": {},
   "outputs": [],
   "source": [
    "ir = 6603\n",
    "print(\"rec\", ir, \", \".join([\"{:.4f}\".format(x) for x in reco[ir]]))\n",
    "for ig, cmp in pairs_reco_gen.get(ir, []):\n",
    "    print(\"gen\", ig, \", \".join([\"{:.4f}\".format(x) for x in gen[ig]]), round(cmp, 4))"
   ]
  },
  {
   "cell_type": "code",
   "execution_count": null,
   "metadata": {},
   "outputs": [],
   "source": [
    "import uproot"
   ]
  },
  {
   "cell_type": "code",
   "execution_count": null,
   "metadata": {},
   "outputs": [],
   "source": [
    "fi = uproot.open(\"../pfntuple.root\")"
   ]
  },
  {
   "cell_type": "code",
   "execution_count": null,
   "metadata": {},
   "outputs": [],
   "source": [
    "#fi.get(\"ana/pftree\").keys()"
   ]
  },
  {
   "cell_type": "code",
   "execution_count": null,
   "metadata": {},
   "outputs": [],
   "source": [
    "sh = fi.get(\"ana/pftree\").array(b'simhit_idx_simcluster')[0]\n",
    "sh_detid = fi.get(\"ana/pftree\").array(b'simhit_detid')[0]\n",
    "sh_frac = fi.get(\"ana/pftree\").array(b'simhit_frac')[0]\n",
    "\n",
    "rh = fi.get(\"ana/pftree\").array(b'rechit_idx_cluster')[0]\n",
    "rh_detid = fi.get(\"ana/pftree\").array(b'rechit_detid')[0]\n",
    "rh_e = fi.get(\"ana/pftree\").array(b'rechit_e')[0]\n",
    "\n",
    "\n",
    "rh_d = {}\n",
    "for i in range(len(rh_detid)):\n",
    "    k = rh_detid[i]\n",
    "    if not (k in rh_d):\n",
    "        rh_d[k] = 0.0\n",
    "    rh_d[k] += rh_e[i]"
   ]
  },
  {
   "cell_type": "code",
   "execution_count": null,
   "metadata": {},
   "outputs": [],
   "source": [
    "# rec 5711 0.0000, 22.0067, -3.9391, 3.0543, 0.0000, 4167.0000\n",
    "# gen 5566 0.7082, 17.0231, -3.8723, 2.9825, 22.0000, 0.0000, 6019.0000, -1.0000 7.3355\n",
    "# gen 5552 0.7022, 25.5821, -4.2884, 2.3115, -211.0000, 1.0000, 130796.0000, 10933.0000 7.3355"
   ]
  },
  {
   "cell_type": "code",
   "execution_count": null,
   "metadata": {},
   "outputs": [],
   "source": [
    "msk0 = np.nonzero(rh == 4167)[0]\n",
    "msk = np.nonzero(sh == 10933)[0]\n",
    "msk2 = np.nonzero(sh == 6019)[0]"
   ]
  },
  {
   "cell_type": "code",
   "execution_count": null,
   "metadata": {
    "scrolled": false
   },
   "outputs": [],
   "source": [
    "ls = []\n",
    "se = 0\n",
    "for i in zip(rh_detid[msk0], rh_e[msk0]):\n",
    "    if i[0] in ls:\n",
    "        print(\"dupe\")\n",
    "    ls += [i[0]]\n",
    "    se += i[1]\n",
    "    print(i)"
   ]
  },
  {
   "cell_type": "code",
   "execution_count": null,
   "metadata": {},
   "outputs": [],
   "source": [
    "tot = 0.0\n",
    "for f, d in zip(sh_frac[msk], sh_detid[msk]):\n",
    "    x = rh_d.get(d, 0.0)*f\n",
    "    tot += x\n",
    "    print(f, d, x)"
   ]
  },
  {
   "cell_type": "code",
   "execution_count": null,
   "metadata": {},
   "outputs": [],
   "source": [
    "tot = 0.0\n",
    "for f, d in zip(sh_frac[msk2], sh_detid[msk2]):\n",
    "    x = rh_d.get(d, 0.0)*f\n",
    "    tot += x\n",
    "    print(f, d, x)"
   ]
  },
  {
   "cell_type": "code",
   "execution_count": null,
   "metadata": {
    "scrolled": false
   },
   "outputs": [],
   "source": [
    "pairs_reco_gen_l = list(pairs_reco_gen.items())"
   ]
  },
  {
   "cell_type": "code",
   "execution_count": null,
   "metadata": {},
   "outputs": [],
   "source": [
    "pairs_reco_gen_l = sorted(pairs_reco_gen_l, key=lambda x: len(x[1]), reverse=True)"
   ]
  },
  {
   "cell_type": "code",
   "execution_count": null,
   "metadata": {},
   "outputs": [],
   "source": [
    "ks = [x[0] for x in pairs_reco_gen_l]"
   ]
  },
  {
   "cell_type": "code",
   "execution_count": null,
   "metadata": {
    "scrolled": false
   },
   "outputs": [],
   "source": [
    "for k in ks:\n",
    "    ir = k\n",
    "    print(\"rec\", ir, \", \".join([\"{:.4f}\".format(x) for x in reco[ir]]))\n",
    "    for ig, cmp in pairs_reco_gen.get(ir, []):\n",
    "        print(\"gen\", ig, \", \".join([\"{:.4f}\".format(x) for x in gen[ig]]), round(cmp, 4))\n",
    "    print(\"--\")"
   ]
  },
  {
   "cell_type": "code",
   "execution_count": null,
   "metadata": {},
   "outputs": [],
   "source": [
    "Xs = []\n",
    "ys = []\n",
    "ycs = []\n",
    "for i in range(8):\n",
    "    fi = np.load(\"../ev_{}.npz\".format(i))\n",
    "    X = fi[\"X\"]\n",
    "    y = fi[\"ygen\"]\n",
    "    yc = fi[\"ycand\"]\n",
    "    \n",
    "    Xs += [X]\n",
    "    ys += [y]\n",
    "    ycs += [yc]"
   ]
  },
  {
   "cell_type": "code",
   "execution_count": null,
   "metadata": {},
   "outputs": [],
   "source": [
    "rg = fi[\"reco_gen\"]\n",
    "rc = fi[\"reco_cand\"]"
   ]
  },
  {
   "cell_type": "code",
   "execution_count": null,
   "metadata": {},
   "outputs": [],
   "source": [
    "plt.figure(figsize=(20,20))\n",
    "plt.imshow(rg>0.0, cmap=\"Greys\")\n",
    "plt.xlabel(\"genparticle index\")\n",
    "plt.ylabel(\"recoparticle index\")"
   ]
  },
  {
   "cell_type": "code",
   "execution_count": null,
   "metadata": {},
   "outputs": [],
   "source": [
    "rgs = rg>0.0\n",
    "plt.hist(rgs.sum(axis=0), bins=np.linspace(0, 20, 21), density=1.0, histtype=\"step\", lw=2, label=\"gen\");\n",
    "plt.hist(rgs.sum(axis=1), bins=np.linspace(0, 20, 21), density=1.0, histtype=\"step\", lw=2, label=\"reco\");\n",
    "plt.legend()\n",
    "#plt.yscale(\"log\")\n",
    "plt.xlabel(\"number of associations\")\n",
    "plt.ylabel(\"fraction of total\")"
   ]
  },
  {
   "cell_type": "code",
   "execution_count": null,
   "metadata": {},
   "outputs": [],
   "source": [
    "plt.figure(figsize=(20,20))\n",
    "plt.imshow(rc>0.0, cmap=\"Greys\")"
   ]
  },
  {
   "cell_type": "code",
   "execution_count": null,
   "metadata": {},
   "outputs": [],
   "source": [
    "rcs = rc>0.0\n",
    "plt.hist(rcs.sum(axis=0), bins=np.linspace(0, 10, 11), density=1.0, histtype=\"step\", lw=2, label=\"candidate\");\n",
    "plt.hist(rcs.sum(axis=1), bins=np.linspace(0, 10, 11), density=1.0, histtype=\"step\", lw=2, label=\"reco\");\n",
    "plt.legend()\n",
    "#plt.yscale(\"log\")\n",
    "plt.xlabel(\"number of associations\")\n",
    "plt.ylabel(\"fraction of total\")"
   ]
  },
  {
   "cell_type": "code",
   "execution_count": null,
   "metadata": {},
   "outputs": [],
   "source": [
    "X = np.vstack(Xs)\n",
    "y = np.vstack(ys)\n",
    "yc = np.vstack(ycs)"
   ]
  },
  {
   "cell_type": "code",
   "execution_count": null,
   "metadata": {},
   "outputs": [],
   "source": [
    "plt.figure(figsize=(8,4))\n",
    "plt.suptitle(\"eta\")\n",
    "\n",
    "plt.subplot(1,2,1)\n",
    "m = y[:, 0] != 0\n",
    "m2 = yc[:, 0] != 0\n",
    "\n",
    "plt.scatter(X[m, 2], y[m, 2], marker=\".\", alpha=0.2)\n",
    "plt.plot([-5, 5], [-5, 5], color=\"black\")\n",
    "plt.xlabel(\"reco\")\n",
    "plt.ylabel(\"gen\")\n",
    "\n",
    "plt.subplot(1,2,2)\n",
    "plt.scatter(X[m2, 2], yc[m2, 2], marker=\".\", alpha=0.2)\n",
    "plt.plot([-5, 5], [-5, 5], color=\"black\")\n",
    "plt.xlabel(\"reco\")\n",
    "plt.ylabel(\"PF\")"
   ]
  },
  {
   "cell_type": "code",
   "execution_count": null,
   "metadata": {},
   "outputs": [],
   "source": [
    "plt.figure(figsize=(8,4))\n",
    "\n",
    "plt.subplot(1,2,1)\n",
    "m = y[:, 0] != 0\n",
    "m2 = yc[:, 0] != 0\n",
    "\n",
    "plt.scatter(X[m, 3], y[m, 3], marker=\".\", alpha=0.2)\n",
    "plt.plot([-4, 4], [-4, 4], color=\"black\")\n",
    "\n",
    "plt.subplot(1,2,2)\n",
    "plt.scatter(X[m2, 3], yc[m2, 3], marker=\".\", alpha=0.2)\n",
    "plt.plot([-4, 4], [-4, 4], color=\"black\")"
   ]
  },
  {
   "cell_type": "code",
   "execution_count": null,
   "metadata": {},
   "outputs": [],
   "source": [
    "plt.figure(figsize=(8,4))\n",
    "\n",
    "plt.subplot(1,2,1)\n",
    "m = y[:, 0] != 0\n",
    "m2 = yc[:, 0] != 0\n",
    "\n",
    "plt.scatter(X[m, 4], y[m, 4], marker=\".\", alpha=0.2)\n",
    "\n",
    "plt.subplot(1,2,2)\n",
    "plt.scatter(X[m2, 4], yc[m2, 4], marker=\".\", alpha=0.2)"
   ]
  },
  {
   "cell_type": "code",
   "execution_count": null,
   "metadata": {},
   "outputs": [],
   "source": [
    "plt.hist(y[m, -1], np.linspace(0,10,11));"
   ]
  },
  {
   "cell_type": "code",
   "execution_count": null,
   "metadata": {},
   "outputs": [],
   "source": [
    "plt.scatter(y[m, 2], y[m, -1], marker=\".\")"
   ]
  },
  {
   "cell_type": "code",
   "execution_count": null,
   "metadata": {},
   "outputs": [],
   "source": [
    "X[:10]"
   ]
  },
  {
   "cell_type": "code",
   "execution_count": null,
   "metadata": {},
   "outputs": [],
   "source": [
    "np.nonzero(yc[:, 0])"
   ]
  },
  {
   "cell_type": "code",
   "execution_count": null,
   "metadata": {},
   "outputs": [],
   "source": [
    "X[:10, 1]"
   ]
  },
  {
   "cell_type": "code",
   "execution_count": null,
   "metadata": {},
   "outputs": [],
   "source": []
  }
 ],
 "metadata": {
  "kernelspec": {
   "display_name": "Python 3",
   "language": "python",
   "name": "python3"
  },
  "language_info": {
   "codemirror_mode": {
    "name": "ipython",
    "version": 3
   },
   "file_extension": ".py",
   "mimetype": "text/x-python",
   "name": "python",
   "nbconvert_exporter": "python",
   "pygments_lexer": "ipython3",
   "version": "3.7.4"
  }
 },
 "nbformat": 4,
 "nbformat_minor": 2
}
