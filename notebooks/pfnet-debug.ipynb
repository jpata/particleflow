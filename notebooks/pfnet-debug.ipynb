{
 "cells": [
  {
   "cell_type": "code",
   "execution_count": null,
   "id": "b159acf8",
   "metadata": {},
   "outputs": [],
   "source": [
    "import os\n",
    "os.chdir(\"/home/joosep/particleflow\")"
   ]
  },
  {
   "cell_type": "code",
   "execution_count": null,
   "id": "solved-relations",
   "metadata": {},
   "outputs": [],
   "source": [
    "import tensorflow as tf\n",
    "import numpy as np\n",
    "import sys\n",
    "\n",
    "sys.path.append(\"/home/joosep/particleflow/mlpf\")\n",
    "sys.path.append(\"/home/joosep/particleflow/hep_tfds/\")\n",
    "import tfmodel.model\n",
    "import tfmodel.data\n",
    "import tfmodel.model_setup\n",
    "\n",
    "import yaml\n",
    "import matplotlib.pyplot as plt\n",
    "import matplotlib \n",
    "\n",
    "import pandas\n",
    "import networkx\n",
    "import glob\n",
    "\n",
    "from matplotlib import cm\n",
    "import mplhep\n",
    "mplhep.style.use(\"CMS\")"
   ]
  },
  {
   "cell_type": "code",
   "execution_count": null,
   "id": "9c58b7a2",
   "metadata": {},
   "outputs": [],
   "source": [
    "def sample_label(ax, x=0.01, y=0.93):\n",
    "    plt.text(x, y, \"$t\\\\bar{t}$ events\", ha=\"left\", transform=ax.transAxes, size=20)"
   ]
  },
  {
   "cell_type": "code",
   "execution_count": null,
   "id": "unavailable-applicant",
   "metadata": {},
   "outputs": [],
   "source": [
    "with open(\"/home/joosep/particleflow/experiments/all_data_cms-best-of-asha-scikit_20211026_042043_178263.workergpu010/config.yaml\") as f:\n",
    "    config = yaml.safe_load(f)\n",
    "config[\"setup\"][\"multi_output\"] = True\n",
    "config[\"parameters\"][\"debug\"] = True"
   ]
  },
  {
   "cell_type": "code",
   "execution_count": null,
   "id": "becoming-district",
   "metadata": {},
   "outputs": [],
   "source": [
    "model = tfmodel.model_setup.make_gnn_dense(config, tf.float32)"
   ]
  },
  {
   "cell_type": "code",
   "execution_count": null,
   "id": "d9fbca7a",
   "metadata": {},
   "outputs": [],
   "source": [
    "config[\"datasets\"][\"cms_pf_ttbar\"]"
   ]
  },
  {
   "cell_type": "code",
   "execution_count": null,
   "id": "exact-landing",
   "metadata": {},
   "outputs": [],
   "source": [
    "cds = config[\"dataset\"]\n",
    "\n",
    "config[\"datasets\"][\"cms_pf_ttbar\"][\"data_dir\"] = \"/home/joosep/tensorflow_datasets/\"\n",
    "config[\"datasets\"][\"cms_pf_ttbar\"][\"batch_per_gpu\"] = 1\n",
    "ds_val, ds_info = tfmodel.utils.get_heptfds_dataset(\n",
    "    \"cms_pf_ttbar\",\n",
    "    config, 1, \"test\", 100\n",
    ")"
   ]
  },
  {
   "cell_type": "code",
   "execution_count": null,
   "id": "collective-mounting",
   "metadata": {},
   "outputs": [],
   "source": [
    "ret = model.build((1, 6400, 25))\n",
    "#model.set_trainable_classification()\n",
    "model.load_weights(\"/home/joosep/particleflow/experiments/all_data_cms-best-of-asha-scikit_20211026_042043_178263.workergpu010/weights/weights-200-0.074496.hdf5\")"
   ]
  },
  {
   "cell_type": "code",
   "execution_count": null,
   "id": "18732bbe",
   "metadata": {},
   "outputs": [],
   "source": [
    "model.summary()"
   ]
  },
  {
   "cell_type": "code",
   "execution_count": null,
   "id": "aa7c2864",
   "metadata": {
    "scrolled": false
   },
   "outputs": [],
   "source": [
    "for X, y, w in ds_val:\n",
    "    X = tf.expand_dims(X, axis=0)\n",
    "    X_val = X.numpy()\n",
    "    ret = model.predict_on_batch(X)\n",
    "    break"
   ]
  },
  {
   "cell_type": "code",
   "execution_count": null,
   "id": "western-petersburg",
   "metadata": {},
   "outputs": [],
   "source": [
    "def get_bin_index(bs):\n",
    "    bin_index = []\n",
    "\n",
    "    for ielem in range(6400):\n",
    "        if X_val[0, ielem, 0] != 0:\n",
    "            for ibin in range(bs.shape[0]):\n",
    "                if ielem in bs[ibin]:\n",
    "                    bin_index.append(ibin)\n",
    "                    break\n",
    "        else:\n",
    "            break\n",
    "    return bin_index"
   ]
  },
  {
   "cell_type": "code",
   "execution_count": null,
   "id": "possible-prime",
   "metadata": {},
   "outputs": [],
   "source": [
    "def plot_binning_in_layer(layer_name):\n",
    "    msk = X_val[0][:, 0] != 0\n",
    "    eta = X_val[0][msk, 2]\n",
    "    phi = X_val[0][msk, 3]\n",
    "    typ = X_val[0][msk, 0]\n",
    "    energy = X_val[0][msk, 4]\n",
    "\n",
    "    evenly_spaced_interval = np.linspace(0, 1, ret[layer_name][\"bins\"].shape[1])\n",
    "    colorlist = [cm.Dark2(x) for x in evenly_spaced_interval]\n",
    "    bin_idx = get_bin_index(ret[layer_name][\"bins\"][0])\n",
    "\n",
    "    plt.figure(figsize=(10,10))\n",
    "    mplhep.cms.label(\"Preliminary\", data=False, loc=0, rlabel=\"Run 3 (14 TeV)\")\n",
    "    ax = plt.axes()\n",
    "    sc = plt.scatter(eta, phi, c=[colorlist[bi] for bi in bin_idx], marker=\".\", s=energy)\n",
    "    plt.legend(*sc.legend_elements(\"sizes\", num=5), ncol=4, loc=1, title=\"PFElement energy [GeV]\", frameon=False)\n",
    "    plt.xlabel(\"PFElement $\\eta$\")\n",
    "    plt.ylabel(\"PFElement $\\phi$\")\n",
    "    #plt.title(\"Binning in {}\".format(layer_name))\n",
    "    #cms_label(ax)\n",
    "    sample_label(ax, x=0.05)\n",
    "    plt.ylim(-4.4, 4.4)\n",
    "    plt.text(0.5, 0.05, \"Each point corresponds to a PFElement in a simulated event.\\nUnique colors correspond to the bin assignment in this layer.\",\n",
    "        ha=\"center\", va=\"center\", transform=ax.transAxes, fontsize=15)\n",
    "    plt.savefig(\"bins_{}.pdf\".format(layer_name), bbox_inches=\"tight\")\n",
    "    plt.savefig(\"bins_{}.png\".format(layer_name), bbox_inches=\"tight\", dpi=300)"
   ]
  },
  {
   "cell_type": "code",
   "execution_count": null,
   "id": "listed-quarterly",
   "metadata": {},
   "outputs": [],
   "source": [
    "plot_binning_in_layer(\"cg_0\")"
   ]
  },
  {
   "cell_type": "code",
   "execution_count": null,
   "id": "convenient-winner",
   "metadata": {},
   "outputs": [],
   "source": [
    "plot_binning_in_layer(\"cg_1\")"
   ]
  },
  {
   "cell_type": "code",
   "execution_count": null,
   "id": "c8f0f81f",
   "metadata": {},
   "outputs": [],
   "source": [
    "plot_binning_in_layer(\"cg_2\")"
   ]
  },
  {
   "cell_type": "code",
   "execution_count": null,
   "id": "religious-rendering",
   "metadata": {},
   "outputs": [],
   "source": [
    "plot_binning_in_layer(\"cg_energy_0\")"
   ]
  },
  {
   "cell_type": "code",
   "execution_count": null,
   "id": "weekly-penetration",
   "metadata": {},
   "outputs": [],
   "source": [
    "plot_binning_in_layer(\"cg_energy_1\")"
   ]
  },
  {
   "cell_type": "code",
   "execution_count": null,
   "id": "superior-waterproof",
   "metadata": {},
   "outputs": [],
   "source": [
    "import math\n",
    "def plot_dms(dms):\n",
    "    num_plots = len(dms)\n",
    "    sqrt_num_plots = int(math.sqrt(num_plots))\n",
    "    fig = plt.figure(figsize=(sqrt_num_plots*4, sqrt_num_plots*4))\n",
    "    mplhep.cms.label(\"Preliminary\", data=False, loc=0, rlabel=\"Run 3 (14 TeV)\")\n",
    "    for i in range(min(len(dms), num_plots)):\n",
    "        ax = plt.subplot(sqrt_num_plots, sqrt_num_plots, i+1)\n",
    "        plt.axes(ax)\n",
    "        plt.imshow(dms[i], interpolation=\"none\", norm=matplotlib.colors.Normalize(vmin=0, vmax=1), cmap=\"Blues\")\n",
    "        #plt.colorbar()\n",
    "        plt.title(\"bin {}\".format(i))\n",
    "        #plt.xlabel(\"elem index $i$\")\n",
    "        #plt.ylabel(\"elem index $j$\")\n",
    "        plt.xticks([])\n",
    "        plt.yticks([])\n",
    "    plt.tight_layout()"
   ]
  },
  {
   "cell_type": "code",
   "execution_count": null,
   "id": "harmful-ultimate",
   "metadata": {},
   "outputs": [],
   "source": [
    "for layer in ['cg_0', 'cg_1', 'cg_energy_0', 'cg_energy_1']:\n",
    "    dm_vals = ret[layer]['dm'].flatten()\n",
    "    plt.hist(dm_vals[dm_vals!=0], bins=np.linspace(0,1,100), density=True, lw=2, histtype=\"step\", label=layer)\n",
    "plt.yscale(\"log\")\n",
    "plt.legend(loc=\"best\", frameon=False, ncol=2)\n",
    "plt.xlabel(\"Element-to-element distance\")\n",
    "plt.ylabel(\"Number of elements\")\n",
    "\n",
    "plt.savefig(\"dm.pdf\", bbox_inches=\"tight\")\n",
    "plt.savefig(\"dm.png\", bbox_inches=\"tight\", dpi=300)"
   ]
  },
  {
   "cell_type": "code",
   "execution_count": null,
   "id": "77bbd6cf",
   "metadata": {},
   "outputs": [],
   "source": [
    "plot_dms(dmn[:4])"
   ]
  },
  {
   "cell_type": "code",
   "execution_count": null,
   "id": "celtic-techno",
   "metadata": {},
   "outputs": [],
   "source": [
    "dmn = ret['cg_0']['dm'][0, :, :, :, 0]\n",
    "plot_dms(dmn)\n",
    "plt.tight_layout()\n",
    "plt.suptitle(\"Learned adjacency, cg_0\", y=1.01)\n",
    "plt.savefig(\"dm_cg_0.pdf\", bbox_inches=\"tight\")\n",
    "plt.savefig(\"dm_cg_0.png\", bbox_inches=\"tight\", dpi=300)"
   ]
  },
  {
   "cell_type": "code",
   "execution_count": null,
   "id": "silent-medium",
   "metadata": {},
   "outputs": [],
   "source": [
    "dmn = ret['cg_1']['dm'][0, :, :, :, 0]\n",
    "plot_dms(dmn)\n",
    "plt.suptitle(\"Learned adjacency, cg_1\", y=1.01)\n",
    "plt.savefig(\"dm_cg_1.pdf\", bbox_inches=\"tight\")\n",
    "plt.savefig(\"dm_cg_1.png\", bbox_inches=\"tight\", dpi=300)"
   ]
  },
  {
   "cell_type": "code",
   "execution_count": null,
   "id": "certified-enforcement",
   "metadata": {},
   "outputs": [],
   "source": [
    "dmn = ret['cg_energy_0']['dm'][0, :, :, :, 0]\n",
    "plot_dms(dmn)\n",
    "plt.suptitle(\"Learned adjacency, cg_energy_0\", y=1.01)\n",
    "plt.savefig(\"dm_cg_energy_0.pdf\", bbox_inches=\"tight\")\n",
    "plt.savefig(\"dm_cg_energy_0.png\", bbox_inches=\"tight\", dpi=300)"
   ]
  },
  {
   "cell_type": "code",
   "execution_count": null,
   "id": "portuguese-automation",
   "metadata": {},
   "outputs": [],
   "source": [
    "dmn = ret['cg_energy_1']['dm'][0, :, :, :, 0]\n",
    "plot_dms(dmn)\n",
    "plt.suptitle(\"Learned adjacency, cg_energy_1\", y=1.01)\n",
    "plt.savefig(\"dm_cg_energy_1.pdf\", bbox_inches=\"tight\")\n",
    "plt.savefig(\"dm_cg_energy_1.png\", bbox_inches=\"tight\", dpi=300)"
   ]
  },
  {
   "cell_type": "code",
   "execution_count": null,
   "id": "b4e95cc3",
   "metadata": {},
   "outputs": [],
   "source": []
  }
 ],
 "metadata": {
  "kernelspec": {
   "display_name": "Python 3 (ipykernel)",
   "language": "python",
   "name": "python3"
  },
  "language_info": {
   "codemirror_mode": {
    "name": "ipython",
    "version": 3
   },
   "file_extension": ".py",
   "mimetype": "text/x-python",
   "name": "python",
   "nbconvert_exporter": "python",
   "pygments_lexer": "ipython3",
   "version": "3.8.10"
  }
 },
 "nbformat": 4,
 "nbformat_minor": 5
}
