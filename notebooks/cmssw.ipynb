{
 "cells": [
  {
   "cell_type": "code",
   "execution_count": null,
   "id": "cooperative-purpose",
   "metadata": {},
   "outputs": [],
   "source": [
    "import pickle\n",
    "import numpy as np\n",
    "import mplhep\n",
    "import awkward\n",
    "import matplotlib.pyplot as plt\n",
    "\n",
    "import uproot\n",
    "import boost_histogram as bh"
   ]
  },
  {
   "cell_type": "code",
   "execution_count": null,
   "id": "aa92c191",
   "metadata": {},
   "outputs": [],
   "source": [
    "physics_process = \"qcd\"\n",
    "\n",
    "fi1 = uproot.open(\"/home/joosep/reco/mlpf/CMSSW_11_3_0_pre2/11843.0_baseline/DQM_V0001_R000000001__Global__CMSSW_X_Y_Z__RECO.root\")\n",
    "fi2 = uproot.open(\"/home/joosep/reco/mlpf/CMSSW_11_3_0_pre2/11843.0_mlpf/DQM_V0001_R000000001__Global__CMSSW_X_Y_Z__RECO.root\")"
   ]
  },
  {
   "cell_type": "code",
   "execution_count": null,
   "id": "extreme-exhibit",
   "metadata": {},
   "outputs": [],
   "source": [
    "physics_process = \"ttbar\"\n",
    "data_mlpf = awkward.Array(pickle.load(open(\"/home/joosep/reco/mlpf/CMSSW_11_3_0_pre2/11834.13_mlpf/out.pkl\", \"rb\")))\n",
    "data_baseline = awkward.Array(pickle.load(open(\"/home/joosep/reco/mlpf/CMSSW_11_3_0_pre2/11834.13_baseline/out.pkl\", \"rb\")))\n",
    "\n",
    "fi1 = uproot.open(\"/home/joosep/reco/mlpf/CMSSW_11_3_0_pre2/11834.13_baseline/DQM_V0001_R000000001__Global__CMSSW_X_Y_Z__RECO.root\")\n",
    "fi2 = uproot.open(\"/home/joosep/reco/mlpf/CMSSW_11_3_0_pre2/11834.13_mlpf/DQM_V0001_R000000001__Global__CMSSW_X_Y_Z__RECO.root\")"
   ]
  },
  {
   "cell_type": "code",
   "execution_count": null,
   "id": "excited-shepherd",
   "metadata": {},
   "outputs": [],
   "source": [
    "# physics_process = \"singlepi\"\n",
    "# data_mlpf = awkward.Array(pickle.load(open(\"/home/joosep/reco/mlpf/CMSSW_11_3_0_pre2/11688.0_mlpf/out.pkl\", \"rb\")))\n",
    "# data_baseline = awkward.Array(pickle.load(open(\"/home/joosep/reco/mlpf/CMSSW_11_3_0_pre2/11688.0_baseline/out.pkl\", \"rb\")))"
   ]
  },
  {
   "cell_type": "code",
   "execution_count": null,
   "id": "architectural-coordinator",
   "metadata": {},
   "outputs": [],
   "source": [
    "def cms_label(x0=0.12, x1=0.23, x2=0.67, y=0.90):\n",
    "    plt.figtext(x0, y,'CMS',fontweight='bold', wrap=True, horizontalalignment='left', fontsize=12)\n",
    "    plt.figtext(x1, y,'Simulation Preliminary', style='italic', wrap=True, horizontalalignment='left', fontsize=10)\n",
    "    plt.figtext(x2, y,'Run 3 (14 TeV)',  wrap=True, horizontalalignment='left', fontsize=10)\n",
    "    \n",
    "physics_process_str = {\n",
    "    \"ttbar\": \"$\\mathrm{t}\\overline{\\mathrm{t}}$ events\",\n",
    "    \"singlepi\": \"single $\\pi^{\\pm}$ events\",\n",
    "    \"qcd\": \"QCD\",\n",
    "}\n",
    "\n",
    "def sample_label(ax, x=0.03, y=0.98, additional_text=\"\"):\n",
    "    plt.text(x, y,\n",
    "        physics_process_str[physics_process]+additional_text,\n",
    "    va=\"top\", ha=\"left\", size=10, transform=ax.transAxes)\n"
   ]
  },
  {
   "cell_type": "code",
   "execution_count": null,
   "id": "speaking-contents",
   "metadata": {},
   "outputs": [],
   "source": [
    "plt.figure(figsize=(5, 5))\n",
    "ax = plt.axes()\n",
    "\n",
    "bins = np.linspace(0, 500, 61)\n",
    "plt.hist(awkward.flatten(data_baseline[\"ak4PFJetsCHS\"][\"pt\"]), bins=bins, histtype=\"step\", lw=2, label=\"PF\");\n",
    "plt.hist(awkward.flatten(data_mlpf[\"ak4PFJetsCHS\"][\"pt\"]), bins=bins, histtype=\"step\", lw=2, label=\"MLPF\");\n",
    "plt.yscale(\"log\")\n",
    "plt.ylim(top=1e5)\n",
    "cms_label()\n",
    "sample_label(ax, x=0.02)\n",
    "plt.xlabel(\"ak4PFJetsCHS $p_T$ [GeV]\")\n",
    "plt.ylabel(\"Number of jets\")\n",
    "plt.legend(loc=\"best\")\n",
    "\n",
    "plt.savefig(\"ak4jet_pt_{}.pdf\".format(physics_process), bbox_inches=\"tight\")"
   ]
  },
  {
   "cell_type": "code",
   "execution_count": null,
   "id": "formed-single",
   "metadata": {},
   "outputs": [],
   "source": [
    "plt.figure(figsize=(5, 5))\n",
    "\n",
    "bins = np.linspace(0, 2500, 61)\n",
    "plt.hist(awkward.flatten(data_baseline[\"ak4PFJetsCHS\"][\"energy\"]), bins=bins, histtype=\"step\", lw=2, label=\"PF\");\n",
    "plt.hist(awkward.flatten(data_mlpf[\"ak4PFJetsCHS\"][\"energy\"]), bins=bins, histtype=\"step\", lw=2, label=\"MLPF\");\n",
    "plt.yscale(\"log\")\n",
    "plt.ylim(top=1e5)\n",
    "cms_label()\n",
    "sample_label(ax, x=0.02)\n",
    "\n",
    "plt.xlabel(\"ak4PFJetsCHS $E$ [GeV]\")\n",
    "plt.ylabel(\"Number of jets\")\n",
    "plt.legend(loc=\"best\")\n",
    "\n",
    "plt.savefig(\"ak4jet_energy_{}.pdf\".format(physics_process), bbox_inches=\"tight\")"
   ]
  },
  {
   "cell_type": "code",
   "execution_count": null,
   "id": "nonprofit-polish",
   "metadata": {},
   "outputs": [],
   "source": [
    "plt.figure(figsize=(5, 5))\n",
    "\n",
    "bins = np.linspace(-6, 6, 101)\n",
    "plt.hist(awkward.flatten(data_baseline[\"ak4PFJetsCHS\"][\"eta\"]), bins=bins, histtype=\"step\", lw=2, label=\"PF\");\n",
    "plt.hist(awkward.flatten(data_mlpf[\"ak4PFJetsCHS\"][\"eta\"]), bins=bins, histtype=\"step\", lw=2, label=\"MLPF\");\n",
    "#plt.yscale(\"log\")\n",
    "cms_label()\n",
    "sample_label(ax)\n",
    "plt.ylim(top=2000)\n",
    "plt.xlabel(\"ak4PFJetsCHS $\\eta$\")\n",
    "plt.ylabel(\"Number of jets\")\n",
    "plt.legend(loc=\"best\")\n",
    "\n",
    "plt.savefig(\"ak4jet_eta_{}.pdf\".format(physics_process), bbox_inches=\"tight\")"
   ]
  },
  {
   "cell_type": "code",
   "execution_count": null,
   "id": "center-heath",
   "metadata": {},
   "outputs": [],
   "source": [
    "color_map = {\n",
    "    1: \"red\",\n",
    "    2: \"blue\",\n",
    "    11: \"orange\",\n",
    "    22: \"cyan\",\n",
    "    13: \"purple\",\n",
    "    130: \"green\",\n",
    "    211: \"black\"\n",
    "}"
   ]
  },
  {
   "cell_type": "code",
   "execution_count": null,
   "id": "sufficient-medication",
   "metadata": {},
   "outputs": [],
   "source": [
    "def draw_event(iev):\n",
    "    pt_0 = data_mlpf[\"particleFlow\"][\"pt\"][iev]\n",
    "    energy_0 = data_mlpf[\"particleFlow\"][\"energy\"][iev]\n",
    "    eta_0 = data_mlpf[\"particleFlow\"][\"eta\"][iev]\n",
    "    phi_0 = data_mlpf[\"particleFlow\"][\"phi\"][iev]\n",
    "    pdgid_0 = np.abs(data_mlpf[\"particleFlow\"][\"pdgId\"][iev])\n",
    "    \n",
    "    pt_1 = data_baseline[\"particleFlow\"][\"pt\"][iev]\n",
    "    energy_1 = data_baseline[\"particleFlow\"][\"energy\"][iev]\n",
    "    eta_1 = data_baseline[\"particleFlow\"][\"eta\"][iev]\n",
    "    phi_1 = data_baseline[\"particleFlow\"][\"phi\"][iev]\n",
    "    pdgid_1 = np.abs(data_baseline[\"particleFlow\"][\"pdgId\"][iev])\n",
    "    \n",
    "    plt.figure(figsize=(5, 5))\n",
    "    plt.scatter(eta_0, phi_0, marker=\".\", s=energy_0, c=[color_map[p] for p in pdgid_0], alpha=0.6)\n",
    "#     plt.scatter(\n",
    "#         data_mlpf[\"ak4PFJetsCHS\"][\"eta\"][iev],\n",
    "#         data_mlpf[\"ak4PFJetsCHS\"][\"phi\"][iev],\n",
    "#         s=data_mlpf[\"ak4PFJetsCHS\"][\"energy\"][iev], color=\"gray\", alpha=0.3\n",
    "#     )\n",
    "    cms_label()\n",
    "    sample_label(ax)\n",
    "    plt.xlim(-6,6)\n",
    "    plt.ylim(-4,4)\n",
    "    plt.xlabel(\"PFCandidate $\\eta$\")\n",
    "    plt.ylabel(\"PFCandidate $\\phi$\")\n",
    "    plt.title(\"MLPF (trained on PF), CMSSW-ONNX inference\", y=1.05)\n",
    "    plt.savefig(\"event_mlpf_{}_iev{}.pdf\".format(physics_process, iev), bbox_inches=\"tight\")\n",
    "    \n",
    "    plt.figure(figsize=(5, 5))\n",
    "    plt.scatter(eta_1, phi_1, marker=\".\", s=energy_1, c=[color_map[p] for p in pdgid_1], alpha=0.6)\n",
    "#     plt.scatter(\n",
    "#         data_baseline[\"ak4PFJetsCHS\"][\"eta\"][iev],\n",
    "#         data_baseline[\"ak4PFJetsCHS\"][\"phi\"][iev],\n",
    "#         s=data_baseline[\"ak4PFJetsCHS\"][\"energy\"][iev], color=\"gray\", alpha=0.3\n",
    "#     )\n",
    "    cms_label()\n",
    "    sample_label(ax)\n",
    "    plt.xlim(-6,6)\n",
    "    plt.ylim(-4,4)\n",
    "    plt.xlabel(\"PFCandidate $\\eta$\")\n",
    "    plt.ylabel(\"PFCandidate $\\phi$\")\n",
    "    plt.title(\"Standard PF, CMSSW\", y=1.05)\n",
    "    plt.savefig(\"event_pf_{}_iev{}.pdf\".format(physics_process, iev), bbox_inches=\"tight\")"
   ]
  },
  {
   "cell_type": "code",
   "execution_count": null,
   "id": "comfortable-albert",
   "metadata": {},
   "outputs": [],
   "source": [
    "draw_event(0)"
   ]
  },
  {
   "cell_type": "code",
   "execution_count": null,
   "id": "accompanied-wichita",
   "metadata": {},
   "outputs": [],
   "source": [
    "draw_event(1)"
   ]
  },
  {
   "cell_type": "code",
   "execution_count": null,
   "id": "curious-lover",
   "metadata": {
    "scrolled": false
   },
   "outputs": [],
   "source": [
    "draw_event(2)"
   ]
  },
  {
   "cell_type": "code",
   "execution_count": null,
   "id": "b0b8b3b4",
   "metadata": {
    "scrolled": false
   },
   "outputs": [],
   "source": [
    "for k in fi1.keys():\n",
    "    if \"DQMData/Run 1/ParticleFlow/Run summary/PackedCandidates/neutralHadron\" in k:\n",
    "        print(k)"
   ]
  },
  {
   "cell_type": "code",
   "execution_count": null,
   "id": "3fe02a91",
   "metadata": {},
   "outputs": [],
   "source": [
    "#k = \"DQMData/Run 1/ParticleFlow/Run summary/PFJetValidation/CompWithGenJet/average_delta_et_Over_et_VS_et_\"\n",
    "#k = \"DQMData/Run 1/ParticleFlow/Run summary/PFMETValidation/CompWithGenMET/pt_\"\n",
    "#k = \"DQMData/Run 1/ParticleFlow/Run summary/PFJetValidation/CompWithGenJet/mean_delta_et_Over_et_VS_et_\"\n",
    "k = \"DQMData/Run 1/ParticleFlow/Run summary/PackedCandidates/HF_hadron/HF_hadronLog10Pt\"\n",
    "\n",
    "def plot_dqm(key, title, rebin=None):\n",
    "    h1 = fi1.get(key).to_boost()\n",
    "    h2 = fi2.get(key).to_boost()\n",
    "\n",
    "    fig, (ax1, ax2) = plt.subplots(2, 1)\n",
    "    plt.sca(ax1)\n",
    "    if rebin:\n",
    "        h1 = h1[bh.rebin(rebin)]\n",
    "        h2 = h2[bh.rebin(rebin)]\n",
    "        \n",
    "    mplhep.histplot(h1, yerr=0, label=\"PF\");\n",
    "    mplhep.histplot(h2, yerr=0, label=\"MLPF\");\n",
    "    plt.legend(frameon=False)\n",
    "    plt.ylabel(\"Number of particles / bin\")\n",
    "    sample_label(ax=ax1, additional_text=\", \"+title)\n",
    "\n",
    "    plt.sca(ax2)\n",
    "    ratio_hist = h2/h1\n",
    "    vals_y = ratio_hist.values()\n",
    "    vals_y[np.isnan(vals_y)] = 0\n",
    "    plt.plot(ratio_hist.axes[0].centers, vals_y, color=\"gray\", lw=0, marker=\".\")\n",
    "    plt.ylim(0,2)\n",
    "    plt.axhline(1.0, color=\"black\", ls=\"--\")\n",
    "    plt.ylabel(\"MLPF / PF\")\n",
    "    \n",
    "    return ax1, ax2\n",
    "    \n",
    "#plt.xscale(\"log\")\n",
    "#plt.yscale(\"log\")\n",
    "\n",
    "log10_pt = \"$\\log_{10}[p_T/\\mathrm{GeV}]$\"\n",
    "eta = \"$\\eta$\"\n",
    "\n",
    "dqm_plots_ptcl = [\n",
    "    (\"DQMData/Run 1/ParticleFlow/Run summary/PackedCandidates/chargedHadron/chargedHadronLog10Pt\",\n",
    "    \"ch.had.\", log10_pt, \"ch_had_logpt\"),\n",
    "    (\"DQMData/Run 1/ParticleFlow/Run summary/PackedCandidates/chargedHadron/chargedHadronEta\",\n",
    "    \"ch.had.\", eta, \"ch_had_eta\"),\n",
    "    \n",
    "    (\"DQMData/Run 1/ParticleFlow/Run summary/PackedCandidates/neutralHadron/neutralHadronLog10Pt\",\n",
    "    \"n.had.\", log10_pt, \"n_had_logpt\"),\n",
    "    (\"DQMData/Run 1/ParticleFlow/Run summary/PackedCandidates/neutralHadron/neutralHadronPtLow\",\n",
    "    \"n.had.\", \"$p_T$ [GeV]\", \"n_had_ptlow\"),\n",
    "    (\"DQMData/Run 1/ParticleFlow/Run summary/PackedCandidates/neutralHadron/neutralHadronPtMid\",\n",
    "    \"n.had.\", \"$p_T$ [GeV]\", \"n_had_ptmid\"),\n",
    "    (\"DQMData/Run 1/ParticleFlow/Run summary/PackedCandidates/neutralHadron/neutralHadronEta\",\n",
    "    \"n.had.\", eta, \"n_had_eta\"),\n",
    "    \n",
    "    (\"DQMData/Run 1/ParticleFlow/Run summary/PackedCandidates/HF_hadron/HF_hadronLog10Pt\",\n",
    "     \"HFHAD\", log10_pt, \"hfhad_logpt\"),\n",
    "    (\"DQMData/Run 1/ParticleFlow/Run summary/PackedCandidates/HF_hadron/HF_hadronEta\",\n",
    "     \"HFHAD\", eta, \"hfhad_eta\"),\n",
    "    \n",
    "    (\"DQMData/Run 1/ParticleFlow/Run summary/PackedCandidates/HF_EM_particle/HF_EM_particleLog10Pt\",\n",
    "     \"HFEM\", log10_pt, \"hfem_logpt\"),\n",
    "    (\"DQMData/Run 1/ParticleFlow/Run summary/PackedCandidates/HF_EM_particle/HF_EM_particleEta\",\n",
    "     \"HFEM\", eta, \"hfem_eta\"),\n",
    "    \n",
    "    (\"DQMData/Run 1/ParticleFlow/Run summary/PackedCandidates/photon/photonLog10Pt\",\n",
    "    \"photon\", log10_pt, \"photon_logpt\"),\n",
    "    (\"DQMData/Run 1/ParticleFlow/Run summary/PackedCandidates/photon/photonEta\",\n",
    "    \"photon\", eta, \"photon_eta\"),\n",
    "    \n",
    "    \n",
    "    (\"DQMData/Run 1/ParticleFlow/Run summary/PackedCandidates/electron/electronLog10Pt\",\n",
    "    \"electron\", log10_pt, \"electron_logpt\"),\n",
    "    (\"DQMData/Run 1/ParticleFlow/Run summary/PackedCandidates/electron/electronEta\",\n",
    "    \"electron\", eta, \"electron_eta\"),    \n",
    "    \n",
    "    (\"DQMData/Run 1/ParticleFlow/Run summary/PackedCandidates/muon/muonLog10Pt\",\n",
    "    \"muon\", log10_pt, \"muon_logpt\"),\n",
    "    (\"DQMData/Run 1/ParticleFlow/Run summary/PackedCandidates/muon/muonEta\",\n",
    "    \"muon\", eta, \"muon_eta\"),\n",
    "]\n",
    "\n",
    "dqm_plots_jetres = [\n",
    "    (\"DQMData/Run 1/ParticleFlow/Run summary/PFJetValidation/CompWithGenJet/mean_delta_et_Over_et_VS_et_\",\n",
    "    \"jets\", \"gen-jet $E_t$\", \"$\\Delta E_t / E_t$\"),\n",
    "]"
   ]
  },
  {
   "cell_type": "code",
   "execution_count": null,
   "id": "348eb94c",
   "metadata": {
    "scrolled": false
   },
   "outputs": [],
   "source": [
    "for key, title, xlabel, plot_label in dqm_plots_ptcl:\n",
    "    rh = plot_dqm(key, title)\n",
    "    plt.xlabel(xlabel)\n",
    "    cms_label()\n",
    "    plt.savefig(\"dqm_{}_{}.pdf\".format(plot_label, physics_process), bbox_inches=\"tight\")"
   ]
  },
  {
   "cell_type": "code",
   "execution_count": null,
   "id": "79d3fdfe",
   "metadata": {},
   "outputs": [],
   "source": [
    "ax1, ax2 = plot_dqm(\"DQMData/Run 1/JetMET/Run summary/Jet/Cleanedak4PFJetsCHS/Pt\", \"ak4PFCHS jets\")\n",
    "ax2.set_xlabel(\"jet $p_t$ [GeV]\")\n",
    "ax1.set_ylabel(\"number of jets / bin\")\n",
    "#plt.xscale(\"log\")\n",
    "#plt.ylim(bottom=1, top=1e4)\n",
    "ax1.set_yscale(\"log\")\n",
    "ax1.set_ylim(bottom=1, top=1e3)\n",
    "ax2.set_ylim(0,5)\n",
    "\n",
    "cms_label()\n",
    "plt.savefig(\"dqm_jet_pt_{}.pdf\".format(physics_process), bbox_inches=\"tight\")"
   ]
  },
  {
   "cell_type": "code",
   "execution_count": null,
   "id": "67ee87dc",
   "metadata": {},
   "outputs": [],
   "source": [
    "ax1, ax2 = plot_dqm(\"DQMData/Run 1/JetMET/Run summary/Jet/CleanedslimmedJetsPuppi/Pt\", \"ak4PFPuppi jets\")\n",
    "ax2.set_xlabel(\"jet $p_t$ [GeV]\")\n",
    "ax1.set_ylabel(\"number of jets / bin\")\n",
    "#plt.xscale(\"log\")\n",
    "#plt.ylim(bottom=1, top=1e4)\n",
    "ax1.set_yscale(\"log\")\n",
    "ax1.set_ylim(bottom=1, top=1e3)\n",
    "ax2.set_ylim(0,5)\n",
    "\n",
    "cms_label()\n",
    "plt.savefig(\"dqm_jet_pt_puppi_{}.pdf\".format(physics_process), bbox_inches=\"tight\")"
   ]
  },
  {
   "cell_type": "code",
   "execution_count": null,
   "id": "1665549f",
   "metadata": {},
   "outputs": [],
   "source": [
    "ax1, ax2 = plot_dqm(\"DQMData/Run 1/JetMET/Run summary/Jet/Cleanedak4PFJetsCHS/Eta\", \"ak4PFCHS jets\")\n",
    "ax2.set_xlabel(\"jet $\\eta$\")\n",
    "ax1.set_ylabel(\"number of jets / bin\")\n",
    "#plt.xscale(\"log\")\n",
    "#plt.ylim(bottom=1, top=1e4)\n",
    "#ax1.set_yscale(\"log\")\n",
    "#ax1.set_ylim(bottom=0, top=20)\n",
    "ax2.set_ylim(0,5)\n",
    "\n",
    "cms_label()\n",
    "plt.savefig(\"dqm_jet_eta_{}.pdf\".format(physics_process), bbox_inches=\"tight\")"
   ]
  },
  {
   "cell_type": "code",
   "execution_count": null,
   "id": "7f320f04",
   "metadata": {},
   "outputs": [],
   "source": [
    "ax1, ax2 = plot_dqm(\"DQMData/Run 1/JetMET/Run summary/Jet/CleanedslimmedJetsPuppi/Eta\", \"ak4PFPuppi jets\")\n",
    "ax2.set_xlabel(\"jet $\\eta$\")\n",
    "ax1.set_ylabel(\"number of jets / bin\")\n",
    "#plt.xscale(\"log\")\n",
    "#plt.ylim(bottom=1, top=1e4)\n",
    "#ax1.set_yscale(\"log\")\n",
    "ax1.set_ylim(bottom=0, top=20)\n",
    "ax2.set_ylim(0,5)\n",
    "\n",
    "cms_label()\n",
    "plt.savefig(\"dqm_jet_eta_puppi_{}.pdf\".format(physics_process), bbox_inches=\"tight\")"
   ]
  },
  {
   "cell_type": "code",
   "execution_count": null,
   "id": "7908e453",
   "metadata": {},
   "outputs": [],
   "source": [
    "# plot_dqm(\"DQMData/Run 1/ParticleFlow/Run summary/PFJetValidation/CompWithGenJet/mean_delta_et_Over_et_VS_et_\", \"AK4 PF jets\")\n",
    "# plt.xlabel(\"gen-jet $E_t$ [GeV]\")\n",
    "# plt.ylabel(\"profiled $\\mu(\\Delta E_t / E_t$)\")\n",
    "# plt.xscale(\"log\")\n",
    "# plt.ylim(0,3)\n",
    "# cms_label()\n",
    "# plt.savefig(\"dqm_jet_mean_delta_et_Over_et_VS_et.pdf\", bbox_inches=\"tight\")"
   ]
  },
  {
   "cell_type": "code",
   "execution_count": null,
   "id": "d3bdc5b1",
   "metadata": {},
   "outputs": [],
   "source": [
    "# plot_dqm(\"DQMData/Run 1/ParticleFlow/Run summary/PFJetValidation/CompWithGenJet/sigma_delta_et_Over_et_VS_et_\", \"AK4 PF jets\")\n",
    "# plt.xlabel(\"gen-jet $E_t$ [GeV]\")\n",
    "# plt.ylabel(\"profiled $\\sigma(\\Delta E_t / E_t)$\")\n",
    "# plt.xscale(\"log\")\n",
    "# plt.ylim(0,10)\n",
    "# cms_label()\n",
    "# plt.savefig(\"dqm_jet_sigma_delta_et_Over_et_VS_et.pdf\", bbox_inches=\"tight\")"
   ]
  },
  {
   "cell_type": "code",
   "execution_count": null,
   "id": "545c5575",
   "metadata": {},
   "outputs": [],
   "source": [
    "ax1, ax2 = plot_dqm(\"DQMData/Run 1/JetMET/Run summary/METValidation/pfMet/MET\", \"PFMET\", rebin=1)\n",
    "ax2.set_xlabel(\"$\\sum E_t$ [GeV]\")\n",
    "ax1.set_ylabel(\"number of events / bin\")\n",
    "#ax1.set_xscale(\"log\")\n",
    "ax1.set_ylim(bottom=1, top=100)\n",
    "ax1.set_yscale(\"log\")\n",
    "plt.savefig(\"dqm_met_sumet_{}.pdf\".format(physics_process), bbox_inches=\"tight\")"
   ]
  },
  {
   "cell_type": "code",
   "execution_count": null,
   "id": "cb82fc75",
   "metadata": {},
   "outputs": [],
   "source": [
    "# plot_dqm(\"DQMData/Run 1/ParticleFlow/Run summary/PFMETValidation/CompWithGenMET/profileRMS_delta_et_Over_et_VS_et_\", \"PFMET\")\n",
    "# plt.xlabel(\"gen-MET $E_t$ [GeV]\")\n",
    "# plt.ylabel(\"profiled RMS $\\Delta E_t / E_t$\")\n",
    "# plt.xscale(\"log\")\n",
    "# plt.ylim(0,3)\n",
    "# cms_label()\n",
    "# plt.savefig(\"dqm_met_profileRMS_delta_et_Over_et_VS_et.pdf\", bbox_inches=\"tight\")"
   ]
  },
  {
   "cell_type": "code",
   "execution_count": null,
   "id": "74a0e050",
   "metadata": {},
   "outputs": [],
   "source": [
    "# plot_dqm(\"DQMData/Run 1/ParticleFlow/Run summary/PFMETValidation/CompWithGenMET/profile_delta_et_VS_et_\", \"PFMET\")\n",
    "# plt.xlabel(\"gen-MET $E_t$ [GeV]\")\n",
    "# plt.ylabel(\"profiled $\\Delta E_t$ [GeV]\")\n",
    "# plt.xscale(\"log\")\n",
    "# plt.ylim(0, 80)\n",
    "# cms_label()\n",
    "# plt.savefig(\"dqm_met_delta_et_VS_et.pdf\", bbox_inches=\"tight\")"
   ]
  },
  {
   "cell_type": "code",
   "execution_count": null,
   "id": "0d2ec496",
   "metadata": {},
   "outputs": [],
   "source": []
  }
 ],
 "metadata": {
  "kernelspec": {
   "display_name": "Python 3 (ipykernel)",
   "language": "python",
   "name": "python3"
  },
  "language_info": {
   "codemirror_mode": {
    "name": "ipython",
    "version": 3
   },
   "file_extension": ".py",
   "mimetype": "text/x-python",
   "name": "python",
   "nbconvert_exporter": "python",
   "pygments_lexer": "ipython3",
   "version": "3.8.10"
  }
 },
 "nbformat": 4,
 "nbformat_minor": 5
}
