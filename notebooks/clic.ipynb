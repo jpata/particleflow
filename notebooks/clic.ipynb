{
 "cells": [
  {
   "cell_type": "code",
   "execution_count": null,
   "id": "foster-monte",
   "metadata": {},
   "outputs": [],
   "source": [
    "%matplotlib inline\n",
    "import bz2\n",
    "import json\n",
    "import pandas\n",
    "import numpy as np\n",
    "import matplotlib\n",
    "import matplotlib.pyplot as plt\n",
    "import plotly.graph_objects as go\n",
    "import networkx as nx\n",
    "from networkx.drawing.nx_pydot import graphviz_layout\n"
   ]
  },
  {
   "cell_type": "code",
   "execution_count": null,
   "id": "grave-trauma",
   "metadata": {},
   "outputs": [],
   "source": [
    "#data = json.load(bz2.BZ2File(\"/home/joosep/Downloads/pythia6_ttbar_0001_pandora.json.bz2\", \"r\"))\n",
    "data = json.load(bz2.BZ2File(\"/home/joosep/Downloads/pythia6_ttbar_0001_pandora_0.json.bz2\", \"r\"))"
   ]
  },
  {
   "cell_type": "code",
   "execution_count": null,
   "id": "loose-paradise",
   "metadata": {},
   "outputs": [],
   "source": [
    "#http://flc.desy.de/lcnotes/notes/localfsExplorer_read?currentPath=/afs/desy.de/group/flc/lcnotes/LC-DET-2006-004.pdf \n",
    "a = 3*10**-4\n",
    "b = 5 #B-field in tesla "
   ]
  },
  {
   "cell_type": "code",
   "execution_count": null,
   "id": "commercial-bedroom",
   "metadata": {},
   "outputs": [],
   "source": [
    "def track_pt(omega):\n",
    "    return a*np.abs(b/omega)"
   ]
  },
  {
   "cell_type": "code",
   "execution_count": null,
   "id": "efficient-harrison",
   "metadata": {},
   "outputs": [],
   "source": [
    "iev = 3\n",
    "df_gen = pandas.DataFrame(data[iev][\"genparticles\"])\n",
    "\n",
    "df_hit = pandas.DataFrame(data[iev][\"track_hits\"])\n",
    "df_cl = pandas.DataFrame(data[iev][\"clusters\"])\n",
    "df_tr = pandas.DataFrame(data[iev][\"tracks\"])\n",
    "df_ecal = pandas.DataFrame(data[iev][\"ecal_hits\"])\n",
    "df_hcal = pandas.DataFrame(data[iev][\"hcal_hits\"])\n",
    "df_pfs = pandas.DataFrame(data[iev][\"pfs\"])\n",
    "\n",
    "df_tr[\"pt\"] = track_pt(df_tr[\"omega\"])\n",
    "df_tr[\"px\"] = np.cos(df_tr[\"phi\"])*df_tr[\"pt\"]\n",
    "df_tr[\"py\"] = np.sin(df_tr[\"phi\"])*df_tr[\"pt\"]\n",
    "df_tr[\"pz\"] = df_tr[\"tan_lambda\"]*df_tr[\"pt\"]"
   ]
  },
  {
   "cell_type": "code",
   "execution_count": null,
   "id": "28545ed0",
   "metadata": {},
   "outputs": [],
   "source": [
    "df_gen[df_gen[\"pdgid\"].abs()==15]"
   ]
  },
  {
   "cell_type": "code",
   "execution_count": null,
   "id": "f6cc1ff5",
   "metadata": {},
   "outputs": [],
   "source": [
    "df_hit"
   ]
  },
  {
   "cell_type": "code",
   "execution_count": null,
   "id": "9089cfae",
   "metadata": {},
   "outputs": [],
   "source": [
    "df_ecal"
   ]
  },
  {
   "cell_type": "code",
   "execution_count": null,
   "id": "d2e01940",
   "metadata": {},
   "outputs": [],
   "source": [
    "df_hcal"
   ]
  },
  {
   "cell_type": "code",
   "execution_count": null,
   "id": "3e22678f",
   "metadata": {},
   "outputs": [],
   "source": [
    "df_tr"
   ]
  },
  {
   "cell_type": "code",
   "execution_count": null,
   "id": "0d4d980b",
   "metadata": {},
   "outputs": [],
   "source": [
    "df_cl"
   ]
  },
  {
   "cell_type": "code",
   "execution_count": null,
   "id": "efc9be54",
   "metadata": {},
   "outputs": [],
   "source": [
    "df_gen"
   ]
  },
  {
   "cell_type": "code",
   "execution_count": null,
   "id": "8a43ec1b",
   "metadata": {},
   "outputs": [],
   "source": [
    "df_pfs"
   ]
  },
  {
   "cell_type": "code",
   "execution_count": null,
   "id": "7b534a31",
   "metadata": {},
   "outputs": [],
   "source": [
    "g = nx.DiGraph()\n",
    "for igen in range(len(df_gen)):\n",
    "    g.add_node(\"gen{}\".format(igen), typ=int(df_gen.iloc[igen][\"pdgid\"]), e=df_gen.iloc[igen][\"energy\"])\n",
    "    \n",
    "for igen in range(len(df_gen)):\n",
    "    idx_parent0 = int(df_gen.iloc[igen][\"idx_parent0\"])\n",
    "    if idx_parent0 != -1:\n",
    "        g.add_edge(\"gen{}\".format(idx_parent0), \"gen{}\".format(igen))\n",
    "        \n",
    "for icl in range(len(df_cl)):\n",
    "    g.add_node(\"clu{}\".format(icl), typ=df_cl.iloc[icl][\"type\"], e=df_cl.iloc[icl][\"energy\"])\n",
    "    for gp, gp_w in df_cl.iloc[icl][\"gp_contributions\"].items():\n",
    "        if gp_w/df_cl.iloc[icl][\"energy\"]>0.2:\n",
    "            g.add_edge(\"gen{}\".format(gp), \"clu{}\".format(icl))\n",
    "\n",
    "for itr in range(len(df_tr)):\n",
    "    g.add_node(\"tra{}\".format(itr), typ=0, e=df_tr.iloc[itr][\"pt\"])\n",
    "    for gp, gp_w in df_tr.iloc[itr][\"gp_contributions\"].items():\n",
    "        if gp_w/df_tr.iloc[itr][\"nhits\"]>0.2:\n",
    "            g.add_edge(\"gen{}\".format(gp), \"tra{}\".format(itr))\n",
    "        \n",
    "for ipf in range(len(df_pfs)):\n",
    "    g.add_node(\"pfo{}\".format(ipf), typ=int(df_pfs.iloc[ipf][\"type\"]), e=df_pfs.iloc[ipf][\"energy\"])\n",
    "    cl_idx = int(df_pfs.iloc[ipf][\"cluster_idx\"])\n",
    "    if cl_idx!=-1:\n",
    "        g.add_edge(\"clu{}\".format(cl_idx), \"pfo{}\".format(ipf))\n",
    "\n",
    "    tr_idx = int(df_pfs.iloc[ipf][\"track_idx\"])\n",
    "    if tr_idx!=-1:\n",
    "        g.add_edge(\"tra{}\".format(tr_idx), \"pfo{}\".format(ipf))"
   ]
  },
  {
   "cell_type": "code",
   "execution_count": null,
   "id": "d321f39f",
   "metadata": {},
   "outputs": [],
   "source": [
    "def node_color(node):\n",
    "    if node.startswith(\"gen\"):\n",
    "        if abs(g.nodes[node][\"typ\"])==15:\n",
    "            return \"purple\"\n",
    "        return \"red\"\n",
    "    elif node.startswith(\"clu\"):\n",
    "        return \"blue\"\n",
    "    elif node.startswith(\"tra\"):\n",
    "        return \"green\"\n",
    "    else:\n",
    "        return \"gray\"\n",
    "    \n",
    "def node_label(node):\n",
    "    typ = node[:4]\n",
    "    l = \"{}\".format(g.nodes[node][\"typ\"])\n",
    "    return l"
   ]
  },
  {
   "cell_type": "code",
   "execution_count": null,
   "id": "51f8016d",
   "metadata": {},
   "outputs": [],
   "source": [
    "plt.figure(figsize=(50,30))\n",
    "pos = graphviz_layout(g, prog=\"dot\")\n",
    "nx.draw_networkx_nodes(g, pos,\n",
    "    node_size=[5*g.nodes[n][\"e\"] for n in g.nodes],\n",
    "    node_color=[node_color(n) for n in g.nodes],\n",
    ")\n",
    "nx.draw_networkx_labels(g, pos,\n",
    "    labels={n: node_label(n) for n in g.nodes},\n",
    "    font_size=5\n",
    ")\n",
    "nx.draw_networkx_edges(g, pos, node_size=100.0);\n",
    "plt.savefig(\"plot.svg\")"
   ]
  },
  {
   "cell_type": "code",
   "execution_count": null,
   "id": "9f4b6e10",
   "metadata": {},
   "outputs": [],
   "source": [
    "matrix_tr_to_gp = np.zeros((len(df_tr), len(df_gen)))\n",
    "matrix_cl_to_gp = np.zeros((len(df_cl), len(df_gen)))\n",
    "\n",
    "for itr in range(len(df_tr)):\n",
    "    gps = df_tr.loc[itr][\"gp_contributions\"]\n",
    "    for gp, val in gps.items():\n",
    "        matrix_tr_to_gp[itr, int(gp)] += val\n",
    "        \n",
    "for icl in range(len(df_cl)):\n",
    "    gps = df_cl.loc[icl][\"gp_contributions\"]\n",
    "    for gp, val in gps.items():\n",
    "        matrix_cl_to_gp[icl, int(gp)] += val"
   ]
  },
  {
   "cell_type": "code",
   "execution_count": null,
   "id": "cleared-vessel",
   "metadata": {},
   "outputs": [],
   "source": [
    "import networkx as nx"
   ]
  },
  {
   "cell_type": "code",
   "execution_count": null,
   "id": "suspended-worst",
   "metadata": {},
   "outputs": [],
   "source": [
    "def filter_gp(gp):\n",
    "    row = df_gen.loc[gp]\n",
    "    if row[\"status\"] == 1 and row[\"energy\"]>0.2:\n",
    "        return True\n",
    "    return False"
   ]
  },
  {
   "cell_type": "code",
   "execution_count": null,
   "id": "geographic-sailing",
   "metadata": {},
   "outputs": [],
   "source": [
    "reco_to_pf = {}\n",
    "for ipf in range(len(df_pfs)):\n",
    "    row = df_pfs.loc[ipf]\n",
    "    if row[\"track_idx\"] != -1:\n",
    "        k = (\"tr\", int(row[\"track_idx\"]))\n",
    "        assert(not (k in reco_to_pf))\n",
    "        reco_to_pf[k] = ipf\n",
    "    elif row[\"cluster_idx\"] != -1:\n",
    "        k = (\"cl\", int(row[\"cluster_idx\"]))\n",
    "        assert(not (k in reco_to_pf))\n",
    "        reco_to_pf[k] = ipf\n",
    "    else:\n",
    "        #PF should always have a track or a cluster associated\n",
    "        assert(False)"
   ]
  },
  {
   "cell_type": "code",
   "execution_count": null,
   "id": "documented-crash",
   "metadata": {},
   "outputs": [],
   "source": [
    "dg = nx.Graph()\n",
    "\n",
    "gps = set()\n",
    "\n",
    "#loop over clusters, get all genparticles associated to clusters\n",
    "for icl in range(len(df_cl)):\n",
    "    row = df_cl.loc[icl]\n",
    "    dg.add_node((\"cl\", icl))\n",
    "    for gp, weight in row[\"gp_contributions\"].items():\n",
    "        gp = int(gp)\n",
    "        if filter_gp(gp):\n",
    "            dg.add_node((\"gp\", gp))\n",
    "            gps.add(gp)\n",
    "            dg.add_edge((\"gp\", gp), (\"cl\", icl), weight=weight)\n",
    "        \n",
    "        \n",
    "#loop over tracks, get all genparticles associated to tracks\n",
    "for itr in range(len(df_tr)):\n",
    "    row = df_tr.loc[itr]\n",
    "    dg.add_node((\"tr\", itr))\n",
    "    for gp in row[\"gp_contributions\"].keys():\n",
    "        gp = int(gp)\n",
    "        if filter_gp(gp):\n",
    "            dg.add_node((\"gp\", gp))\n",
    "            gps.add(gp)\n",
    "            \n",
    "            #the track is added to the genparticle with a very high weight\n",
    "            #because we always want to associate the genparticle to a track if it's possible\n",
    "            dg.add_edge((\"gp\", gp), (\"tr\", itr), weight=9999.0)"
   ]
  },
  {
   "cell_type": "code",
   "execution_count": null,
   "id": "c9081aa3",
   "metadata": {},
   "outputs": [],
   "source": [
    "node_labels = {\n",
    "    k: \"{}={}\".format(k[0], k[1]) for k in dg.nodes\n",
    "}"
   ]
  },
  {
   "cell_type": "code",
   "execution_count": null,
   "id": "a1fe2061",
   "metadata": {},
   "outputs": [],
   "source": [
    "plt.figure(figsize=(20,20))\n",
    "pos = nx.nx_pydot.pydot_layout(dg)\n",
    "nx.draw_networkx(dg, pos=pos, labels=node_labels)"
   ]
  },
  {
   "cell_type": "code",
   "execution_count": null,
   "id": "736406aa",
   "metadata": {},
   "outputs": [],
   "source": [
    "#uniqe genparticles\n",
    "gps = set(gps)\n",
    "\n",
    "#now loop over all the genparticles\n",
    "pairs = {}\n",
    "for gp in gps:\n",
    "    gp_node = (\"gp\", gp)\n",
    "\n",
    "    #find the neighboring reco elements (clusters and tracks)\n",
    "    neighbors = list(dg.neighbors(gp_node))\n",
    "    weights = [dg.edges[gp_node, n][\"weight\"] for n in neighbors]\n",
    "    nw = zip(neighbors, weights)\n",
    "    \n",
    "    #sort the neighbors by the edge weight (deposited energy)\n",
    "    nw = sorted(nw, key=lambda x: x[1], reverse=True)\n",
    "    reco_obj = None\n",
    "    if len(nw)>0:\n",
    "        #choose the closest neighbor as the \"key\" reco element\n",
    "        reco_obj = nw[0][0]\n",
    "        \n",
    "        #remove the reco element from the list, so it can't be associated to anything else\n",
    "        dg.remove_node(reco_obj)\n",
    "    \n",
    "    #this genparticle had a unique reco element\n",
    "    if reco_obj:\n",
    "        pf_obj = None\n",
    "        if reco_obj and reco_obj in reco_to_pf:\n",
    "            pf_obj = reco_to_pf[reco_obj]\n",
    "\n",
    "        assert(not (reco_obj in pairs))\n",
    "        pairs[reco_obj] = (gp, pf_obj)\n",
    "        \n",
    "    #this is a case where a genparticle did not have a key reco element, but instead was smeared between others\n",
    "    else:\n",
    "        print(\"genparticle {} is merged and cannot be reconstructed\".format(gp))\n",
    "        print(df_gen.loc[gp])"
   ]
  },
  {
   "cell_type": "code",
   "execution_count": null,
   "id": "amazing-landing",
   "metadata": {},
   "outputs": [],
   "source": [
    "len(df_tr), len(df_cl), len(pairs)"
   ]
  },
  {
   "cell_type": "code",
   "execution_count": null,
   "id": "proud-going",
   "metadata": {},
   "outputs": [],
   "source": [
    "def track_as_array(df_tr, itr):\n",
    "    row = df_tr.loc[itr]\n",
    "    return [0, row[\"px\"], row[\"py\"], row[\"pz\"], row[\"nhits\"], row[\"d0\"], row[\"z0\"]]\n",
    "\n",
    "def cluster_as_array(df_cl, icl):\n",
    "    row = df_cl.loc[icl]\n",
    "    return [1, row[\"x\"], row[\"y\"], row[\"z\"], row[\"nhits_ecal\"], row[\"nhits_hcal\"], 0.0]\n",
    "\n",
    "def gen_as_array(df_gen, igen):\n",
    "    if igen:\n",
    "        row = df_gen.loc[igen]\n",
    "        return np.array([abs(row[\"pdgid\"]), row[\"charge\"], row[\"px\"], row[\"py\"], row[\"pz\"], row[\"energy\"]])\n",
    "    else:\n",
    "        return np.zeros(6)\n",
    "    \n",
    "def pf_as_array(df_pfs, igen):\n",
    "    if igen:\n",
    "        row = df_pfs.loc[igen]\n",
    "        return np.array([abs(row[\"type\"]), row[\"charge\"], row[\"px\"], row[\"py\"], row[\"pz\"], row[\"energy\"]])\n",
    "    else:\n",
    "        return np.zeros(6)"
   ]
  },
  {
   "cell_type": "code",
   "execution_count": null,
   "id": "recent-folder",
   "metadata": {},
   "outputs": [],
   "source": [
    "def flatten_event(df_tr, df_cl, df_gen, df_pfs, pairs):\n",
    "    Xs = []\n",
    "    ys_gen = []\n",
    "    ys_cand = []\n",
    "    \n",
    "    #find all track-associated particles\n",
    "    for itr in range(len(df_tr)):\n",
    "        Xs.append(track_as_array(df_tr, itr))\n",
    "\n",
    "        k = (\"tr\", itr)\n",
    "        gp = None\n",
    "        rp = None\n",
    "        if k in pairs:\n",
    "            gp = pairs[k][0]\n",
    "            rp = pairs[k][1]\n",
    "        ys_gen.append(gen_as_array(df_gen, gp))\n",
    "        ys_cand.append(pf_as_array(df_pfs, rp))\n",
    "    \n",
    "    #find all cluster-associated particles\n",
    "    for icl in range(len(df_cl)):\n",
    "        Xs.append(cluster_as_array(df_cl, icl))\n",
    "\n",
    "        k = (\"cl\", icl)\n",
    "        gp = None\n",
    "        rp = None\n",
    "        if k in pairs:\n",
    "            gp = pairs[k][0]\n",
    "            rp = pairs[k][1]\n",
    "        ys_gen.append(gen_as_array(df_gen, gp))\n",
    "        ys_cand.append(pf_as_array(df_pfs, rp))\n",
    "\n",
    "    Xs = np.stack(Xs, axis=-1).T\n",
    "    ys_gen = np.stack(ys_gen, axis=-1).T\n",
    "    ys_cand = np.stack(ys_cand, axis=-1).T\n",
    "    \n",
    "    return Xs, ys_gen, ys_cand"
   ]
  },
  {
   "cell_type": "code",
   "execution_count": null,
   "id": "owned-rolling",
   "metadata": {},
   "outputs": [],
   "source": [
    "Xs, ys_gen, ys_cand = flatten_event(df_tr, df_cl, df_gen, df_pfs, pairs)\n",
    "len(Xs), len(ys_gen), len(ys_cand)"
   ]
  },
  {
   "cell_type": "code",
   "execution_count": null,
   "id": "c022fce0",
   "metadata": {},
   "outputs": [],
   "source": [
    "import sklearn\n",
    "import sklearn.metrics"
   ]
  },
  {
   "cell_type": "code",
   "execution_count": null,
   "id": "16dde9e2",
   "metadata": {},
   "outputs": [],
   "source": [
    "np.unique(ys_gen[:, 0])"
   ]
  },
  {
   "cell_type": "code",
   "execution_count": null,
   "id": "012ef075",
   "metadata": {},
   "outputs": [],
   "source": [
    "np.unique(ys_cand[:, 0])"
   ]
  },
  {
   "cell_type": "code",
   "execution_count": null,
   "id": "e9c5b8cd",
   "metadata": {},
   "outputs": [],
   "source": [
    "labels = [0,   13,   11, 22,  130,  211,  321, 2112, 2212]\n",
    "labels_text = {\n",
    "    0: \"none\",\n",
    "    13: \"mu\",\n",
    "    11: \"el\",\n",
    "    22: \"$\\gamma$\",\n",
    "    130: \"$K^0_L$\",\n",
    "    211: \"$\\pi^\\pm$\",\n",
    "    321: \"$K^+$\",\n",
    "    2112: \"n\",\n",
    "    2212: \"p\"\n",
    "}\n",
    "cm = sklearn.metrics.confusion_matrix(\n",
    "    ys_gen[:, 0],\n",
    "    ys_cand[:, 0],\n",
    "    labels=labels,\n",
    "    normalize=\"true\"\n",
    ")"
   ]
  },
  {
   "cell_type": "code",
   "execution_count": null,
   "id": "8817f3e5",
   "metadata": {},
   "outputs": [],
   "source": [
    "plt.imshow(cm, cmap=\"Blues\")\n",
    "plt.xticks(range(len(labels)), [labels_text[l] for l in labels], rotation=90);\n",
    "plt.yticks(range(len(labels)), [labels_text[l] for l in labels]);\n",
    "plt.xlabel(\"reco\")\n",
    "plt.ylabel(\"gen\")"
   ]
  },
  {
   "cell_type": "code",
   "execution_count": null,
   "id": "swedish-special",
   "metadata": {},
   "outputs": [],
   "source": [
    "gen_x = []\n",
    "gen_y = []\n",
    "gen_z = []\n",
    "\n",
    "mult = 10\n",
    "for i in range(len(df_gen.loc[gps])):\n",
    "    gen_x += [0.0, mult*df_gen[\"px\"].values[i]]\n",
    "    gen_y += [0.0, mult*df_gen[\"py\"].values[i]]\n",
    "    gen_z += [0.0, mult*df_gen[\"pz\"].values[i]]\n",
    "\n",
    "points_gen = go.Scatter3d(\n",
    "    x=gen_x,\n",
    "    y=gen_z,\n",
    "    z=gen_y,\n",
    "    mode=\"lines\",\n",
    "    line=dict(color='rgba(0, 0, 0, 1.0)'),\n",
    "    name=\"gen\"\n",
    ")\n",
    "\n",
    "trk_x = []\n",
    "trk_y = []\n",
    "trk_z = []\n",
    "\n",
    "mult = 40\n",
    "for i in range(len(df_tr)):\n",
    "    trk_x += [0.0, mult*df_tr[\"px\"].values[i]]\n",
    "    trk_y += [0.0, mult*df_tr[\"py\"].values[i]]\n",
    "    trk_z += [0.0, mult*df_tr[\"pz\"].values[i]]\n",
    "\n",
    "points_trk = go.Scatter3d(\n",
    "    x=trk_x,\n",
    "    y=trk_y,\n",
    "    z=trk_z,\n",
    "    mode=\"lines\",\n",
    "    line=dict(color='rgba(0, 255, 0, 1.0)'),\n",
    "    name=\"tracks\"\n",
    ")\n",
    "    \n",
    "points_ecal = go.Scatter3d(\n",
    "    x=df_ecal[\"x\"].values,\n",
    "    y=df_ecal[\"z\"].values,\n",
    "    z=df_ecal[\"y\"].values,\n",
    "    mode=\"markers\",\n",
    "    marker={\n",
    "        \"symbol\": \"square\",\n",
    "        \"opacity\": 0.5,\n",
    "        \"color\": \"blue\",\n",
    "        \"size\": 1.0\n",
    "    },\n",
    "    name=\"ECAL\"\n",
    ")\n",
    "\n",
    "points_hcal = go.Scatter3d(\n",
    "    x=df_hcal[\"x\"].values,\n",
    "    y=df_hcal[\"z\"].values,\n",
    "    z=df_hcal[\"y\"].values,\n",
    "    mode=\"markers\",\n",
    "    marker={\n",
    "        \"symbol\": \"square\",\n",
    "        \"opacity\": 0.5,\n",
    "        \"color\": \"red\",\n",
    "        \"size\": 1.0\n",
    "    },\n",
    "    name=\"HCAL\"\n",
    ")\n",
    "\n",
    "points_clusters = go.Scatter3d(\n",
    "    x=df_cl[\"x\"].values,\n",
    "    y=df_cl[\"z\"].values,\n",
    "    z=df_cl[\"y\"].values,\n",
    "    mode=\"markers\",\n",
    "    marker={\n",
    "        \"symbol\": \"square\",\n",
    "        \"opacity\": 0.8,\n",
    "        \"color\": \"gray\",\n",
    "        \"size\": 5.0\n",
    "    },\n",
    "    name=\"clusters\"\n",
    ")\n",
    "\n",
    "points_hit = go.Scatter3d(\n",
    "    x=df_hit[\"x\"].values,\n",
    "    y=df_hit[\"z\"].values,\n",
    "    z=df_hit[\"y\"].values,\n",
    "    mode=\"markers\",\n",
    "    marker={\n",
    "        \"symbol\": \"square\",\n",
    "        \"opacity\": 0.8,\n",
    "        \"color\": \"green\",\n",
    "        \"size\": 1.0\n",
    "    },\n",
    "    name=\"hits\"\n",
    ")\n",
    "\n",
    "fig = go.Figure(data=[\n",
    "    points_gen, points_trk,\n",
    "    points_ecal, points_hcal,\n",
    "    points_clusters, points_hit\n",
    "])\n",
    "\n",
    "fig.update_layout(\n",
    "    autosize=False,\n",
    "    width=700,\n",
    "    height=500,\n",
    "    margin=go.layout.Margin(\n",
    "        l=50,\n",
    "        r=0,\n",
    "        b=0,\n",
    "        t=50,\n",
    "    ),\n",
    "    scene_camera={\n",
    "        \"eye\": dict(x=0.8, y=0.8, z=0.8)\n",
    "    }\n",
    ")\n",
    "\n",
    "fig.show()"
   ]
  },
  {
   "cell_type": "code",
   "execution_count": null,
   "id": "composed-toyota",
   "metadata": {},
   "outputs": [],
   "source": []
  }
 ],
 "metadata": {
  "kernelspec": {
   "display_name": "Python 3 (ipykernel)",
   "language": "python",
   "name": "python3"
  },
  "language_info": {
   "codemirror_mode": {
    "name": "ipython",
    "version": 3
   },
   "file_extension": ".py",
   "mimetype": "text/x-python",
   "name": "python",
   "nbconvert_exporter": "python",
   "pygments_lexer": "ipython3",
   "version": "3.8.10"
  }
 },
 "nbformat": 4,
 "nbformat_minor": 5
}
