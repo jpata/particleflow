{
 "cells": [
  {
   "cell_type": "code",
   "execution_count": null,
   "id": "foster-monte",
   "metadata": {},
   "outputs": [],
   "source": [
    "%matplotlib inline\n",
    "import numpy as np\n",
    "import matplotlib.pyplot as plt\n",
    "import glob\n",
    "import tqdm\n",
    "import awkward\n",
    "\n",
    "import sys\n",
    "\n",
    "sys.path.append(\"../mlpf\")\n",
    "\n",
    "from data_clic import postprocessing"
   ]
  },
  {
   "cell_type": "code",
   "execution_count": null,
   "id": "ad0a7854",
   "metadata": {
    "tags": [
     "parameters"
    ]
   },
   "outputs": [],
   "source": [
    "path = \"../data/clic/gev380ee_pythia6_higgs_bbar_full201/\""
   ]
  },
  {
   "cell_type": "code",
   "execution_count": null,
   "id": "935316c1",
   "metadata": {
    "scrolled": false
   },
   "outputs": [],
   "source": [
    "# Load the datasets, process to flattened (X,ygen,ycand) format\n",
    "ret = []\n",
    "filelist = list(glob.glob(\"{}/*.parquet\".format(path)))\n",
    "print(len(filelist))\n",
    "for fi in tqdm.tqdm(filelist):\n",
    "    ret += postprocessing.prepare_data_clic(fi)"
   ]
  },
  {
   "cell_type": "code",
   "execution_count": null,
   "id": "47c33634",
   "metadata": {},
   "outputs": [],
   "source": [
    "X = awkward.from_iter([r[0] for r in ret])\n",
    "ygen = awkward.from_iter([r[1] for r in ret])\n",
    "ycand = awkward.from_iter([r[2] for r in ret])"
   ]
  },
  {
   "cell_type": "markdown",
   "id": "1a5ecc39",
   "metadata": {},
   "source": [
    "## Number of PFelements per event"
   ]
  },
  {
   "cell_type": "code",
   "execution_count": null,
   "id": "415989d8",
   "metadata": {},
   "outputs": [],
   "source": [
    "plt.figure(figsize=(5, 5))\n",
    "num_elems = [len(x) for x in X]\n",
    "b = np.linspace(0, 500, 101)\n",
    "plt.hist(num_elems, bins=b)\n",
    "plt.xlabel(\"Number of PFElements / event\")\n",
    "plt.ylabel(\"Number of events\")"
   ]
  },
  {
   "cell_type": "markdown",
   "id": "b30f8235",
   "metadata": {},
   "source": [
    "## Energy per event"
   ]
  },
  {
   "cell_type": "code",
   "execution_count": null,
   "id": "70aa6eea",
   "metadata": {},
   "outputs": [],
   "source": [
    "plt.figure(figsize=(5, 5))\n",
    "E_gen_per_event = awkward.sum(ygen[:, :, 5], axis=1)\n",
    "E_cand_per_event = awkward.sum(ycand[:, :, 5], axis=1)\n",
    "\n",
    "b = np.linspace(0, 500, 61)\n",
    "plt.hist(E_gen_per_event, bins=b, histtype=\"step\", lw=2, label=\"Gen\")\n",
    "plt.hist(E_cand_per_event, bins=b, histtype=\"step\", lw=2, label=\"PF\")\n",
    "plt.xlabel(\"Sum E per event [GeV]\")\n",
    "plt.ylabel(\"Number of events\")\n",
    "plt.legend()"
   ]
  },
  {
   "cell_type": "code",
   "execution_count": null,
   "id": "c1deaf69",
   "metadata": {},
   "outputs": [],
   "source": [
    "plt.figure(figsize=(5, 5))\n",
    "plt.hist2d(awkward.to_numpy(E_gen_per_event), awkward.to_numpy(E_cand_per_event), bins=(b, b), cmap=\"hot_r\")\n",
    "plt.plot([0, 500], [0, 500], lw=0.5, ls=\"--\")\n",
    "plt.xlabel(\"Gen sum E [GeV]\")\n",
    "plt.ylabel(\"PF sum E [GeV]\")"
   ]
  },
  {
   "cell_type": "markdown",
   "id": "e0049fff",
   "metadata": {},
   "source": [
    "## Gen vs. PF energy of individual particles"
   ]
  },
  {
   "cell_type": "code",
   "execution_count": null,
   "id": "dfc85cd3",
   "metadata": {},
   "outputs": [],
   "source": [
    "gen_e = awkward.flatten(ygen[(X[:, :, 0] == 1) & (ygen[:, :, 0] != 0) & (ycand[:, :, 0] != 0)])[:, 5]\n",
    "cand_e = awkward.flatten(ycand[(X[:, :, 0] == 1) & (ygen[:, :, 0] != 0) & (ycand[:, :, 0] != 0)])[:, 5]\n",
    "\n",
    "plt.figure(figsize=(5, 5))\n",
    "b = np.logspace(-2, 3, 101)\n",
    "plt.hist2d(awkward.to_numpy(gen_e), awkward.to_numpy(cand_e), bins=(b, b), cmap=\"hot_r\")\n",
    "plt.plot([10**-2, 10**3], [10**-2, 10**3], lw=0.5, ls=\"--\")\n",
    "plt.xscale(\"log\")\n",
    "plt.yscale(\"log\")\n",
    "\n",
    "plt.title(\"Track-associated particles\")\n",
    "plt.xlabel(\"Gen particle E [GeV]\")\n",
    "plt.ylabel(\"PF particle E [GeV]\")"
   ]
  },
  {
   "cell_type": "code",
   "execution_count": null,
   "id": "c39e091c",
   "metadata": {},
   "outputs": [],
   "source": [
    "gen_e = awkward.flatten(ygen[(X[:, :, 0] == 2) & (ygen[:, :, 0] != 0) & (ycand[:, :, 0] != 0)])[:, 5]\n",
    "cand_e = awkward.flatten(ycand[(X[:, :, 0] == 2) & (ygen[:, :, 0] != 0) & (ycand[:, :, 0] != 0)])[:, 5]\n",
    "\n",
    "plt.figure(figsize=(5, 5))\n",
    "b = np.logspace(-2, 3, 101)\n",
    "plt.hist2d(awkward.to_numpy(gen_e), awkward.to_numpy(cand_e), bins=(b, b), cmap=\"hot_r\")\n",
    "plt.plot([10**-2, 10**3], [10**-2, 10**3], lw=0.5, ls=\"--\")\n",
    "plt.xscale(\"log\")\n",
    "\n",
    "plt.yscale(\"log\")\n",
    "\n",
    "plt.title(\"Cluster-associated particles\")\n",
    "plt.xlabel(\"Gen particle E\")\n",
    "plt.ylabel(\"PF particle E\")"
   ]
  }
 ],
 "metadata": {
  "celltoolbar": "Tags",
  "kernelspec": {
   "display_name": "Python 3",
   "language": "python",
   "name": "python3"
  },
  "language_info": {
   "codemirror_mode": {
    "name": "ipython",
    "version": 3
   },
   "file_extension": ".py",
   "mimetype": "text/x-python",
   "name": "python",
   "nbconvert_exporter": "python",
   "pygments_lexer": "ipython3",
   "version": "3.8.10"
  }
 },
 "nbformat": 4,
 "nbformat_minor": 5
}
