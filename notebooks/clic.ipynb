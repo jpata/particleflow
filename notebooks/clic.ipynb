{
 "cells": [
  {
   "cell_type": "code",
   "execution_count": null,
   "id": "foster-monte",
   "metadata": {},
   "outputs": [],
   "source": [
    "%matplotlib inline\n",
    "import numpy as np\n",
    "import matplotlib.pyplot as plt\n",
    "import glob\n",
    "import tqdm\n",
    "import awkward as ak\n",
    "import boost_histogram as bh\n",
    "import sys\n",
    "\n",
    "import mplhep\n",
    "mplhep.style.use(mplhep.style.CMS)"
   ]
  },
  {
   "cell_type": "code",
   "execution_count": null,
   "id": "ad0a7854",
   "metadata": {
    "tags": [
     "parameters"
    ]
   },
   "outputs": [],
   "source": [
    "path = \"../data/clic_edm4hep/p8_ee_qcd_ecm365/\""
   ]
  },
  {
   "cell_type": "code",
   "execution_count": null,
   "id": "3a31404b",
   "metadata": {},
   "outputs": [],
   "source": [
    "def sum_overflow_into_last_bin(all_values):\n",
    "    values = all_values[1:-1]\n",
    "    values[-1] = values[-1] + all_values[-1]\n",
    "    values[0] = values[0] + all_values[0]\n",
    "    return values\n",
    "\n",
    "\n",
    "def to_bh(data, bins, cumulative=False):\n",
    "    h1 = bh.Histogram(bh.axis.Variable(bins))\n",
    "    h1.fill(data)\n",
    "    if cumulative:\n",
    "        h1[:] = np.sum(h1.values()) - np.cumsum(h1)\n",
    "    h1[:] = sum_overflow_into_last_bin(h1.values(flow=True)[:])\n",
    "    return h1\n"
   ]
  },
  {
   "cell_type": "code",
   "execution_count": null,
   "id": "935316c1",
   "metadata": {
    "scrolled": false
   },
   "outputs": [],
   "source": [
    "# Load the datasets, process to flattened (X,ygen,ycand) format\n",
    "ret = []\n",
    "filelist = list(glob.glob(\"{}/*.parquet\".format(path)))[:50]\n",
    "print(len(filelist))\n",
    "\n",
    "X_track = []\n",
    "X_cluster = []\n",
    "\n",
    "ygen_track = []\n",
    "ygen_cluster = []\n",
    "\n",
    "ycand_track = []\n",
    "ycand_cluster = []\n",
    "\n",
    "for fn in tqdm.tqdm(filelist):\n",
    "    dd = ak.from_parquet(fn)\n",
    "    \n",
    "    X_track.append(dd[\"X_track\"])\n",
    "    X_cluster.append(dd[\"X_cluster\"])\n",
    "    \n",
    "    ygen_track.append(dd[\"ygen_track\"])\n",
    "    ygen_cluster.append(dd[\"ygen_cluster\"])\n",
    "    \n",
    "    ycand_track.append(dd[\"ycand_track\"])\n",
    "    ycand_cluster.append(dd[\"ycand_cluster\"])\n",
    "\n",
    "X_track = ak.concatenate(X_track)\n",
    "X_cluster = ak.concatenate(X_cluster)\n",
    "ygen_track = ak.concatenate(ygen_track)\n",
    "ygen_cluster = ak.concatenate(ygen_cluster)\n",
    "ycand_track = ak.concatenate(ycand_track)\n",
    "ycand_cluster = ak.concatenate(ycand_cluster)\n",
    "\n",
    "\n",
    "msk = (ak.num(X_track)>5) & (ak.num(X_cluster)>5) & (ak.sum(ygen_track[:, :, 0]!=0, axis=1)>2) & (ak.sum(ygen_cluster[:, :, 0]!=0, axis=1)>2)\n",
    "X = ak.concatenate([X_track, X_cluster], axis=1)[msk]\n",
    "ygen = ak.concatenate([ygen_track, ygen_cluster], axis=1)[msk]\n",
    "ycand = ak.concatenate([ycand_track, ycand_cluster], axis=1)[msk]"
   ]
  },
  {
   "cell_type": "markdown",
   "id": "1a5ecc39",
   "metadata": {},
   "source": [
    "## Number of PFelements per event"
   ]
  },
  {
   "cell_type": "code",
   "execution_count": null,
   "id": "415989d8",
   "metadata": {},
   "outputs": [],
   "source": [
    "b = np.linspace(0, 200, 101)\n",
    "\n",
    "h1 = to_bh(ak.num(X_track), b)\n",
    "h2 = to_bh(ak.num(X_cluster), b)\n",
    "\n",
    "mplhep.histplot(h1, histtype=\"step\", lw=2, label=\"tracks\", color=\"black\")\n",
    "mplhep.histplot(h2, histtype=\"step\", lw=2, label=\"clusters\", color=\"red\")\n",
    "plt.xlabel(\"Number of PFElements / event\")\n",
    "plt.ylabel(\"Number of events\")\n",
    "plt.legend()"
   ]
  },
  {
   "cell_type": "code",
   "execution_count": null,
   "id": "4ea58410",
   "metadata": {},
   "outputs": [],
   "source": [
    "gen_pt = ak.flatten(ygen[ygen[:, :, 0]!=0][:, :, 2])\n",
    "cand_pt = ak.flatten(ycand[ycand[:, :, 0]!=0][:, :, 2])\n",
    "\n",
    "b = np.logspace(-2,3,100)\n",
    "h1 = to_bh(gen_pt, b)\n",
    "h2 = to_bh(cand_pt, b)\n",
    "\n",
    "mplhep.histplot(h1, histtype=\"step\", lw=2, label=\"Gen\")\n",
    "mplhep.histplot(h2, histtype=\"step\", lw=2, label=\"PF\")\n",
    "plt.xscale(\"log\")\n",
    "plt.xlabel(\"particle $p_T$ [GeV]\")\n",
    "plt.ylabel(\"Number of particles / bin\")\n",
    "plt.legend()"
   ]
  },
  {
   "cell_type": "markdown",
   "id": "b30f8235",
   "metadata": {},
   "source": [
    "## Energy per event"
   ]
  },
  {
   "cell_type": "code",
   "execution_count": null,
   "id": "70aa6eea",
   "metadata": {},
   "outputs": [],
   "source": [
    "E_gen_per_event = ak.to_numpy(ak.sum(ygen[:, :, 5], axis=1))\n",
    "E_cand_per_event = ak.to_numpy(ak.sum(ycand[:, :, 5], axis=1))\n",
    "\n",
    "b = np.linspace(0, 500, 61)\n",
    "h1 = to_bh(E_gen_per_event, b)\n",
    "h2 = to_bh(E_cand_per_event, b)\n",
    "\n",
    "mplhep.histplot(h1, histtype=\"step\", lw=2, label=\"Gen\")\n",
    "mplhep.histplot(h2, histtype=\"step\", lw=2, label=\"PF\")\n",
    "plt.xlabel(\"Total E per event [GeV]\")\n",
    "plt.ylabel(\"Number of events\")\n",
    "plt.legend()"
   ]
  },
  {
   "cell_type": "code",
   "execution_count": null,
   "id": "c1deaf69",
   "metadata": {},
   "outputs": [],
   "source": [
    "plt.figure(figsize=(12,10))\n",
    "plt.hist2d(E_gen_per_event, E_cand_per_event, bins=(b, b), cmap=\"hot_r\")\n",
    "plt.plot([0, 500], [0, 500], lw=0.5, ls=\"--\", color=\"black\")\n",
    "plt.xlabel(\"Gen sum E [GeV]\")\n",
    "plt.ylabel(\"PF sum E [GeV]\")\n",
    "plt.colorbar(label=\"events / bin\")"
   ]
  },
  {
   "cell_type": "markdown",
   "id": "e0049fff",
   "metadata": {},
   "source": [
    "## Gen vs. PF energy of individual particles"
   ]
  },
  {
   "cell_type": "code",
   "execution_count": null,
   "id": "dfc85cd3",
   "metadata": {},
   "outputs": [],
   "source": [
    "msk = (ygen[:, :, 0] != 0) & (ycand[:, :, 0] != 0)\n",
    "gen_e = ak.to_numpy(ak.flatten(ygen[msk][:, :, 5]))\n",
    "cand_e = ak.to_numpy(ak.flatten(ycand[msk][:, :, 5]))\n",
    "\n",
    "b = np.logspace(-2, 3, 101)\n",
    "\n",
    "plt.figure(figsize=(12,10))\n",
    "\n",
    "plt.hist2d(gen_e, cand_e, bins=(b, b), cmap=\"hot_r\")\n",
    "plt.plot([10**-2, 10**3], [10**-2, 10**3], lw=0.5, ls=\"--\", color=\"black\")\n",
    "plt.xscale(\"log\")\n",
    "plt.yscale(\"log\")\n",
    "\n",
    "plt.xlabel(\"Gen particle E [GeV]\")\n",
    "plt.ylabel(\"PF particle E [GeV]\")\n",
    "plt.colorbar(label=\"particles / bin\")"
   ]
  }
 ],
 "metadata": {
  "celltoolbar": "Tags",
  "kernelspec": {
   "display_name": "Python 3",
   "language": "python",
   "name": "python3"
  },
  "language_info": {
   "codemirror_mode": {
    "name": "ipython",
    "version": 3
   },
   "file_extension": ".py",
   "mimetype": "text/x-python",
   "name": "python",
   "nbconvert_exporter": "python",
   "pygments_lexer": "ipython3",
   "version": "3.8.10"
  }
 },
 "nbformat": 4,
 "nbformat_minor": 5
}
