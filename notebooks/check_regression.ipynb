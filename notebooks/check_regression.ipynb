{
 "cells": [
  {
   "cell_type": "code",
   "execution_count": null,
   "metadata": {},
   "outputs": [],
   "source": [
    "import json\n",
    "import matplotlib.pyplot as plt\n",
    "import sys\n",
    "\n",
    "import numpy as np\n",
    "import sklearn\n",
    "import keras\n",
    "import pickle\n",
    "\n",
    "import os\n",
    "os.chdir(\"..\")\n",
    "\n",
    "sys.path += [\"test\"]\n",
    "from train_regression import get_unique_X_y\n",
    "from predict_pf import set_pred_to_zero"
   ]
  },
  {
   "cell_type": "code",
   "execution_count": null,
   "metadata": {},
   "outputs": [],
   "source": [
    "from matplotlib.colors import LogNorm"
   ]
  },
  {
   "cell_type": "code",
   "execution_count": null,
   "metadata": {},
   "outputs": [],
   "source": [
    "training_info = json.load(open(\"regression.json\"))"
   ]
  },
  {
   "cell_type": "code",
   "execution_count": null,
   "metadata": {},
   "outputs": [],
   "source": [
    "plt.plot(training_info[\"loss\"])\n",
    "plt.plot(training_info[\"val_loss\"])\n",
    "plt.xlabel(\"epochs\")\n",
    "plt.ylim(0,0.1)"
   ]
  },
  {
   "cell_type": "code",
   "execution_count": null,
   "metadata": {
    "scrolled": false
   },
   "outputs": [],
   "source": [
    "all_Xs = []\n",
    "all_ys = []\n",
    "for i in range(500):\n",
    "    for j in range(6,7):\n",
    "        fn = \"data/TTbar/191009_155100/step3_AOD_{1}_ev{0}.npz\".format(i, j)\n",
    "        print(\"Loading {0}\".format(fn))\n",
    "        fi = open(fn, \"rb\")\n",
    "        data = np.load(fi)\n",
    "\n",
    "        Xs, ys = get_unique_X_y(data[\"elements\"], data[\"element_block_id\"], data[\"candidates\"], data[\"candidate_block_id\"])\n",
    "\n",
    "        all_Xs += [Xs]\n",
    "        all_ys += [ys]\n",
    "all_Xs = np.vstack(all_Xs)\n",
    "all_ys = np.vstack(all_ys)"
   ]
  },
  {
   "cell_type": "code",
   "execution_count": null,
   "metadata": {},
   "outputs": [],
   "source": [
    "X_types = all_Xs[:, :, 0]\n",
    "X_kin = all_Xs[:, :, 1:]\n",
    "X_kin = X_kin.reshape((X_kin.shape[0], X_kin.shape[1]*X_kin.shape[2]))"
   ]
  },
  {
   "cell_type": "code",
   "execution_count": null,
   "metadata": {},
   "outputs": [],
   "source": [
    "with open(\"preprocessing.pkl\", \"rb\") as fi:\n",
    "    preproc = pickle.load(fi)"
   ]
  },
  {
   "cell_type": "code",
   "execution_count": null,
   "metadata": {},
   "outputs": [],
   "source": [
    "enc_X = preproc[\"enc_X\"]\n",
    "scaler_X = preproc[\"scaler_X\"]\n",
    "enc_y = preproc[\"enc_y\"]\n",
    "scaler_y = preproc[\"scaler_y\"]\n",
    "num_onehot_y = 27"
   ]
  },
  {
   "cell_type": "code",
   "execution_count": null,
   "metadata": {},
   "outputs": [],
   "source": [
    "trf = enc_X.transform(X_types)\n",
    "X = np.hstack([trf, scaler_X.transform(X_kin)])"
   ]
  },
  {
   "cell_type": "code",
   "execution_count": null,
   "metadata": {},
   "outputs": [],
   "source": [
    "model2 = keras.models.load_model(\"regression.h5\")"
   ]
  },
  {
   "cell_type": "code",
   "execution_count": null,
   "metadata": {},
   "outputs": [],
   "source": [
    "pred2 = model2.predict(X, batch_size=100000)"
   ]
  },
  {
   "cell_type": "code",
   "execution_count": null,
   "metadata": {},
   "outputs": [],
   "source": [
    "cand_types = enc_y.inverse_transform(pred2[:, :num_onehot_y])\n",
    "ncand = (cand_types!=0).sum(axis=1)\n",
    "ncand_true = (all_ys[:, :, 0]!=0).sum(axis=1)\n",
    "\n",
    "cand_momenta = scaler_y.inverse_transform(pred2[:, num_onehot_y:])\n",
    "set_pred_to_zero(cand_momenta, ncand)\n",
    "cand_momenta = cand_momenta.reshape((cand_momenta.shape[0], 3, 3))"
   ]
  },
  {
   "cell_type": "code",
   "execution_count": null,
   "metadata": {},
   "outputs": [],
   "source": [
    "def text_in_box(mat):\n",
    "    for i in range(len(mat)):\n",
    "        for j in range(len(mat)):\n",
    "            plt.text(i, j, \"{0:.3f}\".format(mat[i,j]), ha=\"center\", va=\"center\")"
   ]
  },
  {
   "cell_type": "code",
   "execution_count": null,
   "metadata": {},
   "outputs": [],
   "source": [
    "labels = [0,1,2,3]\n",
    "confusion_matrix_ncand = sklearn.metrics.confusion_matrix(ncand_true, ncand, labels=labels)\n",
    "confusion_matrix_ncand = confusion_matrix_ncand / np.sum(confusion_matrix_ncand)\n",
    "plt.imshow(confusion_matrix_ncand*100, norm=LogNorm(vmin=1e-9, vmax=100))\n",
    "plt.xticks(range(len(labels)), labels=[int(x) for x in labels])\n",
    "plt.yticks(range(len(labels)), labels=[int(x) for x in labels])\n",
    "plt.xlim(-1,4)\n",
    "plt.ylim(-1,4)\n",
    "plt.colorbar()\n",
    "plt.xlabel(\"True ncand\")\n",
    "plt.ylabel(\"Predicted ncand\")\n",
    "text_in_box(confusion_matrix_ncand*100)"
   ]
  },
  {
   "cell_type": "code",
   "execution_count": null,
   "metadata": {},
   "outputs": [],
   "source": [
    "confusion_matrix_ncand[2]"
   ]
  },
  {
   "cell_type": "code",
   "execution_count": null,
   "metadata": {},
   "outputs": [],
   "source": [
    "labels = np.unique(all_ys[:, :, 0])\n",
    "confusion_matrix = sklearn.metrics.confusion_matrix(all_ys[:, :, 0].flatten(), cand_types.flatten(), labels=labels)\n",
    "confusion_matrix = confusion_matrix / np.sum(confusion_matrix)"
   ]
  },
  {
   "cell_type": "code",
   "execution_count": null,
   "metadata": {},
   "outputs": [],
   "source": [
    "plt.figure(figsize=(10,10))\n",
    "plt.imshow(confusion_matrix*100, norm=LogNorm(vmin=1e-9, vmax=100))\n",
    "plt.xlim(-1,9)\n",
    "plt.ylim(-1,9)\n",
    "plt.colorbar()\n",
    "plt.xlabel(\"True pdgid\")\n",
    "plt.ylabel(\"Predicted pdgid\")\n",
    "text_in_box(confusion_matrix*100)\n",
    "plt.xticks(range(len(labels)), labels=[int(x) for x in labels])\n",
    "plt.yticks(range(len(labels)), labels=[int(x) for x in labels])"
   ]
  },
  {
   "cell_type": "code",
   "execution_count": null,
   "metadata": {},
   "outputs": [],
   "source": [
    "#all cases where there was a true particle and it was also reconstructed\n",
    "msk = (all_ys[:, :, 0].flatten()!=0) & (cand_types.flatten() != 0)"
   ]
  },
  {
   "cell_type": "code",
   "execution_count": null,
   "metadata": {},
   "outputs": [],
   "source": [
    "plt.figure(figsize=(5,5))\n",
    "plt.scatter(all_ys[:, :, 1].flatten()[msk], cand_momenta[:, :, 0].flatten()[msk], alpha=0.2, marker=\".\")\n",
    "plt.xlim(0,10)\n",
    "plt.ylim(0,10)\n",
    "plt.xlabel(\"True $p_T$\")\n",
    "plt.ylabel(\"Reconstructed $p_T$\")\n",
    "plt.title(\"Baseline PF block algo regression\")"
   ]
  },
  {
   "cell_type": "code",
   "execution_count": null,
   "metadata": {},
   "outputs": [],
   "source": [
    "b = np.linspace(0, 20, 40)\n",
    "plt.hist(all_ys[:, :, 1].flatten()[msk], bins=b, histtype=\"step\", lw=2, label=\"true\");\n",
    "plt.hist(cand_momenta[:, :, 0].flatten()[msk], bins=b, histtype=\"step\", lw=2, label=\"predicted\");\n",
    "plt.yscale(\"log\")\n",
    "plt.legend()\n",
    "plt.xlabel(\"Candidate $p_T$ [GeV]\")\n",
    "plt.title(\"Baseline PF block algo regression\")"
   ]
  },
  {
   "cell_type": "code",
   "execution_count": null,
   "metadata": {},
   "outputs": [],
   "source": [
    "plt.figure(figsize=(5,5))\n",
    "plt.scatter(all_ys[:, :, 2].flatten()[msk], cand_momenta[:, :, 1].flatten()[msk], alpha=0.2, marker=\".\")\n",
    "plt.xlim(-6,6)\n",
    "plt.ylim(-6,6)"
   ]
  },
  {
   "cell_type": "code",
   "execution_count": null,
   "metadata": {},
   "outputs": [],
   "source": [
    "b = np.linspace(-6, 6, 40)\n",
    "plt.hist(all_ys[:, :, 2].flatten()[msk], bins=b, histtype=\"step\", lw=2, label=\"true\");\n",
    "plt.hist(cand_momenta[:, :, 1].flatten()[msk], bins=b, histtype=\"step\", lw=2, label=\"predicted\");\n",
    "plt.legend()\n",
    "plt.xlabel(\"Candidate $p_T$ [GeV]\")"
   ]
  },
  {
   "cell_type": "code",
   "execution_count": null,
   "metadata": {},
   "outputs": [],
   "source": [
    "plt.figure(figsize=(5,5))\n",
    "plt.scatter(all_ys[:, :, 3].flatten()[msk], cand_momenta[:, :, 2].flatten()[msk], alpha=0.2, marker=\".\")\n",
    "plt.xlim(-4,4)\n",
    "plt.ylim(-4,4)"
   ]
  },
  {
   "cell_type": "code",
   "execution_count": null,
   "metadata": {},
   "outputs": [],
   "source": [
    "b = np.linspace(-4, 4, 40)\n",
    "plt.hist(all_ys[:, :, 3].flatten()[msk], bins=b, histtype=\"step\", lw=2);\n",
    "plt.hist(cand_momenta[:, :, 2].flatten()[msk], bins=b, histtype=\"step\", lw=2);"
   ]
  }
 ],
 "metadata": {
  "kernelspec": {
   "display_name": "Python 3",
   "language": "python",
   "name": "python3"
  },
  "language_info": {
   "codemirror_mode": {
    "name": "ipython",
    "version": 3
   },
   "file_extension": ".py",
   "mimetype": "text/x-python",
   "name": "python",
   "nbconvert_exporter": "python",
   "pygments_lexer": "ipython3",
   "version": "3.7.4"
  }
 },
 "nbformat": 4,
 "nbformat_minor": 2
}
