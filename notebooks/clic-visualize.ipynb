{
 "cells": [
  {
   "cell_type": "code",
   "execution_count": null,
   "id": "10d72c28",
   "metadata": {},
   "outputs": [],
   "source": [
    "%matplotlib inline"
   ]
  },
  {
   "cell_type": "code",
   "execution_count": null,
   "id": "088f63e0",
   "metadata": {},
   "outputs": [],
   "source": [
    "import uproot\n",
    "import numpy as np\n",
    "import awkward\n",
    "\n",
    "import plotly.express as px\n",
    "import pandas\n",
    "\n",
    "import matplotlib.pyplot as plt"
   ]
  },
  {
   "cell_type": "code",
   "execution_count": null,
   "id": "b5c9bf64",
   "metadata": {},
   "outputs": [],
   "source": [
    "def hits_to_features(hit_data, iev, coll, feats):\n",
    "    feat_arr = {f: hit_data[coll + \".\" + f][iev] for f in feats}\n",
    "\n",
    "    sdcoll = \"subdetector\"\n",
    "    feat_arr[sdcoll] = np.zeros(len(feat_arr[\"type\"]), dtype=np.int32)\n",
    "    if coll.startswith(\"ECAL\"):\n",
    "        feat_arr[sdcoll][:] = 0\n",
    "    elif coll.startswith(\"HCAL\"):\n",
    "        feat_arr[sdcoll][:] = 1\n",
    "    else:\n",
    "        feat_arr[sdcoll][:] = 2\n",
    "    return awkward.Record(feat_arr)"
   ]
  },
  {
   "cell_type": "code",
   "execution_count": null,
   "id": "6e577c86",
   "metadata": {},
   "outputs": [],
   "source": [
    "fi = uproot.open(\"/media/joosep/data/clic_edm4hep_2023_02_27/p8_ee_tt_ecm380/reco_p8_ee_tt_ecm380_1.root\")\n",
    "ev = fi[\"events\"]\n",
    "\n",
    "iev = 0"
   ]
  },
  {
   "cell_type": "code",
   "execution_count": null,
   "id": "56b59774",
   "metadata": {},
   "outputs": [],
   "source": [
    "ev[\"SiTracks_1\"].arrays()"
   ]
  },
  {
   "cell_type": "code",
   "execution_count": null,
   "id": "02921670",
   "metadata": {},
   "outputs": [],
   "source": [
    "ev[\"ECALBarrel\"][\"ECALBarrel.cellID\"].array()[0]"
   ]
  },
  {
   "cell_type": "code",
   "execution_count": null,
   "id": "9f8364d2",
   "metadata": {},
   "outputs": [],
   "source": [
    "collectionIDs = {k: v for k, v in\n",
    "    zip(fi.get(\"metadata\").arrays(\"CollectionIDs\")[\"CollectionIDs\"][\"m_names\"][0],\n",
    "    fi.get(\"metadata\").arrays(\"CollectionIDs\")[\"CollectionIDs\"][\"m_collectionIDs\"][0])}\n",
    "collectionIDs_reverse = {v: k for k, v in collectionIDs.items()}\n",
    "\n",
    "hit_data = {\n",
    "    \"ECALBarrel\": ev[\"ECALBarrel\"].array(),\n",
    "    \"ECALEndcap\": ev[\"ECALEndcap\"].array(),\n",
    "    \"ECALOther\": ev[\"ECALOther\"].array(),\n",
    "    \"HCALBarrel\": ev[\"HCALBarrel\"].array(),\n",
    "    \"HCALEndcap\": ev[\"HCALEndcap\"].array(),\n",
    "    \"HCALOther\": ev[\"HCALOther\"].array(),\n",
    "    \"MUON\": ev[\"MUON\"].array(),\n",
    "}\n",
    "    \n",
    "feats = [\"type\", \"cellID\", \"energy\", \"energyError\", \"time\", \"position.x\", \"position.y\", \"position.z\"]\n",
    "\n",
    "hit_idx_global = 0\n",
    "hit_idx_global_to_local = {}\n",
    "hit_feature_matrix = []\n",
    "for col in sorted(hit_data.keys()):\n",
    "    icol = collectionIDs[col]\n",
    "    hit_features = hits_to_features(hit_data[col], iev, col, feats)\n",
    "    hit_feature_matrix.append(hit_features)\n",
    "    for ihit in range(len(hit_data[col][col+\".energy\"][iev])):\n",
    "        hit_idx_global_to_local[hit_idx_global] = (icol, ihit)\n",
    "        hit_idx_global += 1\n",
    "hit_idx_local_to_global = {v: k for k, v in hit_idx_global_to_local.items()}\n",
    "hit_feature_matrix = awkward.Record({\n",
    "    k: awkward.concatenate([hit_feature_matrix[i][k] for i in range(len(hit_feature_matrix))]) for k in hit_feature_matrix[0].fields})\n",
    "\n",
    "dd = ev.arrays(\n",
    "    [\"PandoraClusters/PandoraClusters.energy\",\n",
    "     \"PandoraClusters/PandoraClusters.position.x\",\n",
    "     \"PandoraClusters/PandoraClusters.position.y\",\n",
    "     \"PandoraClusters/PandoraClusters.position.z\",\n",
    "     \"PandoraClusters/PandoraClusters.hits_begin\",\n",
    "     \"PandoraClusters/PandoraClusters.hits_end\",\n",
    "     \"PandoraClusters#1/PandoraClusters#1.collectionID\",\n",
    "     \"PandoraClusters#1/PandoraClusters#1.index\",\n",
    "    ]\n",
    ")\n",
    "\n",
    "coll_arr = dd[\"PandoraClusters#1/PandoraClusters#1.collectionID\"][iev]\n",
    "idx_arr = dd[\"PandoraClusters#1/PandoraClusters#1.index\"][iev]\n",
    "hits_begin = dd[\"PandoraClusters/PandoraClusters.hits_begin\"][iev]\n",
    "hits_end = dd[\"PandoraClusters/PandoraClusters.hits_end\"][iev]\n",
    "\n",
    "#index in the array of all hits\n",
    "hit_to_cluster_matrix_coo0 = []\n",
    "#index in the cluster array\n",
    "hit_to_cluster_matrix_coo1 = []\n",
    "\n",
    "#weight\n",
    "hit_to_cluster_matrix_w = []\n",
    "\n",
    "#loop over all clusters\n",
    "for icluster in range(len(hits_begin)):\n",
    "\n",
    "    #get the slice in the hit array corresponding to this cluster\n",
    "    hbeg = hits_begin[icluster]\n",
    "    hend = hits_end[icluster]\n",
    "    idx_range = idx_arr[hbeg:hend]\n",
    "    coll_range = coll_arr[hbeg:hend]\n",
    "\n",
    "    #add edges from hit to cluster\n",
    "    for icol, idx in zip(coll_range, idx_range):\n",
    "        hit_to_cluster_matrix_coo0.append(hit_idx_local_to_global[(icol, idx)])\n",
    "        hit_to_cluster_matrix_coo1.append(icluster)\n",
    "        hit_to_cluster_matrix_w.append(1.0)\n",
    "hit_to_cluster_matrix_coo0 = np.array(hit_to_cluster_matrix_coo0)\n",
    "hit_to_cluster_matrix_coo1 = np.array(hit_to_cluster_matrix_coo1)"
   ]
  },
  {
   "cell_type": "code",
   "execution_count": null,
   "id": "91b6864a",
   "metadata": {},
   "outputs": [],
   "source": [
    "hit_cluster_idx = -1*np.ones(len(hit_feature_matrix[\"position.x\"]))"
   ]
  },
  {
   "cell_type": "code",
   "execution_count": null,
   "id": "24008966",
   "metadata": {},
   "outputs": [],
   "source": [
    "for cl in np.unique(hit_to_cluster_matrix_coo1):\n",
    "    hit_cluster_idx[hit_to_cluster_matrix_coo0[hit_to_cluster_matrix_coo1==cl]] = cl"
   ]
  },
  {
   "cell_type": "code",
   "execution_count": null,
   "id": "399439f1",
   "metadata": {},
   "outputs": [],
   "source": [
    "df = pandas.DataFrame()\n",
    "df[\"px\"] = hit_feature_matrix[\"position.x\"].to_numpy()\n",
    "df[\"py\"] = hit_feature_matrix[\"position.y\"].to_numpy()\n",
    "df[\"pz\"] = hit_feature_matrix[\"position.z\"].to_numpy()\n",
    "df[\"energy\"] = 10*hit_feature_matrix[\"energy\"].to_numpy()\n",
    "df[\"cluster\"] = hit_cluster_idx"
   ]
  },
  {
   "cell_type": "code",
   "execution_count": null,
   "id": "70d8ae19",
   "metadata": {},
   "outputs": [],
   "source": [
    "plt.figure(figsize=(5,5))\n",
    "plt.scatter(df[\"px\"], df[\"py\"], c=df[\"cluster\"], s=df[\"energy\"])\n",
    "plt.xlim(-3000,3000)\n",
    "plt.ylim(-3000,3000)"
   ]
  },
  {
   "cell_type": "code",
   "execution_count": null,
   "id": "97989b0d",
   "metadata": {},
   "outputs": [],
   "source": [
    "fig = px.scatter_3d(df, x='px', y='pz', z='py', color='cluster', size='energy', color_continuous_scale=px.colors.diverging.Spectral)\n",
    "fig.show()"
   ]
  }
 ],
 "metadata": {
  "kernelspec": {
   "display_name": "Python 3 (ipykernel)",
   "language": "python",
   "name": "python3"
  },
  "language_info": {
   "codemirror_mode": {
    "name": "ipython",
    "version": 3
   },
   "file_extension": ".py",
   "mimetype": "text/x-python",
   "name": "python",
   "nbconvert_exporter": "python",
   "pygments_lexer": "ipython3",
   "version": "3.10.8"
  }
 },
 "nbformat": 4,
 "nbformat_minor": 5
}
