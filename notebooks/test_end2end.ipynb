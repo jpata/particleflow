{
 "cells": [
  {
   "cell_type": "code",
   "execution_count": null,
   "metadata": {},
   "outputs": [],
   "source": [
    "import setGPU\n",
    "import torch\n",
    "import torch_geometric\n",
    "import sklearn\n",
    "import numpy as np\n",
    "import matplotlib.pyplot as plt\n",
    "%matplotlib inline"
   ]
  },
  {
   "cell_type": "code",
   "execution_count": null,
   "metadata": {},
   "outputs": [],
   "source": [
    "import sys\n",
    "sys.path += [\"../test\"]"
   ]
  },
  {
   "cell_type": "code",
   "execution_count": null,
   "metadata": {},
   "outputs": [],
   "source": [
    "import train_end2end\n",
    "import graph_data"
   ]
  },
  {
   "cell_type": "code",
   "execution_count": null,
   "metadata": {},
   "outputs": [],
   "source": [
    "device = torch.device(\"cuda\")"
   ]
  },
  {
   "cell_type": "code",
   "execution_count": null,
   "metadata": {},
   "outputs": [],
   "source": [
    "weights = torch.load(\"../data/PFNet6__npar_5552143__cfg_a8420e1ef2__user_jpata__ntrain_7000__lr_0.0001__1581357310/epoch_70/PFNet6__npar_5552143__cfg_a8420e1ef2__user_jpata__ntrain_7000__lr_0.0001__1581357310.best.pth\")"
   ]
  },
  {
   "cell_type": "code",
   "execution_count": null,
   "metadata": {},
   "outputs": [],
   "source": [
    "model = train_end2end.PFNet6(15, 512, 14)\n",
    "model.load_state_dict(weights)"
   ]
  },
  {
   "cell_type": "code",
   "execution_count": null,
   "metadata": {},
   "outputs": [],
   "source": [
    "model"
   ]
  },
  {
   "cell_type": "code",
   "execution_count": null,
   "metadata": {},
   "outputs": [],
   "source": [
    "p = \"../data/QCD_run3\"\n",
    "full_dataset = graph_data.PFGraphDataset(root=p)\n",
    "full_dataset.raw_dir = p\n",
    "full_dataset.processed_dir = p + \"/processed\""
   ]
  },
  {
   "cell_type": "code",
   "execution_count": null,
   "metadata": {},
   "outputs": [],
   "source": [
    "pred_ids = []\n",
    "true_ids = []\n",
    "pred_momenta = []\n",
    "true_momenta = []\n",
    "\n",
    "for i in range(1000):\n",
    "    d = full_dataset.get(i)\n",
    "    d.batch = torch.zeros((len(d.x)), dtype=torch.long)\n",
    "    train_end2end.data_prep(d, device=device)\n",
    "    edges, cand_id_onehot, cand_momentum = model(d)\n",
    "    _, pred_id = torch.max(cand_id_onehot, -1)\n",
    "    pred_ids += [pred_id.detach().cpu().numpy()]\n",
    "    true_ids += [d.y_candidates_id.detach().cpu().numpy()]\n",
    "    pred_momenta += [cand_momentum.detach().cpu().numpy()]\n",
    "    true_momenta += [d.y_candidates.detach().cpu().numpy()]\n",
    "    \n",
    "#     cm = sklearn.metrics.confusion_matrix(\n",
    "#         d.y_candidates_id.detach().cpu().numpy(),\n",
    "#         pred_id.detach().cpu().numpy()\n",
    "#     )\n",
    "    if i%10 == 0:\n",
    "        print(i, (pred_ids[-1]!=0).sum(), (true_ids[-1]!=0).sum())"
   ]
  },
  {
   "cell_type": "code",
   "execution_count": null,
   "metadata": {},
   "outputs": [],
   "source": [
    "n_preds = []\n",
    "n_trues = []\n",
    "for i in range(len(pred_ids)):\n",
    "    n_true = np.sum(true_ids[i]!=0)\n",
    "    n_pred = np.sum(pred_ids[i]!=0)\n",
    "    n_preds += [n_pred]\n",
    "    n_trues += [n_true]"
   ]
  },
  {
   "cell_type": "code",
   "execution_count": null,
   "metadata": {},
   "outputs": [],
   "source": [
    "plt.figure(figsize=(5, 5))\n",
    "ax = plt.axes()\n",
    "plt.plot([0,5000],[0,5000], color=\"black\", lw=0.5)\n",
    "plt.scatter(n_trues, n_preds, marker=\".\", alpha=0.5)\n",
    "plt.xlim(0,5000)\n",
    "plt.ylim(0,5000)\n",
    "plt.xlabel(\"Number of true PFCandidates\")\n",
    "plt.ylabel(\"Number of predicted MLPF-candidates\")\n",
    "plt.title(\"QCD_Run3\")\n",
    "plt.text(0.02, 0.98, \"CMS Simulation, preliminary\", transform=ax.transAxes, va=\"top\", ha=\"left\")\n",
    "plt.tight_layout()\n",
    "plt.savefig(\"num_pred.pdf\")"
   ]
  },
  {
   "cell_type": "code",
   "execution_count": null,
   "metadata": {},
   "outputs": [],
   "source": [
    "cms = []\n",
    "for i in range(len(pred_ids)):\n",
    "    cm = sklearn.metrics.confusion_matrix(\n",
    "        true_ids[i],\n",
    "        pred_ids[i], labels=range(len(train_end2end.class_labels))\n",
    "    )\n",
    "    cms += [cm]\n",
    "cm = sum(cms)\n",
    "cm = cm / 1000.0\n",
    "cm = np.round(cm, 1)#.astype(np.int)"
   ]
  },
  {
   "cell_type": "code",
   "execution_count": null,
   "metadata": {},
   "outputs": [],
   "source": [
    "train_end2end.plot_confusion_matrix(cm, [int(x) for x in train_end2end.class_labels], normalize=False)\n",
    "#plt.xlim(-0.5, 9.5)\n",
    "#plt.ylim(-0.5, 9.5)\n",
    "plt.title(\"Confusion matrix (QCD_Run3), scaled by 1e-3\")\n",
    "#plt.text(0.02, 0.98, \"CMS Simulation, preliminary\", transform=ax.transAxes, va=\"top\", ha=\"left\")\n",
    "#plt.tight_layout()\n",
    "plt.savefig(\"cm.pdf\")"
   ]
  },
  {
   "cell_type": "code",
   "execution_count": null,
   "metadata": {},
   "outputs": [],
   "source": [
    "pm = np.concatenate(pred_momenta)\n",
    "tm = np.concatenate(true_momenta)\n",
    "ti = np.concatenate(true_ids)\n",
    "pi = np.concatenate(pred_ids)"
   ]
  },
  {
   "cell_type": "code",
   "execution_count": null,
   "metadata": {},
   "outputs": [],
   "source": [
    "plt.figure(figsize=(5, 5))\n",
    "\n",
    "ax = plt.axes()\n",
    "bins = np.linspace(0, 50, 100)\n",
    "h0 = plt.hist(pm[pi!=0, 0], bins=bins, histtype=\"step\", lw=1, label=\"PF\");\n",
    "h1 = plt.hist(tm[ti!=0, 0], bins=bins, histtype=\"step\", lw=1, label=\"MLPF\");\n",
    "plt.yscale(\"log\")\n",
    "plt.legend(frameon=False)\n",
    "plt.ylim(10, 1e7)\n",
    "\n",
    "plt.xlabel(\"Candidate pT (a.u.)\")\n",
    "plt.ylabel(\"Number of candidates\")\n",
    "plt.title(\"QCD_Run3\")\n",
    "plt.text(0.02, 0.98, \"CMS Simulation, preliminary\", transform=ax.transAxes, va=\"top\", ha=\"left\")\n",
    "plt.tight_layout()\n",
    "plt.savefig(\"pt_hist.pdf\")"
   ]
  },
  {
   "cell_type": "code",
   "execution_count": null,
   "metadata": {},
   "outputs": [],
   "source": [
    "plt.figure(figsize=(5, 5))\n",
    "ax = plt.axes()\n",
    "\n",
    "bins = np.linspace(-4, 4, 100)\n",
    "plt.hist(pm[pi!=0, 1], bins=bins, histtype=\"step\", lw=1);\n",
    "plt.hist(tm[ti!=0, 1], bins=bins, histtype=\"step\", lw=1);\n",
    "plt.yscale(\"log\")\n",
    "\n",
    "plt.ylim(1000, 1e6)\n",
    "plt.xlabel(\"Candidate $\\eta$ (a.u.)\")\n",
    "plt.ylabel(\"Number of candidates\")\n",
    "plt.title(\"QCD_Run3\")\n",
    "plt.text(0.02, 0.98, \"CMS Simulation, preliminary\", transform=ax.transAxes, va=\"top\", ha=\"left\")\n",
    "plt.tight_layout()\n",
    "plt.savefig(\"eta_hist.pdf\")"
   ]
  },
  {
   "cell_type": "code",
   "execution_count": null,
   "metadata": {},
   "outputs": [],
   "source": [
    "plt.figure(figsize=(5, 5))\n",
    "\n",
    "ax = plt.axes()\n",
    "bins = np.linspace(-3, 3, 60)\n",
    "plt.hist(pm[pi!=0, 2], bins=bins, histtype=\"step\", lw=1);\n",
    "plt.hist(tm[ti!=0, 2], bins=bins, histtype=\"step\", lw=1);\n",
    "plt.yscale(\"log\")\n",
    "plt.ylim(1000, 1e6)\n",
    "\n",
    "plt.xlabel(\"Candidate $\\phi$ (a.u.)\")\n",
    "plt.ylabel(\"Number of candidates\")\n",
    "plt.title(\"QCD_Run3\")\n",
    "plt.text(0.02, 0.98, \"CMS Simulation, preliminary\", transform=ax.transAxes, va=\"top\", ha=\"left\")\n",
    "plt.tight_layout()\n",
    "plt.savefig(\"phi_hist.pdf\")"
   ]
  },
  {
   "cell_type": "code",
   "execution_count": null,
   "metadata": {},
   "outputs": [],
   "source": [
    "plt.figure(figsize=(5, 5))\n",
    "ax = plt.axes()\n",
    "\n",
    "subidx = np.where((pi!=0)&(ti!=0))[0]\n",
    "rp = np.random.permutation(range(len(subidx)))[:1000]\n",
    "\n",
    "plt.scatter(pm[subidx[rp], 0], tm[subidx[rp], 0], marker=\".\", alpha=0.5)\n",
    "plt.xlim(0,5)\n",
    "plt.ylim(0,5)\n",
    "plt.plot([0,10],[0,10], color=\"black\")\n",
    "\n",
    "plt.xlabel(\"True PFCandidate pT (a.u.)\")\n",
    "plt.ylabel(\"Predicted ML-PFCandidate pT (a.u.)\")\n",
    "plt.title(\"QCD_Run3, 1000 candidates\")\n",
    "plt.text(0.02, 0.98, \"CMS Simulation, preliminary\", transform=ax.transAxes, va=\"top\", ha=\"left\")\n",
    "plt.tight_layout()\n",
    "plt.savefig(\"pt_corr.pdf\")"
   ]
  },
  {
   "cell_type": "code",
   "execution_count": null,
   "metadata": {},
   "outputs": [],
   "source": [
    "plt.figure(figsize=(5, 5))\n",
    "ax = plt.axes()\n",
    "\n",
    "plt.plot([-7, 7], [-7, 7], color=\"black\", lw=0.5)\n",
    "plt.scatter(pm[subidx[rp], 1], tm[subidx[rp], 1], marker=\".\", alpha=0.5)\n",
    "plt.xlim(-7, 7)\n",
    "plt.ylim(-7, 7)\n",
    "\n",
    "plt.xlabel(\"True PFCandidate $\\eta$ (a.u.)\")\n",
    "plt.ylabel(\"Predicted ML-PFCandidate $\\eta$ (a.u.)\")\n",
    "plt.title(\"QCD_Run3, 1000 candidates\")\n",
    "plt.text(0.02, 0.98, \"CMS Simulation, preliminary\", transform=ax.transAxes, va=\"top\", ha=\"left\")\n",
    "plt.tight_layout()\n",
    "plt.savefig(\"eta_corr.pdf\")"
   ]
  },
  {
   "cell_type": "code",
   "execution_count": null,
   "metadata": {},
   "outputs": [],
   "source": [
    "plt.figure(figsize=(5, 5))\n",
    "ax = plt.axes()\n",
    "\n",
    "plt.plot([-5, 5], [-5, 5], color=\"black\", lw=0.5)\n",
    "plt.scatter(pm[subidx[rp], 2], tm[subidx[rp], 2], marker=\".\", alpha=0.5)\n",
    "plt.xlim(-3,3)\n",
    "plt.ylim(-3,3)\n",
    "\n",
    "\n",
    "plt.xlabel(\"True PFCandidate $\\phi$ (a.u.)\")\n",
    "plt.ylabel(\"Predicted ML-PFCandidate $\\phi$ (a.u.)\")\n",
    "plt.title(\"QCD_Run3, 1000 candidates\")\n",
    "plt.text(0.02, 0.98, \"CMS Simulation, preliminary\", transform=ax.transAxes, va=\"top\", ha=\"left\")\n",
    "plt.tight_layout()\n",
    "plt.savefig(\"phi_corr.pdf\")"
   ]
  },
  {
   "cell_type": "code",
   "execution_count": null,
   "metadata": {},
   "outputs": [],
   "source": []
  },
  {
   "cell_type": "code",
   "execution_count": null,
   "metadata": {},
   "outputs": [],
   "source": []
  }
 ],
 "metadata": {
  "kernelspec": {
   "display_name": "Python 3",
   "language": "python",
   "name": "python3"
  },
  "language_info": {
   "codemirror_mode": {
    "name": "ipython",
    "version": 3
   },
   "file_extension": ".py",
   "mimetype": "text/x-python",
   "name": "python",
   "nbconvert_exporter": "python",
   "pygments_lexer": "ipython3",
   "version": "3.6.9"
  }
 },
 "nbformat": 4,
 "nbformat_minor": 4
}
