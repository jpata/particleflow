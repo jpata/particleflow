{
 "cells": [
  {
   "cell_type": "code",
   "execution_count": null,
   "metadata": {},
   "outputs": [],
   "source": [
    "import torch\n",
    "import torch_geometric\n",
    "import sklearn\n",
    "import numpy as np\n",
    "import matplotlib\n",
    "import matplotlib.pyplot as plt\n",
    "from torch_geometric.data import Data, DataLoader\n",
    "import pandas\n",
    "import mplhep\n",
    "\n",
    "import sys\n",
    "sys.path += [\"../test\"]\n",
    "\n",
    "import train_end2end\n",
    "%matplotlib inline"
   ]
  },
  {
   "cell_type": "code",
   "execution_count": null,
   "metadata": {},
   "outputs": [],
   "source": [
    "from collections import Counter"
   ]
  },
  {
   "cell_type": "code",
   "execution_count": null,
   "metadata": {},
   "outputs": [],
   "source": [
    "model = \"PFNet6_TTbar_14TeV_TuneCUETP8M1_cfi_gen__npar_221712__cfg_ac56a704be__user_jpata__ntrain_1800__lr_0.001__1586582232\"\n",
    "epoch = 30\n",
    "big_df = pandas.read_pickle(\"../data/{}/epoch_{}/df.pkl.bz2\".format(model, epoch))\n",
    "#big_df = pandas.read_pickle(\"../test/TTbar_14TeV_TuneCUETP8M1_cfi.pkl.bz2\")"
   ]
  },
  {
   "cell_type": "code",
   "execution_count": null,
   "metadata": {},
   "outputs": [],
   "source": [
    "losses_train = pandas.read_csv(\"../data/{}/epoch_{}/losses_train.txt\".format(model, epoch),header=None,sep=\" \")\n",
    "losses_test = pandas.read_csv(\"../data/{}/epoch_{}/losses_test.txt\".format(model, epoch),header=None,sep=\" \")\n",
    "start_idx = 0\n",
    "idx = epoch"
   ]
  },
  {
   "cell_type": "code",
   "execution_count": null,
   "metadata": {},
   "outputs": [],
   "source": [
    "def rm(x, N):\n",
    "    return np.convolve(x, np.ones((N,))/N, mode='valid')"
   ]
  },
  {
   "cell_type": "code",
   "execution_count": null,
   "metadata": {},
   "outputs": [],
   "source": [
    "ax = plt.axes()\n",
    "plt.plot(rm(losses_train.values.sum(axis=1)[start_idx:idx],1), color=\"blue\")\n",
    "ax.set_ylabel(\"train loss\", color=\"blue\")\n",
    "ax = ax.twinx()\n",
    "plt.plot(rm(losses_test.values.sum(axis=1)[start_idx:idx],1), color=\"orange\")\n",
    "ax.set_ylabel(\"train loss\", color=\"orange\")"
   ]
  },
  {
   "cell_type": "code",
   "execution_count": null,
   "metadata": {},
   "outputs": [],
   "source": [
    "ax = plt.axes()\n",
    "plt.plot(rm(losses_train[0][start_idx:idx], 1), color=\"blue\")\n",
    "ax.set_ylabel(\"train loss\", color=\"blue\")\n",
    "ax = ax.twinx()\n",
    "plt.plot(rm(losses_test[0][start_idx:idx], 1), color=\"orange\")\n",
    "ax.set_ylabel(\"test loss\", color=\"orange\")"
   ]
  },
  {
   "cell_type": "code",
   "execution_count": null,
   "metadata": {},
   "outputs": [],
   "source": [
    "ax = plt.axes()\n",
    "plt.plot(rm(losses_train[1][start_idx:idx], 2), color=\"blue\")\n",
    "ax.set_ylabel(\"test loss\", color=\"blue\")\n",
    "ax = ax.twinx()\n",
    "plt.plot(rm(losses_test[1][start_idx:idx], 2), color=\"orange\")\n",
    "ax.set_ylabel(\"test loss\", color=\"orange\")"
   ]
  },
  {
   "cell_type": "code",
   "execution_count": null,
   "metadata": {},
   "outputs": [],
   "source": [
    "ax = plt.axes()\n",
    "plt.plot(rm(losses_train[2][start_idx:idx], 1), color=\"blue\")\n",
    "ax.set_ylabel(\"test loss\", color=\"blue\")\n",
    "ax = ax.twinx()\n",
    "plt.plot(rm(losses_test[2][start_idx:idx], 1), color=\"orange\")\n",
    "ax.set_ylabel(\"test loss\", color=\"orange\")"
   ]
  },
  {
   "cell_type": "code",
   "execution_count": null,
   "metadata": {},
   "outputs": [],
   "source": [
    "Counter(big_df[\"gen_pid\"])"
   ]
  },
  {
   "cell_type": "code",
   "execution_count": null,
   "metadata": {},
   "outputs": [],
   "source": [
    "msk = big_df[\"gen_pid\"]!=0\n",
    "\n",
    "confusion1 = sklearn.metrics.confusion_matrix(\n",
    "    big_df[\"gen_pid\"][msk], big_df[\"cand_pid\"][msk],\n",
    "    labels=train_end2end.class_labels[1:]\n",
    ")\n",
    "train_end2end.plot_confusion_matrix(\n",
    "    cm=confusion1, target_names=[int(x) for x in train_end2end.class_labels][1:], normalize=True\n",
    ")\n",
    "plt.title(\"Standard PF\")"
   ]
  },
  {
   "cell_type": "code",
   "execution_count": null,
   "metadata": {},
   "outputs": [],
   "source": [
    "confusion2 = sklearn.metrics.confusion_matrix(\n",
    "    big_df[\"gen_pid\"][msk], big_df[\"pred_pid\"][msk],\n",
    "    labels=train_end2end.class_labels[1:]\n",
    ")\n",
    "train_end2end.plot_confusion_matrix(\n",
    "    cm=confusion2, target_names=[int(x) for x in train_end2end.class_labels][1:], normalize=True\n",
    ")\n",
    "plt.title(\"ML-PF to generator-level\")"
   ]
  },
  {
   "cell_type": "code",
   "execution_count": null,
   "metadata": {},
   "outputs": [],
   "source": [
    "bins_eta = np.linspace(-4, 4, 21)\n",
    "bins_pt = np.logspace(-1, 2, 21)"
   ]
  },
  {
   "cell_type": "code",
   "execution_count": null,
   "metadata": {},
   "outputs": [],
   "source": [
    "def get_eff(df, target_pid=None):\n",
    "    v0 = np.sum(df==target_pid)\n",
    "    return (v0 / len(df), np.sqrt(v0)/len(df))"
   ]
  },
  {
   "cell_type": "code",
   "execution_count": null,
   "metadata": {},
   "outputs": [],
   "source": [
    "def get_effs_cand_pred(pid, by, bins):\n",
    "    bs = by + \"_bins\"\n",
    "    big_df[bs] = np.searchsorted(bins, big_df[by])\n",
    "    \n",
    "    vals = big_df[(big_df[\"gen_pid\"]==pid)].groupby(bs)[\"cand_pid\"].apply(get_eff, target_pid=pid)\n",
    "    xs1 = [bins[min(k, len(bins)-1)] for k in vals.keys()][:-1]\n",
    "    ys1 = [v[0] for v in vals.values][:-1]\n",
    "    es1 = [v[1] for v in vals.values][:-1]\n",
    "\n",
    "    vals = big_df[(big_df[\"gen_pid\"]==pid)].groupby(bs)[\"pred_pid\"].apply(get_eff, target_pid=pid)\n",
    "    xs2 = [bins[min(k, len(bins)-1)] for k in vals.keys()][:-1]\n",
    "    ys2 = [v[0] for v in vals.values][:-1]\n",
    "    es2 = [v[1] for v in vals.values][:-1]\n",
    "    \n",
    "    return xs1, (ys1, es1), (ys2, es2)"
   ]
  },
  {
   "cell_type": "code",
   "execution_count": null,
   "metadata": {},
   "outputs": [],
   "source": [
    "#for pid in [211, -211, 130, 22, 1, 2, -11, 11]:\n",
    "for pid in [211, 130, 22, 1, 2]:\n",
    "    plt.figure(figsize=(4,4))\n",
    "    xs, (ys1, es1), (ys2, es2) = get_effs_cand_pred(pid, \"gen_pt\", bins_pt)\n",
    "    plt.errorbar(xs, ys1, es1, lw=0, elinewidth=1, marker=\"v\", label=\"standard PF\")\n",
    "    plt.errorbar(xs, ys2, es2, lw=0, elinewidth=1, marker=\"^\", label=\"ML-PF\")\n",
    "    plt.legend(frameon=False)\n",
    "    plt.ylim(0, 1.5)\n",
    "    plt.xscale(\"log\")\n",
    "    plt.xlabel(\"gen pt\")\n",
    "    plt.title(\"pid={}\".format(pid))\n",
    "\n",
    "    plt.figure(figsize=(4,4))\n",
    "    xs, (ys1, es1), (ys2, es2) = get_effs_cand_pred(pid, \"gen_eta\", bins_eta)\n",
    "    plt.errorbar(xs, ys1, es1, lw=0, elinewidth=1, marker=\"v\", label=\"standard PF\")\n",
    "    plt.errorbar(xs, ys2, es2, lw=0, elinewidth=1, marker=\"^\", label=\"ML-PF\")\n",
    "    plt.legend(frameon=False)\n",
    "    plt.ylim(0, 1.5)\n",
    "    plt.xlabel(\"gen eta\")\n",
    "    plt.title(\"pid={}\".format(pid))"
   ]
  },
  {
   "cell_type": "code",
   "execution_count": null,
   "metadata": {},
   "outputs": [],
   "source": [
    "xs = np.arange(len(confusion1))\n",
    "plt.bar(xs, np.diag(confusion1)/confusion1.sum(axis=1), width=0.2, label=\"Standard PF\")\n",
    "plt.bar(xs + 0.2, np.diag(confusion2)/confusion2.sum(axis=1), width=0.2, label=\"ML-PF (gen-level)\")\n",
    "plt.xticks(xs+0.1, [int(x) for x in train_end2end.class_labels][1:]);\n",
    "#plt.yscale(\"log\")\n",
    "plt.ylabel(\"Fraction of GenParticles\\nreconstructed\")\n",
    "plt.ylim(0,1.2)\n",
    "plt.yticks(np.arange(0,1.1,0.1))\n",
    "plt.legend(frameon=False)\n",
    "#plt.axhline(1, color=\"black\", lw=1.0)"
   ]
  },
  {
   "cell_type": "code",
   "execution_count": null,
   "metadata": {},
   "outputs": [],
   "source": [
    "def make_plot_reg(big_df, pid, pred_type, val, bins):\n",
    "\n",
    "    m = big_df[(big_df[\"gen_pid\"]==pid) & (big_df[\"{}_pid\".format(pred_type)]==pid)][[\"gen_{}\".format(val), \"{}_{}\".format(pred_type, val)]].values\n",
    "    corr = np.corrcoef(m[:, 0], m[:, 1])[0,1]\n",
    "    \n",
    "    plt.figure(figsize=(4,4))\n",
    "    plt.hist(m[:, 0], bins=bins, histtype=\"step\", lw=2, label=\"true\")\n",
    "    plt.hist(m[:, 1], bins=bins, histtype=\"step\", lw=2, label=\"pred\")\n",
    "    plt.xlabel(val)\n",
    "    plt.legend(frameon=False)\n",
    "    \n",
    "    ngen = np.sum((big_df[\"gen_pid\"]==pid))\n",
    "    tpr = np.sum((big_df[\"gen_pid\"]==pid) & (big_df[\"{}_pid\".format(pred_type)]==pid)) / float(np.sum((big_df[\"gen_pid\"]==pid)))\n",
    "    fpr = np.sum((big_df[\"gen_pid\"]!=pid) & (big_df[\"{}_pid\".format(pred_type)]==pid)) / float(np.sum((big_df[\"{}_pid\".format(pred_type)]==pid)))\n",
    "\n",
    "    plt.figure(figsize=(4,4))\n",
    "    plt.title(\"tpr={:.4f} fpr={:.4f}\\nngen={} corr={:.4f}\".format(tpr, fpr, ngen, corr))\n",
    "    h = np.histogram2d(m[:, 0], m[:, 1], bins=(bins, bins))\n",
    "    mplhep.hist2dplot(h[0], h[1], h[2], cmap=\"Blues\", cbar=False)\n",
    "    plt.xlabel(\"True {}\".format(val))\n",
    "    plt.ylabel(\"Predicted {}\".format(val))\n",
    "\n",
    "    plt.figure(figsize=(4,4))\n",
    "    var = np.abs(m[:, 1] / m[:, 0])\n",
    "    var[var>100] = 100\n",
    "    var[var < 0] = 0\n",
    "    plt.hist(var, bins=np.linspace(0, 2, 101))\n",
    "    plt.xlabel(\"true {} / predicted {}\".format(val, val))\n",
    "    plt.title(\"mu={:.4f} s={:.4f}\".format(np.mean(var), np.std(var)))\n",
    "    #plt.axvline(1.0, color=\"black\")\n",
    "    ##plt.yscale(\"log\")\n"
   ]
  },
  {
   "cell_type": "code",
   "execution_count": null,
   "metadata": {},
   "outputs": [],
   "source": [
    "bins = np.linspace(0, 2, 201)\n",
    "pid = 211\n",
    "val = \"pt\"\n",
    "\n",
    "make_plot_reg(big_df, pid, \"cand\", val, bins)\n",
    "make_plot_reg(big_df, pid, \"pred\", val, bins)"
   ]
  },
  {
   "cell_type": "code",
   "execution_count": null,
   "metadata": {},
   "outputs": [],
   "source": [
    "bins = np.linspace(-4, 4, 101)\n",
    "pid = 211\n",
    "val = \"eta\"\n",
    "\n",
    "make_plot_reg(big_df, pid, \"cand\", val, bins)\n",
    "make_plot_reg(big_df, pid, \"pred\", val, bins)"
   ]
  },
  {
   "cell_type": "code",
   "execution_count": null,
   "metadata": {},
   "outputs": [],
   "source": [
    "bins = np.linspace(-4, 4, 101)\n",
    "pid = 211\n",
    "val = \"phi\"\n",
    "\n",
    "make_plot_reg(big_df, pid, \"cand\", val, bins)\n",
    "make_plot_reg(big_df, pid, \"pred\", val, bins)"
   ]
  },
  {
   "cell_type": "code",
   "execution_count": null,
   "metadata": {},
   "outputs": [],
   "source": [
    "# n_preds = []\n",
    "# n_trues = []\n",
    "# for i in range(len(pred_ids)):\n",
    "#     n_true = np.sum(true_ids[i]!=0)\n",
    "#     n_pred = np.sum(pred_ids[i]!=0)\n",
    "#     n_preds += [n_pred]\n",
    "#     n_trues += [n_true]"
   ]
  },
  {
   "cell_type": "code",
   "execution_count": null,
   "metadata": {},
   "outputs": [],
   "source": [
    "# plt.figure(figsize=(5, 5))\n",
    "# ax = plt.axes()\n",
    "# plt.plot([1500,5000],[1500,5000], color=\"black\", lw=0.5)\n",
    "# plt.scatter(n_trues, n_preds, marker=\".\", alpha=0.5)\n",
    "# plt.xlim(1500,5000)\n",
    "# plt.ylim(1500,5000)\n",
    "# plt.xlabel(\"Number of Target PF Candidates\",fontsize=13)\n",
    "# plt.ylabel(\"Number of Predicted GNN Candidates\",fontsize=13)\n",
    "# #plt.title(\"QCD Run3\")\n",
    "\n",
    "# plt.text(0.67, 1.05, \"Run 3 (14 TeV)\", transform=ax.transAxes, va=\"top\", ha=\"left\",size=12)\n",
    "# plt.text(0.02, 0.98, \"CMS\", transform=ax.transAxes, va=\"top\", ha=\"left\",size=16, fontweight='bold')\n",
    "# plt.text(0.18, 0.975, \"Simulation Preliminary\", transform=ax.transAxes, va=\"top\", ha=\"left\",size=12,style='italic')\n",
    "# #plt.text(0.03, 0.92, \"QCD dijet events\", transform=ax.transAxes, va=\"top\", ha=\"left\",size=12)\n",
    "# plt.text(0.03, 0.92, \"$\\mathrm{t}\\overline{\\mathrm{t}}$ events\", transform=ax.transAxes, va=\"top\", ha=\"left\",size=12)\n",
    "# plt.tight_layout()\n",
    "# #plt.savefig(\"num_pred.pdf\")"
   ]
  },
  {
   "cell_type": "code",
   "execution_count": null,
   "metadata": {},
   "outputs": [],
   "source": [
    "# cms = []\n",
    "# for i in range(len(pred_ids)):\n",
    "#     cm = sklearn.metrics.confusion_matrix(\n",
    "#         true_ids[i],\n",
    "#         pred_ids[i], labels=range(len(train_end2end.class_labels))\n",
    "#     )\n",
    "#     cms += [cm]\n",
    "# cm = sum(cms)\n",
    "# cm = cm / 1000.0\n",
    "# cm = np.round(cm, 1)#.astype(np.int)"
   ]
  },
  {
   "cell_type": "code",
   "execution_count": null,
   "metadata": {},
   "outputs": [],
   "source": [
    "# train_end2end.plot_confusion_matrix(cm, [int(x) for x in train_end2end.class_labels], normalize=True)\n",
    "# #plt.xlim(-0.5, 9.5)\n",
    "# #plt.ylim(-0.5, 9.5)\n",
    "# plt.title(\"Normalized Confusion Matrix (QCD Run3)\")\n",
    "# #plt.text(0.02, 0.98, \"CMS Simulation, preliminary\", transform=ax.transAxes, va=\"top\", ha=\"left\")\n",
    "# #plt.tight_layout()\n",
    "# plt.savefig(\"cm.pdf\")"
   ]
  },
  {
   "cell_type": "code",
   "execution_count": null,
   "metadata": {},
   "outputs": [],
   "source": [
    "# pm = np.concatenate(pred_momenta)\n",
    "# tm = np.concatenate(true_momenta)\n",
    "# ti = np.concatenate(true_ids)\n",
    "# pi = np.concatenate(pred_ids)\n",
    "\n",
    "\n",
    "# pm[:, 0] = np.power(10, pm[:, 0])\n",
    "# tm[:, 0] = np.power(10, tm[:, 0])"
   ]
  },
  {
   "cell_type": "code",
   "execution_count": null,
   "metadata": {},
   "outputs": [],
   "source": [
    "# plt.figure(figsize=(5, 5))\n",
    "\n",
    "# ax = plt.axes()\n",
    "# bins = np.linspace(0, 50, 100)\n",
    "# h0 = plt.hist(pm[pi!=0, 0], bins=bins, histtype=\"step\", lw=1, label=\"PF\");\n",
    "# h1 = plt.hist(tm[ti!=0, 0], bins=bins, histtype=\"step\", lw=1, label=\"GNN\");\n",
    "# plt.yscale(\"log\")\n",
    "# plt.legend(frameon=False)\n",
    "# plt.ylim(10, 1e7)\n",
    "\n",
    "# plt.xlabel(\"Candidate $p_{\\mathrm{T}}$ (a.u.)\",fontsize=13)\n",
    "# plt.ylabel(\"Number of Candidates\",fontsize=13)\n",
    "# #plt.title(\"QCD Run 3\")\n",
    "\n",
    "# plt.text(0.67, 1.05, \"Run 3 (14 TeV)\", transform=ax.transAxes, va=\"top\", ha=\"left\",size=12)\n",
    "# plt.text(0.02, 0.98, \"CMS\", transform=ax.transAxes, va=\"top\", ha=\"left\",size=16, fontweight='bold')\n",
    "# plt.text(0.18, 0.975, \"Simulation Preliminary\", transform=ax.transAxes, va=\"top\", ha=\"left\",size=12,style='italic')\n",
    "# #plt.text(0.03, 0.92, \"QCD dijet events\", transform=ax.transAxes, va=\"top\", ha=\"left\",size=12)\n",
    "# plt.text(0.03, 0.92, \"$\\mathrm{t}\\overline{\\mathrm{t}}$ events\", transform=ax.transAxes, va=\"top\", ha=\"left\",size=12)\n",
    "# plt.tight_layout()\n",
    "# plt.savefig(\"pt_hist.pdf\")"
   ]
  },
  {
   "cell_type": "code",
   "execution_count": null,
   "metadata": {},
   "outputs": [],
   "source": [
    "# plt.figure(figsize=(5, 5))\n",
    "# ax = plt.axes()\n",
    "\n",
    "# bins = np.linspace(-4, 4, 100)\n",
    "# plt.hist(pm[pi!=0, 1], bins=bins, histtype=\"step\", lw=1);\n",
    "# plt.hist(tm[ti!=0, 1], bins=bins, histtype=\"step\", lw=1);\n",
    "# plt.yscale(\"log\")\n",
    "\n",
    "# plt.ylim(1000, 1e6)\n",
    "# plt.xlabel(\"Candidate $\\eta$ (a.u.)\",fontsize=13)\n",
    "# plt.ylabel(\"Number of Candidates\",fontsize=13)\n",
    "# #plt.title(\"QCD Run 3\")\n",
    "# plt.text(0.67, 1.05, \"Run 3 (14 TeV)\", transform=ax.transAxes, va=\"top\", ha=\"left\",size=12)\n",
    "# plt.text(0.02, 0.98, \"CMS\", transform=ax.transAxes, va=\"top\", ha=\"left\",size=16, fontweight='bold')\n",
    "# plt.text(0.18, 0.975, \"Simulation Preliminary\", transform=ax.transAxes, va=\"top\", ha=\"left\",size=12,style='italic')\n",
    "# #plt.text(0.03, 0.92, \"QCD dijet events\", transform=ax.transAxes, va=\"top\", ha=\"left\",size=12)\n",
    "# plt.text(0.03, 0.92, \"$\\mathrm{t}\\overline{\\mathrm{t}}$ events\", transform=ax.transAxes, va=\"top\", ha=\"left\",size=12)\n",
    "# plt.tight_layout()\n",
    "# plt.savefig(\"eta_hist.pdf\")"
   ]
  },
  {
   "cell_type": "code",
   "execution_count": null,
   "metadata": {},
   "outputs": [],
   "source": [
    "# plt.figure(figsize=(5, 5))\n",
    "\n",
    "# ax = plt.axes()\n",
    "# bins = np.linspace(-3, 3, 60)\n",
    "# plt.hist(pm[pi!=0, 2], bins=bins, histtype=\"step\", lw=1);\n",
    "# plt.hist(tm[ti!=0, 2], bins=bins, histtype=\"step\", lw=1);\n",
    "# plt.yscale(\"log\")\n",
    "# plt.ylim(1000, 1e6)\n",
    "\n",
    "# plt.xlabel(\"Candidate $\\phi$ (a.u.)\",fontsize=13)\n",
    "# plt.ylabel(\"Number of Candidates\",fontsize=13)\n",
    "# #plt.title(\"QCD Run 3\")\n",
    "\n",
    "# plt.text(0.67, 1.05, \"Run 3 (14 TeV)\", transform=ax.transAxes, va=\"top\", ha=\"left\",size=12)\n",
    "# plt.text(0.02, 0.98, \"CMS\", transform=ax.transAxes, va=\"top\", ha=\"left\",size=16, fontweight='bold')\n",
    "# plt.text(0.18, 0.975, \"Simulation Preliminary\", transform=ax.transAxes, va=\"top\", ha=\"left\",size=12,style='italic')\n",
    "# #plt.text(0.03, 0.92, \"QCD dijet events\", transform=ax.transAxes, va=\"top\", ha=\"left\",size=12)\n",
    "# plt.text(0.03, 0.92, \"$\\mathrm{t}\\overline{\\mathrm{t}}$ events\", transform=ax.transAxes, va=\"top\", ha=\"left\",size=12)\n",
    "# plt.tight_layout()\n",
    "# plt.savefig(\"phi_hist.pdf\")"
   ]
  },
  {
   "cell_type": "code",
   "execution_count": null,
   "metadata": {},
   "outputs": [],
   "source": [
    "# plt.figure(figsize=(5, 5))\n",
    "# ax = plt.axes()\n",
    "\n",
    "# subidx = np.where((pi!=0)&(ti!=0))[0]\n",
    "# rp = np.random.permutation(range(len(subidx)))[:1000]\n",
    "\n",
    "# plt.scatter(pm[subidx[rp], 0], tm[subidx[rp], 0], marker=\".\", alpha=0.5)\n",
    "# plt.xlim(0,2)\n",
    "# plt.ylim(0,2)\n",
    "# plt.plot([0,2],[0,2], color=\"black\")\n",
    "\n",
    "# plt.xlabel(\"Target PF Candidate $p_{\\mathrm{T}}$ (a.u.)\",fontsize=13)\n",
    "# plt.ylabel(\"Predicted GNN Candidate $p_{\\mathrm{T}}$ (a.u.)\", fontsize=13)\n",
    "# #plt.title(\"QCD Run 3, 1000 candidates\")\n",
    "\n",
    "# plt.text(0.67, 1.05, \"Run 3 (14 TeV)\", transform=ax.transAxes, va=\"top\", ha=\"left\",size=12)\n",
    "# plt.text(0.02, 0.98, \"CMS\", transform=ax.transAxes, va=\"top\", ha=\"left\",size=16, fontweight='bold')\n",
    "# plt.text(0.18, 0.975, \"Simulation Preliminary\", transform=ax.transAxes, va=\"top\", ha=\"left\",size=12,style='italic')\n",
    "# #plt.text(0.03, 0.92, \"QCD dijet events\", transform=ax.transAxes, va=\"top\", ha=\"left\",size=12)\n",
    "# plt.text(0.03, 0.92, \"$\\mathrm{t}\\overline{\\mathrm{t}}$ events\", transform=ax.transAxes, va=\"top\", ha=\"left\",size=12)\n",
    "# plt.tight_layout()\n",
    "# plt.savefig(\"pt_corr.pdf\")"
   ]
  },
  {
   "cell_type": "code",
   "execution_count": null,
   "metadata": {},
   "outputs": [],
   "source": [
    "# plt.figure(figsize=(5, 5))\n",
    "# ax = plt.axes()\n",
    "\n",
    "# plt.plot([-7, 7], [-7, 7], color=\"black\", lw=0.5)\n",
    "# plt.scatter(pm[subidx[rp], 1], tm[subidx[rp], 1], marker=\".\", alpha=0.5)\n",
    "# plt.xlim(-7, 7)\n",
    "# plt.ylim(-7, 7)\n",
    "\n",
    "# plt.xlabel(\"Target PF Candidate $\\eta$ (a.u.)\",fontsize=13)\n",
    "# plt.ylabel(\"Predicted GNN Candidate $\\eta$ (a.u.)\",fontsize=13)\n",
    "# #plt.title(\"QCD Run 3, 1000 candidates\")\n",
    "# plt.text(0.67, 1.05, \"Run 3 (14 TeV)\", transform=ax.transAxes, va=\"top\", ha=\"left\",size=12)\n",
    "# plt.text(0.02, 0.98, \"CMS\", transform=ax.transAxes, va=\"top\", ha=\"left\",size=16, fontweight='bold')\n",
    "# plt.text(0.18, 0.975, \"Simulation Preliminary\", transform=ax.transAxes, va=\"top\", ha=\"left\",size=12,style='italic')\n",
    "# #plt.text(0.03, 0.92, \"QCD dijet events\", transform=ax.transAxes, va=\"top\", ha=\"left\",size=12)\n",
    "# plt.text(0.03, 0.92, \"$\\mathrm{t}\\overline{\\mathrm{t}}$ events\", transform=ax.transAxes, va=\"top\", ha=\"left\",size=12)\n",
    "# plt.tight_layout()\n",
    "# plt.savefig(\"eta_corr.pdf\")"
   ]
  },
  {
   "cell_type": "code",
   "execution_count": null,
   "metadata": {},
   "outputs": [],
   "source": [
    "# plt.figure(figsize=(5, 5))\n",
    "# ax = plt.axes()\n",
    "\n",
    "# plt.plot([-5, 5], [-5, 5], color=\"black\", lw=0.5)\n",
    "# plt.scatter(pm[subidx[rp], 2], tm[subidx[rp], 2], marker=\".\", alpha=0.5)\n",
    "# plt.xlim(-3,3)\n",
    "# plt.ylim(-3,3)\n",
    "\n",
    "\n",
    "# plt.xlabel(\"Target PF Candidate $\\phi$ (a.u.)\",fontsize=13)\n",
    "# plt.ylabel(\"Predicted GNN Candidate $\\phi$ (a.u.)\",fontsize=13)\n",
    "# #plt.title(\"QCD Run3, 1000 candidates\")\n",
    "\n",
    "# plt.text(0.67, 1.05, \"Run 3 (14 TeV)\", transform=ax.transAxes, va=\"top\", ha=\"left\",size=12)\n",
    "# plt.text(0.02, 0.98, \"CMS\", transform=ax.transAxes, va=\"top\", ha=\"left\",size=16, fontweight='bold')\n",
    "# plt.text(0.18, 0.975, \"Simulation Preliminary\", transform=ax.transAxes, va=\"top\", ha=\"left\",size=12,style='italic')\n",
    "# #plt.text(0.03, 0.92, \"QCD dijet events\", transform=ax.transAxes, va=\"top\", ha=\"left\",size=12)\n",
    "# plt.text(0.03, 0.92, \"$\\mathrm{t}\\overline{\\mathrm{t}}$ events\", transform=ax.transAxes, va=\"top\", ha=\"left\",size=12)\n",
    "# plt.tight_layout()\n",
    "# plt.savefig(\"phi_corr.pdf\")"
   ]
  },
  {
   "cell_type": "code",
   "execution_count": null,
   "metadata": {},
   "outputs": [],
   "source": [
    "# import pandas as pd\n",
    "# import tqdm\n",
    "\n",
    "# import matplotlib as mpl\n",
    "# mpl.rcParams['figure.figsize'] = [8.0, 6.0]\n",
    "# mpl.rcParams['font.size'] = 12\n",
    "# mpl.rcParams['legend.fontsize'] = 'large'\n",
    "# mpl.rcParams['figure.titlesize'] = 'medium'\n",
    "\n",
    "# d = full_dataset.get(1)\n",
    "# d.batch = torch.zeros((len(d.x)), dtype=torch.long)\n",
    "# d = d.to(device=device)\n",
    "# train_end2end.data_prep(d, device=device)\n",
    "# edges, cand_id_onehot, cand_momentum = model(d)\n",
    "# output = edges.detach().cpu().numpy()\n",
    "# d = full_dataset.get(1)\n",
    "# x_data = d.x.detach().cpu().numpy()\n",
    "# mask = ((x_data[:,4]==0) & (x_data[:,5]==0) & (x_data[:,6]==0) & (x_data[:,7]==0))\n",
    "# good_index = np.zeros((x_data.shape[0],1,2),dtype=int)\n",
    "# good_x = x_data[:,2:4].copy()                                                                            \n",
    "# good_x[~mask] = x_data[~mask,2:4].copy()\n",
    "# df = pd.DataFrame(good_x, columns=['eta','phi'])\n",
    "# df['isTrack'] = ~mask\n",
    "# row, col = d.edge_index.cpu().detach().numpy()\n",
    "# y_truth = d.ycand.cpu().detach().numpy()\n",
    "\n",
    "# min_phi = -1.25\n",
    "# max_phi = 1.25\n",
    "# min_eta = -1.25\n",
    "# max_eta = 1.25\n",
    "# extra = 1.0\n",
    "# x = 'eta'\n",
    "# y = 'phi'\n",
    "# for plot_type in [['input'],['truth'],['output']]: \n",
    "#     k = 0\n",
    "#     plt.figure(figsize=(8, 6))                        \n",
    "#     for i, j in tqdm.tqdm(zip(row, col),total=len(y_truth)):\n",
    "#         x1 = df[x][i]\n",
    "#         x2 = df[x][j]\n",
    "#         y1 = df[y][i]\n",
    "#         y2 = df[y][j]\n",
    "#         if (x1 < min_eta-extra or x1 > max_eta+extra) or (x2 < min_eta-extra or x2 > max_eta+extra): continue\n",
    "#         if (y1 < min_phi-extra or y1 > max_phi+extra) or (y2 < min_phi-extra or y2 > max_phi+extra): continue\n",
    "#         if 'input' in plot_type:\n",
    "#             seg_args = dict(c='b',alpha=0.1,zorder=1)\n",
    "#             plt.plot([df[x][i], df[x][j]],\n",
    "#                  [df[y][i], df[y][j]], '-', **seg_args)\n",
    "#         if 'truth' in plot_type and y_truth[k]:\n",
    "#             seg_args = dict(c='r',alpha=0.8,zorder=2)\n",
    "#             plt.plot([df[x][i], df[x][j]],\n",
    "#                  [df[y][i], df[y][j]], '-', **seg_args)\n",
    "#         if 'output' in plot_type:\n",
    "#             seg_args = dict(c='g',alpha=output[k].item(),zorder=3)\n",
    "#             plt.plot([df[x][i], df[x][j]],\n",
    "#                  [df[y][i], df[y][j]], '-', **seg_args)\n",
    "#         k+=1\n",
    "#     cut_mask = (df[x] > min_eta-extra) & (df[x] < max_eta+extra) & (df[y] > min_phi-extra) & (df[y] < max_phi+extra)\n",
    "#     cluster_mask = cut_mask & ~df['isTrack']\n",
    "#     track_mask = cut_mask & df['isTrack']\n",
    "#     plt.scatter(df[x][cluster_mask], df[y][cluster_mask],c='g',marker='o',s=50,zorder=4,alpha=1)\n",
    "#     plt.scatter(df[x][track_mask], df[y][track_mask],c='b',marker='p',s=50,zorder=5,alpha=1)\n",
    "#     plt.xlabel(\"Track or Cluster $\\eta$\",fontsize=18)\n",
    "#     plt.ylabel(\"Track or Cluster $\\phi$\",fontsize=18)\n",
    "#     plt.xlim(min_eta, max_eta)\n",
    "#     plt.ylim(min_phi, max_phi)\n",
    "#     plt.figtext(0.12, 0.90,'CMS',fontweight='bold', wrap=True, horizontalalignment='left', fontsize=20)\n",
    "#     plt.figtext(0.22, 0.90,'Simulation Preliminary', style='italic', wrap=True, horizontalalignment='left', fontsize=18)\n",
    "#     plt.figtext(0.67, 0.90,'Run 3 (14 TeV)',  wrap=True, horizontalalignment='left', fontsize=18)\n",
    "#     plt.savefig('graph_%s_%s_%s.pdf'%(x,y,'_'.join(plot_type)))"
   ]
  }
 ],
 "metadata": {
  "kernelspec": {
   "display_name": "Python 3",
   "language": "python",
   "name": "python3"
  },
  "language_info": {
   "codemirror_mode": {
    "name": "ipython",
    "version": 3
   },
   "file_extension": ".py",
   "mimetype": "text/x-python",
   "name": "python",
   "nbconvert_exporter": "python",
   "pygments_lexer": "ipython3",
   "version": "3.6.9"
  }
 },
 "nbformat": 4,
 "nbformat_minor": 4
}
