{
 "cells": [
  {
   "cell_type": "code",
   "execution_count": null,
   "metadata": {},
   "outputs": [],
   "source": [
    "import numpy as np\n",
    "import matplotlib.pyplot as plt\n",
    "import numba\n",
    "import pickle\n",
    "import glob\n",
    "import pandas as pd\n",
    "from matplotlib.colors import LogNorm"
   ]
  },
  {
   "cell_type": "code",
   "execution_count": null,
   "metadata": {},
   "outputs": [],
   "source": []
  },
  {
   "cell_type": "code",
   "execution_count": null,
   "metadata": {},
   "outputs": [],
   "source": [
    "def get_df(fl, name):\n",
    "    bls = []\n",
    "    for fi in fl:\n",
    "        d = pickle.load(open(fi, \"rb\"))\n",
    "        bls += [d[name]]\n",
    "    return pd.DataFrame(bls)\n",
    "\n",
    "def text_in_box(mat, thresh):\n",
    "    for i in range(len(mat)):\n",
    "        for j in range(len(mat)):\n",
    "            plt.text(i, j, \"{0:.3f}\".format(mat[i,j]), ha=\"center\", va=\"center\", color=\"white\" if mat[i, j] > thresh else \"black\")"
   ]
  },
  {
   "cell_type": "code",
   "execution_count": null,
   "metadata": {},
   "outputs": [],
   "source": [
    "def plot_num_blocks(df_blocks, df_blocks_dummy, df_blocks_clue, df_blocks_gnn, sample):\n",
    "    plt.figure(figsize=(5,5))\n",
    "    plt.scatter(df_blocks[\"num_blocks_true\"], df_blocks[\"num_blocks_pred\"], marker=\".\", label=\"Edge classifier\", alpha=0.5)\n",
    "    plt.scatter(df_blocks_dummy[\"num_blocks_true\"], df_blocks_dummy[\"num_blocks_pred\"], marker=\"x\", label=\"PFBlockAlgo\", alpha=0.5)\n",
    "    plt.scatter(df_blocks_clue[\"num_blocks_true\"], df_blocks_clue[\"num_blocks_pred\"], marker=\"^\", label=\"CLUE\", alpha=0.5)\n",
    "    plt.scatter(df_blocks_gnn[\"num_blocks_true\"], df_blocks_gnn[\"num_blocks_pred\"], marker=\"^\", label=\"GNN\", alpha=0.5)\n",
    "    plt.xlim(0,5000)\n",
    "    plt.ylim(0,5000)\n",
    "    plt.plot([0,5000], [0,5000], color=\"black\", lw=1, ls=\"--\")\n",
    "    plt.xlabel(\"number of blocks (true)\")\n",
    "    plt.ylabel(\"number of blocks (pred)\")\n",
    "    plt.title(\"Number of blocks, {0}\".format(sample))\n",
    "    plt.legend(frameon=False, loc=\"best\")\n",
    "    plt.savefig(\"num_blocks_{0}.pdf\".format(sample), bbox_inches=\"tight\")"
   ]
  },
  {
   "cell_type": "code",
   "execution_count": null,
   "metadata": {},
   "outputs": [],
   "source": [
    "def plot_block_size(df_blocks, df_blocks_dummy, df_blocks_clue, df_blocks_gnn, sample):\n",
    "    plt.figure(figsize=(5,5))\n",
    "    plt.scatter(df_blocks[\"max_block_size_true\"], df_blocks[\"max_block_size_pred\"], marker=\".\", label=\"Edge classifier\", alpha=0.3)\n",
    "    plt.scatter(df_blocks_dummy[\"max_block_size_true\"], df_blocks_dummy[\"max_block_size_pred\"], marker=\"x\", label=\"PFBlockAlgo\", alpha=0.3)\n",
    "    plt.scatter(df_blocks_clue[\"max_block_size_true\"], df_blocks_clue[\"max_block_size_pred\"], marker=\"^\", label=\"CLUE\", alpha=0.3)\n",
    "    plt.scatter(df_blocks_gnn[\"max_block_size_true\"], df_blocks_gnn[\"max_block_size_pred\"], marker=\"^\", label=\"GNN\", alpha=0.3)\n",
    "    plt.xlim(0,3000)\n",
    "    plt.ylim(0,3000)\n",
    "    plt.plot([0,3000], [0,3000], color=\"black\", lw=1, ls=\"--\")\n",
    "    plt.xlabel(\"maximum block size (true)\")\n",
    "    plt.ylabel(\"maximum block size (pred)\")\n",
    "    plt.title(\"Block finder model, {0}\".format(sample))\n",
    "    plt.legend(frameon=False, loc=\"best\")\n",
    "    plt.savefig(\"block_size_{0}.pdf\".format(sample), bbox_inches=\"tight\")"
   ]
  },
  {
   "cell_type": "code",
   "execution_count": null,
   "metadata": {},
   "outputs": [],
   "source": [
    "def plot_precision_recall(df_blocks, df_blocks_dummy, df_blocks_clue, df_blocks_gnn, sample):\n",
    "    plt.figure(figsize=(5,5))\n",
    "    plt.scatter(df_blocks[\"edge_precision\"], df_blocks[\"edge_recall\"], marker=\".\", alpha=0.5, label=\"Edge classifier\")\n",
    "    plt.scatter(df_blocks_dummy[\"edge_precision\"], df_blocks_dummy[\"edge_recall\"], marker=\"x\", alpha=0.5, label=\"PFBlockAlgo\")\n",
    "    plt.scatter(df_blocks_clue[\"edge_precision\"], df_blocks_clue[\"edge_recall\"], marker=\"^\", alpha=0.5, label=\"CLUE\")\n",
    "    plt.scatter(df_blocks_gnn[\"edge_precision\"], df_blocks_gnn[\"edge_recall\"], marker=\"^\", alpha=0.5, label=\"GNN\")\n",
    "\n",
    "    plt.xlim(0,1.2)\n",
    "    plt.ylim(0,1.2)\n",
    "\n",
    "    plt.xlabel(\"edge precision: TP / (TP + FP)\")\n",
    "    plt.ylabel(\"edge recall: TP / (TP + FN)\")\n",
    "    plt.title(\"Edge classification, {0}\".format(sample))\n",
    "    plt.legend(frameon=False)\n",
    "    plt.savefig(\"edge_precision_recall_{0}.pdf\".format(sample), bbox_inches=\"tight\")"
   ]
  },
  {
   "cell_type": "code",
   "execution_count": null,
   "metadata": {},
   "outputs": [],
   "source": [
    "def plot_block_size_histo(df_blocks, df_blocks_dummy, df_blocks_clue, df_blocks_gnn, sample):\n",
    "    plt.figure(figsize=(5,5))\n",
    "    b = np.logspace(0.1, 4, 40)\n",
    "    plt.hist(df_blocks[\"max_block_size_pred\"], bins=b, histtype=\"step\", lw=2, label=\"Edge classifier, m={0:.0f}\".format(np.mean(df_blocks[\"max_block_size_pred\"])));\n",
    "    plt.hist(df_blocks_dummy[\"max_block_size_pred\"], bins=b, histtype=\"step\", lw=2, label=\"PFBlockAlgo, m={0:.0f}\".format(np.mean(df_blocks_dummy[\"max_block_size_pred\"])));\n",
    "    plt.hist(df_blocks_clue[\"max_block_size_pred\"], bins=b, histtype=\"step\", lw=2, label=\"GLUE, m={0:.0f}\".format(np.mean(df_blocks_clue[\"max_block_size_pred\"])));\n",
    "    plt.hist(df_blocks_gnn[\"max_block_size_pred\"], bins=b, histtype=\"step\", lw=2, label=\"GNN, m={0:.0f}\".format(np.mean(df_blocks_gnn[\"max_block_size_pred\"])));\n",
    "    plt.hist(df_blocks[\"max_block_size_true\"], bins=b, histtype=\"step\", lw=2, label=\"True blocks, m={0:.0f}\".format(np.mean(df_blocks[\"max_block_size_true\"])));\n",
    "    plt.xscale(\"log\")\n",
    "    plt.legend(frameon=False)\n",
    "    plt.title(\"Maximum block size, {0}\".format(sample))\n",
    "    plt.savefig(\"max_block_size_{0}.pdf\".format(sample), bbox_inches=\"tight\")"
   ]
  },
  {
   "cell_type": "code",
   "execution_count": null,
   "metadata": {},
   "outputs": [],
   "source": [
    "fl = glob.glob(\"../data/NuGun_run3/step3*.pkl\")\n",
    "df_blocks = get_df(fl, \"blocks\")\n",
    "df_blocks_dummy = get_df(fl, \"blocks_dummy\")\n",
    "df_blocks_clue = get_df(fl, \"blocks_clue\")\n",
    "\n",
    "plot_num_blocks(df_blocks, df_blocks_dummy, df_blocks_clue, df_blocks_gnn, \"NuGun-Run3\")\n",
    "plot_block_size(df_blocks, df_blocks_dummy, df_blocks_clue, df_blocks_gnn, \"NuGun-Run3\")\n",
    "plot_block_size_histo(df_blocks, df_blocks_dummy, df_blocks_clue, df_blocks_gnn, \"NuGun-Run3\")\n",
    "plot_precision_recall(df_blocks, df_blocks_dummy, df_blocks_clue, df_blocks_gnn, \"NuGun-Run3\")"
   ]
  },
  {
   "cell_type": "code",
   "execution_count": null,
   "metadata": {},
   "outputs": [],
   "source": [
    "fl = glob.glob(\"../data/QCD_run3/step3*.pkl\")\n",
    "df_blocks = get_df(fl, \"blocks\")\n",
    "df_blocks_dummy = get_df(fl, \"blocks_dummy\")\n",
    "df_blocks_clue = get_df(fl, \"blocks_clue\")\n",
    "\n",
    "plot_num_blocks(df_blocks, df_blocks_dummy, df_blocks_clue, df_blocks_gnn, \"QCD-Run3\")\n",
    "plot_block_size(df_blocks, df_blocks_dummy, df_blocks_clue, df_blocks_gnn, \"QCD-Run3\")\n",
    "plot_block_size_histo(df_blocks, df_blocks_dummy, df_blocks_clue, df_blocks_gnn, \"QCD-Run3\")\n",
    "plot_precision_recall(df_blocks, df_blocks_dummy, df_blocks_clue, df_blocks_gnn, \"QCD-Run3\")"
   ]
  },
  {
   "cell_type": "code",
   "execution_count": null,
   "metadata": {},
   "outputs": [],
   "source": [
    "fl = glob.glob(\"../data/TTbar_run3/step3*.pkl\")\n",
    "df_blocks = get_df(fl, \"blocks\")\n",
    "df_blocks_dummy = get_df(fl, \"blocks_dummy\")\n",
    "df_blocks_clue = get_df(fl, \"blocks_clue\")\n",
    "df_blocks_gnn = get_df(fl, \"blocks_gnn\")\n",
    "\n",
    "plot_num_blocks(df_blocks, df_blocks_dummy, df_blocks_clue, df_blocks_gnn, \"TTbar-Run3\")\n",
    "plot_block_size(df_blocks, df_blocks_dummy, df_blocks_clue, df_blocks_gnn, \"TTbar-Run3\")\n",
    "plot_block_size_histo(df_blocks, df_blocks_dummy, df_blocks_clue, df_blocks_gnn, \"TTbar-Run3\")\n",
    "plot_precision_recall(df_blocks, df_blocks_dummy, df_blocks_clue, df_blocks_gnn, \"TTbar-Run3\")"
   ]
  },
  {
   "cell_type": "code",
   "execution_count": null,
   "metadata": {},
   "outputs": [],
   "source": [
    "# b = np.linspace(0,1,100)\n",
    "# plt.hist(df_blocks[\"adjusted_mutual_info_score\"], bins=b, label=\"Edge classifier\");\n",
    "# plt.hist(df_blocks_dummy[\"adjusted_mutual_info_score\"], bins=b, label=\"PFBlockAlgo\");\n",
    "# plt.xlabel(\"adjusted MI score\\n(higher is better)\")\n",
    "# plt.legend(frameon=False)"
   ]
  },
  {
   "cell_type": "code",
   "execution_count": null,
   "metadata": {},
   "outputs": [],
   "source": [
    "df_true_blocks = get_df(fl, \"cand_true_blocks\")"
   ]
  },
  {
   "cell_type": "code",
   "execution_count": null,
   "metadata": {},
   "outputs": [],
   "source": [
    "df_true_blocks.keys()"
   ]
  },
  {
   "cell_type": "code",
   "execution_count": null,
   "metadata": {},
   "outputs": [],
   "source": [
    "plt.figure(figsize=(5,5))\n",
    "plt.scatter(df_true_blocks[\"num_cands_true\"], df_true_blocks[\"num_cands_pred\"], marker=\".\")\n",
    "plt.xlim(0,4000)\n",
    "plt.ylim(0,4000)\n",
    "plt.title(\"True blocks, true vs. predicted candidates\")\n",
    "plt.plot([0,4000], [0,4000], color=\"black\", lw=1, ls=\"--\")\n",
    "\n",
    "plt.xlabel(\"number of true candidates\")\n",
    "plt.ylabel(\"number of predicted candidates\")"
   ]
  },
  {
   "cell_type": "code",
   "execution_count": null,
   "metadata": {},
   "outputs": [],
   "source": [
    "plt.figure(figsize=(5,5))\n",
    "mat = df_true_blocks[\"ncand_confusion_matrix\"].sum()\n",
    "mat = 100.0 * mat / np.sum(mat)\n",
    "plt.imshow(mat, cmap=\"Blues\")\n",
    "text_in_box(mat, 60)\n",
    "plt.colorbar()\n",
    "labels = range(4)\n",
    "plt.xticks(range(len(labels)), labels=[int(x) for x in labels])\n",
    "plt.yticks(range(len(labels)), labels=[int(x) for x in labels])\n",
    "plt.xlim(-0.5,3.5)\n",
    "plt.ylim(-0.5,3.5)\n",
    "plt.title(\"True blocks, true vs. predicted candidates\")\n",
    "plt.xlabel(\"Number of true candidates\")\n",
    "plt.ylabel(\"Number of predicted candidates\")"
   ]
  },
  {
   "cell_type": "code",
   "execution_count": null,
   "metadata": {},
   "outputs": [],
   "source": [
    "plt.figure(figsize=(10,10))\n",
    "mat = df_true_blocks[\"pdgid_confusion_matrix\"].sum()\n",
    "mat = 100.0 * mat / np.sum(mat)\n",
    "plt.imshow(mat, cmap=\"Blues\")\n",
    "text_in_box(mat, 20)\n",
    "plt.colorbar()\n",
    "labels = [-211, -13, 0, 1, 2, 13, 22, 130, 211]\n",
    "plt.xticks(range(len(labels)), labels=[int(x) for x in labels])\n",
    "plt.yticks(range(len(labels)), labels=[int(x) for x in labels])\n",
    "plt.xlim(-0.5,8.5)\n",
    "plt.ylim(-0.5,8.5)\n",
    "\n",
    "plt.title(\"True blocks, true vs. predicted candidates (%)\")\n",
    "plt.xlabel(\"pdgid of true candidates\")\n",
    "plt.ylabel(\"pdgid of predicted candidates\")"
   ]
  },
  {
   "cell_type": "code",
   "execution_count": null,
   "metadata": {},
   "outputs": [],
   "source": [
    "bins = np.linspace(0, 10, 20)\n",
    "mat = df_true_blocks[\"pt_matrix\"].sum()\n",
    "plt.title(\"True blocks, true vs. predicted candidates\")\n",
    "plt.imshow(mat, norm=LogNorm(vmin=1, vmax=10*np.max(mat)), origin=\"lower\", cmap=\"Blues\", extent=(min(bins), max(bins), min(bins), max(bins)))\n",
    "plt.colorbar()\n",
    "\n",
    "plt.xlabel(\"true candidate $p_T$ [GeV]\")\n",
    "plt.ylabel(\"predicted candidate $p_T$ [GeV]\")"
   ]
  },
  {
   "cell_type": "code",
   "execution_count": null,
   "metadata": {},
   "outputs": [],
   "source": [
    "bins = np.linspace(-6, 6, 20)\n",
    "mat = df_true_blocks[\"eta_matrix\"].sum()\n",
    "#mat = 100 * mat / np.sum(mat)\n",
    "plt.imshow(mat, norm=LogNorm(vmin=1, vmax=10*np.max(mat)), origin=\"lower\", cmap=\"Blues\", extent=(min(bins), max(bins), min(bins), max(bins)))\n",
    "plt.colorbar()\n",
    "\n",
    "plt.title(\"True blocks, true vs. predicted candidates\")\n",
    "plt.xlabel(\"true candidate $\\eta$\")\n",
    "plt.ylabel(\"predicted candidate $\\eta$\")"
   ]
  },
  {
   "cell_type": "code",
   "execution_count": null,
   "metadata": {},
   "outputs": [],
   "source": [
    "mat = df_true_blocks[\"phi_matrix\"].sum()\n",
    "bins = np.linspace(-4, 4, 20)\n",
    "plt.imshow(mat, norm=LogNorm(vmin=1, vmax=10*np.max(mat)), origin=\"lower\", cmap=\"Blues\", extent=(min(bins), max(bins), min(bins), max(bins)))\n",
    "plt.colorbar()\n",
    "\n",
    "plt.title(\"True blocks, true vs. predicted candidates\")\n",
    "plt.xlabel(\"true candidate $\\phi$\")\n",
    "plt.ylabel(\"predicted candidate $\\phi$\")"
   ]
  },
  {
   "cell_type": "code",
   "execution_count": null,
   "metadata": {},
   "outputs": [],
   "source": [
    "df_pred_blocks = get_df(fl, \"cand_pred_blocks\")"
   ]
  },
  {
   "cell_type": "code",
   "execution_count": null,
   "metadata": {},
   "outputs": [],
   "source": [
    "df_pred_blocks.keys()"
   ]
  },
  {
   "cell_type": "code",
   "execution_count": null,
   "metadata": {},
   "outputs": [],
   "source": [
    "plt.figure(figsize=(5,5))\n",
    "plt.scatter(df_pred_blocks[\"num_cands_true\"], df_pred_blocks[\"num_cands_pred\"], marker=\".\")\n",
    "plt.xlim(0,4000)\n",
    "plt.ylim(0,4000)\n",
    "plt.plot([0,4000], [0,4000], color=\"black\", lw=1, ls=\"--\")\n",
    "\n",
    "plt.title(\"True vs. predicted candidates\\nusing predicted blocks\")\n",
    "\n",
    "plt.xlabel(\"number of true blocks\")\n",
    "plt.ylabel(\"number of predicted blocks\")"
   ]
  },
  {
   "cell_type": "code",
   "execution_count": null,
   "metadata": {},
   "outputs": [],
   "source": [
    "plt.figure(figsize=(5,5))\n",
    "plt.scatter(df_pred_blocks[\"num_cands_true\"], df_pred_blocks[\"num_cands_matched\"], marker=\".\")\n",
    "\n",
    "plt.xlim(0,4000)\n",
    "plt.ylim(0,4000)\n",
    "plt.plot([0,4000], [0,4000], color=\"black\", lw=1, ls=\"--\")\n",
    "\n",
    "plt.title(\"True vs. predicted candidates\\nusing predicted blocks\")\n",
    "\n",
    "plt.xlabel(\"number of true candidates\")\n",
    "plt.ylabel(\"number of matched candidates\")"
   ]
  },
  {
   "cell_type": "code",
   "execution_count": null,
   "metadata": {},
   "outputs": [],
   "source": [
    "plt.figure(figsize=(10,10))\n",
    "mat = df_pred_blocks[\"pdgid_confusion_matrix\"].sum()\n",
    "mat = 100.0 * mat / np.sum(mat)\n",
    "plt.imshow(mat, cmap=\"Blues\")\n",
    "text_in_box(mat, 20)\n",
    "plt.colorbar()\n",
    "labels = [-211, -13, 0, 1, 2, 13, 22, 130, 211]\n",
    "plt.xticks(range(len(labels)), labels=[int(x) for x in labels])\n",
    "plt.yticks(range(len(labels)), labels=[int(x) for x in labels])\n",
    "plt.xlim(-0.5,8.5)\n",
    "plt.ylim(-0.5,8.5)\n",
    "\n",
    "plt.title(\"Predicted blocks, true vs. predicted candidates (matched) (%)\")\n",
    "plt.xlabel(\"pdgid of true candidates\")\n",
    "plt.ylabel(\"pdgid of predicted candidates\")"
   ]
  },
  {
   "cell_type": "code",
   "execution_count": null,
   "metadata": {},
   "outputs": [],
   "source": [
    "mat = df_pred_blocks[\"pt_matrix\"].sum()\n",
    "bins = np.linspace(0, 10, 20)\n",
    "\n",
    "#mat = 100 * mat / np.sum(mat)\n",
    "plt.title(\"Predicted blocks, true vs. matched candidates\")\n",
    "plt.imshow(mat, norm=LogNorm(vmin=1, vmax=10*np.max(mat)), origin=\"lower\", cmap=\"Blues\", extent=(min(bins), max(bins), min(bins), max(bins)))\n",
    "plt.colorbar()\n",
    "\n",
    "plt.xlabel(\"true candidate $p_T$ [GeV]\")\n",
    "plt.ylabel(\"predicted candidate $p_T$ [GeV]\")"
   ]
  }
 ],
 "metadata": {
  "kernelspec": {
   "display_name": "Python 3",
   "language": "python",
   "name": "python3"
  },
  "language_info": {
   "codemirror_mode": {
    "name": "ipython",
    "version": 3
   },
   "file_extension": ".py",
   "mimetype": "text/x-python",
   "name": "python",
   "nbconvert_exporter": "python",
   "pygments_lexer": "ipython3",
   "version": "3.7.4"
  }
 },
 "nbformat": 4,
 "nbformat_minor": 4
}
