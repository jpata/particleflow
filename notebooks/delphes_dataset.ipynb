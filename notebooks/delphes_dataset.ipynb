{
 "cells": [
  {
   "cell_type": "code",
   "execution_count": null,
   "id": "needed-session",
   "metadata": {},
   "outputs": [],
   "source": [
    "import pickle\n",
    "\n",
    "import matplotlib\n",
    "import matplotlib.pyplot as plt\n",
    "import numpy as np\n",
    "import uproot3_methods as uproot_methods\n",
    "import networkx as nx\n",
    "import glob\n",
    "from matplotlib.colors import LogNorm\n",
    "import pandas\n",
    "import json\n",
    "import sklearn\n",
    "import sklearn.metrics\n",
    "import bz2\n",
    "import mpl_toolkits\n",
    "import mplhep as hep\n",
    "import itertools\n",
    "\n",
    "plt.style.use(hep.style.ROOT)"
   ]
  },
  {
   "cell_type": "code",
   "execution_count": null,
   "id": "constitutional-china",
   "metadata": {},
   "outputs": [],
   "source": [
    "def midpoints(x):\n",
    "    return x[:-1] + np.diff(x)/2\n",
    "\n",
    "def mask_empty(hist):\n",
    "    h0 = hist[0].astype(np.float64)\n",
    "    h0[h0<50] = 0\n",
    "    return (h0, hist[1])\n",
    "\n",
    "def divide_zero(a, b):\n",
    "    a = a.astype(np.float64)\n",
    "    b = b.astype(np.float64)\n",
    "    out = np.zeros_like(a)\n",
    "    np.divide(a, b, where=b>0, out=out)\n",
    "    return out\n",
    "\n",
    "pid_names = {\n",
    "    0: \"None\",\n",
    "    1: \"Charged hadrons\",\n",
    "    2: \"Neutral hadrons\",\n",
    "    3: \"Photons\",\n",
    "    4: \"Electrons\",\n",
    "    5: \"Muons\",\n",
    "}"
   ]
  },
  {
   "cell_type": "code",
   "execution_count": null,
   "id": "seeing-catch",
   "metadata": {},
   "outputs": [],
   "source": [
    "data = pickle.load(bz2.BZ2File(\"../data/pythia8_qcd/val/tev14_pythia8_qcd_10_0.pkl.bz2\", \"rb\"))\n",
    "data.keys()"
   ]
  },
  {
   "cell_type": "markdown",
   "id": "painted-former",
   "metadata": {},
   "source": [
    "The dataset contains three main collections:\n",
    "  - `X` - the list of reco object arrays (one `[Nobj x Nfeat_reco]` array per event)\n",
    "  - `ycand` - the list of PFCandidate arrays (one `[Nobj x Nfeat_part]` array per event)\n",
    "  - `ygen` - the list of GenParticles arrays (one `[Nobj x Nfeat_part]` array per event)\n",
    "    "
   ]
  },
  {
   "cell_type": "markdown",
   "id": "powered-philadelphia",
   "metadata": {},
   "source": [
    "This file contains 100 events."
   ]
  },
  {
   "cell_type": "code",
   "execution_count": null,
   "id": "architectural-mistake",
   "metadata": {},
   "outputs": [],
   "source": [
    "len(data[\"X\"]), len(data[\"ycand\"]), len(data[\"ygen\"])"
   ]
  },
  {
   "cell_type": "markdown",
   "id": "desirable-woman",
   "metadata": {},
   "source": [
    "Let's look at the reco objects in the first event."
   ]
  },
  {
   "cell_type": "code",
   "execution_count": null,
   "id": "special-disaster",
   "metadata": {},
   "outputs": [],
   "source": [
    "data[\"X\"][0].shape"
   ]
  },
  {
   "cell_type": "markdown",
   "id": "announced-layout",
   "metadata": {},
   "source": [
    "The X array contains 5264 reco objects(calo clusters and tracks concatenated to a single array) for this event, for each reco object we have the following features.\n",
    "\n",
    "Calo cluster features:\n",
    "  - 0: type=1\n",
    "  - 1: transverse energy [GeV]\n",
    "  - 2: eta\n",
    "  - 3: sin(phi)\n",
    "  - 4: cos(phi)\n",
    "  - 5: total energy (GeV)\n",
    "  - 6: electromagnetic energy (GeV)\n",
    "  - 7: hadronic energy\n",
    "  - 8-11: empty\n",
    "  \n",
    "Track features:\n",
    "  - 0: type=2\n",
    "  - 1: pT [GeV]\n",
    "  - 2: eta\n",
    "  - 3: sin(phi)\n",
    "  - 4: cos(phi)\n",
    "  - 5: P (GeV)\n",
    "  - 6: eta_outer (GeV)\n",
    "  - 7: sin(phi_outer)\n",
    "  - 8: cos(phi_outer)\n",
    "  - 9: charge\n",
    "  - 10: is_gen_muon (set to 1 for tracks from generator muons to mimic Delphes PF)\n",
    "  - 11: is_gen_electron (set to 1 for tracks from generator electrons to mimic Delphes PF)"
   ]
  },
  {
   "cell_type": "code",
   "execution_count": null,
   "id": "manufactured-voice",
   "metadata": {},
   "outputs": [],
   "source": [
    "data[\"ygen\"][0].shape, data[\"ycand\"][0].shape"
   ]
  },
  {
   "cell_type": "markdown",
   "id": "prerequisite-salad",
   "metadata": {},
   "source": [
    "The GenParticle and PFCandidate arrays have the same features.\n",
    "\n",
    "  - 0: PID code\n",
    "    - PID==0: no particle\n",
    "    - PID==1: charged hadron\n",
    "    - PID==2: neutral hadron\n",
    "    - PID==3: photon\n",
    "    - PID==4: electron\n",
    "    - PID==5: muon\n",
    "  - 1: charge\n",
    "  - 2: pT\n",
    "  - 3: eta\n",
    "  - 4: sin phi\n",
    "  - 5: cos phi\n",
    "  - 6: energy"
   ]
  },
  {
   "cell_type": "markdown",
   "id": "based-startup",
   "metadata": {},
   "source": [
    "## Event visualization"
   ]
  },
  {
   "cell_type": "code",
   "execution_count": null,
   "id": "absent-leave",
   "metadata": {},
   "outputs": [],
   "source": [
    "X = data[\"X\"][0]\n",
    "ycand = data[\"ycand\"][0]\n",
    "ygen = data[\"ygen\"][0]\n",
    "\n",
    "#Get masks for the tracks, ECAL and HCAL elements\n",
    "msk_trk = X[:, 0] == 2\n",
    "msk_ecal = (X[:, 0] == 1) & (X[:, 6] > 0)\n",
    "msk_hcal = (X[:, 0] == 1) & (X[:, 7] > 0)\n",
    "\n",
    "arr_trk = pandas.DataFrame(X[msk_trk], columns=[\"id\", \"pt\", \"eta\", \"sphi\", \"cphi\", \"p\", \"eta_outer\", \"sphi_outer\", \"cphi_outer\", \"charge\", \"is_gen_muon\", \"is_gen_ele\"])\n",
    "arr_ecal = pandas.DataFrame(X[msk_ecal][:, :6], columns=[\"id\", \"et\", \"eta\", \"sphi\", \"cphi\", \"e\"])\n",
    "arr_hcal = pandas.DataFrame(X[msk_hcal][:, :6], columns=[\"id\", \"et\", \"eta\", \"sphi\", \"cphi\", \"e\"])\n",
    "\n",
    "arr_gen = pandas.DataFrame(ygen[ygen[:, 0]!=0], columns=[\"id\", \"charge\", \"pt\", \"eta\", \"sphi\", \"cphi\", \"energy\"])\n",
    "\n",
    "#compute track x,y on the inner and outer surfaces\n",
    "points_a = arr_trk[\"eta\"].values, np.arctan2(arr_trk[\"sphi\"], arr_trk[\"cphi\"]).values\n",
    "points_b = arr_trk[\"eta_outer\"].values, np.arctan2(arr_trk[\"sphi_outer\"], arr_trk[\"cphi_outer\"]).values\n",
    "\n",
    "r1 = 0.5\n",
    "r2 = 1.0\n",
    "r3 = 1.2\n",
    "r4 = 1.4\n",
    "r5 = 1.6\n",
    "\n",
    "points = []\n",
    "for i in range(len(arr_trk)):\n",
    "    point = []\n",
    "    point.append((0,0,0))\n",
    "    point.append((points_a[0][i], r1*np.sin(points_a[1][i]), r1*np.cos(points_a[1][i])))\n",
    "    point.append((points_b[0][i], r2*np.sin(points_b[1][i]), r2*np.cos(points_b[1][i])))\n",
    "    points.append(point)\n",
    "    \n",
    "points_etaphi = []\n",
    "for i in range(len(arr_trk)):\n",
    "    point = []\n",
    "    point.append((points_a[0][i], points_a[1][i]))\n",
    "    point.append((points_b[0][i], points_b[1][i]))\n",
    "    points_etaphi.append(point)\n",
    "    \n",
    "    \n",
    "points_xyz = []\n",
    "for i in range(len(arr_trk)):\n",
    "    point = []\n",
    "    point.append((0,0,0))\n",
    "    point.append((r1*np.sinh(points_a[0][i]), r1*np.sin(points_a[1][i]), r1*np.cos(points_a[1][i])))\n",
    "    point.append((r2*np.sinh(points_b[0][i]), r2*np.sin(points_b[1][i]), r2*np.cos(points_b[1][i])))\n",
    "    points.append(point)"
   ]
  },
  {
   "cell_type": "code",
   "execution_count": null,
   "id": "assumed-fault",
   "metadata": {},
   "outputs": [],
   "source": [
    "fig = plt.figure(figsize=(14,10))\n",
    "\n",
    "plot_tracks = True \n",
    "plot_ecal = True\n",
    "plot_hcal = True\n",
    "plot_gen = True\n",
    "\n",
    "ax = fig.add_subplot(111, projection='3d')\n",
    "\n",
    "if plot_tracks:\n",
    "    lc = mpl_toolkits.mplot3d.art3d.Line3DCollection(points, linewidths=0.2, color=\"gray\", alpha=0.5)\n",
    "    ax.add_collection(lc)\n",
    "# just for better legend\n",
    "lc2 = mpl_toolkits.mplot3d.art3d.Line3DCollection([], linewidths=2, color=\"gray\", alpha=0.5, label=\"Tracks\")\n",
    "ax.add_collection(lc2)\n",
    "\n",
    "if plot_ecal:\n",
    "    ax.scatter(arr_ecal[\"eta\"], r3*arr_ecal[\"sphi\"], r3*arr_ecal[\"cphi\"], s=0.1*arr_ecal[\"e\"], color=u'#1f77b4', marker=\"s\", alpha=0.5)\n",
    "if plot_hcal:\n",
    "    ax.scatter(arr_hcal[\"eta\"], r4*arr_hcal[\"sphi\"], r4*arr_hcal[\"cphi\"], s=0.1*arr_hcal[\"e\"], color=u'#ff7f0e', marker=\"s\", alpha=0.5)\n",
    "if plot_gen:    \n",
    "    ax.scatter(arr_gen[\"eta\"], r5*arr_gen[\"sphi\"], r5*arr_gen[\"cphi\"], alpha=0.2, marker=\"x\", color=\"red\")\n",
    "# just for better legend\n",
    "ax.scatter([],[], [], alpha=0.5, marker=\"s\", s = 50, color=u'#1f77b4', label=\"ECAL clusters\")\n",
    "ax.scatter([],[], [], alpha=0.5, marker=\"s\", s = 100, color=u'#ff7f0e', label=\"HCAL clusters\")\n",
    "ax.scatter([],[], [], alpha=0.5, marker=\"x\", s = 50, color=\"red\", label=\"Truth particles\")\n",
    "\n",
    "\n",
    "ax.set_zlabel(r\"$y$ [a.u.]\",labelpad=15)\n",
    "ax.set_ylabel(r\"$x$ [a.u.]\",labelpad=15)\n",
    "ax.set_xlabel(r\"$\\eta$\",labelpad=15)\n",
    "\n",
    "from matplotlib.ticker import MultipleLocator, AutoMinorLocator\n",
    "ax.xaxis.set_major_locator(MultipleLocator(2))\n",
    "ax.yaxis.set_major_locator(MultipleLocator(1))\n",
    "ax.zaxis.set_major_locator(MultipleLocator(1))\n",
    "ax.xaxis.set_minor_locator(MultipleLocator(1))\n",
    "ax.yaxis.set_minor_locator(MultipleLocator(0.5))\n",
    "ax.zaxis.set_minor_locator(MultipleLocator(0.5))\n",
    "\n",
    "ax.xaxis._axinfo[\"grid\"].update({\"linewidth\":0.2, \"color\" : \"gray\", \"which\":\"major\", \"linestyle\":\"--\",\"alpha\":0.1})\n",
    "ax.yaxis._axinfo[\"grid\"].update({\"linewidth\":0.2, \"color\" : \"gray\", \"which\":\"major\", \"linestyle\":\"--\",\"alpha\":0.1})\n",
    "ax.zaxis._axinfo[\"grid\"].update({\"linewidth\":0.2, \"color\" : \"gray\", \"which\":\"major\", \"linestyle\":\"--\",\"alpha\":0.1})\n",
    "\n",
    "ax.w_xaxis.set_pane_color((1.0, 1.0, 1.0, 1.0))\n",
    "ax.w_yaxis.set_pane_color((1.0, 1.0, 1.0, 1.0))\n",
    "ax.w_zaxis.set_pane_color((1.0, 1.0, 1.0, 1.0))\n",
    "\n",
    "ax.set_xlim(-5.75, 5.75)\n",
    "ax.set_ylim(-1.75, 1.75)\n",
    "ax.set_zlim(-1.75, 1.75)\n",
    "\n",
    "legend = plt.legend(title =r\"QCD, 14 TeV, 200 PU\",frameon=False, bbox_to_anchor=(0.92, 1.0), loc='upper left',fontsize=20)\n",
    "plt.setp(legend.get_title(),fontsize=22)\n",
    "#plt.title(\"Simulated event with PU200\")\n",
    "plt.show()"
   ]
  },
  {
   "cell_type": "markdown",
   "id": "sublime-editor",
   "metadata": {},
   "source": [
    "## Particle multiplicities"
   ]
  },
  {
   "cell_type": "code",
   "execution_count": null,
   "id": "banner-aurora",
   "metadata": {},
   "outputs": [],
   "source": [
    "plt.figure(figsize=(6,6))\n",
    "for pid in [1,2,3,4,5]:\n",
    "    npid_gen = [np.sum(y[:, 0]==pid) for y in data[\"ygen\"]]\n",
    "    npid_cand = [np.sum(y[:, 0]==pid) for y in data[\"ycand\"]]\n",
    "    plt.scatter(npid_gen, npid_cand, label=pid_names[pid])\n",
    "    plt.plot([0,4000],[0,4000], color=\"black\", ls=\"--\")\n",
    "plt.legend()\n",
    "plt.title(\"QCD PU200\")\n",
    "plt.xlabel(\"Number of generator\\nparticles per event\")\n",
    "plt.ylabel(\"Number of rule-based PF\\nparticles per event\")"
   ]
  },
  {
   "cell_type": "markdown",
   "id": "freelance-hygiene",
   "metadata": {},
   "source": [
    "## GenParticle kinematics"
   ]
  },
  {
   "cell_type": "code",
   "execution_count": null,
   "id": "horizontal-despite",
   "metadata": {},
   "outputs": [],
   "source": [
    "X = np.concatenate(data[\"X\"])\n",
    "ygen = np.concatenate(data[\"ygen\"])\n",
    "ycand = np.concatenate(data[\"ycand\"])"
   ]
  },
  {
   "cell_type": "code",
   "execution_count": null,
   "id": "ahead-twist",
   "metadata": {},
   "outputs": [],
   "source": [
    "b = np.linspace(0, 20, 41)\n",
    "\n",
    "msk_pid1 = (ygen[:, 0]==1)\n",
    "msk_pid2 = (ygen[:, 0]==2)\n",
    "msk_pid3 = (ygen[:, 0]==3)\n",
    "msk_pid4 = (ygen[:, 0]==4)\n",
    "msk_pid5 = (ygen[:, 0]==5)\n",
    "\n",
    "h1 = np.histogram(ygen[msk_pid1, 2], bins=b)\n",
    "h2 = np.histogram(ygen[msk_pid2, 2], bins=b)\n",
    "h3 = np.histogram(ygen[msk_pid3, 2], bins=b)\n",
    "h4 = np.histogram(ygen[msk_pid4, 2], bins=b)\n",
    "h5 = np.histogram(ygen[msk_pid5, 2], bins=b)\n",
    "\n",
    "fig, (ax1, ax2) = plt.subplots(2, 1, figsize=(8, 2*8))\n",
    "\n",
    "xs = midpoints(h1[1])\n",
    "width = np.diff(h1[1])\n",
    "\n",
    "hep.histplot([h5[0], h4[0], h3[0], h2[0], h1[0]], bins=h1[1], ax=ax1, stack=True, histtype=\"fill\",\n",
    "    label=[\"Muons\", \"Electrons\", \"Photons\", \"Neutral hadrons\", \"Charged hadrons\"])\n",
    "\n",
    "ax1.legend(loc=\"best\", frameon=False)\n",
    "ax1.set_yscale(\"log\")\n",
    "ax1.set_ylim(1e1, 1e9)\n",
    "ax1.set_xlabel(r\"Truth particle $p_\\mathrm{T}$ [GeV]\")\n",
    "ax1.set_ylabel(\"Truth particles\")\n",
    "\n",
    "b = np.linspace(-8, 8, 41)\n",
    "h1 = np.histogram(ygen[msk_pid1, 3], bins=b)\n",
    "h2 = np.histogram(ygen[msk_pid2, 3], bins=b)\n",
    "h3 = np.histogram(ygen[msk_pid3, 3], bins=b)\n",
    "h4 = np.histogram(ygen[msk_pid4, 3], bins=b)\n",
    "h5 = np.histogram(ygen[msk_pid5, 3], bins=b)\n",
    "xs = midpoints(h1[1])\n",
    "width = np.diff(h1[1])\n",
    "\n",
    "hep.histplot([h5[0], h4[0], h3[0], h2[0], h1[0]], bins=h1[1], ax=ax2, stack=True, histtype=\"fill\",\n",
    "    label=[\"Muons\", \"Electrons\", \"Photons\", \"Neutral hadrons\", \"Charged hadrons\"])\n",
    "ax2.legend(loc=\"best\", frameon=False, ncol=2)\n",
    "ax2.set_yscale(\"log\")\n",
    "ax2.set_ylim(1e1, 1e9)\n",
    "ax2.set_xlabel(\"Truth particle $\\eta$\")\n",
    "ax2.set_ylabel(\"Truth particles\")"
   ]
  },
  {
   "cell_type": "markdown",
   "id": "obvious-compensation",
   "metadata": {},
   "source": [
    "## Reco object to particle association"
   ]
  },
  {
   "cell_type": "code",
   "execution_count": null,
   "id": "fixed-aruba",
   "metadata": {},
   "outputs": [],
   "source": [
    "X_ygen_matrix = sklearn.metrics.confusion_matrix(\n",
    "    X[:, 0], ygen[:, 0], labels=range(6)\n",
    ")\n",
    "X_ycand_matrix = sklearn.metrics.confusion_matrix(\n",
    "    X[:, 0], ycand[:, 0], labels=range(6)\n",
    ")"
   ]
  },
  {
   "cell_type": "code",
   "execution_count": null,
   "id": "falling-calculator",
   "metadata": {},
   "outputs": [],
   "source": [
    "ax = plt.axes()\n",
    "ax.imshow(X_ygen_matrix[:3, :], cmap=\"Blues\", norm=matplotlib.colors.LogNorm())\n",
    "ax.set_yticks(range(3))\n",
    "ax.set_yticklabels([\"none\", \"cluster\", \"track\"])\n",
    "ax.set_xticks(range(6))\n",
    "ax.set_xticklabels([pid_names[p] for p in range(6)], rotation=45);\n",
    "ax.set_xlabel(\"GenParticle PID\")\n",
    "ax.set_ylabel(\"Reco object label\")\n",
    "\n",
    "for i, j in itertools.product(range(3), range(6)):\n",
    "    ax.text(j, i, \"{:,}\".format(X_ygen_matrix[i, j]),\n",
    "             horizontalalignment=\"center\",\n",
    "             color=\"white\" if X_ygen_matrix[i, j] > X_ygen_matrix.max()/2 else \"black\")\n",
    "    \n",
    "plt.title(\"Reco object to GenParticle association\")\n"
   ]
  },
  {
   "cell_type": "code",
   "execution_count": null,
   "id": "black-difficulty",
   "metadata": {},
   "outputs": [],
   "source": [
    "ax = plt.axes()\n",
    "ax.imshow(X_ycand_matrix[:3, :], cmap=\"Blues\", norm=matplotlib.colors.LogNorm())\n",
    "ax.set_yticks(range(3))\n",
    "ax.set_yticklabels([\"none\", \"cluster\", \"track\"])\n",
    "ax.set_xticks(range(6))\n",
    "ax.set_xticklabels([pid_names[p] for p in range(6)], rotation=45);\n",
    "ax.set_xlabel(\"PFCandidate PID\")\n",
    "ax.set_ylabel(\"Reco object label\")\n",
    "\n",
    "for i, j in itertools.product(range(3), range(6)):\n",
    "    ax.text(j, i, \"{:,}\".format(X_ycand_matrix[i, j]),\n",
    "             horizontalalignment=\"center\",\n",
    "             color=\"white\" if X_ycand_matrix[i, j] > X_ycand_matrix.max()/2 else \"black\")\n",
    "    \n",
    "plt.title(\"Reco object to PFCandidate association\")"
   ]
  },
  {
   "cell_type": "code",
   "execution_count": null,
   "id": "accredited-manor",
   "metadata": {},
   "outputs": [],
   "source": [
    "plt.figure(figsize=(10,8))\n",
    "for pid in [1,2,3,4,5]:\n",
    "    msk = ygen[:, 0] == pid\n",
    "    eta_x = X[msk, 2]\n",
    "    eta_y = ygen[msk, 3]\n",
    "    plt.hist((eta_x-eta_y)/eta_x, bins=np.linspace(-0.5, 0.5, 100), histtype=\"step\", lw=2, label=pid_names[pid])\n",
    "plt.legend(loc=2)\n",
    "plt.title(\"Reco object vs. GenParticle $\\eta$ resolution\")\n",
    "plt.xlabel(\"$(\\eta_{reco} - \\eta_{ptcl}) / \\eta_{reco}$\")"
   ]
  },
  {
   "cell_type": "code",
   "execution_count": null,
   "id": "balanced-klein",
   "metadata": {},
   "outputs": [],
   "source": [
    "plt.figure(figsize=(10,8))\n",
    "for pid in [1,2,3,4,5]:\n",
    "    msk = ycand[:, 0] == pid\n",
    "    eta_x = X[msk, 2]\n",
    "    eta_y = ycand[msk, 3]\n",
    "    plt.hist((eta_x-eta_y)/eta_x, bins=np.linspace(-0.5, 0.5, 100), histtype=\"step\", lw=2, label=pid_names[pid])\n",
    "plt.legend(loc=2)\n",
    "plt.title(\"Reco object vs. PFCandidate $\\eta$ resolution\")\n",
    "plt.xlabel(\"$(\\eta_{reco} - \\eta_{ptcl}) / \\eta_{reco}$\")"
   ]
  },
  {
   "cell_type": "code",
   "execution_count": null,
   "id": "athletic-underwear",
   "metadata": {},
   "outputs": [],
   "source": []
  }
 ],
 "metadata": {
  "kernelspec": {
   "display_name": "Python 3 (ipykernel)",
   "language": "python",
   "name": "python3"
  },
  "language_info": {
   "codemirror_mode": {
    "name": "ipython",
    "version": 3
   },
   "file_extension": ".py",
   "mimetype": "text/x-python",
   "name": "python",
   "nbconvert_exporter": "python",
   "pygments_lexer": "ipython3",
   "version": "3.8.10"
  }
 },
 "nbformat": 4,
 "nbformat_minor": 5
}
