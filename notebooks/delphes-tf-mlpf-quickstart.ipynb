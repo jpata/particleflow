{
 "cells": [
  {
   "cell_type": "markdown",
   "id": "damaged-gentleman",
   "metadata": {},
   "source": [
    "This quickstart notebook allows to test and mess around with the MLPF GNN model in a standalone way. For actual training, we don't use a notebook, please refer to `README.md`.\n",
    "\n",
    "\n",
    "```bash\n",
    "git clone https://github.com/jpata/particleflow/\n",
    "```\n",
    "\n",
    "Run the notebook from `notebooks/delphes-tf-mlpf-quickstart.ipynb`."
   ]
  },
  {
   "cell_type": "code",
   "execution_count": null,
   "id": "happy-presence",
   "metadata": {},
   "outputs": [],
   "source": [
    "import bz2, pickle\n",
    "import numpy as np\n",
    "import tensorflow as tf\n",
    "import sklearn\n",
    "import sklearn.metrics\n",
    "import matplotlib.pyplot as plt\n",
    "import yaml\n",
    "\n",
    "tf.config.run_functions_eagerly(False)"
   ]
  },
  {
   "cell_type": "code",
   "execution_count": null,
   "id": "gentle-prompt",
   "metadata": {},
   "outputs": [],
   "source": [
    "import sys\n",
    "\n",
    "sys.path += [\"../mlpf\", \"../hep_tfds\"]"
   ]
  },
  {
   "cell_type": "code",
   "execution_count": null,
   "id": "imported-nightlife",
   "metadata": {},
   "outputs": [],
   "source": [
    "import tfmodel\n",
    "from tfmodel.model_setup import make_gnn_dense"
   ]
  },
  {
   "cell_type": "code",
   "execution_count": null,
   "id": "attached-helen",
   "metadata": {},
   "outputs": [],
   "source": [
    "!wget --no-check-certificate -nc https://zenodo.org/record/4452283/files/tev14_pythia8_ttbar_0_0.pkl.bz2"
   ]
  },
  {
   "cell_type": "code",
   "execution_count": null,
   "id": "enormous-merchant",
   "metadata": {},
   "outputs": [],
   "source": [
    "data = pickle.load(bz2.BZ2File(\"tev14_pythia8_ttbar_0_0.pkl.bz2\", \"r\"))"
   ]
  },
  {
   "cell_type": "code",
   "execution_count": null,
   "id": "cloudy-warren",
   "metadata": {},
   "outputs": [],
   "source": [
    "# 100 events in one file\n",
    "len(data[\"X\"]), len(data[\"ygen\"])"
   ]
  },
  {
   "cell_type": "code",
   "execution_count": null,
   "id": "blessed-noise",
   "metadata": {},
   "outputs": [],
   "source": [
    "# Pad the number of elements to a size that's divisible by the bin size\n",
    "Xs = []\n",
    "ys = []\n",
    "\n",
    "max_size = 50 * 128\n",
    "for i in range(len(data[\"X\"])):\n",
    "    X = data[\"X\"][i][:max_size, :]\n",
    "    y = data[\"ygen\"][i][:max_size, :]\n",
    "    Xpad = np.pad(X, [(0, max_size - X.shape[0]), (0, 0)])\n",
    "    ypad = np.pad(y, [(0, max_size - y.shape[0]), (0, 0)])\n",
    "    Xpad = Xpad.astype(np.float32)\n",
    "    ypad = ypad.astype(np.float32)\n",
    "    Xs.append(Xpad)\n",
    "    ys.append(ypad)\n",
    "\n",
    "X = np.stack(Xs)[:10]\n",
    "y = np.stack(ys)[:10]"
   ]
  },
  {
   "cell_type": "code",
   "execution_count": null,
   "id": "upset-tractor",
   "metadata": {},
   "outputs": [],
   "source": [
    "# Get the first event\n",
    "input_classes = np.unique(X[:, :, 0].flatten())\n",
    "output_classes = np.unique(y[:, :, 0].flatten())\n",
    "num_output_classes = len(output_classes)"
   ]
  },
  {
   "cell_type": "code",
   "execution_count": null,
   "id": "hundred-cosmetic",
   "metadata": {},
   "outputs": [],
   "source": [
    "input_classes"
   ]
  },
  {
   "cell_type": "code",
   "execution_count": null,
   "id": "champion-institute",
   "metadata": {},
   "outputs": [],
   "source": [
    "output_classes"
   ]
  },
  {
   "cell_type": "code",
   "execution_count": null,
   "id": "previous-stranger",
   "metadata": {},
   "outputs": [],
   "source": [
    "def transform_target(y):\n",
    "    return {\n",
    "        \"cls\": tf.one_hot(tf.cast(y[:, :, 0], tf.int32), num_output_classes),\n",
    "        \"charge\": y[:, :, 1:2],\n",
    "        \"pt\": y[:, :, 2:3],\n",
    "        \"eta\": y[:, :, 3:4],\n",
    "        \"sin_phi\": y[:, :, 4:5],\n",
    "        \"cos_phi\": y[:, :, 5:6],\n",
    "        \"energy\": y[:, :, 6:7],\n",
    "    }\n",
    "\n",
    "\n",
    "yt = transform_target(y)"
   ]
  },
  {
   "cell_type": "code",
   "execution_count": null,
   "id": "optical-trinity",
   "metadata": {},
   "outputs": [],
   "source": [
    "msk_true_particle = y[:, :, 0] != 0"
   ]
  },
  {
   "cell_type": "code",
   "execution_count": null,
   "id": "pleasant-textbook",
   "metadata": {},
   "outputs": [],
   "source": [
    "np.unique(y[msk_true_particle][:, 0], return_counts=True)"
   ]
  },
  {
   "cell_type": "code",
   "execution_count": null,
   "id": "acute-southwest",
   "metadata": {},
   "outputs": [],
   "source": [
    "plt.hist(yt[\"pt\"][msk_true_particle].flatten(), bins=100)\n",
    "plt.xlabel(\"pt\")\n",
    "plt.yscale(\"log\")"
   ]
  },
  {
   "cell_type": "code",
   "execution_count": null,
   "id": "elementary-hepatitis",
   "metadata": {},
   "outputs": [],
   "source": [
    "plt.hist(yt[\"eta\"][msk_true_particle].flatten(), bins=100)\n",
    "plt.xlabel(\"eta\")"
   ]
  },
  {
   "cell_type": "code",
   "execution_count": null,
   "id": "white-enhancement",
   "metadata": {},
   "outputs": [],
   "source": [
    "plt.hist(yt[\"sin_phi\"][msk_true_particle].flatten(), bins=100)\n",
    "plt.xlabel(\"sin phi\")"
   ]
  },
  {
   "cell_type": "code",
   "execution_count": null,
   "id": "appointed-alberta",
   "metadata": {},
   "outputs": [],
   "source": [
    "plt.hist(yt[\"cos_phi\"][msk_true_particle].flatten(), bins=100)\n",
    "plt.xlabel(\"cos phi\")"
   ]
  },
  {
   "cell_type": "code",
   "execution_count": null,
   "id": "variable-appointment",
   "metadata": {},
   "outputs": [],
   "source": [
    "plt.hist(yt[\"energy\"][msk_true_particle].flatten(), bins=100)\n",
    "plt.xlabel(\"energy\")\n",
    "plt.yscale(\"log\")"
   ]
  },
  {
   "cell_type": "code",
   "execution_count": null,
   "id": "49f28699",
   "metadata": {},
   "outputs": [],
   "source": [
    "with open(\"../parameters/delphes.yaml\", \"r\") as ymlfile:\n",
    "    config = yaml.load(ymlfile, Loader=yaml.FullLoader)\n",
    "    config[\"setup\"][\"multi_output\"] = True"
   ]
  },
  {
   "cell_type": "code",
   "execution_count": null,
   "id": "steady-stock",
   "metadata": {},
   "outputs": [],
   "source": [
    "model = PFNetDense(\n",
    "    num_input_classes=len(input_classes),\n",
    "    num_output_classes=len(output_classes),\n",
    "    activation=\"elu\",\n",
    "    hidden_dim=128,\n",
    "    bin_size=128,\n",
    "    input_encoding=\"default\",\n",
    "    multi_output=True,\n",
    "    max_bin_size=100,\n",
    "    combined_graph_layer={\n",
    "        \"bin_size\": 640,\n",
    "        \"max_num_bins\": 100,\n",
    "        \"distance_dim\": 128,\n",
    "        \"layernorm\": False,\n",
    "        \"num_node_messages\": 1,\n",
    "        \"dropout\": 0.0,\n",
    "        \"dist_activation\": \"linear\",\n",
    "        \"ffn_dist_num_layers\": 1,\n",
    "        \"ffn_dist_hidden_dim\": 128,\n",
    "        \"kernel\": {\"type\": \"NodePairGaussianKernel\", \"dist_mult\": 0.1, \"clip_value_low\": 0.0, \"dist_norm\": \"l2\"},\n",
    "        \"node_message\": {\"type\": \"GHConvDense\", \"output_dim\": 256, \"activation\": \"elu\", \"normalize_degrees\": True},\n",
    "        \"activation\": \"elu\",\n",
    "    },\n",
    ")\n",
    "\n",
    "# #temporal weight mode means each input element in the event can get a separate weight\n",
    "model.compile(\n",
    "    loss={\n",
    "        \"cls\": tf.keras.losses.CategoricalCrossentropy(from_logits=False),\n",
    "        \"charge\": tf.keras.losses.MeanSquaredError(),\n",
    "        \"pt\": tf.keras.losses.MeanSquaredError(),\n",
    "        \"energy\": tf.keras.losses.MeanSquaredError(),\n",
    "        \"eta\": tf.keras.losses.MeanSquaredError(),\n",
    "        \"sin_phi\": tf.keras.losses.MeanSquaredError(),\n",
    "        \"cos_phi\": tf.keras.losses.MeanSquaredError(),\n",
    "    },\n",
    "    optimizer=\"adam\",\n",
    "    sample_weight_mode=\"temporal\",\n",
    ")"
   ]
  },
  {
   "cell_type": "code",
   "execution_count": null,
   "id": "interim-consciousness",
   "metadata": {},
   "outputs": [],
   "source": [
    "model.fit(X, yt, epochs=2, batch_size=1)"
   ]
  },
  {
   "cell_type": "code",
   "execution_count": null,
   "id": "healthy-constraint",
   "metadata": {},
   "outputs": [],
   "source": [
    "ypred = model.predict(X, batch_size=5)"
   ]
  },
  {
   "cell_type": "code",
   "execution_count": null,
   "id": "annoying-fleet",
   "metadata": {},
   "outputs": [],
   "source": [
    "# index of the class prediction output values\n",
    "pred_id_offset = len(output_classes)\n",
    "ypred_ids_raw = ypred[\"cls\"]"
   ]
  },
  {
   "cell_type": "code",
   "execution_count": null,
   "id": "filled-suspension",
   "metadata": {},
   "outputs": [],
   "source": [
    "sklearn.metrics.confusion_matrix(\n",
    "    np.argmax(ypred_ids_raw, axis=-1).flatten(), np.argmax(yt[\"cls\"], axis=-1).flatten(), labels=output_classes\n",
    ")"
   ]
  },
  {
   "cell_type": "code",
   "execution_count": null,
   "id": "valued-better",
   "metadata": {},
   "outputs": [],
   "source": [
    "msk_particles = X[:, :, 0] != 0\n",
    "plt.scatter(ypred[\"eta\"][msk_particles].flatten(), yt[\"eta\"][msk_particles].flatten(), marker=\".\")"
   ]
  },
  {
   "cell_type": "code",
   "execution_count": null,
   "id": "spiritual-fancy",
   "metadata": {},
   "outputs": [],
   "source": []
  }
 ],
 "metadata": {
  "kernelspec": {
   "display_name": "tf2",
   "language": "python",
   "name": "tf2"
  },
  "language_info": {
   "codemirror_mode": {
    "name": "ipython",
    "version": 3
   },
   "file_extension": ".py",
   "mimetype": "text/x-python",
   "name": "python",
   "nbconvert_exporter": "python",
   "pygments_lexer": "ipython3",
   "version": "3.8.8"
  }
 },
 "nbformat": 4,
 "nbformat_minor": 5
}
