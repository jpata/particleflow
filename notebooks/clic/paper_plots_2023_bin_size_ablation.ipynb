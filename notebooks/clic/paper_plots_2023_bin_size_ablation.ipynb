{
 "cells": [
  {
   "cell_type": "code",
   "execution_count": null,
   "id": "487144bf-29fe-4cac-bfd0-9c5d16bed2d7",
   "metadata": {},
   "outputs": [],
   "source": [
    "import json\n",
    "import glob\n",
    "import pandas\n",
    "import matplotlib.pyplot as plt"
   ]
  },
  {
   "cell_type": "code",
   "execution_count": null,
   "id": "4f2a5152-89a0-4a36-864e-11f6f471cc11",
   "metadata": {},
   "outputs": [],
   "source": [
    "paths = glob.glob(\"/home/joosep/particleflow/experiments-binsize-ablation/clic_bin_size_*/logs/history/history_49.json\")"
   ]
  },
  {
   "cell_type": "code",
   "execution_count": null,
   "id": "90cdf7ba-8de7-4e2d-bb95-10a2ac5109a6",
   "metadata": {},
   "outputs": [],
   "source": [
    "bin_sizes = []\n",
    "val_jet_matched_frac = []\n",
    "val_met_iqr = []\n",
    "val_jet_iqr = []\n",
    "val_loss = []\n",
    "\n",
    "for path in paths:\n",
    "    folder = path.split(\"/\")[5]\n",
    "    binsize = folder.split(\"_\")[3]\n",
    "    bin_sizes.append(int(binsize))\n",
    "    data = json.load(open(path))\n",
    "    val_jet_matched_frac.append(data[\"val_jet_matched_frac\"])\n",
    "    val_met_iqr.append(data[\"val_met_iqr\"])\n",
    "    val_jet_iqr.append(data[\"val_jet_iqr\"])\n",
    "    val_loss.append(data[\"val_loss\"])\n",
    "df = pandas.DataFrame()\n",
    "df[\"bin_size\"] = bin_sizes\n",
    "df[\"val_jet_matched_frac\"] = val_jet_matched_frac\n",
    "df[\"val_met_iqr\"] = val_met_iqr\n",
    "df[\"val_jet_iqr\"] = val_jet_iqr\n",
    "df[\"val_loss\"] = val_loss"
   ]
  },
  {
   "cell_type": "code",
   "execution_count": null,
   "id": "623aa091-96b9-4bda-b609-09cc7c8cf3bc",
   "metadata": {},
   "outputs": [],
   "source": [
    "means = df.groupby(\"bin_size\").mean()"
   ]
  },
  {
   "cell_type": "code",
   "execution_count": null,
   "id": "a3cfe11d-b77e-47e5-b23c-a4b290a9f6c9",
   "metadata": {},
   "outputs": [],
   "source": [
    "stds = df.groupby(\"bin_size\").std()"
   ]
  },
  {
   "cell_type": "code",
   "execution_count": null,
   "id": "5fec504f-1a18-4093-b366-5c79f6470a46",
   "metadata": {},
   "outputs": [],
   "source": [
    "plt.errorbar(\n",
    "    means[\"val_loss\"].keys(),\n",
    "    means[\"val_loss\"].values,\n",
    "    stds[\"val_loss\"].values,\n",
    "    marker=\"o\"\n",
    ")\n",
    "plt.ylim(2, 4)\n",
    "plt.xlabel(\"bin size\")\n",
    "plt.ylabel(\"validation loss\")\n",
    "plt.xticks([32,64,128,256,512]);"
   ]
  },
  {
   "cell_type": "code",
   "execution_count": null,
   "id": "73a7b3ed-9dbd-430e-8581-35730cb5e5c6",
   "metadata": {},
   "outputs": [],
   "source": [
    "plt.errorbar(\n",
    "    means[\"val_jet_matched_frac\"].keys(),\n",
    "    means[\"val_jet_matched_frac\"].values,\n",
    "    stds[\"val_jet_matched_frac\"].values,\n",
    "    marker=\"o\"\n",
    ")\n",
    "plt.ylim(0.8,1)\n",
    "plt.xlabel(\"bin size\")\n",
    "plt.ylabel(\"jet matched fraction\")\n",
    "plt.xticks([32,64,128,256,512]);"
   ]
  },
  {
   "cell_type": "code",
   "execution_count": null,
   "id": "291fab34-ae80-4aa5-91fc-e7f4024606e4",
   "metadata": {},
   "outputs": [],
   "source": [
    "plt.errorbar(\n",
    "    means[\"val_met_iqr\"].keys(),\n",
    "    means[\"val_met_iqr\"].values,\n",
    "    stds[\"val_met_iqr\"].values,\n",
    "    marker=\"o\"\n",
    ")\n",
    "plt.ylim(0,0.5)\n",
    "plt.xlabel(\"bin size\")\n",
    "plt.ylabel(\"MET response IQR\")\n",
    "plt.xticks([32,64,128,256,512]);"
   ]
  },
  {
   "cell_type": "code",
   "execution_count": null,
   "id": "a8726510-c82e-4340-9d35-a33a2119f793",
   "metadata": {},
   "outputs": [],
   "source": [
    "plt.errorbar(\n",
    "    means[\"val_jet_iqr\"].keys(),\n",
    "    means[\"val_jet_iqr\"].values,\n",
    "    stds[\"val_jet_iqr\"].values,\n",
    "    marker=\"o\"\n",
    ")\n",
    "plt.ylim(0,0.1)\n",
    "plt.xlabel(\"bin size\")\n",
    "plt.ylabel(\"jet response IQR\")\n",
    "plt.xticks([32,64,128,256,512]);"
   ]
  },
  {
   "cell_type": "code",
   "execution_count": null,
   "id": "a69788d9-4cb8-47a6-a768-3c85892f0b04",
   "metadata": {},
   "outputs": [],
   "source": []
  }
 ],
 "metadata": {
  "kernelspec": {
   "display_name": "Python 3 (ipykernel)",
   "language": "python",
   "name": "python3"
  },
  "language_info": {
   "codemirror_mode": {
    "name": "ipython",
    "version": 3
   },
   "file_extension": ".py",
   "mimetype": "text/x-python",
   "name": "python",
   "nbconvert_exporter": "python",
   "pygments_lexer": "ipython3",
   "version": "3.10.12"
  }
 },
 "nbformat": 4,
 "nbformat_minor": 5
}
