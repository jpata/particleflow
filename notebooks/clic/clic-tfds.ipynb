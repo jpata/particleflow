{
 "cells": [
  {
   "cell_type": "code",
   "execution_count": null,
   "id": "dc70742e-f5af-4293-879d-331da4e48235",
   "metadata": {},
   "outputs": [],
   "source": [
    "import os\n",
    "os.environ[\"KERAS_BACKEND\"] = \"torch\"\n",
    "import tensorflow_datasets as tfds\n",
    "\n",
    "import pandas as pd\n",
    "import numpy as np\n",
    "\n",
    "import matplotlib.pyplot as plt"
   ]
  },
  {
   "cell_type": "code",
   "execution_count": null,
   "id": "0cc6b24b-f4a7-42a4-9276-7bd26ad485fe",
   "metadata": {},
   "outputs": [],
   "source": [
    "#Load the tensorflow dataset, subset 1 out of 10, version 2.5.0, training split\n",
    "ds_builder = tfds.builder(\"clic_edm_ttbar_pf/1:2.5.0\", data_dir=\"/home/joosep/\")\n",
    "ds = ds_builder.as_data_source(\"train\")\n",
    "ds.dataset_info"
   ]
  },
  {
   "cell_type": "code",
   "execution_count": null,
   "id": "910ee15b-a74e-4fc2-9180-4f8fdc6c5c20",
   "metadata": {},
   "outputs": [],
   "source": [
    "iev = 0\n",
    "\n",
    "Xelems = []\n",
    "ytargets = []\n",
    "ycands = []\n",
    "\n",
    "for elem in ds:\n",
    "    #print the first few events\n",
    "    if iev<2:\n",
    "        print(\"event\", iev, elem.keys())\n",
    "        for k in elem.keys():\n",
    "            print(k, elem[k])\n",
    "    Xelems.append(elem[\"X\"])\n",
    "    ytargets.append(elem[\"ytarget\"])\n",
    "    ycands.append(elem[\"ycand\"])\n",
    "    iev += 1\n",
    "    if iev>1000:\n",
    "        break\n",
    "\n",
    "#concatenate across event dimension\n",
    "Xelems_flat = np.concatenate(Xelems, axis=0)\n",
    "ytargets_flat = np.concatenate(ytargets, axis=0)\n",
    "ycands_flat = np.concatenate(ycands, axis=0)"
   ]
  },
  {
   "cell_type": "code",
   "execution_count": null,
   "id": "ddc8f17f-1baf-49cc-9272-3f1ab52749f5",
   "metadata": {},
   "outputs": [],
   "source": [
    "#pick tracks or clusters\n",
    "mask_tracks = Xelems_flat[:, 0]==1\n",
    "mask_clusters = Xelems_flat[:, 0]==2\n",
    "\n",
    "#keep only the rows where both the PF particle and the target particle exist\n",
    "mask_target_particle = ytargets_flat[:, 0]!=0\n",
    "mask_pf_particle = ycands_flat[:, 0]!=0"
   ]
  },
  {
   "cell_type": "code",
   "execution_count": null,
   "id": "7ba03b99-5538-433d-9b6e-b05f4d5b2f94",
   "metadata": {},
   "outputs": [],
   "source": [
    "plt.hist(\n",
    "    (ytargets_flat[:, 2]/Xelems_flat[:, 1])[mask_target_particle & mask_tracks],\n",
    "    bins=np.linspace(0,2,500)\n",
    ");\n",
    "plt.yscale(\"log\")\n",
    "plt.xlabel(\"target particle / track $p_T$ ratio\")\n",
    "plt.ylabel(\"Number of particles / bin\")"
   ]
  },
  {
   "cell_type": "code",
   "execution_count": null,
   "id": "45a06da8-f153-40f6-9a06-fa4947be235c",
   "metadata": {},
   "outputs": [],
   "source": [
    "plt.hist(\n",
    "    (ytargets_flat[:, 2]/Xelems_flat[:, 1])[mask_target_particle & mask_clusters],\n",
    "    bins=np.linspace(0,2,500)\n",
    ");\n",
    "plt.yscale(\"log\")\n",
    "plt.xlabel(\"target particle / cluster $p_T$ ratio\")\n",
    "plt.ylabel(\"Number of particles / bin\")"
   ]
  },
  {
   "cell_type": "code",
   "execution_count": null,
   "id": "2e4b0108-181c-4a02-9671-84a75236138a",
   "metadata": {},
   "outputs": [],
   "source": [
    "plt.hist(\n",
    "    (ycands_flat[:, 2]/ytargets_flat[:, 2])[mask_target_particle & mask_pf_particle],\n",
    "    bins=np.linspace(0,2,500)\n",
    ");\n",
    "plt.yscale(\"log\")\n",
    "plt.xlabel(\"PF particle / target particle $p_T$ ratio\")\n",
    "plt.ylabel(\"Number of particles / bin\")"
   ]
  },
  {
   "cell_type": "code",
   "execution_count": null,
   "id": "d2335fd9-56d0-482c-9452-516f63616f1c",
   "metadata": {},
   "outputs": [],
   "source": []
  }
 ],
 "metadata": {
  "kernelspec": {
   "display_name": "Python 3 (ipykernel)",
   "language": "python",
   "name": "python3"
  },
  "language_info": {
   "codemirror_mode": {
    "name": "ipython",
    "version": 3
   },
   "file_extension": ".py",
   "mimetype": "text/x-python",
   "name": "python",
   "nbconvert_exporter": "python",
   "pygments_lexer": "ipython3",
   "version": "3.11.10"
  }
 },
 "nbformat": 4,
 "nbformat_minor": 5
}
