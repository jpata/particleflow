{
 "cells": [
  {
   "cell_type": "code",
   "execution_count": null,
   "id": "23915251-218d-4c9b-87f7-5c6935bdd85b",
   "metadata": {},
   "outputs": [],
   "source": [
    "import pandas as pd\n",
    "import json\n",
    "import glob\n",
    "import tqdm\n",
    "import matplotlib.pyplot as plt\n",
    "import numpy as np\n",
    "\n",
    "import sklearn\n",
    "import sklearn.metrics\n",
    "import matplotlib\n",
    "import scipy\n",
    "import mplhep\n",
    "import os\n",
    "import awkward\n",
    "\n",
    "import vector\n",
    "import fastjet\n",
    "import awkward as ak\n",
    "\n",
    "import pandas\n",
    "import boost_histogram as bh\n",
    "import itertools\n",
    "import mplhep\n",
    "import numba\n",
    "\n",
    "mplhep.set_style(mplhep.styles.CMS)"
   ]
  },
  {
   "cell_type": "code",
   "execution_count": null,
   "id": "f05e41b2-938e-40dd-b303-4abb8e23ed18",
   "metadata": {},
   "outputs": [],
   "source": [
    "import sys\n",
    "\n",
    "sys.path += [\"../../mlpf/plotting/\"]\n",
    "\n",
    "import plot_utils\n",
    "from plot_utils import pid_to_text, load_eval_data, compute_jet_ratio"
   ]
  },
  {
   "cell_type": "code",
   "execution_count": null,
   "id": "b7275829-198d-4c89-ae05-7fc922ff1c5b",
   "metadata": {},
   "outputs": [],
   "source": [
    "yvals, X, _ = load_eval_data(\n",
    "    \"../../experiments/mlpf-clic-2023-results/clusters_best_tuned_gnn_clic_v130/\"+\n",
    "    \"evaluation/epoch_96/clic_edm_ttbar_pu10_pf/test/*.parquet\", -1)"
   ]
  },
  {
   "cell_type": "code",
   "execution_count": null,
   "id": "d08612a3-febe-45a6-ae74-02cf86d8b61a",
   "metadata": {},
   "outputs": [],
   "source": [
    "b = np.linspace(0,700,50)\n",
    "plt.hist(ak.sum(X[:, :, 0]!=0, axis=1), bins=b)\n",
    "plt.axvline(256, color=\"black\")\n",
    "plt.yscale(\"log\")\n",
    "plt.xlabel(\"Number of elements per event\")"
   ]
  },
  {
   "cell_type": "code",
   "execution_count": null,
   "id": "ec1bc2b9-9663-47ee-a325-f66d23c722b8",
   "metadata": {},
   "outputs": [],
   "source": [
    "msk_evs_big = ak.sum(X[:, :, 0]!=0, axis=1)>256\n",
    "msk_has_mu = ak.sum(yvals[\"gen_cls_id\"]==5, axis=1)>=1"
   ]
  },
  {
   "cell_type": "code",
   "execution_count": null,
   "id": "e1b3000a-eafe-4620-9ea6-29ec991bfa58",
   "metadata": {},
   "outputs": [],
   "source": [
    "jet_vec = vector.awk(\n",
    "    awkward.zip(\n",
    "        {\n",
    "            \"pt\": yvals[\"jets_gen_pt\"],\n",
    "            \"eta\": yvals[\"jets_gen_eta\"],\n",
    "            \"phi\": yvals[\"jets_gen_phi\"],\n",
    "            \"energy\": yvals[\"jets_gen_energy\"],\n",
    "        }\n",
    "    )\n",
    ")\n",
    "\n",
    "msk_lep = (yvals[\"gen_cls_id\"]==4) | (yvals[\"gen_cls_id\"]==5)\n",
    "lep_vec = vector.awk(\n",
    "    awkward.zip(\n",
    "        {\n",
    "            \"pt\": yvals[\"gen_pt\"][msk_lep],\n",
    "            \"eta\": yvals[\"gen_eta\"][msk_lep],\n",
    "            \"phi\": yvals[\"gen_phi\"][msk_lep],\n",
    "            \"energy\": yvals[\"gen_energy\"][msk_lep],\n",
    "        }\n",
    "    )\n",
    ")"
   ]
  },
  {
   "cell_type": "code",
   "execution_count": null,
   "id": "2e8083e0-4a2c-4afd-94fa-44eb71d840ce",
   "metadata": {},
   "outputs": [],
   "source": [
    "jet_combs = awkward.combinations(jet_vec, 2)\n",
    "jet_lep_combs = awkward.cartesian([jet_vec, lep_vec])\n",
    "jet_lep_combs_arg = awkward.argcartesian([jet_vec, lep_vec])"
   ]
  },
  {
   "cell_type": "code",
   "execution_count": null,
   "id": "624d4c6b-9824-425e-881b-8fa7b4f7bcd7",
   "metadata": {},
   "outputs": [],
   "source": [
    "def deltaphi(phi1, phi2):\n",
    "    diff = phi1 - phi2\n",
    "    return np.arctan2(np.sin(diff), np.cos(diff))\n",
    "\n",
    "def deltar(eta1, phi1, eta2, phi2):\n",
    "    deta = eta1 - eta2\n",
    "    dphi = deltaphi(phi1, phi2)\n",
    "    return np.sqrt(deta**2 + dphi**2)"
   ]
  },
  {
   "cell_type": "code",
   "execution_count": null,
   "id": "b66fbee0-f668-46ff-a22d-eecd8f3fbeda",
   "metadata": {},
   "outputs": [],
   "source": [
    "drs = deltar(\n",
    "    jet_combs['0'].eta,\n",
    "    jet_combs['0'].phi,\n",
    "    jet_combs['1'].eta,\n",
    "    jet_combs['1'].phi\n",
    ")\n",
    "\n",
    "drs_jet_lep = deltar(\n",
    "    jet_lep_combs['0'].eta,\n",
    "    jet_lep_combs['0'].phi,\n",
    "    jet_lep_combs['1'].eta,\n",
    "    jet_lep_combs['1'].phi\n",
    ")"
   ]
  },
  {
   "cell_type": "code",
   "execution_count": null,
   "id": "bc231ff8-c005-44f0-bdb3-aec8341b4e6c",
   "metadata": {},
   "outputs": [],
   "source": [
    "gen_pt_vals = yvals[\"gen_pt\"][msk_lep][jet_lep_combs_arg['1'][drs_jet_lep<0.5]]\n",
    "cand_pt_vals = yvals[\"cand_pt\"][msk_lep][jet_lep_combs_arg['1'][drs_jet_lep<0.5]]\n",
    "pred_pt_vals = yvals[\"pred_pt\"][msk_lep][jet_lep_combs_arg['1'][drs_jet_lep<0.5]]\n",
    "\n",
    "b = np.linspace(0,200,100)\n",
    "plt.hist(awkward.flatten(gen_pt_vals[gen_pt_vals>0]), bins=b, histtype=\"step\", lw=2, label=\"gen\");\n",
    "plt.hist(awkward.flatten(cand_pt_vals[cand_pt_vals>0]), bins=b, histtype=\"step\", lw=2, label=\"PF\");\n",
    "plt.hist(awkward.flatten(pred_pt_vals[pred_pt_vals>0]), bins=b, histtype=\"step\", lw=2, label=\"MLPF\");\n",
    "plt.legend(title=\"ch.leptons, $\\Delta R_{jet} < 0.5$\")\n",
    "plt.yscale(\"log\")\n",
    "plt.xlabel(\"particle $p_T$ [GeV]\")\n",
    "plt.ylabel(\"Number of particles / bin\")\n",
    "plt.savefig(\"lepton_pt_dr_less0p5.pdf\")"
   ]
  },
  {
   "cell_type": "code",
   "execution_count": null,
   "id": "caada7c3-2155-4715-b193-9f24b68780e9",
   "metadata": {},
   "outputs": [],
   "source": [
    "gen_pt_vals = yvals[\"gen_pt\"][msk_lep][jet_lep_combs_arg['1'][drs_jet_lep>0.5]]\n",
    "cand_pt_vals = yvals[\"cand_pt\"][msk_lep][jet_lep_combs_arg['1'][drs_jet_lep>0.5]]\n",
    "pred_pt_vals = yvals[\"pred_pt\"][msk_lep][jet_lep_combs_arg['1'][drs_jet_lep>0.5]]\n",
    "\n",
    "b = np.linspace(0,200,100)\n",
    "plt.hist(awkward.flatten(gen_pt_vals[gen_pt_vals>0]), bins=b, histtype=\"step\", lw=2, label=\"gen\");\n",
    "plt.hist(awkward.flatten(cand_pt_vals[cand_pt_vals>0]), bins=b, histtype=\"step\", lw=2, label=\"PF\");\n",
    "plt.hist(awkward.flatten(pred_pt_vals[pred_pt_vals>0]), bins=b, histtype=\"step\", lw=2, label=\"MLPF\");\n",
    "plt.legend(title=\"ch.leptons, $\\Delta R_{jet} > 0.5$\")\n",
    "plt.yscale(\"log\")\n",
    "plt.xlabel(\"particle $p_T$ [GeV]\")\n",
    "plt.ylabel(\"Number of particles / bin\")\n",
    "plt.savefig(\"lepton_pt_dr_greater0p5.pdf\")"
   ]
  },
  {
   "cell_type": "code",
   "execution_count": null,
   "id": "3dc7d4bd-809e-41ae-bbab-918abe05cc76",
   "metadata": {},
   "outputs": [],
   "source": [
    "b = np.linspace(0,5,100)\n",
    "plt.hist(awkward.flatten(drs), bins=b, histtype=\"step\", lw=2, label=\"gen.jet-gen.jet $\\Delta R$\");\n",
    "plt.hist(awkward.flatten(drs_jet_lep), bins=b, histtype=\"step\", lw=2, label=\"gen.jet-gen.lepton $\\Delta R$\");\n",
    "plt.legend()\n",
    "plt.xlabel(\"$\\Delta R$\")\n",
    "plt.ylabel(\"pairs / bin\")\n",
    "plt.savefig(\"jet_lepton_dr.pdf\")"
   ]
  }
 ],
 "metadata": {
  "kernelspec": {
   "display_name": "Python 3 (ipykernel)",
   "language": "python",
   "name": "python3"
  },
  "language_info": {
   "codemirror_mode": {
    "name": "ipython",
    "version": 3
   },
   "file_extension": ".py",
   "mimetype": "text/x-python",
   "name": "python",
   "nbconvert_exporter": "python",
   "pygments_lexer": "ipython3",
   "version": "3.10.13"
  }
 },
 "nbformat": 4,
 "nbformat_minor": 5
}
