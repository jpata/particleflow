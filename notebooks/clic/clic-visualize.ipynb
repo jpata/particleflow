{
 "cells": [
  {
   "cell_type": "code",
   "execution_count": null,
   "id": "10d72c28",
   "metadata": {
    "tags": []
   },
   "outputs": [],
   "source": [
    "%matplotlib inline"
   ]
  },
  {
   "cell_type": "code",
   "execution_count": null,
   "id": "b3e2b13c-ed1d-4c6b-ab6b-c48eb4b3f275",
   "metadata": {
    "tags": []
   },
   "outputs": [],
   "source": [
    "import sys"
   ]
  },
  {
   "cell_type": "code",
   "execution_count": null,
   "id": "088f63e0",
   "metadata": {
    "tags": []
   },
   "outputs": [],
   "source": [
    "import uproot\n",
    "import numpy as np\n",
    "import awkward\n",
    "\n",
    "import pandas\n",
    "\n",
    "import matplotlib.pyplot as plt"
   ]
  },
  {
   "cell_type": "code",
   "execution_count": null,
   "id": "b5c9bf64",
   "metadata": {
    "tags": []
   },
   "outputs": [],
   "source": [
    "def hits_to_features(hit_data, iev, coll, feats):\n",
    "    \n",
    "    if \"TrackerHit\" in coll:\n",
    "        new_feats = []\n",
    "        for feat in feats:\n",
    "            feat_to_get = feat\n",
    "            if feat == \"energy\":\n",
    "                feat_to_get = \"eDep\"\n",
    "            new_feats.append((feat, feat_to_get))\n",
    "    else:\n",
    "        new_feats = [(f, f) for f in feats]\n",
    "        \n",
    "    feat_arr = {f1: hit_data[coll + \".\" + f2][iev] for f1, f2 in new_feats}\n",
    "\n",
    "    sdcoll = \"subdetector\"\n",
    "    feat_arr[sdcoll] = np.zeros(len(feat_arr[\"type\"]), dtype=np.int32)\n",
    "    if coll.startswith(\"ECAL\"):\n",
    "        feat_arr[sdcoll][:] = 0\n",
    "    elif coll.startswith(\"HCAL\"):\n",
    "        feat_arr[sdcoll][:] = 1\n",
    "    elif coll.startswith(\"MUON\"):\n",
    "        feat_arr[sdcoll][:] = 2\n",
    "    else:\n",
    "        feat_arr[sdcoll][:] = 3\n",
    "    return awkward.Record(feat_arr)"
   ]
  },
  {
   "cell_type": "code",
   "execution_count": null,
   "id": "6e577c86",
   "metadata": {
    "tags": []
   },
   "outputs": [],
   "source": [
    "fi = uproot.open(\"reco_p8_ee_tt_ecm380_1302.root\")\n",
    "ev = fi[\"events\"]\n",
    "\n",
    "iev = 1"
   ]
  },
  {
   "cell_type": "code",
   "execution_count": null,
   "id": "9f8364d2",
   "metadata": {
    "tags": []
   },
   "outputs": [],
   "source": [
    "collectionIDs = {k: v for k, v in\n",
    "    zip(fi.get(\"metadata\").arrays(\"CollectionIDs\")[\"CollectionIDs\"][\"m_names\"][0],\n",
    "    fi.get(\"metadata\").arrays(\"CollectionIDs\")[\"CollectionIDs\"][\"m_collectionIDs\"][0])}\n",
    "collectionIDs_reverse = {v: k for k, v in collectionIDs.items()}\n",
    "\n",
    "hit_data = {\n",
    "    \"VXDTrackerHits\": ev[\"VXDTrackerHits\"].array(),\n",
    "    \"VXDEndcapTrackerHits\": ev[\"VXDEndcapTrackerHits\"].array(),\n",
    "    \"ITrackerHits\": ev[\"ITrackerHits\"].array(),\n",
    "    \"OTrackerHits\": ev[\"OTrackerHits\"].array(),\n",
    "    \"ECALBarrel\": ev[\"ECALBarrel\"].array(),\n",
    "    \"ECALEndcap\": ev[\"ECALEndcap\"].array(),\n",
    "    \"ECALOther\": ev[\"ECALOther\"].array(),\n",
    "    \"HCALBarrel\": ev[\"HCALBarrel\"].array(),\n",
    "    \"HCALEndcap\": ev[\"HCALEndcap\"].array(),\n",
    "    \"HCALOther\": ev[\"HCALOther\"].array(),\n",
    "    \"MUON\": ev[\"MUON\"].array(),\n",
    "}\n",
    "    \n",
    "feats = [\"position.x\", \"position.y\", \"position.z\", \"energy\", \"type\"]\n",
    "\n",
    "hit_feature_matrix = []\n",
    "for col in sorted(hit_data.keys()):\n",
    "    icol = collectionIDs[col]\n",
    "    hit_features = hits_to_features(hit_data[col], iev, col, feats)\n",
    "    hit_feature_matrix.append(hit_features)\n",
    "    \n",
    "hit_feature_matrix = awkward.Record({\n",
    "    k: awkward.concatenate([hit_feature_matrix[i][k] for i in range(len(hit_feature_matrix))]) for k in hit_feature_matrix[0].fields})"
   ]
  },
  {
   "cell_type": "code",
   "execution_count": null,
   "id": "b306fa60-4431-408e-b733-c537c1c9c1ab",
   "metadata": {
    "tags": []
   },
   "outputs": [],
   "source": [
    "msk_gen = ev[\"MCParticles/MCParticles.generatorStatus\"].array()==1"
   ]
  },
  {
   "cell_type": "code",
   "execution_count": null,
   "id": "26d67c20-4211-437f-9f78-dfbf5d291ca6",
   "metadata": {
    "tags": []
   },
   "outputs": [],
   "source": [
    "px = ev[\"MCParticles/MCParticles.momentum.x\"].array()[msk_gen][iev]\n",
    "py = ev[\"MCParticles/MCParticles.momentum.y\"].array()[msk_gen][iev]\n",
    "pz = ev[\"MCParticles/MCParticles.momentum.z\"].array()[msk_gen][iev]\n",
    "mass = ev[\"MCParticles/MCParticles.mass\"].array()[msk_gen][iev]\n",
    "charge = ev[\"MCParticles/MCParticles.charge\"].array()[msk_gen][iev]"
   ]
  },
  {
   "cell_type": "code",
   "execution_count": null,
   "id": "399439f1",
   "metadata": {
    "tags": []
   },
   "outputs": [],
   "source": [
    "df = pandas.DataFrame()\n",
    "df[\"px\"] = hit_feature_matrix[\"position.x\"].to_numpy()\n",
    "df[\"py\"] = hit_feature_matrix[\"position.y\"].to_numpy()\n",
    "df[\"pz\"] = hit_feature_matrix[\"position.z\"].to_numpy()\n",
    "df[\"energy\"] = 1000*hit_feature_matrix[\"energy\"].to_numpy()\n",
    "df[\"plotsize\"] = 0\n",
    "df[\"subdetector\"] = hit_feature_matrix[\"subdetector\"].to_numpy()"
   ]
  },
  {
   "cell_type": "code",
   "execution_count": null,
   "id": "aa8d68a6-b03c-48a4-ab33-e6a83027bbb2",
   "metadata": {
    "tags": []
   },
   "outputs": [],
   "source": [
    "df.loc[df[\"subdetector\"]==0, \"plotsize\"] = df.loc[df[\"subdetector\"]==0, \"energy\"]/5\n",
    "df.loc[df[\"subdetector\"]==1, \"plotsize\"] = df.loc[df[\"subdetector\"]==1, \"energy\"]/10\n",
    "df.loc[df[\"subdetector\"]==2, \"plotsize\"] = df.loc[df[\"subdetector\"]==2, \"energy\"]*100\n",
    "df.loc[df[\"subdetector\"]==3, \"plotsize\"] = df.loc[df[\"subdetector\"]==3, \"energy\"]*100"
   ]
  },
  {
   "cell_type": "code",
   "execution_count": null,
   "id": "97989b0d",
   "metadata": {
    "tags": []
   },
   "outputs": [],
   "source": [
    "import plotly.graph_objects as go\n",
    "import vector\n",
    "\n",
    "B = 4.0 # magnetic field in T\n",
    "c = 3e8 # speed of light in m/s\n",
    "scale = 2500\n",
    "\n",
    "mc_x = []\n",
    "mc_y = []\n",
    "mc_z = []\n",
    "for irow in range(len(px)):\n",
    "    # convert to vector\n",
    "    v = vector.obj(\n",
    "        px=px[irow],\n",
    "        py=py[irow],\n",
    "        pz=pz[irow],\n",
    "        mass=mass[irow])\n",
    "    if charge[irow] == 0:\n",
    "        # pass\n",
    "        mc_x += [0, np.clip(scale * v.px/v.mag, -2000, 2000)]\n",
    "        mc_y += [0, np.clip(scale * v.py/v.mag, -2000, 2000)]\n",
    "        mc_z += [0, np.clip(scale * v.pz/v.mag, -4000, 4000)]\n",
    "    else:\n",
    "        # radius of the helix in m\n",
    "        R = v.pt / (np.abs(charge[irow]) * 0.3 * B)\n",
    "        # angular frequency\n",
    "        omega = np.abs(charge[irow]) * 0.3 * B / (v.gamma * v.mass)\n",
    "        # time values\n",
    "        t_values = np.linspace(0, 1/(c * v.beta), 50)\n",
    "        # trajectory in 3D space\n",
    "        mc_x += list(scale * R * np.cos(omega * c * t_values + v.phi - np.pi/2) - scale * R * np.cos(v.phi - np.pi/2))\n",
    "        mc_y += list(scale * R * np.sin(omega * c * t_values + v.phi - np.pi/2) - scale * R * np.sin(v.phi - np.pi/2))\n",
    "        mc_z += list(scale * v.pz * c * t_values / (v.gamma * v.mass))\n",
    "        \n",
    "    mc_x += [None]\n",
    "    mc_y += [None]\n",
    "    mc_z += [None]\n",
    "\n",
    "\n",
    "fig = go.Figure(\n",
    "    data=[\n",
    "        go.Scatter3d(\n",
    "            x=np.clip(df[\"px\"], -2000, 2000),\n",
    "            y=np.clip(df[\"py\"], -2000, 2000),\n",
    "            z=np.clip(df[\"pz\"], -4000, 4000),\n",
    "            mode='markers',\n",
    "            marker=dict(\n",
    "                size=np.clip(2+2*np.log(df[\"plotsize\"]), 1, 15),\n",
    "                color=df[\"subdetector\"],\n",
    "                colorscale='Viridis',\n",
    "                opacity=0.8,\n",
    "            )\n",
    "        ),\n",
    "        go.Scatter3d(\n",
    "            x=mc_x,\n",
    "            y=mc_y,\n",
    "            z=mc_z,\n",
    "            mode='lines',\n",
    "        )\n",
    "    ],\n",
    ")\n",
    "fig.update_traces(marker_line_width=0, selector=dict(type='scatter3d'))\n",
    "fig.update_layout(\n",
    "    width=1000,\n",
    "    height=1000,\n",
    "    margin=dict(l=20, r=20, t=20, b=20),\n",
    ")\n",
    "fig.update_layout(\n",
    "    scene=dict(\n",
    "        xaxis=dict(showgrid=False, showticklabels=False, range=[-2000, 2000]),\n",
    "        yaxis=dict(showgrid=False, showticklabels=False, range=[-4000, 4000]),\n",
    "        zaxis=dict(showgrid=False, showticklabels=False, range=[-2000, 2000]),\n",
    "    ),\n",
    "    scene_camera=dict(\n",
    "        up=dict(x=0, y=1, z=0),\n",
    "        center=dict(x=0, y=0, z=0),\n",
    "        eye=dict(\n",
    "            x=1.2,\n",
    "            y=0.8,\n",
    "            z=0\n",
    "        )\n",
    "    ),\n",
    "    showlegend=False\n",
    ")\n",
    "\n",
    "# uncomment this to create a rotating animation\n",
    "# idx = 0\n",
    "# for angle in range(0, 360, 1):\n",
    "#     camera = dict(\n",
    "#         up=dict(x=0, y=1, z=1),\n",
    "#         center=dict(x=0, y=0, z=0),\n",
    "#         eye=dict(x=1.2 * np.cos(np.radians(angle)),\n",
    "#                  y=0.8,\n",
    "#                  z=1.2 * np.sin(np.radians(angle)))\n",
    "#     )\n",
    "#     fig.update_layout(scene_camera=camera)\n",
    "#     frame_filename = f\"frame_{idx:03d}.png\"\n",
    "#     idx += 1\n",
    "#     fig.write_image(frame_filename, scale=2)"
   ]
  },
  {
   "cell_type": "markdown",
   "id": "70561f34-e691-4649-adf2-4d80676179df",
   "metadata": {},
   "source": [
    "Now compile the video with\n",
    "```\n",
    "ffmpeg -framerate 10 -pattern_type glob -i '*.png' -c:v libx264 -pix_fmt yuv420p out.mp4\n",
    "```"
   ]
  },
  {
   "cell_type": "code",
   "execution_count": null,
   "id": "bf5e1e37-0577-49fe-a1dc-5de2f748e786",
   "metadata": {},
   "outputs": [],
   "source": []
  }
 ],
 "metadata": {
  "kernelspec": {
   "display_name": "Python 3 (ipykernel)",
   "language": "python",
   "name": "python3"
  },
  "language_info": {
   "codemirror_mode": {
    "name": "ipython",
    "version": 3
   },
   "file_extension": ".py",
   "mimetype": "text/x-python",
   "name": "python",
   "nbconvert_exporter": "python",
   "pygments_lexer": "ipython3",
   "version": "3.11.0"
  }
 },
 "nbformat": 4,
 "nbformat_minor": 5
}
