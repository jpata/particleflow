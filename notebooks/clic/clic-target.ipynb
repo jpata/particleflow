{
 "cells": [
  {
   "cell_type": "code",
   "execution_count": 361,
   "id": "8be8d2ea-3eff-4fdf-8849-2ace18285d3b",
   "metadata": {},
   "outputs": [],
   "source": [
    "import awkward\n",
    "import uproot\n",
    "import bz2\n",
    "import pyhepmc\n",
    "import matplotlib\n",
    "import matplotlib.pyplot as plt\n",
    "import numpy as np\n",
    "import fastjet\n",
    "import vector\n",
    "import awkward\n",
    "\n",
    "import sys\n",
    "sys.path.append(\"../../mlpf/\")\n",
    "\n",
    "import jet_utils"
   ]
  },
  {
   "cell_type": "code",
   "execution_count": 362,
   "id": "d54ac8b1-78de-47ef-bcf1-73683de176b9",
   "metadata": {},
   "outputs": [],
   "source": [
    "# static const int BITCreatedInSimulation = 30;\\n\n",
    "# static const int BITBackscatter = 29 ;\\n\n",
    "# static const int BITVertexIsNotEndpointOfParent = 28 ;  \\n\n",
    "# static const int BITDecayedInTracker = 27 ; \\n\n",
    "# static const int BITDecayedInCalorimeter = 26 ;   \\n\n",
    "# static const int BITLeftDetector = 25 ;     \\n\n",
    "# static const int BITStopped = 24 ;    \\n\n",
    "# static const int BITOverlay = 23 ;    \\n\n",
    "# virtual bool \tisCreatedInSimulation () const =0\n",
    "#  \tTrue if the particle has been created by the simulation program (rather than the generator). More...\n",
    " \n",
    "# virtual bool \tisBackscatter () const =0\n",
    "#  \tTrue if the particle was created by the simulator as a result of an interaction or decay in non-tracking region, e.g. More...\n",
    " \n",
    "# virtual bool \tvertexIsNotEndpointOfParent () const =0\n",
    "#  \tTrue if the particle was created as a result of a continuous process where the parent particle continues, i.e. More...\n",
    " \n",
    "# virtual bool \tisDecayedInTracker () const =0\n",
    "#  \tTrue if the particle decayed or interacted in a tracking region. More...\n",
    " \n",
    "# virtual bool \tisDecayedInCalorimeter () const =0\n",
    "#  \tTrue if the particle decayed or interacted (non-continuous interaction, particle terminated) in non-tracking region. More...\n",
    " \n",
    "# virtual bool \thasLeftDetector () const =0\n",
    "#  \tTrue if the particle left the world volume undecayed. More...\n",
    " \n",
    "# virtual bool \tisStopped () const =0\n",
    "#  \tTrue if the particle lost all kinetic energy inside the world volume and did not decay. More...\n",
    " \n",
    "# virtual bool \tisOverlay () const =0\n",
    "#  \tTrue if the particle has been overlayed by the simulation (or digitization) program. More...\n",
    "\n",
    "def check_bit(bitfield, bit):\n",
    "    return np.bitwise_and(bitfield, np.left_shift(1, bit))!=0"
   ]
  },
  {
   "cell_type": "code",
   "execution_count": 363,
   "id": "1240ecd2-2a96-4cbc-b598-b8d22d898165",
   "metadata": {},
   "outputs": [],
   "source": [
    "jetdef = fastjet.JetDefinition(fastjet.ee_genkt_algorithm, 0.4, -1.0)\n",
    "min_pt = 5\n",
    "\n",
    "def load_hepmc(hepmc_file_path):\n",
    "    events = []\n",
    "    # with pyhepmc.open(bz2.BZ2File(hepmc_file_path, \"rb\")) as f:\n",
    "    with pyhepmc.open(hepmc_file_path) as f:\n",
    "        for event in f:\n",
    "            parts = [p for p in event.particles if p.status == 1]\n",
    "            parts = {\n",
    "                \"MCParticles.momentum.x\": [p.momentum.x for p in parts],\n",
    "                \"MCParticles.momentum.y\": [p.momentum.y for p in parts],\n",
    "                \"MCParticles.momentum.z\": [p.momentum.z for p in parts],\n",
    "                \"MCParticles.mass\": [p.momentum.m() for p in parts],\n",
    "                \"MCParticles.PDG\": [p.pid for p in parts],\n",
    "                \"MCParticles.generatorStatus\": [p.status for p in parts],\n",
    "                \"MCParticles.num_children\": [len(p.children) for p in parts],\n",
    "            }\n",
    "            events.append(parts)\n",
    "    events = awkward.from_iter(events)\n",
    "    return events\n",
    "\n",
    "def to_p4(invec):\n",
    "    vec = vector.awk(\n",
    "        awkward.zip(\n",
    "            {   \n",
    "                \"px\": invec.px,\n",
    "                \"py\": invec.py,\n",
    "                \"pz\": invec.pz,\n",
    "                \"energy\": invec.E,\n",
    "            }\n",
    "        )\n",
    "    )\n",
    "    return vec\n",
    "\n",
    "def to_p4_sph(invec):\n",
    "    vec = vector.awk(\n",
    "        awkward.zip(\n",
    "            {   \n",
    "                \"pt\": invec.pt,\n",
    "                \"eta\": invec.eta,\n",
    "                \"phi\": invec.phi,\n",
    "                \"energy\": invec.E,\n",
    "            }\n",
    "        )\n",
    "    )\n",
    "    return vec\n",
    "def reconstruct_jets(particles):\n",
    "    vec_ptcls = vector.awk(\n",
    "        awkward.zip(\n",
    "            {   \n",
    "                \"px\": particles[\"MCParticles.momentum.x\"],\n",
    "                \"py\": particles[\"MCParticles.momentum.y\"],\n",
    "                \"pz\": particles[\"MCParticles.momentum.z\"],\n",
    "                \"mass\": particles[\"MCParticles.mass\"],\n",
    "            }\n",
    "        )\n",
    "    )\n",
    "    \n",
    "    cluster = fastjet.ClusterSequence(vec_ptcls.to_xyzt(), jetdef)\n",
    "    return cluster.inclusive_jets(min_pt=min_pt)"
   ]
  },
  {
   "cell_type": "code",
   "execution_count": 364,
   "id": "c69887ef-ffae-4f29-9587-88723866fa3d",
   "metadata": {},
   "outputs": [],
   "source": [
    "fi = uproot.open(\"/scratch/local/joosep/p8_ee_tt_ecm380_/out_sim_edm4hep.root\")\n",
    "tt = fi[\"events\"]"
   ]
  },
  {
   "cell_type": "code",
   "execution_count": 365,
   "id": "45af99b1-1538-4c64-aa69-a820974ba4d3",
   "metadata": {},
   "outputs": [],
   "source": [
    "mc_edm4hep = tt.arrays([\n",
    "    \"MCParticles.PDG\",\n",
    "    \"MCParticles.momentum.x\",\n",
    "    \"MCParticles.momentum.y\",\n",
    "    \"MCParticles.momentum.z\",\n",
    "    \"MCParticles.momentumAtEndpoint.x\",\n",
    "    \"MCParticles.momentumAtEndpoint.y\",\n",
    "    \"MCParticles.momentumAtEndpoint.z\",\n",
    "    \"MCParticles.mass\",\n",
    "    \"MCParticles.charge\",\n",
    "    \"MCParticles.generatorStatus\",\n",
    "    \"MCParticles.simulatorStatus\",\n",
    "    \"MCParticles.parents_begin\",\n",
    "    \"MCParticles.parents_end\",\n",
    "    \"MCParticles.daughters_begin\",\n",
    "    \"MCParticles.daughters_end\",\n",
    "])\n",
    "\n",
    "vec_ptcls = vector.awk(\n",
    "    awkward.zip(\n",
    "        {   \n",
    "            \"px\": mc_edm4hep[\"MCParticles.momentum.x\"],\n",
    "            \"py\": mc_edm4hep[\"MCParticles.momentum.y\"],\n",
    "            \"pz\": mc_edm4hep[\"MCParticles.momentum.z\"],\n",
    "            \"mass\": mc_edm4hep[\"MCParticles.mass\"],\n",
    "        }\n",
    "    )\n",
    ")\n",
    "\n",
    "mc_edm4hep[\"MCParticles.pt\"] = vec_ptcls.pt\n",
    "mc_edm4hep[\"MCParticles.eta\"] = vec_ptcls.eta\n",
    "mc_edm4hep[\"MCParticles.phi\"] = vec_ptcls.phi\n",
    "\n",
    "mc_edm4hep[\"MCParticles.BitStopped\"] = check_bit(mc_edm4hep[\"MCParticles.simulatorStatus\"], 24)\n",
    "mc_edm4hep[\"MCParticles.BitLeftDetector\"] = check_bit(mc_edm4hep[\"MCParticles.simulatorStatus\"], 25)\n",
    "mc_edm4hep[\"MCParticles.BitDecayedInCalorimeter\"] = check_bit(mc_edm4hep[\"MCParticles.simulatorStatus\"], 26)\n",
    "mc_edm4hep[\"MCParticles.BitDecayedInTracker\"] = check_bit(mc_edm4hep[\"MCParticles.simulatorStatus\"], 27)\n",
    "mc_edm4hep[\"MCParticles.BitVertexIsNotEndpointOfParent\"] = check_bit(mc_edm4hep[\"MCParticles.simulatorStatus\"], 28)\n",
    "mc_edm4hep[\"MCParticles.BitBackscatter\"] = check_bit(mc_edm4hep[\"MCParticles.simulatorStatus\"], 29)\n"
   ]
  },
  {
   "cell_type": "code",
   "execution_count": 366,
   "id": "922380a4-1e38-462e-97dc-69acfbe3ebdb",
   "metadata": {},
   "outputs": [],
   "source": [
    "mc_st0 = mc_edm4hep[mc_edm4hep[\"MCParticles.generatorStatus\"]==0]\n",
    "mc_st1 = mc_edm4hep[mc_edm4hep[\"MCParticles.generatorStatus\"]==1]\n",
    "mc_st2 = mc_edm4hep[mc_edm4hep[\"MCParticles.generatorStatus\"]==2]"
   ]
  },
  {
   "cell_type": "code",
   "execution_count": 369,
   "id": "fdbe6755-fbc4-4000-97d6-87c2a6207f26",
   "metadata": {},
   "outputs": [
    {
     "data": {
      "text/plain": [
       "0"
      ]
     },
     "execution_count": 369,
     "metadata": {},
     "output_type": "execute_result"
    }
   ],
   "source": [
    "np.sum(mc_st1[\"MCParticles.PDG\"]==5)"
   ]
  },
  {
   "cell_type": "code",
   "execution_count": 360,
   "id": "5344153f-3571-4f5f-ad34-1c9abfe95df5",
   "metadata": {},
   "outputs": [
    {
     "data": {
      "text/html": [
       "<pre>{&#x27;MCParticles.PDG&#x27;: [11, 11, -11],\n",
       " &#x27;MCParticles.pt&#x27;: [10.1, 10.1, 11.4],\n",
       " &#x27;MCParticles.eta&#x27;: [-1.02, -1.03, -1.03],\n",
       " &#x27;MCParticles.phi&#x27;: [-0.115, -0.117, -0.117]}\n",
       "---------------------------------------------\n",
       "type: {\n",
       "    &quot;MCParticles.PDG&quot;: var * int32,\n",
       "    &quot;MCParticles.pt&quot;: var * float32,\n",
       "    &quot;MCParticles.eta&quot;: var * float32,\n",
       "    &quot;MCParticles.phi&quot;: var * float32\n",
       "}</pre>"
      ],
      "text/plain": [
       "<Record {'MCParticles.PDG': [...], ...} type='{\"MCParticles.PDG\": var * int...'>"
      ]
     },
     "execution_count": 360,
     "metadata": {},
     "output_type": "execute_result"
    }
   ],
   "source": [
    "mc_st0[mc_st0[\"MCParticles.pt\"]>10][90][['MCParticles.PDG', 'MCParticles.pt', 'MCParticles.eta', 'MCParticles.phi']]"
   ]
  },
  {
   "cell_type": "code",
   "execution_count": 359,
   "id": "dcc5554e-f396-4f53-bf83-da6c7f1db8b9",
   "metadata": {},
   "outputs": [
    {
     "data": {
      "text/html": [
       "<pre>{&#x27;MCParticles.PDG&#x27;: [-13, 321, 130, 22, 22, 22],\n",
       " &#x27;MCParticles.pt&#x27;: [13.6, 23.1, 15.2, 10.7, 21.4, 12.7],\n",
       " &#x27;MCParticles.eta&#x27;: [-0.188, -0.109, 2.3, -1.02, -1.03, 0.281],\n",
       " &#x27;MCParticles.phi&#x27;: [1.86, 2.02, -2.35, -0.115, -0.117, -1.05]}\n",
       "---------------------------------------------------------------\n",
       "type: {\n",
       "    &quot;MCParticles.PDG&quot;: var * int32,\n",
       "    &quot;MCParticles.pt&quot;: var * float32,\n",
       "    &quot;MCParticles.eta&quot;: var * float32,\n",
       "    &quot;MCParticles.phi&quot;: var * float32\n",
       "}</pre>"
      ],
      "text/plain": [
       "<Record {'MCParticles.PDG': [...], ...} type='{\"MCParticles.PDG\": var * int...'>"
      ]
     },
     "execution_count": 359,
     "metadata": {},
     "output_type": "execute_result"
    }
   ],
   "source": [
    "mc_st1[mc_st1[\"MCParticles.pt\"]>10][90][['MCParticles.PDG', 'MCParticles.pt', 'MCParticles.eta', 'MCParticles.phi']]"
   ]
  },
  {
   "cell_type": "code",
   "execution_count": 205,
   "id": "49d268ca-5ee4-402c-9ac2-c1f4aefbdafb",
   "metadata": {},
   "outputs": [],
   "source": [
    "jets_mc = to_p4_sph(reconstruct_jets(mc_st1))"
   ]
  },
  {
   "cell_type": "code",
   "execution_count": 206,
   "id": "bc01062a-74d3-49c9-b880-def74b9e79ee",
   "metadata": {},
   "outputs": [],
   "source": [
    "hepmc = load_hepmc(\"/home/joosep/p8_ee_tt_ecm380_/out.hepmc\")\n",
    "jets_hepmc = to_p4_sph(reconstruct_jets(hepmc))"
   ]
  },
  {
   "cell_type": "code",
   "execution_count": 207,
   "id": "e9a25e6d-b4d0-4cab-9ee3-f6ad5469202a",
   "metadata": {},
   "outputs": [
    {
     "data": {
      "image/png": "[encoded data removed]",
      "text/plain": [
       "<Figure size 640x480 with 1 Axes>"
      ]
     },
     "metadata": {},
     "output_type": "display_data"
    }
   ],
   "source": [
    "ret = jet_utils.match_jets(jets_mc, jets_hepmc, 0.1)\n",
    "j1_idx = awkward.from_iter(ret[0])\n",
    "j2_idx = awkward.from_iter(ret[1])\n",
    "gj_pt = awkward.flatten(jets_mc[j1_idx].pt)\n",
    "tj_pt = awkward.flatten(jets_hepmc[j2_idx].pt)\n",
    "plt.hist((tj_pt/gj_pt), bins=100, histtype=\"step\", label=\"target/truth\");"
   ]
  },
  {
   "cell_type": "code",
   "execution_count": 208,
   "id": "9cd6f0db-e078-4f38-b18c-e0c71b7b52f7",
   "metadata": {},
   "outputs": [
    {
     "data": {
      "text/plain": [
       "-2.132480599880018e-06"
      ]
     },
     "execution_count": 208,
     "metadata": {},
     "output_type": "execute_result"
    }
   ],
   "source": [
    "np.min(awkward.flatten(hepmc[\"MCParticles.mass\"]) - awkward.flatten(mc_st1[\"MCParticles.mass\"]))"
   ]
  },
  {
   "cell_type": "code",
   "execution_count": 209,
   "id": "11002142-33ce-4104-97f2-439350e72de2",
   "metadata": {},
   "outputs": [
    {
     "data": {
      "text/plain": [
       "<matplotlib.legend.Legend at 0x7f46abf6d390>"
      ]
     },
     "execution_count": 209,
     "metadata": {},
     "output_type": "execute_result"
    },
    {
     "data": {
      "image/png": "[encoded data removed]",
      "text/plain": [
       "<Figure size 640x480 with 1 Axes>"
      ]
     },
     "metadata": {},
     "output_type": "display_data"
    }
   ],
   "source": [
    "b = np.linspace(-0.05, 0.05, 500)\n",
    "plt.hist(\n",
    "    awkward.flatten(hepmc[\"MCParticles.momentum.x\"]) - awkward.flatten(mc_st1[\"MCParticles.momentum.x\"]),\n",
    "    bins=b, histtype=\"step\", lw=1, label=\"px\"\n",
    ");\n",
    "plt.hist(\n",
    "    awkward.flatten(hepmc[\"MCParticles.momentum.y\"]) - awkward.flatten(mc_st1[\"MCParticles.momentum.y\"]),\n",
    "    bins=b, histtype=\"step\", lw=1, label=\"py\"\n",
    ");\n",
    "\n",
    "plt.hist(\n",
    "    awkward.flatten(hepmc[\"MCParticles.momentum.z\"]) - awkward.flatten(mc_st1[\"MCParticles.momentum.z\"]),\n",
    "    bins=b, histtype=\"step\", lw=1, label=\"pz\"\n",
    ");\n",
    "\n",
    "plt.hist(\n",
    "    awkward.flatten(hepmc[\"MCParticles.mass\"]) - awkward.flatten(mc_st1[\"MCParticles.mass\"]),\n",
    "    bins=b, histtype=\"step\", lw=1, label=\"pz\"\n",
    ");\n",
    "\n",
    "plt.xlabel(\"hepmc - edm4hep\")\n",
    "plt.yscale(\"log\")\n",
    "plt.legend()"
   ]
  },
  {
   "cell_type": "code",
   "execution_count": null,
   "id": "50c2a3cf-9b70-47e3-9ccc-e35c2e7669a1",
   "metadata": {},
   "outputs": [],
   "source": []
  }
 ],
 "metadata": {
  "kernelspec": {
   "display_name": "Python 3 (ipykernel)",
   "language": "python",
   "name": "python3"
  },
  "language_info": {
   "codemirror_mode": {
    "name": "ipython",
    "version": 3
   },
   "file_extension": ".py",
   "mimetype": "text/x-python",
   "name": "python",
   "nbconvert_exporter": "python",
   "pygments_lexer": "ipython3",
   "version": "3.11.9"
  }
 },
 "nbformat": 4,
 "nbformat_minor": 5
}
