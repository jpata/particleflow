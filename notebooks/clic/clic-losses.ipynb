{
 "cells": [
  {
   "cell_type": "code",
   "execution_count": null,
   "id": "778e24d7-bac6-4bd5-9059-da06dca73a14",
   "metadata": {},
   "outputs": [],
   "source": [
    "import pandas\n",
    "import matplotlib.pyplot as plt\n",
    "import numpy as np\n",
    "import glob\n",
    "import json"
   ]
  },
  {
   "cell_type": "code",
   "execution_count": null,
   "id": "bc7e6ac1-cde1-4e0f-b73b-24247acda5e5",
   "metadata": {},
   "outputs": [],
   "source": [
    "from scipy.ndimage import uniform_filter1d"
   ]
  },
  {
   "cell_type": "code",
   "execution_count": null,
   "id": "77efc4ed-0c81-46f1-a0d5-688e1a6b54a4",
   "metadata": {},
   "outputs": [],
   "source": [
    "hf_path = \"/home/joosep/huggingface/particleflow/\""
   ]
  },
  {
   "cell_type": "code",
   "execution_count": null,
   "id": "fbde6564-9dc2-4974-ab4b-dbb48dae4f1b",
   "metadata": {},
   "outputs": [],
   "source": [
    "df1 = pandas.read_csv(hf_path + \"/clic/clusters/v2.3.0/pyg-clic_20250204_081614_352844/pyg-clic_20250204_081614_352844_runs_train.csv\")\n",
    "df2 = pandas.read_csv(hf_path + \"/clic/clusters/v2.3.0/pyg-clic_20250211_145811_219129/pyg-clic_20250211_145811_219129_runs_train.csv\")\n",
    "df3 = pandas.read_csv(hf_path + \"/clic/clusters/v2.3.0/pyg-clic_20250130_214007_333962/pyg-clic_20250130_214007_333962_runs_train.csv\")\n",
    "\n",
    "df1[\"RelTime\"] = (df1[\"Wall time\"] - df1[\"Wall time\"][0])/3600\n",
    "df2[\"RelTime\"] = (df2[\"Wall time\"] - df2[\"Wall time\"][0])/3600\n",
    "df3[\"RelTime\"] = (df3[\"Wall time\"] - df3[\"Wall time\"][0])/3600\n",
    "\n",
    "time_window = 20\n",
    "normval = uniform_filter1d(df3[\"Value\"], time_window)[-1]\n",
    "df1[\"Value\"] = df1[\"Value\"]/normval\n",
    "df2[\"Value\"] = df2[\"Value\"]/normval\n",
    "df3[\"Value\"] = df3[\"Value\"]/normval"
   ]
  },
  {
   "cell_type": "code",
   "execution_count": null,
   "id": "2a3f4daf-91d9-4783-a40e-125ddb597905",
   "metadata": {},
   "outputs": [],
   "source": [
    "plt.figure(figsize=(6,3))\n",
    "p = plt.plot(df1[\"RelTime\"], df1[\"Value\"], alpha=0.2)\n",
    "plt.plot(df1[\"RelTime\"], uniform_filter1d(df1[\"Value\"], time_window), color=p[0].get_color(), label=\"GNNLSH\")\n",
    "\n",
    "p = plt.plot(df2[\"RelTime\"], df2[\"Value\"], alpha=0.2)\n",
    "plt.plot(df2[\"RelTime\"], uniform_filter1d(df2[\"Value\"], time_window), color=p[0].get_color(), label=\"full transformer\")\n",
    "\n",
    "p = plt.plot(df3[\"RelTime\"], df3[\"Value\"], alpha=0.2)\n",
    "plt.plot(df3[\"RelTime\"], uniform_filter1d(df3[\"Value\"], time_window), color=p[0].get_color(), label=\"full transformer+FlashAttention\")\n",
    "\n",
    "plt.xlim(-1,75)\n",
    "plt.ylim(0.5, 4)\n",
    "\n",
    "plt.legend(loc=\"best\", frameon=False)\n",
    "plt.ylabel(\"Relative training loss\")\n",
    "plt.xlabel(\"Training time [hours]\")\n",
    "plt.savefig(\"step_train_loss.pdf\", bbox_inches=\"tight\")"
   ]
  },
  {
   "cell_type": "code",
   "execution_count": null,
   "id": "08c8d416-4563-414b-b230-8e7567ed3599",
   "metadata": {},
   "outputs": [],
   "source": [
    "def load_history(path, min_epoch=None, max_epoch=None):\n",
    "    ret = {}\n",
    "    for fi in glob.glob(path):\n",
    "        data = json.load(open(fi))\n",
    "        data2 = {}\n",
    "        for k1 in [\"train\", \"valid\"]:\n",
    "            for k2 in data[k1].keys():\n",
    "                data2[f\"{k1}_{k2}\"] = data[k1][k2]\n",
    "        epoch = int(fi.split(\"_\")[-1].split(\".\")[0])\n",
    "        ret[epoch] = data2\n",
    "\n",
    "    if not max_epoch:\n",
    "        max_epoch = max(ret.keys())\n",
    "    if not min_epoch:\n",
    "        min_epoch = min(ret.keys())\n",
    "\n",
    "    ret2 = []\n",
    "    for i in range(min_epoch, max_epoch + 1):\n",
    "        ret2.append(ret[i])\n",
    "    \n",
    "    return pandas.DataFrame(ret2)"
   ]
  },
  {
   "cell_type": "code",
   "execution_count": null,
   "id": "9fab59f4-98a9-48ee-9a4b-626dc3b71e5f",
   "metadata": {},
   "outputs": [],
   "source": [
    "history = load_history(hf_path + \"clic/clusters/v2.2.0/pyg-clic_20250106_193536_269746/history/epoch_*.json\", max_epoch=5)\n",
    "# history = load_history(hf_path + \"clic/clusters/v2.3.0/pyg-clic_20250130_214007_333962/history/epoch_*.json\", max_epoch=10)"
   ]
  },
  {
   "cell_type": "code",
   "execution_count": null,
   "id": "23acff00-e1c6-492a-86ed-dfe31015397c",
   "metadata": {},
   "outputs": [],
   "source": [
    "val_reg_loss = np.array(sum(\n",
    "    [history[\"valid_Regression_{}\".format(l)].values for l in [\"energy\", \"pt\", \"eta\", \"sin_phi\", \"cos_phi\"]]\n",
    "))"
   ]
  },
  {
   "cell_type": "code",
   "execution_count": null,
   "id": "f892ba20-b4ee-44c8-94cc-90f0d18ea307",
   "metadata": {},
   "outputs": [],
   "source": [
    "plt.figure(figsize=(6,3))\n",
    "plt.plot(history.index, history[\"valid_Total\"], marker=\"s\", label=\"total\")\n",
    "plt.plot(history.index, history[\"valid_Classification_binary\"], marker=\"v\", label=\"primary classification\")\n",
    "plt.plot(history.index, 100*history[\"valid_Classification\"], marker=\"^\", label=\"PID classification x100\")\n",
    "plt.plot(history.index, 10*val_reg_loss, marker=\"o\", label=\"regression x10\")\n",
    "plt.legend(loc=\"best\", frameon=False)\n",
    "plt.ylim(1,3)\n",
    "plt.ylabel(\"Validation loss\")\n",
    "plt.xticks(range(0,5), range(1,6))\n",
    "plt.xlabel(\"Training epoch\")\n",
    "#plt.yscale(\"log\")\n",
    "plt.savefig(\"epoch_valid_loss.pdf\", bbox_inches=\"tight\")"
   ]
  },
  {
   "cell_type": "code",
   "execution_count": null,
   "id": "fa0505b9-fd23-4c0c-befb-11e20d8f2b25",
   "metadata": {},
   "outputs": [],
   "source": []
  }
 ],
 "metadata": {
  "kernelspec": {
   "display_name": "Python 3 (ipykernel)",
   "language": "python",
   "name": "python3"
  },
  "language_info": {
   "codemirror_mode": {
    "name": "ipython",
    "version": 3
   },
   "file_extension": ".py",
   "mimetype": "text/x-python",
   "name": "python",
   "nbconvert_exporter": "python",
   "pygments_lexer": "ipython3",
   "version": "3.11.10"
  }
 },
 "nbformat": 4,
 "nbformat_minor": 5
}
