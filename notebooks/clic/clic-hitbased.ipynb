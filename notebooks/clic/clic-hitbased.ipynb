{
 "cells": [
  {
   "cell_type": "code",
   "execution_count": null,
   "id": "foster-monte",
   "metadata": {},
   "outputs": [],
   "source": [
    "%matplotlib inline\n",
    "import numpy as np\n",
    "import matplotlib.pyplot as plt\n",
    "import glob\n",
    "import tqdm\n",
    "import awkward as ak\n",
    "import boost_histogram as bh\n",
    "import sys\n",
    "import vector\n",
    "import pickle\n",
    "import scipy\n",
    "\n",
    "import mplhep\n",
    "mplhep.style.use(mplhep.style.CMS)\n",
    "\n",
    "import sys\n",
    "sys.path.append(\"../mlpf/\")\n",
    "from plotting.plot_utils import pid_to_text, EVALUATION_DATASET_NAMES, load_eval_data"
   ]
  },
  {
   "cell_type": "code",
   "execution_count": null,
   "id": "d05b0fec",
   "metadata": {},
   "outputs": [],
   "source": [
    "yvals, X, _ = load_eval_data(\n",
    "    \"../experiments/clic-hits_20230421_213012_921390.gpu1.local/evaluation\"+\n",
    "    \"/epoch_18/clic_edm_ttbar_hits_pf/*.parquet\",\n",
    "    max_files=200)"
   ]
  },
  {
   "cell_type": "code",
   "execution_count": null,
   "id": "7bb38e96",
   "metadata": {},
   "outputs": [],
   "source": [
    "yvals[\"pred_cls_sm\"] = ak.softmax(yvals[\"pred_cls\"], axis=-1)"
   ]
  },
  {
   "cell_type": "code",
   "execution_count": null,
   "id": "ab10652c",
   "metadata": {},
   "outputs": [],
   "source": [
    "msk1=yvals[\"gen_cls_id\"]==2\n",
    "msk2=yvals[\"pred_cls_id\"]==2\n",
    "msk3=yvals[\"cand_cls_id\"]==2"
   ]
  },
  {
   "cell_type": "code",
   "execution_count": null,
   "id": "83e77dd2",
   "metadata": {},
   "outputs": [],
   "source": [
    "X[msk1][:, :, 10]"
   ]
  },
  {
   "cell_type": "code",
   "execution_count": null,
   "id": "6ca30f0b",
   "metadata": {},
   "outputs": [],
   "source": [
    "X[msk1&msk2][:, :, 10]"
   ]
  },
  {
   "cell_type": "code",
   "execution_count": null,
   "id": "94550667",
   "metadata": {},
   "outputs": [],
   "source": [
    "plt.hist2d(\n",
    "    ak.to_numpy(ak.flatten(X[msk1])[:, 7]),\n",
    "    ak.to_numpy(ak.flatten(yvals[\"pred_cls\"][msk1][:, :, 2])), bins=100);"
   ]
  },
  {
   "cell_type": "code",
   "execution_count": null,
   "id": "22233a6e",
   "metadata": {},
   "outputs": [],
   "source": [
    "b = np.logspace(-2,1,61)\n",
    "plt.hist(ak.flatten(X[msk1])[:, 5], bins=b, histtype=\"step\", lw=2)\n",
    "plt.hist(ak.flatten(X[msk1&msk2])[:, 5], bins=b, histtype=\"step\", lw=2)\n",
    "plt.hist(ak.flatten(X[msk1&msk3])[:, 5], bins=b, histtype=\"step\", lw=2)\n",
    "plt.xscale(\"log\")"
   ]
  },
  {
   "cell_type": "code",
   "execution_count": null,
   "id": "5aac5e8d",
   "metadata": {},
   "outputs": [],
   "source": [
    "iev = 7\n",
    "plt.scatter(\n",
    "    X[X[:, :, 0]==1][iev, :, 2],\n",
    "    np.arctan2(X[X[:, :, 0]==1][iev, :, 3], X[X[:, :, 0]==1][iev, :, 4]),\n",
    "    s=X[X[:, :, 0]==1][iev, :, 5]\n",
    ")\n",
    "\n",
    "plt.scatter(\n",
    "    X[X[:, :, 0]==2][iev, :, 2],\n",
    "    np.arctan2(X[X[:, :, 0]==2][iev, :, 3], X[X[:, :, 0]==2][iev, :, 4]),\n",
    "    s=X[X[:, :, 0]==2][iev, :, 5]\n",
    ")\n",
    "\n",
    "\n",
    "plt.scatter(\n",
    "    yvals[\"gen_eta\"][yvals[\"gen_cls_id\"]!=0][iev],\n",
    "    yvals[\"gen_phi\"][yvals[\"gen_cls_id\"]!=0][iev],\n",
    "    s=yvals[\"gen_energy\"][yvals[\"gen_cls_id\"]!=0][iev]\n",
    ")\n",
    "\n",
    "plt.scatter(\n",
    "    yvals[\"pred_eta\"][yvals[\"pred_cls_id\"]!=0][iev],\n",
    "    yvals[\"pred_phi\"][yvals[\"pred_cls_id\"]!=0][iev],\n",
    "    s=yvals[\"pred_energy\"][yvals[\"pred_cls_id\"]!=0][iev]\n",
    ")\n",
    "\n",
    "plt.xlim(-4,4)\n",
    "plt.ylim(-4,4)"
   ]
  },
  {
   "cell_type": "code",
   "execution_count": null,
   "id": "38f03dfc",
   "metadata": {},
   "outputs": [],
   "source": [
    "iev = 8\n",
    "plt.scatter(\n",
    "    X[X[:, :, 0]==2][iev, :, 6],\n",
    "    X[X[:, :, 0]==2][iev, :, 7],\n",
    "    s=X[X[:, :, 0]==2][iev, :, 5]\n",
    ")\n",
    "plt.xlim(-4000, 4000)\n",
    "plt.ylim(-4000, 4000)"
   ]
  },
  {
   "cell_type": "code",
   "execution_count": null,
   "id": "c6f882a2",
   "metadata": {},
   "outputs": [],
   "source": [
    "iev = 9\n",
    "msk1 = X[:, :, 0]==2\n",
    "colors = [\n",
    "    \"gray\", \"red\", \"green\", \"blue\", \"orange\", \"purple\"\n",
    "]\n",
    "for icls in range(0,6):\n",
    "    msk2 = yvals[\"gen_cls_id\"]==icls\n",
    "    mult = 5 if icls==0 else 50\n",
    "    plt.scatter(\n",
    "        X[msk1 & msk2][iev, :, 6],\n",
    "        X[msk1 & msk2][iev, :, 7],\n",
    "        s=mult*X[msk1 & msk2][iev, :, 5],\n",
    "        c=colors[icls],\n",
    "        label=icls,\n",
    "        alpha=0.2 if icls==0 else 1.0\n",
    "    )\n",
    "plt.legend()\n",
    "plt.xlim(-4000, 4000)\n",
    "plt.ylim(-4000, 4000)"
   ]
  },
  {
   "cell_type": "code",
   "execution_count": null,
   "id": "4f8d2f78",
   "metadata": {},
   "outputs": [],
   "source": [
    "for icls in range(0,6):\n",
    "    msk2 = yvals[\"pred_cls_id\"]==icls\n",
    "    mult = 5 if icls==0 else 50\n",
    "    plt.scatter(\n",
    "        X[msk1 & msk2][iev, :, 6],\n",
    "        X[msk1 & msk2][iev, :, 7],\n",
    "        s=mult*X[msk1 & msk2][iev, :, 5],\n",
    "        c=colors[icls],\n",
    "        label=icls,\n",
    "        alpha=0.2 if icls==0 else 1.0\n",
    "    )\n",
    "plt.legend()\n",
    "plt.xlim(-4000, 4000)\n",
    "plt.ylim(-4000, 4000)"
   ]
  },
  {
   "cell_type": "code",
   "execution_count": null,
   "id": "fc6e9043",
   "metadata": {},
   "outputs": [],
   "source": [
    "for icls in range(0,6):\n",
    "    msk2 = yvals[\"gen_cls_id\"]==icls\n",
    "    mult = 5 if icls==0 else 50\n",
    "    plt.scatter(\n",
    "        X[msk1 & msk2][iev, :, 6],\n",
    "        X[msk1 & msk2][iev, :, 8],\n",
    "        s=mult*X[msk1 & msk2][iev, :, 5],\n",
    "        c=colors[icls],\n",
    "        label=icls,\n",
    "        alpha=0.2 if icls==0 else 1.0\n",
    "    )\n",
    "plt.legend()\n",
    "plt.xlim(-4000, 4000)\n",
    "plt.ylim(-4000, 4000)"
   ]
  },
  {
   "cell_type": "code",
   "execution_count": null,
   "id": "25b67dcd",
   "metadata": {},
   "outputs": [],
   "source": [
    "for icls in range(0,6):\n",
    "    msk2 = yvals[\"pred_cls_id\"]==icls\n",
    "    mult = 5 if icls==0 else 50\n",
    "    plt.scatter(\n",
    "        X[msk1 & msk2][iev, :, 6],\n",
    "        X[msk1 & msk2][iev, :, 8],\n",
    "        s=mult*X[msk1 & msk2][iev, :, 5],\n",
    "        c=colors[icls],\n",
    "        label=icls,\n",
    "        alpha=0.2 if icls==0 else 1.0\n",
    "    )\n",
    "plt.legend()\n",
    "plt.xlim(-4000, 4000)\n",
    "plt.ylim(-4000, 4000)"
   ]
  },
  {
   "cell_type": "code",
   "execution_count": null,
   "id": "431cbd4a",
   "metadata": {},
   "outputs": [],
   "source": [
    "import plotly.express as px\n",
    "import pandas\n",
    "\n",
    "iev = 2\n",
    "\n",
    "df = pandas.DataFrame()\n",
    "df[\"px\"] = X[msk1][iev, :, 6].to_numpy()\n",
    "df[\"py\"] = X[msk1][iev, :, 7].to_numpy()\n",
    "df[\"pz\"] = X[msk1][iev, :, 8].to_numpy()\n",
    "df[\"energy\"] = 10*X[msk1][iev, :, 5].to_numpy()\n",
    "df[\"gen_cls_id\"] = yvals[\"gen_cls_id\"][msk1][iev].to_numpy()\n",
    "df[\"cand_cls_id\"] = yvals[\"cand_cls_id\"][msk1][iev].to_numpy()\n",
    "df[\"pred_cls_sm_0\"] = yvals[\"pred_cls_sm\"][msk1][iev, :, 0].to_numpy()\n",
    "df[\"pred_cls_sm_1\"] = yvals[\"pred_cls_sm\"][msk1][iev, :, 1].to_numpy()\n",
    "df[\"pred_cls_sm_2\"] = yvals[\"pred_cls_sm\"][msk1][iev, :, 2].to_numpy()\n",
    "df[\"pred_cls_sm_3\"] = yvals[\"pred_cls_sm\"][msk1][iev, :, 3].to_numpy()\n",
    "df[\"subdetector\"] = X[msk1][iev, :, 10].to_numpy()\n",
    "\n",
    "fig = px.scatter_3d(\n",
    "    df,\n",
    "    x='px',\n",
    "    y='pz',\n",
    "    z='py',\n",
    "    color='cand_cls_id',\n",
    "    size='energy',\n",
    "    hover_data=[\"pred_cls_sm_0\", \"pred_cls_sm_1\", \"pred_cls_sm_2\", \"pred_cls_sm_3\", \"cand_cls_id\", \"gen_cls_id\", \"subdetector\"],\n",
    "    color_continuous_scale=px.colors.diverging.Spectral)\n",
    "fig.show()"
   ]
  },
  {
   "cell_type": "code",
   "execution_count": null,
   "id": "e8bf9a68",
   "metadata": {},
   "outputs": [],
   "source": []
  }
 ],
 "metadata": {
  "celltoolbar": "Tags",
  "kernelspec": {
   "display_name": "Python 3 (ipykernel)",
   "language": "python",
   "name": "python3"
  },
  "language_info": {
   "codemirror_mode": {
    "name": "ipython",
    "version": 3
   },
   "file_extension": ".py",
   "mimetype": "text/x-python",
   "name": "python",
   "nbconvert_exporter": "python",
   "pygments_lexer": "ipython3",
   "version": "3.8.10"
  }
 },
 "nbformat": 4,
 "nbformat_minor": 5
}
