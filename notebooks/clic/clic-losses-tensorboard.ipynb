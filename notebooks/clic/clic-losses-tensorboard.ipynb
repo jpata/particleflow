{
 "cells": [
  {
   "cell_type": "code",
   "execution_count": null,
   "id": "ce1c3c09-d174-46ea-8128-e6cec8b1cc64",
   "metadata": {},
   "outputs": [],
   "source": [
    "import os\n",
    "os.environ[\"KERAS_BACKEND\"] = \"torch\""
   ]
  },
  {
   "cell_type": "code",
   "execution_count": null,
   "id": "8c59a714-2ce0-4312-b5ed-765e3095945b",
   "metadata": {},
   "outputs": [],
   "source": [
    "import tensorflow as tf\n",
    "from tensorflow.core.util import event_pb2\n",
    "import pandas\n",
    "import matplotlib.pyplot as plt"
   ]
  },
  {
   "cell_type": "code",
   "execution_count": null,
   "id": "93246466-bdd4-4062-95a7-6180d92a5dd5",
   "metadata": {},
   "outputs": [],
   "source": [
    "from scipy.ndimage import uniform_filter1d"
   ]
  },
  {
   "cell_type": "code",
   "execution_count": null,
   "id": "295c97e3-1797-4256-9aea-f911fe56ba72",
   "metadata": {},
   "outputs": [],
   "source": [
    "time_window = 1"
   ]
  },
  {
   "cell_type": "code",
   "execution_count": null,
   "id": "34158ddf-6637-4d85-b198-478f48cb1cbb",
   "metadata": {},
   "outputs": [],
   "source": [
    "def tb_to_df(path):\n",
    "    wall_times = []\n",
    "    losses = []\n",
    "    for e in tf.data.TFRecordDataset(path):\n",
    "        data = event_pb2.Event.FromString(e.numpy())\n",
    "        for val in data.summary.value:\n",
    "            # print(data.wall_time, val.tag, val.simple_value)\n",
    "            if val.tag == \"epoch/loss_Total\":\n",
    "                wall_times.append(data.wall_time)\n",
    "                losses.append(val.simple_value)\n",
    "\n",
    "    df = pandas.DataFrame()\n",
    "    df[\"wall_time\"] = wall_times\n",
    "    df[\"loss\"] = losses\n",
    "    return df"
   ]
  },
  {
   "cell_type": "code",
   "execution_count": null,
   "id": "31fef56f-a831-4168-8145-284f0833f795",
   "metadata": {},
   "outputs": [],
   "source": [
    "df1 = tb_to_df(\"/scratch/persistent/joosep/huggingface/particleflow/clic/clusters/v2.3.0/pyg-clic_20250130_214007_333962/runs/valid/events.out.tfevents.1738266016.gpu1.local.3836159.1\")\n",
    "df1[\"wall_time\"] -= df1[\"wall_time\"].values[0]"
   ]
  },
  {
   "cell_type": "code",
   "execution_count": null,
   "id": "3d45b3fd-6bca-4e5b-b7bf-a2bcff9a2ed7",
   "metadata": {},
   "outputs": [],
   "source": [
    "df2 = tb_to_df(\"/scratch/persistent/joosep/huggingface/particleflow/clic/clusters/v2.3.0/largebatch_study_gpus4_notscaledLR0.0001_epochs30_bsm256_adamw_a100_cu124_fulldataset_pyg-clic-v230_20250219_055135_172489/runs/valid/events.out.tfevents.1739962531.workergpu047.299220.1\")\n",
    "df2[\"wall_time\"] -= df2[\"wall_time\"].values[0]"
   ]
  },
  {
   "cell_type": "code",
   "execution_count": null,
   "id": "488b61d7-09f2-49a7-9c94-341591e724bf",
   "metadata": {},
   "outputs": [],
   "source": [
    "df3 = tb_to_df(\"/scratch/persistent/joosep/huggingface/particleflow/clic/clusters/v2.3.0/largebatch_study_gpus4_linearscaledLR0.0004_epochs30_bsm256_adamw_a100_cu124_fulldataset_pyg-clic-v230_20250217_082738_406721/runs/valid/events.out.tfevents.1739799057.workergpu041.2328094.1\")\n",
    "df3[\"wall_time\"] -= df3[\"wall_time\"].values[0]"
   ]
  },
  {
   "cell_type": "code",
   "execution_count": null,
   "id": "53ca9ad5-4972-4fd6-8bb4-5e6cb7a8c894",
   "metadata": {},
   "outputs": [],
   "source": [
    "df4 = tb_to_df(\"/scratch/persistent/joosep/huggingface/particleflow/clic/clusters/v2.3.0/largebatch_clic_wd3eneg2_gpus4_lr4eneg4_epochs10_pyg-clic-v230_adamw_tunedweightdecay_20250314_085408_738888/runs/valid/events.out.tfevents.1741957152.workergpu072.934288.1\")\n",
    "df4[\"wall_time\"] -= df4[\"wall_time\"].values[0]"
   ]
  },
  {
   "cell_type": "code",
   "execution_count": null,
   "id": "baccfd38-6cfe-400e-9b33-a6ccf87dd52e",
   "metadata": {},
   "outputs": [],
   "source": [
    "best_loss = df1[\"loss\"].min()"
   ]
  },
  {
   "cell_type": "code",
   "execution_count": null,
   "id": "40b9afcd-d244-4cb7-be7b-ba27200f278a",
   "metadata": {},
   "outputs": [],
   "source": [
    "plt.figure(figsize=(6,3))\n",
    "plt.plot(df1[\"wall_time\"]/3600, uniform_filter1d(df1[\"loss\"]/best_loss, time_window), label=\"default\")\n",
    "plt.plot(df2[\"wall_time\"]/3600, uniform_filter1d(df2[\"loss\"]/best_loss, time_window), label=\"4 GPUs\")\n",
    "plt.plot(df3[\"wall_time\"]/3600, uniform_filter1d(df3[\"loss\"]/best_loss, time_window), label=\"4 GPUs, learning rate x4\")\n",
    "plt.plot(df4[\"wall_time\"]/3600, uniform_filter1d(df4[\"loss\"]/best_loss, time_window), label=\"4 GPUs, learning rate x4, weight decay x3\")\n",
    "\n",
    "plt.ylim(0.9, 1.4)\n",
    "plt.legend(loc=\"best\", frameon=False)\n",
    "plt.axhline(1.0, color=\"black\", ls=\"--\", lw=0.5)\n",
    "plt.xlabel(\"Training time [hours]\")\n",
    "plt.ylabel(\"Relative validation loss\")\n",
    "plt.savefig(\"loss_largebatch.pdf\", bbox_inches=\"tight\")"
   ]
  },
  {
   "cell_type": "code",
   "execution_count": null,
   "id": "b9606a77-7f6f-4097-841e-383d7364bb2e",
   "metadata": {},
   "outputs": [],
   "source": []
  }
 ],
 "metadata": {
  "kernelspec": {
   "display_name": "Python 3 (ipykernel)",
   "language": "python",
   "name": "python3"
  },
  "language_info": {
   "codemirror_mode": {
    "name": "ipython",
    "version": 3
   },
   "file_extension": ".py",
   "mimetype": "text/x-python",
   "name": "python",
   "nbconvert_exporter": "python",
   "pygments_lexer": "ipython3",
   "version": "3.11.10"
  }
 },
 "nbformat": 4,
 "nbformat_minor": 5
}
