{
 "cells": [
  {
   "cell_type": "code",
   "execution_count": 1,
   "id": "9443fc6c",
   "metadata": {},
   "outputs": [
    {
     "name": "stdout",
     "output_type": "stream",
     "text": [
      "Will use NVIDIA GeForce GTX 1080 Ti\n"
     ]
    }
   ],
   "source": [
    "import datetime\n",
    "import os.path as osp\n",
    "import platform\n",
    "\n",
    "import matplotlib\n",
    "import mplhep\n",
    "import numpy as np\n",
    "import torch\n",
    "import torch_geometric\n",
    "from pyg_ssl.args import parse_args\n",
    "from pyg_ssl.mlpf import MLPF\n",
    "from pyg_ssl.training_mlpf import training_loop_mlpf\n",
    "from pyg_ssl.training_VICReg import training_loop_VICReg\n",
    "from pyg_ssl.utils import CLUSTERS_X, TRACKS_X, data_split, load_VICReg, save_MLPF, save_VICReg\n",
    "from pyg_ssl.VICReg import DECODER, ENCODER\n",
    "\n",
    "matplotlib.use(\"Agg\")\n",
    "mplhep.style.use(mplhep.styles.CMS)\n",
    "\n",
    "# Ignore divide by 0 errors\n",
    "np.seterr(divide=\"ignore\", invalid=\"ignore\")\n",
    "\n",
    "# define the global base device\n",
    "if torch.cuda.device_count():\n",
    "    device = torch.device(\"cuda:0\")\n",
    "    print(f\"Will use {torch.cuda.get_device_name(device)}\")\n",
    "else:\n",
    "    device = \"cpu\"\n",
    "    print(\"Will use cpu\")"
   ]
  },
  {
   "cell_type": "code",
   "execution_count": 14,
   "id": "6a7b121a",
   "metadata": {},
   "outputs": [],
   "source": [
    "import random\n",
    "def data_split(dataset, data_split_mode):\n",
    "    \"\"\"\n",
    "    Depending on the data split mode chosen, the function returns different data splits.\n",
    "\n",
    "    Choices for data_split_mode\n",
    "        1. `quick`: uses only 1 datafile of each sample for quick debugging. Nothing interesting there.\n",
    "        2. `domain_adaptation`: uses QCD samples to train/validate VICReg and TTbar samples to train/validate MLPF.\n",
    "        3. `mix`: uses a mix of both QCD and TTbar samples to train/validate VICReg and MLPF.\n",
    "\n",
    "    Returns (each as a list)\n",
    "        data_VICReg_train, data_VICReg_valid, data_mlpf_train, data_mlpf_valid, data_test_qcd, data_test_ttbar\n",
    "\n",
    "    \"\"\"\n",
    "    print(f\"Will use data split mode `{data_split_mode}`\")\n",
    "\n",
    "    if data_split_mode == \"quick\":\n",
    "        data_qcd = torch.load(f\"{dataset}/p8_ee_qcd_ecm365/processed/data_0.pt\")\n",
    "        data_ttbar = torch.load(f\"{dataset}/p8_ee_tt_ecm365/processed/data_0.pt\")\n",
    "\n",
    "        data_test_qcd = data_qcd[: round(0.1 * len(data_qcd))]\n",
    "        data_test_ttbar = data_ttbar[: round(0.1 * len(data_ttbar))]\n",
    "\n",
    "        # label remaining data as `rem`\n",
    "        rem_qcd = data_qcd[round(0.1 * len(data_qcd)) :]\n",
    "        rem_ttbar = data_ttbar[round(0.1 * len(data_qcd)) :]\n",
    "        \n",
    "        data_VICReg = rem_qcd[: round(0.8 * len(rem_qcd))] + rem_ttbar[: round(0.8 * len(rem_ttbar))]\n",
    "        data_mlpf = rem_qcd[round(0.8 * len(rem_qcd)) :] + rem_ttbar[round(0.8 * len(rem_ttbar)) :]\n",
    "\n",
    "        # shuffle the samples after mixing (not super necessary since the DataLoaders will shuffle anyway)\n",
    "        random.shuffle(data_VICReg)\n",
    "        random.shuffle(data_mlpf)\n",
    "\n",
    "        data_VICReg_train = data_VICReg[: round(0.9 * len(data_VICReg))]\n",
    "        data_VICReg_valid = data_VICReg[round(0.9 * len(data_VICReg)) :]\n",
    "\n",
    "        data_mlpf_train = data_mlpf[: round(0.9 * len(data_mlpf))]\n",
    "        data_mlpf_valid = data_mlpf[round(0.9 * len(data_mlpf)) :]\n",
    "\n",
    "    else:  # actual meaningful data splits\n",
    "        # load the qcd and ttbar samples seperately\n",
    "        qcd_files = glob.glob(f\"{dataset}/p8_ee_qcd_ecm365/processed/*\")\n",
    "        ttbar_files = glob.glob(f\"{dataset}/p8_ee_tt_ecm365/processed/*\")\n",
    "\n",
    "        data_qcd = []\n",
    "        for file in list(qcd_files):\n",
    "            data_qcd += torch.load(f\"{file}\")\n",
    "\n",
    "        data_ttbar = []\n",
    "        for file in list(ttbar_files):\n",
    "            data_ttbar += torch.load(f\"{file}\")\n",
    "\n",
    "        # use 10% of each sample for testing\n",
    "        data_test_qcd = data_qcd[: round(0.1 * len(data_qcd))]\n",
    "        data_test_ttbar = data_ttbar[: round(0.1 * len(data_ttbar))]\n",
    "\n",
    "        # label remaining data as `rem`\n",
    "        rem_qcd = data_qcd[round(0.1 * len(data_qcd)) :]\n",
    "        rem_ttbar = data_ttbar[round(0.1 * len(data_qcd)) :]\n",
    "\n",
    "        if data_split_mode == \"domain_adaptation\":\n",
    "            \"\"\"\n",
    "            use QCD samples for VICReg with an 80-20 split.\n",
    "            use TTbar samples for MLPF with an 80-20 split.\n",
    "            \"\"\"\n",
    "            data_VICReg_train = rem_qcd[: round(0.8 * len(rem_qcd))]\n",
    "            data_VICReg_valid = rem_qcd[round(0.8 * len(rem_qcd)) :]\n",
    "\n",
    "            data_mlpf_train = rem_ttbar[: round(0.8 * len(rem_ttbar))]\n",
    "            data_mlpf_valid = rem_ttbar[round(0.8 * len(rem_ttbar)) :]\n",
    "\n",
    "        elif data_split_mode == \"mix\":\n",
    "            \"\"\"\n",
    "            use (80% of QCD + 80% of TTbar) samples for VICReg with a 90-10 split.\n",
    "            use (20% of QCD + 20% of TTbar) samples for MLPF with a 90-10 split.\n",
    "            \"\"\"\n",
    "            data_VICReg = rem_qcd[: round(0.8 * len(rem_qcd))] + rem_ttbar[: round(0.8 * len(rem_ttbar))]\n",
    "            data_mlpf = rem_qcd[round(0.8 * len(rem_qcd)) :] + rem_ttbar[round(0.8 * len(rem_ttbar)) :]\n",
    "\n",
    "            # shuffle the samples after mixing (not super necessary since the DataLoaders will shuffle anyway)\n",
    "            random.shuffle(data_VICReg)\n",
    "            random.shuffle(data_mlpf)\n",
    "\n",
    "            data_VICReg_train = data_VICReg[: round(0.9 * len(data_VICReg))]\n",
    "            data_VICReg_valid = data_VICReg[round(0.9 * len(data_VICReg)) :]\n",
    "\n",
    "            data_mlpf_train = data_mlpf[: round(0.9 * len(data_mlpf))]\n",
    "            data_mlpf_valid = data_mlpf[round(0.9 * len(data_mlpf)) :]\n",
    "\n",
    "    print(f\"Will use {len(data_VICReg_train)} events to train VICReg\")\n",
    "    print(f\"Will use {len(data_VICReg_valid)} events to validate VICReg\")\n",
    "    print(f\"Will use {len(data_mlpf_train)} events to train MLPF\")\n",
    "    print(f\"Will use {len(data_mlpf_valid)} events to validate MLPF\")\n",
    "\n",
    "    return data_VICReg_train, data_VICReg_valid, data_mlpf_train, data_mlpf_valid, data_test_qcd, data_test_ttbar"
   ]
  },
  {
   "cell_type": "code",
   "execution_count": 15,
   "id": "6fff36d3",
   "metadata": {},
   "outputs": [
    {
     "name": "stdout",
     "output_type": "stream",
     "text": [
      "Will use data split mode `quick`\n",
      "Will use 25843 events to train VICReg\n",
      "Will use 2871 events to validate VICReg\n",
      "Will use 6461 events to train MLPF\n",
      "Will use 718 events to validate MLPF\n"
     ]
    }
   ],
   "source": [
    "# load the clic dataset\n",
    "data_VICReg_train, data_VICReg_valid, data_mlpf_train, data_mlpf_valid, data_test_qcd, data_test_ttbar = data_split(\n",
    "    \"/pfclicvol/data/clic_edm4hep\", \"quick\"\n",
    ")"
   ]
  },
  {
   "cell_type": "code",
   "execution_count": 16,
   "id": "8f728d0e",
   "metadata": {},
   "outputs": [
    {
     "name": "stdout",
     "output_type": "stream",
     "text": [
      "Encoder ENCODER(\n",
      "  (nn1): Sequential(\n",
      "    (0): Linear(in_features=14, out_features=256, bias=True)\n",
      "    (1): ELU(alpha=1.0)\n",
      "    (2): Linear(in_features=256, out_features=256, bias=True)\n",
      "    (3): ELU(alpha=1.0)\n",
      "    (4): Linear(in_features=256, out_features=256, bias=True)\n",
      "    (5): ELU(alpha=1.0)\n",
      "    (6): Linear(in_features=256, out_features=256, bias=True)\n",
      "  )\n",
      "  (nn2): Sequential(\n",
      "    (0): Linear(in_features=15, out_features=256, bias=True)\n",
      "    (1): ELU(alpha=1.0)\n",
      "    (2): Linear(in_features=256, out_features=256, bias=True)\n",
      "    (3): ELU(alpha=1.0)\n",
      "    (4): Linear(in_features=256, out_features=256, bias=True)\n",
      "    (5): ELU(alpha=1.0)\n",
      "    (6): Linear(in_features=256, out_features=256, bias=True)\n",
      "  )\n",
      "  (conv): ModuleList(\n",
      "    (0): GravNetConv(256, 256, k=32)\n",
      "    (1): GravNetConv(256, 256, k=32)\n",
      "    (2): GravNetConv(256, 256, k=32)\n",
      "  )\n",
      ")\n",
      "Decoder DECODER(\n",
      "  (expander): Sequential(\n",
      "    (0): Linear(in_features=256, out_features=256, bias=True)\n",
      "    (1): ELU(alpha=1.0)\n",
      "    (2): Linear(in_features=256, out_features=256, bias=True)\n",
      "    (3): ELU(alpha=1.0)\n",
      "    (4): Linear(in_features=256, out_features=256, bias=True)\n",
      "    (5): ELU(alpha=1.0)\n",
      "    (6): Linear(in_features=256, out_features=256, bias=True)\n",
      "  )\n",
      ")\n"
     ]
    }
   ],
   "source": [
    "embedding_dim_VICReg = 256\n",
    "width_encoder = 256 \n",
    "num_convs = 3\n",
    "expand_dim = 256\n",
    "width_decoder = 256\n",
    "\n",
    "encoder_model_kwargs = {\n",
    "    \"embedding_dim\": embedding_dim_VICReg,\n",
    "    \"width\": width_encoder,\n",
    "    \"num_convs\": num_convs,\n",
    "    \"space_dim\": 4,\n",
    "    \"propagate_dim\": 22,\n",
    "    \"k\": 32,\n",
    "}\n",
    "\n",
    "decoder_model_kwargs = {\n",
    "    \"input_dim\": embedding_dim_VICReg,\n",
    "    \"output_dim\": expand_dim,\n",
    "    \"width\": width_decoder,\n",
    "}\n",
    "\n",
    "encoder = ENCODER(**encoder_model_kwargs).to(device)\n",
    "decoder = DECODER(**decoder_model_kwargs).to(device)\n",
    "\n",
    "print(\"Encoder\", encoder)\n",
    "print(\"Decoder\", decoder)"
   ]
  },
  {
   "cell_type": "code",
   "execution_count": 17,
   "id": "d0ab486a",
   "metadata": {},
   "outputs": [],
   "source": [
    "import json\n",
    "import pickle as pkl\n",
    "import time\n",
    "\n",
    "import matplotlib\n",
    "import matplotlib.pyplot as plt\n",
    "import numpy as np\n",
    "import torch\n",
    "import torch.nn.functional as F\n",
    "from torch_geometric.nn import global_mean_pool\n",
    "\n",
    "from pyg_ssl.utils import distinguish_PFelements\n",
    "\n",
    "# VICReg loss function\n",
    "def criterion(x, y, device=\"cuda\", lmbd=25, epsilon=1e-3):\n",
    "    bs = x.size(0)\n",
    "    emb = x.size(1)\n",
    "\n",
    "    std_x = torch.sqrt(x.var(dim=0) + epsilon)\n",
    "    std_y = torch.sqrt(y.var(dim=0) + epsilon)\n",
    "    var_loss = torch.mean(F.relu(1 - std_x)) + torch.mean(F.relu(1 - std_y))\n",
    "\n",
    "    invar_loss = F.mse_loss(x, y)\n",
    "\n",
    "    xNorm = (x - x.mean(0)) / x.std(0)\n",
    "    yNorm = (y - y.mean(0)) / y.std(0)\n",
    "    crossCorMat = (xNorm.T @ yNorm) / bs\n",
    "    cross_loss = (crossCorMat * lmbd - torch.eye(emb, device=torch.device(device)) * lmbd).pow(2).sum()\n",
    "\n",
    "    return var_loss, invar_loss, cross_loss\n",
    "\n",
    "\n",
    "@torch.no_grad()\n",
    "def validation_run(\n",
    "    device,\n",
    "    encoder,\n",
    "    decoder,\n",
    "    train_loader,\n",
    "    valid_loader,\n",
    "    lmbd,\n",
    "    u,\n",
    "    v,\n",
    "):\n",
    "    with torch.no_grad():\n",
    "        optimizer = None\n",
    "        ret = train(\n",
    "            device,\n",
    "            encoder,\n",
    "            decoder,\n",
    "            train_loader,\n",
    "            valid_loader,\n",
    "            optimizer,\n",
    "            lmbd,\n",
    "            u,\n",
    "            v,\n",
    "        )\n",
    "    return ret\n",
    "\n",
    "\n",
    "def train(\n",
    "    device,\n",
    "    encoder,\n",
    "    decoder,\n",
    "    train_loader,\n",
    "    valid_loader,\n",
    "    optimizer,\n",
    "    lmbd,\n",
    "    u,\n",
    "    v,\n",
    "):\n",
    "\n",
    "    is_train = not (optimizer is None)\n",
    "\n",
    "    if is_train:\n",
    "        print(\"---->Initiating a training run\")\n",
    "        encoder.train()\n",
    "        decoder.train()\n",
    "        loader = train_loader\n",
    "    else:\n",
    "        print(\"---->Initiating a validation run\")\n",
    "        encoder.eval()\n",
    "        decoder.eval()\n",
    "        loader = valid_loader\n",
    "\n",
    "    # initialize loss counters\n",
    "    losses = 0.0\n",
    "    var_losses, invar_losses, cross_losses = 0.0, 0.0, 0.0\n",
    "\n",
    "    for i, batch in tqdm.tqdm(enumerate(loader), total=len(loader)):\n",
    "\n",
    "        # make transformation\n",
    "        tracks, clusters = distinguish_PFelements(batch.to(device))\n",
    "\n",
    "        # ENCODE\n",
    "        embedding_tracks, embedding_clusters = encoder(tracks, clusters)\n",
    "        # POOLING\n",
    "        pooled_tracks = global_mean_pool(embedding_tracks, tracks.batch)\n",
    "        pooled_clusters = global_mean_pool(embedding_clusters, clusters.batch)\n",
    "        # DECODE\n",
    "        out_tracks, out_clusters = decoder(pooled_tracks, pooled_clusters)\n",
    "\n",
    "        # compute loss\n",
    "        var_loss, invar_loss, cross_loss = criterion(out_tracks, out_clusters, device, lmbd)\n",
    "        loss = u * var_loss + v * invar_loss + cross_loss\n",
    "\n",
    "        # update parameters\n",
    "        if is_train:\n",
    "            for param in encoder.parameters():\n",
    "                param.grad = None\n",
    "            for param in decoder.parameters():\n",
    "                param.grad = None\n",
    "            loss.backward()\n",
    "            optimizer.step()\n",
    "\n",
    "        losses += loss.detach()\n",
    "        var_losses += var_loss.detach()\n",
    "        invar_losses += invar_loss.detach()\n",
    "        cross_losses += cross_loss.detach()\n",
    "\n",
    "    losses = losses.cpu().item() / (len(loader))\n",
    "    var_losses = var_losses.cpu().item() / (len(loader))\n",
    "    invar_losses = invar_losses.cpu().item() / (len(loader))\n",
    "    cross_losses = cross_losses.cpu().item() / (len(loader))\n",
    "\n",
    "    return losses, var_losses, invar_losses, cross_losses"
   ]
  },
  {
   "cell_type": "code",
   "execution_count": 49,
   "id": "39d7383f",
   "metadata": {},
   "outputs": [],
   "source": [
    "batch_size_VICReg = 1000\n",
    "train_loader = torch_geometric.loader.DataLoader(data_VICReg_train, batch_size_VICReg)\n",
    "valid_loader = torch_geometric.loader.DataLoader(data_VICReg_valid, batch_size_VICReg)"
   ]
  },
  {
   "cell_type": "code",
   "execution_count": null,
   "id": "cab9d440",
   "metadata": {
    "scrolled": false
   },
   "outputs": [
    {
     "name": "stdout",
     "output_type": "stream",
     "text": [
      "---->Initiating a training run\n"
     ]
    },
    {
     "name": "stderr",
     "output_type": "stream",
     "text": [
      "100%|██████████████████████████████████████████████████████████████████████████████████████| 26/26 [00:15<00:00,  1.66it/s]\n"
     ]
    },
    {
     "name": "stdout",
     "output_type": "stream",
     "text": [
      "---->Initiating a validation run\n"
     ]
    },
    {
     "name": "stderr",
     "output_type": "stream",
     "text": [
      "100%|████████████████████████████████████████████████████████████████████████████████████████| 3/3 [00:01<00:00,  2.13it/s]\n"
     ]
    },
    {
     "name": "stdout",
     "output_type": "stream",
     "text": [
      "epoch=1 / 30 train_loss=3.2089 valid_loss=3.2996 stale=0 time=0.29m eta=8.3m\n",
      "---->Initiating a training run\n"
     ]
    },
    {
     "name": "stderr",
     "output_type": "stream",
     "text": [
      "100%|██████████████████████████████████████████████████████████████████████████████████████| 26/26 [00:15<00:00,  1.67it/s]\n"
     ]
    },
    {
     "name": "stdout",
     "output_type": "stream",
     "text": [
      "---->Initiating a validation run\n"
     ]
    },
    {
     "name": "stderr",
     "output_type": "stream",
     "text": [
      "100%|████████████████████████████████████████████████████████████████████████████████████████| 3/3 [00:01<00:00,  2.15it/s]\n"
     ]
    },
    {
     "name": "stdout",
     "output_type": "stream",
     "text": [
      "epoch=2 / 30 train_loss=3.1654 valid_loss=3.2897 stale=0 time=0.28m eta=8.0m\n",
      "---->Initiating a training run\n"
     ]
    },
    {
     "name": "stderr",
     "output_type": "stream",
     "text": [
      "100%|██████████████████████████████████████████████████████████████████████████████████████| 26/26 [00:15<00:00,  1.67it/s]\n"
     ]
    },
    {
     "name": "stdout",
     "output_type": "stream",
     "text": [
      "---->Initiating a validation run\n"
     ]
    },
    {
     "name": "stderr",
     "output_type": "stream",
     "text": [
      "100%|████████████████████████████████████████████████████████████████████████████████████████| 3/3 [00:01<00:00,  2.16it/s]\n"
     ]
    },
    {
     "name": "stdout",
     "output_type": "stream",
     "text": [
      "epoch=3 / 30 train_loss=3.1164 valid_loss=3.2899 stale=1 time=0.28m eta=7.7m\n",
      "---->Initiating a training run\n"
     ]
    },
    {
     "name": "stderr",
     "output_type": "stream",
     "text": [
      "100%|██████████████████████████████████████████████████████████████████████████████████████| 26/26 [00:15<00:00,  1.67it/s]\n"
     ]
    },
    {
     "name": "stdout",
     "output_type": "stream",
     "text": [
      "---->Initiating a validation run\n"
     ]
    },
    {
     "name": "stderr",
     "output_type": "stream",
     "text": [
      "100%|████████████████████████████████████████████████████████████████████████████████████████| 3/3 [00:01<00:00,  2.18it/s]\n"
     ]
    },
    {
     "name": "stdout",
     "output_type": "stream",
     "text": [
      "epoch=4 / 30 train_loss=3.1001 valid_loss=3.2833 stale=0 time=0.28m eta=7.4m\n",
      "---->Initiating a training run\n"
     ]
    },
    {
     "name": "stderr",
     "output_type": "stream",
     "text": [
      "100%|██████████████████████████████████████████████████████████████████████████████████████| 26/26 [00:15<00:00,  1.67it/s]\n"
     ]
    },
    {
     "name": "stdout",
     "output_type": "stream",
     "text": [
      "---->Initiating a validation run\n"
     ]
    },
    {
     "name": "stderr",
     "output_type": "stream",
     "text": [
      "100%|████████████████████████████████████████████████████████████████████████████████████████| 3/3 [00:01<00:00,  2.15it/s]\n"
     ]
    },
    {
     "name": "stdout",
     "output_type": "stream",
     "text": [
      "epoch=5 / 30 train_loss=3.0678 valid_loss=3.2753 stale=0 time=0.28m eta=7.1m\n",
      "---->Initiating a training run\n"
     ]
    },
    {
     "name": "stderr",
     "output_type": "stream",
     "text": [
      "100%|██████████████████████████████████████████████████████████████████████████████████████| 26/26 [00:15<00:00,  1.67it/s]\n"
     ]
    },
    {
     "name": "stdout",
     "output_type": "stream",
     "text": [
      "---->Initiating a validation run\n"
     ]
    },
    {
     "name": "stderr",
     "output_type": "stream",
     "text": [
      "100%|████████████████████████████████████████████████████████████████████████████████████████| 3/3 [00:01<00:00,  2.17it/s]\n"
     ]
    },
    {
     "name": "stdout",
     "output_type": "stream",
     "text": [
      "epoch=6 / 30 train_loss=3.2201 valid_loss=3.2975 stale=1 time=0.28m eta=6.8m\n",
      "---->Initiating a training run\n"
     ]
    },
    {
     "name": "stderr",
     "output_type": "stream",
     "text": [
      "100%|██████████████████████████████████████████████████████████████████████████████████████| 26/26 [00:15<00:00,  1.66it/s]\n"
     ]
    },
    {
     "name": "stdout",
     "output_type": "stream",
     "text": [
      "---->Initiating a validation run\n"
     ]
    },
    {
     "name": "stderr",
     "output_type": "stream",
     "text": [
      "100%|████████████████████████████████████████████████████████████████████████████████████████| 3/3 [00:01<00:00,  2.16it/s]\n"
     ]
    },
    {
     "name": "stdout",
     "output_type": "stream",
     "text": [
      "epoch=7 / 30 train_loss=3.2181 valid_loss=3.2711 stale=0 time=0.29m eta=6.6m\n",
      "---->Initiating a training run\n"
     ]
    },
    {
     "name": "stderr",
     "output_type": "stream",
     "text": [
      "100%|██████████████████████████████████████████████████████████████████████████████████████| 26/26 [00:15<00:00,  1.67it/s]\n"
     ]
    },
    {
     "name": "stdout",
     "output_type": "stream",
     "text": [
      "---->Initiating a validation run\n"
     ]
    },
    {
     "name": "stderr",
     "output_type": "stream",
     "text": [
      "100%|████████████████████████████████████████████████████████████████████████████████████████| 3/3 [00:01<00:00,  2.14it/s]\n"
     ]
    },
    {
     "name": "stdout",
     "output_type": "stream",
     "text": [
      "epoch=8 / 30 train_loss=3.0841 valid_loss=3.2647 stale=0 time=0.29m eta=6.3m\n",
      "---->Initiating a training run\n"
     ]
    },
    {
     "name": "stderr",
     "output_type": "stream",
     "text": [
      "100%|██████████████████████████████████████████████████████████████████████████████████████| 26/26 [00:15<00:00,  1.66it/s]\n"
     ]
    },
    {
     "name": "stdout",
     "output_type": "stream",
     "text": [
      "---->Initiating a validation run\n"
     ]
    },
    {
     "name": "stderr",
     "output_type": "stream",
     "text": [
      "100%|████████████████████████████████████████████████████████████████████████████████████████| 3/3 [00:01<00:00,  2.18it/s]\n"
     ]
    },
    {
     "name": "stdout",
     "output_type": "stream",
     "text": [
      "epoch=9 / 30 train_loss=3.0369 valid_loss=3.2759 stale=1 time=0.29m eta=6.0m\n",
      "---->Initiating a training run\n"
     ]
    },
    {
     "name": "stderr",
     "output_type": "stream",
     "text": [
      "100%|██████████████████████████████████████████████████████████████████████████████████████| 26/26 [00:15<00:00,  1.66it/s]\n"
     ]
    },
    {
     "name": "stdout",
     "output_type": "stream",
     "text": [
      "---->Initiating a validation run\n"
     ]
    },
    {
     "name": "stderr",
     "output_type": "stream",
     "text": [
      "100%|████████████████████████████████████████████████████████████████████████████████████████| 3/3 [00:01<00:00,  2.18it/s]\n"
     ]
    },
    {
     "name": "stdout",
     "output_type": "stream",
     "text": [
      "epoch=10 / 30 train_loss=3.0331 valid_loss=3.26 stale=0 time=0.29m eta=5.7m\n",
      "---->Initiating a training run\n"
     ]
    },
    {
     "name": "stderr",
     "output_type": "stream",
     "text": [
      "100%|██████████████████████████████████████████████████████████████████████████████████████| 26/26 [00:15<00:00,  1.66it/s]\n"
     ]
    },
    {
     "name": "stdout",
     "output_type": "stream",
     "text": [
      "---->Initiating a validation run\n"
     ]
    },
    {
     "name": "stderr",
     "output_type": "stream",
     "text": [
      "100%|████████████████████████████████████████████████████████████████████████████████████████| 3/3 [00:01<00:00,  2.16it/s]\n"
     ]
    },
    {
     "name": "stdout",
     "output_type": "stream",
     "text": [
      "epoch=11 / 30 train_loss=2.9995 valid_loss=3.273 stale=1 time=0.29m eta=5.4m\n",
      "---->Initiating a training run\n"
     ]
    },
    {
     "name": "stderr",
     "output_type": "stream",
     "text": [
      "100%|██████████████████████████████████████████████████████████████████████████████████████| 26/26 [00:15<00:00,  1.66it/s]\n"
     ]
    },
    {
     "name": "stdout",
     "output_type": "stream",
     "text": [
      "---->Initiating a validation run\n"
     ]
    },
    {
     "name": "stderr",
     "output_type": "stream",
     "text": [
      "100%|████████████████████████████████████████████████████████████████████████████████████████| 3/3 [00:01<00:00,  2.22it/s]\n"
     ]
    },
    {
     "name": "stdout",
     "output_type": "stream",
     "text": [
      "epoch=12 / 30 train_loss=3.0125 valid_loss=3.2483 stale=0 time=0.28m eta=5.1m\n",
      "---->Initiating a training run\n"
     ]
    },
    {
     "name": "stderr",
     "output_type": "stream",
     "text": [
      "100%|██████████████████████████████████████████████████████████████████████████████████████| 26/26 [00:15<00:00,  1.67it/s]\n"
     ]
    },
    {
     "name": "stdout",
     "output_type": "stream",
     "text": [
      "---->Initiating a validation run\n"
     ]
    },
    {
     "name": "stderr",
     "output_type": "stream",
     "text": [
      "100%|████████████████████████████████████████████████████████████████████████████████████████| 3/3 [00:01<00:00,  2.17it/s]\n"
     ]
    },
    {
     "name": "stdout",
     "output_type": "stream",
     "text": [
      "epoch=13 / 30 train_loss=3.0231 valid_loss=3.2429 stale=0 time=0.29m eta=4.8m\n",
      "---->Initiating a training run\n"
     ]
    },
    {
     "name": "stderr",
     "output_type": "stream",
     "text": [
      "100%|██████████████████████████████████████████████████████████████████████████████████████| 26/26 [00:15<00:00,  1.67it/s]\n"
     ]
    },
    {
     "name": "stdout",
     "output_type": "stream",
     "text": [
      "---->Initiating a validation run\n"
     ]
    },
    {
     "name": "stderr",
     "output_type": "stream",
     "text": [
      "100%|████████████████████████████████████████████████████████████████████████████████████████| 3/3 [00:01<00:00,  2.19it/s]\n"
     ]
    },
    {
     "name": "stdout",
     "output_type": "stream",
     "text": [
      "epoch=14 / 30 train_loss=2.9908 valid_loss=3.2481 stale=1 time=0.28m eta=4.6m\n",
      "---->Initiating a training run\n"
     ]
    },
    {
     "name": "stderr",
     "output_type": "stream",
     "text": [
      "100%|██████████████████████████████████████████████████████████████████████████████████████| 26/26 [00:15<00:00,  1.66it/s]\n"
     ]
    },
    {
     "name": "stdout",
     "output_type": "stream",
     "text": [
      "---->Initiating a validation run\n"
     ]
    },
    {
     "name": "stderr",
     "output_type": "stream",
     "text": [
      "100%|████████████████████████████████████████████████████████████████████████████████████████| 3/3 [00:01<00:00,  2.17it/s]\n"
     ]
    },
    {
     "name": "stdout",
     "output_type": "stream",
     "text": [
      "epoch=15 / 30 train_loss=2.9585 valid_loss=3.2348 stale=0 time=0.29m eta=4.3m\n",
      "---->Initiating a training run\n"
     ]
    },
    {
     "name": "stderr",
     "output_type": "stream",
     "text": [
      "100%|██████████████████████████████████████████████████████████████████████████████████████| 26/26 [00:15<00:00,  1.66it/s]\n"
     ]
    },
    {
     "name": "stdout",
     "output_type": "stream",
     "text": [
      "---->Initiating a validation run\n"
     ]
    },
    {
     "name": "stderr",
     "output_type": "stream",
     "text": [
      "100%|████████████████████████████████████████████████████████████████████████████████████████| 3/3 [00:01<00:00,  2.21it/s]\n"
     ]
    },
    {
     "name": "stdout",
     "output_type": "stream",
     "text": [
      "epoch=16 / 30 train_loss=2.9431 valid_loss=3.2435 stale=1 time=0.29m eta=4.0m\n",
      "---->Initiating a training run\n"
     ]
    },
    {
     "name": "stderr",
     "output_type": "stream",
     "text": [
      "100%|██████████████████████████████████████████████████████████████████████████████████████| 26/26 [00:15<00:00,  1.66it/s]\n"
     ]
    },
    {
     "name": "stdout",
     "output_type": "stream",
     "text": [
      "---->Initiating a validation run\n"
     ]
    },
    {
     "name": "stderr",
     "output_type": "stream",
     "text": [
      "100%|████████████████████████████████████████████████████████████████████████████████████████| 3/3 [00:01<00:00,  2.18it/s]\n"
     ]
    },
    {
     "name": "stdout",
     "output_type": "stream",
     "text": [
      "epoch=17 / 30 train_loss=2.9832 valid_loss=3.2428 stale=2 time=0.29m eta=3.7m\n",
      "---->Initiating a training run\n"
     ]
    },
    {
     "name": "stderr",
     "output_type": "stream",
     "text": [
      "100%|██████████████████████████████████████████████████████████████████████████████████████| 26/26 [00:15<00:00,  1.66it/s]\n"
     ]
    },
    {
     "name": "stdout",
     "output_type": "stream",
     "text": [
      "---->Initiating a validation run\n"
     ]
    },
    {
     "name": "stderr",
     "output_type": "stream",
     "text": [
      "100%|████████████████████████████████████████████████████████████████████████████████████████| 3/3 [00:01<00:00,  2.19it/s]\n"
     ]
    },
    {
     "name": "stdout",
     "output_type": "stream",
     "text": [
      "epoch=18 / 30 train_loss=2.97 valid_loss=3.2299 stale=0 time=0.29m eta=3.4m\n",
      "---->Initiating a training run\n"
     ]
    },
    {
     "name": "stderr",
     "output_type": "stream",
     "text": [
      "100%|██████████████████████████████████████████████████████████████████████████████████████| 26/26 [00:15<00:00,  1.66it/s]\n"
     ]
    },
    {
     "name": "stdout",
     "output_type": "stream",
     "text": [
      "---->Initiating a validation run\n"
     ]
    },
    {
     "name": "stderr",
     "output_type": "stream",
     "text": [
      "100%|████████████████████████████████████████████████████████████████████████████████████████| 3/3 [00:01<00:00,  2.22it/s]\n"
     ]
    },
    {
     "name": "stdout",
     "output_type": "stream",
     "text": [
      "epoch=19 / 30 train_loss=2.9445 valid_loss=3.2382 stale=1 time=0.28m eta=3.1m\n",
      "---->Initiating a training run\n"
     ]
    },
    {
     "name": "stderr",
     "output_type": "stream",
     "text": [
      "100%|██████████████████████████████████████████████████████████████████████████████████████| 26/26 [00:15<00:00,  1.66it/s]\n"
     ]
    },
    {
     "name": "stdout",
     "output_type": "stream",
     "text": [
      "---->Initiating a validation run\n"
     ]
    },
    {
     "name": "stderr",
     "output_type": "stream",
     "text": [
      "100%|████████████████████████████████████████████████████████████████████████████████████████| 3/3 [00:01<00:00,  2.17it/s]\n"
     ]
    },
    {
     "name": "stdout",
     "output_type": "stream",
     "text": [
      "epoch=20 / 30 train_loss=2.9457 valid_loss=3.2386 stale=2 time=0.29m eta=2.9m\n",
      "---->Initiating a training run\n"
     ]
    },
    {
     "name": "stderr",
     "output_type": "stream",
     "text": [
      "100%|██████████████████████████████████████████████████████████████████████████████████████| 26/26 [00:15<00:00,  1.66it/s]\n"
     ]
    },
    {
     "name": "stdout",
     "output_type": "stream",
     "text": [
      "---->Initiating a validation run\n"
     ]
    },
    {
     "name": "stderr",
     "output_type": "stream",
     "text": [
      "100%|████████████████████████████████████████████████████████████████████████████████████████| 3/3 [00:01<00:00,  2.19it/s]\n"
     ]
    },
    {
     "name": "stdout",
     "output_type": "stream",
     "text": [
      "epoch=21 / 30 train_loss=2.9281 valid_loss=3.228 stale=0 time=0.29m eta=2.6m\n",
      "---->Initiating a training run\n"
     ]
    },
    {
     "name": "stderr",
     "output_type": "stream",
     "text": [
      "100%|██████████████████████████████████████████████████████████████████████████████████████| 26/26 [00:15<00:00,  1.66it/s]\n"
     ]
    },
    {
     "name": "stdout",
     "output_type": "stream",
     "text": [
      "---->Initiating a validation run\n"
     ]
    },
    {
     "name": "stderr",
     "output_type": "stream",
     "text": [
      "100%|████████████████████████████████████████████████████████████████████████████████████████| 3/3 [00:01<00:00,  2.17it/s]\n"
     ]
    },
    {
     "name": "stdout",
     "output_type": "stream",
     "text": [
      "epoch=22 / 30 train_loss=2.9114 valid_loss=3.245 stale=1 time=0.29m eta=2.3m\n",
      "---->Initiating a training run\n"
     ]
    },
    {
     "name": "stderr",
     "output_type": "stream",
     "text": [
      "100%|██████████████████████████████████████████████████████████████████████████████████████| 26/26 [00:15<00:00,  1.66it/s]\n"
     ]
    },
    {
     "name": "stdout",
     "output_type": "stream",
     "text": [
      "---->Initiating a validation run\n"
     ]
    },
    {
     "name": "stderr",
     "output_type": "stream",
     "text": [
      "100%|████████████████████████████████████████████████████████████████████████████████████████| 3/3 [00:01<00:00,  2.20it/s]\n"
     ]
    },
    {
     "name": "stdout",
     "output_type": "stream",
     "text": [
      "epoch=23 / 30 train_loss=2.9046 valid_loss=3.2469 stale=2 time=0.29m eta=2.0m\n",
      "---->Initiating a training run\n"
     ]
    },
    {
     "name": "stderr",
     "output_type": "stream",
     "text": [
      "100%|██████████████████████████████████████████████████████████████████████████████████████| 26/26 [00:15<00:00,  1.66it/s]\n"
     ]
    },
    {
     "name": "stdout",
     "output_type": "stream",
     "text": [
      "---->Initiating a validation run\n"
     ]
    },
    {
     "name": "stderr",
     "output_type": "stream",
     "text": [
      "100%|████████████████████████████████████████████████████████████████████████████████████████| 3/3 [00:01<00:00,  2.21it/s]\n"
     ]
    },
    {
     "name": "stdout",
     "output_type": "stream",
     "text": [
      "epoch=24 / 30 train_loss=2.8903 valid_loss=3.2432 stale=3 time=0.29m eta=1.7m\n",
      "---->Initiating a training run\n"
     ]
    },
    {
     "name": "stderr",
     "output_type": "stream",
     "text": [
      "100%|██████████████████████████████████████████████████████████████████████████████████████| 26/26 [00:15<00:00,  1.66it/s]\n"
     ]
    },
    {
     "name": "stdout",
     "output_type": "stream",
     "text": [
      "---->Initiating a validation run\n"
     ]
    },
    {
     "name": "stderr",
     "output_type": "stream",
     "text": [
      "100%|████████████████████████████████████████████████████████████████████████████████████████| 3/3 [00:01<00:00,  2.16it/s]\n"
     ]
    },
    {
     "name": "stdout",
     "output_type": "stream",
     "text": [
      "epoch=25 / 30 train_loss=2.9265 valid_loss=3.25 stale=4 time=0.29m eta=1.4m\n",
      "---->Initiating a training run\n"
     ]
    },
    {
     "name": "stderr",
     "output_type": "stream",
     "text": [
      " 12%|██████████                                                                             | 3/26 [00:01<00:13,  1.69it/s]"
     ]
    }
   ],
   "source": [
    "import tqdm\n",
    "\n",
    "lr = 1e-4\n",
    "n_epochs = 30\n",
    "lmbd = 0.1\n",
    "u = 0.01\n",
    "v = 0.01\n",
    "patience = 50\n",
    "\n",
    "optimizer = torch.optim.SGD(list(encoder.parameters()) + list(decoder.parameters()), lr=lr)\n",
    "\n",
    "torch.cuda.empty_cache()\n",
    "\n",
    "t0_initial = time.time()\n",
    "\n",
    "losses_train_tot, losses_train_var, losses_train_invar, losses_train_cross = [], [], [], []\n",
    "losses_valid_tot, losses_valid_var, losses_valid_invar, losses_valid_cross = [], [], [], []\n",
    "\n",
    "best_val_loss_tot, best_val_loss_var, best_val_loss_invar, best_val_cross = 99999.9, 99999.9, 99999.9, 99999.9\n",
    "stale_epochs = 0\n",
    "\n",
    "for epoch in range(n_epochs):\n",
    "    t0 = time.time()\n",
    "\n",
    "    if stale_epochs > patience:\n",
    "        print(\"breaking due to stale epochs\")\n",
    "        break\n",
    "\n",
    "    # training step\n",
    "    losses_t_tot, losses_t_var, losses_t_invar, losses_t_cross = train(\n",
    "        device,\n",
    "        encoder,\n",
    "        decoder,\n",
    "        train_loader,\n",
    "        valid_loader,\n",
    "        optimizer,\n",
    "        lmbd,\n",
    "        u,\n",
    "        v,\n",
    "    )\n",
    "\n",
    "    losses_train_tot.append(losses_t_tot)\n",
    "    losses_train_var.append(losses_t_var)\n",
    "    losses_train_invar.append(losses_t_invar)\n",
    "    losses_train_cross.append(losses_t_cross)\n",
    "\n",
    "    # validation step\n",
    "    losses_v_tot, losses_v_var, losses_v_invar, losses_v_cross = validation_run(\n",
    "        device,\n",
    "        encoder,\n",
    "        decoder,\n",
    "        train_loader,\n",
    "        valid_loader,\n",
    "        lmbd,\n",
    "        u,\n",
    "        v,\n",
    "    )\n",
    "\n",
    "    losses_valid_tot.append(losses_v_tot)\n",
    "    losses_valid_var.append(losses_v_var)\n",
    "    losses_valid_invar.append(losses_v_invar)\n",
    "    losses_valid_cross.append(losses_v_cross)\n",
    "\n",
    "    # save the lowest value of each component of the loss to print it on the legend of the loss plots\n",
    "    if losses_v_var < best_val_loss_var:\n",
    "        best_val_loss_var = losses_v_var\n",
    "        best_train_loss_var = losses_t_var\n",
    "\n",
    "    if losses_v_invar < best_val_loss_invar:\n",
    "        best_val_loss_invar = losses_v_invar\n",
    "        best_train_loss_invar = losses_t_invar\n",
    "\n",
    "    if losses_v_cross < best_val_cross:\n",
    "        best_val_loss_cross = losses_v_cross\n",
    "        best_train_loss_cross = losses_t_cross\n",
    "\n",
    "    # early-stopping\n",
    "    if losses_v_tot < best_val_loss_tot:\n",
    "        best_val_loss_tot = losses_v_tot\n",
    "        best_train_loss_tot = losses_t_tot\n",
    "\n",
    "        stale_epochs = 0\n",
    "\n",
    "    else:\n",
    "        stale_epochs += 1\n",
    "\n",
    "    t1 = time.time()\n",
    "\n",
    "    epochs_remaining = n_epochs - (epoch + 1)\n",
    "    time_per_epoch = (t1 - t0_initial) / (epoch + 1)\n",
    "    eta = epochs_remaining * time_per_epoch / 60\n",
    "\n",
    "    print(\n",
    "        f\"epoch={epoch + 1} / {n_epochs} \"\n",
    "        + f\"train_loss={round(losses_train_tot[epoch], 4)} \"\n",
    "        + f\"valid_loss={round(losses_valid_tot[epoch], 4)} \"\n",
    "        + f\"stale={stale_epochs} \"\n",
    "        + f\"time={round((t1-t0)/60, 2)}m \"\n",
    "        + f\"eta={round(eta, 1)}m\"\n",
    "    )\n",
    "\n",
    "print(\"----------------------------------------------------------\")\n",
    "print(f\"Done with training. Total training time is {round((time.time() - t0_initial)/60,3)}min\")"
   ]
  },
  {
   "cell_type": "code",
   "execution_count": null,
   "id": "f0b87961",
   "metadata": {
    "scrolled": false
   },
   "outputs": [],
   "source": [
    "%matplotlib inline\n",
    "plt.rcParams.update({\"font.size\": 15})\n",
    "\n",
    "# make total loss plot\n",
    "fig, ax = plt.subplots(2,2, figsize=(10,10))\n",
    "ax[0,0].plot(range(len(losses_train_tot)), losses_train_tot, label=\"training ({:.2f})\".format(best_train_loss_tot))\n",
    "ax[0,0].plot(range(len(losses_valid_tot)), losses_valid_tot, label=\"validation ({:.2f})\".format(best_val_loss_tot))\n",
    "ax[0,0].set_xlabel(\"Epochs\")\n",
    "ax[0,0].set_ylabel(\"Total Loss\")\n",
    "ax[0,0].legend(title=\"VICReg\", loc=\"best\", title_fontsize=15, fontsize=10)\n",
    "\n",
    "# make variance loss plot\n",
    "ax[1,0].plot(range(len(losses_train_var)), losses_train_var, label=\"training ({:.2f})\".format(best_train_loss_var))\n",
    "ax[1,0].plot(range(len(losses_valid_var)), losses_valid_var, label=\"validation ({:.2f})\".format(best_val_loss_var))\n",
    "ax[1,0].set_xlabel(\"Epochs\")\n",
    "ax[1,0].set_ylabel(\"Variance Loss\")\n",
    "ax[1,0].legend(title=\"VICReg\", loc=\"best\", title_fontsize=15, fontsize=10)\n",
    "\n",
    "# make invariance loss plot\n",
    "ax[0,1].plot(range(len(losses_train_invar)), losses_train_invar, label=\"training ({:.2f})\".format(best_train_loss_invar))\n",
    "ax[0,1].plot(range(len(losses_valid_invar)), losses_valid_invar, label=\"validation ({:.2f})\".format(best_val_loss_invar))\n",
    "ax[0,1].set_xlabel(\"Epochs\")\n",
    "ax[0,1].set_ylabel(\"Invariance Loss\")\n",
    "ax[0,1].legend(title=\"VICReg\", loc=\"best\", title_fontsize=15, fontsize=10)\n",
    "\n",
    "# make covariance loss plot\n",
    "ax[1,1].plot(range(len(losses_train_cross)), losses_train_cross, label=\"training ({:.2f})\".format(best_train_loss_cross))\n",
    "ax[1,1].plot(range(len(losses_valid_cross)), losses_valid_cross, label=\"validation ({:.2f})\".format(best_val_loss_cross))\n",
    "ax[1,1].set_xlabel(\"Epochs\")\n",
    "ax[1,1].set_ylabel(\"Covariance Loss\")\n",
    "ax[1,1].legend(title=\"VICReg\", loc=\"best\", title_fontsize=15, fontsize=10)"
   ]
  },
  {
   "cell_type": "code",
   "execution_count": null,
   "id": "3651aa66",
   "metadata": {},
   "outputs": [],
   "source": []
  }
 ],
 "metadata": {
  "kernelspec": {
   "display_name": "Python 3 (ipykernel)",
   "language": "python",
   "name": "python3"
  },
  "language_info": {
   "codemirror_mode": {
    "name": "ipython",
    "version": 3
   },
   "file_extension": ".py",
   "mimetype": "text/x-python",
   "name": "python",
   "nbconvert_exporter": "python",
   "pygments_lexer": "ipython3",
   "version": "3.10.6"
  }
 },
 "nbformat": 4,
 "nbformat_minor": 5
}
