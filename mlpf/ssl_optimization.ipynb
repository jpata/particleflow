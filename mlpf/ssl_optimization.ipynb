{
 "cells": [
  {
   "cell_type": "code",
   "execution_count": 5,
   "id": "9443fc6c",
   "metadata": {},
   "outputs": [
    {
     "name": "stdout",
     "output_type": "stream",
     "text": [
      "Will use NVIDIA GeForce GTX 1080 Ti\n"
     ]
    }
   ],
   "source": [
    "import datetime\n",
    "import os.path as osp\n",
    "import platform\n",
    "\n",
    "import matplotlib\n",
    "import mplhep\n",
    "import numpy as np\n",
    "import torch\n",
    "import torch_geometric\n",
    "from pyg_ssl.args import parse_args\n",
    "from pyg_ssl.mlpf import MLPF\n",
    "from pyg_ssl.training_mlpf import training_loop_mlpf\n",
    "from pyg_ssl.training_VICReg import training_loop_VICReg\n",
    "from pyg_ssl.utils import CLUSTERS_X, TRACKS_X, data_split, load_VICReg, save_MLPF, save_VICReg, distinguish_PFelements, combine_PFelements\n",
    "from pyg_ssl.VICReg import DECODER, ENCODER\n",
    "\n",
    "matplotlib.use(\"Agg\")\n",
    "mplhep.style.use(mplhep.styles.CMS)\n",
    "\n",
    "# Ignore divide by 0 errors\n",
    "np.seterr(divide=\"ignore\", invalid=\"ignore\")\n",
    "\n",
    "# define the global base device\n",
    "if torch.cuda.device_count():\n",
    "    device = torch.device(\"cuda:0\")\n",
    "    print(f\"Will use {torch.cuda.get_device_name(device)}\")\n",
    "else:\n",
    "    device = \"cpu\"\n",
    "    print(\"Will use cpu\")"
   ]
  },
  {
   "cell_type": "code",
   "execution_count": 6,
   "id": "6fff36d3",
   "metadata": {},
   "outputs": [
    {
     "name": "stdout",
     "output_type": "stream",
     "text": [
      "Will use data split mode `quick`\n",
      "Will use 25843 events to train VICReg\n",
      "Will use 2871 events to validate VICReg\n",
      "Will use 6461 events to train MLPF\n",
      "Will use 718 events to validate MLPF\n"
     ]
    }
   ],
   "source": [
    "# load the clic dataset\n",
    "data_VICReg_train, data_VICReg_valid, data_mlpf_train, data_mlpf_valid, data_test_qcd, data_test_ttbar = data_split(\n",
    "    \"/pfclicvol/data/clic_edm4hep\", \"quick\"\n",
    ")"
   ]
  },
  {
   "cell_type": "code",
   "execution_count": 51,
   "id": "8f728d0e",
   "metadata": {},
   "outputs": [
    {
     "name": "stdout",
     "output_type": "stream",
     "text": [
      "Encoder ENCODER(\n",
      "  (nn1): Sequential(\n",
      "    (0): Linear(in_features=14, out_features=256, bias=True)\n",
      "    (1): ELU(alpha=1.0)\n",
      "    (2): Linear(in_features=256, out_features=256, bias=True)\n",
      "    (3): ELU(alpha=1.0)\n",
      "    (4): Linear(in_features=256, out_features=256, bias=True)\n",
      "    (5): ELU(alpha=1.0)\n",
      "    (6): Linear(in_features=256, out_features=256, bias=True)\n",
      "  )\n",
      "  (nn2): Sequential(\n",
      "    (0): Linear(in_features=15, out_features=256, bias=True)\n",
      "    (1): ELU(alpha=1.0)\n",
      "    (2): Linear(in_features=256, out_features=256, bias=True)\n",
      "    (3): ELU(alpha=1.0)\n",
      "    (4): Linear(in_features=256, out_features=256, bias=True)\n",
      "    (5): ELU(alpha=1.0)\n",
      "    (6): Linear(in_features=256, out_features=256, bias=True)\n",
      "  )\n",
      "  (conv): ModuleList(\n",
      "    (0): GravNetConv(256, 256, k=32)\n",
      "    (1): GravNetConv(256, 256, k=32)\n",
      "    (2): GravNetConv(256, 256, k=32)\n",
      "  )\n",
      ")\n",
      "Decoder DECODER(\n",
      "  (expander): Sequential(\n",
      "    (0): Linear(in_features=256, out_features=256, bias=True)\n",
      "    (1): ELU(alpha=1.0)\n",
      "    (2): Linear(in_features=256, out_features=256, bias=True)\n",
      "    (3): ELU(alpha=1.0)\n",
      "    (4): Linear(in_features=256, out_features=256, bias=True)\n",
      "    (5): ELU(alpha=1.0)\n",
      "    (6): Linear(in_features=256, out_features=256, bias=True)\n",
      "  )\n",
      ")\n"
     ]
    }
   ],
   "source": [
    "embedding_dim_VICReg = 256\n",
    "width_encoder = 256 \n",
    "num_convs = 3\n",
    "expand_dim = 256\n",
    "width_decoder = 256\n",
    "\n",
    "encoder_model_kwargs = {\n",
    "    \"embedding_dim\": embedding_dim_VICReg,\n",
    "    \"width\": width_encoder,\n",
    "    \"num_convs\": num_convs,\n",
    "    \"space_dim\": 4,\n",
    "    \"propagate_dim\": 22,\n",
    "    \"k\": 32,\n",
    "}\n",
    "\n",
    "decoder_model_kwargs = {\n",
    "    \"input_dim\": embedding_dim_VICReg,\n",
    "    \"output_dim\": expand_dim,\n",
    "    \"width\": width_decoder,\n",
    "}\n",
    "\n",
    "encoder = ENCODER(**encoder_model_kwargs).to(device)\n",
    "decoder = DECODER(**decoder_model_kwargs).to(device)\n",
    "\n",
    "print(\"Encoder\", encoder)\n",
    "print(\"Decoder\", decoder)"
   ]
  },
  {
   "cell_type": "code",
   "execution_count": 52,
   "id": "d0ab486a",
   "metadata": {},
   "outputs": [],
   "source": [
    "import json\n",
    "import pickle as pkl\n",
    "import time\n",
    "\n",
    "import matplotlib\n",
    "import matplotlib.pyplot as plt\n",
    "import numpy as np\n",
    "import torch\n",
    "import torch.nn.functional as F\n",
    "from torch_geometric.nn import global_mean_pool\n",
    "\n",
    "\n",
    "# VICReg loss function\n",
    "def criterion(x, y, device=\"cuda\", lmbd=25, epsilon=1e-3):\n",
    "    bs = x.size(0)\n",
    "    emb = x.size(1)\n",
    "\n",
    "    std_x = torch.sqrt(x.var(dim=0) + epsilon)\n",
    "    std_y = torch.sqrt(y.var(dim=0) + epsilon)\n",
    "    var_loss = torch.mean(F.relu(1 - std_x)) + torch.mean(F.relu(1 - std_y))\n",
    "\n",
    "    invar_loss = F.mse_loss(x, y)\n",
    "\n",
    "    xNorm = (x - x.mean(0)) / x.std(0)\n",
    "    yNorm = (y - y.mean(0)) / y.std(0)\n",
    "    crossCorMat = (xNorm.T @ yNorm) / bs\n",
    "    cross_loss = (crossCorMat * lmbd - torch.eye(emb, device=torch.device(device)) * lmbd).pow(2).sum()\n",
    "\n",
    "    return var_loss, invar_loss, cross_loss\n",
    "\n",
    "\n",
    "@torch.no_grad()\n",
    "def validation_run(\n",
    "    device,\n",
    "    encoder,\n",
    "    decoder,\n",
    "    train_loader,\n",
    "    valid_loader,\n",
    "    lmbd,\n",
    "    u,\n",
    "    v,\n",
    "):\n",
    "    with torch.no_grad():\n",
    "        optimizer = None\n",
    "        ret = train(\n",
    "            device,\n",
    "            encoder,\n",
    "            decoder,\n",
    "            train_loader,\n",
    "            valid_loader,\n",
    "            optimizer,\n",
    "            lmbd,\n",
    "            u,\n",
    "            v,\n",
    "        )\n",
    "    return ret\n",
    "\n",
    "\n",
    "def train(\n",
    "    device,\n",
    "    encoder,\n",
    "    decoder,\n",
    "    train_loader,\n",
    "    valid_loader,\n",
    "    optimizer,\n",
    "    lmbd,\n",
    "    u,\n",
    "    v,\n",
    "):\n",
    "\n",
    "    is_train = not (optimizer is None)\n",
    "\n",
    "    if is_train:\n",
    "        print(\"---->Initiating a training run\")\n",
    "        encoder.train()\n",
    "        decoder.train()\n",
    "        loader = train_loader\n",
    "    else:\n",
    "        print(\"---->Initiating a validation run\")\n",
    "        encoder.eval()\n",
    "        decoder.eval()\n",
    "        loader = valid_loader\n",
    "\n",
    "    # initialize loss counters\n",
    "    losses = 0.0\n",
    "    var_losses, invar_losses, cross_losses = 0.0, 0.0, 0.0\n",
    "\n",
    "    for i, batch in tqdm.tqdm(enumerate(loader), total=len(loader)):\n",
    "\n",
    "        # make transformation\n",
    "        tracks, clusters = distinguish_PFelements(batch.to(device))\n",
    "\n",
    "        # ENCODE\n",
    "        embedding_tracks, embedding_clusters = encoder(tracks, clusters)\n",
    "        # DECODE\n",
    "        out_tracks, out_clusters = decoder(embedding_tracks, embedding_clusters)\n",
    "\n",
    "        # POOLING\n",
    "        pooled_tracks = global_mean_pool(out_tracks, tracks.batch)\n",
    "        pooled_clusters = global_mean_pool(out_clusters, clusters.batch)\n",
    "        \n",
    "        # compute loss\n",
    "        var_loss, invar_loss, cross_loss = criterion(pooled_tracks, pooled_clusters, device, lmbd)\n",
    "        loss = u * var_loss + v * invar_loss + cross_loss\n",
    "\n",
    "        # update parameters\n",
    "        if is_train:\n",
    "            for param in encoder.parameters():\n",
    "                param.grad = None\n",
    "            for param in decoder.parameters():\n",
    "                param.grad = None\n",
    "            loss.backward()\n",
    "            optimizer.step()\n",
    "\n",
    "        losses += loss.detach()\n",
    "        var_losses += var_loss.detach()\n",
    "        invar_losses += invar_loss.detach()\n",
    "        cross_losses += cross_loss.detach()\n",
    "\n",
    "    losses = losses.cpu().item() / (len(loader))\n",
    "    var_losses = var_losses.cpu().item() / (len(loader))\n",
    "    invar_losses = invar_losses.cpu().item() / (len(loader))\n",
    "    cross_losses = cross_losses.cpu().item() / (len(loader))\n",
    "\n",
    "    return losses, var_losses, invar_losses, cross_losses"
   ]
  },
  {
   "cell_type": "code",
   "execution_count": 53,
   "id": "39d7383f",
   "metadata": {},
   "outputs": [],
   "source": [
    "batch_size_VICReg = 1000\n",
    "train_loader = torch_geometric.loader.DataLoader(data_VICReg_train, batch_size_VICReg)\n",
    "valid_loader = torch_geometric.loader.DataLoader(data_VICReg_valid, batch_size_VICReg)"
   ]
  },
  {
   "cell_type": "code",
   "execution_count": 54,
   "id": "cab9d440",
   "metadata": {
    "scrolled": false
   },
   "outputs": [
    {
     "name": "stdout",
     "output_type": "stream",
     "text": [
      "---->Initiating a training run\n"
     ]
    },
    {
     "name": "stderr",
     "output_type": "stream",
     "text": [
      "100%|██████████████████████████████████████████████████████████████████████████████████████████████████| 26/26 [00:16<00:00,  1.56it/s]\n"
     ]
    },
    {
     "name": "stdout",
     "output_type": "stream",
     "text": [
      "---->Initiating a validation run\n"
     ]
    },
    {
     "name": "stderr",
     "output_type": "stream",
     "text": [
      "100%|████████████████████████████████████████████████████████████████████████████████████████████████████| 3/3 [00:01<00:00,  2.06it/s]\n"
     ]
    },
    {
     "name": "stdout",
     "output_type": "stream",
     "text": [
      "epoch=1 / 100 train_loss=4.6347 valid_loss=3.0957 stale=0 time=0.3m eta=30.1m\n",
      "---->Initiating a training run\n"
     ]
    },
    {
     "name": "stderr",
     "output_type": "stream",
     "text": [
      "100%|██████████████████████████████████████████████████████████████████████████████████████████████████| 26/26 [00:16<00:00,  1.56it/s]\n"
     ]
    },
    {
     "name": "stdout",
     "output_type": "stream",
     "text": [
      "---->Initiating a validation run\n"
     ]
    },
    {
     "name": "stderr",
     "output_type": "stream",
     "text": [
      "100%|████████████████████████████████████████████████████████████████████████████████████████████████████| 3/3 [00:01<00:00,  2.05it/s]\n"
     ]
    },
    {
     "name": "stdout",
     "output_type": "stream",
     "text": [
      "epoch=2 / 100 train_loss=3.7514 valid_loss=3.0436 stale=0 time=0.3m eta=29.8m\n",
      "---->Initiating a training run\n"
     ]
    },
    {
     "name": "stderr",
     "output_type": "stream",
     "text": [
      "100%|██████████████████████████████████████████████████████████████████████████████████████████████████| 26/26 [00:16<00:00,  1.56it/s]\n"
     ]
    },
    {
     "name": "stdout",
     "output_type": "stream",
     "text": [
      "---->Initiating a validation run\n"
     ]
    },
    {
     "name": "stderr",
     "output_type": "stream",
     "text": [
      "100%|████████████████████████████████████████████████████████████████████████████████████████████████████| 3/3 [00:01<00:00,  2.05it/s]\n"
     ]
    },
    {
     "name": "stdout",
     "output_type": "stream",
     "text": [
      "epoch=3 / 100 train_loss=3.4974 valid_loss=3.0262 stale=0 time=0.3m eta=29.5m\n",
      "---->Initiating a training run\n"
     ]
    },
    {
     "name": "stderr",
     "output_type": "stream",
     "text": [
      "100%|██████████████████████████████████████████████████████████████████████████████████████████████████| 26/26 [00:16<00:00,  1.55it/s]\n"
     ]
    },
    {
     "name": "stdout",
     "output_type": "stream",
     "text": [
      "---->Initiating a validation run\n"
     ]
    },
    {
     "name": "stderr",
     "output_type": "stream",
     "text": [
      "100%|████████████████████████████████████████████████████████████████████████████████████████████████████| 3/3 [00:01<00:00,  2.06it/s]\n"
     ]
    },
    {
     "name": "stdout",
     "output_type": "stream",
     "text": [
      "epoch=4 / 100 train_loss=3.3871 valid_loss=3.0171 stale=0 time=0.31m eta=29.2m\n",
      "---->Initiating a training run\n"
     ]
    },
    {
     "name": "stderr",
     "output_type": "stream",
     "text": [
      "100%|██████████████████████████████████████████████████████████████████████████████████████████████████| 26/26 [00:16<00:00,  1.55it/s]\n"
     ]
    },
    {
     "name": "stdout",
     "output_type": "stream",
     "text": [
      "---->Initiating a validation run\n"
     ]
    },
    {
     "name": "stderr",
     "output_type": "stream",
     "text": [
      "100%|████████████████████████████████████████████████████████████████████████████████████████████████████| 3/3 [00:01<00:00,  2.06it/s]\n"
     ]
    },
    {
     "name": "stdout",
     "output_type": "stream",
     "text": [
      "epoch=5 / 100 train_loss=3.3124 valid_loss=3.0131 stale=0 time=0.31m eta=29.0m\n",
      "---->Initiating a training run\n"
     ]
    },
    {
     "name": "stderr",
     "output_type": "stream",
     "text": [
      "100%|██████████████████████████████████████████████████████████████████████████████████████████████████| 26/26 [00:16<00:00,  1.55it/s]\n"
     ]
    },
    {
     "name": "stdout",
     "output_type": "stream",
     "text": [
      "---->Initiating a validation run\n"
     ]
    },
    {
     "name": "stderr",
     "output_type": "stream",
     "text": [
      "100%|████████████████████████████████████████████████████████████████████████████████████████████████████| 3/3 [00:01<00:00,  2.06it/s]\n"
     ]
    },
    {
     "name": "stdout",
     "output_type": "stream",
     "text": [
      "epoch=6 / 100 train_loss=3.2705 valid_loss=3.0125 stale=0 time=0.31m eta=28.7m\n",
      "---->Initiating a training run\n"
     ]
    },
    {
     "name": "stderr",
     "output_type": "stream",
     "text": [
      "100%|██████████████████████████████████████████████████████████████████████████████████████████████████| 26/26 [00:16<00:00,  1.55it/s]\n"
     ]
    },
    {
     "name": "stdout",
     "output_type": "stream",
     "text": [
      "---->Initiating a validation run\n"
     ]
    },
    {
     "name": "stderr",
     "output_type": "stream",
     "text": [
      "100%|████████████████████████████████████████████████████████████████████████████████████████████████████| 3/3 [00:01<00:00,  2.06it/s]\n"
     ]
    },
    {
     "name": "stdout",
     "output_type": "stream",
     "text": [
      "epoch=7 / 100 train_loss=3.248 valid_loss=3.0109 stale=0 time=0.31m eta=28.4m\n",
      "---->Initiating a training run\n"
     ]
    },
    {
     "name": "stderr",
     "output_type": "stream",
     "text": [
      "100%|██████████████████████████████████████████████████████████████████████████████████████████████████| 26/26 [00:16<00:00,  1.55it/s]\n"
     ]
    },
    {
     "name": "stdout",
     "output_type": "stream",
     "text": [
      "---->Initiating a validation run\n"
     ]
    },
    {
     "name": "stderr",
     "output_type": "stream",
     "text": [
      "100%|████████████████████████████████████████████████████████████████████████████████████████████████████| 3/3 [00:01<00:00,  2.05it/s]\n"
     ]
    },
    {
     "name": "stdout",
     "output_type": "stream",
     "text": [
      "epoch=8 / 100 train_loss=3.1933 valid_loss=3.011 stale=1 time=0.31m eta=28.1m\n",
      "---->Initiating a training run\n"
     ]
    },
    {
     "name": "stderr",
     "output_type": "stream",
     "text": [
      "100%|██████████████████████████████████████████████████████████████████████████████████████████████████| 26/26 [00:16<00:00,  1.54it/s]\n"
     ]
    },
    {
     "name": "stdout",
     "output_type": "stream",
     "text": [
      "---->Initiating a validation run\n"
     ]
    },
    {
     "name": "stderr",
     "output_type": "stream",
     "text": [
      "100%|████████████████████████████████████████████████████████████████████████████████████████████████████| 3/3 [00:01<00:00,  2.05it/s]\n"
     ]
    },
    {
     "name": "stdout",
     "output_type": "stream",
     "text": [
      "epoch=9 / 100 train_loss=3.1586 valid_loss=3.0132 stale=2 time=0.31m eta=27.8m\n",
      "---->Initiating a training run\n"
     ]
    },
    {
     "name": "stderr",
     "output_type": "stream",
     "text": [
      "100%|██████████████████████████████████████████████████████████████████████████████████████████████████| 26/26 [00:16<00:00,  1.55it/s]\n"
     ]
    },
    {
     "name": "stdout",
     "output_type": "stream",
     "text": [
      "---->Initiating a validation run\n"
     ]
    },
    {
     "name": "stderr",
     "output_type": "stream",
     "text": [
      "100%|████████████████████████████████████████████████████████████████████████████████████████████████████| 3/3 [00:01<00:00,  2.05it/s]\n"
     ]
    },
    {
     "name": "stdout",
     "output_type": "stream",
     "text": [
      "epoch=10 / 100 train_loss=3.139 valid_loss=3.0187 stale=3 time=0.31m eta=27.5m\n",
      "---->Initiating a training run\n"
     ]
    },
    {
     "name": "stderr",
     "output_type": "stream",
     "text": [
      "100%|██████████████████████████████████████████████████████████████████████████████████████████████████| 26/26 [00:16<00:00,  1.54it/s]\n"
     ]
    },
    {
     "name": "stdout",
     "output_type": "stream",
     "text": [
      "---->Initiating a validation run\n"
     ]
    },
    {
     "name": "stderr",
     "output_type": "stream",
     "text": [
      "100%|████████████████████████████████████████████████████████████████████████████████████████████████████| 3/3 [00:01<00:00,  2.04it/s]\n"
     ]
    },
    {
     "name": "stdout",
     "output_type": "stream",
     "text": [
      "epoch=11 / 100 train_loss=3.1092 valid_loss=3.0231 stale=4 time=0.31m eta=27.2m\n",
      "---->Initiating a training run\n"
     ]
    },
    {
     "name": "stderr",
     "output_type": "stream",
     "text": [
      "100%|██████████████████████████████████████████████████████████████████████████████████████████████████| 26/26 [00:16<00:00,  1.55it/s]\n"
     ]
    },
    {
     "name": "stdout",
     "output_type": "stream",
     "text": [
      "---->Initiating a validation run\n"
     ]
    },
    {
     "name": "stderr",
     "output_type": "stream",
     "text": [
      "100%|████████████████████████████████████████████████████████████████████████████████████████████████████| 3/3 [00:01<00:00,  2.05it/s]\n"
     ]
    },
    {
     "name": "stdout",
     "output_type": "stream",
     "text": [
      "epoch=12 / 100 train_loss=3.091 valid_loss=3.0236 stale=5 time=0.31m eta=26.9m\n",
      "---->Initiating a training run\n"
     ]
    },
    {
     "name": "stderr",
     "output_type": "stream",
     "text": [
      "100%|██████████████████████████████████████████████████████████████████████████████████████████████████| 26/26 [00:16<00:00,  1.54it/s]\n"
     ]
    },
    {
     "name": "stdout",
     "output_type": "stream",
     "text": [
      "---->Initiating a validation run\n"
     ]
    },
    {
     "name": "stderr",
     "output_type": "stream",
     "text": [
      "100%|████████████████████████████████████████████████████████████████████████████████████████████████████| 3/3 [00:01<00:00,  2.06it/s]\n"
     ]
    },
    {
     "name": "stdout",
     "output_type": "stream",
     "text": [
      "epoch=13 / 100 train_loss=3.0711 valid_loss=3.0295 stale=6 time=0.31m eta=26.6m\n",
      "---->Initiating a training run\n"
     ]
    },
    {
     "name": "stderr",
     "output_type": "stream",
     "text": [
      "100%|██████████████████████████████████████████████████████████████████████████████████████████████████| 26/26 [00:16<00:00,  1.54it/s]\n"
     ]
    },
    {
     "name": "stdout",
     "output_type": "stream",
     "text": [
      "---->Initiating a validation run\n"
     ]
    },
    {
     "name": "stderr",
     "output_type": "stream",
     "text": [
      "100%|████████████████████████████████████████████████████████████████████████████████████████████████████| 3/3 [00:01<00:00,  2.06it/s]\n"
     ]
    },
    {
     "name": "stdout",
     "output_type": "stream",
     "text": [
      "epoch=14 / 100 train_loss=3.0685 valid_loss=3.03 stale=7 time=0.31m eta=26.3m\n",
      "---->Initiating a training run\n"
     ]
    },
    {
     "name": "stderr",
     "output_type": "stream",
     "text": [
      "100%|██████████████████████████████████████████████████████████████████████████████████████████████████| 26/26 [00:16<00:00,  1.54it/s]\n"
     ]
    },
    {
     "name": "stdout",
     "output_type": "stream",
     "text": [
      "---->Initiating a validation run\n"
     ]
    },
    {
     "name": "stderr",
     "output_type": "stream",
     "text": [
      "100%|████████████████████████████████████████████████████████████████████████████████████████████████████| 3/3 [00:01<00:00,  2.05it/s]\n"
     ]
    },
    {
     "name": "stdout",
     "output_type": "stream",
     "text": [
      "epoch=15 / 100 train_loss=3.057 valid_loss=3.039 stale=8 time=0.31m eta=26.0m\n",
      "---->Initiating a training run\n"
     ]
    },
    {
     "name": "stderr",
     "output_type": "stream",
     "text": [
      "100%|██████████████████████████████████████████████████████████████████████████████████████████████████| 26/26 [00:16<00:00,  1.54it/s]\n"
     ]
    },
    {
     "name": "stdout",
     "output_type": "stream",
     "text": [
      "---->Initiating a validation run\n"
     ]
    },
    {
     "name": "stderr",
     "output_type": "stream",
     "text": [
      "100%|████████████████████████████████████████████████████████████████████████████████████████████████████| 3/3 [00:01<00:00,  2.05it/s]\n"
     ]
    },
    {
     "name": "stdout",
     "output_type": "stream",
     "text": [
      "epoch=16 / 100 train_loss=3.0329 valid_loss=3.0442 stale=9 time=0.31m eta=25.7m\n",
      "---->Initiating a training run\n"
     ]
    },
    {
     "name": "stderr",
     "output_type": "stream",
     "text": [
      "100%|██████████████████████████████████████████████████████████████████████████████████████████████████| 26/26 [00:16<00:00,  1.54it/s]\n"
     ]
    },
    {
     "name": "stdout",
     "output_type": "stream",
     "text": [
      "---->Initiating a validation run\n"
     ]
    },
    {
     "name": "stderr",
     "output_type": "stream",
     "text": [
      "100%|████████████████████████████████████████████████████████████████████████████████████████████████████| 3/3 [00:01<00:00,  2.04it/s]\n"
     ]
    },
    {
     "name": "stdout",
     "output_type": "stream",
     "text": [
      "epoch=17 / 100 train_loss=3.0123 valid_loss=3.0487 stale=10 time=0.31m eta=25.4m\n",
      "---->Initiating a training run\n"
     ]
    },
    {
     "name": "stderr",
     "output_type": "stream",
     "text": [
      "100%|██████████████████████████████████████████████████████████████████████████████████████████████████| 26/26 [00:16<00:00,  1.54it/s]\n"
     ]
    },
    {
     "name": "stdout",
     "output_type": "stream",
     "text": [
      "---->Initiating a validation run\n"
     ]
    },
    {
     "name": "stderr",
     "output_type": "stream",
     "text": [
      "100%|████████████████████████████████████████████████████████████████████████████████████████████████████| 3/3 [00:01<00:00,  2.03it/s]\n"
     ]
    },
    {
     "name": "stdout",
     "output_type": "stream",
     "text": [
      "epoch=18 / 100 train_loss=3.0034 valid_loss=3.0557 stale=11 time=0.31m eta=25.1m\n",
      "---->Initiating a training run\n"
     ]
    },
    {
     "name": "stderr",
     "output_type": "stream",
     "text": [
      "100%|██████████████████████████████████████████████████████████████████████████████████████████████████| 26/26 [00:16<00:00,  1.54it/s]\n"
     ]
    },
    {
     "name": "stdout",
     "output_type": "stream",
     "text": [
      "---->Initiating a validation run\n"
     ]
    },
    {
     "name": "stderr",
     "output_type": "stream",
     "text": [
      "100%|████████████████████████████████████████████████████████████████████████████████████████████████████| 3/3 [00:01<00:00,  2.05it/s]\n"
     ]
    },
    {
     "name": "stdout",
     "output_type": "stream",
     "text": [
      "epoch=19 / 100 train_loss=2.9966 valid_loss=3.062 stale=12 time=0.31m eta=24.8m\n",
      "---->Initiating a training run\n"
     ]
    },
    {
     "name": "stderr",
     "output_type": "stream",
     "text": [
      "100%|██████████████████████████████████████████████████████████████████████████████████████████████████| 26/26 [00:16<00:00,  1.54it/s]\n"
     ]
    },
    {
     "name": "stdout",
     "output_type": "stream",
     "text": [
      "---->Initiating a validation run\n"
     ]
    },
    {
     "name": "stderr",
     "output_type": "stream",
     "text": [
      "100%|████████████████████████████████████████████████████████████████████████████████████████████████████| 3/3 [00:01<00:00,  2.05it/s]\n"
     ]
    },
    {
     "name": "stdout",
     "output_type": "stream",
     "text": [
      "epoch=20 / 100 train_loss=2.977 valid_loss=3.068 stale=13 time=0.31m eta=24.5m\n",
      "---->Initiating a training run\n"
     ]
    },
    {
     "name": "stderr",
     "output_type": "stream",
     "text": [
      "100%|██████████████████████████████████████████████████████████████████████████████████████████████████| 26/26 [00:16<00:00,  1.54it/s]\n"
     ]
    },
    {
     "name": "stdout",
     "output_type": "stream",
     "text": [
      "---->Initiating a validation run\n"
     ]
    },
    {
     "name": "stderr",
     "output_type": "stream",
     "text": [
      "100%|████████████████████████████████████████████████████████████████████████████████████████████████████| 3/3 [00:01<00:00,  2.05it/s]\n"
     ]
    },
    {
     "name": "stdout",
     "output_type": "stream",
     "text": [
      "epoch=21 / 100 train_loss=2.9751 valid_loss=3.0734 stale=14 time=0.31m eta=24.2m\n",
      "---->Initiating a training run\n"
     ]
    },
    {
     "name": "stderr",
     "output_type": "stream",
     "text": [
      "100%|██████████████████████████████████████████████████████████████████████████████████████████████████| 26/26 [00:16<00:00,  1.54it/s]\n"
     ]
    },
    {
     "name": "stdout",
     "output_type": "stream",
     "text": [
      "---->Initiating a validation run\n"
     ]
    },
    {
     "name": "stderr",
     "output_type": "stream",
     "text": [
      "100%|████████████████████████████████████████████████████████████████████████████████████████████████████| 3/3 [00:01<00:00,  2.05it/s]\n"
     ]
    },
    {
     "name": "stdout",
     "output_type": "stream",
     "text": [
      "epoch=22 / 100 train_loss=2.9609 valid_loss=3.0774 stale=15 time=0.31m eta=23.9m\n",
      "---->Initiating a training run\n"
     ]
    },
    {
     "name": "stderr",
     "output_type": "stream",
     "text": [
      "100%|██████████████████████████████████████████████████████████████████████████████████████████████████| 26/26 [00:16<00:00,  1.54it/s]\n"
     ]
    },
    {
     "name": "stdout",
     "output_type": "stream",
     "text": [
      "---->Initiating a validation run\n"
     ]
    },
    {
     "name": "stderr",
     "output_type": "stream",
     "text": [
      "100%|████████████████████████████████████████████████████████████████████████████████████████████████████| 3/3 [00:01<00:00,  2.05it/s]\n"
     ]
    },
    {
     "name": "stdout",
     "output_type": "stream",
     "text": [
      "epoch=23 / 100 train_loss=2.9483 valid_loss=3.0814 stale=16 time=0.31m eta=23.6m\n",
      "---->Initiating a training run\n"
     ]
    },
    {
     "name": "stderr",
     "output_type": "stream",
     "text": [
      "100%|██████████████████████████████████████████████████████████████████████████████████████████████████| 26/26 [00:16<00:00,  1.54it/s]\n"
     ]
    },
    {
     "name": "stdout",
     "output_type": "stream",
     "text": [
      "---->Initiating a validation run\n"
     ]
    },
    {
     "name": "stderr",
     "output_type": "stream",
     "text": [
      "100%|████████████████████████████████████████████████████████████████████████████████████████████████████| 3/3 [00:01<00:00,  2.05it/s]\n"
     ]
    },
    {
     "name": "stdout",
     "output_type": "stream",
     "text": [
      "epoch=24 / 100 train_loss=2.9374 valid_loss=3.0869 stale=17 time=0.31m eta=23.3m\n",
      "---->Initiating a training run\n"
     ]
    },
    {
     "name": "stderr",
     "output_type": "stream",
     "text": [
      "100%|██████████████████████████████████████████████████████████████████████████████████████████████████| 26/26 [00:16<00:00,  1.54it/s]\n"
     ]
    },
    {
     "name": "stdout",
     "output_type": "stream",
     "text": [
      "---->Initiating a validation run\n"
     ]
    },
    {
     "name": "stderr",
     "output_type": "stream",
     "text": [
      "100%|████████████████████████████████████████████████████████████████████████████████████████████████████| 3/3 [00:01<00:00,  2.03it/s]\n"
     ]
    },
    {
     "name": "stdout",
     "output_type": "stream",
     "text": [
      "epoch=25 / 100 train_loss=2.9324 valid_loss=3.0894 stale=18 time=0.31m eta=23.0m\n",
      "---->Initiating a training run\n"
     ]
    },
    {
     "name": "stderr",
     "output_type": "stream",
     "text": [
      "100%|██████████████████████████████████████████████████████████████████████████████████████████████████| 26/26 [00:16<00:00,  1.54it/s]\n"
     ]
    },
    {
     "name": "stdout",
     "output_type": "stream",
     "text": [
      "---->Initiating a validation run\n"
     ]
    },
    {
     "name": "stderr",
     "output_type": "stream",
     "text": [
      "100%|████████████████████████████████████████████████████████████████████████████████████████████████████| 3/3 [00:01<00:00,  2.05it/s]\n"
     ]
    },
    {
     "name": "stdout",
     "output_type": "stream",
     "text": [
      "epoch=26 / 100 train_loss=2.9232 valid_loss=3.0963 stale=19 time=0.31m eta=22.7m\n",
      "---->Initiating a training run\n"
     ]
    },
    {
     "name": "stderr",
     "output_type": "stream",
     "text": [
      "100%|██████████████████████████████████████████████████████████████████████████████████████████████████| 26/26 [00:16<00:00,  1.54it/s]\n"
     ]
    },
    {
     "name": "stdout",
     "output_type": "stream",
     "text": [
      "---->Initiating a validation run\n"
     ]
    },
    {
     "name": "stderr",
     "output_type": "stream",
     "text": [
      "100%|████████████████████████████████████████████████████████████████████████████████████████████████████| 3/3 [00:01<00:00,  2.05it/s]\n"
     ]
    },
    {
     "name": "stdout",
     "output_type": "stream",
     "text": [
      "epoch=27 / 100 train_loss=2.9266 valid_loss=3.1012 stale=20 time=0.31m eta=22.4m\n",
      "---->Initiating a training run\n"
     ]
    },
    {
     "name": "stderr",
     "output_type": "stream",
     "text": [
      "100%|██████████████████████████████████████████████████████████████████████████████████████████████████| 26/26 [00:16<00:00,  1.54it/s]\n"
     ]
    },
    {
     "name": "stdout",
     "output_type": "stream",
     "text": [
      "---->Initiating a validation run\n"
     ]
    },
    {
     "name": "stderr",
     "output_type": "stream",
     "text": [
      "100%|████████████████████████████████████████████████████████████████████████████████████████████████████| 3/3 [00:01<00:00,  2.05it/s]\n"
     ]
    },
    {
     "name": "stdout",
     "output_type": "stream",
     "text": [
      "epoch=28 / 100 train_loss=2.9139 valid_loss=3.1036 stale=21 time=0.31m eta=22.1m\n",
      "---->Initiating a training run\n"
     ]
    },
    {
     "name": "stderr",
     "output_type": "stream",
     "text": [
      "100%|██████████████████████████████████████████████████████████████████████████████████████████████████| 26/26 [00:16<00:00,  1.54it/s]\n"
     ]
    },
    {
     "name": "stdout",
     "output_type": "stream",
     "text": [
      "---->Initiating a validation run\n"
     ]
    },
    {
     "name": "stderr",
     "output_type": "stream",
     "text": [
      "100%|████████████████████████████████████████████████████████████████████████████████████████████████████| 3/3 [00:01<00:00,  2.05it/s]\n"
     ]
    },
    {
     "name": "stdout",
     "output_type": "stream",
     "text": [
      "epoch=29 / 100 train_loss=2.9049 valid_loss=3.1089 stale=22 time=0.31m eta=21.8m\n",
      "---->Initiating a training run\n"
     ]
    },
    {
     "name": "stderr",
     "output_type": "stream",
     "text": [
      "100%|██████████████████████████████████████████████████████████████████████████████████████████████████| 26/26 [00:16<00:00,  1.54it/s]\n"
     ]
    },
    {
     "name": "stdout",
     "output_type": "stream",
     "text": [
      "---->Initiating a validation run\n"
     ]
    },
    {
     "name": "stderr",
     "output_type": "stream",
     "text": [
      "100%|████████████████████████████████████████████████████████████████████████████████████████████████████| 3/3 [00:01<00:00,  2.05it/s]\n"
     ]
    },
    {
     "name": "stdout",
     "output_type": "stream",
     "text": [
      "epoch=30 / 100 train_loss=2.8999 valid_loss=3.1117 stale=23 time=0.31m eta=21.5m\n",
      "---->Initiating a training run\n"
     ]
    },
    {
     "name": "stderr",
     "output_type": "stream",
     "text": [
      "100%|██████████████████████████████████████████████████████████████████████████████████████████████████| 26/26 [00:16<00:00,  1.54it/s]\n"
     ]
    },
    {
     "name": "stdout",
     "output_type": "stream",
     "text": [
      "---->Initiating a validation run\n"
     ]
    },
    {
     "name": "stderr",
     "output_type": "stream",
     "text": [
      "100%|████████████████████████████████████████████████████████████████████████████████████████████████████| 3/3 [00:01<00:00,  2.04it/s]\n"
     ]
    },
    {
     "name": "stdout",
     "output_type": "stream",
     "text": [
      "epoch=31 / 100 train_loss=2.8923 valid_loss=3.1173 stale=24 time=0.31m eta=21.2m\n",
      "---->Initiating a training run\n"
     ]
    },
    {
     "name": "stderr",
     "output_type": "stream",
     "text": [
      "100%|██████████████████████████████████████████████████████████████████████████████████████████████████| 26/26 [00:16<00:00,  1.54it/s]\n"
     ]
    },
    {
     "name": "stdout",
     "output_type": "stream",
     "text": [
      "---->Initiating a validation run\n"
     ]
    },
    {
     "name": "stderr",
     "output_type": "stream",
     "text": [
      "100%|████████████████████████████████████████████████████████████████████████████████████████████████████| 3/3 [00:01<00:00,  2.04it/s]\n"
     ]
    },
    {
     "name": "stdout",
     "output_type": "stream",
     "text": [
      "epoch=32 / 100 train_loss=2.908 valid_loss=3.1181 stale=25 time=0.31m eta=20.9m\n",
      "---->Initiating a training run\n"
     ]
    },
    {
     "name": "stderr",
     "output_type": "stream",
     "text": [
      "100%|██████████████████████████████████████████████████████████████████████████████████████████████████| 26/26 [00:16<00:00,  1.54it/s]\n"
     ]
    },
    {
     "name": "stdout",
     "output_type": "stream",
     "text": [
      "---->Initiating a validation run\n"
     ]
    },
    {
     "name": "stderr",
     "output_type": "stream",
     "text": [
      "100%|████████████████████████████████████████████████████████████████████████████████████████████████████| 3/3 [00:01<00:00,  2.05it/s]\n"
     ]
    },
    {
     "name": "stdout",
     "output_type": "stream",
     "text": [
      "epoch=33 / 100 train_loss=2.8854 valid_loss=3.1222 stale=26 time=0.31m eta=20.6m\n",
      "---->Initiating a training run\n"
     ]
    },
    {
     "name": "stderr",
     "output_type": "stream",
     "text": [
      "100%|██████████████████████████████████████████████████████████████████████████████████████████████████| 26/26 [00:16<00:00,  1.54it/s]\n"
     ]
    },
    {
     "name": "stdout",
     "output_type": "stream",
     "text": [
      "---->Initiating a validation run\n"
     ]
    },
    {
     "name": "stderr",
     "output_type": "stream",
     "text": [
      "100%|████████████████████████████████████████████████████████████████████████████████████████████████████| 3/3 [00:01<00:00,  2.05it/s]\n"
     ]
    },
    {
     "name": "stdout",
     "output_type": "stream",
     "text": [
      "epoch=34 / 100 train_loss=2.8739 valid_loss=3.1234 stale=27 time=0.31m eta=20.3m\n",
      "---->Initiating a training run\n"
     ]
    },
    {
     "name": "stderr",
     "output_type": "stream",
     "text": [
      "100%|██████████████████████████████████████████████████████████████████████████████████████████████████| 26/26 [00:16<00:00,  1.54it/s]\n"
     ]
    },
    {
     "name": "stdout",
     "output_type": "stream",
     "text": [
      "---->Initiating a validation run\n"
     ]
    },
    {
     "name": "stderr",
     "output_type": "stream",
     "text": [
      "100%|████████████████████████████████████████████████████████████████████████████████████████████████████| 3/3 [00:01<00:00,  2.05it/s]\n"
     ]
    },
    {
     "name": "stdout",
     "output_type": "stream",
     "text": [
      "epoch=35 / 100 train_loss=2.8708 valid_loss=3.1335 stale=28 time=0.31m eta=20.0m\n",
      "---->Initiating a training run\n"
     ]
    },
    {
     "name": "stderr",
     "output_type": "stream",
     "text": [
      "100%|██████████████████████████████████████████████████████████████████████████████████████████████████| 26/26 [00:16<00:00,  1.54it/s]\n"
     ]
    },
    {
     "name": "stdout",
     "output_type": "stream",
     "text": [
      "---->Initiating a validation run\n"
     ]
    },
    {
     "name": "stderr",
     "output_type": "stream",
     "text": [
      "100%|████████████████████████████████████████████████████████████████████████████████████████████████████| 3/3 [00:01<00:00,  2.06it/s]\n"
     ]
    },
    {
     "name": "stdout",
     "output_type": "stream",
     "text": [
      "epoch=36 / 100 train_loss=2.8638 valid_loss=3.1335 stale=29 time=0.31m eta=19.7m\n",
      "---->Initiating a training run\n"
     ]
    },
    {
     "name": "stderr",
     "output_type": "stream",
     "text": [
      "100%|██████████████████████████████████████████████████████████████████████████████████████████████████| 26/26 [00:16<00:00,  1.54it/s]\n"
     ]
    },
    {
     "name": "stdout",
     "output_type": "stream",
     "text": [
      "---->Initiating a validation run\n"
     ]
    },
    {
     "name": "stderr",
     "output_type": "stream",
     "text": [
      "100%|████████████████████████████████████████████████████████████████████████████████████████████████████| 3/3 [00:01<00:00,  2.04it/s]\n"
     ]
    },
    {
     "name": "stdout",
     "output_type": "stream",
     "text": [
      "epoch=37 / 100 train_loss=2.8567 valid_loss=3.1319 stale=30 time=0.31m eta=19.3m\n",
      "---->Initiating a training run\n"
     ]
    },
    {
     "name": "stderr",
     "output_type": "stream",
     "text": [
      "100%|██████████████████████████████████████████████████████████████████████████████████████████████████| 26/26 [00:16<00:00,  1.54it/s]\n"
     ]
    },
    {
     "name": "stdout",
     "output_type": "stream",
     "text": [
      "---->Initiating a validation run\n"
     ]
    },
    {
     "name": "stderr",
     "output_type": "stream",
     "text": [
      "100%|████████████████████████████████████████████████████████████████████████████████████████████████████| 3/3 [00:01<00:00,  2.05it/s]\n"
     ]
    },
    {
     "name": "stdout",
     "output_type": "stream",
     "text": [
      "epoch=38 / 100 train_loss=2.8513 valid_loss=3.1327 stale=31 time=0.31m eta=19.0m\n",
      "---->Initiating a training run\n"
     ]
    },
    {
     "name": "stderr",
     "output_type": "stream",
     "text": [
      "100%|██████████████████████████████████████████████████████████████████████████████████████████████████| 26/26 [00:16<00:00,  1.54it/s]\n"
     ]
    },
    {
     "name": "stdout",
     "output_type": "stream",
     "text": [
      "---->Initiating a validation run\n"
     ]
    },
    {
     "name": "stderr",
     "output_type": "stream",
     "text": [
      "100%|████████████████████████████████████████████████████████████████████████████████████████████████████| 3/3 [00:01<00:00,  2.05it/s]\n"
     ]
    },
    {
     "name": "stdout",
     "output_type": "stream",
     "text": [
      "epoch=39 / 100 train_loss=2.851 valid_loss=3.1335 stale=32 time=0.31m eta=18.7m\n",
      "---->Initiating a training run\n"
     ]
    },
    {
     "name": "stderr",
     "output_type": "stream",
     "text": [
      "100%|██████████████████████████████████████████████████████████████████████████████████████████████████| 26/26 [00:16<00:00,  1.54it/s]\n"
     ]
    },
    {
     "name": "stdout",
     "output_type": "stream",
     "text": [
      "---->Initiating a validation run\n"
     ]
    },
    {
     "name": "stderr",
     "output_type": "stream",
     "text": [
      "100%|████████████████████████████████████████████████████████████████████████████████████████████████████| 3/3 [00:01<00:00,  2.05it/s]\n"
     ]
    },
    {
     "name": "stdout",
     "output_type": "stream",
     "text": [
      "epoch=40 / 100 train_loss=2.8582 valid_loss=3.1332 stale=33 time=0.31m eta=18.4m\n",
      "---->Initiating a training run\n"
     ]
    },
    {
     "name": "stderr",
     "output_type": "stream",
     "text": [
      "100%|██████████████████████████████████████████████████████████████████████████████████████████████████| 26/26 [00:16<00:00,  1.54it/s]\n"
     ]
    },
    {
     "name": "stdout",
     "output_type": "stream",
     "text": [
      "---->Initiating a validation run\n"
     ]
    },
    {
     "name": "stderr",
     "output_type": "stream",
     "text": [
      "100%|████████████████████████████████████████████████████████████████████████████████████████████████████| 3/3 [00:01<00:00,  2.05it/s]\n"
     ]
    },
    {
     "name": "stdout",
     "output_type": "stream",
     "text": [
      "epoch=41 / 100 train_loss=2.8415 valid_loss=3.1343 stale=34 time=0.31m eta=18.1m\n",
      "---->Initiating a training run\n"
     ]
    },
    {
     "name": "stderr",
     "output_type": "stream",
     "text": [
      "100%|██████████████████████████████████████████████████████████████████████████████████████████████████| 26/26 [00:16<00:00,  1.54it/s]\n"
     ]
    },
    {
     "name": "stdout",
     "output_type": "stream",
     "text": [
      "---->Initiating a validation run\n"
     ]
    },
    {
     "name": "stderr",
     "output_type": "stream",
     "text": [
      "100%|████████████████████████████████████████████████████████████████████████████████████████████████████| 3/3 [00:01<00:00,  2.06it/s]\n"
     ]
    },
    {
     "name": "stdout",
     "output_type": "stream",
     "text": [
      "epoch=42 / 100 train_loss=2.8352 valid_loss=3.1342 stale=35 time=0.31m eta=17.8m\n",
      "---->Initiating a training run\n"
     ]
    },
    {
     "name": "stderr",
     "output_type": "stream",
     "text": [
      "100%|██████████████████████████████████████████████████████████████████████████████████████████████████| 26/26 [00:16<00:00,  1.54it/s]\n"
     ]
    },
    {
     "name": "stdout",
     "output_type": "stream",
     "text": [
      "---->Initiating a validation run\n"
     ]
    },
    {
     "name": "stderr",
     "output_type": "stream",
     "text": [
      "100%|████████████████████████████████████████████████████████████████████████████████████████████████████| 3/3 [00:01<00:00,  2.05it/s]\n"
     ]
    },
    {
     "name": "stdout",
     "output_type": "stream",
     "text": [
      "epoch=43 / 100 train_loss=2.8301 valid_loss=3.1375 stale=36 time=0.31m eta=17.5m\n",
      "---->Initiating a training run\n"
     ]
    },
    {
     "name": "stderr",
     "output_type": "stream",
     "text": [
      "100%|██████████████████████████████████████████████████████████████████████████████████████████████████| 26/26 [00:16<00:00,  1.54it/s]\n"
     ]
    },
    {
     "name": "stdout",
     "output_type": "stream",
     "text": [
      "---->Initiating a validation run\n"
     ]
    },
    {
     "name": "stderr",
     "output_type": "stream",
     "text": [
      "100%|████████████████████████████████████████████████████████████████████████████████████████████████████| 3/3 [00:01<00:00,  2.05it/s]\n"
     ]
    },
    {
     "name": "stdout",
     "output_type": "stream",
     "text": [
      "epoch=44 / 100 train_loss=2.832 valid_loss=3.1381 stale=37 time=0.31m eta=17.2m\n",
      "---->Initiating a training run\n"
     ]
    },
    {
     "name": "stderr",
     "output_type": "stream",
     "text": [
      "100%|██████████████████████████████████████████████████████████████████████████████████████████████████| 26/26 [00:16<00:00,  1.54it/s]\n"
     ]
    },
    {
     "name": "stdout",
     "output_type": "stream",
     "text": [
      "---->Initiating a validation run\n"
     ]
    },
    {
     "name": "stderr",
     "output_type": "stream",
     "text": [
      "100%|████████████████████████████████████████████████████████████████████████████████████████████████████| 3/3 [00:01<00:00,  2.05it/s]\n"
     ]
    },
    {
     "name": "stdout",
     "output_type": "stream",
     "text": [
      "epoch=45 / 100 train_loss=2.8265 valid_loss=3.1419 stale=38 time=0.31m eta=16.9m\n",
      "---->Initiating a training run\n"
     ]
    },
    {
     "name": "stderr",
     "output_type": "stream",
     "text": [
      "100%|██████████████████████████████████████████████████████████████████████████████████████████████████| 26/26 [00:16<00:00,  1.55it/s]\n"
     ]
    },
    {
     "name": "stdout",
     "output_type": "stream",
     "text": [
      "---->Initiating a validation run\n"
     ]
    },
    {
     "name": "stderr",
     "output_type": "stream",
     "text": [
      "100%|████████████████████████████████████████████████████████████████████████████████████████████████████| 3/3 [00:01<00:00,  2.05it/s]\n"
     ]
    },
    {
     "name": "stdout",
     "output_type": "stream",
     "text": [
      "epoch=46 / 100 train_loss=2.8165 valid_loss=3.1411 stale=39 time=0.31m eta=16.6m\n",
      "---->Initiating a training run\n"
     ]
    },
    {
     "name": "stderr",
     "output_type": "stream",
     "text": [
      "100%|██████████████████████████████████████████████████████████████████████████████████████████████████| 26/26 [00:16<00:00,  1.54it/s]\n"
     ]
    },
    {
     "name": "stdout",
     "output_type": "stream",
     "text": [
      "---->Initiating a validation run\n"
     ]
    },
    {
     "name": "stderr",
     "output_type": "stream",
     "text": [
      "100%|████████████████████████████████████████████████████████████████████████████████████████████████████| 3/3 [00:01<00:00,  2.06it/s]\n"
     ]
    },
    {
     "name": "stdout",
     "output_type": "stream",
     "text": [
      "epoch=47 / 100 train_loss=2.8163 valid_loss=3.1372 stale=40 time=0.31m eta=16.3m\n",
      "---->Initiating a training run\n"
     ]
    },
    {
     "name": "stderr",
     "output_type": "stream",
     "text": [
      "100%|██████████████████████████████████████████████████████████████████████████████████████████████████| 26/26 [00:16<00:00,  1.54it/s]\n"
     ]
    },
    {
     "name": "stdout",
     "output_type": "stream",
     "text": [
      "---->Initiating a validation run\n"
     ]
    },
    {
     "name": "stderr",
     "output_type": "stream",
     "text": [
      "100%|████████████████████████████████████████████████████████████████████████████████████████████████████| 3/3 [00:01<00:00,  2.05it/s]\n"
     ]
    },
    {
     "name": "stdout",
     "output_type": "stream",
     "text": [
      "epoch=48 / 100 train_loss=2.811 valid_loss=3.134 stale=41 time=0.31m eta=16.0m\n",
      "---->Initiating a training run\n"
     ]
    },
    {
     "name": "stderr",
     "output_type": "stream",
     "text": [
      "100%|██████████████████████████████████████████████████████████████████████████████████████████████████| 26/26 [00:16<00:00,  1.54it/s]\n"
     ]
    },
    {
     "name": "stdout",
     "output_type": "stream",
     "text": [
      "---->Initiating a validation run\n"
     ]
    },
    {
     "name": "stderr",
     "output_type": "stream",
     "text": [
      "100%|████████████████████████████████████████████████████████████████████████████████████████████████████| 3/3 [00:01<00:00,  2.05it/s]\n"
     ]
    },
    {
     "name": "stdout",
     "output_type": "stream",
     "text": [
      "epoch=49 / 100 train_loss=2.8089 valid_loss=3.1408 stale=42 time=0.31m eta=15.7m\n",
      "---->Initiating a training run\n"
     ]
    },
    {
     "name": "stderr",
     "output_type": "stream",
     "text": [
      "100%|██████████████████████████████████████████████████████████████████████████████████████████████████| 26/26 [00:16<00:00,  1.54it/s]\n"
     ]
    },
    {
     "name": "stdout",
     "output_type": "stream",
     "text": [
      "---->Initiating a validation run\n"
     ]
    },
    {
     "name": "stderr",
     "output_type": "stream",
     "text": [
      "100%|████████████████████████████████████████████████████████████████████████████████████████████████████| 3/3 [00:01<00:00,  2.05it/s]\n"
     ]
    },
    {
     "name": "stdout",
     "output_type": "stream",
     "text": [
      "epoch=50 / 100 train_loss=2.8112 valid_loss=3.1368 stale=43 time=0.31m eta=15.4m\n",
      "---->Initiating a training run\n"
     ]
    },
    {
     "name": "stderr",
     "output_type": "stream",
     "text": [
      "100%|██████████████████████████████████████████████████████████████████████████████████████████████████| 26/26 [00:16<00:00,  1.54it/s]\n"
     ]
    },
    {
     "name": "stdout",
     "output_type": "stream",
     "text": [
      "---->Initiating a validation run\n"
     ]
    },
    {
     "name": "stderr",
     "output_type": "stream",
     "text": [
      "100%|████████████████████████████████████████████████████████████████████████████████████████████████████| 3/3 [00:01<00:00,  2.05it/s]\n"
     ]
    },
    {
     "name": "stdout",
     "output_type": "stream",
     "text": [
      "epoch=51 / 100 train_loss=2.8026 valid_loss=3.1432 stale=44 time=0.31m eta=15.0m\n",
      "---->Initiating a training run\n"
     ]
    },
    {
     "name": "stderr",
     "output_type": "stream",
     "text": [
      "100%|██████████████████████████████████████████████████████████████████████████████████████████████████| 26/26 [00:16<00:00,  1.54it/s]\n"
     ]
    },
    {
     "name": "stdout",
     "output_type": "stream",
     "text": [
      "---->Initiating a validation run\n"
     ]
    },
    {
     "name": "stderr",
     "output_type": "stream",
     "text": [
      "100%|████████████████████████████████████████████████████████████████████████████████████████████████████| 3/3 [00:01<00:00,  2.04it/s]\n"
     ]
    },
    {
     "name": "stdout",
     "output_type": "stream",
     "text": [
      "epoch=52 / 100 train_loss=2.7951 valid_loss=3.142 stale=45 time=0.31m eta=14.7m\n",
      "---->Initiating a training run\n"
     ]
    },
    {
     "name": "stderr",
     "output_type": "stream",
     "text": [
      "100%|██████████████████████████████████████████████████████████████████████████████████████████████████| 26/26 [00:16<00:00,  1.54it/s]\n"
     ]
    },
    {
     "name": "stdout",
     "output_type": "stream",
     "text": [
      "---->Initiating a validation run\n"
     ]
    },
    {
     "name": "stderr",
     "output_type": "stream",
     "text": [
      "100%|████████████████████████████████████████████████████████████████████████████████████████████████████| 3/3 [00:01<00:00,  2.04it/s]\n"
     ]
    },
    {
     "name": "stdout",
     "output_type": "stream",
     "text": [
      "epoch=53 / 100 train_loss=2.7912 valid_loss=3.1394 stale=46 time=0.31m eta=14.4m\n",
      "---->Initiating a training run\n"
     ]
    },
    {
     "name": "stderr",
     "output_type": "stream",
     "text": [
      "100%|██████████████████████████████████████████████████████████████████████████████████████████████████| 26/26 [00:16<00:00,  1.54it/s]\n"
     ]
    },
    {
     "name": "stdout",
     "output_type": "stream",
     "text": [
      "---->Initiating a validation run\n"
     ]
    },
    {
     "name": "stderr",
     "output_type": "stream",
     "text": [
      "100%|████████████████████████████████████████████████████████████████████████████████████████████████████| 3/3 [00:01<00:00,  2.05it/s]\n"
     ]
    },
    {
     "name": "stdout",
     "output_type": "stream",
     "text": [
      "epoch=54 / 100 train_loss=2.7882 valid_loss=3.1418 stale=47 time=0.31m eta=14.1m\n",
      "---->Initiating a training run\n"
     ]
    },
    {
     "name": "stderr",
     "output_type": "stream",
     "text": [
      "100%|██████████████████████████████████████████████████████████████████████████████████████████████████| 26/26 [00:16<00:00,  1.54it/s]\n"
     ]
    },
    {
     "name": "stdout",
     "output_type": "stream",
     "text": [
      "---->Initiating a validation run\n"
     ]
    },
    {
     "name": "stderr",
     "output_type": "stream",
     "text": [
      "100%|████████████████████████████████████████████████████████████████████████████████████████████████████| 3/3 [00:01<00:00,  2.05it/s]\n"
     ]
    },
    {
     "name": "stdout",
     "output_type": "stream",
     "text": [
      "epoch=55 / 100 train_loss=2.7847 valid_loss=3.1397 stale=48 time=0.31m eta=13.8m\n",
      "---->Initiating a training run\n"
     ]
    },
    {
     "name": "stderr",
     "output_type": "stream",
     "text": [
      "100%|██████████████████████████████████████████████████████████████████████████████████████████████████| 26/26 [00:16<00:00,  1.54it/s]\n"
     ]
    },
    {
     "name": "stdout",
     "output_type": "stream",
     "text": [
      "---->Initiating a validation run\n"
     ]
    },
    {
     "name": "stderr",
     "output_type": "stream",
     "text": [
      "100%|████████████████████████████████████████████████████████████████████████████████████████████████████| 3/3 [00:01<00:00,  2.03it/s]\n"
     ]
    },
    {
     "name": "stdout",
     "output_type": "stream",
     "text": [
      "epoch=56 / 100 train_loss=2.7806 valid_loss=3.1359 stale=49 time=0.31m eta=13.5m\n",
      "---->Initiating a training run\n"
     ]
    },
    {
     "name": "stderr",
     "output_type": "stream",
     "text": [
      "100%|██████████████████████████████████████████████████████████████████████████████████████████████████| 26/26 [00:16<00:00,  1.54it/s]\n"
     ]
    },
    {
     "name": "stdout",
     "output_type": "stream",
     "text": [
      "---->Initiating a validation run\n"
     ]
    },
    {
     "name": "stderr",
     "output_type": "stream",
     "text": [
      "100%|████████████████████████████████████████████████████████████████████████████████████████████████████| 3/3 [00:01<00:00,  2.05it/s]\n"
     ]
    },
    {
     "name": "stdout",
     "output_type": "stream",
     "text": [
      "epoch=57 / 100 train_loss=2.7773 valid_loss=3.1378 stale=50 time=0.31m eta=13.2m\n",
      "---->Initiating a training run\n"
     ]
    },
    {
     "name": "stderr",
     "output_type": "stream",
     "text": [
      "100%|██████████████████████████████████████████████████████████████████████████████████████████████████| 26/26 [00:16<00:00,  1.54it/s]\n"
     ]
    },
    {
     "name": "stdout",
     "output_type": "stream",
     "text": [
      "---->Initiating a validation run\n"
     ]
    },
    {
     "name": "stderr",
     "output_type": "stream",
     "text": [
      "100%|████████████████████████████████████████████████████████████████████████████████████████████████████| 3/3 [00:01<00:00,  2.04it/s]"
     ]
    },
    {
     "name": "stdout",
     "output_type": "stream",
     "text": [
      "epoch=58 / 100 train_loss=2.7739 valid_loss=3.1388 stale=51 time=0.31m eta=12.9m\n",
      "breaking due to stale epochs\n",
      "----------------------------------------------------------\n",
      "Done with training. Total training time is 17.816min\n"
     ]
    },
    {
     "name": "stderr",
     "output_type": "stream",
     "text": [
      "\n"
     ]
    }
   ],
   "source": [
    "import tqdm\n",
    "\n",
    "lr = 1e-4\n",
    "n_epochs = 100\n",
    "lmbd = 0.1\n",
    "u = 0.01\n",
    "v = 0.01\n",
    "patience = 50\n",
    "\n",
    "optimizer = torch.optim.SGD(list(encoder.parameters()) + list(decoder.parameters()), lr=lr)\n",
    "\n",
    "torch.cuda.empty_cache()\n",
    "\n",
    "t0_initial = time.time()\n",
    "\n",
    "losses_train_tot, losses_train_var, losses_train_invar, losses_train_cross = [], [], [], []\n",
    "losses_valid_tot, losses_valid_var, losses_valid_invar, losses_valid_cross = [], [], [], []\n",
    "\n",
    "best_val_loss_tot, best_val_loss_var, best_val_loss_invar, best_val_cross = 99999.9, 99999.9, 99999.9, 99999.9\n",
    "stale_epochs = 0\n",
    "\n",
    "for epoch in range(n_epochs):\n",
    "    t0 = time.time()\n",
    "\n",
    "    if stale_epochs > patience:\n",
    "        print(\"breaking due to stale epochs\")\n",
    "        break\n",
    "\n",
    "    # training step\n",
    "    losses_t_tot, losses_t_var, losses_t_invar, losses_t_cross = train(\n",
    "        device,\n",
    "        encoder,\n",
    "        decoder,\n",
    "        train_loader,\n",
    "        valid_loader,\n",
    "        optimizer,\n",
    "        lmbd,\n",
    "        u,\n",
    "        v,\n",
    "    )\n",
    "\n",
    "    losses_train_tot.append(losses_t_tot)\n",
    "    losses_train_var.append(losses_t_var)\n",
    "    losses_train_invar.append(losses_t_invar)\n",
    "    losses_train_cross.append(losses_t_cross)\n",
    "\n",
    "    # validation step\n",
    "    losses_v_tot, losses_v_var, losses_v_invar, losses_v_cross = validation_run(\n",
    "        device,\n",
    "        encoder,\n",
    "        decoder,\n",
    "        train_loader,\n",
    "        valid_loader,\n",
    "        lmbd,\n",
    "        u,\n",
    "        v,\n",
    "    )\n",
    "\n",
    "    losses_valid_tot.append(losses_v_tot)\n",
    "    losses_valid_var.append(losses_v_var)\n",
    "    losses_valid_invar.append(losses_v_invar)\n",
    "    losses_valid_cross.append(losses_v_cross)\n",
    "\n",
    "    # save the lowest value of each component of the loss to print it on the legend of the loss plots\n",
    "    if losses_v_var < best_val_loss_var:\n",
    "        best_val_loss_var = losses_v_var\n",
    "        best_train_loss_var = losses_t_var\n",
    "\n",
    "    if losses_v_invar < best_val_loss_invar:\n",
    "        best_val_loss_invar = losses_v_invar\n",
    "        best_train_loss_invar = losses_t_invar\n",
    "\n",
    "    if losses_v_cross < best_val_cross:\n",
    "        best_val_loss_cross = losses_v_cross\n",
    "        best_train_loss_cross = losses_t_cross\n",
    "\n",
    "    # early-stopping\n",
    "    if losses_v_tot < best_val_loss_tot:\n",
    "        best_val_loss_tot = losses_v_tot\n",
    "        best_train_loss_tot = losses_t_tot\n",
    "\n",
    "        stale_epochs = 0\n",
    "\n",
    "    else:\n",
    "        stale_epochs += 1\n",
    "\n",
    "    t1 = time.time()\n",
    "\n",
    "    epochs_remaining = n_epochs - (epoch + 1)\n",
    "    time_per_epoch = (t1 - t0_initial) / (epoch + 1)\n",
    "    eta = epochs_remaining * time_per_epoch / 60\n",
    "\n",
    "    print(\n",
    "        f\"epoch={epoch + 1} / {n_epochs} \"\n",
    "        + f\"train_loss={round(losses_train_tot[epoch], 4)} \"\n",
    "        + f\"valid_loss={round(losses_valid_tot[epoch], 4)} \"\n",
    "        + f\"stale={stale_epochs} \"\n",
    "        + f\"time={round((t1-t0)/60, 2)}m \"\n",
    "        + f\"eta={round(eta, 1)}m\"\n",
    "    )\n",
    "\n",
    "print(\"----------------------------------------------------------\")\n",
    "print(f\"Done with training. Total training time is {round((time.time() - t0_initial)/60,3)}min\")"
   ]
  },
  {
   "cell_type": "code",
   "execution_count": 55,
   "id": "f0b87961",
   "metadata": {
    "scrolled": false
   },
   "outputs": [
    {
     "data": {
      "text/plain": [
       "<matplotlib.legend.Legend at 0x7fe117dc7340>"
      ]
     },
     "execution_count": 55,
     "metadata": {},
     "output_type": "execute_result"
    },
    {
     "data": {
      "image/png": "[encoded data removed]",
      "text/plain": [
       "<Figure size 1000x1000 with 4 Axes>"
      ]
     },
     "metadata": {},
     "output_type": "display_data"
    }
   ],
   "source": [
    "%matplotlib inline\n",
    "plt.rcParams.update({\"font.size\": 15})\n",
    "\n",
    "# make total loss plot\n",
    "fig, ax = plt.subplots(2,2, figsize=(10,10))\n",
    "ax[0,0].plot(range(len(losses_train_tot)), losses_train_tot, label=\"training ({:.2f})\".format(best_train_loss_tot))\n",
    "ax[0,0].plot(range(len(losses_valid_tot)), losses_valid_tot, label=\"validation ({:.2f})\".format(best_val_loss_tot))\n",
    "ax[0,0].set_xlabel(\"Epochs\")\n",
    "ax[0,0].set_ylabel(\"Total Loss\")\n",
    "ax[0,0].legend(title=\"VICReg\", loc=\"best\", title_fontsize=15, fontsize=10)\n",
    "\n",
    "# make variance loss plot\n",
    "ax[1,0].plot(range(len(losses_train_var)), losses_train_var, label=\"training ({:.2f})\".format(best_train_loss_var))\n",
    "ax[1,0].plot(range(len(losses_valid_var)), losses_valid_var, label=\"validation ({:.2f})\".format(best_val_loss_var))\n",
    "ax[1,0].set_xlabel(\"Epochs\")\n",
    "ax[1,0].set_ylabel(\"Variance Loss\")\n",
    "ax[1,0].legend(title=\"VICReg\", loc=\"best\", title_fontsize=15, fontsize=10)\n",
    "\n",
    "# make invariance loss plot\n",
    "ax[0,1].plot(range(len(losses_train_invar)), losses_train_invar, label=\"training ({:.2f})\".format(best_train_loss_invar))\n",
    "ax[0,1].plot(range(len(losses_valid_invar)), losses_valid_invar, label=\"validation ({:.2f})\".format(best_val_loss_invar))\n",
    "ax[0,1].set_xlabel(\"Epochs\")\n",
    "ax[0,1].set_ylabel(\"Invariance Loss\")\n",
    "ax[0,1].legend(title=\"VICReg\", loc=\"best\", title_fontsize=15, fontsize=10)\n",
    "\n",
    "# make covariance loss plot\n",
    "ax[1,1].plot(range(len(losses_train_cross)), losses_train_cross, label=\"training ({:.2f})\".format(best_train_loss_cross))\n",
    "ax[1,1].plot(range(len(losses_valid_cross)), losses_valid_cross, label=\"validation ({:.2f})\".format(best_val_loss_cross))\n",
    "ax[1,1].set_xlabel(\"Epochs\")\n",
    "ax[1,1].set_ylabel(\"Covariance Loss\")\n",
    "ax[1,1].legend(title=\"VICReg\", loc=\"best\", title_fontsize=15, fontsize=10)"
   ]
  },
  {
   "cell_type": "markdown",
   "id": "b00fc8b4",
   "metadata": {},
   "source": [
    "# MLPF"
   ]
  },
  {
   "cell_type": "code",
   "execution_count": 56,
   "id": "ed57778c",
   "metadata": {},
   "outputs": [
    {
     "name": "stdout",
     "output_type": "stream",
     "text": [
      "------> Progressing to MLPF trainings...\n",
      "Will use 6461 events for train\n",
      "Will use 718 events for valid\n"
     ]
    }
   ],
   "source": [
    "print(\"------> Progressing to MLPF trainings...\")\n",
    "print(f\"Will use {len(data_mlpf_train)} events for train\")\n",
    "print(f\"Will use {len(data_mlpf_valid)} events for valid\")\n",
    "\n",
    "train_loader = torch_geometric.loader.DataLoader(data_mlpf_train, 500)\n",
    "valid_loader = torch_geometric.loader.DataLoader(data_mlpf_valid, 500)\n",
    "\n",
    "input_ = max(CLUSTERS_X, TRACKS_X) + 1  # max cz we pad when we concatenate them & +1 cz there's the `type` feature"
   ]
  },
  {
   "cell_type": "code",
   "execution_count": 57,
   "id": "747a1b74",
   "metadata": {},
   "outputs": [],
   "source": [
    "import json\n",
    "import math\n",
    "import pickle as pkl\n",
    "import time\n",
    "from typing import Optional\n",
    "\n",
    "import matplotlib\n",
    "import matplotlib.pyplot as plt\n",
    "import numpy as np\n",
    "import torch\n",
    "import tqdm\n",
    "from torch import Tensor, nn\n",
    "from torch.nn import functional as F\n",
    "\n",
    "matplotlib.use(\"Agg\")\n",
    "\n",
    "# Ignore divide by 0 errors\n",
    "np.seterr(divide=\"ignore\", invalid=\"ignore\")\n",
    "\n",
    "# keep track of the training step across epochs\n",
    "istep_global = 0\n",
    "\n",
    "\n",
    "# from https://github.com/AdeelH/pytorch-multi-class-focal-loss/blob/master/focal_loss.py\n",
    "class FocalLoss(nn.Module):\n",
    "    \"\"\"Focal Loss, as described in https://arxiv.org/abs/1708.02002.\n",
    "    It is essentially an enhancement to cross entropy loss and is\n",
    "    useful for classification tasks when there is a large class imbalance.\n",
    "    x is expected to contain raw, unnormalized scores for each class.\n",
    "    y is expected to contain class labels.\n",
    "    Shape:\n",
    "        - x: (batch_size, C) or (batch_size, C, d1, d2, ..., dK), K > 0.\n",
    "        - y: (batch_size,) or (batch_size, d1, d2, ..., dK), K > 0.\n",
    "    \"\"\"\n",
    "\n",
    "    def __init__(\n",
    "        self, alpha: Optional[Tensor] = None, gamma: float = 0.0, reduction: str = \"mean\", ignore_index: int = -100\n",
    "    ):\n",
    "        \"\"\"Constructor.\n",
    "        Args:\n",
    "            alpha (Tensor, optional): Weights for each class. Defaults to None.\n",
    "            gamma (float, optional): A constant, as described in the paper.\n",
    "                Defaults to 0.\n",
    "            reduction (str, optional): 'mean', 'sum' or 'none'.\n",
    "                Defaults to 'mean'.\n",
    "            ignore_index (int, optional): class label to ignore.\n",
    "                Defaults to -100.\n",
    "        \"\"\"\n",
    "        if reduction not in (\"mean\", \"sum\", \"none\"):\n",
    "            raise ValueError('Reduction must be one of: \"mean\", \"sum\", \"none\".')\n",
    "\n",
    "        super().__init__()\n",
    "        self.alpha = alpha\n",
    "        self.gamma = gamma\n",
    "        self.ignore_index = ignore_index\n",
    "        self.reduction = reduction\n",
    "\n",
    "        self.nll_loss = nn.NLLLoss(weight=alpha, reduction=\"none\", ignore_index=ignore_index)\n",
    "\n",
    "    def __repr__(self):\n",
    "        arg_keys = [\"alpha\", \"gamma\", \"ignore_index\", \"reduction\"]\n",
    "        arg_vals = [self.__dict__[k] for k in arg_keys]\n",
    "        arg_strs = [f\"{k}={v!r}\" for k, v in zip(arg_keys, arg_vals)]\n",
    "        arg_str = \", \".join(arg_strs)\n",
    "        return f\"{type(self).__name__}({arg_str})\"\n",
    "\n",
    "    def forward(self, x: Tensor, y: Tensor) -> Tensor:\n",
    "        if x.ndim > 2:\n",
    "            # (N, C, d1, d2, ..., dK) --> (N * d1 * ... * dK, C)\n",
    "            c = x.shape[1]\n",
    "            x = x.permute(0, *range(2, x.ndim), 1).reshape(-1, c)\n",
    "            # (N, d1, d2, ..., dK) --> (N * d1 * ... * dK,)\n",
    "            y = y.view(-1)\n",
    "\n",
    "        unignored_mask = y != self.ignore_index\n",
    "        y = y[unignored_mask]\n",
    "        if len(y) == 0:\n",
    "            return torch.tensor(0.0)\n",
    "        x = x[unignored_mask]\n",
    "\n",
    "        # compute weighted cross entropy term: -alpha * log(pt)\n",
    "        # (alpha is already part of self.nll_loss)\n",
    "        log_p = F.log_softmax(x, dim=-1)\n",
    "        ce = self.nll_loss(log_p, y)\n",
    "\n",
    "        # get true class column from each row\n",
    "        all_rows = torch.arange(len(x))\n",
    "        log_pt = log_p[all_rows, y]\n",
    "\n",
    "        # compute focal term: (1 - pt)^gamma\n",
    "        pt = log_pt.exp()\n",
    "        focal_term = (1 - pt) ** self.gamma\n",
    "\n",
    "        # the full loss: -alpha * ((1 - pt)^gamma) * log(pt)\n",
    "        loss = focal_term * ce\n",
    "\n",
    "        if self.reduction == \"mean\":\n",
    "            loss = loss.mean()\n",
    "        elif self.reduction == \"sum\":\n",
    "            loss = loss.sum()\n",
    "\n",
    "        return loss\n",
    "\n",
    "\n",
    "def compute_weights(device, target_ids, num_classes):\n",
    "    \"\"\"\n",
    "    computes necessary weights to accomodate class imbalance in the loss function\n",
    "    \"\"\"\n",
    "\n",
    "    vs, cs = torch.unique(target_ids, return_counts=True)\n",
    "    weights = torch.zeros(num_classes).to(device=device)\n",
    "    for k, v in zip(vs, cs):\n",
    "        weights[k] = 1.0 / math.sqrt(float(v))\n",
    "    # weights[2] = weights[2] * 3  # emphasize nhadrons\n",
    "    return weights\n",
    "\n",
    "\n",
    "@torch.no_grad()\n",
    "def validation_run(device, encoder, mlpf, train_loader, valid_loader, mode):\n",
    "    with torch.no_grad():\n",
    "        optimizer = None\n",
    "        optimizer_VICReg = None\n",
    "        ret = train(device, encoder, mlpf, train_loader, valid_loader, optimizer, optimizer_VICReg, mode)\n",
    "    return ret\n",
    "\n",
    "\n",
    "def train(device, encoder, mlpf, train_loader, valid_loader, optimizer, optimizer_VICReg, mode):\n",
    "    \"\"\"\n",
    "    A training/validation run over a given epoch that gets called in the training_loop() function.\n",
    "    When optimizer is set to None, it freezes the model for a validation_run.\n",
    "    \"\"\"\n",
    "\n",
    "    is_train = not (optimizer is None)\n",
    "    global istep_global\n",
    "\n",
    "    loss_obj_id = FocalLoss(gamma=2.0)\n",
    "\n",
    "    if is_train:\n",
    "        print(\"---->Initiating a training run\")\n",
    "        mlpf.train()\n",
    "        loader = train_loader\n",
    "        if optimizer_VICReg:\n",
    "            encoder.train()\n",
    "    else:\n",
    "        print(\"---->Initiating a validation run\")\n",
    "        mlpf.eval()\n",
    "        loader = valid_loader\n",
    "        if optimizer_VICReg:\n",
    "            encoder.eval()\n",
    "\n",
    "    # initialize loss counters\n",
    "    epoch_loss_total, epoch_loss_id, epoch_loss_momentum, epoch_loss_charge = 0.0, 0.0, 0.0, 0.0\n",
    "\n",
    "    for i, batch in tqdm.tqdm(enumerate(loader), total=len(loader)):\n",
    "\n",
    "        if mode == \"ssl\":\n",
    "            # seperate PF-elements\n",
    "            tracks, clusters = distinguish_PFelements(batch.to(device))\n",
    "\n",
    "            # ENCODE\n",
    "            embedding_tracks, embedding_clusters = encoder(tracks, clusters)\n",
    "\n",
    "            # concat the inputs with embeddings\n",
    "            tracks.x = torch.cat([batch.x[batch.x[:, 0] == 1], embedding_tracks], axis=1)\n",
    "            clusters.x = torch.cat([batch.x[batch.x[:, 0] == 2], embedding_clusters], axis=1)\n",
    "\n",
    "            # combine PF-elements\n",
    "            event = combine_PFelements(tracks, clusters)\n",
    "\n",
    "        elif mode == \"native\":\n",
    "            event = batch.to(device)\n",
    "\n",
    "        # make mlpf forward pass\n",
    "        event_on_device = event.to(device)\n",
    "        pred_ids_one_hot, pred_momentum, pred_charge = mlpf(event_on_device)\n",
    "        target_ids = event_on_device.ygen_id\n",
    "\n",
    "        target_momentum = event_on_device.ygen[:, 1:].to(dtype=torch.float32)\n",
    "        target_charge = (event_on_device.ygen[:, 0] + 1).to(dtype=torch.float32)  # -1, 0, 1\n",
    "\n",
    "        loss_id = 100 * loss_obj_id(pred_ids_one_hot, target_ids)\n",
    "        # loss_id_old = torch.nn.functional.cross_entropy(pred_ids_one_hot, target_ids)  # for classifying PID\n",
    "\n",
    "        # for regression, mask the loss in cases there is no true particle\n",
    "        msk_true_particle = torch.unsqueeze((target_ids != 0).to(dtype=torch.float32), axis=-1)\n",
    "        loss_momentum = 10 * torch.nn.functional.huber_loss(\n",
    "            pred_momentum * msk_true_particle, target_momentum * msk_true_particle\n",
    "        )  # for regressing p4\n",
    "\n",
    "        loss_charge = torch.nn.functional.cross_entropy(\n",
    "            pred_charge * msk_true_particle, (target_charge * msk_true_particle[:, 0]).to(dtype=torch.int64)\n",
    "        )  # for predicting charge\n",
    "        loss = loss_id + loss_momentum + loss_charge\n",
    "\n",
    "        if is_train:\n",
    "            istep_global += 1\n",
    "\n",
    "        # update parameters\n",
    "        if is_train:\n",
    "            for param in mlpf.parameters():\n",
    "                param.grad = None\n",
    "            if optimizer_VICReg:\n",
    "                for param in encoder.parameters():\n",
    "                    param.grad = None\n",
    "            loss.backward()\n",
    "            optimizer.step()\n",
    "\n",
    "        epoch_loss_total += loss.detach()\n",
    "        epoch_loss_id += loss_id.detach()\n",
    "        epoch_loss_momentum += loss_momentum.detach()\n",
    "        epoch_loss_charge += loss_charge.detach()\n",
    "\n",
    "    epoch_loss_total = epoch_loss_total.cpu().item() / len(loader)\n",
    "    epoch_loss_id = epoch_loss_id.cpu().item() / len(loader)\n",
    "    epoch_loss_momentum = epoch_loss_momentum.cpu().item() / len(loader)\n",
    "    epoch_loss_charge = epoch_loss_charge.cpu().item() / len(loader)\n",
    "\n",
    "    print(\n",
    "        \"loss_id={:.2f} loss_momentum={:.2f} loss_charge={:.2f}\".format(\n",
    "            epoch_loss_id, epoch_loss_momentum, epoch_loss_charge\n",
    "        )\n",
    "    )\n",
    "    return epoch_loss_total, epoch_loss_id, epoch_loss_momentum"
   ]
  },
  {
   "cell_type": "markdown",
   "id": "ed8d1f89",
   "metadata": {},
   "source": [
    "# SSL"
   ]
  },
  {
   "cell_type": "code",
   "execution_count": 66,
   "id": "1c34d762",
   "metadata": {},
   "outputs": [
    {
     "name": "stdout",
     "output_type": "stream",
     "text": [
      "MLPF(\n",
      "  (nn_id): Sequential(\n",
      "    (0): Linear(in_features=272, out_features=256, bias=True)\n",
      "    (1): ELU(alpha=1.0)\n",
      "    (2): LayerNorm((256,), eps=1e-05, elementwise_affine=True)\n",
      "    (3): Dropout(p=0.4, inplace=False)\n",
      "    (4): Linear(in_features=256, out_features=256, bias=True)\n",
      "    (5): ELU(alpha=1.0)\n",
      "    (6): LayerNorm((256,), eps=1e-05, elementwise_affine=True)\n",
      "    (7): Dropout(p=0.4, inplace=False)\n",
      "    (8): Linear(in_features=256, out_features=256, bias=True)\n",
      "    (9): ELU(alpha=1.0)\n",
      "    (10): LayerNorm((256,), eps=1e-05, elementwise_affine=True)\n",
      "    (11): Dropout(p=0.4, inplace=False)\n",
      "    (12): Linear(in_features=256, out_features=256, bias=True)\n",
      "    (13): ELU(alpha=1.0)\n",
      "    (14): LayerNorm((256,), eps=1e-05, elementwise_affine=True)\n",
      "    (15): Linear(in_features=256, out_features=6, bias=True)\n",
      "  )\n",
      "  (nn_pt): Sequential(\n",
      "    (0): Linear(in_features=278, out_features=256, bias=True)\n",
      "    (1): ELU(alpha=1.0)\n",
      "    (2): LayerNorm((256,), eps=1e-05, elementwise_affine=True)\n",
      "    (3): Dropout(p=0.4, inplace=False)\n",
      "    (4): Linear(in_features=256, out_features=256, bias=True)\n",
      "    (5): ELU(alpha=1.0)\n",
      "    (6): LayerNorm((256,), eps=1e-05, elementwise_affine=True)\n",
      "    (7): Dropout(p=0.4, inplace=False)\n",
      "    (8): Linear(in_features=256, out_features=256, bias=True)\n",
      "    (9): ELU(alpha=1.0)\n",
      "    (10): LayerNorm((256,), eps=1e-05, elementwise_affine=True)\n",
      "    (11): Dropout(p=0.4, inplace=False)\n",
      "    (12): Linear(in_features=256, out_features=256, bias=True)\n",
      "    (13): ELU(alpha=1.0)\n",
      "    (14): LayerNorm((256,), eps=1e-05, elementwise_affine=True)\n",
      "    (15): Linear(in_features=256, out_features=1, bias=True)\n",
      "  )\n",
      "  (nn_eta): Sequential(\n",
      "    (0): Linear(in_features=278, out_features=256, bias=True)\n",
      "    (1): ELU(alpha=1.0)\n",
      "    (2): LayerNorm((256,), eps=1e-05, elementwise_affine=True)\n",
      "    (3): Dropout(p=0.4, inplace=False)\n",
      "    (4): Linear(in_features=256, out_features=256, bias=True)\n",
      "    (5): ELU(alpha=1.0)\n",
      "    (6): LayerNorm((256,), eps=1e-05, elementwise_affine=True)\n",
      "    (7): Dropout(p=0.4, inplace=False)\n",
      "    (8): Linear(in_features=256, out_features=256, bias=True)\n",
      "    (9): ELU(alpha=1.0)\n",
      "    (10): LayerNorm((256,), eps=1e-05, elementwise_affine=True)\n",
      "    (11): Dropout(p=0.4, inplace=False)\n",
      "    (12): Linear(in_features=256, out_features=256, bias=True)\n",
      "    (13): ELU(alpha=1.0)\n",
      "    (14): LayerNorm((256,), eps=1e-05, elementwise_affine=True)\n",
      "    (15): Linear(in_features=256, out_features=1, bias=True)\n",
      "  )\n",
      "  (nn_phi): Sequential(\n",
      "    (0): Linear(in_features=278, out_features=256, bias=True)\n",
      "    (1): ELU(alpha=1.0)\n",
      "    (2): LayerNorm((256,), eps=1e-05, elementwise_affine=True)\n",
      "    (3): Dropout(p=0.4, inplace=False)\n",
      "    (4): Linear(in_features=256, out_features=256, bias=True)\n",
      "    (5): ELU(alpha=1.0)\n",
      "    (6): LayerNorm((256,), eps=1e-05, elementwise_affine=True)\n",
      "    (7): Dropout(p=0.4, inplace=False)\n",
      "    (8): Linear(in_features=256, out_features=256, bias=True)\n",
      "    (9): ELU(alpha=1.0)\n",
      "    (10): LayerNorm((256,), eps=1e-05, elementwise_affine=True)\n",
      "    (11): Dropout(p=0.4, inplace=False)\n",
      "    (12): Linear(in_features=256, out_features=256, bias=True)\n",
      "    (13): ELU(alpha=1.0)\n",
      "    (14): LayerNorm((256,), eps=1e-05, elementwise_affine=True)\n",
      "    (15): Linear(in_features=256, out_features=1, bias=True)\n",
      "  )\n",
      "  (nn_energy): Sequential(\n",
      "    (0): Linear(in_features=278, out_features=256, bias=True)\n",
      "    (1): ELU(alpha=1.0)\n",
      "    (2): LayerNorm((256,), eps=1e-05, elementwise_affine=True)\n",
      "    (3): Dropout(p=0.4, inplace=False)\n",
      "    (4): Linear(in_features=256, out_features=256, bias=True)\n",
      "    (5): ELU(alpha=1.0)\n",
      "    (6): LayerNorm((256,), eps=1e-05, elementwise_affine=True)\n",
      "    (7): Dropout(p=0.4, inplace=False)\n",
      "    (8): Linear(in_features=256, out_features=256, bias=True)\n",
      "    (9): ELU(alpha=1.0)\n",
      "    (10): LayerNorm((256,), eps=1e-05, elementwise_affine=True)\n",
      "    (11): Dropout(p=0.4, inplace=False)\n",
      "    (12): Linear(in_features=256, out_features=256, bias=True)\n",
      "    (13): ELU(alpha=1.0)\n",
      "    (14): LayerNorm((256,), eps=1e-05, elementwise_affine=True)\n",
      "    (15): Linear(in_features=256, out_features=1, bias=True)\n",
      "  )\n",
      "  (nn_charge): Sequential(\n",
      "    (0): Linear(in_features=278, out_features=256, bias=True)\n",
      "    (1): ELU(alpha=1.0)\n",
      "    (2): LayerNorm((256,), eps=1e-05, elementwise_affine=True)\n",
      "    (3): Dropout(p=0.4, inplace=False)\n",
      "    (4): Linear(in_features=256, out_features=256, bias=True)\n",
      "    (5): ELU(alpha=1.0)\n",
      "    (6): LayerNorm((256,), eps=1e-05, elementwise_affine=True)\n",
      "    (7): Dropout(p=0.4, inplace=False)\n",
      "    (8): Linear(in_features=256, out_features=256, bias=True)\n",
      "    (9): ELU(alpha=1.0)\n",
      "    (10): LayerNorm((256,), eps=1e-05, elementwise_affine=True)\n",
      "    (11): Dropout(p=0.4, inplace=False)\n",
      "    (12): Linear(in_features=256, out_features=256, bias=True)\n",
      "    (13): ELU(alpha=1.0)\n",
      "    (14): LayerNorm((256,), eps=1e-05, elementwise_affine=True)\n",
      "    (15): Linear(in_features=256, out_features=3, bias=True)\n",
      "  )\n",
      ")\n"
     ]
    }
   ],
   "source": [
    "ssl = 1\n",
    "\n",
    "mlpf_model_kwargs = {\n",
    "    \"input_dim\": input_,\n",
    "    \"width\": 256,\n",
    "    \"num_convs\": 0,\n",
    "    \"dropout\": 0.4,\n",
    "    \"ssl\": ssl,\n",
    "    \"VICReg_embedding_dim\": embedding_dim_VICReg\n",
    "}\n",
    "\n",
    "mlpf = MLPF(**mlpf_model_kwargs).to(device)\n",
    "print(mlpf)\n",
    "\n",
    "if ssl:\n",
    "    mode = \"ssl\"\n",
    "else:\n",
    "    mode = \"native\""
   ]
  },
  {
   "cell_type": "code",
   "execution_count": null,
   "id": "95082d2e",
   "metadata": {},
   "outputs": [
    {
     "name": "stdout",
     "output_type": "stream",
     "text": [
      "- Training ssl MLPF over 100 epochs\n",
      "Will fix VICReg during mlpf training\n",
      "---->Initiating a training run\n"
     ]
    },
    {
     "name": "stderr",
     "output_type": "stream",
     "text": [
      "100%|██████████████████████████████████████████████████████████████████████████████████████████████████| 13/13 [00:10<00:00,  1.23it/s]\n"
     ]
    },
    {
     "name": "stdout",
     "output_type": "stream",
     "text": [
      "loss_id=113.33 loss_momentum=2.49 loss_charge=1.05\n",
      "---->Initiating a validation run\n"
     ]
    },
    {
     "name": "stderr",
     "output_type": "stream",
     "text": [
      "100%|████████████████████████████████████████████████████████████████████████████████████████████████████| 2/2 [00:00<00:00,  2.87it/s]\n"
     ]
    },
    {
     "name": "stdout",
     "output_type": "stream",
     "text": [
      "loss_id=73.66 loss_momentum=1.77 loss_charge=0.81\n",
      "epoch=1 / 100 train_loss=116.8709 valid_loss=76.2383 stale=0 time=0.19m eta=18.5m\n",
      "----------------------------------------------------------\n",
      "---->Initiating a training run\n"
     ]
    },
    {
     "name": "stderr",
     "output_type": "stream",
     "text": [
      "100%|██████████████████████████████████████████████████████████████████████████████████████████████████| 13/13 [00:10<00:00,  1.25it/s]\n"
     ]
    },
    {
     "name": "stdout",
     "output_type": "stream",
     "text": [
      "loss_id=79.52 loss_momentum=2.17 loss_charge=0.89\n",
      "---->Initiating a validation run\n"
     ]
    },
    {
     "name": "stderr",
     "output_type": "stream",
     "text": [
      "100%|████████████████████████████████████████████████████████████████████████████████████████████████████| 2/2 [00:00<00:00,  3.08it/s]\n"
     ]
    },
    {
     "name": "stdout",
     "output_type": "stream",
     "text": [
      "loss_id=55.08 loss_momentum=1.73 loss_charge=0.68\n",
      "epoch=2 / 100 train_loss=82.57 valid_loss=57.4938 stale=0 time=0.19m eta=18.2m\n",
      "----------------------------------------------------------\n",
      "---->Initiating a training run\n"
     ]
    },
    {
     "name": "stderr",
     "output_type": "stream",
     "text": [
      "100%|██████████████████████████████████████████████████████████████████████████████████████████████████| 13/13 [00:10<00:00,  1.29it/s]\n"
     ]
    },
    {
     "name": "stdout",
     "output_type": "stream",
     "text": [
      "loss_id=63.26 loss_momentum=2.02 loss_charge=0.78\n",
      "---->Initiating a validation run\n"
     ]
    },
    {
     "name": "stderr",
     "output_type": "stream",
     "text": [
      "100%|████████████████████████████████████████████████████████████████████████████████████████████████████| 2/2 [00:00<00:00,  3.01it/s]\n"
     ]
    },
    {
     "name": "stdout",
     "output_type": "stream",
     "text": [
      "loss_id=42.99 loss_momentum=1.71 loss_charge=0.64\n",
      "epoch=3 / 100 train_loss=66.0606 valid_loss=45.3432 stale=0 time=0.18m eta=17.8m\n",
      "----------------------------------------------------------\n",
      "---->Initiating a training run\n"
     ]
    },
    {
     "name": "stderr",
     "output_type": "stream",
     "text": [
      "100%|██████████████████████████████████████████████████████████████████████████████████████████████████| 13/13 [00:09<00:00,  1.39it/s]\n"
     ]
    },
    {
     "name": "stdout",
     "output_type": "stream",
     "text": [
      "loss_id=52.17 loss_momentum=1.94 loss_charge=0.71\n",
      "---->Initiating a validation run\n"
     ]
    },
    {
     "name": "stderr",
     "output_type": "stream",
     "text": [
      "100%|████████████████████████████████████████████████████████████████████████████████████████████████████| 2/2 [00:00<00:00,  3.12it/s]\n"
     ]
    },
    {
     "name": "stdout",
     "output_type": "stream",
     "text": [
      "loss_id=40.23 loss_momentum=1.71 loss_charge=0.64\n",
      "epoch=4 / 100 train_loss=54.8215 valid_loss=42.5722 stale=0 time=0.17m eta=17.3m\n",
      "----------------------------------------------------------\n",
      "---->Initiating a training run\n"
     ]
    },
    {
     "name": "stderr",
     "output_type": "stream",
     "text": [
      "100%|██████████████████████████████████████████████████████████████████████████████████████████████████| 13/13 [00:08<00:00,  1.50it/s]\n"
     ]
    },
    {
     "name": "stdout",
     "output_type": "stream",
     "text": [
      "loss_id=45.13 loss_momentum=1.89 loss_charge=0.68\n",
      "---->Initiating a validation run\n"
     ]
    },
    {
     "name": "stderr",
     "output_type": "stream",
     "text": [
      "100%|████████████████████████████████████████████████████████████████████████████████████████████████████| 2/2 [00:00<00:00,  2.76it/s]\n"
     ]
    },
    {
     "name": "stdout",
     "output_type": "stream",
     "text": [
      "loss_id=40.08 loss_momentum=1.71 loss_charge=0.63\n",
      "epoch=5 / 100 train_loss=47.6999 valid_loss=42.4205 stale=0 time=0.16m eta=16.6m\n",
      "----------------------------------------------------------\n",
      "---->Initiating a training run\n"
     ]
    },
    {
     "name": "stderr",
     "output_type": "stream",
     "text": [
      "100%|██████████████████████████████████████████████████████████████████████████████████████████████████| 13/13 [00:10<00:00,  1.24it/s]\n"
     ]
    },
    {
     "name": "stdout",
     "output_type": "stream",
     "text": [
      "loss_id=41.01 loss_momentum=1.86 loss_charge=0.66\n",
      "---->Initiating a validation run\n"
     ]
    },
    {
     "name": "stderr",
     "output_type": "stream",
     "text": [
      "100%|████████████████████████████████████████████████████████████████████████████████████████████████████| 2/2 [00:00<00:00,  2.94it/s]\n"
     ]
    },
    {
     "name": "stdout",
     "output_type": "stream",
     "text": [
      "loss_id=39.08 loss_momentum=1.70 loss_charge=0.63\n",
      "epoch=6 / 100 train_loss=43.5292 valid_loss=41.4123 stale=0 time=0.19m eta=16.6m\n",
      "----------------------------------------------------------\n",
      "---->Initiating a training run\n"
     ]
    },
    {
     "name": "stderr",
     "output_type": "stream",
     "text": [
      "100%|██████████████████████████████████████████████████████████████████████████████████████████████████| 13/13 [00:08<00:00,  1.48it/s]\n"
     ]
    },
    {
     "name": "stdout",
     "output_type": "stream",
     "text": [
      "loss_id=38.33 loss_momentum=1.85 loss_charge=0.65\n",
      "---->Initiating a validation run\n"
     ]
    },
    {
     "name": "stderr",
     "output_type": "stream",
     "text": [
      "100%|████████████████████████████████████████████████████████████████████████████████████████████████████| 2/2 [00:00<00:00,  2.92it/s]\n"
     ]
    },
    {
     "name": "stdout",
     "output_type": "stream",
     "text": [
      "loss_id=37.14 loss_momentum=1.70 loss_charge=0.63\n",
      "epoch=7 / 100 train_loss=40.8275 valid_loss=39.4791 stale=0 time=0.16m eta=16.2m\n",
      "----------------------------------------------------------\n",
      "---->Initiating a training run\n"
     ]
    },
    {
     "name": "stderr",
     "output_type": "stream",
     "text": [
      "100%|██████████████████████████████████████████████████████████████████████████████████████████████████| 13/13 [00:09<00:00,  1.38it/s]\n"
     ]
    },
    {
     "name": "stdout",
     "output_type": "stream",
     "text": [
      "loss_id=36.38 loss_momentum=1.83 loss_charge=0.65\n",
      "---->Initiating a validation run\n"
     ]
    },
    {
     "name": "stderr",
     "output_type": "stream",
     "text": [
      "100%|████████████████████████████████████████████████████████████████████████████████████████████████████| 2/2 [00:00<00:00,  3.00it/s]\n"
     ]
    },
    {
     "name": "stdout",
     "output_type": "stream",
     "text": [
      "loss_id=35.24 loss_momentum=1.70 loss_charge=0.63\n",
      "epoch=8 / 100 train_loss=38.8602 valid_loss=37.5675 stale=0 time=0.17m eta=16.0m\n",
      "----------------------------------------------------------\n",
      "---->Initiating a training run\n"
     ]
    },
    {
     "name": "stderr",
     "output_type": "stream",
     "text": [
      "100%|██████████████████████████████████████████████████████████████████████████████████████████████████| 13/13 [00:09<00:00,  1.36it/s]\n"
     ]
    },
    {
     "name": "stdout",
     "output_type": "stream",
     "text": [
      "loss_id=35.00 loss_momentum=1.82 loss_charge=0.64\n",
      "---->Initiating a validation run\n"
     ]
    },
    {
     "name": "stderr",
     "output_type": "stream",
     "text": [
      "100%|████████████████████████████████████████████████████████████████████████████████████████████████████| 2/2 [00:00<00:00,  2.88it/s]\n"
     ]
    },
    {
     "name": "stdout",
     "output_type": "stream",
     "text": [
      "loss_id=33.70 loss_momentum=1.70 loss_charge=0.63\n",
      "epoch=9 / 100 train_loss=37.4667 valid_loss=36.0315 stale=0 time=0.17m eta=15.8m\n",
      "----------------------------------------------------------\n",
      "---->Initiating a training run\n"
     ]
    },
    {
     "name": "stderr",
     "output_type": "stream",
     "text": [
      "100%|██████████████████████████████████████████████████████████████████████████████████████████████████| 13/13 [00:09<00:00,  1.31it/s]\n"
     ]
    },
    {
     "name": "stdout",
     "output_type": "stream",
     "text": [
      "loss_id=33.94 loss_momentum=1.81 loss_charge=0.64\n",
      "---->Initiating a validation run\n"
     ]
    },
    {
     "name": "stderr",
     "output_type": "stream",
     "text": [
      "100%|████████████████████████████████████████████████████████████████████████████████████████████████████| 2/2 [00:00<00:00,  3.02it/s]\n"
     ]
    },
    {
     "name": "stdout",
     "output_type": "stream",
     "text": [
      "loss_id=32.72 loss_momentum=1.70 loss_charge=0.63\n",
      "epoch=10 / 100 train_loss=36.3951 valid_loss=35.049 stale=0 time=0.18m eta=15.6m\n",
      "----------------------------------------------------------\n",
      "---->Initiating a training run\n"
     ]
    },
    {
     "name": "stderr",
     "output_type": "stream",
     "text": [
      "100%|██████████████████████████████████████████████████████████████████████████████████████████████████| 13/13 [00:10<00:00,  1.19it/s]\n"
     ]
    },
    {
     "name": "stdout",
     "output_type": "stream",
     "text": [
      "loss_id=33.15 loss_momentum=1.81 loss_charge=0.64\n",
      "---->Initiating a validation run\n"
     ]
    },
    {
     "name": "stderr",
     "output_type": "stream",
     "text": [
      "100%|████████████████████████████████████████████████████████████████████████████████████████████████████| 2/2 [00:00<00:00,  2.78it/s]\n"
     ]
    },
    {
     "name": "stdout",
     "output_type": "stream",
     "text": [
      "loss_id=32.05 loss_momentum=1.70 loss_charge=0.63\n",
      "epoch=11 / 100 train_loss=35.5934 valid_loss=34.3741 stale=0 time=0.19m eta=15.6m\n",
      "----------------------------------------------------------\n",
      "---->Initiating a training run\n"
     ]
    },
    {
     "name": "stderr",
     "output_type": "stream",
     "text": [
      "100%|██████████████████████████████████████████████████████████████████████████████████████████████████| 13/13 [00:09<00:00,  1.31it/s]\n"
     ]
    },
    {
     "name": "stdout",
     "output_type": "stream",
     "text": [
      "loss_id=32.51 loss_momentum=1.80 loss_charge=0.64\n",
      "---->Initiating a validation run\n"
     ]
    },
    {
     "name": "stderr",
     "output_type": "stream",
     "text": [
      "100%|████████████████████████████████████████████████████████████████████████████████████████████████████| 2/2 [00:00<00:00,  2.89it/s]\n"
     ]
    },
    {
     "name": "stdout",
     "output_type": "stream",
     "text": [
      "loss_id=31.53 loss_momentum=1.70 loss_charge=0.63\n",
      "epoch=12 / 100 train_loss=34.9485 valid_loss=33.8601 stale=0 time=0.18m eta=15.4m\n",
      "----------------------------------------------------------\n",
      "---->Initiating a training run\n"
     ]
    },
    {
     "name": "stderr",
     "output_type": "stream",
     "text": [
      "100%|██████████████████████████████████████████████████████████████████████████████████████████████████| 13/13 [00:10<00:00,  1.25it/s]\n"
     ]
    },
    {
     "name": "stdout",
     "output_type": "stream",
     "text": [
      "loss_id=31.95 loss_momentum=1.80 loss_charge=0.64\n",
      "---->Initiating a validation run\n"
     ]
    },
    {
     "name": "stderr",
     "output_type": "stream",
     "text": [
      "100%|████████████████████████████████████████████████████████████████████████████████████████████████████| 2/2 [00:00<00:00,  3.10it/s]\n"
     ]
    },
    {
     "name": "stdout",
     "output_type": "stream",
     "text": [
      "loss_id=31.09 loss_momentum=1.69 loss_charge=0.63\n",
      "epoch=13 / 100 train_loss=34.3863 valid_loss=33.4128 stale=0 time=0.18m eta=15.3m\n",
      "----------------------------------------------------------\n",
      "---->Initiating a training run\n"
     ]
    },
    {
     "name": "stderr",
     "output_type": "stream",
     "text": [
      "100%|██████████████████████████████████████████████████████████████████████████████████████████████████| 13/13 [00:09<00:00,  1.41it/s]\n"
     ]
    },
    {
     "name": "stdout",
     "output_type": "stream",
     "text": [
      "loss_id=31.56 loss_momentum=1.80 loss_charge=0.64\n",
      "---->Initiating a validation run\n"
     ]
    },
    {
     "name": "stderr",
     "output_type": "stream",
     "text": [
      "100%|████████████████████████████████████████████████████████████████████████████████████████████████████| 2/2 [00:00<00:00,  3.07it/s]\n"
     ]
    },
    {
     "name": "stdout",
     "output_type": "stream",
     "text": [
      "loss_id=30.67 loss_momentum=1.69 loss_charge=0.63\n",
      "epoch=14 / 100 train_loss=33.9949 valid_loss=32.9925 stale=0 time=0.16m eta=15.1m\n",
      "----------------------------------------------------------\n",
      "---->Initiating a training run\n"
     ]
    },
    {
     "name": "stderr",
     "output_type": "stream",
     "text": [
      "100%|██████████████████████████████████████████████████████████████████████████████████████████████████| 13/13 [00:10<00:00,  1.29it/s]\n"
     ]
    },
    {
     "name": "stdout",
     "output_type": "stream",
     "text": [
      "loss_id=31.17 loss_momentum=1.79 loss_charge=0.63\n",
      "---->Initiating a validation run\n"
     ]
    },
    {
     "name": "stderr",
     "output_type": "stream",
     "text": [
      "100%|████████████████████████████████████████████████████████████████████████████████████████████████████| 2/2 [00:00<00:00,  3.02it/s]\n"
     ]
    },
    {
     "name": "stdout",
     "output_type": "stream",
     "text": [
      "loss_id=30.33 loss_momentum=1.69 loss_charge=0.63\n",
      "epoch=15 / 100 train_loss=33.6038 valid_loss=32.6497 stale=0 time=0.18m eta=14.9m\n",
      "----------------------------------------------------------\n",
      "---->Initiating a training run\n"
     ]
    },
    {
     "name": "stderr",
     "output_type": "stream",
     "text": [
      "100%|██████████████████████████████████████████████████████████████████████████████████████████████████| 13/13 [00:10<00:00,  1.28it/s]\n"
     ]
    },
    {
     "name": "stdout",
     "output_type": "stream",
     "text": [
      "loss_id=30.85 loss_momentum=1.79 loss_charge=0.63\n",
      "---->Initiating a validation run\n"
     ]
    },
    {
     "name": "stderr",
     "output_type": "stream",
     "text": [
      "100%|████████████████████████████████████████████████████████████████████████████████████████████████████| 2/2 [00:00<00:00,  2.90it/s]\n"
     ]
    },
    {
     "name": "stdout",
     "output_type": "stream",
     "text": [
      "loss_id=30.02 loss_momentum=1.69 loss_charge=0.63\n",
      "epoch=16 / 100 train_loss=33.2805 valid_loss=32.3346 stale=0 time=0.18m eta=14.8m\n",
      "----------------------------------------------------------\n",
      "---->Initiating a training run\n"
     ]
    },
    {
     "name": "stderr",
     "output_type": "stream",
     "text": [
      "100%|██████████████████████████████████████████████████████████████████████████████████████████████████| 13/13 [00:09<00:00,  1.35it/s]\n"
     ]
    },
    {
     "name": "stdout",
     "output_type": "stream",
     "text": [
      "loss_id=30.61 loss_momentum=1.79 loss_charge=0.63\n",
      "---->Initiating a validation run\n"
     ]
    },
    {
     "name": "stderr",
     "output_type": "stream",
     "text": [
      "100%|████████████████████████████████████████████████████████████████████████████████████████████████████| 2/2 [00:00<00:00,  2.80it/s]\n"
     ]
    },
    {
     "name": "stdout",
     "output_type": "stream",
     "text": [
      "loss_id=29.74 loss_momentum=1.69 loss_charge=0.63\n",
      "epoch=17 / 100 train_loss=33.0386 valid_loss=32.0524 stale=0 time=0.17m eta=14.6m\n",
      "----------------------------------------------------------\n",
      "---->Initiating a training run\n"
     ]
    },
    {
     "name": "stderr",
     "output_type": "stream",
     "text": [
      "100%|██████████████████████████████████████████████████████████████████████████████████████████████████| 13/13 [00:10<00:00,  1.27it/s]\n"
     ]
    },
    {
     "name": "stdout",
     "output_type": "stream",
     "text": [
      "loss_id=30.35 loss_momentum=1.79 loss_charge=0.63\n",
      "---->Initiating a validation run\n"
     ]
    },
    {
     "name": "stderr",
     "output_type": "stream",
     "text": [
      "100%|████████████████████████████████████████████████████████████████████████████████████████████████████| 2/2 [00:00<00:00,  2.96it/s]\n"
     ]
    },
    {
     "name": "stdout",
     "output_type": "stream",
     "text": [
      "loss_id=29.50 loss_momentum=1.69 loss_charge=0.63\n",
      "epoch=18 / 100 train_loss=32.7743 valid_loss=31.814 stale=0 time=0.18m eta=14.4m\n",
      "----------------------------------------------------------\n",
      "---->Initiating a training run\n"
     ]
    },
    {
     "name": "stderr",
     "output_type": "stream",
     "text": [
      "100%|██████████████████████████████████████████████████████████████████████████████████████████████████| 13/13 [00:10<00:00,  1.27it/s]\n"
     ]
    },
    {
     "name": "stdout",
     "output_type": "stream",
     "text": [
      "loss_id=30.13 loss_momentum=1.79 loss_charge=0.63\n",
      "---->Initiating a validation run\n"
     ]
    },
    {
     "name": "stderr",
     "output_type": "stream",
     "text": [
      "100%|████████████████████████████████████████████████████████████████████████████████████████████████████| 2/2 [00:00<00:00,  2.86it/s]\n"
     ]
    },
    {
     "name": "stdout",
     "output_type": "stream",
     "text": [
      "loss_id=29.28 loss_momentum=1.68 loss_charge=0.63\n",
      "epoch=19 / 100 train_loss=32.5478 valid_loss=31.5891 stale=0 time=0.18m eta=14.3m\n",
      "----------------------------------------------------------\n",
      "---->Initiating a training run\n"
     ]
    },
    {
     "name": "stderr",
     "output_type": "stream",
     "text": [
      "100%|██████████████████████████████████████████████████████████████████████████████████████████████████| 13/13 [00:10<00:00,  1.28it/s]\n"
     ]
    },
    {
     "name": "stdout",
     "output_type": "stream",
     "text": [
      "loss_id=29.90 loss_momentum=1.78 loss_charge=0.63\n",
      "---->Initiating a validation run\n"
     ]
    },
    {
     "name": "stderr",
     "output_type": "stream",
     "text": [
      "100%|████████████████████████████████████████████████████████████████████████████████████████████████████| 2/2 [00:00<00:00,  2.86it/s]\n"
     ]
    },
    {
     "name": "stdout",
     "output_type": "stream",
     "text": [
      "loss_id=29.08 loss_momentum=1.68 loss_charge=0.63\n",
      "epoch=20 / 100 train_loss=32.3155 valid_loss=31.3892 stale=0 time=0.18m eta=14.1m\n",
      "----------------------------------------------------------\n",
      "---->Initiating a training run\n"
     ]
    },
    {
     "name": "stderr",
     "output_type": "stream",
     "text": [
      "100%|██████████████████████████████████████████████████████████████████████████████████████████████████| 13/13 [00:09<00:00,  1.33it/s]\n"
     ]
    },
    {
     "name": "stdout",
     "output_type": "stream",
     "text": [
      "loss_id=29.79 loss_momentum=1.78 loss_charge=0.63\n",
      "---->Initiating a validation run\n"
     ]
    },
    {
     "name": "stderr",
     "output_type": "stream",
     "text": [
      "100%|████████████████████████████████████████████████████████████████████████████████████████████████████| 2/2 [00:00<00:00,  2.76it/s]\n"
     ]
    },
    {
     "name": "stdout",
     "output_type": "stream",
     "text": [
      "loss_id=28.89 loss_momentum=1.68 loss_charge=0.63\n",
      "epoch=21 / 100 train_loss=32.2024 valid_loss=31.1976 stale=0 time=0.18m eta=14.0m\n",
      "----------------------------------------------------------\n",
      "---->Initiating a training run\n"
     ]
    },
    {
     "name": "stderr",
     "output_type": "stream",
     "text": [
      "100%|██████████████████████████████████████████████████████████████████████████████████████████████████| 13/13 [00:10<00:00,  1.27it/s]\n"
     ]
    },
    {
     "name": "stdout",
     "output_type": "stream",
     "text": [
      "loss_id=29.59 loss_momentum=1.78 loss_charge=0.63\n",
      "---->Initiating a validation run\n"
     ]
    },
    {
     "name": "stderr",
     "output_type": "stream",
     "text": [
      "100%|████████████████████████████████████████████████████████████████████████████████████████████████████| 2/2 [00:00<00:00,  3.05it/s]\n"
     ]
    },
    {
     "name": "stdout",
     "output_type": "stream",
     "text": [
      "loss_id=28.73 loss_momentum=1.68 loss_charge=0.63\n",
      "epoch=22 / 100 train_loss=32.0017 valid_loss=31.0343 stale=0 time=0.18m eta=13.8m\n",
      "----------------------------------------------------------\n",
      "---->Initiating a training run\n"
     ]
    },
    {
     "name": "stderr",
     "output_type": "stream",
     "text": [
      "100%|██████████████████████████████████████████████████████████████████████████████████████████████████| 13/13 [00:09<00:00,  1.37it/s]\n"
     ]
    },
    {
     "name": "stdout",
     "output_type": "stream",
     "text": [
      "loss_id=29.43 loss_momentum=1.78 loss_charge=0.63\n",
      "---->Initiating a validation run\n"
     ]
    },
    {
     "name": "stderr",
     "output_type": "stream",
     "text": [
      "100%|████████████████████████████████████████████████████████████████████████████████████████████████████| 2/2 [00:00<00:00,  2.94it/s]\n"
     ]
    },
    {
     "name": "stdout",
     "output_type": "stream",
     "text": [
      "loss_id=28.60 loss_momentum=1.67 loss_charge=0.63\n",
      "epoch=23 / 100 train_loss=31.8354 valid_loss=30.9026 stale=0 time=0.17m eta=13.6m\n",
      "----------------------------------------------------------\n",
      "---->Initiating a training run\n"
     ]
    },
    {
     "name": "stderr",
     "output_type": "stream",
     "text": [
      "100%|██████████████████████████████████████████████████████████████████████████████████████████████████| 13/13 [00:10<00:00,  1.27it/s]\n"
     ]
    },
    {
     "name": "stdout",
     "output_type": "stream",
     "text": [
      "loss_id=29.29 loss_momentum=1.78 loss_charge=0.63\n",
      "---->Initiating a validation run\n"
     ]
    },
    {
     "name": "stderr",
     "output_type": "stream",
     "text": [
      "100%|████████████████████████████████████████████████████████████████████████████████████████████████████| 2/2 [00:00<00:00,  2.92it/s]\n"
     ]
    },
    {
     "name": "stdout",
     "output_type": "stream",
     "text": [
      "loss_id=28.47 loss_momentum=1.67 loss_charge=0.63\n",
      "epoch=24 / 100 train_loss=31.6957 valid_loss=30.764 stale=0 time=0.18m eta=13.4m\n",
      "----------------------------------------------------------\n",
      "---->Initiating a training run\n"
     ]
    },
    {
     "name": "stderr",
     "output_type": "stream",
     "text": [
      "100%|██████████████████████████████████████████████████████████████████████████████████████████████████| 13/13 [00:09<00:00,  1.35it/s]\n"
     ]
    },
    {
     "name": "stdout",
     "output_type": "stream",
     "text": [
      "loss_id=29.18 loss_momentum=1.77 loss_charge=0.63\n",
      "---->Initiating a validation run\n"
     ]
    },
    {
     "name": "stderr",
     "output_type": "stream",
     "text": [
      "100%|████████████████████████████████████████████████████████████████████████████████████████████████████| 2/2 [00:00<00:00,  2.83it/s]\n"
     ]
    },
    {
     "name": "stdout",
     "output_type": "stream",
     "text": [
      "loss_id=28.35 loss_momentum=1.67 loss_charge=0.63\n",
      "epoch=25 / 100 train_loss=31.5894 valid_loss=30.6404 stale=0 time=0.17m eta=13.2m\n",
      "----------------------------------------------------------\n",
      "---->Initiating a training run\n"
     ]
    },
    {
     "name": "stderr",
     "output_type": "stream",
     "text": [
      "100%|██████████████████████████████████████████████████████████████████████████████████████████████████| 13/13 [00:09<00:00,  1.31it/s]\n"
     ]
    },
    {
     "name": "stdout",
     "output_type": "stream",
     "text": [
      "loss_id=29.05 loss_momentum=1.77 loss_charge=0.63\n",
      "---->Initiating a validation run\n"
     ]
    },
    {
     "name": "stderr",
     "output_type": "stream",
     "text": [
      "100%|████████████████████████████████████████████████████████████████████████████████████████████████████| 2/2 [00:00<00:00,  2.93it/s]\n"
     ]
    },
    {
     "name": "stdout",
     "output_type": "stream",
     "text": [
      "loss_id=28.24 loss_momentum=1.66 loss_charge=0.63\n",
      "epoch=26 / 100 train_loss=31.4548 valid_loss=30.5305 stale=0 time=0.18m eta=13.1m\n",
      "----------------------------------------------------------\n",
      "---->Initiating a training run\n"
     ]
    },
    {
     "name": "stderr",
     "output_type": "stream",
     "text": [
      "100%|██████████████████████████████████████████████████████████████████████████████████████████████████| 13/13 [00:09<00:00,  1.34it/s]\n"
     ]
    },
    {
     "name": "stdout",
     "output_type": "stream",
     "text": [
      "loss_id=28.95 loss_momentum=1.77 loss_charge=0.63\n",
      "---->Initiating a validation run\n"
     ]
    },
    {
     "name": "stderr",
     "output_type": "stream",
     "text": [
      "100%|████████████████████████████████████████████████████████████████████████████████████████████████████| 2/2 [00:00<00:00,  3.07it/s]\n"
     ]
    },
    {
     "name": "stdout",
     "output_type": "stream",
     "text": [
      "loss_id=28.14 loss_momentum=1.66 loss_charge=0.63\n",
      "epoch=27 / 100 train_loss=31.3463 valid_loss=30.4279 stale=0 time=0.17m eta=12.9m\n",
      "----------------------------------------------------------\n",
      "---->Initiating a training run\n"
     ]
    },
    {
     "name": "stderr",
     "output_type": "stream",
     "text": [
      "100%|██████████████████████████████████████████████████████████████████████████████████████████████████| 13/13 [00:09<00:00,  1.37it/s]\n"
     ]
    },
    {
     "name": "stdout",
     "output_type": "stream",
     "text": [
      "loss_id=28.81 loss_momentum=1.77 loss_charge=0.63\n",
      "---->Initiating a validation run\n"
     ]
    },
    {
     "name": "stderr",
     "output_type": "stream",
     "text": [
      "100%|████████████████████████████████████████████████████████████████████████████████████████████████████| 2/2 [00:00<00:00,  2.86it/s]\n"
     ]
    },
    {
     "name": "stdout",
     "output_type": "stream",
     "text": [
      "loss_id=28.06 loss_momentum=1.66 loss_charge=0.63\n",
      "epoch=28 / 100 train_loss=31.2062 valid_loss=30.3411 stale=0 time=0.17m eta=12.7m\n",
      "----------------------------------------------------------\n",
      "---->Initiating a training run\n"
     ]
    },
    {
     "name": "stderr",
     "output_type": "stream",
     "text": [
      "100%|██████████████████████████████████████████████████████████████████████████████████████████████████| 13/13 [00:10<00:00,  1.28it/s]\n"
     ]
    },
    {
     "name": "stdout",
     "output_type": "stream",
     "text": [
      "loss_id=28.75 loss_momentum=1.76 loss_charge=0.63\n",
      "---->Initiating a validation run\n"
     ]
    },
    {
     "name": "stderr",
     "output_type": "stream",
     "text": [
      "100%|████████████████████████████████████████████████████████████████████████████████████████████████████| 2/2 [00:00<00:00,  3.01it/s]\n"
     ]
    },
    {
     "name": "stdout",
     "output_type": "stream",
     "text": [
      "loss_id=27.96 loss_momentum=1.65 loss_charge=0.63\n",
      "epoch=29 / 100 train_loss=31.1482 valid_loss=30.2393 stale=0 time=0.18m eta=12.5m\n",
      "----------------------------------------------------------\n",
      "---->Initiating a training run\n"
     ]
    },
    {
     "name": "stderr",
     "output_type": "stream",
     "text": [
      "100%|██████████████████████████████████████████████████████████████████████████████████████████████████| 13/13 [00:09<00:00,  1.38it/s]\n"
     ]
    },
    {
     "name": "stdout",
     "output_type": "stream",
     "text": [
      "loss_id=28.64 loss_momentum=1.76 loss_charge=0.63\n",
      "---->Initiating a validation run\n"
     ]
    },
    {
     "name": "stderr",
     "output_type": "stream",
     "text": [
      "100%|████████████████████████████████████████████████████████████████████████████████████████████████████| 2/2 [00:00<00:00,  2.73it/s]\n"
     ]
    },
    {
     "name": "stdout",
     "output_type": "stream",
     "text": [
      "loss_id=27.90 loss_momentum=1.65 loss_charge=0.63\n",
      "epoch=30 / 100 train_loss=31.035 valid_loss=30.179 stale=0 time=0.17m eta=12.3m\n",
      "----------------------------------------------------------\n",
      "---->Initiating a training run\n"
     ]
    },
    {
     "name": "stderr",
     "output_type": "stream",
     "text": [
      "100%|██████████████████████████████████████████████████████████████████████████████████████████████████| 13/13 [00:09<00:00,  1.31it/s]\n"
     ]
    },
    {
     "name": "stdout",
     "output_type": "stream",
     "text": [
      "loss_id=28.57 loss_momentum=1.76 loss_charge=0.63\n",
      "---->Initiating a validation run\n"
     ]
    },
    {
     "name": "stderr",
     "output_type": "stream",
     "text": [
      "100%|████████████████████████████████████████████████████████████████████████████████████████████████████| 2/2 [00:00<00:00,  3.01it/s]\n"
     ]
    },
    {
     "name": "stdout",
     "output_type": "stream",
     "text": [
      "loss_id=27.83 loss_momentum=1.64 loss_charge=0.63\n",
      "epoch=31 / 100 train_loss=30.9566 valid_loss=30.0984 stale=0 time=0.18m eta=12.2m\n",
      "----------------------------------------------------------\n",
      "---->Initiating a training run\n"
     ]
    },
    {
     "name": "stderr",
     "output_type": "stream",
     "text": [
      "100%|██████████████████████████████████████████████████████████████████████████████████████████████████| 13/13 [00:09<00:00,  1.34it/s]\n"
     ]
    },
    {
     "name": "stdout",
     "output_type": "stream",
     "text": [
      "loss_id=28.49 loss_momentum=1.75 loss_charge=0.63\n",
      "---->Initiating a validation run\n"
     ]
    },
    {
     "name": "stderr",
     "output_type": "stream",
     "text": [
      "100%|████████████████████████████████████████████████████████████████████████████████████████████████████| 2/2 [00:00<00:00,  2.93it/s]\n"
     ]
    },
    {
     "name": "stdout",
     "output_type": "stream",
     "text": [
      "loss_id=27.76 loss_momentum=1.64 loss_charge=0.63\n",
      "epoch=32 / 100 train_loss=30.8776 valid_loss=30.0324 stale=0 time=0.17m eta=12.0m\n",
      "----------------------------------------------------------\n",
      "---->Initiating a training run\n"
     ]
    },
    {
     "name": "stderr",
     "output_type": "stream",
     "text": [
      "100%|██████████████████████████████████████████████████████████████████████████████████████████████████| 13/13 [00:09<00:00,  1.30it/s]\n"
     ]
    },
    {
     "name": "stdout",
     "output_type": "stream",
     "text": [
      "loss_id=28.41 loss_momentum=1.75 loss_charge=0.63\n",
      "---->Initiating a validation run\n"
     ]
    },
    {
     "name": "stderr",
     "output_type": "stream",
     "text": [
      "100%|████████████████████████████████████████████████████████████████████████████████████████████████████| 2/2 [00:00<00:00,  2.85it/s]\n"
     ]
    },
    {
     "name": "stdout",
     "output_type": "stream",
     "text": [
      "loss_id=27.69 loss_momentum=1.64 loss_charge=0.63\n",
      "epoch=33 / 100 train_loss=30.7905 valid_loss=29.9589 stale=0 time=0.18m eta=11.8m\n",
      "----------------------------------------------------------\n",
      "---->Initiating a training run\n"
     ]
    },
    {
     "name": "stderr",
     "output_type": "stream",
     "text": [
      "100%|██████████████████████████████████████████████████████████████████████████████████████████████████| 13/13 [00:10<00:00,  1.28it/s]\n"
     ]
    },
    {
     "name": "stdout",
     "output_type": "stream",
     "text": [
      "loss_id=28.36 loss_momentum=1.75 loss_charge=0.63\n",
      "---->Initiating a validation run\n"
     ]
    },
    {
     "name": "stderr",
     "output_type": "stream",
     "text": [
      "100%|████████████████████████████████████████████████████████████████████████████████████████████████████| 2/2 [00:00<00:00,  2.87it/s]\n"
     ]
    },
    {
     "name": "stdout",
     "output_type": "stream",
     "text": [
      "loss_id=27.64 loss_momentum=1.63 loss_charge=0.63\n",
      "epoch=34 / 100 train_loss=30.7336 valid_loss=29.906 stale=0 time=0.18m eta=11.6m\n",
      "----------------------------------------------------------\n",
      "---->Initiating a training run\n"
     ]
    },
    {
     "name": "stderr",
     "output_type": "stream",
     "text": [
      "100%|██████████████████████████████████████████████████████████████████████████████████████████████████| 13/13 [00:10<00:00,  1.25it/s]\n"
     ]
    },
    {
     "name": "stdout",
     "output_type": "stream",
     "text": [
      "loss_id=28.27 loss_momentum=1.74 loss_charge=0.63\n",
      "---->Initiating a validation run\n"
     ]
    },
    {
     "name": "stderr",
     "output_type": "stream",
     "text": [
      "100%|████████████████████████████████████████████████████████████████████████████████████████████████████| 2/2 [00:00<00:00,  2.87it/s]\n"
     ]
    },
    {
     "name": "stdout",
     "output_type": "stream",
     "text": [
      "loss_id=27.59 loss_momentum=1.63 loss_charge=0.63\n",
      "epoch=35 / 100 train_loss=30.6448 valid_loss=29.8532 stale=0 time=0.19m eta=11.5m\n",
      "----------------------------------------------------------\n",
      "---->Initiating a training run\n"
     ]
    },
    {
     "name": "stderr",
     "output_type": "stream",
     "text": [
      "100%|██████████████████████████████████████████████████████████████████████████████████████████████████| 13/13 [00:09<00:00,  1.32it/s]\n"
     ]
    },
    {
     "name": "stdout",
     "output_type": "stream",
     "text": [
      "loss_id=28.17 loss_momentum=1.74 loss_charge=0.63\n",
      "---->Initiating a validation run\n"
     ]
    },
    {
     "name": "stderr",
     "output_type": "stream",
     "text": [
      "100%|████████████████████████████████████████████████████████████████████████████████████████████████████| 2/2 [00:00<00:00,  3.08it/s]\n"
     ]
    },
    {
     "name": "stdout",
     "output_type": "stream",
     "text": [
      "loss_id=27.54 loss_momentum=1.63 loss_charge=0.63\n",
      "epoch=36 / 100 train_loss=30.5442 valid_loss=29.7982 stale=0 time=0.17m eta=11.3m\n",
      "----------------------------------------------------------\n",
      "---->Initiating a training run\n"
     ]
    },
    {
     "name": "stderr",
     "output_type": "stream",
     "text": [
      "100%|██████████████████████████████████████████████████████████████████████████████████████████████████| 13/13 [00:09<00:00,  1.31it/s]\n"
     ]
    },
    {
     "name": "stdout",
     "output_type": "stream",
     "text": [
      "loss_id=28.16 loss_momentum=1.73 loss_charge=0.63\n",
      "---->Initiating a validation run\n"
     ]
    },
    {
     "name": "stderr",
     "output_type": "stream",
     "text": [
      "100%|████████████████████████████████████████████████████████████████████████████████████████████████████| 2/2 [00:00<00:00,  2.80it/s]\n"
     ]
    },
    {
     "name": "stdout",
     "output_type": "stream",
     "text": [
      "loss_id=27.49 loss_momentum=1.62 loss_charge=0.63\n",
      "epoch=37 / 100 train_loss=30.5298 valid_loss=29.7419 stale=0 time=0.18m eta=11.1m\n",
      "----------------------------------------------------------\n",
      "---->Initiating a training run\n"
     ]
    },
    {
     "name": "stderr",
     "output_type": "stream",
     "text": [
      "100%|██████████████████████████████████████████████████████████████████████████████████████████████████| 13/13 [00:10<00:00,  1.23it/s]\n"
     ]
    },
    {
     "name": "stdout",
     "output_type": "stream",
     "text": [
      "loss_id=28.06 loss_momentum=1.73 loss_charge=0.63\n",
      "---->Initiating a validation run\n"
     ]
    },
    {
     "name": "stderr",
     "output_type": "stream",
     "text": [
      "100%|████████████████████████████████████████████████████████████████████████████████████████████████████| 2/2 [00:00<00:00,  2.98it/s]\n"
     ]
    },
    {
     "name": "stdout",
     "output_type": "stream",
     "text": [
      "loss_id=27.44 loss_momentum=1.62 loss_charge=0.63\n",
      "epoch=38 / 100 train_loss=30.424 valid_loss=29.6876 stale=0 time=0.19m eta=11.0m\n",
      "----------------------------------------------------------\n",
      "---->Initiating a training run\n"
     ]
    },
    {
     "name": "stderr",
     "output_type": "stream",
     "text": [
      "100%|██████████████████████████████████████████████████████████████████████████████████████████████████| 13/13 [00:09<00:00,  1.39it/s]\n"
     ]
    },
    {
     "name": "stdout",
     "output_type": "stream",
     "text": [
      "loss_id=28.00 loss_momentum=1.73 loss_charge=0.63\n",
      "---->Initiating a validation run\n"
     ]
    },
    {
     "name": "stderr",
     "output_type": "stream",
     "text": [
      "100%|████████████████████████████████████████████████████████████████████████████████████████████████████| 2/2 [00:00<00:00,  2.88it/s]\n"
     ]
    },
    {
     "name": "stdout",
     "output_type": "stream",
     "text": [
      "loss_id=27.40 loss_momentum=1.62 loss_charge=0.63\n",
      "epoch=39 / 100 train_loss=30.3526 valid_loss=29.6431 stale=0 time=0.17m eta=10.8m\n",
      "----------------------------------------------------------\n",
      "---->Initiating a training run\n"
     ]
    },
    {
     "name": "stderr",
     "output_type": "stream",
     "text": [
      "100%|██████████████████████████████████████████████████████████████████████████████████████████████████| 13/13 [00:09<00:00,  1.31it/s]\n"
     ]
    },
    {
     "name": "stdout",
     "output_type": "stream",
     "text": [
      "loss_id=27.95 loss_momentum=1.72 loss_charge=0.63\n",
      "---->Initiating a validation run\n"
     ]
    },
    {
     "name": "stderr",
     "output_type": "stream",
     "text": [
      "100%|████████████████████████████████████████████████████████████████████████████████████████████████████| 2/2 [00:00<00:00,  2.87it/s]\n"
     ]
    },
    {
     "name": "stdout",
     "output_type": "stream",
     "text": [
      "loss_id=27.34 loss_momentum=1.61 loss_charge=0.63\n",
      "epoch=40 / 100 train_loss=30.2984 valid_loss=29.5828 stale=0 time=0.18m eta=10.6m\n",
      "----------------------------------------------------------\n",
      "---->Initiating a training run\n"
     ]
    },
    {
     "name": "stderr",
     "output_type": "stream",
     "text": [
      "100%|██████████████████████████████████████████████████████████████████████████████████████████████████| 13/13 [00:09<00:00,  1.42it/s]\n"
     ]
    },
    {
     "name": "stdout",
     "output_type": "stream",
     "text": [
      "loss_id=27.91 loss_momentum=1.72 loss_charge=0.63\n",
      "---->Initiating a validation run\n"
     ]
    },
    {
     "name": "stderr",
     "output_type": "stream",
     "text": [
      "100%|████████████████████████████████████████████████████████████████████████████████████████████████████| 2/2 [00:00<00:00,  2.79it/s]\n"
     ]
    },
    {
     "name": "stdout",
     "output_type": "stream",
     "text": [
      "loss_id=27.31 loss_momentum=1.61 loss_charge=0.63\n",
      "epoch=41 / 100 train_loss=30.2569 valid_loss=29.544 stale=0 time=0.16m eta=10.4m\n",
      "----------------------------------------------------------\n",
      "---->Initiating a training run\n"
     ]
    },
    {
     "name": "stderr",
     "output_type": "stream",
     "text": [
      "100%|██████████████████████████████████████████████████████████████████████████████████████████████████| 13/13 [00:10<00:00,  1.22it/s]\n"
     ]
    },
    {
     "name": "stdout",
     "output_type": "stream",
     "text": [
      "loss_id=27.87 loss_momentum=1.71 loss_charge=0.63\n",
      "---->Initiating a validation run\n"
     ]
    },
    {
     "name": "stderr",
     "output_type": "stream",
     "text": [
      "100%|████████████████████████████████████████████████████████████████████████████████████████████████████| 2/2 [00:00<00:00,  3.02it/s]\n"
     ]
    },
    {
     "name": "stdout",
     "output_type": "stream",
     "text": [
      "loss_id=27.26 loss_momentum=1.61 loss_charge=0.63\n",
      "epoch=42 / 100 train_loss=30.2075 valid_loss=29.4916 stale=0 time=0.19m eta=10.2m\n",
      "----------------------------------------------------------\n",
      "---->Initiating a training run\n"
     ]
    },
    {
     "name": "stderr",
     "output_type": "stream",
     "text": [
      "100%|██████████████████████████████████████████████████████████████████████████████████████████████████| 13/13 [00:10<00:00,  1.27it/s]\n"
     ]
    },
    {
     "name": "stdout",
     "output_type": "stream",
     "text": [
      "loss_id=27.79 loss_momentum=1.71 loss_charge=0.63\n",
      "---->Initiating a validation run\n"
     ]
    },
    {
     "name": "stderr",
     "output_type": "stream",
     "text": [
      "100%|████████████████████████████████████████████████████████████████████████████████████████████████████| 2/2 [00:00<00:00,  2.64it/s]\n"
     ]
    },
    {
     "name": "stdout",
     "output_type": "stream",
     "text": [
      "loss_id=27.21 loss_momentum=1.60 loss_charge=0.63\n",
      "epoch=43 / 100 train_loss=30.1285 valid_loss=29.4399 stale=0 time=0.18m eta=10.1m\n",
      "----------------------------------------------------------\n",
      "---->Initiating a training run\n"
     ]
    },
    {
     "name": "stderr",
     "output_type": "stream",
     "text": [
      "\r",
      "  0%|                                                                                                           | 0/13 [00:00<?, ?it/s]"
     ]
    }
   ],
   "source": [
    "n_epochs_mlpf = 100\n",
    "lr = 5e-5\n",
    "patience = 50\n",
    "FineTune_VICReg=False\n",
    "\n",
    "# make mlpf specific directory\n",
    "print(f\"- Training {mode} MLPF over {n_epochs_mlpf} epochs\")\n",
    "\n",
    "t0_initial = time.time()\n",
    "\n",
    "losses_train_tot, losses_train_id, losses_train_momentum = [], [], []\n",
    "losses_valid_tot, losses_valid_id, losses_valid_momentum = [], [], []\n",
    "\n",
    "best_val_loss_tot, best_val_loss_id, best_val_loss_momentum = 99999.9, 99999.9, 99999.9\n",
    "stale_epochs = 0\n",
    "\n",
    "optimizer = torch.optim.AdamW(mlpf.parameters(), lr=lr)\n",
    "if FineTune_VICReg:\n",
    "    print(\"Will finetune VICReg during mlpf training\")\n",
    "    optimizer_VICReg = torch.optim.SGD(encoder.parameters(), lr=lr * 0.1)\n",
    "else:\n",
    "    print(\"Will fix VICReg during mlpf training\")\n",
    "    optimizer_VICReg = None\n",
    "\n",
    "# set VICReg to evaluation mode\n",
    "encoder.eval()\n",
    "\n",
    "for epoch in range(n_epochs):\n",
    "    t0 = time.time()\n",
    "\n",
    "    if stale_epochs > patience:\n",
    "        print(\"breaking due to stale epochs\")\n",
    "        break\n",
    "\n",
    "    # training step\n",
    "    losses_t_tot, losses_t_id, losses_t_momentum = train(\n",
    "        device, encoder, mlpf, train_loader, valid_loader, optimizer, optimizer_VICReg, mode\n",
    "    )\n",
    "    losses_train_tot.append(losses_t_tot)\n",
    "    losses_train_id.append(losses_t_id)\n",
    "    losses_train_momentum.append(losses_t_momentum)\n",
    "\n",
    "    # validation step\n",
    "    losses_v_tot, losses_v_id, losses_v_momentum = validation_run(\n",
    "        device, encoder, mlpf, train_loader, valid_loader, mode\n",
    "    )\n",
    "    losses_valid_tot.append(losses_v_tot)\n",
    "    losses_valid_id.append(losses_v_id)\n",
    "    losses_valid_momentum.append(losses_v_momentum)\n",
    "\n",
    "    if losses_v_id < best_val_loss_id:\n",
    "        best_val_loss_id = losses_v_id\n",
    "        best_train_loss_id = losses_t_id\n",
    "\n",
    "    if losses_v_momentum < best_val_loss_momentum:\n",
    "        best_val_loss_momentum = losses_v_momentum\n",
    "        best_train_loss_momentum = losses_t_momentum\n",
    "\n",
    "    # early-stopping\n",
    "    if losses_v_tot < best_val_loss_tot:\n",
    "        best_val_loss_tot = losses_v_tot\n",
    "        best_train_loss_tot = losses_t_tot\n",
    "\n",
    "        stale_epochs = 0\n",
    "    else:\n",
    "        stale_epochs += 1\n",
    "\n",
    "    t1 = time.time()\n",
    "\n",
    "    epochs_remaining = n_epochs - (epoch + 1)\n",
    "    time_per_epoch = (t1 - t0_initial) / (epoch + 1)\n",
    "    eta = epochs_remaining * time_per_epoch / 60\n",
    "\n",
    "    print(\n",
    "        f\"epoch={epoch + 1} / {n_epochs} \"\n",
    "        + f\"train_loss={round(losses_train_tot[epoch], 4)} \"\n",
    "        + f\"valid_loss={round(losses_valid_tot[epoch], 4)} \"\n",
    "        + f\"stale={stale_epochs} \"\n",
    "        + f\"time={round((t1-t0)/60, 2)}m \"\n",
    "        + f\"eta={round(eta, 1)}m\"\n",
    "    )\n",
    "\n",
    "    print(\"----------------------------------------------------------\")\n",
    "print(f\"Done with training. Total training time is {round((time.time() - t0_initial)/60,3)}min\")"
   ]
  },
  {
   "cell_type": "code",
   "execution_count": null,
   "id": "2b7a8e5a",
   "metadata": {},
   "outputs": [],
   "source": [
    "losses_to_plot = {}"
   ]
  },
  {
   "cell_type": "code",
   "execution_count": null,
   "id": "78c5dc55",
   "metadata": {},
   "outputs": [],
   "source": [
    "losses_to_plot[\"ssl\"] = {}"
   ]
  },
  {
   "cell_type": "code",
   "execution_count": null,
   "id": "01595a98",
   "metadata": {
    "scrolled": false
   },
   "outputs": [],
   "source": [
    "%matplotlib inline\n",
    "plt.rcParams.update({\"font.size\": 15})\n",
    "\n",
    "# make total loss plot\n",
    "fig, ax = plt.subplots(figsize=(4,4))\n",
    "ax.plot(range(len(losses_train_tot)), losses_train_tot, label=\"training ({:.2f})\".format(best_train_loss_tot))\n",
    "ax.plot(range(len(losses_valid_tot)), losses_valid_tot, label=\"validation ({:.2f})\".format(best_val_loss_tot))\n",
    "ax.set_xlabel(\"Epochs\")\n",
    "ax.set_ylabel(\"Total Loss\")\n",
    "ax.set_ylim(0.8 * losses_train_tot[-1], 1.2 * losses_train_tot[-1])\n",
    "if mode == \"ssl\":\n",
    "    ax.legend(title=\"SSL-based MLPF\", loc=\"best\", title_fontsize=20, fontsize=15)\n",
    "else:\n",
    "    ax.legend(title=\"Native MLPF\", loc=\"best\", title_fontsize=20, fontsize=15)\n",
    "\n",
    "# make loss id plot\n",
    "fig, (ax1,ax2) = plt.subplots(1,2, figsize=(10,4))\n",
    "ax1.plot(range(len(losses_train_id)), losses_train_id, label=\"training ({:.2f})\".format(best_train_loss_id))\n",
    "ax1.plot(range(len(losses_valid_id)), losses_valid_id, label=\"validation ({:.2f})\".format(best_val_loss_id))\n",
    "ax1.set_xlabel(\"Epochs\")\n",
    "ax1.set_ylabel(\"Classification Loss\")\n",
    "ax1.set_ylim(0.8 * losses_train_id[-1], 1.2 * losses_train_id[-1])\n",
    "if mode == \"ssl\":\n",
    "    ax1.legend(title=\"SSL-based MLPF\", loc=\"best\", title_fontsize=20, fontsize=15)\n",
    "else:\n",
    "    ax1.legend(title=\"Native MLPF\", loc=\"best\", title_fontsize=20, fontsize=15)\n",
    "\n",
    "# make loss momentum plot\n",
    "ax2.plot(\n",
    "    range(len(losses_train_momentum)),\n",
    "    losses_train_momentum,\n",
    "    label=\"training ({:.2f})\".format(best_train_loss_momentum),\n",
    ")\n",
    "ax2.plot(\n",
    "    range(len(losses_valid_momentum)),\n",
    "    losses_valid_momentum,\n",
    "    label=\"validation ({:.2f})\".format(best_val_loss_momentum),\n",
    ")\n",
    "ax2.set_xlabel(\"Epochs\")\n",
    "ax2.set_ylabel(\"Regression Loss\")\n",
    "ax2.set_ylim(0.8 * losses_train_momentum[-1], 1.2 * losses_train_momentum[-1])\n",
    "if mode == \"ssl\":\n",
    "    ax2.legend(title=\"SSL-based MLPF\", loc=\"best\", title_fontsize=20, fontsize=15)\n",
    "else:\n",
    "    ax2.legend(title=\"Native MLPF\", loc=\"best\", title_fontsize=20, fontsize=15)\n",
    "\n",
    "losses_to_plot[\"ssl\"][\"tot\"] = losses_valid_tot\n",
    "losses_to_plot[\"ssl\"][\"id\"] = losses_valid_id\n",
    "losses_to_plot[\"ssl\"][\"p4\"] = losses_valid_momentum"
   ]
  },
  {
   "cell_type": "markdown",
   "id": "3bc51356",
   "metadata": {},
   "source": [
    "# Native"
   ]
  },
  {
   "cell_type": "code",
   "execution_count": null,
   "id": "b2bf23ea",
   "metadata": {},
   "outputs": [],
   "source": [
    "ssl = 0\n",
    "\n",
    "mlpf_model_kwargs = {\n",
    "    \"input_dim\": input_,\n",
    "    \"width\": 256,\n",
    "    \"num_convs\": 0,\n",
    "    \"dropout\": 0.4,\n",
    "    \"ssl\": ssl,\n",
    "    \"VICReg_embedding_dim\": embedding_dim_VICReg\n",
    "}\n",
    "\n",
    "mlpf = MLPF(**mlpf_model_kwargs).to(device)\n",
    "print(mlpf)\n",
    "\n",
    "if ssl:\n",
    "    mode = \"ssl\"\n",
    "else:\n",
    "    mode = \"native\""
   ]
  },
  {
   "cell_type": "code",
   "execution_count": null,
   "id": "02ca4486",
   "metadata": {},
   "outputs": [],
   "source": [
    "n_epochs_mlpf = 100\n",
    "lr = 5e-5\n",
    "patience = 50\n",
    "FineTune_VICReg=False\n",
    "\n",
    "# make mlpf specific directory\n",
    "print(f\"- Training {mode} MLPF over {n_epochs_mlpf} epochs\")\n",
    "\n",
    "t0_initial = time.time()\n",
    "\n",
    "losses_train_tot, losses_train_id, losses_train_momentum = [], [], []\n",
    "losses_valid_tot, losses_valid_id, losses_valid_momentum = [], [], []\n",
    "\n",
    "best_val_loss_tot, best_val_loss_id, best_val_loss_momentum = 99999.9, 99999.9, 99999.9\n",
    "stale_epochs = 0\n",
    "\n",
    "optimizer = torch.optim.AdamW(mlpf.parameters(), lr=lr)\n",
    "if FineTune_VICReg:\n",
    "    print(\"Will finetune VICReg during mlpf training\")\n",
    "    optimizer_VICReg = torch.optim.SGD(encoder.parameters(), lr=lr * 0.1)\n",
    "else:\n",
    "    print(\"Will fix VICReg during mlpf training\")\n",
    "    optimizer_VICReg = None\n",
    "\n",
    "# set VICReg to evaluation mode\n",
    "encoder.eval()\n",
    "\n",
    "for epoch in range(n_epochs):\n",
    "    t0 = time.time()\n",
    "\n",
    "    if stale_epochs > patience:\n",
    "        print(\"breaking due to stale epochs\")\n",
    "        break\n",
    "\n",
    "    # training step\n",
    "    losses_t_tot, losses_t_id, losses_t_momentum = train(\n",
    "        device, encoder, mlpf, train_loader, valid_loader, optimizer, optimizer_VICReg, mode\n",
    "    )\n",
    "    losses_train_tot.append(losses_t_tot)\n",
    "    losses_train_id.append(losses_t_id)\n",
    "    losses_train_momentum.append(losses_t_momentum)\n",
    "\n",
    "    # validation step\n",
    "    losses_v_tot, losses_v_id, losses_v_momentum = validation_run(\n",
    "        device, encoder, mlpf, train_loader, valid_loader, mode\n",
    "    )\n",
    "    losses_valid_tot.append(losses_v_tot)\n",
    "    losses_valid_id.append(losses_v_id)\n",
    "    losses_valid_momentum.append(losses_v_momentum)\n",
    "\n",
    "    if losses_v_id < best_val_loss_id:\n",
    "        best_val_loss_id = losses_v_id\n",
    "        best_train_loss_id = losses_t_id\n",
    "\n",
    "    if losses_v_momentum < best_val_loss_momentum:\n",
    "        best_val_loss_momentum = losses_v_momentum\n",
    "        best_train_loss_momentum = losses_t_momentum\n",
    "\n",
    "    # early-stopping\n",
    "    if losses_v_tot < best_val_loss_tot:\n",
    "        best_val_loss_tot = losses_v_tot\n",
    "        best_train_loss_tot = losses_t_tot\n",
    "\n",
    "        stale_epochs = 0\n",
    "    else:\n",
    "        stale_epochs += 1\n",
    "\n",
    "    t1 = time.time()\n",
    "\n",
    "    epochs_remaining = n_epochs - (epoch + 1)\n",
    "    time_per_epoch = (t1 - t0_initial) / (epoch + 1)\n",
    "    eta = epochs_remaining * time_per_epoch / 60\n",
    "\n",
    "    print(\n",
    "        f\"epoch={epoch + 1} / {n_epochs} \"\n",
    "        + f\"train_loss={round(losses_train_tot[epoch], 4)} \"\n",
    "        + f\"valid_loss={round(losses_valid_tot[epoch], 4)} \"\n",
    "        + f\"stale={stale_epochs} \"\n",
    "        + f\"time={round((t1-t0)/60, 2)}m \"\n",
    "        + f\"eta={round(eta, 1)}m\"\n",
    "    )\n",
    "\n",
    "    print(\"----------------------------------------------------------\")\n",
    "print(f\"Done with training. Total training time is {round((time.time() - t0_initial)/60,3)}min\")"
   ]
  },
  {
   "cell_type": "code",
   "execution_count": null,
   "id": "b49b320a",
   "metadata": {},
   "outputs": [],
   "source": [
    "%matplotlib inline\n",
    "plt.rcParams.update({\"font.size\": 15})\n",
    "\n",
    "# make total loss plot\n",
    "fig, ax = plt.subplots(figsize=(4,4))\n",
    "ax.plot(range(len(losses_train_tot)), losses_train_tot, label=\"training ({:.2f})\".format(best_train_loss_tot))\n",
    "ax.plot(range(len(losses_valid_tot)), losses_valid_tot, label=\"validation ({:.2f})\".format(best_val_loss_tot))\n",
    "ax.set_xlabel(\"Epochs\")\n",
    "ax.set_ylabel(\"Total Loss\")\n",
    "ax.set_ylim(0.8 * losses_train_tot[-1], 1.2 * losses_train_tot[-1])\n",
    "if mode == \"ssl\":\n",
    "    ax.legend(title=\"SSL-based MLPF\", loc=\"best\", title_fontsize=20, fontsize=15)\n",
    "else:\n",
    "    ax.legend(title=\"Native MLPF\", loc=\"best\", title_fontsize=20, fontsize=15)\n",
    "\n",
    "# make loss id plot\n",
    "fig, (ax1,ax2) = plt.subplots(1,2, figsize=(10,4))\n",
    "ax1.plot(range(len(losses_train_id)), losses_train_id, label=\"training ({:.2f})\".format(best_train_loss_id))\n",
    "ax1.plot(range(len(losses_valid_id)), losses_valid_id, label=\"validation ({:.2f})\".format(best_val_loss_id))\n",
    "ax1.set_xlabel(\"Epochs\")\n",
    "ax1.set_ylabel(\"Classification Loss\")\n",
    "ax1.set_ylim(0.8 * losses_train_id[-1], 1.2 * losses_train_id[-1])\n",
    "if mode == \"ssl\":\n",
    "    ax1.legend(title=\"SSL-based MLPF\", loc=\"best\", title_fontsize=20, fontsize=15)\n",
    "else:\n",
    "    ax1.legend(title=\"Native MLPF\", loc=\"best\", title_fontsize=20, fontsize=15)\n",
    "\n",
    "# make loss momentum plot\n",
    "ax2.plot(\n",
    "    range(len(losses_train_momentum)),\n",
    "    losses_train_momentum,\n",
    "    label=\"training ({:.2f})\".format(best_train_loss_momentum),\n",
    ")\n",
    "ax2.plot(\n",
    "    range(len(losses_valid_momentum)),\n",
    "    losses_valid_momentum,\n",
    "    label=\"validation ({:.2f})\".format(best_val_loss_momentum),\n",
    ")\n",
    "ax2.set_xlabel(\"Epochs\")\n",
    "ax2.set_ylabel(\"Regression Loss\")\n",
    "ax2.set_ylim(0.8 * losses_train_momentum[-1], 1.2 * losses_train_momentum[-1])\n",
    "if mode == \"ssl\":\n",
    "    ax2.legend(title=\"SSL-based MLPF\", loc=\"best\", title_fontsize=20, fontsize=15)\n",
    "else:\n",
    "    ax2.legend(title=\"Native MLPF\", loc=\"best\", title_fontsize=20, fontsize=15)\n",
    "\n",
    "\n",
    "losses_to_plot[\"native\"][\"tot\"] = losses_valid_tot\n",
    "losses_to_plot[\"native\"][\"id\"] = losses_valid_id\n",
    "losses_to_plot[\"native\"][\"p4\"] = losses_valid_momentum    "
   ]
  },
  {
   "cell_type": "code",
   "execution_count": null,
   "id": "16bbca9c",
   "metadata": {},
   "outputs": [],
   "source": []
  }
 ],
 "metadata": {
  "kernelspec": {
   "display_name": "Python 3 (ipykernel)",
   "language": "python",
   "name": "python3"
  },
  "language_info": {
   "codemirror_mode": {
    "name": "ipython",
    "version": 3
   },
   "file_extension": ".py",
   "mimetype": "text/x-python",
   "name": "python",
   "nbconvert_exporter": "python",
   "pygments_lexer": "ipython3",
   "version": "3.10.6"
  }
 },
 "nbformat": 4,
 "nbformat_minor": 5
}
