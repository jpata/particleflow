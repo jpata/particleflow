{
 "cells": [
  {
   "cell_type": "code",
   "execution_count": 25,
   "metadata": {},
   "outputs": [
    {
     "name": "stdout",
     "output_type": "stream",
     "text": [
      "Will use NVIDIA GeForce GTX 1080 Ti\n"
     ]
    }
   ],
   "source": [
    "import datetime\n",
    "import os.path as osp\n",
    "import platform\n",
    "import pickle as pkl\n",
    "\n",
    "import matplotlib\n",
    "import matplotlib.pyplot as plt\n",
    "import mplhep\n",
    "import numpy as np\n",
    "import torch\n",
    "from torch import nn\n",
    "import torch.nn.functional as F\n",
    "import torch_geometric\n",
    "from torch_geometric.nn import global_mean_pool\n",
    "\n",
    "from pyg_ssl.args import parse_args\n",
    "from pyg_ssl.mlpf import MLPF\n",
    "from pyg_ssl.training_mlpf import training_loop_mlpf\n",
    "from pyg_ssl.training_VICReg import training_loop_VICReg\n",
    "from pyg_ssl.utils import CLUSTERS_X, TRACKS_X, data_split, load_VICReg, save_MLPF, save_VICReg, distinguish_PFelements\n",
    "from pyg_ssl.VICReg import DECODER, ENCODER\n",
    "\n",
    "import tqdm\n",
    "matplotlib.use(\"Agg\")\n",
    "mplhep.style.use(mplhep.styles.CMS)\n",
    "\n",
    "# Ignore divide by 0 errors\n",
    "np.seterr(divide=\"ignore\", invalid=\"ignore\")\n",
    "\n",
    "# define the global base device\n",
    "if torch.cuda.device_count():\n",
    "    device = torch.device(\"cuda:0\")\n",
    "    print(f\"Will use {torch.cuda.get_device_name(device)}\")\n",
    "else:\n",
    "    device = \"cpu\"\n",
    "    print(\"Will use cpu\")"
   ]
  },
  {
   "cell_type": "code",
   "execution_count": 2,
   "metadata": {},
   "outputs": [
    {
     "name": "stdout",
     "output_type": "stream",
     "text": [
      "Will use data split mode `quick`\n",
      "Will use 25843 events to train VICReg\n",
      "Will use 2871 events to validate VICReg\n",
      "Will use 6461 events to train MLPF\n",
      "Will use 718 events to validate MLPF\n"
     ]
    }
   ],
   "source": [
    "# load the clic dataset\n",
    "data_VICReg_train, data_VICReg_valid, data_mlpf_train, data_mlpf_valid, data_test_qcd, data_test_ttbar = data_split(\n",
    "    \"/pfclicvol/data/clic_edm4hep\", \"quick\"\n",
    ")"
   ]
  },
  {
   "cell_type": "code",
   "execution_count": 3,
   "metadata": {},
   "outputs": [],
   "source": [
    "embedding_dim_VICReg = 256\n",
    "width_encoder = 256 \n",
    "num_convs = 3\n",
    "expand_dim = 256\n",
    "width_decoder = 256\n",
    "\n",
    "encoder_model_kwargs = {\n",
    "    \"embedding_dim\": embedding_dim_VICReg,\n",
    "    \"width\": width_encoder,\n",
    "    \"num_convs\": num_convs,\n",
    "    \"space_dim\": 4,\n",
    "    \"propagate_dim\": 22,\n",
    "    \"k\": 32,\n",
    "}\n",
    "\n",
    "decoder_model_kwargs = {\n",
    "    \"input_dim\": embedding_dim_VICReg,\n",
    "    \"output_dim\": expand_dim,\n",
    "    \"width\": width_decoder,\n",
    "}\n",
    "\n",
    "encoder = ENCODER(**encoder_model_kwargs).to(device)\n",
    "decoder = DECODER(**decoder_model_kwargs).to(device)"
   ]
  },
  {
   "cell_type": "code",
   "execution_count": 4,
   "metadata": {},
   "outputs": [],
   "source": [
    "class VICReg(torch.nn.Module):\n",
    "    def __init__(self, encoder, decoder):\n",
    "        super(VICReg, self).__init__()\n",
    "        self.encoder = encoder\n",
    "        self.decoder = decoder\n",
    "        \n",
    "    def forward(self, tracks, clusters):\n",
    "\n",
    "        ### encode\n",
    "        embedding_tracks, embedding_clusters = self.encoder(tracks, clusters)\n",
    "        \n",
    "        ### decode\n",
    "        out_tracks, out_clusters = self.decoder(embedding_tracks, embedding_clusters)\n",
    "\n",
    "        return out_tracks, out_clusters"
   ]
  },
  {
   "cell_type": "code",
   "execution_count": 5,
   "metadata": {},
   "outputs": [
    {
     "data": {
      "text/plain": [
       "VICReg(\n",
       "  (encoder): ENCODER(\n",
       "    (nn1): Sequential(\n",
       "      (0): Linear(in_features=14, out_features=256, bias=True)\n",
       "      (1): ELU(alpha=1.0)\n",
       "      (2): Linear(in_features=256, out_features=256, bias=True)\n",
       "      (3): ELU(alpha=1.0)\n",
       "      (4): Linear(in_features=256, out_features=256, bias=True)\n",
       "      (5): ELU(alpha=1.0)\n",
       "      (6): Linear(in_features=256, out_features=256, bias=True)\n",
       "    )\n",
       "    (nn2): Sequential(\n",
       "      (0): Linear(in_features=15, out_features=256, bias=True)\n",
       "      (1): ELU(alpha=1.0)\n",
       "      (2): Linear(in_features=256, out_features=256, bias=True)\n",
       "      (3): ELU(alpha=1.0)\n",
       "      (4): Linear(in_features=256, out_features=256, bias=True)\n",
       "      (5): ELU(alpha=1.0)\n",
       "      (6): Linear(in_features=256, out_features=256, bias=True)\n",
       "    )\n",
       "    (conv): ModuleList(\n",
       "      (0): GravNetConv(256, 256, k=32)\n",
       "      (1): GravNetConv(256, 256, k=32)\n",
       "      (2): GravNetConv(256, 256, k=32)\n",
       "    )\n",
       "  )\n",
       "  (decoder): DECODER(\n",
       "    (expander): Sequential(\n",
       "      (0): Linear(in_features=256, out_features=256, bias=True)\n",
       "      (1): ELU(alpha=1.0)\n",
       "      (2): Linear(in_features=256, out_features=256, bias=True)\n",
       "      (3): ELU(alpha=1.0)\n",
       "      (4): Linear(in_features=256, out_features=256, bias=True)\n",
       "      (5): ELU(alpha=1.0)\n",
       "      (6): Linear(in_features=256, out_features=256, bias=True)\n",
       "    )\n",
       "  )\n",
       ")"
      ]
     },
     "execution_count": 5,
     "metadata": {},
     "output_type": "execute_result"
    }
   ],
   "source": [
    "vicreg = VICReg(encoder, decoder)\n",
    "vicreg"
   ]
  },
  {
   "cell_type": "code",
   "execution_count": 6,
   "metadata": {},
   "outputs": [],
   "source": [
    "batch_size_VICReg = 500\n",
    "train_loader = torch_geometric.loader.DataLoader(data_VICReg_train, batch_size_VICReg)\n",
    "valid_loader = torch_geometric.loader.DataLoader(data_VICReg_valid, batch_size_VICReg)"
   ]
  },
  {
   "cell_type": "code",
   "execution_count": 7,
   "metadata": {},
   "outputs": [],
   "source": [
    "for batch in train_loader:\n",
    "    # make transformation\n",
    "    tracks, clusters = distinguish_PFelements(batch.to(device))\n",
    "\n",
    "    # run through VICReg\n",
    "    out_tracks, out_clusters = vicreg(tracks, clusters)\n",
    "\n",
    "    # POOLING\n",
    "    pooled_tracks = global_mean_pool(out_tracks, tracks.batch)\n",
    "    pooled_clusters = global_mean_pool(out_clusters, clusters.batch)\n",
    "    break"
   ]
  },
  {
   "cell_type": "code",
   "execution_count": 8,
   "metadata": {},
   "outputs": [
    {
     "data": {
      "text/plain": [
       "tensor(6.7567, device='cuda:0', grad_fn=<MseLossBackward0>)"
      ]
     },
     "execution_count": 8,
     "metadata": {},
     "output_type": "execute_result"
    }
   ],
   "source": [
    "F.mse_loss(pooled_tracks, pooled_clusters)"
   ]
  },
  {
   "cell_type": "code",
   "execution_count": 9,
   "metadata": {},
   "outputs": [],
   "source": [
    "class invar_loss(nn.Module):\n",
    "\n",
    "    def __init__(self):\n",
    "        super(invar_loss, self).__init__()\n",
    "\n",
    "    def forward(self, x, y):\n",
    "        return F.mse_loss(x, y)\n",
    "    \n",
    "class var_loss(nn.Module):\n",
    "\n",
    "    def __init__(self):\n",
    "        super(var_loss, self).__init__()\n",
    "\n",
    "    def forward(self, x, y, epsilon=1e-3):\n",
    "        std_x = torch.sqrt(x.var(dim=0) + epsilon)\n",
    "        std_y = torch.sqrt(y.var(dim=0) + epsilon)\n",
    "        var_loss = torch.mean(F.relu(1 - std_x)) + torch.mean(F.relu(1 - std_y))\n",
    "        \n",
    "        return var_loss    \n",
    "    \n",
    "class cross_loss(nn.Module):\n",
    "\n",
    "    def __init__(self):\n",
    "        super(cross_loss, self).__init__()\n",
    "\n",
    "    def forward(self, x, y, lmbd=0.01):\n",
    "        bs = x.size(0)\n",
    "        emb = x.size(1)\n",
    "\n",
    "        xNorm = (x - x.mean(0)) / x.std(0)\n",
    "        yNorm = (y - y.mean(0)) / y.std(0)\n",
    "\n",
    "        crossCorMat = (xNorm.T @ yNorm) / bs\n",
    "        cross_loss = (crossCorMat * lmbd - torch.eye(emb, device=torch.device(device)) * lmbd).pow(2).sum()\n",
    "\n",
    "        return cross_loss"
   ]
  },
  {
   "cell_type": "code",
   "execution_count": 10,
   "metadata": {},
   "outputs": [],
   "source": [
    "crit_invar = invar_loss()\n",
    "crit_var = var_loss()\n",
    "crit_cross = cross_loss()"
   ]
  },
  {
   "cell_type": "code",
   "execution_count": 11,
   "metadata": {},
   "outputs": [
    {
     "name": "stdout",
     "output_type": "stream",
     "text": [
      "invar_loss = 6.756711483001709\n",
      "var_loss   = 1.095689058303833\n",
      "cross_loss = 0.03437644988298416\n"
     ]
    }
   ],
   "source": [
    "print(f\"invar_loss = {crit_invar(pooled_tracks, pooled_clusters)}\")\n",
    "print(f\"var_loss   = {crit_var(pooled_tracks, pooled_clusters)}\")\n",
    "print(f\"cross_loss = {crit_cross(pooled_tracks, pooled_clusters)}\")"
   ]
  },
  {
   "cell_type": "code",
   "execution_count": 12,
   "metadata": {},
   "outputs": [],
   "source": [
    "crit_invar = invar_loss()\n",
    "crit_var = var_loss()\n",
    "crit_cross = cross_loss()\n",
    "\n",
    "import mdmm\n",
    "max_ = 0.1\n",
    "\n",
    "constraints = []\n",
    "constraints.append(mdmm.MaxConstraint(lambda: crit_var(pooled_tracks, pooled_clusters), max_))\n",
    "constraints.append(mdmm.MaxConstraint(lambda: crit_cross(pooled_tracks, pooled_clusters), max_))"
   ]
  },
  {
   "cell_type": "markdown",
   "metadata": {},
   "source": [
    "# Train"
   ]
  },
  {
   "cell_type": "code",
   "execution_count": 35,
   "metadata": {},
   "outputs": [],
   "source": [
    "encoder = ENCODER(**encoder_model_kwargs).to(device)\n",
    "decoder = DECODER(**decoder_model_kwargs).to(device)\n",
    "vicreg = VICReg(encoder, decoder)\n",
    "\n",
    "mdmm_module = mdmm.MDMM(constraints)\n",
    "opt = mdmm_module.make_optimizer(vicreg.parameters(), lr=2e-3)"
   ]
  },
  {
   "cell_type": "code",
   "execution_count": 36,
   "metadata": {},
   "outputs": [
    {
     "name": "stderr",
     "output_type": "stream",
     "text": [
      "100%|██████████████████████████████████████████████████████████████████████████████████████████████████| 52/52 [00:16<00:00,  3.18it/s]\n",
      "100%|████████████████████████████████████████████████████████████████████████████████████████████████████| 6/6 [00:01<00:00,  4.11it/s]\n"
     ]
    },
    {
     "name": "stdout",
     "output_type": "stream",
     "text": [
      "Train: tot_loss = 25.29 - Valid: tot_loss = 6.10 - stale=0\n"
     ]
    },
    {
     "name": "stderr",
     "output_type": "stream",
     "text": [
      "100%|██████████████████████████████████████████████████████████████████████████████████████████████████| 52/52 [00:16<00:00,  3.21it/s]\n",
      "100%|████████████████████████████████████████████████████████████████████████████████████████████████████| 6/6 [00:01<00:00,  3.97it/s]\n"
     ]
    },
    {
     "name": "stdout",
     "output_type": "stream",
     "text": [
      "Train: tot_loss = 2.73 - Valid: tot_loss = 2.14 - stale=0\n"
     ]
    },
    {
     "name": "stderr",
     "output_type": "stream",
     "text": [
      "100%|██████████████████████████████████████████████████████████████████████████████████████████████████| 52/52 [00:16<00:00,  3.19it/s]\n",
      "100%|████████████████████████████████████████████████████████████████████████████████████████████████████| 6/6 [00:01<00:00,  3.83it/s]\n"
     ]
    },
    {
     "name": "stdout",
     "output_type": "stream",
     "text": [
      "Train: tot_loss = 11.75 - Valid: tot_loss = 1.98 - stale=0\n"
     ]
    },
    {
     "name": "stderr",
     "output_type": "stream",
     "text": [
      "100%|██████████████████████████████████████████████████████████████████████████████████████████████████| 52/52 [00:16<00:00,  3.13it/s]\n",
      "100%|████████████████████████████████████████████████████████████████████████████████████████████████████| 6/6 [00:01<00:00,  3.85it/s]\n"
     ]
    },
    {
     "name": "stdout",
     "output_type": "stream",
     "text": [
      "Train: tot_loss = 1.76 - Valid: tot_loss = 1.78 - stale=0\n"
     ]
    },
    {
     "name": "stderr",
     "output_type": "stream",
     "text": [
      "100%|██████████████████████████████████████████████████████████████████████████████████████████████████| 52/52 [00:16<00:00,  3.14it/s]\n",
      "100%|████████████████████████████████████████████████████████████████████████████████████████████████████| 6/6 [00:01<00:00,  3.91it/s]\n"
     ]
    },
    {
     "name": "stdout",
     "output_type": "stream",
     "text": [
      "Train: tot_loss = 1.71 - Valid: tot_loss = 1.67 - stale=0\n"
     ]
    },
    {
     "name": "stderr",
     "output_type": "stream",
     "text": [
      "100%|██████████████████████████████████████████████████████████████████████████████████████████████████| 52/52 [00:16<00:00,  3.20it/s]\n",
      "100%|████████████████████████████████████████████████████████████████████████████████████████████████████| 6/6 [00:01<00:00,  3.87it/s]\n"
     ]
    },
    {
     "name": "stdout",
     "output_type": "stream",
     "text": [
      "Train: tot_loss = 1.70 - Valid: tot_loss = 1.56 - stale=0\n"
     ]
    },
    {
     "name": "stderr",
     "output_type": "stream",
     "text": [
      "100%|██████████████████████████████████████████████████████████████████████████████████████████████████| 52/52 [00:16<00:00,  3.18it/s]\n",
      "100%|████████████████████████████████████████████████████████████████████████████████████████████████████| 6/6 [00:01<00:00,  4.00it/s]\n"
     ]
    },
    {
     "name": "stdout",
     "output_type": "stream",
     "text": [
      "Train: tot_loss = 1.72 - Valid: tot_loss = 1.64 - stale=0\n"
     ]
    },
    {
     "name": "stderr",
     "output_type": "stream",
     "text": [
      "100%|██████████████████████████████████████████████████████████████████████████████████████████████████| 52/52 [00:16<00:00,  3.12it/s]\n",
      "100%|████████████████████████████████████████████████████████████████████████████████████████████████████| 6/6 [00:01<00:00,  4.11it/s]\n"
     ]
    },
    {
     "name": "stdout",
     "output_type": "stream",
     "text": [
      "Train: tot_loss = 1.71 - Valid: tot_loss = 1.69 - stale=0\n"
     ]
    },
    {
     "name": "stderr",
     "output_type": "stream",
     "text": [
      "100%|██████████████████████████████████████████████████████████████████████████████████████████████████| 52/52 [00:16<00:00,  3.12it/s]\n",
      "100%|████████████████████████████████████████████████████████████████████████████████████████████████████| 6/6 [00:01<00:00,  3.91it/s]\n"
     ]
    },
    {
     "name": "stdout",
     "output_type": "stream",
     "text": [
      "Train: tot_loss = 1.72 - Valid: tot_loss = 1.66 - stale=0\n"
     ]
    },
    {
     "name": "stderr",
     "output_type": "stream",
     "text": [
      "100%|██████████████████████████████████████████████████████████████████████████████████████████████████| 52/52 [00:16<00:00,  3.21it/s]\n",
      "100%|████████████████████████████████████████████████████████████████████████████████████████████████████| 6/6 [00:01<00:00,  3.89it/s]\n"
     ]
    },
    {
     "name": "stdout",
     "output_type": "stream",
     "text": [
      "Train: tot_loss = 1.71 - Valid: tot_loss = 1.69 - stale=0\n"
     ]
    },
    {
     "name": "stderr",
     "output_type": "stream",
     "text": [
      "100%|██████████████████████████████████████████████████████████████████████████████████████████████████| 52/52 [00:16<00:00,  3.15it/s]\n",
      "100%|████████████████████████████████████████████████████████████████████████████████████████████████████| 6/6 [00:01<00:00,  3.89it/s]\n"
     ]
    },
    {
     "name": "stdout",
     "output_type": "stream",
     "text": [
      "Train: tot_loss = 1.72 - Valid: tot_loss = 1.70 - stale=0\n"
     ]
    },
    {
     "name": "stderr",
     "output_type": "stream",
     "text": [
      "100%|██████████████████████████████████████████████████████████████████████████████████████████████████| 52/52 [00:16<00:00,  3.10it/s]\n",
      "100%|████████████████████████████████████████████████████████████████████████████████████████████████████| 6/6 [00:01<00:00,  3.82it/s]\n"
     ]
    },
    {
     "name": "stdout",
     "output_type": "stream",
     "text": [
      "Train: tot_loss = 1.70 - Valid: tot_loss = 1.67 - stale=0\n"
     ]
    },
    {
     "name": "stderr",
     "output_type": "stream",
     "text": [
      "100%|██████████████████████████████████████████████████████████████████████████████████████████████████| 52/52 [00:16<00:00,  3.09it/s]\n",
      "100%|████████████████████████████████████████████████████████████████████████████████████████████████████| 6/6 [00:01<00:00,  3.93it/s]\n"
     ]
    },
    {
     "name": "stdout",
     "output_type": "stream",
     "text": [
      "Train: tot_loss = 1.71 - Valid: tot_loss = 1.64 - stale=0\n"
     ]
    },
    {
     "name": "stderr",
     "output_type": "stream",
     "text": [
      "100%|██████████████████████████████████████████████████████████████████████████████████████████████████| 52/52 [00:16<00:00,  3.09it/s]\n",
      "100%|████████████████████████████████████████████████████████████████████████████████████████████████████| 6/6 [00:01<00:00,  3.86it/s]\n"
     ]
    },
    {
     "name": "stdout",
     "output_type": "stream",
     "text": [
      "Train: tot_loss = 1.71 - Valid: tot_loss = 1.68 - stale=0\n"
     ]
    },
    {
     "name": "stderr",
     "output_type": "stream",
     "text": [
      "100%|██████████████████████████████████████████████████████████████████████████████████████████████████| 52/52 [00:16<00:00,  3.13it/s]\n",
      "100%|████████████████████████████████████████████████████████████████████████████████████████████████████| 6/6 [00:01<00:00,  3.87it/s]\n"
     ]
    },
    {
     "name": "stdout",
     "output_type": "stream",
     "text": [
      "Train: tot_loss = 1.71 - Valid: tot_loss = 1.67 - stale=0\n"
     ]
    },
    {
     "name": "stderr",
     "output_type": "stream",
     "text": [
      "100%|██████████████████████████████████████████████████████████████████████████████████████████████████| 52/52 [00:16<00:00,  3.12it/s]\n",
      "100%|████████████████████████████████████████████████████████████████████████████████████████████████████| 6/6 [00:01<00:00,  3.90it/s]\n"
     ]
    },
    {
     "name": "stdout",
     "output_type": "stream",
     "text": [
      "Train: tot_loss = 1.71 - Valid: tot_loss = 1.64 - stale=0\n"
     ]
    },
    {
     "name": "stderr",
     "output_type": "stream",
     "text": [
      "100%|██████████████████████████████████████████████████████████████████████████████████████████████████| 52/52 [00:16<00:00,  3.14it/s]\n",
      "100%|████████████████████████████████████████████████████████████████████████████████████████████████████| 6/6 [00:01<00:00,  3.94it/s]\n"
     ]
    },
    {
     "name": "stdout",
     "output_type": "stream",
     "text": [
      "Train: tot_loss = 1.71 - Valid: tot_loss = 1.65 - stale=0\n"
     ]
    },
    {
     "name": "stderr",
     "output_type": "stream",
     "text": [
      "100%|██████████████████████████████████████████████████████████████████████████████████████████████████| 52/52 [00:16<00:00,  3.11it/s]\n",
      "100%|████████████████████████████████████████████████████████████████████████████████████████████████████| 6/6 [00:01<00:00,  3.99it/s]\n"
     ]
    },
    {
     "name": "stdout",
     "output_type": "stream",
     "text": [
      "Train: tot_loss = 1.71 - Valid: tot_loss = 1.66 - stale=0\n"
     ]
    },
    {
     "name": "stderr",
     "output_type": "stream",
     "text": [
      "100%|██████████████████████████████████████████████████████████████████████████████████████████████████| 52/52 [00:16<00:00,  3.20it/s]\n",
      "100%|████████████████████████████████████████████████████████████████████████████████████████████████████| 6/6 [00:01<00:00,  3.90it/s]\n"
     ]
    },
    {
     "name": "stdout",
     "output_type": "stream",
     "text": [
      "Train: tot_loss = 1.70 - Valid: tot_loss = 1.66 - stale=0\n"
     ]
    },
    {
     "name": "stderr",
     "output_type": "stream",
     "text": [
      "100%|██████████████████████████████████████████████████████████████████████████████████████████████████| 52/52 [00:16<00:00,  3.12it/s]\n",
      "100%|████████████████████████████████████████████████████████████████████████████████████████████████████| 6/6 [00:01<00:00,  3.92it/s]\n"
     ]
    },
    {
     "name": "stdout",
     "output_type": "stream",
     "text": [
      "Train: tot_loss = 1.70 - Valid: tot_loss = 1.63 - stale=0\n"
     ]
    },
    {
     "name": "stderr",
     "output_type": "stream",
     "text": [
      "100%|██████████████████████████████████████████████████████████████████████████████████████████████████| 52/52 [00:16<00:00,  3.12it/s]\n",
      "100%|████████████████████████████████████████████████████████████████████████████████████████████████████| 6/6 [00:01<00:00,  4.03it/s]\n"
     ]
    },
    {
     "name": "stdout",
     "output_type": "stream",
     "text": [
      "Train: tot_loss = 1.70 - Valid: tot_loss = 1.66 - stale=0\n"
     ]
    },
    {
     "name": "stderr",
     "output_type": "stream",
     "text": [
      "100%|██████████████████████████████████████████████████████████████████████████████████████████████████| 52/52 [00:16<00:00,  3.13it/s]\n",
      "100%|████████████████████████████████████████████████████████████████████████████████████████████████████| 6/6 [00:01<00:00,  4.04it/s]\n"
     ]
    },
    {
     "name": "stdout",
     "output_type": "stream",
     "text": [
      "Train: tot_loss = 1.70 - Valid: tot_loss = 1.64 - stale=0\n"
     ]
    },
    {
     "name": "stderr",
     "output_type": "stream",
     "text": [
      "100%|██████████████████████████████████████████████████████████████████████████████████████████████████| 52/52 [00:16<00:00,  3.14it/s]\n",
      "100%|████████████████████████████████████████████████████████████████████████████████████████████████████| 6/6 [00:01<00:00,  3.92it/s]\n"
     ]
    },
    {
     "name": "stdout",
     "output_type": "stream",
     "text": [
      "Train: tot_loss = 1.70 - Valid: tot_loss = 1.66 - stale=0\n"
     ]
    },
    {
     "name": "stderr",
     "output_type": "stream",
     "text": [
      "100%|██████████████████████████████████████████████████████████████████████████████████████████████████| 52/52 [00:16<00:00,  3.17it/s]\n",
      "100%|████████████████████████████████████████████████████████████████████████████████████████████████████| 6/6 [00:01<00:00,  3.90it/s]\n"
     ]
    },
    {
     "name": "stdout",
     "output_type": "stream",
     "text": [
      "Train: tot_loss = 1.70 - Valid: tot_loss = 1.67 - stale=0\n"
     ]
    },
    {
     "name": "stderr",
     "output_type": "stream",
     "text": [
      "100%|██████████████████████████████████████████████████████████████████████████████████████████████████| 52/52 [00:16<00:00,  3.17it/s]\n",
      "100%|████████████████████████████████████████████████████████████████████████████████████████████████████| 6/6 [00:01<00:00,  3.88it/s]\n"
     ]
    },
    {
     "name": "stdout",
     "output_type": "stream",
     "text": [
      "Train: tot_loss = 1.69 - Valid: tot_loss = 1.64 - stale=0\n"
     ]
    },
    {
     "name": "stderr",
     "output_type": "stream",
     "text": [
      "100%|██████████████████████████████████████████████████████████████████████████████████████████████████| 52/52 [00:16<00:00,  3.15it/s]\n",
      "100%|████████████████████████████████████████████████████████████████████████████████████████████████████| 6/6 [00:01<00:00,  3.83it/s]\n"
     ]
    },
    {
     "name": "stdout",
     "output_type": "stream",
     "text": [
      "Train: tot_loss = 1.68 - Valid: tot_loss = 1.62 - stale=0\n"
     ]
    },
    {
     "name": "stderr",
     "output_type": "stream",
     "text": [
      "100%|██████████████████████████████████████████████████████████████████████████████████████████████████| 52/52 [00:16<00:00,  3.11it/s]\n",
      "100%|████████████████████████████████████████████████████████████████████████████████████████████████████| 6/6 [00:01<00:00,  3.83it/s]\n"
     ]
    },
    {
     "name": "stdout",
     "output_type": "stream",
     "text": [
      "Train: tot_loss = 1.70 - Valid: tot_loss = 1.67 - stale=0\n"
     ]
    },
    {
     "name": "stderr",
     "output_type": "stream",
     "text": [
      "100%|██████████████████████████████████████████████████████████████████████████████████████████████████| 52/52 [00:16<00:00,  3.14it/s]\n",
      "100%|████████████████████████████████████████████████████████████████████████████████████████████████████| 6/6 [00:01<00:00,  3.80it/s]\n"
     ]
    },
    {
     "name": "stdout",
     "output_type": "stream",
     "text": [
      "Train: tot_loss = 1.69 - Valid: tot_loss = 1.68 - stale=0\n"
     ]
    },
    {
     "name": "stderr",
     "output_type": "stream",
     "text": [
      "100%|██████████████████████████████████████████████████████████████████████████████████████████████████| 52/52 [00:16<00:00,  3.14it/s]\n",
      "100%|████████████████████████████████████████████████████████████████████████████████████████████████████| 6/6 [00:01<00:00,  3.89it/s]\n"
     ]
    },
    {
     "name": "stdout",
     "output_type": "stream",
     "text": [
      "Train: tot_loss = 1.68 - Valid: tot_loss = 1.63 - stale=0\n"
     ]
    },
    {
     "name": "stderr",
     "output_type": "stream",
     "text": [
      "100%|██████████████████████████████████████████████████████████████████████████████████████████████████| 52/52 [00:16<00:00,  3.13it/s]\n",
      "100%|████████████████████████████████████████████████████████████████████████████████████████████████████| 6/6 [00:01<00:00,  4.02it/s]\n"
     ]
    },
    {
     "name": "stdout",
     "output_type": "stream",
     "text": [
      "Train: tot_loss = 1.70 - Valid: tot_loss = 1.69 - stale=0\n"
     ]
    },
    {
     "name": "stderr",
     "output_type": "stream",
     "text": [
      "100%|██████████████████████████████████████████████████████████████████████████████████████████████████| 52/52 [00:16<00:00,  3.17it/s]\n",
      "100%|████████████████████████████████████████████████████████████████████████████████████████████████████| 6/6 [00:01<00:00,  4.09it/s]\n"
     ]
    },
    {
     "name": "stdout",
     "output_type": "stream",
     "text": [
      "Train: tot_loss = 1.69 - Valid: tot_loss = 1.68 - stale=0\n"
     ]
    },
    {
     "name": "stderr",
     "output_type": "stream",
     "text": [
      "100%|██████████████████████████████████████████████████████████████████████████████████████████████████| 52/52 [00:16<00:00,  3.11it/s]\n",
      "100%|████████████████████████████████████████████████████████████████████████████████████████████████████| 6/6 [00:01<00:00,  3.96it/s]\n"
     ]
    },
    {
     "name": "stdout",
     "output_type": "stream",
     "text": [
      "Train: tot_loss = 1.69 - Valid: tot_loss = 1.67 - stale=0\n"
     ]
    },
    {
     "name": "stderr",
     "output_type": "stream",
     "text": [
      "100%|██████████████████████████████████████████████████████████████████████████████████████████████████| 52/52 [00:16<00:00,  3.18it/s]\n",
      "100%|████████████████████████████████████████████████████████████████████████████████████████████████████| 6/6 [00:01<00:00,  3.88it/s]\n"
     ]
    },
    {
     "name": "stdout",
     "output_type": "stream",
     "text": [
      "Train: tot_loss = 1.69 - Valid: tot_loss = 1.68 - stale=0\n"
     ]
    },
    {
     "name": "stderr",
     "output_type": "stream",
     "text": [
      "100%|██████████████████████████████████████████████████████████████████████████████████████████████████| 52/52 [00:16<00:00,  3.15it/s]\n",
      "100%|████████████████████████████████████████████████████████████████████████████████████████████████████| 6/6 [00:01<00:00,  3.87it/s]\n"
     ]
    },
    {
     "name": "stdout",
     "output_type": "stream",
     "text": [
      "Train: tot_loss = 1.69 - Valid: tot_loss = 1.67 - stale=0\n"
     ]
    },
    {
     "name": "stderr",
     "output_type": "stream",
     "text": [
      "100%|██████████████████████████████████████████████████████████████████████████████████████████████████| 52/52 [00:16<00:00,  3.17it/s]\n",
      "100%|████████████████████████████████████████████████████████████████████████████████████████████████████| 6/6 [00:01<00:00,  3.90it/s]\n"
     ]
    },
    {
     "name": "stdout",
     "output_type": "stream",
     "text": [
      "Train: tot_loss = 1.68 - Valid: tot_loss = 1.64 - stale=0\n"
     ]
    },
    {
     "name": "stderr",
     "output_type": "stream",
     "text": [
      "100%|██████████████████████████████████████████████████████████████████████████████████████████████████| 52/52 [00:16<00:00,  3.13it/s]\n",
      "100%|████████████████████████████████████████████████████████████████████████████████████████████████████| 6/6 [00:01<00:00,  4.00it/s]\n"
     ]
    },
    {
     "name": "stdout",
     "output_type": "stream",
     "text": [
      "Train: tot_loss = 1.67 - Valid: tot_loss = 1.63 - stale=0\n"
     ]
    },
    {
     "name": "stderr",
     "output_type": "stream",
     "text": [
      "100%|██████████████████████████████████████████████████████████████████████████████████████████████████| 52/52 [00:16<00:00,  3.10it/s]\n",
      "100%|████████████████████████████████████████████████████████████████████████████████████████████████████| 6/6 [00:01<00:00,  4.01it/s]\n"
     ]
    },
    {
     "name": "stdout",
     "output_type": "stream",
     "text": [
      "Train: tot_loss = 1.68 - Valid: tot_loss = 1.62 - stale=0\n"
     ]
    },
    {
     "name": "stderr",
     "output_type": "stream",
     "text": [
      "100%|██████████████████████████████████████████████████████████████████████████████████████████████████| 52/52 [00:16<00:00,  3.16it/s]\n",
      "100%|████████████████████████████████████████████████████████████████████████████████████████████████████| 6/6 [00:01<00:00,  3.83it/s]\n"
     ]
    },
    {
     "name": "stdout",
     "output_type": "stream",
     "text": [
      "Train: tot_loss = 1.66 - Valid: tot_loss = 1.58 - stale=0\n"
     ]
    },
    {
     "name": "stderr",
     "output_type": "stream",
     "text": [
      "100%|██████████████████████████████████████████████████████████████████████████████████████████████████| 52/52 [00:16<00:00,  3.13it/s]\n",
      "100%|████████████████████████████████████████████████████████████████████████████████████████████████████| 6/6 [00:01<00:00,  3.86it/s]\n"
     ]
    },
    {
     "name": "stdout",
     "output_type": "stream",
     "text": [
      "Train: tot_loss = 1.65 - Valid: tot_loss = 1.56 - stale=0\n"
     ]
    },
    {
     "name": "stderr",
     "output_type": "stream",
     "text": [
      "100%|██████████████████████████████████████████████████████████████████████████████████████████████████| 52/52 [00:16<00:00,  3.14it/s]\n",
      "100%|████████████████████████████████████████████████████████████████████████████████████████████████████| 6/6 [00:01<00:00,  3.80it/s]\n"
     ]
    },
    {
     "name": "stdout",
     "output_type": "stream",
     "text": [
      "Train: tot_loss = 1.66 - Valid: tot_loss = 1.67 - stale=0\n"
     ]
    },
    {
     "name": "stderr",
     "output_type": "stream",
     "text": [
      "100%|██████████████████████████████████████████████████████████████████████████████████████████████████| 52/52 [00:16<00:00,  3.21it/s]\n",
      "100%|████████████████████████████████████████████████████████████████████████████████████████████████████| 6/6 [00:01<00:00,  3.91it/s]\n"
     ]
    },
    {
     "name": "stdout",
     "output_type": "stream",
     "text": [
      "Train: tot_loss = 1.67 - Valid: tot_loss = 1.62 - stale=0\n"
     ]
    },
    {
     "name": "stderr",
     "output_type": "stream",
     "text": [
      "100%|██████████████████████████████████████████████████████████████████████████████████████████████████| 52/52 [00:16<00:00,  3.18it/s]\n",
      "100%|████████████████████████████████████████████████████████████████████████████████████████████████████| 6/6 [00:01<00:00,  4.01it/s]\n"
     ]
    },
    {
     "name": "stdout",
     "output_type": "stream",
     "text": [
      "Train: tot_loss = 1.66 - Valid: tot_loss = 1.56 - stale=0\n"
     ]
    },
    {
     "name": "stderr",
     "output_type": "stream",
     "text": [
      "100%|██████████████████████████████████████████████████████████████████████████████████████████████████| 52/52 [00:16<00:00,  3.15it/s]\n",
      "100%|████████████████████████████████████████████████████████████████████████████████████████████████████| 6/6 [00:01<00:00,  3.87it/s]\n"
     ]
    },
    {
     "name": "stdout",
     "output_type": "stream",
     "text": [
      "Train: tot_loss = 1.65 - Valid: tot_loss = 1.61 - stale=0\n"
     ]
    },
    {
     "name": "stderr",
     "output_type": "stream",
     "text": [
      "100%|██████████████████████████████████████████████████████████████████████████████████████████████████| 52/52 [00:16<00:00,  3.20it/s]\n",
      "100%|████████████████████████████████████████████████████████████████████████████████████████████████████| 6/6 [00:01<00:00,  3.93it/s]\n"
     ]
    },
    {
     "name": "stdout",
     "output_type": "stream",
     "text": [
      "Train: tot_loss = 1.66 - Valid: tot_loss = 1.59 - stale=0\n"
     ]
    },
    {
     "name": "stderr",
     "output_type": "stream",
     "text": [
      "100%|██████████████████████████████████████████████████████████████████████████████████████████████████| 52/52 [00:16<00:00,  3.15it/s]\n",
      "100%|████████████████████████████████████████████████████████████████████████████████████████████████████| 6/6 [00:01<00:00,  3.94it/s]\n"
     ]
    },
    {
     "name": "stdout",
     "output_type": "stream",
     "text": [
      "Train: tot_loss = 1.66 - Valid: tot_loss = 1.60 - stale=0\n"
     ]
    },
    {
     "name": "stderr",
     "output_type": "stream",
     "text": [
      "100%|██████████████████████████████████████████████████████████████████████████████████████████████████| 52/52 [00:16<00:00,  3.16it/s]\n",
      "100%|████████████████████████████████████████████████████████████████████████████████████████████████████| 6/6 [00:01<00:00,  3.92it/s]\n"
     ]
    },
    {
     "name": "stdout",
     "output_type": "stream",
     "text": [
      "Train: tot_loss = 1.65 - Valid: tot_loss = 1.60 - stale=0\n"
     ]
    },
    {
     "name": "stderr",
     "output_type": "stream",
     "text": [
      "100%|██████████████████████████████████████████████████████████████████████████████████████████████████| 52/52 [00:16<00:00,  3.14it/s]\n",
      "100%|████████████████████████████████████████████████████████████████████████████████████████████████████| 6/6 [00:01<00:00,  3.88it/s]\n"
     ]
    },
    {
     "name": "stdout",
     "output_type": "stream",
     "text": [
      "Train: tot_loss = 1.64 - Valid: tot_loss = 1.59 - stale=0\n"
     ]
    },
    {
     "name": "stderr",
     "output_type": "stream",
     "text": [
      "100%|██████████████████████████████████████████████████████████████████████████████████████████████████| 52/52 [00:16<00:00,  3.18it/s]\n",
      "100%|████████████████████████████████████████████████████████████████████████████████████████████████████| 6/6 [00:01<00:00,  3.92it/s]\n"
     ]
    },
    {
     "name": "stdout",
     "output_type": "stream",
     "text": [
      "Train: tot_loss = 1.64 - Valid: tot_loss = 1.58 - stale=0\n"
     ]
    },
    {
     "name": "stderr",
     "output_type": "stream",
     "text": [
      "100%|██████████████████████████████████████████████████████████████████████████████████████████████████| 52/52 [00:16<00:00,  3.18it/s]\n",
      "100%|████████████████████████████████████████████████████████████████████████████████████████████████████| 6/6 [00:01<00:00,  3.82it/s]\n"
     ]
    },
    {
     "name": "stdout",
     "output_type": "stream",
     "text": [
      "Train: tot_loss = 1.65 - Valid: tot_loss = 1.58 - stale=0\n"
     ]
    },
    {
     "name": "stderr",
     "output_type": "stream",
     "text": [
      "100%|██████████████████████████████████████████████████████████████████████████████████████████████████| 52/52 [00:16<00:00,  3.16it/s]\n",
      "100%|████████████████████████████████████████████████████████████████████████████████████████████████████| 6/6 [00:01<00:00,  3.91it/s]\n"
     ]
    },
    {
     "name": "stdout",
     "output_type": "stream",
     "text": [
      "Train: tot_loss = 1.64 - Valid: tot_loss = 1.60 - stale=0\n"
     ]
    },
    {
     "name": "stderr",
     "output_type": "stream",
     "text": [
      "100%|██████████████████████████████████████████████████████████████████████████████████████████████████| 52/52 [00:16<00:00,  3.12it/s]\n",
      "100%|████████████████████████████████████████████████████████████████████████████████████████████████████| 6/6 [00:01<00:00,  3.89it/s]\n"
     ]
    },
    {
     "name": "stdout",
     "output_type": "stream",
     "text": [
      "Train: tot_loss = 1.64 - Valid: tot_loss = 1.57 - stale=0\n"
     ]
    },
    {
     "name": "stderr",
     "output_type": "stream",
     "text": [
      "100%|██████████████████████████████████████████████████████████████████████████████████████████████████| 52/52 [00:16<00:00,  3.13it/s]\n",
      "100%|████████████████████████████████████████████████████████████████████████████████████████████████████| 6/6 [00:01<00:00,  3.85it/s]\n"
     ]
    },
    {
     "name": "stdout",
     "output_type": "stream",
     "text": [
      "Train: tot_loss = 1.64 - Valid: tot_loss = 1.53 - stale=0\n"
     ]
    },
    {
     "name": "stderr",
     "output_type": "stream",
     "text": [
      "100%|██████████████████████████████████████████████████████████████████████████████████████████████████| 52/52 [00:16<00:00,  3.17it/s]\n",
      "100%|████████████████████████████████████████████████████████████████████████████████████████████████████| 6/6 [00:01<00:00,  4.00it/s]\n"
     ]
    },
    {
     "name": "stdout",
     "output_type": "stream",
     "text": [
      "Train: tot_loss = 1.63 - Valid: tot_loss = 1.59 - stale=0\n"
     ]
    },
    {
     "name": "stderr",
     "output_type": "stream",
     "text": [
      "100%|██████████████████████████████████████████████████████████████████████████████████████████████████| 52/52 [00:16<00:00,  3.15it/s]\n",
      "100%|████████████████████████████████████████████████████████████████████████████████████████████████████| 6/6 [00:01<00:00,  3.97it/s]\n"
     ]
    },
    {
     "name": "stdout",
     "output_type": "stream",
     "text": [
      "Train: tot_loss = 1.62 - Valid: tot_loss = 1.59 - stale=0\n"
     ]
    },
    {
     "name": "stderr",
     "output_type": "stream",
     "text": [
      "100%|██████████████████████████████████████████████████████████████████████████████████████████████████| 52/52 [00:16<00:00,  3.18it/s]\n",
      "100%|████████████████████████████████████████████████████████████████████████████████████████████████████| 6/6 [00:01<00:00,  3.81it/s]\n"
     ]
    },
    {
     "name": "stdout",
     "output_type": "stream",
     "text": [
      "Train: tot_loss = 1.62 - Valid: tot_loss = 1.61 - stale=0\n"
     ]
    },
    {
     "name": "stderr",
     "output_type": "stream",
     "text": [
      "100%|██████████████████████████████████████████████████████████████████████████████████████████████████| 52/52 [00:16<00:00,  3.14it/s]\n",
      "100%|████████████████████████████████████████████████████████████████████████████████████████████████████| 6/6 [00:01<00:00,  3.94it/s]\n"
     ]
    },
    {
     "name": "stdout",
     "output_type": "stream",
     "text": [
      "Train: tot_loss = 1.62 - Valid: tot_loss = 1.59 - stale=0\n"
     ]
    },
    {
     "name": "stderr",
     "output_type": "stream",
     "text": [
      "100%|██████████████████████████████████████████████████████████████████████████████████████████████████| 52/52 [00:16<00:00,  3.19it/s]\n",
      "100%|████████████████████████████████████████████████████████████████████████████████████████████████████| 6/6 [00:01<00:00,  4.08it/s]\n"
     ]
    },
    {
     "name": "stdout",
     "output_type": "stream",
     "text": [
      "Train: tot_loss = 1.62 - Valid: tot_loss = 1.57 - stale=0\n"
     ]
    },
    {
     "name": "stderr",
     "output_type": "stream",
     "text": [
      "100%|██████████████████████████████████████████████████████████████████████████████████████████████████| 52/52 [00:16<00:00,  3.13it/s]\n",
      "100%|████████████████████████████████████████████████████████████████████████████████████████████████████| 6/6 [00:01<00:00,  3.83it/s]\n"
     ]
    },
    {
     "name": "stdout",
     "output_type": "stream",
     "text": [
      "Train: tot_loss = 1.62 - Valid: tot_loss = 1.58 - stale=0\n"
     ]
    },
    {
     "name": "stderr",
     "output_type": "stream",
     "text": [
      "100%|██████████████████████████████████████████████████████████████████████████████████████████████████| 52/52 [00:16<00:00,  3.12it/s]\n",
      "100%|████████████████████████████████████████████████████████████████████████████████████████████████████| 6/6 [00:01<00:00,  3.97it/s]\n"
     ]
    },
    {
     "name": "stdout",
     "output_type": "stream",
     "text": [
      "Train: tot_loss = 1.62 - Valid: tot_loss = 1.58 - stale=0\n"
     ]
    },
    {
     "name": "stderr",
     "output_type": "stream",
     "text": [
      "100%|██████████████████████████████████████████████████████████████████████████████████████████████████| 52/52 [00:16<00:00,  3.19it/s]\n",
      "100%|████████████████████████████████████████████████████████████████████████████████████████████████████| 6/6 [00:01<00:00,  3.91it/s]\n"
     ]
    },
    {
     "name": "stdout",
     "output_type": "stream",
     "text": [
      "Train: tot_loss = 1.62 - Valid: tot_loss = 1.59 - stale=0\n"
     ]
    },
    {
     "name": "stderr",
     "output_type": "stream",
     "text": [
      "100%|██████████████████████████████████████████████████████████████████████████████████████████████████| 52/52 [00:16<00:00,  3.17it/s]\n",
      "100%|████████████████████████████████████████████████████████████████████████████████████████████████████| 6/6 [00:01<00:00,  3.95it/s]\n"
     ]
    },
    {
     "name": "stdout",
     "output_type": "stream",
     "text": [
      "Train: tot_loss = 1.62 - Valid: tot_loss = 1.57 - stale=0\n"
     ]
    },
    {
     "name": "stderr",
     "output_type": "stream",
     "text": [
      "100%|██████████████████████████████████████████████████████████████████████████████████████████████████| 52/52 [00:16<00:00,  3.18it/s]\n",
      "100%|████████████████████████████████████████████████████████████████████████████████████████████████████| 6/6 [00:01<00:00,  4.11it/s]\n"
     ]
    },
    {
     "name": "stdout",
     "output_type": "stream",
     "text": [
      "Train: tot_loss = 1.61 - Valid: tot_loss = 1.58 - stale=0\n"
     ]
    },
    {
     "name": "stderr",
     "output_type": "stream",
     "text": [
      "100%|██████████████████████████████████████████████████████████████████████████████████████████████████| 52/52 [00:16<00:00,  3.18it/s]\n",
      "100%|████████████████████████████████████████████████████████████████████████████████████████████████████| 6/6 [00:01<00:00,  3.93it/s]\n"
     ]
    },
    {
     "name": "stdout",
     "output_type": "stream",
     "text": [
      "Train: tot_loss = 1.61 - Valid: tot_loss = 1.60 - stale=0\n"
     ]
    },
    {
     "name": "stderr",
     "output_type": "stream",
     "text": [
      "100%|██████████████████████████████████████████████████████████████████████████████████████████████████| 52/52 [00:16<00:00,  3.17it/s]\n",
      "100%|████████████████████████████████████████████████████████████████████████████████████████████████████| 6/6 [00:01<00:00,  3.99it/s]\n"
     ]
    },
    {
     "name": "stdout",
     "output_type": "stream",
     "text": [
      "Train: tot_loss = 1.62 - Valid: tot_loss = 1.59 - stale=0\n"
     ]
    },
    {
     "name": "stderr",
     "output_type": "stream",
     "text": [
      "100%|██████████████████████████████████████████████████████████████████████████████████████████████████| 52/52 [00:16<00:00,  3.18it/s]\n",
      "100%|████████████████████████████████████████████████████████████████████████████████████████████████████| 6/6 [00:01<00:00,  4.12it/s]\n"
     ]
    },
    {
     "name": "stdout",
     "output_type": "stream",
     "text": [
      "Train: tot_loss = 1.62 - Valid: tot_loss = 1.53 - stale=0\n"
     ]
    },
    {
     "name": "stderr",
     "output_type": "stream",
     "text": [
      "100%|██████████████████████████████████████████████████████████████████████████████████████████████████| 52/52 [00:16<00:00,  3.15it/s]\n",
      "100%|████████████████████████████████████████████████████████████████████████████████████████████████████| 6/6 [00:01<00:00,  3.96it/s]\n"
     ]
    },
    {
     "name": "stdout",
     "output_type": "stream",
     "text": [
      "Train: tot_loss = 1.61 - Valid: tot_loss = 1.57 - stale=0\n"
     ]
    },
    {
     "name": "stderr",
     "output_type": "stream",
     "text": [
      "100%|██████████████████████████████████████████████████████████████████████████████████████████████████| 52/52 [00:16<00:00,  3.17it/s]\n",
      "100%|████████████████████████████████████████████████████████████████████████████████████████████████████| 6/6 [00:01<00:00,  4.11it/s]\n"
     ]
    },
    {
     "name": "stdout",
     "output_type": "stream",
     "text": [
      "Train: tot_loss = 1.62 - Valid: tot_loss = 1.57 - stale=0\n"
     ]
    },
    {
     "name": "stderr",
     "output_type": "stream",
     "text": [
      "100%|██████████████████████████████████████████████████████████████████████████████████████████████████| 52/52 [00:16<00:00,  3.13it/s]\n",
      "100%|████████████████████████████████████████████████████████████████████████████████████████████████████| 6/6 [00:01<00:00,  3.73it/s]\n"
     ]
    },
    {
     "name": "stdout",
     "output_type": "stream",
     "text": [
      "Train: tot_loss = 1.62 - Valid: tot_loss = 1.55 - stale=0\n"
     ]
    },
    {
     "name": "stderr",
     "output_type": "stream",
     "text": [
      "100%|██████████████████████████████████████████████████████████████████████████████████████████████████| 52/52 [00:16<00:00,  3.10it/s]\n",
      "100%|████████████████████████████████████████████████████████████████████████████████████████████████████| 6/6 [00:01<00:00,  3.62it/s]\n"
     ]
    },
    {
     "name": "stdout",
     "output_type": "stream",
     "text": [
      "Train: tot_loss = 1.61 - Valid: tot_loss = 1.57 - stale=0\n"
     ]
    },
    {
     "name": "stderr",
     "output_type": "stream",
     "text": [
      "100%|██████████████████████████████████████████████████████████████████████████████████████████████████| 52/52 [00:16<00:00,  3.18it/s]\n",
      "100%|████████████████████████████████████████████████████████████████████████████████████████████████████| 6/6 [00:01<00:00,  3.84it/s]\n"
     ]
    },
    {
     "name": "stdout",
     "output_type": "stream",
     "text": [
      "Train: tot_loss = 1.61 - Valid: tot_loss = 1.56 - stale=0\n"
     ]
    },
    {
     "name": "stderr",
     "output_type": "stream",
     "text": [
      "100%|██████████████████████████████████████████████████████████████████████████████████████████████████| 52/52 [00:16<00:00,  3.13it/s]\n",
      "100%|████████████████████████████████████████████████████████████████████████████████████████████████████| 6/6 [00:01<00:00,  3.83it/s]\n"
     ]
    },
    {
     "name": "stdout",
     "output_type": "stream",
     "text": [
      "Train: tot_loss = 1.62 - Valid: tot_loss = 1.57 - stale=0\n"
     ]
    },
    {
     "name": "stderr",
     "output_type": "stream",
     "text": [
      "100%|██████████████████████████████████████████████████████████████████████████████████████████████████| 52/52 [00:16<00:00,  3.15it/s]\n",
      "100%|████████████████████████████████████████████████████████████████████████████████████████████████████| 6/6 [00:01<00:00,  3.96it/s]\n"
     ]
    },
    {
     "name": "stdout",
     "output_type": "stream",
     "text": [
      "Train: tot_loss = 1.62 - Valid: tot_loss = 1.57 - stale=0\n"
     ]
    },
    {
     "name": "stderr",
     "output_type": "stream",
     "text": [
      "100%|██████████████████████████████████████████████████████████████████████████████████████████████████| 52/52 [00:16<00:00,  3.17it/s]\n",
      "100%|████████████████████████████████████████████████████████████████████████████████████████████████████| 6/6 [00:01<00:00,  3.98it/s]\n"
     ]
    },
    {
     "name": "stdout",
     "output_type": "stream",
     "text": [
      "Train: tot_loss = 1.61 - Valid: tot_loss = 1.57 - stale=0\n"
     ]
    },
    {
     "name": "stderr",
     "output_type": "stream",
     "text": [
      "100%|██████████████████████████████████████████████████████████████████████████████████████████████████| 52/52 [00:16<00:00,  3.15it/s]\n",
      "100%|████████████████████████████████████████████████████████████████████████████████████████████████████| 6/6 [00:01<00:00,  3.94it/s]\n"
     ]
    },
    {
     "name": "stdout",
     "output_type": "stream",
     "text": [
      "Train: tot_loss = 1.61 - Valid: tot_loss = 1.54 - stale=0\n"
     ]
    },
    {
     "name": "stderr",
     "output_type": "stream",
     "text": [
      "100%|██████████████████████████████████████████████████████████████████████████████████████████████████| 52/52 [00:16<00:00,  3.12it/s]\n",
      "100%|████████████████████████████████████████████████████████████████████████████████████████████████████| 6/6 [00:01<00:00,  4.11it/s]\n"
     ]
    },
    {
     "name": "stdout",
     "output_type": "stream",
     "text": [
      "Train: tot_loss = 1.61 - Valid: tot_loss = 1.54 - stale=0\n"
     ]
    },
    {
     "name": "stderr",
     "output_type": "stream",
     "text": [
      "100%|██████████████████████████████████████████████████████████████████████████████████████████████████| 52/52 [00:16<00:00,  3.13it/s]\n",
      "100%|████████████████████████████████████████████████████████████████████████████████████████████████████| 6/6 [00:01<00:00,  4.12it/s]\n"
     ]
    },
    {
     "name": "stdout",
     "output_type": "stream",
     "text": [
      "Train: tot_loss = 1.61 - Valid: tot_loss = 1.55 - stale=0\n"
     ]
    },
    {
     "name": "stderr",
     "output_type": "stream",
     "text": [
      "100%|██████████████████████████████████████████████████████████████████████████████████████████████████| 52/52 [00:16<00:00,  3.14it/s]\n",
      "100%|████████████████████████████████████████████████████████████████████████████████████████████████████| 6/6 [00:01<00:00,  4.10it/s]\n"
     ]
    },
    {
     "name": "stdout",
     "output_type": "stream",
     "text": [
      "Train: tot_loss = 1.60 - Valid: tot_loss = 1.56 - stale=0\n"
     ]
    },
    {
     "name": "stderr",
     "output_type": "stream",
     "text": [
      "100%|██████████████████████████████████████████████████████████████████████████████████████████████████| 52/52 [00:16<00:00,  3.13it/s]\n",
      "100%|████████████████████████████████████████████████████████████████████████████████████████████████████| 6/6 [00:01<00:00,  4.09it/s]\n"
     ]
    },
    {
     "name": "stdout",
     "output_type": "stream",
     "text": [
      "Train: tot_loss = 1.60 - Valid: tot_loss = 1.50 - stale=0\n"
     ]
    },
    {
     "name": "stderr",
     "output_type": "stream",
     "text": [
      "100%|██████████████████████████████████████████████████████████████████████████████████████████████████| 52/52 [00:16<00:00,  3.13it/s]\n",
      "100%|████████████████████████████████████████████████████████████████████████████████████████████████████| 6/6 [00:01<00:00,  4.12it/s]\n"
     ]
    },
    {
     "name": "stdout",
     "output_type": "stream",
     "text": [
      "Train: tot_loss = 1.60 - Valid: tot_loss = 1.54 - stale=0\n"
     ]
    },
    {
     "name": "stderr",
     "output_type": "stream",
     "text": [
      "100%|██████████████████████████████████████████████████████████████████████████████████████████████████| 52/52 [00:16<00:00,  3.24it/s]\n",
      "100%|████████████████████████████████████████████████████████████████████████████████████████████████████| 6/6 [00:01<00:00,  3.95it/s]\n"
     ]
    },
    {
     "name": "stdout",
     "output_type": "stream",
     "text": [
      "Train: tot_loss = 1.61 - Valid: tot_loss = 1.56 - stale=0\n"
     ]
    },
    {
     "name": "stderr",
     "output_type": "stream",
     "text": [
      "100%|██████████████████████████████████████████████████████████████████████████████████████████████████| 52/52 [00:16<00:00,  3.22it/s]\n",
      "100%|████████████████████████████████████████████████████████████████████████████████████████████████████| 6/6 [00:01<00:00,  3.82it/s]\n"
     ]
    },
    {
     "name": "stdout",
     "output_type": "stream",
     "text": [
      "Train: tot_loss = 1.61 - Valid: tot_loss = 1.57 - stale=0\n"
     ]
    },
    {
     "name": "stderr",
     "output_type": "stream",
     "text": [
      "100%|██████████████████████████████████████████████████████████████████████████████████████████████████| 52/52 [00:16<00:00,  3.13it/s]\n",
      "100%|████████████████████████████████████████████████████████████████████████████████████████████████████| 6/6 [00:01<00:00,  3.83it/s]\n"
     ]
    },
    {
     "name": "stdout",
     "output_type": "stream",
     "text": [
      "Train: tot_loss = 1.61 - Valid: tot_loss = 1.62 - stale=0\n"
     ]
    },
    {
     "name": "stderr",
     "output_type": "stream",
     "text": [
      "100%|██████████████████████████████████████████████████████████████████████████████████████████████████| 52/52 [00:16<00:00,  3.12it/s]\n",
      "100%|████████████████████████████████████████████████████████████████████████████████████████████████████| 6/6 [00:01<00:00,  3.87it/s]\n"
     ]
    },
    {
     "name": "stdout",
     "output_type": "stream",
     "text": [
      "Train: tot_loss = 1.63 - Valid: tot_loss = 1.62 - stale=0\n"
     ]
    },
    {
     "name": "stderr",
     "output_type": "stream",
     "text": [
      "100%|██████████████████████████████████████████████████████████████████████████████████████████████████| 52/52 [00:16<00:00,  3.15it/s]\n",
      "100%|████████████████████████████████████████████████████████████████████████████████████████████████████| 6/6 [00:01<00:00,  3.97it/s]\n"
     ]
    },
    {
     "name": "stdout",
     "output_type": "stream",
     "text": [
      "Train: tot_loss = 1.62 - Valid: tot_loss = 1.58 - stale=0\n"
     ]
    },
    {
     "name": "stderr",
     "output_type": "stream",
     "text": [
      "100%|██████████████████████████████████████████████████████████████████████████████████████████████████| 52/52 [00:16<00:00,  3.20it/s]\n",
      "100%|████████████████████████████████████████████████████████████████████████████████████████████████████| 6/6 [00:01<00:00,  4.19it/s]\n"
     ]
    },
    {
     "name": "stdout",
     "output_type": "stream",
     "text": [
      "Train: tot_loss = 1.62 - Valid: tot_loss = 1.57 - stale=0\n"
     ]
    },
    {
     "name": "stderr",
     "output_type": "stream",
     "text": [
      "100%|██████████████████████████████████████████████████████████████████████████████████████████████████| 52/52 [00:16<00:00,  3.14it/s]\n",
      "100%|████████████████████████████████████████████████████████████████████████████████████████████████████| 6/6 [00:01<00:00,  3.98it/s]\n"
     ]
    },
    {
     "name": "stdout",
     "output_type": "stream",
     "text": [
      "Train: tot_loss = 1.61 - Valid: tot_loss = 1.59 - stale=0\n"
     ]
    },
    {
     "name": "stderr",
     "output_type": "stream",
     "text": [
      "100%|██████████████████████████████████████████████████████████████████████████████████████████████████| 52/52 [00:16<00:00,  3.15it/s]\n",
      "100%|████████████████████████████████████████████████████████████████████████████████████████████████████| 6/6 [00:01<00:00,  4.00it/s]\n"
     ]
    },
    {
     "name": "stdout",
     "output_type": "stream",
     "text": [
      "Train: tot_loss = 1.61 - Valid: tot_loss = 1.53 - stale=0\n"
     ]
    },
    {
     "name": "stderr",
     "output_type": "stream",
     "text": [
      "100%|██████████████████████████████████████████████████████████████████████████████████████████████████| 52/52 [00:16<00:00,  3.16it/s]\n",
      "100%|████████████████████████████████████████████████████████████████████████████████████████████████████| 6/6 [00:01<00:00,  3.91it/s]\n"
     ]
    },
    {
     "name": "stdout",
     "output_type": "stream",
     "text": [
      "Train: tot_loss = 1.61 - Valid: tot_loss = 1.57 - stale=0\n"
     ]
    },
    {
     "name": "stderr",
     "output_type": "stream",
     "text": [
      "100%|██████████████████████████████████████████████████████████████████████████████████████████████████| 52/52 [00:16<00:00,  3.14it/s]\n",
      "100%|████████████████████████████████████████████████████████████████████████████████████████████████████| 6/6 [00:01<00:00,  3.80it/s]\n"
     ]
    },
    {
     "name": "stdout",
     "output_type": "stream",
     "text": [
      "Train: tot_loss = 1.61 - Valid: tot_loss = 1.58 - stale=0\n"
     ]
    },
    {
     "name": "stderr",
     "output_type": "stream",
     "text": [
      "100%|██████████████████████████████████████████████████████████████████████████████████████████████████| 52/52 [00:16<00:00,  3.18it/s]\n",
      "100%|████████████████████████████████████████████████████████████████████████████████████████████████████| 6/6 [00:01<00:00,  3.79it/s]\n"
     ]
    },
    {
     "name": "stdout",
     "output_type": "stream",
     "text": [
      "Train: tot_loss = 1.61 - Valid: tot_loss = 1.62 - stale=0\n"
     ]
    },
    {
     "name": "stderr",
     "output_type": "stream",
     "text": [
      "100%|██████████████████████████████████████████████████████████████████████████████████████████████████| 52/52 [00:16<00:00,  3.16it/s]\n",
      "100%|████████████████████████████████████████████████████████████████████████████████████████████████████| 6/6 [00:01<00:00,  3.85it/s]\n"
     ]
    },
    {
     "name": "stdout",
     "output_type": "stream",
     "text": [
      "Train: tot_loss = 1.62 - Valid: tot_loss = 1.58 - stale=0\n"
     ]
    },
    {
     "name": "stderr",
     "output_type": "stream",
     "text": [
      "100%|██████████████████████████████████████████████████████████████████████████████████████████████████| 52/52 [00:16<00:00,  3.17it/s]\n",
      "100%|████████████████████████████████████████████████████████████████████████████████████████████████████| 6/6 [00:01<00:00,  4.07it/s]\n"
     ]
    },
    {
     "name": "stdout",
     "output_type": "stream",
     "text": [
      "Train: tot_loss = 1.61 - Valid: tot_loss = 1.58 - stale=0\n"
     ]
    },
    {
     "name": "stderr",
     "output_type": "stream",
     "text": [
      "100%|██████████████████████████████████████████████████████████████████████████████████████████████████| 52/52 [00:16<00:00,  3.12it/s]\n",
      "100%|████████████████████████████████████████████████████████████████████████████████████████████████████| 6/6 [00:01<00:00,  3.84it/s]\n"
     ]
    },
    {
     "name": "stdout",
     "output_type": "stream",
     "text": [
      "Train: tot_loss = 1.61 - Valid: tot_loss = 1.61 - stale=0\n"
     ]
    },
    {
     "name": "stderr",
     "output_type": "stream",
     "text": [
      "100%|██████████████████████████████████████████████████████████████████████████████████████████████████| 52/52 [00:16<00:00,  3.16it/s]\n",
      "100%|████████████████████████████████████████████████████████████████████████████████████████████████████| 6/6 [00:01<00:00,  4.00it/s]\n"
     ]
    },
    {
     "name": "stdout",
     "output_type": "stream",
     "text": [
      "Train: tot_loss = 1.61 - Valid: tot_loss = 1.58 - stale=0\n"
     ]
    },
    {
     "name": "stderr",
     "output_type": "stream",
     "text": [
      "100%|██████████████████████████████████████████████████████████████████████████████████████████████████| 52/52 [00:16<00:00,  3.17it/s]\n",
      "100%|████████████████████████████████████████████████████████████████████████████████████████████████████| 6/6 [00:01<00:00,  3.98it/s]\n"
     ]
    },
    {
     "name": "stdout",
     "output_type": "stream",
     "text": [
      "Train: tot_loss = 1.63 - Valid: tot_loss = 1.96 - stale=0\n"
     ]
    },
    {
     "name": "stderr",
     "output_type": "stream",
     "text": [
      "100%|██████████████████████████████████████████████████████████████████████████████████████████████████| 52/52 [00:16<00:00,  3.12it/s]\n",
      "100%|████████████████████████████████████████████████████████████████████████████████████████████████████| 6/6 [00:01<00:00,  3.80it/s]\n"
     ]
    },
    {
     "name": "stdout",
     "output_type": "stream",
     "text": [
      "Train: tot_loss = 2.08 - Valid: tot_loss = 2.76 - stale=0\n"
     ]
    },
    {
     "name": "stderr",
     "output_type": "stream",
     "text": [
      "100%|██████████████████████████████████████████████████████████████████████████████████████████████████| 52/52 [00:16<00:00,  3.16it/s]\n",
      "100%|████████████████████████████████████████████████████████████████████████████████████████████████████| 6/6 [00:01<00:00,  4.02it/s]\n"
     ]
    },
    {
     "name": "stdout",
     "output_type": "stream",
     "text": [
      "Train: tot_loss = 2.18 - Valid: tot_loss = 1.60 - stale=0\n"
     ]
    },
    {
     "name": "stderr",
     "output_type": "stream",
     "text": [
      "100%|██████████████████████████████████████████████████████████████████████████████████████████████████| 52/52 [00:16<00:00,  3.17it/s]\n",
      "100%|████████████████████████████████████████████████████████████████████████████████████████████████████| 6/6 [00:01<00:00,  4.14it/s]\n"
     ]
    },
    {
     "name": "stdout",
     "output_type": "stream",
     "text": [
      "Train: tot_loss = 1.62 - Valid: tot_loss = 1.58 - stale=0\n"
     ]
    },
    {
     "name": "stderr",
     "output_type": "stream",
     "text": [
      "100%|██████████████████████████████████████████████████████████████████████████████████████████████████| 52/52 [00:16<00:00,  3.17it/s]\n",
      "100%|████████████████████████████████████████████████████████████████████████████████████████████████████| 6/6 [00:01<00:00,  3.99it/s]\n"
     ]
    },
    {
     "name": "stdout",
     "output_type": "stream",
     "text": [
      "Train: tot_loss = 1.63 - Valid: tot_loss = 1.63 - stale=0\n"
     ]
    },
    {
     "name": "stderr",
     "output_type": "stream",
     "text": [
      "100%|██████████████████████████████████████████████████████████████████████████████████████████████████| 52/52 [00:16<00:00,  3.16it/s]\n",
      "100%|████████████████████████████████████████████████████████████████████████████████████████████████████| 6/6 [00:01<00:00,  3.95it/s]\n"
     ]
    },
    {
     "name": "stdout",
     "output_type": "stream",
     "text": [
      "Train: tot_loss = 1.63 - Valid: tot_loss = 1.60 - stale=0\n"
     ]
    },
    {
     "name": "stderr",
     "output_type": "stream",
     "text": [
      "100%|██████████████████████████████████████████████████████████████████████████████████████████████████| 52/52 [00:16<00:00,  3.21it/s]\n",
      "100%|████████████████████████████████████████████████████████████████████████████████████████████████████| 6/6 [00:01<00:00,  4.13it/s]\n"
     ]
    },
    {
     "name": "stdout",
     "output_type": "stream",
     "text": [
      "Train: tot_loss = 1.63 - Valid: tot_loss = 1.60 - stale=0\n"
     ]
    },
    {
     "name": "stderr",
     "output_type": "stream",
     "text": [
      "100%|██████████████████████████████████████████████████████████████████████████████████████████████████| 52/52 [00:16<00:00,  3.17it/s]\n",
      "100%|████████████████████████████████████████████████████████████████████████████████████████████████████| 6/6 [00:01<00:00,  4.04it/s]\n"
     ]
    },
    {
     "name": "stdout",
     "output_type": "stream",
     "text": [
      "Train: tot_loss = 1.63 - Valid: tot_loss = 1.54 - stale=0\n"
     ]
    },
    {
     "name": "stderr",
     "output_type": "stream",
     "text": [
      "100%|██████████████████████████████████████████████████████████████████████████████████████████████████| 52/52 [00:16<00:00,  3.15it/s]\n",
      "100%|████████████████████████████████████████████████████████████████████████████████████████████████████| 6/6 [00:01<00:00,  3.96it/s]\n"
     ]
    },
    {
     "name": "stdout",
     "output_type": "stream",
     "text": [
      "Train: tot_loss = 1.62 - Valid: tot_loss = 1.57 - stale=0\n"
     ]
    },
    {
     "name": "stderr",
     "output_type": "stream",
     "text": [
      "100%|██████████████████████████████████████████████████████████████████████████████████████████████████| 52/52 [00:16<00:00,  3.18it/s]\n",
      "100%|████████████████████████████████████████████████████████████████████████████████████████████████████| 6/6 [00:01<00:00,  3.89it/s]\n"
     ]
    },
    {
     "name": "stdout",
     "output_type": "stream",
     "text": [
      "Train: tot_loss = 1.63 - Valid: tot_loss = 1.59 - stale=0\n"
     ]
    },
    {
     "name": "stderr",
     "output_type": "stream",
     "text": [
      "100%|██████████████████████████████████████████████████████████████████████████████████████████████████| 52/52 [00:16<00:00,  3.19it/s]\n",
      "100%|████████████████████████████████████████████████████████████████████████████████████████████████████| 6/6 [00:01<00:00,  4.04it/s]\n"
     ]
    },
    {
     "name": "stdout",
     "output_type": "stream",
     "text": [
      "Train: tot_loss = 1.63 - Valid: tot_loss = 1.60 - stale=0\n"
     ]
    },
    {
     "name": "stderr",
     "output_type": "stream",
     "text": [
      "100%|██████████████████████████████████████████████████████████████████████████████████████████████████| 52/52 [00:16<00:00,  3.19it/s]\n",
      "100%|████████████████████████████████████████████████████████████████████████████████████████████████████| 6/6 [00:01<00:00,  4.13it/s]\n"
     ]
    },
    {
     "name": "stdout",
     "output_type": "stream",
     "text": [
      "Train: tot_loss = 1.63 - Valid: tot_loss = 1.59 - stale=0\n"
     ]
    },
    {
     "name": "stderr",
     "output_type": "stream",
     "text": [
      "100%|██████████████████████████████████████████████████████████████████████████████████████████████████| 52/52 [00:16<00:00,  3.15it/s]\n",
      "100%|████████████████████████████████████████████████████████████████████████████████████████████████████| 6/6 [00:01<00:00,  3.95it/s]\n"
     ]
    },
    {
     "name": "stdout",
     "output_type": "stream",
     "text": [
      "Train: tot_loss = 1.63 - Valid: tot_loss = 1.59 - stale=0\n"
     ]
    },
    {
     "name": "stderr",
     "output_type": "stream",
     "text": [
      "100%|██████████████████████████████████████████████████████████████████████████████████████████████████| 52/52 [00:16<00:00,  3.18it/s]\n",
      "100%|████████████████████████████████████████████████████████████████████████████████████████████████████| 6/6 [00:01<00:00,  4.09it/s]\n"
     ]
    },
    {
     "name": "stdout",
     "output_type": "stream",
     "text": [
      "Train: tot_loss = 1.62 - Valid: tot_loss = 1.59 - stale=0\n"
     ]
    },
    {
     "name": "stderr",
     "output_type": "stream",
     "text": [
      "100%|██████████████████████████████████████████████████████████████████████████████████████████████████| 52/52 [00:16<00:00,  3.10it/s]\n",
      "100%|████████████████████████████████████████████████████████████████████████████████████████████████████| 6/6 [00:01<00:00,  3.85it/s]\n"
     ]
    },
    {
     "name": "stdout",
     "output_type": "stream",
     "text": [
      "Train: tot_loss = 1.62 - Valid: tot_loss = 1.58 - stale=0\n"
     ]
    },
    {
     "name": "stderr",
     "output_type": "stream",
     "text": [
      "100%|██████████████████████████████████████████████████████████████████████████████████████████████████| 52/52 [00:16<00:00,  3.14it/s]\n",
      "100%|████████████████████████████████████████████████████████████████████████████████████████████████████| 6/6 [00:01<00:00,  3.92it/s]\n"
     ]
    },
    {
     "name": "stdout",
     "output_type": "stream",
     "text": [
      "Train: tot_loss = 1.62 - Valid: tot_loss = 1.56 - stale=0\n"
     ]
    },
    {
     "name": "stderr",
     "output_type": "stream",
     "text": [
      "100%|██████████████████████████████████████████████████████████████████████████████████████████████████| 52/52 [00:16<00:00,  3.17it/s]\n",
      "100%|████████████████████████████████████████████████████████████████████████████████████████████████████| 6/6 [00:01<00:00,  3.93it/s]\n"
     ]
    },
    {
     "name": "stdout",
     "output_type": "stream",
     "text": [
      "Train: tot_loss = 1.62 - Valid: tot_loss = 1.60 - stale=0\n"
     ]
    },
    {
     "name": "stderr",
     "output_type": "stream",
     "text": [
      "100%|██████████████████████████████████████████████████████████████████████████████████████████████████| 52/52 [00:16<00:00,  3.17it/s]\n",
      "100%|████████████████████████████████████████████████████████████████████████████████████████████████████| 6/6 [00:01<00:00,  4.12it/s]\n"
     ]
    },
    {
     "name": "stdout",
     "output_type": "stream",
     "text": [
      "Train: tot_loss = 1.62 - Valid: tot_loss = 1.56 - stale=0\n"
     ]
    },
    {
     "name": "stderr",
     "output_type": "stream",
     "text": [
      "100%|██████████████████████████████████████████████████████████████████████████████████████████████████| 52/52 [00:16<00:00,  3.17it/s]\n",
      "100%|████████████████████████████████████████████████████████████████████████████████████████████████████| 6/6 [00:01<00:00,  3.95it/s]\n"
     ]
    },
    {
     "name": "stdout",
     "output_type": "stream",
     "text": [
      "Train: tot_loss = 1.61 - Valid: tot_loss = 1.58 - stale=0\n"
     ]
    },
    {
     "name": "stderr",
     "output_type": "stream",
     "text": [
      "100%|██████████████████████████████████████████████████████████████████████████████████████████████████| 52/52 [00:16<00:00,  3.19it/s]\n",
      "100%|████████████████████████████████████████████████████████████████████████████████████████████████████| 6/6 [00:01<00:00,  4.01it/s]\n"
     ]
    },
    {
     "name": "stdout",
     "output_type": "stream",
     "text": [
      "Train: tot_loss = 1.61 - Valid: tot_loss = 1.57 - stale=0\n"
     ]
    },
    {
     "name": "stderr",
     "output_type": "stream",
     "text": [
      "100%|██████████████████████████████████████████████████████████████████████████████████████████████████| 52/52 [00:16<00:00,  3.21it/s]\n",
      "100%|████████████████████████████████████████████████████████████████████████████████████████████████████| 6/6 [00:01<00:00,  4.16it/s]\n"
     ]
    },
    {
     "name": "stdout",
     "output_type": "stream",
     "text": [
      "Train: tot_loss = 1.62 - Valid: tot_loss = 1.63 - stale=0\n"
     ]
    },
    {
     "name": "stderr",
     "output_type": "stream",
     "text": [
      "100%|██████████████████████████████████████████████████████████████████████████████████████████████████| 52/52 [00:16<00:00,  3.18it/s]\n",
      "100%|████████████████████████████████████████████████████████████████████████████████████████████████████| 6/6 [00:01<00:00,  4.13it/s]\n"
     ]
    },
    {
     "name": "stdout",
     "output_type": "stream",
     "text": [
      "Train: tot_loss = 1.62 - Valid: tot_loss = 1.61 - stale=0\n"
     ]
    },
    {
     "name": "stderr",
     "output_type": "stream",
     "text": [
      "100%|██████████████████████████████████████████████████████████████████████████████████████████████████| 52/52 [00:16<00:00,  3.20it/s]\n",
      "100%|████████████████████████████████████████████████████████████████████████████████████████████████████| 6/6 [00:01<00:00,  4.09it/s]\n"
     ]
    },
    {
     "name": "stdout",
     "output_type": "stream",
     "text": [
      "Train: tot_loss = 1.62 - Valid: tot_loss = 1.61 - stale=0\n"
     ]
    },
    {
     "name": "stderr",
     "output_type": "stream",
     "text": [
      "100%|██████████████████████████████████████████████████████████████████████████████████████████████████| 52/52 [00:16<00:00,  3.17it/s]\n",
      "100%|████████████████████████████████████████████████████████████████████████████████████████████████████| 6/6 [00:01<00:00,  3.98it/s]\n"
     ]
    },
    {
     "name": "stdout",
     "output_type": "stream",
     "text": [
      "Train: tot_loss = 1.61 - Valid: tot_loss = 1.55 - stale=0\n"
     ]
    },
    {
     "name": "stderr",
     "output_type": "stream",
     "text": [
      "100%|██████████████████████████████████████████████████████████████████████████████████████████████████| 52/52 [00:16<00:00,  3.17it/s]\n",
      "100%|████████████████████████████████████████████████████████████████████████████████████████████████████| 6/6 [00:01<00:00,  3.96it/s]\n"
     ]
    },
    {
     "name": "stdout",
     "output_type": "stream",
     "text": [
      "Train: tot_loss = 1.61 - Valid: tot_loss = 1.60 - stale=0\n"
     ]
    },
    {
     "name": "stderr",
     "output_type": "stream",
     "text": [
      "100%|██████████████████████████████████████████████████████████████████████████████████████████████████| 52/52 [00:16<00:00,  3.16it/s]\n",
      "100%|████████████████████████████████████████████████████████████████████████████████████████████████████| 6/6 [00:01<00:00,  4.06it/s]\n"
     ]
    },
    {
     "name": "stdout",
     "output_type": "stream",
     "text": [
      "Train: tot_loss = 1.62 - Valid: tot_loss = 1.62 - stale=0\n"
     ]
    },
    {
     "name": "stderr",
     "output_type": "stream",
     "text": [
      "100%|██████████████████████████████████████████████████████████████████████████████████████████████████| 52/52 [00:16<00:00,  3.18it/s]\n",
      "100%|████████████████████████████████████████████████████████████████████████████████████████████████████| 6/6 [00:01<00:00,  4.06it/s]\n"
     ]
    },
    {
     "name": "stdout",
     "output_type": "stream",
     "text": [
      "Train: tot_loss = 1.61 - Valid: tot_loss = 1.60 - stale=0\n"
     ]
    },
    {
     "name": "stderr",
     "output_type": "stream",
     "text": [
      "100%|██████████████████████████████████████████████████████████████████████████████████████████████████| 52/52 [00:16<00:00,  3.20it/s]\n",
      "100%|████████████████████████████████████████████████████████████████████████████████████████████████████| 6/6 [00:01<00:00,  4.09it/s]\n"
     ]
    },
    {
     "name": "stdout",
     "output_type": "stream",
     "text": [
      "Train: tot_loss = 1.61 - Valid: tot_loss = 1.59 - stale=0\n"
     ]
    },
    {
     "name": "stderr",
     "output_type": "stream",
     "text": [
      "100%|██████████████████████████████████████████████████████████████████████████████████████████████████| 52/52 [00:16<00:00,  3.15it/s]\n",
      "100%|████████████████████████████████████████████████████████████████████████████████████████████████████| 6/6 [00:01<00:00,  3.89it/s]\n"
     ]
    },
    {
     "name": "stdout",
     "output_type": "stream",
     "text": [
      "Train: tot_loss = 1.61 - Valid: tot_loss = 1.61 - stale=0\n"
     ]
    },
    {
     "name": "stderr",
     "output_type": "stream",
     "text": [
      "100%|██████████████████████████████████████████████████████████████████████████████████████████████████| 52/52 [00:16<00:00,  3.15it/s]\n",
      "100%|████████████████████████████████████████████████████████████████████████████████████████████████████| 6/6 [00:01<00:00,  3.90it/s]\n"
     ]
    },
    {
     "name": "stdout",
     "output_type": "stream",
     "text": [
      "Train: tot_loss = 1.61 - Valid: tot_loss = 1.60 - stale=0\n"
     ]
    },
    {
     "name": "stderr",
     "output_type": "stream",
     "text": [
      "100%|██████████████████████████████████████████████████████████████████████████████████████████████████| 52/52 [00:16<00:00,  3.17it/s]\n",
      "100%|████████████████████████████████████████████████████████████████████████████████████████████████████| 6/6 [00:01<00:00,  4.15it/s]\n"
     ]
    },
    {
     "name": "stdout",
     "output_type": "stream",
     "text": [
      "Train: tot_loss = 1.60 - Valid: tot_loss = 1.57 - stale=0\n"
     ]
    },
    {
     "name": "stderr",
     "output_type": "stream",
     "text": [
      "100%|██████████████████████████████████████████████████████████████████████████████████████████████████| 52/52 [00:16<00:00,  3.16it/s]\n",
      "100%|████████████████████████████████████████████████████████████████████████████████████████████████████| 6/6 [00:01<00:00,  4.17it/s]\n"
     ]
    },
    {
     "name": "stdout",
     "output_type": "stream",
     "text": [
      "Train: tot_loss = 1.57 - Valid: tot_loss = 1.48 - stale=0\n"
     ]
    },
    {
     "name": "stderr",
     "output_type": "stream",
     "text": [
      "100%|██████████████████████████████████████████████████████████████████████████████████████████████████| 52/52 [00:16<00:00,  3.15it/s]\n",
      "100%|████████████████████████████████████████████████████████████████████████████████████████████████████| 6/6 [00:01<00:00,  4.09it/s]\n"
     ]
    },
    {
     "name": "stdout",
     "output_type": "stream",
     "text": [
      "Train: tot_loss = 1.45 - Valid: tot_loss = 1.39 - stale=0\n"
     ]
    },
    {
     "name": "stderr",
     "output_type": "stream",
     "text": [
      "100%|██████████████████████████████████████████████████████████████████████████████████████████████████| 52/52 [00:16<00:00,  3.15it/s]\n",
      "100%|████████████████████████████████████████████████████████████████████████████████████████████████████| 6/6 [00:01<00:00,  4.07it/s]\n"
     ]
    },
    {
     "name": "stdout",
     "output_type": "stream",
     "text": [
      "Train: tot_loss = 1.47 - Valid: tot_loss = 1.48 - stale=0\n"
     ]
    },
    {
     "name": "stderr",
     "output_type": "stream",
     "text": [
      "100%|██████████████████████████████████████████████████████████████████████████████████████████████████| 52/52 [00:16<00:00,  3.16it/s]\n",
      "100%|████████████████████████████████████████████████████████████████████████████████████████████████████| 6/6 [00:01<00:00,  4.11it/s]\n"
     ]
    },
    {
     "name": "stdout",
     "output_type": "stream",
     "text": [
      "Train: tot_loss = 1.47 - Valid: tot_loss = 1.45 - stale=0\n"
     ]
    },
    {
     "name": "stderr",
     "output_type": "stream",
     "text": [
      "100%|██████████████████████████████████████████████████████████████████████████████████████████████████| 52/52 [00:16<00:00,  3.20it/s]\n",
      "100%|████████████████████████████████████████████████████████████████████████████████████████████████████| 6/6 [00:01<00:00,  3.95it/s]\n"
     ]
    },
    {
     "name": "stdout",
     "output_type": "stream",
     "text": [
      "Train: tot_loss = 1.47 - Valid: tot_loss = 1.48 - stale=0\n"
     ]
    },
    {
     "name": "stderr",
     "output_type": "stream",
     "text": [
      "100%|██████████████████████████████████████████████████████████████████████████████████████████████████| 52/52 [00:16<00:00,  3.19it/s]\n",
      "100%|████████████████████████████████████████████████████████████████████████████████████████████████████| 6/6 [00:01<00:00,  3.98it/s]\n"
     ]
    },
    {
     "name": "stdout",
     "output_type": "stream",
     "text": [
      "Train: tot_loss = 1.48 - Valid: tot_loss = 1.43 - stale=0\n"
     ]
    },
    {
     "name": "stderr",
     "output_type": "stream",
     "text": [
      "100%|██████████████████████████████████████████████████████████████████████████████████████████████████| 52/52 [00:16<00:00,  3.20it/s]\n",
      "100%|████████████████████████████████████████████████████████████████████████████████████████████████████| 6/6 [00:01<00:00,  4.08it/s]\n"
     ]
    },
    {
     "name": "stdout",
     "output_type": "stream",
     "text": [
      "Train: tot_loss = 1.48 - Valid: tot_loss = 1.46 - stale=0\n"
     ]
    },
    {
     "name": "stderr",
     "output_type": "stream",
     "text": [
      "100%|██████████████████████████████████████████████████████████████████████████████████████████████████| 52/52 [00:16<00:00,  3.17it/s]\n",
      "100%|████████████████████████████████████████████████████████████████████████████████████████████████████| 6/6 [00:01<00:00,  3.93it/s]\n"
     ]
    },
    {
     "name": "stdout",
     "output_type": "stream",
     "text": [
      "Train: tot_loss = 1.49 - Valid: tot_loss = 1.44 - stale=0\n"
     ]
    },
    {
     "name": "stderr",
     "output_type": "stream",
     "text": [
      "100%|██████████████████████████████████████████████████████████████████████████████████████████████████| 52/52 [00:16<00:00,  3.15it/s]\n",
      "100%|████████████████████████████████████████████████████████████████████████████████████████████████████| 6/6 [00:01<00:00,  4.18it/s]\n"
     ]
    },
    {
     "name": "stdout",
     "output_type": "stream",
     "text": [
      "Train: tot_loss = 1.49 - Valid: tot_loss = 1.43 - stale=0\n"
     ]
    },
    {
     "name": "stderr",
     "output_type": "stream",
     "text": [
      "100%|██████████████████████████████████████████████████████████████████████████████████████████████████| 52/52 [00:16<00:00,  3.12it/s]\n",
      "100%|████████████████████████████████████████████████████████████████████████████████████████████████████| 6/6 [00:01<00:00,  3.82it/s]\n"
     ]
    },
    {
     "name": "stdout",
     "output_type": "stream",
     "text": [
      "Train: tot_loss = 1.49 - Valid: tot_loss = 1.43 - stale=0\n"
     ]
    },
    {
     "name": "stderr",
     "output_type": "stream",
     "text": [
      "100%|██████████████████████████████████████████████████████████████████████████████████████████████████| 52/52 [00:16<00:00,  3.11it/s]\n",
      "100%|████████████████████████████████████████████████████████████████████████████████████████████████████| 6/6 [00:01<00:00,  3.71it/s]\n"
     ]
    },
    {
     "name": "stdout",
     "output_type": "stream",
     "text": [
      "Train: tot_loss = 1.50 - Valid: tot_loss = 1.42 - stale=0\n"
     ]
    },
    {
     "name": "stderr",
     "output_type": "stream",
     "text": [
      "100%|██████████████████████████████████████████████████████████████████████████████████████████████████| 52/52 [00:16<00:00,  3.14it/s]\n",
      "100%|████████████████████████████████████████████████████████████████████████████████████████████████████| 6/6 [00:01<00:00,  3.87it/s]\n"
     ]
    },
    {
     "name": "stdout",
     "output_type": "stream",
     "text": [
      "Train: tot_loss = 1.50 - Valid: tot_loss = 1.39 - stale=0\n"
     ]
    },
    {
     "name": "stderr",
     "output_type": "stream",
     "text": [
      "100%|██████████████████████████████████████████████████████████████████████████████████████████████████| 52/52 [00:16<00:00,  3.11it/s]\n",
      "100%|████████████████████████████████████████████████████████████████████████████████████████████████████| 6/6 [00:01<00:00,  3.88it/s]\n"
     ]
    },
    {
     "name": "stdout",
     "output_type": "stream",
     "text": [
      "Train: tot_loss = 1.50 - Valid: tot_loss = 1.44 - stale=0\n"
     ]
    },
    {
     "name": "stderr",
     "output_type": "stream",
     "text": [
      "100%|██████████████████████████████████████████████████████████████████████████████████████████████████| 52/52 [00:16<00:00,  3.15it/s]\n",
      "100%|████████████████████████████████████████████████████████████████████████████████████████████████████| 6/6 [00:01<00:00,  3.82it/s]\n"
     ]
    },
    {
     "name": "stdout",
     "output_type": "stream",
     "text": [
      "Train: tot_loss = 1.50 - Valid: tot_loss = 1.47 - stale=0\n"
     ]
    },
    {
     "name": "stderr",
     "output_type": "stream",
     "text": [
      "100%|██████████████████████████████████████████████████████████████████████████████████████████████████| 52/52 [00:16<00:00,  3.14it/s]\n",
      "100%|████████████████████████████████████████████████████████████████████████████████████████████████████| 6/6 [00:01<00:00,  3.87it/s]\n"
     ]
    },
    {
     "name": "stdout",
     "output_type": "stream",
     "text": [
      "Train: tot_loss = 1.50 - Valid: tot_loss = 1.51 - stale=0\n"
     ]
    },
    {
     "name": "stderr",
     "output_type": "stream",
     "text": [
      "100%|██████████████████████████████████████████████████████████████████████████████████████████████████| 52/52 [00:16<00:00,  3.15it/s]\n",
      "100%|████████████████████████████████████████████████████████████████████████████████████████████████████| 6/6 [00:01<00:00,  3.94it/s]\n"
     ]
    },
    {
     "name": "stdout",
     "output_type": "stream",
     "text": [
      "Train: tot_loss = 1.50 - Valid: tot_loss = 1.53 - stale=0\n"
     ]
    },
    {
     "name": "stderr",
     "output_type": "stream",
     "text": [
      "100%|██████████████████████████████████████████████████████████████████████████████████████████████████| 52/52 [00:16<00:00,  3.13it/s]\n",
      "100%|████████████████████████████████████████████████████████████████████████████████████████████████████| 6/6 [00:01<00:00,  3.94it/s]\n"
     ]
    },
    {
     "name": "stdout",
     "output_type": "stream",
     "text": [
      "Train: tot_loss = 1.51 - Valid: tot_loss = 1.47 - stale=0\n"
     ]
    },
    {
     "name": "stderr",
     "output_type": "stream",
     "text": [
      "100%|██████████████████████████████████████████████████████████████████████████████████████████████████| 52/52 [00:16<00:00,  3.11it/s]\n",
      "100%|████████████████████████████████████████████████████████████████████████████████████████████████████| 6/6 [00:01<00:00,  4.07it/s]\n"
     ]
    },
    {
     "name": "stdout",
     "output_type": "stream",
     "text": [
      "Train: tot_loss = 1.51 - Valid: tot_loss = 1.50 - stale=0\n"
     ]
    },
    {
     "name": "stderr",
     "output_type": "stream",
     "text": [
      "100%|██████████████████████████████████████████████████████████████████████████████████████████████████| 52/52 [00:16<00:00,  3.12it/s]\n",
      "100%|████████████████████████████████████████████████████████████████████████████████████████████████████| 6/6 [00:01<00:00,  3.89it/s]\n"
     ]
    },
    {
     "name": "stdout",
     "output_type": "stream",
     "text": [
      "Train: tot_loss = 1.50 - Valid: tot_loss = 1.55 - stale=0\n"
     ]
    },
    {
     "name": "stderr",
     "output_type": "stream",
     "text": [
      "100%|██████████████████████████████████████████████████████████████████████████████████████████████████| 52/52 [00:16<00:00,  3.15it/s]\n",
      "100%|████████████████████████████████████████████████████████████████████████████████████████████████████| 6/6 [00:01<00:00,  3.93it/s]\n"
     ]
    },
    {
     "name": "stdout",
     "output_type": "stream",
     "text": [
      "Train: tot_loss = 1.51 - Valid: tot_loss = 1.48 - stale=0\n"
     ]
    },
    {
     "name": "stderr",
     "output_type": "stream",
     "text": [
      "100%|██████████████████████████████████████████████████████████████████████████████████████████████████| 52/52 [00:16<00:00,  3.14it/s]\n",
      "100%|████████████████████████████████████████████████████████████████████████████████████████████████████| 6/6 [00:01<00:00,  3.88it/s]\n"
     ]
    },
    {
     "name": "stdout",
     "output_type": "stream",
     "text": [
      "Train: tot_loss = 1.50 - Valid: tot_loss = 1.44 - stale=0\n"
     ]
    },
    {
     "name": "stderr",
     "output_type": "stream",
     "text": [
      "100%|██████████████████████████████████████████████████████████████████████████████████████████████████| 52/52 [00:16<00:00,  3.12it/s]\n",
      "100%|████████████████████████████████████████████████████████████████████████████████████████████████████| 6/6 [00:01<00:00,  3.96it/s]\n"
     ]
    },
    {
     "name": "stdout",
     "output_type": "stream",
     "text": [
      "Train: tot_loss = 1.50 - Valid: tot_loss = 1.39 - stale=0\n"
     ]
    },
    {
     "name": "stderr",
     "output_type": "stream",
     "text": [
      "100%|██████████████████████████████████████████████████████████████████████████████████████████████████| 52/52 [00:16<00:00,  3.12it/s]\n",
      "100%|████████████████████████████████████████████████████████████████████████████████████████████████████| 6/6 [00:01<00:00,  3.77it/s]\n"
     ]
    },
    {
     "name": "stdout",
     "output_type": "stream",
     "text": [
      "Train: tot_loss = 1.51 - Valid: tot_loss = 1.42 - stale=0\n"
     ]
    },
    {
     "name": "stderr",
     "output_type": "stream",
     "text": [
      "100%|██████████████████████████████████████████████████████████████████████████████████████████████████| 52/52 [00:16<00:00,  3.10it/s]\n",
      "100%|████████████████████████████████████████████████████████████████████████████████████████████████████| 6/6 [00:01<00:00,  4.05it/s]\n"
     ]
    },
    {
     "name": "stdout",
     "output_type": "stream",
     "text": [
      "Train: tot_loss = 1.51 - Valid: tot_loss = 1.42 - stale=0\n"
     ]
    },
    {
     "name": "stderr",
     "output_type": "stream",
     "text": [
      "100%|██████████████████████████████████████████████████████████████████████████████████████████████████| 52/52 [00:16<00:00,  3.11it/s]\n",
      "100%|████████████████████████████████████████████████████████████████████████████████████████████████████| 6/6 [00:01<00:00,  3.76it/s]\n"
     ]
    },
    {
     "name": "stdout",
     "output_type": "stream",
     "text": [
      "Train: tot_loss = 1.52 - Valid: tot_loss = 1.47 - stale=0\n"
     ]
    },
    {
     "name": "stderr",
     "output_type": "stream",
     "text": [
      "100%|██████████████████████████████████████████████████████████████████████████████████████████████████| 52/52 [00:16<00:00,  3.08it/s]\n",
      "100%|████████████████████████████████████████████████████████████████████████████████████████████████████| 6/6 [00:01<00:00,  3.95it/s]\n"
     ]
    },
    {
     "name": "stdout",
     "output_type": "stream",
     "text": [
      "Train: tot_loss = 1.52 - Valid: tot_loss = 1.46 - stale=0\n"
     ]
    },
    {
     "name": "stderr",
     "output_type": "stream",
     "text": [
      "100%|██████████████████████████████████████████████████████████████████████████████████████████████████| 52/52 [00:16<00:00,  3.10it/s]\n",
      "100%|████████████████████████████████████████████████████████████████████████████████████████████████████| 6/6 [00:01<00:00,  3.86it/s]\n"
     ]
    },
    {
     "name": "stdout",
     "output_type": "stream",
     "text": [
      "Train: tot_loss = 1.52 - Valid: tot_loss = 1.43 - stale=0\n"
     ]
    },
    {
     "name": "stderr",
     "output_type": "stream",
     "text": [
      "100%|██████████████████████████████████████████████████████████████████████████████████████████████████| 52/52 [00:16<00:00,  3.14it/s]\n",
      "100%|████████████████████████████████████████████████████████████████████████████████████████████████████| 6/6 [00:01<00:00,  3.91it/s]\n"
     ]
    },
    {
     "name": "stdout",
     "output_type": "stream",
     "text": [
      "Train: tot_loss = 1.52 - Valid: tot_loss = 1.43 - stale=0\n"
     ]
    },
    {
     "name": "stderr",
     "output_type": "stream",
     "text": [
      "100%|██████████████████████████████████████████████████████████████████████████████████████████████████| 52/52 [00:16<00:00,  3.11it/s]\n",
      "100%|████████████████████████████████████████████████████████████████████████████████████████████████████| 6/6 [00:01<00:00,  3.86it/s]\n"
     ]
    },
    {
     "name": "stdout",
     "output_type": "stream",
     "text": [
      "Train: tot_loss = 1.51 - Valid: tot_loss = 1.47 - stale=0\n"
     ]
    },
    {
     "name": "stderr",
     "output_type": "stream",
     "text": [
      "100%|██████████████████████████████████████████████████████████████████████████████████████████████████| 52/52 [00:16<00:00,  3.12it/s]\n",
      "100%|████████████████████████████████████████████████████████████████████████████████████████████████████| 6/6 [00:01<00:00,  3.87it/s]\n"
     ]
    },
    {
     "name": "stdout",
     "output_type": "stream",
     "text": [
      "Train: tot_loss = 1.53 - Valid: tot_loss = 1.48 - stale=0\n"
     ]
    },
    {
     "name": "stderr",
     "output_type": "stream",
     "text": [
      "100%|██████████████████████████████████████████████████████████████████████████████████████████████████| 52/52 [00:16<00:00,  3.12it/s]\n",
      "100%|████████████████████████████████████████████████████████████████████████████████████████████████████| 6/6 [00:01<00:00,  3.97it/s]\n"
     ]
    },
    {
     "name": "stdout",
     "output_type": "stream",
     "text": [
      "Train: tot_loss = 1.53 - Valid: tot_loss = 1.49 - stale=0\n"
     ]
    },
    {
     "name": "stderr",
     "output_type": "stream",
     "text": [
      "100%|██████████████████████████████████████████████████████████████████████████████████████████████████| 52/52 [00:16<00:00,  3.12it/s]\n",
      "100%|████████████████████████████████████████████████████████████████████████████████████████████████████| 6/6 [00:01<00:00,  4.08it/s]\n"
     ]
    },
    {
     "name": "stdout",
     "output_type": "stream",
     "text": [
      "Train: tot_loss = 1.52 - Valid: tot_loss = 1.49 - stale=0\n"
     ]
    },
    {
     "name": "stderr",
     "output_type": "stream",
     "text": [
      "100%|██████████████████████████████████████████████████████████████████████████████████████████████████| 52/52 [00:16<00:00,  3.09it/s]\n",
      "100%|████████████████████████████████████████████████████████████████████████████████████████████████████| 6/6 [00:01<00:00,  3.91it/s]\n"
     ]
    },
    {
     "name": "stdout",
     "output_type": "stream",
     "text": [
      "Train: tot_loss = 1.52 - Valid: tot_loss = 1.51 - stale=0\n"
     ]
    },
    {
     "name": "stderr",
     "output_type": "stream",
     "text": [
      "100%|██████████████████████████████████████████████████████████████████████████████████████████████████| 52/52 [00:16<00:00,  3.14it/s]\n",
      "100%|████████████████████████████████████████████████████████████████████████████████████████████████████| 6/6 [00:01<00:00,  3.85it/s]\n"
     ]
    },
    {
     "name": "stdout",
     "output_type": "stream",
     "text": [
      "Train: tot_loss = 1.52 - Valid: tot_loss = 1.53 - stale=0\n"
     ]
    },
    {
     "name": "stderr",
     "output_type": "stream",
     "text": [
      "100%|██████████████████████████████████████████████████████████████████████████████████████████████████| 52/52 [00:16<00:00,  3.10it/s]\n",
      "100%|████████████████████████████████████████████████████████████████████████████████████████████████████| 6/6 [00:01<00:00,  3.89it/s]\n"
     ]
    },
    {
     "name": "stdout",
     "output_type": "stream",
     "text": [
      "Train: tot_loss = 1.52 - Valid: tot_loss = 1.49 - stale=0\n"
     ]
    },
    {
     "name": "stderr",
     "output_type": "stream",
     "text": [
      "100%|██████████████████████████████████████████████████████████████████████████████████████████████████| 52/52 [00:16<00:00,  3.13it/s]\n",
      "100%|████████████████████████████████████████████████████████████████████████████████████████████████████| 6/6 [00:01<00:00,  4.10it/s]\n"
     ]
    },
    {
     "name": "stdout",
     "output_type": "stream",
     "text": [
      "Train: tot_loss = 1.52 - Valid: tot_loss = 1.53 - stale=0\n"
     ]
    },
    {
     "name": "stderr",
     "output_type": "stream",
     "text": [
      "100%|██████████████████████████████████████████████████████████████████████████████████████████████████| 52/52 [00:16<00:00,  3.13it/s]\n",
      "100%|████████████████████████████████████████████████████████████████████████████████████████████████████| 6/6 [00:01<00:00,  3.89it/s]\n"
     ]
    },
    {
     "name": "stdout",
     "output_type": "stream",
     "text": [
      "Train: tot_loss = 1.51 - Valid: tot_loss = 1.51 - stale=0\n"
     ]
    },
    {
     "name": "stderr",
     "output_type": "stream",
     "text": [
      "100%|██████████████████████████████████████████████████████████████████████████████████████████████████| 52/52 [00:16<00:00,  3.13it/s]\n",
      "100%|████████████████████████████████████████████████████████████████████████████████████████████████████| 6/6 [00:01<00:00,  3.93it/s]\n"
     ]
    },
    {
     "name": "stdout",
     "output_type": "stream",
     "text": [
      "Train: tot_loss = 1.52 - Valid: tot_loss = 1.51 - stale=0\n"
     ]
    },
    {
     "name": "stderr",
     "output_type": "stream",
     "text": [
      "100%|██████████████████████████████████████████████████████████████████████████████████████████████████| 52/52 [00:16<00:00,  3.10it/s]\n",
      "100%|████████████████████████████████████████████████████████████████████████████████████████████████████| 6/6 [00:01<00:00,  3.74it/s]\n"
     ]
    },
    {
     "name": "stdout",
     "output_type": "stream",
     "text": [
      "Train: tot_loss = 1.51 - Valid: tot_loss = 1.51 - stale=0\n"
     ]
    },
    {
     "name": "stderr",
     "output_type": "stream",
     "text": [
      "100%|██████████████████████████████████████████████████████████████████████████████████████████████████| 52/52 [00:16<00:00,  3.14it/s]\n",
      "100%|████████████████████████████████████████████████████████████████████████████████████████████████████| 6/6 [00:01<00:00,  3.95it/s]\n"
     ]
    },
    {
     "name": "stdout",
     "output_type": "stream",
     "text": [
      "Train: tot_loss = 1.52 - Valid: tot_loss = 1.52 - stale=0\n"
     ]
    },
    {
     "name": "stderr",
     "output_type": "stream",
     "text": [
      "100%|██████████████████████████████████████████████████████████████████████████████████████████████████| 52/52 [00:16<00:00,  3.07it/s]\n",
      "100%|████████████████████████████████████████████████████████████████████████████████████████████████████| 6/6 [00:01<00:00,  3.70it/s]\n"
     ]
    },
    {
     "name": "stdout",
     "output_type": "stream",
     "text": [
      "Train: tot_loss = 1.53 - Valid: tot_loss = 1.49 - stale=0\n"
     ]
    },
    {
     "name": "stderr",
     "output_type": "stream",
     "text": [
      "100%|██████████████████████████████████████████████████████████████████████████████████████████████████| 52/52 [00:16<00:00,  3.13it/s]\n",
      "100%|████████████████████████████████████████████████████████████████████████████████████████████████████| 6/6 [00:01<00:00,  4.00it/s]\n"
     ]
    },
    {
     "name": "stdout",
     "output_type": "stream",
     "text": [
      "Train: tot_loss = 1.51 - Valid: tot_loss = 1.48 - stale=0\n"
     ]
    },
    {
     "name": "stderr",
     "output_type": "stream",
     "text": [
      "100%|██████████████████████████████████████████████████████████████████████████████████████████████████| 52/52 [00:16<00:00,  3.14it/s]\n",
      "100%|████████████████████████████████████████████████████████████████████████████████████████████████████| 6/6 [00:01<00:00,  4.03it/s]\n"
     ]
    },
    {
     "name": "stdout",
     "output_type": "stream",
     "text": [
      "Train: tot_loss = 1.53 - Valid: tot_loss = 1.48 - stale=0\n"
     ]
    },
    {
     "name": "stderr",
     "output_type": "stream",
     "text": [
      "100%|██████████████████████████████████████████████████████████████████████████████████████████████████| 52/52 [00:16<00:00,  3.15it/s]\n",
      "100%|████████████████████████████████████████████████████████████████████████████████████████████████████| 6/6 [00:01<00:00,  3.94it/s]\n"
     ]
    },
    {
     "name": "stdout",
     "output_type": "stream",
     "text": [
      "Train: tot_loss = 1.52 - Valid: tot_loss = 1.51 - stale=0\n"
     ]
    },
    {
     "name": "stderr",
     "output_type": "stream",
     "text": [
      "100%|██████████████████████████████████████████████████████████████████████████████████████████████████| 52/52 [00:16<00:00,  3.19it/s]\n",
      "100%|████████████████████████████████████████████████████████████████████████████████████████████████████| 6/6 [00:01<00:00,  3.90it/s]\n"
     ]
    },
    {
     "name": "stdout",
     "output_type": "stream",
     "text": [
      "Train: tot_loss = 1.50 - Valid: tot_loss = 1.52 - stale=0\n"
     ]
    },
    {
     "name": "stderr",
     "output_type": "stream",
     "text": [
      "100%|██████████████████████████████████████████████████████████████████████████████████████████████████| 52/52 [00:16<00:00,  3.10it/s]\n",
      "100%|████████████████████████████████████████████████████████████████████████████████████████████████████| 6/6 [00:01<00:00,  3.80it/s]\n"
     ]
    },
    {
     "name": "stdout",
     "output_type": "stream",
     "text": [
      "Train: tot_loss = 1.52 - Valid: tot_loss = 1.51 - stale=0\n"
     ]
    },
    {
     "name": "stderr",
     "output_type": "stream",
     "text": [
      "100%|██████████████████████████████████████████████████████████████████████████████████████████████████| 52/52 [00:16<00:00,  3.19it/s]\n",
      "100%|████████████████████████████████████████████████████████████████████████████████████████████████████| 6/6 [00:01<00:00,  4.00it/s]\n"
     ]
    },
    {
     "name": "stdout",
     "output_type": "stream",
     "text": [
      "Train: tot_loss = 1.53 - Valid: tot_loss = 1.54 - stale=0\n"
     ]
    },
    {
     "name": "stderr",
     "output_type": "stream",
     "text": [
      "100%|██████████████████████████████████████████████████████████████████████████████████████████████████| 52/52 [00:16<00:00,  3.15it/s]\n",
      "100%|████████████████████████████████████████████████████████████████████████████████████████████████████| 6/6 [00:01<00:00,  4.09it/s]\n"
     ]
    },
    {
     "name": "stdout",
     "output_type": "stream",
     "text": [
      "Train: tot_loss = 1.52 - Valid: tot_loss = 1.51 - stale=0\n"
     ]
    },
    {
     "name": "stderr",
     "output_type": "stream",
     "text": [
      "100%|██████████████████████████████████████████████████████████████████████████████████████████████████| 52/52 [00:16<00:00,  3.17it/s]\n",
      "100%|████████████████████████████████████████████████████████████████████████████████████████████████████| 6/6 [00:01<00:00,  3.89it/s]\n"
     ]
    },
    {
     "name": "stdout",
     "output_type": "stream",
     "text": [
      "Train: tot_loss = 1.53 - Valid: tot_loss = 1.48 - stale=0\n"
     ]
    },
    {
     "name": "stderr",
     "output_type": "stream",
     "text": [
      "100%|██████████████████████████████████████████████████████████████████████████████████████████████████| 52/52 [00:16<00:00,  3.14it/s]\n",
      "100%|████████████████████████████████████████████████████████████████████████████████████████████████████| 6/6 [00:01<00:00,  3.91it/s]\n"
     ]
    },
    {
     "name": "stdout",
     "output_type": "stream",
     "text": [
      "Train: tot_loss = 1.52 - Valid: tot_loss = 1.48 - stale=0\n"
     ]
    },
    {
     "name": "stderr",
     "output_type": "stream",
     "text": [
      "100%|██████████████████████████████████████████████████████████████████████████████████████████████████| 52/52 [00:16<00:00,  3.21it/s]\n",
      "100%|████████████████████████████████████████████████████████████████████████████████████████████████████| 6/6 [00:01<00:00,  4.03it/s]\n"
     ]
    },
    {
     "name": "stdout",
     "output_type": "stream",
     "text": [
      "Train: tot_loss = 1.52 - Valid: tot_loss = 1.55 - stale=0\n"
     ]
    },
    {
     "name": "stderr",
     "output_type": "stream",
     "text": [
      "100%|██████████████████████████████████████████████████████████████████████████████████████████████████| 52/52 [00:16<00:00,  3.10it/s]\n",
      "100%|████████████████████████████████████████████████████████████████████████████████████████████████████| 6/6 [00:01<00:00,  3.93it/s]\n"
     ]
    },
    {
     "name": "stdout",
     "output_type": "stream",
     "text": [
      "Train: tot_loss = 1.50 - Valid: tot_loss = 1.49 - stale=0\n"
     ]
    },
    {
     "name": "stderr",
     "output_type": "stream",
     "text": [
      "100%|██████████████████████████████████████████████████████████████████████████████████████████████████| 52/52 [00:16<00:00,  3.06it/s]\n",
      "100%|████████████████████████████████████████████████████████████████████████████████████████████████████| 6/6 [00:01<00:00,  3.89it/s]\n"
     ]
    },
    {
     "name": "stdout",
     "output_type": "stream",
     "text": [
      "Train: tot_loss = 1.59 - Valid: tot_loss = 1.50 - stale=0\n"
     ]
    },
    {
     "name": "stderr",
     "output_type": "stream",
     "text": [
      "100%|██████████████████████████████████████████████████████████████████████████████████████████████████| 52/52 [00:16<00:00,  3.11it/s]\n",
      "100%|████████████████████████████████████████████████████████████████████████████████████████████████████| 6/6 [00:01<00:00,  3.88it/s]\n"
     ]
    },
    {
     "name": "stdout",
     "output_type": "stream",
     "text": [
      "Train: tot_loss = 1.52 - Valid: tot_loss = 1.51 - stale=0\n"
     ]
    },
    {
     "name": "stderr",
     "output_type": "stream",
     "text": [
      "100%|██████████████████████████████████████████████████████████████████████████████████████████████████| 52/52 [00:16<00:00,  3.17it/s]\n",
      "100%|████████████████████████████████████████████████████████████████████████████████████████████████████| 6/6 [00:01<00:00,  3.99it/s]\n"
     ]
    },
    {
     "name": "stdout",
     "output_type": "stream",
     "text": [
      "Train: tot_loss = 1.52 - Valid: tot_loss = 1.54 - stale=0\n"
     ]
    },
    {
     "name": "stderr",
     "output_type": "stream",
     "text": [
      "100%|██████████████████████████████████████████████████████████████████████████████████████████████████| 52/52 [00:16<00:00,  3.15it/s]\n",
      "100%|████████████████████████████████████████████████████████████████████████████████████████████████████| 6/6 [00:01<00:00,  4.08it/s]\n"
     ]
    },
    {
     "name": "stdout",
     "output_type": "stream",
     "text": [
      "Train: tot_loss = 1.54 - Valid: tot_loss = 1.55 - stale=0\n"
     ]
    },
    {
     "name": "stderr",
     "output_type": "stream",
     "text": [
      "100%|██████████████████████████████████████████████████████████████████████████████████████████████████| 52/52 [00:16<00:00,  3.13it/s]\n",
      "100%|████████████████████████████████████████████████████████████████████████████████████████████████████| 6/6 [00:01<00:00,  3.78it/s]\n"
     ]
    },
    {
     "name": "stdout",
     "output_type": "stream",
     "text": [
      "Train: tot_loss = 1.52 - Valid: tot_loss = 1.51 - stale=0\n"
     ]
    },
    {
     "name": "stderr",
     "output_type": "stream",
     "text": [
      "100%|██████████████████████████████████████████████████████████████████████████████████████████████████| 52/52 [00:16<00:00,  3.18it/s]\n",
      "100%|████████████████████████████████████████████████████████████████████████████████████████████████████| 6/6 [00:01<00:00,  3.98it/s]\n"
     ]
    },
    {
     "name": "stdout",
     "output_type": "stream",
     "text": [
      "Train: tot_loss = 1.52 - Valid: tot_loss = 1.51 - stale=0\n"
     ]
    },
    {
     "name": "stderr",
     "output_type": "stream",
     "text": [
      "100%|██████████████████████████████████████████████████████████████████████████████████████████████████| 52/52 [00:16<00:00,  3.18it/s]\n",
      "100%|████████████████████████████████████████████████████████████████████████████████████████████████████| 6/6 [00:01<00:00,  4.12it/s]\n"
     ]
    },
    {
     "name": "stdout",
     "output_type": "stream",
     "text": [
      "Train: tot_loss = 1.53 - Valid: tot_loss = 1.56 - stale=0\n"
     ]
    },
    {
     "name": "stderr",
     "output_type": "stream",
     "text": [
      "100%|██████████████████████████████████████████████████████████████████████████████████████████████████| 52/52 [00:16<00:00,  3.12it/s]\n",
      "100%|████████████████████████████████████████████████████████████████████████████████████████████████████| 6/6 [00:01<00:00,  3.98it/s]\n"
     ]
    },
    {
     "name": "stdout",
     "output_type": "stream",
     "text": [
      "Train: tot_loss = 1.52 - Valid: tot_loss = 1.53 - stale=0\n"
     ]
    },
    {
     "name": "stderr",
     "output_type": "stream",
     "text": [
      "100%|██████████████████████████████████████████████████████████████████████████████████████████████████| 52/52 [00:16<00:00,  3.11it/s]\n",
      "100%|████████████████████████████████████████████████████████████████████████████████████████████████████| 6/6 [00:01<00:00,  3.91it/s]\n"
     ]
    },
    {
     "name": "stdout",
     "output_type": "stream",
     "text": [
      "Train: tot_loss = 1.52 - Valid: tot_loss = 1.56 - stale=0\n"
     ]
    },
    {
     "name": "stderr",
     "output_type": "stream",
     "text": [
      "100%|██████████████████████████████████████████████████████████████████████████████████████████████████| 52/52 [00:16<00:00,  3.17it/s]\n",
      "100%|████████████████████████████████████████████████████████████████████████████████████████████████████| 6/6 [00:01<00:00,  3.82it/s]\n"
     ]
    },
    {
     "name": "stdout",
     "output_type": "stream",
     "text": [
      "Train: tot_loss = 1.52 - Valid: tot_loss = 1.47 - stale=0\n"
     ]
    },
    {
     "name": "stderr",
     "output_type": "stream",
     "text": [
      "100%|██████████████████████████████████████████████████████████████████████████████████████████████████| 52/52 [00:16<00:00,  3.15it/s]\n",
      "100%|████████████████████████████████████████████████████████████████████████████████████████████████████| 6/6 [00:01<00:00,  3.77it/s]\n"
     ]
    },
    {
     "name": "stdout",
     "output_type": "stream",
     "text": [
      "Train: tot_loss = 1.49 - Valid: tot_loss = 1.57 - stale=0\n"
     ]
    },
    {
     "name": "stderr",
     "output_type": "stream",
     "text": [
      "100%|██████████████████████████████████████████████████████████████████████████████████████████████████| 52/52 [00:16<00:00,  3.11it/s]\n",
      "100%|████████████████████████████████████████████████████████████████████████████████████████████████████| 6/6 [00:01<00:00,  3.92it/s]\n"
     ]
    },
    {
     "name": "stdout",
     "output_type": "stream",
     "text": [
      "Train: tot_loss = 1.51 - Valid: tot_loss = 1.53 - stale=0\n"
     ]
    },
    {
     "name": "stderr",
     "output_type": "stream",
     "text": [
      "100%|██████████████████████████████████████████████████████████████████████████████████████████████████| 52/52 [00:16<00:00,  3.09it/s]\n",
      "100%|████████████████████████████████████████████████████████████████████████████████████████████████████| 6/6 [00:01<00:00,  3.95it/s]\n"
     ]
    },
    {
     "name": "stdout",
     "output_type": "stream",
     "text": [
      "Train: tot_loss = 1.52 - Valid: tot_loss = 1.54 - stale=0\n"
     ]
    },
    {
     "name": "stderr",
     "output_type": "stream",
     "text": [
      "100%|██████████████████████████████████████████████████████████████████████████████████████████████████| 52/52 [00:16<00:00,  3.10it/s]\n",
      "100%|████████████████████████████████████████████████████████████████████████████████████████████████████| 6/6 [00:01<00:00,  3.80it/s]\n"
     ]
    },
    {
     "name": "stdout",
     "output_type": "stream",
     "text": [
      "Train: tot_loss = 1.51 - Valid: tot_loss = 1.55 - stale=0\n"
     ]
    },
    {
     "name": "stderr",
     "output_type": "stream",
     "text": [
      "100%|██████████████████████████████████████████████████████████████████████████████████████████████████| 52/52 [00:16<00:00,  3.08it/s]\n",
      "100%|████████████████████████████████████████████████████████████████████████████████████████████████████| 6/6 [00:01<00:00,  3.80it/s]\n"
     ]
    },
    {
     "name": "stdout",
     "output_type": "stream",
     "text": [
      "Train: tot_loss = 1.51 - Valid: tot_loss = 1.54 - stale=0\n"
     ]
    },
    {
     "name": "stderr",
     "output_type": "stream",
     "text": [
      "100%|██████████████████████████████████████████████████████████████████████████████████████████████████| 52/52 [00:16<00:00,  3.17it/s]\n",
      "100%|████████████████████████████████████████████████████████████████████████████████████████████████████| 6/6 [00:01<00:00,  3.82it/s]\n"
     ]
    },
    {
     "name": "stdout",
     "output_type": "stream",
     "text": [
      "Train: tot_loss = 1.53 - Valid: tot_loss = 1.54 - stale=0\n"
     ]
    },
    {
     "name": "stderr",
     "output_type": "stream",
     "text": [
      "100%|██████████████████████████████████████████████████████████████████████████████████████████████████| 52/52 [00:16<00:00,  3.17it/s]\n",
      "100%|████████████████████████████████████████████████████████████████████████████████████████████████████| 6/6 [00:01<00:00,  3.86it/s]\n"
     ]
    },
    {
     "name": "stdout",
     "output_type": "stream",
     "text": [
      "Train: tot_loss = 1.52 - Valid: tot_loss = 1.52 - stale=0\n"
     ]
    },
    {
     "name": "stderr",
     "output_type": "stream",
     "text": [
      "100%|██████████████████████████████████████████████████████████████████████████████████████████████████| 52/52 [00:16<00:00,  3.14it/s]\n",
      "100%|████████████████████████████████████████████████████████████████████████████████████████████████████| 6/6 [00:01<00:00,  3.98it/s]\n"
     ]
    },
    {
     "name": "stdout",
     "output_type": "stream",
     "text": [
      "Train: tot_loss = 1.52 - Valid: tot_loss = 1.51 - stale=0\n"
     ]
    },
    {
     "name": "stderr",
     "output_type": "stream",
     "text": [
      "100%|██████████████████████████████████████████████████████████████████████████████████████████████████| 52/52 [00:16<00:00,  3.17it/s]\n",
      "100%|████████████████████████████████████████████████████████████████████████████████████████████████████| 6/6 [00:01<00:00,  3.89it/s]\n"
     ]
    },
    {
     "name": "stdout",
     "output_type": "stream",
     "text": [
      "Train: tot_loss = 1.52 - Valid: tot_loss = 1.47 - stale=0\n"
     ]
    },
    {
     "name": "stderr",
     "output_type": "stream",
     "text": [
      "100%|██████████████████████████████████████████████████████████████████████████████████████████████████| 52/52 [00:16<00:00,  3.11it/s]\n",
      "100%|████████████████████████████████████████████████████████████████████████████████████████████████████| 6/6 [00:01<00:00,  4.08it/s]\n"
     ]
    },
    {
     "name": "stdout",
     "output_type": "stream",
     "text": [
      "Train: tot_loss = 1.51 - Valid: tot_loss = 1.51 - stale=0\n"
     ]
    },
    {
     "name": "stderr",
     "output_type": "stream",
     "text": [
      "100%|██████████████████████████████████████████████████████████████████████████████████████████████████| 52/52 [00:16<00:00,  3.12it/s]\n",
      "100%|████████████████████████████████████████████████████████████████████████████████████████████████████| 6/6 [00:01<00:00,  3.93it/s]\n"
     ]
    },
    {
     "name": "stdout",
     "output_type": "stream",
     "text": [
      "Train: tot_loss = 1.52 - Valid: tot_loss = 1.52 - stale=0\n"
     ]
    },
    {
     "name": "stderr",
     "output_type": "stream",
     "text": [
      "100%|██████████████████████████████████████████████████████████████████████████████████████████████████| 52/52 [00:16<00:00,  3.12it/s]\n",
      "100%|████████████████████████████████████████████████████████████████████████████████████████████████████| 6/6 [00:01<00:00,  3.99it/s]\n"
     ]
    },
    {
     "name": "stdout",
     "output_type": "stream",
     "text": [
      "Train: tot_loss = 1.51 - Valid: tot_loss = 1.49 - stale=0\n"
     ]
    },
    {
     "name": "stderr",
     "output_type": "stream",
     "text": [
      "100%|██████████████████████████████████████████████████████████████████████████████████████████████████| 52/52 [00:16<00:00,  3.13it/s]\n",
      "100%|████████████████████████████████████████████████████████████████████████████████████████████████████| 6/6 [00:01<00:00,  3.94it/s]\n"
     ]
    },
    {
     "name": "stdout",
     "output_type": "stream",
     "text": [
      "Train: tot_loss = 1.49 - Valid: tot_loss = 1.48 - stale=0\n"
     ]
    }
   ],
   "source": [
    "mdmm_ = 1\n",
    "\n",
    "n_epochs = 200\n",
    "u = 0.01\n",
    "v = 0.01\n",
    "stale_epochs = 0\n",
    "best_val_loss_tot = 99999999\n",
    "\n",
    "# initialize loss counters\n",
    "t_losses, v_losses = [], []\n",
    "for j in range(n_epochs):\n",
    "    \n",
    "    # train loop\n",
    "    is_train = True\n",
    "    vicreg.train()\n",
    "    loader = train_loader    \n",
    "    losses, var_losses, invar_losses, cross_losses = 0.0, 0.0, 0.0, 0.0\n",
    "    for i, batch in tqdm.tqdm(enumerate(loader), total=len(loader)):\n",
    "\n",
    "        # seperate tracks from clusters\n",
    "        tracks, clusters = distinguish_PFelements(batch.to(device))\n",
    "        # run VICReg\n",
    "        out_tracks, out_clusters = vicreg(tracks, clusters)\n",
    "        \n",
    "        # POOLING\n",
    "        pooled_tracks = global_mean_pool(out_tracks, tracks.batch)\n",
    "        pooled_clusters = global_mean_pool(out_clusters, clusters.batch)\n",
    "\n",
    "        # compute loss & update parameters\n",
    "        if mdmm_:\n",
    "            loss = crit_invar(pooled_tracks, pooled_clusters)\n",
    "            mdmm_return = mdmm_module(loss)            \n",
    "            opt.zero_grad()\n",
    "            mdmm_return.value.backward()\n",
    "            opt.step()\n",
    "            \n",
    "        else:\n",
    "            loss = u * crit_var(pooled_tracks, pooled_clusters) + v * crit_invar(pooled_tracks, pooled_clusters) + crit_cross(pooled_tracks, pooled_clusters)\n",
    "            for param in encoder.parameters():\n",
    "                param.grad = None\n",
    "            for param in decoder.parameters():\n",
    "                param.grad = None\n",
    "            loss.backward()\n",
    "            optimizer.step()            \n",
    "\n",
    "        losses += loss.detach()\n",
    "\n",
    "    t_losses.append(losses.cpu().item() / (len(loader)))\n",
    "\n",
    "    # valid loop\n",
    "    is_train = False\n",
    "    vicreg.eval()\n",
    "    loader = valid_loader\n",
    "    losses = 0.0\n",
    "    for i, batch in tqdm.tqdm(enumerate(loader), total=len(loader)):\n",
    "\n",
    "        # seperate tracks from clusters\n",
    "        tracks, clusters = distinguish_PFelements(batch.to(device))\n",
    "        # run VICReg\n",
    "        out_tracks, out_clusters = vicreg(tracks, clusters)\n",
    "        \n",
    "        # POOLING\n",
    "        pooled_tracks = global_mean_pool(out_tracks, tracks.batch)\n",
    "        pooled_clusters = global_mean_pool(out_clusters, clusters.batch)\n",
    "\n",
    "        # compute loss\n",
    "        if mdmm_:\n",
    "            loss = crit_invar(pooled_tracks, pooled_clusters)         \n",
    "        else:\n",
    "            loss = u * crit_var(pooled_tracks, pooled_clusters) + v * crit_invar(pooled_tracks, pooled_clusters) + crit_cross(pooled_tracks, pooled_clusters)\n",
    "\n",
    "        losses += loss.detach()\n",
    "\n",
    "    v_losses.append(losses.cpu().item() / (len(loader)))   \n",
    "    \n",
    "    if v_losses[j] < best_val_loss_tot:\n",
    "        stale_epochs = 0\n",
    "        best_val_loss_tot = v_losses[j]\n",
    "        torch.save(vicreg.state_dict(), f\"/pfclicvol/vicreg.pth\")\n",
    "    else:\n",
    "        stale_epochs += 1\n",
    "        \n",
    "    print(f\"{j}/{n_epochs} --- Train: tot_loss = {t_losses[j]:.2f} - Valid: tot_loss = {v_losses[j]:.2f} - stale={stale_epochs}\") "
   ]
  },
  {
   "cell_type": "code",
   "execution_count": 53,
   "metadata": {},
   "outputs": [
    {
     "data": {
      "text/plain": [
       "<matplotlib.legend.Legend at 0x7f5b94724940>"
      ]
     },
     "execution_count": 53,
     "metadata": {},
     "output_type": "execute_result"
    },
    {
     "data": {
      "image/png": "[encoded data removed]",
      "text/plain": [
       "<Figure size 400x400 with 1 Axes>"
      ]
     },
     "metadata": {},
     "output_type": "display_data"
    }
   ],
   "source": [
    "%matplotlib inline\n",
    "plt.rcParams.update({\"font.size\": 15})\n",
    "\n",
    "# make total loss plot\n",
    "fig, ax = plt.subplots(figsize=(4,4))\n",
    "\n",
    "result = np.mean(np.array(t_losses).reshape(-1, 2), axis=1)\n",
    "ax.plot(range(len(result)), result, label=\"training ({:.2f})\".format(result.min()))\n",
    "\n",
    "result = np.mean(np.array(v_losses).reshape(-1, 2), axis=1)\n",
    "ax.plot(range(len(result)), result, label=\"valid ({:.2f})\".format(result.min()))\n",
    "\n",
    "ax.set_xlabel(\"Epochs\")\n",
    "ax.set_ylabel(\"Total Loss\")\n",
    "ax.set_yscale(\"log\")\n",
    "ax.legend(title=\"VICReg\", loc=\"best\", title_fontsize=15, fontsize=10)"
   ]
  },
  {
   "cell_type": "code",
   "execution_count": 43,
   "metadata": {},
   "outputs": [],
   "source": [
    "torch.save(vicreg.state_dict(), f\"/pfclicvol/vicreg.pth\")\n",
    "\n",
    "with open(f\"/pfclicvol/vicreg_decoder_model_kwargs.pkl\", \"wb\") as f:  # dump model architecture\n",
    "    pkl.dump(decoder_model_kwargs, f, protocol=pkl.HIGHEST_PROTOCOL)\n",
    "    \n",
    "with open(f\"/pfclicvol/vicreg_encoder_model_kwargs.pkl\", \"wb\") as f:  # dump model architecture\n",
    "    pkl.dump(encoder_model_kwargs, f, protocol=pkl.HIGHEST_PROTOCOL)    "
   ]
  },
  {
   "cell_type": "code",
   "execution_count": 57,
   "metadata": {},
   "outputs": [
    {
     "data": {
      "text/plain": [
       "DataBatch(x=[13641, 14], ygen=[13641, 5], ygen_id=[13641], ycand=[13641, 5], ycand_id=[13641], batch=[13641])"
      ]
     },
     "execution_count": 57,
     "metadata": {},
     "output_type": "execute_result"
    }
   ],
   "source": [
    "tracks"
   ]
  },
  {
   "cell_type": "code",
   "execution_count": 59,
   "metadata": {},
   "outputs": [
    {
     "data": {
      "text/plain": [
       "ENCODER(\n",
       "  (nn1): Sequential(\n",
       "    (0): Linear(in_features=14, out_features=256, bias=True)\n",
       "    (1): ELU(alpha=1.0)\n",
       "    (2): Linear(in_features=256, out_features=256, bias=True)\n",
       "    (3): ELU(alpha=1.0)\n",
       "    (4): Linear(in_features=256, out_features=256, bias=True)\n",
       "    (5): ELU(alpha=1.0)\n",
       "    (6): Linear(in_features=256, out_features=256, bias=True)\n",
       "  )\n",
       "  (nn2): Sequential(\n",
       "    (0): Linear(in_features=15, out_features=256, bias=True)\n",
       "    (1): ELU(alpha=1.0)\n",
       "    (2): Linear(in_features=256, out_features=256, bias=True)\n",
       "    (3): ELU(alpha=1.0)\n",
       "    (4): Linear(in_features=256, out_features=256, bias=True)\n",
       "    (5): ELU(alpha=1.0)\n",
       "    (6): Linear(in_features=256, out_features=256, bias=True)\n",
       "  )\n",
       "  (conv): ModuleList(\n",
       "    (0): GravNetConv(256, 256, k=32)\n",
       "    (1): GravNetConv(256, 256, k=32)\n",
       "    (2): GravNetConv(256, 256, k=32)\n",
       "  )\n",
       ")"
      ]
     },
     "execution_count": 59,
     "metadata": {},
     "output_type": "execute_result"
    }
   ],
   "source": [
    "vicreg.encoder"
   ]
  },
  {
   "cell_type": "code",
   "execution_count": null,
   "metadata": {},
   "outputs": [],
   "source": []
  },
  {
   "cell_type": "code",
   "execution_count": 45,
   "metadata": {},
   "outputs": [],
   "source": []
  },
  {
   "cell_type": "code",
   "execution_count": null,
   "metadata": {},
   "outputs": [],
   "source": []
  },
  {
   "cell_type": "code",
   "execution_count": 183,
   "metadata": {},
   "outputs": [
    {
     "data": {
      "text/plain": [
       "Text(0, 0.5, 'Covariance Loss')"
      ]
     },
     "execution_count": 183,
     "metadata": {},
     "output_type": "execute_result"
    },
    {
     "data": {
      "image/png": "[encoded data removed]",
      "text/plain": [
       "<Figure size 720x720 with 4 Axes>"
      ]
     },
     "metadata": {
      "needs_background": "light"
     },
     "output_type": "display_data"
    }
   ],
   "source": [
    "%matplotlib inline\n",
    "plt.rcParams.update({\"font.size\": 15})\n",
    "\n",
    "# make total loss plot\n",
    "result = np.mean(tot_loss[:500].reshape(-1, 10), axis=1)\n",
    "fig, ax = plt.subplots(2,2, figsize=(10,10))\n",
    "ax[0,0].plot(range(len(result)), result, label=\"training ({:.2f})\".format(result.min()))\n",
    "ax[0,0].set_xlabel(\"Epochs\")\n",
    "ax[0,0].set_ylabel(\"Total Loss\")\n",
    "ax[0,0].set_yscale(\"log\")\n",
    "# ax[0,0].legend(title=\"VICReg\", loc=\"best\", title_fontsize=15, fontsize=10)\n",
    "\n",
    "# make variance loss plot\n",
    "result = np.mean(np.array(var_losses[:500]).reshape(-1, 10), axis=1)\n",
    "ax[1,0].plot(range(len(result)), result, label=\"training ({:.2f})\".format(result.min()))\n",
    "ax[1,0].set_xlabel(\"Epochs\")\n",
    "ax[1,0].set_ylabel(\"Variance Loss\")\n",
    "ax[1,0].set_yscale(\"log\")\n",
    "# ax[1,0].legend(title=\"VICReg\", loc=\"best\", title_fontsize=15, fontsize=10)\n",
    "\n",
    "# make invariance loss plot\n",
    "result = np.mean(np.array(invar_losses[:500]).reshape(-1, 10), axis=1)\n",
    "ax[0,1].plot(range(len(result)), result, label=\"training ({:.2f})\".format(np.array(result).min()))\n",
    "ax[0,1].set_xlabel(\"Epochs\")\n",
    "ax[0,1].set_ylabel(\"Invariance Loss\")\n",
    "# ax[0,1].legend(title=\"VICReg\", loc=\"best\", title_fontsize=15, fontsize=10)\n",
    "\n",
    "# make covariance loss plot\n",
    "result = np.mean(np.array(cross_losses[:500]).reshape(-1, 10), axis=1)\n",
    "ax[1,1].plot(range(len(result)), result, label=\"training ({:.2f})\".format(np.array(result).min()))\n",
    "ax[1,1].set_xlabel(\"Epochs\")\n",
    "ax[1,1].set_ylabel(\"Covariance Loss\")\n",
    "# ax[1,1].legend(title=\"VICReg\", loc=\"best\", title_fontsize=15, fontsize=10)"
   ]
  },
  {
   "cell_type": "code",
   "execution_count": null,
   "metadata": {},
   "outputs": [],
   "source": []
  },
  {
   "cell_type": "code",
   "execution_count": null,
   "metadata": {},
   "outputs": [],
   "source": []
  }
 ],
 "metadata": {
  "kernelspec": {
   "display_name": "Python 3 (ipykernel)",
   "language": "python",
   "name": "python3"
  },
  "language_info": {
   "codemirror_mode": {
    "name": "ipython",
    "version": 3
   },
   "file_extension": ".py",
   "mimetype": "text/x-python",
   "name": "python",
   "nbconvert_exporter": "python",
   "pygments_lexer": "ipython3",
   "version": "3.10.6"
  }
 },
 "nbformat": 4,
 "nbformat_minor": 4
}
