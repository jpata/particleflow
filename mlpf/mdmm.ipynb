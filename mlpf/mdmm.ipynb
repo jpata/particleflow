{
 "cells": [
  {
   "cell_type": "code",
   "execution_count": 26,
   "metadata": {},
   "outputs": [
    {
     "name": "stdout",
     "output_type": "stream",
     "text": [
      "Will use NVIDIA GeForce GTX 1080 Ti\n"
     ]
    }
   ],
   "source": [
    "import datetime\n",
    "import os.path as osp\n",
    "import platform\n",
    "import pickle as pkl\n",
    "\n",
    "import matplotlib\n",
    "import matplotlib.pyplot as plt\n",
    "import mplhep\n",
    "import numpy as np\n",
    "import torch\n",
    "from torch import nn\n",
    "import torch.nn.functional as F\n",
    "import torch_geometric\n",
    "from torch_geometric.nn import global_mean_pool\n",
    "\n",
    "from pyg_ssl.args import parse_args\n",
    "from pyg_ssl.mlpf import MLPF\n",
    "from pyg_ssl.training_mlpf import training_loop_mlpf\n",
    "from pyg_ssl.training_VICReg import training_loop_VICReg\n",
    "from pyg_ssl.utils import CLUSTERS_X, TRACKS_X, data_split, load_VICReg, save_MLPF, save_VICReg, distinguish_PFelements, combine_PFelements\n",
    "from pyg_ssl.VICReg import DECODER, ENCODER\n",
    "\n",
    "import tqdm\n",
    "matplotlib.use(\"Agg\")\n",
    "mplhep.style.use(mplhep.styles.CMS)\n",
    "\n",
    "# Ignore divide by 0 errors\n",
    "np.seterr(divide=\"ignore\", invalid=\"ignore\")\n",
    "\n",
    "# define the global base device\n",
    "if torch.cuda.device_count():\n",
    "    device = torch.device(\"cuda:0\")\n",
    "    print(f\"Will use {torch.cuda.get_device_name(device)}\")\n",
    "else:\n",
    "    device = \"cpu\"\n",
    "    print(\"Will use cpu\")"
   ]
  },
  {
   "cell_type": "code",
   "execution_count": 27,
   "metadata": {},
   "outputs": [
    {
     "name": "stdout",
     "output_type": "stream",
     "text": [
      "Will use data split mode `quick`\n",
      "Will use 25843 events to train VICReg\n",
      "Will use 2871 events to validate VICReg\n",
      "Will use 6461 events to train MLPF\n",
      "Will use 718 events to validate MLPF\n"
     ]
    }
   ],
   "source": [
    "# load the clic dataset\n",
    "data_VICReg_train, data_VICReg_valid, data_mlpf_train, data_mlpf_valid, data_test_qcd, data_test_ttbar = data_split(\n",
    "    \"/pfclicvol/data/clic_edm4hep\", \"quick\"\n",
    ")"
   ]
  },
  {
   "cell_type": "code",
   "execution_count": 28,
   "metadata": {},
   "outputs": [],
   "source": [
    "embedding_dim_VICReg = 256\n",
    "width_encoder = 256 \n",
    "num_convs = 3\n",
    "expand_dim = 256\n",
    "width_decoder = 256\n",
    "\n",
    "encoder_model_kwargs = {\n",
    "    \"embedding_dim\": embedding_dim_VICReg,\n",
    "    \"width\": width_encoder,\n",
    "    \"num_convs\": num_convs,\n",
    "    \"space_dim\": 4,\n",
    "    \"propagate_dim\": 22,\n",
    "    \"k\": 32,\n",
    "}\n",
    "\n",
    "decoder_model_kwargs = {\n",
    "    \"input_dim\": embedding_dim_VICReg,\n",
    "    \"output_dim\": expand_dim,\n",
    "    \"width\": width_decoder,\n",
    "}\n",
    "\n",
    "encoder = ENCODER(**encoder_model_kwargs).to(device)\n",
    "decoder = DECODER(**decoder_model_kwargs).to(device)"
   ]
  },
  {
   "cell_type": "code",
   "execution_count": 29,
   "metadata": {},
   "outputs": [],
   "source": [
    "class VICReg(torch.nn.Module):\n",
    "    def __init__(self, encoder, decoder):\n",
    "        super(VICReg, self).__init__()\n",
    "        self.encoder = encoder\n",
    "        self.decoder = decoder\n",
    "        \n",
    "    def forward(self, tracks, clusters):\n",
    "\n",
    "        ### encode\n",
    "        embedding_tracks, embedding_clusters = self.encoder(tracks, clusters)\n",
    "        \n",
    "        ### decode\n",
    "        out_tracks, out_clusters = self.decoder(embedding_tracks, embedding_clusters)\n",
    "\n",
    "        return out_tracks, out_clusters"
   ]
  },
  {
   "cell_type": "code",
   "execution_count": 30,
   "metadata": {},
   "outputs": [
    {
     "data": {
      "text/plain": [
       "VICReg(\n",
       "  (encoder): ENCODER(\n",
       "    (nn1): Sequential(\n",
       "      (0): Linear(in_features=14, out_features=256, bias=True)\n",
       "      (1): ELU(alpha=1.0)\n",
       "      (2): Linear(in_features=256, out_features=256, bias=True)\n",
       "      (3): ELU(alpha=1.0)\n",
       "      (4): Linear(in_features=256, out_features=256, bias=True)\n",
       "      (5): ELU(alpha=1.0)\n",
       "      (6): Linear(in_features=256, out_features=256, bias=True)\n",
       "    )\n",
       "    (nn2): Sequential(\n",
       "      (0): Linear(in_features=15, out_features=256, bias=True)\n",
       "      (1): ELU(alpha=1.0)\n",
       "      (2): Linear(in_features=256, out_features=256, bias=True)\n",
       "      (3): ELU(alpha=1.0)\n",
       "      (4): Linear(in_features=256, out_features=256, bias=True)\n",
       "      (5): ELU(alpha=1.0)\n",
       "      (6): Linear(in_features=256, out_features=256, bias=True)\n",
       "    )\n",
       "    (conv): ModuleList(\n",
       "      (0): GravNetConv(256, 256, k=32)\n",
       "      (1): GravNetConv(256, 256, k=32)\n",
       "      (2): GravNetConv(256, 256, k=32)\n",
       "    )\n",
       "  )\n",
       "  (decoder): DECODER(\n",
       "    (expander): Sequential(\n",
       "      (0): Linear(in_features=256, out_features=256, bias=True)\n",
       "      (1): ELU(alpha=1.0)\n",
       "      (2): Linear(in_features=256, out_features=256, bias=True)\n",
       "      (3): ELU(alpha=1.0)\n",
       "      (4): Linear(in_features=256, out_features=256, bias=True)\n",
       "      (5): ELU(alpha=1.0)\n",
       "      (6): Linear(in_features=256, out_features=256, bias=True)\n",
       "    )\n",
       "  )\n",
       ")"
      ]
     },
     "execution_count": 30,
     "metadata": {},
     "output_type": "execute_result"
    }
   ],
   "source": [
    "vicreg = VICReg(encoder, decoder)\n",
    "vicreg"
   ]
  },
  {
   "cell_type": "code",
   "execution_count": 31,
   "metadata": {},
   "outputs": [],
   "source": [
    "batch_size_VICReg = 500\n",
    "train_loader = torch_geometric.loader.DataLoader(data_VICReg_train, batch_size_VICReg)\n",
    "valid_loader = torch_geometric.loader.DataLoader(data_VICReg_valid, batch_size_VICReg)"
   ]
  },
  {
   "cell_type": "code",
   "execution_count": 32,
   "metadata": {},
   "outputs": [],
   "source": [
    "for batch in train_loader:\n",
    "    # make transformation\n",
    "    tracks, clusters = distinguish_PFelements(batch.to(device))\n",
    "\n",
    "    # run through VICReg\n",
    "    out_tracks, out_clusters = vicreg(tracks, clusters)\n",
    "\n",
    "    # POOLING\n",
    "    pooled_tracks = global_mean_pool(out_tracks, tracks.batch)\n",
    "    pooled_clusters = global_mean_pool(out_clusters, clusters.batch)\n",
    "    break"
   ]
  },
  {
   "cell_type": "code",
   "execution_count": 33,
   "metadata": {},
   "outputs": [
    {
     "data": {
      "text/plain": [
       "tensor(67.6493, device='cuda:0', grad_fn=<MseLossBackward0>)"
      ]
     },
     "execution_count": 33,
     "metadata": {},
     "output_type": "execute_result"
    }
   ],
   "source": [
    "F.mse_loss(pooled_tracks, pooled_clusters)"
   ]
  },
  {
   "cell_type": "code",
   "execution_count": 34,
   "metadata": {},
   "outputs": [],
   "source": [
    "class invar_loss(nn.Module):\n",
    "\n",
    "    def __init__(self):\n",
    "        super(invar_loss, self).__init__()\n",
    "\n",
    "    def forward(self, x, y):\n",
    "        return F.mse_loss(x, y)\n",
    "    \n",
    "class var_loss(nn.Module):\n",
    "\n",
    "    def __init__(self):\n",
    "        super(var_loss, self).__init__()\n",
    "\n",
    "    def forward(self, x, y, epsilon=1e-3):\n",
    "        std_x = torch.sqrt(x.var(dim=0) + epsilon)\n",
    "        std_y = torch.sqrt(y.var(dim=0) + epsilon)\n",
    "        var_loss = torch.mean(F.relu(1 - std_x)) + torch.mean(F.relu(1 - std_y))\n",
    "        \n",
    "        return var_loss    \n",
    "    \n",
    "class cross_loss(nn.Module):\n",
    "\n",
    "    def __init__(self):\n",
    "        super(cross_loss, self).__init__()\n",
    "\n",
    "    def forward(self, x, y, lmbd=0.01):\n",
    "        bs = x.size(0)\n",
    "        emb = x.size(1)\n",
    "\n",
    "        xNorm = (x - x.mean(0)) / x.std(0)\n",
    "        yNorm = (y - y.mean(0)) / y.std(0)\n",
    "\n",
    "        crossCorMat = (xNorm.T @ yNorm) / bs\n",
    "        cross_loss = (crossCorMat * lmbd - torch.eye(emb, device=torch.device(device)) * lmbd).pow(2).sum()\n",
    "\n",
    "        return cross_loss"
   ]
  },
  {
   "cell_type": "code",
   "execution_count": 35,
   "metadata": {},
   "outputs": [],
   "source": [
    "crit_invar = invar_loss()\n",
    "crit_var = var_loss()\n",
    "crit_cross = cross_loss()"
   ]
  },
  {
   "cell_type": "code",
   "execution_count": 36,
   "metadata": {},
   "outputs": [
    {
     "name": "stdout",
     "output_type": "stream",
     "text": [
      "invar_loss = 67.64934539794922\n",
      "var_loss   = 0.9483171701431274\n",
      "cross_loss = 0.029010634869337082\n"
     ]
    }
   ],
   "source": [
    "print(f\"invar_loss = {crit_invar(pooled_tracks, pooled_clusters)}\")\n",
    "print(f\"var_loss   = {crit_var(pooled_tracks, pooled_clusters)}\")\n",
    "print(f\"cross_loss = {crit_cross(pooled_tracks, pooled_clusters)}\")"
   ]
  },
  {
   "cell_type": "code",
   "execution_count": 37,
   "metadata": {},
   "outputs": [],
   "source": [
    "crit_invar = invar_loss()\n",
    "crit_var = var_loss()\n",
    "crit_cross = cross_loss()\n",
    "\n",
    "import mdmm\n",
    "max_ = 0.1\n",
    "\n",
    "constraints = []\n",
    "constraints.append(mdmm.MaxConstraint(lambda: crit_var(pooled_tracks, pooled_clusters), max_))\n",
    "constraints.append(mdmm.MaxConstraint(lambda: crit_cross(pooled_tracks, pooled_clusters), max_))"
   ]
  },
  {
   "cell_type": "markdown",
   "metadata": {},
   "source": [
    "# Train"
   ]
  },
  {
   "cell_type": "code",
   "execution_count": 42,
   "metadata": {},
   "outputs": [],
   "source": [
    "encoder = ENCODER(**encoder_model_kwargs).to(device)\n",
    "decoder = DECODER(**decoder_model_kwargs).to(device)\n",
    "vicreg = VICReg(encoder, decoder)\n",
    "\n",
    "mdmm_module = mdmm.MDMM(constraints)\n",
    "opt = mdmm_module.make_optimizer(vicreg.parameters(), lr=2e-3)\n",
    "\n",
    "optimizer = torch.optim.SGD(list(vicreg.parameters()), lr=2e-3)"
   ]
  },
  {
   "cell_type": "code",
   "execution_count": 43,
   "metadata": {},
   "outputs": [
    {
     "name": "stderr",
     "output_type": "stream",
     "text": [
      "100%|██████████████████████████████████████████████████████████████████████████████████████████████████| 52/52 [00:16<00:00,  3.19it/s]\n",
      "100%|████████████████████████████████████████████████████████████████████████████████████████████████████| 6/6 [00:01<00:00,  4.03it/s]\n"
     ]
    },
    {
     "name": "stdout",
     "output_type": "stream",
     "text": [
      "0/200 --- Train: tot_loss = 1.19 - Valid: tot_loss = 0.08 - stale=0\n"
     ]
    },
    {
     "name": "stderr",
     "output_type": "stream",
     "text": [
      "100%|██████████████████████████████████████████████████████████████████████████████████████████████████| 52/52 [00:16<00:00,  3.17it/s]\n",
      "100%|████████████████████████████████████████████████████████████████████████████████████████████████████| 6/6 [00:01<00:00,  4.01it/s]\n"
     ]
    },
    {
     "name": "stdout",
     "output_type": "stream",
     "text": [
      "1/200 --- Train: tot_loss = 0.08 - Valid: tot_loss = 0.07 - stale=0\n"
     ]
    },
    {
     "name": "stderr",
     "output_type": "stream",
     "text": [
      "100%|██████████████████████████████████████████████████████████████████████████████████████████████████| 52/52 [00:16<00:00,  3.17it/s]\n",
      "100%|████████████████████████████████████████████████████████████████████████████████████████████████████| 6/6 [00:01<00:00,  4.08it/s]\n"
     ]
    },
    {
     "name": "stdout",
     "output_type": "stream",
     "text": [
      "2/200 --- Train: tot_loss = 0.07 - Valid: tot_loss = 0.06 - stale=0\n"
     ]
    },
    {
     "name": "stderr",
     "output_type": "stream",
     "text": [
      "100%|██████████████████████████████████████████████████████████████████████████████████████████████████| 52/52 [00:16<00:00,  3.17it/s]\n",
      "100%|████████████████████████████████████████████████████████████████████████████████████████████████████| 6/6 [00:01<00:00,  4.04it/s]\n"
     ]
    },
    {
     "name": "stdout",
     "output_type": "stream",
     "text": [
      "3/200 --- Train: tot_loss = 0.07 - Valid: tot_loss = 0.06 - stale=0\n"
     ]
    },
    {
     "name": "stderr",
     "output_type": "stream",
     "text": [
      "100%|██████████████████████████████████████████████████████████████████████████████████████████████████| 52/52 [00:16<00:00,  3.17it/s]\n",
      "100%|████████████████████████████████████████████████████████████████████████████████████████████████████| 6/6 [00:01<00:00,  4.04it/s]\n"
     ]
    },
    {
     "name": "stdout",
     "output_type": "stream",
     "text": [
      "4/200 --- Train: tot_loss = 0.06 - Valid: tot_loss = 0.06 - stale=0\n"
     ]
    },
    {
     "name": "stderr",
     "output_type": "stream",
     "text": [
      "100%|██████████████████████████████████████████████████████████████████████████████████████████████████| 52/52 [00:16<00:00,  3.16it/s]\n",
      "100%|████████████████████████████████████████████████████████████████████████████████████████████████████| 6/6 [00:01<00:00,  4.05it/s]\n"
     ]
    },
    {
     "name": "stdout",
     "output_type": "stream",
     "text": [
      "5/200 --- Train: tot_loss = 0.06 - Valid: tot_loss = 0.06 - stale=0\n"
     ]
    },
    {
     "name": "stderr",
     "output_type": "stream",
     "text": [
      "100%|██████████████████████████████████████████████████████████████████████████████████████████████████| 52/52 [00:16<00:00,  3.17it/s]\n",
      "100%|████████████████████████████████████████████████████████████████████████████████████████████████████| 6/6 [00:01<00:00,  4.03it/s]\n"
     ]
    },
    {
     "name": "stdout",
     "output_type": "stream",
     "text": [
      "6/200 --- Train: tot_loss = 0.06 - Valid: tot_loss = 0.06 - stale=1\n"
     ]
    },
    {
     "name": "stderr",
     "output_type": "stream",
     "text": [
      "100%|██████████████████████████████████████████████████████████████████████████████████████████████████| 52/52 [00:16<00:00,  3.17it/s]\n",
      "100%|████████████████████████████████████████████████████████████████████████████████████████████████████| 6/6 [00:01<00:00,  4.03it/s]\n"
     ]
    },
    {
     "name": "stdout",
     "output_type": "stream",
     "text": [
      "7/200 --- Train: tot_loss = 0.06 - Valid: tot_loss = 0.06 - stale=0\n"
     ]
    },
    {
     "name": "stderr",
     "output_type": "stream",
     "text": [
      "100%|██████████████████████████████████████████████████████████████████████████████████████████████████| 52/52 [00:16<00:00,  3.16it/s]\n",
      "100%|████████████████████████████████████████████████████████████████████████████████████████████████████| 6/6 [00:01<00:00,  3.97it/s]\n"
     ]
    },
    {
     "name": "stdout",
     "output_type": "stream",
     "text": [
      "8/200 --- Train: tot_loss = 0.06 - Valid: tot_loss = 0.06 - stale=0\n"
     ]
    },
    {
     "name": "stderr",
     "output_type": "stream",
     "text": [
      "100%|██████████████████████████████████████████████████████████████████████████████████████████████████| 52/52 [00:16<00:00,  3.16it/s]\n",
      "100%|████████████████████████████████████████████████████████████████████████████████████████████████████| 6/6 [00:01<00:00,  4.07it/s]\n"
     ]
    },
    {
     "name": "stdout",
     "output_type": "stream",
     "text": [
      "9/200 --- Train: tot_loss = 0.06 - Valid: tot_loss = 0.06 - stale=0\n"
     ]
    },
    {
     "name": "stderr",
     "output_type": "stream",
     "text": [
      "100%|██████████████████████████████████████████████████████████████████████████████████████████████████| 52/52 [00:16<00:00,  3.16it/s]\n",
      "100%|████████████████████████████████████████████████████████████████████████████████████████████████████| 6/6 [00:01<00:00,  4.04it/s]\n"
     ]
    },
    {
     "name": "stdout",
     "output_type": "stream",
     "text": [
      "10/200 --- Train: tot_loss = 0.06 - Valid: tot_loss = 0.06 - stale=1\n"
     ]
    },
    {
     "name": "stderr",
     "output_type": "stream",
     "text": [
      "100%|██████████████████████████████████████████████████████████████████████████████████████████████████| 52/52 [00:16<00:00,  3.16it/s]\n",
      "100%|████████████████████████████████████████████████████████████████████████████████████████████████████| 6/6 [00:01<00:00,  4.08it/s]\n"
     ]
    },
    {
     "name": "stdout",
     "output_type": "stream",
     "text": [
      "11/200 --- Train: tot_loss = 0.06 - Valid: tot_loss = 0.06 - stale=0\n"
     ]
    },
    {
     "name": "stderr",
     "output_type": "stream",
     "text": [
      "100%|██████████████████████████████████████████████████████████████████████████████████████████████████| 52/52 [00:16<00:00,  3.17it/s]\n",
      "100%|████████████████████████████████████████████████████████████████████████████████████████████████████| 6/6 [00:01<00:00,  4.01it/s]\n"
     ]
    },
    {
     "name": "stdout",
     "output_type": "stream",
     "text": [
      "12/200 --- Train: tot_loss = 0.06 - Valid: tot_loss = 0.06 - stale=1\n"
     ]
    },
    {
     "name": "stderr",
     "output_type": "stream",
     "text": [
      "100%|██████████████████████████████████████████████████████████████████████████████████████████████████| 52/52 [00:16<00:00,  3.16it/s]\n",
      "100%|████████████████████████████████████████████████████████████████████████████████████████████████████| 6/6 [00:01<00:00,  4.04it/s]\n"
     ]
    },
    {
     "name": "stdout",
     "output_type": "stream",
     "text": [
      "13/200 --- Train: tot_loss = 0.06 - Valid: tot_loss = 0.06 - stale=2\n"
     ]
    },
    {
     "name": "stderr",
     "output_type": "stream",
     "text": [
      "100%|██████████████████████████████████████████████████████████████████████████████████████████████████| 52/52 [00:16<00:00,  3.16it/s]\n",
      "100%|████████████████████████████████████████████████████████████████████████████████████████████████████| 6/6 [00:01<00:00,  4.03it/s]\n"
     ]
    },
    {
     "name": "stdout",
     "output_type": "stream",
     "text": [
      "14/200 --- Train: tot_loss = 0.06 - Valid: tot_loss = 0.06 - stale=0\n"
     ]
    },
    {
     "name": "stderr",
     "output_type": "stream",
     "text": [
      "100%|██████████████████████████████████████████████████████████████████████████████████████████████████| 52/52 [00:16<00:00,  3.16it/s]\n",
      "100%|████████████████████████████████████████████████████████████████████████████████████████████████████| 6/6 [00:01<00:00,  3.97it/s]\n"
     ]
    },
    {
     "name": "stdout",
     "output_type": "stream",
     "text": [
      "15/200 --- Train: tot_loss = 0.06 - Valid: tot_loss = 0.06 - stale=0\n"
     ]
    },
    {
     "name": "stderr",
     "output_type": "stream",
     "text": [
      "100%|██████████████████████████████████████████████████████████████████████████████████████████████████| 52/52 [00:16<00:00,  3.16it/s]\n",
      "100%|████████████████████████████████████████████████████████████████████████████████████████████████████| 6/6 [00:01<00:00,  4.09it/s]\n"
     ]
    },
    {
     "name": "stdout",
     "output_type": "stream",
     "text": [
      "16/200 --- Train: tot_loss = 0.06 - Valid: tot_loss = 0.06 - stale=0\n"
     ]
    },
    {
     "name": "stderr",
     "output_type": "stream",
     "text": [
      "100%|██████████████████████████████████████████████████████████████████████████████████████████████████| 52/52 [00:16<00:00,  3.16it/s]\n",
      "100%|████████████████████████████████████████████████████████████████████████████████████████████████████| 6/6 [00:01<00:00,  3.99it/s]\n"
     ]
    },
    {
     "name": "stdout",
     "output_type": "stream",
     "text": [
      "17/200 --- Train: tot_loss = 0.06 - Valid: tot_loss = 0.06 - stale=0\n"
     ]
    },
    {
     "name": "stderr",
     "output_type": "stream",
     "text": [
      "100%|██████████████████████████████████████████████████████████████████████████████████████████████████| 52/52 [00:16<00:00,  3.16it/s]\n",
      "100%|████████████████████████████████████████████████████████████████████████████████████████████████████| 6/6 [00:01<00:00,  4.00it/s]\n"
     ]
    },
    {
     "name": "stdout",
     "output_type": "stream",
     "text": [
      "18/200 --- Train: tot_loss = 0.06 - Valid: tot_loss = 0.06 - stale=0\n"
     ]
    },
    {
     "name": "stderr",
     "output_type": "stream",
     "text": [
      "100%|██████████████████████████████████████████████████████████████████████████████████████████████████| 52/52 [00:16<00:00,  3.16it/s]\n",
      "100%|████████████████████████████████████████████████████████████████████████████████████████████████████| 6/6 [00:01<00:00,  4.05it/s]\n"
     ]
    },
    {
     "name": "stdout",
     "output_type": "stream",
     "text": [
      "19/200 --- Train: tot_loss = 0.06 - Valid: tot_loss = 0.06 - stale=1\n"
     ]
    },
    {
     "name": "stderr",
     "output_type": "stream",
     "text": [
      "100%|██████████████████████████████████████████████████████████████████████████████████████████████████| 52/52 [00:16<00:00,  3.16it/s]\n",
      "100%|████████████████████████████████████████████████████████████████████████████████████████████████████| 6/6 [00:01<00:00,  4.10it/s]\n"
     ]
    },
    {
     "name": "stdout",
     "output_type": "stream",
     "text": [
      "20/200 --- Train: tot_loss = 0.06 - Valid: tot_loss = 0.06 - stale=0\n"
     ]
    },
    {
     "name": "stderr",
     "output_type": "stream",
     "text": [
      "100%|██████████████████████████████████████████████████████████████████████████████████████████████████| 52/52 [00:16<00:00,  3.16it/s]\n",
      "100%|████████████████████████████████████████████████████████████████████████████████████████████████████| 6/6 [00:01<00:00,  4.05it/s]\n"
     ]
    },
    {
     "name": "stdout",
     "output_type": "stream",
     "text": [
      "21/200 --- Train: tot_loss = 0.06 - Valid: tot_loss = 0.06 - stale=0\n"
     ]
    },
    {
     "name": "stderr",
     "output_type": "stream",
     "text": [
      "100%|██████████████████████████████████████████████████████████████████████████████████████████████████| 52/52 [00:16<00:00,  3.15it/s]\n",
      "100%|████████████████████████████████████████████████████████████████████████████████████████████████████| 6/6 [00:01<00:00,  3.98it/s]\n"
     ]
    },
    {
     "name": "stdout",
     "output_type": "stream",
     "text": [
      "22/200 --- Train: tot_loss = 0.06 - Valid: tot_loss = 0.06 - stale=0\n"
     ]
    },
    {
     "name": "stderr",
     "output_type": "stream",
     "text": [
      "100%|██████████████████████████████████████████████████████████████████████████████████████████████████| 52/52 [00:16<00:00,  3.16it/s]\n",
      "100%|████████████████████████████████████████████████████████████████████████████████████████████████████| 6/6 [00:01<00:00,  3.93it/s]\n"
     ]
    },
    {
     "name": "stdout",
     "output_type": "stream",
     "text": [
      "23/200 --- Train: tot_loss = 0.06 - Valid: tot_loss = 0.06 - stale=1\n"
     ]
    },
    {
     "name": "stderr",
     "output_type": "stream",
     "text": [
      "100%|██████████████████████████████████████████████████████████████████████████████████████████████████| 52/52 [00:16<00:00,  3.17it/s]\n",
      "100%|████████████████████████████████████████████████████████████████████████████████████████████████████| 6/6 [00:01<00:00,  4.11it/s]\n"
     ]
    },
    {
     "name": "stdout",
     "output_type": "stream",
     "text": [
      "24/200 --- Train: tot_loss = 0.06 - Valid: tot_loss = 0.06 - stale=2\n"
     ]
    },
    {
     "name": "stderr",
     "output_type": "stream",
     "text": [
      "100%|██████████████████████████████████████████████████████████████████████████████████████████████████| 52/52 [00:16<00:00,  3.16it/s]\n",
      "100%|████████████████████████████████████████████████████████████████████████████████████████████████████| 6/6 [00:01<00:00,  3.96it/s]\n"
     ]
    },
    {
     "name": "stdout",
     "output_type": "stream",
     "text": [
      "25/200 --- Train: tot_loss = 0.06 - Valid: tot_loss = 0.06 - stale=3\n"
     ]
    },
    {
     "name": "stderr",
     "output_type": "stream",
     "text": [
      "100%|██████████████████████████████████████████████████████████████████████████████████████████████████| 52/52 [00:16<00:00,  3.17it/s]\n",
      "100%|████████████████████████████████████████████████████████████████████████████████████████████████████| 6/6 [00:01<00:00,  4.09it/s]\n"
     ]
    },
    {
     "name": "stdout",
     "output_type": "stream",
     "text": [
      "26/200 --- Train: tot_loss = 0.06 - Valid: tot_loss = 0.06 - stale=0\n"
     ]
    },
    {
     "name": "stderr",
     "output_type": "stream",
     "text": [
      "100%|██████████████████████████████████████████████████████████████████████████████████████████████████| 52/52 [00:16<00:00,  3.16it/s]\n",
      "100%|████████████████████████████████████████████████████████████████████████████████████████████████████| 6/6 [00:01<00:00,  3.94it/s]\n"
     ]
    },
    {
     "name": "stdout",
     "output_type": "stream",
     "text": [
      "27/200 --- Train: tot_loss = 0.06 - Valid: tot_loss = 0.06 - stale=0\n"
     ]
    },
    {
     "name": "stderr",
     "output_type": "stream",
     "text": [
      "100%|██████████████████████████████████████████████████████████████████████████████████████████████████| 52/52 [00:16<00:00,  3.15it/s]\n",
      "100%|████████████████████████████████████████████████████████████████████████████████████████████████████| 6/6 [00:01<00:00,  3.95it/s]\n"
     ]
    },
    {
     "name": "stdout",
     "output_type": "stream",
     "text": [
      "28/200 --- Train: tot_loss = 0.06 - Valid: tot_loss = 0.06 - stale=0\n"
     ]
    },
    {
     "name": "stderr",
     "output_type": "stream",
     "text": [
      "100%|██████████████████████████████████████████████████████████████████████████████████████████████████| 52/52 [00:16<00:00,  3.15it/s]\n",
      "100%|████████████████████████████████████████████████████████████████████████████████████████████████████| 6/6 [00:01<00:00,  3.96it/s]\n"
     ]
    },
    {
     "name": "stdout",
     "output_type": "stream",
     "text": [
      "29/200 --- Train: tot_loss = 0.06 - Valid: tot_loss = 0.06 - stale=1\n"
     ]
    },
    {
     "name": "stderr",
     "output_type": "stream",
     "text": [
      "100%|██████████████████████████████████████████████████████████████████████████████████████████████████| 52/52 [00:16<00:00,  3.16it/s]\n",
      "100%|████████████████████████████████████████████████████████████████████████████████████████████████████| 6/6 [00:01<00:00,  3.97it/s]\n"
     ]
    },
    {
     "name": "stdout",
     "output_type": "stream",
     "text": [
      "30/200 --- Train: tot_loss = 0.06 - Valid: tot_loss = 0.06 - stale=2\n"
     ]
    },
    {
     "name": "stderr",
     "output_type": "stream",
     "text": [
      "100%|██████████████████████████████████████████████████████████████████████████████████████████████████| 52/52 [00:16<00:00,  3.16it/s]\n",
      "100%|████████████████████████████████████████████████████████████████████████████████████████████████████| 6/6 [00:01<00:00,  4.09it/s]\n"
     ]
    },
    {
     "name": "stdout",
     "output_type": "stream",
     "text": [
      "31/200 --- Train: tot_loss = 0.06 - Valid: tot_loss = 0.06 - stale=3\n"
     ]
    },
    {
     "name": "stderr",
     "output_type": "stream",
     "text": [
      "100%|██████████████████████████████████████████████████████████████████████████████████████████████████| 52/52 [00:16<00:00,  3.16it/s]\n",
      "100%|████████████████████████████████████████████████████████████████████████████████████████████████████| 6/6 [00:01<00:00,  4.07it/s]\n"
     ]
    },
    {
     "name": "stdout",
     "output_type": "stream",
     "text": [
      "32/200 --- Train: tot_loss = 0.06 - Valid: tot_loss = 0.06 - stale=4\n"
     ]
    },
    {
     "name": "stderr",
     "output_type": "stream",
     "text": [
      "100%|██████████████████████████████████████████████████████████████████████████████████████████████████| 52/52 [00:16<00:00,  3.16it/s]\n",
      "100%|████████████████████████████████████████████████████████████████████████████████████████████████████| 6/6 [00:01<00:00,  4.03it/s]\n"
     ]
    },
    {
     "name": "stdout",
     "output_type": "stream",
     "text": [
      "33/200 --- Train: tot_loss = 0.06 - Valid: tot_loss = 0.06 - stale=0\n"
     ]
    },
    {
     "name": "stderr",
     "output_type": "stream",
     "text": [
      "100%|██████████████████████████████████████████████████████████████████████████████████████████████████| 52/52 [00:16<00:00,  3.16it/s]\n",
      "100%|████████████████████████████████████████████████████████████████████████████████████████████████████| 6/6 [00:01<00:00,  4.08it/s]\n"
     ]
    },
    {
     "name": "stdout",
     "output_type": "stream",
     "text": [
      "34/200 --- Train: tot_loss = 0.05 - Valid: tot_loss = 0.06 - stale=1\n"
     ]
    },
    {
     "name": "stderr",
     "output_type": "stream",
     "text": [
      "100%|██████████████████████████████████████████████████████████████████████████████████████████████████| 52/52 [00:16<00:00,  3.16it/s]\n",
      "100%|████████████████████████████████████████████████████████████████████████████████████████████████████| 6/6 [00:01<00:00,  4.05it/s]\n"
     ]
    },
    {
     "name": "stdout",
     "output_type": "stream",
     "text": [
      "35/200 --- Train: tot_loss = 0.05 - Valid: tot_loss = 0.06 - stale=2\n"
     ]
    },
    {
     "name": "stderr",
     "output_type": "stream",
     "text": [
      "100%|██████████████████████████████████████████████████████████████████████████████████████████████████| 52/52 [00:16<00:00,  3.16it/s]\n",
      "100%|████████████████████████████████████████████████████████████████████████████████████████████████████| 6/6 [00:01<00:00,  3.99it/s]\n"
     ]
    },
    {
     "name": "stdout",
     "output_type": "stream",
     "text": [
      "36/200 --- Train: tot_loss = 0.05 - Valid: tot_loss = 0.06 - stale=0\n"
     ]
    },
    {
     "name": "stderr",
     "output_type": "stream",
     "text": [
      "100%|██████████████████████████████████████████████████████████████████████████████████████████████████| 52/52 [00:16<00:00,  3.16it/s]\n",
      "100%|████████████████████████████████████████████████████████████████████████████████████████████████████| 6/6 [00:01<00:00,  4.01it/s]\n"
     ]
    },
    {
     "name": "stdout",
     "output_type": "stream",
     "text": [
      "37/200 --- Train: tot_loss = 0.06 - Valid: tot_loss = 0.06 - stale=0\n"
     ]
    },
    {
     "name": "stderr",
     "output_type": "stream",
     "text": [
      "100%|██████████████████████████████████████████████████████████████████████████████████████████████████| 52/52 [00:16<00:00,  3.16it/s]\n",
      "100%|████████████████████████████████████████████████████████████████████████████████████████████████████| 6/6 [00:01<00:00,  4.08it/s]\n"
     ]
    },
    {
     "name": "stdout",
     "output_type": "stream",
     "text": [
      "38/200 --- Train: tot_loss = 0.06 - Valid: tot_loss = 0.06 - stale=1\n"
     ]
    },
    {
     "name": "stderr",
     "output_type": "stream",
     "text": [
      "100%|██████████████████████████████████████████████████████████████████████████████████████████████████| 52/52 [00:16<00:00,  3.16it/s]\n",
      "100%|████████████████████████████████████████████████████████████████████████████████████████████████████| 6/6 [00:01<00:00,  3.99it/s]\n"
     ]
    },
    {
     "name": "stdout",
     "output_type": "stream",
     "text": [
      "39/200 --- Train: tot_loss = 0.06 - Valid: tot_loss = 0.06 - stale=2\n"
     ]
    },
    {
     "name": "stderr",
     "output_type": "stream",
     "text": [
      "100%|██████████████████████████████████████████████████████████████████████████████████████████████████| 52/52 [00:16<00:00,  3.16it/s]\n",
      "100%|████████████████████████████████████████████████████████████████████████████████████████████████████| 6/6 [00:01<00:00,  4.06it/s]\n"
     ]
    },
    {
     "name": "stdout",
     "output_type": "stream",
     "text": [
      "40/200 --- Train: tot_loss = 0.05 - Valid: tot_loss = 0.06 - stale=3\n"
     ]
    },
    {
     "name": "stderr",
     "output_type": "stream",
     "text": [
      "100%|██████████████████████████████████████████████████████████████████████████████████████████████████| 52/52 [00:16<00:00,  3.16it/s]\n",
      "100%|████████████████████████████████████████████████████████████████████████████████████████████████████| 6/6 [00:01<00:00,  4.00it/s]\n"
     ]
    },
    {
     "name": "stdout",
     "output_type": "stream",
     "text": [
      "41/200 --- Train: tot_loss = 0.05 - Valid: tot_loss = 0.06 - stale=0\n"
     ]
    },
    {
     "name": "stderr",
     "output_type": "stream",
     "text": [
      "100%|██████████████████████████████████████████████████████████████████████████████████████████████████| 52/52 [00:16<00:00,  3.16it/s]\n",
      "100%|████████████████████████████████████████████████████████████████████████████████████████████████████| 6/6 [00:01<00:00,  4.04it/s]\n"
     ]
    },
    {
     "name": "stdout",
     "output_type": "stream",
     "text": [
      "42/200 --- Train: tot_loss = 0.05 - Valid: tot_loss = 0.06 - stale=1\n"
     ]
    },
    {
     "name": "stderr",
     "output_type": "stream",
     "text": [
      "100%|██████████████████████████████████████████████████████████████████████████████████████████████████| 52/52 [00:16<00:00,  3.16it/s]\n",
      "100%|████████████████████████████████████████████████████████████████████████████████████████████████████| 6/6 [00:01<00:00,  4.05it/s]\n"
     ]
    },
    {
     "name": "stdout",
     "output_type": "stream",
     "text": [
      "43/200 --- Train: tot_loss = 0.05 - Valid: tot_loss = 0.06 - stale=2\n"
     ]
    },
    {
     "name": "stderr",
     "output_type": "stream",
     "text": [
      "100%|██████████████████████████████████████████████████████████████████████████████████████████████████| 52/52 [00:16<00:00,  3.16it/s]\n",
      "100%|████████████████████████████████████████████████████████████████████████████████████████████████████| 6/6 [00:01<00:00,  4.05it/s]\n"
     ]
    },
    {
     "name": "stdout",
     "output_type": "stream",
     "text": [
      "44/200 --- Train: tot_loss = 0.05 - Valid: tot_loss = 0.06 - stale=3\n"
     ]
    },
    {
     "name": "stderr",
     "output_type": "stream",
     "text": [
      "100%|██████████████████████████████████████████████████████████████████████████████████████████████████| 52/52 [00:16<00:00,  3.16it/s]\n",
      "100%|████████████████████████████████████████████████████████████████████████████████████████████████████| 6/6 [00:01<00:00,  4.02it/s]\n"
     ]
    },
    {
     "name": "stdout",
     "output_type": "stream",
     "text": [
      "45/200 --- Train: tot_loss = 0.05 - Valid: tot_loss = 0.06 - stale=4\n"
     ]
    },
    {
     "name": "stderr",
     "output_type": "stream",
     "text": [
      "100%|██████████████████████████████████████████████████████████████████████████████████████████████████| 52/52 [00:16<00:00,  3.16it/s]\n",
      "100%|████████████████████████████████████████████████████████████████████████████████████████████████████| 6/6 [00:01<00:00,  4.06it/s]\n"
     ]
    },
    {
     "name": "stdout",
     "output_type": "stream",
     "text": [
      "46/200 --- Train: tot_loss = 0.05 - Valid: tot_loss = 0.06 - stale=0\n"
     ]
    },
    {
     "name": "stderr",
     "output_type": "stream",
     "text": [
      "100%|██████████████████████████████████████████████████████████████████████████████████████████████████| 52/52 [00:16<00:00,  3.15it/s]\n",
      "100%|████████████████████████████████████████████████████████████████████████████████████████████████████| 6/6 [00:01<00:00,  3.99it/s]\n"
     ]
    },
    {
     "name": "stdout",
     "output_type": "stream",
     "text": [
      "47/200 --- Train: tot_loss = 0.05 - Valid: tot_loss = 0.06 - stale=1\n"
     ]
    },
    {
     "name": "stderr",
     "output_type": "stream",
     "text": [
      "100%|██████████████████████████████████████████████████████████████████████████████████████████████████| 52/52 [00:16<00:00,  3.16it/s]\n",
      "100%|████████████████████████████████████████████████████████████████████████████████████████████████████| 6/6 [00:01<00:00,  4.06it/s]\n"
     ]
    },
    {
     "name": "stdout",
     "output_type": "stream",
     "text": [
      "48/200 --- Train: tot_loss = 0.05 - Valid: tot_loss = 0.06 - stale=2\n"
     ]
    },
    {
     "name": "stderr",
     "output_type": "stream",
     "text": [
      "100%|██████████████████████████████████████████████████████████████████████████████████████████████████| 52/52 [00:16<00:00,  3.15it/s]\n",
      "100%|████████████████████████████████████████████████████████████████████████████████████████████████████| 6/6 [00:01<00:00,  4.00it/s]\n"
     ]
    },
    {
     "name": "stdout",
     "output_type": "stream",
     "text": [
      "49/200 --- Train: tot_loss = 0.05 - Valid: tot_loss = 0.06 - stale=0\n"
     ]
    },
    {
     "name": "stderr",
     "output_type": "stream",
     "text": [
      "100%|██████████████████████████████████████████████████████████████████████████████████████████████████| 52/52 [00:16<00:00,  3.15it/s]\n",
      "100%|████████████████████████████████████████████████████████████████████████████████████████████████████| 6/6 [00:01<00:00,  4.03it/s]\n"
     ]
    },
    {
     "name": "stdout",
     "output_type": "stream",
     "text": [
      "50/200 --- Train: tot_loss = 0.05 - Valid: tot_loss = 0.06 - stale=0\n"
     ]
    },
    {
     "name": "stderr",
     "output_type": "stream",
     "text": [
      "100%|██████████████████████████████████████████████████████████████████████████████████████████████████| 52/52 [00:16<00:00,  3.15it/s]\n",
      "100%|████████████████████████████████████████████████████████████████████████████████████████████████████| 6/6 [00:01<00:00,  4.02it/s]\n"
     ]
    },
    {
     "name": "stdout",
     "output_type": "stream",
     "text": [
      "51/200 --- Train: tot_loss = 0.05 - Valid: tot_loss = 0.06 - stale=1\n"
     ]
    },
    {
     "name": "stderr",
     "output_type": "stream",
     "text": [
      "100%|██████████████████████████████████████████████████████████████████████████████████████████████████| 52/52 [00:16<00:00,  3.16it/s]\n",
      "100%|████████████████████████████████████████████████████████████████████████████████████████████████████| 6/6 [00:01<00:00,  4.05it/s]\n"
     ]
    },
    {
     "name": "stdout",
     "output_type": "stream",
     "text": [
      "52/200 --- Train: tot_loss = 0.05 - Valid: tot_loss = 0.06 - stale=2\n"
     ]
    },
    {
     "name": "stderr",
     "output_type": "stream",
     "text": [
      "100%|██████████████████████████████████████████████████████████████████████████████████████████████████| 52/52 [00:16<00:00,  3.16it/s]\n",
      "100%|████████████████████████████████████████████████████████████████████████████████████████████████████| 6/6 [00:01<00:00,  4.05it/s]\n"
     ]
    },
    {
     "name": "stdout",
     "output_type": "stream",
     "text": [
      "53/200 --- Train: tot_loss = 0.05 - Valid: tot_loss = 0.06 - stale=0\n"
     ]
    },
    {
     "name": "stderr",
     "output_type": "stream",
     "text": [
      "100%|██████████████████████████████████████████████████████████████████████████████████████████████████| 52/52 [00:16<00:00,  3.16it/s]\n",
      "100%|████████████████████████████████████████████████████████████████████████████████████████████████████| 6/6 [00:01<00:00,  4.05it/s]\n"
     ]
    },
    {
     "name": "stdout",
     "output_type": "stream",
     "text": [
      "54/200 --- Train: tot_loss = 0.05 - Valid: tot_loss = 0.06 - stale=0\n"
     ]
    },
    {
     "name": "stderr",
     "output_type": "stream",
     "text": [
      "100%|██████████████████████████████████████████████████████████████████████████████████████████████████| 52/52 [00:16<00:00,  3.16it/s]\n",
      "100%|████████████████████████████████████████████████████████████████████████████████████████████████████| 6/6 [00:01<00:00,  3.94it/s]\n"
     ]
    },
    {
     "name": "stdout",
     "output_type": "stream",
     "text": [
      "55/200 --- Train: tot_loss = 0.05 - Valid: tot_loss = 0.06 - stale=1\n"
     ]
    },
    {
     "name": "stderr",
     "output_type": "stream",
     "text": [
      "100%|██████████████████████████████████████████████████████████████████████████████████████████████████| 52/52 [00:16<00:00,  3.15it/s]\n",
      "100%|████████████████████████████████████████████████████████████████████████████████████████████████████| 6/6 [00:01<00:00,  3.98it/s]\n"
     ]
    },
    {
     "name": "stdout",
     "output_type": "stream",
     "text": [
      "56/200 --- Train: tot_loss = 0.05 - Valid: tot_loss = 0.06 - stale=2\n"
     ]
    },
    {
     "name": "stderr",
     "output_type": "stream",
     "text": [
      "100%|██████████████████████████████████████████████████████████████████████████████████████████████████| 52/52 [00:16<00:00,  3.16it/s]\n",
      "100%|████████████████████████████████████████████████████████████████████████████████████████████████████| 6/6 [00:01<00:00,  4.05it/s]\n"
     ]
    },
    {
     "name": "stdout",
     "output_type": "stream",
     "text": [
      "57/200 --- Train: tot_loss = 0.05 - Valid: tot_loss = 0.06 - stale=0\n"
     ]
    },
    {
     "name": "stderr",
     "output_type": "stream",
     "text": [
      "100%|██████████████████████████████████████████████████████████████████████████████████████████████████| 52/52 [00:16<00:00,  3.15it/s]\n",
      "100%|████████████████████████████████████████████████████████████████████████████████████████████████████| 6/6 [00:01<00:00,  3.98it/s]\n"
     ]
    },
    {
     "name": "stdout",
     "output_type": "stream",
     "text": [
      "58/200 --- Train: tot_loss = 0.05 - Valid: tot_loss = 0.06 - stale=0\n"
     ]
    },
    {
     "name": "stderr",
     "output_type": "stream",
     "text": [
      "100%|██████████████████████████████████████████████████████████████████████████████████████████████████| 52/52 [00:16<00:00,  3.15it/s]\n",
      "100%|████████████████████████████████████████████████████████████████████████████████████████████████████| 6/6 [00:01<00:00,  3.99it/s]\n"
     ]
    },
    {
     "name": "stdout",
     "output_type": "stream",
     "text": [
      "59/200 --- Train: tot_loss = 0.05 - Valid: tot_loss = 0.06 - stale=0\n"
     ]
    },
    {
     "name": "stderr",
     "output_type": "stream",
     "text": [
      "100%|██████████████████████████████████████████████████████████████████████████████████████████████████| 52/52 [00:16<00:00,  3.14it/s]\n",
      "100%|████████████████████████████████████████████████████████████████████████████████████████████████████| 6/6 [00:01<00:00,  3.98it/s]\n"
     ]
    },
    {
     "name": "stdout",
     "output_type": "stream",
     "text": [
      "60/200 --- Train: tot_loss = 0.05 - Valid: tot_loss = 0.06 - stale=0\n"
     ]
    },
    {
     "name": "stderr",
     "output_type": "stream",
     "text": [
      "100%|██████████████████████████████████████████████████████████████████████████████████████████████████| 52/52 [00:16<00:00,  3.15it/s]\n",
      "100%|████████████████████████████████████████████████████████████████████████████████████████████████████| 6/6 [00:01<00:00,  4.07it/s]\n"
     ]
    },
    {
     "name": "stdout",
     "output_type": "stream",
     "text": [
      "61/200 --- Train: tot_loss = 0.05 - Valid: tot_loss = 0.06 - stale=0\n"
     ]
    },
    {
     "name": "stderr",
     "output_type": "stream",
     "text": [
      "100%|██████████████████████████████████████████████████████████████████████████████████████████████████| 52/52 [00:16<00:00,  3.16it/s]\n",
      "100%|████████████████████████████████████████████████████████████████████████████████████████████████████| 6/6 [00:01<00:00,  4.05it/s]\n"
     ]
    },
    {
     "name": "stdout",
     "output_type": "stream",
     "text": [
      "62/200 --- Train: tot_loss = 0.05 - Valid: tot_loss = 0.06 - stale=1\n"
     ]
    },
    {
     "name": "stderr",
     "output_type": "stream",
     "text": [
      "100%|██████████████████████████████████████████████████████████████████████████████████████████████████| 52/52 [00:16<00:00,  3.16it/s]\n",
      "100%|████████████████████████████████████████████████████████████████████████████████████████████████████| 6/6 [00:01<00:00,  3.98it/s]\n"
     ]
    },
    {
     "name": "stdout",
     "output_type": "stream",
     "text": [
      "63/200 --- Train: tot_loss = 0.05 - Valid: tot_loss = 0.06 - stale=2\n"
     ]
    },
    {
     "name": "stderr",
     "output_type": "stream",
     "text": [
      "100%|██████████████████████████████████████████████████████████████████████████████████████████████████| 52/52 [00:16<00:00,  3.16it/s]\n",
      "100%|████████████████████████████████████████████████████████████████████████████████████████████████████| 6/6 [00:01<00:00,  4.04it/s]\n"
     ]
    },
    {
     "name": "stdout",
     "output_type": "stream",
     "text": [
      "64/200 --- Train: tot_loss = 0.05 - Valid: tot_loss = 0.06 - stale=3\n"
     ]
    },
    {
     "name": "stderr",
     "output_type": "stream",
     "text": [
      "100%|██████████████████████████████████████████████████████████████████████████████████████████████████| 52/52 [00:16<00:00,  3.15it/s]\n",
      "100%|████████████████████████████████████████████████████████████████████████████████████████████████████| 6/6 [00:01<00:00,  4.03it/s]\n"
     ]
    },
    {
     "name": "stdout",
     "output_type": "stream",
     "text": [
      "65/200 --- Train: tot_loss = 0.05 - Valid: tot_loss = 0.06 - stale=4\n"
     ]
    },
    {
     "name": "stderr",
     "output_type": "stream",
     "text": [
      "100%|██████████████████████████████████████████████████████████████████████████████████████████████████| 52/52 [00:16<00:00,  3.16it/s]\n",
      "100%|████████████████████████████████████████████████████████████████████████████████████████████████████| 6/6 [00:01<00:00,  4.03it/s]\n"
     ]
    },
    {
     "name": "stdout",
     "output_type": "stream",
     "text": [
      "66/200 --- Train: tot_loss = 0.05 - Valid: tot_loss = 0.06 - stale=5\n"
     ]
    },
    {
     "name": "stderr",
     "output_type": "stream",
     "text": [
      "100%|██████████████████████████████████████████████████████████████████████████████████████████████████| 52/52 [00:16<00:00,  3.16it/s]\n",
      "100%|████████████████████████████████████████████████████████████████████████████████████████████████████| 6/6 [00:01<00:00,  4.00it/s]\n"
     ]
    },
    {
     "name": "stdout",
     "output_type": "stream",
     "text": [
      "67/200 --- Train: tot_loss = 0.05 - Valid: tot_loss = 0.06 - stale=0\n"
     ]
    },
    {
     "name": "stderr",
     "output_type": "stream",
     "text": [
      "100%|██████████████████████████████████████████████████████████████████████████████████████████████████| 52/52 [00:16<00:00,  3.16it/s]\n",
      "100%|████████████████████████████████████████████████████████████████████████████████████████████████████| 6/6 [00:01<00:00,  4.03it/s]\n"
     ]
    },
    {
     "name": "stdout",
     "output_type": "stream",
     "text": [
      "68/200 --- Train: tot_loss = 0.05 - Valid: tot_loss = 0.06 - stale=1\n"
     ]
    },
    {
     "name": "stderr",
     "output_type": "stream",
     "text": [
      "100%|██████████████████████████████████████████████████████████████████████████████████████████████████| 52/52 [00:16<00:00,  3.16it/s]\n",
      "100%|████████████████████████████████████████████████████████████████████████████████████████████████████| 6/6 [00:01<00:00,  4.00it/s]\n"
     ]
    },
    {
     "name": "stdout",
     "output_type": "stream",
     "text": [
      "69/200 --- Train: tot_loss = 0.05 - Valid: tot_loss = 0.06 - stale=2\n"
     ]
    },
    {
     "name": "stderr",
     "output_type": "stream",
     "text": [
      "100%|██████████████████████████████████████████████████████████████████████████████████████████████████| 52/52 [00:16<00:00,  3.16it/s]\n",
      "100%|████████████████████████████████████████████████████████████████████████████████████████████████████| 6/6 [00:01<00:00,  4.07it/s]\n"
     ]
    },
    {
     "name": "stdout",
     "output_type": "stream",
     "text": [
      "70/200 --- Train: tot_loss = 0.05 - Valid: tot_loss = 0.06 - stale=3\n"
     ]
    },
    {
     "name": "stderr",
     "output_type": "stream",
     "text": [
      "100%|██████████████████████████████████████████████████████████████████████████████████████████████████| 52/52 [00:16<00:00,  3.16it/s]\n",
      "100%|████████████████████████████████████████████████████████████████████████████████████████████████████| 6/6 [00:01<00:00,  4.00it/s]\n"
     ]
    },
    {
     "name": "stdout",
     "output_type": "stream",
     "text": [
      "71/200 --- Train: tot_loss = 0.05 - Valid: tot_loss = 0.06 - stale=4\n"
     ]
    },
    {
     "name": "stderr",
     "output_type": "stream",
     "text": [
      "100%|██████████████████████████████████████████████████████████████████████████████████████████████████| 52/52 [00:16<00:00,  3.16it/s]\n",
      "100%|████████████████████████████████████████████████████████████████████████████████████████████████████| 6/6 [00:01<00:00,  4.04it/s]\n"
     ]
    },
    {
     "name": "stdout",
     "output_type": "stream",
     "text": [
      "72/200 --- Train: tot_loss = 0.05 - Valid: tot_loss = 0.06 - stale=0\n"
     ]
    },
    {
     "name": "stderr",
     "output_type": "stream",
     "text": [
      "100%|██████████████████████████████████████████████████████████████████████████████████████████████████| 52/52 [00:16<00:00,  3.16it/s]\n",
      "100%|████████████████████████████████████████████████████████████████████████████████████████████████████| 6/6 [00:01<00:00,  4.06it/s]\n"
     ]
    },
    {
     "name": "stdout",
     "output_type": "stream",
     "text": [
      "73/200 --- Train: tot_loss = 0.05 - Valid: tot_loss = 0.06 - stale=0\n"
     ]
    },
    {
     "name": "stderr",
     "output_type": "stream",
     "text": [
      "100%|██████████████████████████████████████████████████████████████████████████████████████████████████| 52/52 [00:16<00:00,  3.16it/s]\n",
      "100%|████████████████████████████████████████████████████████████████████████████████████████████████████| 6/6 [00:01<00:00,  4.08it/s]\n"
     ]
    },
    {
     "name": "stdout",
     "output_type": "stream",
     "text": [
      "74/200 --- Train: tot_loss = 0.05 - Valid: tot_loss = 0.06 - stale=0\n"
     ]
    },
    {
     "name": "stderr",
     "output_type": "stream",
     "text": [
      "100%|██████████████████████████████████████████████████████████████████████████████████████████████████| 52/52 [00:16<00:00,  3.15it/s]\n",
      "100%|████████████████████████████████████████████████████████████████████████████████████████████████████| 6/6 [00:01<00:00,  4.07it/s]\n"
     ]
    },
    {
     "name": "stdout",
     "output_type": "stream",
     "text": [
      "75/200 --- Train: tot_loss = 0.05 - Valid: tot_loss = 0.06 - stale=0\n"
     ]
    },
    {
     "name": "stderr",
     "output_type": "stream",
     "text": [
      "100%|██████████████████████████████████████████████████████████████████████████████████████████████████| 52/52 [00:16<00:00,  3.16it/s]\n",
      "100%|████████████████████████████████████████████████████████████████████████████████████████████████████| 6/6 [00:01<00:00,  4.07it/s]\n"
     ]
    },
    {
     "name": "stdout",
     "output_type": "stream",
     "text": [
      "76/200 --- Train: tot_loss = 0.05 - Valid: tot_loss = 0.06 - stale=1\n"
     ]
    },
    {
     "name": "stderr",
     "output_type": "stream",
     "text": [
      "100%|██████████████████████████████████████████████████████████████████████████████████████████████████| 52/52 [00:16<00:00,  3.15it/s]\n",
      "100%|████████████████████████████████████████████████████████████████████████████████████████████████████| 6/6 [00:01<00:00,  4.01it/s]\n"
     ]
    },
    {
     "name": "stdout",
     "output_type": "stream",
     "text": [
      "77/200 --- Train: tot_loss = 0.05 - Valid: tot_loss = 0.06 - stale=0\n"
     ]
    },
    {
     "name": "stderr",
     "output_type": "stream",
     "text": [
      "100%|██████████████████████████████████████████████████████████████████████████████████████████████████| 52/52 [00:16<00:00,  3.15it/s]\n",
      "100%|████████████████████████████████████████████████████████████████████████████████████████████████████| 6/6 [00:01<00:00,  3.99it/s]\n"
     ]
    },
    {
     "name": "stdout",
     "output_type": "stream",
     "text": [
      "78/200 --- Train: tot_loss = 0.05 - Valid: tot_loss = 0.06 - stale=0\n"
     ]
    },
    {
     "name": "stderr",
     "output_type": "stream",
     "text": [
      "100%|██████████████████████████████████████████████████████████████████████████████████████████████████| 52/52 [00:16<00:00,  3.15it/s]\n",
      "100%|████████████████████████████████████████████████████████████████████████████████████████████████████| 6/6 [00:01<00:00,  4.01it/s]\n"
     ]
    },
    {
     "name": "stdout",
     "output_type": "stream",
     "text": [
      "79/200 --- Train: tot_loss = 0.05 - Valid: tot_loss = 0.06 - stale=1\n"
     ]
    },
    {
     "name": "stderr",
     "output_type": "stream",
     "text": [
      "100%|██████████████████████████████████████████████████████████████████████████████████████████████████| 52/52 [00:16<00:00,  3.15it/s]\n",
      "100%|████████████████████████████████████████████████████████████████████████████████████████████████████| 6/6 [00:01<00:00,  3.99it/s]\n"
     ]
    },
    {
     "name": "stdout",
     "output_type": "stream",
     "text": [
      "80/200 --- Train: tot_loss = 0.05 - Valid: tot_loss = 0.06 - stale=2\n"
     ]
    },
    {
     "name": "stderr",
     "output_type": "stream",
     "text": [
      "100%|██████████████████████████████████████████████████████████████████████████████████████████████████| 52/52 [00:16<00:00,  3.14it/s]\n",
      "100%|████████████████████████████████████████████████████████████████████████████████████████████████████| 6/6 [00:01<00:00,  3.99it/s]\n"
     ]
    },
    {
     "name": "stdout",
     "output_type": "stream",
     "text": [
      "81/200 --- Train: tot_loss = 0.05 - Valid: tot_loss = 0.06 - stale=0\n"
     ]
    },
    {
     "name": "stderr",
     "output_type": "stream",
     "text": [
      "100%|██████████████████████████████████████████████████████████████████████████████████████████████████| 52/52 [00:16<00:00,  3.16it/s]\n",
      "100%|████████████████████████████████████████████████████████████████████████████████████████████████████| 6/6 [00:01<00:00,  4.07it/s]\n"
     ]
    },
    {
     "name": "stdout",
     "output_type": "stream",
     "text": [
      "82/200 --- Train: tot_loss = 0.05 - Valid: tot_loss = 0.06 - stale=0\n"
     ]
    },
    {
     "name": "stderr",
     "output_type": "stream",
     "text": [
      "100%|██████████████████████████████████████████████████████████████████████████████████████████████████| 52/52 [00:16<00:00,  3.15it/s]\n",
      "100%|████████████████████████████████████████████████████████████████████████████████████████████████████| 6/6 [00:01<00:00,  4.01it/s]\n"
     ]
    },
    {
     "name": "stdout",
     "output_type": "stream",
     "text": [
      "83/200 --- Train: tot_loss = 0.05 - Valid: tot_loss = 0.06 - stale=0\n"
     ]
    },
    {
     "name": "stderr",
     "output_type": "stream",
     "text": [
      "100%|██████████████████████████████████████████████████████████████████████████████████████████████████| 52/52 [00:16<00:00,  3.15it/s]\n",
      "100%|████████████████████████████████████████████████████████████████████████████████████████████████████| 6/6 [00:01<00:00,  4.02it/s]\n"
     ]
    },
    {
     "name": "stdout",
     "output_type": "stream",
     "text": [
      "84/200 --- Train: tot_loss = 0.05 - Valid: tot_loss = 0.06 - stale=1\n"
     ]
    },
    {
     "name": "stderr",
     "output_type": "stream",
     "text": [
      "100%|██████████████████████████████████████████████████████████████████████████████████████████████████| 52/52 [00:16<00:00,  3.16it/s]\n",
      "100%|████████████████████████████████████████████████████████████████████████████████████████████████████| 6/6 [00:01<00:00,  4.08it/s]\n"
     ]
    },
    {
     "name": "stdout",
     "output_type": "stream",
     "text": [
      "85/200 --- Train: tot_loss = 0.05 - Valid: tot_loss = 0.06 - stale=2\n"
     ]
    },
    {
     "name": "stderr",
     "output_type": "stream",
     "text": [
      "100%|██████████████████████████████████████████████████████████████████████████████████████████████████| 52/52 [00:16<00:00,  3.15it/s]\n",
      "100%|████████████████████████████████████████████████████████████████████████████████████████████████████| 6/6 [00:01<00:00,  3.96it/s]\n"
     ]
    },
    {
     "name": "stdout",
     "output_type": "stream",
     "text": [
      "86/200 --- Train: tot_loss = 0.05 - Valid: tot_loss = 0.06 - stale=3\n"
     ]
    },
    {
     "name": "stderr",
     "output_type": "stream",
     "text": [
      "100%|██████████████████████████████████████████████████████████████████████████████████████████████████| 52/52 [00:16<00:00,  3.16it/s]\n",
      "100%|████████████████████████████████████████████████████████████████████████████████████████████████████| 6/6 [00:01<00:00,  4.00it/s]\n"
     ]
    },
    {
     "name": "stdout",
     "output_type": "stream",
     "text": [
      "87/200 --- Train: tot_loss = 0.05 - Valid: tot_loss = 0.06 - stale=0\n"
     ]
    },
    {
     "name": "stderr",
     "output_type": "stream",
     "text": [
      "100%|██████████████████████████████████████████████████████████████████████████████████████████████████| 52/52 [00:16<00:00,  3.16it/s]\n",
      "100%|████████████████████████████████████████████████████████████████████████████████████████████████████| 6/6 [00:01<00:00,  4.01it/s]\n"
     ]
    },
    {
     "name": "stdout",
     "output_type": "stream",
     "text": [
      "88/200 --- Train: tot_loss = 0.05 - Valid: tot_loss = 0.06 - stale=1\n"
     ]
    },
    {
     "name": "stderr",
     "output_type": "stream",
     "text": [
      "100%|██████████████████████████████████████████████████████████████████████████████████████████████████| 52/52 [00:16<00:00,  3.16it/s]\n",
      "100%|████████████████████████████████████████████████████████████████████████████████████████████████████| 6/6 [00:01<00:00,  4.03it/s]\n"
     ]
    },
    {
     "name": "stdout",
     "output_type": "stream",
     "text": [
      "89/200 --- Train: tot_loss = 0.05 - Valid: tot_loss = 0.06 - stale=2\n"
     ]
    },
    {
     "name": "stderr",
     "output_type": "stream",
     "text": [
      "100%|██████████████████████████████████████████████████████████████████████████████████████████████████| 52/52 [00:16<00:00,  3.15it/s]\n",
      "100%|████████████████████████████████████████████████████████████████████████████████████████████████████| 6/6 [00:01<00:00,  4.02it/s]\n"
     ]
    },
    {
     "name": "stdout",
     "output_type": "stream",
     "text": [
      "90/200 --- Train: tot_loss = 0.05 - Valid: tot_loss = 0.06 - stale=3\n"
     ]
    },
    {
     "name": "stderr",
     "output_type": "stream",
     "text": [
      "100%|██████████████████████████████████████████████████████████████████████████████████████████████████| 52/52 [00:16<00:00,  3.15it/s]\n",
      "100%|████████████████████████████████████████████████████████████████████████████████████████████████████| 6/6 [00:01<00:00,  4.04it/s]\n"
     ]
    },
    {
     "name": "stdout",
     "output_type": "stream",
     "text": [
      "91/200 --- Train: tot_loss = 0.05 - Valid: tot_loss = 0.06 - stale=4\n"
     ]
    },
    {
     "name": "stderr",
     "output_type": "stream",
     "text": [
      "100%|██████████████████████████████████████████████████████████████████████████████████████████████████| 52/52 [00:16<00:00,  3.16it/s]\n",
      "100%|████████████████████████████████████████████████████████████████████████████████████████████████████| 6/6 [00:01<00:00,  4.07it/s]\n"
     ]
    },
    {
     "name": "stdout",
     "output_type": "stream",
     "text": [
      "92/200 --- Train: tot_loss = 0.05 - Valid: tot_loss = 0.06 - stale=5\n"
     ]
    },
    {
     "name": "stderr",
     "output_type": "stream",
     "text": [
      "100%|██████████████████████████████████████████████████████████████████████████████████████████████████| 52/52 [00:16<00:00,  3.16it/s]\n",
      "100%|████████████████████████████████████████████████████████████████████████████████████████████████████| 6/6 [00:01<00:00,  4.08it/s]\n"
     ]
    },
    {
     "name": "stdout",
     "output_type": "stream",
     "text": [
      "93/200 --- Train: tot_loss = 0.05 - Valid: tot_loss = 0.06 - stale=6\n"
     ]
    },
    {
     "name": "stderr",
     "output_type": "stream",
     "text": [
      "100%|██████████████████████████████████████████████████████████████████████████████████████████████████| 52/52 [00:16<00:00,  3.16it/s]\n",
      "100%|████████████████████████████████████████████████████████████████████████████████████████████████████| 6/6 [00:01<00:00,  4.04it/s]\n"
     ]
    },
    {
     "name": "stdout",
     "output_type": "stream",
     "text": [
      "94/200 --- Train: tot_loss = 0.05 - Valid: tot_loss = 0.06 - stale=7\n"
     ]
    },
    {
     "name": "stderr",
     "output_type": "stream",
     "text": [
      "100%|██████████████████████████████████████████████████████████████████████████████████████████████████| 52/52 [00:16<00:00,  3.15it/s]\n",
      "100%|████████████████████████████████████████████████████████████████████████████████████████████████████| 6/6 [00:01<00:00,  4.03it/s]\n"
     ]
    },
    {
     "name": "stdout",
     "output_type": "stream",
     "text": [
      "95/200 --- Train: tot_loss = 0.05 - Valid: tot_loss = 0.06 - stale=8\n"
     ]
    },
    {
     "name": "stderr",
     "output_type": "stream",
     "text": [
      "100%|██████████████████████████████████████████████████████████████████████████████████████████████████| 52/52 [00:16<00:00,  3.15it/s]\n",
      "100%|████████████████████████████████████████████████████████████████████████████████████████████████████| 6/6 [00:01<00:00,  4.04it/s]\n"
     ]
    },
    {
     "name": "stdout",
     "output_type": "stream",
     "text": [
      "96/200 --- Train: tot_loss = 0.05 - Valid: tot_loss = 0.06 - stale=9\n"
     ]
    },
    {
     "name": "stderr",
     "output_type": "stream",
     "text": [
      "100%|██████████████████████████████████████████████████████████████████████████████████████████████████| 52/52 [00:16<00:00,  3.16it/s]\n",
      "100%|████████████████████████████████████████████████████████████████████████████████████████████████████| 6/6 [00:01<00:00,  4.06it/s]\n"
     ]
    },
    {
     "name": "stdout",
     "output_type": "stream",
     "text": [
      "97/200 --- Train: tot_loss = 0.05 - Valid: tot_loss = 0.06 - stale=10\n"
     ]
    },
    {
     "name": "stderr",
     "output_type": "stream",
     "text": [
      "100%|██████████████████████████████████████████████████████████████████████████████████████████████████| 52/52 [00:16<00:00,  3.15it/s]\n",
      "100%|████████████████████████████████████████████████████████████████████████████████████████████████████| 6/6 [00:01<00:00,  4.05it/s]\n"
     ]
    },
    {
     "name": "stdout",
     "output_type": "stream",
     "text": [
      "98/200 --- Train: tot_loss = 0.05 - Valid: tot_loss = 0.06 - stale=11\n"
     ]
    },
    {
     "name": "stderr",
     "output_type": "stream",
     "text": [
      "100%|██████████████████████████████████████████████████████████████████████████████████████████████████| 52/52 [00:16<00:00,  3.16it/s]\n",
      "100%|████████████████████████████████████████████████████████████████████████████████████████████████████| 6/6 [00:01<00:00,  4.00it/s]\n"
     ]
    },
    {
     "name": "stdout",
     "output_type": "stream",
     "text": [
      "99/200 --- Train: tot_loss = 0.05 - Valid: tot_loss = 0.06 - stale=12\n"
     ]
    },
    {
     "name": "stderr",
     "output_type": "stream",
     "text": [
      "100%|██████████████████████████████████████████████████████████████████████████████████████████████████| 52/52 [00:16<00:00,  3.15it/s]\n",
      "100%|████████████████████████████████████████████████████████████████████████████████████████████████████| 6/6 [00:01<00:00,  3.99it/s]\n"
     ]
    },
    {
     "name": "stdout",
     "output_type": "stream",
     "text": [
      "100/200 --- Train: tot_loss = 0.05 - Valid: tot_loss = 0.06 - stale=13\n"
     ]
    },
    {
     "name": "stderr",
     "output_type": "stream",
     "text": [
      "100%|██████████████████████████████████████████████████████████████████████████████████████████████████| 52/52 [00:16<00:00,  3.16it/s]\n",
      "100%|████████████████████████████████████████████████████████████████████████████████████████████████████| 6/6 [00:01<00:00,  3.99it/s]\n"
     ]
    },
    {
     "name": "stdout",
     "output_type": "stream",
     "text": [
      "101/200 --- Train: tot_loss = 0.05 - Valid: tot_loss = 0.06 - stale=14\n"
     ]
    },
    {
     "name": "stderr",
     "output_type": "stream",
     "text": [
      "100%|██████████████████████████████████████████████████████████████████████████████████████████████████| 52/52 [00:16<00:00,  3.15it/s]\n",
      "100%|████████████████████████████████████████████████████████████████████████████████████████████████████| 6/6 [00:01<00:00,  3.99it/s]\n"
     ]
    },
    {
     "name": "stdout",
     "output_type": "stream",
     "text": [
      "102/200 --- Train: tot_loss = 0.05 - Valid: tot_loss = 0.06 - stale=15\n"
     ]
    },
    {
     "name": "stderr",
     "output_type": "stream",
     "text": [
      "100%|██████████████████████████████████████████████████████████████████████████████████████████████████| 52/52 [00:16<00:00,  3.15it/s]\n",
      "100%|████████████████████████████████████████████████████████████████████████████████████████████████████| 6/6 [00:01<00:00,  4.09it/s]\n"
     ]
    },
    {
     "name": "stdout",
     "output_type": "stream",
     "text": [
      "103/200 --- Train: tot_loss = 0.05 - Valid: tot_loss = 0.06 - stale=16\n"
     ]
    },
    {
     "name": "stderr",
     "output_type": "stream",
     "text": [
      "100%|██████████████████████████████████████████████████████████████████████████████████████████████████| 52/52 [00:16<00:00,  3.15it/s]\n",
      "100%|████████████████████████████████████████████████████████████████████████████████████████████████████| 6/6 [00:01<00:00,  3.98it/s]\n"
     ]
    },
    {
     "name": "stdout",
     "output_type": "stream",
     "text": [
      "104/200 --- Train: tot_loss = 0.05 - Valid: tot_loss = 0.06 - stale=17\n"
     ]
    },
    {
     "name": "stderr",
     "output_type": "stream",
     "text": [
      "100%|██████████████████████████████████████████████████████████████████████████████████████████████████| 52/52 [00:16<00:00,  3.15it/s]\n",
      "100%|████████████████████████████████████████████████████████████████████████████████████████████████████| 6/6 [00:01<00:00,  4.08it/s]\n"
     ]
    },
    {
     "name": "stdout",
     "output_type": "stream",
     "text": [
      "105/200 --- Train: tot_loss = 0.05 - Valid: tot_loss = 0.06 - stale=18\n"
     ]
    },
    {
     "name": "stderr",
     "output_type": "stream",
     "text": [
      "100%|██████████████████████████████████████████████████████████████████████████████████████████████████| 52/52 [00:16<00:00,  3.15it/s]\n",
      "100%|████████████████████████████████████████████████████████████████████████████████████████████████████| 6/6 [00:01<00:00,  4.04it/s]\n"
     ]
    },
    {
     "name": "stdout",
     "output_type": "stream",
     "text": [
      "106/200 --- Train: tot_loss = 0.05 - Valid: tot_loss = 0.06 - stale=0\n"
     ]
    },
    {
     "name": "stderr",
     "output_type": "stream",
     "text": [
      "100%|██████████████████████████████████████████████████████████████████████████████████████████████████| 52/52 [00:16<00:00,  3.15it/s]\n",
      "100%|████████████████████████████████████████████████████████████████████████████████████████████████████| 6/6 [00:01<00:00,  4.02it/s]\n"
     ]
    },
    {
     "name": "stdout",
     "output_type": "stream",
     "text": [
      "107/200 --- Train: tot_loss = 0.05 - Valid: tot_loss = 0.06 - stale=1\n"
     ]
    },
    {
     "name": "stderr",
     "output_type": "stream",
     "text": [
      "100%|██████████████████████████████████████████████████████████████████████████████████████████████████| 52/52 [00:16<00:00,  3.16it/s]\n",
      "100%|████████████████████████████████████████████████████████████████████████████████████████████████████| 6/6 [00:01<00:00,  4.08it/s]\n"
     ]
    },
    {
     "name": "stdout",
     "output_type": "stream",
     "text": [
      "108/200 --- Train: tot_loss = 0.05 - Valid: tot_loss = 0.06 - stale=0\n"
     ]
    },
    {
     "name": "stderr",
     "output_type": "stream",
     "text": [
      "100%|██████████████████████████████████████████████████████████████████████████████████████████████████| 52/52 [00:16<00:00,  3.16it/s]\n",
      "100%|████████████████████████████████████████████████████████████████████████████████████████████████████| 6/6 [00:01<00:00,  4.04it/s]\n"
     ]
    },
    {
     "name": "stdout",
     "output_type": "stream",
     "text": [
      "109/200 --- Train: tot_loss = 0.05 - Valid: tot_loss = 0.06 - stale=1\n"
     ]
    },
    {
     "name": "stderr",
     "output_type": "stream",
     "text": [
      "100%|██████████████████████████████████████████████████████████████████████████████████████████████████| 52/52 [00:16<00:00,  3.15it/s]\n",
      "100%|████████████████████████████████████████████████████████████████████████████████████████████████████| 6/6 [00:01<00:00,  3.96it/s]\n"
     ]
    },
    {
     "name": "stdout",
     "output_type": "stream",
     "text": [
      "110/200 --- Train: tot_loss = 0.05 - Valid: tot_loss = 0.06 - stale=0\n"
     ]
    },
    {
     "name": "stderr",
     "output_type": "stream",
     "text": [
      "100%|██████████████████████████████████████████████████████████████████████████████████████████████████| 52/52 [00:16<00:00,  3.16it/s]\n",
      "100%|████████████████████████████████████████████████████████████████████████████████████████████████████| 6/6 [00:01<00:00,  4.05it/s]\n"
     ]
    },
    {
     "name": "stdout",
     "output_type": "stream",
     "text": [
      "111/200 --- Train: tot_loss = 0.05 - Valid: tot_loss = 0.06 - stale=0\n"
     ]
    },
    {
     "name": "stderr",
     "output_type": "stream",
     "text": [
      "100%|██████████████████████████████████████████████████████████████████████████████████████████████████| 52/52 [00:16<00:00,  3.15it/s]\n",
      "100%|████████████████████████████████████████████████████████████████████████████████████████████████████| 6/6 [00:01<00:00,  3.98it/s]\n"
     ]
    },
    {
     "name": "stdout",
     "output_type": "stream",
     "text": [
      "112/200 --- Train: tot_loss = 0.05 - Valid: tot_loss = 0.06 - stale=1\n"
     ]
    },
    {
     "name": "stderr",
     "output_type": "stream",
     "text": [
      "100%|██████████████████████████████████████████████████████████████████████████████████████████████████| 52/52 [00:16<00:00,  3.15it/s]\n",
      "100%|████████████████████████████████████████████████████████████████████████████████████████████████████| 6/6 [00:01<00:00,  4.05it/s]\n"
     ]
    },
    {
     "name": "stdout",
     "output_type": "stream",
     "text": [
      "113/200 --- Train: tot_loss = 0.05 - Valid: tot_loss = 0.06 - stale=2\n"
     ]
    },
    {
     "name": "stderr",
     "output_type": "stream",
     "text": [
      "100%|██████████████████████████████████████████████████████████████████████████████████████████████████| 52/52 [00:16<00:00,  3.15it/s]\n",
      "100%|████████████████████████████████████████████████████████████████████████████████████████████████████| 6/6 [00:01<00:00,  4.02it/s]\n"
     ]
    },
    {
     "name": "stdout",
     "output_type": "stream",
     "text": [
      "114/200 --- Train: tot_loss = 0.05 - Valid: tot_loss = 0.06 - stale=3\n"
     ]
    },
    {
     "name": "stderr",
     "output_type": "stream",
     "text": [
      "100%|██████████████████████████████████████████████████████████████████████████████████████████████████| 52/52 [00:16<00:00,  3.15it/s]\n",
      "100%|████████████████████████████████████████████████████████████████████████████████████████████████████| 6/6 [00:01<00:00,  3.94it/s]\n"
     ]
    },
    {
     "name": "stdout",
     "output_type": "stream",
     "text": [
      "115/200 --- Train: tot_loss = 0.05 - Valid: tot_loss = 0.06 - stale=4\n"
     ]
    },
    {
     "name": "stderr",
     "output_type": "stream",
     "text": [
      "100%|██████████████████████████████████████████████████████████████████████████████████████████████████| 52/52 [00:16<00:00,  3.15it/s]\n",
      "100%|████████████████████████████████████████████████████████████████████████████████████████████████████| 6/6 [00:01<00:00,  4.01it/s]\n"
     ]
    },
    {
     "name": "stdout",
     "output_type": "stream",
     "text": [
      "116/200 --- Train: tot_loss = 0.05 - Valid: tot_loss = 0.06 - stale=5\n"
     ]
    },
    {
     "name": "stderr",
     "output_type": "stream",
     "text": [
      "100%|██████████████████████████████████████████████████████████████████████████████████████████████████| 52/52 [00:16<00:00,  3.15it/s]\n",
      "100%|████████████████████████████████████████████████████████████████████████████████████████████████████| 6/6 [00:01<00:00,  3.99it/s]\n"
     ]
    },
    {
     "name": "stdout",
     "output_type": "stream",
     "text": [
      "117/200 --- Train: tot_loss = 0.05 - Valid: tot_loss = 0.06 - stale=6\n"
     ]
    },
    {
     "name": "stderr",
     "output_type": "stream",
     "text": [
      "100%|██████████████████████████████████████████████████████████████████████████████████████████████████| 52/52 [00:16<00:00,  3.16it/s]\n",
      "100%|████████████████████████████████████████████████████████████████████████████████████████████████████| 6/6 [00:01<00:00,  4.04it/s]\n"
     ]
    },
    {
     "name": "stdout",
     "output_type": "stream",
     "text": [
      "118/200 --- Train: tot_loss = 0.05 - Valid: tot_loss = 0.06 - stale=7\n"
     ]
    },
    {
     "name": "stderr",
     "output_type": "stream",
     "text": [
      "100%|██████████████████████████████████████████████████████████████████████████████████████████████████| 52/52 [00:16<00:00,  3.15it/s]\n",
      "100%|████████████████████████████████████████████████████████████████████████████████████████████████████| 6/6 [00:01<00:00,  4.03it/s]\n"
     ]
    },
    {
     "name": "stdout",
     "output_type": "stream",
     "text": [
      "119/200 --- Train: tot_loss = 0.05 - Valid: tot_loss = 0.06 - stale=8\n"
     ]
    },
    {
     "name": "stderr",
     "output_type": "stream",
     "text": [
      "100%|██████████████████████████████████████████████████████████████████████████████████████████████████| 52/52 [00:16<00:00,  3.15it/s]\n",
      "100%|████████████████████████████████████████████████████████████████████████████████████████████████████| 6/6 [00:01<00:00,  3.97it/s]\n"
     ]
    },
    {
     "name": "stdout",
     "output_type": "stream",
     "text": [
      "120/200 --- Train: tot_loss = 0.05 - Valid: tot_loss = 0.06 - stale=9\n"
     ]
    },
    {
     "name": "stderr",
     "output_type": "stream",
     "text": [
      "100%|██████████████████████████████████████████████████████████████████████████████████████████████████| 52/52 [00:16<00:00,  3.16it/s]\n",
      "100%|████████████████████████████████████████████████████████████████████████████████████████████████████| 6/6 [00:01<00:00,  4.03it/s]\n"
     ]
    },
    {
     "name": "stdout",
     "output_type": "stream",
     "text": [
      "121/200 --- Train: tot_loss = 0.05 - Valid: tot_loss = 0.06 - stale=0\n"
     ]
    },
    {
     "name": "stderr",
     "output_type": "stream",
     "text": [
      "100%|██████████████████████████████████████████████████████████████████████████████████████████████████| 52/52 [00:16<00:00,  3.15it/s]\n",
      "100%|████████████████████████████████████████████████████████████████████████████████████████████████████| 6/6 [00:01<00:00,  4.00it/s]\n"
     ]
    },
    {
     "name": "stdout",
     "output_type": "stream",
     "text": [
      "122/200 --- Train: tot_loss = 0.05 - Valid: tot_loss = 0.06 - stale=1\n"
     ]
    },
    {
     "name": "stderr",
     "output_type": "stream",
     "text": [
      "100%|██████████████████████████████████████████████████████████████████████████████████████████████████| 52/52 [00:16<00:00,  3.15it/s]\n",
      "100%|████████████████████████████████████████████████████████████████████████████████████████████████████| 6/6 [00:01<00:00,  4.00it/s]\n"
     ]
    },
    {
     "name": "stdout",
     "output_type": "stream",
     "text": [
      "123/200 --- Train: tot_loss = 0.05 - Valid: tot_loss = 0.06 - stale=0\n"
     ]
    },
    {
     "name": "stderr",
     "output_type": "stream",
     "text": [
      "100%|██████████████████████████████████████████████████████████████████████████████████████████████████| 52/52 [00:16<00:00,  3.15it/s]\n",
      "100%|████████████████████████████████████████████████████████████████████████████████████████████████████| 6/6 [00:01<00:00,  4.03it/s]\n"
     ]
    },
    {
     "name": "stdout",
     "output_type": "stream",
     "text": [
      "124/200 --- Train: tot_loss = 0.05 - Valid: tot_loss = 0.06 - stale=1\n"
     ]
    },
    {
     "name": "stderr",
     "output_type": "stream",
     "text": [
      "100%|██████████████████████████████████████████████████████████████████████████████████████████████████| 52/52 [00:16<00:00,  3.15it/s]\n",
      "100%|████████████████████████████████████████████████████████████████████████████████████████████████████| 6/6 [00:01<00:00,  3.97it/s]\n"
     ]
    },
    {
     "name": "stdout",
     "output_type": "stream",
     "text": [
      "125/200 --- Train: tot_loss = 0.05 - Valid: tot_loss = 0.06 - stale=2\n"
     ]
    },
    {
     "name": "stderr",
     "output_type": "stream",
     "text": [
      "100%|██████████████████████████████████████████████████████████████████████████████████████████████████| 52/52 [00:16<00:00,  3.15it/s]\n",
      "100%|████████████████████████████████████████████████████████████████████████████████████████████████████| 6/6 [00:01<00:00,  4.10it/s]\n"
     ]
    },
    {
     "name": "stdout",
     "output_type": "stream",
     "text": [
      "126/200 --- Train: tot_loss = 0.05 - Valid: tot_loss = 0.06 - stale=3\n"
     ]
    },
    {
     "name": "stderr",
     "output_type": "stream",
     "text": [
      "100%|██████████████████████████████████████████████████████████████████████████████████████████████████| 52/52 [00:16<00:00,  3.15it/s]\n",
      "100%|████████████████████████████████████████████████████████████████████████████████████████████████████| 6/6 [00:01<00:00,  4.03it/s]\n"
     ]
    },
    {
     "name": "stdout",
     "output_type": "stream",
     "text": [
      "127/200 --- Train: tot_loss = 0.05 - Valid: tot_loss = 0.06 - stale=4\n"
     ]
    },
    {
     "name": "stderr",
     "output_type": "stream",
     "text": [
      "100%|██████████████████████████████████████████████████████████████████████████████████████████████████| 52/52 [00:16<00:00,  3.15it/s]\n",
      "100%|████████████████████████████████████████████████████████████████████████████████████████████████████| 6/6 [00:01<00:00,  3.96it/s]\n"
     ]
    },
    {
     "name": "stdout",
     "output_type": "stream",
     "text": [
      "128/200 --- Train: tot_loss = 0.05 - Valid: tot_loss = 0.06 - stale=0\n"
     ]
    },
    {
     "name": "stderr",
     "output_type": "stream",
     "text": [
      "100%|██████████████████████████████████████████████████████████████████████████████████████████████████| 52/52 [00:16<00:00,  3.15it/s]\n",
      "100%|████████████████████████████████████████████████████████████████████████████████████████████████████| 6/6 [00:01<00:00,  4.07it/s]\n"
     ]
    },
    {
     "name": "stdout",
     "output_type": "stream",
     "text": [
      "129/200 --- Train: tot_loss = 0.05 - Valid: tot_loss = 0.06 - stale=0\n"
     ]
    },
    {
     "name": "stderr",
     "output_type": "stream",
     "text": [
      "100%|██████████████████████████████████████████████████████████████████████████████████████████████████| 52/52 [00:16<00:00,  3.15it/s]\n",
      "100%|████████████████████████████████████████████████████████████████████████████████████████████████████| 6/6 [00:01<00:00,  3.98it/s]\n"
     ]
    },
    {
     "name": "stdout",
     "output_type": "stream",
     "text": [
      "130/200 --- Train: tot_loss = 0.05 - Valid: tot_loss = 0.06 - stale=0\n"
     ]
    },
    {
     "name": "stderr",
     "output_type": "stream",
     "text": [
      "100%|██████████████████████████████████████████████████████████████████████████████████████████████████| 52/52 [00:16<00:00,  3.15it/s]\n",
      "100%|████████████████████████████████████████████████████████████████████████████████████████████████████| 6/6 [00:01<00:00,  4.00it/s]\n"
     ]
    },
    {
     "name": "stdout",
     "output_type": "stream",
     "text": [
      "131/200 --- Train: tot_loss = 0.05 - Valid: tot_loss = 0.06 - stale=1\n"
     ]
    },
    {
     "name": "stderr",
     "output_type": "stream",
     "text": [
      "100%|██████████████████████████████████████████████████████████████████████████████████████████████████| 52/52 [00:16<00:00,  3.15it/s]\n",
      "100%|████████████████████████████████████████████████████████████████████████████████████████████████████| 6/6 [00:01<00:00,  4.04it/s]\n"
     ]
    },
    {
     "name": "stdout",
     "output_type": "stream",
     "text": [
      "132/200 --- Train: tot_loss = 0.05 - Valid: tot_loss = 0.06 - stale=2\n"
     ]
    },
    {
     "name": "stderr",
     "output_type": "stream",
     "text": [
      "100%|██████████████████████████████████████████████████████████████████████████████████████████████████| 52/52 [00:16<00:00,  3.15it/s]\n",
      "100%|████████████████████████████████████████████████████████████████████████████████████████████████████| 6/6 [00:01<00:00,  4.05it/s]\n"
     ]
    },
    {
     "name": "stdout",
     "output_type": "stream",
     "text": [
      "133/200 --- Train: tot_loss = 0.05 - Valid: tot_loss = 0.06 - stale=3\n"
     ]
    },
    {
     "name": "stderr",
     "output_type": "stream",
     "text": [
      "100%|██████████████████████████████████████████████████████████████████████████████████████████████████| 52/52 [00:16<00:00,  3.15it/s]\n",
      "100%|████████████████████████████████████████████████████████████████████████████████████████████████████| 6/6 [00:01<00:00,  4.00it/s]\n"
     ]
    },
    {
     "name": "stdout",
     "output_type": "stream",
     "text": [
      "134/200 --- Train: tot_loss = 0.05 - Valid: tot_loss = 0.06 - stale=4\n"
     ]
    },
    {
     "name": "stderr",
     "output_type": "stream",
     "text": [
      "100%|██████████████████████████████████████████████████████████████████████████████████████████████████| 52/52 [00:16<00:00,  3.14it/s]\n",
      "100%|████████████████████████████████████████████████████████████████████████████████████████████████████| 6/6 [00:01<00:00,  4.07it/s]\n"
     ]
    },
    {
     "name": "stdout",
     "output_type": "stream",
     "text": [
      "135/200 --- Train: tot_loss = 0.05 - Valid: tot_loss = 0.06 - stale=5\n"
     ]
    },
    {
     "name": "stderr",
     "output_type": "stream",
     "text": [
      "100%|██████████████████████████████████████████████████████████████████████████████████████████████████| 52/52 [00:16<00:00,  3.15it/s]\n",
      "100%|████████████████████████████████████████████████████████████████████████████████████████████████████| 6/6 [00:01<00:00,  4.06it/s]\n"
     ]
    },
    {
     "name": "stdout",
     "output_type": "stream",
     "text": [
      "136/200 --- Train: tot_loss = 0.05 - Valid: tot_loss = 0.06 - stale=6\n"
     ]
    },
    {
     "name": "stderr",
     "output_type": "stream",
     "text": [
      "100%|██████████████████████████████████████████████████████████████████████████████████████████████████| 52/52 [00:16<00:00,  3.15it/s]\n",
      "100%|████████████████████████████████████████████████████████████████████████████████████████████████████| 6/6 [00:01<00:00,  4.03it/s]\n"
     ]
    },
    {
     "name": "stdout",
     "output_type": "stream",
     "text": [
      "137/200 --- Train: tot_loss = 0.05 - Valid: tot_loss = 0.06 - stale=7\n"
     ]
    },
    {
     "name": "stderr",
     "output_type": "stream",
     "text": [
      "100%|██████████████████████████████████████████████████████████████████████████████████████████████████| 52/52 [00:16<00:00,  3.15it/s]\n",
      "100%|████████████████████████████████████████████████████████████████████████████████████████████████████| 6/6 [00:01<00:00,  4.03it/s]\n"
     ]
    },
    {
     "name": "stdout",
     "output_type": "stream",
     "text": [
      "138/200 --- Train: tot_loss = 0.05 - Valid: tot_loss = 0.06 - stale=0\n"
     ]
    },
    {
     "name": "stderr",
     "output_type": "stream",
     "text": [
      "100%|██████████████████████████████████████████████████████████████████████████████████████████████████| 52/52 [00:16<00:00,  3.15it/s]\n",
      "100%|████████████████████████████████████████████████████████████████████████████████████████████████████| 6/6 [00:01<00:00,  4.02it/s]\n"
     ]
    },
    {
     "name": "stdout",
     "output_type": "stream",
     "text": [
      "139/200 --- Train: tot_loss = 0.05 - Valid: tot_loss = 0.06 - stale=1\n"
     ]
    },
    {
     "name": "stderr",
     "output_type": "stream",
     "text": [
      "100%|██████████████████████████████████████████████████████████████████████████████████████████████████| 52/52 [00:16<00:00,  3.15it/s]\n",
      "100%|████████████████████████████████████████████████████████████████████████████████████████████████████| 6/6 [00:01<00:00,  4.05it/s]\n"
     ]
    },
    {
     "name": "stdout",
     "output_type": "stream",
     "text": [
      "140/200 --- Train: tot_loss = 0.05 - Valid: tot_loss = 0.06 - stale=0\n"
     ]
    },
    {
     "name": "stderr",
     "output_type": "stream",
     "text": [
      "100%|██████████████████████████████████████████████████████████████████████████████████████████████████| 52/52 [00:16<00:00,  3.15it/s]\n",
      "100%|████████████████████████████████████████████████████████████████████████████████████████████████████| 6/6 [00:01<00:00,  4.05it/s]\n"
     ]
    },
    {
     "name": "stdout",
     "output_type": "stream",
     "text": [
      "141/200 --- Train: tot_loss = 0.05 - Valid: tot_loss = 0.06 - stale=0\n"
     ]
    },
    {
     "name": "stderr",
     "output_type": "stream",
     "text": [
      "100%|██████████████████████████████████████████████████████████████████████████████████████████████████| 52/52 [00:16<00:00,  3.15it/s]\n",
      "100%|████████████████████████████████████████████████████████████████████████████████████████████████████| 6/6 [00:01<00:00,  4.04it/s]\n"
     ]
    },
    {
     "name": "stdout",
     "output_type": "stream",
     "text": [
      "142/200 --- Train: tot_loss = 0.05 - Valid: tot_loss = 0.06 - stale=0\n"
     ]
    },
    {
     "name": "stderr",
     "output_type": "stream",
     "text": [
      "100%|██████████████████████████████████████████████████████████████████████████████████████████████████| 52/52 [00:16<00:00,  3.15it/s]\n",
      "100%|████████████████████████████████████████████████████████████████████████████████████████████████████| 6/6 [00:01<00:00,  4.09it/s]\n"
     ]
    },
    {
     "name": "stdout",
     "output_type": "stream",
     "text": [
      "143/200 --- Train: tot_loss = 0.05 - Valid: tot_loss = 0.06 - stale=0\n"
     ]
    },
    {
     "name": "stderr",
     "output_type": "stream",
     "text": [
      "100%|██████████████████████████████████████████████████████████████████████████████████████████████████| 52/52 [00:16<00:00,  3.15it/s]\n",
      "100%|████████████████████████████████████████████████████████████████████████████████████████████████████| 6/6 [00:01<00:00,  3.94it/s]\n"
     ]
    },
    {
     "name": "stdout",
     "output_type": "stream",
     "text": [
      "144/200 --- Train: tot_loss = 0.05 - Valid: tot_loss = 0.06 - stale=0\n"
     ]
    },
    {
     "name": "stderr",
     "output_type": "stream",
     "text": [
      "100%|██████████████████████████████████████████████████████████████████████████████████████████████████| 52/52 [00:16<00:00,  3.16it/s]\n",
      "100%|████████████████████████████████████████████████████████████████████████████████████████████████████| 6/6 [00:01<00:00,  4.08it/s]\n"
     ]
    },
    {
     "name": "stdout",
     "output_type": "stream",
     "text": [
      "145/200 --- Train: tot_loss = 0.05 - Valid: tot_loss = 0.06 - stale=1\n"
     ]
    },
    {
     "name": "stderr",
     "output_type": "stream",
     "text": [
      "100%|██████████████████████████████████████████████████████████████████████████████████████████████████| 52/52 [00:16<00:00,  3.16it/s]\n",
      "100%|████████████████████████████████████████████████████████████████████████████████████████████████████| 6/6 [00:01<00:00,  4.02it/s]\n"
     ]
    },
    {
     "name": "stdout",
     "output_type": "stream",
     "text": [
      "146/200 --- Train: tot_loss = 0.05 - Valid: tot_loss = 0.06 - stale=0\n"
     ]
    },
    {
     "name": "stderr",
     "output_type": "stream",
     "text": [
      "100%|██████████████████████████████████████████████████████████████████████████████████████████████████| 52/52 [00:16<00:00,  3.15it/s]\n",
      "100%|████████████████████████████████████████████████████████████████████████████████████████████████████| 6/6 [00:01<00:00,  4.00it/s]\n"
     ]
    },
    {
     "name": "stdout",
     "output_type": "stream",
     "text": [
      "147/200 --- Train: tot_loss = 0.05 - Valid: tot_loss = 0.06 - stale=0\n"
     ]
    },
    {
     "name": "stderr",
     "output_type": "stream",
     "text": [
      "100%|██████████████████████████████████████████████████████████████████████████████████████████████████| 52/52 [00:16<00:00,  3.15it/s]\n",
      "100%|████████████████████████████████████████████████████████████████████████████████████████████████████| 6/6 [00:01<00:00,  4.06it/s]\n"
     ]
    },
    {
     "name": "stdout",
     "output_type": "stream",
     "text": [
      "148/200 --- Train: tot_loss = 0.05 - Valid: tot_loss = 0.06 - stale=0\n"
     ]
    },
    {
     "name": "stderr",
     "output_type": "stream",
     "text": [
      "100%|██████████████████████████████████████████████████████████████████████████████████████████████████| 52/52 [00:16<00:00,  3.15it/s]\n",
      "100%|████████████████████████████████████████████████████████████████████████████████████████████████████| 6/6 [00:01<00:00,  4.01it/s]\n"
     ]
    },
    {
     "name": "stdout",
     "output_type": "stream",
     "text": [
      "149/200 --- Train: tot_loss = 0.05 - Valid: tot_loss = 0.06 - stale=1\n"
     ]
    },
    {
     "name": "stderr",
     "output_type": "stream",
     "text": [
      "100%|██████████████████████████████████████████████████████████████████████████████████████████████████| 52/52 [00:16<00:00,  3.15it/s]\n",
      "100%|████████████████████████████████████████████████████████████████████████████████████████████████████| 6/6 [00:01<00:00,  4.00it/s]\n"
     ]
    },
    {
     "name": "stdout",
     "output_type": "stream",
     "text": [
      "150/200 --- Train: tot_loss = 0.05 - Valid: tot_loss = 0.06 - stale=0\n"
     ]
    },
    {
     "name": "stderr",
     "output_type": "stream",
     "text": [
      "100%|██████████████████████████████████████████████████████████████████████████████████████████████████| 52/52 [00:16<00:00,  3.16it/s]\n",
      "100%|████████████████████████████████████████████████████████████████████████████████████████████████████| 6/6 [00:01<00:00,  3.95it/s]\n"
     ]
    },
    {
     "name": "stdout",
     "output_type": "stream",
     "text": [
      "151/200 --- Train: tot_loss = 0.05 - Valid: tot_loss = 0.06 - stale=0\n"
     ]
    },
    {
     "name": "stderr",
     "output_type": "stream",
     "text": [
      "100%|██████████████████████████████████████████████████████████████████████████████████████████████████| 52/52 [00:16<00:00,  3.15it/s]\n",
      "100%|████████████████████████████████████████████████████████████████████████████████████████████████████| 6/6 [00:01<00:00,  3.97it/s]\n"
     ]
    },
    {
     "name": "stdout",
     "output_type": "stream",
     "text": [
      "152/200 --- Train: tot_loss = 0.05 - Valid: tot_loss = 0.06 - stale=1\n"
     ]
    },
    {
     "name": "stderr",
     "output_type": "stream",
     "text": [
      "100%|██████████████████████████████████████████████████████████████████████████████████████████████████| 52/52 [00:16<00:00,  3.15it/s]\n",
      "100%|████████████████████████████████████████████████████████████████████████████████████████████████████| 6/6 [00:01<00:00,  3.95it/s]\n"
     ]
    },
    {
     "name": "stdout",
     "output_type": "stream",
     "text": [
      "153/200 --- Train: tot_loss = 0.05 - Valid: tot_loss = 0.06 - stale=2\n"
     ]
    },
    {
     "name": "stderr",
     "output_type": "stream",
     "text": [
      "100%|██████████████████████████████████████████████████████████████████████████████████████████████████| 52/52 [00:16<00:00,  3.16it/s]\n",
      "100%|████████████████████████████████████████████████████████████████████████████████████████████████████| 6/6 [00:01<00:00,  4.06it/s]\n"
     ]
    },
    {
     "name": "stdout",
     "output_type": "stream",
     "text": [
      "154/200 --- Train: tot_loss = 0.05 - Valid: tot_loss = 0.06 - stale=3\n"
     ]
    },
    {
     "name": "stderr",
     "output_type": "stream",
     "text": [
      "100%|██████████████████████████████████████████████████████████████████████████████████████████████████| 52/52 [00:16<00:00,  3.15it/s]\n",
      "100%|████████████████████████████████████████████████████████████████████████████████████████████████████| 6/6 [00:01<00:00,  4.01it/s]\n"
     ]
    },
    {
     "name": "stdout",
     "output_type": "stream",
     "text": [
      "155/200 --- Train: tot_loss = 0.05 - Valid: tot_loss = 0.06 - stale=0\n"
     ]
    },
    {
     "name": "stderr",
     "output_type": "stream",
     "text": [
      "100%|██████████████████████████████████████████████████████████████████████████████████████████████████| 52/52 [00:16<00:00,  3.15it/s]\n",
      "100%|████████████████████████████████████████████████████████████████████████████████████████████████████| 6/6 [00:01<00:00,  4.02it/s]\n"
     ]
    },
    {
     "name": "stdout",
     "output_type": "stream",
     "text": [
      "156/200 --- Train: tot_loss = 0.05 - Valid: tot_loss = 0.06 - stale=0\n"
     ]
    },
    {
     "name": "stderr",
     "output_type": "stream",
     "text": [
      "100%|██████████████████████████████████████████████████████████████████████████████████████████████████| 52/52 [00:16<00:00,  3.15it/s]\n",
      "100%|████████████████████████████████████████████████████████████████████████████████████████████████████| 6/6 [00:01<00:00,  3.98it/s]\n"
     ]
    },
    {
     "name": "stdout",
     "output_type": "stream",
     "text": [
      "157/200 --- Train: tot_loss = 0.05 - Valid: tot_loss = 0.06 - stale=1\n"
     ]
    },
    {
     "name": "stderr",
     "output_type": "stream",
     "text": [
      "100%|██████████████████████████████████████████████████████████████████████████████████████████████████| 52/52 [00:16<00:00,  3.15it/s]\n",
      "100%|████████████████████████████████████████████████████████████████████████████████████████████████████| 6/6 [00:01<00:00,  4.01it/s]\n"
     ]
    },
    {
     "name": "stdout",
     "output_type": "stream",
     "text": [
      "158/200 --- Train: tot_loss = 0.05 - Valid: tot_loss = 0.06 - stale=0\n"
     ]
    },
    {
     "name": "stderr",
     "output_type": "stream",
     "text": [
      "100%|██████████████████████████████████████████████████████████████████████████████████████████████████| 52/52 [00:16<00:00,  3.15it/s]\n",
      "100%|████████████████████████████████████████████████████████████████████████████████████████████████████| 6/6 [00:01<00:00,  3.98it/s]\n"
     ]
    },
    {
     "name": "stdout",
     "output_type": "stream",
     "text": [
      "159/200 --- Train: tot_loss = 0.05 - Valid: tot_loss = 0.06 - stale=1\n"
     ]
    },
    {
     "name": "stderr",
     "output_type": "stream",
     "text": [
      "100%|██████████████████████████████████████████████████████████████████████████████████████████████████| 52/52 [00:16<00:00,  3.15it/s]\n",
      "100%|████████████████████████████████████████████████████████████████████████████████████████████████████| 6/6 [00:01<00:00,  3.96it/s]\n"
     ]
    },
    {
     "name": "stdout",
     "output_type": "stream",
     "text": [
      "160/200 --- Train: tot_loss = 0.05 - Valid: tot_loss = 0.06 - stale=2\n"
     ]
    },
    {
     "name": "stderr",
     "output_type": "stream",
     "text": [
      "100%|██████████████████████████████████████████████████████████████████████████████████████████████████| 52/52 [00:16<00:00,  3.15it/s]\n",
      "100%|████████████████████████████████████████████████████████████████████████████████████████████████████| 6/6 [00:01<00:00,  4.02it/s]\n"
     ]
    },
    {
     "name": "stdout",
     "output_type": "stream",
     "text": [
      "161/200 --- Train: tot_loss = 0.05 - Valid: tot_loss = 0.06 - stale=3\n"
     ]
    },
    {
     "name": "stderr",
     "output_type": "stream",
     "text": [
      "100%|██████████████████████████████████████████████████████████████████████████████████████████████████| 52/52 [00:16<00:00,  3.16it/s]\n",
      "100%|████████████████████████████████████████████████████████████████████████████████████████████████████| 6/6 [00:01<00:00,  4.07it/s]\n"
     ]
    },
    {
     "name": "stdout",
     "output_type": "stream",
     "text": [
      "162/200 --- Train: tot_loss = 0.05 - Valid: tot_loss = 0.06 - stale=4\n"
     ]
    },
    {
     "name": "stderr",
     "output_type": "stream",
     "text": [
      "100%|██████████████████████████████████████████████████████████████████████████████████████████████████| 52/52 [00:16<00:00,  3.15it/s]\n",
      "100%|████████████████████████████████████████████████████████████████████████████████████████████████████| 6/6 [00:01<00:00,  4.03it/s]\n"
     ]
    },
    {
     "name": "stdout",
     "output_type": "stream",
     "text": [
      "163/200 --- Train: tot_loss = 0.05 - Valid: tot_loss = 0.06 - stale=5\n"
     ]
    },
    {
     "name": "stderr",
     "output_type": "stream",
     "text": [
      "100%|██████████████████████████████████████████████████████████████████████████████████████████████████| 52/52 [00:16<00:00,  3.15it/s]\n",
      "100%|████████████████████████████████████████████████████████████████████████████████████████████████████| 6/6 [00:01<00:00,  3.96it/s]\n"
     ]
    },
    {
     "name": "stdout",
     "output_type": "stream",
     "text": [
      "164/200 --- Train: tot_loss = 0.05 - Valid: tot_loss = 0.06 - stale=6\n"
     ]
    },
    {
     "name": "stderr",
     "output_type": "stream",
     "text": [
      "100%|██████████████████████████████████████████████████████████████████████████████████████████████████| 52/52 [00:16<00:00,  3.15it/s]\n",
      "100%|████████████████████████████████████████████████████████████████████████████████████████████████████| 6/6 [00:01<00:00,  4.01it/s]\n"
     ]
    },
    {
     "name": "stdout",
     "output_type": "stream",
     "text": [
      "165/200 --- Train: tot_loss = 0.05 - Valid: tot_loss = 0.06 - stale=7\n"
     ]
    },
    {
     "name": "stderr",
     "output_type": "stream",
     "text": [
      "100%|██████████████████████████████████████████████████████████████████████████████████████████████████| 52/52 [00:16<00:00,  3.16it/s]\n",
      "100%|████████████████████████████████████████████████████████████████████████████████████████████████████| 6/6 [00:01<00:00,  4.07it/s]\n"
     ]
    },
    {
     "name": "stdout",
     "output_type": "stream",
     "text": [
      "166/200 --- Train: tot_loss = 0.05 - Valid: tot_loss = 0.06 - stale=8\n"
     ]
    },
    {
     "name": "stderr",
     "output_type": "stream",
     "text": [
      "100%|██████████████████████████████████████████████████████████████████████████████████████████████████| 52/52 [00:16<00:00,  3.15it/s]\n",
      "100%|████████████████████████████████████████████████████████████████████████████████████████████████████| 6/6 [00:01<00:00,  4.01it/s]\n"
     ]
    },
    {
     "name": "stdout",
     "output_type": "stream",
     "text": [
      "167/200 --- Train: tot_loss = 0.05 - Valid: tot_loss = 0.06 - stale=9\n"
     ]
    },
    {
     "name": "stderr",
     "output_type": "stream",
     "text": [
      "100%|██████████████████████████████████████████████████████████████████████████████████████████████████| 52/52 [00:16<00:00,  3.15it/s]\n",
      "100%|████████████████████████████████████████████████████████████████████████████████████████████████████| 6/6 [00:01<00:00,  4.06it/s]\n"
     ]
    },
    {
     "name": "stdout",
     "output_type": "stream",
     "text": [
      "168/200 --- Train: tot_loss = 0.05 - Valid: tot_loss = 0.06 - stale=10\n"
     ]
    },
    {
     "name": "stderr",
     "output_type": "stream",
     "text": [
      "100%|██████████████████████████████████████████████████████████████████████████████████████████████████| 52/52 [00:16<00:00,  3.15it/s]\n",
      "100%|████████████████████████████████████████████████████████████████████████████████████████████████████| 6/6 [00:01<00:00,  4.05it/s]\n"
     ]
    },
    {
     "name": "stdout",
     "output_type": "stream",
     "text": [
      "169/200 --- Train: tot_loss = 0.05 - Valid: tot_loss = 0.06 - stale=11\n"
     ]
    },
    {
     "name": "stderr",
     "output_type": "stream",
     "text": [
      "100%|██████████████████████████████████████████████████████████████████████████████████████████████████| 52/52 [00:16<00:00,  3.14it/s]\n",
      "100%|████████████████████████████████████████████████████████████████████████████████████████████████████| 6/6 [00:01<00:00,  3.91it/s]\n"
     ]
    },
    {
     "name": "stdout",
     "output_type": "stream",
     "text": [
      "170/200 --- Train: tot_loss = 0.05 - Valid: tot_loss = 0.06 - stale=12\n"
     ]
    },
    {
     "name": "stderr",
     "output_type": "stream",
     "text": [
      "100%|██████████████████████████████████████████████████████████████████████████████████████████████████| 52/52 [00:16<00:00,  3.14it/s]\n",
      "100%|████████████████████████████████████████████████████████████████████████████████████████████████████| 6/6 [00:01<00:00,  3.92it/s]\n"
     ]
    },
    {
     "name": "stdout",
     "output_type": "stream",
     "text": [
      "171/200 --- Train: tot_loss = 0.05 - Valid: tot_loss = 0.06 - stale=13\n"
     ]
    },
    {
     "name": "stderr",
     "output_type": "stream",
     "text": [
      "100%|██████████████████████████████████████████████████████████████████████████████████████████████████| 52/52 [00:16<00:00,  3.15it/s]\n",
      "100%|████████████████████████████████████████████████████████████████████████████████████████████████████| 6/6 [00:01<00:00,  4.02it/s]\n"
     ]
    },
    {
     "name": "stdout",
     "output_type": "stream",
     "text": [
      "172/200 --- Train: tot_loss = 0.05 - Valid: tot_loss = 0.06 - stale=14\n"
     ]
    },
    {
     "name": "stderr",
     "output_type": "stream",
     "text": [
      "100%|██████████████████████████████████████████████████████████████████████████████████████████████████| 52/52 [00:16<00:00,  3.16it/s]\n",
      "100%|████████████████████████████████████████████████████████████████████████████████████████████████████| 6/6 [00:01<00:00,  4.04it/s]\n"
     ]
    },
    {
     "name": "stdout",
     "output_type": "stream",
     "text": [
      "173/200 --- Train: tot_loss = 0.05 - Valid: tot_loss = 0.06 - stale=15\n"
     ]
    },
    {
     "name": "stderr",
     "output_type": "stream",
     "text": [
      "100%|██████████████████████████████████████████████████████████████████████████████████████████████████| 52/52 [00:16<00:00,  3.14it/s]\n",
      "100%|████████████████████████████████████████████████████████████████████████████████████████████████████| 6/6 [00:01<00:00,  4.07it/s]\n"
     ]
    },
    {
     "name": "stdout",
     "output_type": "stream",
     "text": [
      "174/200 --- Train: tot_loss = 0.05 - Valid: tot_loss = 0.06 - stale=16\n"
     ]
    },
    {
     "name": "stderr",
     "output_type": "stream",
     "text": [
      "100%|██████████████████████████████████████████████████████████████████████████████████████████████████| 52/52 [00:16<00:00,  3.15it/s]\n",
      "100%|████████████████████████████████████████████████████████████████████████████████████████████████████| 6/6 [00:01<00:00,  3.98it/s]\n"
     ]
    },
    {
     "name": "stdout",
     "output_type": "stream",
     "text": [
      "175/200 --- Train: tot_loss = 0.05 - Valid: tot_loss = 0.06 - stale=17\n"
     ]
    },
    {
     "name": "stderr",
     "output_type": "stream",
     "text": [
      "100%|██████████████████████████████████████████████████████████████████████████████████████████████████| 52/52 [00:16<00:00,  3.15it/s]\n",
      "100%|████████████████████████████████████████████████████████████████████████████████████████████████████| 6/6 [00:01<00:00,  4.06it/s]\n"
     ]
    },
    {
     "name": "stdout",
     "output_type": "stream",
     "text": [
      "176/200 --- Train: tot_loss = 0.05 - Valid: tot_loss = 0.06 - stale=18\n"
     ]
    },
    {
     "name": "stderr",
     "output_type": "stream",
     "text": [
      "100%|██████████████████████████████████████████████████████████████████████████████████████████████████| 52/52 [00:16<00:00,  3.14it/s]\n",
      "100%|████████████████████████████████████████████████████████████████████████████████████████████████████| 6/6 [00:01<00:00,  4.03it/s]\n"
     ]
    },
    {
     "name": "stdout",
     "output_type": "stream",
     "text": [
      "177/200 --- Train: tot_loss = 0.05 - Valid: tot_loss = 0.06 - stale=19\n"
     ]
    },
    {
     "name": "stderr",
     "output_type": "stream",
     "text": [
      "100%|██████████████████████████████████████████████████████████████████████████████████████████████████| 52/52 [00:16<00:00,  3.14it/s]\n",
      "100%|████████████████████████████████████████████████████████████████████████████████████████████████████| 6/6 [00:01<00:00,  3.90it/s]\n"
     ]
    },
    {
     "name": "stdout",
     "output_type": "stream",
     "text": [
      "178/200 --- Train: tot_loss = 0.05 - Valid: tot_loss = 0.06 - stale=20\n"
     ]
    },
    {
     "name": "stderr",
     "output_type": "stream",
     "text": [
      "100%|██████████████████████████████████████████████████████████████████████████████████████████████████| 52/52 [00:16<00:00,  3.14it/s]\n",
      "100%|████████████████████████████████████████████████████████████████████████████████████████████████████| 6/6 [00:01<00:00,  3.92it/s]\n"
     ]
    },
    {
     "name": "stdout",
     "output_type": "stream",
     "text": [
      "179/200 --- Train: tot_loss = 0.05 - Valid: tot_loss = 0.06 - stale=21\n"
     ]
    },
    {
     "name": "stderr",
     "output_type": "stream",
     "text": [
      "100%|██████████████████████████████████████████████████████████████████████████████████████████████████| 52/52 [00:16<00:00,  3.15it/s]\n",
      "100%|████████████████████████████████████████████████████████████████████████████████████████████████████| 6/6 [00:01<00:00,  4.00it/s]\n"
     ]
    },
    {
     "name": "stdout",
     "output_type": "stream",
     "text": [
      "180/200 --- Train: tot_loss = 0.05 - Valid: tot_loss = 0.06 - stale=22\n"
     ]
    },
    {
     "name": "stderr",
     "output_type": "stream",
     "text": [
      "100%|██████████████████████████████████████████████████████████████████████████████████████████████████| 52/52 [00:16<00:00,  3.14it/s]\n",
      "100%|████████████████████████████████████████████████████████████████████████████████████████████████████| 6/6 [00:01<00:00,  3.97it/s]\n"
     ]
    },
    {
     "name": "stdout",
     "output_type": "stream",
     "text": [
      "181/200 --- Train: tot_loss = 0.05 - Valid: tot_loss = 0.06 - stale=23\n"
     ]
    },
    {
     "name": "stderr",
     "output_type": "stream",
     "text": [
      "100%|██████████████████████████████████████████████████████████████████████████████████████████████████| 52/52 [00:16<00:00,  3.15it/s]\n",
      "100%|████████████████████████████████████████████████████████████████████████████████████████████████████| 6/6 [00:01<00:00,  4.06it/s]\n"
     ]
    },
    {
     "name": "stdout",
     "output_type": "stream",
     "text": [
      "182/200 --- Train: tot_loss = 0.05 - Valid: tot_loss = 0.06 - stale=24\n"
     ]
    },
    {
     "name": "stderr",
     "output_type": "stream",
     "text": [
      "100%|██████████████████████████████████████████████████████████████████████████████████████████████████| 52/52 [00:16<00:00,  3.15it/s]\n",
      "100%|████████████████████████████████████████████████████████████████████████████████████████████████████| 6/6 [00:01<00:00,  3.97it/s]\n"
     ]
    },
    {
     "name": "stdout",
     "output_type": "stream",
     "text": [
      "183/200 --- Train: tot_loss = 0.05 - Valid: tot_loss = 0.06 - stale=25\n"
     ]
    },
    {
     "name": "stderr",
     "output_type": "stream",
     "text": [
      "100%|██████████████████████████████████████████████████████████████████████████████████████████████████| 52/52 [00:16<00:00,  3.15it/s]\n",
      "100%|████████████████████████████████████████████████████████████████████████████████████████████████████| 6/6 [00:01<00:00,  4.05it/s]\n"
     ]
    },
    {
     "name": "stdout",
     "output_type": "stream",
     "text": [
      "184/200 --- Train: tot_loss = 0.05 - Valid: tot_loss = 0.06 - stale=26\n"
     ]
    },
    {
     "name": "stderr",
     "output_type": "stream",
     "text": [
      "100%|██████████████████████████████████████████████████████████████████████████████████████████████████| 52/52 [00:16<00:00,  3.16it/s]\n",
      "100%|████████████████████████████████████████████████████████████████████████████████████████████████████| 6/6 [00:01<00:00,  3.98it/s]\n"
     ]
    },
    {
     "name": "stdout",
     "output_type": "stream",
     "text": [
      "185/200 --- Train: tot_loss = 0.05 - Valid: tot_loss = 0.06 - stale=27\n"
     ]
    },
    {
     "name": "stderr",
     "output_type": "stream",
     "text": [
      "100%|██████████████████████████████████████████████████████████████████████████████████████████████████| 52/52 [00:16<00:00,  3.15it/s]\n",
      "100%|████████████████████████████████████████████████████████████████████████████████████████████████████| 6/6 [00:01<00:00,  3.99it/s]\n"
     ]
    },
    {
     "name": "stdout",
     "output_type": "stream",
     "text": [
      "186/200 --- Train: tot_loss = 0.05 - Valid: tot_loss = 0.06 - stale=28\n"
     ]
    },
    {
     "name": "stderr",
     "output_type": "stream",
     "text": [
      "100%|██████████████████████████████████████████████████████████████████████████████████████████████████| 52/52 [00:16<00:00,  3.15it/s]\n",
      "100%|████████████████████████████████████████████████████████████████████████████████████████████████████| 6/6 [00:01<00:00,  4.04it/s]\n"
     ]
    },
    {
     "name": "stdout",
     "output_type": "stream",
     "text": [
      "187/200 --- Train: tot_loss = 0.05 - Valid: tot_loss = 0.06 - stale=0\n"
     ]
    },
    {
     "name": "stderr",
     "output_type": "stream",
     "text": [
      "100%|██████████████████████████████████████████████████████████████████████████████████████████████████| 52/52 [00:16<00:00,  3.15it/s]\n",
      "100%|████████████████████████████████████████████████████████████████████████████████████████████████████| 6/6 [00:01<00:00,  4.00it/s]\n"
     ]
    },
    {
     "name": "stdout",
     "output_type": "stream",
     "text": [
      "188/200 --- Train: tot_loss = 0.05 - Valid: tot_loss = 0.06 - stale=1\n"
     ]
    },
    {
     "name": "stderr",
     "output_type": "stream",
     "text": [
      "100%|██████████████████████████████████████████████████████████████████████████████████████████████████| 52/52 [00:16<00:00,  3.15it/s]\n",
      "100%|████████████████████████████████████████████████████████████████████████████████████████████████████| 6/6 [00:01<00:00,  4.05it/s]\n"
     ]
    },
    {
     "name": "stdout",
     "output_type": "stream",
     "text": [
      "189/200 --- Train: tot_loss = 0.05 - Valid: tot_loss = 0.06 - stale=0\n"
     ]
    },
    {
     "name": "stderr",
     "output_type": "stream",
     "text": [
      "100%|██████████████████████████████████████████████████████████████████████████████████████████████████| 52/52 [00:16<00:00,  3.15it/s]\n",
      "100%|████████████████████████████████████████████████████████████████████████████████████████████████████| 6/6 [00:01<00:00,  4.03it/s]\n"
     ]
    },
    {
     "name": "stdout",
     "output_type": "stream",
     "text": [
      "190/200 --- Train: tot_loss = 0.05 - Valid: tot_loss = 0.06 - stale=1\n"
     ]
    },
    {
     "name": "stderr",
     "output_type": "stream",
     "text": [
      "100%|██████████████████████████████████████████████████████████████████████████████████████████████████| 52/52 [00:16<00:00,  3.15it/s]\n",
      "100%|████████████████████████████████████████████████████████████████████████████████████████████████████| 6/6 [00:01<00:00,  4.07it/s]\n"
     ]
    },
    {
     "name": "stdout",
     "output_type": "stream",
     "text": [
      "191/200 --- Train: tot_loss = 0.05 - Valid: tot_loss = 0.06 - stale=0\n"
     ]
    },
    {
     "name": "stderr",
     "output_type": "stream",
     "text": [
      "100%|██████████████████████████████████████████████████████████████████████████████████████████████████| 52/52 [00:16<00:00,  3.15it/s]\n",
      "100%|████████████████████████████████████████████████████████████████████████████████████████████████████| 6/6 [00:01<00:00,  4.05it/s]\n"
     ]
    },
    {
     "name": "stdout",
     "output_type": "stream",
     "text": [
      "192/200 --- Train: tot_loss = 0.05 - Valid: tot_loss = 0.06 - stale=0\n"
     ]
    },
    {
     "name": "stderr",
     "output_type": "stream",
     "text": [
      "100%|██████████████████████████████████████████████████████████████████████████████████████████████████| 52/52 [00:16<00:00,  3.14it/s]\n",
      "100%|████████████████████████████████████████████████████████████████████████████████████████████████████| 6/6 [00:01<00:00,  3.95it/s]\n"
     ]
    },
    {
     "name": "stdout",
     "output_type": "stream",
     "text": [
      "193/200 --- Train: tot_loss = 0.05 - Valid: tot_loss = 0.06 - stale=1\n"
     ]
    },
    {
     "name": "stderr",
     "output_type": "stream",
     "text": [
      "100%|██████████████████████████████████████████████████████████████████████████████████████████████████| 52/52 [00:16<00:00,  3.15it/s]\n",
      "100%|████████████████████████████████████████████████████████████████████████████████████████████████████| 6/6 [00:01<00:00,  4.03it/s]\n"
     ]
    },
    {
     "name": "stdout",
     "output_type": "stream",
     "text": [
      "194/200 --- Train: tot_loss = 0.05 - Valid: tot_loss = 0.06 - stale=0\n"
     ]
    },
    {
     "name": "stderr",
     "output_type": "stream",
     "text": [
      "100%|██████████████████████████████████████████████████████████████████████████████████████████████████| 52/52 [00:16<00:00,  3.14it/s]\n",
      "100%|████████████████████████████████████████████████████████████████████████████████████████████████████| 6/6 [00:01<00:00,  4.01it/s]\n"
     ]
    },
    {
     "name": "stdout",
     "output_type": "stream",
     "text": [
      "195/200 --- Train: tot_loss = 0.05 - Valid: tot_loss = 0.06 - stale=0\n"
     ]
    },
    {
     "name": "stderr",
     "output_type": "stream",
     "text": [
      "100%|██████████████████████████████████████████████████████████████████████████████████████████████████| 52/52 [00:16<00:00,  3.14it/s]\n",
      "100%|████████████████████████████████████████████████████████████████████████████████████████████████████| 6/6 [00:01<00:00,  3.97it/s]\n"
     ]
    },
    {
     "name": "stdout",
     "output_type": "stream",
     "text": [
      "196/200 --- Train: tot_loss = 0.05 - Valid: tot_loss = 0.06 - stale=1\n"
     ]
    },
    {
     "name": "stderr",
     "output_type": "stream",
     "text": [
      "100%|██████████████████████████████████████████████████████████████████████████████████████████████████| 52/52 [00:16<00:00,  3.15it/s]\n",
      "100%|████████████████████████████████████████████████████████████████████████████████████████████████████| 6/6 [00:01<00:00,  4.06it/s]\n"
     ]
    },
    {
     "name": "stdout",
     "output_type": "stream",
     "text": [
      "197/200 --- Train: tot_loss = 0.05 - Valid: tot_loss = 0.06 - stale=2\n"
     ]
    },
    {
     "name": "stderr",
     "output_type": "stream",
     "text": [
      "100%|██████████████████████████████████████████████████████████████████████████████████████████████████| 52/52 [00:16<00:00,  3.14it/s]\n",
      "100%|████████████████████████████████████████████████████████████████████████████████████████████████████| 6/6 [00:01<00:00,  3.99it/s]\n"
     ]
    },
    {
     "name": "stdout",
     "output_type": "stream",
     "text": [
      "198/200 --- Train: tot_loss = 0.05 - Valid: tot_loss = 0.06 - stale=0\n"
     ]
    },
    {
     "name": "stderr",
     "output_type": "stream",
     "text": [
      "100%|██████████████████████████████████████████████████████████████████████████████████████████████████| 52/52 [00:16<00:00,  3.15it/s]\n",
      "100%|████████████████████████████████████████████████████████████████████████████████████████████████████| 6/6 [00:01<00:00,  3.94it/s]"
     ]
    },
    {
     "name": "stdout",
     "output_type": "stream",
     "text": [
      "199/200 --- Train: tot_loss = 0.05 - Valid: tot_loss = 0.06 - stale=1\n"
     ]
    },
    {
     "name": "stderr",
     "output_type": "stream",
     "text": [
      "\n"
     ]
    }
   ],
   "source": [
    "mdmm_ = 0\n",
    "\n",
    "n_epochs = 200\n",
    "u = 0.01\n",
    "v = 0.01\n",
    "stale_epochs = 0\n",
    "best_val_loss_tot = 99999999\n",
    "\n",
    "# initialize loss counters\n",
    "t_losses, v_losses = [], []\n",
    "for j in range(n_epochs):\n",
    "    \n",
    "    # train loop\n",
    "    is_train = True\n",
    "    vicreg.train()\n",
    "    loader = train_loader    \n",
    "    losses, var_losses, invar_losses, cross_losses = 0.0, 0.0, 0.0, 0.0\n",
    "    for i, batch in tqdm.tqdm(enumerate(loader), total=len(loader)):\n",
    "\n",
    "        # seperate tracks from clusters\n",
    "        tracks, clusters = distinguish_PFelements(batch.to(device))\n",
    "        # run VICReg\n",
    "        out_tracks, out_clusters = vicreg(tracks, clusters)\n",
    "        \n",
    "        # POOLING\n",
    "        pooled_tracks = global_mean_pool(out_tracks, tracks.batch)\n",
    "        pooled_clusters = global_mean_pool(out_clusters, clusters.batch)\n",
    "\n",
    "        # compute loss & update parameters\n",
    "        if mdmm_:\n",
    "            loss = crit_invar(pooled_tracks, pooled_clusters)\n",
    "            mdmm_return = mdmm_module(loss)            \n",
    "            opt.zero_grad()\n",
    "            mdmm_return.value.backward()\n",
    "            opt.step()\n",
    "        else:\n",
    "            loss = u * crit_var(pooled_tracks, pooled_clusters) + v * crit_invar(pooled_tracks, pooled_clusters) + crit_cross(pooled_tracks, pooled_clusters)\n",
    "            for param in vicreg.parameters():\n",
    "                param.grad = None\n",
    "            loss.backward()\n",
    "            optimizer.step()            \n",
    "\n",
    "        losses += loss.detach()\n",
    "\n",
    "    t_losses.append(losses.cpu().item() / (len(loader)))\n",
    "\n",
    "    # valid loop\n",
    "    is_train = False\n",
    "    vicreg.eval()\n",
    "    loader = valid_loader\n",
    "    losses = 0.0\n",
    "    for i, batch in tqdm.tqdm(enumerate(loader), total=len(loader)):\n",
    "\n",
    "        # seperate tracks from clusters\n",
    "        tracks, clusters = distinguish_PFelements(batch.to(device))\n",
    "        # run VICReg\n",
    "        out_tracks, out_clusters = vicreg(tracks, clusters)\n",
    "        \n",
    "        # POOLING\n",
    "        pooled_tracks = global_mean_pool(out_tracks, tracks.batch)\n",
    "        pooled_clusters = global_mean_pool(out_clusters, clusters.batch)\n",
    "\n",
    "        # compute loss\n",
    "        if mdmm_:\n",
    "            loss = crit_invar(pooled_tracks, pooled_clusters)         \n",
    "        else:\n",
    "            loss = u * crit_var(pooled_tracks, pooled_clusters) + v * crit_invar(pooled_tracks, pooled_clusters) + crit_cross(pooled_tracks, pooled_clusters)\n",
    "\n",
    "        losses += loss.detach()\n",
    "\n",
    "    v_losses.append(losses.cpu().item() / (len(loader)))   \n",
    "    \n",
    "    if v_losses[j] < best_val_loss_tot:\n",
    "        stale_epochs = 0\n",
    "        best_val_loss_tot = v_losses[j]\n",
    "        torch.save(vicreg.state_dict(), f\"/pfclicvol/vicreg.pth\")\n",
    "    else:\n",
    "        stale_epochs += 1\n",
    "        \n",
    "    print(f\"{j}/{n_epochs} --- Train: tot_loss = {t_losses[j]:.2f} - Valid: tot_loss = {v_losses[j]:.2f} - stale={stale_epochs}\") "
   ]
  },
  {
   "cell_type": "code",
   "execution_count": 53,
   "metadata": {},
   "outputs": [
    {
     "data": {
      "text/plain": [
       "<matplotlib.legend.Legend at 0x7f5b94724940>"
      ]
     },
     "execution_count": 53,
     "metadata": {},
     "output_type": "execute_result"
    },
    {
     "data": {
      "image/png": "[encoded data removed]",
      "text/plain": [
       "<Figure size 400x400 with 1 Axes>"
      ]
     },
     "metadata": {},
     "output_type": "display_data"
    }
   ],
   "source": [
    "%matplotlib inline\n",
    "plt.rcParams.update({\"font.size\": 15})\n",
    "\n",
    "# make total loss plot\n",
    "fig, ax = plt.subplots(figsize=(4,4))\n",
    "\n",
    "result = np.mean(np.array(t_losses).reshape(-1, 2), axis=1)\n",
    "ax.plot(range(len(result)), result, label=\"training ({:.2f})\".format(result.min()))\n",
    "\n",
    "result = np.mean(np.array(v_losses).reshape(-1, 2), axis=1)\n",
    "ax.plot(range(len(result)), result, label=\"valid ({:.2f})\".format(result.min()))\n",
    "\n",
    "ax.set_xlabel(\"Epochs\")\n",
    "ax.set_ylabel(\"Total Loss\")\n",
    "ax.set_yscale(\"log\")\n",
    "ax.legend(title=\"VICReg\", loc=\"best\", title_fontsize=15, fontsize=10)"
   ]
  },
  {
   "cell_type": "code",
   "execution_count": 43,
   "metadata": {},
   "outputs": [],
   "source": [
    "torch.save(vicreg.state_dict(), f\"/pfclicvol/vicreg.pth\")\n",
    "\n",
    "with open(f\"/pfclicvol/vicreg_decoder_model_kwargs.pkl\", \"wb\") as f:  # dump model architecture\n",
    "    pkl.dump(decoder_model_kwargs, f, protocol=pkl.HIGHEST_PROTOCOL)\n",
    "    \n",
    "with open(f\"/pfclicvol/vicreg_encoder_model_kwargs.pkl\", \"wb\") as f:  # dump model architecture\n",
    "    pkl.dump(encoder_model_kwargs, f, protocol=pkl.HIGHEST_PROTOCOL)    "
   ]
  },
  {
   "cell_type": "code",
   "execution_count": 57,
   "metadata": {},
   "outputs": [
    {
     "data": {
      "text/plain": [
       "DataBatch(x=[13641, 14], ygen=[13641, 5], ygen_id=[13641], ycand=[13641, 5], ycand_id=[13641], batch=[13641])"
      ]
     },
     "execution_count": 57,
     "metadata": {},
     "output_type": "execute_result"
    }
   ],
   "source": [
    "tracks"
   ]
  },
  {
   "cell_type": "code",
   "execution_count": 59,
   "metadata": {},
   "outputs": [
    {
     "data": {
      "text/plain": [
       "ENCODER(\n",
       "  (nn1): Sequential(\n",
       "    (0): Linear(in_features=14, out_features=256, bias=True)\n",
       "    (1): ELU(alpha=1.0)\n",
       "    (2): Linear(in_features=256, out_features=256, bias=True)\n",
       "    (3): ELU(alpha=1.0)\n",
       "    (4): Linear(in_features=256, out_features=256, bias=True)\n",
       "    (5): ELU(alpha=1.0)\n",
       "    (6): Linear(in_features=256, out_features=256, bias=True)\n",
       "  )\n",
       "  (nn2): Sequential(\n",
       "    (0): Linear(in_features=15, out_features=256, bias=True)\n",
       "    (1): ELU(alpha=1.0)\n",
       "    (2): Linear(in_features=256, out_features=256, bias=True)\n",
       "    (3): ELU(alpha=1.0)\n",
       "    (4): Linear(in_features=256, out_features=256, bias=True)\n",
       "    (5): ELU(alpha=1.0)\n",
       "    (6): Linear(in_features=256, out_features=256, bias=True)\n",
       "  )\n",
       "  (conv): ModuleList(\n",
       "    (0): GravNetConv(256, 256, k=32)\n",
       "    (1): GravNetConv(256, 256, k=32)\n",
       "    (2): GravNetConv(256, 256, k=32)\n",
       "  )\n",
       ")"
      ]
     },
     "execution_count": 59,
     "metadata": {},
     "output_type": "execute_result"
    }
   ],
   "source": [
    "vicreg.encoder"
   ]
  },
  {
   "cell_type": "code",
   "execution_count": null,
   "metadata": {},
   "outputs": [],
   "source": []
  },
  {
   "cell_type": "code",
   "execution_count": 3,
   "metadata": {},
   "outputs": [],
   "source": [
    "with open(f\"/pfclicvol/vicreg_encoder_model_kwargs.pkl\", \"rb\") as f:\n",
    "    vicreg_encoder_model_kwargs = pkl.load(f)\n",
    "with open(f\"/pfclicvol/vicreg_decoder_model_kwargs.pkl\", \"rb\") as f:\n",
    "    vicreg_decoder_model_kwargs = pkl.load(f)        "
   ]
  },
  {
   "cell_type": "code",
   "execution_count": 6,
   "metadata": {},
   "outputs": [],
   "source": [
    "encoder = ENCODER(**vicreg_encoder_model_kwargs)\n",
    "decoder = DECODER(**vicreg_decoder_model_kwargs)\n",
    "\n",
    "vicreg = VICReg(encoder, decoder)"
   ]
  },
  {
   "cell_type": "code",
   "execution_count": 14,
   "metadata": {},
   "outputs": [],
   "source": [
    "vicreg_state_dict = torch.load(f\"/pfclicvol/vicreg.pth\", map_location=device)\n",
    "vicreg.load_state_dict(vicreg_state_dict)\n",
    "\n",
    "vicreg = vicreg.to(device)"
   ]
  },
  {
   "cell_type": "code",
   "execution_count": 15,
   "metadata": {},
   "outputs": [
    {
     "name": "stdout",
     "output_type": "stream",
     "text": [
      "------> Progressing to MLPF trainings...\n",
      "Will use 6461 events for train\n",
      "Will use 718 events for valid\n"
     ]
    }
   ],
   "source": [
    "print(\"------> Progressing to MLPF trainings...\")\n",
    "print(f\"Will use {len(data_mlpf_train)} events for train\")\n",
    "print(f\"Will use {len(data_mlpf_valid)} events for valid\")\n",
    "\n",
    "train_loader = torch_geometric.loader.DataLoader(data_mlpf_train, 500)\n",
    "valid_loader = torch_geometric.loader.DataLoader(data_mlpf_valid, 500)\n",
    "\n",
    "input_ = max(CLUSTERS_X, TRACKS_X) + 1  # max cz we pad when we concatenate them & +1 cz there's the `type` feature"
   ]
  },
  {
   "cell_type": "code",
   "execution_count": 16,
   "metadata": {},
   "outputs": [],
   "source": [
    "import json\n",
    "import math\n",
    "import pickle as pkl\n",
    "import time\n",
    "from typing import Optional\n",
    "\n",
    "import matplotlib\n",
    "import matplotlib.pyplot as plt\n",
    "import numpy as np\n",
    "import torch\n",
    "import tqdm\n",
    "from torch import Tensor, nn\n",
    "from torch.nn import functional as F\n",
    "\n",
    "matplotlib.use(\"Agg\")\n",
    "\n",
    "# Ignore divide by 0 errors\n",
    "np.seterr(divide=\"ignore\", invalid=\"ignore\")\n",
    "\n",
    "# keep track of the training step across epochs\n",
    "istep_global = 0\n",
    "\n",
    "\n",
    "# from https://github.com/AdeelH/pytorch-multi-class-focal-loss/blob/master/focal_loss.py\n",
    "class FocalLoss(nn.Module):\n",
    "    \"\"\"Focal Loss, as described in https://arxiv.org/abs/1708.02002.\n",
    "    It is essentially an enhancement to cross entropy loss and is\n",
    "    useful for classification tasks when there is a large class imbalance.\n",
    "    x is expected to contain raw, unnormalized scores for each class.\n",
    "    y is expected to contain class labels.\n",
    "    Shape:\n",
    "        - x: (batch_size, C) or (batch_size, C, d1, d2, ..., dK), K > 0.\n",
    "        - y: (batch_size,) or (batch_size, d1, d2, ..., dK), K > 0.\n",
    "    \"\"\"\n",
    "\n",
    "    def __init__(\n",
    "        self, alpha: Optional[Tensor] = None, gamma: float = 0.0, reduction: str = \"mean\", ignore_index: int = -100\n",
    "    ):\n",
    "        \"\"\"Constructor.\n",
    "        Args:\n",
    "            alpha (Tensor, optional): Weights for each class. Defaults to None.\n",
    "            gamma (float, optional): A constant, as described in the paper.\n",
    "                Defaults to 0.\n",
    "            reduction (str, optional): 'mean', 'sum' or 'none'.\n",
    "                Defaults to 'mean'.\n",
    "            ignore_index (int, optional): class label to ignore.\n",
    "                Defaults to -100.\n",
    "        \"\"\"\n",
    "        if reduction not in (\"mean\", \"sum\", \"none\"):\n",
    "            raise ValueError('Reduction must be one of: \"mean\", \"sum\", \"none\".')\n",
    "\n",
    "        super().__init__()\n",
    "        self.alpha = alpha\n",
    "        self.gamma = gamma\n",
    "        self.ignore_index = ignore_index\n",
    "        self.reduction = reduction\n",
    "\n",
    "        self.nll_loss = nn.NLLLoss(weight=alpha, reduction=\"none\", ignore_index=ignore_index)\n",
    "\n",
    "    def __repr__(self):\n",
    "        arg_keys = [\"alpha\", \"gamma\", \"ignore_index\", \"reduction\"]\n",
    "        arg_vals = [self.__dict__[k] for k in arg_keys]\n",
    "        arg_strs = [f\"{k}={v!r}\" for k, v in zip(arg_keys, arg_vals)]\n",
    "        arg_str = \", \".join(arg_strs)\n",
    "        return f\"{type(self).__name__}({arg_str})\"\n",
    "\n",
    "    def forward(self, x: Tensor, y: Tensor) -> Tensor:\n",
    "        if x.ndim > 2:\n",
    "            # (N, C, d1, d2, ..., dK) --> (N * d1 * ... * dK, C)\n",
    "            c = x.shape[1]\n",
    "            x = x.permute(0, *range(2, x.ndim), 1).reshape(-1, c)\n",
    "            # (N, d1, d2, ..., dK) --> (N * d1 * ... * dK,)\n",
    "            y = y.view(-1)\n",
    "\n",
    "        unignored_mask = y != self.ignore_index\n",
    "        y = y[unignored_mask]\n",
    "        if len(y) == 0:\n",
    "            return torch.tensor(0.0)\n",
    "        x = x[unignored_mask]\n",
    "\n",
    "        # compute weighted cross entropy term: -alpha * log(pt)\n",
    "        # (alpha is already part of self.nll_loss)\n",
    "        log_p = F.log_softmax(x, dim=-1)\n",
    "        ce = self.nll_loss(log_p, y)\n",
    "\n",
    "        # get true class column from each row\n",
    "        all_rows = torch.arange(len(x))\n",
    "        log_pt = log_p[all_rows, y]\n",
    "\n",
    "        # compute focal term: (1 - pt)^gamma\n",
    "        pt = log_pt.exp()\n",
    "        focal_term = (1 - pt) ** self.gamma\n",
    "\n",
    "        # the full loss: -alpha * ((1 - pt)^gamma) * log(pt)\n",
    "        loss = focal_term * ce\n",
    "\n",
    "        if self.reduction == \"mean\":\n",
    "            loss = loss.mean()\n",
    "        elif self.reduction == \"sum\":\n",
    "            loss = loss.sum()\n",
    "\n",
    "        return loss\n",
    "\n",
    "\n",
    "def compute_weights(device, target_ids, num_classes):\n",
    "    \"\"\"\n",
    "    computes necessary weights to accomodate class imbalance in the loss function\n",
    "    \"\"\"\n",
    "\n",
    "    vs, cs = torch.unique(target_ids, return_counts=True)\n",
    "    weights = torch.zeros(num_classes).to(device=device)\n",
    "    for k, v in zip(vs, cs):\n",
    "        weights[k] = 1.0 / math.sqrt(float(v))\n",
    "    # weights[2] = weights[2] * 3  # emphasize nhadrons\n",
    "    return weights\n",
    "\n",
    "\n",
    "@torch.no_grad()\n",
    "def validation_run(device, encoder, mlpf, train_loader, valid_loader, mode):\n",
    "    with torch.no_grad():\n",
    "        optimizer = None\n",
    "        optimizer_VICReg = None\n",
    "        ret = train(device, encoder, mlpf, train_loader, valid_loader, optimizer, optimizer_VICReg, mode)\n",
    "    return ret\n",
    "\n",
    "\n",
    "def train(device, encoder, mlpf, train_loader, valid_loader, optimizer, optimizer_VICReg, mode):\n",
    "    \"\"\"\n",
    "    A training/validation run over a given epoch that gets called in the training_loop() function.\n",
    "    When optimizer is set to None, it freezes the model for a validation_run.\n",
    "    \"\"\"\n",
    "\n",
    "    is_train = not (optimizer is None)\n",
    "    global istep_global\n",
    "\n",
    "    loss_obj_id = FocalLoss(gamma=2.0)\n",
    "\n",
    "    if is_train:\n",
    "        print(\"---->Initiating a training run\")\n",
    "        mlpf.train()\n",
    "        loader = train_loader\n",
    "        if optimizer_VICReg:\n",
    "            encoder.train()\n",
    "    else:\n",
    "        print(\"---->Initiating a validation run\")\n",
    "        mlpf.eval()\n",
    "        loader = valid_loader\n",
    "        if optimizer_VICReg:\n",
    "            encoder.eval()\n",
    "\n",
    "    # initialize loss counters\n",
    "    epoch_loss_total, epoch_loss_id, epoch_loss_momentum, epoch_loss_charge = 0.0, 0.0, 0.0, 0.0\n",
    "\n",
    "    for i, batch in tqdm.tqdm(enumerate(loader), total=len(loader)):\n",
    "\n",
    "        if mode == \"ssl\":\n",
    "            # seperate PF-elements\n",
    "            tracks, clusters = distinguish_PFelements(batch.to(device))\n",
    "\n",
    "            # ENCODE\n",
    "            embedding_tracks, embedding_clusters = encoder(tracks, clusters)\n",
    "\n",
    "            # concat the inputs with embeddings\n",
    "            tracks.x = torch.cat([batch.x[batch.x[:, 0] == 1], embedding_tracks], axis=1)\n",
    "            clusters.x = torch.cat([batch.x[batch.x[:, 0] == 2], embedding_clusters], axis=1)\n",
    "\n",
    "            # combine PF-elements\n",
    "            event = combine_PFelements(tracks, clusters)\n",
    "\n",
    "        elif mode == \"native\":\n",
    "            event = batch.to(device)\n",
    "\n",
    "        # make mlpf forward pass\n",
    "        event_on_device = event.to(device)\n",
    "        pred_ids_one_hot, pred_momentum, pred_charge = mlpf(event_on_device)\n",
    "        target_ids = event_on_device.ygen_id\n",
    "\n",
    "        target_momentum = event_on_device.ygen[:, 1:].to(dtype=torch.float32)\n",
    "        target_charge = (event_on_device.ygen[:, 0] + 1).to(dtype=torch.float32)  # -1, 0, 1\n",
    "\n",
    "        loss_id = 100 * loss_obj_id(pred_ids_one_hot, target_ids)\n",
    "        # loss_id_old = torch.nn.functional.cross_entropy(pred_ids_one_hot, target_ids)  # for classifying PID\n",
    "\n",
    "        # for regression, mask the loss in cases there is no true particle\n",
    "        msk_true_particle = torch.unsqueeze((target_ids != 0).to(dtype=torch.float32), axis=-1)\n",
    "        loss_momentum = 10 * torch.nn.functional.huber_loss(\n",
    "            pred_momentum * msk_true_particle, target_momentum * msk_true_particle\n",
    "        )  # for regressing p4\n",
    "\n",
    "        loss_charge = torch.nn.functional.cross_entropy(\n",
    "            pred_charge * msk_true_particle, (target_charge * msk_true_particle[:, 0]).to(dtype=torch.int64)\n",
    "        )  # for predicting charge\n",
    "        loss = loss_id + loss_momentum + loss_charge\n",
    "\n",
    "        if is_train:\n",
    "            istep_global += 1\n",
    "\n",
    "        # update parameters\n",
    "        if is_train:\n",
    "            for param in mlpf.parameters():\n",
    "                param.grad = None\n",
    "            if optimizer_VICReg:\n",
    "                for param in encoder.parameters():\n",
    "                    param.grad = None\n",
    "            loss.backward()\n",
    "            optimizer.step()\n",
    "\n",
    "        epoch_loss_total += loss.detach()\n",
    "        epoch_loss_id += loss_id.detach()\n",
    "        epoch_loss_momentum += loss_momentum.detach()\n",
    "        epoch_loss_charge += loss_charge.detach()\n",
    "\n",
    "    epoch_loss_total = epoch_loss_total.cpu().item() / len(loader)\n",
    "    epoch_loss_id = epoch_loss_id.cpu().item() / len(loader)\n",
    "    epoch_loss_momentum = epoch_loss_momentum.cpu().item() / len(loader)\n",
    "    epoch_loss_charge = epoch_loss_charge.cpu().item() / len(loader)\n",
    "\n",
    "    print(\n",
    "        \"loss_id={:.2f} loss_momentum={:.2f} loss_charge={:.2f}\".format(\n",
    "            epoch_loss_id, epoch_loss_momentum, epoch_loss_charge\n",
    "        )\n",
    "    )\n",
    "    return epoch_loss_total, epoch_loss_id, epoch_loss_momentum"
   ]
  },
  {
   "cell_type": "code",
   "execution_count": 44,
   "metadata": {},
   "outputs": [
    {
     "name": "stdout",
     "output_type": "stream",
     "text": [
      "MLPF(\n",
      "  (nn_id): Sequential(\n",
      "    (0): Linear(in_features=272, out_features=256, bias=True)\n",
      "    (1): ELU(alpha=1.0)\n",
      "    (2): LayerNorm((256,), eps=1e-05, elementwise_affine=True)\n",
      "    (3): Dropout(p=0.4, inplace=False)\n",
      "    (4): Linear(in_features=256, out_features=256, bias=True)\n",
      "    (5): ELU(alpha=1.0)\n",
      "    (6): LayerNorm((256,), eps=1e-05, elementwise_affine=True)\n",
      "    (7): Dropout(p=0.4, inplace=False)\n",
      "    (8): Linear(in_features=256, out_features=256, bias=True)\n",
      "    (9): ELU(alpha=1.0)\n",
      "    (10): LayerNorm((256,), eps=1e-05, elementwise_affine=True)\n",
      "    (11): Dropout(p=0.4, inplace=False)\n",
      "    (12): Linear(in_features=256, out_features=256, bias=True)\n",
      "    (13): ELU(alpha=1.0)\n",
      "    (14): LayerNorm((256,), eps=1e-05, elementwise_affine=True)\n",
      "    (15): Linear(in_features=256, out_features=6, bias=True)\n",
      "  )\n",
      "  (nn_pt): Sequential(\n",
      "    (0): Linear(in_features=278, out_features=256, bias=True)\n",
      "    (1): ELU(alpha=1.0)\n",
      "    (2): LayerNorm((256,), eps=1e-05, elementwise_affine=True)\n",
      "    (3): Dropout(p=0.4, inplace=False)\n",
      "    (4): Linear(in_features=256, out_features=256, bias=True)\n",
      "    (5): ELU(alpha=1.0)\n",
      "    (6): LayerNorm((256,), eps=1e-05, elementwise_affine=True)\n",
      "    (7): Dropout(p=0.4, inplace=False)\n",
      "    (8): Linear(in_features=256, out_features=256, bias=True)\n",
      "    (9): ELU(alpha=1.0)\n",
      "    (10): LayerNorm((256,), eps=1e-05, elementwise_affine=True)\n",
      "    (11): Dropout(p=0.4, inplace=False)\n",
      "    (12): Linear(in_features=256, out_features=256, bias=True)\n",
      "    (13): ELU(alpha=1.0)\n",
      "    (14): LayerNorm((256,), eps=1e-05, elementwise_affine=True)\n",
      "    (15): Linear(in_features=256, out_features=1, bias=True)\n",
      "  )\n",
      "  (nn_eta): Sequential(\n",
      "    (0): Linear(in_features=278, out_features=256, bias=True)\n",
      "    (1): ELU(alpha=1.0)\n",
      "    (2): LayerNorm((256,), eps=1e-05, elementwise_affine=True)\n",
      "    (3): Dropout(p=0.4, inplace=False)\n",
      "    (4): Linear(in_features=256, out_features=256, bias=True)\n",
      "    (5): ELU(alpha=1.0)\n",
      "    (6): LayerNorm((256,), eps=1e-05, elementwise_affine=True)\n",
      "    (7): Dropout(p=0.4, inplace=False)\n",
      "    (8): Linear(in_features=256, out_features=256, bias=True)\n",
      "    (9): ELU(alpha=1.0)\n",
      "    (10): LayerNorm((256,), eps=1e-05, elementwise_affine=True)\n",
      "    (11): Dropout(p=0.4, inplace=False)\n",
      "    (12): Linear(in_features=256, out_features=256, bias=True)\n",
      "    (13): ELU(alpha=1.0)\n",
      "    (14): LayerNorm((256,), eps=1e-05, elementwise_affine=True)\n",
      "    (15): Linear(in_features=256, out_features=1, bias=True)\n",
      "  )\n",
      "  (nn_phi): Sequential(\n",
      "    (0): Linear(in_features=278, out_features=256, bias=True)\n",
      "    (1): ELU(alpha=1.0)\n",
      "    (2): LayerNorm((256,), eps=1e-05, elementwise_affine=True)\n",
      "    (3): Dropout(p=0.4, inplace=False)\n",
      "    (4): Linear(in_features=256, out_features=256, bias=True)\n",
      "    (5): ELU(alpha=1.0)\n",
      "    (6): LayerNorm((256,), eps=1e-05, elementwise_affine=True)\n",
      "    (7): Dropout(p=0.4, inplace=False)\n",
      "    (8): Linear(in_features=256, out_features=256, bias=True)\n",
      "    (9): ELU(alpha=1.0)\n",
      "    (10): LayerNorm((256,), eps=1e-05, elementwise_affine=True)\n",
      "    (11): Dropout(p=0.4, inplace=False)\n",
      "    (12): Linear(in_features=256, out_features=256, bias=True)\n",
      "    (13): ELU(alpha=1.0)\n",
      "    (14): LayerNorm((256,), eps=1e-05, elementwise_affine=True)\n",
      "    (15): Linear(in_features=256, out_features=1, bias=True)\n",
      "  )\n",
      "  (nn_energy): Sequential(\n",
      "    (0): Linear(in_features=278, out_features=256, bias=True)\n",
      "    (1): ELU(alpha=1.0)\n",
      "    (2): LayerNorm((256,), eps=1e-05, elementwise_affine=True)\n",
      "    (3): Dropout(p=0.4, inplace=False)\n",
      "    (4): Linear(in_features=256, out_features=256, bias=True)\n",
      "    (5): ELU(alpha=1.0)\n",
      "    (6): LayerNorm((256,), eps=1e-05, elementwise_affine=True)\n",
      "    (7): Dropout(p=0.4, inplace=False)\n",
      "    (8): Linear(in_features=256, out_features=256, bias=True)\n",
      "    (9): ELU(alpha=1.0)\n",
      "    (10): LayerNorm((256,), eps=1e-05, elementwise_affine=True)\n",
      "    (11): Dropout(p=0.4, inplace=False)\n",
      "    (12): Linear(in_features=256, out_features=256, bias=True)\n",
      "    (13): ELU(alpha=1.0)\n",
      "    (14): LayerNorm((256,), eps=1e-05, elementwise_affine=True)\n",
      "    (15): Linear(in_features=256, out_features=1, bias=True)\n",
      "  )\n",
      "  (nn_charge): Sequential(\n",
      "    (0): Linear(in_features=278, out_features=256, bias=True)\n",
      "    (1): ELU(alpha=1.0)\n",
      "    (2): LayerNorm((256,), eps=1e-05, elementwise_affine=True)\n",
      "    (3): Dropout(p=0.4, inplace=False)\n",
      "    (4): Linear(in_features=256, out_features=256, bias=True)\n",
      "    (5): ELU(alpha=1.0)\n",
      "    (6): LayerNorm((256,), eps=1e-05, elementwise_affine=True)\n",
      "    (7): Dropout(p=0.4, inplace=False)\n",
      "    (8): Linear(in_features=256, out_features=256, bias=True)\n",
      "    (9): ELU(alpha=1.0)\n",
      "    (10): LayerNorm((256,), eps=1e-05, elementwise_affine=True)\n",
      "    (11): Dropout(p=0.4, inplace=False)\n",
      "    (12): Linear(in_features=256, out_features=256, bias=True)\n",
      "    (13): ELU(alpha=1.0)\n",
      "    (14): LayerNorm((256,), eps=1e-05, elementwise_affine=True)\n",
      "    (15): Linear(in_features=256, out_features=3, bias=True)\n",
      "  )\n",
      ")\n"
     ]
    }
   ],
   "source": [
    "embedding_dim_VICReg = 256\n",
    "ssl = 1\n",
    "\n",
    "mlpf_model_kwargs = {\n",
    "    \"input_dim\": input_,\n",
    "    \"width\": 256,\n",
    "    \"num_convs\": 0,\n",
    "    \"dropout\": 0.4,\n",
    "    \"ssl\": ssl,\n",
    "    \"VICReg_embedding_dim\": embedding_dim_VICReg\n",
    "}\n",
    "\n",
    "mlpf = MLPF(**mlpf_model_kwargs).to(device)\n",
    "print(mlpf)\n",
    "\n",
    "if ssl:\n",
    "    mode = \"ssl\"\n",
    "else:\n",
    "    mode = \"native\""
   ]
  },
  {
   "cell_type": "code",
   "execution_count": null,
   "metadata": {},
   "outputs": [
    {
     "name": "stdout",
     "output_type": "stream",
     "text": [
      "- Training ssl MLPF over 300 epochs\n",
      "---->Initiating a training run\n"
     ]
    },
    {
     "name": "stderr",
     "output_type": "stream",
     "text": [
      "100%|██████████████████████████████████████████████████████████████████████████████████████████████████| 52/52 [00:42<00:00,  1.21it/s]\n"
     ]
    },
    {
     "name": "stdout",
     "output_type": "stream",
     "text": [
      "loss_id=75.06 loss_momentum=2.39 loss_charge=0.85\n",
      "---->Initiating a validation run\n"
     ]
    },
    {
     "name": "stderr",
     "output_type": "stream",
     "text": [
      "100%|████████████████████████████████████████████████████████████████████████████████████████████████████| 6/6 [00:03<00:00,  1.95it/s]\n"
     ]
    },
    {
     "name": "stdout",
     "output_type": "stream",
     "text": [
      "loss_id=38.76 loss_momentum=1.78 loss_charge=0.64\n",
      "epoch=1 / 300 train_loss=78.2951 valid_loss=41.1725 stale=0 time=0.77m eta=229.5m\n",
      "----------------------------------------------------------\n",
      "---->Initiating a training run\n"
     ]
    },
    {
     "name": "stderr",
     "output_type": "stream",
     "text": [
      "100%|██████████████████████████████████████████████████████████████████████████████████████████████████| 52/52 [00:43<00:00,  1.19it/s]\n"
     ]
    },
    {
     "name": "stdout",
     "output_type": "stream",
     "text": [
      "loss_id=39.47 loss_momentum=2.11 loss_charge=0.66\n",
      "---->Initiating a validation run\n"
     ]
    },
    {
     "name": "stderr",
     "output_type": "stream",
     "text": [
      "100%|████████████████████████████████████████████████████████████████████████████████████████████████████| 6/6 [00:03<00:00,  1.92it/s]\n"
     ]
    },
    {
     "name": "stdout",
     "output_type": "stream",
     "text": [
      "loss_id=32.94 loss_momentum=1.77 loss_charge=0.64\n",
      "epoch=2 / 300 train_loss=42.2301 valid_loss=35.3418 stale=0 time=0.78m eta=231.2m\n",
      "----------------------------------------------------------\n",
      "---->Initiating a training run\n"
     ]
    },
    {
     "name": "stderr",
     "output_type": "stream",
     "text": [
      "100%|██████████████████████████████████████████████████████████████████████████████████████████████████| 52/52 [00:44<00:00,  1.17it/s]\n"
     ]
    },
    {
     "name": "stdout",
     "output_type": "stream",
     "text": [
      "loss_id=33.16 loss_momentum=2.07 loss_charge=0.64\n",
      "---->Initiating a validation run\n"
     ]
    },
    {
     "name": "stderr",
     "output_type": "stream",
     "text": [
      "100%|████████████████████████████████████████████████████████████████████████████████████████████████████| 6/6 [00:03<00:00,  1.86it/s]\n"
     ]
    },
    {
     "name": "stdout",
     "output_type": "stream",
     "text": [
      "loss_id=30.42 loss_momentum=1.76 loss_charge=0.63\n",
      "epoch=3 / 300 train_loss=35.8689 valid_loss=32.8195 stale=0 time=0.8m eta=232.9m\n",
      "----------------------------------------------------------\n",
      "---->Initiating a training run\n"
     ]
    },
    {
     "name": "stderr",
     "output_type": "stream",
     "text": [
      "100%|██████████████████████████████████████████████████████████████████████████████████████████████████| 52/52 [00:43<00:00,  1.19it/s]\n"
     ]
    },
    {
     "name": "stdout",
     "output_type": "stream",
     "text": [
      "loss_id=31.11 loss_momentum=2.05 loss_charge=0.64\n",
      "---->Initiating a validation run\n"
     ]
    },
    {
     "name": "stderr",
     "output_type": "stream",
     "text": [
      "100%|████████████████████████████████████████████████████████████████████████████████████████████████████| 6/6 [00:03<00:00,  1.91it/s]\n"
     ]
    },
    {
     "name": "stdout",
     "output_type": "stream",
     "text": [
      "loss_id=29.19 loss_momentum=1.76 loss_charge=0.63\n",
      "epoch=4 / 300 train_loss=33.7933 valid_loss=31.5805 stale=0 time=0.78m eta=231.8m\n",
      "----------------------------------------------------------\n",
      "---->Initiating a training run\n"
     ]
    },
    {
     "name": "stderr",
     "output_type": "stream",
     "text": [
      "100%|██████████████████████████████████████████████████████████████████████████████████████████████████| 52/52 [00:43<00:00,  1.20it/s]\n"
     ]
    },
    {
     "name": "stdout",
     "output_type": "stream",
     "text": [
      "loss_id=30.01 loss_momentum=2.04 loss_charge=0.63\n",
      "---->Initiating a validation run\n"
     ]
    },
    {
     "name": "stderr",
     "output_type": "stream",
     "text": [
      "100%|████████████████████████████████████████████████████████████████████████████████████████████████████| 6/6 [00:03<00:00,  1.94it/s]\n"
     ]
    },
    {
     "name": "stdout",
     "output_type": "stream",
     "text": [
      "loss_id=28.44 loss_momentum=1.75 loss_charge=0.63\n",
      "epoch=5 / 300 train_loss=32.6841 valid_loss=30.8203 stale=0 time=0.77m eta=230.5m\n",
      "----------------------------------------------------------\n",
      "---->Initiating a training run\n"
     ]
    },
    {
     "name": "stderr",
     "output_type": "stream",
     "text": [
      "100%|██████████████████████████████████████████████████████████████████████████████████████████████████| 52/52 [00:43<00:00,  1.20it/s]\n"
     ]
    },
    {
     "name": "stdout",
     "output_type": "stream",
     "text": [
      "loss_id=29.30 loss_momentum=2.03 loss_charge=0.63\n",
      "---->Initiating a validation run\n"
     ]
    },
    {
     "name": "stderr",
     "output_type": "stream",
     "text": [
      "100%|████████████████████████████████████████████████████████████████████████████████████████████████████| 6/6 [00:03<00:00,  1.90it/s]\n"
     ]
    },
    {
     "name": "stdout",
     "output_type": "stream",
     "text": [
      "loss_id=27.94 loss_momentum=1.73 loss_charge=0.63\n",
      "epoch=6 / 300 train_loss=31.9597 valid_loss=30.3071 stale=0 time=0.78m eta=229.5m\n",
      "----------------------------------------------------------\n",
      "---->Initiating a training run\n"
     ]
    },
    {
     "name": "stderr",
     "output_type": "stream",
     "text": [
      "100%|██████████████████████████████████████████████████████████████████████████████████████████████████| 52/52 [00:44<00:00,  1.16it/s]\n"
     ]
    },
    {
     "name": "stdout",
     "output_type": "stream",
     "text": [
      "loss_id=28.80 loss_momentum=2.02 loss_charge=0.63\n",
      "---->Initiating a validation run\n"
     ]
    },
    {
     "name": "stderr",
     "output_type": "stream",
     "text": [
      "100%|████████████████████████████████████████████████████████████████████████████████████████████████████| 6/6 [00:03<00:00,  1.99it/s]\n"
     ]
    },
    {
     "name": "stdout",
     "output_type": "stream",
     "text": [
      "loss_id=27.63 loss_momentum=1.71 loss_charge=0.63\n",
      "epoch=7 / 300 train_loss=31.4511 valid_loss=29.978 stale=0 time=0.8m eta=229.5m\n",
      "----------------------------------------------------------\n",
      "---->Initiating a training run\n"
     ]
    },
    {
     "name": "stderr",
     "output_type": "stream",
     "text": [
      "100%|██████████████████████████████████████████████████████████████████████████████████████████████████| 52/52 [00:42<00:00,  1.21it/s]\n"
     ]
    },
    {
     "name": "stdout",
     "output_type": "stream",
     "text": [
      "loss_id=28.41 loss_momentum=2.00 loss_charge=0.63\n",
      "---->Initiating a validation run\n"
     ]
    },
    {
     "name": "stderr",
     "output_type": "stream",
     "text": [
      "100%|████████████████████████████████████████████████████████████████████████████████████████████████████| 6/6 [00:03<00:00,  1.96it/s]\n"
     ]
    },
    {
     "name": "stdout",
     "output_type": "stream",
     "text": [
      "loss_id=27.41 loss_momentum=1.70 loss_charge=0.63\n",
      "epoch=8 / 300 train_loss=31.0473 valid_loss=29.7361 stale=0 time=0.77m eta=228.2m\n",
      "----------------------------------------------------------\n",
      "---->Initiating a training run\n"
     ]
    },
    {
     "name": "stderr",
     "output_type": "stream",
     "text": [
      "100%|██████████████████████████████████████████████████████████████████████████████████████████████████| 52/52 [00:43<00:00,  1.21it/s]\n"
     ]
    },
    {
     "name": "stdout",
     "output_type": "stream",
     "text": [
      "loss_id=28.13 loss_momentum=1.98 loss_charge=0.63\n",
      "---->Initiating a validation run\n"
     ]
    },
    {
     "name": "stderr",
     "output_type": "stream",
     "text": [
      "100%|████████████████████████████████████████████████████████████████████████████████████████████████████| 6/6 [00:03<00:00,  1.88it/s]\n"
     ]
    },
    {
     "name": "stdout",
     "output_type": "stream",
     "text": [
      "loss_id=27.22 loss_momentum=1.68 loss_charge=0.63\n",
      "epoch=9 / 300 train_loss=30.7444 valid_loss=29.5291 stale=0 time=0.77m eta=227.2m\n",
      "----------------------------------------------------------\n",
      "---->Initiating a training run\n"
     ]
    },
    {
     "name": "stderr",
     "output_type": "stream",
     "text": [
      "100%|██████████████████████████████████████████████████████████████████████████████████████████████████| 52/52 [00:43<00:00,  1.20it/s]\n"
     ]
    },
    {
     "name": "stdout",
     "output_type": "stream",
     "text": [
      "loss_id=27.90 loss_momentum=1.96 loss_charge=0.63\n",
      "---->Initiating a validation run\n"
     ]
    },
    {
     "name": "stderr",
     "output_type": "stream",
     "text": [
      "100%|████████████████████████████████████████████████████████████████████████████████████████████████████| 6/6 [00:03<00:00,  1.94it/s]\n"
     ]
    },
    {
     "name": "stdout",
     "output_type": "stream",
     "text": [
      "loss_id=27.04 loss_momentum=1.66 loss_charge=0.63\n",
      "epoch=10 / 300 train_loss=30.4921 valid_loss=29.3302 stale=0 time=0.78m eta=226.3m\n",
      "----------------------------------------------------------\n",
      "---->Initiating a training run\n"
     ]
    },
    {
     "name": "stderr",
     "output_type": "stream",
     "text": [
      "100%|██████████████████████████████████████████████████████████████████████████████████████████████████| 52/52 [00:43<00:00,  1.19it/s]\n"
     ]
    },
    {
     "name": "stdout",
     "output_type": "stream",
     "text": [
      "loss_id=27.67 loss_momentum=1.94 loss_charge=0.63\n",
      "---->Initiating a validation run\n"
     ]
    },
    {
     "name": "stderr",
     "output_type": "stream",
     "text": [
      "100%|████████████████████████████████████████████████████████████████████████████████████████████████████| 6/6 [00:03<00:00,  1.94it/s]\n"
     ]
    },
    {
     "name": "stdout",
     "output_type": "stream",
     "text": [
      "loss_id=26.83 loss_momentum=1.64 loss_charge=0.63\n",
      "epoch=11 / 300 train_loss=30.2425 valid_loss=29.103 stale=0 time=0.78m eta=225.5m\n",
      "----------------------------------------------------------\n",
      "---->Initiating a training run\n"
     ]
    },
    {
     "name": "stderr",
     "output_type": "stream",
     "text": [
      "100%|██████████████████████████████████████████████████████████████████████████████████████████████████| 52/52 [00:44<00:00,  1.18it/s]\n"
     ]
    },
    {
     "name": "stdout",
     "output_type": "stream",
     "text": [
      "loss_id=27.49 loss_momentum=1.92 loss_charge=0.63\n",
      "---->Initiating a validation run\n"
     ]
    },
    {
     "name": "stderr",
     "output_type": "stream",
     "text": [
      "100%|████████████████████████████████████████████████████████████████████████████████████████████████████| 6/6 [00:03<00:00,  1.94it/s]\n"
     ]
    },
    {
     "name": "stdout",
     "output_type": "stream",
     "text": [
      "loss_id=26.62 loss_momentum=1.62 loss_charge=0.63\n",
      "epoch=12 / 300 train_loss=30.0373 valid_loss=28.8738 stale=0 time=0.79m eta=225.0m\n",
      "----------------------------------------------------------\n",
      "---->Initiating a training run\n"
     ]
    },
    {
     "name": "stderr",
     "output_type": "stream",
     "text": [
      "100%|██████████████████████████████████████████████████████████████████████████████████████████████████| 52/52 [00:43<00:00,  1.20it/s]\n"
     ]
    },
    {
     "name": "stdout",
     "output_type": "stream",
     "text": [
      "loss_id=27.29 loss_momentum=1.90 loss_charge=0.63\n",
      "---->Initiating a validation run\n"
     ]
    },
    {
     "name": "stderr",
     "output_type": "stream",
     "text": [
      "100%|████████████████████████████████████████████████████████████████████████████████████████████████████| 6/6 [00:03<00:00,  1.78it/s]\n"
     ]
    },
    {
     "name": "stdout",
     "output_type": "stream",
     "text": [
      "loss_id=26.39 loss_momentum=1.61 loss_charge=0.63\n",
      "epoch=13 / 300 train_loss=29.8226 valid_loss=28.6276 stale=0 time=0.78m eta=224.2m\n",
      "----------------------------------------------------------\n",
      "---->Initiating a training run\n"
     ]
    },
    {
     "name": "stderr",
     "output_type": "stream",
     "text": [
      "100%|██████████████████████████████████████████████████████████████████████████████████████████████████| 52/52 [00:44<00:00,  1.17it/s]\n"
     ]
    },
    {
     "name": "stdout",
     "output_type": "stream",
     "text": [
      "loss_id=27.12 loss_momentum=1.89 loss_charge=0.63\n",
      "---->Initiating a validation run\n"
     ]
    },
    {
     "name": "stderr",
     "output_type": "stream",
     "text": [
      "100%|████████████████████████████████████████████████████████████████████████████████████████████████████| 6/6 [00:03<00:00,  1.90it/s]\n"
     ]
    },
    {
     "name": "stdout",
     "output_type": "stream",
     "text": [
      "loss_id=26.14 loss_momentum=1.60 loss_charge=0.63\n",
      "epoch=14 / 300 train_loss=29.6363 valid_loss=28.372 stale=0 time=0.8m eta=223.8m\n",
      "----------------------------------------------------------\n",
      "---->Initiating a training run\n"
     ]
    },
    {
     "name": "stderr",
     "output_type": "stream",
     "text": [
      "100%|██████████████████████████████████████████████████████████████████████████████████████████████████| 52/52 [00:42<00:00,  1.23it/s]\n"
     ]
    },
    {
     "name": "stdout",
     "output_type": "stream",
     "text": [
      "loss_id=26.92 loss_momentum=1.88 loss_charge=0.63\n",
      "---->Initiating a validation run\n"
     ]
    },
    {
     "name": "stderr",
     "output_type": "stream",
     "text": [
      "100%|████████████████████████████████████████████████████████████████████████████████████████████████████| 6/6 [00:03<00:00,  1.89it/s]\n"
     ]
    },
    {
     "name": "stdout",
     "output_type": "stream",
     "text": [
      "loss_id=25.84 loss_momentum=1.60 loss_charge=0.63\n",
      "epoch=15 / 300 train_loss=29.425 valid_loss=28.0679 stale=0 time=0.76m eta=222.6m\n",
      "----------------------------------------------------------\n",
      "---->Initiating a training run\n"
     ]
    },
    {
     "name": "stderr",
     "output_type": "stream",
     "text": [
      "100%|██████████████████████████████████████████████████████████████████████████████████████████████████| 52/52 [00:42<00:00,  1.21it/s]\n"
     ]
    },
    {
     "name": "stdout",
     "output_type": "stream",
     "text": [
      "loss_id=26.70 loss_momentum=1.87 loss_charge=0.63\n",
      "---->Initiating a validation run\n"
     ]
    },
    {
     "name": "stderr",
     "output_type": "stream",
     "text": [
      "100%|████████████████████████████████████████████████████████████████████████████████████████████████████| 6/6 [00:03<00:00,  1.96it/s]\n"
     ]
    },
    {
     "name": "stdout",
     "output_type": "stream",
     "text": [
      "loss_id=25.48 loss_momentum=1.59 loss_charge=0.63\n",
      "epoch=16 / 300 train_loss=29.1987 valid_loss=27.7059 stale=0 time=0.77m eta=221.6m\n",
      "----------------------------------------------------------\n",
      "---->Initiating a training run\n"
     ]
    },
    {
     "name": "stderr",
     "output_type": "stream",
     "text": [
      "100%|██████████████████████████████████████████████████████████████████████████████████████████████████| 52/52 [00:44<00:00,  1.17it/s]\n"
     ]
    },
    {
     "name": "stdout",
     "output_type": "stream",
     "text": [
      "loss_id=26.45 loss_momentum=1.86 loss_charge=0.63\n",
      "---->Initiating a validation run\n"
     ]
    },
    {
     "name": "stderr",
     "output_type": "stream",
     "text": [
      "100%|████████████████████████████████████████████████████████████████████████████████████████████████████| 6/6 [00:03<00:00,  1.95it/s]\n"
     ]
    },
    {
     "name": "stdout",
     "output_type": "stream",
     "text": [
      "loss_id=25.08 loss_momentum=1.59 loss_charge=0.63\n",
      "epoch=17 / 300 train_loss=28.9468 valid_loss=27.2952 stale=0 time=0.8m eta=221.0m\n",
      "----------------------------------------------------------\n",
      "---->Initiating a training run\n"
     ]
    },
    {
     "name": "stderr",
     "output_type": "stream",
     "text": [
      "100%|██████████████████████████████████████████████████████████████████████████████████████████████████| 52/52 [00:43<00:00,  1.20it/s]\n"
     ]
    },
    {
     "name": "stdout",
     "output_type": "stream",
     "text": [
      "loss_id=26.18 loss_momentum=1.86 loss_charge=0.63\n",
      "---->Initiating a validation run\n"
     ]
    },
    {
     "name": "stderr",
     "output_type": "stream",
     "text": [
      "100%|████████████████████████████████████████████████████████████████████████████████████████████████████| 6/6 [00:03<00:00,  1.93it/s]\n"
     ]
    },
    {
     "name": "stdout",
     "output_type": "stream",
     "text": [
      "loss_id=24.63 loss_momentum=1.59 loss_charge=0.63\n",
      "epoch=18 / 300 train_loss=28.6636 valid_loss=26.8441 stale=0 time=0.77m eta=220.2m\n",
      "----------------------------------------------------------\n",
      "---->Initiating a training run\n"
     ]
    },
    {
     "name": "stderr",
     "output_type": "stream",
     "text": [
      "100%|██████████████████████████████████████████████████████████████████████████████████████████████████| 52/52 [00:44<00:00,  1.17it/s]\n"
     ]
    },
    {
     "name": "stdout",
     "output_type": "stream",
     "text": [
      "loss_id=25.88 loss_momentum=1.85 loss_charge=0.63\n",
      "---->Initiating a validation run\n"
     ]
    },
    {
     "name": "stderr",
     "output_type": "stream",
     "text": [
      "100%|████████████████████████████████████████████████████████████████████████████████████████████████████| 6/6 [00:02<00:00,  2.00it/s]\n"
     ]
    },
    {
     "name": "stdout",
     "output_type": "stream",
     "text": [
      "loss_id=24.20 loss_momentum=1.58 loss_charge=0.63\n",
      "epoch=19 / 300 train_loss=28.3602 valid_loss=26.4126 stale=0 time=0.79m eta=219.5m\n",
      "----------------------------------------------------------\n",
      "---->Initiating a training run\n"
     ]
    },
    {
     "name": "stderr",
     "output_type": "stream",
     "text": [
      "100%|██████████████████████████████████████████████████████████████████████████████████████████████████| 52/52 [00:42<00:00,  1.22it/s]\n"
     ]
    },
    {
     "name": "stdout",
     "output_type": "stream",
     "text": [
      "loss_id=25.56 loss_momentum=1.85 loss_charge=0.63\n",
      "---->Initiating a validation run\n"
     ]
    },
    {
     "name": "stderr",
     "output_type": "stream",
     "text": [
      "100%|████████████████████████████████████████████████████████████████████████████████████████████████████| 6/6 [00:03<00:00,  1.87it/s]\n"
     ]
    },
    {
     "name": "stdout",
     "output_type": "stream",
     "text": [
      "loss_id=23.73 loss_momentum=1.58 loss_charge=0.63\n",
      "epoch=20 / 300 train_loss=28.0401 valid_loss=25.9373 stale=0 time=0.76m eta=218.5m\n",
      "----------------------------------------------------------\n",
      "---->Initiating a training run\n"
     ]
    },
    {
     "name": "stderr",
     "output_type": "stream",
     "text": [
      "100%|██████████████████████████████████████████████████████████████████████████████████████████████████| 52/52 [00:43<00:00,  1.20it/s]\n"
     ]
    },
    {
     "name": "stdout",
     "output_type": "stream",
     "text": [
      "loss_id=25.20 loss_momentum=1.85 loss_charge=0.63\n",
      "---->Initiating a validation run\n"
     ]
    },
    {
     "name": "stderr",
     "output_type": "stream",
     "text": [
      "100%|████████████████████████████████████████████████████████████████████████████████████████████████████| 6/6 [00:03<00:00,  1.95it/s]\n"
     ]
    },
    {
     "name": "stdout",
     "output_type": "stream",
     "text": [
      "loss_id=23.27 loss_momentum=1.58 loss_charge=0.63\n",
      "epoch=21 / 300 train_loss=27.6781 valid_loss=25.4809 stale=0 time=0.77m eta=217.6m\n",
      "----------------------------------------------------------\n",
      "---->Initiating a training run\n"
     ]
    },
    {
     "name": "stderr",
     "output_type": "stream",
     "text": [
      "100%|██████████████████████████████████████████████████████████████████████████████████████████████████| 52/52 [00:42<00:00,  1.23it/s]\n"
     ]
    },
    {
     "name": "stdout",
     "output_type": "stream",
     "text": [
      "loss_id=24.83 loss_momentum=1.84 loss_charge=0.63\n",
      "---->Initiating a validation run\n"
     ]
    },
    {
     "name": "stderr",
     "output_type": "stream",
     "text": [
      "100%|████████████████████████████████████████████████████████████████████████████████████████████████████| 6/6 [00:03<00:00,  1.87it/s]\n"
     ]
    },
    {
     "name": "stdout",
     "output_type": "stream",
     "text": [
      "loss_id=22.86 loss_momentum=1.57 loss_charge=0.63\n",
      "epoch=22 / 300 train_loss=27.3014 valid_loss=25.0647 stale=0 time=0.76m eta=216.6m\n",
      "----------------------------------------------------------\n",
      "---->Initiating a training run\n"
     ]
    },
    {
     "name": "stderr",
     "output_type": "stream",
     "text": [
      "100%|██████████████████████████████████████████████████████████████████████████████████████████████████| 52/52 [00:43<00:00,  1.20it/s]\n"
     ]
    },
    {
     "name": "stdout",
     "output_type": "stream",
     "text": [
      "loss_id=24.48 loss_momentum=1.84 loss_charge=0.63\n",
      "---->Initiating a validation run\n"
     ]
    },
    {
     "name": "stderr",
     "output_type": "stream",
     "text": [
      "100%|████████████████████████████████████████████████████████████████████████████████████████████████████| 6/6 [00:03<00:00,  1.80it/s]\n"
     ]
    },
    {
     "name": "stdout",
     "output_type": "stream",
     "text": [
      "loss_id=22.51 loss_momentum=1.57 loss_charge=0.63\n",
      "epoch=23 / 300 train_loss=26.9484 valid_loss=24.7175 stale=0 time=0.78m eta=215.9m\n",
      "----------------------------------------------------------\n",
      "---->Initiating a training run\n"
     ]
    },
    {
     "name": "stderr",
     "output_type": "stream",
     "text": [
      "100%|██████████████████████████████████████████████████████████████████████████████████████████████████| 52/52 [00:42<00:00,  1.22it/s]\n"
     ]
    },
    {
     "name": "stdout",
     "output_type": "stream",
     "text": [
      "loss_id=24.14 loss_momentum=1.83 loss_charge=0.63\n",
      "---->Initiating a validation run\n"
     ]
    },
    {
     "name": "stderr",
     "output_type": "stream",
     "text": [
      "100%|████████████████████████████████████████████████████████████████████████████████████████████████████| 6/6 [00:03<00:00,  1.93it/s]\n"
     ]
    },
    {
     "name": "stdout",
     "output_type": "stream",
     "text": [
      "loss_id=22.21 loss_momentum=1.57 loss_charge=0.63\n",
      "epoch=24 / 300 train_loss=26.6089 valid_loss=24.4079 stale=0 time=0.76m eta=214.9m\n",
      "----------------------------------------------------------\n",
      "---->Initiating a training run\n"
     ]
    },
    {
     "name": "stderr",
     "output_type": "stream",
     "text": [
      "100%|██████████████████████████████████████████████████████████████████████████████████████████████████| 52/52 [00:42<00:00,  1.22it/s]\n"
     ]
    },
    {
     "name": "stdout",
     "output_type": "stream",
     "text": [
      "loss_id=23.82 loss_momentum=1.83 loss_charge=0.63\n",
      "---->Initiating a validation run\n"
     ]
    },
    {
     "name": "stderr",
     "output_type": "stream",
     "text": [
      "100%|████████████████████████████████████████████████████████████████████████████████████████████████████| 6/6 [00:03<00:00,  1.96it/s]\n"
     ]
    },
    {
     "name": "stdout",
     "output_type": "stream",
     "text": [
      "loss_id=21.95 loss_momentum=1.56 loss_charge=0.63\n",
      "epoch=25 / 300 train_loss=26.2826 valid_loss=24.1493 stale=0 time=0.77m eta=214.0m\n",
      "----------------------------------------------------------\n",
      "---->Initiating a training run\n"
     ]
    },
    {
     "name": "stderr",
     "output_type": "stream",
     "text": [
      "100%|██████████████████████████████████████████████████████████████████████████████████████████████████| 52/52 [00:44<00:00,  1.18it/s]\n"
     ]
    },
    {
     "name": "stdout",
     "output_type": "stream",
     "text": [
      "loss_id=23.51 loss_momentum=1.83 loss_charge=0.63\n",
      "---->Initiating a validation run\n"
     ]
    },
    {
     "name": "stderr",
     "output_type": "stream",
     "text": [
      "100%|████████████████████████████████████████████████████████████████████████████████████████████████████| 6/6 [00:02<00:00,  2.01it/s]\n"
     ]
    },
    {
     "name": "stdout",
     "output_type": "stream",
     "text": [
      "loss_id=21.73 loss_momentum=1.56 loss_charge=0.63\n",
      "epoch=26 / 300 train_loss=25.9685 valid_loss=23.9195 stale=0 time=0.79m eta=213.3m\n",
      "----------------------------------------------------------\n",
      "---->Initiating a training run\n"
     ]
    },
    {
     "name": "stderr",
     "output_type": "stream",
     "text": [
      "100%|██████████████████████████████████████████████████████████████████████████████████████████████████| 52/52 [00:43<00:00,  1.21it/s]\n"
     ]
    },
    {
     "name": "stdout",
     "output_type": "stream",
     "text": [
      "loss_id=23.24 loss_momentum=1.82 loss_charge=0.63\n",
      "---->Initiating a validation run\n"
     ]
    },
    {
     "name": "stderr",
     "output_type": "stream",
     "text": [
      "100%|████████████████████████████████████████████████████████████████████████████████████████████████████| 6/6 [00:03<00:00,  1.95it/s]\n"
     ]
    },
    {
     "name": "stdout",
     "output_type": "stream",
     "text": [
      "loss_id=21.52 loss_momentum=1.55 loss_charge=0.63\n",
      "epoch=27 / 300 train_loss=25.6926 valid_loss=23.7023 stale=0 time=0.77m eta=212.5m\n",
      "----------------------------------------------------------\n",
      "---->Initiating a training run\n"
     ]
    },
    {
     "name": "stderr",
     "output_type": "stream",
     "text": [
      "100%|██████████████████████████████████████████████████████████████████████████████████████████████████| 52/52 [00:43<00:00,  1.20it/s]\n"
     ]
    },
    {
     "name": "stdout",
     "output_type": "stream",
     "text": [
      "loss_id=22.96 loss_momentum=1.82 loss_charge=0.63\n",
      "---->Initiating a validation run\n"
     ]
    },
    {
     "name": "stderr",
     "output_type": "stream",
     "text": [
      "100%|████████████████████████████████████████████████████████████████████████████████████████████████████| 6/6 [00:03<00:00,  1.83it/s]\n"
     ]
    },
    {
     "name": "stdout",
     "output_type": "stream",
     "text": [
      "loss_id=21.35 loss_momentum=1.55 loss_charge=0.63\n",
      "epoch=28 / 300 train_loss=25.4042 valid_loss=23.5275 stale=0 time=0.78m eta=211.7m\n",
      "----------------------------------------------------------\n",
      "---->Initiating a training run\n"
     ]
    },
    {
     "name": "stderr",
     "output_type": "stream",
     "text": [
      "100%|██████████████████████████████████████████████████████████████████████████████████████████████████| 52/52 [00:44<00:00,  1.17it/s]\n"
     ]
    },
    {
     "name": "stdout",
     "output_type": "stream",
     "text": [
      "loss_id=22.73 loss_momentum=1.81 loss_charge=0.63\n",
      "---->Initiating a validation run\n"
     ]
    },
    {
     "name": "stderr",
     "output_type": "stream",
     "text": [
      "100%|████████████████████████████████████████████████████████████████████████████████████████████████████| 6/6 [00:03<00:00,  1.87it/s]\n"
     ]
    },
    {
     "name": "stdout",
     "output_type": "stream",
     "text": [
      "loss_id=21.21 loss_momentum=1.54 loss_charge=0.63\n",
      "epoch=29 / 300 train_loss=25.1753 valid_loss=23.3834 stale=0 time=0.8m eta=211.1m\n",
      "----------------------------------------------------------\n",
      "---->Initiating a training run\n"
     ]
    },
    {
     "name": "stderr",
     "output_type": "stream",
     "text": [
      "100%|██████████████████████████████████████████████████████████████████████████████████████████████████| 52/52 [00:44<00:00,  1.16it/s]\n"
     ]
    },
    {
     "name": "stdout",
     "output_type": "stream",
     "text": [
      "loss_id=22.55 loss_momentum=1.81 loss_charge=0.63\n",
      "---->Initiating a validation run\n"
     ]
    },
    {
     "name": "stderr",
     "output_type": "stream",
     "text": [
      "100%|████████████████████████████████████████████████████████████████████████████████████████████████████| 6/6 [00:03<00:00,  1.96it/s]\n"
     ]
    },
    {
     "name": "stdout",
     "output_type": "stream",
     "text": [
      "loss_id=21.09 loss_momentum=1.54 loss_charge=0.63\n",
      "epoch=30 / 300 train_loss=24.9844 valid_loss=23.2601 stale=0 time=0.8m eta=210.5m\n",
      "----------------------------------------------------------\n",
      "---->Initiating a training run\n"
     ]
    },
    {
     "name": "stderr",
     "output_type": "stream",
     "text": [
      "100%|██████████████████████████████████████████████████████████████████████████████████████████████████| 52/52 [00:42<00:00,  1.23it/s]\n"
     ]
    },
    {
     "name": "stdout",
     "output_type": "stream",
     "text": [
      "loss_id=22.35 loss_momentum=1.80 loss_charge=0.63\n",
      "---->Initiating a validation run\n"
     ]
    },
    {
     "name": "stderr",
     "output_type": "stream",
     "text": [
      "100%|████████████████████████████████████████████████████████████████████████████████████████████████████| 6/6 [00:03<00:00,  1.77it/s]\n"
     ]
    },
    {
     "name": "stdout",
     "output_type": "stream",
     "text": [
      "loss_id=20.99 loss_momentum=1.53 loss_charge=0.63\n",
      "epoch=31 / 300 train_loss=24.7874 valid_loss=23.1601 stale=0 time=0.76m eta=209.5m\n",
      "----------------------------------------------------------\n",
      "---->Initiating a training run\n"
     ]
    },
    {
     "name": "stderr",
     "output_type": "stream",
     "text": [
      "100%|██████████████████████████████████████████████████████████████████████████████████████████████████| 52/52 [00:43<00:00,  1.18it/s]\n"
     ]
    },
    {
     "name": "stdout",
     "output_type": "stream",
     "text": [
      "loss_id=22.20 loss_momentum=1.80 loss_charge=0.63\n",
      "---->Initiating a validation run\n"
     ]
    },
    {
     "name": "stderr",
     "output_type": "stream",
     "text": [
      "100%|████████████████████████████████████████████████████████████████████████████████████████████████████| 6/6 [00:03<00:00,  1.93it/s]\n"
     ]
    },
    {
     "name": "stdout",
     "output_type": "stream",
     "text": [
      "loss_id=20.91 loss_momentum=1.53 loss_charge=0.63\n",
      "epoch=32 / 300 train_loss=24.6232 valid_loss=23.073 stale=0 time=0.79m eta=208.8m\n",
      "----------------------------------------------------------\n",
      "---->Initiating a training run\n"
     ]
    },
    {
     "name": "stderr",
     "output_type": "stream",
     "text": [
      "100%|██████████████████████████████████████████████████████████████████████████████████████████████████| 52/52 [00:44<00:00,  1.17it/s]\n"
     ]
    },
    {
     "name": "stdout",
     "output_type": "stream",
     "text": [
      "loss_id=22.07 loss_momentum=1.79 loss_charge=0.63\n",
      "---->Initiating a validation run\n"
     ]
    },
    {
     "name": "stderr",
     "output_type": "stream",
     "text": [
      "100%|████████████████████████████████████████████████████████████████████████████████████████████████████| 6/6 [00:03<00:00,  1.78it/s]\n"
     ]
    },
    {
     "name": "stdout",
     "output_type": "stream",
     "text": [
      "loss_id=20.84 loss_momentum=1.52 loss_charge=0.63\n",
      "epoch=33 / 300 train_loss=24.4877 valid_loss=22.9963 stale=0 time=0.8m eta=208.2m\n",
      "----------------------------------------------------------\n",
      "---->Initiating a training run\n"
     ]
    },
    {
     "name": "stderr",
     "output_type": "stream",
     "text": [
      "100%|██████████████████████████████████████████████████████████████████████████████████████████████████| 52/52 [00:42<00:00,  1.22it/s]\n"
     ]
    },
    {
     "name": "stdout",
     "output_type": "stream",
     "text": [
      "loss_id=21.95 loss_momentum=1.79 loss_charge=0.63\n",
      "---->Initiating a validation run\n"
     ]
    },
    {
     "name": "stderr",
     "output_type": "stream",
     "text": [
      "100%|████████████████████████████████████████████████████████████████████████████████████████████████████| 6/6 [00:03<00:00,  1.83it/s]\n"
     ]
    },
    {
     "name": "stdout",
     "output_type": "stream",
     "text": [
      "loss_id=20.79 loss_momentum=1.52 loss_charge=0.63\n",
      "epoch=34 / 300 train_loss=24.3633 valid_loss=22.9399 stale=0 time=0.77m eta=207.3m\n",
      "----------------------------------------------------------\n",
      "---->Initiating a training run\n"
     ]
    },
    {
     "name": "stderr",
     "output_type": "stream",
     "text": [
      "100%|██████████████████████████████████████████████████████████████████████████████████████████████████| 52/52 [00:43<00:00,  1.20it/s]\n"
     ]
    },
    {
     "name": "stdout",
     "output_type": "stream",
     "text": [
      "loss_id=21.84 loss_momentum=1.78 loss_charge=0.63\n",
      "---->Initiating a validation run\n"
     ]
    },
    {
     "name": "stderr",
     "output_type": "stream",
     "text": [
      "100%|████████████████████████████████████████████████████████████████████████████████████████████████████| 6/6 [00:03<00:00,  1.93it/s]\n"
     ]
    },
    {
     "name": "stdout",
     "output_type": "stream",
     "text": [
      "loss_id=20.74 loss_momentum=1.51 loss_charge=0.63\n",
      "epoch=35 / 300 train_loss=24.2503 valid_loss=22.8785 stale=0 time=0.78m eta=206.5m\n",
      "----------------------------------------------------------\n",
      "---->Initiating a training run\n"
     ]
    },
    {
     "name": "stderr",
     "output_type": "stream",
     "text": [
      "100%|██████████████████████████████████████████████████████████████████████████████████████████████████| 52/52 [00:44<00:00,  1.18it/s]\n"
     ]
    },
    {
     "name": "stdout",
     "output_type": "stream",
     "text": [
      "loss_id=21.74 loss_momentum=1.78 loss_charge=0.63\n",
      "---->Initiating a validation run\n"
     ]
    },
    {
     "name": "stderr",
     "output_type": "stream",
     "text": [
      "100%|████████████████████████████████████████████████████████████████████████████████████████████████████| 6/6 [00:03<00:00,  1.84it/s]\n"
     ]
    },
    {
     "name": "stdout",
     "output_type": "stream",
     "text": [
      "loss_id=20.70 loss_momentum=1.51 loss_charge=0.63\n",
      "epoch=36 / 300 train_loss=24.1478 valid_loss=22.8378 stale=0 time=0.79m eta=205.8m\n",
      "----------------------------------------------------------\n",
      "---->Initiating a training run\n"
     ]
    },
    {
     "name": "stderr",
     "output_type": "stream",
     "text": [
      "100%|██████████████████████████████████████████████████████████████████████████████████████████████████| 52/52 [00:43<00:00,  1.19it/s]\n"
     ]
    },
    {
     "name": "stdout",
     "output_type": "stream",
     "text": [
      "loss_id=21.66 loss_momentum=1.77 loss_charge=0.63\n",
      "---->Initiating a validation run\n"
     ]
    },
    {
     "name": "stderr",
     "output_type": "stream",
     "text": [
      "100%|████████████████████████████████████████████████████████████████████████████████████████████████████| 6/6 [00:03<00:00,  1.89it/s]\n"
     ]
    },
    {
     "name": "stdout",
     "output_type": "stream",
     "text": [
      "loss_id=20.66 loss_momentum=1.50 loss_charge=0.63\n",
      "epoch=37 / 300 train_loss=24.0573 valid_loss=22.7958 stale=0 time=0.78m eta=205.1m\n",
      "----------------------------------------------------------\n",
      "---->Initiating a training run\n"
     ]
    },
    {
     "name": "stderr",
     "output_type": "stream",
     "text": [
      "100%|██████████████████████████████████████████████████████████████████████████████████████████████████| 52/52 [00:43<00:00,  1.21it/s]\n"
     ]
    },
    {
     "name": "stdout",
     "output_type": "stream",
     "text": [
      "loss_id=21.57 loss_momentum=1.77 loss_charge=0.63\n",
      "---->Initiating a validation run\n"
     ]
    },
    {
     "name": "stderr",
     "output_type": "stream",
     "text": [
      "100%|████████████████████████████████████████████████████████████████████████████████████████████████████| 6/6 [00:03<00:00,  1.96it/s]\n"
     ]
    },
    {
     "name": "stdout",
     "output_type": "stream",
     "text": [
      "loss_id=20.62 loss_momentum=1.50 loss_charge=0.63\n",
      "epoch=38 / 300 train_loss=23.9704 valid_loss=22.7505 stale=0 time=0.77m eta=204.2m\n",
      "----------------------------------------------------------\n",
      "---->Initiating a training run\n"
     ]
    },
    {
     "name": "stderr",
     "output_type": "stream",
     "text": [
      "100%|██████████████████████████████████████████████████████████████████████████████████████████████████| 52/52 [00:43<00:00,  1.20it/s]\n"
     ]
    },
    {
     "name": "stdout",
     "output_type": "stream",
     "text": [
      "loss_id=21.50 loss_momentum=1.76 loss_charge=0.63\n",
      "---->Initiating a validation run\n"
     ]
    },
    {
     "name": "stderr",
     "output_type": "stream",
     "text": [
      "100%|████████████████████████████████████████████████████████████████████████████████████████████████████| 6/6 [00:03<00:00,  1.94it/s]\n"
     ]
    },
    {
     "name": "stdout",
     "output_type": "stream",
     "text": [
      "loss_id=20.60 loss_momentum=1.49 loss_charge=0.63\n",
      "epoch=39 / 300 train_loss=23.8983 valid_loss=22.7232 stale=0 time=0.78m eta=203.4m\n",
      "----------------------------------------------------------\n",
      "---->Initiating a training run\n"
     ]
    },
    {
     "name": "stderr",
     "output_type": "stream",
     "text": [
      "100%|██████████████████████████████████████████████████████████████████████████████████████████████████| 52/52 [00:42<00:00,  1.23it/s]\n"
     ]
    },
    {
     "name": "stdout",
     "output_type": "stream",
     "text": [
      "loss_id=21.45 loss_momentum=1.76 loss_charge=0.63\n",
      "---->Initiating a validation run\n"
     ]
    },
    {
     "name": "stderr",
     "output_type": "stream",
     "text": [
      "100%|████████████████████████████████████████████████████████████████████████████████████████████████████| 6/6 [00:03<00:00,  1.74it/s]\n"
     ]
    },
    {
     "name": "stdout",
     "output_type": "stream",
     "text": [
      "loss_id=20.56 loss_momentum=1.49 loss_charge=0.63\n",
      "epoch=40 / 300 train_loss=23.836 valid_loss=22.6853 stale=0 time=0.77m eta=202.6m\n",
      "----------------------------------------------------------\n",
      "---->Initiating a training run\n"
     ]
    },
    {
     "name": "stderr",
     "output_type": "stream",
     "text": [
      "100%|██████████████████████████████████████████████████████████████████████████████████████████████████| 52/52 [00:43<00:00,  1.19it/s]\n"
     ]
    },
    {
     "name": "stdout",
     "output_type": "stream",
     "text": [
      "loss_id=21.38 loss_momentum=1.76 loss_charge=0.63\n",
      "---->Initiating a validation run\n"
     ]
    },
    {
     "name": "stderr",
     "output_type": "stream",
     "text": [
      "100%|████████████████████████████████████████████████████████████████████████████████████████████████████| 6/6 [00:03<00:00,  1.90it/s]\n"
     ]
    },
    {
     "name": "stdout",
     "output_type": "stream",
     "text": [
      "loss_id=20.54 loss_momentum=1.49 loss_charge=0.63\n",
      "epoch=41 / 300 train_loss=23.7698 valid_loss=22.6525 stale=0 time=0.78m eta=201.8m\n",
      "----------------------------------------------------------\n",
      "---->Initiating a training run\n"
     ]
    },
    {
     "name": "stderr",
     "output_type": "stream",
     "text": [
      "100%|██████████████████████████████████████████████████████████████████████████████████████████████████| 52/52 [00:43<00:00,  1.19it/s]\n"
     ]
    },
    {
     "name": "stdout",
     "output_type": "stream",
     "text": [
      "loss_id=21.33 loss_momentum=1.75 loss_charge=0.63\n",
      "---->Initiating a validation run\n"
     ]
    },
    {
     "name": "stderr",
     "output_type": "stream",
     "text": [
      "100%|████████████████████████████████████████████████████████████████████████████████████████████████████| 6/6 [00:03<00:00,  1.84it/s]\n"
     ]
    },
    {
     "name": "stdout",
     "output_type": "stream",
     "text": [
      "loss_id=20.51 loss_momentum=1.48 loss_charge=0.63\n",
      "epoch=42 / 300 train_loss=23.7083 valid_loss=22.6277 stale=0 time=0.78m eta=201.1m\n",
      "----------------------------------------------------------\n",
      "---->Initiating a training run\n"
     ]
    },
    {
     "name": "stderr",
     "output_type": "stream",
     "text": [
      "100%|██████████████████████████████████████████████████████████████████████████████████████████████████| 52/52 [00:42<00:00,  1.22it/s]\n"
     ]
    },
    {
     "name": "stdout",
     "output_type": "stream",
     "text": [
      "loss_id=21.28 loss_momentum=1.75 loss_charge=0.63\n",
      "---->Initiating a validation run\n"
     ]
    },
    {
     "name": "stderr",
     "output_type": "stream",
     "text": [
      "100%|████████████████████████████████████████████████████████████████████████████████████████████████████| 6/6 [00:03<00:00,  1.92it/s]\n"
     ]
    },
    {
     "name": "stdout",
     "output_type": "stream",
     "text": [
      "loss_id=20.49 loss_momentum=1.48 loss_charge=0.63\n",
      "epoch=43 / 300 train_loss=23.6533 valid_loss=22.5986 stale=0 time=0.77m eta=200.2m\n",
      "----------------------------------------------------------\n",
      "---->Initiating a training run\n"
     ]
    },
    {
     "name": "stderr",
     "output_type": "stream",
     "text": [
      "100%|██████████████████████████████████████████████████████████████████████████████████████████████████| 52/52 [00:44<00:00,  1.17it/s]\n"
     ]
    },
    {
     "name": "stdout",
     "output_type": "stream",
     "text": [
      "loss_id=21.23 loss_momentum=1.74 loss_charge=0.63\n",
      "---->Initiating a validation run\n"
     ]
    },
    {
     "name": "stderr",
     "output_type": "stream",
     "text": [
      "100%|████████████████████████████████████████████████████████████████████████████████████████████████████| 6/6 [00:03<00:00,  1.94it/s]\n"
     ]
    },
    {
     "name": "stdout",
     "output_type": "stream",
     "text": [
      "loss_id=20.47 loss_momentum=1.48 loss_charge=0.63\n",
      "epoch=44 / 300 train_loss=23.607 valid_loss=22.5773 stale=0 time=0.79m eta=199.5m\n",
      "----------------------------------------------------------\n",
      "---->Initiating a training run\n"
     ]
    },
    {
     "name": "stderr",
     "output_type": "stream",
     "text": [
      "100%|██████████████████████████████████████████████████████████████████████████████████████████████████| 52/52 [00:44<00:00,  1.17it/s]\n"
     ]
    },
    {
     "name": "stdout",
     "output_type": "stream",
     "text": [
      "loss_id=21.19 loss_momentum=1.74 loss_charge=0.63\n",
      "---->Initiating a validation run\n"
     ]
    },
    {
     "name": "stderr",
     "output_type": "stream",
     "text": [
      "100%|████████████████████████████████████████████████████████████████████████████████████████████████████| 6/6 [00:03<00:00,  1.94it/s]\n"
     ]
    },
    {
     "name": "stdout",
     "output_type": "stream",
     "text": [
      "loss_id=20.45 loss_momentum=1.47 loss_charge=0.63\n",
      "epoch=45 / 300 train_loss=23.5647 valid_loss=22.5521 stale=0 time=0.79m eta=198.8m\n",
      "----------------------------------------------------------\n",
      "---->Initiating a training run\n"
     ]
    },
    {
     "name": "stderr",
     "output_type": "stream",
     "text": [
      "100%|██████████████████████████████████████████████████████████████████████████████████████████████████| 52/52 [00:44<00:00,  1.18it/s]\n"
     ]
    },
    {
     "name": "stdout",
     "output_type": "stream",
     "text": [
      "loss_id=21.15 loss_momentum=1.74 loss_charge=0.63\n",
      "---->Initiating a validation run\n"
     ]
    },
    {
     "name": "stderr",
     "output_type": "stream",
     "text": [
      "100%|████████████████████████████████████████████████████████████████████████████████████████████████████| 6/6 [00:03<00:00,  1.96it/s]\n"
     ]
    },
    {
     "name": "stdout",
     "output_type": "stream",
     "text": [
      "loss_id=20.43 loss_momentum=1.47 loss_charge=0.63\n",
      "epoch=46 / 300 train_loss=23.5212 valid_loss=22.5327 stale=0 time=0.79m eta=198.1m\n",
      "----------------------------------------------------------\n",
      "---->Initiating a training run\n"
     ]
    },
    {
     "name": "stderr",
     "output_type": "stream",
     "text": [
      "100%|██████████████████████████████████████████████████████████████████████████████████████████████████| 52/52 [00:42<00:00,  1.22it/s]\n"
     ]
    },
    {
     "name": "stdout",
     "output_type": "stream",
     "text": [
      "loss_id=21.12 loss_momentum=1.74 loss_charge=0.63\n",
      "---->Initiating a validation run\n"
     ]
    },
    {
     "name": "stderr",
     "output_type": "stream",
     "text": [
      "100%|████████████████████████████████████████████████████████████████████████████████████████████████████| 6/6 [00:03<00:00,  1.94it/s]\n"
     ]
    },
    {
     "name": "stdout",
     "output_type": "stream",
     "text": [
      "loss_id=20.41 loss_momentum=1.47 loss_charge=0.63\n",
      "epoch=47 / 300 train_loss=23.4808 valid_loss=22.5084 stale=0 time=0.76m eta=197.2m\n",
      "----------------------------------------------------------\n",
      "---->Initiating a training run\n"
     ]
    },
    {
     "name": "stderr",
     "output_type": "stream",
     "text": [
      "100%|██████████████████████████████████████████████████████████████████████████████████████████████████| 52/52 [00:42<00:00,  1.22it/s]\n"
     ]
    },
    {
     "name": "stdout",
     "output_type": "stream",
     "text": [
      "loss_id=21.08 loss_momentum=1.73 loss_charge=0.63\n",
      "---->Initiating a validation run\n"
     ]
    },
    {
     "name": "stderr",
     "output_type": "stream",
     "text": [
      "100%|████████████████████████████████████████████████████████████████████████████████████████████████████| 6/6 [00:03<00:00,  1.92it/s]\n"
     ]
    },
    {
     "name": "stdout",
     "output_type": "stream",
     "text": [
      "loss_id=20.39 loss_momentum=1.46 loss_charge=0.63\n",
      "epoch=48 / 300 train_loss=23.4373 valid_loss=22.4887 stale=0 time=0.76m eta=196.4m\n",
      "----------------------------------------------------------\n",
      "---->Initiating a training run\n"
     ]
    },
    {
     "name": "stderr",
     "output_type": "stream",
     "text": [
      "100%|██████████████████████████████████████████████████████████████████████████████████████████████████| 52/52 [00:43<00:00,  1.19it/s]\n"
     ]
    },
    {
     "name": "stdout",
     "output_type": "stream",
     "text": [
      "loss_id=21.04 loss_momentum=1.73 loss_charge=0.63\n",
      "---->Initiating a validation run\n"
     ]
    },
    {
     "name": "stderr",
     "output_type": "stream",
     "text": [
      "100%|████████████████████████████████████████████████████████████████████████████████████████████████████| 6/6 [00:03<00:00,  1.94it/s]\n"
     ]
    },
    {
     "name": "stdout",
     "output_type": "stream",
     "text": [
      "loss_id=20.37 loss_momentum=1.46 loss_charge=0.63\n",
      "epoch=49 / 300 train_loss=23.4013 valid_loss=22.4666 stale=0 time=0.78m eta=195.6m\n",
      "----------------------------------------------------------\n",
      "---->Initiating a training run\n"
     ]
    },
    {
     "name": "stderr",
     "output_type": "stream",
     "text": [
      "100%|██████████████████████████████████████████████████████████████████████████████████████████████████| 52/52 [00:43<00:00,  1.18it/s]\n"
     ]
    },
    {
     "name": "stdout",
     "output_type": "stream",
     "text": [
      "loss_id=21.02 loss_momentum=1.73 loss_charge=0.63\n",
      "---->Initiating a validation run\n"
     ]
    },
    {
     "name": "stderr",
     "output_type": "stream",
     "text": [
      "100%|████████████████████████████████████████████████████████████████████████████████████████████████████| 6/6 [00:03<00:00,  1.92it/s]\n"
     ]
    },
    {
     "name": "stdout",
     "output_type": "stream",
     "text": [
      "loss_id=20.36 loss_momentum=1.46 loss_charge=0.63\n",
      "epoch=50 / 300 train_loss=23.3727 valid_loss=22.448 stale=0 time=0.79m eta=194.9m\n",
      "----------------------------------------------------------\n",
      "---->Initiating a training run\n"
     ]
    },
    {
     "name": "stderr",
     "output_type": "stream",
     "text": [
      "100%|██████████████████████████████████████████████████████████████████████████████████████████████████| 52/52 [00:43<00:00,  1.19it/s]\n"
     ]
    },
    {
     "name": "stdout",
     "output_type": "stream",
     "text": [
      "loss_id=20.99 loss_momentum=1.72 loss_charge=0.63\n",
      "---->Initiating a validation run\n"
     ]
    },
    {
     "name": "stderr",
     "output_type": "stream",
     "text": [
      "100%|████████████████████████████████████████████████████████████████████████████████████████████████████| 6/6 [00:03<00:00,  1.87it/s]\n"
     ]
    },
    {
     "name": "stdout",
     "output_type": "stream",
     "text": [
      "loss_id=20.34 loss_momentum=1.45 loss_charge=0.63\n",
      "epoch=51 / 300 train_loss=23.3471 valid_loss=22.4279 stale=0 time=0.78m eta=194.1m\n",
      "----------------------------------------------------------\n",
      "---->Initiating a training run\n"
     ]
    },
    {
     "name": "stderr",
     "output_type": "stream",
     "text": [
      "100%|██████████████████████████████████████████████████████████████████████████████████████████████████| 52/52 [00:42<00:00,  1.22it/s]\n"
     ]
    },
    {
     "name": "stdout",
     "output_type": "stream",
     "text": [
      "loss_id=20.96 loss_momentum=1.72 loss_charge=0.63\n",
      "---->Initiating a validation run\n"
     ]
    },
    {
     "name": "stderr",
     "output_type": "stream",
     "text": [
      "100%|████████████████████████████████████████████████████████████████████████████████████████████████████| 6/6 [00:03<00:00,  1.86it/s]\n"
     ]
    },
    {
     "name": "stdout",
     "output_type": "stream",
     "text": [
      "loss_id=20.33 loss_momentum=1.45 loss_charge=0.63\n",
      "epoch=52 / 300 train_loss=23.3129 valid_loss=22.4121 stale=0 time=0.77m eta=193.3m\n",
      "----------------------------------------------------------\n",
      "---->Initiating a training run\n"
     ]
    },
    {
     "name": "stderr",
     "output_type": "stream",
     "text": [
      "100%|██████████████████████████████████████████████████████████████████████████████████████████████████| 52/52 [00:42<00:00,  1.21it/s]\n"
     ]
    },
    {
     "name": "stdout",
     "output_type": "stream",
     "text": [
      "loss_id=20.93 loss_momentum=1.72 loss_charge=0.63\n",
      "---->Initiating a validation run\n"
     ]
    },
    {
     "name": "stderr",
     "output_type": "stream",
     "text": [
      "100%|████████████████████████████████████████████████████████████████████████████████████████████████████| 6/6 [00:02<00:00,  2.04it/s]\n"
     ]
    },
    {
     "name": "stdout",
     "output_type": "stream",
     "text": [
      "loss_id=20.32 loss_momentum=1.44 loss_charge=0.63\n",
      "epoch=53 / 300 train_loss=23.2767 valid_loss=22.3927 stale=0 time=0.77m eta=192.4m\n",
      "----------------------------------------------------------\n",
      "---->Initiating a training run\n"
     ]
    },
    {
     "name": "stderr",
     "output_type": "stream",
     "text": [
      "100%|██████████████████████████████████████████████████████████████████████████████████████████████████| 52/52 [00:43<00:00,  1.19it/s]\n"
     ]
    },
    {
     "name": "stdout",
     "output_type": "stream",
     "text": [
      "loss_id=20.90 loss_momentum=1.71 loss_charge=0.63\n",
      "---->Initiating a validation run\n"
     ]
    },
    {
     "name": "stderr",
     "output_type": "stream",
     "text": [
      "100%|████████████████████████████████████████████████████████████████████████████████████████████████████| 6/6 [00:03<00:00,  2.00it/s]\n"
     ]
    },
    {
     "name": "stdout",
     "output_type": "stream",
     "text": [
      "loss_id=20.30 loss_momentum=1.44 loss_charge=0.63\n",
      "epoch=54 / 300 train_loss=23.2398 valid_loss=22.3738 stale=0 time=0.78m eta=191.6m\n",
      "----------------------------------------------------------\n",
      "---->Initiating a training run\n"
     ]
    },
    {
     "name": "stderr",
     "output_type": "stream",
     "text": [
      "100%|██████████████████████████████████████████████████████████████████████████████████████████████████| 52/52 [00:42<00:00,  1.23it/s]\n"
     ]
    },
    {
     "name": "stdout",
     "output_type": "stream",
     "text": [
      "loss_id=20.88 loss_momentum=1.71 loss_charge=0.63\n",
      "---->Initiating a validation run\n"
     ]
    },
    {
     "name": "stderr",
     "output_type": "stream",
     "text": [
      "100%|████████████████████████████████████████████████████████████████████████████████████████████████████| 6/6 [00:03<00:00,  1.94it/s]\n"
     ]
    },
    {
     "name": "stdout",
     "output_type": "stream",
     "text": [
      "loss_id=20.29 loss_momentum=1.43 loss_charge=0.63\n",
      "epoch=55 / 300 train_loss=23.2129 valid_loss=22.3469 stale=0 time=0.76m eta=190.8m\n",
      "----------------------------------------------------------\n",
      "---->Initiating a training run\n"
     ]
    },
    {
     "name": "stderr",
     "output_type": "stream",
     "text": [
      "100%|██████████████████████████████████████████████████████████████████████████████████████████████████| 52/52 [00:44<00:00,  1.17it/s]\n"
     ]
    },
    {
     "name": "stdout",
     "output_type": "stream",
     "text": [
      "loss_id=20.84 loss_momentum=1.70 loss_charge=0.63\n",
      "---->Initiating a validation run\n"
     ]
    },
    {
     "name": "stderr",
     "output_type": "stream",
     "text": [
      "100%|████████████████████████████████████████████████████████████████████████████████████████████████████| 6/6 [00:03<00:00,  1.88it/s]\n"
     ]
    },
    {
     "name": "stdout",
     "output_type": "stream",
     "text": [
      "loss_id=20.28 loss_momentum=1.41 loss_charge=0.63\n",
      "epoch=56 / 300 train_loss=23.1705 valid_loss=22.321 stale=0 time=0.79m eta=190.1m\n",
      "----------------------------------------------------------\n",
      "---->Initiating a training run\n"
     ]
    },
    {
     "name": "stderr",
     "output_type": "stream",
     "text": [
      "100%|██████████████████████████████████████████████████████████████████████████████████████████████████| 52/52 [00:44<00:00,  1.18it/s]\n"
     ]
    },
    {
     "name": "stdout",
     "output_type": "stream",
     "text": [
      "loss_id=20.84 loss_momentum=1.68 loss_charge=0.63\n",
      "---->Initiating a validation run\n"
     ]
    },
    {
     "name": "stderr",
     "output_type": "stream",
     "text": [
      "100%|████████████████████████████████████████████████████████████████████████████████████████████████████| 6/6 [00:03<00:00,  1.89it/s]\n"
     ]
    },
    {
     "name": "stdout",
     "output_type": "stream",
     "text": [
      "loss_id=20.26 loss_momentum=1.38 loss_charge=0.63\n",
      "epoch=57 / 300 train_loss=23.1548 valid_loss=22.2798 stale=0 time=0.79m eta=189.3m\n",
      "----------------------------------------------------------\n",
      "---->Initiating a training run\n"
     ]
    },
    {
     "name": "stderr",
     "output_type": "stream",
     "text": [
      "100%|██████████████████████████████████████████████████████████████████████████████████████████████████| 52/52 [00:45<00:00,  1.14it/s]\n"
     ]
    },
    {
     "name": "stdout",
     "output_type": "stream",
     "text": [
      "loss_id=20.80 loss_momentum=1.66 loss_charge=0.63\n",
      "---->Initiating a validation run\n"
     ]
    },
    {
     "name": "stderr",
     "output_type": "stream",
     "text": [
      "100%|████████████████████████████████████████████████████████████████████████████████████████████████████| 6/6 [00:03<00:00,  1.93it/s]\n"
     ]
    },
    {
     "name": "stdout",
     "output_type": "stream",
     "text": [
      "loss_id=20.25 loss_momentum=1.35 loss_charge=0.63\n",
      "epoch=58 / 300 train_loss=23.0948 valid_loss=22.2297 stale=0 time=0.82m eta=188.7m\n",
      "----------------------------------------------------------\n",
      "---->Initiating a training run\n"
     ]
    },
    {
     "name": "stderr",
     "output_type": "stream",
     "text": [
      "100%|██████████████████████████████████████████████████████████████████████████████████████████████████| 52/52 [00:42<00:00,  1.21it/s]\n"
     ]
    },
    {
     "name": "stdout",
     "output_type": "stream",
     "text": [
      "loss_id=20.79 loss_momentum=1.63 loss_charge=0.63\n",
      "---->Initiating a validation run\n"
     ]
    },
    {
     "name": "stderr",
     "output_type": "stream",
     "text": [
      "100%|████████████████████████████████████████████████████████████████████████████████████████████████████| 6/6 [00:03<00:00,  1.93it/s]\n"
     ]
    },
    {
     "name": "stdout",
     "output_type": "stream",
     "text": [
      "loss_id=20.23 loss_momentum=1.32 loss_charge=0.63\n",
      "epoch=59 / 300 train_loss=23.0593 valid_loss=22.1881 stale=0 time=0.77m eta=187.9m\n",
      "----------------------------------------------------------\n",
      "---->Initiating a training run\n"
     ]
    },
    {
     "name": "stderr",
     "output_type": "stream",
     "text": [
      "100%|██████████████████████████████████████████████████████████████████████████████████████████████████| 52/52 [00:42<00:00,  1.21it/s]\n"
     ]
    },
    {
     "name": "stdout",
     "output_type": "stream",
     "text": [
      "loss_id=20.77 loss_momentum=1.61 loss_charge=0.63\n",
      "---->Initiating a validation run\n"
     ]
    },
    {
     "name": "stderr",
     "output_type": "stream",
     "text": [
      "100%|████████████████████████████████████████████████████████████████████████████████████████████████████| 6/6 [00:03<00:00,  1.81it/s]\n"
     ]
    },
    {
     "name": "stdout",
     "output_type": "stream",
     "text": [
      "loss_id=20.22 loss_momentum=1.31 loss_charge=0.63\n",
      "epoch=60 / 300 train_loss=23.0157 valid_loss=22.1584 stale=0 time=0.77m eta=187.0m\n",
      "----------------------------------------------------------\n",
      "---->Initiating a training run\n"
     ]
    },
    {
     "name": "stderr",
     "output_type": "stream",
     "text": [
      "100%|██████████████████████████████████████████████████████████████████████████████████████████████████| 52/52 [00:45<00:00,  1.14it/s]\n"
     ]
    },
    {
     "name": "stdout",
     "output_type": "stream",
     "text": [
      "loss_id=20.74 loss_momentum=1.59 loss_charge=0.63\n",
      "---->Initiating a validation run\n"
     ]
    },
    {
     "name": "stderr",
     "output_type": "stream",
     "text": [
      "100%|████████████████████████████████████████████████████████████████████████████████████████████████████| 6/6 [00:03<00:00,  1.93it/s]\n"
     ]
    },
    {
     "name": "stdout",
     "output_type": "stream",
     "text": [
      "loss_id=20.21 loss_momentum=1.29 loss_charge=0.63\n",
      "epoch=61 / 300 train_loss=22.9635 valid_loss=22.1333 stale=0 time=0.81m eta=186.4m\n",
      "----------------------------------------------------------\n",
      "---->Initiating a training run\n"
     ]
    },
    {
     "name": "stderr",
     "output_type": "stream",
     "text": [
      "100%|██████████████████████████████████████████████████████████████████████████████████████████████████| 52/52 [00:42<00:00,  1.23it/s]\n"
     ]
    },
    {
     "name": "stdout",
     "output_type": "stream",
     "text": [
      "loss_id=20.73 loss_momentum=1.57 loss_charge=0.63\n",
      "---->Initiating a validation run\n"
     ]
    },
    {
     "name": "stderr",
     "output_type": "stream",
     "text": [
      "100%|████████████████████████████████████████████████████████████████████████████████████████████████████| 6/6 [00:03<00:00,  1.97it/s]\n"
     ]
    },
    {
     "name": "stdout",
     "output_type": "stream",
     "text": [
      "loss_id=20.20 loss_momentum=1.28 loss_charge=0.63\n",
      "epoch=62 / 300 train_loss=22.9328 valid_loss=22.1073 stale=0 time=0.76m eta=185.5m\n",
      "----------------------------------------------------------\n",
      "---->Initiating a training run\n"
     ]
    },
    {
     "name": "stderr",
     "output_type": "stream",
     "text": [
      "100%|██████████████████████████████████████████████████████████████████████████████████████████████████| 52/52 [00:46<00:00,  1.13it/s]\n"
     ]
    },
    {
     "name": "stdout",
     "output_type": "stream",
     "text": [
      "loss_id=20.71 loss_momentum=1.56 loss_charge=0.63\n",
      "---->Initiating a validation run\n"
     ]
    },
    {
     "name": "stderr",
     "output_type": "stream",
     "text": [
      "100%|████████████████████████████████████████████████████████████████████████████████████████████████████| 6/6 [00:02<00:00,  2.00it/s]\n"
     ]
    },
    {
     "name": "stdout",
     "output_type": "stream",
     "text": [
      "loss_id=20.18 loss_momentum=1.27 loss_charge=0.63\n",
      "epoch=63 / 300 train_loss=22.9025 valid_loss=22.0836 stale=0 time=0.82m eta=184.9m\n",
      "----------------------------------------------------------\n",
      "---->Initiating a training run\n"
     ]
    },
    {
     "name": "stderr",
     "output_type": "stream",
     "text": [
      "100%|██████████████████████████████████████████████████████████████████████████████████████████████████| 52/52 [00:45<00:00,  1.13it/s]\n"
     ]
    },
    {
     "name": "stdout",
     "output_type": "stream",
     "text": [
      "loss_id=20.68 loss_momentum=1.54 loss_charge=0.63\n",
      "---->Initiating a validation run\n"
     ]
    },
    {
     "name": "stderr",
     "output_type": "stream",
     "text": [
      "100%|████████████████████████████████████████████████████████████████████████████████████████████████████| 6/6 [00:03<00:00,  1.95it/s]\n"
     ]
    },
    {
     "name": "stdout",
     "output_type": "stream",
     "text": [
      "loss_id=20.17 loss_momentum=1.26 loss_charge=0.63\n",
      "epoch=64 / 300 train_loss=22.8588 valid_loss=22.0627 stale=0 time=0.82m eta=184.3m\n",
      "----------------------------------------------------------\n",
      "---->Initiating a training run\n"
     ]
    },
    {
     "name": "stderr",
     "output_type": "stream",
     "text": [
      "100%|██████████████████████████████████████████████████████████████████████████████████████████████████| 52/52 [00:44<00:00,  1.17it/s]\n"
     ]
    },
    {
     "name": "stdout",
     "output_type": "stream",
     "text": [
      "loss_id=20.67 loss_momentum=1.53 loss_charge=0.63\n",
      "---->Initiating a validation run\n"
     ]
    },
    {
     "name": "stderr",
     "output_type": "stream",
     "text": [
      "100%|████████████████████████████████████████████████████████████████████████████████████████████████████| 6/6 [00:03<00:00,  1.93it/s]\n"
     ]
    },
    {
     "name": "stdout",
     "output_type": "stream",
     "text": [
      "loss_id=20.16 loss_momentum=1.25 loss_charge=0.63\n",
      "epoch=65 / 300 train_loss=22.8363 valid_loss=22.0377 stale=0 time=0.79m eta=183.5m\n",
      "----------------------------------------------------------\n",
      "---->Initiating a training run\n"
     ]
    },
    {
     "name": "stderr",
     "output_type": "stream",
     "text": [
      "100%|██████████████████████████████████████████████████████████████████████████████████████████████████| 52/52 [00:44<00:00,  1.17it/s]\n"
     ]
    },
    {
     "name": "stdout",
     "output_type": "stream",
     "text": [
      "loss_id=20.65 loss_momentum=1.52 loss_charge=0.63\n",
      "---->Initiating a validation run\n"
     ]
    },
    {
     "name": "stderr",
     "output_type": "stream",
     "text": [
      "100%|████████████████████████████████████████████████████████████████████████████████████████████████████| 6/6 [00:03<00:00,  1.95it/s]\n"
     ]
    },
    {
     "name": "stdout",
     "output_type": "stream",
     "text": [
      "loss_id=20.14 loss_momentum=1.24 loss_charge=0.63\n",
      "epoch=66 / 300 train_loss=22.7988 valid_loss=22.0162 stale=0 time=0.8m eta=182.8m\n",
      "----------------------------------------------------------\n",
      "---->Initiating a training run\n"
     ]
    },
    {
     "name": "stderr",
     "output_type": "stream",
     "text": [
      "100%|██████████████████████████████████████████████████████████████████████████████████████████████████| 52/52 [00:44<00:00,  1.17it/s]\n"
     ]
    },
    {
     "name": "stdout",
     "output_type": "stream",
     "text": [
      "loss_id=20.65 loss_momentum=1.51 loss_charge=0.63\n",
      "---->Initiating a validation run\n"
     ]
    },
    {
     "name": "stderr",
     "output_type": "stream",
     "text": [
      "100%|████████████████████████████████████████████████████████████████████████████████████████████████████| 6/6 [00:03<00:00,  1.78it/s]\n"
     ]
    },
    {
     "name": "stdout",
     "output_type": "stream",
     "text": [
      "loss_id=20.13 loss_momentum=1.23 loss_charge=0.63\n",
      "epoch=67 / 300 train_loss=22.7889 valid_loss=21.9968 stale=0 time=0.8m eta=182.1m\n",
      "----------------------------------------------------------\n",
      "---->Initiating a training run\n"
     ]
    },
    {
     "name": "stderr",
     "output_type": "stream",
     "text": [
      "100%|██████████████████████████████████████████████████████████████████████████████████████████████████| 52/52 [00:43<00:00,  1.19it/s]\n"
     ]
    },
    {
     "name": "stdout",
     "output_type": "stream",
     "text": [
      "loss_id=20.62 loss_momentum=1.50 loss_charge=0.63\n",
      "---->Initiating a validation run\n"
     ]
    },
    {
     "name": "stderr",
     "output_type": "stream",
     "text": [
      "100%|████████████████████████████████████████████████████████████████████████████████████████████████████| 6/6 [00:03<00:00,  1.94it/s]\n"
     ]
    },
    {
     "name": "stdout",
     "output_type": "stream",
     "text": [
      "loss_id=20.12 loss_momentum=1.22 loss_charge=0.63\n",
      "epoch=68 / 300 train_loss=22.7516 valid_loss=21.968 stale=0 time=0.78m eta=181.3m\n",
      "----------------------------------------------------------\n",
      "---->Initiating a training run\n"
     ]
    },
    {
     "name": "stderr",
     "output_type": "stream",
     "text": [
      "100%|██████████████████████████████████████████████████████████████████████████████████████████████████| 52/52 [00:43<00:00,  1.20it/s]\n"
     ]
    },
    {
     "name": "stdout",
     "output_type": "stream",
     "text": [
      "loss_id=20.60 loss_momentum=1.49 loss_charge=0.63\n",
      "---->Initiating a validation run\n"
     ]
    },
    {
     "name": "stderr",
     "output_type": "stream",
     "text": [
      "100%|████████████████████████████████████████████████████████████████████████████████████████████████████| 6/6 [00:03<00:00,  1.87it/s]\n"
     ]
    },
    {
     "name": "stdout",
     "output_type": "stream",
     "text": [
      "loss_id=20.11 loss_momentum=1.21 loss_charge=0.63\n",
      "epoch=69 / 300 train_loss=22.7202 valid_loss=21.9527 stale=0 time=0.78m eta=180.5m\n",
      "----------------------------------------------------------\n",
      "---->Initiating a training run\n"
     ]
    },
    {
     "name": "stderr",
     "output_type": "stream",
     "text": [
      "100%|██████████████████████████████████████████████████████████████████████████████████████████████████| 52/52 [00:44<00:00,  1.17it/s]\n"
     ]
    },
    {
     "name": "stdout",
     "output_type": "stream",
     "text": [
      "loss_id=20.58 loss_momentum=1.48 loss_charge=0.63\n",
      "---->Initiating a validation run\n"
     ]
    },
    {
     "name": "stderr",
     "output_type": "stream",
     "text": [
      "100%|████████████████████████████████████████████████████████████████████████████████████████████████████| 6/6 [00:03<00:00,  1.86it/s]\n"
     ]
    },
    {
     "name": "stdout",
     "output_type": "stream",
     "text": [
      "loss_id=20.09 loss_momentum=1.21 loss_charge=0.63\n",
      "epoch=70 / 300 train_loss=22.696 valid_loss=21.9307 stale=0 time=0.79m eta=179.8m\n",
      "----------------------------------------------------------\n",
      "---->Initiating a training run\n"
     ]
    },
    {
     "name": "stderr",
     "output_type": "stream",
     "text": [
      "100%|██████████████████████████████████████████████████████████████████████████████████████████████████| 52/52 [00:44<00:00,  1.17it/s]\n"
     ]
    },
    {
     "name": "stdout",
     "output_type": "stream",
     "text": [
      "loss_id=20.56 loss_momentum=1.48 loss_charge=0.63\n",
      "---->Initiating a validation run\n"
     ]
    },
    {
     "name": "stderr",
     "output_type": "stream",
     "text": [
      "100%|████████████████████████████████████████████████████████████████████████████████████████████████████| 6/6 [00:03<00:00,  1.94it/s]\n"
     ]
    },
    {
     "name": "stdout",
     "output_type": "stream",
     "text": [
      "loss_id=20.08 loss_momentum=1.20 loss_charge=0.63\n",
      "epoch=71 / 300 train_loss=22.6683 valid_loss=21.9112 stale=0 time=0.79m eta=179.0m\n",
      "----------------------------------------------------------\n",
      "---->Initiating a training run\n"
     ]
    },
    {
     "name": "stderr",
     "output_type": "stream",
     "text": [
      "100%|██████████████████████████████████████████████████████████████████████████████████████████████████| 52/52 [00:44<00:00,  1.17it/s]\n"
     ]
    },
    {
     "name": "stdout",
     "output_type": "stream",
     "text": [
      "loss_id=20.55 loss_momentum=1.47 loss_charge=0.63\n",
      "---->Initiating a validation run\n"
     ]
    },
    {
     "name": "stderr",
     "output_type": "stream",
     "text": [
      "100%|████████████████████████████████████████████████████████████████████████████████████████████████████| 6/6 [00:03<00:00,  1.87it/s]\n"
     ]
    },
    {
     "name": "stdout",
     "output_type": "stream",
     "text": [
      "loss_id=20.07 loss_momentum=1.19 loss_charge=0.63\n",
      "epoch=72 / 300 train_loss=22.6459 valid_loss=21.8915 stale=0 time=0.79m eta=178.3m\n",
      "----------------------------------------------------------\n",
      "---->Initiating a training run\n"
     ]
    },
    {
     "name": "stderr",
     "output_type": "stream",
     "text": [
      "100%|██████████████████████████████████████████████████████████████████████████████████████████████████| 52/52 [00:45<00:00,  1.14it/s]\n"
     ]
    },
    {
     "name": "stdout",
     "output_type": "stream",
     "text": [
      "loss_id=20.53 loss_momentum=1.46 loss_charge=0.63\n",
      "---->Initiating a validation run\n"
     ]
    },
    {
     "name": "stderr",
     "output_type": "stream",
     "text": [
      "100%|████████████████████████████████████████████████████████████████████████████████████████████████████| 6/6 [00:03<00:00,  1.89it/s]\n"
     ]
    },
    {
     "name": "stdout",
     "output_type": "stream",
     "text": [
      "loss_id=20.05 loss_momentum=1.19 loss_charge=0.63\n",
      "epoch=73 / 300 train_loss=22.6248 valid_loss=21.8721 stale=0 time=0.82m eta=177.6m\n",
      "----------------------------------------------------------\n",
      "---->Initiating a training run\n"
     ]
    },
    {
     "name": "stderr",
     "output_type": "stream",
     "text": [
      "100%|██████████████████████████████████████████████████████████████████████████████████████████████████| 52/52 [00:44<00:00,  1.16it/s]\n"
     ]
    },
    {
     "name": "stdout",
     "output_type": "stream",
     "text": [
      "loss_id=20.52 loss_momentum=1.46 loss_charge=0.63\n",
      "---->Initiating a validation run\n"
     ]
    },
    {
     "name": "stderr",
     "output_type": "stream",
     "text": [
      "100%|████████████████████████████████████████████████████████████████████████████████████████████████████| 6/6 [00:03<00:00,  1.89it/s]\n"
     ]
    },
    {
     "name": "stdout",
     "output_type": "stream",
     "text": [
      "loss_id=20.05 loss_momentum=1.18 loss_charge=0.63\n",
      "epoch=74 / 300 train_loss=22.6024 valid_loss=21.8626 stale=0 time=0.8m eta=176.9m\n",
      "----------------------------------------------------------\n",
      "---->Initiating a training run\n"
     ]
    },
    {
     "name": "stderr",
     "output_type": "stream",
     "text": [
      "100%|██████████████████████████████████████████████████████████████████████████████████████████████████| 52/52 [00:44<00:00,  1.17it/s]\n"
     ]
    },
    {
     "name": "stdout",
     "output_type": "stream",
     "text": [
      "loss_id=20.50 loss_momentum=1.45 loss_charge=0.63\n",
      "---->Initiating a validation run\n"
     ]
    },
    {
     "name": "stderr",
     "output_type": "stream",
     "text": [
      "100%|████████████████████████████████████████████████████████████████████████████████████████████████████| 6/6 [00:03<00:00,  1.99it/s]\n"
     ]
    },
    {
     "name": "stdout",
     "output_type": "stream",
     "text": [
      "loss_id=20.04 loss_momentum=1.17 loss_charge=0.63\n",
      "epoch=75 / 300 train_loss=22.58 valid_loss=21.8404 stale=0 time=0.79m eta=176.1m\n",
      "----------------------------------------------------------\n",
      "---->Initiating a training run\n"
     ]
    },
    {
     "name": "stderr",
     "output_type": "stream",
     "text": [
      "100%|██████████████████████████████████████████████████████████████████████████████████████████████████| 52/52 [00:42<00:00,  1.23it/s]\n"
     ]
    },
    {
     "name": "stdout",
     "output_type": "stream",
     "text": [
      "loss_id=20.50 loss_momentum=1.45 loss_charge=0.63\n",
      "---->Initiating a validation run\n"
     ]
    },
    {
     "name": "stderr",
     "output_type": "stream",
     "text": [
      "100%|████████████████████████████████████████████████████████████████████████████████████████████████████| 6/6 [00:03<00:00,  1.78it/s]\n"
     ]
    },
    {
     "name": "stdout",
     "output_type": "stream",
     "text": [
      "loss_id=20.02 loss_momentum=1.17 loss_charge=0.63\n",
      "epoch=76 / 300 train_loss=22.5751 valid_loss=21.8221 stale=0 time=0.76m eta=175.3m\n",
      "----------------------------------------------------------\n",
      "---->Initiating a training run\n"
     ]
    },
    {
     "name": "stderr",
     "output_type": "stream",
     "text": [
      "100%|██████████████████████████████████████████████████████████████████████████████████████████████████| 52/52 [00:44<00:00,  1.17it/s]\n"
     ]
    },
    {
     "name": "stdout",
     "output_type": "stream",
     "text": [
      "loss_id=20.47 loss_momentum=1.44 loss_charge=0.63\n",
      "---->Initiating a validation run\n"
     ]
    },
    {
     "name": "stderr",
     "output_type": "stream",
     "text": [
      "100%|████████████████████████████████████████████████████████████████████████████████████████████████████| 6/6 [00:03<00:00,  1.92it/s]\n"
     ]
    },
    {
     "name": "stdout",
     "output_type": "stream",
     "text": [
      "loss_id=20.02 loss_momentum=1.16 loss_charge=0.63\n",
      "epoch=77 / 300 train_loss=22.5382 valid_loss=21.807 stale=0 time=0.8m eta=174.5m\n",
      "----------------------------------------------------------\n",
      "---->Initiating a training run\n"
     ]
    },
    {
     "name": "stderr",
     "output_type": "stream",
     "text": [
      "100%|██████████████████████████████████████████████████████████████████████████████████████████████████| 52/52 [00:42<00:00,  1.22it/s]\n"
     ]
    },
    {
     "name": "stdout",
     "output_type": "stream",
     "text": [
      "loss_id=20.46 loss_momentum=1.43 loss_charge=0.63\n",
      "---->Initiating a validation run\n"
     ]
    },
    {
     "name": "stderr",
     "output_type": "stream",
     "text": [
      "100%|████████████████████████████████████████████████████████████████████████████████████████████████████| 6/6 [00:03<00:00,  1.90it/s]\n"
     ]
    },
    {
     "name": "stdout",
     "output_type": "stream",
     "text": [
      "loss_id=20.01 loss_momentum=1.15 loss_charge=0.63\n",
      "epoch=78 / 300 train_loss=22.5263 valid_loss=21.7925 stale=0 time=0.77m eta=173.7m\n",
      "----------------------------------------------------------\n",
      "---->Initiating a training run\n"
     ]
    },
    {
     "name": "stderr",
     "output_type": "stream",
     "text": [
      "100%|██████████████████████████████████████████████████████████████████████████████████████████████████| 52/52 [00:43<00:00,  1.19it/s]\n"
     ]
    },
    {
     "name": "stdout",
     "output_type": "stream",
     "text": [
      "loss_id=20.45 loss_momentum=1.43 loss_charge=0.63\n",
      "---->Initiating a validation run\n"
     ]
    },
    {
     "name": "stderr",
     "output_type": "stream",
     "text": [
      "100%|████████████████████████████████████████████████████████████████████████████████████████████████████| 6/6 [00:03<00:00,  1.83it/s]\n"
     ]
    },
    {
     "name": "stdout",
     "output_type": "stream",
     "text": [
      "loss_id=20.00 loss_momentum=1.14 loss_charge=0.63\n",
      "epoch=79 / 300 train_loss=22.5102 valid_loss=21.7721 stale=0 time=0.79m eta=172.9m\n",
      "----------------------------------------------------------\n",
      "---->Initiating a training run\n"
     ]
    },
    {
     "name": "stderr",
     "output_type": "stream",
     "text": [
      "100%|██████████████████████████████████████████████████████████████████████████████████████████████████| 52/52 [00:43<00:00,  1.21it/s]\n"
     ]
    },
    {
     "name": "stdout",
     "output_type": "stream",
     "text": [
      "loss_id=20.44 loss_momentum=1.42 loss_charge=0.63\n",
      "---->Initiating a validation run\n"
     ]
    },
    {
     "name": "stderr",
     "output_type": "stream",
     "text": [
      "100%|████████████████████████████████████████████████████████████████████████████████████████████████████| 6/6 [00:03<00:00,  1.87it/s]\n"
     ]
    },
    {
     "name": "stdout",
     "output_type": "stream",
     "text": [
      "loss_id=19.99 loss_momentum=1.14 loss_charge=0.63\n",
      "epoch=80 / 300 train_loss=22.4934 valid_loss=21.7558 stale=0 time=0.77m eta=172.1m\n",
      "----------------------------------------------------------\n",
      "---->Initiating a training run\n"
     ]
    },
    {
     "name": "stderr",
     "output_type": "stream",
     "text": [
      "100%|██████████████████████████████████████████████████████████████████████████████████████████████████| 52/52 [00:44<00:00,  1.16it/s]\n"
     ]
    },
    {
     "name": "stdout",
     "output_type": "stream",
     "text": [
      "loss_id=20.42 loss_momentum=1.42 loss_charge=0.63\n",
      "---->Initiating a validation run\n"
     ]
    },
    {
     "name": "stderr",
     "output_type": "stream",
     "text": [
      "100%|████████████████████████████████████████████████████████████████████████████████████████████████████| 6/6 [00:03<00:00,  1.94it/s]\n"
     ]
    },
    {
     "name": "stdout",
     "output_type": "stream",
     "text": [
      "loss_id=19.98 loss_momentum=1.13 loss_charge=0.63\n",
      "epoch=81 / 300 train_loss=22.4644 valid_loss=21.7399 stale=0 time=0.8m eta=171.4m\n",
      "----------------------------------------------------------\n",
      "---->Initiating a training run\n"
     ]
    },
    {
     "name": "stderr",
     "output_type": "stream",
     "text": [
      "100%|██████████████████████████████████████████████████████████████████████████████████████████████████| 52/52 [00:44<00:00,  1.17it/s]\n"
     ]
    },
    {
     "name": "stdout",
     "output_type": "stream",
     "text": [
      "loss_id=20.41 loss_momentum=1.41 loss_charge=0.63\n",
      "---->Initiating a validation run\n"
     ]
    },
    {
     "name": "stderr",
     "output_type": "stream",
     "text": [
      "100%|████████████████████████████████████████████████████████████████████████████████████████████████████| 6/6 [00:03<00:00,  1.94it/s]\n"
     ]
    },
    {
     "name": "stdout",
     "output_type": "stream",
     "text": [
      "loss_id=19.97 loss_momentum=1.13 loss_charge=0.63\n",
      "epoch=82 / 300 train_loss=22.4462 valid_loss=21.7271 stale=0 time=0.8m eta=170.6m\n",
      "----------------------------------------------------------\n",
      "---->Initiating a training run\n"
     ]
    },
    {
     "name": "stderr",
     "output_type": "stream",
     "text": [
      "100%|██████████████████████████████████████████████████████████████████████████████████████████████████| 52/52 [00:43<00:00,  1.19it/s]\n"
     ]
    },
    {
     "name": "stdout",
     "output_type": "stream",
     "text": [
      "loss_id=20.40 loss_momentum=1.41 loss_charge=0.63\n",
      "---->Initiating a validation run\n"
     ]
    },
    {
     "name": "stderr",
     "output_type": "stream",
     "text": [
      "100%|████████████████████████████████████████████████████████████████████████████████████████████████████| 6/6 [00:02<00:00,  2.00it/s]\n"
     ]
    },
    {
     "name": "stdout",
     "output_type": "stream",
     "text": [
      "loss_id=19.96 loss_momentum=1.12 loss_charge=0.63\n",
      "epoch=83 / 300 train_loss=22.433 valid_loss=21.7124 stale=0 time=0.78m eta=169.9m\n",
      "----------------------------------------------------------\n",
      "---->Initiating a training run\n"
     ]
    },
    {
     "name": "stderr",
     "output_type": "stream",
     "text": [
      "100%|██████████████████████████████████████████████████████████████████████████████████████████████████| 52/52 [00:43<00:00,  1.19it/s]\n"
     ]
    },
    {
     "name": "stdout",
     "output_type": "stream",
     "text": [
      "loss_id=20.38 loss_momentum=1.40 loss_charge=0.63\n",
      "---->Initiating a validation run\n"
     ]
    },
    {
     "name": "stderr",
     "output_type": "stream",
     "text": [
      "100%|████████████████████████████████████████████████████████████████████████████████████████████████████| 6/6 [00:03<00:00,  1.93it/s]\n"
     ]
    },
    {
     "name": "stdout",
     "output_type": "stream",
     "text": [
      "loss_id=19.95 loss_momentum=1.12 loss_charge=0.63\n",
      "epoch=84 / 300 train_loss=22.4145 valid_loss=21.7023 stale=0 time=0.78m eta=169.1m\n",
      "----------------------------------------------------------\n",
      "---->Initiating a training run\n"
     ]
    },
    {
     "name": "stderr",
     "output_type": "stream",
     "text": [
      "100%|██████████████████████████████████████████████████████████████████████████████████████████████████| 52/52 [00:43<00:00,  1.19it/s]\n"
     ]
    },
    {
     "name": "stdout",
     "output_type": "stream",
     "text": [
      "loss_id=20.36 loss_momentum=1.40 loss_charge=0.63\n",
      "---->Initiating a validation run\n"
     ]
    },
    {
     "name": "stderr",
     "output_type": "stream",
     "text": [
      "100%|████████████████████████████████████████████████████████████████████████████████████████████████████| 6/6 [00:03<00:00,  1.88it/s]\n"
     ]
    },
    {
     "name": "stdout",
     "output_type": "stream",
     "text": [
      "loss_id=19.94 loss_momentum=1.12 loss_charge=0.63\n",
      "epoch=85 / 300 train_loss=22.392 valid_loss=21.6919 stale=0 time=0.78m eta=168.3m\n",
      "----------------------------------------------------------\n",
      "---->Initiating a training run\n"
     ]
    },
    {
     "name": "stderr",
     "output_type": "stream",
     "text": [
      "100%|██████████████████████████████████████████████████████████████████████████████████████████████████| 52/52 [00:43<00:00,  1.19it/s]\n"
     ]
    },
    {
     "name": "stdout",
     "output_type": "stream",
     "text": [
      "loss_id=20.35 loss_momentum=1.39 loss_charge=0.63\n",
      "---->Initiating a validation run\n"
     ]
    },
    {
     "name": "stderr",
     "output_type": "stream",
     "text": [
      "100%|████████████████████████████████████████████████████████████████████████████████████████████████████| 6/6 [00:03<00:00,  1.93it/s]\n"
     ]
    },
    {
     "name": "stdout",
     "output_type": "stream",
     "text": [
      "loss_id=19.93 loss_momentum=1.11 loss_charge=0.63\n",
      "epoch=86 / 300 train_loss=22.3778 valid_loss=21.6754 stale=0 time=0.78m eta=167.5m\n",
      "----------------------------------------------------------\n",
      "---->Initiating a training run\n"
     ]
    },
    {
     "name": "stderr",
     "output_type": "stream",
     "text": [
      "100%|██████████████████████████████████████████████████████████████████████████████████████████████████| 52/52 [00:45<00:00,  1.14it/s]\n"
     ]
    },
    {
     "name": "stdout",
     "output_type": "stream",
     "text": [
      "loss_id=20.35 loss_momentum=1.39 loss_charge=0.63\n",
      "---->Initiating a validation run\n"
     ]
    },
    {
     "name": "stderr",
     "output_type": "stream",
     "text": [
      "100%|████████████████████████████████████████████████████████████████████████████████████████████████████| 6/6 [00:03<00:00,  1.94it/s]\n"
     ]
    },
    {
     "name": "stdout",
     "output_type": "stream",
     "text": [
      "loss_id=19.93 loss_momentum=1.11 loss_charge=0.63\n",
      "epoch=87 / 300 train_loss=22.3675 valid_loss=21.6681 stale=0 time=0.81m eta=166.8m\n",
      "----------------------------------------------------------\n",
      "---->Initiating a training run\n"
     ]
    },
    {
     "name": "stderr",
     "output_type": "stream",
     "text": [
      "100%|██████████████████████████████████████████████████████████████████████████████████████████████████| 52/52 [00:44<00:00,  1.18it/s]\n"
     ]
    },
    {
     "name": "stdout",
     "output_type": "stream",
     "text": [
      "loss_id=20.35 loss_momentum=1.39 loss_charge=0.63\n",
      "---->Initiating a validation run\n"
     ]
    },
    {
     "name": "stderr",
     "output_type": "stream",
     "text": [
      "100%|████████████████████████████████████████████████████████████████████████████████████████████████████| 6/6 [00:02<00:00,  2.02it/s]\n"
     ]
    },
    {
     "name": "stdout",
     "output_type": "stream",
     "text": [
      "loss_id=19.92 loss_momentum=1.11 loss_charge=0.63\n",
      "epoch=88 / 300 train_loss=22.366 valid_loss=21.6604 stale=0 time=0.79m eta=166.0m\n",
      "----------------------------------------------------------\n",
      "---->Initiating a training run\n"
     ]
    },
    {
     "name": "stderr",
     "output_type": "stream",
     "text": [
      "100%|██████████████████████████████████████████████████████████████████████████████████████████████████| 52/52 [00:43<00:00,  1.19it/s]\n"
     ]
    },
    {
     "name": "stdout",
     "output_type": "stream",
     "text": [
      "loss_id=20.32 loss_momentum=1.38 loss_charge=0.63\n",
      "---->Initiating a validation run\n"
     ]
    },
    {
     "name": "stderr",
     "output_type": "stream",
     "text": [
      "100%|████████████████████████████████████████████████████████████████████████████████████████████████████| 6/6 [00:03<00:00,  1.92it/s]\n"
     ]
    },
    {
     "name": "stdout",
     "output_type": "stream",
     "text": [
      "loss_id=19.91 loss_momentum=1.10 loss_charge=0.63\n",
      "epoch=89 / 300 train_loss=22.3347 valid_loss=21.6473 stale=0 time=0.78m eta=165.2m\n",
      "----------------------------------------------------------\n",
      "---->Initiating a training run\n"
     ]
    },
    {
     "name": "stderr",
     "output_type": "stream",
     "text": [
      "100%|██████████████████████████████████████████████████████████████████████████████████████████████████| 52/52 [00:43<00:00,  1.19it/s]\n"
     ]
    },
    {
     "name": "stdout",
     "output_type": "stream",
     "text": [
      "loss_id=20.31 loss_momentum=1.38 loss_charge=0.63\n",
      "---->Initiating a validation run\n"
     ]
    },
    {
     "name": "stderr",
     "output_type": "stream",
     "text": [
      "100%|████████████████████████████████████████████████████████████████████████████████████████████████████| 6/6 [00:03<00:00,  1.94it/s]\n"
     ]
    },
    {
     "name": "stdout",
     "output_type": "stream",
     "text": [
      "loss_id=19.90 loss_momentum=1.10 loss_charge=0.63\n",
      "epoch=90 / 300 train_loss=22.3205 valid_loss=21.6363 stale=0 time=0.78m eta=164.4m\n",
      "----------------------------------------------------------\n",
      "---->Initiating a training run\n"
     ]
    },
    {
     "name": "stderr",
     "output_type": "stream",
     "text": [
      "100%|██████████████████████████████████████████████████████████████████████████████████████████████████| 52/52 [00:42<00:00,  1.24it/s]\n"
     ]
    },
    {
     "name": "stdout",
     "output_type": "stream",
     "text": [
      "loss_id=20.31 loss_momentum=1.38 loss_charge=0.63\n",
      "---->Initiating a validation run\n"
     ]
    },
    {
     "name": "stderr",
     "output_type": "stream",
     "text": [
      "100%|████████████████████████████████████████████████████████████████████████████████████████████████████| 6/6 [00:03<00:00,  1.93it/s]\n"
     ]
    },
    {
     "name": "stdout",
     "output_type": "stream",
     "text": [
      "loss_id=19.90 loss_momentum=1.10 loss_charge=0.63\n",
      "epoch=91 / 300 train_loss=22.3193 valid_loss=21.6282 stale=0 time=0.75m eta=163.6m\n",
      "----------------------------------------------------------\n",
      "---->Initiating a training run\n"
     ]
    },
    {
     "name": "stderr",
     "output_type": "stream",
     "text": [
      "100%|██████████████████████████████████████████████████████████████████████████████████████████████████| 52/52 [00:44<00:00,  1.18it/s]\n"
     ]
    },
    {
     "name": "stdout",
     "output_type": "stream",
     "text": [
      "loss_id=20.30 loss_momentum=1.38 loss_charge=0.63\n",
      "---->Initiating a validation run\n"
     ]
    },
    {
     "name": "stderr",
     "output_type": "stream",
     "text": [
      "100%|████████████████████████████████████████████████████████████████████████████████████████████████████| 6/6 [00:03<00:00,  1.95it/s]\n"
     ]
    },
    {
     "name": "stdout",
     "output_type": "stream",
     "text": [
      "loss_id=19.89 loss_momentum=1.10 loss_charge=0.63\n",
      "epoch=92 / 300 train_loss=22.3024 valid_loss=21.6163 stale=0 time=0.79m eta=162.8m\n",
      "----------------------------------------------------------\n",
      "---->Initiating a training run\n"
     ]
    },
    {
     "name": "stderr",
     "output_type": "stream",
     "text": [
      "100%|██████████████████████████████████████████████████████████████████████████████████████████████████| 52/52 [00:42<00:00,  1.21it/s]\n"
     ]
    },
    {
     "name": "stdout",
     "output_type": "stream",
     "text": [
      "loss_id=20.28 loss_momentum=1.37 loss_charge=0.63\n",
      "---->Initiating a validation run\n"
     ]
    },
    {
     "name": "stderr",
     "output_type": "stream",
     "text": [
      "100%|████████████████████████████████████████████████████████████████████████████████████████████████████| 6/6 [00:03<00:00,  1.86it/s]\n"
     ]
    },
    {
     "name": "stdout",
     "output_type": "stream",
     "text": [
      "loss_id=19.88 loss_momentum=1.10 loss_charge=0.63\n",
      "epoch=93 / 300 train_loss=22.2868 valid_loss=21.6124 stale=0 time=0.77m eta=162.0m\n",
      "----------------------------------------------------------\n",
      "---->Initiating a training run\n"
     ]
    },
    {
     "name": "stderr",
     "output_type": "stream",
     "text": [
      "100%|██████████████████████████████████████████████████████████████████████████████████████████████████| 52/52 [00:45<00:00,  1.13it/s]\n"
     ]
    },
    {
     "name": "stdout",
     "output_type": "stream",
     "text": [
      "loss_id=20.28 loss_momentum=1.37 loss_charge=0.63\n",
      "---->Initiating a validation run\n"
     ]
    },
    {
     "name": "stderr",
     "output_type": "stream",
     "text": [
      "100%|████████████████████████████████████████████████████████████████████████████████████████████████████| 6/6 [00:03<00:00,  1.88it/s]\n"
     ]
    },
    {
     "name": "stdout",
     "output_type": "stream",
     "text": [
      "loss_id=19.87 loss_momentum=1.10 loss_charge=0.63\n",
      "epoch=94 / 300 train_loss=22.2788 valid_loss=21.5998 stale=0 time=0.82m eta=161.3m\n",
      "----------------------------------------------------------\n",
      "---->Initiating a training run\n"
     ]
    },
    {
     "name": "stderr",
     "output_type": "stream",
     "text": [
      "100%|██████████████████████████████████████████████████████████████████████████████████████████████████| 52/52 [00:43<00:00,  1.20it/s]\n"
     ]
    },
    {
     "name": "stdout",
     "output_type": "stream",
     "text": [
      "loss_id=20.26 loss_momentum=1.37 loss_charge=0.63\n",
      "---->Initiating a validation run\n"
     ]
    },
    {
     "name": "stderr",
     "output_type": "stream",
     "text": [
      "100%|████████████████████████████████████████████████████████████████████████████████████████████████████| 6/6 [00:03<00:00,  1.94it/s]\n"
     ]
    },
    {
     "name": "stdout",
     "output_type": "stream",
     "text": [
      "loss_id=19.87 loss_momentum=1.10 loss_charge=0.63\n",
      "epoch=95 / 300 train_loss=22.2554 valid_loss=21.593 stale=0 time=0.78m eta=160.5m\n",
      "----------------------------------------------------------\n",
      "---->Initiating a training run\n"
     ]
    },
    {
     "name": "stderr",
     "output_type": "stream",
     "text": [
      "100%|██████████████████████████████████████████████████████████████████████████████████████████████████| 52/52 [00:44<00:00,  1.17it/s]\n"
     ]
    },
    {
     "name": "stdout",
     "output_type": "stream",
     "text": [
      "loss_id=20.25 loss_momentum=1.37 loss_charge=0.63\n",
      "---->Initiating a validation run\n"
     ]
    },
    {
     "name": "stderr",
     "output_type": "stream",
     "text": [
      "100%|████████████████████████████████████████████████████████████████████████████████████████████████████| 6/6 [00:03<00:00,  1.96it/s]\n"
     ]
    },
    {
     "name": "stdout",
     "output_type": "stream",
     "text": [
      "loss_id=19.86 loss_momentum=1.09 loss_charge=0.63\n",
      "epoch=96 / 300 train_loss=22.2495 valid_loss=21.5847 stale=0 time=0.79m eta=159.7m\n",
      "----------------------------------------------------------\n",
      "---->Initiating a training run\n"
     ]
    },
    {
     "name": "stderr",
     "output_type": "stream",
     "text": [
      "100%|██████████████████████████████████████████████████████████████████████████████████████████████████| 52/52 [00:43<00:00,  1.20it/s]\n"
     ]
    },
    {
     "name": "stdout",
     "output_type": "stream",
     "text": [
      "loss_id=20.24 loss_momentum=1.37 loss_charge=0.63\n",
      "---->Initiating a validation run\n"
     ]
    },
    {
     "name": "stderr",
     "output_type": "stream",
     "text": [
      "100%|████████████████████████████████████████████████████████████████████████████████████████████████████| 6/6 [00:03<00:00,  1.94it/s]\n"
     ]
    },
    {
     "name": "stdout",
     "output_type": "stream",
     "text": [
      "loss_id=19.85 loss_momentum=1.09 loss_charge=0.63\n",
      "epoch=97 / 300 train_loss=22.2369 valid_loss=21.5754 stale=0 time=0.78m eta=158.9m\n",
      "----------------------------------------------------------\n",
      "---->Initiating a training run\n"
     ]
    },
    {
     "name": "stderr",
     "output_type": "stream",
     "text": [
      "100%|██████████████████████████████████████████████████████████████████████████████████████████████████| 52/52 [00:43<00:00,  1.19it/s]\n"
     ]
    },
    {
     "name": "stdout",
     "output_type": "stream",
     "text": [
      "loss_id=20.23 loss_momentum=1.36 loss_charge=0.63\n",
      "---->Initiating a validation run\n"
     ]
    },
    {
     "name": "stderr",
     "output_type": "stream",
     "text": [
      "100%|████████████████████████████████████████████████████████████████████████████████████████████████████| 6/6 [00:03<00:00,  1.93it/s]\n"
     ]
    },
    {
     "name": "stdout",
     "output_type": "stream",
     "text": [
      "loss_id=19.84 loss_momentum=1.09 loss_charge=0.63\n",
      "epoch=98 / 300 train_loss=22.2241 valid_loss=21.5639 stale=0 time=0.78m eta=158.2m\n",
      "----------------------------------------------------------\n",
      "---->Initiating a training run\n"
     ]
    },
    {
     "name": "stderr",
     "output_type": "stream",
     "text": [
      "100%|██████████████████████████████████████████████████████████████████████████████████████████████████| 52/52 [00:44<00:00,  1.17it/s]\n"
     ]
    },
    {
     "name": "stdout",
     "output_type": "stream",
     "text": [
      "loss_id=20.22 loss_momentum=1.36 loss_charge=0.63\n",
      "---->Initiating a validation run\n"
     ]
    },
    {
     "name": "stderr",
     "output_type": "stream",
     "text": [
      "100%|████████████████████████████████████████████████████████████████████████████████████████████████████| 6/6 [00:03<00:00,  1.94it/s]\n"
     ]
    },
    {
     "name": "stdout",
     "output_type": "stream",
     "text": [
      "loss_id=19.84 loss_momentum=1.09 loss_charge=0.63\n",
      "epoch=99 / 300 train_loss=22.2081 valid_loss=21.5564 stale=0 time=0.79m eta=157.4m\n",
      "----------------------------------------------------------\n",
      "---->Initiating a training run\n"
     ]
    },
    {
     "name": "stderr",
     "output_type": "stream",
     "text": [
      "100%|██████████████████████████████████████████████████████████████████████████████████████████████████| 52/52 [00:44<00:00,  1.17it/s]\n"
     ]
    },
    {
     "name": "stdout",
     "output_type": "stream",
     "text": [
      "loss_id=20.21 loss_momentum=1.36 loss_charge=0.63\n",
      "---->Initiating a validation run\n"
     ]
    },
    {
     "name": "stderr",
     "output_type": "stream",
     "text": [
      "100%|████████████████████████████████████████████████████████████████████████████████████████████████████| 6/6 [00:03<00:00,  1.86it/s]\n"
     ]
    },
    {
     "name": "stdout",
     "output_type": "stream",
     "text": [
      "loss_id=19.83 loss_momentum=1.09 loss_charge=0.63\n",
      "epoch=100 / 300 train_loss=22.1974 valid_loss=21.5459 stale=0 time=0.79m eta=156.6m\n",
      "----------------------------------------------------------\n",
      "---->Initiating a training run\n"
     ]
    },
    {
     "name": "stderr",
     "output_type": "stream",
     "text": [
      "100%|██████████████████████████████████████████████████████████████████████████████████████████████████| 52/52 [00:43<00:00,  1.21it/s]\n"
     ]
    },
    {
     "name": "stdout",
     "output_type": "stream",
     "text": [
      "loss_id=20.20 loss_momentum=1.36 loss_charge=0.63\n",
      "---->Initiating a validation run\n"
     ]
    },
    {
     "name": "stderr",
     "output_type": "stream",
     "text": [
      "100%|████████████████████████████████████████████████████████████████████████████████████████████████████| 6/6 [00:03<00:00,  1.94it/s]\n"
     ]
    },
    {
     "name": "stdout",
     "output_type": "stream",
     "text": [
      "loss_id=19.82 loss_momentum=1.09 loss_charge=0.63\n",
      "epoch=101 / 300 train_loss=22.1908 valid_loss=21.5382 stale=0 time=0.77m eta=155.8m\n",
      "----------------------------------------------------------\n",
      "---->Initiating a training run\n"
     ]
    },
    {
     "name": "stderr",
     "output_type": "stream",
     "text": [
      "100%|██████████████████████████████████████████████████████████████████████████████████████████████████| 52/52 [00:44<00:00,  1.16it/s]\n"
     ]
    },
    {
     "name": "stdout",
     "output_type": "stream",
     "text": [
      "loss_id=20.19 loss_momentum=1.36 loss_charge=0.63\n",
      "---->Initiating a validation run\n"
     ]
    },
    {
     "name": "stderr",
     "output_type": "stream",
     "text": [
      "100%|████████████████████████████████████████████████████████████████████████████████████████████████████| 6/6 [00:03<00:00,  1.91it/s]\n"
     ]
    },
    {
     "name": "stdout",
     "output_type": "stream",
     "text": [
      "loss_id=19.81 loss_momentum=1.09 loss_charge=0.63\n",
      "epoch=102 / 300 train_loss=22.1812 valid_loss=21.5278 stale=0 time=0.8m eta=155.1m\n",
      "----------------------------------------------------------\n",
      "---->Initiating a training run\n"
     ]
    },
    {
     "name": "stderr",
     "output_type": "stream",
     "text": [
      "100%|██████████████████████████████████████████████████████████████████████████████████████████████████| 52/52 [00:43<00:00,  1.18it/s]\n"
     ]
    },
    {
     "name": "stdout",
     "output_type": "stream",
     "text": [
      "loss_id=20.18 loss_momentum=1.36 loss_charge=0.63\n",
      "---->Initiating a validation run\n"
     ]
    },
    {
     "name": "stderr",
     "output_type": "stream",
     "text": [
      "100%|████████████████████████████████████████████████████████████████████████████████████████████████████| 6/6 [00:03<00:00,  1.89it/s]\n"
     ]
    },
    {
     "name": "stdout",
     "output_type": "stream",
     "text": [
      "loss_id=19.81 loss_momentum=1.09 loss_charge=0.63\n",
      "epoch=103 / 300 train_loss=22.17 valid_loss=21.5226 stale=0 time=0.79m eta=154.3m\n",
      "----------------------------------------------------------\n",
      "---->Initiating a training run\n"
     ]
    },
    {
     "name": "stderr",
     "output_type": "stream",
     "text": [
      "100%|██████████████████████████████████████████████████████████████████████████████████████████████████| 52/52 [00:44<00:00,  1.18it/s]\n"
     ]
    },
    {
     "name": "stdout",
     "output_type": "stream",
     "text": [
      "loss_id=20.17 loss_momentum=1.36 loss_charge=0.63\n",
      "---->Initiating a validation run\n"
     ]
    },
    {
     "name": "stderr",
     "output_type": "stream",
     "text": [
      "100%|████████████████████████████████████████████████████████████████████████████████████████████████████| 6/6 [00:03<00:00,  1.93it/s]\n"
     ]
    },
    {
     "name": "stdout",
     "output_type": "stream",
     "text": [
      "loss_id=19.80 loss_momentum=1.08 loss_charge=0.63\n",
      "epoch=104 / 300 train_loss=22.1549 valid_loss=21.5145 stale=0 time=0.79m eta=153.5m\n",
      "----------------------------------------------------------\n",
      "---->Initiating a training run\n"
     ]
    },
    {
     "name": "stderr",
     "output_type": "stream",
     "text": [
      " 21%|████████████████████▋                                                                             | 11/52 [00:09<00:33,  1.22it/s]"
     ]
    }
   ],
   "source": [
    "n_epochs = 300\n",
    "lr = 5e-5\n",
    "patience = 50\n",
    "FineTune_VICReg=False\n",
    "\n",
    "# make mlpf specific directory\n",
    "print(f\"- Training {mode} MLPF over {n_epochs} epochs\")\n",
    "\n",
    "t0_initial = time.time()\n",
    "\n",
    "losses_train_tot, losses_train_id, losses_train_momentum = [], [], []\n",
    "losses_valid_tot, losses_valid_id, losses_valid_momentum = [], [], []\n",
    "\n",
    "best_val_loss_tot, best_val_loss_id, best_val_loss_momentum = 99999.9, 99999.9, 99999.9\n",
    "stale_epochs = 0\n",
    "\n",
    "optimizer = torch.optim.AdamW(mlpf.parameters(), lr=lr)\n",
    "\n",
    "# set VICReg to evaluation mode\n",
    "vicreg.encoder.eval()\n",
    "optimizer_VICReg = None\n",
    "\n",
    "for epoch in range(n_epochs):\n",
    "    t0 = time.time()\n",
    "\n",
    "    if stale_epochs > patience:\n",
    "        print(\"breaking due to stale epochs\")\n",
    "        break\n",
    "\n",
    "    # training step\n",
    "    losses_t_tot, losses_t_id, losses_t_momentum = train(\n",
    "        device, vicreg.encoder, mlpf, train_loader, valid_loader, optimizer, optimizer_VICReg, mode\n",
    "    )\n",
    "    losses_train_tot.append(losses_t_tot)\n",
    "    losses_train_id.append(losses_t_id)\n",
    "    losses_train_momentum.append(losses_t_momentum)\n",
    "\n",
    "    # validation step\n",
    "    losses_v_tot, losses_v_id, losses_v_momentum = validation_run(\n",
    "        device, vicreg.encoder, mlpf, train_loader, valid_loader, mode\n",
    "    )\n",
    "    losses_valid_tot.append(losses_v_tot)\n",
    "    losses_valid_id.append(losses_v_id)\n",
    "    losses_valid_momentum.append(losses_v_momentum)\n",
    "\n",
    "    if losses_v_id < best_val_loss_id:\n",
    "        best_val_loss_id = losses_v_id\n",
    "        best_train_loss_id = losses_t_id\n",
    "\n",
    "    if losses_v_momentum < best_val_loss_momentum:\n",
    "        best_val_loss_momentum = losses_v_momentum\n",
    "        best_train_loss_momentum = losses_t_momentum\n",
    "\n",
    "    # early-stopping\n",
    "    if losses_v_tot < best_val_loss_tot:\n",
    "        best_val_loss_tot = losses_v_tot\n",
    "        best_train_loss_tot = losses_t_tot\n",
    "\n",
    "        stale_epochs = 0\n",
    "    else:\n",
    "        stale_epochs += 1\n",
    "\n",
    "    t1 = time.time()\n",
    "\n",
    "    epochs_remaining = n_epochs - (epoch + 1)\n",
    "    time_per_epoch = (t1 - t0_initial) / (epoch + 1)\n",
    "    eta = epochs_remaining * time_per_epoch / 60\n",
    "\n",
    "    print(\n",
    "        f\"epoch={epoch + 1} / {n_epochs} \"\n",
    "        + f\"train_loss={round(losses_train_tot[epoch], 4)} \"\n",
    "        + f\"valid_loss={round(losses_valid_tot[epoch], 4)} \"\n",
    "        + f\"stale={stale_epochs} \"\n",
    "        + f\"time={round((t1-t0)/60, 2)}m \"\n",
    "        + f\"eta={round(eta, 1)}m\"\n",
    "    )\n",
    "\n",
    "    print(\"----------------------------------------------------------\")\n",
    "print(f\"Done with training. Total training time is {round((time.time() - t0_initial)/60,3)}min\")"
   ]
  },
  {
   "cell_type": "code",
   "execution_count": null,
   "metadata": {},
   "outputs": [],
   "source": [
    "losses_to_plot[\"old\"] = {}"
   ]
  },
  {
   "cell_type": "code",
   "execution_count": null,
   "metadata": {},
   "outputs": [],
   "source": [
    "%matplotlib inline\n",
    "plt.rcParams.update({\"font.size\": 15})\n",
    "\n",
    "# make total loss plot\n",
    "fig, ax = plt.subplots(figsize=(4,4))\n",
    "ax.plot(range(len(losses_train_tot)), losses_train_tot, label=\"training ({:.2f})\".format(best_train_loss_tot))\n",
    "ax.plot(range(len(losses_valid_tot)), losses_valid_tot, label=\"validation ({:.2f})\".format(best_val_loss_tot))\n",
    "ax.set_xlabel(\"Epochs\")\n",
    "ax.set_ylabel(\"Total Loss\")\n",
    "ax.set_ylim(0.8 * losses_train_tot[-1], 1.2 * losses_train_tot[-1])\n",
    "if mode == \"ssl\":\n",
    "    ax.legend(title=\"SSL-based MLPF\", loc=\"best\", title_fontsize=20, fontsize=15)\n",
    "else:\n",
    "    ax.legend(title=\"Native MLPF\", loc=\"best\", title_fontsize=20, fontsize=15)\n",
    "\n",
    "# make loss id plot\n",
    "fig, (ax1,ax2) = plt.subplots(1,2, figsize=(10,4))\n",
    "ax1.plot(range(len(losses_train_id)), losses_train_id, label=\"training ({:.2f})\".format(best_train_loss_id))\n",
    "ax1.plot(range(len(losses_valid_id)), losses_valid_id, label=\"validation ({:.2f})\".format(best_val_loss_id))\n",
    "ax1.set_xlabel(\"Epochs\")\n",
    "ax1.set_ylabel(\"Classification Loss\")\n",
    "ax1.set_ylim(0.8 * losses_train_id[-1], 1.2 * losses_train_id[-1])\n",
    "if mode == \"ssl\":\n",
    "    ax1.legend(title=\"SSL-based MLPF\", loc=\"best\", title_fontsize=20, fontsize=15)\n",
    "else:\n",
    "    ax1.legend(title=\"Native MLPF\", loc=\"best\", title_fontsize=20, fontsize=15)\n",
    "\n",
    "# make loss momentum plot\n",
    "ax2.plot(\n",
    "    range(len(losses_train_momentum)),\n",
    "    losses_train_momentum,\n",
    "    label=\"training ({:.2f})\".format(best_train_loss_momentum),\n",
    ")\n",
    "ax2.plot(\n",
    "    range(len(losses_valid_momentum)),\n",
    "    losses_valid_momentum,\n",
    "    label=\"validation ({:.2f})\".format(best_val_loss_momentum),\n",
    ")\n",
    "ax2.set_xlabel(\"Epochs\")\n",
    "ax2.set_ylabel(\"Regression Loss\")\n",
    "ax2.set_ylim(0.8 * losses_train_momentum[-1], 1.2 * losses_train_momentum[-1])\n",
    "if mode == \"ssl\":\n",
    "    ax2.legend(title=\"SSL-based MLPF\", loc=\"best\", title_fontsize=20, fontsize=15)\n",
    "else:\n",
    "    ax2.legend(title=\"Native MLPF\", loc=\"best\", title_fontsize=20, fontsize=15)\n",
    "\n",
    "losses_to_plot[\"old\"][\"tot\"] = losses_valid_tot\n",
    "losses_to_plot[\"old\"][\"id\"] = losses_valid_id\n",
    "losses_to_plot[\"old\"][\"p4\"] = losses_valid_momentum"
   ]
  },
  {
   "cell_type": "code",
   "execution_count": null,
   "metadata": {},
   "outputs": [],
   "source": []
  },
  {
   "cell_type": "code",
   "execution_count": null,
   "metadata": {},
   "outputs": [],
   "source": []
  },
  {
   "cell_type": "code",
   "execution_count": null,
   "metadata": {},
   "outputs": [],
   "source": []
  },
  {
   "cell_type": "code",
   "execution_count": null,
   "metadata": {},
   "outputs": [],
   "source": []
  },
  {
   "cell_type": "code",
   "execution_count": 21,
   "metadata": {},
   "outputs": [],
   "source": [
    "losses_to_plot = {}"
   ]
  },
  {
   "cell_type": "code",
   "execution_count": 22,
   "metadata": {},
   "outputs": [],
   "source": [
    "losses_to_plot[\"ssl\"] = {}"
   ]
  },
  {
   "cell_type": "code",
   "execution_count": 23,
   "metadata": {},
   "outputs": [
    {
     "data": {
      "image/png": "[encoded data removed]",
      "text/plain": [
       "<Figure size 400x400 with 1 Axes>"
      ]
     },
     "metadata": {},
     "output_type": "display_data"
    },
    {
     "data": {
      "image/png": "[encoded data removed]",
      "text/plain": [
       "<Figure size 1000x400 with 2 Axes>"
      ]
     },
     "metadata": {},
     "output_type": "display_data"
    }
   ],
   "source": [
    "%matplotlib inline\n",
    "plt.rcParams.update({\"font.size\": 15})\n",
    "\n",
    "# make total loss plot\n",
    "fig, ax = plt.subplots(figsize=(4,4))\n",
    "ax.plot(range(len(losses_train_tot)), losses_train_tot, label=\"training ({:.2f})\".format(best_train_loss_tot))\n",
    "ax.plot(range(len(losses_valid_tot)), losses_valid_tot, label=\"validation ({:.2f})\".format(best_val_loss_tot))\n",
    "ax.set_xlabel(\"Epochs\")\n",
    "ax.set_ylabel(\"Total Loss\")\n",
    "ax.set_ylim(0.8 * losses_train_tot[-1], 1.2 * losses_train_tot[-1])\n",
    "if mode == \"ssl\":\n",
    "    ax.legend(title=\"SSL-based MLPF\", loc=\"best\", title_fontsize=20, fontsize=15)\n",
    "else:\n",
    "    ax.legend(title=\"Native MLPF\", loc=\"best\", title_fontsize=20, fontsize=15)\n",
    "\n",
    "# make loss id plot\n",
    "fig, (ax1,ax2) = plt.subplots(1,2, figsize=(10,4))\n",
    "ax1.plot(range(len(losses_train_id)), losses_train_id, label=\"training ({:.2f})\".format(best_train_loss_id))\n",
    "ax1.plot(range(len(losses_valid_id)), losses_valid_id, label=\"validation ({:.2f})\".format(best_val_loss_id))\n",
    "ax1.set_xlabel(\"Epochs\")\n",
    "ax1.set_ylabel(\"Classification Loss\")\n",
    "ax1.set_ylim(0.8 * losses_train_id[-1], 1.2 * losses_train_id[-1])\n",
    "if mode == \"ssl\":\n",
    "    ax1.legend(title=\"SSL-based MLPF\", loc=\"best\", title_fontsize=20, fontsize=15)\n",
    "else:\n",
    "    ax1.legend(title=\"Native MLPF\", loc=\"best\", title_fontsize=20, fontsize=15)\n",
    "\n",
    "# make loss momentum plot\n",
    "ax2.plot(\n",
    "    range(len(losses_train_momentum)),\n",
    "    losses_train_momentum,\n",
    "    label=\"training ({:.2f})\".format(best_train_loss_momentum),\n",
    ")\n",
    "ax2.plot(\n",
    "    range(len(losses_valid_momentum)),\n",
    "    losses_valid_momentum,\n",
    "    label=\"validation ({:.2f})\".format(best_val_loss_momentum),\n",
    ")\n",
    "ax2.set_xlabel(\"Epochs\")\n",
    "ax2.set_ylabel(\"Regression Loss\")\n",
    "ax2.set_ylim(0.8 * losses_train_momentum[-1], 1.2 * losses_train_momentum[-1])\n",
    "if mode == \"ssl\":\n",
    "    ax2.legend(title=\"SSL-based MLPF\", loc=\"best\", title_fontsize=20, fontsize=15)\n",
    "else:\n",
    "    ax2.legend(title=\"Native MLPF\", loc=\"best\", title_fontsize=20, fontsize=15)\n",
    "\n",
    "losses_to_plot[\"ssl\"][\"tot\"] = losses_valid_tot\n",
    "losses_to_plot[\"ssl\"][\"id\"] = losses_valid_id\n",
    "losses_to_plot[\"ssl\"][\"p4\"] = losses_valid_momentum"
   ]
  },
  {
   "cell_type": "markdown",
   "metadata": {},
   "source": [
    "# Other"
   ]
  },
  {
   "cell_type": "code",
   "execution_count": null,
   "metadata": {},
   "outputs": [],
   "source": []
  }
 ],
 "metadata": {
  "kernelspec": {
   "display_name": "Python 3 (ipykernel)",
   "language": "python",
   "name": "python3"
  },
  "language_info": {
   "codemirror_mode": {
    "name": "ipython",
    "version": 3
   },
   "file_extension": ".py",
   "mimetype": "text/x-python",
   "name": "python",
   "nbconvert_exporter": "python",
   "pygments_lexer": "ipython3",
   "version": "3.10.6"
  }
 },
 "nbformat": 4,
 "nbformat_minor": 4
}
