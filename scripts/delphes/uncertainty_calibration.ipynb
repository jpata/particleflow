{
 "cells": [
  {
   "cell_type": "code",
   "execution_count": null,
   "metadata": {},
   "outputs": [],
   "source": [
    "import numpy as np\n",
    "import matplotlib.pyplot as plt"
   ]
  },
  {
   "cell_type": "code",
   "execution_count": null,
   "metadata": {},
   "outputs": [],
   "source": [
    "# Only run this once!\n",
    "!rm -f pred.npz.bz2 pred.npz\n",
    "!wget https://jpata.web.cern.ch/jpata/2101.08578/v1/pred.npz.bz2\n",
    "!bzip2 -d pred.npz.bz2"
   ]
  },
  {
   "cell_type": "code",
   "execution_count": null,
   "metadata": {},
   "outputs": [],
   "source": [
    "fi = np.load(\"pred.npz\")\n",
    "ygen = fi[\"ygen\"]\n",
    "ycand = fi[\"ycand\"]\n",
    "ypred = fi[\"ypred\"]\n",
    "ypred_raw = fi[\"ypred_raw\"]"
   ]
  },
  {
   "cell_type": "code",
   "execution_count": null,
   "metadata": {},
   "outputs": [],
   "source": [
    "ygen.shape"
   ]
  },
  {
   "cell_type": "markdown",
   "metadata": {},
   "source": [
    "We have 100 events, up to 5120 particles in each event, 7 features per particle. We have 3 types of data matrices for each event:\n",
    "- ygen - ground truth from the generator\n",
    "- ypred - prediction from the MLPF model\n",
    "- ycand - prediction from the standard DelphesPF algorithm"
   ]
  },
  {
   "cell_type": "code",
   "execution_count": null,
   "metadata": {},
   "outputs": [],
   "source": [
    "# features are (particle ID, charge, pT, eta, sin phi, cos phi, energy)\n",
    "ygen[0, 0]"
   ]
  },
  {
   "cell_type": "code",
   "execution_count": null,
   "metadata": {},
   "outputs": [],
   "source": [
    "# Same for the prediction\n",
    "ypred[0, 0]"
   ]
  },
  {
   "cell_type": "code",
   "execution_count": null,
   "metadata": {},
   "outputs": [],
   "source": [
    "# particle ID (type is)\n",
    "# 0 - no particle\n",
    "# 1 - charged hadron\n",
    "# 2 - neutral hadron\n",
    "# 3 - photon\n",
    "# 4 - electron\n",
    "# 5 - muon\n",
    "np.unique(ygen[:, :, 0], return_counts=True)"
   ]
  },
  {
   "cell_type": "code",
   "execution_count": null,
   "metadata": {},
   "outputs": [],
   "source": [
    "# We also have the raw logits for the multiclass ID prediction\n",
    "ypred_raw.shape"
   ]
  },
  {
   "cell_type": "code",
   "execution_count": null,
   "metadata": {},
   "outputs": [],
   "source": [
    "# Ground truth vs model prediction particles\n",
    "plt.figure(figsize=(10, 10))\n",
    "\n",
    "\n",
    "ev = ygen[0, :]\n",
    "msk = ev[:, 0] != 0\n",
    "plt.scatter(ev[msk, 3], np.arctan2(ev[msk, 4], ev[msk, 5]), s=2 * ev[msk, 2], marker=\"o\", alpha=0.5)\n",
    "\n",
    "ev = ypred[0, :]\n",
    "msk = ev[:, 0] != 0\n",
    "plt.scatter(ev[msk, 3], np.arctan2(ev[msk, 4], ev[msk, 5]), s=2 * ev[msk, 2], marker=\"s\", alpha=0.5)\n",
    "\n",
    "plt.xlabel(\"eta\")\n",
    "plt.ylabel(\"phi\")"
   ]
  }
 ],
 "metadata": {
  "kernelspec": {
   "display_name": "Python 3",
   "language": "python",
   "name": "python3"
  },
  "language_info": {
   "codemirror_mode": {
    "name": "ipython",
    "version": 3
   },
   "file_extension": ".py",
   "mimetype": "text/x-python",
   "name": "python",
   "nbconvert_exporter": "python",
   "pygments_lexer": "ipython3",
   "version": "3.6.9"
  }
 },
 "nbformat": 4,
 "nbformat_minor": 4
}
